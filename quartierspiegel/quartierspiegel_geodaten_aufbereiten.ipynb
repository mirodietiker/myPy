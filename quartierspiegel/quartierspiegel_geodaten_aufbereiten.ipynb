{
 "cells": [
  {
   "cell_type": "markdown",
   "id": "cf03581b",
   "metadata": {},
   "source": [
    "# Geodaten für Updates der Quartierspiegel aufbereiten\n",
    "Datum: 07.10.2021\n",
    "\n",
    "Mit Colab kann **dieses Jupyter-Notebook interaktiv im Browser** gestartet werden:\n",
    "[![Open In Colab](https://colab.research.google.com/assets/colab-badge.svg)]()\n",
    "\n",
    "## Lebensqualitätskarten in den [Quartierspiegeln](https://www.stadt-zuerich.ch/prd/de/index/statistik/publikationen-angebote/publikationen/Quartierspiegel.html)\n",
    "\n",
    "Für diese Karte werden diverse POIs ausgelesen und als Punkte dargestellt. Damit die Statistik der POIs im Bericht ausgewertet werden kann, hat Stefanie ein R-Skript erstellt, mit dem sie Auswertungen zu den POIs macht. Dazu braucht sie Shapefiles, die vom Geoserver exportiert und historisiert abgespeichert werden.\n",
    "\n",
    "Bisher habe ich dazu ein Skipt verwendet. Damit dieser Prozess noch transparenter und einfacher wird, erstelle ich nun dieses Notebook.\n",
    "\n",
    "Die QGIS-Projekte für die Quartierspiegel sind unter \n",
    "- `O:\\GIS\\Sandbox\\*JAHR*\\quartierspiegel\\minimaps` abgelegt.\n",
    "\n",
    "Dieses Notebook hilft die in der Karte aktiven Layer – die für die Karte vom [**Geoserver**](https://www.stadt-zuerich.ch/geodaten/) als View bezogen sind – als shp zu exportieren.\n",
    "\n",
    "<!---  \n",
    "Dieses Notebook verwendet als Vorlage die Webseite «[Kitas in Berlin - Jupyter Notebook](https://juanitorduz.github.io/kitas_berlin/)» \n",
    "---!>"
   ]
  },
  {
   "cell_type": "markdown",
   "id": "47aca306",
   "metadata": {},
   "source": [
    "## Importiere notwendige Packages:"
   ]
  },
  {
   "cell_type": "code",
   "execution_count": 437,
   "id": "141ab7e4",
   "metadata": {},
   "outputs": [],
   "source": [
    "#%pip install geopandas altair fiona requests folium mplleaflet contextily seaborn datetime"
   ]
  },
  {
   "cell_type": "code",
   "execution_count": 438,
   "id": "e5ce7858",
   "metadata": {},
   "outputs": [],
   "source": [
    "import numpy as np\n",
    "import pandas as pd\n",
    "import geopandas as gpd\n",
    "import altair as alt\n",
    "import fiona\n",
    "import requests\n",
    "import mplleaflet\n",
    "import matplotlib.pyplot as plt\n",
    "import matplotlib.ticker as mtick\n",
    "import seaborn as sns\n",
    "from datetime import datetime\n"
   ]
  },
  {
   "cell_type": "markdown",
   "id": "0b053aba",
   "metadata": {},
   "source": [
    "## Datenaufbereitung"
   ]
  },
  {
   "cell_type": "markdown",
   "id": "0ff13dcd-4603-4422-be4f-33a6d3c61633",
   "metadata": {},
   "source": [
    "### Globale Variabeln"
   ]
  },
  {
   "cell_type": "markdown",
   "id": "bee58876-8627-45ad-88d2-0ab404a6a72f",
   "metadata": {},
   "source": [
    "Als Zeitvariable berechnen wir erst mal das heutige Datum. Wir können diese Werte als Dateinamen verwenden.\n",
    "\n",
    "**Steuerungsvariable activate_date**: \n",
    "- False: in den Filenamen kommen beim Export KEINE Datenangaben mit\n",
    "- True: die Exportfiles haben *FILENAMEN_DATUM* im Namen"
   ]
  },
  {
   "cell_type": "code",
   "execution_count": 439,
   "id": "c3f2b356-d70e-4b93-b07d-a87aedcb9271",
   "metadata": {},
   "outputs": [],
   "source": [
    "activate_date = True;\n",
    "\n",
    "#https://www.programiz.com/python-programming/datetime/strftime\n",
    "now = datetime.now() # current date and time\n",
    "year_today = now.strftime(\"%Y\")\n",
    "\n",
    "if activate_date == True:\n",
    "    date_today = \"_\"+now.strftime(\"%Y-%m-%d\")\n",
    "    \n",
    "else:\n",
    "    date_today =\"\"\n"
   ]
  },
  {
   "cell_type": "code",
   "execution_count": 440,
   "id": "bbd11a0e-0709-4bd2-bc16-73ef5f2e4a4a",
   "metadata": {},
   "outputs": [
    {
     "name": "stdout",
     "output_type": "stream",
     "text": [
      "_2021-10-08\n"
     ]
    }
   ],
   "source": [
    "print(date_today)"
   ]
  },
  {
   "cell_type": "markdown",
   "id": "c93e08f3-adc8-4a70-8124-b10ace287d12",
   "metadata": {},
   "source": [
    "### Pfade\n"
   ]
  },
  {
   "cell_type": "code",
   "execution_count": 441,
   "id": "c3774275-7289-412b-a097-65a9130df05f",
   "metadata": {},
   "outputs": [
    {
     "name": "stdout",
     "output_type": "stream",
     "text": [
      "//szh/ssz/data/GIS/Daten/Vektor/2021/quartierspiegel/\n"
     ]
    }
   ],
   "source": [
    "gis_ablagepfad = \"//szh/ssz/data/GIS/Daten/Vektor/2021/quartierspiegel/\"\n",
    "print(gis_ablagepfad )"
   ]
  },
  {
   "cell_type": "markdown",
   "id": "279d8cac-e767-4ec5-820d-b9956309cf28",
   "metadata": {},
   "source": [
    "### Basis Geodaten"
   ]
  },
  {
   "cell_type": "markdown",
   "id": "650d06a3",
   "metadata": {},
   "source": [
    "Für grundsätzliche räumliche Prüfungen importieren wir hier auch die \n",
    "- **Statistischen Quartiere**\n",
    "- **Stadtgrenze** (aus der SSZ-Geodatenablage)\n",
    "\n"
   ]
  },
  {
   "cell_type": "code",
   "execution_count": 442,
   "id": "46e90ca3",
   "metadata": {},
   "outputs": [
    {
     "name": "stdout",
     "output_type": "stream",
     "text": [
      "done\n"
     ]
    }
   ],
   "source": [
    "# Read abt. Geopandas https://geopandas.org/docs/user_guide/io.html\n",
    "url0 = \"https://www.ogd.stadt-zuerich.ch/wfs/geoportal/Statistische_Quartiere?service=WFS&version=1.1.0&request=GetFeature&outputFormat=GeoJSON&typename=adm_statistische_quartiere_map\"\n",
    "gdf_adm_statistische_quartiere_map = gpd.read_file(url0)\n",
    "print('done')"
   ]
  },
  {
   "cell_type": "code",
   "execution_count": 443,
   "id": "0f404b96-897a-4fca-bcf9-ad01b5d3ecfe",
   "metadata": {},
   "outputs": [
    {
     "name": "stdout",
     "output_type": "stream",
     "text": [
      "done\n"
     ]
    }
   ],
   "source": [
    "# Read abt. Geopandas https://geopandas.org/docs/user_guide/io.html\n",
    "pfad_grenze = r\"\\\\szh\\ssz\\data\\GIS\\Daten\\Vektor\\_aktuell\\adm_stadtgrenze_a.shp\"\n",
    "gdf_adm_stadtgrenze_lv95 = gpd.read_file(pfad_grenze)\n",
    "\n",
    "gdf_adm_stadtgrenze_wgs84_all =gdf_adm_stadtgrenze_lv95.to_crs(epsg=4326)\n",
    "\n",
    "print('done')\n"
   ]
  },
  {
   "cell_type": "code",
   "execution_count": 444,
   "id": "b12b52a2-b1c3-466d-a153-cbdbe00411e7",
   "metadata": {},
   "outputs": [],
   "source": [
    "# Rename columns bei Bedarf\n",
    "rename_cols = {\n",
    "    'name': 'bfs_name',\n",
    "}\n",
    "\n",
    "columns_to_drop = ['objid']\n",
    "\n",
    "gdf_adm_stadtgrenze_wgs84 = gdf_adm_stadtgrenze_wgs84_all \\\n",
    "    .copy() \\\n",
    "    .drop(columns_to_drop, axis=1) \\\n",
    "    .rename(columns=rename_cols) \\\n",
    "    "
   ]
  },
  {
   "cell_type": "code",
   "execution_count": 445,
   "id": "d966a030-71cf-455c-b558-4176d4269bc6",
   "metadata": {},
   "outputs": [],
   "source": [
    "#gdf_adm_stadtgrenze_wgs84"
   ]
  },
  {
   "cell_type": "markdown",
   "id": "92bf3593-21cc-4529-88cd-399966e65b75",
   "metadata": {},
   "source": [
    "## Geodaten für die Karte aufbereiten\n",
    "\n",
    "Beziehe die notwendigen Geodaten vom Geoportal und exportiere sie als Shapefiles.\n"
   ]
  },
  {
   "cell_type": "markdown",
   "id": "73e70ca5",
   "metadata": {},
   "source": [
    "### Alterszentren:\n",
    "\n",
    "Stefanie muss jedes Jahr mit der DA Alterszentren abklären, welche Alterszentren **ausgeschlossen** werden müssen, da nicht immer alle Bewohnt sind, wegen Umbau oder Ähnlichem. \n",
    "Aussderdem gibt es noch solche, die ausserhalb der Stadt liegen. Diese interessieren für die Quartierspiegel nicht und werden ebenfalls herausgefiltert."
   ]
  },
  {
   "cell_type": "markdown",
   "id": "3dff0497-b0a3-42f1-a95d-526c5de631d2",
   "metadata": {},
   "source": [
    "#### Step 1: Daten vom Geoportal beziehen und prüfen."
   ]
  },
  {
   "cell_type": "code",
   "execution_count": 446,
   "id": "b51461dd",
   "metadata": {},
   "outputs": [],
   "source": [
    "url1 = \"https://www.ogd.stadt-zuerich.ch/wfs/geoportal/Alterszentrum?service=WFS&version=1.1.0&request=GetFeature&outputFormat=GeoJSON&typename=poi_alterszentrum_view\"\n",
    "gdf_poi_alterszentrum_view_imp_all = gpd.read_file(url1)\n",
    "#gdf_poi_alterszentrum_view_imp_all.head(1)\n",
    "#gdf_poi_alterszentrum_view_imp_all[['name','adresse', 'plz','geometry']]\n",
    "#gdf_poi_alterszentrum_view_imp_all.info()"
   ]
  },
  {
   "cell_type": "markdown",
   "id": "d3a9343b-2e19-4765-b80d-41b0cbc84421",
   "metadata": {
    "tags": []
   },
   "source": [
    "#### Step 2: Filtere diejenigen heraus, die nicht benötigt werden"
   ]
  },
  {
   "cell_type": "markdown",
   "id": "a67adacd-02b3-45e5-b1f2-dfdc299226d1",
   "metadata": {},
   "source": [
    "Spatial Join, damit nur jene **innerhalb des Stadtgebiets** vorkommen. Hier sind zwei Möglichkeiten dargestellt, Verschnitt mit Stadtgrenze oder mit den Stadtquartieren. Wichti g ist, dass dabei  auch gerade die Attribute der Geodaten angehängt werden."
   ]
  },
  {
   "cell_type": "code",
   "execution_count": 447,
   "id": "bfabc087-b6cf-442d-97ea-8c856e92d1ac",
   "metadata": {},
   "outputs": [],
   "source": [
    "gdf_poi_alterszentrum_view_filter_stadtgebiet = gpd.sjoin(gdf_poi_alterszentrum_view_imp_all, gdf_adm_stadtgrenze_wgs84, how='inner', op='within')\n",
    "#gdf_poi_alterszentrum_view_filter_stadtgebiet = gpd.sjoin(gdf_poi_alterszentrum_view_imp_all, gdf_adm_statistische_quartiere_map, how='inner', op='within')\n",
    "#gdf_poi_alterszentrum_view_filter_stadtgebiet.info()"
   ]
  },
  {
   "cell_type": "markdown",
   "id": "720f1135-6a37-4f11-9c0a-bc2ce8f884b1",
   "metadata": {},
   "source": [
    "Filtere explizt **vom GUD erwähnte Alterszentren** heraus. (Aktuell sind auch solche angegeben, die ausserhalb des Stadtgebiets liegen. Doppelt gemoppelt ;) )\n",
    "\n",
    "`\n",
    "\"name\" != 'Alterszentrum Buttenau'  AND \"name\" != 'Alterszentrum Wolfswinkel' \n",
    "AND \"name\" != 'Alterszentrum Sonnenhof' AND \"name\" != 'Alterszentrum Waldfrieden'  \n",
    "AND \"name\" != 'Online Veranstaltung'\n",
    "`"
   ]
  },
  {
   "cell_type": "code",
   "execution_count": 448,
   "id": "8575fbb9-2632-4ab0-8ff2-480f9609cfcd",
   "metadata": {},
   "outputs": [],
   "source": [
    "gdf_poi_alterszentrum_view_filtered = gdf_poi_alterszentrum_view_filter_stadtgebiet.query(\"name !='Alterszentrum Wolfswinkel'  & name !='Alterszentrum Buttenau' & name !='Alterszentrum Sonnenhof' & name !='Alterszentrum Waldfrieden'  & name !='Online Veranstaltung'\") \n",
    "#gdf_poi_alterszentrum_view_filtered.info()"
   ]
  },
  {
   "cell_type": "markdown",
   "id": "4ec0c354-650e-499b-81af-feeb18e19203",
   "metadata": {},
   "source": [
    "### Step3: Datensätze exportieren\n",
    "\n",
    "Speichere eine Liste der aktuell gefilterten Alterszentren als CSV lokal ab."
   ]
  },
  {
   "cell_type": "code",
   "execution_count": 449,
   "id": "83b7fd5f-a1a8-4f9e-9850-80a43f1303aa",
   "metadata": {},
   "outputs": [],
   "source": [
    "gdf_poi_alterszentrum_view_filtered[['name','adresse', 'plz','ort','geometry']].to_csv(\"./output/listen/gefilterte_alterszentren_stadt\"+date_today+\".csv\")"
   ]
  },
  {
   "cell_type": "markdown",
   "id": "ae9b5448-fca3-442f-b293-57b805f0ec8c",
   "metadata": {},
   "source": [
    "Wechsle Projektion von WGS84 auf LV95"
   ]
  },
  {
   "cell_type": "code",
   "execution_count": 450,
   "id": "c3a26cce-d34b-4877-b8c9-6c04cef74ee4",
   "metadata": {},
   "outputs": [],
   "source": [
    "gdf_poi_alterszentrum_view_filtered_lv95 = gdf_poi_alterszentrum_view_filtered.to_crs(epsg=2056)\n",
    "#gdf_poi_alterszentrum_view_filtered_lv95['geometry']"
   ]
  },
  {
   "cell_type": "markdown",
   "id": "4682e16e-1276-476f-9c48-e6f34c4f34cc",
   "metadata": {},
   "source": [
    "Speichere den Geodatensatz für Stefanie auf `O:\\GIS\\Daten\\Vektor\\2021\\quartierspiegel` als Shapefile\n",
    "\n",
    "WARTE NOCH AUFS FEEDBACK VON STEFI"
   ]
  },
  {
   "cell_type": "code",
   "execution_count": 451,
   "id": "ebc55821-ee1e-4b6f-8204-d31f638262af",
   "metadata": {},
   "outputs": [
    {
     "name": "stderr",
     "output_type": "stream",
     "text": [
      "C:\\Users\\sszsim\\AppData\\Local\\Temp/ipykernel_9792/1701929876.py:1: UserWarning: Column names longer than 10 characters will be truncated when saved to ESRI Shapefile.\n",
      "  gdf_poi_alterszentrum_view_filtered_lv95.to_file(gis_ablagepfad+\"export_poi_alterszentrum_view_\"+date_today+\".shp\", encoding='utf-8')\n"
     ]
    },
    {
     "name": "stdout",
     "output_type": "stream",
     "text": [
      "done\n"
     ]
    }
   ],
   "source": [
    "gdf_poi_alterszentrum_view_filtered_lv95.to_file(gis_ablagepfad+\"export_poi_alterszentrum_view_\"+date_today+\".shp\", encoding='utf-8')\n",
    "\n",
    "print('done')\n",
    "#gdf_poi_alterszentrum_view_filtered_lv95.info()"
   ]
  },
  {
   "cell_type": "markdown",
   "id": "5c2005a6-82cc-4872-9f00-fa20407d376b",
   "metadata": {},
   "source": [
    "Speichere sie auch im Arbeitsverzeichnis als Shapefile und Geopackage ab"
   ]
  },
  {
   "cell_type": "code",
   "execution_count": 452,
   "id": "ab77906b-c22b-4874-ac6f-70b67fbff4f9",
   "metadata": {},
   "outputs": [
    {
     "name": "stderr",
     "output_type": "stream",
     "text": [
      "C:\\Users\\sszsim\\AppData\\Local\\Temp/ipykernel_9792/3944687344.py:1: UserWarning: Column names longer than 10 characters will be truncated when saved to ESRI Shapefile.\n",
      "  gdf_poi_alterszentrum_view_filtered_lv95.to_file(\"./output/shapefiles/export_poi_alterszentrum_view\"+date_today+\".shp\", encoding='utf-8')\n"
     ]
    }
   ],
   "source": [
    "gdf_poi_alterszentrum_view_filtered_lv95.to_file(\"./output/shapefiles/export_poi_alterszentrum_view\"+date_today+\".shp\", encoding='utf-8')\n",
    "gdf_poi_alterszentrum_view_filtered_lv95.to_file(\"./output/geopackage/export_poi_alterszentrum_view\"+date_today+\".gpkg\", driver='GPKG')\n",
    "#gdf_poi_alterszentrum_view_filtered_lv95.plot()"
   ]
  },
  {
   "cell_type": "markdown",
   "id": "65b9a53c-3bac-4947-96bd-ef04e4afe648",
   "metadata": {
    "tags": []
   },
   "source": [
    "### Alterswohnungen:\n",
    "\n",
    "Es gibt auch vereinzelt Alterswohnungen ausserhalb der Stadt, daher auch hier noch ein Verschnitt mit der Stadtgrenze."
   ]
  },
  {
   "cell_type": "markdown",
   "id": "bf094902-5344-4d3a-9663-fea7656f8e50",
   "metadata": {
    "tags": []
   },
   "source": [
    "#### Step 1: Daten vom Geoportal beziehen und prüfen."
   ]
  },
  {
   "cell_type": "code",
   "execution_count": 453,
   "id": "4876455d-0dee-4bb3-8342-6823c87fc4e6",
   "metadata": {
    "tags": []
   },
   "outputs": [],
   "source": [
    "url2 = \"https://www.ogd.stadt-zuerich.ch/wfs/geoportal/Alterswohnung?service=WFS&version=1.1.0&request=GetFeature&outputFormat=GeoJSON&typename=poi_alterswohnung_view\"\n",
    "gdf_poi_alterswohnungen_view_imp_all = gpd.read_file(url2)\n",
    "#gdf_poi_alterswohnungen_view_imp_all.info()"
   ]
  },
  {
   "cell_type": "markdown",
   "id": "e8e408aa-d957-4542-996b-fee6aa7added",
   "metadata": {
    "tags": []
   },
   "source": [
    "#### Step 2: Filtere diejenigen heraus, die nicht benötigt werden"
   ]
  },
  {
   "cell_type": "markdown",
   "id": "af7147b8-9612-48a4-8d54-c981f0800763",
   "metadata": {},
   "source": [
    "Spatial Join, damit nur jene **innerhalb des Stadtgebiets** vorkommen. Hier sind zwei Möglichkeiten dargestellt, Verschnitt mit Stadtgrenze oder mit den Stadtquartieren. Wichtig ist, dass dabei  auch gerade die Attribute der Geodaten angehängt werden."
   ]
  },
  {
   "cell_type": "code",
   "execution_count": 454,
   "id": "968e7d3b-4e4d-4d63-a8a5-82ddcdf436ff",
   "metadata": {},
   "outputs": [],
   "source": [
    "gdf_poi_alterswohnungen_view_filter_stadtgebiet = gpd.sjoin(gdf_poi_alterswohnungen_view_imp_all, gdf_adm_stadtgrenze_wgs84, how='inner', op='within')\n",
    "#gdf_poi_alterswohnungen_view_filter_stadtgebiet.info()"
   ]
  },
  {
   "cell_type": "code",
   "execution_count": 455,
   "id": "47030f60-e2b0-413f-9689-332551c817ec",
   "metadata": {},
   "outputs": [],
   "source": [
    "gdf_poi_alterswohnungen_view_filter_stadtgebiet_lv95 = gdf_poi_alterswohnungen_view_filter_stadtgebiet.to_crs(epsg=2056)\n",
    "#gdf_poi_alterswohnungen_view_filter_stadtgebiet_lv95['geometry']"
   ]
  },
  {
   "cell_type": "markdown",
   "id": "13813ac1-ee5e-48b9-a417-3aeff07ee142",
   "metadata": {},
   "source": [
    "#### Step3: Datensätze exportieren\n"
   ]
  },
  {
   "cell_type": "markdown",
   "id": "36c510b2-8af2-4343-a7f6-224ebfe725c4",
   "metadata": {},
   "source": [
    "Speichere den Geodatensatz für Stefanie auf `O:\\GIS\\Daten\\Vektor\\2021\\quartierspiegel` als Shapefile\n",
    "\n",
    "WARTE NOCH AUFS FEEDBACK VON STEFI"
   ]
  },
  {
   "cell_type": "code",
   "execution_count": 456,
   "id": "da84e0f6-2d18-47ab-a8d3-fe92f92a362b",
   "metadata": {},
   "outputs": [],
   "source": [
    "#gdf_poi_alterswohnungen_view_filter_stadtgebiet_lv95.to_file(gis_ablagepfad+\"export_poi_alterswohnungen_view_\"+date_today+\".shp\", encoding='utf-8')\n",
    "\n",
    "#print('done')"
   ]
  },
  {
   "cell_type": "markdown",
   "id": "b067d69d-260b-4660-b727-d24a0dad7636",
   "metadata": {},
   "source": [
    "Speichere sie auch im Arbeitsverzeichnis als Shapefile und Geopackage ab"
   ]
  },
  {
   "cell_type": "code",
   "execution_count": 457,
   "id": "2497e1c0-d76c-4029-bace-c725d43447c2",
   "metadata": {},
   "outputs": [
    {
     "name": "stderr",
     "output_type": "stream",
     "text": [
      "C:\\Users\\sszsim\\AppData\\Local\\Temp/ipykernel_9792/611388201.py:1: UserWarning: Column names longer than 10 characters will be truncated when saved to ESRI Shapefile.\n",
      "  gdf_poi_alterswohnungen_view_filter_stadtgebiet_lv95.to_file(\"./output/shapefiles/exported_poi_alterswohnungen_view\"+date_today+\".shp\", encoding='utf-8')\n"
     ]
    }
   ],
   "source": [
    "gdf_poi_alterswohnungen_view_filter_stadtgebiet_lv95.to_file(\"./output/shapefiles/exported_poi_alterswohnungen_view\"+date_today+\".shp\", encoding='utf-8')\n",
    "gdf_poi_alterswohnungen_view_filter_stadtgebiet_lv95.to_file(\"./output/geopackage/exported_poi_alterswohnungen_view\"+date_today+\".gpkg\", driver='GPKG')\n",
    "#gdf_poi_alterswohnungen_view_filter_stadtgebiet_lv95.plot()"
   ]
  },
  {
   "cell_type": "markdown",
   "id": "ccd9dbf9-85a3-4e8c-8e7d-26f6c9df88d0",
   "metadata": {},
   "source": [
    "### Beachvolley (3)"
   ]
  },
  {
   "cell_type": "markdown",
   "id": "19435ad7-cf10-4102-90fa-f47ad8b72c99",
   "metadata": {
    "tags": []
   },
   "source": [
    "#### Step 1: Daten vom Geoportal beziehen und prüfen."
   ]
  },
  {
   "cell_type": "code",
   "execution_count": 483,
   "id": "3e49919d-191d-4512-85f3-900e00ca49dd",
   "metadata": {},
   "outputs": [
    {
     "data": {
      "text/plain": [
       "array(['Freibad Zwischen den Hölzern', 'Sportanlage Juchof 1',\n",
       "       'Josefwiese', 'Schulhaus Letzi', 'Sportzentrum Sihlhölzli',\n",
       "       'Schulhaus Lachenzelg', 'Schulhaus Stettbach', 'Oberer Letten',\n",
       "       'Schulhaus Im Lee', 'Schulhaus Buhnrain', 'Sportzentrum Buchlern',\n",
       "       'Sportzentrum Fronwald', 'Freibad Allenmoos', 'Freibad Seebach'],\n",
       "      dtype=object)"
      ]
     },
     "execution_count": 483,
     "metadata": {},
     "output_type": "execute_result"
    }
   ],
   "source": [
    "url3 = \"https://www.ogd.stadt-zuerich.ch/wfs/geoportal/Sport?service=WFS&version=1.1.0&request=GetFeature&outputFormat=GeoJSON&typename=poi_beachvolleyball_view\"\n",
    "\n",
    "typename=\"poi_beachvolleyball_view\"\n",
    "\n",
    "imp_file=\"gdf_\"+typename+\"_wgs84\"\n",
    "exp_file=\"gdf_\"+typename\n",
    "\n",
    "#platziere urlX\n",
    "imp_file = gpd.read_file(url3)\n",
    "\n",
    "#imp_file.info()\n",
    "imp_file['name'].unique()\n",
    "#gdf_poi_beachvolleyball_view_wgs84.head(2)"
   ]
  },
  {
   "cell_type": "markdown",
   "id": "dfa311a8-c1dc-42b4-b2f1-d7fdba8fbd5d",
   "metadata": {},
   "source": [
    "#### Step2: Datensätze exportieren\n"
   ]
  },
  {
   "cell_type": "code",
   "execution_count": 484,
   "id": "48487090-6db0-4212-a2ad-be9b882ec02d",
   "metadata": {},
   "outputs": [],
   "source": [
    "exp_file = imp_file.to_crs(epsg=2056)\n",
    "#gdf_poi_beachvolleyball_view['geometry'].head(1)"
   ]
  },
  {
   "cell_type": "markdown",
   "id": "532c5bac-76f5-45e4-b76d-93d6936b89cb",
   "metadata": {
    "tags": []
   },
   "source": [
    "Speichere den Geodatensatz für Stefanie auf `O:\\GIS\\Daten\\Vektor\\2021\\quartierspiegel` als Shapefile\n",
    "\n",
    "WARTE NOCH AUFS FEEDBACK VON STEFI"
   ]
  },
  {
   "cell_type": "code",
   "execution_count": 485,
   "id": "745402ef-c3cc-4566-802b-fb7ae1d163cf",
   "metadata": {},
   "outputs": [
    {
     "name": "stdout",
     "output_type": "stream",
     "text": [
      "//szh/ssz/data/GIS/Daten/Vektor/2021/quartierspiegel/export_poi_beachvolleyball_view.shp\n"
     ]
    }
   ],
   "source": [
    "#exp_file.to_file(gis_ablagepfad+\"export_\"+typename+\".shp\", encoding='utf-8')\n",
    "print(gis_ablagepfad+\"export_\"+typename+\".shp\")"
   ]
  },
  {
   "cell_type": "markdown",
   "id": "039ba08d-8348-4ef1-9304-4e95ac65b4aa",
   "metadata": {},
   "source": [
    "Speichere sie auch im Arbeitsverzeichnis als Shapefile und Geopackage ab"
   ]
  },
  {
   "cell_type": "code",
   "execution_count": 491,
   "id": "fe31c306-8dfd-48e0-94fe-7c6c1b8ba8e6",
   "metadata": {},
   "outputs": [
    {
     "name": "stderr",
     "output_type": "stream",
     "text": [
      "C:\\Users\\sszsim\\AppData\\Local\\Temp/ipykernel_9792/1278372044.py:1: UserWarning: Column names longer than 10 characters will be truncated when saved to ESRI Shapefile.\n",
      "  exp_file.to_file(\"./output/shapefiles/\"+typename+date_today+\".shp\", encoding='utf-8')\n"
     ]
    },
    {
     "name": "stdout",
     "output_type": "stream",
     "text": [
      "Exportiert nach: ./output/geopackage/poi_bikepark_view_2021-10-08.gpkg\n"
     ]
    }
   ],
   "source": [
    "exp_file.to_file(\"./output/shapefiles/\"+typename+date_today+\".shp\", encoding='utf-8')\n",
    "exp_file.to_file(\"./output/geopackage/\"+typename+date_today+\".gpkg\", driver='GPKG')\n",
    "#gdf_poi_bikepark_view.plot()\n",
    "print(\"GPKG exportiert nach: \"+\"./output/geopackage/\"+typename+date_today+\".gpkg\")"
   ]
  },
  {
   "cell_type": "markdown",
   "id": "6a09d415-334d-4331-b767-1b73400b51e3",
   "metadata": {
    "jupyter": {
     "source_hidden": true
    },
    "tags": []
   },
   "source": [
    "### Bikepark (4)"
   ]
  },
  {
   "cell_type": "markdown",
   "id": "f3b9a447-80b5-43dc-8c14-3aaee843dca0",
   "metadata": {
    "jupyter": {
     "source_hidden": true
    },
    "tags": []
   },
   "source": [
    "#### Step 1: Daten vom Geoportal beziehen und prüfen.\n",
    "\n",
    "- url(X) --> Definiere die URL für den GEOJSON-Service\n",
    "- typename --> Definiere den Layernamen. Kann an diversen Orten verwendet werden\n",
    "- imp_name --> Leite den importierten Datensatznamen davon ab und ergänze wgs84\n",
    "- exp_name --> ohne wgs84. soll heissen er ist per default lv95"
   ]
  },
  {
   "cell_type": "code",
   "execution_count": 487,
   "id": "356d2d2f-c81a-409b-8faa-ce2215ba90fe",
   "metadata": {
    "jupyter": {
     "source_hidden": true
    },
    "tags": []
   },
   "outputs": [
    {
     "data": {
      "text/plain": [
       "array(['Bike-Park Allmend', 'Pumptrack Heuried'], dtype=object)"
      ]
     },
     "execution_count": 487,
     "metadata": {},
     "output_type": "execute_result"
    }
   ],
   "source": [
    "url4 = \"https://www.ogd.stadt-zuerich.ch/wfs/geoportal/Sport?service=WFS&version=1.1.0&request=GetFeature&outputFormat=GeoJSON&typename=poi_bikepark_view\"\n",
    "\n",
    "typename=\"poi_bikepark_view\"\n",
    "\n",
    "imp_file=\"gdf_\"+typename+\"_wgs84\"\n",
    "exp_file=\"gdf_\"+typename\n",
    "\n",
    "imp_file = gpd.read_file(url4)\n",
    "\n",
    "#imp_file.info()\n",
    "imp_file['name'].unique()\n",
    "#gdf_poi_bikepark_view_wgs84.head()"
   ]
  },
  {
   "cell_type": "markdown",
   "id": "90be5fe1-be91-4898-98b2-1c7411c23816",
   "metadata": {
    "jupyter": {
     "source_hidden": true
    },
    "tags": []
   },
   "source": [
    "#### Step2: Datensätze exportieren\n"
   ]
  },
  {
   "cell_type": "code",
   "execution_count": 488,
   "id": "b70ef7a3-ed23-4bbc-af05-5e04dc94e79b",
   "metadata": {
    "jupyter": {
     "source_hidden": true
    },
    "tags": []
   },
   "outputs": [],
   "source": [
    "exp_file = imp_file.to_crs(epsg=2056)\n",
    "#gdf_poi_bikepark_view['geometry'].head(1)"
   ]
  },
  {
   "cell_type": "markdown",
   "id": "a1f6cf00-550a-4773-aa82-f1fef6d5d489",
   "metadata": {
    "jupyter": {
     "source_hidden": true
    },
    "tags": []
   },
   "source": [
    "Speichere den Geodatensatz für Stefanie auf `O:\\GIS\\Daten\\Vektor\\2021\\quartierspiegel` als Shapefile\n",
    "\n",
    "WARTE NOCH AUFS FEEDBACK VON STEFI"
   ]
  },
  {
   "cell_type": "code",
   "execution_count": 489,
   "id": "daf44d92-ae5f-4f84-a176-6709641633b6",
   "metadata": {
    "jupyter": {
     "source_hidden": true
    },
    "tags": []
   },
   "outputs": [
    {
     "name": "stdout",
     "output_type": "stream",
     "text": [
      "//szh/ssz/data/GIS/Daten/Vektor/2021/quartierspiegel/export_poi_bikepark_view.shp\n"
     ]
    }
   ],
   "source": [
    "#exp_file.to_file(gis_ablagepfad+\"export_\"+typename+\".shp\", encoding='utf-8')\n",
    "print(gis_ablagepfad+\"export_\"+typename+\".shp\")"
   ]
  },
  {
   "cell_type": "markdown",
   "id": "a88a8822-d5fd-4e6b-b93d-54c84ee88bcf",
   "metadata": {},
   "source": [
    "Speichere sie auch im Arbeitsverzeichnis als Shapefile und Geopackage ab"
   ]
  },
  {
   "cell_type": "code",
   "execution_count": 490,
   "id": "aece0972-5574-41bd-b439-5bd8375e1340",
   "metadata": {
    "tags": []
   },
   "outputs": [
    {
     "name": "stderr",
     "output_type": "stream",
     "text": [
      "C:\\Users\\sszsim\\AppData\\Local\\Temp/ipykernel_9792/2296635697.py:1: UserWarning: Column names longer than 10 characters will be truncated when saved to ESRI Shapefile.\n",
      "  exp_file.to_file(\"./output/shapefiles/\"+typename+date_today+\".shp\", encoding='utf-8')\n"
     ]
    }
   ],
   "source": [
    "exp_file.to_file(\"./output/shapefiles/\"+typename+date_today+\".shp\", encoding='utf-8')\n",
    "exp_file.to_file(\"./output/geopackage/\"+typename+date_today+\".gpkg\", driver='GPKG')\n",
    "#gdf_poi_bikepark_view.plot()\n",
    "print(\"GPKG exportiert nach: \"+\"./output/geopackage/\"+typename+date_today+\".gpkg\")"
   ]
  },
  {
   "cell_type": "code",
   "execution_count": null,
   "id": "28d10322-4403-4e84-a309-c9123d5fceb7",
   "metadata": {},
   "outputs": [],
   "source": []
  },
  {
   "cell_type": "code",
   "execution_count": null,
   "id": "1d386363-ff00-4952-8493-5de4f4dd8987",
   "metadata": {},
   "outputs": [],
   "source": [
    "\n",
    "\n",
    "\n"
   ]
  },
  {
   "cell_type": "markdown",
   "id": "1f1aeefa-bd90-4359-81eb-da9c7587f3be",
   "metadata": {
    "tags": []
   },
   "source": [
    "### Eisbahn (5)"
   ]
  },
  {
   "cell_type": "markdown",
   "id": "f9485cd5-0219-45d1-9229-e7bfe07d0878",
   "metadata": {
    "tags": []
   },
   "source": [
    "#### Step 1: Daten vom Geoportal beziehen und prüfen.\n",
    "\n",
    "- url(X) --> Definiere die URL für den GEOJSON-Service\n",
    "- typename --> Definiere den Layernamen. Kann an diversen Orten verwendet werden\n",
    "- imp_name --> Leite den importierten Datensatznamen davon ab und ergänze wgs84\n",
    "- exp_name --> ohne wgs84. soll heissen er ist per default lv95"
   ]
  },
  {
   "cell_type": "code",
   "execution_count": 492,
   "id": "585f5b2b-6369-4d88-a0b7-e192b72a3043",
   "metadata": {
    "tags": []
   },
   "outputs": [
    {
     "data": {
      "text/plain": [
       "array(['Sportzentrum Heuried', 'Kunsteisbahn Oerlikon',\n",
       "       'Kunsteisbahn Dolder'], dtype=object)"
      ]
     },
     "execution_count": 492,
     "metadata": {},
     "output_type": "execute_result"
    }
   ],
   "source": [
    "url5 = \"https://www.ogd.stadt-zuerich.ch/wfs/geoportal/Sport?service=WFS&version=1.1.0&request=GetFeature&outputFormat=GeoJSON&typename=poi_eisbahn_view\"\n",
    "\n",
    "typename=\"poi_eisbahn_view\"\n",
    "\n",
    "imp_file=\"gdf_\"+typename+\"_wgs84\"\n",
    "exp_file=\"gdf_\"+typename\n",
    "\n",
    "imp_file = gpd.read_file(url5)\n",
    "\n",
    "#imp_file.info()\n",
    "imp_file['name'].unique()\n",
    "#gdf_poi_bikepark_view_wgs84.head()"
   ]
  },
  {
   "cell_type": "markdown",
   "id": "0f89631b-f94b-4b14-b509-beaa71295953",
   "metadata": {
    "tags": []
   },
   "source": [
    "#### Step2: Datensätze exportieren\n"
   ]
  },
  {
   "cell_type": "code",
   "execution_count": 493,
   "id": "63a8d47a-ba4e-4402-9e08-fa4251a3b2af",
   "metadata": {
    "jupyter": {
     "source_hidden": true
    },
    "tags": []
   },
   "outputs": [],
   "source": [
    "exp_file = imp_file.to_crs(epsg=2056)\n",
    "#gdf_poi_bikepark_view['geometry'].head(1)"
   ]
  },
  {
   "cell_type": "markdown",
   "id": "0b76d718-5aa5-44cf-9481-ff2ead4c0296",
   "metadata": {
    "jupyter": {
     "source_hidden": true
    },
    "tags": []
   },
   "source": [
    "Speichere den Geodatensatz für Stefanie auf `O:\\GIS\\Daten\\Vektor\\2021\\quartierspiegel` als Shapefile\n",
    "\n",
    "WARTE NOCH AUFS FEEDBACK VON STEFI"
   ]
  },
  {
   "cell_type": "code",
   "execution_count": 494,
   "id": "44795075-b963-4205-b478-58d16e828534",
   "metadata": {
    "jupyter": {
     "source_hidden": true
    },
    "tags": []
   },
   "outputs": [
    {
     "name": "stdout",
     "output_type": "stream",
     "text": [
      "//szh/ssz/data/GIS/Daten/Vektor/2021/quartierspiegel/export_poi_eisbahn_view.shp\n"
     ]
    }
   ],
   "source": [
    "#exp_file.to_file(gis_ablagepfad+\"export_\"+typename+\".shp\", encoding='utf-8')\n",
    "print(gis_ablagepfad+\"export_\"+typename+\".shp\")"
   ]
  },
  {
   "cell_type": "markdown",
   "id": "930c7347-554c-4d36-a074-15eb0edabb31",
   "metadata": {
    "jupyter": {
     "source_hidden": true
    },
    "tags": []
   },
   "source": [
    "Speichere sie auch im Arbeitsverzeichnis als Shapefile und Geopackage ab"
   ]
  },
  {
   "cell_type": "code",
   "execution_count": 495,
   "id": "1f85d75d-8885-4fe8-85c7-0dbfe4bb0c7e",
   "metadata": {
    "jupyter": {
     "source_hidden": true
    },
    "tags": []
   },
   "outputs": [
    {
     "name": "stderr",
     "output_type": "stream",
     "text": [
      "C:\\Users\\sszsim\\AppData\\Local\\Temp/ipykernel_9792/3805502502.py:1: UserWarning: Column names longer than 10 characters will be truncated when saved to ESRI Shapefile.\n",
      "  exp_file.to_file(\"./output/shapefiles/\"+typename+date_today+\".shp\", encoding='utf-8')\n"
     ]
    },
    {
     "name": "stdout",
     "output_type": "stream",
     "text": [
      "GPKG exportiert nach: ./output/geopackage/poi_eisbahn_view_2021-10-08.gpkg\n"
     ]
    }
   ],
   "source": [
    "exp_file.to_file(\"./output/shapefiles/\"+typename+date_today+\".shp\", encoding='utf-8')\n",
    "exp_file.to_file(\"./output/geopackage/\"+typename+date_today+\".gpkg\", driver='GPKG')\n",
    "#gdf_poi_bikepark_view.plot()\n",
    "print(\"GPKG exportiert nach: \"+\"./output/geopackage/\"+typename+date_today+\".gpkg\")"
   ]
  },
  {
   "cell_type": "markdown",
   "id": "b6ef4f13-391a-413c-8a07-95f0a152fef5",
   "metadata": {
    "tags": []
   },
   "source": [
    "### Flussbad (6)"
   ]
  },
  {
   "cell_type": "code",
   "execution_count": 508,
   "id": "bac045bb-f82a-4e3e-915b-1d1969460873",
   "metadata": {},
   "outputs": [
    {
     "data": {
      "text/plain": [
       "array(['Frauenbad Stadthausquai', 'Männerbad Schanzengraben',\n",
       "       'Flussbad Au-Höngg', 'Flussbad Unterer Letten',\n",
       "       'Flussbad Oberer Letten'], dtype=object)"
      ]
     },
     "execution_count": 508,
     "metadata": {},
     "output_type": "execute_result"
    }
   ],
   "source": [
    "url6 = \"https://www.ogd.stadt-zuerich.ch/wfs/geoportal/Sport?service=WFS&version=1.1.0&request=GetFeature&outputFormat=GeoJSON&typename=poi_flussbad_view\"\n",
    "\n",
    "typename=\"poi_flussbad_view\"\n",
    "\n",
    "imp_file=\"gdf_\"+typename+\"_wgs84\"\n",
    "exp_file=\"gdf_\"+typename\n",
    "\n",
    "imp_file = gpd.read_file(url6)\n",
    "\n",
    "#imp_file.info()\n",
    "imp_file['name'].unique()\n",
    "#gdf_poi_bikepark_view_wgs84.head()"
   ]
  },
  {
   "cell_type": "markdown",
   "id": "492927e8-f115-4455-9749-b8a0a413c790",
   "metadata": {
    "tags": []
   },
   "source": [
    "#### Step2: Datensätze exportieren\n"
   ]
  },
  {
   "cell_type": "code",
   "execution_count": 509,
   "id": "af893d10-0f0b-4db9-87be-ec0b8e7973c2",
   "metadata": {
    "tags": []
   },
   "outputs": [],
   "source": [
    "exp_file = imp_file.to_crs(epsg=2056)\n",
    "#gdf_poi_bikepark_view['geometry'].head(1)"
   ]
  },
  {
   "cell_type": "markdown",
   "id": "8d03cd93-1385-43d8-ac66-39a8fc5d5e8f",
   "metadata": {
    "tags": []
   },
   "source": [
    "Speichere den Geodatensatz für Stefanie auf `O:\\GIS\\Daten\\Vektor\\2021\\quartierspiegel` als Shapefile\n",
    "\n",
    "WARTE NOCH AUFS FEEDBACK VON STEFI"
   ]
  },
  {
   "cell_type": "code",
   "execution_count": 510,
   "id": "6802efb2-eef3-4bda-8ffc-e92d70e198e8",
   "metadata": {
    "tags": []
   },
   "outputs": [
    {
     "name": "stdout",
     "output_type": "stream",
     "text": [
      "//szh/ssz/data/GIS/Daten/Vektor/2021/quartierspiegel/export_poi_flussbad_view.shp\n"
     ]
    }
   ],
   "source": [
    "#exp_file.to_file(gis_ablagepfad+\"export_\"+typename+\".shp\", encoding='utf-8')\n",
    "print(gis_ablagepfad+\"export_\"+typename+\".shp\")"
   ]
  },
  {
   "cell_type": "markdown",
   "id": "027a90dd-6444-4c42-aaa5-92f606028143",
   "metadata": {
    "tags": []
   },
   "source": [
    "Speichere sie auch im Arbeitsverzeichnis als Shapefile und Geopackage ab"
   ]
  },
  {
   "cell_type": "code",
   "execution_count": 511,
   "id": "a95f27fe-537e-4899-ae5c-b529a9a4d8f6",
   "metadata": {
    "tags": []
   },
   "outputs": [
    {
     "name": "stderr",
     "output_type": "stream",
     "text": [
      "C:\\Users\\sszsim\\AppData\\Local\\Temp/ipykernel_9792/3805502502.py:1: UserWarning: Column names longer than 10 characters will be truncated when saved to ESRI Shapefile.\n",
      "  exp_file.to_file(\"./output/shapefiles/\"+typename+date_today+\".shp\", encoding='utf-8')\n"
     ]
    },
    {
     "name": "stdout",
     "output_type": "stream",
     "text": [
      "GPKG exportiert nach: ./output/geopackage/poi_flussbad_view_2021-10-08.gpkg\n"
     ]
    }
   ],
   "source": [
    "exp_file.to_file(\"./output/shapefiles/\"+typename+date_today+\".shp\", encoding='utf-8')\n",
    "exp_file.to_file(\"./output/geopackage/\"+typename+date_today+\".gpkg\", driver='GPKG')\n",
    "#gdf_poi_bikepark_view.plot()\n",
    "print(\"GPKG exportiert nach: \"+\"./output/geopackage/\"+typename+date_today+\".gpkg\")"
   ]
  },
  {
   "cell_type": "code",
   "execution_count": null,
   "id": "b708f7c7-a86c-40d3-a233-1333cebe5caf",
   "metadata": {},
   "outputs": [],
   "source": []
  },
  {
   "cell_type": "markdown",
   "id": "fd8d8ad0-4521-43d2-a290-49d114ebd244",
   "metadata": {},
   "source": [
    "### Freibad (7)"
   ]
  },
  {
   "cell_type": "code",
   "execution_count": 515,
   "id": "1fd25e70-926b-449c-b60b-5082602bd218",
   "metadata": {
    "tags": []
   },
   "outputs": [
    {
     "data": {
      "text/plain": [
       "array(['Freibad Letzigraben', 'Freibad Dolder',\n",
       "       'Freibad Zwischen den Hölzern', 'Freibad Allenmoos',\n",
       "       'Freibad Auhof', 'Freibad Heuried', 'Freibad Seebach'],\n",
       "      dtype=object)"
      ]
     },
     "execution_count": 515,
     "metadata": {},
     "output_type": "execute_result"
    }
   ],
   "source": [
    "url7 = \"https://www.ogd.stadt-zuerich.ch/wfs/geoportal/Sport?service=WFS&version=1.1.0&request=GetFeature&outputFormat=GeoJSON&typename=poi_freibad_view\"\n",
    "\n",
    "typename=\"poi_freibad_view\"\n",
    "\n",
    "imp_file=\"gdf_\"+typename+\"_wgs84\"\n",
    "exp_file=\"gdf_\"+typename\n",
    "\n",
    "#place urlX\n",
    "imp_file = gpd.read_file(url7)\n",
    "\n",
    "#imp_file.info()\n",
    "imp_file['name'].unique()\n",
    "#gdf_poi_bikepark_view_wgs84.head()"
   ]
  },
  {
   "cell_type": "markdown",
   "id": "cb692bbe-634f-4768-b533-ff12c8a9da1a",
   "metadata": {
    "tags": []
   },
   "source": [
    "#### Step2: Datensätze exportieren\n"
   ]
  },
  {
   "cell_type": "code",
   "execution_count": 516,
   "id": "3dd57275-ba0b-43ec-9aa3-bdcd0ae4e77a",
   "metadata": {
    "tags": []
   },
   "outputs": [],
   "source": [
    "exp_file = imp_file.to_crs(epsg=2056)\n",
    "#gdf_poi_bikepark_view['geometry'].head(1)"
   ]
  },
  {
   "cell_type": "markdown",
   "id": "80505fb6-ceb4-4880-b11d-dbdff1db2bb0",
   "metadata": {
    "tags": []
   },
   "source": [
    "Speichere den Geodatensatz für Stefanie auf `O:\\GIS\\Daten\\Vektor\\2021\\quartierspiegel` als Shapefile\n",
    "\n",
    "WARTE NOCH AUFS FEEDBACK VON STEFI"
   ]
  },
  {
   "cell_type": "code",
   "execution_count": 517,
   "id": "068adc0f-738e-49fa-ae21-b88e420a3bb2",
   "metadata": {
    "tags": []
   },
   "outputs": [
    {
     "name": "stdout",
     "output_type": "stream",
     "text": [
      "//szh/ssz/data/GIS/Daten/Vektor/2021/quartierspiegel/export_poi_freibad_view.shp\n"
     ]
    }
   ],
   "source": [
    "#exp_file.to_file(gis_ablagepfad+\"export_\"+typename+\".shp\", encoding='utf-8')\n",
    "print(gis_ablagepfad+\"export_\"+typename+\".shp\")"
   ]
  },
  {
   "cell_type": "markdown",
   "id": "a324b67a-b9be-4f1f-83d5-eef46ae65acd",
   "metadata": {
    "tags": []
   },
   "source": [
    "Speichere sie auch im Arbeitsverzeichnis als Shapefile und Geopackage ab"
   ]
  },
  {
   "cell_type": "code",
   "execution_count": 518,
   "id": "249dbddf-f31c-489c-81b3-ef1a0097f26f",
   "metadata": {
    "tags": []
   },
   "outputs": [
    {
     "name": "stderr",
     "output_type": "stream",
     "text": [
      "C:\\Users\\sszsim\\AppData\\Local\\Temp/ipykernel_9792/3805502502.py:1: UserWarning: Column names longer than 10 characters will be truncated when saved to ESRI Shapefile.\n",
      "  exp_file.to_file(\"./output/shapefiles/\"+typename+date_today+\".shp\", encoding='utf-8')\n"
     ]
    },
    {
     "name": "stdout",
     "output_type": "stream",
     "text": [
      "GPKG exportiert nach: ./output/geopackage/poi_freibad_view_2021-10-08.gpkg\n"
     ]
    }
   ],
   "source": [
    "exp_file.to_file(\"./output/shapefiles/\"+typename+date_today+\".shp\", encoding='utf-8')\n",
    "exp_file.to_file(\"./output/geopackage/\"+typename+date_today+\".gpkg\", driver='GPKG')\n",
    "#gdf_poi_bikepark_view.plot()\n",
    "print(\"GPKG exportiert nach: \"+\"./output/geopackage/\"+typename+date_today+\".gpkg\")"
   ]
  },
  {
   "cell_type": "markdown",
   "id": "01f3e063-2059-402d-a4dd-c9498a4540d0",
   "metadata": {},
   "source": [
    "### Fussballplätze (8)"
   ]
  },
  {
   "cell_type": "code",
   "execution_count": 519,
   "id": "b7c5d148-f352-42e7-8a3b-951e4391d159",
   "metadata": {
    "tags": []
   },
   "outputs": [
    {
     "data": {
      "text/plain": [
       "array(['Rasensportanlage Katzenbach', 'Sportzentrum Utogrund',\n",
       "       'Sportzentrum Eichrain', 'Sportzentrum Fronwald',\n",
       "       'Sportzentrum Heerenschürli', 'Sportzentrum Witikon',\n",
       "       'Rasensportanlage Neudorf', 'Sportzentrum Heuried',\n",
       "       'Rasensportanlage Juchhof 2', 'Rasensportanlage Allmend Brunau',\n",
       "       'Sportzentrum Buchlern', 'Sportzentrum Hardhof',\n",
       "       'Rasensportanlage Juchhof 1', 'Rasensportanlage Forrenweid',\n",
       "       'Rasenspielfeld Liguster'], dtype=object)"
      ]
     },
     "execution_count": 519,
     "metadata": {},
     "output_type": "execute_result"
    }
   ],
   "source": [
    "url8 = \"https://www.ogd.stadt-zuerich.ch/wfs/geoportal/Sport?service=WFS&version=1.1.0&request=GetFeature&outputFormat=GeoJSON&typename=poi_fussballplatz_view\"\n",
    "\n",
    "typename=\"poi_fussballplatz_view\"\n",
    "\n",
    "imp_file=\"gdf_\"+typename+\"_wgs84\"\n",
    "exp_file=\"gdf_\"+typename\n",
    "\n",
    "imp_file = gpd.read_file(url8)\n",
    "\n",
    "#imp_file.info()\n",
    "imp_file['name'].unique()\n",
    "#gdf_poi_bikepark_view_wgs84.head()"
   ]
  },
  {
   "cell_type": "markdown",
   "id": "ecb7cd43-cf2f-493c-9fbe-28104b46f8c8",
   "metadata": {
    "tags": []
   },
   "source": [
    "#### Step2: Datensätze exportieren\n"
   ]
  },
  {
   "cell_type": "code",
   "execution_count": 520,
   "id": "ef6a3b5f-6c3d-44ad-a343-3184f7b74c5a",
   "metadata": {
    "tags": []
   },
   "outputs": [],
   "source": [
    "exp_file = imp_file.to_crs(epsg=2056)\n",
    "#gdf_poi_bikepark_view['geometry'].head(1)"
   ]
  },
  {
   "cell_type": "markdown",
   "id": "e563da9c-f794-40e7-ab3c-172a1a4fcb3e",
   "metadata": {
    "tags": []
   },
   "source": [
    "Speichere den Geodatensatz für Stefanie auf `O:\\GIS\\Daten\\Vektor\\2021\\quartierspiegel` als Shapefile\n",
    "\n",
    "WARTE NOCH AUFS FEEDBACK VON STEFI"
   ]
  },
  {
   "cell_type": "code",
   "execution_count": 521,
   "id": "c4b705b1-abfa-4167-b78e-105dddc3bdbf",
   "metadata": {
    "tags": []
   },
   "outputs": [
    {
     "name": "stdout",
     "output_type": "stream",
     "text": [
      "//szh/ssz/data/GIS/Daten/Vektor/2021/quartierspiegel/export_poi_fussballplatz_view.shp\n"
     ]
    }
   ],
   "source": [
    "#exp_file.to_file(gis_ablagepfad+\"export_\"+typename+\".shp\", encoding='utf-8')\n",
    "print(gis_ablagepfad+\"export_\"+typename+\".shp\")"
   ]
  },
  {
   "cell_type": "markdown",
   "id": "39f65243-9c92-46f4-9385-eaf1cbd94d2f",
   "metadata": {
    "tags": []
   },
   "source": [
    "Speichere sie auch im Arbeitsverzeichnis als Shapefile und Geopackage ab"
   ]
  },
  {
   "cell_type": "code",
   "execution_count": 522,
   "id": "d34e4c33-5bfc-4581-af81-a09b958c704c",
   "metadata": {
    "tags": []
   },
   "outputs": [
    {
     "name": "stderr",
     "output_type": "stream",
     "text": [
      "C:\\Users\\sszsim\\AppData\\Local\\Temp/ipykernel_9792/3805502502.py:1: UserWarning: Column names longer than 10 characters will be truncated when saved to ESRI Shapefile.\n",
      "  exp_file.to_file(\"./output/shapefiles/\"+typename+date_today+\".shp\", encoding='utf-8')\n"
     ]
    },
    {
     "name": "stdout",
     "output_type": "stream",
     "text": [
      "GPKG exportiert nach: ./output/geopackage/poi_fussballplatz_view_2021-10-08.gpkg\n"
     ]
    }
   ],
   "source": [
    "exp_file.to_file(\"./output/shapefiles/\"+typename+date_today+\".shp\", encoding='utf-8')\n",
    "exp_file.to_file(\"./output/geopackage/\"+typename+date_today+\".gpkg\", driver='GPKG')\n",
    "#gdf_poi_bikepark_view.plot()\n",
    "print(\"GPKG exportiert nach: \"+\"./output/geopackage/\"+typename+date_today+\".gpkg\")"
   ]
  },
  {
   "cell_type": "code",
   "execution_count": null,
   "id": "6e4dbdb7-3bc5-4760-8f66-22406ac5e1e4",
   "metadata": {},
   "outputs": [],
   "source": []
  },
  {
   "cell_type": "markdown",
   "id": "bb34c739-f56b-45b3-b2aa-3e92dbf04a71",
   "metadata": {},
   "source": [
    "### Gemeinschaftszentrum (9)"
   ]
  },
  {
   "cell_type": "code",
   "execution_count": 526,
   "id": "617445d8-a21d-4043-9696-dba5b9b14068",
   "metadata": {
    "tags": []
   },
   "outputs": [
    {
     "data": {
      "text/plain": [
       "array(['GZ Heuried', 'GZ Hirzenbach', 'GZ Hottingen', 'GZ Leimbach',\n",
       "       'GZ Loogarten', 'GZ Riesbach', 'GZ Seebach', 'GZ Wipkingen',\n",
       "       'GZ Witikon', 'GZ Leimbach - Standort Manegg',\n",
       "       'GZ Wollishofen - Standort Albisstrasse',\n",
       "       'GZ Heuried - Standort Manesse', 'GZ Buchegg', 'GZ Grünau',\n",
       "       'GZ Höngg', 'GZ Wollishofen, Standort Neubühl', 'GZ Affoltern',\n",
       "       'GZ Bachwiesen', 'GZ Wollishofen', 'GZ Oerlikon',\n",
       "       'GZ Höngg - Standort Rütihof',\n",
       "       'GZ Hottingen - Standort Klosbachstrasse',\n",
       "       'GZ Loogarten - Standort Badenerstrasse', 'GZ Schindlergut'],\n",
       "      dtype=object)"
      ]
     },
     "execution_count": 526,
     "metadata": {},
     "output_type": "execute_result"
    }
   ],
   "source": [
    "url9 = \"https://www.ogd.stadt-zuerich.ch/wfs/geoportal/Gemeinschaftszentrum?service=WFS&version=1.1.0&request=GetFeature&outputFormat=GeoJSON&typename=poi_gemeinschaftszentrum_view\"\n",
    "\n",
    "typename=\"poi_gemeinschaftszentrum_view\"\n",
    "\n",
    "imp_file=\"gdf_\"+typename+\"_wgs84\"\n",
    "exp_file=\"gdf_\"+typename\n",
    "\n",
    "imp_file = gpd.read_file(url9)\n",
    "\n",
    "#imp_file.info()\n",
    "imp_file['name'].unique()\n",
    "#gdf_poi_bikepark_view_wgs84.head()"
   ]
  },
  {
   "cell_type": "markdown",
   "id": "c136ca43-5304-44fa-b774-3c0bcd7cbbe4",
   "metadata": {
    "tags": []
   },
   "source": [
    "#### Step2: Datensätze exportieren\n"
   ]
  },
  {
   "cell_type": "code",
   "execution_count": 528,
   "id": "976dbe41-0ff2-46a6-a560-738d0cf7d615",
   "metadata": {
    "tags": []
   },
   "outputs": [],
   "source": [
    "exp_file = imp_file.to_crs(epsg=2056)\n",
    "#gdf_poi_bikepark_view['geometry'].head(1)"
   ]
  },
  {
   "cell_type": "markdown",
   "id": "7b760734-c1f3-4c84-b720-c623c4d55fb1",
   "metadata": {
    "tags": []
   },
   "source": [
    "Speichere den Geodatensatz für Stefanie auf `O:\\GIS\\Daten\\Vektor\\2021\\quartierspiegel` als Shapefile\n",
    "\n",
    "WARTE NOCH AUFS FEEDBACK VON STEFI"
   ]
  },
  {
   "cell_type": "code",
   "execution_count": 529,
   "id": "0f0a921f-5e26-4b97-a976-d8306b016107",
   "metadata": {
    "tags": []
   },
   "outputs": [
    {
     "name": "stdout",
     "output_type": "stream",
     "text": [
      "//szh/ssz/data/GIS/Daten/Vektor/2021/quartierspiegel/export_poi_gemeinschaftszentrum_view.shp\n"
     ]
    }
   ],
   "source": [
    "#exp_file.to_file(gis_ablagepfad+\"export_\"+typename+\".shp\", encoding='utf-8')\n",
    "print(gis_ablagepfad+\"export_\"+typename+\".shp\")"
   ]
  },
  {
   "cell_type": "markdown",
   "id": "f0f24aa5-203b-4873-8b34-aaf73680a13a",
   "metadata": {
    "tags": []
   },
   "source": [
    "Speichere sie auch im Arbeitsverzeichnis als Shapefile und Geopackage ab"
   ]
  },
  {
   "cell_type": "code",
   "execution_count": 530,
   "id": "e53a9627-89c3-4c4c-b676-1d8d2e92aa4c",
   "metadata": {
    "tags": []
   },
   "outputs": [
    {
     "name": "stderr",
     "output_type": "stream",
     "text": [
      "C:\\Users\\sszsim\\AppData\\Local\\Temp/ipykernel_9792/3805502502.py:1: UserWarning: Column names longer than 10 characters will be truncated when saved to ESRI Shapefile.\n",
      "  exp_file.to_file(\"./output/shapefiles/\"+typename+date_today+\".shp\", encoding='utf-8')\n"
     ]
    },
    {
     "name": "stdout",
     "output_type": "stream",
     "text": [
      "GPKG exportiert nach: ./output/geopackage/poi_gemeinschaftszentrum_view_2021-10-08.gpkg\n"
     ]
    }
   ],
   "source": [
    "exp_file.to_file(\"./output/shapefiles/\"+typename+date_today+\".shp\", encoding='utf-8')\n",
    "exp_file.to_file(\"./output/geopackage/\"+typename+date_today+\".gpkg\", driver='GPKG')\n",
    "#gdf_poi_bikepark_view.plot()\n",
    "print(\"GPKG exportiert nach: \"+\"./output/geopackage/\"+typename+date_today+\".gpkg\")"
   ]
  },
  {
   "cell_type": "code",
   "execution_count": null,
   "id": "d2d50247-d965-4e4d-8b64-ea6abc831816",
   "metadata": {},
   "outputs": [],
   "source": []
  },
  {
   "cell_type": "markdown",
   "id": "18d56a80-e0e1-48e9-a828-1a8538c10d1d",
   "metadata": {
    "tags": []
   },
   "source": [
    "### Hallenbad (10)"
   ]
  },
  {
   "cell_type": "code",
   "execution_count": 531,
   "id": "3ed312f9-4e02-4192-b69b-fbe4464208ef",
   "metadata": {
    "tags": []
   },
   "outputs": [
    {
     "data": {
      "text/plain": [
       "array(['Hallenbad Altstetten', 'Hallenbad Bläsi', 'Hallenbad Bungertwies',\n",
       "       'Hallenbad City', 'Wärmebad Käferberg', 'Hallenbad Leimbach',\n",
       "       'Hallenbad Oerlikon'], dtype=object)"
      ]
     },
     "execution_count": 531,
     "metadata": {},
     "output_type": "execute_result"
    }
   ],
   "source": [
    "url10 = \"https://www.ogd.stadt-zuerich.ch/wfs/geoportal/Sport?service=WFS&version=1.1.0&request=GetFeature&outputFormat=GeoJSON&typename=poi_hallenbad_view\"\n",
    "\n",
    "typename=\"poi_hallenbad_view\"\n",
    "\n",
    "imp_file=\"gdf_\"+typename+\"_wgs84\"\n",
    "exp_file=\"gdf_\"+typename\n",
    "\n",
    "imp_file = gpd.read_file(url10)\n",
    "\n",
    "#imp_file.info()\n",
    "imp_file['name'].unique()\n",
    "#gdf_poi_bikepark_view_wgs84.head()"
   ]
  },
  {
   "cell_type": "markdown",
   "id": "37386885-4b44-4f11-a585-439150ae9913",
   "metadata": {
    "tags": []
   },
   "source": [
    "#### Step2: Datensätze exportieren\n"
   ]
  },
  {
   "cell_type": "code",
   "execution_count": 532,
   "id": "07caa73c-88ea-45a1-aeb7-5f96101985f2",
   "metadata": {
    "tags": []
   },
   "outputs": [],
   "source": [
    "exp_file = imp_file.to_crs(epsg=2056)\n",
    "#gdf_poi_bikepark_view['geometry'].head(1)"
   ]
  },
  {
   "cell_type": "markdown",
   "id": "592fa163-6517-4703-9d3b-958b2867423d",
   "metadata": {
    "tags": []
   },
   "source": [
    "Speichere den Geodatensatz für Stefanie auf `O:\\GIS\\Daten\\Vektor\\2021\\quartierspiegel` als Shapefile\n",
    "\n",
    "WARTE NOCH AUFS FEEDBACK VON STEFI"
   ]
  },
  {
   "cell_type": "code",
   "execution_count": 551,
   "id": "98669f8b-69c8-4b90-9ce3-6c4594b5b766",
   "metadata": {
    "tags": []
   },
   "outputs": [
    {
     "name": "stdout",
     "output_type": "stream",
     "text": [
      "//szh/ssz/data/GIS/Daten/Vektor/2021/quartierspiegel/export_poi_jugendtreff_view.shp\n"
     ]
    }
   ],
   "source": [
    "#exp_file.to_file(gis_ablagepfad+\"export_\"+typename+\".shp\", encoding='utf-8')\n",
    "print(gis_ablagepfad+\"export_\"+typename+\".shp\")"
   ]
  },
  {
   "cell_type": "markdown",
   "id": "b2630ca4-d672-4126-ac74-d5bf20a6280d",
   "metadata": {
    "tags": []
   },
   "source": [
    "Speichere sie auch im Arbeitsverzeichnis als Shapefile und Geopackage ab"
   ]
  },
  {
   "cell_type": "code",
   "execution_count": 552,
   "id": "36bd4634-72fe-4001-a25c-09ae15a0657a",
   "metadata": {
    "tags": []
   },
   "outputs": [
    {
     "name": "stderr",
     "output_type": "stream",
     "text": [
      "C:\\Users\\sszsim\\AppData\\Local\\Temp/ipykernel_9792/3805502502.py:1: UserWarning: Column names longer than 10 characters will be truncated when saved to ESRI Shapefile.\n",
      "  exp_file.to_file(\"./output/shapefiles/\"+typename+date_today+\".shp\", encoding='utf-8')\n"
     ]
    },
    {
     "name": "stdout",
     "output_type": "stream",
     "text": [
      "GPKG exportiert nach: ./output/geopackage/poi_jugendtreff_view_2021-10-08.gpkg\n"
     ]
    }
   ],
   "source": [
    "exp_file.to_file(\"./output/shapefiles/\"+typename+date_today+\".shp\", encoding='utf-8')\n",
    "exp_file.to_file(\"./output/geopackage/\"+typename+date_today+\".gpkg\", driver='GPKG')\n",
    "#gdf_poi_bikepark_view.plot()\n",
    "print(\"GPKG exportiert nach: \"+\"./output/geopackage/\"+typename+date_today+\".gpkg\")"
   ]
  },
  {
   "cell_type": "code",
   "execution_count": null,
   "id": "3ca47034-b19a-4381-bd78-ee1716d444c6",
   "metadata": {},
   "outputs": [],
   "source": []
  },
  {
   "cell_type": "markdown",
   "id": "3e4c652f-1e77-4ebc-8fcd-7dd88a0b25aa",
   "metadata": {
    "tags": []
   },
   "source": [
    "### Jugendtreff (11)"
   ]
  },
  {
   "cell_type": "code",
   "execution_count": 553,
   "id": "d4916e49-1e59-4d33-aefc-8ec32d7a6842",
   "metadata": {
    "tags": []
   },
   "outputs": [
    {
     "data": {
      "text/plain": [
       "array(['Verein Jugendarbeit Auzelg (c/o Hort)', 'OJA Kreis 3 & 4',\n",
       "       'OJA Affoltern', 'OJA Kreis 6 & Wipkingen', 'OJA Oerlikon',\n",
       "       'OJA Schwamendingen',\n",
       "       'OJA Kreis6&Wipkingen - Standort Bhf.Wipkingen',\n",
       "       'Jugendkulturhaus Dynamo', 'Verein Jugendtreff Kreis 4',\n",
       "       'OJA Kreis 9 & Hard', 'OJA Wollishofen-Leimbach',\n",
       "       'OJA Kreis 5/planet 5',\n",
       "       'OJA Wollishofen&Leimbach Standort Leimbach',\n",
       "       'Mundwerk Kulturbiotop', 'OJA Kreis 9 & Hard Standort Hardstrasse'],\n",
       "      dtype=object)"
      ]
     },
     "execution_count": 553,
     "metadata": {},
     "output_type": "execute_result"
    }
   ],
   "source": [
    "url11 = \"https://www.ogd.stadt-zuerich.ch/wfs/geoportal/Jugendtreff?service=WFS&version=1.1.0&request=GetFeature&outputFormat=GeoJSON&typename=poi_jugendtreff_view\"\n",
    "\n",
    "typename=\"poi_jugendtreff_view\"\n",
    "\n",
    "imp_file=\"gdf_\"+typename+\"_wgs84\"\n",
    "exp_file=\"gdf_\"+typename\n",
    "\n",
    "imp_file = gpd.read_file(url11)\n",
    "\n",
    "#imp_file.info()\n",
    "imp_file['name'].unique()\n",
    "#gdf_poi_bikepark_view_wgs84.head()"
   ]
  },
  {
   "cell_type": "markdown",
   "id": "5bfa7d9f-f1f4-4840-a047-4983f889faab",
   "metadata": {
    "tags": []
   },
   "source": [
    "#### Step2: Datensätze exportieren\n"
   ]
  },
  {
   "cell_type": "code",
   "execution_count": 554,
   "id": "cd298dea-08da-445e-9814-3a91c55969b6",
   "metadata": {
    "jupyter": {
     "source_hidden": true
    },
    "tags": []
   },
   "outputs": [],
   "source": [
    "exp_file = imp_file.to_crs(epsg=2056)\n",
    "#gdf_poi_bikepark_view['geometry'].head(1)"
   ]
  },
  {
   "cell_type": "markdown",
   "id": "2825a1ec-6005-4ded-8194-c7ab347c0126",
   "metadata": {
    "tags": []
   },
   "source": [
    "Speichere den Geodatensatz für Stefanie auf `O:\\GIS\\Daten\\Vektor\\2021\\quartierspiegel` als Shapefile\n",
    "\n",
    "WARTE NOCH AUFS FEEDBACK VON STEFI"
   ]
  },
  {
   "cell_type": "code",
   "execution_count": 555,
   "id": "b137662a-80e7-4102-9454-55754a6355a6",
   "metadata": {
    "tags": []
   },
   "outputs": [
    {
     "name": "stdout",
     "output_type": "stream",
     "text": [
      "//szh/ssz/data/GIS/Daten/Vektor/2021/quartierspiegel/export_poi_jugendtreff_view.shp\n"
     ]
    }
   ],
   "source": [
    "#exp_file.to_file(gis_ablagepfad+\"export_\"+typename+\".shp\", encoding='utf-8')\n",
    "print(gis_ablagepfad+\"export_\"+typename+\".shp\")"
   ]
  },
  {
   "cell_type": "markdown",
   "id": "d674f79d-ba7b-4905-a839-e85c68548727",
   "metadata": {
    "tags": []
   },
   "source": [
    "Speichere sie auch im Arbeitsverzeichnis als Shapefile und Geopackage ab"
   ]
  },
  {
   "cell_type": "code",
   "execution_count": 556,
   "id": "ff2cbe87-bbe0-41f1-a8de-46c32fe3801a",
   "metadata": {
    "tags": []
   },
   "outputs": [
    {
     "name": "stderr",
     "output_type": "stream",
     "text": [
      "C:\\Users\\sszsim\\AppData\\Local\\Temp/ipykernel_9792/3805502502.py:1: UserWarning: Column names longer than 10 characters will be truncated when saved to ESRI Shapefile.\n",
      "  exp_file.to_file(\"./output/shapefiles/\"+typename+date_today+\".shp\", encoding='utf-8')\n"
     ]
    },
    {
     "name": "stdout",
     "output_type": "stream",
     "text": [
      "GPKG exportiert nach: ./output/geopackage/poi_jugendtreff_view_2021-10-08.gpkg\n"
     ]
    }
   ],
   "source": [
    "exp_file.to_file(\"./output/shapefiles/\"+typename+date_today+\".shp\", encoding='utf-8')\n",
    "exp_file.to_file(\"./output/geopackage/\"+typename+date_today+\".gpkg\", driver='GPKG')\n",
    "#gdf_poi_bikepark_view.plot()\n",
    "print(\"GPKG exportiert nach: \"+\"./output/geopackage/\"+typename+date_today+\".gpkg\")"
   ]
  },
  {
   "cell_type": "code",
   "execution_count": null,
   "id": "fc13af6f-f2ef-4bba-96cf-9e105fa74fc1",
   "metadata": {},
   "outputs": [],
   "source": []
  },
  {
   "cell_type": "markdown",
   "id": "0fabec92-113d-4dfc-b322-2689adb6e6f3",
   "metadata": {
    "tags": []
   },
   "source": [
    "### Park (12)"
   ]
  },
  {
   "cell_type": "code",
   "execution_count": 557,
   "id": "3dd3a0cc-599a-44b6-b276-83f285151321",
   "metadata": {
    "tags": []
   },
   "outputs": [
    {
     "data": {
      "text/plain": [
       "array(['Villa Schönberg', 'Ruggächeranlage', 'Arboretum', 'Tiefenbrunnen',\n",
       "       'Am Katzenbach', 'Botanischer Garten', 'GZ Riesbach',\n",
       "       'Hambergsteig', 'Platzspitz', 'Andreaspark', 'Neunbrunnenanlage',\n",
       "       'Max-Bill-Platz', 'Heidegraben', 'Irisgarten Belvoirpark',\n",
       "       'Bürkliterrasse', 'Stadelhoferplatz', 'Muraltengut', 'Seeburgpark',\n",
       "       'Triemlifussweg', 'Villa Hohenbühl', 'Artergut', 'Merkurplatz',\n",
       "       'Kantonsspital', 'Werdinsel', 'Landiwiese', 'Louis-Häfliger-Park',\n",
       "       'MFO-Park', 'Hardaupark', 'Looächeranlage', 'Schanzengraben',\n",
       "       'Pestalozzi-Anlage', 'Lindenhof', 'Strandbad Mythenquai',\n",
       "       'Strandbad Tiefenbrunnen', 'Siriuswiese', 'Gustav-Ammann-Park',\n",
       "       'GZ Leimbach', 'Seefeldquai', 'Buchholz', 'Im Gut',\n",
       "       'Landenberganlage', 'Josefwiese', 'Bäckeranlage', 'Hohe Promenade',\n",
       "       'Kanzleiareal', 'Zeughaushof', 'Patumbah-Park', 'Sihlhölzli',\n",
       "       'Villa Bleuler', 'Neumünsteranlage', 'Belvoirpark',\n",
       "       'Park Pfingstweid', 'GZ Grünau', 'Waidberg', 'Wipkingerpark',\n",
       "       'GZ Buchegg', 'Alfred-Altherr-Terrasse', 'Herzogenmühle-Grünzug',\n",
       "       'Glattwiesen', 'GZ Hirzenbach', 'Blatterwiese', 'Rieterpark',\n",
       "       'Rote Fabrik', 'Stolzewiese', 'St. Moritz-Anlage',\n",
       "       'Bootshafen Wollishofen', 'Auf der Egg', 'Utoquai', 'Seeuferweg',\n",
       "       'Zürichhorn', 'Kollerwiese', 'Aemtleranlage', 'Polyterrasse',\n",
       "       'Hürstwaldwiese', 'GZ Affoltern', 'Althoosstrasse',\n",
       "       'Im Hagenbrünneli', 'Kasernenareal', 'Dreiwiesen',\n",
       "       'General-Guisan-Quai', 'Glaubten / Müseli', 'Stadthausanlage',\n",
       "       'Bauschänzli', 'Sonnenberg', 'ETH Hönggerberg', 'Holderbachwiese',\n",
       "       'Villa Tobler', 'Savera-Areal', 'Klopstockwiese', 'Wahlenpark',\n",
       "       'Mattenhof', 'Rechberg', 'Lettenareal', 'Turbinenplatz',\n",
       "       'Riedgraben', 'Leutschenpark', 'Birchwald', 'Felsenrainanlage',\n",
       "       'Schärrerwiese', 'Heiligfeld', 'Langgrütweg', 'Süssleren',\n",
       "       'Alter Botanischer Garten', 'Klingenanlage', 'Schärenmoos',\n",
       "       'GZ Seebach', 'Schindlergut', 'Beckenhof', 'Irchelpark',\n",
       "       'Allmend Stettbach', 'Oerliker Park', 'Waldgarten',\n",
       "       'Saatlen-Grünzug', 'Schörli-Grünzug', 'Bullingerhof',\n",
       "       'Fritschiwiese', 'Bachwiesenpark', 'Allmend Brunau'], dtype=object)"
      ]
     },
     "execution_count": 557,
     "metadata": {},
     "output_type": "execute_result"
    }
   ],
   "source": [
    "url12 = \"https://www.ogd.stadt-zuerich.ch/wfs/geoportal/Park?service=WFS&version=1.1.0&request=GetFeature&outputFormat=GeoJSON&typename=poi_park_view\"\n",
    "\n",
    "typename=\"poi_park_view\"\n",
    "\n",
    "imp_file=\"gdf_\"+typename+\"_wgs84\"\n",
    "exp_file=\"gdf_\"+typename\n",
    "\n",
    "imp_file = gpd.read_file(url12)\n",
    "\n",
    "#imp_file.info()\n",
    "imp_file['name'].unique()\n",
    "#gdf_poi_bikepark_view_wgs84.head()"
   ]
  },
  {
   "cell_type": "markdown",
   "id": "6875e930-4174-4763-a30a-ee5be66f27f9",
   "metadata": {
    "tags": []
   },
   "source": [
    "#### Step2: Datensätze exportieren\n"
   ]
  },
  {
   "cell_type": "code",
   "execution_count": 558,
   "id": "776aa195-2180-47b7-8642-db42629e592e",
   "metadata": {
    "tags": []
   },
   "outputs": [],
   "source": [
    "exp_file = imp_file.to_crs(epsg=2056)\n",
    "#gdf_poi_bikepark_view['geometry'].head(1)"
   ]
  },
  {
   "cell_type": "markdown",
   "id": "784e4bfd-b0e7-4c3c-a2cc-e8ed9cd5ad43",
   "metadata": {
    "tags": []
   },
   "source": [
    "Speichere den Geodatensatz für Stefanie auf `O:\\GIS\\Daten\\Vektor\\2021\\quartierspiegel` als Shapefile\n",
    "\n",
    "WARTE NOCH AUFS FEEDBACK VON STEFI"
   ]
  },
  {
   "cell_type": "code",
   "execution_count": 559,
   "id": "9b36426d-2665-4912-94b9-628b02dc399e",
   "metadata": {
    "tags": []
   },
   "outputs": [
    {
     "name": "stdout",
     "output_type": "stream",
     "text": [
      "//szh/ssz/data/GIS/Daten/Vektor/2021/quartierspiegel/export_poi_park_view.shp\n"
     ]
    }
   ],
   "source": [
    "#exp_file.to_file(gis_ablagepfad+\"export_\"+typename+\".shp\", encoding='utf-8')\n",
    "print(gis_ablagepfad+\"export_\"+typename+\".shp\")"
   ]
  },
  {
   "cell_type": "markdown",
   "id": "b768e2e3-436b-42fc-b42c-dae5b4ff888c",
   "metadata": {
    "tags": []
   },
   "source": [
    "Speichere sie auch im Arbeitsverzeichnis als Shapefile und Geopackage ab"
   ]
  },
  {
   "cell_type": "code",
   "execution_count": 560,
   "id": "d6ead930-15e1-41a7-a917-dbb4a4329e55",
   "metadata": {
    "tags": []
   },
   "outputs": [
    {
     "name": "stderr",
     "output_type": "stream",
     "text": [
      "C:\\Users\\sszsim\\AppData\\Local\\Temp/ipykernel_9792/3805502502.py:1: UserWarning: Column names longer than 10 characters will be truncated when saved to ESRI Shapefile.\n",
      "  exp_file.to_file(\"./output/shapefiles/\"+typename+date_today+\".shp\", encoding='utf-8')\n"
     ]
    },
    {
     "name": "stdout",
     "output_type": "stream",
     "text": [
      "GPKG exportiert nach: ./output/geopackage/poi_park_view_2021-10-08.gpkg\n"
     ]
    }
   ],
   "source": [
    "exp_file.to_file(\"./output/shapefiles/\"+typename+date_today+\".shp\", encoding='utf-8')\n",
    "exp_file.to_file(\"./output/geopackage/\"+typename+date_today+\".gpkg\", driver='GPKG')\n",
    "#gdf_poi_bikepark_view.plot()\n",
    "print(\"GPKG exportiert nach: \"+\"./output/geopackage/\"+typename+date_today+\".gpkg\")"
   ]
  },
  {
   "cell_type": "code",
   "execution_count": null,
   "id": "02db04b9-1ac0-4209-859c-4ff332f818c0",
   "metadata": {},
   "outputs": [],
   "source": []
  },
  {
   "cell_type": "markdown",
   "id": "d9a9475d-6cd5-45fe-9f55-8503176412ca",
   "metadata": {
    "tags": []
   },
   "source": [
    "### Picknick (13)"
   ]
  },
  {
   "cell_type": "code",
   "execution_count": 563,
   "id": "f20956ff-9813-4b95-bd77-e1a28a2c0843",
   "metadata": {
    "tags": []
   },
   "outputs": [
    {
     "data": {
      "text/plain": [
       "array(['Hohensteinplatz', 'Antenne Fernsehplatz', 'Aegertenweg',\n",
       "       'Butti-Brunnen', 'Riedenholz Süd', 'Reckenholz', 'Holzhof',\n",
       "       'Russenbrünneli', 'Heizenholz', 'Kolbenhoferegg', 'Mediker Boden',\n",
       "       'Schanze Gratstrasse', 'Annaburg', 'Banzwiese',\n",
       "       'Banzwiesenstr/Hohensteinweg', 'Kamelbuckel', 'Kleeweid',\n",
       "       'Maneggweg', 'Medikerweg', 'Ruine Manegg', 'Fallätsche',\n",
       "       'Blaumeise', 'Biberlinsterrasse', 'Im Schlagbach', 'Dunkelhölzli',\n",
       "       'Reservoir Lyren', 'Frauenmatt', 'Cherigatter', 'Grossmutter',\n",
       "       'Hasenrain', 'Oetenbacherholzstrasse', 'Loorenkopf',\n",
       "       'Boxerbrunnen', 'Thalwilerbänkli', 'Lindenweg, Altes Reservoir',\n",
       "       'Waid', 'ARA Adliswil', 'Entlisberghütte', 'Hans Rölliweg',\n",
       "       'Känzeli', 'Untere Forsthausstrasse', 'Tscharli Platz',\n",
       "       'Oerliker Wäldli', 'Friesenberg', 'Kolbenhof', 'Milan',\n",
       "       'Wasserrad', 'Spinne', 'Hasenrainhütte', 'Hurdäckerstrasse',\n",
       "       'Höckler', 'Hochwacht', 'ARA  Adliswil', 'Buchenweg', 'Burgwies',\n",
       "       'Mädikon', 'Chalberweid', 'Gabel', 'Tamboureneiche',\n",
       "       'Entlisbergkopf', 'Rüteliweg', 'Bergholz', 'Kappeli',\n",
       "       'Schachtisch', 'Tobelholzweg', 'Rumpelhalde', 'Rötelterrasse',\n",
       "       'Unterer Spielplatz', 'Eichhörnliweg', 'Oberer Spielplatz',\n",
       "       'Skatmatt', 'Rondell', 'Reservoir Käferberg', 'Käferberg-Weiher',\n",
       "       'Waidbergweg', 'Zweifelseiche', 'Elefant', 'Stöckentobelhütte',\n",
       "       'Degenried', 'Schlachtendenkmal', 'Weibelacker',\n",
       "       'Reservoir Batterie', 'Orelli-Bateriestrasse', 'Escherhöhe',\n",
       "       'Chorherrenplatz', 'Moosholzweiher', 'Frauenbrünneli',\n",
       "       'Unterholzstrasse', 'Letziweg', 'Waldhüsli', 'Orelliweg',\n",
       "       'Resiweiher', 'Spechtplatz auf der Heu', 'Schwandenholz',\n",
       "       'Vrenelisgärtli', 'Oetlisbergweg', 'Bogenweg', 'Waldhütte Binz',\n",
       "       'Blockhaus'], dtype=object)"
      ]
     },
     "execution_count": 563,
     "metadata": {},
     "output_type": "execute_result"
    }
   ],
   "source": [
    "url13 = \"https://www.ogd.stadt-zuerich.ch/wfs/geoportal/Erholungs__und_Sporteinrichtungen?service=WFS&version=1.1.0&request=GetFeature&outputFormat=GeoJSON&typename=poi_picknickplatz_view\"\n",
    "\n",
    "typename=\"poi_picknickplatz_view\"\n",
    "\n",
    "imp_file=\"gdf_\"+typename+\"_wgs84\"\n",
    "exp_file=\"gdf_\"+typename\n",
    "\n",
    "imp_file = gpd.read_file(url13)\n",
    "\n",
    "#imp_file.info()\n",
    "imp_file['name'].unique()\n",
    "#gdf_poi_bikepark_view_wgs84.head()"
   ]
  },
  {
   "cell_type": "markdown",
   "id": "ef8d62a5-5c5a-452d-8a87-c552ce7e0886",
   "metadata": {
    "tags": []
   },
   "source": [
    "#### Step2: Datensätze exportieren\n"
   ]
  },
  {
   "cell_type": "code",
   "execution_count": 564,
   "id": "e7d8df3d-db4b-4653-bafe-783c33428ea6",
   "metadata": {
    "tags": []
   },
   "outputs": [],
   "source": [
    "exp_file = imp_file.to_crs(epsg=2056)\n",
    "#gdf_poi_bikepark_view['geometry'].head(1)"
   ]
  },
  {
   "cell_type": "markdown",
   "id": "3fea17d8-5d32-4a4f-a676-16f92b7e1de4",
   "metadata": {
    "tags": []
   },
   "source": [
    "Speichere den Geodatensatz für Stefanie auf `O:\\GIS\\Daten\\Vektor\\2021\\quartierspiegel` als Shapefile\n",
    "\n",
    "WARTE NOCH AUFS FEEDBACK VON STEFI"
   ]
  },
  {
   "cell_type": "code",
   "execution_count": 565,
   "id": "ea656d69-1ec4-4292-9b95-2007416e0a68",
   "metadata": {
    "tags": []
   },
   "outputs": [
    {
     "name": "stdout",
     "output_type": "stream",
     "text": [
      "//szh/ssz/data/GIS/Daten/Vektor/2021/quartierspiegel/export_poi_picknickplatz_view.shp\n"
     ]
    }
   ],
   "source": [
    "#exp_file.to_file(gis_ablagepfad+\"export_\"+typename+\".shp\", encoding='utf-8')\n",
    "print(gis_ablagepfad+\"export_\"+typename+\".shp\")"
   ]
  },
  {
   "cell_type": "markdown",
   "id": "58f9cf2b-e0c3-4628-8194-df940b6649a6",
   "metadata": {
    "tags": []
   },
   "source": [
    "Speichere sie auch im Arbeitsverzeichnis als Shapefile und Geopackage ab"
   ]
  },
  {
   "cell_type": "code",
   "execution_count": 566,
   "id": "0e532a8a-b382-4ae6-83d6-af0bb0c0e22f",
   "metadata": {
    "tags": []
   },
   "outputs": [
    {
     "name": "stderr",
     "output_type": "stream",
     "text": [
      "C:\\Users\\sszsim\\AppData\\Local\\Temp/ipykernel_9792/3805502502.py:1: UserWarning: Column names longer than 10 characters will be truncated when saved to ESRI Shapefile.\n",
      "  exp_file.to_file(\"./output/shapefiles/\"+typename+date_today+\".shp\", encoding='utf-8')\n"
     ]
    },
    {
     "name": "stdout",
     "output_type": "stream",
     "text": [
      "GPKG exportiert nach: ./output/geopackage/poi_picknickplatz_view_2021-10-08.gpkg\n"
     ]
    }
   ],
   "source": [
    "exp_file.to_file(\"./output/shapefiles/\"+typename+date_today+\".shp\", encoding='utf-8')\n",
    "exp_file.to_file(\"./output/geopackage/\"+typename+date_today+\".gpkg\", driver='GPKG')\n",
    "#gdf_poi_bikepark_view.plot()\n",
    "print(\"GPKG exportiert nach: \"+\"./output/geopackage/\"+typename+date_today+\".gpkg\")"
   ]
  },
  {
   "cell_type": "code",
   "execution_count": null,
   "id": "5062cbd6-d32b-4642-8b8c-aea1e4d655e6",
   "metadata": {},
   "outputs": [],
   "source": []
  },
  {
   "cell_type": "markdown",
   "id": "dbb0bf27-993e-419f-a18d-5989ee82eff4",
   "metadata": {
    "tags": []
   },
   "source": [
    "### Quartiertreffhaus (14)"
   ]
  },
  {
   "cell_type": "code",
   "execution_count": 567,
   "id": "7c5abe46-90b2-4dd7-ad5e-9ab3e15dacab",
   "metadata": {
    "tags": []
   },
   "outputs": [
    {
     "data": {
      "text/plain": [
       "array(['Quartiertreff Enge', 'Quartierhof Wynegg',\n",
       "       'Quartiertreff Zehntenhaus', 'Quartiertreff Altstadthaus',\n",
       "       'Schopf - Verein Hochneun', 'Quartiertreff Waldgarten',\n",
       "       'Zentrum Karl der Grosse', 'Stadtgeiss', 'Quartierraum Viadukt',\n",
       "       'Solino', 'Quartierzentrum Schütze', 'Quartiertreff Hüttenkopf',\n",
       "       'Quartierbaracke Auzelg', 'Quartierraum Fritschiwiese',\n",
       "       'Spielbaracke', 'Quartiertreff Fluntern',\n",
       "       'Quartiertreff Hirslanden', 'Quartierzentrum Bäckeranlage',\n",
       "       'Quartierraum Zentralstrasse', 'Quartierräume Bullinger',\n",
       "       'Kulturbahnhof Affoltern, KuBaA', 'Kiosk Josefwiese',\n",
       "       'Quartierräume Hardau', 'Quartierhaus Schütze (Mehrzweckraum)',\n",
       "       'Quartierhaus Kreis 6'], dtype=object)"
      ]
     },
     "execution_count": 567,
     "metadata": {},
     "output_type": "execute_result"
    }
   ],
   "source": [
    "url14 = \"https://www.ogd.stadt-zuerich.ch/wfs/geoportal/Quartiertreff?service=WFS&version=1.1.0&request=GetFeature&outputFormat=GeoJSON&typename=poi_quartiertreffhaus_view\"\n",
    "\n",
    "typename=\"poi_quartiertreffhaus_view\"\n",
    "\n",
    "imp_file=\"gdf_\"+typename+\"_wgs84\"\n",
    "exp_file=\"gdf_\"+typename\n",
    "\n",
    "imp_file = gpd.read_file(url14)\n",
    "\n",
    "#imp_file.info()\n",
    "imp_file['name'].unique()\n",
    "#gdf_poi_bikepark_view_wgs84.head()"
   ]
  },
  {
   "cell_type": "markdown",
   "id": "1915eb80-a04e-42f6-b048-4655db9dcc3c",
   "metadata": {
    "tags": []
   },
   "source": [
    "#### Step2: Datensätze exportieren\n"
   ]
  },
  {
   "cell_type": "code",
   "execution_count": 568,
   "id": "25d34360-f19f-4d1f-ab44-869f6112fd88",
   "metadata": {
    "tags": []
   },
   "outputs": [],
   "source": [
    "exp_file = imp_file.to_crs(epsg=2056)\n",
    "#gdf_poi_bikepark_view['geometry'].head(1)"
   ]
  },
  {
   "cell_type": "markdown",
   "id": "42e1440b-2473-4dc6-8cd6-0ebc58c0e281",
   "metadata": {
    "tags": []
   },
   "source": [
    "Speichere den Geodatensatz für Stefanie auf `O:\\GIS\\Daten\\Vektor\\2021\\quartierspiegel` als Shapefile\n",
    "\n",
    "WARTE NOCH AUFS FEEDBACK VON STEFI"
   ]
  },
  {
   "cell_type": "code",
   "execution_count": 569,
   "id": "37958f45-872a-485b-a326-a944ca85389f",
   "metadata": {
    "tags": []
   },
   "outputs": [
    {
     "name": "stdout",
     "output_type": "stream",
     "text": [
      "//szh/ssz/data/GIS/Daten/Vektor/2021/quartierspiegel/export_poi_quartiertreffhaus_view.shp\n"
     ]
    }
   ],
   "source": [
    "#exp_file.to_file(gis_ablagepfad+\"export_\"+typename+\".shp\", encoding='utf-8')\n",
    "print(gis_ablagepfad+\"export_\"+typename+\".shp\")"
   ]
  },
  {
   "cell_type": "markdown",
   "id": "9af41e79-7d0b-43ac-a4a9-8cc65167a213",
   "metadata": {
    "tags": []
   },
   "source": [
    "Speichere sie auch im Arbeitsverzeichnis als Shapefile und Geopackage ab"
   ]
  },
  {
   "cell_type": "code",
   "execution_count": 570,
   "id": "519d7119-a674-48c0-ae5e-d9a8284bf3ff",
   "metadata": {
    "tags": []
   },
   "outputs": [
    {
     "name": "stderr",
     "output_type": "stream",
     "text": [
      "C:\\Users\\sszsim\\AppData\\Local\\Temp/ipykernel_9792/3805502502.py:1: UserWarning: Column names longer than 10 characters will be truncated when saved to ESRI Shapefile.\n",
      "  exp_file.to_file(\"./output/shapefiles/\"+typename+date_today+\".shp\", encoding='utf-8')\n"
     ]
    },
    {
     "name": "stdout",
     "output_type": "stream",
     "text": [
      "GPKG exportiert nach: ./output/geopackage/poi_quartiertreffhaus_view_2021-10-08.gpkg\n"
     ]
    }
   ],
   "source": [
    "exp_file.to_file(\"./output/shapefiles/\"+typename+date_today+\".shp\", encoding='utf-8')\n",
    "exp_file.to_file(\"./output/geopackage/\"+typename+date_today+\".gpkg\", driver='GPKG')\n",
    "#gdf_poi_bikepark_view.plot()\n",
    "print(\"GPKG exportiert nach: \"+\"./output/geopackage/\"+typename+date_today+\".gpkg\")"
   ]
  },
  {
   "cell_type": "code",
   "execution_count": null,
   "id": "29214182-d7e0-4e6b-8576-03ea1c331f87",
   "metadata": {},
   "outputs": [],
   "source": []
  },
  {
   "cell_type": "markdown",
   "id": "9ce29fe7-5c25-42fb-9cc4-f157419cb3b4",
   "metadata": {
    "tags": []
   },
   "source": [
    "### Seebad (15)"
   ]
  },
  {
   "cell_type": "code",
   "execution_count": 586,
   "id": "499b9dc6-b573-42fe-885d-0d2dea429a53",
   "metadata": {
    "tags": []
   },
   "outputs": [
    {
     "data": {
      "text/plain": [
       "array(['Seebad Enge', 'Seebad Katzensee', 'Seebad Utoquai',\n",
       "       'Strandbad Mythenquai', 'Strandbad Tiefenbrunnen',\n",
       "       'Strandbad Wollishofen'], dtype=object)"
      ]
     },
     "execution_count": 586,
     "metadata": {},
     "output_type": "execute_result"
    }
   ],
   "source": [
    "url15 = \"https://www.ogd.stadt-zuerich.ch/wfs/geoportal/Sport?service=WFS&version=1.1.0&request=GetFeature&outputFormat=GeoJSON&typename=poi_seebad_view\"\n",
    "\n",
    "typename=\"poi_seebad_view\"\n",
    "\n",
    "imp_file=\"gdf_\"+typename+\"_wgs84\"\n",
    "exp_file=\"gdf_\"+typename\n",
    "\n",
    "imp_file = gpd.read_file(url15)\n",
    "\n",
    "#imp_file.info()\n",
    "imp_file['name'].unique()\n",
    "#gdf_poi_bikepark_view_wgs84.head()"
   ]
  },
  {
   "cell_type": "markdown",
   "id": "593d9a25-17b0-4cc0-85aa-8a9148fe7bfc",
   "metadata": {
    "tags": []
   },
   "source": [
    "#### Step2: Datensätze exportieren\n"
   ]
  },
  {
   "cell_type": "code",
   "execution_count": 587,
   "id": "ec435bf6-f3a3-43ff-a383-cb0be77cfc27",
   "metadata": {
    "tags": []
   },
   "outputs": [],
   "source": [
    "exp_file = imp_file.to_crs(epsg=2056)\n",
    "#gdf_poi_bikepark_view['geometry'].head(1)"
   ]
  },
  {
   "cell_type": "markdown",
   "id": "1b1a71d5-9b49-417b-8620-f4edd3e2fbae",
   "metadata": {
    "tags": []
   },
   "source": [
    "Speichere den Geodatensatz für Stefanie auf `O:\\GIS\\Daten\\Vektor\\2021\\quartierspiegel` als Shapefile\n",
    "\n",
    "WARTE NOCH AUFS FEEDBACK VON STEFI"
   ]
  },
  {
   "cell_type": "code",
   "execution_count": 588,
   "id": "750130bd-3c9a-4bbe-b262-f05b9475541d",
   "metadata": {
    "tags": []
   },
   "outputs": [
    {
     "name": "stdout",
     "output_type": "stream",
     "text": [
      "//szh/ssz/data/GIS/Daten/Vektor/2021/quartierspiegel/export_poi_seebad_view.shp\n"
     ]
    }
   ],
   "source": [
    "#exp_file.to_file(gis_ablagepfad+\"export_\"+typename+\".shp\", encoding='utf-8')\n",
    "print(gis_ablagepfad+\"export_\"+typename+\".shp\")"
   ]
  },
  {
   "cell_type": "markdown",
   "id": "796bd5ae-416b-4008-a663-4e8f8cb7bec4",
   "metadata": {
    "tags": []
   },
   "source": [
    "Speichere sie auch im Arbeitsverzeichnis als Shapefile und Geopackage ab"
   ]
  },
  {
   "cell_type": "code",
   "execution_count": 589,
   "id": "12e62f20-945d-4931-83f3-face2e5ff135",
   "metadata": {
    "tags": []
   },
   "outputs": [
    {
     "name": "stderr",
     "output_type": "stream",
     "text": [
      "C:\\Users\\sszsim\\AppData\\Local\\Temp/ipykernel_9792/3805502502.py:1: UserWarning: Column names longer than 10 characters will be truncated when saved to ESRI Shapefile.\n",
      "  exp_file.to_file(\"./output/shapefiles/\"+typename+date_today+\".shp\", encoding='utf-8')\n"
     ]
    },
    {
     "name": "stdout",
     "output_type": "stream",
     "text": [
      "GPKG exportiert nach: ./output/geopackage/poi_seebad_view_2021-10-08.gpkg\n"
     ]
    }
   ],
   "source": [
    "exp_file.to_file(\"./output/shapefiles/\"+typename+date_today+\".shp\", encoding='utf-8')\n",
    "exp_file.to_file(\"./output/geopackage/\"+typename+date_today+\".gpkg\", driver='GPKG')\n",
    "#gdf_poi_bikepark_view.plot()\n",
    "print(\"GPKG exportiert nach: \"+\"./output/geopackage/\"+typename+date_today+\".gpkg\")"
   ]
  },
  {
   "cell_type": "markdown",
   "id": "888ca99e-db2e-49bc-8863-eb31616fc2a2",
   "metadata": {
    "tags": []
   },
   "source": [
    "### Skateranlage (16)"
   ]
  },
  {
   "cell_type": "code",
   "execution_count": 590,
   "id": "b38e3e29-c770-4d1a-a24b-fcbc05844e4a",
   "metadata": {
    "tags": []
   },
   "outputs": [
    {
     "data": {
      "text/plain": [
       "array(['Freestyleanlage Leimbach', 'Freestyle-Halle Werdhölzli',\n",
       "       'Freestyleanlage Buchlern', 'Freestyleanlage Heerenschürli',\n",
       "       'Freestyleanlage Hohlstrasse', 'Freestyleanlage Fronwald',\n",
       "       'Freestyleanlage Kornhausbrücke', 'Freestyle-Park Allmend'],\n",
       "      dtype=object)"
      ]
     },
     "execution_count": 590,
     "metadata": {},
     "output_type": "execute_result"
    }
   ],
   "source": [
    "url16 = \"https://www.ogd.stadt-zuerich.ch/wfs/geoportal/Sport?service=WFS&version=1.1.0&request=GetFeature&outputFormat=GeoJSON&typename=poi_skateranlage_view\"\n",
    "\n",
    "typename=\"poi_skateranlage_view\"\n",
    "\n",
    "imp_file=\"gdf_\"+typename+\"_wgs84\"\n",
    "exp_file=\"gdf_\"+typename\n",
    "\n",
    "imp_file = gpd.read_file(url16)\n",
    "\n",
    "#imp_file.info()\n",
    "imp_file['name'].unique()\n",
    "#gdf_poi_bikepark_view_wgs84.head()"
   ]
  },
  {
   "cell_type": "markdown",
   "id": "db0bcb46-3032-423a-9eff-65989d524a7e",
   "metadata": {
    "tags": []
   },
   "source": [
    "#### Step2: Datensätze exportieren\n"
   ]
  },
  {
   "cell_type": "code",
   "execution_count": 591,
   "id": "576739c3-ee69-4413-868c-f47bcc4deb09",
   "metadata": {
    "jupyter": {
     "source_hidden": true
    },
    "tags": []
   },
   "outputs": [],
   "source": [
    "exp_file = imp_file.to_crs(epsg=2056)\n",
    "#gdf_poi_bikepark_view['geometry'].head(1)"
   ]
  },
  {
   "cell_type": "markdown",
   "id": "dbefbc43-a6cb-4dee-814f-fcb5ce0c3af1",
   "metadata": {
    "tags": []
   },
   "source": [
    "Speichere den Geodatensatz für Stefanie auf `O:\\GIS\\Daten\\Vektor\\2021\\quartierspiegel` als Shapefile\n",
    "\n",
    "WARTE NOCH AUFS FEEDBACK VON STEFI"
   ]
  },
  {
   "cell_type": "code",
   "execution_count": 592,
   "id": "41379dbb-415a-4643-9c57-83c232db5974",
   "metadata": {
    "tags": []
   },
   "outputs": [
    {
     "name": "stdout",
     "output_type": "stream",
     "text": [
      "//szh/ssz/data/GIS/Daten/Vektor/2021/quartierspiegel/export_poi_skateranlage_view.shp\n"
     ]
    }
   ],
   "source": [
    "#exp_file.to_file(gis_ablagepfad+\"export_\"+typename+\".shp\", encoding='utf-8')\n",
    "print(gis_ablagepfad+\"export_\"+typename+\".shp\")"
   ]
  },
  {
   "cell_type": "markdown",
   "id": "3bb6565d-051b-4347-9cbf-ba2662423c12",
   "metadata": {
    "tags": []
   },
   "source": [
    "Speichere sie auch im Arbeitsverzeichnis als Shapefile und Geopackage ab"
   ]
  },
  {
   "cell_type": "code",
   "execution_count": 593,
   "id": "2d450765-85b3-433c-b6c4-ef2d8fb6de14",
   "metadata": {
    "tags": []
   },
   "outputs": [
    {
     "name": "stderr",
     "output_type": "stream",
     "text": [
      "C:\\Users\\sszsim\\AppData\\Local\\Temp/ipykernel_9792/3805502502.py:1: UserWarning: Column names longer than 10 characters will be truncated when saved to ESRI Shapefile.\n",
      "  exp_file.to_file(\"./output/shapefiles/\"+typename+date_today+\".shp\", encoding='utf-8')\n"
     ]
    },
    {
     "name": "stdout",
     "output_type": "stream",
     "text": [
      "GPKG exportiert nach: ./output/geopackage/poi_skateranlage_view_2021-10-08.gpkg\n"
     ]
    }
   ],
   "source": [
    "exp_file.to_file(\"./output/shapefiles/\"+typename+date_today+\".shp\", encoding='utf-8')\n",
    "exp_file.to_file(\"./output/geopackage/\"+typename+date_today+\".gpkg\", driver='GPKG')\n",
    "#gdf_poi_bikepark_view.plot()\n",
    "print(\"GPKG exportiert nach: \"+\"./output/geopackage/\"+typename+date_today+\".gpkg\")"
   ]
  },
  {
   "cell_type": "code",
   "execution_count": null,
   "id": "58d57977-8845-4533-a9a7-c0d14299eca0",
   "metadata": {},
   "outputs": [],
   "source": []
  },
  {
   "cell_type": "markdown",
   "id": "dcb51722-4fc3-4935-ba6c-6c45f909fd56",
   "metadata": {
    "tags": []
   },
   "source": [
    "### Spielplatz (17)"
   ]
  },
  {
   "cell_type": "code",
   "execution_count": 594,
   "id": "5cdad701-5157-44b5-9f22-acc282012628",
   "metadata": {
    "tags": []
   },
   "outputs": [
    {
     "data": {
      "text/plain": [
       "array(['Manessestrasse / Weststrasse',\n",
       "       'Zurlindenhof I                                                        ',\n",
       "       'Fritschiwiese                                                         ',\n",
       "       'Suunige Hof / Weibelackerstrasse', 'Überdeckung Katzensee',\n",
       "       'Ruggächeranlage                                                       ',\n",
       "       'Holderbachwiese                                                       ',\n",
       "       'Hardaupark                                                            ',\n",
       "       'Irringersteig                                                         ',\n",
       "       'Sportanlage Juchhof                                                   ',\n",
       "       'Quartiertreff Enge                                                    ',\n",
       "       'Fabrik am Wasser                                                      ',\n",
       "       'Opfikonstrasse', 'Frauental Tennisanlag', 'Bachwiesen Grünzug',\n",
       "       'Quartierpark Schütze (A) ', 'Quartierpark Schütze (B)',\n",
       "       'GZ Riesbach (B)', 'Bachtoblerpark', 'Seeburgpark',\n",
       "       'Buchegg Tennisanlage', 'Grünwald', 'Glaubten-Müsel (Nord)',\n",
       "       'Glaubten-Müseli (Süd)',\n",
       "       'Bäckeranlage                                                          ',\n",
       "       'Erismannhof                                                           ',\n",
       "       'Bullingerhof                                                          ',\n",
       "       'Rebenweg                                                              ',\n",
       "       'Entlisberg/Owenweg                                                    ',\n",
       "       'Auf der Egg                                                           ',\n",
       "       'Hallwylstreasse / Schimmelstrasse',\n",
       "       'Steinstrasse / Gotthelfstrasse', 'Weststrasse / Werdstrasse',\n",
       "       'Steinstrasse / Erlachstrasse', 'Manesseplatz',\n",
       "       'Eibenstrasse / Manessestrasse', 'Staffelstrasse 8',\n",
       "       'Zurlindenstrasse (Eingang SPPL)',\n",
       "       'Heiligfeld                                                            ',\n",
       "       'GZ Bachwiesen                                                         ',\n",
       "       'Klingenhof                                                            ',\n",
       "       'Saumackerstrasse                                                      ',\n",
       "       'GZ Hottingen                                                          ',\n",
       "       'Hohenstein                                                            ',\n",
       "       'Hasenrain                                                             ',\n",
       "       'Louis Häfliger Park                                                   ',\n",
       "       'Sportanlage Lengg                                                     ',\n",
       "       'Rote Fabrik                                                           ',\n",
       "       'Langgrüt - Altweg                                                     ',\n",
       "       'Lutherwiese                                                           ',\n",
       "       'Süsslerenanlage                                                       ',\n",
       "       'Pflanzschulwiese                                                      ',\n",
       "       'Kanzleiwiese                                                          ',\n",
       "       'Kasernenareal                                                         ',\n",
       "       'Aemtleranlage                                                         ',\n",
       "       'Gertrudplatz                                                          ',\n",
       "       'Lindenhof                                                             ',\n",
       "       'Urania                                                                ',\n",
       "       'Zurlindenhof II                                                       ',\n",
       "       'Schärrerwiese                                                         ',\n",
       "       'Waidbad                                                               ',\n",
       "       'GZ Neubühl                                                            ',\n",
       "       'Loorenkopf                                                            ',\n",
       "       'Brache Binzmühlestrasse                                               ',\n",
       "       'Tiefenbrunnen (Strandbad)                                             ',\n",
       "       'Siriuswiese                                                           ',\n",
       "       'Schlössliareal                                                        ',\n",
       "       'Stolzewiese                                                           ',\n",
       "       'Möhrlianlage                                                          ',\n",
       "       'Mattenhof                                                             ',\n",
       "       'Ziegelhütte                                                           ',\n",
       "       'GZ Buchegg                                                            ',\n",
       "       'Obere Waidstrasse                                                     ',\n",
       "       'Steinkluppenanlage                                                    ',\n",
       "       'GZ Hirzenbach                                                         ',\n",
       "       'Waldgarten                                                            ',\n",
       "       'Buchlern Sportanlage                                                  ',\n",
       "       'Buchlern                                                              ',\n",
       "       'Bauspielplatz Affoltern                                               ',\n",
       "       'Abenteuerspielplatz Buntspecht                                        ',\n",
       "       'Bauspielplatz Rütihütten                                              ',\n",
       "       'Pfingstweidpark                                                       ',\n",
       "       'Unterer Letten(Freibad)                                               ',\n",
       "       'Mythenquai (Strandbad)                                                ',\n",
       "       'Marktplatz Oerlikon                                                   ',\n",
       "       'Oerlikerpark                                                          ',\n",
       "       'Sihlpromenade                                                         ',\n",
       "       'Klingenpark                                                           ',\n",
       "       'Kürberganlage                                                         ',\n",
       "       'Hardau                                                                ',\n",
       "       'Alfred-Altherr-Terrasse                                               ',\n",
       "       'Beckenhof                                                             ',\n",
       "       'Landenberganlage                                                      ',\n",
       "       'GZ Wipkingen                                                          ',\n",
       "       'Klopstockwiese                                                        ',\n",
       "       'Känguruhwiese                                                         ',\n",
       "       'Roswiesen                                                             ',\n",
       "       'Herzogenmühle                                                         ',\n",
       "       'Föhrenwald                                                            ',\n",
       "       'Saatlen-Grünzug                                                       ',\n",
       "       'Althoos                                                               ',\n",
       "       'Schörli-Grünzug                                                       ',\n",
       "       'Hagenbrünneli                                                         ',\n",
       "       'Letzigraben (Freibad)                                                 ',\n",
       "       'Heuried (Freibad)                                                     ',\n",
       "       'Auhof (Freibad)                                                       ',\n",
       "       'Hallenbad Oerlikon                                                    ',\n",
       "       'Zwischen den Hölzern (Freibad)                                        ',\n",
       "       'Allenmoos (Freibad)                                                   ',\n",
       "       'Seebach (Freibad)                                                     ',\n",
       "       'Eigenheimstrasse / Heimatstrasse',\n",
       "       'Birchwald                                                             ',\n",
       "       'Im Einfang                                                            ',\n",
       "       'Katzensee (Seebad)                                                    ',\n",
       "       'Au-Höngg (Flussbad)                                                   ',\n",
       "       'Quartiertreff Unterstrass                                             ',\n",
       "       'Rieteranlage                                                          ',\n",
       "       'Wasserschöpfi                                                         ',\n",
       "       'Sihlhölzli                                                            ',\n",
       "       'Kollerwiese                                                           ',\n",
       "       'Aegerten                                                              ',\n",
       "       'Triemlifussweg                                                        ',\n",
       "       'Im Gut                                                                ',\n",
       "       'Wiedinghof                                                            ',\n",
       "       'Neunbrunnenanlage                                                     ',\n",
       "       'Emil-Oberhänsli-Anlage                                                ',\n",
       "       'Platzspitz                                                            ',\n",
       "       'Balgrist                                                              ',\n",
       "       'Blatterwiese                                                          ',\n",
       "       'Buchenweg                                                             ',\n",
       "       'GZ Riesbach (A)                                               ',\n",
       "       'Drahtzugstrasse                                                       ',\n",
       "       'Neumünsteranlage                                                      ',\n",
       "       'Schärenmooswiese                                                      ',\n",
       "       'GZ Seebach                                                            ',\n",
       "       'GZ Affoltern                                                          ',\n",
       "       'Wollishofen (Strandbad)                                               ',\n",
       "       'Looächeranlage                                                        ',\n",
       "       'Freizeitanlage Seebach                                                ',\n",
       "       'Lommisweg B                                                           ',\n",
       "       'Lommisweg A                                                           ',\n",
       "       'Rieterpark - Scheideggstrasse                                         ',\n",
       "       'Rieterpark - Gablerstrasse                                            ',\n",
       "       'Heuried Freizeitanlage                                                ',\n",
       "       'Werkhof Zürich Nord                                                   ',\n",
       "       'Bertahof                                                              ',\n",
       "       'Leutschenpark                                                         ',\n",
       "       'Wahlenpark                                                            ',\n",
       "       'Landiwiese',\n",
       "       'Josefswiese                                                           ',\n",
       "       'GZ Loogarten                                                          ',\n",
       "       'Am Suteracher                                                         ',\n",
       "       'Hardhof                                                               ',\n",
       "       'Hardeggstrasse                                                        ',\n",
       "       'Sonnegg/Bauherrenstrasse                                              ',\n",
       "       'Hohenklingen Allee                                                    ',\n",
       "       'GZ Wollishofen                                                        ',\n",
       "       'Muggenbühl                                                            ',\n",
       "       'Murmeliwiese                                                          ',\n",
       "       'Belvoirpark                                                           ',\n",
       "       'Wolfbachtobel                                                         ',\n",
       "       'Untere Zäune                                                          ',\n",
       "       'Kirche Fluntern                                                       ',\n",
       "       'Buchholz                                                              ',\n",
       "       'Artergut                                                              ',\n",
       "       'Hohe Promenade                                                        ',\n",
       "       'Sonnenberg-Terrasse                                                   ',\n",
       "       'Villa Tobler                                                          ',\n",
       "       'Milchbuckanlage                                                       ',\n",
       "       'Lehenanlage                                                           ',\n",
       "       'GZ Heuried Erlebnisgarten                                             ',\n",
       "       'Schindlergut                                                          ',\n",
       "       'GZ Schindlergut                                                       ',\n",
       "       'Andreaspark B                                                         ',\n",
       "       'Andreaspark A                                                         ',\n",
       "       'Eichrain Tennisplatz                                                  '],\n",
       "      dtype=object)"
      ]
     },
     "execution_count": 594,
     "metadata": {},
     "output_type": "execute_result"
    }
   ],
   "source": [
    "url17 = \"https://www.ogd.stadt-zuerich.ch/wfs/geoportal/Spielgeraetekataster?service=WFS&version=1.1.0&request=GetFeature&outputFormat=GeoJSON&typename=poi_spielplatz_view\"\n",
    "\n",
    "typename=\"poi_spielplatz_view\"\n",
    "\n",
    "imp_file=\"gdf_\"+typename+\"_wgs84\"\n",
    "exp_file=\"gdf_\"+typename\n",
    "\n",
    "imp_file = gpd.read_file(url17)\n",
    "\n",
    "#imp_file.info()\n",
    "imp_file['name'].unique()\n",
    "#gdf_poi_bikepark_view_wgs84.head()"
   ]
  },
  {
   "cell_type": "markdown",
   "id": "7175a5f5-b943-4057-b87e-d66120c718d4",
   "metadata": {
    "tags": []
   },
   "source": [
    "#### Step2: Datensätze exportieren\n"
   ]
  },
  {
   "cell_type": "code",
   "execution_count": 595,
   "id": "4167d382-5413-4aae-9deb-60ab8a3eca69",
   "metadata": {
    "jupyter": {
     "source_hidden": true
    },
    "tags": []
   },
   "outputs": [],
   "source": [
    "exp_file = imp_file.to_crs(epsg=2056)\n",
    "#gdf_poi_bikepark_view['geometry'].head(1)"
   ]
  },
  {
   "cell_type": "markdown",
   "id": "6fa74185-78c2-4b9a-8ecf-73c4ad8db073",
   "metadata": {
    "tags": []
   },
   "source": [
    "Speichere den Geodatensatz für Stefanie auf `O:\\GIS\\Daten\\Vektor\\2021\\quartierspiegel` als Shapefile\n",
    "\n",
    "WARTE NOCH AUFS FEEDBACK VON STEFI"
   ]
  },
  {
   "cell_type": "code",
   "execution_count": 596,
   "id": "8a1a80d7-2c84-48d6-ad2c-eab1365ccdae",
   "metadata": {
    "tags": []
   },
   "outputs": [
    {
     "name": "stdout",
     "output_type": "stream",
     "text": [
      "//szh/ssz/data/GIS/Daten/Vektor/2021/quartierspiegel/export_poi_spielplatz_view.shp\n"
     ]
    }
   ],
   "source": [
    "#exp_file.to_file(gis_ablagepfad+\"export_\"+typename+\".shp\", encoding='utf-8')\n",
    "print(gis_ablagepfad+\"export_\"+typename+\".shp\")"
   ]
  },
  {
   "cell_type": "markdown",
   "id": "da2d4d2d-d23f-42c8-8d88-003b3c8f8c7d",
   "metadata": {
    "tags": []
   },
   "source": [
    "Speichere sie auch im Arbeitsverzeichnis als Shapefile und Geopackage ab"
   ]
  },
  {
   "cell_type": "code",
   "execution_count": 597,
   "id": "c0e31a43-b22c-4868-be15-98e93187b3d9",
   "metadata": {
    "tags": []
   },
   "outputs": [
    {
     "name": "stderr",
     "output_type": "stream",
     "text": [
      "C:\\Users\\sszsim\\AppData\\Local\\Temp/ipykernel_9792/3805502502.py:1: UserWarning: Column names longer than 10 characters will be truncated when saved to ESRI Shapefile.\n",
      "  exp_file.to_file(\"./output/shapefiles/\"+typename+date_today+\".shp\", encoding='utf-8')\n"
     ]
    },
    {
     "name": "stdout",
     "output_type": "stream",
     "text": [
      "GPKG exportiert nach: ./output/geopackage/poi_spielplatz_view_2021-10-08.gpkg\n"
     ]
    }
   ],
   "source": [
    "exp_file.to_file(\"./output/shapefiles/\"+typename+date_today+\".shp\", encoding='utf-8')\n",
    "exp_file.to_file(\"./output/geopackage/\"+typename+date_today+\".gpkg\", driver='GPKG')\n",
    "#gdf_poi_bikepark_view.plot()\n",
    "print(\"GPKG exportiert nach: \"+\"./output/geopackage/\"+typename+date_today+\".gpkg\")"
   ]
  },
  {
   "cell_type": "code",
   "execution_count": null,
   "id": "8a32bd94-f65d-40aa-9013-b5c1714c4166",
   "metadata": {},
   "outputs": [],
   "source": []
  },
  {
   "cell_type": "markdown",
   "id": "72a52c97-2234-4ba7-935a-fe404ae5419c",
   "metadata": {
    "tags": []
   },
   "source": [
    "### Sporthalle (18)"
   ]
  },
  {
   "cell_type": "code",
   "execution_count": 598,
   "id": "48b1314e-bcc6-4459-9c37-a97ce3c83631",
   "metadata": {
    "tags": []
   },
   "outputs": [
    {
     "data": {
      "text/plain": [
       "array(['Schul- und Sportanlage Leimbach', 'Sportzentrum Fronwald',\n",
       "       'Dreifachhalle Im Birch', 'Dreifachhalle Hofacker',\n",
       "       'Schul- und Sportanlage Döltschi', 'ASVZ Rämibühl',\n",
       "       'Sport Center Hönggerberg', 'Schul- und Sportanlage Schauenberg',\n",
       "       'Saalsporthalle', 'Dreifachhalle Blumenfeld',\n",
       "       'Schul- und Sportanlage Falletsche',\n",
       "       'Schul- und Sportanlage Buchwiesen', 'Sportzentrum Utogrund',\n",
       "       'Schul- und Sportanlage Stettbach',\n",
       "       'Schul- und Sportanlage Apfelbaum',\n",
       "       'Schul- und Sporthalle Hirzenbach', 'Dreifachhalle Hardau',\n",
       "       'Sportzentrum Sihlhölzli', 'Schul- und Sportanlage Leutschenbach',\n",
       "       'Sportzentrum Josef', 'Einfachhalle Riesbach'], dtype=object)"
      ]
     },
     "execution_count": 598,
     "metadata": {},
     "output_type": "execute_result"
    }
   ],
   "source": [
    "url18 = \"https://www.ogd.stadt-zuerich.ch/wfs/geoportal/Sport?service=WFS&version=1.1.0&request=GetFeature&outputFormat=GeoJSON&typename=poi_sporthalle_view\"\n",
    "\n",
    "typename=\"poi_sporthalle_view\"\n",
    "\n",
    "imp_file=\"gdf_\"+typename+\"_wgs84\"\n",
    "exp_file=\"gdf_\"+typename\n",
    "\n",
    "imp_file = gpd.read_file(url18)\n",
    "\n",
    "#imp_file.info()\n",
    "imp_file['name'].unique()\n",
    "#gdf_poi_bikepark_view_wgs84.head()"
   ]
  },
  {
   "cell_type": "markdown",
   "id": "4ffd45b4-0e6a-4813-bc09-d6f685a3dedb",
   "metadata": {
    "tags": []
   },
   "source": [
    "#### Step2: Datensätze exportieren\n"
   ]
  },
  {
   "cell_type": "code",
   "execution_count": 602,
   "id": "21cb6843-4aa3-4d05-bb81-09b04a3f24d7",
   "metadata": {
    "tags": []
   },
   "outputs": [],
   "source": [
    "exp_file = imp_file.to_crs(epsg=2056)\n",
    "#gdf_poi_bikepark_view['geometry'].head(1)"
   ]
  },
  {
   "cell_type": "markdown",
   "id": "f6e099a7-c354-4cab-8482-717b04368143",
   "metadata": {
    "tags": []
   },
   "source": [
    "Speichere den Geodatensatz für Stefanie auf `O:\\GIS\\Daten\\Vektor\\2021\\quartierspiegel` als Shapefile\n",
    "\n",
    "WARTE NOCH AUFS FEEDBACK VON STEFI"
   ]
  },
  {
   "cell_type": "code",
   "execution_count": 603,
   "id": "21380c18-ee93-490e-939a-103028d192ee",
   "metadata": {
    "tags": []
   },
   "outputs": [
    {
     "name": "stdout",
     "output_type": "stream",
     "text": [
      "//szh/ssz/data/GIS/Daten/Vektor/2021/quartierspiegel/export_poi_sporthalle_view.shp\n"
     ]
    }
   ],
   "source": [
    "#exp_file.to_file(gis_ablagepfad+\"export_\"+typename+\".shp\", encoding='utf-8')\n",
    "print(gis_ablagepfad+\"export_\"+typename+\".shp\")"
   ]
  },
  {
   "cell_type": "markdown",
   "id": "8b82d911-a9e2-4a84-8a74-85475366f884",
   "metadata": {
    "tags": []
   },
   "source": [
    "Speichere sie auch im Arbeitsverzeichnis als Shapefile und Geopackage ab"
   ]
  },
  {
   "cell_type": "code",
   "execution_count": 604,
   "id": "c73b56c4-b3d8-4015-b52f-8874a15d165d",
   "metadata": {
    "tags": []
   },
   "outputs": [
    {
     "name": "stderr",
     "output_type": "stream",
     "text": [
      "C:\\Users\\sszsim\\AppData\\Local\\Temp/ipykernel_9792/3805502502.py:1: UserWarning: Column names longer than 10 characters will be truncated when saved to ESRI Shapefile.\n",
      "  exp_file.to_file(\"./output/shapefiles/\"+typename+date_today+\".shp\", encoding='utf-8')\n"
     ]
    },
    {
     "name": "stdout",
     "output_type": "stream",
     "text": [
      "GPKG exportiert nach: ./output/geopackage/poi_sporthalle_view_2021-10-08.gpkg\n"
     ]
    }
   ],
   "source": [
    "exp_file.to_file(\"./output/shapefiles/\"+typename+date_today+\".shp\", encoding='utf-8')\n",
    "exp_file.to_file(\"./output/geopackage/\"+typename+date_today+\".gpkg\", driver='GPKG')\n",
    "#gdf_poi_bikepark_view.plot()\n",
    "print(\"GPKG exportiert nach: \"+\"./output/geopackage/\"+typename+date_today+\".gpkg\")"
   ]
  },
  {
   "cell_type": "markdown",
   "id": "a4d9bfb2-c91b-435b-92f2-1ed091b975f6",
   "metadata": {
    "tags": []
   },
   "source": [
    "### Stadion (19)"
   ]
  },
  {
   "cell_type": "code",
   "execution_count": 605,
   "id": "0d157342-e468-4ef2-ab13-a8f7f4988b61",
   "metadata": {
    "tags": []
   },
   "outputs": [
    {
     "data": {
      "text/plain": [
       "array(['Stadion Letzigrund'], dtype=object)"
      ]
     },
     "execution_count": 605,
     "metadata": {},
     "output_type": "execute_result"
    }
   ],
   "source": [
    "url19 = \"https://www.ogd.stadt-zuerich.ch/wfs/geoportal/Sport?service=WFS&version=1.1.0&request=GetFeature&outputFormat=GeoJSON&typename=poi_stadion_view\"\n",
    "\n",
    "typename=\"poi_stadion_view\"\n",
    "\n",
    "imp_file=\"gdf_\"+typename+\"_wgs84\"\n",
    "exp_file=\"gdf_\"+typename\n",
    "\n",
    "imp_file = gpd.read_file(url19)\n",
    "\n",
    "#imp_file.info()\n",
    "imp_file['name'].unique()\n",
    "#gdf_poi_bikepark_view_wgs84.head()"
   ]
  },
  {
   "cell_type": "markdown",
   "id": "7e9e6b85-4af9-4a6b-be11-965e582c381e",
   "metadata": {
    "tags": []
   },
   "source": [
    "#### Step2: Datensätze exportieren\n"
   ]
  },
  {
   "cell_type": "code",
   "execution_count": 606,
   "id": "842fc892-2624-49db-b254-4401fe32aa23",
   "metadata": {
    "tags": []
   },
   "outputs": [],
   "source": [
    "exp_file = imp_file.to_crs(epsg=2056)\n",
    "#gdf_poi_bikepark_view['geometry'].head(1)"
   ]
  },
  {
   "cell_type": "markdown",
   "id": "5a16b5c6-8ba2-40f3-822d-2170f1ed86e0",
   "metadata": {
    "tags": []
   },
   "source": [
    "Speichere den Geodatensatz für Stefanie auf `O:\\GIS\\Daten\\Vektor\\2021\\quartierspiegel` als Shapefile\n",
    "\n",
    "WARTE NOCH AUFS FEEDBACK VON STEFI"
   ]
  },
  {
   "cell_type": "code",
   "execution_count": 607,
   "id": "ec606730-90ec-474a-9b67-ef874a6ecd1f",
   "metadata": {
    "tags": []
   },
   "outputs": [
    {
     "name": "stdout",
     "output_type": "stream",
     "text": [
      "//szh/ssz/data/GIS/Daten/Vektor/2021/quartierspiegel/export_poi_stadion_view.shp\n"
     ]
    }
   ],
   "source": [
    "#exp_file.to_file(gis_ablagepfad+\"export_\"+typename+\".shp\", encoding='utf-8')\n",
    "print(gis_ablagepfad+\"export_\"+typename+\".shp\")"
   ]
  },
  {
   "cell_type": "markdown",
   "id": "fb975fda-1d63-4c95-9af0-b4e2947307ec",
   "metadata": {
    "tags": []
   },
   "source": [
    "Speichere sie auch im Arbeitsverzeichnis als Shapefile und Geopackage ab"
   ]
  },
  {
   "cell_type": "code",
   "execution_count": 608,
   "id": "c82f26f0-d1a9-42a1-b52a-2a5ff66b4777",
   "metadata": {
    "tags": []
   },
   "outputs": [
    {
     "name": "stderr",
     "output_type": "stream",
     "text": [
      "C:\\Users\\sszsim\\AppData\\Local\\Temp/ipykernel_9792/3805502502.py:1: UserWarning: Column names longer than 10 characters will be truncated when saved to ESRI Shapefile.\n",
      "  exp_file.to_file(\"./output/shapefiles/\"+typename+date_today+\".shp\", encoding='utf-8')\n"
     ]
    },
    {
     "name": "stdout",
     "output_type": "stream",
     "text": [
      "GPKG exportiert nach: ./output/geopackage/poi_stadion_view_2021-10-08.gpkg\n"
     ]
    }
   ],
   "source": [
    "exp_file.to_file(\"./output/shapefiles/\"+typename+date_today+\".shp\", encoding='utf-8')\n",
    "exp_file.to_file(\"./output/geopackage/\"+typename+date_today+\".gpkg\", driver='GPKG')\n",
    "#gdf_poi_bikepark_view.plot()\n",
    "print(\"GPKG exportiert nach: \"+\"./output/geopackage/\"+typename+date_today+\".gpkg\")"
   ]
  },
  {
   "cell_type": "code",
   "execution_count": null,
   "id": "34803150-12b2-401b-8222-d759a8833633",
   "metadata": {},
   "outputs": [],
   "source": []
  },
  {
   "cell_type": "markdown",
   "id": "9b2eb1e8-e7ec-46c3-a62a-5bdab09ec681",
   "metadata": {
    "tags": []
   },
   "source": [
    "### Tennisplatz (20)"
   ]
  },
  {
   "cell_type": "code",
   "execution_count": 611,
   "id": "117cb4ca-866c-40b1-972a-81dab9882da2",
   "metadata": {
    "tags": []
   },
   "outputs": [
    {
     "data": {
      "text/plain": [
       "array(['Tennisanlage Lengg', 'Tennisanlage Mythenquai',\n",
       "       'Tennisanlage Frauental', 'Tennisanlage Buchlern',\n",
       "       'Tennisanlage Eichrain', 'Tennisanlage Fronwald',\n",
       "       'Tennisanlage Ueberlandstrasse', 'Tennisanlage Hardhof'],\n",
       "      dtype=object)"
      ]
     },
     "execution_count": 611,
     "metadata": {},
     "output_type": "execute_result"
    }
   ],
   "source": [
    "url20 = \"https://www.ogd.stadt-zuerich.ch/wfs/geoportal/Sport?service=WFS&version=1.1.0&request=GetFeature&outputFormat=GeoJSON&typename=poi_tennisplatz_view\"\n",
    "\n",
    "typename=\"poi_tennisplatz_view\"\n",
    "\n",
    "imp_file=\"gdf_\"+typename+\"_wgs84\"\n",
    "exp_file=\"gdf_\"+typename\n",
    "\n",
    "imp_file = gpd.read_file(url20)\n",
    "\n",
    "#imp_file.info()\n",
    "imp_file['name'].unique()\n",
    "#gdf_poi_bikepark_view_wgs84.head()"
   ]
  },
  {
   "cell_type": "markdown",
   "id": "ed756c97-a114-4fc3-87ce-8a3d2f743f9d",
   "metadata": {
    "tags": []
   },
   "source": [
    "#### Step2: Datensätze exportieren\n"
   ]
  },
  {
   "cell_type": "code",
   "execution_count": 612,
   "id": "642be0b0-9419-4c5d-9aa2-6e79c27596d5",
   "metadata": {
    "tags": []
   },
   "outputs": [],
   "source": [
    "exp_file = imp_file.to_crs(epsg=2056)\n",
    "#gdf_poi_bikepark_view['geometry'].head(1)"
   ]
  },
  {
   "cell_type": "markdown",
   "id": "744d4723-9b7e-4459-bec8-df25af008605",
   "metadata": {
    "tags": []
   },
   "source": [
    "Speichere den Geodatensatz für Stefanie auf `O:\\GIS\\Daten\\Vektor\\2021\\quartierspiegel` als Shapefile\n",
    "\n",
    "WARTE NOCH AUFS FEEDBACK VON STEFI"
   ]
  },
  {
   "cell_type": "code",
   "execution_count": 613,
   "id": "a9e1dcce-1899-4bb6-bed1-9087dc135b28",
   "metadata": {
    "tags": []
   },
   "outputs": [
    {
     "name": "stdout",
     "output_type": "stream",
     "text": [
      "//szh/ssz/data/GIS/Daten/Vektor/2021/quartierspiegel/export_poi_tennisplatz_view.shp\n"
     ]
    }
   ],
   "source": [
    "#exp_file.to_file(gis_ablagepfad+\"export_\"+typename+\".shp\", encoding='utf-8')\n",
    "print(gis_ablagepfad+\"export_\"+typename+\".shp\")"
   ]
  },
  {
   "cell_type": "markdown",
   "id": "d88d8077-6353-40d4-b1f4-57fea142d1e2",
   "metadata": {
    "tags": []
   },
   "source": [
    "Speichere sie auch im Arbeitsverzeichnis als Shapefile und Geopackage ab"
   ]
  },
  {
   "cell_type": "code",
   "execution_count": 614,
   "id": "72af877a-ca3d-4834-8664-57b46bda1473",
   "metadata": {
    "tags": []
   },
   "outputs": [
    {
     "name": "stderr",
     "output_type": "stream",
     "text": [
      "C:\\Users\\sszsim\\AppData\\Local\\Temp/ipykernel_9792/3805502502.py:1: UserWarning: Column names longer than 10 characters will be truncated when saved to ESRI Shapefile.\n",
      "  exp_file.to_file(\"./output/shapefiles/\"+typename+date_today+\".shp\", encoding='utf-8')\n"
     ]
    },
    {
     "name": "stdout",
     "output_type": "stream",
     "text": [
      "GPKG exportiert nach: ./output/geopackage/poi_tennisplatz_view_2021-10-08.gpkg\n"
     ]
    }
   ],
   "source": [
    "exp_file.to_file(\"./output/shapefiles/\"+typename+date_today+\".shp\", encoding='utf-8')\n",
    "exp_file.to_file(\"./output/geopackage/\"+typename+date_today+\".gpkg\", driver='GPKG')\n",
    "#gdf_poi_bikepark_view.plot()\n",
    "print(\"GPKG exportiert nach: \"+\"./output/geopackage/\"+typename+date_today+\".gpkg\")"
   ]
  },
  {
   "cell_type": "code",
   "execution_count": null,
   "id": "dcdd9595-78e8-4cda-821a-76b12b251abf",
   "metadata": {},
   "outputs": [],
   "source": []
  },
  {
   "cell_type": "markdown",
   "id": "a5a1b2e6-b667-4e13-93be-9cb5b634d20e",
   "metadata": {
    "tags": []
   },
   "source": [
    "### Waldhütte (21)"
   ]
  },
  {
   "cell_type": "code",
   "execution_count": 615,
   "id": "1c9ffb3a-91bc-409f-91cb-bea1d54ceb63",
   "metadata": {
    "tags": []
   },
   "outputs": [
    {
     "data": {
      "text/plain": [
       "array(['Waldhütte Escherhöhe', 'Waldhüsli', 'Moosholz', 'Huebbach',\n",
       "       'Hasenrain', 'Forsthaus Frauenmatt', 'Loorenkopf, Adlisberg',\n",
       "       'Adlisberghütte', 'Köhlerstrasse', 'Buschberg',\n",
       "       'Hohensteinstrasse', 'Annaburg', 'Elefant', 'Stöckentobelhütte',\n",
       "       'Tscharli Platz', 'Waldhütte Ziegelhöhe'], dtype=object)"
      ]
     },
     "execution_count": 615,
     "metadata": {},
     "output_type": "execute_result"
    }
   ],
   "source": [
    "url21 = \"https://www.ogd.stadt-zuerich.ch/wfs/geoportal/Erholungs__und_Sporteinrichtungen?service=WFS&version=1.1.0&request=GetFeature&outputFormat=GeoJSON&typename=poi_waldhuette_view\"\n",
    "\n",
    "typename=\"poi_waldhuette_view\"\n",
    "\n",
    "imp_file=\"gdf_\"+typename+\"_wgs84\"\n",
    "exp_file=\"gdf_\"+typename\n",
    "\n",
    "imp_file = gpd.read_file(url21)\n",
    "\n",
    "#imp_file.info()\n",
    "imp_file['name'].unique()\n",
    "#gdf_poi_bikepark_view_wgs84.head()"
   ]
  },
  {
   "cell_type": "markdown",
   "id": "1e9c8123-5eb4-471f-95ff-015fab73b392",
   "metadata": {
    "tags": []
   },
   "source": [
    "#### Step2: Datensätze exportieren\n"
   ]
  },
  {
   "cell_type": "code",
   "execution_count": 616,
   "id": "f659f51b-8451-4dc2-a509-35776eaf198d",
   "metadata": {
    "tags": []
   },
   "outputs": [],
   "source": [
    "exp_file = imp_file.to_crs(epsg=2056)\n",
    "#gdf_poi_bikepark_view['geometry'].head(1)"
   ]
  },
  {
   "cell_type": "markdown",
   "id": "cd0ecad5-5734-47eb-bebf-62172af54ffe",
   "metadata": {
    "tags": []
   },
   "source": [
    "Speichere den Geodatensatz für Stefanie auf `O:\\GIS\\Daten\\Vektor\\2021\\quartierspiegel` als Shapefile\n",
    "\n",
    "WARTE NOCH AUFS FEEDBACK VON STEFI"
   ]
  },
  {
   "cell_type": "code",
   "execution_count": 617,
   "id": "56ba6d47-e9b7-4c5f-bf6a-f93280d556ae",
   "metadata": {
    "tags": []
   },
   "outputs": [
    {
     "name": "stdout",
     "output_type": "stream",
     "text": [
      "//szh/ssz/data/GIS/Daten/Vektor/2021/quartierspiegel/export_poi_waldhuette_view.shp\n"
     ]
    }
   ],
   "source": [
    "#exp_file.to_file(gis_ablagepfad+\"export_\"+typename+\".shp\", encoding='utf-8')\n",
    "print(gis_ablagepfad+\"export_\"+typename+\".shp\")"
   ]
  },
  {
   "cell_type": "markdown",
   "id": "6528d8cc-10fb-409f-aec6-f42fd7224334",
   "metadata": {
    "tags": []
   },
   "source": [
    "Speichere sie auch im Arbeitsverzeichnis als Shapefile und Geopackage ab"
   ]
  },
  {
   "cell_type": "code",
   "execution_count": 618,
   "id": "c1ae7005-3e90-4005-8f2f-d9b98be43914",
   "metadata": {
    "tags": []
   },
   "outputs": [
    {
     "name": "stderr",
     "output_type": "stream",
     "text": [
      "C:\\Users\\sszsim\\AppData\\Local\\Temp/ipykernel_9792/3805502502.py:1: UserWarning: Column names longer than 10 characters will be truncated when saved to ESRI Shapefile.\n",
      "  exp_file.to_file(\"./output/shapefiles/\"+typename+date_today+\".shp\", encoding='utf-8')\n"
     ]
    },
    {
     "name": "stdout",
     "output_type": "stream",
     "text": [
      "GPKG exportiert nach: ./output/geopackage/poi_waldhuette_view_2021-10-08.gpkg\n"
     ]
    }
   ],
   "source": [
    "exp_file.to_file(\"./output/shapefiles/\"+typename+date_today+\".shp\", encoding='utf-8')\n",
    "exp_file.to_file(\"./output/geopackage/\"+typename+date_today+\".gpkg\", driver='GPKG')\n",
    "#gdf_poi_bikepark_view.plot()\n",
    "print(\"GPKG exportiert nach: \"+\"./output/geopackage/\"+typename+date_today+\".gpkg\")"
   ]
  },
  {
   "cell_type": "code",
   "execution_count": null,
   "id": "a7e51dcd-8cfe-4f2e-987b-ee2234071c9b",
   "metadata": {},
   "outputs": [],
   "source": []
  },
  {
   "cell_type": "markdown",
   "id": "7b399498-fb5b-4491-b1f4-843abfab86a2",
   "metadata": {
    "tags": []
   },
   "source": [
    "### Zürifit (22)"
   ]
  },
  {
   "cell_type": "code",
   "execution_count": 619,
   "id": "8131146e-a7f9-494e-a435-992155e9a1e2",
   "metadata": {
    "tags": []
   },
   "outputs": [
    {
     "data": {
      "text/plain": [
       "array(['Zürifit Neunbrunnenstrasse', 'Zürifit Irchelpark',\n",
       "       'Zürifit Hardhof', 'Zürifit Brunau'], dtype=object)"
      ]
     },
     "execution_count": 619,
     "metadata": {},
     "output_type": "execute_result"
    }
   ],
   "source": [
    "url22 = \"https://www.ogd.stadt-zuerich.ch/wfs/geoportal/Sport?service=WFS&version=1.1.0&request=GetFeature&outputFormat=GeoJSON&typename=poi_zuerifit_view\"\n",
    "\n",
    "typename=\"poi_zuerifit_view\"\n",
    "\n",
    "imp_file=\"gdf_\"+typename+\"_wgs84\"\n",
    "exp_file=\"gdf_\"+typename\n",
    "\n",
    "imp_file = gpd.read_file(url22)\n",
    "\n",
    "#imp_file.info()\n",
    "imp_file['name'].unique()\n",
    "#gdf_poi_bikepark_view_wgs84.head()"
   ]
  },
  {
   "cell_type": "markdown",
   "id": "64fb9f72-3de5-44b6-b10c-1f96ec2c08f4",
   "metadata": {
    "tags": []
   },
   "source": [
    "#### Step2: Datensätze exportieren\n"
   ]
  },
  {
   "cell_type": "code",
   "execution_count": 620,
   "id": "0b447cbf-8e01-41c2-97cc-43e086f3e14e",
   "metadata": {
    "tags": []
   },
   "outputs": [],
   "source": [
    "exp_file = imp_file.to_crs(epsg=2056)\n",
    "#gdf_poi_bikepark_view['geometry'].head(1)"
   ]
  },
  {
   "cell_type": "markdown",
   "id": "fbe655c9-497c-42d5-a8d6-582b5427afa1",
   "metadata": {
    "tags": []
   },
   "source": [
    "Speichere den Geodatensatz für Stefanie auf `O:\\GIS\\Daten\\Vektor\\2021\\quartierspiegel` als Shapefile\n",
    "\n",
    "WARTE NOCH AUFS FEEDBACK VON STEFI"
   ]
  },
  {
   "cell_type": "code",
   "execution_count": 621,
   "id": "f777c6ae-3896-4fa6-9c14-ec503adebc24",
   "metadata": {
    "tags": []
   },
   "outputs": [
    {
     "name": "stdout",
     "output_type": "stream",
     "text": [
      "//szh/ssz/data/GIS/Daten/Vektor/2021/quartierspiegel/export_poi_zuerifit_view.shp\n"
     ]
    }
   ],
   "source": [
    "#exp_file.to_file(gis_ablagepfad+\"export_\"+typename+\".shp\", encoding='utf-8')\n",
    "print(gis_ablagepfad+\"export_\"+typename+\".shp\")"
   ]
  },
  {
   "cell_type": "markdown",
   "id": "5857bf68-e461-4c68-8d2f-0e64b77e943a",
   "metadata": {
    "tags": []
   },
   "source": [
    "Speichere sie auch im Arbeitsverzeichnis als Shapefile und Geopackage ab"
   ]
  },
  {
   "cell_type": "code",
   "execution_count": 622,
   "id": "a749608a-55dd-46bf-8ec6-8bfea86cfe6d",
   "metadata": {
    "tags": []
   },
   "outputs": [
    {
     "name": "stderr",
     "output_type": "stream",
     "text": [
      "C:\\Users\\sszsim\\AppData\\Local\\Temp/ipykernel_9792/3805502502.py:1: UserWarning: Column names longer than 10 characters will be truncated when saved to ESRI Shapefile.\n",
      "  exp_file.to_file(\"./output/shapefiles/\"+typename+date_today+\".shp\", encoding='utf-8')\n"
     ]
    },
    {
     "name": "stdout",
     "output_type": "stream",
     "text": [
      "GPKG exportiert nach: ./output/geopackage/poi_zuerifit_view_2021-10-08.gpkg\n"
     ]
    }
   ],
   "source": [
    "exp_file.to_file(\"./output/shapefiles/\"+typename+date_today+\".shp\", encoding='utf-8')\n",
    "exp_file.to_file(\"./output/geopackage/\"+typename+date_today+\".gpkg\", driver='GPKG')\n",
    "#gdf_poi_bikepark_view.plot()\n",
    "print(\"GPKG exportiert nach: \"+\"./output/geopackage/\"+typename+date_today+\".gpkg\")"
   ]
  },
  {
   "cell_type": "markdown",
   "id": "30c2c3b8-8c28-4681-b56b-2bf90e47eacb",
   "metadata": {
    "tags": []
   },
   "source": [
    "### ----------------------------------------\n",
    "### Vorlage (X)"
   ]
  },
  {
   "cell_type": "markdown",
   "id": "12f2c4d2-2850-48b8-b6df-fe4c3cbcbd40",
   "metadata": {
    "tags": []
   },
   "source": [
    "#### Step 1: Daten vom Geoportal beziehen und prüfen.\n",
    "\n",
    "- url(X) --> Definiere die URL für den GEOJSON-Service\n",
    "- typename --> Definiere den Layernamen. Kann an diversen Orten verwendet werden\n",
    "- imp_name --> Leite den importierten Datensatznamen davon ab und ergänze wgs84\n",
    "- exp_name --> ohne wgs84. soll heissen er ist per default lv95"
   ]
  },
  {
   "cell_type": "code",
   "execution_count": 487,
   "id": "6c891750-62f3-414c-8a47-9b06538fc616",
   "metadata": {
    "collapsed": true,
    "jupyter": {
     "outputs_hidden": true
    },
    "tags": []
   },
   "outputs": [
    {
     "data": {
      "text/plain": [
       "array(['Bike-Park Allmend', 'Pumptrack Heuried'], dtype=object)"
      ]
     },
     "execution_count": 487,
     "metadata": {},
     "output_type": "execute_result"
    }
   ],
   "source": [
    "urlX = \"https://www.ogd.stadt-zuerich.ch/wfs/geoportal/Sport?service=WFS&version=1.1.0&request=GetFeature&outputFormat=GeoJSON&typename=X\"\n",
    "\n",
    "typename=\"X\"\n",
    "\n",
    "imp_file=\"gdf_\"+typename+\"_wgs84\"\n",
    "exp_file=\"gdf_\"+typename\n",
    "\n",
    "imp_file = gpd.read_file(url4)\n",
    "\n",
    "#imp_file.info()\n",
    "imp_file['name'].unique()\n",
    "#gdf_poi_bikepark_view_wgs84.head()"
   ]
  },
  {
   "cell_type": "markdown",
   "id": "13a132cd-b121-4bf9-8bde-8476953d6903",
   "metadata": {
    "tags": []
   },
   "source": [
    "#### Step2: Datensätze exportieren\n"
   ]
  },
  {
   "cell_type": "code",
   "execution_count": 488,
   "id": "c3d93188-ad16-41a6-aee1-0198a3f1d59d",
   "metadata": {
    "tags": []
   },
   "outputs": [],
   "source": [
    "exp_file = imp_file.to_crs(epsg=2056)\n",
    "#gdf_poi_bikepark_view['geometry'].head(1)"
   ]
  },
  {
   "cell_type": "markdown",
   "id": "dea623ca-f8d8-4e36-8704-370c7766d3a7",
   "metadata": {
    "tags": []
   },
   "source": [
    "Speichere den Geodatensatz für Stefanie auf `O:\\GIS\\Daten\\Vektor\\2021\\quartierspiegel` als Shapefile\n",
    "\n",
    "WARTE NOCH AUFS FEEDBACK VON STEFI"
   ]
  },
  {
   "cell_type": "code",
   "execution_count": 489,
   "id": "8bf6321b-0865-4585-9e21-c4a74661ed22",
   "metadata": {
    "jupyter": {
     "source_hidden": true
    },
    "tags": []
   },
   "outputs": [
    {
     "name": "stdout",
     "output_type": "stream",
     "text": [
      "//szh/ssz/data/GIS/Daten/Vektor/2021/quartierspiegel/export_poi_bikepark_view.shp\n"
     ]
    }
   ],
   "source": [
    "#exp_file.to_file(gis_ablagepfad+\"export_\"+typename+\".shp\", encoding='utf-8')\n",
    "print(gis_ablagepfad+\"export_\"+typename+\".shp\")"
   ]
  },
  {
   "cell_type": "markdown",
   "id": "a8044a91-14da-49d6-80ff-b56b824bf4fd",
   "metadata": {
    "jupyter": {
     "source_hidden": true
    },
    "tags": []
   },
   "source": [
    "Speichere sie auch im Arbeitsverzeichnis als Shapefile und Geopackage ab"
   ]
  },
  {
   "cell_type": "code",
   "execution_count": 490,
   "id": "68327e7b-1169-452f-808f-1a802cbe3e06",
   "metadata": {
    "jupyter": {
     "source_hidden": true
    },
    "tags": []
   },
   "outputs": [
    {
     "name": "stderr",
     "output_type": "stream",
     "text": [
      "C:\\Users\\sszsim\\AppData\\Local\\Temp/ipykernel_9792/2296635697.py:1: UserWarning: Column names longer than 10 characters will be truncated when saved to ESRI Shapefile.\n",
      "  exp_file.to_file(\"./output/shapefiles/\"+typename+date_today+\".shp\", encoding='utf-8')\n"
     ]
    }
   ],
   "source": [
    "exp_file.to_file(\"./output/shapefiles/\"+typename+date_today+\".shp\", encoding='utf-8')\n",
    "exp_file.to_file(\"./output/geopackage/\"+typename+date_today+\".gpkg\", driver='GPKG')\n",
    "#gdf_poi_bikepark_view.plot()\n",
    "print(\"GPKG exportiert nach: \"+\"./output/geopackage/\"+typename+date_today+\".gpkg\")"
   ]
  },
  {
   "cell_type": "code",
   "execution_count": null,
   "id": "d2fd0d83-0327-4388-82c9-25cc85e17e4f",
   "metadata": {},
   "outputs": [],
   "source": []
  },
  {
   "cell_type": "code",
   "execution_count": null,
   "id": "edf85622-024f-4f18-a354-2a764ccc8477",
   "metadata": {},
   "outputs": [],
   "source": []
  },
  {
   "cell_type": "code",
   "execution_count": null,
   "id": "d9759f2e-4af3-427f-ad98-ef376504da2c",
   "metadata": {},
   "outputs": [],
   "source": []
  }
 ],
 "metadata": {
  "kernelspec": {
   "display_name": "Python 3 (ipykernel)",
   "language": "python",
   "name": "python3"
  },
  "language_info": {
   "codemirror_mode": {
    "name": "ipython",
    "version": 3
   },
   "file_extension": ".py",
   "mimetype": "text/x-python",
   "name": "python",
   "nbconvert_exporter": "python",
   "pygments_lexer": "ipython3",
   "version": "3.9.7"
  }
 },
 "nbformat": 4,
 "nbformat_minor": 5
}
