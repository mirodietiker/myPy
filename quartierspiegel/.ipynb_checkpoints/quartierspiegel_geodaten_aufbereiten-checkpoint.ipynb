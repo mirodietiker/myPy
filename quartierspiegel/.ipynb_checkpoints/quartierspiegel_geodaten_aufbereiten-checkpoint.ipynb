{
 "cells": [
  {
   "cell_type": "markdown",
   "id": "cf03581b",
   "metadata": {},
   "source": [
    "# Geodaten für Updates der Quartierspiegel aufbereiten\n",
    "Datum: 07.10.2021\n",
    "\n",
    "Mit Colab kann **dieses Jupyter-Notebook interaktiv im Browser** gestartet werden:\n",
    "[![Open In Colab](https://colab.research.google.com/assets/colab-badge.svg)](https://colab.research.google.com/github/DonGoginho/myPy/blob/main/quartierspiegel/quartierspiegel_geodaten_aufbereiten.ipynb)\n",
    "\n",
    "## Lebensqualitätskarten in den [Quartierspiegeln](https://www.stadt-zuerich.ch/prd/de/index/statistik/publikationen-angebote/publikationen/Quartierspiegel.html)\n",
    "\n",
    "Für diese Karte werden diverse POIs ausgelesen und als Punkte dargestellt. Damit die Statistik der POIs im Bericht ausgewertet werden kann, hat Stefanie ein R-Skript erstellt, mit dem sie Auswertungen zu den POIs macht. Dazu braucht sie Shapefiles, die vom Geoserver exportiert und historisiert abgespeichert werden.\n",
    "\n",
    "Bisher habe ich dazu ein Skipt verwendet. Damit dieser Prozess noch transparenter und einfacher wird, erstelle ich nun dieses Notebook.\n",
    "\n",
    "Die QGIS-Projekte für die Quartierspiegel sind unter \n",
    "- `O:\\GIS\\Sandbox\\*JAHR*\\quartierspiegel\\minimaps` abgelegt.\n",
    "\n",
    "Dieses Notebook hilft die in der Karte aktiven Layer – die für die Karte vom [**Geoserver**](https://www.stadt-zuerich.ch/geodaten/) als View bezogen sind – als shp zu exportieren.\n",
    "\n",
    "<!---  \n",
    "Dieses Notebook verwendet als Vorlage die Webseite «[Kitas in Berlin - Jupyter Notebook](https://juanitorduz.github.io/kitas_berlin/)» \n",
    "---!>"
   ]
  },
  {
   "cell_type": "markdown",
   "id": "47aca306",
   "metadata": {},
   "source": [
    "## Importiere notwendige Packages:"
   ]
  },
  {
   "cell_type": "code",
   "execution_count": 164,
   "id": "141ab7e4",
   "metadata": {},
   "outputs": [
    {
     "name": "stdout",
     "output_type": "stream",
     "text": [
      "Requirement already satisfied: geopandas in c:\\programdata\\anaconda3\\envs\\gis_env\\lib\\site-packages (0.9.0)Note: you may need to restart the kernel to use updated packages.\n",
      "\n",
      "Requirement already satisfied: altair in c:\\programdata\\anaconda3\\envs\\gis_env\\lib\\site-packages (4.1.0)\n",
      "Requirement already satisfied: fiona in c:\\programdata\\anaconda3\\envs\\gis_env\\lib\\site-packages (1.8.20)\n",
      "Requirement already satisfied: requests in c:\\programdata\\anaconda3\\envs\\gis_env\\lib\\site-packages (2.26.0)\n",
      "Requirement already satisfied: folium in c:\\programdata\\anaconda3\\envs\\gis_env\\lib\\site-packages (0.0.0)\n",
      "Requirement already satisfied: mplleaflet in c:\\programdata\\anaconda3\\envs\\gis_env\\lib\\site-packages (0.0.5)\n",
      "Requirement already satisfied: contextily in c:\\programdata\\anaconda3\\envs\\gis_env\\lib\\site-packages (1.1.0)\n",
      "Requirement already satisfied: seaborn in c:\\programdata\\anaconda3\\envs\\gis_env\\lib\\site-packages (0.11.2)\n",
      "Requirement already satisfied: datetime in c:\\programdata\\anaconda3\\envs\\gis_env\\lib\\site-packages (4.3)\n",
      "Requirement already satisfied: shapely>=1.6 in c:\\programdata\\anaconda3\\envs\\gis_env\\lib\\site-packages (from geopandas) (1.7.1)\n",
      "Requirement already satisfied: pandas>=0.24.0 in c:\\programdata\\anaconda3\\envs\\gis_env\\lib\\site-packages (from geopandas) (1.3.2)\n",
      "Requirement already satisfied: pyproj>=2.2.0 in c:\\programdata\\anaconda3\\envs\\gis_env\\lib\\site-packages (from geopandas) (3.2.0)\n",
      "Requirement already satisfied: jinja2 in c:\\programdata\\anaconda3\\envs\\gis_env\\lib\\site-packages (from altair) (3.0.1)\n",
      "Requirement already satisfied: toolz in c:\\programdata\\anaconda3\\envs\\gis_env\\lib\\site-packages (from altair) (0.11.1)\n",
      "Requirement already satisfied: entrypoints in c:\\programdata\\anaconda3\\envs\\gis_env\\lib\\site-packages (from altair) (0.3)\n",
      "Requirement already satisfied: jsonschema in c:\\programdata\\anaconda3\\envs\\gis_env\\lib\\site-packages (from altair) (3.2.0)\n",
      "Requirement already satisfied: numpy in c:\\programdata\\anaconda3\\envs\\gis_env\\lib\\site-packages (from altair) (1.21.2)\n",
      "Requirement already satisfied: attrs>=17 in c:\\programdata\\anaconda3\\envs\\gis_env\\lib\\site-packages (from fiona) (21.2.0)\n",
      "Requirement already satisfied: certifi in c:\\programdata\\anaconda3\\envs\\gis_env\\lib\\site-packages (from fiona) (2021.5.30)\n",
      "Requirement already satisfied: click>=4.0 in c:\\programdata\\anaconda3\\envs\\gis_env\\lib\\site-packages (from fiona) (7.1.2)\n",
      "Requirement already satisfied: cligj>=0.5 in c:\\programdata\\anaconda3\\envs\\gis_env\\lib\\site-packages (from fiona) (0.7.2)\n",
      "Requirement already satisfied: click-plugins>=1.0 in c:\\programdata\\anaconda3\\envs\\gis_env\\lib\\site-packages (from fiona) (1.1.1)\n",
      "Requirement already satisfied: six>=1.7 in c:\\programdata\\anaconda3\\envs\\gis_env\\lib\\site-packages (from fiona) (1.16.0)\n",
      "Requirement already satisfied: munch in c:\\programdata\\anaconda3\\envs\\gis_env\\lib\\site-packages (from fiona) (2.5.0)\n",
      "Requirement already satisfied: setuptools in c:\\programdata\\anaconda3\\envs\\gis_env\\lib\\site-packages (from fiona) (58.0.4)\n",
      "Requirement already satisfied: charset-normalizer~=2.0.0 in c:\\programdata\\anaconda3\\envs\\gis_env\\lib\\site-packages (from requests) (2.0.0)\n",
      "Requirement already satisfied: urllib3<1.27,>=1.21.1 in c:\\programdata\\anaconda3\\envs\\gis_env\\lib\\site-packages (from requests) (1.26.6)\n",
      "Requirement already satisfied: idna<4,>=2.5 in c:\\programdata\\anaconda3\\envs\\gis_env\\lib\\site-packages (from requests) (3.1)\n",
      "Requirement already satisfied: branca>=0.3.0 in c:\\programdata\\anaconda3\\envs\\gis_env\\lib\\site-packages (from folium) (0.4.2)\n",
      "Requirement already satisfied: matplotlib in c:\\programdata\\anaconda3\\envs\\gis_env\\lib\\site-packages (from contextily) (3.4.3)\n",
      "Requirement already satisfied: mercantile in c:\\programdata\\anaconda3\\envs\\gis_env\\lib\\site-packages (from contextily) (1.2.1)\n",
      "Requirement already satisfied: rasterio in c:\\programdata\\anaconda3\\envs\\gis_env\\lib\\site-packages (from contextily) (1.2.8)\n",
      "Requirement already satisfied: pillow in c:\\programdata\\anaconda3\\envs\\gis_env\\lib\\site-packages (from contextily) (8.3.2)\n",
      "Requirement already satisfied: geopy in c:\\programdata\\anaconda3\\envs\\gis_env\\lib\\site-packages (from contextily) (2.2.0)\n",
      "Requirement already satisfied: joblib in c:\\programdata\\anaconda3\\envs\\gis_env\\lib\\site-packages (from contextily) (1.0.1)\n",
      "Requirement already satisfied: scipy>=1.0 in c:\\programdata\\anaconda3\\envs\\gis_env\\lib\\site-packages (from seaborn) (1.7.1)\n",
      "Requirement already satisfied: pytz in c:\\programdata\\anaconda3\\envs\\gis_env\\lib\\site-packages (from datetime) (2021.1)\n",
      "Requirement already satisfied: zope.interface in c:\\programdata\\anaconda3\\envs\\gis_env\\lib\\site-packages (from datetime) (5.4.0)\n",
      "Requirement already satisfied: MarkupSafe>=2.0 in c:\\programdata\\anaconda3\\envs\\gis_env\\lib\\site-packages (from jinja2->altair) (2.0.1)\n",
      "Requirement already satisfied: cycler>=0.10 in c:\\programdata\\anaconda3\\envs\\gis_env\\lib\\site-packages (from matplotlib->contextily) (0.10.0)\n",
      "Requirement already satisfied: python-dateutil>=2.7 in c:\\programdata\\anaconda3\\envs\\gis_env\\lib\\site-packages (from matplotlib->contextily) (2.8.2)\n",
      "Requirement already satisfied: kiwisolver>=1.0.1 in c:\\programdata\\anaconda3\\envs\\gis_env\\lib\\site-packages (from matplotlib->contextily) (1.3.2)\n",
      "Requirement already satisfied: pyparsing>=2.2.1 in c:\\programdata\\anaconda3\\envs\\gis_env\\lib\\site-packages (from matplotlib->contextily) (2.4.7)\n",
      "Requirement already satisfied: geographiclib<2,>=1.49 in c:\\programdata\\anaconda3\\envs\\gis_env\\lib\\site-packages (from geopy->contextily) (1.52)\n",
      "Requirement already satisfied: pyrsistent>=0.14.0 in c:\\programdata\\anaconda3\\envs\\gis_env\\lib\\site-packages (from jsonschema->altair) (0.17.3)\n",
      "Requirement already satisfied: affine in c:\\programdata\\anaconda3\\envs\\gis_env\\lib\\site-packages (from rasterio->contextily) (2.3.0)\n",
      "Requirement already satisfied: snuggs>=1.4.1 in c:\\programdata\\anaconda3\\envs\\gis_env\\lib\\site-packages (from rasterio->contextily) (1.4.7)\n"
     ]
    }
   ],
   "source": [
    "pip install geopandas altair fiona requests folium mplleaflet contextily seaborn datetime"
   ]
  },
  {
   "cell_type": "code",
   "execution_count": 267,
   "id": "e5ce7858",
   "metadata": {},
   "outputs": [],
   "source": [
    "import numpy as np\n",
    "import pandas as pd\n",
    "import geopandas as gpd\n",
    "import altair as alt\n",
    "import fiona\n",
    "import requests\n",
    "import mplleaflet\n",
    "import matplotlib.pyplot as plt\n",
    "import matplotlib.ticker as mtick\n",
    "import seaborn as sns\n",
    "from datetime import datetime\n"
   ]
  },
  {
   "cell_type": "markdown",
   "id": "0b053aba",
   "metadata": {},
   "source": [
    "## Datenaufbereitung"
   ]
  },
  {
   "cell_type": "markdown",
   "id": "0ff13dcd-4603-4422-be4f-33a6d3c61633",
   "metadata": {},
   "source": [
    "### Globale Variabeln"
   ]
  },
  {
   "cell_type": "markdown",
   "id": "bee58876-8627-45ad-88d2-0ab404a6a72f",
   "metadata": {},
   "source": [
    "Als Zeitvariable berechnen wir erst mal das heutige Datum. Wir können diese Werte als Dateinamen verwenden.\n",
    "\n",
    "**Steuerungsvariable activate_date**: \n",
    "- False: in den Filenamen kommen beim Export KEINE Datenangaben mit\n",
    "- True: die Exportfiles haben *FILENAMEN_DATUM* im Namen"
   ]
  },
  {
   "cell_type": "code",
   "execution_count": 369,
   "id": "c3f2b356-d70e-4b93-b07d-a87aedcb9271",
   "metadata": {},
   "outputs": [],
   "source": [
    "activate_date = False;\n",
    "\n",
    "\n",
    "#https://www.programiz.com/python-programming/datetime/strftime\n",
    "now = datetime.now() # current date and time\n",
    "year_today = now.strftime(\"%Y\")\n",
    "\n",
    "if activate_date == True:\n",
    "    date_today = \"_\"+now.strftime(\"%Y-%m-%d\")\n",
    "    #store_o_gis = False\n",
    "    \n",
    "else:\n",
    "    date_today =\"\"\n",
    "    #store_o_gis = True\n"
   ]
  },
  {
   "cell_type": "code",
   "execution_count": 370,
   "id": "bbd11a0e-0709-4bd2-bc16-73ef5f2e4a4a",
   "metadata": {},
   "outputs": [
    {
     "name": "stdout",
     "output_type": "stream",
     "text": [
      "Datum:  Jahr: 2021\n"
     ]
    }
   ],
   "source": [
    "print(\"Datum: \"+date_today +\" Jahr: \"+year_today)"
   ]
  },
  {
   "cell_type": "markdown",
   "id": "c93e08f3-adc8-4a70-8124-b10ace287d12",
   "metadata": {},
   "source": [
    "### Pfade\n"
   ]
  },
  {
   "cell_type": "code",
   "execution_count": 371,
   "id": "c3774275-7289-412b-a097-65a9130df05f",
   "metadata": {},
   "outputs": [
    {
     "name": "stdout",
     "output_type": "stream",
     "text": [
      "//szh/ssz/data/GIS/Daten/Vektor/2021/quartierspiegel/\n"
     ]
    }
   ],
   "source": [
    "gis_ablagepfad = \"//szh/ssz/data/GIS/Daten/Vektor/\"+year_today+\"/quartierspiegel/\"\n",
    "print(gis_ablagepfad )\n"
   ]
  },
  {
   "cell_type": "markdown",
   "id": "279d8cac-e767-4ec5-820d-b9956309cf28",
   "metadata": {},
   "source": [
    "### Basis Geodaten"
   ]
  },
  {
   "cell_type": "markdown",
   "id": "650d06a3",
   "metadata": {},
   "source": [
    "Für grundsätzliche räumliche Prüfungen importieren wir hier auch die \n",
    "- **Statistischen Quartiere**\n",
    "- **Stadtgrenze** (aus der SSZ-Geodatenablage)\n",
    "\n"
   ]
  },
  {
   "cell_type": "code",
   "execution_count": 271,
   "id": "46e90ca3",
   "metadata": {},
   "outputs": [
    {
     "name": "stdout",
     "output_type": "stream",
     "text": [
      "done\n"
     ]
    }
   ],
   "source": [
    "# Read abt. Geopandas https://geopandas.org/docs/user_guide/io.html\n",
    "url0 = \"https://www.ogd.stadt-zuerich.ch/wfs/geoportal/Statistische_Quartiere?service=WFS&version=1.1.0&request=GetFeature&outputFormat=GeoJSON&typename=adm_statistische_quartiere_map\"\n",
    "gdf_adm_statistische_quartiere_map = gpd.read_file(url0)\n",
    "print('done')"
   ]
  },
  {
   "cell_type": "code",
   "execution_count": 272,
   "id": "0f404b96-897a-4fca-bcf9-ad01b5d3ecfe",
   "metadata": {},
   "outputs": [
    {
     "name": "stdout",
     "output_type": "stream",
     "text": [
      "done\n"
     ]
    }
   ],
   "source": [
    "# Read abt. Geopandas https://geopandas.org/docs/user_guide/io.html\n",
    "pfad_grenze = r\"\\\\szh\\ssz\\data\\GIS\\Daten\\Vektor\\_aktuell\\adm_stadtgrenze_a.shp\"\n",
    "gdf_adm_stadtgrenze_lv95 = gpd.read_file(pfad_grenze)\n",
    "\n",
    "gdf_adm_stadtgrenze_wgs84_all =gdf_adm_stadtgrenze_lv95.to_crs(epsg=4326)\n",
    "\n",
    "print('done')\n"
   ]
  },
  {
   "cell_type": "code",
   "execution_count": 273,
   "id": "b12b52a2-b1c3-466d-a153-cbdbe00411e7",
   "metadata": {},
   "outputs": [],
   "source": [
    "# Rename columns bei Bedarf\n",
    "rename_cols = {\n",
    "    'name': 'bfs_name',\n",
    "}\n",
    "\n",
    "columns_to_drop = ['objid']\n",
    "\n",
    "gdf_adm_stadtgrenze_wgs84 = gdf_adm_stadtgrenze_wgs84_all \\\n",
    "    .copy() \\\n",
    "    .drop(columns_to_drop, axis=1) \\\n",
    "    .rename(columns=rename_cols) \\\n",
    "    "
   ]
  },
  {
   "cell_type": "code",
   "execution_count": 274,
   "id": "d966a030-71cf-455c-b558-4176d4269bc6",
   "metadata": {},
   "outputs": [],
   "source": [
    "#gdf_adm_stadtgrenze_wgs84"
   ]
  },
  {
   "cell_type": "markdown",
   "id": "92bf3593-21cc-4529-88cd-399966e65b75",
   "metadata": {},
   "source": [
    "## Geodaten für die Karte aufbereiten\n",
    "\n",
    "Beziehe die notwendigen Geodaten vom Geoportal und exportiere sie als Shapefiles.\n"
   ]
  },
  {
   "cell_type": "markdown",
   "id": "73e70ca5",
   "metadata": {},
   "source": [
    "### Alterszentren:\n",
    "\n",
    "Stefanie muss jedes Jahr mit der DA Alterszentren abklären, welche Alterszentren **ausgeschlossen** werden müssen, da nicht immer alle Bewohnt sind, wegen Umbau oder Ähnlichem. \n",
    "Aussderdem gibt es noch solche, die ausserhalb der Stadt liegen. Diese interessieren für die Quartierspiegel nicht und werden ebenfalls herausgefiltert."
   ]
  },
  {
   "cell_type": "markdown",
   "id": "3dff0497-b0a3-42f1-a95d-526c5de631d2",
   "metadata": {},
   "source": [
    "#### Step 1: Daten vom Geoportal beziehen und prüfen."
   ]
  },
  {
   "cell_type": "code",
   "execution_count": 275,
   "id": "b51461dd",
   "metadata": {},
   "outputs": [],
   "source": [
    "url1 = \"https://www.ogd.stadt-zuerich.ch/wfs/geoportal/Alterszentrum?service=WFS&version=1.1.0&request=GetFeature&outputFormat=GeoJSON&typename=poi_alterszentrum_view\"\n",
    "gdf_poi_alterszentrum_view_imp_all = gpd.read_file(url1)\n",
    "#gdf_poi_alterszentrum_view_imp_all.head(1)\n",
    "#gdf_poi_alterszentrum_view_imp_all[['name','adresse', 'plz','geometry']]\n",
    "#gdf_poi_alterszentrum_view_imp_all.info()"
   ]
  },
  {
   "cell_type": "markdown",
   "id": "d3a9343b-2e19-4765-b80d-41b0cbc84421",
   "metadata": {
    "tags": []
   },
   "source": [
    "#### Step 2: Filtere diejenigen heraus, die nicht benötigt werden"
   ]
  },
  {
   "cell_type": "markdown",
   "id": "a67adacd-02b3-45e5-b1f2-dfdc299226d1",
   "metadata": {},
   "source": [
    "Spatial Join, damit nur jene **innerhalb des Stadtgebiets** vorkommen. Hier sind zwei Möglichkeiten dargestellt, Verschnitt mit Stadtgrenze oder mit den Stadtquartieren. Wichti g ist, dass dabei  auch gerade die Attribute der Geodaten angehängt werden."
   ]
  },
  {
   "cell_type": "code",
   "execution_count": 276,
   "id": "bfabc087-b6cf-442d-97ea-8c856e92d1ac",
   "metadata": {},
   "outputs": [],
   "source": [
    "gdf_poi_alterszentrum_view_filter_stadtgebiet = gpd.sjoin(gdf_poi_alterszentrum_view_imp_all, gdf_adm_stadtgrenze_wgs84, how='inner', op='within')\n",
    "#gdf_poi_alterszentrum_view_filter_stadtgebiet = gpd.sjoin(gdf_poi_alterszentrum_view_imp_all, gdf_adm_statistische_quartiere_map, how='inner', op='within')\n",
    "#gdf_poi_alterszentrum_view_filter_stadtgebiet.info()\n"
   ]
  },
  {
   "cell_type": "markdown",
   "id": "720f1135-6a37-4f11-9c0a-bc2ce8f884b1",
   "metadata": {},
   "source": [
    "Filtere explizt **vom GUD erwähnte Alterszentren** heraus. (Aktuell sind auch solche angegeben, die ausserhalb des Stadtgebiets liegen. Doppelt gemoppelt ;) )\n",
    "\n",
    "`\n",
    "\"name\" != 'Alterszentrum Buttenau'  AND \"name\" != 'Alterszentrum Wolfswinkel' \n",
    "AND \"name\" != 'Alterszentrum Sonnenhof' AND \"name\" != 'Alterszentrum Waldfrieden'  \n",
    "AND \"name\" != 'Online Veranstaltung'\n",
    "`\n",
    "\n",
    "Am 18.10.2021 wurden ausserdem vom GUD folgende gemeldet, die ausgeschlossen werden sollen:\n",
    "\n",
    "- Alterszentrum Hardau\n",
    "- Gästeappartement Alterszentrum Mittelleimbach"
   ]
  },
  {
   "cell_type": "code",
   "execution_count": 277,
   "id": "8575fbb9-2632-4ab0-8ff2-480f9609cfcd",
   "metadata": {},
   "outputs": [],
   "source": [
    "gdf_poi_alterszentrum_view_filtered = gdf_poi_alterszentrum_view_filter_stadtgebiet.query(\"name !='Alterszentrum Wolfswinkel'  & name !='Alterszentrum Buttenau' & name !='Alterszentrum Sonnenhof' & name !='Gästeappartement Alterszentrum Mittelleimbach'  & name !='Online Veranstaltung' & name !='Alterszentrum Hardau' & name !='Gästeappartement Mittelleimbach'\") \n",
    "#gdf_poi_alterszentrum_view_filtered.info()\n"
   ]
  },
  {
   "cell_type": "markdown",
   "id": "4ec0c354-650e-499b-81af-feeb18e19203",
   "metadata": {},
   "source": [
    "### Step3: Datensätze exportieren\n",
    "\n",
    "Speichere eine Liste der aktuell gefilterten Alterszentren als CSV lokal ab."
   ]
  },
  {
   "cell_type": "code",
   "execution_count": 278,
   "id": "83b7fd5f-a1a8-4f9e-9850-80a43f1303aa",
   "metadata": {},
   "outputs": [
    {
     "data": {
      "text/html": [
       "<div>\n",
       "<style scoped>\n",
       "    .dataframe tbody tr th:only-of-type {\n",
       "        vertical-align: middle;\n",
       "    }\n",
       "\n",
       "    .dataframe tbody tr th {\n",
       "        vertical-align: top;\n",
       "    }\n",
       "\n",
       "    .dataframe thead th {\n",
       "        text-align: right;\n",
       "    }\n",
       "</style>\n",
       "<table border=\"1\" class=\"dataframe\">\n",
       "  <thead>\n",
       "    <tr style=\"text-align: right;\">\n",
       "      <th></th>\n",
       "      <th>name</th>\n",
       "      <th>adresse</th>\n",
       "      <th>plz</th>\n",
       "      <th>ort</th>\n",
       "      <th>geometry</th>\n",
       "    </tr>\n",
       "  </thead>\n",
       "  <tbody>\n",
       "    <tr>\n",
       "      <th>1</th>\n",
       "      <td>Alterszentrum Bullinger-Hardau</td>\n",
       "      <td>Bullingerstrasse 69</td>\n",
       "      <td>8004</td>\n",
       "      <td>Zürich</td>\n",
       "      <td>POINT (8.51055 47.38104)</td>\n",
       "    </tr>\n",
       "    <tr>\n",
       "      <th>2</th>\n",
       "      <td>Alterszentrum Bürgerasyl-Pfrundhaus</td>\n",
       "      <td>Leonhardstrasse 18</td>\n",
       "      <td>8001</td>\n",
       "      <td>Zürich</td>\n",
       "      <td>POINT (8.54600 47.37733)</td>\n",
       "    </tr>\n",
       "    <tr>\n",
       "      <th>3</th>\n",
       "      <td>Alterszentrum Doldertal</td>\n",
       "      <td>Ebelstrasse 29</td>\n",
       "      <td>8032</td>\n",
       "      <td>Zürich</td>\n",
       "      <td>POINT (8.56655 47.37450)</td>\n",
       "    </tr>\n",
       "    <tr>\n",
       "      <th>4</th>\n",
       "      <td>Alterszentrum Dorflinde</td>\n",
       "      <td>Dorflindenstrasse 4</td>\n",
       "      <td>8050</td>\n",
       "      <td>Zürich</td>\n",
       "      <td>POINT (8.54951 47.40796)</td>\n",
       "    </tr>\n",
       "    <tr>\n",
       "      <th>5</th>\n",
       "      <td>Alterszentrum Grünau</td>\n",
       "      <td>Bändlistrasse 10</td>\n",
       "      <td>8064</td>\n",
       "      <td>Zürich</td>\n",
       "      <td>POINT (8.49002 47.39517)</td>\n",
       "    </tr>\n",
       "    <tr>\n",
       "      <th>7</th>\n",
       "      <td>Alterszentrum Limmat</td>\n",
       "      <td>Limmatstrasse 186</td>\n",
       "      <td>8005</td>\n",
       "      <td>Zürich</td>\n",
       "      <td>POINT (8.53008 47.38693)</td>\n",
       "    </tr>\n",
       "    <tr>\n",
       "      <th>8</th>\n",
       "      <td>Alterszentrum Mathysweg</td>\n",
       "      <td>Birmensdorferstrasse 489</td>\n",
       "      <td>8055</td>\n",
       "      <td>Zürich</td>\n",
       "      <td>POINT (8.49717 47.36757)</td>\n",
       "    </tr>\n",
       "    <tr>\n",
       "      <th>9</th>\n",
       "      <td>Alterszentrum Oberstrass</td>\n",
       "      <td>Langensteinenstrasse 40</td>\n",
       "      <td>8057</td>\n",
       "      <td>Zürich</td>\n",
       "      <td>POINT (8.54713 47.39365)</td>\n",
       "    </tr>\n",
       "    <tr>\n",
       "      <th>10</th>\n",
       "      <td>Alterszentrum Herzogenmühle</td>\n",
       "      <td>Glattstegweg 7</td>\n",
       "      <td>8051</td>\n",
       "      <td>Zürich</td>\n",
       "      <td>POINT (8.57382 47.40715)</td>\n",
       "    </tr>\n",
       "    <tr>\n",
       "      <th>11</th>\n",
       "      <td>Alterszentrum Selnau</td>\n",
       "      <td>Selnaustrasse 18</td>\n",
       "      <td>8001</td>\n",
       "      <td>Zürich</td>\n",
       "      <td>POINT (8.53261 47.37035)</td>\n",
       "    </tr>\n",
       "    <tr>\n",
       "      <th>12</th>\n",
       "      <td>Alterszentrum Sydefädeli</td>\n",
       "      <td>Hönggerstrasse 119</td>\n",
       "      <td>8037</td>\n",
       "      <td>Zürich</td>\n",
       "      <td>POINT (8.51776 47.39537)</td>\n",
       "    </tr>\n",
       "    <tr>\n",
       "      <th>14</th>\n",
       "      <td>Alterszentrum Wildbach</td>\n",
       "      <td>Wildbachstrasse 11</td>\n",
       "      <td>8008</td>\n",
       "      <td>Zürich</td>\n",
       "      <td>POINT (8.55715 47.35723)</td>\n",
       "    </tr>\n",
       "    <tr>\n",
       "      <th>15</th>\n",
       "      <td>Alterszentrum Trotte</td>\n",
       "      <td>Nordstrasse 349 (freig.)</td>\n",
       "      <td>8037</td>\n",
       "      <td>Zürich</td>\n",
       "      <td>POINT (8.51903 47.39640)</td>\n",
       "    </tr>\n",
       "    <tr>\n",
       "      <th>16</th>\n",
       "      <td>Alterszentrum Kalchbühl (Wollishofen)</td>\n",
       "      <td>Kalchbühlstrasse 118</td>\n",
       "      <td>8038</td>\n",
       "      <td>Zürich</td>\n",
       "      <td>POINT (8.53456 47.33468)</td>\n",
       "    </tr>\n",
       "    <tr>\n",
       "      <th>23</th>\n",
       "      <td>Alterszentrum Stampfenbach</td>\n",
       "      <td>Lindenbachstrasse 1</td>\n",
       "      <td>8006</td>\n",
       "      <td>Zürich</td>\n",
       "      <td>POINT (8.53898 47.38690)</td>\n",
       "    </tr>\n",
       "    <tr>\n",
       "      <th>24</th>\n",
       "      <td>Temporäres Alterszentrum Triemli</td>\n",
       "      <td>Birmensdorferstrasse 489</td>\n",
       "      <td>8055</td>\n",
       "      <td>Zürich</td>\n",
       "      <td>POINT (8.49717 47.36757)</td>\n",
       "    </tr>\n",
       "    <tr>\n",
       "      <th>25</th>\n",
       "      <td>Alterszentrum Laubegg</td>\n",
       "      <td>Hegianwandweg 16</td>\n",
       "      <td>8045</td>\n",
       "      <td>Zürich</td>\n",
       "      <td>POINT (8.51348 47.35779)</td>\n",
       "    </tr>\n",
       "    <tr>\n",
       "      <th>26</th>\n",
       "      <td>Alterszentrum Klus Park</td>\n",
       "      <td>Asylstrasse 130</td>\n",
       "      <td>8032</td>\n",
       "      <td>Zürich</td>\n",
       "      <td>POINT (8.56457 47.36479)</td>\n",
       "    </tr>\n",
       "    <tr>\n",
       "      <th>27</th>\n",
       "      <td>Alterszentrum Balderen</td>\n",
       "      <td>Klebestrasse 2</td>\n",
       "      <td>8041</td>\n",
       "      <td>Zürich</td>\n",
       "      <td>POINT (8.51298 47.32650)</td>\n",
       "    </tr>\n",
       "    <tr>\n",
       "      <th>29</th>\n",
       "      <td>Alterszentrum Mittelleimbach</td>\n",
       "      <td>Leimbachstrasse 210</td>\n",
       "      <td>8041</td>\n",
       "      <td>Zürich</td>\n",
       "      <td>POINT (8.51498 47.32598)</td>\n",
       "    </tr>\n",
       "    <tr>\n",
       "      <th>30</th>\n",
       "      <td>Alterszentrum Langgrüt</td>\n",
       "      <td>Langgrütstrasse 51</td>\n",
       "      <td>8047</td>\n",
       "      <td>Zürich</td>\n",
       "      <td>POINT (8.49968 47.37256)</td>\n",
       "    </tr>\n",
       "  </tbody>\n",
       "</table>\n",
       "</div>"
      ],
      "text/plain": [
       "                                     name                   adresse   plz  \\\n",
       "1          Alterszentrum Bullinger-Hardau       Bullingerstrasse 69  8004   \n",
       "2     Alterszentrum Bürgerasyl-Pfrundhaus        Leonhardstrasse 18  8001   \n",
       "3                 Alterszentrum Doldertal            Ebelstrasse 29  8032   \n",
       "4                 Alterszentrum Dorflinde       Dorflindenstrasse 4  8050   \n",
       "5                    Alterszentrum Grünau          Bändlistrasse 10  8064   \n",
       "7                    Alterszentrum Limmat         Limmatstrasse 186  8005   \n",
       "8                 Alterszentrum Mathysweg  Birmensdorferstrasse 489  8055   \n",
       "9                Alterszentrum Oberstrass   Langensteinenstrasse 40  8057   \n",
       "10            Alterszentrum Herzogenmühle            Glattstegweg 7  8051   \n",
       "11                   Alterszentrum Selnau          Selnaustrasse 18  8001   \n",
       "12               Alterszentrum Sydefädeli        Hönggerstrasse 119  8037   \n",
       "14                 Alterszentrum Wildbach        Wildbachstrasse 11  8008   \n",
       "15                   Alterszentrum Trotte  Nordstrasse 349 (freig.)  8037   \n",
       "16  Alterszentrum Kalchbühl (Wollishofen)      Kalchbühlstrasse 118  8038   \n",
       "23             Alterszentrum Stampfenbach       Lindenbachstrasse 1  8006   \n",
       "24       Temporäres Alterszentrum Triemli  Birmensdorferstrasse 489  8055   \n",
       "25                  Alterszentrum Laubegg          Hegianwandweg 16  8045   \n",
       "26                Alterszentrum Klus Park           Asylstrasse 130  8032   \n",
       "27                 Alterszentrum Balderen            Klebestrasse 2  8041   \n",
       "29           Alterszentrum Mittelleimbach       Leimbachstrasse 210  8041   \n",
       "30                 Alterszentrum Langgrüt        Langgrütstrasse 51  8047   \n",
       "\n",
       "       ort                  geometry  \n",
       "1   Zürich  POINT (8.51055 47.38104)  \n",
       "2   Zürich  POINT (8.54600 47.37733)  \n",
       "3   Zürich  POINT (8.56655 47.37450)  \n",
       "4   Zürich  POINT (8.54951 47.40796)  \n",
       "5   Zürich  POINT (8.49002 47.39517)  \n",
       "7   Zürich  POINT (8.53008 47.38693)  \n",
       "8   Zürich  POINT (8.49717 47.36757)  \n",
       "9   Zürich  POINT (8.54713 47.39365)  \n",
       "10  Zürich  POINT (8.57382 47.40715)  \n",
       "11  Zürich  POINT (8.53261 47.37035)  \n",
       "12  Zürich  POINT (8.51776 47.39537)  \n",
       "14  Zürich  POINT (8.55715 47.35723)  \n",
       "15  Zürich  POINT (8.51903 47.39640)  \n",
       "16  Zürich  POINT (8.53456 47.33468)  \n",
       "23  Zürich  POINT (8.53898 47.38690)  \n",
       "24  Zürich  POINT (8.49717 47.36757)  \n",
       "25  Zürich  POINT (8.51348 47.35779)  \n",
       "26  Zürich  POINT (8.56457 47.36479)  \n",
       "27  Zürich  POINT (8.51298 47.32650)  \n",
       "29  Zürich  POINT (8.51498 47.32598)  \n",
       "30  Zürich  POINT (8.49968 47.37256)  "
      ]
     },
     "execution_count": 278,
     "metadata": {},
     "output_type": "execute_result"
    }
   ],
   "source": [
    "gdf_poi_alterszentrum_view_filtered[['name','adresse', 'plz','ort','geometry']].to_csv(\"./output/listen/gefilterte_alterszentren_stadt\"+date_today+\".csv\")\n",
    "gdf_poi_alterszentrum_view_filtered[['name','adresse', 'plz','ort','geometry']]"
   ]
  },
  {
   "cell_type": "markdown",
   "id": "ae9b5448-fca3-442f-b293-57b805f0ec8c",
   "metadata": {},
   "source": [
    "Wechsle Projektion von WGS84 auf LV95"
   ]
  },
  {
   "cell_type": "code",
   "execution_count": 279,
   "id": "c3a26cce-d34b-4877-b8c9-6c04cef74ee4",
   "metadata": {},
   "outputs": [],
   "source": [
    "gdf_poi_alterszentrum_view_filtered_lv95 = gdf_poi_alterszentrum_view_filtered.to_crs(epsg=2056)\n",
    "#gdf_poi_alterszentrum_view_filtered_lv95['geometry']"
   ]
  },
  {
   "cell_type": "markdown",
   "id": "4682e16e-1276-476f-9c48-e6f34c4f34cc",
   "metadata": {},
   "source": [
    "Speichere den Geodatensatz für Stefanie auf `O:\\GIS\\Daten\\Vektor\\2021\\quartierspiegel` als Shapefile\n"
   ]
  },
  {
   "cell_type": "code",
   "execution_count": 280,
   "id": "ebc55821-ee1e-4b6f-8204-d31f638262af",
   "metadata": {},
   "outputs": [
    {
     "name": "stderr",
     "output_type": "stream",
     "text": [
      "C:\\Users\\sszsim\\AppData\\Local\\Temp/ipykernel_9756/1701929876.py:1: UserWarning: Column names longer than 10 characters will be truncated when saved to ESRI Shapefile.\n",
      "  gdf_poi_alterszentrum_view_filtered_lv95.to_file(gis_ablagepfad+\"export_poi_alterszentrum_view_\"+date_today+\".shp\", encoding='utf-8')\n"
     ]
    },
    {
     "name": "stdout",
     "output_type": "stream",
     "text": [
      "done\n"
     ]
    }
   ],
   "source": [
    "gdf_poi_alterszentrum_view_filtered_lv95.to_file(gis_ablagepfad+\"export_poi_alterszentrum_view_\"+date_today+\".shp\", encoding='utf-8')\n",
    "\n",
    "print('done')\n",
    "#gdf_poi_alterszentrum_view_filtered_lv95.info()"
   ]
  },
  {
   "cell_type": "markdown",
   "id": "5c2005a6-82cc-4872-9f00-fa20407d376b",
   "metadata": {},
   "source": [
    "Speichere sie auch im Arbeitsverzeichnis als Shapefile und Geopackage ab"
   ]
  },
  {
   "cell_type": "code",
   "execution_count": 281,
   "id": "ab77906b-c22b-4874-ac6f-70b67fbff4f9",
   "metadata": {},
   "outputs": [
    {
     "name": "stderr",
     "output_type": "stream",
     "text": [
      "C:\\Users\\sszsim\\AppData\\Local\\Temp/ipykernel_9756/3944687344.py:1: UserWarning: Column names longer than 10 characters will be truncated when saved to ESRI Shapefile.\n",
      "  gdf_poi_alterszentrum_view_filtered_lv95.to_file(\"./output/shapefiles/export_poi_alterszentrum_view\"+date_today+\".shp\", encoding='utf-8')\n"
     ]
    }
   ],
   "source": [
    "gdf_poi_alterszentrum_view_filtered_lv95.to_file(\"./output/shapefiles/export_poi_alterszentrum_view\"+date_today+\".shp\", encoding='utf-8')\n",
    "gdf_poi_alterszentrum_view_filtered_lv95.to_file(\"./output/geopackages/export_poi_alterszentrum_view\"+date_today+\".gpkg\", driver='GPKG')\n",
    "#gdf_poi_alterszentrum_view_filtered_lv95.plot()"
   ]
  },
  {
   "cell_type": "markdown",
   "id": "65b9a53c-3bac-4947-96bd-ef04e4afe648",
   "metadata": {
    "tags": []
   },
   "source": [
    "### Alterswohnungen:\n",
    "\n",
    "Es gibt auch vereinzelt Alterswohnungen ausserhalb der Stadt, daher auch hier noch ein Verschnitt mit der Stadtgrenze."
   ]
  },
  {
   "cell_type": "markdown",
   "id": "bf094902-5344-4d3a-9663-fea7656f8e50",
   "metadata": {
    "tags": []
   },
   "source": [
    "#### Step 1: Daten vom Geoportal beziehen und prüfen."
   ]
  },
  {
   "cell_type": "code",
   "execution_count": 372,
   "id": "4876455d-0dee-4bb3-8342-6823c87fc4e6",
   "metadata": {
    "tags": []
   },
   "outputs": [],
   "source": [
    "url2 = \"https://www.ogd.stadt-zuerich.ch/wfs/geoportal/Alterswohnung?service=WFS&version=1.1.0&request=GetFeature&outputFormat=GeoJSON&typename=poi_alterswohnung_view\"\n",
    "gdf_poi_alterswohnungen_view_imp_all = gpd.read_file(url2)\n",
    "#gdf_poi_alterswohnungen_view_imp_all.info()"
   ]
  },
  {
   "cell_type": "markdown",
   "id": "e8e408aa-d957-4542-996b-fee6aa7added",
   "metadata": {
    "tags": []
   },
   "source": [
    "#### Step 2: Filtere diejenigen heraus, die nicht benötigt werden"
   ]
  },
  {
   "cell_type": "markdown",
   "id": "af7147b8-9612-48a4-8d54-c981f0800763",
   "metadata": {},
   "source": [
    "Spatial Join, damit nur jene **innerhalb des Stadtgebiets** vorkommen. Hier sind zwei Möglichkeiten dargestellt, Verschnitt mit Stadtgrenze oder mit den Stadtquartieren. Wichtig ist, dass dabei  auch gerade die Attribute der Geodaten angehängt werden."
   ]
  },
  {
   "cell_type": "code",
   "execution_count": 373,
   "id": "968e7d3b-4e4d-4d63-a8a5-82ddcdf436ff",
   "metadata": {},
   "outputs": [],
   "source": [
    "gdf_poi_alterswohnungen_view_filter_stadtgebiet = gpd.sjoin(gdf_poi_alterswohnungen_view_imp_all, gdf_adm_stadtgrenze_wgs84, how='inner', op='within')\n",
    "#gdf_poi_alterswohnungen_view_filter_stadtgebiet.info()"
   ]
  },
  {
   "cell_type": "code",
   "execution_count": 374,
   "id": "47030f60-e2b0-413f-9689-332551c817ec",
   "metadata": {},
   "outputs": [],
   "source": [
    "gdf_poi_alterswohnungen_view_filter_stadtgebiet_lv95 = gdf_poi_alterswohnungen_view_filter_stadtgebiet.to_crs(epsg=2056)\n",
    "#gdf_poi_alterswohnungen_view_filter_stadtgebiet_lv95['geometry']"
   ]
  },
  {
   "cell_type": "markdown",
   "id": "13813ac1-ee5e-48b9-a417-3aeff07ee142",
   "metadata": {},
   "source": [
    "#### Step3: Datensätze exportieren\n"
   ]
  },
  {
   "cell_type": "markdown",
   "id": "36c510b2-8af2-4343-a7f6-224ebfe725c4",
   "metadata": {},
   "source": [
    "Speichere den Geodatensatz für Stefanie auf `O:\\GIS\\Daten\\Vektor\\2021\\quartierspiegel` als Shapefile\n"
   ]
  },
  {
   "cell_type": "code",
   "execution_count": 377,
   "id": "da84e0f6-2d18-47ab-a8d3-fe92f92a362b",
   "metadata": {},
   "outputs": [
    {
     "name": "stdout",
     "output_type": "stream",
     "text": [
      "done\n"
     ]
    },
    {
     "name": "stderr",
     "output_type": "stream",
     "text": [
      "C:\\Users\\sszsim\\AppData\\Local\\Temp/ipykernel_9756/2967649901.py:1: UserWarning: Column names longer than 10 characters will be truncated when saved to ESRI Shapefile.\n",
      "  gdf_poi_alterswohnungen_view_filter_stadtgebiet_lv95.to_file(gis_ablagepfad+\"export_poi_alterswohnung_view_\"+date_today+\".shp\", encoding='utf-8')\n"
     ]
    }
   ],
   "source": [
    "gdf_poi_alterswohnungen_view_filter_stadtgebiet_lv95.to_file(gis_ablagepfad+\"export_poi_alterswohnung_view_\"+date_today+\".shp\", encoding='utf-8')\n",
    "\n",
    "print('done')"
   ]
  },
  {
   "cell_type": "markdown",
   "id": "b067d69d-260b-4660-b727-d24a0dad7636",
   "metadata": {},
   "source": [
    "Speichere sie auch im Arbeitsverzeichnis als Shapefile und Geopackage ab"
   ]
  },
  {
   "cell_type": "code",
   "execution_count": 378,
   "id": "2497e1c0-d76c-4029-bace-c725d43447c2",
   "metadata": {},
   "outputs": [
    {
     "name": "stderr",
     "output_type": "stream",
     "text": [
      "C:\\Users\\sszsim\\AppData\\Local\\Temp/ipykernel_9756/2442419897.py:1: UserWarning: Column names longer than 10 characters will be truncated when saved to ESRI Shapefile.\n",
      "  gdf_poi_alterswohnungen_view_filter_stadtgebiet_lv95.to_file(\"./output/shapefiles/export_poi_alterswohnung_view\"+date_today+\".shp\", encoding='utf-8')\n"
     ]
    },
    {
     "name": "stdout",
     "output_type": "stream",
     "text": [
      "done\n"
     ]
    }
   ],
   "source": [
    "gdf_poi_alterswohnungen_view_filter_stadtgebiet_lv95.to_file(\"./output/shapefiles/export_poi_alterswohnung_view\"+date_today+\".shp\", encoding='utf-8')\n",
    "gdf_poi_alterswohnungen_view_filter_stadtgebiet_lv95.to_file(\"./output/geopackages/export_poi_alterswohnung_view\"+date_today+\".gpkg\", driver='GPKG')\n",
    "#gdf_poi_alterswohnungen_view_filter_stadtgebiet_lv95.plot()\n",
    "print('done')"
   ]
  },
  {
   "cell_type": "markdown",
   "id": "ccd9dbf9-85a3-4e8c-8e7d-26f6c9df88d0",
   "metadata": {},
   "source": [
    "### Beachvolley (3)"
   ]
  },
  {
   "cell_type": "markdown",
   "id": "19435ad7-cf10-4102-90fa-f47ad8b72c99",
   "metadata": {
    "tags": []
   },
   "source": [
    "#### Step 1: Daten vom Geoportal beziehen und prüfen."
   ]
  },
  {
   "cell_type": "code",
   "execution_count": 379,
   "id": "3e49919d-191d-4512-85f3-900e00ca49dd",
   "metadata": {},
   "outputs": [
    {
     "data": {
      "text/plain": [
       "array(['Freibad Zwischen den Hölzern', 'Sportanlage Juchof 1',\n",
       "       'Josefwiese', 'Schulhaus Letzi', 'Sportzentrum Sihlhölzli',\n",
       "       'Schulhaus Lachenzelg', 'Schulhaus Stettbach', 'Oberer Letten',\n",
       "       'Schulhaus Im Lee', 'Schulhaus Buhnrain', 'Sportzentrum Buchlern',\n",
       "       'Sportzentrum Fronwald', 'Freibad Allenmoos', 'Freibad Seebach'],\n",
       "      dtype=object)"
      ]
     },
     "execution_count": 379,
     "metadata": {},
     "output_type": "execute_result"
    }
   ],
   "source": [
    "url3 = \"https://www.ogd.stadt-zuerich.ch/wfs/geoportal/Sport?service=WFS&version=1.1.0&request=GetFeature&outputFormat=GeoJSON&typename=poi_beachvolleyball_view\"\n",
    "\n",
    "typename=\"poi_beachvolleyball_view\"\n",
    "\n",
    "imp_file=\"gdf_\"+typename+\"_wgs84\"\n",
    "exp_file=\"gdf_\"+typename\n",
    "\n",
    "#platziere urlX\n",
    "imp_file = gpd.read_file(url3)\n",
    "\n",
    "#imp_file.info()\n",
    "imp_file['name'].unique()\n",
    "#gdf_poi_beachvolleyball_view_wgs84.head(2)"
   ]
  },
  {
   "cell_type": "markdown",
   "id": "dfa311a8-c1dc-42b4-b2f1-d7fdba8fbd5d",
   "metadata": {},
   "source": [
    "#### Step2: Datensätze exportieren\n"
   ]
  },
  {
   "cell_type": "code",
   "execution_count": 380,
   "id": "48487090-6db0-4212-a2ad-be9b882ec02d",
   "metadata": {},
   "outputs": [],
   "source": [
    "exp_file = imp_file.to_crs(epsg=2056)\n",
    "#gdf_poi_beachvolleyball_view['geometry'].head(1)"
   ]
  },
  {
   "cell_type": "markdown",
   "id": "532c5bac-76f5-45e4-b76d-93d6936b89cb",
   "metadata": {
    "tags": []
   },
   "source": [
    "Speichere den Geodatensatz für Stefanie auf `O:\\GIS\\Daten\\Vektor\\2021\\quartierspiegel` als Shapefile\n"
   ]
  },
  {
   "cell_type": "code",
   "execution_count": 381,
   "id": "745402ef-c3cc-4566-802b-fb7ae1d163cf",
   "metadata": {},
   "outputs": [
    {
     "name": "stderr",
     "output_type": "stream",
     "text": [
      "C:\\Users\\sszsim\\AppData\\Local\\Temp/ipykernel_9756/1368340669.py:1: UserWarning: Column names longer than 10 characters will be truncated when saved to ESRI Shapefile.\n",
      "  exp_file.to_file(gis_ablagepfad+\"export_\"+typename+date_today+\".shp\", encoding='utf-8')\n"
     ]
    },
    {
     "name": "stdout",
     "output_type": "stream",
     "text": [
      "//szh/ssz/data/GIS/Daten/Vektor/2021/quartierspiegel/export_poi_beachvolleyball_view.shp\n"
     ]
    }
   ],
   "source": [
    "exp_file.to_file(gis_ablagepfad+\"export_\"+typename+date_today+\".shp\", encoding='utf-8')\n",
    "print(gis_ablagepfad+\"export_\"+typename+\".shp\")"
   ]
  },
  {
   "cell_type": "markdown",
   "id": "039ba08d-8348-4ef1-9304-4e95ac65b4aa",
   "metadata": {},
   "source": [
    "Speichere sie auch im Arbeitsverzeichnis als Shapefile und Geopackage ab"
   ]
  },
  {
   "cell_type": "code",
   "execution_count": 382,
   "id": "fe31c306-8dfd-48e0-94fe-7c6c1b8ba8e6",
   "metadata": {},
   "outputs": [
    {
     "name": "stderr",
     "output_type": "stream",
     "text": [
      "C:\\Users\\sszsim\\AppData\\Local\\Temp/ipykernel_9756/1312096258.py:1: UserWarning: Column names longer than 10 characters will be truncated when saved to ESRI Shapefile.\n",
      "  exp_file.to_file(\"./output/shapefiles/export_\"+typename+date_today+\".shp\", encoding='utf-8')\n"
     ]
    },
    {
     "name": "stdout",
     "output_type": "stream",
     "text": [
      "GPKG exportiert nach: ./output/geopackages/export_poi_beachvolleyball_view.gpkg\n"
     ]
    }
   ],
   "source": [
    "exp_file.to_file(\"./output/shapefiles/export_\"+typename+date_today+\".shp\", encoding='utf-8')\n",
    "exp_file.to_file(\"./output/geopackages/export_\"+typename+date_today+\".gpkg\", driver='GPKG')\n",
    "#exp_file.plot()\n",
    "print(\"GPKG exportiert nach: \"+\"./output/geopackages/export_\"+typename+date_today+\".gpkg\")"
   ]
  },
  {
   "cell_type": "markdown",
   "id": "6a09d415-334d-4331-b767-1b73400b51e3",
   "metadata": {
    "tags": []
   },
   "source": [
    "### Bikepark (4)"
   ]
  },
  {
   "cell_type": "markdown",
   "id": "f3b9a447-80b5-43dc-8c14-3aaee843dca0",
   "metadata": {
    "tags": []
   },
   "source": [
    "#### Step 1: Daten vom Geoportal beziehen und prüfen.\n",
    "\n",
    "- url(X) --> Definiere die URL für den GEOJSON-Service\n",
    "- typename --> Definiere den Layernamen. Kann an diversen Orten verwendet werden\n",
    "- imp_name --> Leite den importierten Datensatznamen davon ab und ergänze wgs84\n",
    "- exp_name --> ohne wgs84. soll heissen er ist per default lv95"
   ]
  },
  {
   "cell_type": "code",
   "execution_count": 383,
   "id": "356d2d2f-c81a-409b-8faa-ce2215ba90fe",
   "metadata": {
    "tags": []
   },
   "outputs": [
    {
     "data": {
      "text/plain": [
       "array(['Bike-Park Allmend', 'Pumptrack Heuried'], dtype=object)"
      ]
     },
     "execution_count": 383,
     "metadata": {},
     "output_type": "execute_result"
    }
   ],
   "source": [
    "url4 = \"https://www.ogd.stadt-zuerich.ch/wfs/geoportal/Sport?service=WFS&version=1.1.0&request=GetFeature&outputFormat=GeoJSON&typename=poi_bikepark_view\"\n",
    "\n",
    "typename=\"poi_bikepark_view\"\n",
    "\n",
    "imp_file=\"gdf_\"+typename+\"_wgs84\"\n",
    "exp_file=\"gdf_\"+typename\n",
    "\n",
    "imp_file = gpd.read_file(url4)\n",
    "\n",
    "#imp_file.info()\n",
    "imp_file['name'].unique()\n",
    "#gdf_poi_bikepark_view_wgs84.head()"
   ]
  },
  {
   "cell_type": "markdown",
   "id": "90be5fe1-be91-4898-98b2-1c7411c23816",
   "metadata": {
    "tags": []
   },
   "source": [
    "#### Step2: Datensätze exportieren\n"
   ]
  },
  {
   "cell_type": "code",
   "execution_count": 384,
   "id": "b70ef7a3-ed23-4bbc-af05-5e04dc94e79b",
   "metadata": {
    "tags": []
   },
   "outputs": [],
   "source": [
    "exp_file = imp_file.to_crs(epsg=2056)\n",
    "#gdf_poi_bikepark_view['geometry'].head(1)"
   ]
  },
  {
   "cell_type": "markdown",
   "id": "a1f6cf00-550a-4773-aa82-f1fef6d5d489",
   "metadata": {
    "tags": []
   },
   "source": [
    "Speichere den Geodatensatz für Stefanie auf `O:\\GIS\\Daten\\Vektor\\2021\\quartierspiegel` als Shapefile\n"
   ]
  },
  {
   "cell_type": "code",
   "execution_count": 385,
   "id": "daf44d92-ae5f-4f84-a176-6709641633b6",
   "metadata": {
    "tags": []
   },
   "outputs": [
    {
     "name": "stdout",
     "output_type": "stream",
     "text": [
      "//szh/ssz/data/GIS/Daten/Vektor/2021/quartierspiegel/export_poi_bikepark_view.shp\n"
     ]
    },
    {
     "name": "stderr",
     "output_type": "stream",
     "text": [
      "C:\\Users\\sszsim\\AppData\\Local\\Temp/ipykernel_9756/1368340669.py:1: UserWarning: Column names longer than 10 characters will be truncated when saved to ESRI Shapefile.\n",
      "  exp_file.to_file(gis_ablagepfad+\"export_\"+typename+date_today+\".shp\", encoding='utf-8')\n"
     ]
    }
   ],
   "source": [
    "exp_file.to_file(gis_ablagepfad+\"export_\"+typename+date_today+\".shp\", encoding='utf-8')\n",
    "print(gis_ablagepfad+\"export_\"+typename+\".shp\")"
   ]
  },
  {
   "cell_type": "markdown",
   "id": "a88a8822-d5fd-4e6b-b93d-54c84ee88bcf",
   "metadata": {},
   "source": [
    "Speichere sie auch im Arbeitsverzeichnis als Shapefile und Geopackage ab"
   ]
  },
  {
   "cell_type": "code",
   "execution_count": 386,
   "id": "aece0972-5574-41bd-b439-5bd8375e1340",
   "metadata": {
    "tags": []
   },
   "outputs": [
    {
     "name": "stderr",
     "output_type": "stream",
     "text": [
      "C:\\Users\\sszsim\\AppData\\Local\\Temp/ipykernel_9756/1312096258.py:1: UserWarning: Column names longer than 10 characters will be truncated when saved to ESRI Shapefile.\n",
      "  exp_file.to_file(\"./output/shapefiles/export_\"+typename+date_today+\".shp\", encoding='utf-8')\n"
     ]
    },
    {
     "name": "stdout",
     "output_type": "stream",
     "text": [
      "GPKG exportiert nach: ./output/geopackages/export_poi_bikepark_view.gpkg\n"
     ]
    }
   ],
   "source": [
    "exp_file.to_file(\"./output/shapefiles/export_\"+typename+date_today+\".shp\", encoding='utf-8')\n",
    "exp_file.to_file(\"./output/geopackages/export_\"+typename+date_today+\".gpkg\", driver='GPKG')\n",
    "#exp_file.plot()\n",
    "print(\"GPKG exportiert nach: \"+\"./output/geopackages/export_\"+typename+date_today+\".gpkg\")"
   ]
  },
  {
   "cell_type": "markdown",
   "id": "1f1aeefa-bd90-4359-81eb-da9c7587f3be",
   "metadata": {
    "tags": []
   },
   "source": [
    "### Eisbahn (5)"
   ]
  },
  {
   "cell_type": "markdown",
   "id": "f9485cd5-0219-45d1-9229-e7bfe07d0878",
   "metadata": {
    "tags": []
   },
   "source": [
    "#### Step 1: Daten vom Geoportal beziehen und prüfen.\n",
    "\n",
    "- url(X) --> Definiere die URL für den GEOJSON-Service\n",
    "- typename --> Definiere den Layernamen. Kann an diversen Orten verwendet werden\n",
    "- imp_name --> Leite den importierten Datensatznamen davon ab und ergänze wgs84\n",
    "- exp_name --> ohne wgs84. soll heissen er ist per default lv95"
   ]
  },
  {
   "cell_type": "code",
   "execution_count": 387,
   "id": "585f5b2b-6369-4d88-a0b7-e192b72a3043",
   "metadata": {
    "tags": []
   },
   "outputs": [
    {
     "data": {
      "text/plain": [
       "array(['Sportzentrum Heuried', 'Kunsteisbahn Oerlikon',\n",
       "       'Kunsteisbahn Dolder'], dtype=object)"
      ]
     },
     "execution_count": 387,
     "metadata": {},
     "output_type": "execute_result"
    }
   ],
   "source": [
    "url5 = \"https://www.ogd.stadt-zuerich.ch/wfs/geoportal/Sport?service=WFS&version=1.1.0&request=GetFeature&outputFormat=GeoJSON&typename=poi_eisbahn_view\"\n",
    "\n",
    "typename=\"poi_eisbahn_view\"\n",
    "\n",
    "imp_file=\"gdf_\"+typename+\"_wgs84\"\n",
    "exp_file=\"gdf_\"+typename\n",
    "\n",
    "imp_file = gpd.read_file(url5)\n",
    "\n",
    "#imp_file.info()\n",
    "imp_file['name'].unique()\n",
    "#gdf_poi_bikepark_view_wgs84.head()"
   ]
  },
  {
   "cell_type": "markdown",
   "id": "0f89631b-f94b-4b14-b509-beaa71295953",
   "metadata": {
    "tags": []
   },
   "source": [
    "#### Step2: Datensätze exportieren\n"
   ]
  },
  {
   "cell_type": "code",
   "execution_count": 388,
   "id": "63a8d47a-ba4e-4402-9e08-fa4251a3b2af",
   "metadata": {
    "tags": []
   },
   "outputs": [],
   "source": [
    "exp_file = imp_file.to_crs(epsg=2056)\n",
    "#gdf_poi_bikepark_view['geometry'].head(1)"
   ]
  },
  {
   "cell_type": "markdown",
   "id": "0b76d718-5aa5-44cf-9481-ff2ead4c0296",
   "metadata": {
    "tags": []
   },
   "source": [
    "Speichere den Geodatensatz für Stefanie auf `O:\\GIS\\Daten\\Vektor\\2021\\quartierspiegel` als Shapefile\n"
   ]
  },
  {
   "cell_type": "code",
   "execution_count": 389,
   "id": "44795075-b963-4205-b478-58d16e828534",
   "metadata": {
    "tags": []
   },
   "outputs": [
    {
     "name": "stdout",
     "output_type": "stream",
     "text": [
      "//szh/ssz/data/GIS/Daten/Vektor/2021/quartierspiegel/export_poi_eisbahn_view.shp\n"
     ]
    },
    {
     "name": "stderr",
     "output_type": "stream",
     "text": [
      "C:\\Users\\sszsim\\AppData\\Local\\Temp/ipykernel_9756/1368340669.py:1: UserWarning: Column names longer than 10 characters will be truncated when saved to ESRI Shapefile.\n",
      "  exp_file.to_file(gis_ablagepfad+\"export_\"+typename+date_today+\".shp\", encoding='utf-8')\n"
     ]
    }
   ],
   "source": [
    "exp_file.to_file(gis_ablagepfad+\"export_\"+typename+date_today+\".shp\", encoding='utf-8')\n",
    "print(gis_ablagepfad+\"export_\"+typename+\".shp\")"
   ]
  },
  {
   "cell_type": "markdown",
   "id": "930c7347-554c-4d36-a074-15eb0edabb31",
   "metadata": {
    "tags": []
   },
   "source": [
    "Speichere sie auch im Arbeitsverzeichnis als Shapefile und Geopackage ab"
   ]
  },
  {
   "cell_type": "code",
   "execution_count": 390,
   "id": "1f85d75d-8885-4fe8-85c7-0dbfe4bb0c7e",
   "metadata": {
    "tags": []
   },
   "outputs": [
    {
     "name": "stderr",
     "output_type": "stream",
     "text": [
      "C:\\Users\\sszsim\\AppData\\Local\\Temp/ipykernel_9756/1312096258.py:1: UserWarning: Column names longer than 10 characters will be truncated when saved to ESRI Shapefile.\n",
      "  exp_file.to_file(\"./output/shapefiles/export_\"+typename+date_today+\".shp\", encoding='utf-8')\n"
     ]
    },
    {
     "name": "stdout",
     "output_type": "stream",
     "text": [
      "GPKG exportiert nach: ./output/geopackages/export_poi_eisbahn_view.gpkg\n"
     ]
    }
   ],
   "source": [
    "exp_file.to_file(\"./output/shapefiles/export_\"+typename+date_today+\".shp\", encoding='utf-8')\n",
    "exp_file.to_file(\"./output/geopackages/export_\"+typename+date_today+\".gpkg\", driver='GPKG')\n",
    "#exp_file.plot()\n",
    "print(\"GPKG exportiert nach: \"+\"./output/geopackages/export_\"+typename+date_today+\".gpkg\")"
   ]
  },
  {
   "cell_type": "markdown",
   "id": "b6ef4f13-391a-413c-8a07-95f0a152fef5",
   "metadata": {
    "tags": []
   },
   "source": [
    "### Flussbad (6)"
   ]
  },
  {
   "cell_type": "code",
   "execution_count": 391,
   "id": "bac045bb-f82a-4e3e-915b-1d1969460873",
   "metadata": {},
   "outputs": [
    {
     "data": {
      "text/plain": [
       "array(['Frauenbad Stadthausquai', 'Männerbad Schanzengraben',\n",
       "       'Flussbad Unterer Letten', 'Flussbad Au-Höngg',\n",
       "       'Flussbad Oberer Letten'], dtype=object)"
      ]
     },
     "execution_count": 391,
     "metadata": {},
     "output_type": "execute_result"
    }
   ],
   "source": [
    "url6 = \"https://www.ogd.stadt-zuerich.ch/wfs/geoportal/Sport?service=WFS&version=1.1.0&request=GetFeature&outputFormat=GeoJSON&typename=poi_flussbad_view\"\n",
    "\n",
    "typename=\"poi_flussbad_view\"\n",
    "\n",
    "imp_file=\"gdf_\"+typename+\"_wgs84\"\n",
    "exp_file=\"gdf_\"+typename\n",
    "\n",
    "imp_file = gpd.read_file(url6)\n",
    "\n",
    "#imp_file.info()\n",
    "imp_file['name'].unique()\n",
    "#gdf_poi_bikepark_view_wgs84.head()"
   ]
  },
  {
   "cell_type": "markdown",
   "id": "492927e8-f115-4455-9749-b8a0a413c790",
   "metadata": {
    "tags": []
   },
   "source": [
    "#### Step2: Datensätze exportieren\n"
   ]
  },
  {
   "cell_type": "code",
   "execution_count": 392,
   "id": "af893d10-0f0b-4db9-87be-ec0b8e7973c2",
   "metadata": {
    "tags": []
   },
   "outputs": [],
   "source": [
    "exp_file = imp_file.to_crs(epsg=2056)\n",
    "#gdf_poi_bikepark_view['geometry'].head(1)"
   ]
  },
  {
   "cell_type": "markdown",
   "id": "8d03cd93-1385-43d8-ac66-39a8fc5d5e8f",
   "metadata": {
    "tags": []
   },
   "source": [
    "Speichere den Geodatensatz für Stefanie auf `O:\\GIS\\Daten\\Vektor\\2021\\quartierspiegel` als Shapefile\n"
   ]
  },
  {
   "cell_type": "code",
   "execution_count": 393,
   "id": "6802efb2-eef3-4bda-8ffc-e92d70e198e8",
   "metadata": {
    "tags": []
   },
   "outputs": [
    {
     "name": "stdout",
     "output_type": "stream",
     "text": [
      "//szh/ssz/data/GIS/Daten/Vektor/2021/quartierspiegel/export_poi_flussbad_view.shp\n"
     ]
    },
    {
     "name": "stderr",
     "output_type": "stream",
     "text": [
      "C:\\Users\\sszsim\\AppData\\Local\\Temp/ipykernel_9756/1368340669.py:1: UserWarning: Column names longer than 10 characters will be truncated when saved to ESRI Shapefile.\n",
      "  exp_file.to_file(gis_ablagepfad+\"export_\"+typename+date_today+\".shp\", encoding='utf-8')\n"
     ]
    }
   ],
   "source": [
    "exp_file.to_file(gis_ablagepfad+\"export_\"+typename+date_today+\".shp\", encoding='utf-8')\n",
    "print(gis_ablagepfad+\"export_\"+typename+\".shp\")"
   ]
  },
  {
   "cell_type": "markdown",
   "id": "027a90dd-6444-4c42-aaa5-92f606028143",
   "metadata": {
    "tags": []
   },
   "source": [
    "Speichere sie auch im Arbeitsverzeichnis als Shapefile und Geopackage ab"
   ]
  },
  {
   "cell_type": "code",
   "execution_count": 394,
   "id": "a95f27fe-537e-4899-ae5c-b529a9a4d8f6",
   "metadata": {
    "tags": []
   },
   "outputs": [
    {
     "name": "stderr",
     "output_type": "stream",
     "text": [
      "C:\\Users\\sszsim\\AppData\\Local\\Temp/ipykernel_9756/1312096258.py:1: UserWarning: Column names longer than 10 characters will be truncated when saved to ESRI Shapefile.\n",
      "  exp_file.to_file(\"./output/shapefiles/export_\"+typename+date_today+\".shp\", encoding='utf-8')\n"
     ]
    },
    {
     "name": "stdout",
     "output_type": "stream",
     "text": [
      "GPKG exportiert nach: ./output/geopackages/export_poi_flussbad_view.gpkg\n"
     ]
    }
   ],
   "source": [
    "exp_file.to_file(\"./output/shapefiles/export_\"+typename+date_today+\".shp\", encoding='utf-8')\n",
    "exp_file.to_file(\"./output/geopackages/export_\"+typename+date_today+\".gpkg\", driver='GPKG')\n",
    "#exp_file.plot()\n",
    "print(\"GPKG exportiert nach: \"+\"./output/geopackages/export_\"+typename+date_today+\".gpkg\")"
   ]
  },
  {
   "cell_type": "code",
   "execution_count": null,
   "id": "b708f7c7-a86c-40d3-a233-1333cebe5caf",
   "metadata": {},
   "outputs": [],
   "source": []
  },
  {
   "cell_type": "markdown",
   "id": "fd8d8ad0-4521-43d2-a290-49d114ebd244",
   "metadata": {},
   "source": [
    "### Freibad (7)"
   ]
  },
  {
   "cell_type": "code",
   "execution_count": 395,
   "id": "1fd25e70-926b-449c-b60b-5082602bd218",
   "metadata": {
    "tags": []
   },
   "outputs": [
    {
     "data": {
      "text/plain": [
       "array(['Freibad Letzigraben', 'Freibad Dolder',\n",
       "       'Freibad Zwischen den Hölzern', 'Freibad Allenmoos',\n",
       "       'Freibad Auhof', 'Freibad Heuried', 'Freibad Seebach'],\n",
       "      dtype=object)"
      ]
     },
     "execution_count": 395,
     "metadata": {},
     "output_type": "execute_result"
    }
   ],
   "source": [
    "url7 = \"https://www.ogd.stadt-zuerich.ch/wfs/geoportal/Sport?service=WFS&version=1.1.0&request=GetFeature&outputFormat=GeoJSON&typename=poi_freibad_view\"\n",
    "\n",
    "typename=\"poi_freibad_view\"\n",
    "\n",
    "imp_file=\"gdf_\"+typename+\"_wgs84\"\n",
    "exp_file=\"gdf_\"+typename\n",
    "\n",
    "#place urlX\n",
    "imp_file = gpd.read_file(url7)\n",
    "\n",
    "#imp_file.info()\n",
    "imp_file['name'].unique()\n",
    "#gdf_poi_bikepark_view_wgs84.head()"
   ]
  },
  {
   "cell_type": "markdown",
   "id": "cb692bbe-634f-4768-b533-ff12c8a9da1a",
   "metadata": {
    "tags": []
   },
   "source": [
    "#### Step2: Datensätze exportieren\n"
   ]
  },
  {
   "cell_type": "code",
   "execution_count": 396,
   "id": "3dd57275-ba0b-43ec-9aa3-bdcd0ae4e77a",
   "metadata": {
    "tags": []
   },
   "outputs": [],
   "source": [
    "exp_file = imp_file.to_crs(epsg=2056)\n",
    "#gdf_poi_bikepark_view['geometry'].head(1)"
   ]
  },
  {
   "cell_type": "markdown",
   "id": "80505fb6-ceb4-4880-b11d-dbdff1db2bb0",
   "metadata": {
    "tags": []
   },
   "source": [
    "Speichere den Geodatensatz für Stefanie auf `O:\\GIS\\Daten\\Vektor\\2021\\quartierspiegel` als Shapefile\n"
   ]
  },
  {
   "cell_type": "code",
   "execution_count": 397,
   "id": "068adc0f-738e-49fa-ae21-b88e420a3bb2",
   "metadata": {
    "tags": []
   },
   "outputs": [
    {
     "name": "stderr",
     "output_type": "stream",
     "text": [
      "C:\\Users\\sszsim\\AppData\\Local\\Temp/ipykernel_9756/1368340669.py:1: UserWarning: Column names longer than 10 characters will be truncated when saved to ESRI Shapefile.\n",
      "  exp_file.to_file(gis_ablagepfad+\"export_\"+typename+date_today+\".shp\", encoding='utf-8')\n"
     ]
    },
    {
     "name": "stdout",
     "output_type": "stream",
     "text": [
      "//szh/ssz/data/GIS/Daten/Vektor/2021/quartierspiegel/export_poi_freibad_view.shp\n"
     ]
    }
   ],
   "source": [
    "exp_file.to_file(gis_ablagepfad+\"export_\"+typename+date_today+\".shp\", encoding='utf-8')\n",
    "print(gis_ablagepfad+\"export_\"+typename+\".shp\")"
   ]
  },
  {
   "cell_type": "markdown",
   "id": "a324b67a-b9be-4f1f-83d5-eef46ae65acd",
   "metadata": {
    "tags": []
   },
   "source": [
    "Speichere sie auch im Arbeitsverzeichnis als Shapefile und Geopackage ab"
   ]
  },
  {
   "cell_type": "code",
   "execution_count": 398,
   "id": "249dbddf-f31c-489c-81b3-ef1a0097f26f",
   "metadata": {
    "tags": []
   },
   "outputs": [
    {
     "name": "stderr",
     "output_type": "stream",
     "text": [
      "C:\\Users\\sszsim\\AppData\\Local\\Temp/ipykernel_9756/1312096258.py:1: UserWarning: Column names longer than 10 characters will be truncated when saved to ESRI Shapefile.\n",
      "  exp_file.to_file(\"./output/shapefiles/export_\"+typename+date_today+\".shp\", encoding='utf-8')\n"
     ]
    },
    {
     "name": "stdout",
     "output_type": "stream",
     "text": [
      "GPKG exportiert nach: ./output/geopackages/export_poi_freibad_view.gpkg\n"
     ]
    }
   ],
   "source": [
    "exp_file.to_file(\"./output/shapefiles/export_\"+typename+date_today+\".shp\", encoding='utf-8')\n",
    "exp_file.to_file(\"./output/geopackages/export_\"+typename+date_today+\".gpkg\", driver='GPKG')\n",
    "#exp_file.plot()\n",
    "print(\"GPKG exportiert nach: \"+\"./output/geopackages/export_\"+typename+date_today+\".gpkg\")"
   ]
  },
  {
   "cell_type": "markdown",
   "id": "01f3e063-2059-402d-a4dd-c9498a4540d0",
   "metadata": {},
   "source": [
    "### Fussballplätze (8)"
   ]
  },
  {
   "cell_type": "code",
   "execution_count": 399,
   "id": "b7c5d148-f352-42e7-8a3b-951e4391d159",
   "metadata": {
    "tags": []
   },
   "outputs": [
    {
     "data": {
      "text/plain": [
       "array(['Rasensportanlage Katzenbach', 'Sportzentrum Utogrund',\n",
       "       'Sportzentrum Eichrain', 'Sportzentrum Fronwald',\n",
       "       'Sportzentrum Heerenschürli', 'Sportzentrum Witikon',\n",
       "       'Rasensportanlage Neudorf', 'Sportzentrum Heuried',\n",
       "       'Rasensportanlage Juchhof 2', 'Rasensportanlage Allmend Brunau',\n",
       "       'Sportzentrum Buchlern', 'Sportzentrum Hardhof',\n",
       "       'Rasensportanlage Forrenweid', 'Rasensportanlage Juchhof 1',\n",
       "       'Rasenspielfeld Liguster'], dtype=object)"
      ]
     },
     "execution_count": 399,
     "metadata": {},
     "output_type": "execute_result"
    }
   ],
   "source": [
    "url8 = \"https://www.ogd.stadt-zuerich.ch/wfs/geoportal/Sport?service=WFS&version=1.1.0&request=GetFeature&outputFormat=GeoJSON&typename=poi_fussballplatz_view\"\n",
    "\n",
    "typename=\"poi_fussballplatz_view\"\n",
    "\n",
    "imp_file=\"gdf_\"+typename+\"_wgs84\"\n",
    "exp_file=\"gdf_\"+typename\n",
    "\n",
    "imp_file = gpd.read_file(url8)\n",
    "\n",
    "#imp_file.info()\n",
    "imp_file['name'].unique()\n",
    "#gdf_poi_bikepark_view_wgs84.head()"
   ]
  },
  {
   "cell_type": "markdown",
   "id": "ecb7cd43-cf2f-493c-9fbe-28104b46f8c8",
   "metadata": {
    "tags": []
   },
   "source": [
    "#### Step2: Datensätze exportieren\n"
   ]
  },
  {
   "cell_type": "code",
   "execution_count": 400,
   "id": "ef6a3b5f-6c3d-44ad-a343-3184f7b74c5a",
   "metadata": {
    "tags": []
   },
   "outputs": [],
   "source": [
    "exp_file = imp_file.to_crs(epsg=2056)\n",
    "#gdf_poi_bikepark_view['geometry'].head(1)"
   ]
  },
  {
   "cell_type": "markdown",
   "id": "e563da9c-f794-40e7-ab3c-172a1a4fcb3e",
   "metadata": {
    "tags": []
   },
   "source": [
    "Speichere den Geodatensatz für Stefanie auf `O:\\GIS\\Daten\\Vektor\\2021\\quartierspiegel` als Shapefile\n"
   ]
  },
  {
   "cell_type": "code",
   "execution_count": 401,
   "id": "c4b705b1-abfa-4167-b78e-105dddc3bdbf",
   "metadata": {
    "tags": []
   },
   "outputs": [
    {
     "name": "stderr",
     "output_type": "stream",
     "text": [
      "C:\\Users\\sszsim\\AppData\\Local\\Temp/ipykernel_9756/1368340669.py:1: UserWarning: Column names longer than 10 characters will be truncated when saved to ESRI Shapefile.\n",
      "  exp_file.to_file(gis_ablagepfad+\"export_\"+typename+date_today+\".shp\", encoding='utf-8')\n"
     ]
    },
    {
     "name": "stdout",
     "output_type": "stream",
     "text": [
      "//szh/ssz/data/GIS/Daten/Vektor/2021/quartierspiegel/export_poi_fussballplatz_view.shp\n"
     ]
    }
   ],
   "source": [
    "exp_file.to_file(gis_ablagepfad+\"export_\"+typename+date_today+\".shp\", encoding='utf-8')\n",
    "print(gis_ablagepfad+\"export_\"+typename+\".shp\")"
   ]
  },
  {
   "cell_type": "markdown",
   "id": "39f65243-9c92-46f4-9385-eaf1cbd94d2f",
   "metadata": {
    "tags": []
   },
   "source": [
    "Speichere sie auch im Arbeitsverzeichnis als Shapefile und Geopackage ab"
   ]
  },
  {
   "cell_type": "code",
   "execution_count": 402,
   "id": "d34e4c33-5bfc-4581-af81-a09b958c704c",
   "metadata": {
    "tags": []
   },
   "outputs": [
    {
     "name": "stderr",
     "output_type": "stream",
     "text": [
      "C:\\Users\\sszsim\\AppData\\Local\\Temp/ipykernel_9756/1312096258.py:1: UserWarning: Column names longer than 10 characters will be truncated when saved to ESRI Shapefile.\n",
      "  exp_file.to_file(\"./output/shapefiles/export_\"+typename+date_today+\".shp\", encoding='utf-8')\n"
     ]
    },
    {
     "name": "stdout",
     "output_type": "stream",
     "text": [
      "GPKG exportiert nach: ./output/geopackages/export_poi_fussballplatz_view.gpkg\n"
     ]
    }
   ],
   "source": [
    "exp_file.to_file(\"./output/shapefiles/export_\"+typename+date_today+\".shp\", encoding='utf-8')\n",
    "exp_file.to_file(\"./output/geopackages/export_\"+typename+date_today+\".gpkg\", driver='GPKG')\n",
    "#exp_file.plot()\n",
    "print(\"GPKG exportiert nach: \"+\"./output/geopackages/export_\"+typename+date_today+\".gpkg\")"
   ]
  },
  {
   "cell_type": "code",
   "execution_count": null,
   "id": "6e4dbdb7-3bc5-4760-8f66-22406ac5e1e4",
   "metadata": {},
   "outputs": [],
   "source": []
  },
  {
   "cell_type": "markdown",
   "id": "bb34c739-f56b-45b3-b2aa-3e92dbf04a71",
   "metadata": {},
   "source": [
    "### Gemeinschaftszentrum (9)"
   ]
  },
  {
   "cell_type": "code",
   "execution_count": 403,
   "id": "617445d8-a21d-4043-9696-dba5b9b14068",
   "metadata": {
    "tags": []
   },
   "outputs": [
    {
     "data": {
      "text/plain": [
       "array(['GZ Heuried', 'GZ Hirzenbach', 'GZ Hottingen', 'GZ Leimbach',\n",
       "       'GZ Loogarten', 'GZ Riesbach', 'GZ Seebach', 'GZ Wipkingen',\n",
       "       'GZ Witikon', 'GZ Leimbach - Standort Manegg',\n",
       "       'GZ Wollishofen - Standort Albisstrasse',\n",
       "       'GZ Heuried - Standort Manesse', 'GZ Buchegg', 'GZ Grünau',\n",
       "       'GZ Höngg', 'GZ Wollishofen, Standort Neubühl', 'GZ Affoltern',\n",
       "       'GZ Bachwiesen', 'GZ Wollishofen', 'GZ Oerlikon',\n",
       "       'GZ Schindlergut', 'GZ Höngg - Standort Rütihof',\n",
       "       'GZ Hottingen - Standort Klosbachstrasse',\n",
       "       'GZ Loogarten - Standort Badenerstrasse'], dtype=object)"
      ]
     },
     "execution_count": 403,
     "metadata": {},
     "output_type": "execute_result"
    }
   ],
   "source": [
    "url9 = \"https://www.ogd.stadt-zuerich.ch/wfs/geoportal/Gemeinschaftszentrum?service=WFS&version=1.1.0&request=GetFeature&outputFormat=GeoJSON&typename=poi_gemeinschaftszentrum_view\"\n",
    "\n",
    "typename=\"poi_gemeinschaftszentrum_view\"\n",
    "\n",
    "imp_file=\"gdf_\"+typename+\"_wgs84\"\n",
    "exp_file=\"gdf_\"+typename\n",
    "\n",
    "imp_file = gpd.read_file(url9)\n",
    "\n",
    "#imp_file.info()\n",
    "imp_file['name'].unique()\n",
    "#gdf_poi_bikepark_view_wgs84.head()"
   ]
  },
  {
   "cell_type": "markdown",
   "id": "c136ca43-5304-44fa-b774-3c0bcd7cbbe4",
   "metadata": {
    "tags": []
   },
   "source": [
    "#### Step2: Datensätze exportieren\n"
   ]
  },
  {
   "cell_type": "code",
   "execution_count": 404,
   "id": "976dbe41-0ff2-46a6-a560-738d0cf7d615",
   "metadata": {
    "tags": []
   },
   "outputs": [],
   "source": [
    "exp_file = imp_file.to_crs(epsg=2056)\n",
    "#gdf_poi_bikepark_view['geometry'].head(1)"
   ]
  },
  {
   "cell_type": "markdown",
   "id": "7b760734-c1f3-4c84-b720-c623c4d55fb1",
   "metadata": {
    "tags": []
   },
   "source": [
    "Speichere den Geodatensatz für Stefanie auf `O:\\GIS\\Daten\\Vektor\\2021\\quartierspiegel` als Shapefile\n"
   ]
  },
  {
   "cell_type": "code",
   "execution_count": 405,
   "id": "0f0a921f-5e26-4b97-a976-d8306b016107",
   "metadata": {
    "tags": []
   },
   "outputs": [
    {
     "name": "stderr",
     "output_type": "stream",
     "text": [
      "C:\\Users\\sszsim\\AppData\\Local\\Temp/ipykernel_9756/1368340669.py:1: UserWarning: Column names longer than 10 characters will be truncated when saved to ESRI Shapefile.\n",
      "  exp_file.to_file(gis_ablagepfad+\"export_\"+typename+date_today+\".shp\", encoding='utf-8')\n"
     ]
    },
    {
     "name": "stdout",
     "output_type": "stream",
     "text": [
      "//szh/ssz/data/GIS/Daten/Vektor/2021/quartierspiegel/export_poi_gemeinschaftszentrum_view.shp\n"
     ]
    }
   ],
   "source": [
    "exp_file.to_file(gis_ablagepfad+\"export_\"+typename+date_today+\".shp\", encoding='utf-8')\n",
    "print(gis_ablagepfad+\"export_\"+typename+\".shp\")"
   ]
  },
  {
   "cell_type": "markdown",
   "id": "f0f24aa5-203b-4873-8b34-aaf73680a13a",
   "metadata": {
    "tags": []
   },
   "source": [
    "Speichere sie auch im Arbeitsverzeichnis als Shapefile und Geopackage ab"
   ]
  },
  {
   "cell_type": "code",
   "execution_count": 406,
   "id": "e53a9627-89c3-4c4c-b676-1d8d2e92aa4c",
   "metadata": {
    "tags": []
   },
   "outputs": [
    {
     "name": "stderr",
     "output_type": "stream",
     "text": [
      "C:\\Users\\sszsim\\AppData\\Local\\Temp/ipykernel_9756/1312096258.py:1: UserWarning: Column names longer than 10 characters will be truncated when saved to ESRI Shapefile.\n",
      "  exp_file.to_file(\"./output/shapefiles/export_\"+typename+date_today+\".shp\", encoding='utf-8')\n"
     ]
    },
    {
     "name": "stdout",
     "output_type": "stream",
     "text": [
      "GPKG exportiert nach: ./output/geopackages/export_poi_gemeinschaftszentrum_view.gpkg\n"
     ]
    }
   ],
   "source": [
    "exp_file.to_file(\"./output/shapefiles/export_\"+typename+date_today+\".shp\", encoding='utf-8')\n",
    "exp_file.to_file(\"./output/geopackages/export_\"+typename+date_today+\".gpkg\", driver='GPKG')\n",
    "#exp_file.plot()\n",
    "print(\"GPKG exportiert nach: \"+\"./output/geopackages/export_\"+typename+date_today+\".gpkg\")"
   ]
  },
  {
   "cell_type": "code",
   "execution_count": null,
   "id": "d2d50247-d965-4e4d-8b64-ea6abc831816",
   "metadata": {},
   "outputs": [],
   "source": []
  },
  {
   "cell_type": "markdown",
   "id": "18d56a80-e0e1-48e9-a828-1a8538c10d1d",
   "metadata": {
    "tags": []
   },
   "source": [
    "### Hallenbad (10)"
   ]
  },
  {
   "cell_type": "code",
   "execution_count": 407,
   "id": "3ed312f9-4e02-4192-b69b-fbe4464208ef",
   "metadata": {
    "tags": []
   },
   "outputs": [
    {
     "data": {
      "text/plain": [
       "array(['Hallenbad Altstetten', 'Hallenbad Bläsi', 'Hallenbad Bungertwies',\n",
       "       'Hallenbad City', 'Wärmebad Käferberg', 'Hallenbad Leimbach',\n",
       "       'Hallenbad Oerlikon'], dtype=object)"
      ]
     },
     "execution_count": 407,
     "metadata": {},
     "output_type": "execute_result"
    }
   ],
   "source": [
    "url10 = \"https://www.ogd.stadt-zuerich.ch/wfs/geoportal/Sport?service=WFS&version=1.1.0&request=GetFeature&outputFormat=GeoJSON&typename=poi_hallenbad_view\"\n",
    "\n",
    "typename=\"poi_hallenbad_view\"\n",
    "\n",
    "imp_file=\"gdf_\"+typename+\"_wgs84\"\n",
    "exp_file=\"gdf_\"+typename\n",
    "\n",
    "imp_file = gpd.read_file(url10)\n",
    "\n",
    "#imp_file.info()\n",
    "imp_file['name'].unique()\n",
    "#gdf_poi_bikepark_view_wgs84.head()"
   ]
  },
  {
   "cell_type": "markdown",
   "id": "37386885-4b44-4f11-a585-439150ae9913",
   "metadata": {
    "tags": []
   },
   "source": [
    "#### Step2: Datensätze exportieren\n"
   ]
  },
  {
   "cell_type": "code",
   "execution_count": 408,
   "id": "07caa73c-88ea-45a1-aeb7-5f96101985f2",
   "metadata": {
    "tags": []
   },
   "outputs": [],
   "source": [
    "exp_file = imp_file.to_crs(epsg=2056)\n",
    "#gdf_poi_bikepark_view['geometry'].head(1)"
   ]
  },
  {
   "cell_type": "markdown",
   "id": "592fa163-6517-4703-9d3b-958b2867423d",
   "metadata": {
    "tags": []
   },
   "source": [
    "Speichere den Geodatensatz für Stefanie auf `O:\\GIS\\Daten\\Vektor\\2021\\quartierspiegel` als Shapefile"
   ]
  },
  {
   "cell_type": "code",
   "execution_count": null,
   "id": "98669f8b-69c8-4b90-9ce3-6c4594b5b766",
   "metadata": {
    "tags": []
   },
   "outputs": [],
   "source": [
    "exp_file.to_file(gis_ablagepfad+\"export_\"+typename+date_today+\".shp\", encoding='utf-8')\n",
    "print(gis_ablagepfad+\"export_\"+typename+\".shp\")"
   ]
  },
  {
   "cell_type": "markdown",
   "id": "b2630ca4-d672-4126-ac74-d5bf20a6280d",
   "metadata": {
    "tags": []
   },
   "source": [
    "Speichere sie auch im Arbeitsverzeichnis als Shapefile und Geopackage ab"
   ]
  },
  {
   "cell_type": "code",
   "execution_count": null,
   "id": "36bd4634-72fe-4001-a25c-09ae15a0657a",
   "metadata": {
    "tags": []
   },
   "outputs": [],
   "source": [
    "exp_file.to_file(\"./output/shapefiles/export_\"+typename+date_today+\".shp\", encoding='utf-8')\n",
    "exp_file.to_file(\"./output/geopackages/export_\"+typename+date_today+\".gpkg\", driver='GPKG')\n",
    "#exp_file.plot()\n",
    "print(\"GPKG exportiert nach: \"+\"./output/geopackages/export_\"+typename+date_today+\".gpkg\")"
   ]
  },
  {
   "cell_type": "code",
   "execution_count": null,
   "id": "3ca47034-b19a-4381-bd78-ee1716d444c6",
   "metadata": {},
   "outputs": [],
   "source": []
  },
  {
   "cell_type": "markdown",
   "id": "3e4c652f-1e77-4ebc-8fcd-7dd88a0b25aa",
   "metadata": {
    "tags": []
   },
   "source": [
    "### Jugendtreff (11)"
   ]
  },
  {
   "cell_type": "code",
   "execution_count": null,
   "id": "d4916e49-1e59-4d33-aefc-8ec32d7a6842",
   "metadata": {
    "tags": []
   },
   "outputs": [],
   "source": [
    "url11 = \"https://www.ogd.stadt-zuerich.ch/wfs/geoportal/Jugendtreff?service=WFS&version=1.1.0&request=GetFeature&outputFormat=GeoJSON&typename=poi_jugendtreff_view\"\n",
    "\n",
    "typename=\"poi_jugendtreff_view\"\n",
    "\n",
    "imp_file=\"gdf_\"+typename+\"_wgs84\"\n",
    "exp_file=\"gdf_\"+typename\n",
    "\n",
    "imp_file = gpd.read_file(url11)\n",
    "\n",
    "#imp_file.info()\n",
    "imp_file['name'].unique()\n",
    "#gdf_poi_bikepark_view_wgs84.head()"
   ]
  },
  {
   "cell_type": "markdown",
   "id": "5bfa7d9f-f1f4-4840-a047-4983f889faab",
   "metadata": {
    "tags": []
   },
   "source": [
    "#### Step2: Datensätze exportieren\n"
   ]
  },
  {
   "cell_type": "code",
   "execution_count": null,
   "id": "cd298dea-08da-445e-9814-3a91c55969b6",
   "metadata": {
    "tags": []
   },
   "outputs": [],
   "source": [
    "exp_file = imp_file.to_crs(epsg=2056)\n",
    "#gdf_poi_bikepark_view['geometry'].head(1)"
   ]
  },
  {
   "cell_type": "markdown",
   "id": "2825a1ec-6005-4ded-8194-c7ab347c0126",
   "metadata": {
    "tags": []
   },
   "source": [
    "Speichere den Geodatensatz für Stefanie auf `O:\\GIS\\Daten\\Vektor\\2021\\quartierspiegel` als Shapefile\n"
   ]
  },
  {
   "cell_type": "code",
   "execution_count": null,
   "id": "b137662a-80e7-4102-9454-55754a6355a6",
   "metadata": {
    "tags": []
   },
   "outputs": [],
   "source": [
    "exp_file.to_file(gis_ablagepfad+\"export_\"+typename+date_today+\".shp\", encoding='utf-8')\n",
    "print(gis_ablagepfad+\"export_\"+typename+\".shp\")"
   ]
  },
  {
   "cell_type": "markdown",
   "id": "d674f79d-ba7b-4905-a839-e85c68548727",
   "metadata": {
    "tags": []
   },
   "source": [
    "Speichere sie auch im Arbeitsverzeichnis als Shapefile und Geopackage ab"
   ]
  },
  {
   "cell_type": "code",
   "execution_count": null,
   "id": "ff2cbe87-bbe0-41f1-a8de-46c32fe3801a",
   "metadata": {
    "tags": []
   },
   "outputs": [],
   "source": [
    "exp_file.to_file(\"./output/shapefiles/export_\"+typename+date_today+\".shp\", encoding='utf-8')\n",
    "exp_file.to_file(\"./output/geopackages/export_\"+typename+date_today+\".gpkg\", driver='GPKG')\n",
    "#exp_file.plot()\n",
    "print(\"GPKG exportiert nach: \"+\"./output/geopackages/export_\"+typename+date_today+\".gpkg\")"
   ]
  },
  {
   "cell_type": "code",
   "execution_count": null,
   "id": "fc13af6f-f2ef-4bba-96cf-9e105fa74fc1",
   "metadata": {},
   "outputs": [],
   "source": []
  },
  {
   "cell_type": "markdown",
   "id": "0fabec92-113d-4dfc-b322-2689adb6e6f3",
   "metadata": {
    "tags": []
   },
   "source": [
    "### Park (12)"
   ]
  },
  {
   "cell_type": "code",
   "execution_count": null,
   "id": "3dd3a0cc-599a-44b6-b276-83f285151321",
   "metadata": {
    "tags": []
   },
   "outputs": [],
   "source": [
    "url12 = \"https://www.ogd.stadt-zuerich.ch/wfs/geoportal/Park?service=WFS&version=1.1.0&request=GetFeature&outputFormat=GeoJSON&typename=poi_park_view\"\n",
    "\n",
    "typename=\"poi_park_view\"\n",
    "\n",
    "imp_file=\"gdf_\"+typename+\"_wgs84\"\n",
    "exp_file=\"gdf_\"+typename\n",
    "\n",
    "imp_file = gpd.read_file(url12)\n",
    "\n",
    "#imp_file.info()\n",
    "imp_file['name'].unique()\n",
    "#gdf_poi_bikepark_view_wgs84.head()"
   ]
  },
  {
   "cell_type": "markdown",
   "id": "6875e930-4174-4763-a30a-ee5be66f27f9",
   "metadata": {
    "tags": []
   },
   "source": [
    "#### Step2: Datensätze exportieren\n"
   ]
  },
  {
   "cell_type": "code",
   "execution_count": null,
   "id": "776aa195-2180-47b7-8642-db42629e592e",
   "metadata": {
    "tags": []
   },
   "outputs": [],
   "source": [
    "exp_file = imp_file.to_crs(epsg=2056)\n",
    "#gdf_poi_bikepark_view['geometry'].head(1)"
   ]
  },
  {
   "cell_type": "markdown",
   "id": "784e4bfd-b0e7-4c3c-a2cc-e8ed9cd5ad43",
   "metadata": {
    "tags": []
   },
   "source": [
    "Speichere den Geodatensatz für Stefanie auf `O:\\GIS\\Daten\\Vektor\\2021\\quartierspiegel` als Shapefile"
   ]
  },
  {
   "cell_type": "code",
   "execution_count": null,
   "id": "9b36426d-2665-4912-94b9-628b02dc399e",
   "metadata": {
    "tags": []
   },
   "outputs": [],
   "source": [
    "exp_file.to_file(gis_ablagepfad+\"export_\"+typename+date_today+\".shp\", encoding='utf-8')\n",
    "print(gis_ablagepfad+\"export_\"+typename+\".shp\")"
   ]
  },
  {
   "cell_type": "markdown",
   "id": "b768e2e3-436b-42fc-b42c-dae5b4ff888c",
   "metadata": {
    "tags": []
   },
   "source": [
    "Speichere sie auch im Arbeitsverzeichnis als Shapefile und Geopackage ab"
   ]
  },
  {
   "cell_type": "code",
   "execution_count": null,
   "id": "d6ead930-15e1-41a7-a917-dbb4a4329e55",
   "metadata": {
    "tags": []
   },
   "outputs": [],
   "source": [
    "exp_file.to_file(\"./output/shapefiles/export_\"+typename+date_today+\".shp\", encoding='utf-8')\n",
    "exp_file.to_file(\"./output/geopackages/export_\"+typename+date_today+\".gpkg\", driver='GPKG')\n",
    "#exp_file.plot()\n",
    "print(\"GPKG exportiert nach: \"+\"./output/geopackages/export_\"+typename+date_today+\".gpkg\")"
   ]
  },
  {
   "cell_type": "code",
   "execution_count": null,
   "id": "02db04b9-1ac0-4209-859c-4ff332f818c0",
   "metadata": {},
   "outputs": [],
   "source": []
  },
  {
   "cell_type": "markdown",
   "id": "d9a9475d-6cd5-45fe-9f55-8503176412ca",
   "metadata": {
    "tags": []
   },
   "source": [
    "### Picknick (13)"
   ]
  },
  {
   "cell_type": "code",
   "execution_count": null,
   "id": "f20956ff-9813-4b95-bd77-e1a28a2c0843",
   "metadata": {
    "tags": []
   },
   "outputs": [],
   "source": [
    "url13 = \"https://www.ogd.stadt-zuerich.ch/wfs/geoportal/Erholungs__und_Sporteinrichtungen?service=WFS&version=1.1.0&request=GetFeature&outputFormat=GeoJSON&typename=poi_picknickplatz_view\"\n",
    "\n",
    "typename=\"poi_picknickplatz_view\"\n",
    "\n",
    "imp_file=\"gdf_\"+typename+\"_wgs84\"\n",
    "exp_file=\"gdf_\"+typename\n",
    "\n",
    "imp_file = gpd.read_file(url13)\n",
    "\n",
    "#imp_file.info()\n",
    "imp_file['name'].unique()\n"
   ]
  },
  {
   "cell_type": "markdown",
   "id": "ef8d62a5-5c5a-452d-8a87-c552ce7e0886",
   "metadata": {
    "tags": []
   },
   "source": [
    "#### Step2: Datensätze exportieren\n"
   ]
  },
  {
   "cell_type": "code",
   "execution_count": null,
   "id": "e7d8df3d-db4b-4653-bafe-783c33428ea6",
   "metadata": {
    "tags": []
   },
   "outputs": [],
   "source": [
    "exp_file = imp_file.to_crs(epsg=2056)\n",
    "#gdf_poi_bikepark_view['geometry'].head(1)"
   ]
  },
  {
   "cell_type": "markdown",
   "id": "3fea17d8-5d32-4a4f-a676-16f92b7e1de4",
   "metadata": {
    "tags": []
   },
   "source": [
    "Speichere den Geodatensatz für Stefanie auf `O:\\GIS\\Daten\\Vektor\\2021\\quartierspiegel` als Shapefile\n"
   ]
  },
  {
   "cell_type": "code",
   "execution_count": null,
   "id": "ea656d69-1ec4-4292-9b95-2007416e0a68",
   "metadata": {
    "tags": []
   },
   "outputs": [],
   "source": [
    "exp_file.to_file(gis_ablagepfad+\"export_\"+typename+date_today+\".shp\", encoding='utf-8')\n",
    "print(gis_ablagepfad+\"export_\"+typename+\".shp\")"
   ]
  },
  {
   "cell_type": "markdown",
   "id": "58f9cf2b-e0c3-4628-8194-df940b6649a6",
   "metadata": {
    "tags": []
   },
   "source": [
    "Speichere sie auch im Arbeitsverzeichnis als Shapefile und Geopackage ab"
   ]
  },
  {
   "cell_type": "code",
   "execution_count": null,
   "id": "0e532a8a-b382-4ae6-83d6-af0bb0c0e22f",
   "metadata": {
    "tags": []
   },
   "outputs": [],
   "source": [
    "exp_file.to_file(\"./output/shapefiles/export_\"+typename+date_today+\".shp\", encoding='utf-8')\n",
    "exp_file.to_file(\"./output/geopackages/export_\"+typename+date_today+\".gpkg\", driver='GPKG')\n",
    "#exp_file.plot()\n",
    "print(\"GPKG exportiert nach: \"+\"./output/geopackages/export_\"+typename+date_today+\".gpkg\")"
   ]
  },
  {
   "cell_type": "code",
   "execution_count": null,
   "id": "5062cbd6-d32b-4642-8b8c-aea1e4d655e6",
   "metadata": {},
   "outputs": [],
   "source": []
  },
  {
   "cell_type": "markdown",
   "id": "dbb0bf27-993e-419f-a18d-5989ee82eff4",
   "metadata": {
    "tags": []
   },
   "source": [
    "### Quartiertreffhaus (14)"
   ]
  },
  {
   "cell_type": "code",
   "execution_count": null,
   "id": "7c5abe46-90b2-4dd7-ad5e-9ab3e15dacab",
   "metadata": {
    "tags": []
   },
   "outputs": [],
   "source": [
    "url14 = \"https://www.ogd.stadt-zuerich.ch/wfs/geoportal/Quartiertreff?service=WFS&version=1.1.0&request=GetFeature&outputFormat=GeoJSON&typename=poi_quartiertreffhaus_view\"\n",
    "\n",
    "typename=\"poi_quartiertreffhaus_view\"\n",
    "\n",
    "imp_file=\"gdf_\"+typename+\"_wgs84\"\n",
    "exp_file=\"gdf_\"+typename\n",
    "\n",
    "imp_file = gpd.read_file(url14)\n",
    "\n",
    "#imp_file.info()\n",
    "imp_file['name'].unique()\n",
    "#gdf_poi_bikepark_view_wgs84.head()"
   ]
  },
  {
   "cell_type": "markdown",
   "id": "1915eb80-a04e-42f6-b048-4655db9dcc3c",
   "metadata": {
    "tags": []
   },
   "source": [
    "#### Step2: Datensätze exportieren\n"
   ]
  },
  {
   "cell_type": "code",
   "execution_count": null,
   "id": "25d34360-f19f-4d1f-ab44-869f6112fd88",
   "metadata": {
    "tags": []
   },
   "outputs": [],
   "source": [
    "exp_file = imp_file.to_crs(epsg=2056)\n",
    "#gdf_poi_bikepark_view['geometry'].head(1)"
   ]
  },
  {
   "cell_type": "markdown",
   "id": "42e1440b-2473-4dc6-8cd6-0ebc58c0e281",
   "metadata": {
    "tags": []
   },
   "source": [
    "Speichere den Geodatensatz für Stefanie auf `O:\\GIS\\Daten\\Vektor\\2021\\quartierspiegel` als Shapefile"
   ]
  },
  {
   "cell_type": "code",
   "execution_count": null,
   "id": "37958f45-872a-485b-a326-a944ca85389f",
   "metadata": {
    "tags": []
   },
   "outputs": [],
   "source": [
    "exp_file.to_file(gis_ablagepfad+\"export_\"+typename+date_today+\".shp\", encoding='utf-8')\n",
    "print(gis_ablagepfad+\"export_\"+typename+\".shp\")"
   ]
  },
  {
   "cell_type": "markdown",
   "id": "9af41e79-7d0b-43ac-a4a9-8cc65167a213",
   "metadata": {
    "tags": []
   },
   "source": [
    "Speichere sie auch im Arbeitsverzeichnis als Shapefile und Geopackage ab"
   ]
  },
  {
   "cell_type": "code",
   "execution_count": null,
   "id": "519d7119-a674-48c0-ae5e-d9a8284bf3ff",
   "metadata": {
    "tags": []
   },
   "outputs": [],
   "source": [
    "exp_file.to_file(\"./output/shapefiles/export_\"+typename+date_today+\".shp\", encoding='utf-8')\n",
    "exp_file.to_file(\"./output/geopackages/export_\"+typename+date_today+\".gpkg\", driver='GPKG')\n",
    "#exp_file.plot()\n",
    "print(\"GPKG exportiert nach: \"+\"./output/geopackages/export_\"+typename+date_today+\".gpkg\")"
   ]
  },
  {
   "cell_type": "code",
   "execution_count": null,
   "id": "29214182-d7e0-4e6b-8576-03ea1c331f87",
   "metadata": {},
   "outputs": [],
   "source": []
  },
  {
   "cell_type": "markdown",
   "id": "9ce29fe7-5c25-42fb-9cc4-f157419cb3b4",
   "metadata": {
    "tags": []
   },
   "source": [
    "### Seebad (15)"
   ]
  },
  {
   "cell_type": "code",
   "execution_count": null,
   "id": "499b9dc6-b573-42fe-885d-0d2dea429a53",
   "metadata": {
    "tags": []
   },
   "outputs": [],
   "source": [
    "url15 = \"https://www.ogd.stadt-zuerich.ch/wfs/geoportal/Sport?service=WFS&version=1.1.0&request=GetFeature&outputFormat=GeoJSON&typename=poi_seebad_view\"\n",
    "\n",
    "typename=\"poi_seebad_view\"\n",
    "\n",
    "imp_file=\"gdf_\"+typename+\"_wgs84\"\n",
    "exp_file=\"gdf_\"+typename\n",
    "\n",
    "imp_file = gpd.read_file(url15)\n",
    "\n",
    "#imp_file.info()\n",
    "imp_file['name'].unique()\n",
    "#gdf_poi_bikepark_view_wgs84.head()"
   ]
  },
  {
   "cell_type": "markdown",
   "id": "593d9a25-17b0-4cc0-85aa-8a9148fe7bfc",
   "metadata": {
    "tags": []
   },
   "source": [
    "#### Step2: Datensätze exportieren\n"
   ]
  },
  {
   "cell_type": "code",
   "execution_count": null,
   "id": "ec435bf6-f3a3-43ff-a383-cb0be77cfc27",
   "metadata": {
    "tags": []
   },
   "outputs": [],
   "source": [
    "exp_file = imp_file.to_crs(epsg=2056)\n",
    "#gdf_poi_bikepark_view['geometry'].head(1)"
   ]
  },
  {
   "cell_type": "markdown",
   "id": "1b1a71d5-9b49-417b-8620-f4edd3e2fbae",
   "metadata": {
    "tags": []
   },
   "source": [
    "Speichere den Geodatensatz für Stefanie auf `O:\\GIS\\Daten\\Vektor\\2021\\quartierspiegel` als Shapefile"
   ]
  },
  {
   "cell_type": "code",
   "execution_count": null,
   "id": "750130bd-3c9a-4bbe-b262-f05b9475541d",
   "metadata": {
    "tags": []
   },
   "outputs": [],
   "source": [
    "exp_file.to_file(gis_ablagepfad+\"export_\"+typename+date_today+\".shp\", encoding='utf-8')\n",
    "print(gis_ablagepfad+\"export_\"+typename+\".shp\")"
   ]
  },
  {
   "cell_type": "markdown",
   "id": "796bd5ae-416b-4008-a663-4e8f8cb7bec4",
   "metadata": {
    "tags": []
   },
   "source": [
    "Speichere sie auch im Arbeitsverzeichnis als Shapefile und Geopackage ab"
   ]
  },
  {
   "cell_type": "code",
   "execution_count": null,
   "id": "12e62f20-945d-4931-83f3-face2e5ff135",
   "metadata": {
    "tags": []
   },
   "outputs": [],
   "source": [
    "exp_file.to_file(\"./output/shapefiles/export_\"+typename+date_today+\".shp\", encoding='utf-8')\n",
    "exp_file.to_file(\"./output/geopackages/export_\"+typename+date_today+\".gpkg\", driver='GPKG')\n",
    "#exp_file.plot()\n",
    "print(\"GPKG exportiert nach: \"+\"./output/geopackages/export_\"+typename+date_today+\".gpkg\")"
   ]
  },
  {
   "cell_type": "markdown",
   "id": "888ca99e-db2e-49bc-8863-eb31616fc2a2",
   "metadata": {
    "tags": []
   },
   "source": [
    "### Skateranlage (16)"
   ]
  },
  {
   "cell_type": "code",
   "execution_count": null,
   "id": "b38e3e29-c770-4d1a-a24b-fcbc05844e4a",
   "metadata": {
    "tags": []
   },
   "outputs": [],
   "source": [
    "url16 = \"https://www.ogd.stadt-zuerich.ch/wfs/geoportal/Sport?service=WFS&version=1.1.0&request=GetFeature&outputFormat=GeoJSON&typename=poi_skateranlage_view\"\n",
    "\n",
    "typename=\"poi_skateranlage_view\"\n",
    "\n",
    "imp_file=\"gdf_\"+typename+\"_wgs84\"\n",
    "exp_file=\"gdf_\"+typename\n",
    "\n",
    "imp_file = gpd.read_file(url16)\n",
    "\n",
    "#imp_file.info()\n",
    "imp_file['name'].unique()\n",
    "#gdf_poi_bikepark_view_wgs84.head()"
   ]
  },
  {
   "cell_type": "markdown",
   "id": "db0bcb46-3032-423a-9eff-65989d524a7e",
   "metadata": {
    "tags": []
   },
   "source": [
    "#### Step2: Datensätze exportieren\n"
   ]
  },
  {
   "cell_type": "code",
   "execution_count": null,
   "id": "576739c3-ee69-4413-868c-f47bcc4deb09",
   "metadata": {
    "tags": []
   },
   "outputs": [],
   "source": [
    "exp_file = imp_file.to_crs(epsg=2056)\n",
    "#gdf_poi_bikepark_view['geometry'].head(1)"
   ]
  },
  {
   "cell_type": "markdown",
   "id": "dbefbc43-a6cb-4dee-814f-fcb5ce0c3af1",
   "metadata": {
    "tags": []
   },
   "source": [
    "Speichere den Geodatensatz für Stefanie auf `O:\\GIS\\Daten\\Vektor\\2021\\quartierspiegel` als Shapefile"
   ]
  },
  {
   "cell_type": "code",
   "execution_count": null,
   "id": "41379dbb-415a-4643-9c57-83c232db5974",
   "metadata": {
    "tags": []
   },
   "outputs": [],
   "source": [
    "exp_file.to_file(gis_ablagepfad+\"export_\"+typename+date_today+\".shp\", encoding='utf-8')\n",
    "print(gis_ablagepfad+\"export_\"+typename+\".shp\")"
   ]
  },
  {
   "cell_type": "markdown",
   "id": "3bb6565d-051b-4347-9cbf-ba2662423c12",
   "metadata": {
    "tags": []
   },
   "source": [
    "Speichere sie auch im Arbeitsverzeichnis als Shapefile und Geopackage ab"
   ]
  },
  {
   "cell_type": "code",
   "execution_count": null,
   "id": "2d450765-85b3-433c-b6c4-ef2d8fb6de14",
   "metadata": {
    "tags": []
   },
   "outputs": [],
   "source": [
    "exp_file.to_file(\"./output/shapefiles/export_\"+typename+date_today+\".shp\", encoding='utf-8')\n",
    "exp_file.to_file(\"./output/geopackages/export_\"+typename+date_today+\".gpkg\", driver='GPKG')\n",
    "#exp_file.plot()\n",
    "print(\"GPKG exportiert nach: \"+\"./output/geopackages/export_\"+typename+date_today+\".gpkg\")"
   ]
  },
  {
   "cell_type": "markdown",
   "id": "dcb51722-4fc3-4935-ba6c-6c45f909fd56",
   "metadata": {
    "tags": []
   },
   "source": [
    "### Spielplatz (17)"
   ]
  },
  {
   "cell_type": "code",
   "execution_count": null,
   "id": "5cdad701-5157-44b5-9f22-acc282012628",
   "metadata": {
    "tags": []
   },
   "outputs": [],
   "source": [
    "url17 = \"https://www.ogd.stadt-zuerich.ch/wfs/geoportal/Spielgeraetekataster?service=WFS&version=1.1.0&request=GetFeature&outputFormat=GeoJSON&typename=poi_spielplatz_view\"\n",
    "\n",
    "typename=\"poi_spielplatz_view\"\n",
    "\n",
    "imp_file=\"gdf_\"+typename+\"_wgs84\"\n",
    "exp_file=\"gdf_\"+typename\n",
    "\n",
    "imp_file = gpd.read_file(url17)\n",
    "\n",
    "#imp_file.info()\n",
    "imp_file['name'].unique()\n",
    "#gdf_poi_bikepark_view_wgs84.head()"
   ]
  },
  {
   "cell_type": "markdown",
   "id": "7175a5f5-b943-4057-b87e-d66120c718d4",
   "metadata": {
    "tags": []
   },
   "source": [
    "#### Step2: Datensätze exportieren\n"
   ]
  },
  {
   "cell_type": "code",
   "execution_count": null,
   "id": "4167d382-5413-4aae-9deb-60ab8a3eca69",
   "metadata": {
    "tags": []
   },
   "outputs": [],
   "source": [
    "exp_file = imp_file.to_crs(epsg=2056)\n",
    "#gdf_poi_bikepark_view['geometry'].head(1)"
   ]
  },
  {
   "cell_type": "markdown",
   "id": "6fa74185-78c2-4b9a-8ecf-73c4ad8db073",
   "metadata": {
    "tags": []
   },
   "source": [
    "Speichere den Geodatensatz für Stefanie auf `O:\\GIS\\Daten\\Vektor\\2021\\quartierspiegel` als Shapefile"
   ]
  },
  {
   "cell_type": "code",
   "execution_count": null,
   "id": "8a1a80d7-2c84-48d6-ad2c-eab1365ccdae",
   "metadata": {
    "tags": []
   },
   "outputs": [],
   "source": [
    "exp_file.to_file(gis_ablagepfad+\"export_\"+typename+date_today+\".shp\", encoding='utf-8')\n",
    "print(gis_ablagepfad+\"export_\"+typename+\".shp\")"
   ]
  },
  {
   "cell_type": "markdown",
   "id": "da2d4d2d-d23f-42c8-8d88-003b3c8f8c7d",
   "metadata": {
    "tags": []
   },
   "source": [
    "Speichere sie auch im Arbeitsverzeichnis als Shapefile und Geopackage ab"
   ]
  },
  {
   "cell_type": "code",
   "execution_count": null,
   "id": "c0e31a43-b22c-4868-be15-98e93187b3d9",
   "metadata": {
    "tags": []
   },
   "outputs": [],
   "source": [
    "exp_file.to_file(\"./output/shapefiles/export_\"+typename+date_today+\".shp\", encoding='utf-8')\n",
    "exp_file.to_file(\"./output/geopackages/export_\"+typename+date_today+\".gpkg\", driver='GPKG')\n",
    "#exp_file.plot()\n",
    "print(\"GPKG exportiert nach: \"+\"./output/geopackages/export_\"+typename+date_today+\".gpkg\")"
   ]
  },
  {
   "cell_type": "code",
   "execution_count": null,
   "id": "8a32bd94-f65d-40aa-9013-b5c1714c4166",
   "metadata": {},
   "outputs": [],
   "source": []
  },
  {
   "cell_type": "markdown",
   "id": "72a52c97-2234-4ba7-935a-fe404ae5419c",
   "metadata": {
    "tags": []
   },
   "source": [
    "### Sporthalle (18)"
   ]
  },
  {
   "cell_type": "code",
   "execution_count": null,
   "id": "48b1314e-bcc6-4459-9c37-a97ce3c83631",
   "metadata": {
    "tags": []
   },
   "outputs": [],
   "source": [
    "url18 = \"https://www.ogd.stadt-zuerich.ch/wfs/geoportal/Sport?service=WFS&version=1.1.0&request=GetFeature&outputFormat=GeoJSON&typename=poi_sporthalle_view\"\n",
    "\n",
    "typename=\"poi_sporthalle_view\"\n",
    "\n",
    "imp_file=\"gdf_\"+typename+\"_wgs84\"\n",
    "exp_file=\"gdf_\"+typename\n",
    "\n",
    "imp_file = gpd.read_file(url18)\n",
    "\n",
    "#imp_file.info()\n",
    "imp_file['name'].unique()\n",
    "#gdf_poi_bikepark_view_wgs84.head()"
   ]
  },
  {
   "cell_type": "markdown",
   "id": "4ffd45b4-0e6a-4813-bc09-d6f685a3dedb",
   "metadata": {
    "tags": []
   },
   "source": [
    "#### Step2: Datensätze exportieren\n"
   ]
  },
  {
   "cell_type": "code",
   "execution_count": null,
   "id": "21cb6843-4aa3-4d05-bb81-09b04a3f24d7",
   "metadata": {
    "tags": []
   },
   "outputs": [],
   "source": [
    "exp_file = imp_file.to_crs(epsg=2056)\n",
    "#gdf_poi_bikepark_view['geometry'].head(1)"
   ]
  },
  {
   "cell_type": "markdown",
   "id": "f6e099a7-c354-4cab-8482-717b04368143",
   "metadata": {
    "tags": []
   },
   "source": [
    "Speichere den Geodatensatz für Stefanie auf `O:\\GIS\\Daten\\Vektor\\2021\\quartierspiegel` als Shapefile"
   ]
  },
  {
   "cell_type": "code",
   "execution_count": null,
   "id": "21380c18-ee93-490e-939a-103028d192ee",
   "metadata": {
    "tags": []
   },
   "outputs": [],
   "source": [
    "exp_file.to_file(gis_ablagepfad+\"export_\"+typename+date_today+\".shp\", encoding='utf-8')\n",
    "print(gis_ablagepfad+\"export_\"+typename+\".shp\")"
   ]
  },
  {
   "cell_type": "markdown",
   "id": "8b82d911-a9e2-4a84-8a74-85475366f884",
   "metadata": {
    "tags": []
   },
   "source": [
    "Speichere sie auch im Arbeitsverzeichnis als Shapefile und Geopackage ab"
   ]
  },
  {
   "cell_type": "code",
   "execution_count": null,
   "id": "c73b56c4-b3d8-4015-b52f-8874a15d165d",
   "metadata": {
    "tags": []
   },
   "outputs": [],
   "source": [
    "exp_file.to_file(\"./output/shapefiles/export_\"+typename+date_today+\".shp\", encoding='utf-8')\n",
    "exp_file.to_file(\"./output/geopackages/export_\"+typename+date_today+\".gpkg\", driver='GPKG')\n",
    "#exp_file.plot()\n",
    "print(\"GPKG exportiert nach: \"+\"./output/geopackages/export_\"+typename+date_today+\".gpkg\")"
   ]
  },
  {
   "cell_type": "markdown",
   "id": "a4d9bfb2-c91b-435b-92f2-1ed091b975f6",
   "metadata": {
    "tags": []
   },
   "source": [
    "### Stadion (19)"
   ]
  },
  {
   "cell_type": "code",
   "execution_count": null,
   "id": "0d157342-e468-4ef2-ab13-a8f7f4988b61",
   "metadata": {
    "tags": []
   },
   "outputs": [],
   "source": [
    "url19 = \"https://www.ogd.stadt-zuerich.ch/wfs/geoportal/Sport?service=WFS&version=1.1.0&request=GetFeature&outputFormat=GeoJSON&typename=poi_stadion_view\"\n",
    "\n",
    "typename=\"poi_stadion_view\"\n",
    "\n",
    "imp_file=\"gdf_\"+typename+\"_wgs84\"\n",
    "exp_file=\"gdf_\"+typename\n",
    "\n",
    "imp_file = gpd.read_file(url19)\n",
    "\n",
    "#imp_file.info()\n",
    "imp_file['name'].unique()\n",
    "#gdf_poi_bikepark_view_wgs84.head()"
   ]
  },
  {
   "cell_type": "markdown",
   "id": "7e9e6b85-4af9-4a6b-be11-965e582c381e",
   "metadata": {
    "tags": []
   },
   "source": [
    "#### Step2: Datensätze exportieren\n"
   ]
  },
  {
   "cell_type": "code",
   "execution_count": null,
   "id": "842fc892-2624-49db-b254-4401fe32aa23",
   "metadata": {
    "tags": []
   },
   "outputs": [],
   "source": [
    "exp_file = imp_file.to_crs(epsg=2056)\n",
    "#gdf_poi_bikepark_view['geometry'].head(1)"
   ]
  },
  {
   "cell_type": "markdown",
   "id": "5a16b5c6-8ba2-40f3-822d-2170f1ed86e0",
   "metadata": {
    "tags": []
   },
   "source": [
    "Speichere den Geodatensatz für Stefanie auf `O:\\GIS\\Daten\\Vektor\\2021\\quartierspiegel` als Shapefile"
   ]
  },
  {
   "cell_type": "code",
   "execution_count": null,
   "id": "ec606730-90ec-474a-9b67-ef874a6ecd1f",
   "metadata": {
    "tags": []
   },
   "outputs": [],
   "source": [
    "exp_file.to_file(gis_ablagepfad+\"export_\"+typename+date_today+\".shp\", encoding='utf-8')\n",
    "print(gis_ablagepfad+\"export_\"+typename+\".shp\")"
   ]
  },
  {
   "cell_type": "markdown",
   "id": "fb975fda-1d63-4c95-9af0-b4e2947307ec",
   "metadata": {
    "tags": []
   },
   "source": [
    "Speichere sie auch im Arbeitsverzeichnis als Shapefile und Geopackage ab"
   ]
  },
  {
   "cell_type": "code",
   "execution_count": null,
   "id": "c82f26f0-d1a9-42a1-b52a-2a5ff66b4777",
   "metadata": {
    "tags": []
   },
   "outputs": [],
   "source": [
    "exp_file.to_file(\"./output/shapefiles/export_\"+typename+date_today+\".shp\", encoding='utf-8')\n",
    "exp_file.to_file(\"./output/geopackages/export_\"+typename+date_today+\".gpkg\", driver='GPKG')\n",
    "#exp_file.plot()\n",
    "print(\"GPKG exportiert nach: \"+\"./output/geopackages/export_\"+typename+date_today+\".gpkg\")"
   ]
  },
  {
   "cell_type": "markdown",
   "id": "9b2eb1e8-e7ec-46c3-a62a-5bdab09ec681",
   "metadata": {
    "tags": []
   },
   "source": [
    "### Tennisplatz (20)"
   ]
  },
  {
   "cell_type": "code",
   "execution_count": null,
   "id": "117cb4ca-866c-40b1-972a-81dab9882da2",
   "metadata": {
    "tags": []
   },
   "outputs": [],
   "source": [
    "url20 = \"https://www.ogd.stadt-zuerich.ch/wfs/geoportal/Sport?service=WFS&version=1.1.0&request=GetFeature&outputFormat=GeoJSON&typename=poi_tennisplatz_view\"\n",
    "\n",
    "typename=\"poi_tennisplatz_view\"\n",
    "\n",
    "imp_file=\"gdf_\"+typename+\"_wgs84\"\n",
    "exp_file=\"gdf_\"+typename\n",
    "\n",
    "imp_file = gpd.read_file(url20)\n",
    "\n",
    "#imp_file.info()\n",
    "imp_file['name'].unique()\n",
    "#gdf_poi_bikepark_view_wgs84.head()"
   ]
  },
  {
   "cell_type": "markdown",
   "id": "ed756c97-a114-4fc3-87ce-8a3d2f743f9d",
   "metadata": {
    "tags": []
   },
   "source": [
    "#### Step2: Datensätze exportieren\n"
   ]
  },
  {
   "cell_type": "code",
   "execution_count": null,
   "id": "642be0b0-9419-4c5d-9aa2-6e79c27596d5",
   "metadata": {
    "tags": []
   },
   "outputs": [],
   "source": [
    "exp_file = imp_file.to_crs(epsg=2056)\n",
    "#gdf_poi_bikepark_view['geometry'].head(1)"
   ]
  },
  {
   "cell_type": "markdown",
   "id": "744d4723-9b7e-4459-bec8-df25af008605",
   "metadata": {
    "tags": []
   },
   "source": [
    "Speichere den Geodatensatz für Stefanie auf `O:\\GIS\\Daten\\Vektor\\2021\\quartierspiegel` als Shapefile\n"
   ]
  },
  {
   "cell_type": "code",
   "execution_count": null,
   "id": "a9e1dcce-1899-4bb6-bed1-9087dc135b28",
   "metadata": {
    "tags": []
   },
   "outputs": [],
   "source": [
    "exp_file.to_file(gis_ablagepfad+\"export_\"+typename+date_today+\".shp\", encoding='utf-8')\n",
    "print(gis_ablagepfad+\"export_\"+typename+\".shp\")"
   ]
  },
  {
   "cell_type": "markdown",
   "id": "d88d8077-6353-40d4-b1f4-57fea142d1e2",
   "metadata": {
    "tags": []
   },
   "source": [
    "Speichere sie auch im Arbeitsverzeichnis als Shapefile und Geopackage ab"
   ]
  },
  {
   "cell_type": "code",
   "execution_count": null,
   "id": "72af877a-ca3d-4834-8664-57b46bda1473",
   "metadata": {
    "tags": []
   },
   "outputs": [],
   "source": [
    "exp_file.to_file(\"./output/shapefiles/export_\"+typename+date_today+\".shp\", encoding='utf-8')\n",
    "exp_file.to_file(\"./output/geopackages/export_\"+typename+date_today+\".gpkg\", driver='GPKG')\n",
    "#exp_file.plot()\n",
    "print(\"GPKG exportiert nach: \"+\"./output/geopackages/export_\"+typename+date_today+\".gpkg\")"
   ]
  },
  {
   "cell_type": "markdown",
   "id": "a5a1b2e6-b667-4e13-93be-9cb5b634d20e",
   "metadata": {
    "tags": []
   },
   "source": [
    "### Waldhütte (21)"
   ]
  },
  {
   "cell_type": "code",
   "execution_count": null,
   "id": "1c9ffb3a-91bc-409f-91cb-bea1d54ceb63",
   "metadata": {
    "tags": []
   },
   "outputs": [],
   "source": [
    "url21 = \"https://www.ogd.stadt-zuerich.ch/wfs/geoportal/Erholungs__und_Sporteinrichtungen?service=WFS&version=1.1.0&request=GetFeature&outputFormat=GeoJSON&typename=poi_waldhuette_view\"\n",
    "\n",
    "typename=\"poi_waldhuette_view\"\n",
    "\n",
    "imp_file=\"gdf_\"+typename+\"_wgs84\"\n",
    "exp_file=\"gdf_\"+typename\n",
    "\n",
    "imp_file = gpd.read_file(url21)\n",
    "\n",
    "#imp_file.info()\n",
    "imp_file['name'].unique()\n",
    "#gdf_poi_bikepark_view_wgs84.head()"
   ]
  },
  {
   "cell_type": "markdown",
   "id": "1e9c8123-5eb4-471f-95ff-015fab73b392",
   "metadata": {
    "tags": []
   },
   "source": [
    "#### Step2: Datensätze exportieren\n"
   ]
  },
  {
   "cell_type": "code",
   "execution_count": null,
   "id": "f659f51b-8451-4dc2-a509-35776eaf198d",
   "metadata": {
    "tags": []
   },
   "outputs": [],
   "source": [
    "exp_file = imp_file.to_crs(epsg=2056)\n",
    "#gdf_poi_bikepark_view['geometry'].head(1)"
   ]
  },
  {
   "cell_type": "markdown",
   "id": "cd0ecad5-5734-47eb-bebf-62172af54ffe",
   "metadata": {
    "tags": []
   },
   "source": [
    "Speichere den Geodatensatz für Stefanie auf `O:\\GIS\\Daten\\Vektor\\2021\\quartierspiegel` als Shapefile"
   ]
  },
  {
   "cell_type": "code",
   "execution_count": null,
   "id": "56ba6d47-e9b7-4c5f-bf6a-f93280d556ae",
   "metadata": {
    "tags": []
   },
   "outputs": [],
   "source": [
    "exp_file.to_file(gis_ablagepfad+\"export_\"+typename+date_today+\".shp\", encoding='utf-8')\n",
    "print(gis_ablagepfad+\"export_\"+typename+\".shp\")"
   ]
  },
  {
   "cell_type": "markdown",
   "id": "6528d8cc-10fb-409f-aec6-f42fd7224334",
   "metadata": {
    "tags": []
   },
   "source": [
    "Speichere sie auch im Arbeitsverzeichnis als Shapefile und Geopackage ab"
   ]
  },
  {
   "cell_type": "code",
   "execution_count": null,
   "id": "c1ae7005-3e90-4005-8f2f-d9b98be43914",
   "metadata": {
    "tags": []
   },
   "outputs": [],
   "source": [
    "exp_file.to_file(\"./output/shapefiles/export_\"+typename+date_today+\".shp\", encoding='utf-8')\n",
    "exp_file.to_file(\"./output/geopackages/export_\"+typename+date_today+\".gpkg\", driver='GPKG')\n",
    "#exp_file.plot()\n",
    "print(\"GPKG exportiert nach: \"+\"./output/geopackages/export_\"+typename+date_today+\".gpkg\")"
   ]
  },
  {
   "cell_type": "code",
   "execution_count": null,
   "id": "a7e51dcd-8cfe-4f2e-987b-ee2234071c9b",
   "metadata": {},
   "outputs": [],
   "source": []
  },
  {
   "cell_type": "markdown",
   "id": "7b399498-fb5b-4491-b1f4-843abfab86a2",
   "metadata": {
    "tags": []
   },
   "source": [
    "### Zürifit (22)"
   ]
  },
  {
   "cell_type": "code",
   "execution_count": null,
   "id": "8131146e-a7f9-494e-a435-992155e9a1e2",
   "metadata": {
    "tags": []
   },
   "outputs": [],
   "source": [
    "url22 = \"https://www.ogd.stadt-zuerich.ch/wfs/geoportal/Sport?service=WFS&version=1.1.0&request=GetFeature&outputFormat=GeoJSON&typename=poi_zuerifit_view\"\n",
    "\n",
    "typename=\"poi_zuerifit_view\"\n",
    "\n",
    "imp_file=\"gdf_\"+typename+\"_wgs84\"\n",
    "exp_file=\"gdf_\"+typename\n",
    "\n",
    "imp_file = gpd.read_file(url22)\n",
    "\n",
    "#imp_file.info()\n",
    "imp_file['name'].unique()\n",
    "#gdf_poi_bikepark_view_wgs84.head()"
   ]
  },
  {
   "cell_type": "markdown",
   "id": "64fb9f72-3de5-44b6-b10c-1f96ec2c08f4",
   "metadata": {
    "tags": []
   },
   "source": [
    "#### Step2: Datensätze exportieren\n"
   ]
  },
  {
   "cell_type": "code",
   "execution_count": null,
   "id": "0b447cbf-8e01-41c2-97cc-43e086f3e14e",
   "metadata": {
    "tags": []
   },
   "outputs": [],
   "source": [
    "exp_file = imp_file.to_crs(epsg=2056)\n",
    "#gdf_poi_bikepark_view['geometry'].head(1)"
   ]
  },
  {
   "cell_type": "markdown",
   "id": "fbe655c9-497c-42d5-a8d6-582b5427afa1",
   "metadata": {
    "tags": []
   },
   "source": [
    "Speichere den Geodatensatz für Stefanie auf `O:\\GIS\\Daten\\Vektor\\2021\\quartierspiegel` als Shapefile\n"
   ]
  },
  {
   "cell_type": "code",
   "execution_count": null,
   "id": "f777c6ae-3896-4fa6-9c14-ec503adebc24",
   "metadata": {
    "tags": []
   },
   "outputs": [],
   "source": [
    "exp_file.to_file(gis_ablagepfad+\"export_\"+typename+date_today+\".shp\", encoding='utf-8')\n",
    "print(gis_ablagepfad+\"export_\"+typename+\".shp\")"
   ]
  },
  {
   "cell_type": "markdown",
   "id": "5857bf68-e461-4c68-8d2f-0e64b77e943a",
   "metadata": {
    "tags": []
   },
   "source": [
    "Speichere sie auch im Arbeitsverzeichnis als Shapefile und Geopackage ab"
   ]
  },
  {
   "cell_type": "code",
   "execution_count": null,
   "id": "a749608a-55dd-46bf-8ec6-8bfea86cfe6d",
   "metadata": {
    "tags": []
   },
   "outputs": [],
   "source": [
    "exp_file.to_file(\"./output/shapefiles/export_\"+typename+date_today+\".shp\", encoding='utf-8')\n",
    "exp_file.to_file(\"./output/geopackages/export_\"+typename+date_today+\".gpkg\", driver='GPKG')\n",
    "#exp_file.plot()\n",
    "print(\"GPKG exportiert nach: \"+\"./output/geopackages/export_\"+typename+date_today+\".gpkg\")"
   ]
  },
  {
   "cell_type": "markdown",
   "id": "30c2c3b8-8c28-4681-b56b-2bf90e47eacb",
   "metadata": {
    "tags": []
   },
   "source": [
    "### ----------------------------------------\n",
    "### Vorlage (X)"
   ]
  },
  {
   "cell_type": "markdown",
   "id": "12f2c4d2-2850-48b8-b6df-fe4c3cbcbd40",
   "metadata": {
    "tags": []
   },
   "source": [
    "#### Step 1: Daten vom Geoportal beziehen und prüfen.\n",
    "\n",
    "- url(X) --> Definiere die URL für den GEOJSON-Service\n",
    "- typename --> Definiere den Layernamen. Kann an diversen Orten verwendet werden\n",
    "- imp_name --> Leite den importierten Datensatznamen davon ab und ergänze wgs84\n",
    "- exp_name --> ohne wgs84. soll heissen er ist per default lv95"
   ]
  },
  {
   "cell_type": "code",
   "execution_count": 156,
   "id": "6c891750-62f3-414c-8a47-9b06538fc616",
   "metadata": {
    "tags": []
   },
   "outputs": [
    {
     "data": {
      "text/plain": [
       "array(['Bike-Park Allmend', 'Pumptrack Heuried'], dtype=object)"
      ]
     },
     "execution_count": 156,
     "metadata": {},
     "output_type": "execute_result"
    }
   ],
   "source": [
    "urlX = \"https://www.ogd.stadt-zuerich.ch/wfs/geoportal/Sport?service=WFS&version=1.1.0&request=GetFeature&outputFormat=GeoJSON&typename=X\"\n",
    "\n",
    "typename=\"X\"\n",
    "\n",
    "imp_file=\"gdf_\"+typename+\"_wgs84\"\n",
    "exp_file=\"gdf_\"+typename\n",
    "\n",
    "imp_file = gpd.read_file(url4)\n",
    "\n",
    "#imp_file.info()\n",
    "imp_file['name'].unique()\n",
    "#gdf_poi_bikepark_view_wgs84.head()"
   ]
  },
  {
   "cell_type": "markdown",
   "id": "13a132cd-b121-4bf9-8bde-8476953d6903",
   "metadata": {
    "tags": []
   },
   "source": [
    "#### Step2: Datensätze exportieren\n"
   ]
  },
  {
   "cell_type": "code",
   "execution_count": 157,
   "id": "c3d93188-ad16-41a6-aee1-0198a3f1d59d",
   "metadata": {
    "tags": []
   },
   "outputs": [],
   "source": [
    "exp_file = imp_file.to_crs(epsg=2056)\n",
    "#gdf_poi_bikepark_view['geometry'].head(1)"
   ]
  },
  {
   "cell_type": "markdown",
   "id": "dea623ca-f8d8-4e36-8704-370c7766d3a7",
   "metadata": {
    "tags": []
   },
   "source": [
    "Speichere den Geodatensatz für Stefanie auf `O:\\GIS\\Daten\\Vektor\\2021\\quartierspiegel` als Shapefile\n"
   ]
  },
  {
   "cell_type": "code",
   "execution_count": 158,
   "id": "8bf6321b-0865-4585-9e21-c4a74661ed22",
   "metadata": {
    "tags": []
   },
   "outputs": [
    {
     "name": "stdout",
     "output_type": "stream",
     "text": [
      "//szh/ssz/data/GIS/Daten/Vektor/2021/quartierspiegel/export_X.shp\n"
     ]
    }
   ],
   "source": [
    "#exp_file.to_file(gis_ablagepfad+\"export_\"+typename+\".shp\", encoding='utf-8')\n",
    "print(gis_ablagepfad+\"export_\"+typename+\".shp\")"
   ]
  },
  {
   "cell_type": "markdown",
   "id": "a8044a91-14da-49d6-80ff-b56b824bf4fd",
   "metadata": {
    "tags": []
   },
   "source": [
    "Speichere sie auch im Arbeitsverzeichnis als Shapefile und Geopackage ab"
   ]
  },
  {
   "cell_type": "code",
   "execution_count": 490,
   "id": "68327e7b-1169-452f-808f-1a802cbe3e06",
   "metadata": {
    "tags": []
   },
   "outputs": [
    {
     "name": "stderr",
     "output_type": "stream",
     "text": [
      "C:\\Users\\sszsim\\AppData\\Local\\Temp/ipykernel_9792/2296635697.py:1: UserWarning: Column names longer than 10 characters will be truncated when saved to ESRI Shapefile.\n",
      "  exp_file.to_file(\"./output/shapefiles/\"+typename+date_today+\".shp\", encoding='utf-8')\n"
     ]
    }
   ],
   "source": [
    "exp_file.to_file(\"./output/shapefiles/\"+typename+date_today+\".shp\", encoding='utf-8')\n",
    "exp_file.to_file(\"./output/geopackage/\"+typename+date_today+\".gpkg\", driver='GPKG')\n",
    "#gdf_poi_bikepark_view.plot()\n",
    "print(\"GPKG exportiert nach: \"+\"./output/geopackage/\"+typename+date_today+\".gpkg\")"
   ]
  },
  {
   "cell_type": "code",
   "execution_count": null,
   "id": "d2fd0d83-0327-4388-82c9-25cc85e17e4f",
   "metadata": {},
   "outputs": [],
   "source": []
  },
  {
   "cell_type": "code",
   "execution_count": null,
   "id": "edf85622-024f-4f18-a354-2a764ccc8477",
   "metadata": {},
   "outputs": [],
   "source": []
  },
  {
   "cell_type": "code",
   "execution_count": null,
   "id": "d9759f2e-4af3-427f-ad98-ef376504da2c",
   "metadata": {},
   "outputs": [],
   "source": []
  }
 ],
 "metadata": {
  "kernelspec": {
   "display_name": "Python 3 (ipykernel)",
   "language": "python",
   "name": "python3"
  },
  "language_info": {
   "codemirror_mode": {
    "name": "ipython",
    "version": 3
   },
   "file_extension": ".py",
   "mimetype": "text/x-python",
   "name": "python",
   "nbconvert_exporter": "python",
   "pygments_lexer": "ipython3",
   "version": "3.9.7"
  }
 },
 "nbformat": 4,
 "nbformat_minor": 5
}
