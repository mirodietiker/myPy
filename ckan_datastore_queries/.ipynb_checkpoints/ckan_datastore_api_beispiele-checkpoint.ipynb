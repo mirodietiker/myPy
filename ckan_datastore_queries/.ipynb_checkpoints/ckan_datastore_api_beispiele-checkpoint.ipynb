{
 "cells": [
  {
   "cell_type": "markdown",
   "metadata": {},
   "source": [
    "Mit Colab kann **dieses Jupyter-Notebook interaktiv im Browser** gestartet werden: \n",
    "[![Open In Colab](https://colab.research.google.com/assets/colab-badge.svg)](https://github.com/DonGoginho/myPy/blob/main/ckan_datastore_queries/ckan_datastore_api_beispiele.ipynb)\n",
    "\n",
    "# Beispielsabfragen auf das CKAN Datastore-API\n",
    "\n",
    "Tabellarische CSV-Dateien sind auf dem [Open-Data-Katalaog](https://data.stadt-zuerich.ch/) (meistens) nebst dem normalen Download auch via **Datastore CKAN-API** verfügbar. \n",
    "Weiterführende Information dazu findest Du in der zentralen CKAN [**Data-API-**](https://docs.ckan.org/en/latest/maintaining/datastore.html#making-a-data-api-request) und [DataStore-](https://docs.ckan.org/en/latest/maintaining/datastore.html#datastore-extension) Dokumentation... . Leider ist diese nicht immer ganz hilfreich. Daher hier noch ein paar konkrete Beispiele.\n",
    "\n"
   ]
  },
  {
   "cell_type": "code",
   "execution_count": 1,
   "metadata": {
    "colab": {
     "base_uri": "https://localhost:8080/"
    },
    "id": "c567vN-zxTY9",
    "outputId": "c0f7fff4-6d66-43f9-c7ca-ec5021695f0f"
   },
   "outputs": [
    {
     "name": "stdout",
     "output_type": "stream",
     "text": [
      "Requirement already satisfied: requests in c:\\programdata\\anaconda3\\envs\\gis_env\\lib\\site-packages (2.26.0)\n",
      "Requirement already satisfied: pandas in c:\\programdata\\anaconda3\\envs\\gis_env\\lib\\site-packages (1.3.2)\n",
      "Requirement already satisfied: urllib3<1.27,>=1.21.1 in c:\\programdata\\anaconda3\\envs\\gis_env\\lib\\site-packages (from requests) (1.26.6)\n",
      "Requirement already satisfied: certifi>=2017.4.17 in c:\\programdata\\anaconda3\\envs\\gis_env\\lib\\site-packages (from requests) (2021.10.8)\n",
      "Requirement already satisfied: charset-normalizer~=2.0.0 in c:\\programdata\\anaconda3\\envs\\gis_env\\lib\\site-packages (from requests) (2.0.0)\n",
      "Requirement already satisfied: idna<4,>=2.5 in c:\\programdata\\anaconda3\\envs\\gis_env\\lib\\site-packages (from requests) (3.1)\n",
      "Requirement already satisfied: pytz>=2017.3 in c:\\programdata\\anaconda3\\envs\\gis_env\\lib\\site-packages (from pandas) (2021.1)\n",
      "Requirement already satisfied: python-dateutil>=2.7.3 in c:\\programdata\\anaconda3\\envs\\gis_env\\lib\\site-packages (from pandas) (2.8.2)\n",
      "Requirement already satisfied: numpy>=1.17.3 in c:\\programdata\\anaconda3\\envs\\gis_env\\lib\\site-packages (from pandas) (1.21.2)\n",
      "Requirement already satisfied: six>=1.5 in c:\\programdata\\anaconda3\\envs\\gis_env\\lib\\site-packages (from python-dateutil>=2.7.3->pandas) (1.16.0)\n",
      "Note: you may need to restart the kernel to use updated packages.\n"
     ]
    }
   ],
   "source": [
    "%pip install requests pandas"
   ]
  },
  {
   "cell_type": "code",
   "execution_count": 2,
   "metadata": {
    "id": "6TzSE2-txTY-"
   },
   "outputs": [],
   "source": [
    "import requests\n",
    "from pprint import pprint\n",
    "import pandas as pd\n",
    "import random"
   ]
  },
  {
   "cell_type": "code",
   "execution_count": 3,
   "metadata": {
    "id": "4gBKGKYXxTY_"
   },
   "outputs": [],
   "source": [
    "SSL_VERIFY = True\n",
    "# evtl. SSL_VERIFY auf False setzen wenn die Verbindung zu https://www.gemeinderat-zuerich.ch nicht klappt (z.B. wegen Proxy)\n",
    "# Um die SSL Verifikation auszustellen, bitte die nächste Zeile einkommentieren (\"#\" entfernen)\n",
    "# SSL_VERIFY = False"
   ]
  },
  {
   "cell_type": "code",
   "execution_count": 18,
   "metadata": {
    "id": "mfOeyB6BxTY_"
   },
   "outputs": [],
   "source": [
    "if not SSL_VERIFY:\n",
    "    import urllib3\n",
    "    urllib3.disable_warnings()"
   ]
  },
  {
   "cell_type": "markdown",
   "metadata": {},
   "source": [
    "Siehe dazu https://docs.ckan.org/en/2.9/maintaining/datastore.html#ckanext.datastore.logic.action.datastore_search"
   ]
  },
  {
   "cell_type": "code",
   "execution_count": 88,
   "metadata": {
    "colab": {
     "base_uri": "https://localhost:8080/"
    },
    "id": "OfGDlbl_CRJ1",
    "outputId": "47bb339e-0a18-4cf4-e523-87f46f8e79ab"
   },
   "outputs": [
    {
     "name": "stdout",
     "output_type": "stream",
     "text": [
      "{'resource_id': '7d2ca442-ebdf-4f9c-8f29-a474fd05673c', 'limit': 32000}\n"
     ]
    }
   ],
   "source": [
    "import requests\n",
    "SSL_VERIFY = True\n",
    "\n",
    "#query = {'resource_id': 'a90b0184-c809-48b4-87ca-91e5811da885'} #, 'records':'StichtagDatJahr', }\n",
    "\n",
    "query = {'resource_id': '7d2ca442-ebdf-4f9c-8f29-a474fd05673c', 'limit':32000,}\n",
    "headers = {'Accept': 'application/json'}\n",
    "r = requests.get('https://data.stadt-zuerich.ch/api/3/action/datastore_search', \n",
    "                 params=query, \n",
    "                 headers=headers, \n",
    "                 verify=SSL_VERIFY)\n",
    "data = r.json()\n",
    "print(query)\n",
    "#data\n"
   ]
  },
  {
   "cell_type": "code",
   "execution_count": 89,
   "metadata": {
    "colab": {
     "base_uri": "https://localhost:8080/",
     "height": 162
    },
    "id": "3bSWjeRwCuJl",
    "outputId": "e597e92e-f903-4cd2-a689-7f2513bf8f6d"
   },
   "outputs": [
    {
     "name": "stdout",
     "output_type": "stream",
     "text": [
      "<class 'pandas.core.frame.DataFrame'>\n",
      "RangeIndex: 8575 entries, 0 to 8574\n",
      "Data columns (total 4 columns):\n",
      " #   Column            Non-Null Count  Dtype  \n",
      "---  ------            --------------  -----  \n",
      " 0   _id               8575 non-null   int64  \n",
      " 1   HUNDENAME         8574 non-null   object \n",
      " 2   GEBURTSJAHR_HUND  8574 non-null   float64\n",
      " 3   GESCHLECHT_HUND   8574 non-null   object \n",
      "dtypes: float64(1), int64(1), object(2)\n",
      "memory usage: 268.1+ KB\n"
     ]
    }
   ],
   "source": [
    "records = data['result']['records']\n",
    "df_records = pd.DataFrame(records)\n",
    "#df_records.head(100)\n",
    "df_records.info()"
   ]
  },
  {
   "cell_type": "code",
   "execution_count": 91,
   "metadata": {
    "id": "28Ijb3k75XfY"
   },
   "outputs": [
    {
     "data": {
      "text/html": [
       "<div>\n",
       "<style scoped>\n",
       "    .dataframe tbody tr th:only-of-type {\n",
       "        vertical-align: middle;\n",
       "    }\n",
       "\n",
       "    .dataframe tbody tr th {\n",
       "        vertical-align: top;\n",
       "    }\n",
       "\n",
       "    .dataframe thead th {\n",
       "        text-align: right;\n",
       "    }\n",
       "</style>\n",
       "<table border=\"1\" class=\"dataframe\">\n",
       "  <thead>\n",
       "    <tr style=\"text-align: right;\">\n",
       "      <th></th>\n",
       "      <th>_id</th>\n",
       "      <th>HUNDENAME</th>\n",
       "      <th>GEBURTSJAHR_HUND</th>\n",
       "      <th>GESCHLECHT_HUND</th>\n",
       "    </tr>\n",
       "  </thead>\n",
       "  <tbody>\n",
       "    <tr>\n",
       "      <th>4777</th>\n",
       "      <td>4778</td>\n",
       "      <td>Luna</td>\n",
       "      <td>2020.0</td>\n",
       "      <td>w</td>\n",
       "    </tr>\n",
       "    <tr>\n",
       "      <th>4778</th>\n",
       "      <td>4779</td>\n",
       "      <td>Luna</td>\n",
       "      <td>2020.0</td>\n",
       "      <td>w</td>\n",
       "    </tr>\n",
       "    <tr>\n",
       "      <th>4779</th>\n",
       "      <td>4780</td>\n",
       "      <td>Luna</td>\n",
       "      <td>2020.0</td>\n",
       "      <td>w</td>\n",
       "    </tr>\n",
       "    <tr>\n",
       "      <th>4780</th>\n",
       "      <td>4781</td>\n",
       "      <td>Luna</td>\n",
       "      <td>2020.0</td>\n",
       "      <td>w</td>\n",
       "    </tr>\n",
       "    <tr>\n",
       "      <th>4781</th>\n",
       "      <td>4782</td>\n",
       "      <td>Luna</td>\n",
       "      <td>2020.0</td>\n",
       "      <td>w</td>\n",
       "    </tr>\n",
       "    <tr>\n",
       "      <th>4782</th>\n",
       "      <td>4783</td>\n",
       "      <td>Luna</td>\n",
       "      <td>2020.0</td>\n",
       "      <td>w</td>\n",
       "    </tr>\n",
       "    <tr>\n",
       "      <th>4785</th>\n",
       "      <td>4786</td>\n",
       "      <td>Luna</td>\n",
       "      <td>2020.0</td>\n",
       "      <td>w</td>\n",
       "    </tr>\n",
       "    <tr>\n",
       "      <th>4786</th>\n",
       "      <td>4787</td>\n",
       "      <td>Luna</td>\n",
       "      <td>2020.0</td>\n",
       "      <td>w</td>\n",
       "    </tr>\n",
       "    <tr>\n",
       "      <th>4788</th>\n",
       "      <td>4789</td>\n",
       "      <td>Luna</td>\n",
       "      <td>2020.0</td>\n",
       "      <td>w</td>\n",
       "    </tr>\n",
       "    <tr>\n",
       "      <th>4789</th>\n",
       "      <td>4790</td>\n",
       "      <td>Luna</td>\n",
       "      <td>2020.0</td>\n",
       "      <td>w</td>\n",
       "    </tr>\n",
       "    <tr>\n",
       "      <th>4790</th>\n",
       "      <td>4791</td>\n",
       "      <td>Luna</td>\n",
       "      <td>2020.0</td>\n",
       "      <td>w</td>\n",
       "    </tr>\n",
       "    <tr>\n",
       "      <th>4792</th>\n",
       "      <td>4793</td>\n",
       "      <td>Luna</td>\n",
       "      <td>2019.0</td>\n",
       "      <td>w</td>\n",
       "    </tr>\n",
       "    <tr>\n",
       "      <th>4794</th>\n",
       "      <td>4795</td>\n",
       "      <td>Luna</td>\n",
       "      <td>2020.0</td>\n",
       "      <td>w</td>\n",
       "    </tr>\n",
       "    <tr>\n",
       "      <th>4798</th>\n",
       "      <td>4799</td>\n",
       "      <td>Luna</td>\n",
       "      <td>2020.0</td>\n",
       "      <td>w</td>\n",
       "    </tr>\n",
       "    <tr>\n",
       "      <th>4799</th>\n",
       "      <td>4800</td>\n",
       "      <td>Luna</td>\n",
       "      <td>2019.0</td>\n",
       "      <td>w</td>\n",
       "    </tr>\n",
       "    <tr>\n",
       "      <th>4800</th>\n",
       "      <td>4801</td>\n",
       "      <td>Luna</td>\n",
       "      <td>2019.0</td>\n",
       "      <td>w</td>\n",
       "    </tr>\n",
       "    <tr>\n",
       "      <th>4801</th>\n",
       "      <td>4802</td>\n",
       "      <td>Luna</td>\n",
       "      <td>2019.0</td>\n",
       "      <td>w</td>\n",
       "    </tr>\n",
       "    <tr>\n",
       "      <th>4802</th>\n",
       "      <td>4803</td>\n",
       "      <td>Luna</td>\n",
       "      <td>2019.0</td>\n",
       "      <td>w</td>\n",
       "    </tr>\n",
       "    <tr>\n",
       "      <th>4806</th>\n",
       "      <td>4807</td>\n",
       "      <td>Luna</td>\n",
       "      <td>2019.0</td>\n",
       "      <td>w</td>\n",
       "    </tr>\n",
       "    <tr>\n",
       "      <th>4850</th>\n",
       "      <td>4851</td>\n",
       "      <td>Luna</td>\n",
       "      <td>2019.0</td>\n",
       "      <td>w</td>\n",
       "    </tr>\n",
       "  </tbody>\n",
       "</table>\n",
       "</div>"
      ],
      "text/plain": [
       "       _id HUNDENAME  GEBURTSJAHR_HUND GESCHLECHT_HUND\n",
       "4777  4778      Luna            2020.0               w\n",
       "4778  4779      Luna            2020.0               w\n",
       "4779  4780      Luna            2020.0               w\n",
       "4780  4781      Luna            2020.0               w\n",
       "4781  4782      Luna            2020.0               w\n",
       "4782  4783      Luna            2020.0               w\n",
       "4785  4786      Luna            2020.0               w\n",
       "4786  4787      Luna            2020.0               w\n",
       "4788  4789      Luna            2020.0               w\n",
       "4789  4790      Luna            2020.0               w\n",
       "4790  4791      Luna            2020.0               w\n",
       "4792  4793      Luna            2019.0               w\n",
       "4794  4795      Luna            2020.0               w\n",
       "4798  4799      Luna            2020.0               w\n",
       "4799  4800      Luna            2019.0               w\n",
       "4800  4801      Luna            2019.0               w\n",
       "4801  4802      Luna            2019.0               w\n",
       "4802  4803      Luna            2019.0               w\n",
       "4806  4807      Luna            2019.0               w\n",
       "4850  4851      Luna            2019.0               w"
      ]
     },
     "execution_count": 91,
     "metadata": {},
     "output_type": "execute_result"
    }
   ],
   "source": [
    "rockies = df_records.query('HUNDENAME == \"Luna\" & GEBURTSJAHR_HUND > 2018')\n",
    "rockies"
   ]
  },
  {
   "cell_type": "code",
   "execution_count": null,
   "metadata": {
    "id": "p91MFERX5XfY"
   },
   "outputs": [],
   "source": []
  },
  {
   "cell_type": "code",
   "execution_count": null,
   "metadata": {
    "id": "xDCYlimMxTZH"
   },
   "outputs": [],
   "source": [
    "\n"
   ]
  },
  {
   "cell_type": "code",
   "execution_count": null,
   "metadata": {
    "id": "bNoehP5j5XfY"
   },
   "outputs": [],
   "source": []
  }
 ],
 "metadata": {
  "colab": {
   "name": "RIS-API-Beispiele.ipynb",
   "provenance": []
  },
  "kernelspec": {
   "display_name": "Python 3 (ipykernel)",
   "language": "python",
   "name": "python3"
  },
  "language_info": {
   "codemirror_mode": {
    "name": "ipython",
    "version": 3
   },
   "file_extension": ".py",
   "mimetype": "text/x-python",
   "name": "python",
   "nbconvert_exporter": "python",
   "pygments_lexer": "ipython3",
   "version": "3.9.7"
  }
 },
 "nbformat": 4,
 "nbformat_minor": 4
}
