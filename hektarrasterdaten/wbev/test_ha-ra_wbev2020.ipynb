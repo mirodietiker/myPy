{
 "cells": [
  {
   "cell_type": "markdown",
   "id": "5ad2ce15",
   "metadata": {},
   "source": [
    "# Aufbereitung von Hektarrasterdaten (erste Tests)\n",
    "Datum: 16.11.2021\n",
    "\n",
    "Mit Colab kann **dieses Jupyter-Notebook interaktiv im Browser** gestartet werden:\n",
    "[![Open In Colab](https://colab.research.google.com/assets/colab-badge.svg)](https://colab.research.google.com/github/DonGoginho/myPy/blob/main/quartierspiegel/quartierspiegel_geodaten_aufbereiten.ipynb)\n",
    "\n",
    "## Hektarraster mit Statistischen Daten verknüpfen\n",
    "\n",
    "Bis heute gibt es noch kein automatisierter Prozess um die Statistischen Daten mit den Hektarrastern zu verknüpfen.\n",
    "Grundsätzlich brauchen wir **Punktdaten**, welche wir mit den Geometrien der Hektarraster per Spatial Join verknüpfen und dann aggregieren.\n",
    "\n",
    "Die Shapefiles der Hektarraster sind abgelegt unter:\n",
    "\n",
    " - **Stadtraster im O:GIS > Daten**: \\\\szh\\ssz\\data\\GIS\\Daten\\Vektor\\_aktuell\\bfs_stadtraster100m_lv95.shp\n",
    " - **Vollraster im O:GIS > Daten**:\\\\szh\\ssz\\data\\GIS\\Daten\\Vektor\\_aktuell\\bfs_vollraster100m_lv95.shp\n",
    "\n",
    "\n",
    "<!---  \n",
    "Dieses Notebook verwendet als Vorlage die Webseite «[Kitas in Berlin - Jupyter Notebook](https://juanitorduz.github.io/kitas_berlin/)» \n",
    "---!>"
   ]
  },
  {
   "cell_type": "markdown",
   "id": "52914d7b",
   "metadata": {},
   "source": [
    "## Importiere notwendige Packages:"
   ]
  },
  {
   "cell_type": "code",
   "execution_count": 381,
   "id": "e069c6e7",
   "metadata": {},
   "outputs": [],
   "source": [
    "#pip install geopandas altair fiona requests folium mplleaflet contextily seaborn datetime"
   ]
  },
  {
   "cell_type": "code",
   "execution_count": 1,
   "id": "7b46cecb",
   "metadata": {},
   "outputs": [],
   "source": [
    "import numpy as np\n",
    "import pandas as pd\n",
    "import geopandas as gpd\n",
    "import altair as alt\n",
    "import fiona\n",
    "import requests\n",
    "import mplleaflet\n",
    "import matplotlib.pyplot as plt\n",
    "import matplotlib.ticker as mtick\n",
    "import seaborn as sns\n",
    "from datetime import datetime\n"
   ]
  },
  {
   "cell_type": "markdown",
   "id": "1fb2d0f8",
   "metadata": {},
   "source": [
    "## Datenaufbereitung"
   ]
  },
  {
   "cell_type": "markdown",
   "id": "65434a59",
   "metadata": {},
   "source": [
    "### Globale Variabeln"
   ]
  },
  {
   "cell_type": "markdown",
   "id": "9ab53b20",
   "metadata": {},
   "source": [
    "Als Zeitvariable berechnen wir erst mal das heutige Datum. Wir können diese Werte als Dateinamen verwenden.\n",
    "\n",
    "**Steuerungsvariable activate_date**: \n",
    "- False: in den Filenamen kommen beim Export KEINE Datenangaben mit\n",
    "- True: die Exportfiles haben *FILENAMEN_DATUM* im Namen"
   ]
  },
  {
   "cell_type": "code",
   "execution_count": 2,
   "id": "f6fc85f2",
   "metadata": {},
   "outputs": [],
   "source": [
    "activate_date = False;\n",
    "\n",
    "\n",
    "#https://www.programiz.com/python-programming/datetime/strftime\n",
    "now = datetime.now() # current date and time\n",
    "year_today = now.strftime(\"%Y\")\n",
    "\n",
    "if activate_date == True:\n",
    "    date_today = \"_\"+now.strftime(\"%Y-%m-%d\")\n",
    "    #store_o_gis = False\n",
    "    \n",
    "else:\n",
    "    date_today =\"\"\n",
    "    #store_o_gis = True\n"
   ]
  },
  {
   "cell_type": "code",
   "execution_count": 3,
   "id": "306812d5",
   "metadata": {},
   "outputs": [
    {
     "name": "stdout",
     "output_type": "stream",
     "text": [
      "Datum:  Jahr: 2021\n"
     ]
    }
   ],
   "source": [
    "print(\"Datum: \"+date_today +\" Jahr: \"+year_today)"
   ]
  },
  {
   "cell_type": "markdown",
   "id": "4f52628e",
   "metadata": {},
   "source": [
    "### Pfade\n"
   ]
  },
  {
   "cell_type": "code",
   "execution_count": 4,
   "id": "2875bd47",
   "metadata": {},
   "outputs": [
    {
     "name": "stdout",
     "output_type": "stream",
     "text": [
      "//szh/ssz/data/GIS/Sandbox/2021/ha_ra/wbev2020/geoDat/output_jupyter/\n"
     ]
    }
   ],
   "source": [
    "gis_output_ablagepfad = \"//szh/ssz/data/GIS/Sandbox/2021/ha_ra/wbev2020/geoDat/output_jupyter/\"\n",
    "#+year_today+\"/quartierspiegel/\"\n",
    "print(gis_output_ablagepfad )\n",
    "\n",
    "#\"//szh/ssz/data/GIS/Sandbox/2021/ha_ra/wbev2020/geoDat/wohnbev2020_hektarraster.gpkg\n"
   ]
  },
  {
   "cell_type": "markdown",
   "id": "36836263",
   "metadata": {},
   "source": [
    "### Basis Geodaten"
   ]
  },
  {
   "cell_type": "markdown",
   "id": "f0652f1d",
   "metadata": {},
   "source": [
    "Importiere Basis-Geodaten:\n",
    "- **Statistischen Quartiere**\n",
    "- **Stadtgrenze** (aus der SSZ-Geodatenablage)\n",
    "- **Hektarraster** (aus der SSZ-Geodatenablage)\n",
    "\n"
   ]
  },
  {
   "cell_type": "code",
   "execution_count": 386,
   "id": "d7725f57",
   "metadata": {},
   "outputs": [
    {
     "name": "stdout",
     "output_type": "stream",
     "text": [
      "done\n"
     ]
    }
   ],
   "source": [
    "# Read abt. Geopandas https://geopandas.org/docs/user_guide/io.html\n",
    "url0 = \"https://www.ogd.stadt-zuerich.ch/wfs/geoportal/Statistische_Quartiere?service=WFS&version=1.1.0&request=GetFeature&outputFormat=GeoJSON&typename=adm_statistische_quartiere_map\"\n",
    "gdf_adm_statistische_quartiere_map = gpd.read_file(url0)\n",
    "print('done')"
   ]
  },
  {
   "cell_type": "markdown",
   "id": "8eecb0d2-e3f6-4096-aeda-51d98939decf",
   "metadata": {},
   "source": [
    "Stadtgrenze"
   ]
  },
  {
   "cell_type": "code",
   "execution_count": 387,
   "id": "8d680347-1f29-466c-a1a1-fbe05910fe1a",
   "metadata": {},
   "outputs": [
    {
     "name": "stdout",
     "output_type": "stream",
     "text": [
      "done\n"
     ]
    }
   ],
   "source": [
    "# Read abt. Geopandas https://geopandas.org/docs/user_guide/io.html\n",
    "pfad_grenze = r\"\\\\szh\\ssz\\data\\GIS\\Daten\\Vektor\\_aktuell\\adm_stadtgrenze_a.shp\"\n",
    "gdf_adm_stadtgrenze_lv95 = gpd.read_file(pfad_grenze)\n",
    "\n",
    "gdf_adm_stadtgrenze_wgs84_all =gdf_adm_stadtgrenze_lv95.to_crs(epsg=4326)\n",
    "\n",
    "print('done')"
   ]
  },
  {
   "cell_type": "markdown",
   "id": "b3f555b6-5d20-48d7-94f8-76b0af2e699c",
   "metadata": {},
   "source": [
    "Test Verwaltungsquartiere, resp. ehemals **historische Quartiere**"
   ]
  },
  {
   "cell_type": "code",
   "execution_count": 13,
   "id": "e24ab193-facf-4574-a57f-faec777d8f27",
   "metadata": {},
   "outputs": [
    {
     "name": "stdout",
     "output_type": "stream",
     "text": [
      "done\n"
     ]
    }
   ],
   "source": [
    "# Read abt. Geopandas https://geopandas.org/docs/user_guide/io.html\n",
    "pfad_histQuartiere = r\"https://www.ogd.stadt-zuerich.ch/wfs/geoportal/Quartiere__basierend_auf_Vermessungsbezirken_?service=WFS&version=1.1.0&request=GetFeature&outputFormat=GeoJSON&typename=adm_verwaltungsquartiere_a\"\n",
    "gdf_adm_verwaltungsquartiere_a = gpd.read_file(pfad_grenze)\n",
    "\n",
    "gdf_adm_stadtgrenze_wgs84_all =gdf_adm_stadtgrenze_lv95.to_crs(epsg=4326)\n",
    "\n",
    "print('done')"
   ]
  },
  {
   "cell_type": "code",
   "execution_count": 12,
   "id": "5bc40726-ed01-4be5-8295-58a0f8588298",
   "metadata": {},
   "outputs": [
    {
     "data": {
      "text/html": [
       "<div>\n",
       "<style scoped>\n",
       "    .dataframe tbody tr th:only-of-type {\n",
       "        vertical-align: middle;\n",
       "    }\n",
       "\n",
       "    .dataframe tbody tr th {\n",
       "        vertical-align: top;\n",
       "    }\n",
       "\n",
       "    .dataframe thead th {\n",
       "        text-align: right;\n",
       "    }\n",
       "</style>\n",
       "<table border=\"1\" class=\"dataframe\">\n",
       "  <thead>\n",
       "    <tr style=\"text-align: right;\">\n",
       "      <th></th>\n",
       "      <th>id</th>\n",
       "      <th>bezeichnung</th>\n",
       "      <th>entstehung</th>\n",
       "      <th>kuerzel</th>\n",
       "      <th>objid</th>\n",
       "      <th>geometry</th>\n",
       "    </tr>\n",
       "  </thead>\n",
       "  <tbody>\n",
       "    <tr>\n",
       "      <th>0</th>\n",
       "      <td>adm_verwaltungsquartiere_a.4</td>\n",
       "      <td>Wiedikon</td>\n",
       "      <td>6</td>\n",
       "      <td></td>\n",
       "      <td>4</td>\n",
       "      <td>POLYGON ((8.52820 47.36885, 8.52798 47.36900, ...</td>\n",
       "    </tr>\n",
       "    <tr>\n",
       "      <th>1</th>\n",
       "      <td>adm_verwaltungsquartiere_a.17</td>\n",
       "      <td>Altstetten</td>\n",
       "      <td>6</td>\n",
       "      <td></td>\n",
       "      <td>17</td>\n",
       "      <td>POLYGON ((8.47024 47.37395, 8.47034 47.37396, ...</td>\n",
       "    </tr>\n",
       "    <tr>\n",
       "      <th>2</th>\n",
       "      <td>adm_verwaltungsquartiere_a.16</td>\n",
       "      <td>Höngg</td>\n",
       "      <td>6</td>\n",
       "      <td></td>\n",
       "      <td>16</td>\n",
       "      <td>POLYGON ((8.50543 47.39495, 8.50552 47.39494, ...</td>\n",
       "    </tr>\n",
       "    <tr>\n",
       "      <th>3</th>\n",
       "      <td>adm_verwaltungsquartiere_a.7</td>\n",
       "      <td>Schwamendingen</td>\n",
       "      <td>6</td>\n",
       "      <td></td>\n",
       "      <td>7</td>\n",
       "      <td>POLYGON ((8.58317 47.38831, 8.58315 47.38851, ...</td>\n",
       "    </tr>\n",
       "    <tr>\n",
       "      <th>4</th>\n",
       "      <td>adm_verwaltungsquartiere_a.2</td>\n",
       "      <td>Affoltern</td>\n",
       "      <td>6</td>\n",
       "      <td></td>\n",
       "      <td>2</td>\n",
       "      <td>POLYGON ((8.52768 47.43266, 8.52768 47.43266, ...</td>\n",
       "    </tr>\n",
       "    <tr>\n",
       "      <th>5</th>\n",
       "      <td>adm_verwaltungsquartiere_a.5</td>\n",
       "      <td>Wollishofen</td>\n",
       "      <td>6</td>\n",
       "      <td></td>\n",
       "      <td>5</td>\n",
       "      <td>POLYGON ((8.52478 47.35368, 8.52474 47.35351, ...</td>\n",
       "    </tr>\n",
       "    <tr>\n",
       "      <th>6</th>\n",
       "      <td>adm_verwaltungsquartiere_a.10</td>\n",
       "      <td>Hottingen</td>\n",
       "      <td>5</td>\n",
       "      <td></td>\n",
       "      <td>10</td>\n",
       "      <td>POLYGON ((8.55670 47.36406, 8.55662 47.36416, ...</td>\n",
       "    </tr>\n",
       "    <tr>\n",
       "      <th>7</th>\n",
       "      <td>adm_verwaltungsquartiere_a.11</td>\n",
       "      <td>Witikon</td>\n",
       "      <td>6</td>\n",
       "      <td></td>\n",
       "      <td>11</td>\n",
       "      <td>POLYGON ((8.58258 47.35328, 8.58271 47.35331, ...</td>\n",
       "    </tr>\n",
       "    <tr>\n",
       "      <th>8</th>\n",
       "      <td>adm_verwaltungsquartiere_a.14</td>\n",
       "      <td>Riesbach</td>\n",
       "      <td>5</td>\n",
       "      <td></td>\n",
       "      <td>14</td>\n",
       "      <td>POLYGON ((8.55670 47.36406, 8.55670 47.36406, ...</td>\n",
       "    </tr>\n",
       "    <tr>\n",
       "      <th>9</th>\n",
       "      <td>adm_verwaltungsquartiere_a.15</td>\n",
       "      <td>Seebach</td>\n",
       "      <td>6</td>\n",
       "      <td></td>\n",
       "      <td>15</td>\n",
       "      <td>POLYGON ((8.52768 47.43266, 8.52766 47.43260, ...</td>\n",
       "    </tr>\n",
       "    <tr>\n",
       "      <th>10</th>\n",
       "      <td>adm_verwaltungsquartiere_a.18</td>\n",
       "      <td>Albisrieden</td>\n",
       "      <td>6</td>\n",
       "      <td></td>\n",
       "      <td>18</td>\n",
       "      <td>POLYGON ((8.47024 47.37395, 8.47034 47.37396, ...</td>\n",
       "    </tr>\n",
       "    <tr>\n",
       "      <th>11</th>\n",
       "      <td>adm_verwaltungsquartiere_a.12</td>\n",
       "      <td>Leimbach</td>\n",
       "      <td>6</td>\n",
       "      <td></td>\n",
       "      <td>12</td>\n",
       "      <td>POLYGON ((8.51993 47.32401, 8.51952 47.32418, ...</td>\n",
       "    </tr>\n",
       "    <tr>\n",
       "      <th>12</th>\n",
       "      <td>adm_verwaltungsquartiere_a.20</td>\n",
       "      <td>Aussersihl</td>\n",
       "      <td>1</td>\n",
       "      <td></td>\n",
       "      <td>20</td>\n",
       "      <td>POLYGON ((8.52820 47.36885, 8.52798 47.36900, ...</td>\n",
       "    </tr>\n",
       "    <tr>\n",
       "      <th>13</th>\n",
       "      <td>adm_verwaltungsquartiere_a.9</td>\n",
       "      <td>Fluntern</td>\n",
       "      <td>6</td>\n",
       "      <td></td>\n",
       "      <td>9</td>\n",
       "      <td>POLYGON ((8.58219 47.38794, 8.58213 47.38798, ...</td>\n",
       "    </tr>\n",
       "    <tr>\n",
       "      <th>14</th>\n",
       "      <td>adm_verwaltungsquartiere_a.6</td>\n",
       "      <td>Oerlikon</td>\n",
       "      <td>6</td>\n",
       "      <td></td>\n",
       "      <td>6</td>\n",
       "      <td>POLYGON ((8.54794 47.39917, 8.54797 47.39915, ...</td>\n",
       "    </tr>\n",
       "    <tr>\n",
       "      <th>15</th>\n",
       "      <td>adm_verwaltungsquartiere_a.8</td>\n",
       "      <td>Oberstrass</td>\n",
       "      <td>6</td>\n",
       "      <td></td>\n",
       "      <td>8</td>\n",
       "      <td>POLYGON ((8.54794 47.39917, 8.54789 47.39913, ...</td>\n",
       "    </tr>\n",
       "    <tr>\n",
       "      <th>16</th>\n",
       "      <td>adm_verwaltungsquartiere_a.19</td>\n",
       "      <td>Unterstrass</td>\n",
       "      <td>6</td>\n",
       "      <td></td>\n",
       "      <td>19</td>\n",
       "      <td>POLYGON ((8.54794 47.39917, 8.54789 47.39913, ...</td>\n",
       "    </tr>\n",
       "    <tr>\n",
       "      <th>17</th>\n",
       "      <td>adm_verwaltungsquartiere_a.13</td>\n",
       "      <td>Enge</td>\n",
       "      <td>2</td>\n",
       "      <td></td>\n",
       "      <td>13</td>\n",
       "      <td>POLYGON ((8.52478 47.35368, 8.52479 47.35382, ...</td>\n",
       "    </tr>\n",
       "    <tr>\n",
       "      <th>18</th>\n",
       "      <td>adm_verwaltungsquartiere_a.3</td>\n",
       "      <td>Hirslanden</td>\n",
       "      <td>6</td>\n",
       "      <td></td>\n",
       "      <td>3</td>\n",
       "      <td>POLYGON ((8.55670 47.36406, 8.55670 47.36406, ...</td>\n",
       "    </tr>\n",
       "    <tr>\n",
       "      <th>19</th>\n",
       "      <td>adm_verwaltungsquartiere_a.1</td>\n",
       "      <td>Wipkingen</td>\n",
       "      <td>6</td>\n",
       "      <td></td>\n",
       "      <td>1</td>\n",
       "      <td>POLYGON ((8.52538 47.40665, 8.52541 47.40617, ...</td>\n",
       "    </tr>\n",
       "    <tr>\n",
       "      <th>20</th>\n",
       "      <td>adm_verwaltungsquartiere_a.22</td>\n",
       "      <td>Industriequartier</td>\n",
       "      <td>1</td>\n",
       "      <td></td>\n",
       "      <td>22</td>\n",
       "      <td>POLYGON ((8.50543 47.39495, 8.50552 47.39494, ...</td>\n",
       "    </tr>\n",
       "    <tr>\n",
       "      <th>21</th>\n",
       "      <td>adm_verwaltungsquartiere_a.21</td>\n",
       "      <td>Altstadt</td>\n",
       "      <td>2</td>\n",
       "      <td></td>\n",
       "      <td>21</td>\n",
       "      <td>POLYGON ((8.55066 47.37252, 8.55074 47.37234, ...</td>\n",
       "    </tr>\n",
       "  </tbody>\n",
       "</table>\n",
       "</div>"
      ],
      "text/plain": [
       "                               id        bezeichnung entstehung kuerzel objid  \\\n",
       "0    adm_verwaltungsquartiere_a.4           Wiedikon          6             4   \n",
       "1   adm_verwaltungsquartiere_a.17         Altstetten          6            17   \n",
       "2   adm_verwaltungsquartiere_a.16              Höngg          6            16   \n",
       "3    adm_verwaltungsquartiere_a.7     Schwamendingen          6             7   \n",
       "4    adm_verwaltungsquartiere_a.2          Affoltern          6             2   \n",
       "5    adm_verwaltungsquartiere_a.5        Wollishofen          6             5   \n",
       "6   adm_verwaltungsquartiere_a.10          Hottingen          5            10   \n",
       "7   adm_verwaltungsquartiere_a.11            Witikon          6            11   \n",
       "8   adm_verwaltungsquartiere_a.14           Riesbach          5            14   \n",
       "9   adm_verwaltungsquartiere_a.15            Seebach          6            15   \n",
       "10  adm_verwaltungsquartiere_a.18        Albisrieden          6            18   \n",
       "11  adm_verwaltungsquartiere_a.12           Leimbach          6            12   \n",
       "12  adm_verwaltungsquartiere_a.20         Aussersihl          1            20   \n",
       "13   adm_verwaltungsquartiere_a.9           Fluntern          6             9   \n",
       "14   adm_verwaltungsquartiere_a.6           Oerlikon          6             6   \n",
       "15   adm_verwaltungsquartiere_a.8         Oberstrass          6             8   \n",
       "16  adm_verwaltungsquartiere_a.19        Unterstrass          6            19   \n",
       "17  adm_verwaltungsquartiere_a.13               Enge          2            13   \n",
       "18   adm_verwaltungsquartiere_a.3         Hirslanden          6             3   \n",
       "19   adm_verwaltungsquartiere_a.1          Wipkingen          6             1   \n",
       "20  adm_verwaltungsquartiere_a.22  Industriequartier          1            22   \n",
       "21  adm_verwaltungsquartiere_a.21           Altstadt          2            21   \n",
       "\n",
       "                                             geometry  \n",
       "0   POLYGON ((8.52820 47.36885, 8.52798 47.36900, ...  \n",
       "1   POLYGON ((8.47024 47.37395, 8.47034 47.37396, ...  \n",
       "2   POLYGON ((8.50543 47.39495, 8.50552 47.39494, ...  \n",
       "3   POLYGON ((8.58317 47.38831, 8.58315 47.38851, ...  \n",
       "4   POLYGON ((8.52768 47.43266, 8.52768 47.43266, ...  \n",
       "5   POLYGON ((8.52478 47.35368, 8.52474 47.35351, ...  \n",
       "6   POLYGON ((8.55670 47.36406, 8.55662 47.36416, ...  \n",
       "7   POLYGON ((8.58258 47.35328, 8.58271 47.35331, ...  \n",
       "8   POLYGON ((8.55670 47.36406, 8.55670 47.36406, ...  \n",
       "9   POLYGON ((8.52768 47.43266, 8.52766 47.43260, ...  \n",
       "10  POLYGON ((8.47024 47.37395, 8.47034 47.37396, ...  \n",
       "11  POLYGON ((8.51993 47.32401, 8.51952 47.32418, ...  \n",
       "12  POLYGON ((8.52820 47.36885, 8.52798 47.36900, ...  \n",
       "13  POLYGON ((8.58219 47.38794, 8.58213 47.38798, ...  \n",
       "14  POLYGON ((8.54794 47.39917, 8.54797 47.39915, ...  \n",
       "15  POLYGON ((8.54794 47.39917, 8.54789 47.39913, ...  \n",
       "16  POLYGON ((8.54794 47.39917, 8.54789 47.39913, ...  \n",
       "17  POLYGON ((8.52478 47.35368, 8.52479 47.35382, ...  \n",
       "18  POLYGON ((8.55670 47.36406, 8.55670 47.36406, ...  \n",
       "19  POLYGON ((8.52538 47.40665, 8.52541 47.40617, ...  \n",
       "20  POLYGON ((8.50543 47.39495, 8.50552 47.39494, ...  \n",
       "21  POLYGON ((8.55066 47.37252, 8.55074 47.37234, ...  "
      ]
     },
     "execution_count": 12,
     "metadata": {},
     "output_type": "execute_result"
    },
    {
     "data": {
      "image/png": "[encoded data removed]",
      "text/plain": [
       "<Figure size 432x288 with 1 Axes>"
      ]
     },
     "metadata": {
      "needs_background": "light"
     },
     "output_type": "display_data"
    }
   ],
   "source": [
    "gdf_adm_verwaltungsquartiere_a.plot()\n",
    "gdf_adm_verwaltungsquartiere_a.head(30)"
   ]
  },
  {
   "cell_type": "markdown",
   "id": "9a08f12a-85cc-4863-bb97-88b47cd7ef5e",
   "metadata": {},
   "source": [
    "Hektarraster"
   ]
  },
  {
   "cell_type": "code",
   "execution_count": 388,
   "id": "f4d0f344",
   "metadata": {},
   "outputs": [
    {
     "name": "stdout",
     "output_type": "stream",
     "text": [
      "done\n"
     ]
    }
   ],
   "source": [
    "# Read abt. Geopandas https://geopandas.org/docs/user_guide/io.html\n",
    "pfad_stadtraster = r\"\\\\szh\\ssz\\data\\GIS\\Daten\\Vektor\\_aktuell\\bfs_stadtraster100m_lv95.shp\"\n",
    "gdf_bfs_stadtraster100m_lv95 = gpd.read_file(pfad_stadtraster)\n",
    "\n",
    "gdf_bfs_stadtraster100m_wgs84=gdf_bfs_stadtraster100m_lv95.to_crs(epsg=4326)\n",
    "\n",
    "print('done')\n"
   ]
  },
  {
   "cell_type": "code",
   "execution_count": 389,
   "id": "7b06af45",
   "metadata": {},
   "outputs": [],
   "source": [
    "# Rename columns bei Bedarf\n",
    "rename_cols = {\n",
    "    'name': 'bfs_name',\n",
    "}\n",
    "\n",
    "columns_to_drop = ['objid']\n",
    "\n",
    "gdf_adm_stadtgrenze_wgs84 = gdf_adm_stadtgrenze_wgs84_all \\\n",
    "    .copy() \\\n",
    "    .drop(columns_to_drop, axis=1) \\\n",
    "    .rename(columns=rename_cols) \\\n",
    "    "
   ]
  },
  {
   "cell_type": "code",
   "execution_count": 390,
   "id": "75ed3b84",
   "metadata": {},
   "outputs": [],
   "source": [
    "#gdf_adm_stadtgrenze_wgs84"
   ]
  },
  {
   "cell_type": "code",
   "execution_count": 391,
   "id": "9ef36b6e-d4c7-426b-a370-42f8c3288c4c",
   "metadata": {},
   "outputs": [
    {
     "data": {
      "text/plain": [
       "<AxesSubplot:>"
      ]
     },
     "execution_count": 391,
     "metadata": {},
     "output_type": "execute_result"
    },
    {
     "data": {
      "image/png": "[encoded data removed]",
      "text/plain": [
       "<Figure size 432x288 with 1 Axes>"
      ]
     },
     "metadata": {
      "needs_background": "light"
     },
     "output_type": "display_data"
    }
   ],
   "source": [
    "gdf_bfs_stadtraster100m_wgs84.plot()"
   ]
  },
  {
   "cell_type": "markdown",
   "id": "8667ea14-c635-4ec9-9a6f-ab8d88c176a1",
   "metadata": {},
   "source": [
    "### Basis Statistikdaten einlesen und georeferenzieren\n",
    "\n",
    "Csv2geodataframe --> https://geopandas.org/en/stable/gallery/create_geopandas_from_pandas.html\n",
    "\n",
    "#### 1. csv einlesen"
   ]
  },
  {
   "cell_type": "code",
   "execution_count": 392,
   "id": "005bfac9-d616-44e1-8cf5-38cc7381d0b9",
   "metadata": {},
   "outputs": [
    {
     "data": {
      "text/html": [
       "<div>\n",
       "<style scoped>\n",
       "    .dataframe tbody tr th:only-of-type {\n",
       "        vertical-align: middle;\n",
       "    }\n",
       "\n",
       "    .dataframe tbody tr th {\n",
       "        vertical-align: top;\n",
       "    }\n",
       "\n",
       "    .dataframe thead th {\n",
       "        text-align: right;\n",
       "    }\n",
       "</style>\n",
       "<table border=\"1\" class=\"dataframe\">\n",
       "  <thead>\n",
       "    <tr style=\"text-align: right;\">\n",
       "      <th></th>\n",
       "      <th>Beob.</th>\n",
       "      <th>NKoord</th>\n",
       "      <th>EKoord</th>\n",
       "      <th>AnzBestWir</th>\n",
       "      <th>geometry</th>\n",
       "    </tr>\n",
       "  </thead>\n",
       "  <tbody>\n",
       "    <tr>\n",
       "      <th>0</th>\n",
       "      <td>1</td>\n",
       "      <td>1241979.380</td>\n",
       "      <td>2680647.480</td>\n",
       "      <td>2</td>\n",
       "      <td>None</td>\n",
       "    </tr>\n",
       "  </tbody>\n",
       "</table>\n",
       "</div>"
      ],
      "text/plain": [
       "  Beob.       NKoord       EKoord AnzBestWir geometry\n",
       "0     1  1241979.380  2680647.480          2     None"
      ]
     },
     "execution_count": 392,
     "metadata": {},
     "output_type": "execute_result"
    }
   ],
   "source": [
    "pfad_wbev20_xy_adress = r\"//szh/ssz/data/GIS/Sandbox/2021/ha_ra/wbev2020/statDat/wbev2020_xy.csv\"\n",
    "\n",
    "gdf_imp_csv_wbev20_xy_adress_lv95 = gpd.read_file(pfad_wbev20_xy_adress)\n",
    "\n",
    "gdf_imp_csv_wbev20_xy_adress_lv95.crs = \"EPSG:2056\"\n",
    "\n",
    "gdf_imp_csv_wbev20_xy_adress_lv95.head(1)"
   ]
  },
  {
   "cell_type": "code",
   "execution_count": 393,
   "id": "2b69a993-fef9-4bf8-9caa-f44ac9ed08c3",
   "metadata": {},
   "outputs": [
    {
     "name": "stdout",
     "output_type": "stream",
     "text": [
      "<class 'geopandas.geodataframe.GeoDataFrame'>\n",
      "RangeIndex: 157742 entries, 0 to 157741\n",
      "Data columns (total 5 columns):\n",
      " #   Column      Non-Null Count   Dtype   \n",
      "---  ------      --------------   -----   \n",
      " 0   Beob.       157742 non-null  object  \n",
      " 1   NKoord      157742 non-null  object  \n",
      " 2   EKoord      157742 non-null  object  \n",
      " 3   AnzBestWir  157742 non-null  int32   \n",
      " 4   geometry    0 non-null       geometry\n",
      "dtypes: geometry(1), int32(1), object(3)\n",
      "memory usage: 5.4+ MB\n"
     ]
    }
   ],
   "source": [
    "\n",
    "gdf_imp_csv_wbev20_xy_adress_lv95['AnzBestWir'] = gdf_imp_csv_wbev20_xy_adress_lv95['AnzBestWir'].astype(int)\n",
    "gdf_imp_csv_wbev20_xy_adress_lv95.info()"
   ]
  },
  {
   "cell_type": "markdown",
   "id": "ea576ada-1757-44bf-b754-2ea6c42eab9c",
   "metadata": {},
   "source": [
    "#### 2. csv georeferenzieren und die Koordinatenwerte zu einem Punktdatensatz bilden"
   ]
  },
  {
   "cell_type": "code",
   "execution_count": 396,
   "id": "ffcf8a6e-1e30-4830-8a62-c62a19fa19e1",
   "metadata": {},
   "outputs": [],
   "source": [
    "gdf_wbev20_xy_adress = gpd.GeoDataFrame(\n",
    "    gdf_imp_csv_wbev20_xy_adress_lv95, geometry=gpd.points_from_xy(gdf_imp_csv_wbev20_xy_adress_lv95.EKoord, gdf_imp_csv_wbev20_xy_adress_lv95.NKoord))"
   ]
  },
  {
   "cell_type": "markdown",
   "id": "fd07c0ad-4c76-4323-b3dc-16eb5edf1749",
   "metadata": {},
   "source": [
    "Setze zuerst dem GeoDataFrame ein CRS bevor die Daten re-projeziert werden können:\n",
    "(weitere Infos: https://geopandas.org/en/stable/docs/user_guide/projections.html )"
   ]
  },
  {
   "cell_type": "code",
   "execution_count": 397,
   "id": "93158840-5986-4a80-9303-e7460995d816",
   "metadata": {},
   "outputs": [],
   "source": [
    "gdf_wbev20_xy_adress.crs = \"EPSG:2056\"\n",
    "#gdf_wbev20_xy_adress.info()"
   ]
  },
  {
   "cell_type": "code",
   "execution_count": 398,
   "id": "6ef80269-63c2-4315-b333-188012a6a988",
   "metadata": {},
   "outputs": [
    {
     "data": {
      "text/html": [
       "<div>\n",
       "<style scoped>\n",
       "    .dataframe tbody tr th:only-of-type {\n",
       "        vertical-align: middle;\n",
       "    }\n",
       "\n",
       "    .dataframe tbody tr th {\n",
       "        vertical-align: top;\n",
       "    }\n",
       "\n",
       "    .dataframe thead th {\n",
       "        text-align: right;\n",
       "    }\n",
       "</style>\n",
       "<table border=\"1\" class=\"dataframe\">\n",
       "  <thead>\n",
       "    <tr style=\"text-align: right;\">\n",
       "      <th></th>\n",
       "      <th>Beob.</th>\n",
       "      <th>NKoord</th>\n",
       "      <th>EKoord</th>\n",
       "      <th>AnzBestWir</th>\n",
       "      <th>geometry</th>\n",
       "    </tr>\n",
       "  </thead>\n",
       "  <tbody>\n",
       "    <tr>\n",
       "      <th>0</th>\n",
       "      <td>1</td>\n",
       "      <td>1241979.380</td>\n",
       "      <td>2680647.480</td>\n",
       "      <td>2</td>\n",
       "      <td>POINT (2680647.480 1241979.380)</td>\n",
       "    </tr>\n",
       "  </tbody>\n",
       "</table>\n",
       "</div>"
      ],
      "text/plain": [
       "  Beob.       NKoord       EKoord  AnzBestWir                         geometry\n",
       "0     1  1241979.380  2680647.480           2  POINT (2680647.480 1241979.380)"
      ]
     },
     "execution_count": 398,
     "metadata": {},
     "output_type": "execute_result"
    }
   ],
   "source": [
    "gdf_wbev20_xy_adress_lv95 = gdf_wbev20_xy_adress.to_crs(epsg=2056)\n",
    "\n",
    "gdf_wbev20_xy_adress_lv95.head(1)\n",
    "#test.plot()"
   ]
  },
  {
   "cell_type": "code",
   "execution_count": 399,
   "id": "75aa3e8a-2356-445b-8d9c-702865d61a23",
   "metadata": {},
   "outputs": [
    {
     "data": {
      "text/plain": [
       "<AxesSubplot:>"
      ]
     },
     "execution_count": 399,
     "metadata": {},
     "output_type": "execute_result"
    },
    {
     "data": {
      "image/png": "[encoded data removed]",
      "text/plain": [
       "<Figure size 432x288 with 1 Axes>"
      ]
     },
     "metadata": {
      "needs_background": "light"
     },
     "output_type": "display_data"
    }
   ],
   "source": [
    "gdf_wbev20_xy_adress_lv95.plot()"
   ]
  },
  {
   "cell_type": "markdown",
   "id": "39fa31c9-b9d2-4656-b8c1-b5d23a184179",
   "metadata": {},
   "source": [
    "### Aggregieren auf Hektarraster: Spatial Join von Hektarraster und Adress-Punkt-Daten\n",
    "\n",
    "Vorgehen:\n",
    "1. Ordne den Adresspunkten mit den Bevölkerungswerten die Hektarraster-ID (`gdf_bfs_stadtraster100m_lv95` > `RELI`) mittels spatial Join zu.\n",
    "2. Aggregiere die Bevölkerungszahlen pro Hektarraster-ID\n",
    "3. Joine die aggregierten Werte der Punktdaten an die Hektarrasterdaten via RELI.\n"
   ]
  },
  {
   "cell_type": "code",
   "execution_count": 400,
   "id": "dc968e1d-b3f1-4746-8854-5d9ed28617b8",
   "metadata": {},
   "outputs": [],
   "source": [
    "#gdf_wbev20_xy_adress_lv95.crs\n",
    "#gdf_bfs_stadtraster100m_lv95.head(1)"
   ]
  },
  {
   "cell_type": "markdown",
   "id": "3c4602b4-9a99-4e88-b370-713af0638e3b",
   "metadata": {},
   "source": [
    "**Schritt 1 - Spatial Join**"
   ]
  },
  {
   "cell_type": "code",
   "execution_count": 401,
   "id": "f8347b79-2593-4d85-924e-e3edac2210a2",
   "metadata": {},
   "outputs": [
    {
     "data": {
      "text/html": [
       "<div>\n",
       "<style scoped>\n",
       "    .dataframe tbody tr th:only-of-type {\n",
       "        vertical-align: middle;\n",
       "    }\n",
       "\n",
       "    .dataframe tbody tr th {\n",
       "        vertical-align: top;\n",
       "    }\n",
       "\n",
       "    .dataframe thead th {\n",
       "        text-align: right;\n",
       "    }\n",
       "</style>\n",
       "<table border=\"1\" class=\"dataframe\">\n",
       "  <thead>\n",
       "    <tr style=\"text-align: right;\">\n",
       "      <th></th>\n",
       "      <th>Beob.</th>\n",
       "      <th>NKoord</th>\n",
       "      <th>EKoord</th>\n",
       "      <th>AnzBestWir</th>\n",
       "      <th>geometry</th>\n",
       "      <th>index_right</th>\n",
       "      <th>RELI</th>\n",
       "      <th>ID</th>\n",
       "      <th>X_MIN</th>\n",
       "      <th>X_MAX</th>\n",
       "      <th>Y_MIN</th>\n",
       "      <th>Y_MAX</th>\n",
       "    </tr>\n",
       "  </thead>\n",
       "  <tbody>\n",
       "    <tr>\n",
       "      <th>0</th>\n",
       "      <td>1</td>\n",
       "      <td>1241979.380</td>\n",
       "      <td>2680647.480</td>\n",
       "      <td>2</td>\n",
       "      <td>POINT (2680647.480 1241979.380)</td>\n",
       "      <td>9509</td>\n",
       "      <td>68062419</td>\n",
       "      <td>17043</td>\n",
       "      <td>680600.0</td>\n",
       "      <td>680700.0</td>\n",
       "      <td>241900.0</td>\n",
       "      <td>242000.0</td>\n",
       "    </tr>\n",
       "    <tr>\n",
       "      <th>153</th>\n",
       "      <td>154</td>\n",
       "      <td>1241979.377</td>\n",
       "      <td>2680647.479</td>\n",
       "      <td>1</td>\n",
       "      <td>POINT (2680647.479 1241979.377)</td>\n",
       "      <td>9509</td>\n",
       "      <td>68062419</td>\n",
       "      <td>17043</td>\n",
       "      <td>680600.0</td>\n",
       "      <td>680700.0</td>\n",
       "      <td>241900.0</td>\n",
       "      <td>242000.0</td>\n",
       "    </tr>\n",
       "    <tr>\n",
       "      <th>43341</th>\n",
       "      <td>43342</td>\n",
       "      <td>1241979.380</td>\n",
       "      <td>2680647.480</td>\n",
       "      <td>1</td>\n",
       "      <td>POINT (2680647.480 1241979.380)</td>\n",
       "      <td>9509</td>\n",
       "      <td>68062419</td>\n",
       "      <td>17043</td>\n",
       "      <td>680600.0</td>\n",
       "      <td>680700.0</td>\n",
       "      <td>241900.0</td>\n",
       "      <td>242000.0</td>\n",
       "    </tr>\n",
       "    <tr>\n",
       "      <th>125648</th>\n",
       "      <td>125649</td>\n",
       "      <td>1241979.380</td>\n",
       "      <td>2680647.480</td>\n",
       "      <td>1</td>\n",
       "      <td>POINT (2680647.480 1241979.380)</td>\n",
       "      <td>9509</td>\n",
       "      <td>68062419</td>\n",
       "      <td>17043</td>\n",
       "      <td>680600.0</td>\n",
       "      <td>680700.0</td>\n",
       "      <td>241900.0</td>\n",
       "      <td>242000.0</td>\n",
       "    </tr>\n",
       "    <tr>\n",
       "      <th>150780</th>\n",
       "      <td>150781</td>\n",
       "      <td>1241979.380</td>\n",
       "      <td>2680647.480</td>\n",
       "      <td>1</td>\n",
       "      <td>POINT (2680647.480 1241979.380)</td>\n",
       "      <td>9509</td>\n",
       "      <td>68062419</td>\n",
       "      <td>17043</td>\n",
       "      <td>680600.0</td>\n",
       "      <td>680700.0</td>\n",
       "      <td>241900.0</td>\n",
       "      <td>242000.0</td>\n",
       "    </tr>\n",
       "  </tbody>\n",
       "</table>\n",
       "</div>"
      ],
      "text/plain": [
       "         Beob.       NKoord       EKoord  AnzBestWir  \\\n",
       "0            1  1241979.380  2680647.480           2   \n",
       "153        154  1241979.377  2680647.479           1   \n",
       "43341    43342  1241979.380  2680647.480           1   \n",
       "125648  125649  1241979.380  2680647.480           1   \n",
       "150780  150781  1241979.380  2680647.480           1   \n",
       "\n",
       "                               geometry  index_right      RELI     ID  \\\n",
       "0       POINT (2680647.480 1241979.380)         9509  68062419  17043   \n",
       "153     POINT (2680647.479 1241979.377)         9509  68062419  17043   \n",
       "43341   POINT (2680647.480 1241979.380)         9509  68062419  17043   \n",
       "125648  POINT (2680647.480 1241979.380)         9509  68062419  17043   \n",
       "150780  POINT (2680647.480 1241979.380)         9509  68062419  17043   \n",
       "\n",
       "           X_MIN     X_MAX     Y_MIN     Y_MAX  \n",
       "0       680600.0  680700.0  241900.0  242000.0  \n",
       "153     680600.0  680700.0  241900.0  242000.0  \n",
       "43341   680600.0  680700.0  241900.0  242000.0  \n",
       "125648  680600.0  680700.0  241900.0  242000.0  \n",
       "150780  680600.0  680700.0  241900.0  242000.0  "
      ]
     },
     "execution_count": 401,
     "metadata": {},
     "output_type": "execute_result"
    }
   ],
   "source": [
    "gdf_wbev20_xy_adress_lv95_reli = gpd.sjoin(gdf_wbev20_xy_adress_lv95, gdf_bfs_stadtraster100m_lv95, how=\"inner\", op='intersects')\n",
    "gdf_wbev20_xy_adress_lv95_reli.head(5)\n",
    "#gdf_wbev20_xy_adress_lv95_reli.to_file(\"Test.gpkg\", layer='gdf_wbev20_xy_adress_lv95_reli', driver=\"GPKG\")"
   ]
  },
  {
   "cell_type": "code",
   "execution_count": 402,
   "id": "c91547b9-8743-4fd6-a1ef-e961b8b45210",
   "metadata": {},
   "outputs": [],
   "source": [
    "#gdf_wbev20_xy_adress_lv95_reli.dtypes"
   ]
  },
  {
   "cell_type": "markdown",
   "id": "b4782331-a555-4e49-8cc3-ef45ca014d35",
   "metadata": {},
   "source": [
    "**Schritt 2 - Aggregiere die Bevölkerungszahlen pro Hektarraster-ID.**\n",
    "Damit die Summe korrekt berechnet wird, muss der summierte Wert vom Typ Integer oder zumindest numerisch sein."
   ]
  },
  {
   "cell_type": "code",
   "execution_count": 403,
   "id": "8597c0b2-5ea3-41bb-a4dc-a7daa2d3f999",
   "metadata": {},
   "outputs": [],
   "source": [
    "gdf_wbev20_xy_adress_lv95_reli_agg = gdf_wbev20_xy_adress_lv95_reli \\\n",
    "    .groupby(['RELI']) \\\n",
    "    .agg( sumAnzBestWir=('AnzBestWir', 'sum')) \\\n",
    "    .sort_values('sumAnzBestWir', ascending=False)"
   ]
  },
  {
   "cell_type": "code",
   "execution_count": 404,
   "id": "c5a3a6df-9e1a-4ab4-a612-e8e1097195cb",
   "metadata": {},
   "outputs": [
    {
     "data": {
      "text/plain": [
       "434736"
      ]
     },
     "execution_count": 404,
     "metadata": {},
     "output_type": "execute_result"
    }
   ],
   "source": [
    "gdf_wbev20_xy_adress_lv95_reli_agg.sumAnzBestWir.sum()"
   ]
  },
  {
   "cell_type": "markdown",
   "id": "01a5fb06-3a37-4575-9d6c-676a088afb77",
   "metadata": {},
   "source": [
    "**3. Joine die aggregierten Werte der Punktdaten an die Hektarrasterdaten via `RELI`.**\n",
    "\n"
   ]
  },
  {
   "cell_type": "code",
   "execution_count": 1,
   "id": "3bd7eebb-9288-4f0e-b0d8-855628586422",
   "metadata": {},
   "outputs": [
    {
     "ename": "NameError",
     "evalue": "name 'gdf_bfs_stadtraster100m_lv95' is not defined",
     "output_type": "error",
     "traceback": [
      "\u001b[1;31m---------------------------------------------------------------------------\u001b[0m",
      "\u001b[1;31mNameError\u001b[0m                                 Traceback (most recent call last)",
      "\u001b[1;32m~\\AppData\\Local\\Temp/ipykernel_492/1412192231.py\u001b[0m in \u001b[0;36m<module>\u001b[1;34m\u001b[0m\n\u001b[1;32m----> 1\u001b[1;33m \u001b[0mjoin_aggWBev2HaRa\u001b[0m \u001b[1;33m=\u001b[0m \u001b[0mgdf_bfs_stadtraster100m_lv95\u001b[0m\u001b[1;33m.\u001b[0m\u001b[0mmerge\u001b[0m\u001b[1;33m(\u001b[0m\u001b[0mgdf_wbev20_xy_adress_lv95_reli_agg\u001b[0m\u001b[1;33m,\u001b[0m \u001b[0mon\u001b[0m\u001b[1;33m=\u001b[0m\u001b[1;33m[\u001b[0m\u001b[1;34m\"RELI\"\u001b[0m\u001b[1;33m]\u001b[0m\u001b[1;33m)\u001b[0m\u001b[1;33m.\u001b[0m\u001b[0msort_values\u001b[0m\u001b[1;33m(\u001b[0m\u001b[1;34m'sumAnzBestWir'\u001b[0m\u001b[1;33m,\u001b[0m \u001b[0mascending\u001b[0m\u001b[1;33m=\u001b[0m\u001b[1;32mFalse\u001b[0m\u001b[1;33m)\u001b[0m\u001b[1;33m\u001b[0m\u001b[1;33m\u001b[0m\u001b[0m\n\u001b[0m\u001b[0;32m      2\u001b[0m \u001b[1;33m\u001b[0m\u001b[0m\n\u001b[0;32m      3\u001b[0m \u001b[0mjoin_aggWBev2HaRa\u001b[0m\u001b[1;33m.\u001b[0m\u001b[0mhead\u001b[0m\u001b[1;33m(\u001b[0m\u001b[1;33m)\u001b[0m\u001b[1;33m\u001b[0m\u001b[1;33m\u001b[0m\u001b[0m\n",
      "\u001b[1;31mNameError\u001b[0m: name 'gdf_bfs_stadtraster100m_lv95' is not defined"
     ]
    }
   ],
   "source": [
    "join_aggWBev2HaRa = gdf_bfs_stadtraster100m_lv95.merge(gdf_wbev20_xy_adress_lv95_reli_agg, on=[\"RELI\"]).sort_values('sumAnzBestWir', ascending=False)\n",
    "\n",
    "join_aggWBev2HaRa.head()"
   ]
  },
  {
   "cell_type": "markdown",
   "id": "1e2b0a90-4270-4d76-aec5-7a47946afa0e",
   "metadata": {},
   "source": [
    "Speichere den Datensatz als GeoPackage ab"
   ]
  },
  {
   "cell_type": "code",
   "execution_count": 406,
   "id": "4a2e9d72-5aed-4fea-9076-b6afffc379e4",
   "metadata": {},
   "outputs": [],
   "source": [
    "join_aggWBev2HaRa.to_file(gis_output_ablagepfad+\"WBev2HaRa.gpkg\", layer='gdf_wbev20_xy_adress_lv95_reli', driver=\"GPKG\")\n"
   ]
  },
  {
   "cell_type": "code",
   "execution_count": 407,
   "id": "8eacb065-ab1f-4f4a-9871-a638693c9681",
   "metadata": {},
   "outputs": [
    {
     "name": "stdout",
     "output_type": "stream",
     "text": [
      "//szh/ssz/data/GIS/Sandbox/2021/ha_ra/wbev2020/geoDat/output_jupyter/WBev2HaRa.gpkg\n"
     ]
    }
   ],
   "source": [
    "print(gis_output_ablagepfad+\"WBev2HaRa.gpkg\")"
   ]
  },
  {
   "cell_type": "markdown",
   "id": "c43e44ef-9324-40b6-bb01-1bf8f5668a95",
   "metadata": {},
   "source": [
    "### In QGIS aufbereitete Daten prüfen\n"
   ]
  },
  {
   "cell_type": "code",
   "execution_count": 408,
   "id": "6f2a07b6-e6cf-42e5-b896-1f2596bb1f9b",
   "metadata": {},
   "outputs": [
    {
     "name": "stdout",
     "output_type": "stream",
     "text": [
      "done\n"
     ]
    }
   ],
   "source": [
    "# Read abt. Geopandas https://geopandas.org/docs/user_guide/io.html\n",
    "pfad_wbev20_hara = r\"//szh/ssz/data/GIS/Sandbox/2021/ha_ra/wbev2020/geoDat/wohnbev2020_hektarraster.gpkg\"\n",
    "\n",
    "gdf_wbev20_hara_lv95 = gpd.read_file(pfad_wbev20_hara )\n",
    "\n",
    "gdf_wbev20_hara_wgs84_all =gdf_wbev20_hara_lv95.to_crs(epsg=4326)\n",
    "\n",
    "print('done')"
   ]
  },
  {
   "cell_type": "code",
   "execution_count": 409,
   "id": "d3b9ae4f-ecbb-438c-9803-d8a7ad475509",
   "metadata": {},
   "outputs": [
    {
     "name": "stdout",
     "output_type": "stream",
     "text": [
      "<class 'geopandas.geodataframe.GeoDataFrame'>\n",
      "RangeIndex: 9545 entries, 0 to 9544\n",
      "Data columns (total 4 columns):\n",
      " #   Column    Non-Null Count  Dtype   \n",
      "---  ------    --------------  -----   \n",
      " 0   RELI      9545 non-null   int64   \n",
      " 1   ID        9545 non-null   int64   \n",
      " 2   wbev21    9545 non-null   int64   \n",
      " 3   geometry  9545 non-null   geometry\n",
      "dtypes: geometry(1), int64(3)\n",
      "memory usage: 298.4 KB\n"
     ]
    }
   ],
   "source": [
    "gdf_wbev20_hara_lv95.head()\n",
    "gdf_wbev20_hara_lv95.dtypes\n",
    "gdf_wbev20_hara_lv95.info()"
   ]
  },
  {
   "cell_type": "code",
   "execution_count": 410,
   "id": "5e7409cd-8293-4acb-aa4b-0f40046a1b68",
   "metadata": {},
   "outputs": [],
   "source": [
    "#mySelection = agg_sel_for_viz[(agg_sel_for_viz.QuarSort < 2) & (agg_sel_for_viz.AnzBestWir <5)]\n",
    "myTest = gdf_wbev20_hara_lv95 \\\n",
    "    .groupby(['RELI','wbev21']) \\\n",
    "    .agg(sum_AnzBestWir=('wbev21', 'sum')) \\\n",
    "    .query('sum_AnzBestWir != 0') \\\n",
    "    .sort_values('sum_AnzBestWir', ascending=False)"
   ]
  },
  {
   "cell_type": "code",
   "execution_count": 411,
   "id": "5cc54abe-eb59-4a43-9894-2181678af8ae",
   "metadata": {},
   "outputs": [
    {
     "data": {
      "text/html": [
       "<div>\n",
       "<style scoped>\n",
       "    .dataframe tbody tr th:only-of-type {\n",
       "        vertical-align: middle;\n",
       "    }\n",
       "\n",
       "    .dataframe tbody tr th {\n",
       "        vertical-align: top;\n",
       "    }\n",
       "\n",
       "    .dataframe thead th {\n",
       "        text-align: right;\n",
       "    }\n",
       "</style>\n",
       "<table border=\"1\" class=\"dataframe\">\n",
       "  <thead>\n",
       "    <tr style=\"text-align: right;\">\n",
       "      <th></th>\n",
       "      <th></th>\n",
       "      <th>sum_AnzBestWir</th>\n",
       "    </tr>\n",
       "    <tr>\n",
       "      <th>RELI</th>\n",
       "      <th>wbev21</th>\n",
       "      <th></th>\n",
       "    </tr>\n",
       "  </thead>\n",
       "  <tbody>\n",
       "    <tr>\n",
       "      <th>68042512</th>\n",
       "      <th>546</th>\n",
       "      <td>546</td>\n",
       "    </tr>\n",
       "    <tr>\n",
       "      <th>67932483</th>\n",
       "      <th>516</th>\n",
       "      <td>516</td>\n",
       "    </tr>\n",
       "    <tr>\n",
       "      <th>67922482</th>\n",
       "      <th>514</th>\n",
       "      <td>514</td>\n",
       "    </tr>\n",
       "    <tr>\n",
       "      <th>68172437</th>\n",
       "      <th>466</th>\n",
       "      <td>466</td>\n",
       "    </tr>\n",
       "    <tr>\n",
       "      <th>68462520</th>\n",
       "      <th>463</th>\n",
       "      <td>463</td>\n",
       "    </tr>\n",
       "    <tr>\n",
       "      <th>...</th>\n",
       "      <th>...</th>\n",
       "      <td>...</td>\n",
       "    </tr>\n",
       "    <tr>\n",
       "      <th>67982486</th>\n",
       "      <th>1</th>\n",
       "      <td>1</td>\n",
       "    </tr>\n",
       "    <tr>\n",
       "      <th>67992466</th>\n",
       "      <th>1</th>\n",
       "      <td>1</td>\n",
       "    </tr>\n",
       "    <tr>\n",
       "      <th>68332540</th>\n",
       "      <th>1</th>\n",
       "      <td>1</td>\n",
       "    </tr>\n",
       "    <tr>\n",
       "      <th>68092426</th>\n",
       "      <th>1</th>\n",
       "      <td>1</td>\n",
       "    </tr>\n",
       "    <tr>\n",
       "      <th>68142463</th>\n",
       "      <th>1</th>\n",
       "      <td>1</td>\n",
       "    </tr>\n",
       "  </tbody>\n",
       "</table>\n",
       "<p>4454 rows × 1 columns</p>\n",
       "</div>"
      ],
      "text/plain": [
       "                 sum_AnzBestWir\n",
       "RELI     wbev21                \n",
       "68042512 546                546\n",
       "67932483 516                516\n",
       "67922482 514                514\n",
       "68172437 466                466\n",
       "68462520 463                463\n",
       "...                         ...\n",
       "67982486 1                    1\n",
       "67992466 1                    1\n",
       "68332540 1                    1\n",
       "68092426 1                    1\n",
       "68142463 1                    1\n",
       "\n",
       "[4454 rows x 1 columns]"
      ]
     },
     "execution_count": 411,
     "metadata": {},
     "output_type": "execute_result"
    }
   ],
   "source": [
    "myTest"
   ]
  },
  {
   "cell_type": "code",
   "execution_count": 412,
   "id": "b0939b84-4c0e-419a-9242-a86d46724794",
   "metadata": {},
   "outputs": [
    {
     "name": "stdout",
     "output_type": "stream",
     "text": [
      "434736\n"
     ]
    }
   ],
   "source": [
    "#test = gdf_wbev20_hara_lv95.groupby(['wbev21'])[['wbev21']].sum()\n",
    "TotalWB = gdf_wbev20_hara_lv95.wbev21.sum()\n",
    "print(TotalWB)"
   ]
  },
  {
   "cell_type": "markdown",
   "id": "4bd20f83-40b3-45f3-ba8b-9ad6a55a200f",
   "metadata": {},
   "source": [
    "### Vergleiche in Python vs QGIS aufbereitete Daten\n",
    "\n",
    "Gibt es Hektarrasterzellen, die unterschiedliche Werte haben?"
   ]
  },
  {
   "cell_type": "code",
   "execution_count": 413,
   "id": "b40688a5-1fef-43ec-9aed-1b25b94eb978",
   "metadata": {},
   "outputs": [
    {
     "data": {
      "text/html": [
       "<div>\n",
       "<style scoped>\n",
       "    .dataframe tbody tr th:only-of-type {\n",
       "        vertical-align: middle;\n",
       "    }\n",
       "\n",
       "    .dataframe tbody tr th {\n",
       "        vertical-align: top;\n",
       "    }\n",
       "\n",
       "    .dataframe thead th {\n",
       "        text-align: right;\n",
       "    }\n",
       "</style>\n",
       "<table border=\"1\" class=\"dataframe\">\n",
       "  <thead>\n",
       "    <tr style=\"text-align: right;\">\n",
       "      <th></th>\n",
       "      <th>RELI</th>\n",
       "      <th>ID_x</th>\n",
       "      <th>X_MIN</th>\n",
       "      <th>X_MAX</th>\n",
       "      <th>Y_MIN</th>\n",
       "      <th>Y_MAX</th>\n",
       "      <th>geometry_x</th>\n",
       "      <th>sumAnzBestWir</th>\n",
       "      <th>ID_y</th>\n",
       "      <th>wbev21</th>\n",
       "      <th>geometry_y</th>\n",
       "    </tr>\n",
       "  </thead>\n",
       "  <tbody>\n",
       "    <tr>\n",
       "      <th>0</th>\n",
       "      <td>68042512</td>\n",
       "      <td>4393</td>\n",
       "      <td>680400.0</td>\n",
       "      <td>680500.0</td>\n",
       "      <td>251200.0</td>\n",
       "      <td>251300.0</td>\n",
       "      <td>POLYGON ((2680400.040 1251299.946, 2680500.040...</td>\n",
       "      <td>546</td>\n",
       "      <td>4393</td>\n",
       "      <td>546</td>\n",
       "      <td>MULTIPOLYGON (((2680400.040 1251299.946, 26805...</td>\n",
       "    </tr>\n",
       "    <tr>\n",
       "      <th>1</th>\n",
       "      <td>67932483</td>\n",
       "      <td>8326</td>\n",
       "      <td>679300.0</td>\n",
       "      <td>679400.0</td>\n",
       "      <td>248300.0</td>\n",
       "      <td>248400.0</td>\n",
       "      <td>POLYGON ((2679300.040 1248399.946, 2679400.040...</td>\n",
       "      <td>516</td>\n",
       "      <td>8326</td>\n",
       "      <td>516</td>\n",
       "      <td>MULTIPOLYGON (((2679300.040 1248399.946, 26794...</td>\n",
       "    </tr>\n",
       "    <tr>\n",
       "      <th>2</th>\n",
       "      <td>67922482</td>\n",
       "      <td>8461</td>\n",
       "      <td>679200.0</td>\n",
       "      <td>679300.0</td>\n",
       "      <td>248200.0</td>\n",
       "      <td>248300.0</td>\n",
       "      <td>POLYGON ((2679200.040 1248299.946, 2679300.040...</td>\n",
       "      <td>514</td>\n",
       "      <td>8461</td>\n",
       "      <td>514</td>\n",
       "      <td>MULTIPOLYGON (((2679200.040 1248299.946, 26793...</td>\n",
       "    </tr>\n",
       "    <tr>\n",
       "      <th>3</th>\n",
       "      <td>68172437</td>\n",
       "      <td>14606</td>\n",
       "      <td>681700.0</td>\n",
       "      <td>681800.0</td>\n",
       "      <td>243700.0</td>\n",
       "      <td>243800.0</td>\n",
       "      <td>POLYGON ((2681700.040 1243799.946, 2681800.040...</td>\n",
       "      <td>466</td>\n",
       "      <td>14606</td>\n",
       "      <td>466</td>\n",
       "      <td>MULTIPOLYGON (((2681700.040 1243799.946, 26818...</td>\n",
       "    </tr>\n",
       "    <tr>\n",
       "      <th>4</th>\n",
       "      <td>68462520</td>\n",
       "      <td>3347</td>\n",
       "      <td>684600.0</td>\n",
       "      <td>684700.0</td>\n",
       "      <td>252000.0</td>\n",
       "      <td>252100.0</td>\n",
       "      <td>POLYGON ((2684600.040 1252099.946, 2684700.040...</td>\n",
       "      <td>463</td>\n",
       "      <td>3347</td>\n",
       "      <td>463</td>\n",
       "      <td>MULTIPOLYGON (((2684600.040 1252099.946, 26847...</td>\n",
       "    </tr>\n",
       "  </tbody>\n",
       "</table>\n",
       "</div>"
      ],
      "text/plain": [
       "       RELI   ID_x     X_MIN     X_MAX     Y_MIN     Y_MAX  \\\n",
       "0  68042512   4393  680400.0  680500.0  251200.0  251300.0   \n",
       "1  67932483   8326  679300.0  679400.0  248300.0  248400.0   \n",
       "2  67922482   8461  679200.0  679300.0  248200.0  248300.0   \n",
       "3  68172437  14606  681700.0  681800.0  243700.0  243800.0   \n",
       "4  68462520   3347  684600.0  684700.0  252000.0  252100.0   \n",
       "\n",
       "                                          geometry_x  sumAnzBestWir   ID_y  \\\n",
       "0  POLYGON ((2680400.040 1251299.946, 2680500.040...            546   4393   \n",
       "1  POLYGON ((2679300.040 1248399.946, 2679400.040...            516   8326   \n",
       "2  POLYGON ((2679200.040 1248299.946, 2679300.040...            514   8461   \n",
       "3  POLYGON ((2681700.040 1243799.946, 2681800.040...            466  14606   \n",
       "4  POLYGON ((2684600.040 1252099.946, 2684700.040...            463   3347   \n",
       "\n",
       "   wbev21                                         geometry_y  \n",
       "0     546  MULTIPOLYGON (((2680400.040 1251299.946, 26805...  \n",
       "1     516  MULTIPOLYGON (((2679300.040 1248399.946, 26794...  \n",
       "2     514  MULTIPOLYGON (((2679200.040 1248299.946, 26793...  \n",
       "3     466  MULTIPOLYGON (((2681700.040 1243799.946, 26818...  \n",
       "4     463  MULTIPOLYGON (((2684600.040 1252099.946, 26847...  "
      ]
     },
     "execution_count": 413,
     "metadata": {},
     "output_type": "execute_result"
    }
   ],
   "source": [
    "jupyterdataVsQgis = join_aggWBev2HaRa.merge(gdf_wbev20_hara_lv95, on=[\"RELI\"]).sort_values('sumAnzBestWir', ascending=False)\n",
    "jupyterdataVsQgis.head()"
   ]
  },
  {
   "cell_type": "code",
   "execution_count": 380,
   "id": "b3d2de05-2e7e-40cd-aa99-e474cedff317",
   "metadata": {},
   "outputs": [
    {
     "data": {
      "text/html": [
       "<div>\n",
       "<style scoped>\n",
       "    .dataframe tbody tr th:only-of-type {\n",
       "        vertical-align: middle;\n",
       "    }\n",
       "\n",
       "    .dataframe tbody tr th {\n",
       "        vertical-align: top;\n",
       "    }\n",
       "\n",
       "    .dataframe thead th {\n",
       "        text-align: right;\n",
       "    }\n",
       "</style>\n",
       "<table border=\"1\" class=\"dataframe\">\n",
       "  <thead>\n",
       "    <tr style=\"text-align: right;\">\n",
       "      <th></th>\n",
       "      <th>RELI</th>\n",
       "      <th>ID_x</th>\n",
       "      <th>X_MIN</th>\n",
       "      <th>X_MAX</th>\n",
       "      <th>Y_MIN</th>\n",
       "      <th>Y_MAX</th>\n",
       "      <th>geometry_x</th>\n",
       "      <th>sumAnzBestWir</th>\n",
       "      <th>ID_y</th>\n",
       "      <th>wbev21</th>\n",
       "      <th>geometry_y</th>\n",
       "    </tr>\n",
       "  </thead>\n",
       "  <tbody>\n",
       "  </tbody>\n",
       "</table>\n",
       "</div>"
      ],
      "text/plain": [
       "Empty DataFrame\n",
       "Columns: [RELI, ID_x, X_MIN, X_MAX, Y_MIN, Y_MAX, geometry_x, sumAnzBestWir, ID_y, wbev21, geometry_y]\n",
       "Index: []"
      ]
     },
     "execution_count": 380,
     "metadata": {},
     "output_type": "execute_result"
    }
   ],
   "source": [
    "diffs = jupyterdataVsQgis[jupyterdataVsQgis.wbev21 !=jupyterdataVsQgis.sumAnzBestWir]\n",
    "\n",
    "diffs"
   ]
  },
  {
   "cell_type": "markdown",
   "id": "4fd5edff-c436-4ff5-bddf-1fb35b2f3a37",
   "metadata": {},
   "source": [
    "Nein, es gibt keine Unterschiede!"
   ]
  },
  {
   "cell_type": "code",
   "execution_count": null,
   "id": "f595ae11",
   "metadata": {},
   "outputs": [],
   "source": []
  },
  {
   "cell_type": "code",
   "execution_count": null,
   "id": "026ec8d1",
   "metadata": {},
   "outputs": [],
   "source": []
  },
  {
   "cell_type": "code",
   "execution_count": null,
   "id": "7116a06d",
   "metadata": {},
   "outputs": [],
   "source": []
  }
 ],
 "metadata": {
  "kernelspec": {
   "display_name": "Python 3 (ipykernel)",
   "language": "python",
   "name": "python3"
  },
  "language_info": {
   "codemirror_mode": {
    "name": "ipython",
    "version": 3
   },
   "file_extension": ".py",
   "mimetype": "text/x-python",
   "name": "python",
   "nbconvert_exporter": "python",
   "pygments_lexer": "ipython3",
   "version": "3.9.7"
  }
 },
 "nbformat": 4,
 "nbformat_minor": 5
}
