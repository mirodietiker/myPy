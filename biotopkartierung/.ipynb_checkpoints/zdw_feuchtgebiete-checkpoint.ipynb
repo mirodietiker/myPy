{
 "cells": [
  {
   "cell_type": "markdown",
   "id": "f9713e74",
   "metadata": {
    "tags": []
   },
   "source": [
    "# Fläche der Feuchtgebiete aus der Biotopkartierung der Stadt Zürich \n",
    "Datum: 7.1.2022\n",
    "\n",
    "Im Rahmen der Zahl der Woche suchen wir im Rahmen des [**«Welttags der Feuchtgebiete»**](https://commons.wikimedia.org/wiki/Category:World_Wetlands_Day?uselang=de) vom 2. Februar die Fläche der Feuchtgebiete in der Stadt Zürich.\n",
    "\n",
    "Dazu wollen wir die frei verfügbaren Geodaten «[Biotopkartierung 2020](https://www.stadt-zuerich.ch/geodaten/download/Biotoptypenkartierung_2020)» auf dem Geoportal der Stadt Zürich verwenden.\n",
    "\n",
    "Die [Metadaten dazu](https://www.geocat.ch/geonetwork/srv/ger/md.viewer#/full_view/d8f100e5-c749-48b6-b84b-ffde315e0308) sind auf GeoCat ersichtlich\n",
    "\n",
    "\n",
    "Mit Colab kann **dieses Jupyter-Notebook interaktiv im Browser** gestartet werden:\n",
    "[![Open In Colab](https://colab.research.google.com/assets/colab-badge.svg)](https://colab.research.google.com/github/DonGoginho/myPy/blob/main/biotopkartierung/.ipynb_checkpoints/zdw_feuchtgebiete-checkpoint.ipynb)\n"
   ]
  },
  {
   "cell_type": "markdown",
   "id": "ee387ae7",
   "metadata": {},
   "source": [
    "\n",
    "\n"
   ]
  },
  {
   "cell_type": "markdown",
   "id": "85d8b3c6",
   "metadata": {},
   "source": [
    "## Importiere notwendige Packages:"
   ]
  },
  {
   "cell_type": "code",
   "execution_count": 10,
   "id": "9304111d",
   "metadata": {},
   "outputs": [
    {
     "name": "stdout",
     "output_type": "stream",
     "text": [
      "Requirement already satisfied: geopandas in c:\\programdata\\anaconda3\\envs\\gis_env\\lib\\site-packages (0.9.0)\n",
      "Requirement already satisfied: fiona in c:\\programdata\\anaconda3\\envs\\gis_env\\lib\\site-packages (1.8.20)\n",
      "Requirement already satisfied: requests in c:\\programdata\\anaconda3\\envs\\gis_env\\lib\\site-packages (2.26.0)\n",
      "Requirement already satisfied: folium in c:\\programdata\\anaconda3\\envs\\gis_env\\lib\\site-packages (0.0.0)\n",
      "Requirement already satisfied: mplleaflet in c:\\programdata\\anaconda3\\envs\\gis_env\\lib\\site-packages (0.0.5)\n",
      "Requirement already satisfied: contextily in c:\\programdata\\anaconda3\\envs\\gis_env\\lib\\site-packages (1.1.0)\n",
      "Requirement already satisfied: pivottablejs in c:\\programdata\\anaconda3\\envs\\gis_env\\lib\\site-packages (0.9.0)\n",
      "Requirement already satisfied: pyproj>=2.2.0 in c:\\programdata\\anaconda3\\envs\\gis_env\\lib\\site-packages (from geopandas) (3.2.0)\n",
      "Requirement already satisfied: shapely>=1.6 in c:\\programdata\\anaconda3\\envs\\gis_env\\lib\\site-packages (from geopandas) (1.7.1)\n",
      "Requirement already satisfied: pandas>=0.24.0 in c:\\programdata\\anaconda3\\envs\\gis_env\\lib\\site-packages (from geopandas) (1.3.2)\n",
      "Requirement already satisfied: attrs>=17 in c:\\programdata\\anaconda3\\envs\\gis_env\\lib\\site-packages (from fiona) (21.2.0)\n",
      "Requirement already satisfied: certifi in c:\\programdata\\anaconda3\\envs\\gis_env\\lib\\site-packages (from fiona) (2021.10.8)\n",
      "Requirement already satisfied: click>=4.0 in c:\\programdata\\anaconda3\\envs\\gis_env\\lib\\site-packages (from fiona) (7.1.2)\n",
      "Requirement already satisfied: cligj>=0.5 in c:\\programdata\\anaconda3\\envs\\gis_env\\lib\\site-packages (from fiona) (0.7.2)\n",
      "Requirement already satisfied: click-plugins>=1.0 in c:\\programdata\\anaconda3\\envs\\gis_env\\lib\\site-packages (from fiona) (1.1.1)\n",
      "Requirement already satisfied: six>=1.7 in c:\\programdata\\anaconda3\\envs\\gis_env\\lib\\site-packages (from fiona) (1.16.0)\n",
      "Requirement already satisfied: munch in c:\\programdata\\anaconda3\\envs\\gis_env\\lib\\site-packages (from fiona) (2.5.0)\n",
      "Requirement already satisfied: setuptools in c:\\programdata\\anaconda3\\envs\\gis_env\\lib\\site-packages (from fiona) (58.0.4)\n",
      "Requirement already satisfied: idna<4,>=2.5 in c:\\programdata\\anaconda3\\envs\\gis_env\\lib\\site-packages (from requests) (3.1)\n",
      "Requirement already satisfied: urllib3<1.27,>=1.21.1 in c:\\programdata\\anaconda3\\envs\\gis_env\\lib\\site-packages (from requests) (1.26.6)\n",
      "Requirement already satisfied: charset-normalizer~=2.0.0 in c:\\programdata\\anaconda3\\envs\\gis_env\\lib\\site-packages (from requests) (2.0.0)\n",
      "Requirement already satisfied: numpy in c:\\programdata\\anaconda3\\envs\\gis_env\\lib\\site-packages (from folium) (1.21.2)\n",
      "Requirement already satisfied: branca>=0.3.0 in c:\\programdata\\anaconda3\\envs\\gis_env\\lib\\site-packages (from folium) (0.4.2)\n",
      "Requirement already satisfied: jinja2>=2.9 in c:\\programdata\\anaconda3\\envs\\gis_env\\lib\\site-packages (from folium) (3.0.1)\n",
      "Requirement already satisfied: geopy in c:\\programdata\\anaconda3\\envs\\gis_env\\lib\\site-packages (from contextily) (2.2.0)\n",
      "Requirement already satisfied: joblib in c:\\programdata\\anaconda3\\envs\\gis_env\\lib\\site-packages (from contextily) (1.0.1)\n",
      "Requirement already satisfied: rasterio in c:\\programdata\\anaconda3\\envs\\gis_env\\lib\\site-packages (from contextily) (1.2.8)\n",
      "Requirement already satisfied: mercantile in c:\\programdata\\anaconda3\\envs\\gis_env\\lib\\site-packages (from contextily) (1.2.1)\n",
      "Requirement already satisfied: matplotlib in c:\\programdata\\anaconda3\\envs\\gis_env\\lib\\site-packages (from contextily) (3.4.3)\n",
      "Requirement already satisfied: pillow in c:\\programdata\\anaconda3\\envs\\gis_env\\lib\\site-packages (from contextily) (8.3.2)\n",
      "Requirement already satisfied: MarkupSafe>=2.0 in c:\\programdata\\anaconda3\\envs\\gis_env\\lib\\site-packages (from jinja2>=2.9->folium) (2.0.1)\n",
      "Requirement already satisfied: pytz>=2017.3 in c:\\programdata\\anaconda3\\envs\\gis_env\\lib\\site-packages (from pandas>=0.24.0->geopandas) (2021.1)\n",
      "Requirement already satisfied: python-dateutil>=2.7.3 in c:\\programdata\\anaconda3\\envs\\gis_env\\lib\\site-packages (from pandas>=0.24.0->geopandas) (2.8.2)\n",
      "Requirement already satisfied: geographiclib<2,>=1.49 in c:\\programdata\\anaconda3\\envs\\gis_env\\lib\\site-packages (from geopy->contextily) (1.52)\n",
      "Requirement already satisfied: kiwisolver>=1.0.1 in c:\\programdata\\anaconda3\\envs\\gis_env\\lib\\site-packages (from matplotlib->contextily) (1.3.2)\n",
      "Requirement already satisfied: cycler>=0.10 in c:\\programdata\\anaconda3\\envs\\gis_env\\lib\\site-packages (from matplotlib->contextily) (0.10.0)\n",
      "Requirement already satisfied: pyparsing>=2.2.1 in c:\\programdata\\anaconda3\\envs\\gis_env\\lib\\site-packages (from matplotlib->contextily) (2.4.7)\n",
      "Requirement already satisfied: affine in c:\\programdata\\anaconda3\\envs\\gis_env\\lib\\site-packages (from rasterio->contextily) (2.3.0)\n",
      "Requirement already satisfied: snuggs>=1.4.1 in c:\\programdata\\anaconda3\\envs\\gis_env\\lib\\site-packages (from rasterio->contextily) (1.4.7)\n",
      "Note: you may need to restart the kernel to use updated packages.\n"
     ]
    }
   ],
   "source": [
    "%pip install geopandas fiona requests folium mplleaflet contextily pivottablejs"
   ]
  },
  {
   "cell_type": "code",
   "execution_count": 22,
   "id": "bd4ae830",
   "metadata": {},
   "outputs": [],
   "source": [
    "import numpy as np\n",
    "import pandas as pd\n",
    "import geopandas as gpd\n",
    "import fiona\n",
    "import folium\n",
    "import mplleaflet\n",
    "\n",
    "import pivottablejs\n",
    "from pivottablejs import pivot_ui\n",
    "\n",
    "\n",
    "import matplotlib.pyplot as plt\n",
    "import matplotlib.ticker as mtick\n",
    "\n",
    "import plotly.express as px\n",
    "\n",
    "import seaborn as sns\n",
    "sns.set_style(\n",
    "    style='darkgrid', \n",
    "    rc={'axes.facecolor': '.9', 'grid.color': '.8'}\n",
    ")\n",
    "\n",
    "\n",
    "pd.options.display.float_format = '{:.1f}'.format\n",
    "#pd.set_option('display.width', 100)\n",
    "#pd.set_option('display.max_columns', 15)"
   ]
  },
  {
   "cell_type": "markdown",
   "id": "52796654",
   "metadata": {},
   "source": [
    "## Lies die Daten ein\n"
   ]
  },
  {
   "cell_type": "markdown",
   "id": "f9649aae-766d-423d-abee-5427fa080ccd",
   "metadata": {},
   "source": [
    "### Direkter Download aller Biotopdaten via WFS\n",
    "\n",
    "Dauert allerdings eine Weile... \n",
    "\n",
    "Die Datei wird rund **205 MB** gross. Alternativ dazu kann sie natürlich vom Geoportal herunter geladen werden. Links siehe oben in der Einleitung."
   ]
  },
  {
   "cell_type": "code",
   "execution_count": 3,
   "id": "cb7a4d0b-3f02-468c-b5f3-a0e966d0263d",
   "metadata": {},
   "outputs": [],
   "source": [
    "#Direkter GeoJSON-Import via WFS-GeoJSON-Service\n",
    "\n",
    "geojson_url = \"https://www.ogd.stadt-zuerich.ch/wfs/geoportal/Biotoptypenkartierung_2020?service=WFS&version=1.1.0&request=GetFeature&outputFormat=GeoJSON&typename=btk_2020\"\n",
    "imp_gdf_biotopkartierung_2020 = gpd.read_file(geojson_url)"
   ]
  },
  {
   "cell_type": "code",
   "execution_count": 12,
   "id": "890338b2-ff0b-4b5c-82b5-1c399a14e6e1",
   "metadata": {},
   "outputs": [
    {
     "data": {
      "text/plain": [
       "<Projected CRS: EPSG:2056>\n",
       "Name: CH1903+ / LV95\n",
       "Axis Info [cartesian]:\n",
       "- E[east]: Easting (metre)\n",
       "- N[north]: Northing (metre)\n",
       "Area of Use:\n",
       "- name: Liechtenstein; Switzerland.\n",
       "- bounds: (5.96, 45.82, 10.49, 47.81)\n",
       "Coordinate Operation:\n",
       "- name: Swiss Oblique Mercator 1995\n",
       "- method: Hotine Oblique Mercator (variant B)\n",
       "Datum: CH1903+\n",
       "- Ellipsoid: Bessel 1841\n",
       "- Prime Meridian: Greenwich"
      ]
     },
     "execution_count": 12,
     "metadata": {},
     "output_type": "execute_result"
    }
   ],
   "source": [
    "#imp_gdf_biotopkartierung_2020_wgs84 = imp_gdf_biotopkartierung_2020.to_crs(epsg=4326)\n",
    "imp_gdf_biotopkartierung_2020_lv95 = imp_gdf_biotopkartierung_2020.to_crs(epsg=2056)\n",
    "imp_gdf_biotopkartierung_2020_lv95.crs"
   ]
  },
  {
   "cell_type": "code",
   "execution_count": 5,
   "id": "3f4213db-8ca2-4c40-931d-ac522a8bb6fe",
   "metadata": {},
   "outputs": [
    {
     "data": {
      "text/html": [
       "<div>\n",
       "<style scoped>\n",
       "    .dataframe tbody tr th:only-of-type {\n",
       "        vertical-align: middle;\n",
       "    }\n",
       "\n",
       "    .dataframe tbody tr th {\n",
       "        vertical-align: top;\n",
       "    }\n",
       "\n",
       "    .dataframe thead th {\n",
       "        text-align: right;\n",
       "    }\n",
       "</style>\n",
       "<table border=\"1\" class=\"dataframe\">\n",
       "  <thead>\n",
       "    <tr style=\"text-align: right;\">\n",
       "      <th></th>\n",
       "      <th>id</th>\n",
       "      <th>biotoptypenqualitaet</th>\n",
       "      <th>feuchtigkeit</th>\n",
       "      <th>legende_lebensraeume</th>\n",
       "      <th>lrtyp1code</th>\n",
       "      <th>lrtyp1text</th>\n",
       "      <th>lrtyp2code</th>\n",
       "      <th>lrtyp2text</th>\n",
       "      <th>lrtyp3code</th>\n",
       "      <th>lrtyp3text</th>\n",
       "      <th>...</th>\n",
       "      <th>struktur_staudig</th>\n",
       "      <th>umsetzung</th>\n",
       "      <th>vernetzungstyp_feucht</th>\n",
       "      <th>vernetzungstyp_gehoelz</th>\n",
       "      <th>vernetzungstyp_offen</th>\n",
       "      <th>vernetzungstyp_trocken</th>\n",
       "      <th>vernetzungstyp_unbekannt</th>\n",
       "      <th>versiegelung</th>\n",
       "      <th>geometry</th>\n",
       "      <th>flaeche</th>\n",
       "    </tr>\n",
       "  </thead>\n",
       "  <tbody>\n",
       "    <tr>\n",
       "      <th>0</th>\n",
       "      <td>btk_2020.1</td>\n",
       "      <td>4</td>\n",
       "      <td>unbekannt</td>\n",
       "      <td>Wald</td>\n",
       "      <td>01</td>\n",
       "      <td>Wälder</td>\n",
       "      <td>01.00</td>\n",
       "      <td>Wald allgemein</td>\n",
       "      <td>01.00.00</td>\n",
       "      <td>Wald allgemein</td>\n",
       "      <td>...</td>\n",
       "      <td>-</td>\n",
       "      <td>keine</td>\n",
       "      <td>-</td>\n",
       "      <td>ja</td>\n",
       "      <td>-</td>\n",
       "      <td>-</td>\n",
       "      <td>-</td>\n",
       "      <td>unversiegelt</td>\n",
       "      <td>MULTIPOLYGON (((2682258.133 1242456.271, 26822...</td>\n",
       "      <td>7744.1</td>\n",
       "    </tr>\n",
       "    <tr>\n",
       "      <th>1</th>\n",
       "      <td>btk_2020.2</td>\n",
       "      <td>4</td>\n",
       "      <td>unbekannt</td>\n",
       "      <td>Wald</td>\n",
       "      <td>01</td>\n",
       "      <td>Wälder</td>\n",
       "      <td>01.00</td>\n",
       "      <td>Wald allgemein</td>\n",
       "      <td>01.00.00</td>\n",
       "      <td>Wald allgemein</td>\n",
       "      <td>...</td>\n",
       "      <td>-</td>\n",
       "      <td>keine</td>\n",
       "      <td>-</td>\n",
       "      <td>ja</td>\n",
       "      <td>-</td>\n",
       "      <td>-</td>\n",
       "      <td>-</td>\n",
       "      <td>unversiegelt</td>\n",
       "      <td>MULTIPOLYGON (((2682422.082 1242365.591, 26824...</td>\n",
       "      <td>25187.4</td>\n",
       "    </tr>\n",
       "  </tbody>\n",
       "</table>\n",
       "<p>2 rows × 25 columns</p>\n",
       "</div>"
      ],
      "text/plain": [
       "           id  biotoptypenqualitaet feuchtigkeit legende_lebensraeume  \\\n",
       "0  btk_2020.1                     4    unbekannt                 Wald   \n",
       "1  btk_2020.2                     4    unbekannt                 Wald   \n",
       "\n",
       "  lrtyp1code lrtyp1text lrtyp2code      lrtyp2text lrtyp3code      lrtyp3text  \\\n",
       "0         01     Wälder      01.00  Wald allgemein   01.00.00  Wald allgemein   \n",
       "1         01     Wälder      01.00  Wald allgemein   01.00.00  Wald allgemein   \n",
       "\n",
       "   ... struktur_staudig  umsetzung vernetzungstyp_feucht  \\\n",
       "0  ...                -      keine                     -   \n",
       "1  ...                -      keine                     -   \n",
       "\n",
       "  vernetzungstyp_gehoelz vernetzungstyp_offen vernetzungstyp_trocken  \\\n",
       "0                     ja                    -                      -   \n",
       "1                     ja                    -                      -   \n",
       "\n",
       "  vernetzungstyp_unbekannt  versiegelung  \\\n",
       "0                        -  unversiegelt   \n",
       "1                        -  unversiegelt   \n",
       "\n",
       "                                            geometry flaeche  \n",
       "0  MULTIPOLYGON (((2682258.133 1242456.271, 26822...  7744.1  \n",
       "1  MULTIPOLYGON (((2682422.082 1242365.591, 26824... 25187.4  \n",
       "\n",
       "[2 rows x 25 columns]"
      ]
     },
     "execution_count": 5,
     "metadata": {},
     "output_type": "execute_result"
    }
   ],
   "source": [
    "rename_cols = {'objid': 'test'}\n",
    "columns_to_drop = ['struktur_keine']\n",
    "\n",
    "gdf_biotopkartierung_2020_lv95 = imp_gdf_biotopkartierung_2020_lv95 \\\n",
    "    .copy() \\\n",
    "    .drop(columns_to_drop, axis=1) \\\n",
    "    .rename(columns=rename_cols) \\\n",
    "    .assign(\n",
    "        flaeche = lambda x: x.area\n",
    "     )\n",
    "\n",
    "gdf_biotopkartierung_2020_lv95.head(2)"
   ]
  },
  {
   "cell_type": "markdown",
   "id": "4f43e910-89da-4dbd-bc32-0e415c1e3b0c",
   "metadata": {},
   "source": [
    "##### Speichere das so berechnete Dataframe auch als Geopackage"
   ]
  },
  {
   "cell_type": "code",
   "execution_count": 6,
   "id": "dbcaa9ed-c763-45d7-b43f-0a3b5c895c8e",
   "metadata": {},
   "outputs": [
    {
     "name": "stdout",
     "output_type": "stream",
     "text": [
      "done\n"
     ]
    }
   ],
   "source": [
    "#Import mit Geopandas, Webseite: https://geopandas.org/docs/user_guide/io.html oder  import fiona; help(fiona.open)\n",
    "\n",
    "\n",
    "gdf_biotopkartierung_2020_lv95.to_file(r\"./biotopkartierung_2020.gpkg\", layer='biotopkartierung_2020', driver=\"GPKG\")\n",
    "\n",
    "print('done')\n"
   ]
  },
  {
   "cell_type": "markdown",
   "id": "877a0251-dfe9-4481-bbb4-1902527a9143",
   "metadata": {},
   "source": [
    "#### Selektiere die Feuchtgebiete"
   ]
  },
  {
   "cell_type": "code",
   "execution_count": 7,
   "id": "be701a80-c88d-488d-871e-7e3dc3ea4a91",
   "metadata": {},
   "outputs": [
    {
     "data": {
      "text/html": [
       "<div>\n",
       "<style scoped>\n",
       "    .dataframe tbody tr th:only-of-type {\n",
       "        vertical-align: middle;\n",
       "    }\n",
       "\n",
       "    .dataframe tbody tr th {\n",
       "        vertical-align: top;\n",
       "    }\n",
       "\n",
       "    .dataframe thead th {\n",
       "        text-align: right;\n",
       "    }\n",
       "</style>\n",
       "<table border=\"1\" class=\"dataframe\">\n",
       "  <thead>\n",
       "    <tr style=\"text-align: right;\">\n",
       "      <th></th>\n",
       "      <th>id</th>\n",
       "      <th>biotoptypenqualitaet</th>\n",
       "      <th>feuchtigkeit</th>\n",
       "      <th>legende_lebensraeume</th>\n",
       "      <th>lrtyp1code</th>\n",
       "      <th>lrtyp1text</th>\n",
       "      <th>lrtyp2code</th>\n",
       "      <th>lrtyp2text</th>\n",
       "      <th>lrtyp3code</th>\n",
       "      <th>lrtyp3text</th>\n",
       "      <th>...</th>\n",
       "      <th>struktur_staudig</th>\n",
       "      <th>umsetzung</th>\n",
       "      <th>vernetzungstyp_feucht</th>\n",
       "      <th>vernetzungstyp_gehoelz</th>\n",
       "      <th>vernetzungstyp_offen</th>\n",
       "      <th>vernetzungstyp_trocken</th>\n",
       "      <th>vernetzungstyp_unbekannt</th>\n",
       "      <th>versiegelung</th>\n",
       "      <th>geometry</th>\n",
       "      <th>flaeche</th>\n",
       "    </tr>\n",
       "  </thead>\n",
       "  <tbody>\n",
       "    <tr>\n",
       "      <th>3368</th>\n",
       "      <td>btk_2020.3347</td>\n",
       "      <td>6</td>\n",
       "      <td>feucht</td>\n",
       "      <td>Feuchtgebiete</td>\n",
       "      <td>05</td>\n",
       "      <td>Gehölzfreie Biotope der Sümpfe, Flachmoore und...</td>\n",
       "      <td>05.03</td>\n",
       "      <td>Grossegenried</td>\n",
       "      <td>05.03.03</td>\n",
       "      <td>Grosseggenried mit Sumpf-Segge (ZH: 3c)</td>\n",
       "      <td>...</td>\n",
       "      <td>ja</td>\n",
       "      <td>Potenziell inventarwürdig</td>\n",
       "      <td>ja</td>\n",
       "      <td>-</td>\n",
       "      <td>ja</td>\n",
       "      <td>-</td>\n",
       "      <td>-</td>\n",
       "      <td>unversiegelt</td>\n",
       "      <td>MULTIPOLYGON (((2680822.021 1254020.686, 26808...</td>\n",
       "      <td>1775.9</td>\n",
       "    </tr>\n",
       "    <tr>\n",
       "      <th>3369</th>\n",
       "      <td>btk_2020.3348</td>\n",
       "      <td>6</td>\n",
       "      <td>feucht</td>\n",
       "      <td>Feuchtgebiete</td>\n",
       "      <td>05</td>\n",
       "      <td>Gehölzfreie Biotope der Sümpfe, Flachmoore und...</td>\n",
       "      <td>05.03</td>\n",
       "      <td>Grossegenried</td>\n",
       "      <td>05.03.03</td>\n",
       "      <td>Grosseggenried mit Sumpf-Segge (ZH: 3c)</td>\n",
       "      <td>...</td>\n",
       "      <td>ja</td>\n",
       "      <td>Potenziell inventarwürdig</td>\n",
       "      <td>ja</td>\n",
       "      <td>-</td>\n",
       "      <td>ja</td>\n",
       "      <td>-</td>\n",
       "      <td>-</td>\n",
       "      <td>unversiegelt</td>\n",
       "      <td>MULTIPOLYGON (((2680640.396 1253971.953, 26806...</td>\n",
       "      <td>352.3</td>\n",
       "    </tr>\n",
       "  </tbody>\n",
       "</table>\n",
       "<p>2 rows × 25 columns</p>\n",
       "</div>"
      ],
      "text/plain": [
       "                 id  biotoptypenqualitaet feuchtigkeit legende_lebensraeume  \\\n",
       "3368  btk_2020.3347                     6       feucht        Feuchtgebiete   \n",
       "3369  btk_2020.3348                     6       feucht        Feuchtgebiete   \n",
       "\n",
       "     lrtyp1code                                         lrtyp1text lrtyp2code  \\\n",
       "3368         05  Gehölzfreie Biotope der Sümpfe, Flachmoore und...      05.03   \n",
       "3369         05  Gehölzfreie Biotope der Sümpfe, Flachmoore und...      05.03   \n",
       "\n",
       "         lrtyp2text lrtyp3code                               lrtyp3text  ...  \\\n",
       "3368  Grossegenried   05.03.03  Grosseggenried mit Sumpf-Segge (ZH: 3c)  ...   \n",
       "3369  Grossegenried   05.03.03  Grosseggenried mit Sumpf-Segge (ZH: 3c)  ...   \n",
       "\n",
       "     struktur_staudig                  umsetzung vernetzungstyp_feucht  \\\n",
       "3368               ja  Potenziell inventarwürdig                    ja   \n",
       "3369               ja  Potenziell inventarwürdig                    ja   \n",
       "\n",
       "     vernetzungstyp_gehoelz vernetzungstyp_offen vernetzungstyp_trocken  \\\n",
       "3368                      -                   ja                      -   \n",
       "3369                      -                   ja                      -   \n",
       "\n",
       "     vernetzungstyp_unbekannt  versiegelung  \\\n",
       "3368                        -  unversiegelt   \n",
       "3369                        -  unversiegelt   \n",
       "\n",
       "                                               geometry flaeche  \n",
       "3368  MULTIPOLYGON (((2680822.021 1254020.686, 26808...  1775.9  \n",
       "3369  MULTIPOLYGON (((2680640.396 1253971.953, 26806...   352.3  \n",
       "\n",
       "[2 rows x 25 columns]"
      ]
     },
     "execution_count": 7,
     "metadata": {},
     "output_type": "execute_result"
    }
   ],
   "source": [
    "rename_cols = {'objid': 'test'}\n",
    "columns_to_drop = []\n",
    "\n",
    "gdf_feuchtgebiete_biotopkartierung_2020_lv95 = gdf_biotopkartierung_2020_lv95 \\\n",
    "    .query(\"legende_lebensraeume == 'Feuchtgebiete'\") \\\n",
    "    .drop(columns_to_drop, axis=1) \\\n",
    "    .rename(columns=rename_cols) \\\n",
    "    .assign()\n",
    "\n",
    "gdf_feuchtgebiete_biotopkartierung_2020_lv95.head(2)\n",
    "\n"
   ]
  },
  {
   "cell_type": "markdown",
   "id": "ee374159",
   "metadata": {},
   "source": [
    "## Ein paar Einblicke in die Daten\n",
    "\n",
    "To begin, let us get the number of unique values per feature.\n"
   ]
  },
  {
   "cell_type": "code",
   "execution_count": 10,
   "id": "909c03a9-759a-4fd8-bc5f-f78c53d556ac",
   "metadata": {},
   "outputs": [
    {
     "data": {
      "text/plain": [
       "id                          91421\n",
       "biotoptypenqualitaet            7\n",
       "feuchtigkeit                    4\n",
       "legende_lebensraeume           16\n",
       "lrtyp1code                     10\n",
       "lrtyp1text                     10\n",
       "lrtyp2code                     62\n",
       "lrtyp2text                     62\n",
       "lrtyp3code                    148\n",
       "lrtyp3text                    148\n",
       "naehrstoffe                     4\n",
       "objectid                    91421\n",
       "struktur_baeume                 2\n",
       "struktur_buesche                2\n",
       "struktur_niedrig                2\n",
       "struktur_staudig                2\n",
       "umsetzung                       4\n",
       "vernetzungstyp_feucht           2\n",
       "vernetzungstyp_gehoelz          2\n",
       "vernetzungstyp_offen            2\n",
       "vernetzungstyp_trocken          2\n",
       "vernetzungstyp_unbekannt        2\n",
       "versiegelung                    4\n",
       "geometry                    91421\n",
       "flaeche                     91420\n",
       "dtype: int64"
      ]
     },
     "execution_count": 10,
     "metadata": {},
     "output_type": "execute_result"
    }
   ],
   "source": [
    "gdf_biotopkartierung_2020_lv95.apply(lambda x: x.unique().size, axis=0)"
   ]
  },
  {
   "cell_type": "code",
   "execution_count": 11,
   "id": "24ba4e16-a1bf-4268-a911-9e0a13bf9889",
   "metadata": {},
   "outputs": [
    {
     "data": {
      "text/plain": [
       "<AxesSubplot:>"
      ]
     },
     "execution_count": 11,
     "metadata": {},
     "output_type": "execute_result"
    },
    {
     "data": {
      "image/png": "[encoded data removed]",
      "text/plain": [
       "<Figure size 432x288 with 1 Axes>"
      ]
     },
     "metadata": {},
     "output_type": "display_data"
    }
   ],
   "source": [
    "gdf_biotopkartierung_2020_lv95.plot(\"legende_lebensraeume\", cmap=\"rainbow\", legend=False, linestyle='-', linewidth=0)"
   ]
  },
  {
   "cell_type": "code",
   "execution_count": 13,
   "id": "f7c896ba-e61f-4099-80d7-9ef7ade28cad",
   "metadata": {},
   "outputs": [
    {
     "data": {
      "text/plain": [
       "<AxesSubplot:>"
      ]
     },
     "execution_count": 13,
     "metadata": {},
     "output_type": "execute_result"
    },
    {
     "data": {
      "image/png": "[encoded data removed]",
      "text/plain": [
       "<Figure size 432x288 with 1 Axes>"
      ]
     },
     "metadata": {},
     "output_type": "display_data"
    }
   ],
   "source": [
    "#gdf_biotopkartierung_2020_lv95.query(\"legende_lebensraeume == 'Feuchtgebiete' | legende_lebensraeume == 'Ruderalfluren'| legende_lebensraeume == 'Gewässer'\").plot(\"legende_lebensraeume\", cmap=\"ocean\", legend=False, linestyle='-', linewidth=0)\n",
    "gdf_biotopkartierung_2020_lv95.query(\"feuchtigkeit == 'feucht'\").plot(\"legende_lebensraeume\", cmap=\"ocean\", legend=True, linestyle='-', linewidth=0)\n"
   ]
  },
  {
   "cell_type": "markdown",
   "id": "67e8ef60",
   "metadata": {
    "tags": []
   },
   "source": [
    "### Flächen nach Kategorien"
   ]
  },
  {
   "cell_type": "markdown",
   "id": "941a00a8-4fc1-4b54-a2ce-5b21a1db85b3",
   "metadata": {},
   "source": [
    "Exploriere die Daten mit Pivottable.JS"
   ]
  },
  {
   "cell_type": "code",
   "execution_count": null,
   "id": "f2125021-2274-486f-9660-1f3b04362a8e",
   "metadata": {
    "tags": []
   },
   "outputs": [],
   "source": [
    "from pivottablejs import pivot_ui\n",
    "\n",
    "pivot_ui(gdf_biotopkartierung_2020_lv95)"
   ]
  },
  {
   "cell_type": "markdown",
   "id": "6146be99-e233-4d73-a32f-241d79c90f89",
   "metadata": {},
   "source": [
    "#### Hauptflächen der gesamten Kartierung\n",
    "Unterscheidung nach «Legende Lebensräume»"
   ]
  },
  {
   "cell_type": "code",
   "execution_count": 14,
   "id": "42ffed4d-e3cc-4550-a82a-1fba830b7a7d",
   "metadata": {},
   "outputs": [
    {
     "data": {
      "text/html": [
       "<div>\n",
       "<style scoped>\n",
       "    .dataframe tbody tr th:only-of-type {\n",
       "        vertical-align: middle;\n",
       "    }\n",
       "\n",
       "    .dataframe tbody tr th {\n",
       "        vertical-align: top;\n",
       "    }\n",
       "\n",
       "    .dataframe thead th {\n",
       "        text-align: right;\n",
       "    }\n",
       "</style>\n",
       "<table border=\"1\" class=\"dataframe\">\n",
       "  <thead>\n",
       "    <tr style=\"text-align: right;\">\n",
       "      <th></th>\n",
       "      <th>legende_lebensraeume</th>\n",
       "      <th>sum_area</th>\n",
       "    </tr>\n",
       "  </thead>\n",
       "  <tbody>\n",
       "    <tr>\n",
       "      <th>0</th>\n",
       "      <td>Wald</td>\n",
       "      <td>21405099.7</td>\n",
       "    </tr>\n",
       "    <tr>\n",
       "      <th>1</th>\n",
       "      <td>Ueberwiegend bebaute Flächen</td>\n",
       "      <td>20962654.1</td>\n",
       "    </tr>\n",
       "    <tr>\n",
       "      <th>2</th>\n",
       "      <td>Grünanlagen von Mehrfamilienhäusern</td>\n",
       "      <td>8345866.9</td>\n",
       "    </tr>\n",
       "    <tr>\n",
       "      <th>3</th>\n",
       "      <td>Wiesen und Rasen</td>\n",
       "      <td>7177691.2</td>\n",
       "    </tr>\n",
       "    <tr>\n",
       "      <th>4</th>\n",
       "      <td>Gärten</td>\n",
       "      <td>5753284.5</td>\n",
       "    </tr>\n",
       "    <tr>\n",
       "      <th>5</th>\n",
       "      <td>Gewässer</td>\n",
       "      <td>5191714.7</td>\n",
       "    </tr>\n",
       "    <tr>\n",
       "      <th>6</th>\n",
       "      <td>Gehölze, Hecken und Gebüsche</td>\n",
       "      <td>4062020.4</td>\n",
       "    </tr>\n",
       "    <tr>\n",
       "      <th>7</th>\n",
       "      <td>Äcker, Gartenbauflächen, Tiergehege</td>\n",
       "      <td>3330838.2</td>\n",
       "    </tr>\n",
       "    <tr>\n",
       "      <th>8</th>\n",
       "      <td>Kies- und Schotterflächen</td>\n",
       "      <td>2529042.1</td>\n",
       "    </tr>\n",
       "    <tr>\n",
       "      <th>9</th>\n",
       "      <td>Ruderalfluren</td>\n",
       "      <td>1612992.1</td>\n",
       "    </tr>\n",
       "    <tr>\n",
       "      <th>10</th>\n",
       "      <td>Familiengärten</td>\n",
       "      <td>1571613.9</td>\n",
       "    </tr>\n",
       "    <tr>\n",
       "      <th>11</th>\n",
       "      <td>Grünanlagen</td>\n",
       "      <td>1139922.7</td>\n",
       "    </tr>\n",
       "    <tr>\n",
       "      <th>12</th>\n",
       "      <td>Obstgärten</td>\n",
       "      <td>724938.0</td>\n",
       "    </tr>\n",
       "    <tr>\n",
       "      <th>13</th>\n",
       "      <td>Feuchtgebiete</td>\n",
       "      <td>280252.2</td>\n",
       "    </tr>\n",
       "    <tr>\n",
       "      <th>14</th>\n",
       "      <td>Beete und Rabatten</td>\n",
       "      <td>88777.6</td>\n",
       "    </tr>\n",
       "    <tr>\n",
       "      <th>15</th>\n",
       "      <td>Mauern</td>\n",
       "      <td>3254.3</td>\n",
       "    </tr>\n",
       "  </tbody>\n",
       "</table>\n",
       "</div>"
      ],
      "text/plain": [
       "                   legende_lebensraeume   sum_area\n",
       "0                                  Wald 21405099.7\n",
       "1          Ueberwiegend bebaute Flächen 20962654.1\n",
       "2   Grünanlagen von Mehrfamilienhäusern  8345866.9\n",
       "3                      Wiesen und Rasen  7177691.2\n",
       "4                                Gärten  5753284.5\n",
       "5                              Gewässer  5191714.7\n",
       "6          Gehölze, Hecken und Gebüsche  4062020.4\n",
       "7   Äcker, Gartenbauflächen, Tiergehege  3330838.2\n",
       "8             Kies- und Schotterflächen  2529042.1\n",
       "9                         Ruderalfluren  1612992.1\n",
       "10                       Familiengärten  1571613.9\n",
       "11                          Grünanlagen  1139922.7\n",
       "12                           Obstgärten   724938.0\n",
       "13                        Feuchtgebiete   280252.2\n",
       "14                   Beete und Rabatten    88777.6\n",
       "15                               Mauern     3254.3"
      ]
     },
     "execution_count": 14,
     "metadata": {},
     "output_type": "execute_result"
    }
   ],
   "source": [
    "df = gdf_biotopkartierung_2020_lv95 \\\n",
    "    .groupby(['legende_lebensraeume']) \\\n",
    "    .agg(sum_area=('flaeche', 'sum')) \\\n",
    "    .sort_values('sum_area', ascending=False) \n",
    "\n",
    "df.reset_index()"
   ]
  },
  {
   "cell_type": "code",
   "execution_count": 15,
   "id": "b1a9770c-e528-4aad-b8e1-8f16c4493dd4",
   "metadata": {},
   "outputs": [
    {
     "data": {
      "text/html": [
       "<div>\n",
       "<style scoped>\n",
       "    .dataframe tbody tr th:only-of-type {\n",
       "        vertical-align: middle;\n",
       "    }\n",
       "\n",
       "    .dataframe tbody tr th {\n",
       "        vertical-align: top;\n",
       "    }\n",
       "\n",
       "    .dataframe thead th {\n",
       "        text-align: right;\n",
       "    }\n",
       "</style>\n",
       "<table border=\"1\" class=\"dataframe\">\n",
       "  <thead>\n",
       "    <tr style=\"text-align: right;\">\n",
       "      <th></th>\n",
       "      <th>id</th>\n",
       "      <th>biotoptypenqualitaet</th>\n",
       "      <th>feuchtigkeit</th>\n",
       "      <th>legende_lebensraeume</th>\n",
       "      <th>lrtyp1code</th>\n",
       "      <th>lrtyp1text</th>\n",
       "      <th>lrtyp2code</th>\n",
       "      <th>lrtyp2text</th>\n",
       "      <th>lrtyp3code</th>\n",
       "      <th>lrtyp3text</th>\n",
       "      <th>...</th>\n",
       "      <th>struktur_staudig</th>\n",
       "      <th>umsetzung</th>\n",
       "      <th>vernetzungstyp_feucht</th>\n",
       "      <th>vernetzungstyp_gehoelz</th>\n",
       "      <th>vernetzungstyp_offen</th>\n",
       "      <th>vernetzungstyp_trocken</th>\n",
       "      <th>vernetzungstyp_unbekannt</th>\n",
       "      <th>versiegelung</th>\n",
       "      <th>geometry</th>\n",
       "      <th>flaeche</th>\n",
       "    </tr>\n",
       "  </thead>\n",
       "  <tbody>\n",
       "    <tr>\n",
       "      <th>3368</th>\n",
       "      <td>btk_2020.3347</td>\n",
       "      <td>6</td>\n",
       "      <td>feucht</td>\n",
       "      <td>Feuchtgebiete</td>\n",
       "      <td>05</td>\n",
       "      <td>Gehölzfreie Biotope der Sümpfe, Flachmoore und...</td>\n",
       "      <td>05.03</td>\n",
       "      <td>Grossegenried</td>\n",
       "      <td>05.03.03</td>\n",
       "      <td>Grosseggenried mit Sumpf-Segge (ZH: 3c)</td>\n",
       "      <td>...</td>\n",
       "      <td>ja</td>\n",
       "      <td>Potenziell inventarwürdig</td>\n",
       "      <td>ja</td>\n",
       "      <td>-</td>\n",
       "      <td>ja</td>\n",
       "      <td>-</td>\n",
       "      <td>-</td>\n",
       "      <td>unversiegelt</td>\n",
       "      <td>MULTIPOLYGON (((2680822.021 1254020.686, 26808...</td>\n",
       "      <td>1775.9</td>\n",
       "    </tr>\n",
       "  </tbody>\n",
       "</table>\n",
       "<p>1 rows × 25 columns</p>\n",
       "</div>"
      ],
      "text/plain": [
       "                 id  biotoptypenqualitaet feuchtigkeit legende_lebensraeume  \\\n",
       "3368  btk_2020.3347                     6       feucht        Feuchtgebiete   \n",
       "\n",
       "     lrtyp1code                                         lrtyp1text lrtyp2code  \\\n",
       "3368         05  Gehölzfreie Biotope der Sümpfe, Flachmoore und...      05.03   \n",
       "\n",
       "         lrtyp2text lrtyp3code                               lrtyp3text  ...  \\\n",
       "3368  Grossegenried   05.03.03  Grosseggenried mit Sumpf-Segge (ZH: 3c)  ...   \n",
       "\n",
       "     struktur_staudig                  umsetzung vernetzungstyp_feucht  \\\n",
       "3368               ja  Potenziell inventarwürdig                    ja   \n",
       "\n",
       "     vernetzungstyp_gehoelz vernetzungstyp_offen vernetzungstyp_trocken  \\\n",
       "3368                      -                   ja                      -   \n",
       "\n",
       "     vernetzungstyp_unbekannt  versiegelung  \\\n",
       "3368                        -  unversiegelt   \n",
       "\n",
       "                                               geometry flaeche  \n",
       "3368  MULTIPOLYGON (((2680822.021 1254020.686, 26808...  1775.9  \n",
       "\n",
       "[1 rows x 25 columns]"
      ]
     },
     "execution_count": 15,
     "metadata": {},
     "output_type": "execute_result"
    }
   ],
   "source": [
    "gdf_feuchtgebiete = gdf_biotopkartierung_2020_lv95.query(\"legende_lebensraeume == 'Feuchtgebiete'\")\n",
    "gdf_feuchtgebiete.head(1)"
   ]
  },
  {
   "cell_type": "markdown",
   "id": "01fbba2f-e229-4b54-ac69-f57d625e54af",
   "metadata": {},
   "source": [
    "#### Feuchtgebiete. Unterteilungen"
   ]
  },
  {
   "cell_type": "code",
   "execution_count": 16,
   "id": "cb392ad8-fc29-4436-8f92-f20947280255",
   "metadata": {},
   "outputs": [
    {
     "data": {
      "text/html": [
       "<div>\n",
       "<style scoped>\n",
       "    .dataframe tbody tr th:only-of-type {\n",
       "        vertical-align: middle;\n",
       "    }\n",
       "\n",
       "    .dataframe tbody tr th {\n",
       "        vertical-align: top;\n",
       "    }\n",
       "\n",
       "    .dataframe thead th {\n",
       "        text-align: right;\n",
       "    }\n",
       "</style>\n",
       "<table border=\"1\" class=\"dataframe\">\n",
       "  <thead>\n",
       "    <tr style=\"text-align: right;\">\n",
       "      <th></th>\n",
       "      <th></th>\n",
       "      <th>sum_area</th>\n",
       "    </tr>\n",
       "    <tr>\n",
       "      <th>lrtyp2text</th>\n",
       "      <th>lrtyp2code</th>\n",
       "      <th></th>\n",
       "    </tr>\n",
       "  </thead>\n",
       "  <tbody>\n",
       "    <tr>\n",
       "      <th>Traubenkirschen-Eschenwald</th>\n",
       "      <th>01.30</th>\n",
       "      <td>111.9</td>\n",
       "    </tr>\n",
       "    <tr>\n",
       "      <th>Pioniervegetation (wechsel-)nasser Standorte/vegetationsarmer Uferbereich</th>\n",
       "      <th>05.09</th>\n",
       "      <td>121.5</td>\n",
       "    </tr>\n",
       "    <tr>\n",
       "      <th>Aronstab-Buchenwald</th>\n",
       "      <th>01.11</th>\n",
       "      <td>220.4</td>\n",
       "    </tr>\n",
       "    <tr>\n",
       "      <th>Artenarmes Magerwiesenstadium</th>\n",
       "      <th>08.08</th>\n",
       "      <td>334.3</td>\n",
       "    </tr>\n",
       "    <tr>\n",
       "      <th>Nasswiese</th>\n",
       "      <th>09.03</th>\n",
       "      <td>645.4</td>\n",
       "    </tr>\n",
       "    <tr>\n",
       "      <th>...</th>\n",
       "      <th>...</th>\n",
       "      <td>...</td>\n",
       "    </tr>\n",
       "    <tr>\n",
       "      <th>Hausgarten</th>\n",
       "      <th>12.06</th>\n",
       "      <td>5753284.5</td>\n",
       "    </tr>\n",
       "    <tr>\n",
       "      <th>Grünanlage von Mehrfamilienhäusern</th>\n",
       "      <th>12.12</th>\n",
       "      <td>8345866.9</td>\n",
       "    </tr>\n",
       "    <tr>\n",
       "      <th>Biotopkomplexe und Nutzungstypen der bebauten Bereiche</th>\n",
       "      <th>13.05</th>\n",
       "      <td>9930630.4</td>\n",
       "    </tr>\n",
       "    <tr>\n",
       "      <th>Befestigte Fläche</th>\n",
       "      <th>13.04</th>\n",
       "      <td>12387860.2</td>\n",
       "    </tr>\n",
       "    <tr>\n",
       "      <th>Wald allgemein</th>\n",
       "      <th>01.00</th>\n",
       "      <td>21385589.5</td>\n",
       "    </tr>\n",
       "  </tbody>\n",
       "</table>\n",
       "<p>62 rows × 1 columns</p>\n",
       "</div>"
      ],
      "text/plain": [
       "                                                                sum_area\n",
       "lrtyp2text                                         lrtyp2code           \n",
       "Traubenkirschen-Eschenwald                         01.30           111.9\n",
       "Pioniervegetation (wechsel-)nasser Standorte/ve... 05.09           121.5\n",
       "Aronstab-Buchenwald                                01.11           220.4\n",
       "Artenarmes Magerwiesenstadium                      08.08           334.3\n",
       "Nasswiese                                          09.03           645.4\n",
       "...                                                                  ...\n",
       "Hausgarten                                         12.06       5753284.5\n",
       "Grünanlage von Mehrfamilienhäusern                 12.12       8345866.9\n",
       "Biotopkomplexe und Nutzungstypen der bebauten B... 13.05       9930630.4\n",
       "Befestigte Fläche                                  13.04      12387860.2\n",
       "Wald allgemein                                     01.00      21385589.5\n",
       "\n",
       "[62 rows x 1 columns]"
      ]
     },
     "execution_count": 16,
     "metadata": {},
     "output_type": "execute_result"
    }
   ],
   "source": [
    "gdf_biotopkartierung_2020_lv95 \\\n",
    "    .groupby(['lrtyp2text', 'lrtyp2code' ]) \\\n",
    "    .agg(sum_area=('flaeche', 'sum')) \\\n",
    "    .sort_values('sum_area', ascending=True) "
   ]
  },
  {
   "cell_type": "code",
   "execution_count": 17,
   "id": "c7f2ead9-b4be-412c-8e9c-6131daef0cae",
   "metadata": {},
   "outputs": [
    {
     "data": {
      "text/html": [
       "<div>\n",
       "<style scoped>\n",
       "    .dataframe tbody tr th:only-of-type {\n",
       "        vertical-align: middle;\n",
       "    }\n",
       "\n",
       "    .dataframe tbody tr th {\n",
       "        vertical-align: top;\n",
       "    }\n",
       "\n",
       "    .dataframe thead th {\n",
       "        text-align: right;\n",
       "    }\n",
       "</style>\n",
       "<table border=\"1\" class=\"dataframe\">\n",
       "  <thead>\n",
       "    <tr style=\"text-align: right;\">\n",
       "      <th></th>\n",
       "      <th></th>\n",
       "      <th>sum_area</th>\n",
       "    </tr>\n",
       "    <tr>\n",
       "      <th>lrtyp2text</th>\n",
       "      <th>lrtyp2code</th>\n",
       "      <th></th>\n",
       "    </tr>\n",
       "  </thead>\n",
       "  <tbody>\n",
       "    <tr>\n",
       "      <th>Grossegenried</th>\n",
       "      <th>05.03</th>\n",
       "      <td>95668.8</td>\n",
       "    </tr>\n",
       "    <tr>\n",
       "      <th>Hochstaudenflur</th>\n",
       "      <th>05.04</th>\n",
       "      <td>88579.0</td>\n",
       "    </tr>\n",
       "    <tr>\n",
       "      <th>Landröhricht</th>\n",
       "      <th>05.02</th>\n",
       "      <td>51507.5</td>\n",
       "    </tr>\n",
       "    <tr>\n",
       "      <th>Pfeifengraswiese</th>\n",
       "      <th>05.08</th>\n",
       "      <td>35078.1</td>\n",
       "    </tr>\n",
       "    <tr>\n",
       "      <th>Uferstaudenflur</th>\n",
       "      <th>05.01</th>\n",
       "      <td>9297.4</td>\n",
       "    </tr>\n",
       "    <tr>\n",
       "      <th>Pioniervegetation (wechsel-)nasser Standorte/vegetationsarmer Uferbereich</th>\n",
       "      <th>05.09</th>\n",
       "      <td>121.5</td>\n",
       "    </tr>\n",
       "  </tbody>\n",
       "</table>\n",
       "</div>"
      ],
      "text/plain": [
       "                                                               sum_area\n",
       "lrtyp2text                                         lrtyp2code          \n",
       "Grossegenried                                      05.03        95668.8\n",
       "Hochstaudenflur                                    05.04        88579.0\n",
       "Landröhricht                                       05.02        51507.5\n",
       "Pfeifengraswiese                                   05.08        35078.1\n",
       "Uferstaudenflur                                    05.01         9297.4\n",
       "Pioniervegetation (wechsel-)nasser Standorte/ve... 05.09          121.5"
      ]
     },
     "execution_count": 17,
     "metadata": {},
     "output_type": "execute_result"
    }
   ],
   "source": [
    "gdf_feuchtgebiete \\\n",
    "    .groupby(['lrtyp2text', 'lrtyp2code' ]) \\\n",
    "    .agg(sum_area=('flaeche', 'sum')) \\\n",
    "    .sort_values('sum_area', ascending=False) "
   ]
  },
  {
   "cell_type": "code",
   "execution_count": 18,
   "id": "42de4191-edf1-428b-8c87-f1ef6472874d",
   "metadata": {},
   "outputs": [
    {
     "data": {
      "text/html": [
       "<div>\n",
       "<style scoped>\n",
       "    .dataframe tbody tr th:only-of-type {\n",
       "        vertical-align: middle;\n",
       "    }\n",
       "\n",
       "    .dataframe tbody tr th {\n",
       "        vertical-align: top;\n",
       "    }\n",
       "\n",
       "    .dataframe thead th {\n",
       "        text-align: right;\n",
       "    }\n",
       "</style>\n",
       "<table border=\"1\" class=\"dataframe\">\n",
       "  <thead>\n",
       "    <tr style=\"text-align: right;\">\n",
       "      <th></th>\n",
       "      <th></th>\n",
       "      <th>sum_area</th>\n",
       "    </tr>\n",
       "    <tr>\n",
       "      <th>lrtyp3text</th>\n",
       "      <th>lrtyp3code</th>\n",
       "      <th></th>\n",
       "    </tr>\n",
       "  </thead>\n",
       "  <tbody>\n",
       "    <tr>\n",
       "      <th>Hochstaudenflur mit Spierstaude (ZH: 4a)</th>\n",
       "      <th>05.04.01</th>\n",
       "      <td>65118.2</td>\n",
       "    </tr>\n",
       "    <tr>\n",
       "      <th>Schilf-Landröhricht</th>\n",
       "      <th>05.02.01</th>\n",
       "      <td>38796.6</td>\n",
       "    </tr>\n",
       "    <tr>\n",
       "      <th>Pfeifengraswiese, Kleinseggenausbildung feucht (ZH: 8a)</th>\n",
       "      <th>05.08.01</th>\n",
       "      <td>30814.4</td>\n",
       "    </tr>\n",
       "    <tr>\n",
       "      <th>Grosseggenried ausserhalb Wasserstandsschwankungen (ZH: 3b)</th>\n",
       "      <th>05.03.02</th>\n",
       "      <td>26847.0</td>\n",
       "    </tr>\n",
       "    <tr>\n",
       "      <th>Grosseggenried mit Schneidebinse (ZH: 3d)</th>\n",
       "      <th>05.03.04</th>\n",
       "      <td>24586.3</td>\n",
       "    </tr>\n",
       "    <tr>\n",
       "      <th>Grosseggenried mit Sumpf-Segge (ZH: 3c)</th>\n",
       "      <th>05.03.03</th>\n",
       "      <td>22887.5</td>\n",
       "    </tr>\n",
       "    <tr>\n",
       "      <th>Bultiges Grosseggenried (ZH: 3a)</th>\n",
       "      <th>05.03.01</th>\n",
       "      <td>21348.0</td>\n",
       "    </tr>\n",
       "    <tr>\n",
       "      <th>Bestand der Stumpfblättrigen Binse (ZH: 4c)</th>\n",
       "      <th>05.04.03</th>\n",
       "      <td>17890.5</td>\n",
       "    </tr>\n",
       "    <tr>\n",
       "      <th>Rohrglanzgras-Flussuferröhricht*</th>\n",
       "      <th>05.02.02</th>\n",
       "      <td>12182.4</td>\n",
       "    </tr>\n",
       "    <tr>\n",
       "      <th>Nährstoffreicher Sumpf</th>\n",
       "      <th>05.01.07</th>\n",
       "      <td>9297.4</td>\n",
       "    </tr>\n",
       "    <tr>\n",
       "      <th>Hochstaudenflur mit Goldrute (ZH: 4b)</th>\n",
       "      <th>05.04.02</th>\n",
       "      <td>5570.3</td>\n",
       "    </tr>\n",
       "    <tr>\n",
       "      <th>Pfeifengraswiese, Kleinseggenausbildung trocken (ZH: 8b)</th>\n",
       "      <th>05.08.02</th>\n",
       "      <td>3229.2</td>\n",
       "    </tr>\n",
       "    <tr>\n",
       "      <th>Pfeifengrasreinbestand auf Torf (ZH: 8c)</th>\n",
       "      <th>05.08.03</th>\n",
       "      <td>1034.5</td>\n",
       "    </tr>\n",
       "    <tr>\n",
       "      <th>Süssgras-Bachröhricht*</th>\n",
       "      <th>05.02.03</th>\n",
       "      <td>528.5</td>\n",
       "    </tr>\n",
       "    <tr>\n",
       "      <th>Pioniervegetation schlammiger Nassstandorte*</th>\n",
       "      <th>05.09.01</th>\n",
       "      <td>121.5</td>\n",
       "    </tr>\n",
       "  </tbody>\n",
       "</table>\n",
       "</div>"
      ],
      "text/plain": [
       "                                                               sum_area\n",
       "lrtyp3text                                         lrtyp3code          \n",
       "Hochstaudenflur mit Spierstaude (ZH: 4a)           05.04.01     65118.2\n",
       "Schilf-Landröhricht                                05.02.01     38796.6\n",
       "Pfeifengraswiese, Kleinseggenausbildung feucht ... 05.08.01     30814.4\n",
       "Grosseggenried ausserhalb Wasserstandsschwankun... 05.03.02     26847.0\n",
       "Grosseggenried mit Schneidebinse (ZH: 3d)          05.03.04     24586.3\n",
       "Grosseggenried mit Sumpf-Segge (ZH: 3c)            05.03.03     22887.5\n",
       "Bultiges Grosseggenried (ZH: 3a)                   05.03.01     21348.0\n",
       "Bestand der Stumpfblättrigen Binse (ZH: 4c)        05.04.03     17890.5\n",
       "Rohrglanzgras-Flussuferröhricht*                   05.02.02     12182.4\n",
       "Nährstoffreicher Sumpf                             05.01.07      9297.4\n",
       "Hochstaudenflur mit Goldrute (ZH: 4b)              05.04.02      5570.3\n",
       "Pfeifengraswiese, Kleinseggenausbildung trocken... 05.08.02      3229.2\n",
       "Pfeifengrasreinbestand auf Torf (ZH: 8c)           05.08.03      1034.5\n",
       "Süssgras-Bachröhricht*                             05.02.03       528.5\n",
       "Pioniervegetation schlammiger Nassstandorte*       05.09.01       121.5"
      ]
     },
     "execution_count": 18,
     "metadata": {},
     "output_type": "execute_result"
    }
   ],
   "source": [
    "gdf_feuchtgebiete \\\n",
    "    .groupby(['lrtyp3text', 'lrtyp3code' ]) \\\n",
    "    .agg(sum_area=('flaeche', 'sum')) \\\n",
    "    .sort_values('sum_area', ascending=False) "
   ]
  },
  {
   "cell_type": "markdown",
   "id": "302f99bc-db30-4bee-bead-b3a647289123",
   "metadata": {},
   "source": [
    "### Ein paar Visualisierungen"
   ]
  },
  {
   "cell_type": "code",
   "execution_count": 75,
   "id": "890e1943-00bf-4f7a-9d72-525e8e9809f6",
   "metadata": {},
   "outputs": [],
   "source": [
    "#gdf_biotopkartierung_2020_lv95.dtypes"
   ]
  },
  {
   "cell_type": "markdown",
   "id": "c38fbc47-d142-4920-97cb-a1f406530b67",
   "metadata": {},
   "source": [
    "#### Biotypflächen 2020 nach Lebensraumkategorie und Biotoptypenschlüssel Typ 1-3"
   ]
  },
  {
   "cell_type": "code",
   "execution_count": 90,
   "id": "f2b869cb",
   "metadata": {},
   "outputs": [],
   "source": [
    "myTreemapAgg = gdf_biotopkartierung_2020_lv95  \\\n",
    "    .groupby(['legende_lebensraeume', 'lrtyp1text', 'lrtyp1code', 'lrtyp2text', 'lrtyp2code', 'lrtyp3text', 'lrtyp3code']) \\\n",
    "    .agg(sum_Flaeche=('flaeche', 'sum')) \\\n",
    "    .sort_values('sum_Flaeche', ascending=True) \n",
    "\n",
    "#myTreemapAgg.reset_index().head(3)"
   ]
  },
  {
   "cell_type": "code",
   "execution_count": 91,
   "id": "9cc79414-a862-4dad-a0f7-51195c3667ab",
   "metadata": {},
   "outputs": [
    {
     "data": {
      "application/vnd.plotly.v1+json": {
       "config": {
        "plotlyServerURL": "https://plot.ly"
       },
       "data": [
        {
         "branchvalues": "total",
         "customdata": [
          [
           "Siedlungen"
          ],
          [
           "Gewässer"
          ],
          [
           "Ruderalfluren"
          ],
          [
           "Gebäude-, Verkehrs- und Industrieflächen"
          ],
          [
           "Gewässer"
          ],
          [
           "Grünland"
          ],
          [
           "Gehölzfreie Biotope der Sümpfe, Flachmoore und Ufer"
          ],
          [
           "Gebüsche und Gehölzbestände"
          ],
          [
           "Siedlungen"
          ],
          [
           "Gebüsche und Gehölzbestände"
          ],
          [
           "Wälder"
          ],
          [
           "Siedlungen"
          ],
          [
           "Magerrasen"
          ],
          [
           "Gewässer"
          ],
          [
           "Acker- und Gartenbau-Biotope"
          ],
          [
           "Gebüsche und Gehölzbestände"
          ],
          [
           "Siedlungen"
          ],
          [
           "Siedlungen"
          ],
          [
           "Siedlungen"
          ],
          [
           "Gebäude-, Verkehrs- und Industrieflächen"
          ],
          [
           "Gewässer"
          ],
          [
           "Wälder"
          ],
          [
           "Gebüsche und Gehölzbestände"
          ],
          [
           "Siedlungen"
          ],
          [
           "Grünland"
          ],
          [
           "Siedlungen"
          ],
          [
           "Acker- und Gartenbau-Biotope"
          ],
          [
           "Wälder"
          ],
          [
           "Gebäude-, Verkehrs- und Industrieflächen"
          ],
          [
           "Gebäude-, Verkehrs- und Industrieflächen"
          ],
          [
           "Ruderalfluren"
          ],
          [
           "Gewässer"
          ],
          [
           "Siedlungen"
          ],
          [
           "Ruderalfluren"
          ],
          [
           "Ruderalfluren"
          ],
          [
           "Gebäude-, Verkehrs- und Industrieflächen"
          ],
          [
           "Gebäude-, Verkehrs- und Industrieflächen"
          ],
          [
           "Gebüsche und Gehölzbestände"
          ],
          [
           "Gebäude-, Verkehrs- und Industrieflächen"
          ],
          [
           "Acker- und Gartenbau-Biotope"
          ],
          [
           "Siedlungen"
          ],
          [
           "Acker- und Gartenbau-Biotope"
          ],
          [
           "Siedlungen"
          ],
          [
           "Acker- und Gartenbau-Biotope"
          ],
          [
           "Gehölzfreie Biotope der Sümpfe, Flachmoore und Ufer"
          ],
          [
           "Gewässer"
          ],
          [
           "Siedlungen"
          ],
          [
           "Siedlungen"
          ],
          [
           "Magerrasen"
          ],
          [
           "Gehölzfreie Biotope der Sümpfe, Flachmoore und Ufer"
          ],
          [
           "Gehölzfreie Biotope der Sümpfe, Flachmoore und Ufer"
          ],
          [
           "Gewässer"
          ],
          [
           "Gebüsche und Gehölzbestände"
          ],
          [
           "Ruderalfluren"
          ],
          [
           "Siedlungen"
          ],
          [
           "Grünland"
          ],
          [
           "Gebäude-, Verkehrs- und Industrieflächen"
          ],
          [
           "Gehölzfreie Biotope der Sümpfe, Flachmoore und Ufer"
          ],
          [
           "Gebäude-, Verkehrs- und Industrieflächen"
          ],
          [
           "Gehölzfreie Biotope der Sümpfe, Flachmoore und Ufer"
          ],
          [
           "Magerrasen"
          ],
          [
           "Gebüsche und Gehölzbestände"
          ],
          [
           "Gehölzfreie Biotope der Sümpfe, Flachmoore und Ufer"
          ],
          [
           "Gebäude-, Verkehrs- und Industrieflächen"
          ],
          [
           "Siedlungen"
          ],
          [
           "Gebüsche und Gehölzbestände"
          ],
          [
           "Grünland"
          ],
          [
           "Gebüsche und Gehölzbestände"
          ],
          [
           "Siedlungen"
          ],
          [
           "Gebäude-, Verkehrs- und Industrieflächen"
          ],
          [
           "Gebäude-, Verkehrs- und Industrieflächen"
          ],
          [
           "Gewässer"
          ],
          [
           "Siedlungen"
          ],
          [
           "Gehölzfreie Biotope der Sümpfe, Flachmoore und Ufer"
          ],
          [
           "Siedlungen"
          ],
          [
           "Gewässer"
          ],
          [
           "Ruderalfluren"
          ],
          [
           "Gehölzfreie Biotope der Sümpfe, Flachmoore und Ufer"
          ],
          [
           "Siedlungen"
          ],
          [
           "Ruderalfluren"
          ],
          [
           "Gehölzfreie Biotope der Sümpfe, Flachmoore und Ufer"
          ],
          [
           "Grünland"
          ],
          [
           "Ruderalfluren"
          ],
          [
           "Gebüsche und Gehölzbestände"
          ],
          [
           "Gebäude-, Verkehrs- und Industrieflächen"
          ],
          [
           "Wälder"
          ],
          [
           "Gebüsche und Gehölzbestände"
          ],
          [
           "Gehölzfreie Biotope der Sümpfe, Flachmoore und Ufer"
          ],
          [
           "Gebäude-, Verkehrs- und Industrieflächen"
          ],
          [
           "Ruderalfluren"
          ],
          [
           "Gebüsche und Gehölzbestände"
          ],
          [
           "Gewässer"
          ],
          [
           "Siedlungen"
          ],
          [
           "Gebäude-, Verkehrs- und Industrieflächen"
          ],
          [
           "Gewässer"
          ],
          [
           "Siedlungen"
          ],
          [
           "Wälder"
          ],
          [
           "Wälder"
          ],
          [
           "Acker- und Gartenbau-Biotope"
          ],
          [
           "Gebäude-, Verkehrs- und Industrieflächen"
          ],
          [
           "Gebüsche und Gehölzbestände"
          ],
          [
           "Grünland"
          ],
          [
           "Gewässer"
          ],
          [
           "Grünland"
          ],
          [
           "Acker- und Gartenbau-Biotope"
          ],
          [
           "Gehölzfreie Biotope der Sümpfe, Flachmoore und Ufer"
          ],
          [
           "Wälder"
          ],
          [
           "Siedlungen"
          ],
          [
           "Siedlungen"
          ],
          [
           "Siedlungen"
          ],
          [
           "Siedlungen"
          ],
          [
           "Grünland"
          ],
          [
           "Grünland"
          ],
          [
           "Siedlungen"
          ],
          [
           "Wälder"
          ],
          [
           "Siedlungen"
          ],
          [
           "Gehölzfreie Biotope der Sümpfe, Flachmoore und Ufer"
          ],
          [
           "Gebüsche und Gehölzbestände"
          ],
          [
           "Magerrasen"
          ],
          [
           "Ruderalfluren"
          ],
          [
           "Acker- und Gartenbau-Biotope"
          ],
          [
           "Gewässer"
          ],
          [
           "Gebäude-, Verkehrs- und Industrieflächen"
          ],
          [
           "Grünland"
          ],
          [
           "Siedlungen"
          ],
          [
           "Gehölzfreie Biotope der Sümpfe, Flachmoore und Ufer"
          ],
          [
           "Gehölzfreie Biotope der Sümpfe, Flachmoore und Ufer"
          ],
          [
           "Gebüsche und Gehölzbestände"
          ],
          [
           "Gewässer"
          ],
          [
           "Gewässer"
          ],
          [
           "Gewässer"
          ],
          [
           "Siedlungen"
          ],
          [
           "Gewässer"
          ],
          [
           "Acker- und Gartenbau-Biotope"
          ],
          [
           "Siedlungen"
          ],
          [
           "Gewässer"
          ],
          [
           "Ruderalfluren"
          ],
          [
           "Gebäude-, Verkehrs- und Industrieflächen"
          ],
          [
           "Ruderalfluren"
          ],
          [
           "Ruderalfluren"
          ],
          [
           "Acker- und Gartenbau-Biotope"
          ],
          [
           "Siedlungen"
          ],
          [
           "Siedlungen"
          ],
          [
           "Siedlungen"
          ],
          [
           "Siedlungen"
          ],
          [
           "Gebüsche und Gehölzbestände"
          ],
          [
           "Grünland"
          ],
          [
           "Gebüsche und Gehölzbestände"
          ],
          [
           "Acker- und Gartenbau-Biotope"
          ],
          [
           "Wälder"
          ],
          [
           "Ruderalfluren"
          ],
          [
           "Grünland"
          ],
          [
           "Magerrasen"
          ],
          [
           "Gewässer"
          ],
          [
           "Acker- und Gartenbau-Biotope"
          ],
          [
           "Gebäude-, Verkehrs- und Industrieflächen"
          ],
          [
           "Siedlungen"
          ],
          [
           "Gebäude-, Verkehrs- und Industrieflächen"
          ],
          [
           "Gebäude-, Verkehrs- und Industrieflächen"
          ],
          [
           "Gebäude-, Verkehrs- und Industrieflächen"
          ],
          [
           "Gebüsche und Gehölzbestände"
          ],
          [
           "Siedlungen"
          ],
          [
           "Siedlungen"
          ],
          [
           "Gebüsche und Gehölzbestände"
          ],
          [
           "Gebäude-, Verkehrs- und Industrieflächen"
          ],
          [
           "Gewässer"
          ],
          [
           "Gewässer"
          ],
          [
           "Siedlungen"
          ],
          [
           "Acker- und Gartenbau-Biotope"
          ],
          [
           "Siedlungen"
          ],
          [
           "Gewässer"
          ],
          [
           "Gehölzfreie Biotope der Sümpfe, Flachmoore und Ufer"
          ],
          [
           "Siedlungen"
          ],
          [
           "Ruderalfluren"
          ],
          [
           "Siedlungen"
          ],
          [
           "Gebüsche und Gehölzbestände"
          ],
          [
           "Gehölzfreie Biotope der Sümpfe, Flachmoore und Ufer"
          ],
          [
           "Wälder"
          ],
          [
           "Gebäude-, Verkehrs- und Industrieflächen"
          ],
          [
           "Magerrasen"
          ],
          [
           "Gehölzfreie Biotope der Sümpfe, Flachmoore und Ufer"
          ],
          [
           "Acker- und Gartenbau-Biotope"
          ],
          [
           "Gebäude-, Verkehrs- und Industrieflächen"
          ],
          [
           "Grünland"
          ],
          [
           "Gebüsche und Gehölzbestände"
          ],
          [
           "Grünland"
          ],
          [
           "Gewässer"
          ],
          [
           "Gebüsche und Gehölzbestände"
          ],
          [
           "Gewässer"
          ],
          [
           "Acker- und Gartenbau-Biotope"
          ],
          [
           "Gewässer"
          ],
          [
           "Siedlungen"
          ],
          [
           "Gehölzfreie Biotope der Sümpfe, Flachmoore und Ufer"
          ],
          [
           "Gewässer"
          ],
          [
           "Gehölzfreie Biotope der Sümpfe, Flachmoore und Ufer"
          ],
          [
           "Ruderalfluren"
          ],
          [
           "Gebüsche und Gehölzbestände"
          ],
          [
           "Siedlungen"
          ],
          [
           "Wälder"
          ],
          [
           "Magerrasen"
          ],
          [
           "Siedlungen"
          ],
          [
           "Siedlungen"
          ],
          [
           "Wälder"
          ],
          [
           "Gehölzfreie Biotope der Sümpfe, Flachmoore und Ufer"
          ],
          [
           "Gebäude-, Verkehrs- und Industrieflächen"
          ],
          [
           "Gewässer"
          ],
          [
           "Wälder"
          ],
          [
           "Wälder"
          ],
          [
           "Gebüsche und Gehölzbestände"
          ],
          [
           "Siedlungen"
          ],
          [
           "Gebüsche und Gehölzbestände"
          ],
          [
           "Acker- und Gartenbau-Biotope"
          ],
          [
           "Gebäude-, Verkehrs- und Industrieflächen"
          ],
          [
           "Gebäude-, Verkehrs- und Industrieflächen"
          ],
          [
           "Gebäude-, Verkehrs- und Industrieflächen"
          ],
          [
           "Gebüsche und Gehölzbestände"
          ],
          [
           "Gebüsche und Gehölzbestände"
          ],
          [
           "Gehölzfreie Biotope der Sümpfe, Flachmoore und Ufer"
          ],
          [
           "Gewässer"
          ],
          [
           "Grünland"
          ],
          [
           "Magerrasen"
          ],
          [
           "Ruderalfluren"
          ],
          [
           "Siedlungen"
          ],
          [
           "Siedlungen"
          ],
          [
           "Siedlungen"
          ],
          [
           "Siedlungen"
          ],
          [
           "Siedlungen"
          ],
          [
           "Siedlungen"
          ],
          [
           "Siedlungen"
          ],
          [
           "Siedlungen"
          ],
          [
           "Siedlungen"
          ],
          [
           "Wälder"
          ],
          [
           "Siedlungen"
          ],
          [
           "Siedlungen"
          ],
          [
           "Gehölzfreie Biotope der Sümpfe, Flachmoore und Ufer"
          ],
          [
           "(?)"
          ],
          [
           "Gewässer"
          ],
          [
           "Siedlungen"
          ],
          [
           "Siedlungen"
          ],
          [
           "Siedlungen"
          ],
          [
           "Gebäude-, Verkehrs- und Industrieflächen"
          ],
          [
           "Gebäude-, Verkehrs- und Industrieflächen"
          ],
          [
           "Gebüsche und Gehölzbestände"
          ],
          [
           "Ruderalfluren"
          ],
          [
           "(?)"
          ],
          [
           "Wälder"
          ],
          [
           "(?)"
          ],
          [
           "(?)"
          ],
          [
           "(?)"
          ]
         ],
         "domain": {
          "x": [
           0,
           1
          ],
          "y": [
           0,
           1
          ]
         },
         "hovertemplate": "labels=%{label}<br>sum_Flaeche=%{value}<br>parent=%{parent}<br>id=%{id}<br>lrtyp1text=%{customdata[0]}<extra></extra>",
         "ids": [
          "Biotypflächen 2020 nach Lebensraumkategorie und Biotoptypenschlüssel Typ 1-3/Gärten/Siedlungen/Hausgarten/Naturgarten",
          "Biotypflächen 2020 nach Lebensraumkategorie und Biotoptypenschlüssel Typ 1-3/Gewässer/Gewässer/Verlandungsbereich nährstoffarmer Stillgewässer/Schilfröhricht im Verlandungsbereich (ZH: 2a)",
          "Biotypflächen 2020 nach Lebensraumkategorie und Biotoptypenschlüssel Typ 1-3/Ruderalfluren/Ruderalfluren/Ruderalflur/Ruderalflur trockenwarmer Standorte",
          "Biotypflächen 2020 nach Lebensraumkategorie und Biotoptypenschlüssel Typ 1-3/Ueberwiegend bebaute Flächen/Gebäude-, Verkehrs- und Industrieflächen/Flachdach/Ruderale Flachdachvegetation",
          "Biotypflächen 2020 nach Lebensraumkategorie und Biotoptypenschlüssel Typ 1-3/Gewässer/Gewässer/Bach/Naturnaher Bach*",
          "Biotypflächen 2020 nach Lebensraumkategorie und Biotoptypenschlüssel Typ 1-3/Wiesen und Rasen/Grünland/Mesophiles Grünland/Mässig trockene Magerwiese",
          "Biotypflächen 2020 nach Lebensraumkategorie und Biotoptypenschlüssel Typ 1-3/Feuchtgebiete/Gehölzfreie Biotope der Sümpfe, Flachmoore und Ufer/Grossegenried/Grosseggenried mit Schneidebinse (ZH: 3d)",
          "Biotypflächen 2020 nach Lebensraumkategorie und Biotoptypenschlüssel Typ 1-3/Gehölze, Hecken und Gebüsche/Gebüsche und Gehölzbestände/Ruderalgebüsch/ Pioniergebüsch/Brombeer-Gestrüpp",
          "Biotypflächen 2020 nach Lebensraumkategorie und Biotoptypenschlüssel Typ 1-3/Gehölze, Hecken und Gebüsche/Siedlungen/Einzelbaum/ Baumraster des  Siedlungsbereichs/Baumreihe/-raster mit Fromentalwiese mit BFF-Qualität*",
          "Biotypflächen 2020 nach Lebensraumkategorie und Biotoptypenschlüssel Typ 1-3/Gehölze, Hecken und Gebüsche/Gebüsche und Gehölzbestände/Moor- und Sumpfgebüsch/Weiden- Sumpfgebüsch",
          "Biotypflächen 2020 nach Lebensraumkategorie und Biotoptypenschlüssel Typ 1-3/Wald/Wälder/Aronstab-Buchenwald/Aronstab-Buchenwald (inkl. 11e) (ZH: 11)",
          "Biotypflächen 2020 nach Lebensraumkategorie und Biotoptypenschlüssel Typ 1-3/Gärten/Siedlungen/Hausgarten/Hausgarten",
          "Biotypflächen 2020 nach Lebensraumkategorie und Biotoptypenschlüssel Typ 1-3/Wiesen und Rasen/Magerrasen/Sonstiger Magerrasen/sonstiger Magerrasen",
          "Biotypflächen 2020 nach Lebensraumkategorie und Biotoptypenschlüssel Typ 1-3/Gewässer/Gewässer/Naturnahes Kleingewässer/Naturnahes Kleingewässer",
          "Biotypflächen 2020 nach Lebensraumkategorie und Biotoptypenschlüssel Typ 1-3/Äcker, Gartenbauflächen, Tiergehege/Acker- und Gartenbau-Biotope/Obstplantage/Rebberg ohne Terrassen",
          "Biotypflächen 2020 nach Lebensraumkategorie und Biotoptypenschlüssel Typ 1-3/Gehölze, Hecken und Gebüsche/Gebüsche und Gehölzbestände/mesophiles Gebüsch/mesophiles Gebüsch",
          "Biotypflächen 2020 nach Lebensraumkategorie und Biotoptypenschlüssel Typ 1-3/Gehölze, Hecken und Gebüsche/Siedlungen/Gehölz des Siedlungsbereichs/Strukturreiches Siedlungsgehölz aus überwiegend einheimischen Baumarten",
          "Biotypflächen 2020 nach Lebensraumkategorie und Biotoptypenschlüssel Typ 1-3/Gehölze, Hecken und Gebüsche/Siedlungen/Einzelbaum/ Baumraster des  Siedlungsbereichs/Baumraster mit Zierhecke",
          "Biotypflächen 2020 nach Lebensraumkategorie und Biotoptypenschlüssel Typ 1-3/Gehölze, Hecken und Gebüsche/Siedlungen/Einzelbaum/ Baumraster des  Siedlungsbereichs/Baumraster mit Fromentalwiese",
          "Biotypflächen 2020 nach Lebensraumkategorie und Biotoptypenschlüssel Typ 1-3/Ueberwiegend bebaute Flächen/Gebäude-, Verkehrs- und Industrieflächen/Flachdach/Artenarme Sedum-Flachdachvegetationen",
          "Biotypflächen 2020 nach Lebensraumkategorie und Biotoptypenschlüssel Typ 1-3/Gewässer/Gewässer/Verlandungsbereich nährstoffarmer Stillgewässer/Verlandungsbereich nährstoffarmer Stillgewässer mit Unterwasservegetation*",
          "Biotypflächen 2020 nach Lebensraumkategorie und Biotoptypenschlüssel Typ 1-3/Wald/Wälder/Traubenkirschen-Eschenwald/Traubenkirschen-Eschenwald (inkl. Nr. 30f) (ZH: 30)",
          "Biotypflächen 2020 nach Lebensraumkategorie und Biotoptypenschlüssel Typ 1-3/Gehölze, Hecken und Gebüsche/Gebüsche und Gehölzbestände/Feldhecke/Baumhecke",
          "Biotypflächen 2020 nach Lebensraumkategorie und Biotoptypenschlüssel Typ 1-3/Gärten/Siedlungen/Hausgarten/Bauerngarten",
          "Biotypflächen 2020 nach Lebensraumkategorie und Biotoptypenschlüssel Typ 1-3/Wiesen und Rasen/Grünland/Artenarmes Grünland/Artenarmes Extensivgrünland*",
          "Biotypflächen 2020 nach Lebensraumkategorie und Biotoptypenschlüssel Typ 1-3/Wiesen und Rasen/Siedlungen/Scher- und Trittrasen/Artenreicher Scherrasen (Blumenrasen)",
          "Biotypflächen 2020 nach Lebensraumkategorie und Biotoptypenschlüssel Typ 1-3/Äcker, Gartenbauflächen, Tiergehege/Acker- und Gartenbau-Biotope/Obstplantage/Terrassierter Rebberg",
          "Biotypflächen 2020 nach Lebensraumkategorie und Biotoptypenschlüssel Typ 1-3/Wald/Wälder/Waldrand/Waldrand strukturarm mit Aufwertungspotential",
          "Biotypflächen 2020 nach Lebensraumkategorie und Biotoptypenschlüssel Typ 1-3/Ueberwiegend bebaute Flächen/Gebäude-, Verkehrs- und Industrieflächen/Befestigte Fläche/Fläche mit Ziegel-/Betonsteinpflaster",
          "Biotypflächen 2020 nach Lebensraumkategorie und Biotoptypenschlüssel Typ 1-3/Kies- und Schotterflächen/Gebäude-, Verkehrs- und Industrieflächen/Befestigte Fläche/Fläche mit wassergebundener Decke*",
          "Biotypflächen 2020 nach Lebensraumkategorie und Biotoptypenschlüssel Typ 1-3/Ruderalfluren/Ruderalfluren/Halbruderale Gras- und Staudenflur/Halbruderale Gras- und Staudenflur feuchter Standorte",
          "Biotypflächen 2020 nach Lebensraumkategorie und Biotoptypenschlüssel Typ 1-3/Gewässer/Gewässer/Bach/Mässig ausgebauter Bach*",
          "Biotypflächen 2020 nach Lebensraumkategorie und Biotoptypenschlüssel Typ 1-3/Gehölze, Hecken und Gebüsche/Siedlungen/Ziergebüsch/-hecke/Strukturreiches Ziergebüsch/ Hecke aus überwiegend einheimischen Gehölzarten",
          "Biotypflächen 2020 nach Lebensraumkategorie und Biotoptypenschlüssel Typ 1-3/Ruderalfluren/Ruderalfluren/Ruderalflur/Ruderalflur nährstoffreicher, frischer bis feuchter Standorte",
          "Biotypflächen 2020 nach Lebensraumkategorie und Biotoptypenschlüssel Typ 1-3/Ruderalfluren/Ruderalfluren/Ruderalflur/Ruderalflur trockenwarmer Standorte mit Gehölzen",
          "Biotypflächen 2020 nach Lebensraumkategorie und Biotoptypenschlüssel Typ 1-3/Ueberwiegend bebaute Flächen/Gebäude-, Verkehrs- und Industrieflächen/Befestigte Fläche/Fläche mit Natursteinpflaster",
          "Biotypflächen 2020 nach Lebensraumkategorie und Biotoptypenschlüssel Typ 1-3/Ueberwiegend bebaute Flächen/Gebäude-, Verkehrs- und Industrieflächen/Befestigte Fläche/Sonstige befestigte Flächen*",
          "Biotypflächen 2020 nach Lebensraumkategorie und Biotoptypenschlüssel Typ 1-3/Gehölze, Hecken und Gebüsche/Gebüsche und Gehölzbestände/Naturnahes Feldgehölz/Naturnahes Feldgehölz",
          "Biotypflächen 2020 nach Lebensraumkategorie und Biotoptypenschlüssel Typ 1-3/Kies- und Schotterflächen/Gebäude-, Verkehrs- und Industrieflächen/Befestigte Fläche/Fläche mit Kies- oder Schotterdecke in Bahnanlagen",
          "Biotypflächen 2020 nach Lebensraumkategorie und Biotoptypenschlüssel Typ 1-3/Äcker, Gartenbauflächen, Tiergehege/Acker- und Gartenbau-Biotope/Landwirtschaftliche Lagerfläche/Landwirtschaftliche Lagerfläche",
          "Biotypflächen 2020 nach Lebensraumkategorie und Biotoptypenschlüssel Typ 1-3/Gehölze, Hecken und Gebüsche/Siedlungen/Einzelbaum/ Baumraster des  Siedlungsbereichs/Baumraster  mit Baumscheiben",
          "Biotypflächen 2020 nach Lebensraumkategorie und Biotoptypenschlüssel Typ 1-3/Äcker, Gartenbauflächen, Tiergehege/Acker- und Gartenbau-Biotope/Acker/Buntbrachen",
          "Biotypflächen 2020 nach Lebensraumkategorie und Biotoptypenschlüssel Typ 1-3/Beete und Rabatten/Siedlungen/Beet/ Rabatte/Beet/Rabatte",
          "Biotypflächen 2020 nach Lebensraumkategorie und Biotoptypenschlüssel Typ 1-3/Äcker, Gartenbauflächen, Tiergehege/Acker- und Gartenbau-Biotope/Gartenbaufläche/Blumen-Gartenbaufläche",
          "Biotypflächen 2020 nach Lebensraumkategorie und Biotoptypenschlüssel Typ 1-3/Feuchtgebiete/Gehölzfreie Biotope der Sümpfe, Flachmoore und Ufer/Grossegenried/Bultiges Grosseggenried (ZH: 3a)",
          "Biotypflächen 2020 nach Lebensraumkategorie und Biotoptypenschlüssel Typ 1-3/Gewässer/Gewässer/Pionierfllur trockenfallender Flussufer/Flusskies-Pionierflur*",
          "Biotypflächen 2020 nach Lebensraumkategorie und Biotoptypenschlüssel Typ 1-3/Gärten/Siedlungen/Hausgarten/Artenreicher Garten mit Grossbäumen",
          "Biotypflächen 2020 nach Lebensraumkategorie und Biotoptypenschlüssel Typ 1-3/Gehölze, Hecken und Gebüsche/Siedlungen/Einzelbaum/ Baumraster des  Siedlungsbereichs/Baumraster mit Rasen",
          "Biotypflächen 2020 nach Lebensraumkategorie und Biotoptypenschlüssel Typ 1-3/Wiesen und Rasen/Magerrasen/Artenarmes Magerwiesenstadium/Adlerfarn-Flur magerer Standorte",
          "Biotypflächen 2020 nach Lebensraumkategorie und Biotoptypenschlüssel Typ 1-3/Feuchtgebiete/Gehölzfreie Biotope der Sümpfe, Flachmoore und Ufer/Uferstaudenflur/Nährstoffreicher Sumpf",
          "Biotypflächen 2020 nach Lebensraumkategorie und Biotoptypenschlüssel Typ 1-3/Feuchtgebiete/Gehölzfreie Biotope der Sümpfe, Flachmoore und Ufer/Hochstaudenflur/Bestand der Stumpfblättrigen Binse (ZH: 4c)",
          "Biotypflächen 2020 nach Lebensraumkategorie und Biotoptypenschlüssel Typ 1-3/Gewässer/Gewässer/Fluss/Mässig ausgebauter Fluss*",
          "Biotypflächen 2020 nach Lebensraumkategorie und Biotoptypenschlüssel Typ 1-3/Obstgärten/Gebüsche und Gehölzbestände/Hochstamm-Obstgarten/Hochstamm-Obstgarten mit Fromentalwiese (m3)",
          "Biotypflächen 2020 nach Lebensraumkategorie und Biotoptypenschlüssel Typ 1-3/Ruderalfluren/Ruderalfluren/Halbruderale Gras- und Staudenflur/Halbruderale Gras- und Staudenflur trockener Standorte",
          "Biotypflächen 2020 nach Lebensraumkategorie und Biotoptypenschlüssel Typ 1-3/Gärten/Siedlungen/Hausgarten/Artenarmer Ziergarten",
          "Biotypflächen 2020 nach Lebensraumkategorie und Biotoptypenschlüssel Typ 1-3/Wiesen und Rasen/Grünland/Mesophiles Grünland/Feuchte Fromentalwiese*",
          "Biotypflächen 2020 nach Lebensraumkategorie und Biotoptypenschlüssel Typ 1-3/Ueberwiegend bebaute Flächen/Gebäude-, Verkehrs- und Industrieflächen/Biotopkomplexe und Nutzungstypen der bebauten Bereiche/Gebäude*",
          "Biotypflächen 2020 nach Lebensraumkategorie und Biotoptypenschlüssel Typ 1-3/Feuchtgebiete/Gehölzfreie Biotope der Sümpfe, Flachmoore und Ufer/Grossegenried/Grosseggenried ausserhalb Wasserstandsschwankungen (ZH: 3b)",
          "Biotypflächen 2020 nach Lebensraumkategorie und Biotoptypenschlüssel Typ 1-3/Ueberwiegend bebaute Flächen/Gebäude-, Verkehrs- und Industrieflächen/Industrie- und Gewerbefläche/Gewerbegebiet (Kleingewerbe und kleingewerbliche Lagerflächen)",
          "Biotypflächen 2020 nach Lebensraumkategorie und Biotoptypenschlüssel Typ 1-3/Feuchtgebiete/Gehölzfreie Biotope der Sümpfe, Flachmoore und Ufer/Grossegenried/Grosseggenried mit Sumpf-Segge (ZH: 3c)",
          "Biotypflächen 2020 nach Lebensraumkategorie und Biotoptypenschlüssel Typ 1-3/Wiesen und Rasen/Magerrasen/Kalk-Magerrasen/Kalk-Magerrasen",
          "Biotypflächen 2020 nach Lebensraumkategorie und Biotoptypenschlüssel Typ 1-3/Gehölze, Hecken und Gebüsche/Gebüsche und Gehölzbestände/Feldhecke/Strauchhecke mit BFF-Qualität",
          "Biotypflächen 2020 nach Lebensraumkategorie und Biotoptypenschlüssel Typ 1-3/Feuchtgebiete/Gehölzfreie Biotope der Sümpfe, Flachmoore und Ufer/Landröhricht/Rohrglanzgras-Flussuferröhricht*",
          "Biotypflächen 2020 nach Lebensraumkategorie und Biotoptypenschlüssel Typ 1-3/Ueberwiegend bebaute Flächen/Gebäude-, Verkehrs- und Industrieflächen/Baustelle/Baustelle",
          "Biotypflächen 2020 nach Lebensraumkategorie und Biotoptypenschlüssel Typ 1-3/Wiesen und Rasen/Siedlungen/Scher- und Trittrasen/Artenarmer Scherrasen (Gebrauchsrasen)",
          "Biotypflächen 2020 nach Lebensraumkategorie und Biotoptypenschlüssel Typ 1-3/Gehölze, Hecken und Gebüsche/Gebüsche und Gehölzbestände/Ruderalgebüsch/ Pioniergebüsch/Sukzessionsgebüsch",
          "Biotypflächen 2020 nach Lebensraumkategorie und Biotoptypenschlüssel Typ 1-3/Wiesen und Rasen/Grünland/Mesophiles Grünland/Artenarme Fromentalwiese",
          "Biotypflächen 2020 nach Lebensraumkategorie und Biotoptypenschlüssel Typ 1-3/Gehölze, Hecken und Gebüsche/Gebüsche und Gehölzbestände/Einzelbaum/Einzelbaum",
          "Biotypflächen 2020 nach Lebensraumkategorie und Biotoptypenschlüssel Typ 1-3/Gärten/Siedlungen/Hausgarten/Obst- und Gemüsegarten",
          "Biotypflächen 2020 nach Lebensraumkategorie und Biotoptypenschlüssel Typ 1-3/Ueberwiegend bebaute Flächen/Gebäude-, Verkehrs- und Industrieflächen/Flachdach/Intensive Flachdachbegrünungen",
          "Biotypflächen 2020 nach Lebensraumkategorie und Biotoptypenschlüssel Typ 1-3/Kies- und Schotterflächen/Gebäude-, Verkehrs- und Industrieflächen/Befestigte Fläche/Fläche mit unbefestigtem Wandkies oder Sand*",
          "Biotypflächen 2020 nach Lebensraumkategorie und Biotoptypenschlüssel Typ 1-3/Gewässer/Gewässer/Verlandungsbereich nährstoffarmer Stillgewässer/Schwimmblattgesellschaften (ZH: 1)",
          "Biotypflächen 2020 nach Lebensraumkategorie und Biotoptypenschlüssel Typ 1-3/Gehölze, Hecken und Gebüsche/Siedlungen/Ziergebüsch/-hecke/Ziergebüsch/ Hecke aus überwiegend nicht heimischen Gehölzarten",
          "Biotypflächen 2020 nach Lebensraumkategorie und Biotoptypenschlüssel Typ 1-3/Feuchtgebiete/Gehölzfreie Biotope der Sümpfe, Flachmoore und Ufer/Hochstaudenflur/Hochstaudenflur mit Goldrute (ZH: 4b)",
          "Biotypflächen 2020 nach Lebensraumkategorie und Biotoptypenschlüssel Typ 1-3/Ueberwiegend bebaute Flächen/Siedlungen/Sport-/Spiel-/Erholungsanlage/Sonstige Sport-, Spiel- und Freizeitanlage",
          "Biotypflächen 2020 nach Lebensraumkategorie und Biotoptypenschlüssel Typ 1-3/Gewässer/Gewässer/Bach/Stark bis völlig ausgebauter Bach*",
          "Biotypflächen 2020 nach Lebensraumkategorie und Biotoptypenschlüssel Typ 1-3/Ruderalfluren/Ruderalfluren/Halbruderale Gras- und Staudenflur/Halbruderale Gras- und Staudenflur wechselfeuchter Standorte",
          "Biotypflächen 2020 nach Lebensraumkategorie und Biotoptypenschlüssel Typ 1-3/Feuchtgebiete/Gehölzfreie Biotope der Sümpfe, Flachmoore und Ufer/Pfeifengraswiese/Pfeifengrasreinbestand auf Torf (ZH: 8c)",
          "Biotypflächen 2020 nach Lebensraumkategorie und Biotoptypenschlüssel Typ 1-3/Gehölze, Hecken und Gebüsche/Siedlungen/Einzelbaum/ Baumraster des  Siedlungsbereichs/Baumreihe/-raster mit kiesigem Untergrund*",
          "Biotypflächen 2020 nach Lebensraumkategorie und Biotoptypenschlüssel Typ 1-3/Ruderalfluren/Ruderalfluren/Artenarme Neophytenflur/Sonstige Neophyten-Flur",
          "Biotypflächen 2020 nach Lebensraumkategorie und Biotoptypenschlüssel Typ 1-3/Feuchtgebiete/Gehölzfreie Biotope der Sümpfe, Flachmoore und Ufer/Landröhricht/Süssgras-Bachröhricht*",
          "Biotypflächen 2020 nach Lebensraumkategorie und Biotoptypenschlüssel Typ 1-3/Wiesen und Rasen/Grünland/Mesophiles Grünland/Strukturarme und artenarme Magerweide",
          "Biotypflächen 2020 nach Lebensraumkategorie und Biotoptypenschlüssel Typ 1-3/Ruderalfluren/Ruderalfluren/Halbruderale Gras- und Staudenflur/Halbruderale Gras- und Staudenflur mittlerer Standorte",
          "Biotypflächen 2020 nach Lebensraumkategorie und Biotoptypenschlüssel Typ 1-3/Gehölze, Hecken und Gebüsche/Gebüsche und Gehölzbestände/Feldhecke/Strauchhecke",
          "Biotypflächen 2020 nach Lebensraumkategorie und Biotoptypenschlüssel Typ 1-3/Ueberwiegend bebaute Flächen/Gebäude-, Verkehrs- und Industrieflächen/Flachdach/Wiesenartige Flachdachvegetation",
          "Biotypflächen 2020 nach Lebensraumkategorie und Biotoptypenschlüssel Typ 1-3/Wald/Wälder/Waldrand/Waldrand gestuft",
          "Biotypflächen 2020 nach Lebensraumkategorie und Biotoptypenschlüssel Typ 1-3/Obstgärten/Gebüsche und Gehölzbestände/Hochstamm-Obstgarten/Hochstamm-Obstgarten mit Magerwiese",
          "Biotypflächen 2020 nach Lebensraumkategorie und Biotoptypenschlüssel Typ 1-3/Feuchtgebiete/Gehölzfreie Biotope der Sümpfe, Flachmoore und Ufer/Hochstaudenflur/Hochstaudenflur mit Spierstaude (ZH: 4a)",
          "Biotypflächen 2020 nach Lebensraumkategorie und Biotoptypenschlüssel Typ 1-3/Ueberwiegend bebaute Flächen/Gebäude-, Verkehrs- und Industrieflächen/Flachdach/Artenreiche Sedum-Flachdachvegetationen",
          "Biotypflächen 2020 nach Lebensraumkategorie und Biotoptypenschlüssel Typ 1-3/Ruderalfluren/Ruderalfluren/Ruderalflur/Artenarme Ruderalflur",
          "Biotypflächen 2020 nach Lebensraumkategorie und Biotoptypenschlüssel Typ 1-3/Obstgärten/Gebüsche und Gehölzbestände/Hochstamm-Obstgarten/Hochstamm-Obstgarten mit Fettwiese (m4)",
          "Biotypflächen 2020 nach Lebensraumkategorie und Biotoptypenschlüssel Typ 1-3/Gewässer/Gewässer/Fluss/Naturnaher Fluss*",
          "Biotypflächen 2020 nach Lebensraumkategorie und Biotoptypenschlüssel Typ 1-3/Grünanlagen/Siedlungen/Parkanlage/Intensiv gepflegter Park",
          "Biotypflächen 2020 nach Lebensraumkategorie und Biotoptypenschlüssel Typ 1-3/Ueberwiegend bebaute Flächen/Gebäude-, Verkehrs- und Industrieflächen/Flachdach/Artenarme Moos-Flachdachvegetationen",
          "Biotypflächen 2020 nach Lebensraumkategorie und Biotoptypenschlüssel Typ 1-3/Gewässer/Gewässer/Naturfernes Stillgewässer/Stark beeinträchtigtes Stillgewässer natürlicher Entstehung*",
          "Biotypflächen 2020 nach Lebensraumkategorie und Biotoptypenschlüssel Typ 1-3/Familiengärten/Siedlungen/Familiengartenanlage/Strukturreiche Familiengartenanlage",
          "Biotypflächen 2020 nach Lebensraumkategorie und Biotoptypenschlüssel Typ 1-3/Wald/Wälder/Seggen-Schwarzerlenbruchwald/Seggen-Schwarzerlenbruchwald (ZH: 44)",
          "Biotypflächen 2020 nach Lebensraumkategorie und Biotoptypenschlüssel Typ 1-3/Wald/Wälder/Holzlagerfläche/Holzlagerfläche",
          "Biotypflächen 2020 nach Lebensraumkategorie und Biotoptypenschlüssel Typ 1-3/Äcker, Gartenbauflächen, Tiergehege/Acker- und Gartenbau-Biotope/Baumschule/Baumschule",
          "Biotypflächen 2020 nach Lebensraumkategorie und Biotoptypenschlüssel Typ 1-3/Ueberwiegend bebaute Flächen/Gebäude-, Verkehrs- und Industrieflächen/Befestigte Fläche/Beton- /Asphaltfläche",
          "Biotypflächen 2020 nach Lebensraumkategorie und Biotoptypenschlüssel Typ 1-3/Gehölze, Hecken und Gebüsche/Gebüsche und Gehölzbestände/Ruderalgebüsch/ Pioniergebüsch/Neophytisches Gebüsch",
          "Biotypflächen 2020 nach Lebensraumkategorie und Biotoptypenschlüssel Typ 1-3/Wiesen und Rasen/Grünland/Nasswiese/Sumpfdotterblumen-Wiese*",
          "Biotypflächen 2020 nach Lebensraumkategorie und Biotoptypenschlüssel Typ 1-3/Gewässer/Gewässer/Fliessgewässer/Fliessgewässer*",
          "Biotypflächen 2020 nach Lebensraumkategorie und Biotoptypenschlüssel Typ 1-3/Wiesen und Rasen/Grünland/Artenarmes Grünland/Intensivgrünland auf Flachmoorstandorten",
          "Biotypflächen 2020 nach Lebensraumkategorie und Biotoptypenschlüssel Typ 1-3/Äcker, Gartenbauflächen, Tiergehege/Acker- und Gartenbau-Biotope/Obstplantage/Beerenstrauch-Plantage",
          "Biotypflächen 2020 nach Lebensraumkategorie und Biotoptypenschlüssel Typ 1-3/Feuchtgebiete/Gehölzfreie Biotope der Sümpfe, Flachmoore und Ufer/Pfeifengraswiese/Pfeifengraswiese, Kleinseggenausbildung trocken (ZH: 8b)",
          "Biotypflächen 2020 nach Lebensraumkategorie und Biotoptypenschlüssel Typ 1-3/Wald/Wälder/Waldrand/Waldrand strukturarm",
          "Biotypflächen 2020 nach Lebensraumkategorie und Biotoptypenschlüssel Typ 1-3/Grünanlagen von Mehrfamilienhäusern/Siedlungen/Grünanlage von Mehrfamilienhäusern/Strukturarme Grünanlage",
          "Biotypflächen 2020 nach Lebensraumkategorie und Biotoptypenschlüssel Typ 1-3/Gehölze, Hecken und Gebüsche/Siedlungen/Gehölz des Siedlungsbereichs/Strukturarmes Siedlungsgehölz aus überwiegend einheimischen Baumarten*",
          "Biotypflächen 2020 nach Lebensraumkategorie und Biotoptypenschlüssel Typ 1-3/Gehölze, Hecken und Gebüsche/Siedlungen/Ziergebüsch/-hecke/Strukturarmes Ziergebüsch/ Hecke aus überwiegend einheimischen Gehölzarten*",
          "Biotypflächen 2020 nach Lebensraumkategorie und Biotoptypenschlüssel Typ 1-3/Grünanlagen von Mehrfamilienhäusern/Siedlungen/Grünanlage von Mehrfamilienhäusern/Strukturreiche Grünanlage",
          "Biotypflächen 2020 nach Lebensraumkategorie und Biotoptypenschlüssel Typ 1-3/Wiesen und Rasen/Grünland/Mesophiles Grünland/Strukturreiche Magerweide",
          "Biotypflächen 2020 nach Lebensraumkategorie und Biotoptypenschlüssel Typ 1-3/Wiesen und Rasen/Grünland/Mesophiles Grünland/Strukturreiche artenreiche Magerweide",
          "Biotypflächen 2020 nach Lebensraumkategorie und Biotoptypenschlüssel Typ 1-3/Äcker, Gartenbauflächen, Tiergehege/Siedlungen/Tiergehege/Tiergehege",
          "Biotypflächen 2020 nach Lebensraumkategorie und Biotoptypenschlüssel Typ 1-3/Wald/Wälder/Wald allgemein/Wald allgemein",
          "Biotypflächen 2020 nach Lebensraumkategorie und Biotoptypenschlüssel Typ 1-3/Gehölze, Hecken und Gebüsche/Siedlungen/Ziergebüsch/-hecke/Zierhecke/ Schnitthecke",
          "Biotypflächen 2020 nach Lebensraumkategorie und Biotoptypenschlüssel Typ 1-3/Feuchtgebiete/Gehölzfreie Biotope der Sümpfe, Flachmoore und Ufer/Landröhricht/Schilf-Landröhricht",
          "Biotypflächen 2020 nach Lebensraumkategorie und Biotoptypenschlüssel Typ 1-3/Gehölze, Hecken und Gebüsche/Gebüsche und Gehölzbestände/Feldhecke/Strauch-Baumhecke",
          "Biotypflächen 2020 nach Lebensraumkategorie und Biotoptypenschlüssel Typ 1-3/Wiesen und Rasen/Magerrasen/Sonstiger Magerrasen/Wechseltrockene Magerwiese",
          "Biotypflächen 2020 nach Lebensraumkategorie und Biotoptypenschlüssel Typ 1-3/Ruderalfluren/Ruderalfluren/Artenarme Neophytenflur/Goldruten-Flur",
          "Biotypflächen 2020 nach Lebensraumkategorie und Biotoptypenschlüssel Typ 1-3/Äcker, Gartenbauflächen, Tiergehege/Acker- und Gartenbau-Biotope/Gartenbaufläche/Gemüse- und sonstige Gartenbaufläche",
          "Biotypflächen 2020 nach Lebensraumkategorie und Biotoptypenschlüssel Typ 1-3/Gewässer/Gewässer/Offene Wasserfläche grösserer naturnaher nährstoffarmer Stillgewässer/Naturnahes nährstoffarmes Stillgewässer natürlicher Entstehung*",
          "Biotypflächen 2020 nach Lebensraumkategorie und Biotoptypenschlüssel Typ 1-3/Mauern/Gebäude-, Verkehrs- und Industrieflächen/Mauer/Wand/Natursteinmauer/ wand",
          "Biotypflächen 2020 nach Lebensraumkategorie und Biotoptypenschlüssel Typ 1-3/Wiesen und Rasen/Grünland/Mesophiles Grünland/Fromentalwiese mit BFF-Qualität",
          "Biotypflächen 2020 nach Lebensraumkategorie und Biotoptypenschlüssel Typ 1-3/Grünanlagen/Siedlungen/Friedhof/Parkfriedhof",
          "Biotypflächen 2020 nach Lebensraumkategorie und Biotoptypenschlüssel Typ 1-3/Feuchtgebiete/Gehölzfreie Biotope der Sümpfe, Flachmoore und Ufer/Pfeifengraswiese/Pfeifengraswiese, Kleinseggenausbildung feucht (ZH: 8a)",
          "Biotypflächen 2020 nach Lebensraumkategorie und Biotoptypenschlüssel Typ 1-3/Feuchtgebiete/Gehölzfreie Biotope der Sümpfe, Flachmoore und Ufer/Pioniervegetation (wechsel-)nasser Standorte/vegetationsarmer Uferbereich/Pioniervegetation schlammiger Nassstandorte*",
          "Biotypflächen 2020 nach Lebensraumkategorie und Biotoptypenschlüssel Typ 1-3/Gehölze, Hecken und Gebüsche/Gebüsche und Gehölzbestände/Feldhecke/Strauch-Baumhecke mit  BFF-Qualität",
          "Biotypflächen 2020 nach Lebensraumkategorie und Biotoptypenschlüssel Typ 1-3/Gewässer/Gewässer/Naturfernes Stillgewässer/Zierteich",
          "Biotypflächen 2020 nach Lebensraumkategorie und Biotoptypenschlüssel Typ 1-3/Gewässer/Gewässer/Verlandungsbereich nährstoffarmer Stillgewässer/Röhricht mit Rohrkolben (ZH: 2c)",
          "Biotypflächen 2020 nach Lebensraumkategorie und Biotoptypenschlüssel Typ 1-3/Gewässer/Gewässer/Verlandungsbereich nährstoffarmer Stillgewässer/Seebinsenröhricht (ZH: 2b)",
          "Biotypflächen 2020 nach Lebensraumkategorie und Biotoptypenschlüssel Typ 1-3/Gehölze, Hecken und Gebüsche/Siedlungen/Gehölz des Siedlungsbereichs/Siedlungsgehölz aus überwiegend nicht heimischen Baumarten",
          "Biotypflächen 2020 nach Lebensraumkategorie und Biotoptypenschlüssel Typ 1-3/Gewässer/Gewässer/Graben/Wiesengraben",
          "Biotypflächen 2020 nach Lebensraumkategorie und Biotoptypenschlüssel Typ 1-3/Äcker, Gartenbauflächen, Tiergehege/Acker- und Gartenbau-Biotope/Obstplantage/Spalierobst-Plantage",
          "Biotypflächen 2020 nach Lebensraumkategorie und Biotoptypenschlüssel Typ 1-3/Ueberwiegend bebaute Flächen/Siedlungen/Sport-/Spiel-/Erholungsanlage/Sportplatz",
          "Biotypflächen 2020 nach Lebensraumkategorie und Biotoptypenschlüssel Typ 1-3/Gewässer/Gewässer/Fluss/Stark bis völlig ausgebauter Fluss*",
          "Biotypflächen 2020 nach Lebensraumkategorie und Biotoptypenschlüssel Typ 1-3/Ruderalfluren/Ruderalfluren/Artenarme Neophytenflur/Staudenknöterich-Flur",
          "Biotypflächen 2020 nach Lebensraumkategorie und Biotoptypenschlüssel Typ 1-3/Ueberwiegend bebaute Flächen/Gebäude-, Verkehrs- und Industrieflächen/Verkehrsfläche/Strasse*",
          "Biotypflächen 2020 nach Lebensraumkategorie und Biotoptypenschlüssel Typ 1-3/Ruderalfluren/Ruderalfluren/Ruderalflur/Ruderalflur nährstoffreicher, frischer bis feuchter Standorte mit Gehölzen",
          "Biotypflächen 2020 nach Lebensraumkategorie und Biotoptypenschlüssel Typ 1-3/Ruderalfluren/Ruderalfluren/Artenarme Neophytenflur/Riesenbärenklau-Flur",
          "Biotypflächen 2020 nach Lebensraumkategorie und Biotoptypenschlüssel Typ 1-3/Äcker, Gartenbauflächen, Tiergehege/Acker- und Gartenbau-Biotope/Acker/Acker",
          "Biotypflächen 2020 nach Lebensraumkategorie und Biotoptypenschlüssel Typ 1-3/Gehölze, Hecken und Gebüsche/Siedlungen/Einzelbaum/ Baumraster des  Siedlungsbereichs/Baumraster ohne Baumscheiben",
          "Biotypflächen 2020 nach Lebensraumkategorie und Biotoptypenschlüssel Typ 1-3/Gehölze, Hecken und Gebüsche/Siedlungen/Einzelbaum/ Baumraster des  Siedlungsbereichs/Baumraster mit ruderalem Unterwuchs",
          "Biotypflächen 2020 nach Lebensraumkategorie und Biotoptypenschlüssel Typ 1-3/Gehölze, Hecken und Gebüsche/Siedlungen/Einzelbaum/ Baumraster des  Siedlungsbereichs/Baumraster mit Fettwiese",
          "Biotypflächen 2020 nach Lebensraumkategorie und Biotoptypenschlüssel Typ 1-3/Grünanlagen/Siedlungen/Parkanlage/Alter Landschaftspark",
          "Biotypflächen 2020 nach Lebensraumkategorie und Biotoptypenschlüssel Typ 1-3/Gehölze, Hecken und Gebüsche/Gebüsche und Gehölzbestände/Einzelbaum/Allee",
          "Biotypflächen 2020 nach Lebensraumkategorie und Biotoptypenschlüssel Typ 1-3/Wiesen und Rasen/Grünland/Artenarmes Grünland/Fettwiese und -weide",
          "Biotypflächen 2020 nach Lebensraumkategorie und Biotoptypenschlüssel Typ 1-3/Gehölze, Hecken und Gebüsche/Gebüsche und Gehölzbestände/Weidengebüsch der Auen und Ufer/typisches Weiden-Auengebüsch",
          "Biotypflächen 2020 nach Lebensraumkategorie und Biotoptypenschlüssel Typ 1-3/Äcker, Gartenbauflächen, Tiergehege/Acker- und Gartenbau-Biotope/Acker",
          "Biotypflächen 2020 nach Lebensraumkategorie und Biotoptypenschlüssel Typ 1-3/Wald/Wälder/Aronstab-Buchenwald",
          "Biotypflächen 2020 nach Lebensraumkategorie und Biotoptypenschlüssel Typ 1-3/Ruderalfluren/Ruderalfluren/Artenarme Neophytenflur",
          "Biotypflächen 2020 nach Lebensraumkategorie und Biotoptypenschlüssel Typ 1-3/Wiesen und Rasen/Grünland/Artenarmes Grünland",
          "Biotypflächen 2020 nach Lebensraumkategorie und Biotoptypenschlüssel Typ 1-3/Wiesen und Rasen/Magerrasen/Artenarmes Magerwiesenstadium",
          "Biotypflächen 2020 nach Lebensraumkategorie und Biotoptypenschlüssel Typ 1-3/Gewässer/Gewässer/Bach",
          "Biotypflächen 2020 nach Lebensraumkategorie und Biotoptypenschlüssel Typ 1-3/Äcker, Gartenbauflächen, Tiergehege/Acker- und Gartenbau-Biotope/Baumschule",
          "Biotypflächen 2020 nach Lebensraumkategorie und Biotoptypenschlüssel Typ 1-3/Ueberwiegend bebaute Flächen/Gebäude-, Verkehrs- und Industrieflächen/Baustelle",
          "Biotypflächen 2020 nach Lebensraumkategorie und Biotoptypenschlüssel Typ 1-3/Beete und Rabatten/Siedlungen/Beet/ Rabatte",
          "Biotypflächen 2020 nach Lebensraumkategorie und Biotoptypenschlüssel Typ 1-3/Kies- und Schotterflächen/Gebäude-, Verkehrs- und Industrieflächen/Befestigte Fläche",
          "Biotypflächen 2020 nach Lebensraumkategorie und Biotoptypenschlüssel Typ 1-3/Ueberwiegend bebaute Flächen/Gebäude-, Verkehrs- und Industrieflächen/Befestigte Fläche",
          "Biotypflächen 2020 nach Lebensraumkategorie und Biotoptypenschlüssel Typ 1-3/Ueberwiegend bebaute Flächen/Gebäude-, Verkehrs- und Industrieflächen/Biotopkomplexe und Nutzungstypen der bebauten Bereiche",
          "Biotypflächen 2020 nach Lebensraumkategorie und Biotoptypenschlüssel Typ 1-3/Gehölze, Hecken und Gebüsche/Gebüsche und Gehölzbestände/Einzelbaum",
          "Biotypflächen 2020 nach Lebensraumkategorie und Biotoptypenschlüssel Typ 1-3/Gehölze, Hecken und Gebüsche/Siedlungen/Einzelbaum/ Baumraster des  Siedlungsbereichs",
          "Biotypflächen 2020 nach Lebensraumkategorie und Biotoptypenschlüssel Typ 1-3/Familiengärten/Siedlungen/Familiengartenanlage",
          "Biotypflächen 2020 nach Lebensraumkategorie und Biotoptypenschlüssel Typ 1-3/Gehölze, Hecken und Gebüsche/Gebüsche und Gehölzbestände/Feldhecke",
          "Biotypflächen 2020 nach Lebensraumkategorie und Biotoptypenschlüssel Typ 1-3/Ueberwiegend bebaute Flächen/Gebäude-, Verkehrs- und Industrieflächen/Flachdach",
          "Biotypflächen 2020 nach Lebensraumkategorie und Biotoptypenschlüssel Typ 1-3/Gewässer/Gewässer/Fliessgewässer",
          "Biotypflächen 2020 nach Lebensraumkategorie und Biotoptypenschlüssel Typ 1-3/Gewässer/Gewässer/Fluss",
          "Biotypflächen 2020 nach Lebensraumkategorie und Biotoptypenschlüssel Typ 1-3/Grünanlagen/Siedlungen/Friedhof",
          "Biotypflächen 2020 nach Lebensraumkategorie und Biotoptypenschlüssel Typ 1-3/Äcker, Gartenbauflächen, Tiergehege/Acker- und Gartenbau-Biotope/Gartenbaufläche",
          "Biotypflächen 2020 nach Lebensraumkategorie und Biotoptypenschlüssel Typ 1-3/Gehölze, Hecken und Gebüsche/Siedlungen/Gehölz des Siedlungsbereichs",
          "Biotypflächen 2020 nach Lebensraumkategorie und Biotoptypenschlüssel Typ 1-3/Gewässer/Gewässer/Graben",
          "Biotypflächen 2020 nach Lebensraumkategorie und Biotoptypenschlüssel Typ 1-3/Feuchtgebiete/Gehölzfreie Biotope der Sümpfe, Flachmoore und Ufer/Grossegenried",
          "Biotypflächen 2020 nach Lebensraumkategorie und Biotoptypenschlüssel Typ 1-3/Grünanlagen von Mehrfamilienhäusern/Siedlungen/Grünanlage von Mehrfamilienhäusern",
          "Biotypflächen 2020 nach Lebensraumkategorie und Biotoptypenschlüssel Typ 1-3/Ruderalfluren/Ruderalfluren/Halbruderale Gras- und Staudenflur",
          "Biotypflächen 2020 nach Lebensraumkategorie und Biotoptypenschlüssel Typ 1-3/Gärten/Siedlungen/Hausgarten",
          "Biotypflächen 2020 nach Lebensraumkategorie und Biotoptypenschlüssel Typ 1-3/Obstgärten/Gebüsche und Gehölzbestände/Hochstamm-Obstgarten",
          "Biotypflächen 2020 nach Lebensraumkategorie und Biotoptypenschlüssel Typ 1-3/Feuchtgebiete/Gehölzfreie Biotope der Sümpfe, Flachmoore und Ufer/Hochstaudenflur",
          "Biotypflächen 2020 nach Lebensraumkategorie und Biotoptypenschlüssel Typ 1-3/Wald/Wälder/Holzlagerfläche",
          "Biotypflächen 2020 nach Lebensraumkategorie und Biotoptypenschlüssel Typ 1-3/Ueberwiegend bebaute Flächen/Gebäude-, Verkehrs- und Industrieflächen/Industrie- und Gewerbefläche",
          "Biotypflächen 2020 nach Lebensraumkategorie und Biotoptypenschlüssel Typ 1-3/Wiesen und Rasen/Magerrasen/Kalk-Magerrasen",
          "Biotypflächen 2020 nach Lebensraumkategorie und Biotoptypenschlüssel Typ 1-3/Feuchtgebiete/Gehölzfreie Biotope der Sümpfe, Flachmoore und Ufer/Landröhricht",
          "Biotypflächen 2020 nach Lebensraumkategorie und Biotoptypenschlüssel Typ 1-3/Äcker, Gartenbauflächen, Tiergehege/Acker- und Gartenbau-Biotope/Landwirtschaftliche Lagerfläche",
          "Biotypflächen 2020 nach Lebensraumkategorie und Biotoptypenschlüssel Typ 1-3/Mauern/Gebäude-, Verkehrs- und Industrieflächen/Mauer/Wand",
          "Biotypflächen 2020 nach Lebensraumkategorie und Biotoptypenschlüssel Typ 1-3/Wiesen und Rasen/Grünland/Mesophiles Grünland",
          "Biotypflächen 2020 nach Lebensraumkategorie und Biotoptypenschlüssel Typ 1-3/Gehölze, Hecken und Gebüsche/Gebüsche und Gehölzbestände/Moor- und Sumpfgebüsch",
          "Biotypflächen 2020 nach Lebensraumkategorie und Biotoptypenschlüssel Typ 1-3/Wiesen und Rasen/Grünland/Nasswiese",
          "Biotypflächen 2020 nach Lebensraumkategorie und Biotoptypenschlüssel Typ 1-3/Gewässer/Gewässer/Naturfernes Stillgewässer",
          "Biotypflächen 2020 nach Lebensraumkategorie und Biotoptypenschlüssel Typ 1-3/Gehölze, Hecken und Gebüsche/Gebüsche und Gehölzbestände/Naturnahes Feldgehölz",
          "Biotypflächen 2020 nach Lebensraumkategorie und Biotoptypenschlüssel Typ 1-3/Gewässer/Gewässer/Naturnahes Kleingewässer",
          "Biotypflächen 2020 nach Lebensraumkategorie und Biotoptypenschlüssel Typ 1-3/Äcker, Gartenbauflächen, Tiergehege/Acker- und Gartenbau-Biotope/Obstplantage",
          "Biotypflächen 2020 nach Lebensraumkategorie und Biotoptypenschlüssel Typ 1-3/Gewässer/Gewässer/Offene Wasserfläche grösserer naturnaher nährstoffarmer Stillgewässer",
          "Biotypflächen 2020 nach Lebensraumkategorie und Biotoptypenschlüssel Typ 1-3/Grünanlagen/Siedlungen/Parkanlage",
          "Biotypflächen 2020 nach Lebensraumkategorie und Biotoptypenschlüssel Typ 1-3/Feuchtgebiete/Gehölzfreie Biotope der Sümpfe, Flachmoore und Ufer/Pfeifengraswiese",
          "Biotypflächen 2020 nach Lebensraumkategorie und Biotoptypenschlüssel Typ 1-3/Gewässer/Gewässer/Pionierfllur trockenfallender Flussufer",
          "Biotypflächen 2020 nach Lebensraumkategorie und Biotoptypenschlüssel Typ 1-3/Feuchtgebiete/Gehölzfreie Biotope der Sümpfe, Flachmoore und Ufer/Pioniervegetation (wechsel-)nasser Standorte/vegetationsarmer Uferbereich",
          "Biotypflächen 2020 nach Lebensraumkategorie und Biotoptypenschlüssel Typ 1-3/Ruderalfluren/Ruderalfluren/Ruderalflur",
          "Biotypflächen 2020 nach Lebensraumkategorie und Biotoptypenschlüssel Typ 1-3/Gehölze, Hecken und Gebüsche/Gebüsche und Gehölzbestände/Ruderalgebüsch/ Pioniergebüsch",
          "Biotypflächen 2020 nach Lebensraumkategorie und Biotoptypenschlüssel Typ 1-3/Wiesen und Rasen/Siedlungen/Scher- und Trittrasen",
          "Biotypflächen 2020 nach Lebensraumkategorie und Biotoptypenschlüssel Typ 1-3/Wald/Wälder/Seggen-Schwarzerlenbruchwald",
          "Biotypflächen 2020 nach Lebensraumkategorie und Biotoptypenschlüssel Typ 1-3/Wiesen und Rasen/Magerrasen/Sonstiger Magerrasen",
          "Biotypflächen 2020 nach Lebensraumkategorie und Biotoptypenschlüssel Typ 1-3/Ueberwiegend bebaute Flächen/Siedlungen/Sport-/Spiel-/Erholungsanlage",
          "Biotypflächen 2020 nach Lebensraumkategorie und Biotoptypenschlüssel Typ 1-3/Äcker, Gartenbauflächen, Tiergehege/Siedlungen/Tiergehege",
          "Biotypflächen 2020 nach Lebensraumkategorie und Biotoptypenschlüssel Typ 1-3/Wald/Wälder/Traubenkirschen-Eschenwald",
          "Biotypflächen 2020 nach Lebensraumkategorie und Biotoptypenschlüssel Typ 1-3/Feuchtgebiete/Gehölzfreie Biotope der Sümpfe, Flachmoore und Ufer/Uferstaudenflur",
          "Biotypflächen 2020 nach Lebensraumkategorie und Biotoptypenschlüssel Typ 1-3/Ueberwiegend bebaute Flächen/Gebäude-, Verkehrs- und Industrieflächen/Verkehrsfläche",
          "Biotypflächen 2020 nach Lebensraumkategorie und Biotoptypenschlüssel Typ 1-3/Gewässer/Gewässer/Verlandungsbereich nährstoffarmer Stillgewässer",
          "Biotypflächen 2020 nach Lebensraumkategorie und Biotoptypenschlüssel Typ 1-3/Wald/Wälder/Wald allgemein",
          "Biotypflächen 2020 nach Lebensraumkategorie und Biotoptypenschlüssel Typ 1-3/Wald/Wälder/Waldrand",
          "Biotypflächen 2020 nach Lebensraumkategorie und Biotoptypenschlüssel Typ 1-3/Gehölze, Hecken und Gebüsche/Gebüsche und Gehölzbestände/Weidengebüsch der Auen und Ufer",
          "Biotypflächen 2020 nach Lebensraumkategorie und Biotoptypenschlüssel Typ 1-3/Gehölze, Hecken und Gebüsche/Siedlungen/Ziergebüsch/-hecke",
          "Biotypflächen 2020 nach Lebensraumkategorie und Biotoptypenschlüssel Typ 1-3/Gehölze, Hecken und Gebüsche/Gebüsche und Gehölzbestände/mesophiles Gebüsch",
          "Biotypflächen 2020 nach Lebensraumkategorie und Biotoptypenschlüssel Typ 1-3/Äcker, Gartenbauflächen, Tiergehege/Acker- und Gartenbau-Biotope",
          "Biotypflächen 2020 nach Lebensraumkategorie und Biotoptypenschlüssel Typ 1-3/Kies- und Schotterflächen/Gebäude-, Verkehrs- und Industrieflächen",
          "Biotypflächen 2020 nach Lebensraumkategorie und Biotoptypenschlüssel Typ 1-3/Mauern/Gebäude-, Verkehrs- und Industrieflächen",
          "Biotypflächen 2020 nach Lebensraumkategorie und Biotoptypenschlüssel Typ 1-3/Ueberwiegend bebaute Flächen/Gebäude-, Verkehrs- und Industrieflächen",
          "Biotypflächen 2020 nach Lebensraumkategorie und Biotoptypenschlüssel Typ 1-3/Gehölze, Hecken und Gebüsche/Gebüsche und Gehölzbestände",
          "Biotypflächen 2020 nach Lebensraumkategorie und Biotoptypenschlüssel Typ 1-3/Obstgärten/Gebüsche und Gehölzbestände",
          "Biotypflächen 2020 nach Lebensraumkategorie und Biotoptypenschlüssel Typ 1-3/Feuchtgebiete/Gehölzfreie Biotope der Sümpfe, Flachmoore und Ufer",
          "Biotypflächen 2020 nach Lebensraumkategorie und Biotoptypenschlüssel Typ 1-3/Gewässer/Gewässer",
          "Biotypflächen 2020 nach Lebensraumkategorie und Biotoptypenschlüssel Typ 1-3/Wiesen und Rasen/Grünland",
          "Biotypflächen 2020 nach Lebensraumkategorie und Biotoptypenschlüssel Typ 1-3/Wiesen und Rasen/Magerrasen",
          "Biotypflächen 2020 nach Lebensraumkategorie und Biotoptypenschlüssel Typ 1-3/Ruderalfluren/Ruderalfluren",
          "Biotypflächen 2020 nach Lebensraumkategorie und Biotoptypenschlüssel Typ 1-3/Beete und Rabatten/Siedlungen",
          "Biotypflächen 2020 nach Lebensraumkategorie und Biotoptypenschlüssel Typ 1-3/Familiengärten/Siedlungen",
          "Biotypflächen 2020 nach Lebensraumkategorie und Biotoptypenschlüssel Typ 1-3/Gehölze, Hecken und Gebüsche/Siedlungen",
          "Biotypflächen 2020 nach Lebensraumkategorie und Biotoptypenschlüssel Typ 1-3/Grünanlagen/Siedlungen",
          "Biotypflächen 2020 nach Lebensraumkategorie und Biotoptypenschlüssel Typ 1-3/Grünanlagen von Mehrfamilienhäusern/Siedlungen",
          "Biotypflächen 2020 nach Lebensraumkategorie und Biotoptypenschlüssel Typ 1-3/Gärten/Siedlungen",
          "Biotypflächen 2020 nach Lebensraumkategorie und Biotoptypenschlüssel Typ 1-3/Ueberwiegend bebaute Flächen/Siedlungen",
          "Biotypflächen 2020 nach Lebensraumkategorie und Biotoptypenschlüssel Typ 1-3/Wiesen und Rasen/Siedlungen",
          "Biotypflächen 2020 nach Lebensraumkategorie und Biotoptypenschlüssel Typ 1-3/Äcker, Gartenbauflächen, Tiergehege/Siedlungen",
          "Biotypflächen 2020 nach Lebensraumkategorie und Biotoptypenschlüssel Typ 1-3/Wald/Wälder",
          "Biotypflächen 2020 nach Lebensraumkategorie und Biotoptypenschlüssel Typ 1-3/Beete und Rabatten",
          "Biotypflächen 2020 nach Lebensraumkategorie und Biotoptypenschlüssel Typ 1-3/Familiengärten",
          "Biotypflächen 2020 nach Lebensraumkategorie und Biotoptypenschlüssel Typ 1-3/Feuchtgebiete",
          "Biotypflächen 2020 nach Lebensraumkategorie und Biotoptypenschlüssel Typ 1-3/Gehölze, Hecken und Gebüsche",
          "Biotypflächen 2020 nach Lebensraumkategorie und Biotoptypenschlüssel Typ 1-3/Gewässer",
          "Biotypflächen 2020 nach Lebensraumkategorie und Biotoptypenschlüssel Typ 1-3/Grünanlagen",
          "Biotypflächen 2020 nach Lebensraumkategorie und Biotoptypenschlüssel Typ 1-3/Grünanlagen von Mehrfamilienhäusern",
          "Biotypflächen 2020 nach Lebensraumkategorie und Biotoptypenschlüssel Typ 1-3/Gärten",
          "Biotypflächen 2020 nach Lebensraumkategorie und Biotoptypenschlüssel Typ 1-3/Kies- und Schotterflächen",
          "Biotypflächen 2020 nach Lebensraumkategorie und Biotoptypenschlüssel Typ 1-3/Mauern",
          "Biotypflächen 2020 nach Lebensraumkategorie und Biotoptypenschlüssel Typ 1-3/Obstgärten",
          "Biotypflächen 2020 nach Lebensraumkategorie und Biotoptypenschlüssel Typ 1-3/Ruderalfluren",
          "Biotypflächen 2020 nach Lebensraumkategorie und Biotoptypenschlüssel Typ 1-3/Ueberwiegend bebaute Flächen",
          "Biotypflächen 2020 nach Lebensraumkategorie und Biotoptypenschlüssel Typ 1-3/Wald",
          "Biotypflächen 2020 nach Lebensraumkategorie und Biotoptypenschlüssel Typ 1-3/Wiesen und Rasen",
          "Biotypflächen 2020 nach Lebensraumkategorie und Biotoptypenschlüssel Typ 1-3/Äcker, Gartenbauflächen, Tiergehege",
          "Biotypflächen 2020 nach Lebensraumkategorie und Biotoptypenschlüssel Typ 1-3"
         ],
         "labels": [
          "Naturgarten",
          "Schilfröhricht im Verlandungsbereich (ZH: 2a)",
          "Ruderalflur trockenwarmer Standorte",
          "Ruderale Flachdachvegetation",
          "Naturnaher Bach*",
          "Mässig trockene Magerwiese",
          "Grosseggenried mit Schneidebinse (ZH: 3d)",
          "Brombeer-Gestrüpp",
          "Baumreihe/-raster mit Fromentalwiese mit BFF-Qualität*",
          "Weiden- Sumpfgebüsch",
          "Aronstab-Buchenwald (inkl. 11e) (ZH: 11)",
          "Hausgarten",
          "sonstiger Magerrasen",
          "Naturnahes Kleingewässer",
          "Rebberg ohne Terrassen",
          "mesophiles Gebüsch",
          "Strukturreiches Siedlungsgehölz aus überwiegend einheimischen Baumarten",
          "Baumraster mit Zierhecke",
          "Baumraster mit Fromentalwiese",
          "Artenarme Sedum-Flachdachvegetationen",
          "Verlandungsbereich nährstoffarmer Stillgewässer mit Unterwasservegetation*",
          "Traubenkirschen-Eschenwald (inkl. Nr. 30f) (ZH: 30)",
          "Baumhecke",
          "Bauerngarten",
          "Artenarmes Extensivgrünland*",
          "Artenreicher Scherrasen (Blumenrasen)",
          "Terrassierter Rebberg",
          "Waldrand strukturarm mit Aufwertungspotential",
          "Fläche mit Ziegel-/Betonsteinpflaster",
          "Fläche mit wassergebundener Decke*",
          "Halbruderale Gras- und Staudenflur feuchter Standorte",
          "Mässig ausgebauter Bach*",
          "Strukturreiches Ziergebüsch/ Hecke aus überwiegend einheimischen Gehölzarten",
          "Ruderalflur nährstoffreicher, frischer bis feuchter Standorte",
          "Ruderalflur trockenwarmer Standorte mit Gehölzen",
          "Fläche mit Natursteinpflaster",
          "Sonstige befestigte Flächen*",
          "Naturnahes Feldgehölz",
          "Fläche mit Kies- oder Schotterdecke in Bahnanlagen",
          "Landwirtschaftliche Lagerfläche",
          "Baumraster  mit Baumscheiben",
          "Buntbrachen",
          "Beet/Rabatte",
          "Blumen-Gartenbaufläche",
          "Bultiges Grosseggenried (ZH: 3a)",
          "Flusskies-Pionierflur*",
          "Artenreicher Garten mit Grossbäumen",
          "Baumraster mit Rasen",
          "Adlerfarn-Flur magerer Standorte",
          "Nährstoffreicher Sumpf",
          "Bestand der Stumpfblättrigen Binse (ZH: 4c)",
          "Mässig ausgebauter Fluss*",
          "Hochstamm-Obstgarten mit Fromentalwiese (m3)",
          "Halbruderale Gras- und Staudenflur trockener Standorte",
          "Artenarmer Ziergarten",
          "Feuchte Fromentalwiese*",
          "Gebäude*",
          "Grosseggenried ausserhalb Wasserstandsschwankungen (ZH: 3b)",
          "Gewerbegebiet (Kleingewerbe und kleingewerbliche Lagerflächen)",
          "Grosseggenried mit Sumpf-Segge (ZH: 3c)",
          "Kalk-Magerrasen",
          "Strauchhecke mit BFF-Qualität",
          "Rohrglanzgras-Flussuferröhricht*",
          "Baustelle",
          "Artenarmer Scherrasen (Gebrauchsrasen)",
          "Sukzessionsgebüsch",
          "Artenarme Fromentalwiese",
          "Einzelbaum",
          "Obst- und Gemüsegarten",
          "Intensive Flachdachbegrünungen",
          "Fläche mit unbefestigtem Wandkies oder Sand*",
          "Schwimmblattgesellschaften (ZH: 1)",
          "Ziergebüsch/ Hecke aus überwiegend nicht heimischen Gehölzarten",
          "Hochstaudenflur mit Goldrute (ZH: 4b)",
          "Sonstige Sport-, Spiel- und Freizeitanlage",
          "Stark bis völlig ausgebauter Bach*",
          "Halbruderale Gras- und Staudenflur wechselfeuchter Standorte",
          "Pfeifengrasreinbestand auf Torf (ZH: 8c)",
          "Baumreihe/-raster mit kiesigem Untergrund*",
          "Sonstige Neophyten-Flur",
          "Süssgras-Bachröhricht*",
          "Strukturarme und artenarme Magerweide",
          "Halbruderale Gras- und Staudenflur mittlerer Standorte",
          "Strauchhecke",
          "Wiesenartige Flachdachvegetation",
          "Waldrand gestuft",
          "Hochstamm-Obstgarten mit Magerwiese",
          "Hochstaudenflur mit Spierstaude (ZH: 4a)",
          "Artenreiche Sedum-Flachdachvegetationen",
          "Artenarme Ruderalflur",
          "Hochstamm-Obstgarten mit Fettwiese (m4)",
          "Naturnaher Fluss*",
          "Intensiv gepflegter Park",
          "Artenarme Moos-Flachdachvegetationen",
          "Stark beeinträchtigtes Stillgewässer natürlicher Entstehung*",
          "Strukturreiche Familiengartenanlage",
          "Seggen-Schwarzerlenbruchwald (ZH: 44)",
          "Holzlagerfläche",
          "Baumschule",
          "Beton- /Asphaltfläche",
          "Neophytisches Gebüsch",
          "Sumpfdotterblumen-Wiese*",
          "Fliessgewässer*",
          "Intensivgrünland auf Flachmoorstandorten",
          "Beerenstrauch-Plantage",
          "Pfeifengraswiese, Kleinseggenausbildung trocken (ZH: 8b)",
          "Waldrand strukturarm",
          "Strukturarme Grünanlage",
          "Strukturarmes Siedlungsgehölz aus überwiegend einheimischen Baumarten*",
          "Strukturarmes Ziergebüsch/ Hecke aus überwiegend einheimischen Gehölzarten*",
          "Strukturreiche Grünanlage",
          "Strukturreiche Magerweide",
          "Strukturreiche artenreiche Magerweide",
          "Tiergehege",
          "Wald allgemein",
          "Zierhecke/ Schnitthecke",
          "Schilf-Landröhricht",
          "Strauch-Baumhecke",
          "Wechseltrockene Magerwiese",
          "Goldruten-Flur",
          "Gemüse- und sonstige Gartenbaufläche",
          "Naturnahes nährstoffarmes Stillgewässer natürlicher Entstehung*",
          "Natursteinmauer/ wand",
          "Fromentalwiese mit BFF-Qualität",
          "Parkfriedhof",
          "Pfeifengraswiese, Kleinseggenausbildung feucht (ZH: 8a)",
          "Pioniervegetation schlammiger Nassstandorte*",
          "Strauch-Baumhecke mit  BFF-Qualität",
          "Zierteich",
          "Röhricht mit Rohrkolben (ZH: 2c)",
          "Seebinsenröhricht (ZH: 2b)",
          "Siedlungsgehölz aus überwiegend nicht heimischen Baumarten",
          "Wiesengraben",
          "Spalierobst-Plantage",
          "Sportplatz",
          "Stark bis völlig ausgebauter Fluss*",
          "Staudenknöterich-Flur",
          "Strasse*",
          "Ruderalflur nährstoffreicher, frischer bis feuchter Standorte mit Gehölzen",
          "Riesenbärenklau-Flur",
          "Acker",
          "Baumraster ohne Baumscheiben",
          "Baumraster mit ruderalem Unterwuchs",
          "Baumraster mit Fettwiese",
          "Alter Landschaftspark",
          "Allee",
          "Fettwiese und -weide",
          "typisches Weiden-Auengebüsch",
          "Acker",
          "Aronstab-Buchenwald",
          "Artenarme Neophytenflur",
          "Artenarmes Grünland",
          "Artenarmes Magerwiesenstadium",
          "Bach",
          "Baumschule",
          "Baustelle",
          "Beet/ Rabatte",
          "Befestigte Fläche",
          "Befestigte Fläche",
          "Biotopkomplexe und Nutzungstypen der bebauten Bereiche",
          "Einzelbaum",
          "Einzelbaum/ Baumraster des  Siedlungsbereichs",
          "Familiengartenanlage",
          "Feldhecke",
          "Flachdach",
          "Fliessgewässer",
          "Fluss",
          "Friedhof",
          "Gartenbaufläche",
          "Gehölz des Siedlungsbereichs",
          "Graben",
          "Grossegenried",
          "Grünanlage von Mehrfamilienhäusern",
          "Halbruderale Gras- und Staudenflur",
          "Hausgarten",
          "Hochstamm-Obstgarten",
          "Hochstaudenflur",
          "Holzlagerfläche",
          "Industrie- und Gewerbefläche",
          "Kalk-Magerrasen",
          "Landröhricht",
          "Landwirtschaftliche Lagerfläche",
          "Mauer/Wand",
          "Mesophiles Grünland",
          "Moor- und Sumpfgebüsch",
          "Nasswiese",
          "Naturfernes Stillgewässer",
          "Naturnahes Feldgehölz",
          "Naturnahes Kleingewässer",
          "Obstplantage",
          "Offene Wasserfläche grösserer naturnaher nährstoffarmer Stillgewässer",
          "Parkanlage",
          "Pfeifengraswiese",
          "Pionierfllur trockenfallender Flussufer",
          "Pioniervegetation (wechsel-)nasser Standorte/vegetationsarmer Uferbereich",
          "Ruderalflur",
          "Ruderalgebüsch/ Pioniergebüsch",
          "Scher- und Trittrasen",
          "Seggen-Schwarzerlenbruchwald",
          "Sonstiger Magerrasen",
          "Sport-/Spiel-/Erholungsanlage",
          "Tiergehege",
          "Traubenkirschen-Eschenwald",
          "Uferstaudenflur",
          "Verkehrsfläche",
          "Verlandungsbereich nährstoffarmer Stillgewässer",
          "Wald allgemein",
          "Waldrand",
          "Weidengebüsch der Auen und Ufer",
          "Ziergebüsch/-hecke",
          "mesophiles Gebüsch",
          "Acker- und Gartenbau-Biotope",
          "Gebäude-, Verkehrs- und Industrieflächen",
          "Gebäude-, Verkehrs- und Industrieflächen",
          "Gebäude-, Verkehrs- und Industrieflächen",
          "Gebüsche und Gehölzbestände",
          "Gebüsche und Gehölzbestände",
          "Gehölzfreie Biotope der Sümpfe, Flachmoore und Ufer",
          "Gewässer",
          "Grünland",
          "Magerrasen",
          "Ruderalfluren",
          "Siedlungen",
          "Siedlungen",
          "Siedlungen",
          "Siedlungen",
          "Siedlungen",
          "Siedlungen",
          "Siedlungen",
          "Siedlungen",
          "Siedlungen",
          "Wälder",
          "Beete und Rabatten",
          "Familiengärten",
          "Feuchtgebiete",
          "Gehölze, Hecken und Gebüsche",
          "Gewässer",
          "Grünanlagen",
          "Grünanlagen von Mehrfamilienhäusern",
          "Gärten",
          "Kies- und Schotterflächen",
          "Mauern",
          "Obstgärten",
          "Ruderalfluren",
          "Ueberwiegend bebaute Flächen",
          "Wald",
          "Wiesen und Rasen",
          "Äcker, Gartenbauflächen, Tiergehege",
          "Biotypflächen 2020 nach Lebensraumkategorie und Biotoptypenschlüssel Typ 1-3"
         ],
         "marker": {
          "colors": [
           "pink",
           "#104E8B",
           "#CAFF70",
           "grey",
           "#104E8B",
           "#A2CD5A",
           "#636efa",
           "lightgreen",
           "pink",
           "lightgreen",
           "forestgreen",
           "pink",
           "olive",
           "#104E8B",
           "brown",
           "lightgreen",
           "pink",
           "pink",
           "pink",
           "grey",
           "#104E8B",
           "forestgreen",
           "lightgreen",
           "pink",
           "#A2CD5A",
           "pink",
           "brown",
           "forestgreen",
           "grey",
           "grey",
           "#CAFF70",
           "#104E8B",
           "pink",
           "#CAFF70",
           "#CAFF70",
           "grey",
           "grey",
           "lightgreen",
           "grey",
           "brown",
           "pink",
           "brown",
           "pink",
           "brown",
           "#636efa",
           "#104E8B",
           "pink",
           "pink",
           "olive",
           "#636efa",
           "#636efa",
           "#104E8B",
           "lightgreen",
           "#CAFF70",
           "pink",
           "#A2CD5A",
           "grey",
           "#636efa",
           "grey",
           "#636efa",
           "olive",
           "lightgreen",
           "#636efa",
           "grey",
           "pink",
           "lightgreen",
           "#A2CD5A",
           "lightgreen",
           "pink",
           "grey",
           "grey",
           "#104E8B",
           "pink",
           "#636efa",
           "pink",
           "#104E8B",
           "#CAFF70",
           "#636efa",
           "pink",
           "#CAFF70",
           "#636efa",
           "#A2CD5A",
           "#CAFF70",
           "lightgreen",
           "grey",
           "forestgreen",
           "lightgreen",
           "#636efa",
           "grey",
           "#CAFF70",
           "lightgreen",
           "#104E8B",
           "pink",
           "grey",
           "#104E8B",
           "pink",
           "forestgreen",
           "forestgreen",
           "brown",
           "grey",
           "lightgreen",
           "#A2CD5A",
           "#104E8B",
           "#A2CD5A",
           "brown",
           "#636efa",
           "forestgreen",
           "pink",
           "pink",
           "pink",
           "pink",
           "#A2CD5A",
           "#A2CD5A",
           "pink",
           "forestgreen",
           "pink",
           "#636efa",
           "lightgreen",
           "olive",
           "#CAFF70",
           "brown",
           "#104E8B",
           "grey",
           "#A2CD5A",
           "pink",
           "#636efa",
           "#636efa",
           "lightgreen",
           "#104E8B",
           "#104E8B",
           "#104E8B",
           "pink",
           "#104E8B",
           "brown",
           "pink",
           "#104E8B",
           "#CAFF70",
           "grey",
           "#CAFF70",
           "#CAFF70",
           "brown",
           "pink",
           "pink",
           "pink",
           "pink",
           "lightgreen",
           "#A2CD5A",
           "lightgreen",
           "brown",
           "forestgreen",
           "#CAFF70",
           "#A2CD5A",
           "olive",
           "#104E8B",
           "brown",
           "grey",
           "pink",
           "grey",
           "grey",
           "grey",
           "lightgreen",
           "pink",
           "pink",
           "lightgreen",
           "grey",
           "#104E8B",
           "#104E8B",
           "pink",
           "brown",
           "pink",
           "#104E8B",
           "#636efa",
           "pink",
           "#CAFF70",
           "pink",
           "lightgreen",
           "#636efa",
           "forestgreen",
           "grey",
           "olive",
           "#636efa",
           "brown",
           "grey",
           "#A2CD5A",
           "lightgreen",
           "#A2CD5A",
           "#104E8B",
           "lightgreen",
           "#104E8B",
           "brown",
           "#104E8B",
           "pink",
           "#636efa",
           "#104E8B",
           "#636efa",
           "#CAFF70",
           "lightgreen",
           "pink",
           "forestgreen",
           "olive",
           "pink",
           "pink",
           "forestgreen",
           "#636efa",
           "grey",
           "#104E8B",
           "forestgreen",
           "forestgreen",
           "lightgreen",
           "pink",
           "lightgreen",
           "brown",
           "grey",
           "grey",
           "grey",
           "lightgreen",
           "lightgreen",
           "#636efa",
           "#104E8B",
           "#A2CD5A",
           "olive",
           "#CAFF70",
           "pink",
           "pink",
           "pink",
           "pink",
           "pink",
           "pink",
           "pink",
           "pink",
           "pink",
           "forestgreen",
           "pink",
           "pink",
           "#636efa",
           "lightgrey",
           "#104E8B",
           "pink",
           "pink",
           "pink",
           "grey",
           "grey",
           "lightgreen",
           "#CAFF70",
           "lightgrey",
           "forestgreen",
           "lightgrey",
           "lightgrey",
           "lightgrey"
          ]
         },
         "name": "",
         "parents": [
          "Biotypflächen 2020 nach Lebensraumkategorie und Biotoptypenschlüssel Typ 1-3/Gärten/Siedlungen/Hausgarten",
          "Biotypflächen 2020 nach Lebensraumkategorie und Biotoptypenschlüssel Typ 1-3/Gewässer/Gewässer/Verlandungsbereich nährstoffarmer Stillgewässer",
          "Biotypflächen 2020 nach Lebensraumkategorie und Biotoptypenschlüssel Typ 1-3/Ruderalfluren/Ruderalfluren/Ruderalflur",
          "Biotypflächen 2020 nach Lebensraumkategorie und Biotoptypenschlüssel Typ 1-3/Ueberwiegend bebaute Flächen/Gebäude-, Verkehrs- und Industrieflächen/Flachdach",
          "Biotypflächen 2020 nach Lebensraumkategorie und Biotoptypenschlüssel Typ 1-3/Gewässer/Gewässer/Bach",
          "Biotypflächen 2020 nach Lebensraumkategorie und Biotoptypenschlüssel Typ 1-3/Wiesen und Rasen/Grünland/Mesophiles Grünland",
          "Biotypflächen 2020 nach Lebensraumkategorie und Biotoptypenschlüssel Typ 1-3/Feuchtgebiete/Gehölzfreie Biotope der Sümpfe, Flachmoore und Ufer/Grossegenried",
          "Biotypflächen 2020 nach Lebensraumkategorie und Biotoptypenschlüssel Typ 1-3/Gehölze, Hecken und Gebüsche/Gebüsche und Gehölzbestände/Ruderalgebüsch/ Pioniergebüsch",
          "Biotypflächen 2020 nach Lebensraumkategorie und Biotoptypenschlüssel Typ 1-3/Gehölze, Hecken und Gebüsche/Siedlungen/Einzelbaum/ Baumraster des  Siedlungsbereichs",
          "Biotypflächen 2020 nach Lebensraumkategorie und Biotoptypenschlüssel Typ 1-3/Gehölze, Hecken und Gebüsche/Gebüsche und Gehölzbestände/Moor- und Sumpfgebüsch",
          "Biotypflächen 2020 nach Lebensraumkategorie und Biotoptypenschlüssel Typ 1-3/Wald/Wälder/Aronstab-Buchenwald",
          "Biotypflächen 2020 nach Lebensraumkategorie und Biotoptypenschlüssel Typ 1-3/Gärten/Siedlungen/Hausgarten",
          "Biotypflächen 2020 nach Lebensraumkategorie und Biotoptypenschlüssel Typ 1-3/Wiesen und Rasen/Magerrasen/Sonstiger Magerrasen",
          "Biotypflächen 2020 nach Lebensraumkategorie und Biotoptypenschlüssel Typ 1-3/Gewässer/Gewässer/Naturnahes Kleingewässer",
          "Biotypflächen 2020 nach Lebensraumkategorie und Biotoptypenschlüssel Typ 1-3/Äcker, Gartenbauflächen, Tiergehege/Acker- und Gartenbau-Biotope/Obstplantage",
          "Biotypflächen 2020 nach Lebensraumkategorie und Biotoptypenschlüssel Typ 1-3/Gehölze, Hecken und Gebüsche/Gebüsche und Gehölzbestände/mesophiles Gebüsch",
          "Biotypflächen 2020 nach Lebensraumkategorie und Biotoptypenschlüssel Typ 1-3/Gehölze, Hecken und Gebüsche/Siedlungen/Gehölz des Siedlungsbereichs",
          "Biotypflächen 2020 nach Lebensraumkategorie und Biotoptypenschlüssel Typ 1-3/Gehölze, Hecken und Gebüsche/Siedlungen/Einzelbaum/ Baumraster des  Siedlungsbereichs",
          "Biotypflächen 2020 nach Lebensraumkategorie und Biotoptypenschlüssel Typ 1-3/Gehölze, Hecken und Gebüsche/Siedlungen/Einzelbaum/ Baumraster des  Siedlungsbereichs",
          "Biotypflächen 2020 nach Lebensraumkategorie und Biotoptypenschlüssel Typ 1-3/Ueberwiegend bebaute Flächen/Gebäude-, Verkehrs- und Industrieflächen/Flachdach",
          "Biotypflächen 2020 nach Lebensraumkategorie und Biotoptypenschlüssel Typ 1-3/Gewässer/Gewässer/Verlandungsbereich nährstoffarmer Stillgewässer",
          "Biotypflächen 2020 nach Lebensraumkategorie und Biotoptypenschlüssel Typ 1-3/Wald/Wälder/Traubenkirschen-Eschenwald",
          "Biotypflächen 2020 nach Lebensraumkategorie und Biotoptypenschlüssel Typ 1-3/Gehölze, Hecken und Gebüsche/Gebüsche und Gehölzbestände/Feldhecke",
          "Biotypflächen 2020 nach Lebensraumkategorie und Biotoptypenschlüssel Typ 1-3/Gärten/Siedlungen/Hausgarten",
          "Biotypflächen 2020 nach Lebensraumkategorie und Biotoptypenschlüssel Typ 1-3/Wiesen und Rasen/Grünland/Artenarmes Grünland",
          "Biotypflächen 2020 nach Lebensraumkategorie und Biotoptypenschlüssel Typ 1-3/Wiesen und Rasen/Siedlungen/Scher- und Trittrasen",
          "Biotypflächen 2020 nach Lebensraumkategorie und Biotoptypenschlüssel Typ 1-3/Äcker, Gartenbauflächen, Tiergehege/Acker- und Gartenbau-Biotope/Obstplantage",
          "Biotypflächen 2020 nach Lebensraumkategorie und Biotoptypenschlüssel Typ 1-3/Wald/Wälder/Waldrand",
          "Biotypflächen 2020 nach Lebensraumkategorie und Biotoptypenschlüssel Typ 1-3/Ueberwiegend bebaute Flächen/Gebäude-, Verkehrs- und Industrieflächen/Befestigte Fläche",
          "Biotypflächen 2020 nach Lebensraumkategorie und Biotoptypenschlüssel Typ 1-3/Kies- und Schotterflächen/Gebäude-, Verkehrs- und Industrieflächen/Befestigte Fläche",
          "Biotypflächen 2020 nach Lebensraumkategorie und Biotoptypenschlüssel Typ 1-3/Ruderalfluren/Ruderalfluren/Halbruderale Gras- und Staudenflur",
          "Biotypflächen 2020 nach Lebensraumkategorie und Biotoptypenschlüssel Typ 1-3/Gewässer/Gewässer/Bach",
          "Biotypflächen 2020 nach Lebensraumkategorie und Biotoptypenschlüssel Typ 1-3/Gehölze, Hecken und Gebüsche/Siedlungen/Ziergebüsch/-hecke",
          "Biotypflächen 2020 nach Lebensraumkategorie und Biotoptypenschlüssel Typ 1-3/Ruderalfluren/Ruderalfluren/Ruderalflur",
          "Biotypflächen 2020 nach Lebensraumkategorie und Biotoptypenschlüssel Typ 1-3/Ruderalfluren/Ruderalfluren/Ruderalflur",
          "Biotypflächen 2020 nach Lebensraumkategorie und Biotoptypenschlüssel Typ 1-3/Ueberwiegend bebaute Flächen/Gebäude-, Verkehrs- und Industrieflächen/Befestigte Fläche",
          "Biotypflächen 2020 nach Lebensraumkategorie und Biotoptypenschlüssel Typ 1-3/Ueberwiegend bebaute Flächen/Gebäude-, Verkehrs- und Industrieflächen/Befestigte Fläche",
          "Biotypflächen 2020 nach Lebensraumkategorie und Biotoptypenschlüssel Typ 1-3/Gehölze, Hecken und Gebüsche/Gebüsche und Gehölzbestände/Naturnahes Feldgehölz",
          "Biotypflächen 2020 nach Lebensraumkategorie und Biotoptypenschlüssel Typ 1-3/Kies- und Schotterflächen/Gebäude-, Verkehrs- und Industrieflächen/Befestigte Fläche",
          "Biotypflächen 2020 nach Lebensraumkategorie und Biotoptypenschlüssel Typ 1-3/Äcker, Gartenbauflächen, Tiergehege/Acker- und Gartenbau-Biotope/Landwirtschaftliche Lagerfläche",
          "Biotypflächen 2020 nach Lebensraumkategorie und Biotoptypenschlüssel Typ 1-3/Gehölze, Hecken und Gebüsche/Siedlungen/Einzelbaum/ Baumraster des  Siedlungsbereichs",
          "Biotypflächen 2020 nach Lebensraumkategorie und Biotoptypenschlüssel Typ 1-3/Äcker, Gartenbauflächen, Tiergehege/Acker- und Gartenbau-Biotope/Acker",
          "Biotypflächen 2020 nach Lebensraumkategorie und Biotoptypenschlüssel Typ 1-3/Beete und Rabatten/Siedlungen/Beet/ Rabatte",
          "Biotypflächen 2020 nach Lebensraumkategorie und Biotoptypenschlüssel Typ 1-3/Äcker, Gartenbauflächen, Tiergehege/Acker- und Gartenbau-Biotope/Gartenbaufläche",
          "Biotypflächen 2020 nach Lebensraumkategorie und Biotoptypenschlüssel Typ 1-3/Feuchtgebiete/Gehölzfreie Biotope der Sümpfe, Flachmoore und Ufer/Grossegenried",
          "Biotypflächen 2020 nach Lebensraumkategorie und Biotoptypenschlüssel Typ 1-3/Gewässer/Gewässer/Pionierfllur trockenfallender Flussufer",
          "Biotypflächen 2020 nach Lebensraumkategorie und Biotoptypenschlüssel Typ 1-3/Gärten/Siedlungen/Hausgarten",
          "Biotypflächen 2020 nach Lebensraumkategorie und Biotoptypenschlüssel Typ 1-3/Gehölze, Hecken und Gebüsche/Siedlungen/Einzelbaum/ Baumraster des  Siedlungsbereichs",
          "Biotypflächen 2020 nach Lebensraumkategorie und Biotoptypenschlüssel Typ 1-3/Wiesen und Rasen/Magerrasen/Artenarmes Magerwiesenstadium",
          "Biotypflächen 2020 nach Lebensraumkategorie und Biotoptypenschlüssel Typ 1-3/Feuchtgebiete/Gehölzfreie Biotope der Sümpfe, Flachmoore und Ufer/Uferstaudenflur",
          "Biotypflächen 2020 nach Lebensraumkategorie und Biotoptypenschlüssel Typ 1-3/Feuchtgebiete/Gehölzfreie Biotope der Sümpfe, Flachmoore und Ufer/Hochstaudenflur",
          "Biotypflächen 2020 nach Lebensraumkategorie und Biotoptypenschlüssel Typ 1-3/Gewässer/Gewässer/Fluss",
          "Biotypflächen 2020 nach Lebensraumkategorie und Biotoptypenschlüssel Typ 1-3/Obstgärten/Gebüsche und Gehölzbestände/Hochstamm-Obstgarten",
          "Biotypflächen 2020 nach Lebensraumkategorie und Biotoptypenschlüssel Typ 1-3/Ruderalfluren/Ruderalfluren/Halbruderale Gras- und Staudenflur",
          "Biotypflächen 2020 nach Lebensraumkategorie und Biotoptypenschlüssel Typ 1-3/Gärten/Siedlungen/Hausgarten",
          "Biotypflächen 2020 nach Lebensraumkategorie und Biotoptypenschlüssel Typ 1-3/Wiesen und Rasen/Grünland/Mesophiles Grünland",
          "Biotypflächen 2020 nach Lebensraumkategorie und Biotoptypenschlüssel Typ 1-3/Ueberwiegend bebaute Flächen/Gebäude-, Verkehrs- und Industrieflächen/Biotopkomplexe und Nutzungstypen der bebauten Bereiche",
          "Biotypflächen 2020 nach Lebensraumkategorie und Biotoptypenschlüssel Typ 1-3/Feuchtgebiete/Gehölzfreie Biotope der Sümpfe, Flachmoore und Ufer/Grossegenried",
          "Biotypflächen 2020 nach Lebensraumkategorie und Biotoptypenschlüssel Typ 1-3/Ueberwiegend bebaute Flächen/Gebäude-, Verkehrs- und Industrieflächen/Industrie- und Gewerbefläche",
          "Biotypflächen 2020 nach Lebensraumkategorie und Biotoptypenschlüssel Typ 1-3/Feuchtgebiete/Gehölzfreie Biotope der Sümpfe, Flachmoore und Ufer/Grossegenried",
          "Biotypflächen 2020 nach Lebensraumkategorie und Biotoptypenschlüssel Typ 1-3/Wiesen und Rasen/Magerrasen/Kalk-Magerrasen",
          "Biotypflächen 2020 nach Lebensraumkategorie und Biotoptypenschlüssel Typ 1-3/Gehölze, Hecken und Gebüsche/Gebüsche und Gehölzbestände/Feldhecke",
          "Biotypflächen 2020 nach Lebensraumkategorie und Biotoptypenschlüssel Typ 1-3/Feuchtgebiete/Gehölzfreie Biotope der Sümpfe, Flachmoore und Ufer/Landröhricht",
          "Biotypflächen 2020 nach Lebensraumkategorie und Biotoptypenschlüssel Typ 1-3/Ueberwiegend bebaute Flächen/Gebäude-, Verkehrs- und Industrieflächen/Baustelle",
          "Biotypflächen 2020 nach Lebensraumkategorie und Biotoptypenschlüssel Typ 1-3/Wiesen und Rasen/Siedlungen/Scher- und Trittrasen",
          "Biotypflächen 2020 nach Lebensraumkategorie und Biotoptypenschlüssel Typ 1-3/Gehölze, Hecken und Gebüsche/Gebüsche und Gehölzbestände/Ruderalgebüsch/ Pioniergebüsch",
          "Biotypflächen 2020 nach Lebensraumkategorie und Biotoptypenschlüssel Typ 1-3/Wiesen und Rasen/Grünland/Mesophiles Grünland",
          "Biotypflächen 2020 nach Lebensraumkategorie und Biotoptypenschlüssel Typ 1-3/Gehölze, Hecken und Gebüsche/Gebüsche und Gehölzbestände/Einzelbaum",
          "Biotypflächen 2020 nach Lebensraumkategorie und Biotoptypenschlüssel Typ 1-3/Gärten/Siedlungen/Hausgarten",
          "Biotypflächen 2020 nach Lebensraumkategorie und Biotoptypenschlüssel Typ 1-3/Ueberwiegend bebaute Flächen/Gebäude-, Verkehrs- und Industrieflächen/Flachdach",
          "Biotypflächen 2020 nach Lebensraumkategorie und Biotoptypenschlüssel Typ 1-3/Kies- und Schotterflächen/Gebäude-, Verkehrs- und Industrieflächen/Befestigte Fläche",
          "Biotypflächen 2020 nach Lebensraumkategorie und Biotoptypenschlüssel Typ 1-3/Gewässer/Gewässer/Verlandungsbereich nährstoffarmer Stillgewässer",
          "Biotypflächen 2020 nach Lebensraumkategorie und Biotoptypenschlüssel Typ 1-3/Gehölze, Hecken und Gebüsche/Siedlungen/Ziergebüsch/-hecke",
          "Biotypflächen 2020 nach Lebensraumkategorie und Biotoptypenschlüssel Typ 1-3/Feuchtgebiete/Gehölzfreie Biotope der Sümpfe, Flachmoore und Ufer/Hochstaudenflur",
          "Biotypflächen 2020 nach Lebensraumkategorie und Biotoptypenschlüssel Typ 1-3/Ueberwiegend bebaute Flächen/Siedlungen/Sport-/Spiel-/Erholungsanlage",
          "Biotypflächen 2020 nach Lebensraumkategorie und Biotoptypenschlüssel Typ 1-3/Gewässer/Gewässer/Bach",
          "Biotypflächen 2020 nach Lebensraumkategorie und Biotoptypenschlüssel Typ 1-3/Ruderalfluren/Ruderalfluren/Halbruderale Gras- und Staudenflur",
          "Biotypflächen 2020 nach Lebensraumkategorie und Biotoptypenschlüssel Typ 1-3/Feuchtgebiete/Gehölzfreie Biotope der Sümpfe, Flachmoore und Ufer/Pfeifengraswiese",
          "Biotypflächen 2020 nach Lebensraumkategorie und Biotoptypenschlüssel Typ 1-3/Gehölze, Hecken und Gebüsche/Siedlungen/Einzelbaum/ Baumraster des  Siedlungsbereichs",
          "Biotypflächen 2020 nach Lebensraumkategorie und Biotoptypenschlüssel Typ 1-3/Ruderalfluren/Ruderalfluren/Artenarme Neophytenflur",
          "Biotypflächen 2020 nach Lebensraumkategorie und Biotoptypenschlüssel Typ 1-3/Feuchtgebiete/Gehölzfreie Biotope der Sümpfe, Flachmoore und Ufer/Landröhricht",
          "Biotypflächen 2020 nach Lebensraumkategorie und Biotoptypenschlüssel Typ 1-3/Wiesen und Rasen/Grünland/Mesophiles Grünland",
          "Biotypflächen 2020 nach Lebensraumkategorie und Biotoptypenschlüssel Typ 1-3/Ruderalfluren/Ruderalfluren/Halbruderale Gras- und Staudenflur",
          "Biotypflächen 2020 nach Lebensraumkategorie und Biotoptypenschlüssel Typ 1-3/Gehölze, Hecken und Gebüsche/Gebüsche und Gehölzbestände/Feldhecke",
          "Biotypflächen 2020 nach Lebensraumkategorie und Biotoptypenschlüssel Typ 1-3/Ueberwiegend bebaute Flächen/Gebäude-, Verkehrs- und Industrieflächen/Flachdach",
          "Biotypflächen 2020 nach Lebensraumkategorie und Biotoptypenschlüssel Typ 1-3/Wald/Wälder/Waldrand",
          "Biotypflächen 2020 nach Lebensraumkategorie und Biotoptypenschlüssel Typ 1-3/Obstgärten/Gebüsche und Gehölzbestände/Hochstamm-Obstgarten",
          "Biotypflächen 2020 nach Lebensraumkategorie und Biotoptypenschlüssel Typ 1-3/Feuchtgebiete/Gehölzfreie Biotope der Sümpfe, Flachmoore und Ufer/Hochstaudenflur",
          "Biotypflächen 2020 nach Lebensraumkategorie und Biotoptypenschlüssel Typ 1-3/Ueberwiegend bebaute Flächen/Gebäude-, Verkehrs- und Industrieflächen/Flachdach",
          "Biotypflächen 2020 nach Lebensraumkategorie und Biotoptypenschlüssel Typ 1-3/Ruderalfluren/Ruderalfluren/Ruderalflur",
          "Biotypflächen 2020 nach Lebensraumkategorie und Biotoptypenschlüssel Typ 1-3/Obstgärten/Gebüsche und Gehölzbestände/Hochstamm-Obstgarten",
          "Biotypflächen 2020 nach Lebensraumkategorie und Biotoptypenschlüssel Typ 1-3/Gewässer/Gewässer/Fluss",
          "Biotypflächen 2020 nach Lebensraumkategorie und Biotoptypenschlüssel Typ 1-3/Grünanlagen/Siedlungen/Parkanlage",
          "Biotypflächen 2020 nach Lebensraumkategorie und Biotoptypenschlüssel Typ 1-3/Ueberwiegend bebaute Flächen/Gebäude-, Verkehrs- und Industrieflächen/Flachdach",
          "Biotypflächen 2020 nach Lebensraumkategorie und Biotoptypenschlüssel Typ 1-3/Gewässer/Gewässer/Naturfernes Stillgewässer",
          "Biotypflächen 2020 nach Lebensraumkategorie und Biotoptypenschlüssel Typ 1-3/Familiengärten/Siedlungen/Familiengartenanlage",
          "Biotypflächen 2020 nach Lebensraumkategorie und Biotoptypenschlüssel Typ 1-3/Wald/Wälder/Seggen-Schwarzerlenbruchwald",
          "Biotypflächen 2020 nach Lebensraumkategorie und Biotoptypenschlüssel Typ 1-3/Wald/Wälder/Holzlagerfläche",
          "Biotypflächen 2020 nach Lebensraumkategorie und Biotoptypenschlüssel Typ 1-3/Äcker, Gartenbauflächen, Tiergehege/Acker- und Gartenbau-Biotope/Baumschule",
          "Biotypflächen 2020 nach Lebensraumkategorie und Biotoptypenschlüssel Typ 1-3/Ueberwiegend bebaute Flächen/Gebäude-, Verkehrs- und Industrieflächen/Befestigte Fläche",
          "Biotypflächen 2020 nach Lebensraumkategorie und Biotoptypenschlüssel Typ 1-3/Gehölze, Hecken und Gebüsche/Gebüsche und Gehölzbestände/Ruderalgebüsch/ Pioniergebüsch",
          "Biotypflächen 2020 nach Lebensraumkategorie und Biotoptypenschlüssel Typ 1-3/Wiesen und Rasen/Grünland/Nasswiese",
          "Biotypflächen 2020 nach Lebensraumkategorie und Biotoptypenschlüssel Typ 1-3/Gewässer/Gewässer/Fliessgewässer",
          "Biotypflächen 2020 nach Lebensraumkategorie und Biotoptypenschlüssel Typ 1-3/Wiesen und Rasen/Grünland/Artenarmes Grünland",
          "Biotypflächen 2020 nach Lebensraumkategorie und Biotoptypenschlüssel Typ 1-3/Äcker, Gartenbauflächen, Tiergehege/Acker- und Gartenbau-Biotope/Obstplantage",
          "Biotypflächen 2020 nach Lebensraumkategorie und Biotoptypenschlüssel Typ 1-3/Feuchtgebiete/Gehölzfreie Biotope der Sümpfe, Flachmoore und Ufer/Pfeifengraswiese",
          "Biotypflächen 2020 nach Lebensraumkategorie und Biotoptypenschlüssel Typ 1-3/Wald/Wälder/Waldrand",
          "Biotypflächen 2020 nach Lebensraumkategorie und Biotoptypenschlüssel Typ 1-3/Grünanlagen von Mehrfamilienhäusern/Siedlungen/Grünanlage von Mehrfamilienhäusern",
          "Biotypflächen 2020 nach Lebensraumkategorie und Biotoptypenschlüssel Typ 1-3/Gehölze, Hecken und Gebüsche/Siedlungen/Gehölz des Siedlungsbereichs",
          "Biotypflächen 2020 nach Lebensraumkategorie und Biotoptypenschlüssel Typ 1-3/Gehölze, Hecken und Gebüsche/Siedlungen/Ziergebüsch/-hecke",
          "Biotypflächen 2020 nach Lebensraumkategorie und Biotoptypenschlüssel Typ 1-3/Grünanlagen von Mehrfamilienhäusern/Siedlungen/Grünanlage von Mehrfamilienhäusern",
          "Biotypflächen 2020 nach Lebensraumkategorie und Biotoptypenschlüssel Typ 1-3/Wiesen und Rasen/Grünland/Mesophiles Grünland",
          "Biotypflächen 2020 nach Lebensraumkategorie und Biotoptypenschlüssel Typ 1-3/Wiesen und Rasen/Grünland/Mesophiles Grünland",
          "Biotypflächen 2020 nach Lebensraumkategorie und Biotoptypenschlüssel Typ 1-3/Äcker, Gartenbauflächen, Tiergehege/Siedlungen/Tiergehege",
          "Biotypflächen 2020 nach Lebensraumkategorie und Biotoptypenschlüssel Typ 1-3/Wald/Wälder/Wald allgemein",
          "Biotypflächen 2020 nach Lebensraumkategorie und Biotoptypenschlüssel Typ 1-3/Gehölze, Hecken und Gebüsche/Siedlungen/Ziergebüsch/-hecke",
          "Biotypflächen 2020 nach Lebensraumkategorie und Biotoptypenschlüssel Typ 1-3/Feuchtgebiete/Gehölzfreie Biotope der Sümpfe, Flachmoore und Ufer/Landröhricht",
          "Biotypflächen 2020 nach Lebensraumkategorie und Biotoptypenschlüssel Typ 1-3/Gehölze, Hecken und Gebüsche/Gebüsche und Gehölzbestände/Feldhecke",
          "Biotypflächen 2020 nach Lebensraumkategorie und Biotoptypenschlüssel Typ 1-3/Wiesen und Rasen/Magerrasen/Sonstiger Magerrasen",
          "Biotypflächen 2020 nach Lebensraumkategorie und Biotoptypenschlüssel Typ 1-3/Ruderalfluren/Ruderalfluren/Artenarme Neophytenflur",
          "Biotypflächen 2020 nach Lebensraumkategorie und Biotoptypenschlüssel Typ 1-3/Äcker, Gartenbauflächen, Tiergehege/Acker- und Gartenbau-Biotope/Gartenbaufläche",
          "Biotypflächen 2020 nach Lebensraumkategorie und Biotoptypenschlüssel Typ 1-3/Gewässer/Gewässer/Offene Wasserfläche grösserer naturnaher nährstoffarmer Stillgewässer",
          "Biotypflächen 2020 nach Lebensraumkategorie und Biotoptypenschlüssel Typ 1-3/Mauern/Gebäude-, Verkehrs- und Industrieflächen/Mauer/Wand",
          "Biotypflächen 2020 nach Lebensraumkategorie und Biotoptypenschlüssel Typ 1-3/Wiesen und Rasen/Grünland/Mesophiles Grünland",
          "Biotypflächen 2020 nach Lebensraumkategorie und Biotoptypenschlüssel Typ 1-3/Grünanlagen/Siedlungen/Friedhof",
          "Biotypflächen 2020 nach Lebensraumkategorie und Biotoptypenschlüssel Typ 1-3/Feuchtgebiete/Gehölzfreie Biotope der Sümpfe, Flachmoore und Ufer/Pfeifengraswiese",
          "Biotypflächen 2020 nach Lebensraumkategorie und Biotoptypenschlüssel Typ 1-3/Feuchtgebiete/Gehölzfreie Biotope der Sümpfe, Flachmoore und Ufer/Pioniervegetation (wechsel-)nasser Standorte/vegetationsarmer Uferbereich",
          "Biotypflächen 2020 nach Lebensraumkategorie und Biotoptypenschlüssel Typ 1-3/Gehölze, Hecken und Gebüsche/Gebüsche und Gehölzbestände/Feldhecke",
          "Biotypflächen 2020 nach Lebensraumkategorie und Biotoptypenschlüssel Typ 1-3/Gewässer/Gewässer/Naturfernes Stillgewässer",
          "Biotypflächen 2020 nach Lebensraumkategorie und Biotoptypenschlüssel Typ 1-3/Gewässer/Gewässer/Verlandungsbereich nährstoffarmer Stillgewässer",
          "Biotypflächen 2020 nach Lebensraumkategorie und Biotoptypenschlüssel Typ 1-3/Gewässer/Gewässer/Verlandungsbereich nährstoffarmer Stillgewässer",
          "Biotypflächen 2020 nach Lebensraumkategorie und Biotoptypenschlüssel Typ 1-3/Gehölze, Hecken und Gebüsche/Siedlungen/Gehölz des Siedlungsbereichs",
          "Biotypflächen 2020 nach Lebensraumkategorie und Biotoptypenschlüssel Typ 1-3/Gewässer/Gewässer/Graben",
          "Biotypflächen 2020 nach Lebensraumkategorie und Biotoptypenschlüssel Typ 1-3/Äcker, Gartenbauflächen, Tiergehege/Acker- und Gartenbau-Biotope/Obstplantage",
          "Biotypflächen 2020 nach Lebensraumkategorie und Biotoptypenschlüssel Typ 1-3/Ueberwiegend bebaute Flächen/Siedlungen/Sport-/Spiel-/Erholungsanlage",
          "Biotypflächen 2020 nach Lebensraumkategorie und Biotoptypenschlüssel Typ 1-3/Gewässer/Gewässer/Fluss",
          "Biotypflächen 2020 nach Lebensraumkategorie und Biotoptypenschlüssel Typ 1-3/Ruderalfluren/Ruderalfluren/Artenarme Neophytenflur",
          "Biotypflächen 2020 nach Lebensraumkategorie und Biotoptypenschlüssel Typ 1-3/Ueberwiegend bebaute Flächen/Gebäude-, Verkehrs- und Industrieflächen/Verkehrsfläche",
          "Biotypflächen 2020 nach Lebensraumkategorie und Biotoptypenschlüssel Typ 1-3/Ruderalfluren/Ruderalfluren/Ruderalflur",
          "Biotypflächen 2020 nach Lebensraumkategorie und Biotoptypenschlüssel Typ 1-3/Ruderalfluren/Ruderalfluren/Artenarme Neophytenflur",
          "Biotypflächen 2020 nach Lebensraumkategorie und Biotoptypenschlüssel Typ 1-3/Äcker, Gartenbauflächen, Tiergehege/Acker- und Gartenbau-Biotope/Acker",
          "Biotypflächen 2020 nach Lebensraumkategorie und Biotoptypenschlüssel Typ 1-3/Gehölze, Hecken und Gebüsche/Siedlungen/Einzelbaum/ Baumraster des  Siedlungsbereichs",
          "Biotypflächen 2020 nach Lebensraumkategorie und Biotoptypenschlüssel Typ 1-3/Gehölze, Hecken und Gebüsche/Siedlungen/Einzelbaum/ Baumraster des  Siedlungsbereichs",
          "Biotypflächen 2020 nach Lebensraumkategorie und Biotoptypenschlüssel Typ 1-3/Gehölze, Hecken und Gebüsche/Siedlungen/Einzelbaum/ Baumraster des  Siedlungsbereichs",
          "Biotypflächen 2020 nach Lebensraumkategorie und Biotoptypenschlüssel Typ 1-3/Grünanlagen/Siedlungen/Parkanlage",
          "Biotypflächen 2020 nach Lebensraumkategorie und Biotoptypenschlüssel Typ 1-3/Gehölze, Hecken und Gebüsche/Gebüsche und Gehölzbestände/Einzelbaum",
          "Biotypflächen 2020 nach Lebensraumkategorie und Biotoptypenschlüssel Typ 1-3/Wiesen und Rasen/Grünland/Artenarmes Grünland",
          "Biotypflächen 2020 nach Lebensraumkategorie und Biotoptypenschlüssel Typ 1-3/Gehölze, Hecken und Gebüsche/Gebüsche und Gehölzbestände/Weidengebüsch der Auen und Ufer",
          "Biotypflächen 2020 nach Lebensraumkategorie und Biotoptypenschlüssel Typ 1-3/Äcker, Gartenbauflächen, Tiergehege/Acker- und Gartenbau-Biotope",
          "Biotypflächen 2020 nach Lebensraumkategorie und Biotoptypenschlüssel Typ 1-3/Wald/Wälder",
          "Biotypflächen 2020 nach Lebensraumkategorie und Biotoptypenschlüssel Typ 1-3/Ruderalfluren/Ruderalfluren",
          "Biotypflächen 2020 nach Lebensraumkategorie und Biotoptypenschlüssel Typ 1-3/Wiesen und Rasen/Grünland",
          "Biotypflächen 2020 nach Lebensraumkategorie und Biotoptypenschlüssel Typ 1-3/Wiesen und Rasen/Magerrasen",
          "Biotypflächen 2020 nach Lebensraumkategorie und Biotoptypenschlüssel Typ 1-3/Gewässer/Gewässer",
          "Biotypflächen 2020 nach Lebensraumkategorie und Biotoptypenschlüssel Typ 1-3/Äcker, Gartenbauflächen, Tiergehege/Acker- und Gartenbau-Biotope",
          "Biotypflächen 2020 nach Lebensraumkategorie und Biotoptypenschlüssel Typ 1-3/Ueberwiegend bebaute Flächen/Gebäude-, Verkehrs- und Industrieflächen",
          "Biotypflächen 2020 nach Lebensraumkategorie und Biotoptypenschlüssel Typ 1-3/Beete und Rabatten/Siedlungen",
          "Biotypflächen 2020 nach Lebensraumkategorie und Biotoptypenschlüssel Typ 1-3/Kies- und Schotterflächen/Gebäude-, Verkehrs- und Industrieflächen",
          "Biotypflächen 2020 nach Lebensraumkategorie und Biotoptypenschlüssel Typ 1-3/Ueberwiegend bebaute Flächen/Gebäude-, Verkehrs- und Industrieflächen",
          "Biotypflächen 2020 nach Lebensraumkategorie und Biotoptypenschlüssel Typ 1-3/Ueberwiegend bebaute Flächen/Gebäude-, Verkehrs- und Industrieflächen",
          "Biotypflächen 2020 nach Lebensraumkategorie und Biotoptypenschlüssel Typ 1-3/Gehölze, Hecken und Gebüsche/Gebüsche und Gehölzbestände",
          "Biotypflächen 2020 nach Lebensraumkategorie und Biotoptypenschlüssel Typ 1-3/Gehölze, Hecken und Gebüsche/Siedlungen",
          "Biotypflächen 2020 nach Lebensraumkategorie und Biotoptypenschlüssel Typ 1-3/Familiengärten/Siedlungen",
          "Biotypflächen 2020 nach Lebensraumkategorie und Biotoptypenschlüssel Typ 1-3/Gehölze, Hecken und Gebüsche/Gebüsche und Gehölzbestände",
          "Biotypflächen 2020 nach Lebensraumkategorie und Biotoptypenschlüssel Typ 1-3/Ueberwiegend bebaute Flächen/Gebäude-, Verkehrs- und Industrieflächen",
          "Biotypflächen 2020 nach Lebensraumkategorie und Biotoptypenschlüssel Typ 1-3/Gewässer/Gewässer",
          "Biotypflächen 2020 nach Lebensraumkategorie und Biotoptypenschlüssel Typ 1-3/Gewässer/Gewässer",
          "Biotypflächen 2020 nach Lebensraumkategorie und Biotoptypenschlüssel Typ 1-3/Grünanlagen/Siedlungen",
          "Biotypflächen 2020 nach Lebensraumkategorie und Biotoptypenschlüssel Typ 1-3/Äcker, Gartenbauflächen, Tiergehege/Acker- und Gartenbau-Biotope",
          "Biotypflächen 2020 nach Lebensraumkategorie und Biotoptypenschlüssel Typ 1-3/Gehölze, Hecken und Gebüsche/Siedlungen",
          "Biotypflächen 2020 nach Lebensraumkategorie und Biotoptypenschlüssel Typ 1-3/Gewässer/Gewässer",
          "Biotypflächen 2020 nach Lebensraumkategorie und Biotoptypenschlüssel Typ 1-3/Feuchtgebiete/Gehölzfreie Biotope der Sümpfe, Flachmoore und Ufer",
          "Biotypflächen 2020 nach Lebensraumkategorie und Biotoptypenschlüssel Typ 1-3/Grünanlagen von Mehrfamilienhäusern/Siedlungen",
          "Biotypflächen 2020 nach Lebensraumkategorie und Biotoptypenschlüssel Typ 1-3/Ruderalfluren/Ruderalfluren",
          "Biotypflächen 2020 nach Lebensraumkategorie und Biotoptypenschlüssel Typ 1-3/Gärten/Siedlungen",
          "Biotypflächen 2020 nach Lebensraumkategorie und Biotoptypenschlüssel Typ 1-3/Obstgärten/Gebüsche und Gehölzbestände",
          "Biotypflächen 2020 nach Lebensraumkategorie und Biotoptypenschlüssel Typ 1-3/Feuchtgebiete/Gehölzfreie Biotope der Sümpfe, Flachmoore und Ufer",
          "Biotypflächen 2020 nach Lebensraumkategorie und Biotoptypenschlüssel Typ 1-3/Wald/Wälder",
          "Biotypflächen 2020 nach Lebensraumkategorie und Biotoptypenschlüssel Typ 1-3/Ueberwiegend bebaute Flächen/Gebäude-, Verkehrs- und Industrieflächen",
          "Biotypflächen 2020 nach Lebensraumkategorie und Biotoptypenschlüssel Typ 1-3/Wiesen und Rasen/Magerrasen",
          "Biotypflächen 2020 nach Lebensraumkategorie und Biotoptypenschlüssel Typ 1-3/Feuchtgebiete/Gehölzfreie Biotope der Sümpfe, Flachmoore und Ufer",
          "Biotypflächen 2020 nach Lebensraumkategorie und Biotoptypenschlüssel Typ 1-3/Äcker, Gartenbauflächen, Tiergehege/Acker- und Gartenbau-Biotope",
          "Biotypflächen 2020 nach Lebensraumkategorie und Biotoptypenschlüssel Typ 1-3/Mauern/Gebäude-, Verkehrs- und Industrieflächen",
          "Biotypflächen 2020 nach Lebensraumkategorie und Biotoptypenschlüssel Typ 1-3/Wiesen und Rasen/Grünland",
          "Biotypflächen 2020 nach Lebensraumkategorie und Biotoptypenschlüssel Typ 1-3/Gehölze, Hecken und Gebüsche/Gebüsche und Gehölzbestände",
          "Biotypflächen 2020 nach Lebensraumkategorie und Biotoptypenschlüssel Typ 1-3/Wiesen und Rasen/Grünland",
          "Biotypflächen 2020 nach Lebensraumkategorie und Biotoptypenschlüssel Typ 1-3/Gewässer/Gewässer",
          "Biotypflächen 2020 nach Lebensraumkategorie und Biotoptypenschlüssel Typ 1-3/Gehölze, Hecken und Gebüsche/Gebüsche und Gehölzbestände",
          "Biotypflächen 2020 nach Lebensraumkategorie und Biotoptypenschlüssel Typ 1-3/Gewässer/Gewässer",
          "Biotypflächen 2020 nach Lebensraumkategorie und Biotoptypenschlüssel Typ 1-3/Äcker, Gartenbauflächen, Tiergehege/Acker- und Gartenbau-Biotope",
          "Biotypflächen 2020 nach Lebensraumkategorie und Biotoptypenschlüssel Typ 1-3/Gewässer/Gewässer",
          "Biotypflächen 2020 nach Lebensraumkategorie und Biotoptypenschlüssel Typ 1-3/Grünanlagen/Siedlungen",
          "Biotypflächen 2020 nach Lebensraumkategorie und Biotoptypenschlüssel Typ 1-3/Feuchtgebiete/Gehölzfreie Biotope der Sümpfe, Flachmoore und Ufer",
          "Biotypflächen 2020 nach Lebensraumkategorie und Biotoptypenschlüssel Typ 1-3/Gewässer/Gewässer",
          "Biotypflächen 2020 nach Lebensraumkategorie und Biotoptypenschlüssel Typ 1-3/Feuchtgebiete/Gehölzfreie Biotope der Sümpfe, Flachmoore und Ufer",
          "Biotypflächen 2020 nach Lebensraumkategorie und Biotoptypenschlüssel Typ 1-3/Ruderalfluren/Ruderalfluren",
          "Biotypflächen 2020 nach Lebensraumkategorie und Biotoptypenschlüssel Typ 1-3/Gehölze, Hecken und Gebüsche/Gebüsche und Gehölzbestände",
          "Biotypflächen 2020 nach Lebensraumkategorie und Biotoptypenschlüssel Typ 1-3/Wiesen und Rasen/Siedlungen",
          "Biotypflächen 2020 nach Lebensraumkategorie und Biotoptypenschlüssel Typ 1-3/Wald/Wälder",
          "Biotypflächen 2020 nach Lebensraumkategorie und Biotoptypenschlüssel Typ 1-3/Wiesen und Rasen/Magerrasen",
          "Biotypflächen 2020 nach Lebensraumkategorie und Biotoptypenschlüssel Typ 1-3/Ueberwiegend bebaute Flächen/Siedlungen",
          "Biotypflächen 2020 nach Lebensraumkategorie und Biotoptypenschlüssel Typ 1-3/Äcker, Gartenbauflächen, Tiergehege/Siedlungen",
          "Biotypflächen 2020 nach Lebensraumkategorie und Biotoptypenschlüssel Typ 1-3/Wald/Wälder",
          "Biotypflächen 2020 nach Lebensraumkategorie und Biotoptypenschlüssel Typ 1-3/Feuchtgebiete/Gehölzfreie Biotope der Sümpfe, Flachmoore und Ufer",
          "Biotypflächen 2020 nach Lebensraumkategorie und Biotoptypenschlüssel Typ 1-3/Ueberwiegend bebaute Flächen/Gebäude-, Verkehrs- und Industrieflächen",
          "Biotypflächen 2020 nach Lebensraumkategorie und Biotoptypenschlüssel Typ 1-3/Gewässer/Gewässer",
          "Biotypflächen 2020 nach Lebensraumkategorie und Biotoptypenschlüssel Typ 1-3/Wald/Wälder",
          "Biotypflächen 2020 nach Lebensraumkategorie und Biotoptypenschlüssel Typ 1-3/Wald/Wälder",
          "Biotypflächen 2020 nach Lebensraumkategorie und Biotoptypenschlüssel Typ 1-3/Gehölze, Hecken und Gebüsche/Gebüsche und Gehölzbestände",
          "Biotypflächen 2020 nach Lebensraumkategorie und Biotoptypenschlüssel Typ 1-3/Gehölze, Hecken und Gebüsche/Siedlungen",
          "Biotypflächen 2020 nach Lebensraumkategorie und Biotoptypenschlüssel Typ 1-3/Gehölze, Hecken und Gebüsche/Gebüsche und Gehölzbestände",
          "Biotypflächen 2020 nach Lebensraumkategorie und Biotoptypenschlüssel Typ 1-3/Äcker, Gartenbauflächen, Tiergehege",
          "Biotypflächen 2020 nach Lebensraumkategorie und Biotoptypenschlüssel Typ 1-3/Kies- und Schotterflächen",
          "Biotypflächen 2020 nach Lebensraumkategorie und Biotoptypenschlüssel Typ 1-3/Mauern",
          "Biotypflächen 2020 nach Lebensraumkategorie und Biotoptypenschlüssel Typ 1-3/Ueberwiegend bebaute Flächen",
          "Biotypflächen 2020 nach Lebensraumkategorie und Biotoptypenschlüssel Typ 1-3/Gehölze, Hecken und Gebüsche",
          "Biotypflächen 2020 nach Lebensraumkategorie und Biotoptypenschlüssel Typ 1-3/Obstgärten",
          "Biotypflächen 2020 nach Lebensraumkategorie und Biotoptypenschlüssel Typ 1-3/Feuchtgebiete",
          "Biotypflächen 2020 nach Lebensraumkategorie und Biotoptypenschlüssel Typ 1-3/Gewässer",
          "Biotypflächen 2020 nach Lebensraumkategorie und Biotoptypenschlüssel Typ 1-3/Wiesen und Rasen",
          "Biotypflächen 2020 nach Lebensraumkategorie und Biotoptypenschlüssel Typ 1-3/Wiesen und Rasen",
          "Biotypflächen 2020 nach Lebensraumkategorie und Biotoptypenschlüssel Typ 1-3/Ruderalfluren",
          "Biotypflächen 2020 nach Lebensraumkategorie und Biotoptypenschlüssel Typ 1-3/Beete und Rabatten",
          "Biotypflächen 2020 nach Lebensraumkategorie und Biotoptypenschlüssel Typ 1-3/Familiengärten",
          "Biotypflächen 2020 nach Lebensraumkategorie und Biotoptypenschlüssel Typ 1-3/Gehölze, Hecken und Gebüsche",
          "Biotypflächen 2020 nach Lebensraumkategorie und Biotoptypenschlüssel Typ 1-3/Grünanlagen",
          "Biotypflächen 2020 nach Lebensraumkategorie und Biotoptypenschlüssel Typ 1-3/Grünanlagen von Mehrfamilienhäusern",
          "Biotypflächen 2020 nach Lebensraumkategorie und Biotoptypenschlüssel Typ 1-3/Gärten",
          "Biotypflächen 2020 nach Lebensraumkategorie und Biotoptypenschlüssel Typ 1-3/Ueberwiegend bebaute Flächen",
          "Biotypflächen 2020 nach Lebensraumkategorie und Biotoptypenschlüssel Typ 1-3/Wiesen und Rasen",
          "Biotypflächen 2020 nach Lebensraumkategorie und Biotoptypenschlüssel Typ 1-3/Äcker, Gartenbauflächen, Tiergehege",
          "Biotypflächen 2020 nach Lebensraumkategorie und Biotoptypenschlüssel Typ 1-3/Wald",
          "Biotypflächen 2020 nach Lebensraumkategorie und Biotoptypenschlüssel Typ 1-3",
          "Biotypflächen 2020 nach Lebensraumkategorie und Biotoptypenschlüssel Typ 1-3",
          "Biotypflächen 2020 nach Lebensraumkategorie und Biotoptypenschlüssel Typ 1-3",
          "Biotypflächen 2020 nach Lebensraumkategorie und Biotoptypenschlüssel Typ 1-3",
          "Biotypflächen 2020 nach Lebensraumkategorie und Biotoptypenschlüssel Typ 1-3",
          "Biotypflächen 2020 nach Lebensraumkategorie und Biotoptypenschlüssel Typ 1-3",
          "Biotypflächen 2020 nach Lebensraumkategorie und Biotoptypenschlüssel Typ 1-3",
          "Biotypflächen 2020 nach Lebensraumkategorie und Biotoptypenschlüssel Typ 1-3",
          "Biotypflächen 2020 nach Lebensraumkategorie und Biotoptypenschlüssel Typ 1-3",
          "Biotypflächen 2020 nach Lebensraumkategorie und Biotoptypenschlüssel Typ 1-3",
          "Biotypflächen 2020 nach Lebensraumkategorie und Biotoptypenschlüssel Typ 1-3",
          "Biotypflächen 2020 nach Lebensraumkategorie und Biotoptypenschlüssel Typ 1-3",
          "Biotypflächen 2020 nach Lebensraumkategorie und Biotoptypenschlüssel Typ 1-3",
          "Biotypflächen 2020 nach Lebensraumkategorie und Biotoptypenschlüssel Typ 1-3",
          "Biotypflächen 2020 nach Lebensraumkategorie und Biotoptypenschlüssel Typ 1-3",
          "Biotypflächen 2020 nach Lebensraumkategorie und Biotoptypenschlüssel Typ 1-3",
          ""
         ],
         "root": {
          "color": "grey"
         },
         "type": "treemap",
         "values": [
          91728.85662336108,
          27501.450802931715,
          159109.51795258478,
          1264.8473029230227,
          96467.90029750466,
          352910.69577351114,
          24586.287606289614,
          16169.521133123571,
          94513.01237812685,
          38096.11336509397,
          220.4402248766232,
          2890565.7907430194,
          30180.694287956892,
          37273.28974560195,
          96577.15014311217,
          1924.0868211776692,
          918914.5857147012,
          140998.85578435825,
          190727.4074851841,
          1318.2535206156513,
          549397.8679145633,
          111.87213679781716,
          38650.92904022757,
          69123.9738776447,
          385622.64171441185,
          265620.8302921334,
          40680.8836154732,
          9268.697501295248,
          1010595.955613605,
          1578023.0092440115,
          89193.36536717521,
          33690.41863526298,
          451042.9664787677,
          63205.12055369359,
          33973.095913702025,
          588771.3066388996,
          94453.88559192563,
          53644.200665900586,
          923458.4135663413,
          23344.891483851417,
          403736.53233765136,
          3640.676812635949,
          88777.57088741209,
          44857.65892645256,
          21347.98372443171,
          4503.217700897957,
          488429.80136541865,
          269846.23976828926,
          334.3499991642731,
          9297.359926138752,
          17890.45391563421,
          363293.4529967553,
          172371.19703856827,
          184779.9750187551,
          2193633.88441025,
          32076.9603981509,
          9930630.363919077,
          26846.99117884156,
          3107.309331304658,
          22887.51932417301,
          50403.34163895831,
          26159.134200301243,
          12182.396713862427,
          54949.26394448965,
          1090505.6633447874,
          7540.335508777553,
          1304851.2454321254,
          8163.304187465388,
          19802.179468659677,
          529.1431933543388,
          27560.664474167294,
          15437.835226656643,
          61722.878463897294,
          5570.276098159063,
          120950.98939509856,
          35006.30649006192,
          10091.617873441559,
          1034.5109915917774,
          250001.66292319723,
          3852.097230767955,
          528.5378966695422,
          162344.15704512526,
          451353.0595539988,
          99600.13173119299,
          363.0047470368304,
          3619.006069589521,
          13103.986580308681,
          65118.237006713854,
          1388.2192938650912,
          569247.9527578861,
          539462.7694293865,
          126818.067538546,
          315309.5647496528,
          242.16611597438242,
          3397216.945910547,
          1571613.8570536468,
          3402.6948706309145,
          2742.167528917179,
          124405.32971426453,
          8164996.99372697,
          14068.78492529858,
          645.3656440788006,
          75834.43911898544,
          26517.983956227625,
          7327.294524323805,
          3229.1712348563424,
          145.2848394836369,
          4631274.275034228,
          173408.83399810147,
          122285.34955319953,
          3714592.6198853157,
          33804.47699788806,
          3733.214314279605,
          16412.479561125954,
          21385589.492562693,
          113591.48493441263,
          38796.58981692612,
          118974.49476260593,
          34077.24528513236,
          6593.311659840511,
          42479.18798006694,
          168326.95236940234,
          3254.2653870818085,
          583691.2542488886,
          453041.202578402,
          30814.396913349283,
          121.50956944851139,
          4927.361186369983,
          65253.465106282776,
          491.17511779627085,
          308.9978408550244,
          21846.649248315334,
          8660.245137549795,
          117666.06504922677,
          482633.58544248407,
          186232.68855786187,
          4597.463633836908,
          506458.8591435618,
          36670.22662847536,
          325.32378550419827,
          2813446.551700476,
          59158.96294193625,
          181912.15458520132,
          159829.59638350748,
          371571.91547598864,
          6873.346343103778,
          2820371.0429771333,
          13691.457203071946,
          2817087.228513112,
          220.4402248766232,
          15368.196309949573,
          3232511.6686477726,
          334.3499991642731,
          165164.62542282956,
          124405.32971426453,
          54949.26394448965,
          88777.57088741209,
          2529042.0872845203,
          9858818.141571399,
          9930630.363919077,
          15036.650530569166,
          1750724.424587452,
          1571613.8570536468,
          288312.05092069774,
          5105.6341737693165,
          75834.43911898544,
          676344.2090931631,
          453041.202578402,
          87336.8469065195,
          1114170.068961118,
          8660.245137549795,
          95668.78183373589,
          8345866.894919544,
          735418.0178133707,
          5753284.486488353,
          724937.9530482634,
          88578.96702050713,
          2742.167528917179,
          3107.309331304658,
          50403.34163895831,
          51507.52442745809,
          23344.891483851417,
          3254.2653870818085,
          2473412.004209969,
          38096.11336509397,
          645.3656440788006,
          3462470.41101683,
          53644.200665900586,
          37273.28974560195,
          262251.393332136,
          168326.95236940234,
          686881.4802256415,
          35078.0791397974,
          4503.217700897957,
          121.50956944851139,
          862205.9138063418,
          37778.6415671997,
          1356126.4936369208,
          3402.6948706309145,
          64257.93957308926,
          603584.5748375827,
          16412.479561125954,
          111.87213679781716,
          9297.359926138752,
          506458.8591435618,
          593137.3269028029,
          21385589.492562693,
          13032.988410368405,
          13691.457203071946,
          748642.6794302771,
          1924.0868211776692,
          3314425.6899498836,
          2529042.0872845203,
          3254.2653870818085,
          20359069.572083604,
          448483.20107371075,
          724937.9530482634,
          280252.22191708576,
          5191714.716508063,
          5706569.0385018205,
          114995.63121121185,
          1612992.1279296621,
          88777.57088741209,
          1571613.8570536468,
          3613537.1729788473,
          1139922.6828040434,
          8345866.894919544,
          5753284.486488353,
          603584.5748375827,
          1356126.4936369208,
          16412.479561125954,
          21405099.655734282,
          88777.57088741209,
          1571613.8570536468,
          280252.22191708576,
          4062020.374052558,
          5191714.716508063,
          1139922.6828040434,
          8345866.894919544,
          5753284.486488353,
          2529042.0872845203,
          3254.2653870818085,
          724937.9530482634,
          1612992.1279296621,
          20962654.146921184,
          21405099.655734282,
          7177691.163349953,
          3330838.1695110095,
          84179962.37379667
         ]
        }
       ],
       "layout": {
        "height": 500,
        "legend": {
         "tracegroupgap": 0
        },
        "margin": {
         "b": 25,
         "l": 25,
         "r": 250,
         "t": 50
        },
        "template": {
         "data": {
          "bar": [
           {
            "error_x": {
             "color": "#2a3f5f"
            },
            "error_y": {
             "color": "#2a3f5f"
            },
            "marker": {
             "line": {
              "color": "#E5ECF6",
              "width": 0.5
             },
             "pattern": {
              "fillmode": "overlay",
              "size": 10,
              "solidity": 0.2
             }
            },
            "type": "bar"
           }
          ],
          "barpolar": [
           {
            "marker": {
             "line": {
              "color": "#E5ECF6",
              "width": 0.5
             },
             "pattern": {
              "fillmode": "overlay",
              "size": 10,
              "solidity": 0.2
             }
            },
            "type": "barpolar"
           }
          ],
          "carpet": [
           {
            "aaxis": {
             "endlinecolor": "#2a3f5f",
             "gridcolor": "white",
             "linecolor": "white",
             "minorgridcolor": "white",
             "startlinecolor": "#2a3f5f"
            },
            "baxis": {
             "endlinecolor": "#2a3f5f",
             "gridcolor": "white",
             "linecolor": "white",
             "minorgridcolor": "white",
             "startlinecolor": "#2a3f5f"
            },
            "type": "carpet"
           }
          ],
          "choropleth": [
           {
            "colorbar": {
             "outlinewidth": 0,
             "ticks": ""
            },
            "type": "choropleth"
           }
          ],
          "contour": [
           {
            "colorbar": {
             "outlinewidth": 0,
             "ticks": ""
            },
            "colorscale": [
             [
              0,
              "#0d0887"
             ],
             [
              0.1111111111111111,
              "#46039f"
             ],
             [
              0.2222222222222222,
              "#7201a8"
             ],
             [
              0.3333333333333333,
              "#9c179e"
             ],
             [
              0.4444444444444444,
              "#bd3786"
             ],
             [
              0.5555555555555556,
              "#d8576b"
             ],
             [
              0.6666666666666666,
              "#ed7953"
             ],
             [
              0.7777777777777778,
              "#fb9f3a"
             ],
             [
              0.8888888888888888,
              "#fdca26"
             ],
             [
              1,
              "#f0f921"
             ]
            ],
            "type": "contour"
           }
          ],
          "contourcarpet": [
           {
            "colorbar": {
             "outlinewidth": 0,
             "ticks": ""
            },
            "type": "contourcarpet"
           }
          ],
          "heatmap": [
           {
            "colorbar": {
             "outlinewidth": 0,
             "ticks": ""
            },
            "colorscale": [
             [
              0,
              "#0d0887"
             ],
             [
              0.1111111111111111,
              "#46039f"
             ],
             [
              0.2222222222222222,
              "#7201a8"
             ],
             [
              0.3333333333333333,
              "#9c179e"
             ],
             [
              0.4444444444444444,
              "#bd3786"
             ],
             [
              0.5555555555555556,
              "#d8576b"
             ],
             [
              0.6666666666666666,
              "#ed7953"
             ],
             [
              0.7777777777777778,
              "#fb9f3a"
             ],
             [
              0.8888888888888888,
              "#fdca26"
             ],
             [
              1,
              "#f0f921"
             ]
            ],
            "type": "heatmap"
           }
          ],
          "heatmapgl": [
           {
            "colorbar": {
             "outlinewidth": 0,
             "ticks": ""
            },
            "colorscale": [
             [
              0,
              "#0d0887"
             ],
             [
              0.1111111111111111,
              "#46039f"
             ],
             [
              0.2222222222222222,
              "#7201a8"
             ],
             [
              0.3333333333333333,
              "#9c179e"
             ],
             [
              0.4444444444444444,
              "#bd3786"
             ],
             [
              0.5555555555555556,
              "#d8576b"
             ],
             [
              0.6666666666666666,
              "#ed7953"
             ],
             [
              0.7777777777777778,
              "#fb9f3a"
             ],
             [
              0.8888888888888888,
              "#fdca26"
             ],
             [
              1,
              "#f0f921"
             ]
            ],
            "type": "heatmapgl"
           }
          ],
          "histogram": [
           {
            "marker": {
             "pattern": {
              "fillmode": "overlay",
              "size": 10,
              "solidity": 0.2
             }
            },
            "type": "histogram"
           }
          ],
          "histogram2d": [
           {
            "colorbar": {
             "outlinewidth": 0,
             "ticks": ""
            },
            "colorscale": [
             [
              0,
              "#0d0887"
             ],
             [
              0.1111111111111111,
              "#46039f"
             ],
             [
              0.2222222222222222,
              "#7201a8"
             ],
             [
              0.3333333333333333,
              "#9c179e"
             ],
             [
              0.4444444444444444,
              "#bd3786"
             ],
             [
              0.5555555555555556,
              "#d8576b"
             ],
             [
              0.6666666666666666,
              "#ed7953"
             ],
             [
              0.7777777777777778,
              "#fb9f3a"
             ],
             [
              0.8888888888888888,
              "#fdca26"
             ],
             [
              1,
              "#f0f921"
             ]
            ],
            "type": "histogram2d"
           }
          ],
          "histogram2dcontour": [
           {
            "colorbar": {
             "outlinewidth": 0,
             "ticks": ""
            },
            "colorscale": [
             [
              0,
              "#0d0887"
             ],
             [
              0.1111111111111111,
              "#46039f"
             ],
             [
              0.2222222222222222,
              "#7201a8"
             ],
             [
              0.3333333333333333,
              "#9c179e"
             ],
             [
              0.4444444444444444,
              "#bd3786"
             ],
             [
              0.5555555555555556,
              "#d8576b"
             ],
             [
              0.6666666666666666,
              "#ed7953"
             ],
             [
              0.7777777777777778,
              "#fb9f3a"
             ],
             [
              0.8888888888888888,
              "#fdca26"
             ],
             [
              1,
              "#f0f921"
             ]
            ],
            "type": "histogram2dcontour"
           }
          ],
          "mesh3d": [
           {
            "colorbar": {
             "outlinewidth": 0,
             "ticks": ""
            },
            "type": "mesh3d"
           }
          ],
          "parcoords": [
           {
            "line": {
             "colorbar": {
              "outlinewidth": 0,
              "ticks": ""
             }
            },
            "type": "parcoords"
           }
          ],
          "pie": [
           {
            "automargin": true,
            "type": "pie"
           }
          ],
          "scatter": [
           {
            "marker": {
             "colorbar": {
              "outlinewidth": 0,
              "ticks": ""
             }
            },
            "type": "scatter"
           }
          ],
          "scatter3d": [
           {
            "line": {
             "colorbar": {
              "outlinewidth": 0,
              "ticks": ""
             }
            },
            "marker": {
             "colorbar": {
              "outlinewidth": 0,
              "ticks": ""
             }
            },
            "type": "scatter3d"
           }
          ],
          "scattercarpet": [
           {
            "marker": {
             "colorbar": {
              "outlinewidth": 0,
              "ticks": ""
             }
            },
            "type": "scattercarpet"
           }
          ],
          "scattergeo": [
           {
            "marker": {
             "colorbar": {
              "outlinewidth": 0,
              "ticks": ""
             }
            },
            "type": "scattergeo"
           }
          ],
          "scattergl": [
           {
            "marker": {
             "colorbar": {
              "outlinewidth": 0,
              "ticks": ""
             }
            },
            "type": "scattergl"
           }
          ],
          "scattermapbox": [
           {
            "marker": {
             "colorbar": {
              "outlinewidth": 0,
              "ticks": ""
             }
            },
            "type": "scattermapbox"
           }
          ],
          "scatterpolar": [
           {
            "marker": {
             "colorbar": {
              "outlinewidth": 0,
              "ticks": ""
             }
            },
            "type": "scatterpolar"
           }
          ],
          "scatterpolargl": [
           {
            "marker": {
             "colorbar": {
              "outlinewidth": 0,
              "ticks": ""
             }
            },
            "type": "scatterpolargl"
           }
          ],
          "scatterternary": [
           {
            "marker": {
             "colorbar": {
              "outlinewidth": 0,
              "ticks": ""
             }
            },
            "type": "scatterternary"
           }
          ],
          "surface": [
           {
            "colorbar": {
             "outlinewidth": 0,
             "ticks": ""
            },
            "colorscale": [
             [
              0,
              "#0d0887"
             ],
             [
              0.1111111111111111,
              "#46039f"
             ],
             [
              0.2222222222222222,
              "#7201a8"
             ],
             [
              0.3333333333333333,
              "#9c179e"
             ],
             [
              0.4444444444444444,
              "#bd3786"
             ],
             [
              0.5555555555555556,
              "#d8576b"
             ],
             [
              0.6666666666666666,
              "#ed7953"
             ],
             [
              0.7777777777777778,
              "#fb9f3a"
             ],
             [
              0.8888888888888888,
              "#fdca26"
             ],
             [
              1,
              "#f0f921"
             ]
            ],
            "type": "surface"
           }
          ],
          "table": [
           {
            "cells": {
             "fill": {
              "color": "#EBF0F8"
             },
             "line": {
              "color": "white"
             }
            },
            "header": {
             "fill": {
              "color": "#C8D4E3"
             },
             "line": {
              "color": "white"
             }
            },
            "type": "table"
           }
          ]
         },
         "layout": {
          "annotationdefaults": {
           "arrowcolor": "#2a3f5f",
           "arrowhead": 0,
           "arrowwidth": 1
          },
          "autotypenumbers": "strict",
          "coloraxis": {
           "colorbar": {
            "outlinewidth": 0,
            "ticks": ""
           }
          },
          "colorscale": {
           "diverging": [
            [
             0,
             "#8e0152"
            ],
            [
             0.1,
             "#c51b7d"
            ],
            [
             0.2,
             "#de77ae"
            ],
            [
             0.3,
             "#f1b6da"
            ],
            [
             0.4,
             "#fde0ef"
            ],
            [
             0.5,
             "#f7f7f7"
            ],
            [
             0.6,
             "#e6f5d0"
            ],
            [
             0.7,
             "#b8e186"
            ],
            [
             0.8,
             "#7fbc41"
            ],
            [
             0.9,
             "#4d9221"
            ],
            [
             1,
             "#276419"
            ]
           ],
           "sequential": [
            [
             0,
             "#0d0887"
            ],
            [
             0.1111111111111111,
             "#46039f"
            ],
            [
             0.2222222222222222,
             "#7201a8"
            ],
            [
             0.3333333333333333,
             "#9c179e"
            ],
            [
             0.4444444444444444,
             "#bd3786"
            ],
            [
             0.5555555555555556,
             "#d8576b"
            ],
            [
             0.6666666666666666,
             "#ed7953"
            ],
            [
             0.7777777777777778,
             "#fb9f3a"
            ],
            [
             0.8888888888888888,
             "#fdca26"
            ],
            [
             1,
             "#f0f921"
            ]
           ],
           "sequentialminus": [
            [
             0,
             "#0d0887"
            ],
            [
             0.1111111111111111,
             "#46039f"
            ],
            [
             0.2222222222222222,
             "#7201a8"
            ],
            [
             0.3333333333333333,
             "#9c179e"
            ],
            [
             0.4444444444444444,
             "#bd3786"
            ],
            [
             0.5555555555555556,
             "#d8576b"
            ],
            [
             0.6666666666666666,
             "#ed7953"
            ],
            [
             0.7777777777777778,
             "#fb9f3a"
            ],
            [
             0.8888888888888888,
             "#fdca26"
            ],
            [
             1,
             "#f0f921"
            ]
           ]
          },
          "colorway": [
           "#636efa",
           "#EF553B",
           "#00cc96",
           "#ab63fa",
           "#FFA15A",
           "#19d3f3",
           "#FF6692",
           "#B6E880",
           "#FF97FF",
           "#FECB52"
          ],
          "font": {
           "color": "#2a3f5f"
          },
          "geo": {
           "bgcolor": "white",
           "lakecolor": "white",
           "landcolor": "#E5ECF6",
           "showlakes": true,
           "showland": true,
           "subunitcolor": "white"
          },
          "hoverlabel": {
           "align": "left"
          },
          "hovermode": "closest",
          "mapbox": {
           "style": "light"
          },
          "paper_bgcolor": "white",
          "plot_bgcolor": "#E5ECF6",
          "polar": {
           "angularaxis": {
            "gridcolor": "white",
            "linecolor": "white",
            "ticks": ""
           },
           "bgcolor": "#E5ECF6",
           "radialaxis": {
            "gridcolor": "white",
            "linecolor": "white",
            "ticks": ""
           }
          },
          "scene": {
           "xaxis": {
            "backgroundcolor": "#E5ECF6",
            "gridcolor": "white",
            "gridwidth": 2,
            "linecolor": "white",
            "showbackground": true,
            "ticks": "",
            "zerolinecolor": "white"
           },
           "yaxis": {
            "backgroundcolor": "#E5ECF6",
            "gridcolor": "white",
            "gridwidth": 2,
            "linecolor": "white",
            "showbackground": true,
            "ticks": "",
            "zerolinecolor": "white"
           },
           "zaxis": {
            "backgroundcolor": "#E5ECF6",
            "gridcolor": "white",
            "gridwidth": 2,
            "linecolor": "white",
            "showbackground": true,
            "ticks": "",
            "zerolinecolor": "white"
           }
          },
          "shapedefaults": {
           "line": {
            "color": "#2a3f5f"
           }
          },
          "ternary": {
           "aaxis": {
            "gridcolor": "white",
            "linecolor": "white",
            "ticks": ""
           },
           "baxis": {
            "gridcolor": "white",
            "linecolor": "white",
            "ticks": ""
           },
           "bgcolor": "#E5ECF6",
           "caxis": {
            "gridcolor": "white",
            "linecolor": "white",
            "ticks": ""
           }
          },
          "title": {
           "x": 0.05
          },
          "xaxis": {
           "automargin": true,
           "gridcolor": "white",
           "linecolor": "white",
           "ticks": "",
           "title": {
            "standoff": 15
           },
           "zerolinecolor": "white",
           "zerolinewidth": 2
          },
          "yaxis": {
           "automargin": true,
           "gridcolor": "white",
           "linecolor": "white",
           "ticks": "",
           "title": {
            "standoff": 15
           },
           "zerolinecolor": "white",
           "zerolinewidth": 2
          }
         }
        },
        "width": 1300
       }
      },
      "image/png": "[encoded data removed]",
      "text/html": [
       "<div>                            <div id=\"c4ba014b-875a-4741-8bea-bc669784cbf1\" class=\"plotly-graph-div\" style=\"height:500px; width:1300px;\"></div>            <script type=\"text/javascript\">                require([\"plotly\"], function(Plotly) {                    window.PLOTLYENV=window.PLOTLYENV || {};                                    if (document.getElementById(\"c4ba014b-875a-4741-8bea-bc669784cbf1\")) {                    Plotly.newPlot(                        \"c4ba014b-875a-4741-8bea-bc669784cbf1\",                        [{\"branchvalues\":\"total\",\"customdata\":[[\"Siedlungen\"],[\"Gew\\u00e4sser\"],[\"Ruderalfluren\"],[\"Geb\\u00e4ude-, Verkehrs- und Industriefl\\u00e4chen\"],[\"Gew\\u00e4sser\"],[\"Gr\\u00fcnland\"],[\"Geh\\u00f6lzfreie Biotope der S\\u00fcmpfe, Flachmoore und Ufer\"],[\"Geb\\u00fcsche und Geh\\u00f6lzbest\\u00e4nde\"],[\"Siedlungen\"],[\"Geb\\u00fcsche und Geh\\u00f6lzbest\\u00e4nde\"],[\"W\\u00e4lder\"],[\"Siedlungen\"],[\"Magerrasen\"],[\"Gew\\u00e4sser\"],[\"Acker- und Gartenbau-Biotope\"],[\"Geb\\u00fcsche und Geh\\u00f6lzbest\\u00e4nde\"],[\"Siedlungen\"],[\"Siedlungen\"],[\"Siedlungen\"],[\"Geb\\u00e4ude-, Verkehrs- und Industriefl\\u00e4chen\"],[\"Gew\\u00e4sser\"],[\"W\\u00e4lder\"],[\"Geb\\u00fcsche und Geh\\u00f6lzbest\\u00e4nde\"],[\"Siedlungen\"],[\"Gr\\u00fcnland\"],[\"Siedlungen\"],[\"Acker- und Gartenbau-Biotope\"],[\"W\\u00e4lder\"],[\"Geb\\u00e4ude-, Verkehrs- und Industriefl\\u00e4chen\"],[\"Geb\\u00e4ude-, Verkehrs- und Industriefl\\u00e4chen\"],[\"Ruderalfluren\"],[\"Gew\\u00e4sser\"],[\"Siedlungen\"],[\"Ruderalfluren\"],[\"Ruderalfluren\"],[\"Geb\\u00e4ude-, Verkehrs- und Industriefl\\u00e4chen\"],[\"Geb\\u00e4ude-, Verkehrs- und Industriefl\\u00e4chen\"],[\"Geb\\u00fcsche und Geh\\u00f6lzbest\\u00e4nde\"],[\"Geb\\u00e4ude-, Verkehrs- und Industriefl\\u00e4chen\"],[\"Acker- und Gartenbau-Biotope\"],[\"Siedlungen\"],[\"Acker- und Gartenbau-Biotope\"],[\"Siedlungen\"],[\"Acker- und Gartenbau-Biotope\"],[\"Geh\\u00f6lzfreie Biotope der S\\u00fcmpfe, Flachmoore und Ufer\"],[\"Gew\\u00e4sser\"],[\"Siedlungen\"],[\"Siedlungen\"],[\"Magerrasen\"],[\"Geh\\u00f6lzfreie Biotope der S\\u00fcmpfe, Flachmoore und Ufer\"],[\"Geh\\u00f6lzfreie Biotope der S\\u00fcmpfe, Flachmoore und Ufer\"],[\"Gew\\u00e4sser\"],[\"Geb\\u00fcsche und Geh\\u00f6lzbest\\u00e4nde\"],[\"Ruderalfluren\"],[\"Siedlungen\"],[\"Gr\\u00fcnland\"],[\"Geb\\u00e4ude-, Verkehrs- und Industriefl\\u00e4chen\"],[\"Geh\\u00f6lzfreie Biotope der S\\u00fcmpfe, Flachmoore und Ufer\"],[\"Geb\\u00e4ude-, Verkehrs- und Industriefl\\u00e4chen\"],[\"Geh\\u00f6lzfreie Biotope der S\\u00fcmpfe, Flachmoore und Ufer\"],[\"Magerrasen\"],[\"Geb\\u00fcsche und Geh\\u00f6lzbest\\u00e4nde\"],[\"Geh\\u00f6lzfreie Biotope der S\\u00fcmpfe, Flachmoore und Ufer\"],[\"Geb\\u00e4ude-, Verkehrs- und Industriefl\\u00e4chen\"],[\"Siedlungen\"],[\"Geb\\u00fcsche und Geh\\u00f6lzbest\\u00e4nde\"],[\"Gr\\u00fcnland\"],[\"Geb\\u00fcsche und Geh\\u00f6lzbest\\u00e4nde\"],[\"Siedlungen\"],[\"Geb\\u00e4ude-, Verkehrs- und Industriefl\\u00e4chen\"],[\"Geb\\u00e4ude-, Verkehrs- und Industriefl\\u00e4chen\"],[\"Gew\\u00e4sser\"],[\"Siedlungen\"],[\"Geh\\u00f6lzfreie Biotope der S\\u00fcmpfe, Flachmoore und Ufer\"],[\"Siedlungen\"],[\"Gew\\u00e4sser\"],[\"Ruderalfluren\"],[\"Geh\\u00f6lzfreie Biotope der S\\u00fcmpfe, Flachmoore und Ufer\"],[\"Siedlungen\"],[\"Ruderalfluren\"],[\"Geh\\u00f6lzfreie Biotope der S\\u00fcmpfe, Flachmoore und Ufer\"],[\"Gr\\u00fcnland\"],[\"Ruderalfluren\"],[\"Geb\\u00fcsche und Geh\\u00f6lzbest\\u00e4nde\"],[\"Geb\\u00e4ude-, Verkehrs- und Industriefl\\u00e4chen\"],[\"W\\u00e4lder\"],[\"Geb\\u00fcsche und Geh\\u00f6lzbest\\u00e4nde\"],[\"Geh\\u00f6lzfreie Biotope der S\\u00fcmpfe, Flachmoore und Ufer\"],[\"Geb\\u00e4ude-, Verkehrs- und Industriefl\\u00e4chen\"],[\"Ruderalfluren\"],[\"Geb\\u00fcsche und Geh\\u00f6lzbest\\u00e4nde\"],[\"Gew\\u00e4sser\"],[\"Siedlungen\"],[\"Geb\\u00e4ude-, Verkehrs- und Industriefl\\u00e4chen\"],[\"Gew\\u00e4sser\"],[\"Siedlungen\"],[\"W\\u00e4lder\"],[\"W\\u00e4lder\"],[\"Acker- und Gartenbau-Biotope\"],[\"Geb\\u00e4ude-, Verkehrs- und Industriefl\\u00e4chen\"],[\"Geb\\u00fcsche und Geh\\u00f6lzbest\\u00e4nde\"],[\"Gr\\u00fcnland\"],[\"Gew\\u00e4sser\"],[\"Gr\\u00fcnland\"],[\"Acker- und Gartenbau-Biotope\"],[\"Geh\\u00f6lzfreie Biotope der S\\u00fcmpfe, Flachmoore und Ufer\"],[\"W\\u00e4lder\"],[\"Siedlungen\"],[\"Siedlungen\"],[\"Siedlungen\"],[\"Siedlungen\"],[\"Gr\\u00fcnland\"],[\"Gr\\u00fcnland\"],[\"Siedlungen\"],[\"W\\u00e4lder\"],[\"Siedlungen\"],[\"Geh\\u00f6lzfreie Biotope der S\\u00fcmpfe, Flachmoore und Ufer\"],[\"Geb\\u00fcsche und Geh\\u00f6lzbest\\u00e4nde\"],[\"Magerrasen\"],[\"Ruderalfluren\"],[\"Acker- und Gartenbau-Biotope\"],[\"Gew\\u00e4sser\"],[\"Geb\\u00e4ude-, Verkehrs- und Industriefl\\u00e4chen\"],[\"Gr\\u00fcnland\"],[\"Siedlungen\"],[\"Geh\\u00f6lzfreie Biotope der S\\u00fcmpfe, Flachmoore und Ufer\"],[\"Geh\\u00f6lzfreie Biotope der S\\u00fcmpfe, Flachmoore und Ufer\"],[\"Geb\\u00fcsche und Geh\\u00f6lzbest\\u00e4nde\"],[\"Gew\\u00e4sser\"],[\"Gew\\u00e4sser\"],[\"Gew\\u00e4sser\"],[\"Siedlungen\"],[\"Gew\\u00e4sser\"],[\"Acker- und Gartenbau-Biotope\"],[\"Siedlungen\"],[\"Gew\\u00e4sser\"],[\"Ruderalfluren\"],[\"Geb\\u00e4ude-, Verkehrs- und Industriefl\\u00e4chen\"],[\"Ruderalfluren\"],[\"Ruderalfluren\"],[\"Acker- und Gartenbau-Biotope\"],[\"Siedlungen\"],[\"Siedlungen\"],[\"Siedlungen\"],[\"Siedlungen\"],[\"Geb\\u00fcsche und Geh\\u00f6lzbest\\u00e4nde\"],[\"Gr\\u00fcnland\"],[\"Geb\\u00fcsche und Geh\\u00f6lzbest\\u00e4nde\"],[\"Acker- und Gartenbau-Biotope\"],[\"W\\u00e4lder\"],[\"Ruderalfluren\"],[\"Gr\\u00fcnland\"],[\"Magerrasen\"],[\"Gew\\u00e4sser\"],[\"Acker- und Gartenbau-Biotope\"],[\"Geb\\u00e4ude-, Verkehrs- und Industriefl\\u00e4chen\"],[\"Siedlungen\"],[\"Geb\\u00e4ude-, Verkehrs- und Industriefl\\u00e4chen\"],[\"Geb\\u00e4ude-, Verkehrs- und Industriefl\\u00e4chen\"],[\"Geb\\u00e4ude-, Verkehrs- und Industriefl\\u00e4chen\"],[\"Geb\\u00fcsche und Geh\\u00f6lzbest\\u00e4nde\"],[\"Siedlungen\"],[\"Siedlungen\"],[\"Geb\\u00fcsche und Geh\\u00f6lzbest\\u00e4nde\"],[\"Geb\\u00e4ude-, Verkehrs- und Industriefl\\u00e4chen\"],[\"Gew\\u00e4sser\"],[\"Gew\\u00e4sser\"],[\"Siedlungen\"],[\"Acker- und Gartenbau-Biotope\"],[\"Siedlungen\"],[\"Gew\\u00e4sser\"],[\"Geh\\u00f6lzfreie Biotope der S\\u00fcmpfe, Flachmoore und Ufer\"],[\"Siedlungen\"],[\"Ruderalfluren\"],[\"Siedlungen\"],[\"Geb\\u00fcsche und Geh\\u00f6lzbest\\u00e4nde\"],[\"Geh\\u00f6lzfreie Biotope der S\\u00fcmpfe, Flachmoore und Ufer\"],[\"W\\u00e4lder\"],[\"Geb\\u00e4ude-, Verkehrs- und Industriefl\\u00e4chen\"],[\"Magerrasen\"],[\"Geh\\u00f6lzfreie Biotope der S\\u00fcmpfe, Flachmoore und Ufer\"],[\"Acker- und Gartenbau-Biotope\"],[\"Geb\\u00e4ude-, Verkehrs- und Industriefl\\u00e4chen\"],[\"Gr\\u00fcnland\"],[\"Geb\\u00fcsche und Geh\\u00f6lzbest\\u00e4nde\"],[\"Gr\\u00fcnland\"],[\"Gew\\u00e4sser\"],[\"Geb\\u00fcsche und Geh\\u00f6lzbest\\u00e4nde\"],[\"Gew\\u00e4sser\"],[\"Acker- und Gartenbau-Biotope\"],[\"Gew\\u00e4sser\"],[\"Siedlungen\"],[\"Geh\\u00f6lzfreie Biotope der S\\u00fcmpfe, Flachmoore und Ufer\"],[\"Gew\\u00e4sser\"],[\"Geh\\u00f6lzfreie Biotope der S\\u00fcmpfe, Flachmoore und Ufer\"],[\"Ruderalfluren\"],[\"Geb\\u00fcsche und Geh\\u00f6lzbest\\u00e4nde\"],[\"Siedlungen\"],[\"W\\u00e4lder\"],[\"Magerrasen\"],[\"Siedlungen\"],[\"Siedlungen\"],[\"W\\u00e4lder\"],[\"Geh\\u00f6lzfreie Biotope der S\\u00fcmpfe, Flachmoore und Ufer\"],[\"Geb\\u00e4ude-, Verkehrs- und Industriefl\\u00e4chen\"],[\"Gew\\u00e4sser\"],[\"W\\u00e4lder\"],[\"W\\u00e4lder\"],[\"Geb\\u00fcsche und Geh\\u00f6lzbest\\u00e4nde\"],[\"Siedlungen\"],[\"Geb\\u00fcsche und Geh\\u00f6lzbest\\u00e4nde\"],[\"Acker- und Gartenbau-Biotope\"],[\"Geb\\u00e4ude-, Verkehrs- und Industriefl\\u00e4chen\"],[\"Geb\\u00e4ude-, Verkehrs- und Industriefl\\u00e4chen\"],[\"Geb\\u00e4ude-, Verkehrs- und Industriefl\\u00e4chen\"],[\"Geb\\u00fcsche und Geh\\u00f6lzbest\\u00e4nde\"],[\"Geb\\u00fcsche und Geh\\u00f6lzbest\\u00e4nde\"],[\"Geh\\u00f6lzfreie Biotope der S\\u00fcmpfe, Flachmoore und Ufer\"],[\"Gew\\u00e4sser\"],[\"Gr\\u00fcnland\"],[\"Magerrasen\"],[\"Ruderalfluren\"],[\"Siedlungen\"],[\"Siedlungen\"],[\"Siedlungen\"],[\"Siedlungen\"],[\"Siedlungen\"],[\"Siedlungen\"],[\"Siedlungen\"],[\"Siedlungen\"],[\"Siedlungen\"],[\"W\\u00e4lder\"],[\"Siedlungen\"],[\"Siedlungen\"],[\"Geh\\u00f6lzfreie Biotope der S\\u00fcmpfe, Flachmoore und Ufer\"],[\"(?)\"],[\"Gew\\u00e4sser\"],[\"Siedlungen\"],[\"Siedlungen\"],[\"Siedlungen\"],[\"Geb\\u00e4ude-, Verkehrs- und Industriefl\\u00e4chen\"],[\"Geb\\u00e4ude-, Verkehrs- und Industriefl\\u00e4chen\"],[\"Geb\\u00fcsche und Geh\\u00f6lzbest\\u00e4nde\"],[\"Ruderalfluren\"],[\"(?)\"],[\"W\\u00e4lder\"],[\"(?)\"],[\"(?)\"],[\"(?)\"]],\"domain\":{\"x\":[0.0,1.0],\"y\":[0.0,1.0]},\"hovertemplate\":\"labels=%{label}<br>sum_Flaeche=%{value}<br>parent=%{parent}<br>id=%{id}<br>lrtyp1text=%{customdata[0]}<extra></extra>\",\"ids\":[\"Biotypfl\\u00e4chen 2020 nach Lebensraumkategorie und Biotoptypenschl\\u00fcssel Typ 1-3/G\\u00e4rten/Siedlungen/Hausgarten/Naturgarten\",\"Biotypfl\\u00e4chen 2020 nach Lebensraumkategorie und Biotoptypenschl\\u00fcssel Typ 1-3/Gew\\u00e4sser/Gew\\u00e4sser/Verlandungsbereich n\\u00e4hrstoffarmer Stillgew\\u00e4sser/Schilfr\\u00f6hricht im Verlandungsbereich (ZH: 2a)\",\"Biotypfl\\u00e4chen 2020 nach Lebensraumkategorie und Biotoptypenschl\\u00fcssel Typ 1-3/Ruderalfluren/Ruderalfluren/Ruderalflur/Ruderalflur trockenwarmer Standorte\",\"Biotypfl\\u00e4chen 2020 nach Lebensraumkategorie und Biotoptypenschl\\u00fcssel Typ 1-3/Ueberwiegend bebaute Fl\\u00e4chen/Geb\\u00e4ude-, Verkehrs- und Industriefl\\u00e4chen/Flachdach/Ruderale Flachdachvegetation\",\"Biotypfl\\u00e4chen 2020 nach Lebensraumkategorie und Biotoptypenschl\\u00fcssel Typ 1-3/Gew\\u00e4sser/Gew\\u00e4sser/Bach/Naturnaher Bach*\",\"Biotypfl\\u00e4chen 2020 nach Lebensraumkategorie und Biotoptypenschl\\u00fcssel Typ 1-3/Wiesen und Rasen/Gr\\u00fcnland/Mesophiles Gr\\u00fcnland/M\\u00e4ssig trockene Magerwiese\",\"Biotypfl\\u00e4chen 2020 nach Lebensraumkategorie und Biotoptypenschl\\u00fcssel Typ 1-3/Feuchtgebiete/Geh\\u00f6lzfreie Biotope der S\\u00fcmpfe, Flachmoore und Ufer/Grossegenried/Grosseggenried mit Schneidebinse (ZH: 3d)\",\"Biotypfl\\u00e4chen 2020 nach Lebensraumkategorie und Biotoptypenschl\\u00fcssel Typ 1-3/Geh\\u00f6lze, Hecken und Geb\\u00fcsche/Geb\\u00fcsche und Geh\\u00f6lzbest\\u00e4nde/Ruderalgeb\\u00fcsch/ Pioniergeb\\u00fcsch/Brombeer-Gestr\\u00fcpp\",\"Biotypfl\\u00e4chen 2020 nach Lebensraumkategorie und Biotoptypenschl\\u00fcssel Typ 1-3/Geh\\u00f6lze, Hecken und Geb\\u00fcsche/Siedlungen/Einzelbaum/ Baumraster des  Siedlungsbereichs/Baumreihe/-raster mit Fromentalwiese mit BFF-Qualit\\u00e4t*\",\"Biotypfl\\u00e4chen 2020 nach Lebensraumkategorie und Biotoptypenschl\\u00fcssel Typ 1-3/Geh\\u00f6lze, Hecken und Geb\\u00fcsche/Geb\\u00fcsche und Geh\\u00f6lzbest\\u00e4nde/Moor- und Sumpfgeb\\u00fcsch/Weiden- Sumpfgeb\\u00fcsch\",\"Biotypfl\\u00e4chen 2020 nach Lebensraumkategorie und Biotoptypenschl\\u00fcssel Typ 1-3/Wald/W\\u00e4lder/Aronstab-Buchenwald/Aronstab-Buchenwald (inkl. 11e) (ZH: 11)\",\"Biotypfl\\u00e4chen 2020 nach Lebensraumkategorie und Biotoptypenschl\\u00fcssel Typ 1-3/G\\u00e4rten/Siedlungen/Hausgarten/Hausgarten\",\"Biotypfl\\u00e4chen 2020 nach Lebensraumkategorie und Biotoptypenschl\\u00fcssel Typ 1-3/Wiesen und Rasen/Magerrasen/Sonstiger Magerrasen/sonstiger Magerrasen\",\"Biotypfl\\u00e4chen 2020 nach Lebensraumkategorie und Biotoptypenschl\\u00fcssel Typ 1-3/Gew\\u00e4sser/Gew\\u00e4sser/Naturnahes Kleingew\\u00e4sser/Naturnahes Kleingew\\u00e4sser\",\"Biotypfl\\u00e4chen 2020 nach Lebensraumkategorie und Biotoptypenschl\\u00fcssel Typ 1-3/\\u00c4cker, Gartenbaufl\\u00e4chen, Tiergehege/Acker- und Gartenbau-Biotope/Obstplantage/Rebberg ohne Terrassen\",\"Biotypfl\\u00e4chen 2020 nach Lebensraumkategorie und Biotoptypenschl\\u00fcssel Typ 1-3/Geh\\u00f6lze, Hecken und Geb\\u00fcsche/Geb\\u00fcsche und Geh\\u00f6lzbest\\u00e4nde/mesophiles Geb\\u00fcsch/mesophiles Geb\\u00fcsch\",\"Biotypfl\\u00e4chen 2020 nach Lebensraumkategorie und Biotoptypenschl\\u00fcssel Typ 1-3/Geh\\u00f6lze, Hecken und Geb\\u00fcsche/Siedlungen/Geh\\u00f6lz des Siedlungsbereichs/Strukturreiches Siedlungsgeh\\u00f6lz aus \\u00fcberwiegend einheimischen Baumarten\",\"Biotypfl\\u00e4chen 2020 nach Lebensraumkategorie und Biotoptypenschl\\u00fcssel Typ 1-3/Geh\\u00f6lze, Hecken und Geb\\u00fcsche/Siedlungen/Einzelbaum/ Baumraster des  Siedlungsbereichs/Baumraster mit Zierhecke\",\"Biotypfl\\u00e4chen 2020 nach Lebensraumkategorie und Biotoptypenschl\\u00fcssel Typ 1-3/Geh\\u00f6lze, Hecken und Geb\\u00fcsche/Siedlungen/Einzelbaum/ Baumraster des  Siedlungsbereichs/Baumraster mit Fromentalwiese\",\"Biotypfl\\u00e4chen 2020 nach Lebensraumkategorie und Biotoptypenschl\\u00fcssel Typ 1-3/Ueberwiegend bebaute Fl\\u00e4chen/Geb\\u00e4ude-, Verkehrs- und Industriefl\\u00e4chen/Flachdach/Artenarme Sedum-Flachdachvegetationen\",\"Biotypfl\\u00e4chen 2020 nach Lebensraumkategorie und Biotoptypenschl\\u00fcssel Typ 1-3/Gew\\u00e4sser/Gew\\u00e4sser/Verlandungsbereich n\\u00e4hrstoffarmer Stillgew\\u00e4sser/Verlandungsbereich n\\u00e4hrstoffarmer Stillgew\\u00e4sser mit Unterwasservegetation*\",\"Biotypfl\\u00e4chen 2020 nach Lebensraumkategorie und Biotoptypenschl\\u00fcssel Typ 1-3/Wald/W\\u00e4lder/Traubenkirschen-Eschenwald/Traubenkirschen-Eschenwald (inkl. Nr. 30f) (ZH: 30)\",\"Biotypfl\\u00e4chen 2020 nach Lebensraumkategorie und Biotoptypenschl\\u00fcssel Typ 1-3/Geh\\u00f6lze, Hecken und Geb\\u00fcsche/Geb\\u00fcsche und Geh\\u00f6lzbest\\u00e4nde/Feldhecke/Baumhecke\",\"Biotypfl\\u00e4chen 2020 nach Lebensraumkategorie und Biotoptypenschl\\u00fcssel Typ 1-3/G\\u00e4rten/Siedlungen/Hausgarten/Bauerngarten\",\"Biotypfl\\u00e4chen 2020 nach Lebensraumkategorie und Biotoptypenschl\\u00fcssel Typ 1-3/Wiesen und Rasen/Gr\\u00fcnland/Artenarmes Gr\\u00fcnland/Artenarmes Extensivgr\\u00fcnland*\",\"Biotypfl\\u00e4chen 2020 nach Lebensraumkategorie und Biotoptypenschl\\u00fcssel Typ 1-3/Wiesen und Rasen/Siedlungen/Scher- und Trittrasen/Artenreicher Scherrasen (Blumenrasen)\",\"Biotypfl\\u00e4chen 2020 nach Lebensraumkategorie und Biotoptypenschl\\u00fcssel Typ 1-3/\\u00c4cker, Gartenbaufl\\u00e4chen, Tiergehege/Acker- und Gartenbau-Biotope/Obstplantage/Terrassierter Rebberg\",\"Biotypfl\\u00e4chen 2020 nach Lebensraumkategorie und Biotoptypenschl\\u00fcssel Typ 1-3/Wald/W\\u00e4lder/Waldrand/Waldrand strukturarm mit Aufwertungspotential\",\"Biotypfl\\u00e4chen 2020 nach Lebensraumkategorie und Biotoptypenschl\\u00fcssel Typ 1-3/Ueberwiegend bebaute Fl\\u00e4chen/Geb\\u00e4ude-, Verkehrs- und Industriefl\\u00e4chen/Befestigte Fl\\u00e4che/Fl\\u00e4che mit Ziegel-/Betonsteinpflaster\",\"Biotypfl\\u00e4chen 2020 nach Lebensraumkategorie und Biotoptypenschl\\u00fcssel Typ 1-3/Kies- und Schotterfl\\u00e4chen/Geb\\u00e4ude-, Verkehrs- und Industriefl\\u00e4chen/Befestigte Fl\\u00e4che/Fl\\u00e4che mit wassergebundener Decke*\",\"Biotypfl\\u00e4chen 2020 nach Lebensraumkategorie und Biotoptypenschl\\u00fcssel Typ 1-3/Ruderalfluren/Ruderalfluren/Halbruderale Gras- und Staudenflur/Halbruderale Gras- und Staudenflur feuchter Standorte\",\"Biotypfl\\u00e4chen 2020 nach Lebensraumkategorie und Biotoptypenschl\\u00fcssel Typ 1-3/Gew\\u00e4sser/Gew\\u00e4sser/Bach/M\\u00e4ssig ausgebauter Bach*\",\"Biotypfl\\u00e4chen 2020 nach Lebensraumkategorie und Biotoptypenschl\\u00fcssel Typ 1-3/Geh\\u00f6lze, Hecken und Geb\\u00fcsche/Siedlungen/Ziergeb\\u00fcsch/-hecke/Strukturreiches Ziergeb\\u00fcsch/ Hecke aus \\u00fcberwiegend einheimischen Geh\\u00f6lzarten\",\"Biotypfl\\u00e4chen 2020 nach Lebensraumkategorie und Biotoptypenschl\\u00fcssel Typ 1-3/Ruderalfluren/Ruderalfluren/Ruderalflur/Ruderalflur n\\u00e4hrstoffreicher, frischer bis feuchter Standorte\",\"Biotypfl\\u00e4chen 2020 nach Lebensraumkategorie und Biotoptypenschl\\u00fcssel Typ 1-3/Ruderalfluren/Ruderalfluren/Ruderalflur/Ruderalflur trockenwarmer Standorte mit Geh\\u00f6lzen\",\"Biotypfl\\u00e4chen 2020 nach Lebensraumkategorie und Biotoptypenschl\\u00fcssel Typ 1-3/Ueberwiegend bebaute Fl\\u00e4chen/Geb\\u00e4ude-, Verkehrs- und Industriefl\\u00e4chen/Befestigte Fl\\u00e4che/Fl\\u00e4che mit Natursteinpflaster\",\"Biotypfl\\u00e4chen 2020 nach Lebensraumkategorie und Biotoptypenschl\\u00fcssel Typ 1-3/Ueberwiegend bebaute Fl\\u00e4chen/Geb\\u00e4ude-, Verkehrs- und Industriefl\\u00e4chen/Befestigte Fl\\u00e4che/Sonstige befestigte Fl\\u00e4chen*\",\"Biotypfl\\u00e4chen 2020 nach Lebensraumkategorie und Biotoptypenschl\\u00fcssel Typ 1-3/Geh\\u00f6lze, Hecken und Geb\\u00fcsche/Geb\\u00fcsche und Geh\\u00f6lzbest\\u00e4nde/Naturnahes Feldgeh\\u00f6lz/Naturnahes Feldgeh\\u00f6lz\",\"Biotypfl\\u00e4chen 2020 nach Lebensraumkategorie und Biotoptypenschl\\u00fcssel Typ 1-3/Kies- und Schotterfl\\u00e4chen/Geb\\u00e4ude-, Verkehrs- und Industriefl\\u00e4chen/Befestigte Fl\\u00e4che/Fl\\u00e4che mit Kies- oder Schotterdecke in Bahnanlagen\",\"Biotypfl\\u00e4chen 2020 nach Lebensraumkategorie und Biotoptypenschl\\u00fcssel Typ 1-3/\\u00c4cker, Gartenbaufl\\u00e4chen, Tiergehege/Acker- und Gartenbau-Biotope/Landwirtschaftliche Lagerfl\\u00e4che/Landwirtschaftliche Lagerfl\\u00e4che\",\"Biotypfl\\u00e4chen 2020 nach Lebensraumkategorie und Biotoptypenschl\\u00fcssel Typ 1-3/Geh\\u00f6lze, Hecken und Geb\\u00fcsche/Siedlungen/Einzelbaum/ Baumraster des  Siedlungsbereichs/Baumraster  mit Baumscheiben\",\"Biotypfl\\u00e4chen 2020 nach Lebensraumkategorie und Biotoptypenschl\\u00fcssel Typ 1-3/\\u00c4cker, Gartenbaufl\\u00e4chen, Tiergehege/Acker- und Gartenbau-Biotope/Acker/Buntbrachen\",\"Biotypfl\\u00e4chen 2020 nach Lebensraumkategorie und Biotoptypenschl\\u00fcssel Typ 1-3/Beete und Rabatten/Siedlungen/Beet/ Rabatte/Beet/Rabatte\",\"Biotypfl\\u00e4chen 2020 nach Lebensraumkategorie und Biotoptypenschl\\u00fcssel Typ 1-3/\\u00c4cker, Gartenbaufl\\u00e4chen, Tiergehege/Acker- und Gartenbau-Biotope/Gartenbaufl\\u00e4che/Blumen-Gartenbaufl\\u00e4che\",\"Biotypfl\\u00e4chen 2020 nach Lebensraumkategorie und Biotoptypenschl\\u00fcssel Typ 1-3/Feuchtgebiete/Geh\\u00f6lzfreie Biotope der S\\u00fcmpfe, Flachmoore und Ufer/Grossegenried/Bultiges Grosseggenried (ZH: 3a)\",\"Biotypfl\\u00e4chen 2020 nach Lebensraumkategorie und Biotoptypenschl\\u00fcssel Typ 1-3/Gew\\u00e4sser/Gew\\u00e4sser/Pionierfllur trockenfallender Flussufer/Flusskies-Pionierflur*\",\"Biotypfl\\u00e4chen 2020 nach Lebensraumkategorie und Biotoptypenschl\\u00fcssel Typ 1-3/G\\u00e4rten/Siedlungen/Hausgarten/Artenreicher Garten mit Grossb\\u00e4umen\",\"Biotypfl\\u00e4chen 2020 nach Lebensraumkategorie und Biotoptypenschl\\u00fcssel Typ 1-3/Geh\\u00f6lze, Hecken und Geb\\u00fcsche/Siedlungen/Einzelbaum/ Baumraster des  Siedlungsbereichs/Baumraster mit Rasen\",\"Biotypfl\\u00e4chen 2020 nach Lebensraumkategorie und Biotoptypenschl\\u00fcssel Typ 1-3/Wiesen und Rasen/Magerrasen/Artenarmes Magerwiesenstadium/Adlerfarn-Flur magerer Standorte\",\"Biotypfl\\u00e4chen 2020 nach Lebensraumkategorie und Biotoptypenschl\\u00fcssel Typ 1-3/Feuchtgebiete/Geh\\u00f6lzfreie Biotope der S\\u00fcmpfe, Flachmoore und Ufer/Uferstaudenflur/N\\u00e4hrstoffreicher Sumpf\",\"Biotypfl\\u00e4chen 2020 nach Lebensraumkategorie und Biotoptypenschl\\u00fcssel Typ 1-3/Feuchtgebiete/Geh\\u00f6lzfreie Biotope der S\\u00fcmpfe, Flachmoore und Ufer/Hochstaudenflur/Bestand der Stumpfbl\\u00e4ttrigen Binse (ZH: 4c)\",\"Biotypfl\\u00e4chen 2020 nach Lebensraumkategorie und Biotoptypenschl\\u00fcssel Typ 1-3/Gew\\u00e4sser/Gew\\u00e4sser/Fluss/M\\u00e4ssig ausgebauter Fluss*\",\"Biotypfl\\u00e4chen 2020 nach Lebensraumkategorie und Biotoptypenschl\\u00fcssel Typ 1-3/Obstg\\u00e4rten/Geb\\u00fcsche und Geh\\u00f6lzbest\\u00e4nde/Hochstamm-Obstgarten/Hochstamm-Obstgarten mit Fromentalwiese (m3)\",\"Biotypfl\\u00e4chen 2020 nach Lebensraumkategorie und Biotoptypenschl\\u00fcssel Typ 1-3/Ruderalfluren/Ruderalfluren/Halbruderale Gras- und Staudenflur/Halbruderale Gras- und Staudenflur trockener Standorte\",\"Biotypfl\\u00e4chen 2020 nach Lebensraumkategorie und Biotoptypenschl\\u00fcssel Typ 1-3/G\\u00e4rten/Siedlungen/Hausgarten/Artenarmer Ziergarten\",\"Biotypfl\\u00e4chen 2020 nach Lebensraumkategorie und Biotoptypenschl\\u00fcssel Typ 1-3/Wiesen und Rasen/Gr\\u00fcnland/Mesophiles Gr\\u00fcnland/Feuchte Fromentalwiese*\",\"Biotypfl\\u00e4chen 2020 nach Lebensraumkategorie und Biotoptypenschl\\u00fcssel Typ 1-3/Ueberwiegend bebaute Fl\\u00e4chen/Geb\\u00e4ude-, Verkehrs- und Industriefl\\u00e4chen/Biotopkomplexe und Nutzungstypen der bebauten Bereiche/Geb\\u00e4ude*\",\"Biotypfl\\u00e4chen 2020 nach Lebensraumkategorie und Biotoptypenschl\\u00fcssel Typ 1-3/Feuchtgebiete/Geh\\u00f6lzfreie Biotope der S\\u00fcmpfe, Flachmoore und Ufer/Grossegenried/Grosseggenried ausserhalb Wasserstandsschwankungen (ZH: 3b)\",\"Biotypfl\\u00e4chen 2020 nach Lebensraumkategorie und Biotoptypenschl\\u00fcssel Typ 1-3/Ueberwiegend bebaute Fl\\u00e4chen/Geb\\u00e4ude-, Verkehrs- und Industriefl\\u00e4chen/Industrie- und Gewerbefl\\u00e4che/Gewerbegebiet (Kleingewerbe und kleingewerbliche Lagerfl\\u00e4chen)\",\"Biotypfl\\u00e4chen 2020 nach Lebensraumkategorie und Biotoptypenschl\\u00fcssel Typ 1-3/Feuchtgebiete/Geh\\u00f6lzfreie Biotope der S\\u00fcmpfe, Flachmoore und Ufer/Grossegenried/Grosseggenried mit Sumpf-Segge (ZH: 3c)\",\"Biotypfl\\u00e4chen 2020 nach Lebensraumkategorie und Biotoptypenschl\\u00fcssel Typ 1-3/Wiesen und Rasen/Magerrasen/Kalk-Magerrasen/Kalk-Magerrasen\",\"Biotypfl\\u00e4chen 2020 nach Lebensraumkategorie und Biotoptypenschl\\u00fcssel Typ 1-3/Geh\\u00f6lze, Hecken und Geb\\u00fcsche/Geb\\u00fcsche und Geh\\u00f6lzbest\\u00e4nde/Feldhecke/Strauchhecke mit BFF-Qualit\\u00e4t\",\"Biotypfl\\u00e4chen 2020 nach Lebensraumkategorie und Biotoptypenschl\\u00fcssel Typ 1-3/Feuchtgebiete/Geh\\u00f6lzfreie Biotope der S\\u00fcmpfe, Flachmoore und Ufer/Landr\\u00f6hricht/Rohrglanzgras-Flussuferr\\u00f6hricht*\",\"Biotypfl\\u00e4chen 2020 nach Lebensraumkategorie und Biotoptypenschl\\u00fcssel Typ 1-3/Ueberwiegend bebaute Fl\\u00e4chen/Geb\\u00e4ude-, Verkehrs- und Industriefl\\u00e4chen/Baustelle/Baustelle\",\"Biotypfl\\u00e4chen 2020 nach Lebensraumkategorie und Biotoptypenschl\\u00fcssel Typ 1-3/Wiesen und Rasen/Siedlungen/Scher- und Trittrasen/Artenarmer Scherrasen (Gebrauchsrasen)\",\"Biotypfl\\u00e4chen 2020 nach Lebensraumkategorie und Biotoptypenschl\\u00fcssel Typ 1-3/Geh\\u00f6lze, Hecken und Geb\\u00fcsche/Geb\\u00fcsche und Geh\\u00f6lzbest\\u00e4nde/Ruderalgeb\\u00fcsch/ Pioniergeb\\u00fcsch/Sukzessionsgeb\\u00fcsch\",\"Biotypfl\\u00e4chen 2020 nach Lebensraumkategorie und Biotoptypenschl\\u00fcssel Typ 1-3/Wiesen und Rasen/Gr\\u00fcnland/Mesophiles Gr\\u00fcnland/Artenarme Fromentalwiese\",\"Biotypfl\\u00e4chen 2020 nach Lebensraumkategorie und Biotoptypenschl\\u00fcssel Typ 1-3/Geh\\u00f6lze, Hecken und Geb\\u00fcsche/Geb\\u00fcsche und Geh\\u00f6lzbest\\u00e4nde/Einzelbaum/Einzelbaum\",\"Biotypfl\\u00e4chen 2020 nach Lebensraumkategorie und Biotoptypenschl\\u00fcssel Typ 1-3/G\\u00e4rten/Siedlungen/Hausgarten/Obst- und Gem\\u00fcsegarten\",\"Biotypfl\\u00e4chen 2020 nach Lebensraumkategorie und Biotoptypenschl\\u00fcssel Typ 1-3/Ueberwiegend bebaute Fl\\u00e4chen/Geb\\u00e4ude-, Verkehrs- und Industriefl\\u00e4chen/Flachdach/Intensive Flachdachbegr\\u00fcnungen\",\"Biotypfl\\u00e4chen 2020 nach Lebensraumkategorie und Biotoptypenschl\\u00fcssel Typ 1-3/Kies- und Schotterfl\\u00e4chen/Geb\\u00e4ude-, Verkehrs- und Industriefl\\u00e4chen/Befestigte Fl\\u00e4che/Fl\\u00e4che mit unbefestigtem Wandkies oder Sand*\",\"Biotypfl\\u00e4chen 2020 nach Lebensraumkategorie und Biotoptypenschl\\u00fcssel Typ 1-3/Gew\\u00e4sser/Gew\\u00e4sser/Verlandungsbereich n\\u00e4hrstoffarmer Stillgew\\u00e4sser/Schwimmblattgesellschaften (ZH: 1)\",\"Biotypfl\\u00e4chen 2020 nach Lebensraumkategorie und Biotoptypenschl\\u00fcssel Typ 1-3/Geh\\u00f6lze, Hecken und Geb\\u00fcsche/Siedlungen/Ziergeb\\u00fcsch/-hecke/Ziergeb\\u00fcsch/ Hecke aus \\u00fcberwiegend nicht heimischen Geh\\u00f6lzarten\",\"Biotypfl\\u00e4chen 2020 nach Lebensraumkategorie und Biotoptypenschl\\u00fcssel Typ 1-3/Feuchtgebiete/Geh\\u00f6lzfreie Biotope der S\\u00fcmpfe, Flachmoore und Ufer/Hochstaudenflur/Hochstaudenflur mit Goldrute (ZH: 4b)\",\"Biotypfl\\u00e4chen 2020 nach Lebensraumkategorie und Biotoptypenschl\\u00fcssel Typ 1-3/Ueberwiegend bebaute Fl\\u00e4chen/Siedlungen/Sport-/Spiel-/Erholungsanlage/Sonstige Sport-, Spiel- und Freizeitanlage\",\"Biotypfl\\u00e4chen 2020 nach Lebensraumkategorie und Biotoptypenschl\\u00fcssel Typ 1-3/Gew\\u00e4sser/Gew\\u00e4sser/Bach/Stark bis v\\u00f6llig ausgebauter Bach*\",\"Biotypfl\\u00e4chen 2020 nach Lebensraumkategorie und Biotoptypenschl\\u00fcssel Typ 1-3/Ruderalfluren/Ruderalfluren/Halbruderale Gras- und Staudenflur/Halbruderale Gras- und Staudenflur wechselfeuchter Standorte\",\"Biotypfl\\u00e4chen 2020 nach Lebensraumkategorie und Biotoptypenschl\\u00fcssel Typ 1-3/Feuchtgebiete/Geh\\u00f6lzfreie Biotope der S\\u00fcmpfe, Flachmoore und Ufer/Pfeifengraswiese/Pfeifengrasreinbestand auf Torf (ZH: 8c)\",\"Biotypfl\\u00e4chen 2020 nach Lebensraumkategorie und Biotoptypenschl\\u00fcssel Typ 1-3/Geh\\u00f6lze, Hecken und Geb\\u00fcsche/Siedlungen/Einzelbaum/ Baumraster des  Siedlungsbereichs/Baumreihe/-raster mit kiesigem Untergrund*\",\"Biotypfl\\u00e4chen 2020 nach Lebensraumkategorie und Biotoptypenschl\\u00fcssel Typ 1-3/Ruderalfluren/Ruderalfluren/Artenarme Neophytenflur/Sonstige Neophyten-Flur\",\"Biotypfl\\u00e4chen 2020 nach Lebensraumkategorie und Biotoptypenschl\\u00fcssel Typ 1-3/Feuchtgebiete/Geh\\u00f6lzfreie Biotope der S\\u00fcmpfe, Flachmoore und Ufer/Landr\\u00f6hricht/S\\u00fcssgras-Bachr\\u00f6hricht*\",\"Biotypfl\\u00e4chen 2020 nach Lebensraumkategorie und Biotoptypenschl\\u00fcssel Typ 1-3/Wiesen und Rasen/Gr\\u00fcnland/Mesophiles Gr\\u00fcnland/Strukturarme und artenarme Magerweide\",\"Biotypfl\\u00e4chen 2020 nach Lebensraumkategorie und Biotoptypenschl\\u00fcssel Typ 1-3/Ruderalfluren/Ruderalfluren/Halbruderale Gras- und Staudenflur/Halbruderale Gras- und Staudenflur mittlerer Standorte\",\"Biotypfl\\u00e4chen 2020 nach Lebensraumkategorie und Biotoptypenschl\\u00fcssel Typ 1-3/Geh\\u00f6lze, Hecken und Geb\\u00fcsche/Geb\\u00fcsche und Geh\\u00f6lzbest\\u00e4nde/Feldhecke/Strauchhecke\",\"Biotypfl\\u00e4chen 2020 nach Lebensraumkategorie und Biotoptypenschl\\u00fcssel Typ 1-3/Ueberwiegend bebaute Fl\\u00e4chen/Geb\\u00e4ude-, Verkehrs- und Industriefl\\u00e4chen/Flachdach/Wiesenartige Flachdachvegetation\",\"Biotypfl\\u00e4chen 2020 nach Lebensraumkategorie und Biotoptypenschl\\u00fcssel Typ 1-3/Wald/W\\u00e4lder/Waldrand/Waldrand gestuft\",\"Biotypfl\\u00e4chen 2020 nach Lebensraumkategorie und Biotoptypenschl\\u00fcssel Typ 1-3/Obstg\\u00e4rten/Geb\\u00fcsche und Geh\\u00f6lzbest\\u00e4nde/Hochstamm-Obstgarten/Hochstamm-Obstgarten mit Magerwiese\",\"Biotypfl\\u00e4chen 2020 nach Lebensraumkategorie und Biotoptypenschl\\u00fcssel Typ 1-3/Feuchtgebiete/Geh\\u00f6lzfreie Biotope der S\\u00fcmpfe, Flachmoore und Ufer/Hochstaudenflur/Hochstaudenflur mit Spierstaude (ZH: 4a)\",\"Biotypfl\\u00e4chen 2020 nach Lebensraumkategorie und Biotoptypenschl\\u00fcssel Typ 1-3/Ueberwiegend bebaute Fl\\u00e4chen/Geb\\u00e4ude-, Verkehrs- und Industriefl\\u00e4chen/Flachdach/Artenreiche Sedum-Flachdachvegetationen\",\"Biotypfl\\u00e4chen 2020 nach Lebensraumkategorie und Biotoptypenschl\\u00fcssel Typ 1-3/Ruderalfluren/Ruderalfluren/Ruderalflur/Artenarme Ruderalflur\",\"Biotypfl\\u00e4chen 2020 nach Lebensraumkategorie und Biotoptypenschl\\u00fcssel Typ 1-3/Obstg\\u00e4rten/Geb\\u00fcsche und Geh\\u00f6lzbest\\u00e4nde/Hochstamm-Obstgarten/Hochstamm-Obstgarten mit Fettwiese (m4)\",\"Biotypfl\\u00e4chen 2020 nach Lebensraumkategorie und Biotoptypenschl\\u00fcssel Typ 1-3/Gew\\u00e4sser/Gew\\u00e4sser/Fluss/Naturnaher Fluss*\",\"Biotypfl\\u00e4chen 2020 nach Lebensraumkategorie und Biotoptypenschl\\u00fcssel Typ 1-3/Gr\\u00fcnanlagen/Siedlungen/Parkanlage/Intensiv gepflegter Park\",\"Biotypfl\\u00e4chen 2020 nach Lebensraumkategorie und Biotoptypenschl\\u00fcssel Typ 1-3/Ueberwiegend bebaute Fl\\u00e4chen/Geb\\u00e4ude-, Verkehrs- und Industriefl\\u00e4chen/Flachdach/Artenarme Moos-Flachdachvegetationen\",\"Biotypfl\\u00e4chen 2020 nach Lebensraumkategorie und Biotoptypenschl\\u00fcssel Typ 1-3/Gew\\u00e4sser/Gew\\u00e4sser/Naturfernes Stillgew\\u00e4sser/Stark beeintr\\u00e4chtigtes Stillgew\\u00e4sser nat\\u00fcrlicher Entstehung*\",\"Biotypfl\\u00e4chen 2020 nach Lebensraumkategorie und Biotoptypenschl\\u00fcssel Typ 1-3/Familieng\\u00e4rten/Siedlungen/Familiengartenanlage/Strukturreiche Familiengartenanlage\",\"Biotypfl\\u00e4chen 2020 nach Lebensraumkategorie und Biotoptypenschl\\u00fcssel Typ 1-3/Wald/W\\u00e4lder/Seggen-Schwarzerlenbruchwald/Seggen-Schwarzerlenbruchwald (ZH: 44)\",\"Biotypfl\\u00e4chen 2020 nach Lebensraumkategorie und Biotoptypenschl\\u00fcssel Typ 1-3/Wald/W\\u00e4lder/Holzlagerfl\\u00e4che/Holzlagerfl\\u00e4che\",\"Biotypfl\\u00e4chen 2020 nach Lebensraumkategorie und Biotoptypenschl\\u00fcssel Typ 1-3/\\u00c4cker, Gartenbaufl\\u00e4chen, Tiergehege/Acker- und Gartenbau-Biotope/Baumschule/Baumschule\",\"Biotypfl\\u00e4chen 2020 nach Lebensraumkategorie und Biotoptypenschl\\u00fcssel Typ 1-3/Ueberwiegend bebaute Fl\\u00e4chen/Geb\\u00e4ude-, Verkehrs- und Industriefl\\u00e4chen/Befestigte Fl\\u00e4che/Beton- /Asphaltfl\\u00e4che\",\"Biotypfl\\u00e4chen 2020 nach Lebensraumkategorie und Biotoptypenschl\\u00fcssel Typ 1-3/Geh\\u00f6lze, Hecken und Geb\\u00fcsche/Geb\\u00fcsche und Geh\\u00f6lzbest\\u00e4nde/Ruderalgeb\\u00fcsch/ Pioniergeb\\u00fcsch/Neophytisches Geb\\u00fcsch\",\"Biotypfl\\u00e4chen 2020 nach Lebensraumkategorie und Biotoptypenschl\\u00fcssel Typ 1-3/Wiesen und Rasen/Gr\\u00fcnland/Nasswiese/Sumpfdotterblumen-Wiese*\",\"Biotypfl\\u00e4chen 2020 nach Lebensraumkategorie und Biotoptypenschl\\u00fcssel Typ 1-3/Gew\\u00e4sser/Gew\\u00e4sser/Fliessgew\\u00e4sser/Fliessgew\\u00e4sser*\",\"Biotypfl\\u00e4chen 2020 nach Lebensraumkategorie und Biotoptypenschl\\u00fcssel Typ 1-3/Wiesen und Rasen/Gr\\u00fcnland/Artenarmes Gr\\u00fcnland/Intensivgr\\u00fcnland auf Flachmoorstandorten\",\"Biotypfl\\u00e4chen 2020 nach Lebensraumkategorie und Biotoptypenschl\\u00fcssel Typ 1-3/\\u00c4cker, Gartenbaufl\\u00e4chen, Tiergehege/Acker- und Gartenbau-Biotope/Obstplantage/Beerenstrauch-Plantage\",\"Biotypfl\\u00e4chen 2020 nach Lebensraumkategorie und Biotoptypenschl\\u00fcssel Typ 1-3/Feuchtgebiete/Geh\\u00f6lzfreie Biotope der S\\u00fcmpfe, Flachmoore und Ufer/Pfeifengraswiese/Pfeifengraswiese, Kleinseggenausbildung trocken (ZH: 8b)\",\"Biotypfl\\u00e4chen 2020 nach Lebensraumkategorie und Biotoptypenschl\\u00fcssel Typ 1-3/Wald/W\\u00e4lder/Waldrand/Waldrand strukturarm\",\"Biotypfl\\u00e4chen 2020 nach Lebensraumkategorie und Biotoptypenschl\\u00fcssel Typ 1-3/Gr\\u00fcnanlagen von Mehrfamilienh\\u00e4usern/Siedlungen/Gr\\u00fcnanlage von Mehrfamilienh\\u00e4usern/Strukturarme Gr\\u00fcnanlage\",\"Biotypfl\\u00e4chen 2020 nach Lebensraumkategorie und Biotoptypenschl\\u00fcssel Typ 1-3/Geh\\u00f6lze, Hecken und Geb\\u00fcsche/Siedlungen/Geh\\u00f6lz des Siedlungsbereichs/Strukturarmes Siedlungsgeh\\u00f6lz aus \\u00fcberwiegend einheimischen Baumarten*\",\"Biotypfl\\u00e4chen 2020 nach Lebensraumkategorie und Biotoptypenschl\\u00fcssel Typ 1-3/Geh\\u00f6lze, Hecken und Geb\\u00fcsche/Siedlungen/Ziergeb\\u00fcsch/-hecke/Strukturarmes Ziergeb\\u00fcsch/ Hecke aus \\u00fcberwiegend einheimischen Geh\\u00f6lzarten*\",\"Biotypfl\\u00e4chen 2020 nach Lebensraumkategorie und Biotoptypenschl\\u00fcssel Typ 1-3/Gr\\u00fcnanlagen von Mehrfamilienh\\u00e4usern/Siedlungen/Gr\\u00fcnanlage von Mehrfamilienh\\u00e4usern/Strukturreiche Gr\\u00fcnanlage\",\"Biotypfl\\u00e4chen 2020 nach Lebensraumkategorie und Biotoptypenschl\\u00fcssel Typ 1-3/Wiesen und Rasen/Gr\\u00fcnland/Mesophiles Gr\\u00fcnland/Strukturreiche Magerweide\",\"Biotypfl\\u00e4chen 2020 nach Lebensraumkategorie und Biotoptypenschl\\u00fcssel Typ 1-3/Wiesen und Rasen/Gr\\u00fcnland/Mesophiles Gr\\u00fcnland/Strukturreiche artenreiche Magerweide\",\"Biotypfl\\u00e4chen 2020 nach Lebensraumkategorie und Biotoptypenschl\\u00fcssel Typ 1-3/\\u00c4cker, Gartenbaufl\\u00e4chen, Tiergehege/Siedlungen/Tiergehege/Tiergehege\",\"Biotypfl\\u00e4chen 2020 nach Lebensraumkategorie und Biotoptypenschl\\u00fcssel Typ 1-3/Wald/W\\u00e4lder/Wald allgemein/Wald allgemein\",\"Biotypfl\\u00e4chen 2020 nach Lebensraumkategorie und Biotoptypenschl\\u00fcssel Typ 1-3/Geh\\u00f6lze, Hecken und Geb\\u00fcsche/Siedlungen/Ziergeb\\u00fcsch/-hecke/Zierhecke/ Schnitthecke\",\"Biotypfl\\u00e4chen 2020 nach Lebensraumkategorie und Biotoptypenschl\\u00fcssel Typ 1-3/Feuchtgebiete/Geh\\u00f6lzfreie Biotope der S\\u00fcmpfe, Flachmoore und Ufer/Landr\\u00f6hricht/Schilf-Landr\\u00f6hricht\",\"Biotypfl\\u00e4chen 2020 nach Lebensraumkategorie und Biotoptypenschl\\u00fcssel Typ 1-3/Geh\\u00f6lze, Hecken und Geb\\u00fcsche/Geb\\u00fcsche und Geh\\u00f6lzbest\\u00e4nde/Feldhecke/Strauch-Baumhecke\",\"Biotypfl\\u00e4chen 2020 nach Lebensraumkategorie und Biotoptypenschl\\u00fcssel Typ 1-3/Wiesen und Rasen/Magerrasen/Sonstiger Magerrasen/Wechseltrockene Magerwiese\",\"Biotypfl\\u00e4chen 2020 nach Lebensraumkategorie und Biotoptypenschl\\u00fcssel Typ 1-3/Ruderalfluren/Ruderalfluren/Artenarme Neophytenflur/Goldruten-Flur\",\"Biotypfl\\u00e4chen 2020 nach Lebensraumkategorie und Biotoptypenschl\\u00fcssel Typ 1-3/\\u00c4cker, Gartenbaufl\\u00e4chen, Tiergehege/Acker- und Gartenbau-Biotope/Gartenbaufl\\u00e4che/Gem\\u00fcse- und sonstige Gartenbaufl\\u00e4che\",\"Biotypfl\\u00e4chen 2020 nach Lebensraumkategorie und Biotoptypenschl\\u00fcssel Typ 1-3/Gew\\u00e4sser/Gew\\u00e4sser/Offene Wasserfl\\u00e4che gr\\u00f6sserer naturnaher n\\u00e4hrstoffarmer Stillgew\\u00e4sser/Naturnahes n\\u00e4hrstoffarmes Stillgew\\u00e4sser nat\\u00fcrlicher Entstehung*\",\"Biotypfl\\u00e4chen 2020 nach Lebensraumkategorie und Biotoptypenschl\\u00fcssel Typ 1-3/Mauern/Geb\\u00e4ude-, Verkehrs- und Industriefl\\u00e4chen/Mauer/Wand/Natursteinmauer/ wand\",\"Biotypfl\\u00e4chen 2020 nach Lebensraumkategorie und Biotoptypenschl\\u00fcssel Typ 1-3/Wiesen und Rasen/Gr\\u00fcnland/Mesophiles Gr\\u00fcnland/Fromentalwiese mit BFF-Qualit\\u00e4t\",\"Biotypfl\\u00e4chen 2020 nach Lebensraumkategorie und Biotoptypenschl\\u00fcssel Typ 1-3/Gr\\u00fcnanlagen/Siedlungen/Friedhof/Parkfriedhof\",\"Biotypfl\\u00e4chen 2020 nach Lebensraumkategorie und Biotoptypenschl\\u00fcssel Typ 1-3/Feuchtgebiete/Geh\\u00f6lzfreie Biotope der S\\u00fcmpfe, Flachmoore und Ufer/Pfeifengraswiese/Pfeifengraswiese, Kleinseggenausbildung feucht (ZH: 8a)\",\"Biotypfl\\u00e4chen 2020 nach Lebensraumkategorie und Biotoptypenschl\\u00fcssel Typ 1-3/Feuchtgebiete/Geh\\u00f6lzfreie Biotope der S\\u00fcmpfe, Flachmoore und Ufer/Pioniervegetation (wechsel-)nasser Standorte/vegetationsarmer Uferbereich/Pioniervegetation schlammiger Nassstandorte*\",\"Biotypfl\\u00e4chen 2020 nach Lebensraumkategorie und Biotoptypenschl\\u00fcssel Typ 1-3/Geh\\u00f6lze, Hecken und Geb\\u00fcsche/Geb\\u00fcsche und Geh\\u00f6lzbest\\u00e4nde/Feldhecke/Strauch-Baumhecke mit  BFF-Qualit\\u00e4t\",\"Biotypfl\\u00e4chen 2020 nach Lebensraumkategorie und Biotoptypenschl\\u00fcssel Typ 1-3/Gew\\u00e4sser/Gew\\u00e4sser/Naturfernes Stillgew\\u00e4sser/Zierteich\",\"Biotypfl\\u00e4chen 2020 nach Lebensraumkategorie und Biotoptypenschl\\u00fcssel Typ 1-3/Gew\\u00e4sser/Gew\\u00e4sser/Verlandungsbereich n\\u00e4hrstoffarmer Stillgew\\u00e4sser/R\\u00f6hricht mit Rohrkolben (ZH: 2c)\",\"Biotypfl\\u00e4chen 2020 nach Lebensraumkategorie und Biotoptypenschl\\u00fcssel Typ 1-3/Gew\\u00e4sser/Gew\\u00e4sser/Verlandungsbereich n\\u00e4hrstoffarmer Stillgew\\u00e4sser/Seebinsenr\\u00f6hricht (ZH: 2b)\",\"Biotypfl\\u00e4chen 2020 nach Lebensraumkategorie und Biotoptypenschl\\u00fcssel Typ 1-3/Geh\\u00f6lze, Hecken und Geb\\u00fcsche/Siedlungen/Geh\\u00f6lz des Siedlungsbereichs/Siedlungsgeh\\u00f6lz aus \\u00fcberwiegend nicht heimischen Baumarten\",\"Biotypfl\\u00e4chen 2020 nach Lebensraumkategorie und Biotoptypenschl\\u00fcssel Typ 1-3/Gew\\u00e4sser/Gew\\u00e4sser/Graben/Wiesengraben\",\"Biotypfl\\u00e4chen 2020 nach Lebensraumkategorie und Biotoptypenschl\\u00fcssel Typ 1-3/\\u00c4cker, Gartenbaufl\\u00e4chen, Tiergehege/Acker- und Gartenbau-Biotope/Obstplantage/Spalierobst-Plantage\",\"Biotypfl\\u00e4chen 2020 nach Lebensraumkategorie und Biotoptypenschl\\u00fcssel Typ 1-3/Ueberwiegend bebaute Fl\\u00e4chen/Siedlungen/Sport-/Spiel-/Erholungsanlage/Sportplatz\",\"Biotypfl\\u00e4chen 2020 nach Lebensraumkategorie und Biotoptypenschl\\u00fcssel Typ 1-3/Gew\\u00e4sser/Gew\\u00e4sser/Fluss/Stark bis v\\u00f6llig ausgebauter Fluss*\",\"Biotypfl\\u00e4chen 2020 nach Lebensraumkategorie und Biotoptypenschl\\u00fcssel Typ 1-3/Ruderalfluren/Ruderalfluren/Artenarme Neophytenflur/Staudenkn\\u00f6terich-Flur\",\"Biotypfl\\u00e4chen 2020 nach Lebensraumkategorie und Biotoptypenschl\\u00fcssel Typ 1-3/Ueberwiegend bebaute Fl\\u00e4chen/Geb\\u00e4ude-, Verkehrs- und Industriefl\\u00e4chen/Verkehrsfl\\u00e4che/Strasse*\",\"Biotypfl\\u00e4chen 2020 nach Lebensraumkategorie und Biotoptypenschl\\u00fcssel Typ 1-3/Ruderalfluren/Ruderalfluren/Ruderalflur/Ruderalflur n\\u00e4hrstoffreicher, frischer bis feuchter Standorte mit Geh\\u00f6lzen\",\"Biotypfl\\u00e4chen 2020 nach Lebensraumkategorie und Biotoptypenschl\\u00fcssel Typ 1-3/Ruderalfluren/Ruderalfluren/Artenarme Neophytenflur/Riesenb\\u00e4renklau-Flur\",\"Biotypfl\\u00e4chen 2020 nach Lebensraumkategorie und Biotoptypenschl\\u00fcssel Typ 1-3/\\u00c4cker, Gartenbaufl\\u00e4chen, Tiergehege/Acker- und Gartenbau-Biotope/Acker/Acker\",\"Biotypfl\\u00e4chen 2020 nach Lebensraumkategorie und Biotoptypenschl\\u00fcssel Typ 1-3/Geh\\u00f6lze, Hecken und Geb\\u00fcsche/Siedlungen/Einzelbaum/ Baumraster des  Siedlungsbereichs/Baumraster ohne Baumscheiben\",\"Biotypfl\\u00e4chen 2020 nach Lebensraumkategorie und Biotoptypenschl\\u00fcssel Typ 1-3/Geh\\u00f6lze, Hecken und Geb\\u00fcsche/Siedlungen/Einzelbaum/ Baumraster des  Siedlungsbereichs/Baumraster mit ruderalem Unterwuchs\",\"Biotypfl\\u00e4chen 2020 nach Lebensraumkategorie und Biotoptypenschl\\u00fcssel Typ 1-3/Geh\\u00f6lze, Hecken und Geb\\u00fcsche/Siedlungen/Einzelbaum/ Baumraster des  Siedlungsbereichs/Baumraster mit Fettwiese\",\"Biotypfl\\u00e4chen 2020 nach Lebensraumkategorie und Biotoptypenschl\\u00fcssel Typ 1-3/Gr\\u00fcnanlagen/Siedlungen/Parkanlage/Alter Landschaftspark\",\"Biotypfl\\u00e4chen 2020 nach Lebensraumkategorie und Biotoptypenschl\\u00fcssel Typ 1-3/Geh\\u00f6lze, Hecken und Geb\\u00fcsche/Geb\\u00fcsche und Geh\\u00f6lzbest\\u00e4nde/Einzelbaum/Allee\",\"Biotypfl\\u00e4chen 2020 nach Lebensraumkategorie und Biotoptypenschl\\u00fcssel Typ 1-3/Wiesen und Rasen/Gr\\u00fcnland/Artenarmes Gr\\u00fcnland/Fettwiese und -weide\",\"Biotypfl\\u00e4chen 2020 nach Lebensraumkategorie und Biotoptypenschl\\u00fcssel Typ 1-3/Geh\\u00f6lze, Hecken und Geb\\u00fcsche/Geb\\u00fcsche und Geh\\u00f6lzbest\\u00e4nde/Weidengeb\\u00fcsch der Auen und Ufer/typisches Weiden-Auengeb\\u00fcsch\",\"Biotypfl\\u00e4chen 2020 nach Lebensraumkategorie und Biotoptypenschl\\u00fcssel Typ 1-3/\\u00c4cker, Gartenbaufl\\u00e4chen, Tiergehege/Acker- und Gartenbau-Biotope/Acker\",\"Biotypfl\\u00e4chen 2020 nach Lebensraumkategorie und Biotoptypenschl\\u00fcssel Typ 1-3/Wald/W\\u00e4lder/Aronstab-Buchenwald\",\"Biotypfl\\u00e4chen 2020 nach Lebensraumkategorie und Biotoptypenschl\\u00fcssel Typ 1-3/Ruderalfluren/Ruderalfluren/Artenarme Neophytenflur\",\"Biotypfl\\u00e4chen 2020 nach Lebensraumkategorie und Biotoptypenschl\\u00fcssel Typ 1-3/Wiesen und Rasen/Gr\\u00fcnland/Artenarmes Gr\\u00fcnland\",\"Biotypfl\\u00e4chen 2020 nach Lebensraumkategorie und Biotoptypenschl\\u00fcssel Typ 1-3/Wiesen und Rasen/Magerrasen/Artenarmes Magerwiesenstadium\",\"Biotypfl\\u00e4chen 2020 nach Lebensraumkategorie und Biotoptypenschl\\u00fcssel Typ 1-3/Gew\\u00e4sser/Gew\\u00e4sser/Bach\",\"Biotypfl\\u00e4chen 2020 nach Lebensraumkategorie und Biotoptypenschl\\u00fcssel Typ 1-3/\\u00c4cker, Gartenbaufl\\u00e4chen, Tiergehege/Acker- und Gartenbau-Biotope/Baumschule\",\"Biotypfl\\u00e4chen 2020 nach Lebensraumkategorie und Biotoptypenschl\\u00fcssel Typ 1-3/Ueberwiegend bebaute Fl\\u00e4chen/Geb\\u00e4ude-, Verkehrs- und Industriefl\\u00e4chen/Baustelle\",\"Biotypfl\\u00e4chen 2020 nach Lebensraumkategorie und Biotoptypenschl\\u00fcssel Typ 1-3/Beete und Rabatten/Siedlungen/Beet/ Rabatte\",\"Biotypfl\\u00e4chen 2020 nach Lebensraumkategorie und Biotoptypenschl\\u00fcssel Typ 1-3/Kies- und Schotterfl\\u00e4chen/Geb\\u00e4ude-, Verkehrs- und Industriefl\\u00e4chen/Befestigte Fl\\u00e4che\",\"Biotypfl\\u00e4chen 2020 nach Lebensraumkategorie und Biotoptypenschl\\u00fcssel Typ 1-3/Ueberwiegend bebaute Fl\\u00e4chen/Geb\\u00e4ude-, Verkehrs- und Industriefl\\u00e4chen/Befestigte Fl\\u00e4che\",\"Biotypfl\\u00e4chen 2020 nach Lebensraumkategorie und Biotoptypenschl\\u00fcssel Typ 1-3/Ueberwiegend bebaute Fl\\u00e4chen/Geb\\u00e4ude-, Verkehrs- und Industriefl\\u00e4chen/Biotopkomplexe und Nutzungstypen der bebauten Bereiche\",\"Biotypfl\\u00e4chen 2020 nach Lebensraumkategorie und Biotoptypenschl\\u00fcssel Typ 1-3/Geh\\u00f6lze, Hecken und Geb\\u00fcsche/Geb\\u00fcsche und Geh\\u00f6lzbest\\u00e4nde/Einzelbaum\",\"Biotypfl\\u00e4chen 2020 nach Lebensraumkategorie und Biotoptypenschl\\u00fcssel Typ 1-3/Geh\\u00f6lze, Hecken und Geb\\u00fcsche/Siedlungen/Einzelbaum/ Baumraster des  Siedlungsbereichs\",\"Biotypfl\\u00e4chen 2020 nach Lebensraumkategorie und Biotoptypenschl\\u00fcssel Typ 1-3/Familieng\\u00e4rten/Siedlungen/Familiengartenanlage\",\"Biotypfl\\u00e4chen 2020 nach Lebensraumkategorie und Biotoptypenschl\\u00fcssel Typ 1-3/Geh\\u00f6lze, Hecken und Geb\\u00fcsche/Geb\\u00fcsche und Geh\\u00f6lzbest\\u00e4nde/Feldhecke\",\"Biotypfl\\u00e4chen 2020 nach Lebensraumkategorie und Biotoptypenschl\\u00fcssel Typ 1-3/Ueberwiegend bebaute Fl\\u00e4chen/Geb\\u00e4ude-, Verkehrs- und Industriefl\\u00e4chen/Flachdach\",\"Biotypfl\\u00e4chen 2020 nach Lebensraumkategorie und Biotoptypenschl\\u00fcssel Typ 1-3/Gew\\u00e4sser/Gew\\u00e4sser/Fliessgew\\u00e4sser\",\"Biotypfl\\u00e4chen 2020 nach Lebensraumkategorie und Biotoptypenschl\\u00fcssel Typ 1-3/Gew\\u00e4sser/Gew\\u00e4sser/Fluss\",\"Biotypfl\\u00e4chen 2020 nach Lebensraumkategorie und Biotoptypenschl\\u00fcssel Typ 1-3/Gr\\u00fcnanlagen/Siedlungen/Friedhof\",\"Biotypfl\\u00e4chen 2020 nach Lebensraumkategorie und Biotoptypenschl\\u00fcssel Typ 1-3/\\u00c4cker, Gartenbaufl\\u00e4chen, Tiergehege/Acker- und Gartenbau-Biotope/Gartenbaufl\\u00e4che\",\"Biotypfl\\u00e4chen 2020 nach Lebensraumkategorie und Biotoptypenschl\\u00fcssel Typ 1-3/Geh\\u00f6lze, Hecken und Geb\\u00fcsche/Siedlungen/Geh\\u00f6lz des Siedlungsbereichs\",\"Biotypfl\\u00e4chen 2020 nach Lebensraumkategorie und Biotoptypenschl\\u00fcssel Typ 1-3/Gew\\u00e4sser/Gew\\u00e4sser/Graben\",\"Biotypfl\\u00e4chen 2020 nach Lebensraumkategorie und Biotoptypenschl\\u00fcssel Typ 1-3/Feuchtgebiete/Geh\\u00f6lzfreie Biotope der S\\u00fcmpfe, Flachmoore und Ufer/Grossegenried\",\"Biotypfl\\u00e4chen 2020 nach Lebensraumkategorie und Biotoptypenschl\\u00fcssel Typ 1-3/Gr\\u00fcnanlagen von Mehrfamilienh\\u00e4usern/Siedlungen/Gr\\u00fcnanlage von Mehrfamilienh\\u00e4usern\",\"Biotypfl\\u00e4chen 2020 nach Lebensraumkategorie und Biotoptypenschl\\u00fcssel Typ 1-3/Ruderalfluren/Ruderalfluren/Halbruderale Gras- und Staudenflur\",\"Biotypfl\\u00e4chen 2020 nach Lebensraumkategorie und Biotoptypenschl\\u00fcssel Typ 1-3/G\\u00e4rten/Siedlungen/Hausgarten\",\"Biotypfl\\u00e4chen 2020 nach Lebensraumkategorie und Biotoptypenschl\\u00fcssel Typ 1-3/Obstg\\u00e4rten/Geb\\u00fcsche und Geh\\u00f6lzbest\\u00e4nde/Hochstamm-Obstgarten\",\"Biotypfl\\u00e4chen 2020 nach Lebensraumkategorie und Biotoptypenschl\\u00fcssel Typ 1-3/Feuchtgebiete/Geh\\u00f6lzfreie Biotope der S\\u00fcmpfe, Flachmoore und Ufer/Hochstaudenflur\",\"Biotypfl\\u00e4chen 2020 nach Lebensraumkategorie und Biotoptypenschl\\u00fcssel Typ 1-3/Wald/W\\u00e4lder/Holzlagerfl\\u00e4che\",\"Biotypfl\\u00e4chen 2020 nach Lebensraumkategorie und Biotoptypenschl\\u00fcssel Typ 1-3/Ueberwiegend bebaute Fl\\u00e4chen/Geb\\u00e4ude-, Verkehrs- und Industriefl\\u00e4chen/Industrie- und Gewerbefl\\u00e4che\",\"Biotypfl\\u00e4chen 2020 nach Lebensraumkategorie und Biotoptypenschl\\u00fcssel Typ 1-3/Wiesen und Rasen/Magerrasen/Kalk-Magerrasen\",\"Biotypfl\\u00e4chen 2020 nach Lebensraumkategorie und Biotoptypenschl\\u00fcssel Typ 1-3/Feuchtgebiete/Geh\\u00f6lzfreie Biotope der S\\u00fcmpfe, Flachmoore und Ufer/Landr\\u00f6hricht\",\"Biotypfl\\u00e4chen 2020 nach Lebensraumkategorie und Biotoptypenschl\\u00fcssel Typ 1-3/\\u00c4cker, Gartenbaufl\\u00e4chen, Tiergehege/Acker- und Gartenbau-Biotope/Landwirtschaftliche Lagerfl\\u00e4che\",\"Biotypfl\\u00e4chen 2020 nach Lebensraumkategorie und Biotoptypenschl\\u00fcssel Typ 1-3/Mauern/Geb\\u00e4ude-, Verkehrs- und Industriefl\\u00e4chen/Mauer/Wand\",\"Biotypfl\\u00e4chen 2020 nach Lebensraumkategorie und Biotoptypenschl\\u00fcssel Typ 1-3/Wiesen und Rasen/Gr\\u00fcnland/Mesophiles Gr\\u00fcnland\",\"Biotypfl\\u00e4chen 2020 nach Lebensraumkategorie und Biotoptypenschl\\u00fcssel Typ 1-3/Geh\\u00f6lze, Hecken und Geb\\u00fcsche/Geb\\u00fcsche und Geh\\u00f6lzbest\\u00e4nde/Moor- und Sumpfgeb\\u00fcsch\",\"Biotypfl\\u00e4chen 2020 nach Lebensraumkategorie und Biotoptypenschl\\u00fcssel Typ 1-3/Wiesen und Rasen/Gr\\u00fcnland/Nasswiese\",\"Biotypfl\\u00e4chen 2020 nach Lebensraumkategorie und Biotoptypenschl\\u00fcssel Typ 1-3/Gew\\u00e4sser/Gew\\u00e4sser/Naturfernes Stillgew\\u00e4sser\",\"Biotypfl\\u00e4chen 2020 nach Lebensraumkategorie und Biotoptypenschl\\u00fcssel Typ 1-3/Geh\\u00f6lze, Hecken und Geb\\u00fcsche/Geb\\u00fcsche und Geh\\u00f6lzbest\\u00e4nde/Naturnahes Feldgeh\\u00f6lz\",\"Biotypfl\\u00e4chen 2020 nach Lebensraumkategorie und Biotoptypenschl\\u00fcssel Typ 1-3/Gew\\u00e4sser/Gew\\u00e4sser/Naturnahes Kleingew\\u00e4sser\",\"Biotypfl\\u00e4chen 2020 nach Lebensraumkategorie und Biotoptypenschl\\u00fcssel Typ 1-3/\\u00c4cker, Gartenbaufl\\u00e4chen, Tiergehege/Acker- und Gartenbau-Biotope/Obstplantage\",\"Biotypfl\\u00e4chen 2020 nach Lebensraumkategorie und Biotoptypenschl\\u00fcssel Typ 1-3/Gew\\u00e4sser/Gew\\u00e4sser/Offene Wasserfl\\u00e4che gr\\u00f6sserer naturnaher n\\u00e4hrstoffarmer Stillgew\\u00e4sser\",\"Biotypfl\\u00e4chen 2020 nach Lebensraumkategorie und Biotoptypenschl\\u00fcssel Typ 1-3/Gr\\u00fcnanlagen/Siedlungen/Parkanlage\",\"Biotypfl\\u00e4chen 2020 nach Lebensraumkategorie und Biotoptypenschl\\u00fcssel Typ 1-3/Feuchtgebiete/Geh\\u00f6lzfreie Biotope der S\\u00fcmpfe, Flachmoore und Ufer/Pfeifengraswiese\",\"Biotypfl\\u00e4chen 2020 nach Lebensraumkategorie und Biotoptypenschl\\u00fcssel Typ 1-3/Gew\\u00e4sser/Gew\\u00e4sser/Pionierfllur trockenfallender Flussufer\",\"Biotypfl\\u00e4chen 2020 nach Lebensraumkategorie und Biotoptypenschl\\u00fcssel Typ 1-3/Feuchtgebiete/Geh\\u00f6lzfreie Biotope der S\\u00fcmpfe, Flachmoore und Ufer/Pioniervegetation (wechsel-)nasser Standorte/vegetationsarmer Uferbereich\",\"Biotypfl\\u00e4chen 2020 nach Lebensraumkategorie und Biotoptypenschl\\u00fcssel Typ 1-3/Ruderalfluren/Ruderalfluren/Ruderalflur\",\"Biotypfl\\u00e4chen 2020 nach Lebensraumkategorie und Biotoptypenschl\\u00fcssel Typ 1-3/Geh\\u00f6lze, Hecken und Geb\\u00fcsche/Geb\\u00fcsche und Geh\\u00f6lzbest\\u00e4nde/Ruderalgeb\\u00fcsch/ Pioniergeb\\u00fcsch\",\"Biotypfl\\u00e4chen 2020 nach Lebensraumkategorie und Biotoptypenschl\\u00fcssel Typ 1-3/Wiesen und Rasen/Siedlungen/Scher- und Trittrasen\",\"Biotypfl\\u00e4chen 2020 nach Lebensraumkategorie und Biotoptypenschl\\u00fcssel Typ 1-3/Wald/W\\u00e4lder/Seggen-Schwarzerlenbruchwald\",\"Biotypfl\\u00e4chen 2020 nach Lebensraumkategorie und Biotoptypenschl\\u00fcssel Typ 1-3/Wiesen und Rasen/Magerrasen/Sonstiger Magerrasen\",\"Biotypfl\\u00e4chen 2020 nach Lebensraumkategorie und Biotoptypenschl\\u00fcssel Typ 1-3/Ueberwiegend bebaute Fl\\u00e4chen/Siedlungen/Sport-/Spiel-/Erholungsanlage\",\"Biotypfl\\u00e4chen 2020 nach Lebensraumkategorie und Biotoptypenschl\\u00fcssel Typ 1-3/\\u00c4cker, Gartenbaufl\\u00e4chen, Tiergehege/Siedlungen/Tiergehege\",\"Biotypfl\\u00e4chen 2020 nach Lebensraumkategorie und Biotoptypenschl\\u00fcssel Typ 1-3/Wald/W\\u00e4lder/Traubenkirschen-Eschenwald\",\"Biotypfl\\u00e4chen 2020 nach Lebensraumkategorie und Biotoptypenschl\\u00fcssel Typ 1-3/Feuchtgebiete/Geh\\u00f6lzfreie Biotope der S\\u00fcmpfe, Flachmoore und Ufer/Uferstaudenflur\",\"Biotypfl\\u00e4chen 2020 nach Lebensraumkategorie und Biotoptypenschl\\u00fcssel Typ 1-3/Ueberwiegend bebaute Fl\\u00e4chen/Geb\\u00e4ude-, Verkehrs- und Industriefl\\u00e4chen/Verkehrsfl\\u00e4che\",\"Biotypfl\\u00e4chen 2020 nach Lebensraumkategorie und Biotoptypenschl\\u00fcssel Typ 1-3/Gew\\u00e4sser/Gew\\u00e4sser/Verlandungsbereich n\\u00e4hrstoffarmer Stillgew\\u00e4sser\",\"Biotypfl\\u00e4chen 2020 nach Lebensraumkategorie und Biotoptypenschl\\u00fcssel Typ 1-3/Wald/W\\u00e4lder/Wald allgemein\",\"Biotypfl\\u00e4chen 2020 nach Lebensraumkategorie und Biotoptypenschl\\u00fcssel Typ 1-3/Wald/W\\u00e4lder/Waldrand\",\"Biotypfl\\u00e4chen 2020 nach Lebensraumkategorie und Biotoptypenschl\\u00fcssel Typ 1-3/Geh\\u00f6lze, Hecken und Geb\\u00fcsche/Geb\\u00fcsche und Geh\\u00f6lzbest\\u00e4nde/Weidengeb\\u00fcsch der Auen und Ufer\",\"Biotypfl\\u00e4chen 2020 nach Lebensraumkategorie und Biotoptypenschl\\u00fcssel Typ 1-3/Geh\\u00f6lze, Hecken und Geb\\u00fcsche/Siedlungen/Ziergeb\\u00fcsch/-hecke\",\"Biotypfl\\u00e4chen 2020 nach Lebensraumkategorie und Biotoptypenschl\\u00fcssel Typ 1-3/Geh\\u00f6lze, Hecken und Geb\\u00fcsche/Geb\\u00fcsche und Geh\\u00f6lzbest\\u00e4nde/mesophiles Geb\\u00fcsch\",\"Biotypfl\\u00e4chen 2020 nach Lebensraumkategorie und Biotoptypenschl\\u00fcssel Typ 1-3/\\u00c4cker, Gartenbaufl\\u00e4chen, Tiergehege/Acker- und Gartenbau-Biotope\",\"Biotypfl\\u00e4chen 2020 nach Lebensraumkategorie und Biotoptypenschl\\u00fcssel Typ 1-3/Kies- und Schotterfl\\u00e4chen/Geb\\u00e4ude-, Verkehrs- und Industriefl\\u00e4chen\",\"Biotypfl\\u00e4chen 2020 nach Lebensraumkategorie und Biotoptypenschl\\u00fcssel Typ 1-3/Mauern/Geb\\u00e4ude-, Verkehrs- und Industriefl\\u00e4chen\",\"Biotypfl\\u00e4chen 2020 nach Lebensraumkategorie und Biotoptypenschl\\u00fcssel Typ 1-3/Ueberwiegend bebaute Fl\\u00e4chen/Geb\\u00e4ude-, Verkehrs- und Industriefl\\u00e4chen\",\"Biotypfl\\u00e4chen 2020 nach Lebensraumkategorie und Biotoptypenschl\\u00fcssel Typ 1-3/Geh\\u00f6lze, Hecken und Geb\\u00fcsche/Geb\\u00fcsche und Geh\\u00f6lzbest\\u00e4nde\",\"Biotypfl\\u00e4chen 2020 nach Lebensraumkategorie und Biotoptypenschl\\u00fcssel Typ 1-3/Obstg\\u00e4rten/Geb\\u00fcsche und Geh\\u00f6lzbest\\u00e4nde\",\"Biotypfl\\u00e4chen 2020 nach Lebensraumkategorie und Biotoptypenschl\\u00fcssel Typ 1-3/Feuchtgebiete/Geh\\u00f6lzfreie Biotope der S\\u00fcmpfe, Flachmoore und Ufer\",\"Biotypfl\\u00e4chen 2020 nach Lebensraumkategorie und Biotoptypenschl\\u00fcssel Typ 1-3/Gew\\u00e4sser/Gew\\u00e4sser\",\"Biotypfl\\u00e4chen 2020 nach Lebensraumkategorie und Biotoptypenschl\\u00fcssel Typ 1-3/Wiesen und Rasen/Gr\\u00fcnland\",\"Biotypfl\\u00e4chen 2020 nach Lebensraumkategorie und Biotoptypenschl\\u00fcssel Typ 1-3/Wiesen und Rasen/Magerrasen\",\"Biotypfl\\u00e4chen 2020 nach Lebensraumkategorie und Biotoptypenschl\\u00fcssel Typ 1-3/Ruderalfluren/Ruderalfluren\",\"Biotypfl\\u00e4chen 2020 nach Lebensraumkategorie und Biotoptypenschl\\u00fcssel Typ 1-3/Beete und Rabatten/Siedlungen\",\"Biotypfl\\u00e4chen 2020 nach Lebensraumkategorie und Biotoptypenschl\\u00fcssel Typ 1-3/Familieng\\u00e4rten/Siedlungen\",\"Biotypfl\\u00e4chen 2020 nach Lebensraumkategorie und Biotoptypenschl\\u00fcssel Typ 1-3/Geh\\u00f6lze, Hecken und Geb\\u00fcsche/Siedlungen\",\"Biotypfl\\u00e4chen 2020 nach Lebensraumkategorie und Biotoptypenschl\\u00fcssel Typ 1-3/Gr\\u00fcnanlagen/Siedlungen\",\"Biotypfl\\u00e4chen 2020 nach Lebensraumkategorie und Biotoptypenschl\\u00fcssel Typ 1-3/Gr\\u00fcnanlagen von Mehrfamilienh\\u00e4usern/Siedlungen\",\"Biotypfl\\u00e4chen 2020 nach Lebensraumkategorie und Biotoptypenschl\\u00fcssel Typ 1-3/G\\u00e4rten/Siedlungen\",\"Biotypfl\\u00e4chen 2020 nach Lebensraumkategorie und Biotoptypenschl\\u00fcssel Typ 1-3/Ueberwiegend bebaute Fl\\u00e4chen/Siedlungen\",\"Biotypfl\\u00e4chen 2020 nach Lebensraumkategorie und Biotoptypenschl\\u00fcssel Typ 1-3/Wiesen und Rasen/Siedlungen\",\"Biotypfl\\u00e4chen 2020 nach Lebensraumkategorie und Biotoptypenschl\\u00fcssel Typ 1-3/\\u00c4cker, Gartenbaufl\\u00e4chen, Tiergehege/Siedlungen\",\"Biotypfl\\u00e4chen 2020 nach Lebensraumkategorie und Biotoptypenschl\\u00fcssel Typ 1-3/Wald/W\\u00e4lder\",\"Biotypfl\\u00e4chen 2020 nach Lebensraumkategorie und Biotoptypenschl\\u00fcssel Typ 1-3/Beete und Rabatten\",\"Biotypfl\\u00e4chen 2020 nach Lebensraumkategorie und Biotoptypenschl\\u00fcssel Typ 1-3/Familieng\\u00e4rten\",\"Biotypfl\\u00e4chen 2020 nach Lebensraumkategorie und Biotoptypenschl\\u00fcssel Typ 1-3/Feuchtgebiete\",\"Biotypfl\\u00e4chen 2020 nach Lebensraumkategorie und Biotoptypenschl\\u00fcssel Typ 1-3/Geh\\u00f6lze, Hecken und Geb\\u00fcsche\",\"Biotypfl\\u00e4chen 2020 nach Lebensraumkategorie und Biotoptypenschl\\u00fcssel Typ 1-3/Gew\\u00e4sser\",\"Biotypfl\\u00e4chen 2020 nach Lebensraumkategorie und Biotoptypenschl\\u00fcssel Typ 1-3/Gr\\u00fcnanlagen\",\"Biotypfl\\u00e4chen 2020 nach Lebensraumkategorie und Biotoptypenschl\\u00fcssel Typ 1-3/Gr\\u00fcnanlagen von Mehrfamilienh\\u00e4usern\",\"Biotypfl\\u00e4chen 2020 nach Lebensraumkategorie und Biotoptypenschl\\u00fcssel Typ 1-3/G\\u00e4rten\",\"Biotypfl\\u00e4chen 2020 nach Lebensraumkategorie und Biotoptypenschl\\u00fcssel Typ 1-3/Kies- und Schotterfl\\u00e4chen\",\"Biotypfl\\u00e4chen 2020 nach Lebensraumkategorie und Biotoptypenschl\\u00fcssel Typ 1-3/Mauern\",\"Biotypfl\\u00e4chen 2020 nach Lebensraumkategorie und Biotoptypenschl\\u00fcssel Typ 1-3/Obstg\\u00e4rten\",\"Biotypfl\\u00e4chen 2020 nach Lebensraumkategorie und Biotoptypenschl\\u00fcssel Typ 1-3/Ruderalfluren\",\"Biotypfl\\u00e4chen 2020 nach Lebensraumkategorie und Biotoptypenschl\\u00fcssel Typ 1-3/Ueberwiegend bebaute Fl\\u00e4chen\",\"Biotypfl\\u00e4chen 2020 nach Lebensraumkategorie und Biotoptypenschl\\u00fcssel Typ 1-3/Wald\",\"Biotypfl\\u00e4chen 2020 nach Lebensraumkategorie und Biotoptypenschl\\u00fcssel Typ 1-3/Wiesen und Rasen\",\"Biotypfl\\u00e4chen 2020 nach Lebensraumkategorie und Biotoptypenschl\\u00fcssel Typ 1-3/\\u00c4cker, Gartenbaufl\\u00e4chen, Tiergehege\",\"Biotypfl\\u00e4chen 2020 nach Lebensraumkategorie und Biotoptypenschl\\u00fcssel Typ 1-3\"],\"labels\":[\"Naturgarten\",\"Schilfr\\u00f6hricht im Verlandungsbereich (ZH: 2a)\",\"Ruderalflur trockenwarmer Standorte\",\"Ruderale Flachdachvegetation\",\"Naturnaher Bach*\",\"M\\u00e4ssig trockene Magerwiese\",\"Grosseggenried mit Schneidebinse (ZH: 3d)\",\"Brombeer-Gestr\\u00fcpp\",\"Baumreihe/-raster mit Fromentalwiese mit BFF-Qualit\\u00e4t*\",\"Weiden- Sumpfgeb\\u00fcsch\",\"Aronstab-Buchenwald (inkl. 11e) (ZH: 11)\",\"Hausgarten\",\"sonstiger Magerrasen\",\"Naturnahes Kleingew\\u00e4sser\",\"Rebberg ohne Terrassen\",\"mesophiles Geb\\u00fcsch\",\"Strukturreiches Siedlungsgeh\\u00f6lz aus \\u00fcberwiegend einheimischen Baumarten\",\"Baumraster mit Zierhecke\",\"Baumraster mit Fromentalwiese\",\"Artenarme Sedum-Flachdachvegetationen\",\"Verlandungsbereich n\\u00e4hrstoffarmer Stillgew\\u00e4sser mit Unterwasservegetation*\",\"Traubenkirschen-Eschenwald (inkl. Nr. 30f) (ZH: 30)\",\"Baumhecke\",\"Bauerngarten\",\"Artenarmes Extensivgr\\u00fcnland*\",\"Artenreicher Scherrasen (Blumenrasen)\",\"Terrassierter Rebberg\",\"Waldrand strukturarm mit Aufwertungspotential\",\"Fl\\u00e4che mit Ziegel-/Betonsteinpflaster\",\"Fl\\u00e4che mit wassergebundener Decke*\",\"Halbruderale Gras- und Staudenflur feuchter Standorte\",\"M\\u00e4ssig ausgebauter Bach*\",\"Strukturreiches Ziergeb\\u00fcsch/ Hecke aus \\u00fcberwiegend einheimischen Geh\\u00f6lzarten\",\"Ruderalflur n\\u00e4hrstoffreicher, frischer bis feuchter Standorte\",\"Ruderalflur trockenwarmer Standorte mit Geh\\u00f6lzen\",\"Fl\\u00e4che mit Natursteinpflaster\",\"Sonstige befestigte Fl\\u00e4chen*\",\"Naturnahes Feldgeh\\u00f6lz\",\"Fl\\u00e4che mit Kies- oder Schotterdecke in Bahnanlagen\",\"Landwirtschaftliche Lagerfl\\u00e4che\",\"Baumraster  mit Baumscheiben\",\"Buntbrachen\",\"Beet/Rabatte\",\"Blumen-Gartenbaufl\\u00e4che\",\"Bultiges Grosseggenried (ZH: 3a)\",\"Flusskies-Pionierflur*\",\"Artenreicher Garten mit Grossb\\u00e4umen\",\"Baumraster mit Rasen\",\"Adlerfarn-Flur magerer Standorte\",\"N\\u00e4hrstoffreicher Sumpf\",\"Bestand der Stumpfbl\\u00e4ttrigen Binse (ZH: 4c)\",\"M\\u00e4ssig ausgebauter Fluss*\",\"Hochstamm-Obstgarten mit Fromentalwiese (m3)\",\"Halbruderale Gras- und Staudenflur trockener Standorte\",\"Artenarmer Ziergarten\",\"Feuchte Fromentalwiese*\",\"Geb\\u00e4ude*\",\"Grosseggenried ausserhalb Wasserstandsschwankungen (ZH: 3b)\",\"Gewerbegebiet (Kleingewerbe und kleingewerbliche Lagerfl\\u00e4chen)\",\"Grosseggenried mit Sumpf-Segge (ZH: 3c)\",\"Kalk-Magerrasen\",\"Strauchhecke mit BFF-Qualit\\u00e4t\",\"Rohrglanzgras-Flussuferr\\u00f6hricht*\",\"Baustelle\",\"Artenarmer Scherrasen (Gebrauchsrasen)\",\"Sukzessionsgeb\\u00fcsch\",\"Artenarme Fromentalwiese\",\"Einzelbaum\",\"Obst- und Gem\\u00fcsegarten\",\"Intensive Flachdachbegr\\u00fcnungen\",\"Fl\\u00e4che mit unbefestigtem Wandkies oder Sand*\",\"Schwimmblattgesellschaften (ZH: 1)\",\"Ziergeb\\u00fcsch/ Hecke aus \\u00fcberwiegend nicht heimischen Geh\\u00f6lzarten\",\"Hochstaudenflur mit Goldrute (ZH: 4b)\",\"Sonstige Sport-, Spiel- und Freizeitanlage\",\"Stark bis v\\u00f6llig ausgebauter Bach*\",\"Halbruderale Gras- und Staudenflur wechselfeuchter Standorte\",\"Pfeifengrasreinbestand auf Torf (ZH: 8c)\",\"Baumreihe/-raster mit kiesigem Untergrund*\",\"Sonstige Neophyten-Flur\",\"S\\u00fcssgras-Bachr\\u00f6hricht*\",\"Strukturarme und artenarme Magerweide\",\"Halbruderale Gras- und Staudenflur mittlerer Standorte\",\"Strauchhecke\",\"Wiesenartige Flachdachvegetation\",\"Waldrand gestuft\",\"Hochstamm-Obstgarten mit Magerwiese\",\"Hochstaudenflur mit Spierstaude (ZH: 4a)\",\"Artenreiche Sedum-Flachdachvegetationen\",\"Artenarme Ruderalflur\",\"Hochstamm-Obstgarten mit Fettwiese (m4)\",\"Naturnaher Fluss*\",\"Intensiv gepflegter Park\",\"Artenarme Moos-Flachdachvegetationen\",\"Stark beeintr\\u00e4chtigtes Stillgew\\u00e4sser nat\\u00fcrlicher Entstehung*\",\"Strukturreiche Familiengartenanlage\",\"Seggen-Schwarzerlenbruchwald (ZH: 44)\",\"Holzlagerfl\\u00e4che\",\"Baumschule\",\"Beton- /Asphaltfl\\u00e4che\",\"Neophytisches Geb\\u00fcsch\",\"Sumpfdotterblumen-Wiese*\",\"Fliessgew\\u00e4sser*\",\"Intensivgr\\u00fcnland auf Flachmoorstandorten\",\"Beerenstrauch-Plantage\",\"Pfeifengraswiese, Kleinseggenausbildung trocken (ZH: 8b)\",\"Waldrand strukturarm\",\"Strukturarme Gr\\u00fcnanlage\",\"Strukturarmes Siedlungsgeh\\u00f6lz aus \\u00fcberwiegend einheimischen Baumarten*\",\"Strukturarmes Ziergeb\\u00fcsch/ Hecke aus \\u00fcberwiegend einheimischen Geh\\u00f6lzarten*\",\"Strukturreiche Gr\\u00fcnanlage\",\"Strukturreiche Magerweide\",\"Strukturreiche artenreiche Magerweide\",\"Tiergehege\",\"Wald allgemein\",\"Zierhecke/ Schnitthecke\",\"Schilf-Landr\\u00f6hricht\",\"Strauch-Baumhecke\",\"Wechseltrockene Magerwiese\",\"Goldruten-Flur\",\"Gem\\u00fcse- und sonstige Gartenbaufl\\u00e4che\",\"Naturnahes n\\u00e4hrstoffarmes Stillgew\\u00e4sser nat\\u00fcrlicher Entstehung*\",\"Natursteinmauer/ wand\",\"Fromentalwiese mit BFF-Qualit\\u00e4t\",\"Parkfriedhof\",\"Pfeifengraswiese, Kleinseggenausbildung feucht (ZH: 8a)\",\"Pioniervegetation schlammiger Nassstandorte*\",\"Strauch-Baumhecke mit  BFF-Qualit\\u00e4t\",\"Zierteich\",\"R\\u00f6hricht mit Rohrkolben (ZH: 2c)\",\"Seebinsenr\\u00f6hricht (ZH: 2b)\",\"Siedlungsgeh\\u00f6lz aus \\u00fcberwiegend nicht heimischen Baumarten\",\"Wiesengraben\",\"Spalierobst-Plantage\",\"Sportplatz\",\"Stark bis v\\u00f6llig ausgebauter Fluss*\",\"Staudenkn\\u00f6terich-Flur\",\"Strasse*\",\"Ruderalflur n\\u00e4hrstoffreicher, frischer bis feuchter Standorte mit Geh\\u00f6lzen\",\"Riesenb\\u00e4renklau-Flur\",\"Acker\",\"Baumraster ohne Baumscheiben\",\"Baumraster mit ruderalem Unterwuchs\",\"Baumraster mit Fettwiese\",\"Alter Landschaftspark\",\"Allee\",\"Fettwiese und -weide\",\"typisches Weiden-Auengeb\\u00fcsch\",\"Acker\",\"Aronstab-Buchenwald\",\"Artenarme Neophytenflur\",\"Artenarmes Gr\\u00fcnland\",\"Artenarmes Magerwiesenstadium\",\"Bach\",\"Baumschule\",\"Baustelle\",\"Beet/ Rabatte\",\"Befestigte Fl\\u00e4che\",\"Befestigte Fl\\u00e4che\",\"Biotopkomplexe und Nutzungstypen der bebauten Bereiche\",\"Einzelbaum\",\"Einzelbaum/ Baumraster des  Siedlungsbereichs\",\"Familiengartenanlage\",\"Feldhecke\",\"Flachdach\",\"Fliessgew\\u00e4sser\",\"Fluss\",\"Friedhof\",\"Gartenbaufl\\u00e4che\",\"Geh\\u00f6lz des Siedlungsbereichs\",\"Graben\",\"Grossegenried\",\"Gr\\u00fcnanlage von Mehrfamilienh\\u00e4usern\",\"Halbruderale Gras- und Staudenflur\",\"Hausgarten\",\"Hochstamm-Obstgarten\",\"Hochstaudenflur\",\"Holzlagerfl\\u00e4che\",\"Industrie- und Gewerbefl\\u00e4che\",\"Kalk-Magerrasen\",\"Landr\\u00f6hricht\",\"Landwirtschaftliche Lagerfl\\u00e4che\",\"Mauer/Wand\",\"Mesophiles Gr\\u00fcnland\",\"Moor- und Sumpfgeb\\u00fcsch\",\"Nasswiese\",\"Naturfernes Stillgew\\u00e4sser\",\"Naturnahes Feldgeh\\u00f6lz\",\"Naturnahes Kleingew\\u00e4sser\",\"Obstplantage\",\"Offene Wasserfl\\u00e4che gr\\u00f6sserer naturnaher n\\u00e4hrstoffarmer Stillgew\\u00e4sser\",\"Parkanlage\",\"Pfeifengraswiese\",\"Pionierfllur trockenfallender Flussufer\",\"Pioniervegetation (wechsel-)nasser Standorte/vegetationsarmer Uferbereich\",\"Ruderalflur\",\"Ruderalgeb\\u00fcsch/ Pioniergeb\\u00fcsch\",\"Scher- und Trittrasen\",\"Seggen-Schwarzerlenbruchwald\",\"Sonstiger Magerrasen\",\"Sport-/Spiel-/Erholungsanlage\",\"Tiergehege\",\"Traubenkirschen-Eschenwald\",\"Uferstaudenflur\",\"Verkehrsfl\\u00e4che\",\"Verlandungsbereich n\\u00e4hrstoffarmer Stillgew\\u00e4sser\",\"Wald allgemein\",\"Waldrand\",\"Weidengeb\\u00fcsch der Auen und Ufer\",\"Ziergeb\\u00fcsch/-hecke\",\"mesophiles Geb\\u00fcsch\",\"Acker- und Gartenbau-Biotope\",\"Geb\\u00e4ude-, Verkehrs- und Industriefl\\u00e4chen\",\"Geb\\u00e4ude-, Verkehrs- und Industriefl\\u00e4chen\",\"Geb\\u00e4ude-, Verkehrs- und Industriefl\\u00e4chen\",\"Geb\\u00fcsche und Geh\\u00f6lzbest\\u00e4nde\",\"Geb\\u00fcsche und Geh\\u00f6lzbest\\u00e4nde\",\"Geh\\u00f6lzfreie Biotope der S\\u00fcmpfe, Flachmoore und Ufer\",\"Gew\\u00e4sser\",\"Gr\\u00fcnland\",\"Magerrasen\",\"Ruderalfluren\",\"Siedlungen\",\"Siedlungen\",\"Siedlungen\",\"Siedlungen\",\"Siedlungen\",\"Siedlungen\",\"Siedlungen\",\"Siedlungen\",\"Siedlungen\",\"W\\u00e4lder\",\"Beete und Rabatten\",\"Familieng\\u00e4rten\",\"Feuchtgebiete\",\"Geh\\u00f6lze, Hecken und Geb\\u00fcsche\",\"Gew\\u00e4sser\",\"Gr\\u00fcnanlagen\",\"Gr\\u00fcnanlagen von Mehrfamilienh\\u00e4usern\",\"G\\u00e4rten\",\"Kies- und Schotterfl\\u00e4chen\",\"Mauern\",\"Obstg\\u00e4rten\",\"Ruderalfluren\",\"Ueberwiegend bebaute Fl\\u00e4chen\",\"Wald\",\"Wiesen und Rasen\",\"\\u00c4cker, Gartenbaufl\\u00e4chen, Tiergehege\",\"Biotypfl\\u00e4chen 2020 nach Lebensraumkategorie und Biotoptypenschl\\u00fcssel Typ 1-3\"],\"marker\":{\"colors\":[\"pink\",\"#104E8B\",\"#CAFF70\",\"grey\",\"#104E8B\",\"#A2CD5A\",\"#636efa\",\"lightgreen\",\"pink\",\"lightgreen\",\"forestgreen\",\"pink\",\"olive\",\"#104E8B\",\"brown\",\"lightgreen\",\"pink\",\"pink\",\"pink\",\"grey\",\"#104E8B\",\"forestgreen\",\"lightgreen\",\"pink\",\"#A2CD5A\",\"pink\",\"brown\",\"forestgreen\",\"grey\",\"grey\",\"#CAFF70\",\"#104E8B\",\"pink\",\"#CAFF70\",\"#CAFF70\",\"grey\",\"grey\",\"lightgreen\",\"grey\",\"brown\",\"pink\",\"brown\",\"pink\",\"brown\",\"#636efa\",\"#104E8B\",\"pink\",\"pink\",\"olive\",\"#636efa\",\"#636efa\",\"#104E8B\",\"lightgreen\",\"#CAFF70\",\"pink\",\"#A2CD5A\",\"grey\",\"#636efa\",\"grey\",\"#636efa\",\"olive\",\"lightgreen\",\"#636efa\",\"grey\",\"pink\",\"lightgreen\",\"#A2CD5A\",\"lightgreen\",\"pink\",\"grey\",\"grey\",\"#104E8B\",\"pink\",\"#636efa\",\"pink\",\"#104E8B\",\"#CAFF70\",\"#636efa\",\"pink\",\"#CAFF70\",\"#636efa\",\"#A2CD5A\",\"#CAFF70\",\"lightgreen\",\"grey\",\"forestgreen\",\"lightgreen\",\"#636efa\",\"grey\",\"#CAFF70\",\"lightgreen\",\"#104E8B\",\"pink\",\"grey\",\"#104E8B\",\"pink\",\"forestgreen\",\"forestgreen\",\"brown\",\"grey\",\"lightgreen\",\"#A2CD5A\",\"#104E8B\",\"#A2CD5A\",\"brown\",\"#636efa\",\"forestgreen\",\"pink\",\"pink\",\"pink\",\"pink\",\"#A2CD5A\",\"#A2CD5A\",\"pink\",\"forestgreen\",\"pink\",\"#636efa\",\"lightgreen\",\"olive\",\"#CAFF70\",\"brown\",\"#104E8B\",\"grey\",\"#A2CD5A\",\"pink\",\"#636efa\",\"#636efa\",\"lightgreen\",\"#104E8B\",\"#104E8B\",\"#104E8B\",\"pink\",\"#104E8B\",\"brown\",\"pink\",\"#104E8B\",\"#CAFF70\",\"grey\",\"#CAFF70\",\"#CAFF70\",\"brown\",\"pink\",\"pink\",\"pink\",\"pink\",\"lightgreen\",\"#A2CD5A\",\"lightgreen\",\"brown\",\"forestgreen\",\"#CAFF70\",\"#A2CD5A\",\"olive\",\"#104E8B\",\"brown\",\"grey\",\"pink\",\"grey\",\"grey\",\"grey\",\"lightgreen\",\"pink\",\"pink\",\"lightgreen\",\"grey\",\"#104E8B\",\"#104E8B\",\"pink\",\"brown\",\"pink\",\"#104E8B\",\"#636efa\",\"pink\",\"#CAFF70\",\"pink\",\"lightgreen\",\"#636efa\",\"forestgreen\",\"grey\",\"olive\",\"#636efa\",\"brown\",\"grey\",\"#A2CD5A\",\"lightgreen\",\"#A2CD5A\",\"#104E8B\",\"lightgreen\",\"#104E8B\",\"brown\",\"#104E8B\",\"pink\",\"#636efa\",\"#104E8B\",\"#636efa\",\"#CAFF70\",\"lightgreen\",\"pink\",\"forestgreen\",\"olive\",\"pink\",\"pink\",\"forestgreen\",\"#636efa\",\"grey\",\"#104E8B\",\"forestgreen\",\"forestgreen\",\"lightgreen\",\"pink\",\"lightgreen\",\"brown\",\"grey\",\"grey\",\"grey\",\"lightgreen\",\"lightgreen\",\"#636efa\",\"#104E8B\",\"#A2CD5A\",\"olive\",\"#CAFF70\",\"pink\",\"pink\",\"pink\",\"pink\",\"pink\",\"pink\",\"pink\",\"pink\",\"pink\",\"forestgreen\",\"pink\",\"pink\",\"#636efa\",\"lightgrey\",\"#104E8B\",\"pink\",\"pink\",\"pink\",\"grey\",\"grey\",\"lightgreen\",\"#CAFF70\",\"lightgrey\",\"forestgreen\",\"lightgrey\",\"lightgrey\",\"lightgrey\"]},\"name\":\"\",\"parents\":[\"Biotypfl\\u00e4chen 2020 nach Lebensraumkategorie und Biotoptypenschl\\u00fcssel Typ 1-3/G\\u00e4rten/Siedlungen/Hausgarten\",\"Biotypfl\\u00e4chen 2020 nach Lebensraumkategorie und Biotoptypenschl\\u00fcssel Typ 1-3/Gew\\u00e4sser/Gew\\u00e4sser/Verlandungsbereich n\\u00e4hrstoffarmer Stillgew\\u00e4sser\",\"Biotypfl\\u00e4chen 2020 nach Lebensraumkategorie und Biotoptypenschl\\u00fcssel Typ 1-3/Ruderalfluren/Ruderalfluren/Ruderalflur\",\"Biotypfl\\u00e4chen 2020 nach Lebensraumkategorie und Biotoptypenschl\\u00fcssel Typ 1-3/Ueberwiegend bebaute Fl\\u00e4chen/Geb\\u00e4ude-, Verkehrs- und Industriefl\\u00e4chen/Flachdach\",\"Biotypfl\\u00e4chen 2020 nach Lebensraumkategorie und Biotoptypenschl\\u00fcssel Typ 1-3/Gew\\u00e4sser/Gew\\u00e4sser/Bach\",\"Biotypfl\\u00e4chen 2020 nach Lebensraumkategorie und Biotoptypenschl\\u00fcssel Typ 1-3/Wiesen und Rasen/Gr\\u00fcnland/Mesophiles Gr\\u00fcnland\",\"Biotypfl\\u00e4chen 2020 nach Lebensraumkategorie und Biotoptypenschl\\u00fcssel Typ 1-3/Feuchtgebiete/Geh\\u00f6lzfreie Biotope der S\\u00fcmpfe, Flachmoore und Ufer/Grossegenried\",\"Biotypfl\\u00e4chen 2020 nach Lebensraumkategorie und Biotoptypenschl\\u00fcssel Typ 1-3/Geh\\u00f6lze, Hecken und Geb\\u00fcsche/Geb\\u00fcsche und Geh\\u00f6lzbest\\u00e4nde/Ruderalgeb\\u00fcsch/ Pioniergeb\\u00fcsch\",\"Biotypfl\\u00e4chen 2020 nach Lebensraumkategorie und Biotoptypenschl\\u00fcssel Typ 1-3/Geh\\u00f6lze, Hecken und Geb\\u00fcsche/Siedlungen/Einzelbaum/ Baumraster des  Siedlungsbereichs\",\"Biotypfl\\u00e4chen 2020 nach Lebensraumkategorie und Biotoptypenschl\\u00fcssel Typ 1-3/Geh\\u00f6lze, Hecken und Geb\\u00fcsche/Geb\\u00fcsche und Geh\\u00f6lzbest\\u00e4nde/Moor- und Sumpfgeb\\u00fcsch\",\"Biotypfl\\u00e4chen 2020 nach Lebensraumkategorie und Biotoptypenschl\\u00fcssel Typ 1-3/Wald/W\\u00e4lder/Aronstab-Buchenwald\",\"Biotypfl\\u00e4chen 2020 nach Lebensraumkategorie und Biotoptypenschl\\u00fcssel Typ 1-3/G\\u00e4rten/Siedlungen/Hausgarten\",\"Biotypfl\\u00e4chen 2020 nach Lebensraumkategorie und Biotoptypenschl\\u00fcssel Typ 1-3/Wiesen und Rasen/Magerrasen/Sonstiger Magerrasen\",\"Biotypfl\\u00e4chen 2020 nach Lebensraumkategorie und Biotoptypenschl\\u00fcssel Typ 1-3/Gew\\u00e4sser/Gew\\u00e4sser/Naturnahes Kleingew\\u00e4sser\",\"Biotypfl\\u00e4chen 2020 nach Lebensraumkategorie und Biotoptypenschl\\u00fcssel Typ 1-3/\\u00c4cker, Gartenbaufl\\u00e4chen, Tiergehege/Acker- und Gartenbau-Biotope/Obstplantage\",\"Biotypfl\\u00e4chen 2020 nach Lebensraumkategorie und Biotoptypenschl\\u00fcssel Typ 1-3/Geh\\u00f6lze, Hecken und Geb\\u00fcsche/Geb\\u00fcsche und Geh\\u00f6lzbest\\u00e4nde/mesophiles Geb\\u00fcsch\",\"Biotypfl\\u00e4chen 2020 nach Lebensraumkategorie und Biotoptypenschl\\u00fcssel Typ 1-3/Geh\\u00f6lze, Hecken und Geb\\u00fcsche/Siedlungen/Geh\\u00f6lz des Siedlungsbereichs\",\"Biotypfl\\u00e4chen 2020 nach Lebensraumkategorie und Biotoptypenschl\\u00fcssel Typ 1-3/Geh\\u00f6lze, Hecken und Geb\\u00fcsche/Siedlungen/Einzelbaum/ Baumraster des  Siedlungsbereichs\",\"Biotypfl\\u00e4chen 2020 nach Lebensraumkategorie und Biotoptypenschl\\u00fcssel Typ 1-3/Geh\\u00f6lze, Hecken und Geb\\u00fcsche/Siedlungen/Einzelbaum/ Baumraster des  Siedlungsbereichs\",\"Biotypfl\\u00e4chen 2020 nach Lebensraumkategorie und Biotoptypenschl\\u00fcssel Typ 1-3/Ueberwiegend bebaute Fl\\u00e4chen/Geb\\u00e4ude-, Verkehrs- und Industriefl\\u00e4chen/Flachdach\",\"Biotypfl\\u00e4chen 2020 nach Lebensraumkategorie und Biotoptypenschl\\u00fcssel Typ 1-3/Gew\\u00e4sser/Gew\\u00e4sser/Verlandungsbereich n\\u00e4hrstoffarmer Stillgew\\u00e4sser\",\"Biotypfl\\u00e4chen 2020 nach Lebensraumkategorie und Biotoptypenschl\\u00fcssel Typ 1-3/Wald/W\\u00e4lder/Traubenkirschen-Eschenwald\",\"Biotypfl\\u00e4chen 2020 nach Lebensraumkategorie und Biotoptypenschl\\u00fcssel Typ 1-3/Geh\\u00f6lze, Hecken und Geb\\u00fcsche/Geb\\u00fcsche und Geh\\u00f6lzbest\\u00e4nde/Feldhecke\",\"Biotypfl\\u00e4chen 2020 nach Lebensraumkategorie und Biotoptypenschl\\u00fcssel Typ 1-3/G\\u00e4rten/Siedlungen/Hausgarten\",\"Biotypfl\\u00e4chen 2020 nach Lebensraumkategorie und Biotoptypenschl\\u00fcssel Typ 1-3/Wiesen und Rasen/Gr\\u00fcnland/Artenarmes Gr\\u00fcnland\",\"Biotypfl\\u00e4chen 2020 nach Lebensraumkategorie und Biotoptypenschl\\u00fcssel Typ 1-3/Wiesen und Rasen/Siedlungen/Scher- und Trittrasen\",\"Biotypfl\\u00e4chen 2020 nach Lebensraumkategorie und Biotoptypenschl\\u00fcssel Typ 1-3/\\u00c4cker, Gartenbaufl\\u00e4chen, Tiergehege/Acker- und Gartenbau-Biotope/Obstplantage\",\"Biotypfl\\u00e4chen 2020 nach Lebensraumkategorie und Biotoptypenschl\\u00fcssel Typ 1-3/Wald/W\\u00e4lder/Waldrand\",\"Biotypfl\\u00e4chen 2020 nach Lebensraumkategorie und Biotoptypenschl\\u00fcssel Typ 1-3/Ueberwiegend bebaute Fl\\u00e4chen/Geb\\u00e4ude-, Verkehrs- und Industriefl\\u00e4chen/Befestigte Fl\\u00e4che\",\"Biotypfl\\u00e4chen 2020 nach Lebensraumkategorie und Biotoptypenschl\\u00fcssel Typ 1-3/Kies- und Schotterfl\\u00e4chen/Geb\\u00e4ude-, Verkehrs- und Industriefl\\u00e4chen/Befestigte Fl\\u00e4che\",\"Biotypfl\\u00e4chen 2020 nach Lebensraumkategorie und Biotoptypenschl\\u00fcssel Typ 1-3/Ruderalfluren/Ruderalfluren/Halbruderale Gras- und Staudenflur\",\"Biotypfl\\u00e4chen 2020 nach Lebensraumkategorie und Biotoptypenschl\\u00fcssel Typ 1-3/Gew\\u00e4sser/Gew\\u00e4sser/Bach\",\"Biotypfl\\u00e4chen 2020 nach Lebensraumkategorie und Biotoptypenschl\\u00fcssel Typ 1-3/Geh\\u00f6lze, Hecken und Geb\\u00fcsche/Siedlungen/Ziergeb\\u00fcsch/-hecke\",\"Biotypfl\\u00e4chen 2020 nach Lebensraumkategorie und Biotoptypenschl\\u00fcssel Typ 1-3/Ruderalfluren/Ruderalfluren/Ruderalflur\",\"Biotypfl\\u00e4chen 2020 nach Lebensraumkategorie und Biotoptypenschl\\u00fcssel Typ 1-3/Ruderalfluren/Ruderalfluren/Ruderalflur\",\"Biotypfl\\u00e4chen 2020 nach Lebensraumkategorie und Biotoptypenschl\\u00fcssel Typ 1-3/Ueberwiegend bebaute Fl\\u00e4chen/Geb\\u00e4ude-, Verkehrs- und Industriefl\\u00e4chen/Befestigte Fl\\u00e4che\",\"Biotypfl\\u00e4chen 2020 nach Lebensraumkategorie und Biotoptypenschl\\u00fcssel Typ 1-3/Ueberwiegend bebaute Fl\\u00e4chen/Geb\\u00e4ude-, Verkehrs- und Industriefl\\u00e4chen/Befestigte Fl\\u00e4che\",\"Biotypfl\\u00e4chen 2020 nach Lebensraumkategorie und Biotoptypenschl\\u00fcssel Typ 1-3/Geh\\u00f6lze, Hecken und Geb\\u00fcsche/Geb\\u00fcsche und Geh\\u00f6lzbest\\u00e4nde/Naturnahes Feldgeh\\u00f6lz\",\"Biotypfl\\u00e4chen 2020 nach Lebensraumkategorie und Biotoptypenschl\\u00fcssel Typ 1-3/Kies- und Schotterfl\\u00e4chen/Geb\\u00e4ude-, Verkehrs- und Industriefl\\u00e4chen/Befestigte Fl\\u00e4che\",\"Biotypfl\\u00e4chen 2020 nach Lebensraumkategorie und Biotoptypenschl\\u00fcssel Typ 1-3/\\u00c4cker, Gartenbaufl\\u00e4chen, Tiergehege/Acker- und Gartenbau-Biotope/Landwirtschaftliche Lagerfl\\u00e4che\",\"Biotypfl\\u00e4chen 2020 nach Lebensraumkategorie und Biotoptypenschl\\u00fcssel Typ 1-3/Geh\\u00f6lze, Hecken und Geb\\u00fcsche/Siedlungen/Einzelbaum/ Baumraster des  Siedlungsbereichs\",\"Biotypfl\\u00e4chen 2020 nach Lebensraumkategorie und Biotoptypenschl\\u00fcssel Typ 1-3/\\u00c4cker, Gartenbaufl\\u00e4chen, Tiergehege/Acker- und Gartenbau-Biotope/Acker\",\"Biotypfl\\u00e4chen 2020 nach Lebensraumkategorie und Biotoptypenschl\\u00fcssel Typ 1-3/Beete und Rabatten/Siedlungen/Beet/ Rabatte\",\"Biotypfl\\u00e4chen 2020 nach Lebensraumkategorie und Biotoptypenschl\\u00fcssel Typ 1-3/\\u00c4cker, Gartenbaufl\\u00e4chen, Tiergehege/Acker- und Gartenbau-Biotope/Gartenbaufl\\u00e4che\",\"Biotypfl\\u00e4chen 2020 nach Lebensraumkategorie und Biotoptypenschl\\u00fcssel Typ 1-3/Feuchtgebiete/Geh\\u00f6lzfreie Biotope der S\\u00fcmpfe, Flachmoore und Ufer/Grossegenried\",\"Biotypfl\\u00e4chen 2020 nach Lebensraumkategorie und Biotoptypenschl\\u00fcssel Typ 1-3/Gew\\u00e4sser/Gew\\u00e4sser/Pionierfllur trockenfallender Flussufer\",\"Biotypfl\\u00e4chen 2020 nach Lebensraumkategorie und Biotoptypenschl\\u00fcssel Typ 1-3/G\\u00e4rten/Siedlungen/Hausgarten\",\"Biotypfl\\u00e4chen 2020 nach Lebensraumkategorie und Biotoptypenschl\\u00fcssel Typ 1-3/Geh\\u00f6lze, Hecken und Geb\\u00fcsche/Siedlungen/Einzelbaum/ Baumraster des  Siedlungsbereichs\",\"Biotypfl\\u00e4chen 2020 nach Lebensraumkategorie und Biotoptypenschl\\u00fcssel Typ 1-3/Wiesen und Rasen/Magerrasen/Artenarmes Magerwiesenstadium\",\"Biotypfl\\u00e4chen 2020 nach Lebensraumkategorie und Biotoptypenschl\\u00fcssel Typ 1-3/Feuchtgebiete/Geh\\u00f6lzfreie Biotope der S\\u00fcmpfe, Flachmoore und Ufer/Uferstaudenflur\",\"Biotypfl\\u00e4chen 2020 nach Lebensraumkategorie und Biotoptypenschl\\u00fcssel Typ 1-3/Feuchtgebiete/Geh\\u00f6lzfreie Biotope der S\\u00fcmpfe, Flachmoore und Ufer/Hochstaudenflur\",\"Biotypfl\\u00e4chen 2020 nach Lebensraumkategorie und Biotoptypenschl\\u00fcssel Typ 1-3/Gew\\u00e4sser/Gew\\u00e4sser/Fluss\",\"Biotypfl\\u00e4chen 2020 nach Lebensraumkategorie und Biotoptypenschl\\u00fcssel Typ 1-3/Obstg\\u00e4rten/Geb\\u00fcsche und Geh\\u00f6lzbest\\u00e4nde/Hochstamm-Obstgarten\",\"Biotypfl\\u00e4chen 2020 nach Lebensraumkategorie und Biotoptypenschl\\u00fcssel Typ 1-3/Ruderalfluren/Ruderalfluren/Halbruderale Gras- und Staudenflur\",\"Biotypfl\\u00e4chen 2020 nach Lebensraumkategorie und Biotoptypenschl\\u00fcssel Typ 1-3/G\\u00e4rten/Siedlungen/Hausgarten\",\"Biotypfl\\u00e4chen 2020 nach Lebensraumkategorie und Biotoptypenschl\\u00fcssel Typ 1-3/Wiesen und Rasen/Gr\\u00fcnland/Mesophiles Gr\\u00fcnland\",\"Biotypfl\\u00e4chen 2020 nach Lebensraumkategorie und Biotoptypenschl\\u00fcssel Typ 1-3/Ueberwiegend bebaute Fl\\u00e4chen/Geb\\u00e4ude-, Verkehrs- und Industriefl\\u00e4chen/Biotopkomplexe und Nutzungstypen der bebauten Bereiche\",\"Biotypfl\\u00e4chen 2020 nach Lebensraumkategorie und Biotoptypenschl\\u00fcssel Typ 1-3/Feuchtgebiete/Geh\\u00f6lzfreie Biotope der S\\u00fcmpfe, Flachmoore und Ufer/Grossegenried\",\"Biotypfl\\u00e4chen 2020 nach Lebensraumkategorie und Biotoptypenschl\\u00fcssel Typ 1-3/Ueberwiegend bebaute Fl\\u00e4chen/Geb\\u00e4ude-, Verkehrs- und Industriefl\\u00e4chen/Industrie- und Gewerbefl\\u00e4che\",\"Biotypfl\\u00e4chen 2020 nach Lebensraumkategorie und Biotoptypenschl\\u00fcssel Typ 1-3/Feuchtgebiete/Geh\\u00f6lzfreie Biotope der S\\u00fcmpfe, Flachmoore und Ufer/Grossegenried\",\"Biotypfl\\u00e4chen 2020 nach Lebensraumkategorie und Biotoptypenschl\\u00fcssel Typ 1-3/Wiesen und Rasen/Magerrasen/Kalk-Magerrasen\",\"Biotypfl\\u00e4chen 2020 nach Lebensraumkategorie und Biotoptypenschl\\u00fcssel Typ 1-3/Geh\\u00f6lze, Hecken und Geb\\u00fcsche/Geb\\u00fcsche und Geh\\u00f6lzbest\\u00e4nde/Feldhecke\",\"Biotypfl\\u00e4chen 2020 nach Lebensraumkategorie und Biotoptypenschl\\u00fcssel Typ 1-3/Feuchtgebiete/Geh\\u00f6lzfreie Biotope der S\\u00fcmpfe, Flachmoore und Ufer/Landr\\u00f6hricht\",\"Biotypfl\\u00e4chen 2020 nach Lebensraumkategorie und Biotoptypenschl\\u00fcssel Typ 1-3/Ueberwiegend bebaute Fl\\u00e4chen/Geb\\u00e4ude-, Verkehrs- und Industriefl\\u00e4chen/Baustelle\",\"Biotypfl\\u00e4chen 2020 nach Lebensraumkategorie und Biotoptypenschl\\u00fcssel Typ 1-3/Wiesen und Rasen/Siedlungen/Scher- und Trittrasen\",\"Biotypfl\\u00e4chen 2020 nach Lebensraumkategorie und Biotoptypenschl\\u00fcssel Typ 1-3/Geh\\u00f6lze, Hecken und Geb\\u00fcsche/Geb\\u00fcsche und Geh\\u00f6lzbest\\u00e4nde/Ruderalgeb\\u00fcsch/ Pioniergeb\\u00fcsch\",\"Biotypfl\\u00e4chen 2020 nach Lebensraumkategorie und Biotoptypenschl\\u00fcssel Typ 1-3/Wiesen und Rasen/Gr\\u00fcnland/Mesophiles Gr\\u00fcnland\",\"Biotypfl\\u00e4chen 2020 nach Lebensraumkategorie und Biotoptypenschl\\u00fcssel Typ 1-3/Geh\\u00f6lze, Hecken und Geb\\u00fcsche/Geb\\u00fcsche und Geh\\u00f6lzbest\\u00e4nde/Einzelbaum\",\"Biotypfl\\u00e4chen 2020 nach Lebensraumkategorie und Biotoptypenschl\\u00fcssel Typ 1-3/G\\u00e4rten/Siedlungen/Hausgarten\",\"Biotypfl\\u00e4chen 2020 nach Lebensraumkategorie und Biotoptypenschl\\u00fcssel Typ 1-3/Ueberwiegend bebaute Fl\\u00e4chen/Geb\\u00e4ude-, Verkehrs- und Industriefl\\u00e4chen/Flachdach\",\"Biotypfl\\u00e4chen 2020 nach Lebensraumkategorie und Biotoptypenschl\\u00fcssel Typ 1-3/Kies- und Schotterfl\\u00e4chen/Geb\\u00e4ude-, Verkehrs- und Industriefl\\u00e4chen/Befestigte Fl\\u00e4che\",\"Biotypfl\\u00e4chen 2020 nach Lebensraumkategorie und Biotoptypenschl\\u00fcssel Typ 1-3/Gew\\u00e4sser/Gew\\u00e4sser/Verlandungsbereich n\\u00e4hrstoffarmer Stillgew\\u00e4sser\",\"Biotypfl\\u00e4chen 2020 nach Lebensraumkategorie und Biotoptypenschl\\u00fcssel Typ 1-3/Geh\\u00f6lze, Hecken und Geb\\u00fcsche/Siedlungen/Ziergeb\\u00fcsch/-hecke\",\"Biotypfl\\u00e4chen 2020 nach Lebensraumkategorie und Biotoptypenschl\\u00fcssel Typ 1-3/Feuchtgebiete/Geh\\u00f6lzfreie Biotope der S\\u00fcmpfe, Flachmoore und Ufer/Hochstaudenflur\",\"Biotypfl\\u00e4chen 2020 nach Lebensraumkategorie und Biotoptypenschl\\u00fcssel Typ 1-3/Ueberwiegend bebaute Fl\\u00e4chen/Siedlungen/Sport-/Spiel-/Erholungsanlage\",\"Biotypfl\\u00e4chen 2020 nach Lebensraumkategorie und Biotoptypenschl\\u00fcssel Typ 1-3/Gew\\u00e4sser/Gew\\u00e4sser/Bach\",\"Biotypfl\\u00e4chen 2020 nach Lebensraumkategorie und Biotoptypenschl\\u00fcssel Typ 1-3/Ruderalfluren/Ruderalfluren/Halbruderale Gras- und Staudenflur\",\"Biotypfl\\u00e4chen 2020 nach Lebensraumkategorie und Biotoptypenschl\\u00fcssel Typ 1-3/Feuchtgebiete/Geh\\u00f6lzfreie Biotope der S\\u00fcmpfe, Flachmoore und Ufer/Pfeifengraswiese\",\"Biotypfl\\u00e4chen 2020 nach Lebensraumkategorie und Biotoptypenschl\\u00fcssel Typ 1-3/Geh\\u00f6lze, Hecken und Geb\\u00fcsche/Siedlungen/Einzelbaum/ Baumraster des  Siedlungsbereichs\",\"Biotypfl\\u00e4chen 2020 nach Lebensraumkategorie und Biotoptypenschl\\u00fcssel Typ 1-3/Ruderalfluren/Ruderalfluren/Artenarme Neophytenflur\",\"Biotypfl\\u00e4chen 2020 nach Lebensraumkategorie und Biotoptypenschl\\u00fcssel Typ 1-3/Feuchtgebiete/Geh\\u00f6lzfreie Biotope der S\\u00fcmpfe, Flachmoore und Ufer/Landr\\u00f6hricht\",\"Biotypfl\\u00e4chen 2020 nach Lebensraumkategorie und Biotoptypenschl\\u00fcssel Typ 1-3/Wiesen und Rasen/Gr\\u00fcnland/Mesophiles Gr\\u00fcnland\",\"Biotypfl\\u00e4chen 2020 nach Lebensraumkategorie und Biotoptypenschl\\u00fcssel Typ 1-3/Ruderalfluren/Ruderalfluren/Halbruderale Gras- und Staudenflur\",\"Biotypfl\\u00e4chen 2020 nach Lebensraumkategorie und Biotoptypenschl\\u00fcssel Typ 1-3/Geh\\u00f6lze, Hecken und Geb\\u00fcsche/Geb\\u00fcsche und Geh\\u00f6lzbest\\u00e4nde/Feldhecke\",\"Biotypfl\\u00e4chen 2020 nach Lebensraumkategorie und Biotoptypenschl\\u00fcssel Typ 1-3/Ueberwiegend bebaute Fl\\u00e4chen/Geb\\u00e4ude-, Verkehrs- und Industriefl\\u00e4chen/Flachdach\",\"Biotypfl\\u00e4chen 2020 nach Lebensraumkategorie und Biotoptypenschl\\u00fcssel Typ 1-3/Wald/W\\u00e4lder/Waldrand\",\"Biotypfl\\u00e4chen 2020 nach Lebensraumkategorie und Biotoptypenschl\\u00fcssel Typ 1-3/Obstg\\u00e4rten/Geb\\u00fcsche und Geh\\u00f6lzbest\\u00e4nde/Hochstamm-Obstgarten\",\"Biotypfl\\u00e4chen 2020 nach Lebensraumkategorie und Biotoptypenschl\\u00fcssel Typ 1-3/Feuchtgebiete/Geh\\u00f6lzfreie Biotope der S\\u00fcmpfe, Flachmoore und Ufer/Hochstaudenflur\",\"Biotypfl\\u00e4chen 2020 nach Lebensraumkategorie und Biotoptypenschl\\u00fcssel Typ 1-3/Ueberwiegend bebaute Fl\\u00e4chen/Geb\\u00e4ude-, Verkehrs- und Industriefl\\u00e4chen/Flachdach\",\"Biotypfl\\u00e4chen 2020 nach Lebensraumkategorie und Biotoptypenschl\\u00fcssel Typ 1-3/Ruderalfluren/Ruderalfluren/Ruderalflur\",\"Biotypfl\\u00e4chen 2020 nach Lebensraumkategorie und Biotoptypenschl\\u00fcssel Typ 1-3/Obstg\\u00e4rten/Geb\\u00fcsche und Geh\\u00f6lzbest\\u00e4nde/Hochstamm-Obstgarten\",\"Biotypfl\\u00e4chen 2020 nach Lebensraumkategorie und Biotoptypenschl\\u00fcssel Typ 1-3/Gew\\u00e4sser/Gew\\u00e4sser/Fluss\",\"Biotypfl\\u00e4chen 2020 nach Lebensraumkategorie und Biotoptypenschl\\u00fcssel Typ 1-3/Gr\\u00fcnanlagen/Siedlungen/Parkanlage\",\"Biotypfl\\u00e4chen 2020 nach Lebensraumkategorie und Biotoptypenschl\\u00fcssel Typ 1-3/Ueberwiegend bebaute Fl\\u00e4chen/Geb\\u00e4ude-, Verkehrs- und Industriefl\\u00e4chen/Flachdach\",\"Biotypfl\\u00e4chen 2020 nach Lebensraumkategorie und Biotoptypenschl\\u00fcssel Typ 1-3/Gew\\u00e4sser/Gew\\u00e4sser/Naturfernes Stillgew\\u00e4sser\",\"Biotypfl\\u00e4chen 2020 nach Lebensraumkategorie und Biotoptypenschl\\u00fcssel Typ 1-3/Familieng\\u00e4rten/Siedlungen/Familiengartenanlage\",\"Biotypfl\\u00e4chen 2020 nach Lebensraumkategorie und Biotoptypenschl\\u00fcssel Typ 1-3/Wald/W\\u00e4lder/Seggen-Schwarzerlenbruchwald\",\"Biotypfl\\u00e4chen 2020 nach Lebensraumkategorie und Biotoptypenschl\\u00fcssel Typ 1-3/Wald/W\\u00e4lder/Holzlagerfl\\u00e4che\",\"Biotypfl\\u00e4chen 2020 nach Lebensraumkategorie und Biotoptypenschl\\u00fcssel Typ 1-3/\\u00c4cker, Gartenbaufl\\u00e4chen, Tiergehege/Acker- und Gartenbau-Biotope/Baumschule\",\"Biotypfl\\u00e4chen 2020 nach Lebensraumkategorie und Biotoptypenschl\\u00fcssel Typ 1-3/Ueberwiegend bebaute Fl\\u00e4chen/Geb\\u00e4ude-, Verkehrs- und Industriefl\\u00e4chen/Befestigte Fl\\u00e4che\",\"Biotypfl\\u00e4chen 2020 nach Lebensraumkategorie und Biotoptypenschl\\u00fcssel Typ 1-3/Geh\\u00f6lze, Hecken und Geb\\u00fcsche/Geb\\u00fcsche und Geh\\u00f6lzbest\\u00e4nde/Ruderalgeb\\u00fcsch/ Pioniergeb\\u00fcsch\",\"Biotypfl\\u00e4chen 2020 nach Lebensraumkategorie und Biotoptypenschl\\u00fcssel Typ 1-3/Wiesen und Rasen/Gr\\u00fcnland/Nasswiese\",\"Biotypfl\\u00e4chen 2020 nach Lebensraumkategorie und Biotoptypenschl\\u00fcssel Typ 1-3/Gew\\u00e4sser/Gew\\u00e4sser/Fliessgew\\u00e4sser\",\"Biotypfl\\u00e4chen 2020 nach Lebensraumkategorie und Biotoptypenschl\\u00fcssel Typ 1-3/Wiesen und Rasen/Gr\\u00fcnland/Artenarmes Gr\\u00fcnland\",\"Biotypfl\\u00e4chen 2020 nach Lebensraumkategorie und Biotoptypenschl\\u00fcssel Typ 1-3/\\u00c4cker, Gartenbaufl\\u00e4chen, Tiergehege/Acker- und Gartenbau-Biotope/Obstplantage\",\"Biotypfl\\u00e4chen 2020 nach Lebensraumkategorie und Biotoptypenschl\\u00fcssel Typ 1-3/Feuchtgebiete/Geh\\u00f6lzfreie Biotope der S\\u00fcmpfe, Flachmoore und Ufer/Pfeifengraswiese\",\"Biotypfl\\u00e4chen 2020 nach Lebensraumkategorie und Biotoptypenschl\\u00fcssel Typ 1-3/Wald/W\\u00e4lder/Waldrand\",\"Biotypfl\\u00e4chen 2020 nach Lebensraumkategorie und Biotoptypenschl\\u00fcssel Typ 1-3/Gr\\u00fcnanlagen von Mehrfamilienh\\u00e4usern/Siedlungen/Gr\\u00fcnanlage von Mehrfamilienh\\u00e4usern\",\"Biotypfl\\u00e4chen 2020 nach Lebensraumkategorie und Biotoptypenschl\\u00fcssel Typ 1-3/Geh\\u00f6lze, Hecken und Geb\\u00fcsche/Siedlungen/Geh\\u00f6lz des Siedlungsbereichs\",\"Biotypfl\\u00e4chen 2020 nach Lebensraumkategorie und Biotoptypenschl\\u00fcssel Typ 1-3/Geh\\u00f6lze, Hecken und Geb\\u00fcsche/Siedlungen/Ziergeb\\u00fcsch/-hecke\",\"Biotypfl\\u00e4chen 2020 nach Lebensraumkategorie und Biotoptypenschl\\u00fcssel Typ 1-3/Gr\\u00fcnanlagen von Mehrfamilienh\\u00e4usern/Siedlungen/Gr\\u00fcnanlage von Mehrfamilienh\\u00e4usern\",\"Biotypfl\\u00e4chen 2020 nach Lebensraumkategorie und Biotoptypenschl\\u00fcssel Typ 1-3/Wiesen und Rasen/Gr\\u00fcnland/Mesophiles Gr\\u00fcnland\",\"Biotypfl\\u00e4chen 2020 nach Lebensraumkategorie und Biotoptypenschl\\u00fcssel Typ 1-3/Wiesen und Rasen/Gr\\u00fcnland/Mesophiles Gr\\u00fcnland\",\"Biotypfl\\u00e4chen 2020 nach Lebensraumkategorie und Biotoptypenschl\\u00fcssel Typ 1-3/\\u00c4cker, Gartenbaufl\\u00e4chen, Tiergehege/Siedlungen/Tiergehege\",\"Biotypfl\\u00e4chen 2020 nach Lebensraumkategorie und Biotoptypenschl\\u00fcssel Typ 1-3/Wald/W\\u00e4lder/Wald allgemein\",\"Biotypfl\\u00e4chen 2020 nach Lebensraumkategorie und Biotoptypenschl\\u00fcssel Typ 1-3/Geh\\u00f6lze, Hecken und Geb\\u00fcsche/Siedlungen/Ziergeb\\u00fcsch/-hecke\",\"Biotypfl\\u00e4chen 2020 nach Lebensraumkategorie und Biotoptypenschl\\u00fcssel Typ 1-3/Feuchtgebiete/Geh\\u00f6lzfreie Biotope der S\\u00fcmpfe, Flachmoore und Ufer/Landr\\u00f6hricht\",\"Biotypfl\\u00e4chen 2020 nach Lebensraumkategorie und Biotoptypenschl\\u00fcssel Typ 1-3/Geh\\u00f6lze, Hecken und Geb\\u00fcsche/Geb\\u00fcsche und Geh\\u00f6lzbest\\u00e4nde/Feldhecke\",\"Biotypfl\\u00e4chen 2020 nach Lebensraumkategorie und Biotoptypenschl\\u00fcssel Typ 1-3/Wiesen und Rasen/Magerrasen/Sonstiger Magerrasen\",\"Biotypfl\\u00e4chen 2020 nach Lebensraumkategorie und Biotoptypenschl\\u00fcssel Typ 1-3/Ruderalfluren/Ruderalfluren/Artenarme Neophytenflur\",\"Biotypfl\\u00e4chen 2020 nach Lebensraumkategorie und Biotoptypenschl\\u00fcssel Typ 1-3/\\u00c4cker, Gartenbaufl\\u00e4chen, Tiergehege/Acker- und Gartenbau-Biotope/Gartenbaufl\\u00e4che\",\"Biotypfl\\u00e4chen 2020 nach Lebensraumkategorie und Biotoptypenschl\\u00fcssel Typ 1-3/Gew\\u00e4sser/Gew\\u00e4sser/Offene Wasserfl\\u00e4che gr\\u00f6sserer naturnaher n\\u00e4hrstoffarmer Stillgew\\u00e4sser\",\"Biotypfl\\u00e4chen 2020 nach Lebensraumkategorie und Biotoptypenschl\\u00fcssel Typ 1-3/Mauern/Geb\\u00e4ude-, Verkehrs- und Industriefl\\u00e4chen/Mauer/Wand\",\"Biotypfl\\u00e4chen 2020 nach Lebensraumkategorie und Biotoptypenschl\\u00fcssel Typ 1-3/Wiesen und Rasen/Gr\\u00fcnland/Mesophiles Gr\\u00fcnland\",\"Biotypfl\\u00e4chen 2020 nach Lebensraumkategorie und Biotoptypenschl\\u00fcssel Typ 1-3/Gr\\u00fcnanlagen/Siedlungen/Friedhof\",\"Biotypfl\\u00e4chen 2020 nach Lebensraumkategorie und Biotoptypenschl\\u00fcssel Typ 1-3/Feuchtgebiete/Geh\\u00f6lzfreie Biotope der S\\u00fcmpfe, Flachmoore und Ufer/Pfeifengraswiese\",\"Biotypfl\\u00e4chen 2020 nach Lebensraumkategorie und Biotoptypenschl\\u00fcssel Typ 1-3/Feuchtgebiete/Geh\\u00f6lzfreie Biotope der S\\u00fcmpfe, Flachmoore und Ufer/Pioniervegetation (wechsel-)nasser Standorte/vegetationsarmer Uferbereich\",\"Biotypfl\\u00e4chen 2020 nach Lebensraumkategorie und Biotoptypenschl\\u00fcssel Typ 1-3/Geh\\u00f6lze, Hecken und Geb\\u00fcsche/Geb\\u00fcsche und Geh\\u00f6lzbest\\u00e4nde/Feldhecke\",\"Biotypfl\\u00e4chen 2020 nach Lebensraumkategorie und Biotoptypenschl\\u00fcssel Typ 1-3/Gew\\u00e4sser/Gew\\u00e4sser/Naturfernes Stillgew\\u00e4sser\",\"Biotypfl\\u00e4chen 2020 nach Lebensraumkategorie und Biotoptypenschl\\u00fcssel Typ 1-3/Gew\\u00e4sser/Gew\\u00e4sser/Verlandungsbereich n\\u00e4hrstoffarmer Stillgew\\u00e4sser\",\"Biotypfl\\u00e4chen 2020 nach Lebensraumkategorie und Biotoptypenschl\\u00fcssel Typ 1-3/Gew\\u00e4sser/Gew\\u00e4sser/Verlandungsbereich n\\u00e4hrstoffarmer Stillgew\\u00e4sser\",\"Biotypfl\\u00e4chen 2020 nach Lebensraumkategorie und Biotoptypenschl\\u00fcssel Typ 1-3/Geh\\u00f6lze, Hecken und Geb\\u00fcsche/Siedlungen/Geh\\u00f6lz des Siedlungsbereichs\",\"Biotypfl\\u00e4chen 2020 nach Lebensraumkategorie und Biotoptypenschl\\u00fcssel Typ 1-3/Gew\\u00e4sser/Gew\\u00e4sser/Graben\",\"Biotypfl\\u00e4chen 2020 nach Lebensraumkategorie und Biotoptypenschl\\u00fcssel Typ 1-3/\\u00c4cker, Gartenbaufl\\u00e4chen, Tiergehege/Acker- und Gartenbau-Biotope/Obstplantage\",\"Biotypfl\\u00e4chen 2020 nach Lebensraumkategorie und Biotoptypenschl\\u00fcssel Typ 1-3/Ueberwiegend bebaute Fl\\u00e4chen/Siedlungen/Sport-/Spiel-/Erholungsanlage\",\"Biotypfl\\u00e4chen 2020 nach Lebensraumkategorie und Biotoptypenschl\\u00fcssel Typ 1-3/Gew\\u00e4sser/Gew\\u00e4sser/Fluss\",\"Biotypfl\\u00e4chen 2020 nach Lebensraumkategorie und Biotoptypenschl\\u00fcssel Typ 1-3/Ruderalfluren/Ruderalfluren/Artenarme Neophytenflur\",\"Biotypfl\\u00e4chen 2020 nach Lebensraumkategorie und Biotoptypenschl\\u00fcssel Typ 1-3/Ueberwiegend bebaute Fl\\u00e4chen/Geb\\u00e4ude-, Verkehrs- und Industriefl\\u00e4chen/Verkehrsfl\\u00e4che\",\"Biotypfl\\u00e4chen 2020 nach Lebensraumkategorie und Biotoptypenschl\\u00fcssel Typ 1-3/Ruderalfluren/Ruderalfluren/Ruderalflur\",\"Biotypfl\\u00e4chen 2020 nach Lebensraumkategorie und Biotoptypenschl\\u00fcssel Typ 1-3/Ruderalfluren/Ruderalfluren/Artenarme Neophytenflur\",\"Biotypfl\\u00e4chen 2020 nach Lebensraumkategorie und Biotoptypenschl\\u00fcssel Typ 1-3/\\u00c4cker, Gartenbaufl\\u00e4chen, Tiergehege/Acker- und Gartenbau-Biotope/Acker\",\"Biotypfl\\u00e4chen 2020 nach Lebensraumkategorie und Biotoptypenschl\\u00fcssel Typ 1-3/Geh\\u00f6lze, Hecken und Geb\\u00fcsche/Siedlungen/Einzelbaum/ Baumraster des  Siedlungsbereichs\",\"Biotypfl\\u00e4chen 2020 nach Lebensraumkategorie und Biotoptypenschl\\u00fcssel Typ 1-3/Geh\\u00f6lze, Hecken und Geb\\u00fcsche/Siedlungen/Einzelbaum/ Baumraster des  Siedlungsbereichs\",\"Biotypfl\\u00e4chen 2020 nach Lebensraumkategorie und Biotoptypenschl\\u00fcssel Typ 1-3/Geh\\u00f6lze, Hecken und Geb\\u00fcsche/Siedlungen/Einzelbaum/ Baumraster des  Siedlungsbereichs\",\"Biotypfl\\u00e4chen 2020 nach Lebensraumkategorie und Biotoptypenschl\\u00fcssel Typ 1-3/Gr\\u00fcnanlagen/Siedlungen/Parkanlage\",\"Biotypfl\\u00e4chen 2020 nach Lebensraumkategorie und Biotoptypenschl\\u00fcssel Typ 1-3/Geh\\u00f6lze, Hecken und Geb\\u00fcsche/Geb\\u00fcsche und Geh\\u00f6lzbest\\u00e4nde/Einzelbaum\",\"Biotypfl\\u00e4chen 2020 nach Lebensraumkategorie und Biotoptypenschl\\u00fcssel Typ 1-3/Wiesen und Rasen/Gr\\u00fcnland/Artenarmes Gr\\u00fcnland\",\"Biotypfl\\u00e4chen 2020 nach Lebensraumkategorie und Biotoptypenschl\\u00fcssel Typ 1-3/Geh\\u00f6lze, Hecken und Geb\\u00fcsche/Geb\\u00fcsche und Geh\\u00f6lzbest\\u00e4nde/Weidengeb\\u00fcsch der Auen und Ufer\",\"Biotypfl\\u00e4chen 2020 nach Lebensraumkategorie und Biotoptypenschl\\u00fcssel Typ 1-3/\\u00c4cker, Gartenbaufl\\u00e4chen, Tiergehege/Acker- und Gartenbau-Biotope\",\"Biotypfl\\u00e4chen 2020 nach Lebensraumkategorie und Biotoptypenschl\\u00fcssel Typ 1-3/Wald/W\\u00e4lder\",\"Biotypfl\\u00e4chen 2020 nach Lebensraumkategorie und Biotoptypenschl\\u00fcssel Typ 1-3/Ruderalfluren/Ruderalfluren\",\"Biotypfl\\u00e4chen 2020 nach Lebensraumkategorie und Biotoptypenschl\\u00fcssel Typ 1-3/Wiesen und Rasen/Gr\\u00fcnland\",\"Biotypfl\\u00e4chen 2020 nach Lebensraumkategorie und Biotoptypenschl\\u00fcssel Typ 1-3/Wiesen und Rasen/Magerrasen\",\"Biotypfl\\u00e4chen 2020 nach Lebensraumkategorie und Biotoptypenschl\\u00fcssel Typ 1-3/Gew\\u00e4sser/Gew\\u00e4sser\",\"Biotypfl\\u00e4chen 2020 nach Lebensraumkategorie und Biotoptypenschl\\u00fcssel Typ 1-3/\\u00c4cker, Gartenbaufl\\u00e4chen, Tiergehege/Acker- und Gartenbau-Biotope\",\"Biotypfl\\u00e4chen 2020 nach Lebensraumkategorie und Biotoptypenschl\\u00fcssel Typ 1-3/Ueberwiegend bebaute Fl\\u00e4chen/Geb\\u00e4ude-, Verkehrs- und Industriefl\\u00e4chen\",\"Biotypfl\\u00e4chen 2020 nach Lebensraumkategorie und Biotoptypenschl\\u00fcssel Typ 1-3/Beete und Rabatten/Siedlungen\",\"Biotypfl\\u00e4chen 2020 nach Lebensraumkategorie und Biotoptypenschl\\u00fcssel Typ 1-3/Kies- und Schotterfl\\u00e4chen/Geb\\u00e4ude-, Verkehrs- und Industriefl\\u00e4chen\",\"Biotypfl\\u00e4chen 2020 nach Lebensraumkategorie und Biotoptypenschl\\u00fcssel Typ 1-3/Ueberwiegend bebaute Fl\\u00e4chen/Geb\\u00e4ude-, Verkehrs- und Industriefl\\u00e4chen\",\"Biotypfl\\u00e4chen 2020 nach Lebensraumkategorie und Biotoptypenschl\\u00fcssel Typ 1-3/Ueberwiegend bebaute Fl\\u00e4chen/Geb\\u00e4ude-, Verkehrs- und Industriefl\\u00e4chen\",\"Biotypfl\\u00e4chen 2020 nach Lebensraumkategorie und Biotoptypenschl\\u00fcssel Typ 1-3/Geh\\u00f6lze, Hecken und Geb\\u00fcsche/Geb\\u00fcsche und Geh\\u00f6lzbest\\u00e4nde\",\"Biotypfl\\u00e4chen 2020 nach Lebensraumkategorie und Biotoptypenschl\\u00fcssel Typ 1-3/Geh\\u00f6lze, Hecken und Geb\\u00fcsche/Siedlungen\",\"Biotypfl\\u00e4chen 2020 nach Lebensraumkategorie und Biotoptypenschl\\u00fcssel Typ 1-3/Familieng\\u00e4rten/Siedlungen\",\"Biotypfl\\u00e4chen 2020 nach Lebensraumkategorie und Biotoptypenschl\\u00fcssel Typ 1-3/Geh\\u00f6lze, Hecken und Geb\\u00fcsche/Geb\\u00fcsche und Geh\\u00f6lzbest\\u00e4nde\",\"Biotypfl\\u00e4chen 2020 nach Lebensraumkategorie und Biotoptypenschl\\u00fcssel Typ 1-3/Ueberwiegend bebaute Fl\\u00e4chen/Geb\\u00e4ude-, Verkehrs- und Industriefl\\u00e4chen\",\"Biotypfl\\u00e4chen 2020 nach Lebensraumkategorie und Biotoptypenschl\\u00fcssel Typ 1-3/Gew\\u00e4sser/Gew\\u00e4sser\",\"Biotypfl\\u00e4chen 2020 nach Lebensraumkategorie und Biotoptypenschl\\u00fcssel Typ 1-3/Gew\\u00e4sser/Gew\\u00e4sser\",\"Biotypfl\\u00e4chen 2020 nach Lebensraumkategorie und Biotoptypenschl\\u00fcssel Typ 1-3/Gr\\u00fcnanlagen/Siedlungen\",\"Biotypfl\\u00e4chen 2020 nach Lebensraumkategorie und Biotoptypenschl\\u00fcssel Typ 1-3/\\u00c4cker, Gartenbaufl\\u00e4chen, Tiergehege/Acker- und Gartenbau-Biotope\",\"Biotypfl\\u00e4chen 2020 nach Lebensraumkategorie und Biotoptypenschl\\u00fcssel Typ 1-3/Geh\\u00f6lze, Hecken und Geb\\u00fcsche/Siedlungen\",\"Biotypfl\\u00e4chen 2020 nach Lebensraumkategorie und Biotoptypenschl\\u00fcssel Typ 1-3/Gew\\u00e4sser/Gew\\u00e4sser\",\"Biotypfl\\u00e4chen 2020 nach Lebensraumkategorie und Biotoptypenschl\\u00fcssel Typ 1-3/Feuchtgebiete/Geh\\u00f6lzfreie Biotope der S\\u00fcmpfe, Flachmoore und Ufer\",\"Biotypfl\\u00e4chen 2020 nach Lebensraumkategorie und Biotoptypenschl\\u00fcssel Typ 1-3/Gr\\u00fcnanlagen von Mehrfamilienh\\u00e4usern/Siedlungen\",\"Biotypfl\\u00e4chen 2020 nach Lebensraumkategorie und Biotoptypenschl\\u00fcssel Typ 1-3/Ruderalfluren/Ruderalfluren\",\"Biotypfl\\u00e4chen 2020 nach Lebensraumkategorie und Biotoptypenschl\\u00fcssel Typ 1-3/G\\u00e4rten/Siedlungen\",\"Biotypfl\\u00e4chen 2020 nach Lebensraumkategorie und Biotoptypenschl\\u00fcssel Typ 1-3/Obstg\\u00e4rten/Geb\\u00fcsche und Geh\\u00f6lzbest\\u00e4nde\",\"Biotypfl\\u00e4chen 2020 nach Lebensraumkategorie und Biotoptypenschl\\u00fcssel Typ 1-3/Feuchtgebiete/Geh\\u00f6lzfreie Biotope der S\\u00fcmpfe, Flachmoore und Ufer\",\"Biotypfl\\u00e4chen 2020 nach Lebensraumkategorie und Biotoptypenschl\\u00fcssel Typ 1-3/Wald/W\\u00e4lder\",\"Biotypfl\\u00e4chen 2020 nach Lebensraumkategorie und Biotoptypenschl\\u00fcssel Typ 1-3/Ueberwiegend bebaute Fl\\u00e4chen/Geb\\u00e4ude-, Verkehrs- und Industriefl\\u00e4chen\",\"Biotypfl\\u00e4chen 2020 nach Lebensraumkategorie und Biotoptypenschl\\u00fcssel Typ 1-3/Wiesen und Rasen/Magerrasen\",\"Biotypfl\\u00e4chen 2020 nach Lebensraumkategorie und Biotoptypenschl\\u00fcssel Typ 1-3/Feuchtgebiete/Geh\\u00f6lzfreie Biotope der S\\u00fcmpfe, Flachmoore und Ufer\",\"Biotypfl\\u00e4chen 2020 nach Lebensraumkategorie und Biotoptypenschl\\u00fcssel Typ 1-3/\\u00c4cker, Gartenbaufl\\u00e4chen, Tiergehege/Acker- und Gartenbau-Biotope\",\"Biotypfl\\u00e4chen 2020 nach Lebensraumkategorie und Biotoptypenschl\\u00fcssel Typ 1-3/Mauern/Geb\\u00e4ude-, Verkehrs- und Industriefl\\u00e4chen\",\"Biotypfl\\u00e4chen 2020 nach Lebensraumkategorie und Biotoptypenschl\\u00fcssel Typ 1-3/Wiesen und Rasen/Gr\\u00fcnland\",\"Biotypfl\\u00e4chen 2020 nach Lebensraumkategorie und Biotoptypenschl\\u00fcssel Typ 1-3/Geh\\u00f6lze, Hecken und Geb\\u00fcsche/Geb\\u00fcsche und Geh\\u00f6lzbest\\u00e4nde\",\"Biotypfl\\u00e4chen 2020 nach Lebensraumkategorie und Biotoptypenschl\\u00fcssel Typ 1-3/Wiesen und Rasen/Gr\\u00fcnland\",\"Biotypfl\\u00e4chen 2020 nach Lebensraumkategorie und Biotoptypenschl\\u00fcssel Typ 1-3/Gew\\u00e4sser/Gew\\u00e4sser\",\"Biotypfl\\u00e4chen 2020 nach Lebensraumkategorie und Biotoptypenschl\\u00fcssel Typ 1-3/Geh\\u00f6lze, Hecken und Geb\\u00fcsche/Geb\\u00fcsche und Geh\\u00f6lzbest\\u00e4nde\",\"Biotypfl\\u00e4chen 2020 nach Lebensraumkategorie und Biotoptypenschl\\u00fcssel Typ 1-3/Gew\\u00e4sser/Gew\\u00e4sser\",\"Biotypfl\\u00e4chen 2020 nach Lebensraumkategorie und Biotoptypenschl\\u00fcssel Typ 1-3/\\u00c4cker, Gartenbaufl\\u00e4chen, Tiergehege/Acker- und Gartenbau-Biotope\",\"Biotypfl\\u00e4chen 2020 nach Lebensraumkategorie und Biotoptypenschl\\u00fcssel Typ 1-3/Gew\\u00e4sser/Gew\\u00e4sser\",\"Biotypfl\\u00e4chen 2020 nach Lebensraumkategorie und Biotoptypenschl\\u00fcssel Typ 1-3/Gr\\u00fcnanlagen/Siedlungen\",\"Biotypfl\\u00e4chen 2020 nach Lebensraumkategorie und Biotoptypenschl\\u00fcssel Typ 1-3/Feuchtgebiete/Geh\\u00f6lzfreie Biotope der S\\u00fcmpfe, Flachmoore und Ufer\",\"Biotypfl\\u00e4chen 2020 nach Lebensraumkategorie und Biotoptypenschl\\u00fcssel Typ 1-3/Gew\\u00e4sser/Gew\\u00e4sser\",\"Biotypfl\\u00e4chen 2020 nach Lebensraumkategorie und Biotoptypenschl\\u00fcssel Typ 1-3/Feuchtgebiete/Geh\\u00f6lzfreie Biotope der S\\u00fcmpfe, Flachmoore und Ufer\",\"Biotypfl\\u00e4chen 2020 nach Lebensraumkategorie und Biotoptypenschl\\u00fcssel Typ 1-3/Ruderalfluren/Ruderalfluren\",\"Biotypfl\\u00e4chen 2020 nach Lebensraumkategorie und Biotoptypenschl\\u00fcssel Typ 1-3/Geh\\u00f6lze, Hecken und Geb\\u00fcsche/Geb\\u00fcsche und Geh\\u00f6lzbest\\u00e4nde\",\"Biotypfl\\u00e4chen 2020 nach Lebensraumkategorie und Biotoptypenschl\\u00fcssel Typ 1-3/Wiesen und Rasen/Siedlungen\",\"Biotypfl\\u00e4chen 2020 nach Lebensraumkategorie und Biotoptypenschl\\u00fcssel Typ 1-3/Wald/W\\u00e4lder\",\"Biotypfl\\u00e4chen 2020 nach Lebensraumkategorie und Biotoptypenschl\\u00fcssel Typ 1-3/Wiesen und Rasen/Magerrasen\",\"Biotypfl\\u00e4chen 2020 nach Lebensraumkategorie und Biotoptypenschl\\u00fcssel Typ 1-3/Ueberwiegend bebaute Fl\\u00e4chen/Siedlungen\",\"Biotypfl\\u00e4chen 2020 nach Lebensraumkategorie und Biotoptypenschl\\u00fcssel Typ 1-3/\\u00c4cker, Gartenbaufl\\u00e4chen, Tiergehege/Siedlungen\",\"Biotypfl\\u00e4chen 2020 nach Lebensraumkategorie und Biotoptypenschl\\u00fcssel Typ 1-3/Wald/W\\u00e4lder\",\"Biotypfl\\u00e4chen 2020 nach Lebensraumkategorie und Biotoptypenschl\\u00fcssel Typ 1-3/Feuchtgebiete/Geh\\u00f6lzfreie Biotope der S\\u00fcmpfe, Flachmoore und Ufer\",\"Biotypfl\\u00e4chen 2020 nach Lebensraumkategorie und Biotoptypenschl\\u00fcssel Typ 1-3/Ueberwiegend bebaute Fl\\u00e4chen/Geb\\u00e4ude-, Verkehrs- und Industriefl\\u00e4chen\",\"Biotypfl\\u00e4chen 2020 nach Lebensraumkategorie und Biotoptypenschl\\u00fcssel Typ 1-3/Gew\\u00e4sser/Gew\\u00e4sser\",\"Biotypfl\\u00e4chen 2020 nach Lebensraumkategorie und Biotoptypenschl\\u00fcssel Typ 1-3/Wald/W\\u00e4lder\",\"Biotypfl\\u00e4chen 2020 nach Lebensraumkategorie und Biotoptypenschl\\u00fcssel Typ 1-3/Wald/W\\u00e4lder\",\"Biotypfl\\u00e4chen 2020 nach Lebensraumkategorie und Biotoptypenschl\\u00fcssel Typ 1-3/Geh\\u00f6lze, Hecken und Geb\\u00fcsche/Geb\\u00fcsche und Geh\\u00f6lzbest\\u00e4nde\",\"Biotypfl\\u00e4chen 2020 nach Lebensraumkategorie und Biotoptypenschl\\u00fcssel Typ 1-3/Geh\\u00f6lze, Hecken und Geb\\u00fcsche/Siedlungen\",\"Biotypfl\\u00e4chen 2020 nach Lebensraumkategorie und Biotoptypenschl\\u00fcssel Typ 1-3/Geh\\u00f6lze, Hecken und Geb\\u00fcsche/Geb\\u00fcsche und Geh\\u00f6lzbest\\u00e4nde\",\"Biotypfl\\u00e4chen 2020 nach Lebensraumkategorie und Biotoptypenschl\\u00fcssel Typ 1-3/\\u00c4cker, Gartenbaufl\\u00e4chen, Tiergehege\",\"Biotypfl\\u00e4chen 2020 nach Lebensraumkategorie und Biotoptypenschl\\u00fcssel Typ 1-3/Kies- und Schotterfl\\u00e4chen\",\"Biotypfl\\u00e4chen 2020 nach Lebensraumkategorie und Biotoptypenschl\\u00fcssel Typ 1-3/Mauern\",\"Biotypfl\\u00e4chen 2020 nach Lebensraumkategorie und Biotoptypenschl\\u00fcssel Typ 1-3/Ueberwiegend bebaute Fl\\u00e4chen\",\"Biotypfl\\u00e4chen 2020 nach Lebensraumkategorie und Biotoptypenschl\\u00fcssel Typ 1-3/Geh\\u00f6lze, Hecken und Geb\\u00fcsche\",\"Biotypfl\\u00e4chen 2020 nach Lebensraumkategorie und Biotoptypenschl\\u00fcssel Typ 1-3/Obstg\\u00e4rten\",\"Biotypfl\\u00e4chen 2020 nach Lebensraumkategorie und Biotoptypenschl\\u00fcssel Typ 1-3/Feuchtgebiete\",\"Biotypfl\\u00e4chen 2020 nach Lebensraumkategorie und Biotoptypenschl\\u00fcssel Typ 1-3/Gew\\u00e4sser\",\"Biotypfl\\u00e4chen 2020 nach Lebensraumkategorie und Biotoptypenschl\\u00fcssel Typ 1-3/Wiesen und Rasen\",\"Biotypfl\\u00e4chen 2020 nach Lebensraumkategorie und Biotoptypenschl\\u00fcssel Typ 1-3/Wiesen und Rasen\",\"Biotypfl\\u00e4chen 2020 nach Lebensraumkategorie und Biotoptypenschl\\u00fcssel Typ 1-3/Ruderalfluren\",\"Biotypfl\\u00e4chen 2020 nach Lebensraumkategorie und Biotoptypenschl\\u00fcssel Typ 1-3/Beete und Rabatten\",\"Biotypfl\\u00e4chen 2020 nach Lebensraumkategorie und Biotoptypenschl\\u00fcssel Typ 1-3/Familieng\\u00e4rten\",\"Biotypfl\\u00e4chen 2020 nach Lebensraumkategorie und Biotoptypenschl\\u00fcssel Typ 1-3/Geh\\u00f6lze, Hecken und Geb\\u00fcsche\",\"Biotypfl\\u00e4chen 2020 nach Lebensraumkategorie und Biotoptypenschl\\u00fcssel Typ 1-3/Gr\\u00fcnanlagen\",\"Biotypfl\\u00e4chen 2020 nach Lebensraumkategorie und Biotoptypenschl\\u00fcssel Typ 1-3/Gr\\u00fcnanlagen von Mehrfamilienh\\u00e4usern\",\"Biotypfl\\u00e4chen 2020 nach Lebensraumkategorie und Biotoptypenschl\\u00fcssel Typ 1-3/G\\u00e4rten\",\"Biotypfl\\u00e4chen 2020 nach Lebensraumkategorie und Biotoptypenschl\\u00fcssel Typ 1-3/Ueberwiegend bebaute Fl\\u00e4chen\",\"Biotypfl\\u00e4chen 2020 nach Lebensraumkategorie und Biotoptypenschl\\u00fcssel Typ 1-3/Wiesen und Rasen\",\"Biotypfl\\u00e4chen 2020 nach Lebensraumkategorie und Biotoptypenschl\\u00fcssel Typ 1-3/\\u00c4cker, Gartenbaufl\\u00e4chen, Tiergehege\",\"Biotypfl\\u00e4chen 2020 nach Lebensraumkategorie und Biotoptypenschl\\u00fcssel Typ 1-3/Wald\",\"Biotypfl\\u00e4chen 2020 nach Lebensraumkategorie und Biotoptypenschl\\u00fcssel Typ 1-3\",\"Biotypfl\\u00e4chen 2020 nach Lebensraumkategorie und Biotoptypenschl\\u00fcssel Typ 1-3\",\"Biotypfl\\u00e4chen 2020 nach Lebensraumkategorie und Biotoptypenschl\\u00fcssel Typ 1-3\",\"Biotypfl\\u00e4chen 2020 nach Lebensraumkategorie und Biotoptypenschl\\u00fcssel Typ 1-3\",\"Biotypfl\\u00e4chen 2020 nach Lebensraumkategorie und Biotoptypenschl\\u00fcssel Typ 1-3\",\"Biotypfl\\u00e4chen 2020 nach Lebensraumkategorie und Biotoptypenschl\\u00fcssel Typ 1-3\",\"Biotypfl\\u00e4chen 2020 nach Lebensraumkategorie und Biotoptypenschl\\u00fcssel Typ 1-3\",\"Biotypfl\\u00e4chen 2020 nach Lebensraumkategorie und Biotoptypenschl\\u00fcssel Typ 1-3\",\"Biotypfl\\u00e4chen 2020 nach Lebensraumkategorie und Biotoptypenschl\\u00fcssel Typ 1-3\",\"Biotypfl\\u00e4chen 2020 nach Lebensraumkategorie und Biotoptypenschl\\u00fcssel Typ 1-3\",\"Biotypfl\\u00e4chen 2020 nach Lebensraumkategorie und Biotoptypenschl\\u00fcssel Typ 1-3\",\"Biotypfl\\u00e4chen 2020 nach Lebensraumkategorie und Biotoptypenschl\\u00fcssel Typ 1-3\",\"Biotypfl\\u00e4chen 2020 nach Lebensraumkategorie und Biotoptypenschl\\u00fcssel Typ 1-3\",\"Biotypfl\\u00e4chen 2020 nach Lebensraumkategorie und Biotoptypenschl\\u00fcssel Typ 1-3\",\"Biotypfl\\u00e4chen 2020 nach Lebensraumkategorie und Biotoptypenschl\\u00fcssel Typ 1-3\",\"Biotypfl\\u00e4chen 2020 nach Lebensraumkategorie und Biotoptypenschl\\u00fcssel Typ 1-3\",\"\"],\"root\":{\"color\":\"grey\"},\"type\":\"treemap\",\"values\":[91728.85662336108,27501.450802931715,159109.51795258478,1264.8473029230227,96467.90029750466,352910.69577351114,24586.287606289614,16169.521133123571,94513.01237812685,38096.11336509397,220.4402248766232,2890565.7907430194,30180.694287956892,37273.28974560195,96577.15014311217,1924.0868211776692,918914.5857147012,140998.85578435825,190727.4074851841,1318.2535206156513,549397.8679145633,111.87213679781716,38650.92904022757,69123.9738776447,385622.64171441185,265620.8302921334,40680.8836154732,9268.697501295248,1010595.955613605,1578023.0092440115,89193.36536717521,33690.41863526298,451042.9664787677,63205.12055369359,33973.095913702025,588771.3066388996,94453.88559192563,53644.200665900586,923458.4135663413,23344.891483851417,403736.53233765136,3640.676812635949,88777.57088741209,44857.65892645256,21347.98372443171,4503.217700897957,488429.80136541865,269846.23976828926,334.3499991642731,9297.359926138752,17890.45391563421,363293.4529967553,172371.19703856827,184779.9750187551,2193633.88441025,32076.9603981509,9930630.363919077,26846.99117884156,3107.309331304658,22887.51932417301,50403.34163895831,26159.134200301243,12182.396713862427,54949.26394448965,1090505.6633447874,7540.335508777553,1304851.2454321254,8163.304187465388,19802.179468659677,529.1431933543388,27560.664474167294,15437.835226656643,61722.878463897294,5570.276098159063,120950.98939509856,35006.30649006192,10091.617873441559,1034.5109915917774,250001.66292319723,3852.097230767955,528.5378966695422,162344.15704512526,451353.0595539988,99600.13173119299,363.0047470368304,3619.006069589521,13103.986580308681,65118.237006713854,1388.2192938650912,569247.9527578861,539462.7694293865,126818.067538546,315309.5647496528,242.16611597438242,3397216.945910547,1571613.8570536468,3402.6948706309145,2742.167528917179,124405.32971426453,8164996.99372697,14068.78492529858,645.3656440788006,75834.43911898544,26517.983956227625,7327.294524323805,3229.1712348563424,145.2848394836369,4631274.275034228,173408.83399810147,122285.34955319953,3714592.6198853157,33804.47699788806,3733.214314279605,16412.479561125954,21385589.492562693,113591.48493441263,38796.58981692612,118974.49476260593,34077.24528513236,6593.311659840511,42479.18798006694,168326.95236940234,3254.2653870818085,583691.2542488886,453041.202578402,30814.396913349283,121.50956944851139,4927.361186369983,65253.465106282776,491.17511779627085,308.9978408550244,21846.649248315334,8660.245137549795,117666.06504922677,482633.58544248407,186232.68855786187,4597.463633836908,506458.8591435618,36670.22662847536,325.32378550419827,2813446.551700476,59158.96294193625,181912.15458520132,159829.59638350748,371571.91547598864,6873.346343103778,2820371.0429771333,13691.457203071946,2817087.228513112,220.4402248766232,15368.196309949573,3232511.6686477726,334.3499991642731,165164.62542282956,124405.32971426453,54949.26394448965,88777.57088741209,2529042.0872845203,9858818.141571399,9930630.363919077,15036.650530569166,1750724.424587452,1571613.8570536468,288312.05092069774,5105.6341737693165,75834.43911898544,676344.2090931631,453041.202578402,87336.8469065195,1114170.068961118,8660.245137549795,95668.78183373589,8345866.894919544,735418.0178133707,5753284.486488353,724937.9530482634,88578.96702050713,2742.167528917179,3107.309331304658,50403.34163895831,51507.52442745809,23344.891483851417,3254.2653870818085,2473412.004209969,38096.11336509397,645.3656440788006,3462470.41101683,53644.200665900586,37273.28974560195,262251.393332136,168326.95236940234,686881.4802256415,35078.0791397974,4503.217700897957,121.50956944851139,862205.9138063418,37778.6415671997,1356126.4936369208,3402.6948706309145,64257.93957308926,603584.5748375827,16412.479561125954,111.87213679781716,9297.359926138752,506458.8591435618,593137.3269028029,21385589.492562693,13032.988410368405,13691.457203071946,748642.6794302771,1924.0868211776692,3314425.6899498836,2529042.0872845203,3254.2653870818085,20359069.572083604,448483.20107371075,724937.9530482634,280252.22191708576,5191714.716508063,5706569.0385018205,114995.63121121185,1612992.1279296621,88777.57088741209,1571613.8570536468,3613537.1729788473,1139922.6828040434,8345866.894919544,5753284.486488353,603584.5748375827,1356126.4936369208,16412.479561125954,21405099.655734282,88777.57088741209,1571613.8570536468,280252.22191708576,4062020.374052558,5191714.716508063,1139922.6828040434,8345866.894919544,5753284.486488353,2529042.0872845203,3254.2653870818085,724937.9530482634,1612992.1279296621,20962654.146921184,21405099.655734282,7177691.163349953,3330838.1695110095,84179962.37379667]}],                        {\"height\":500,\"legend\":{\"tracegroupgap\":0},\"margin\":{\"b\":25,\"l\":25,\"r\":250,\"t\":50},\"template\":{\"data\":{\"bar\":[{\"error_x\":{\"color\":\"#2a3f5f\"},\"error_y\":{\"color\":\"#2a3f5f\"},\"marker\":{\"line\":{\"color\":\"#E5ECF6\",\"width\":0.5},\"pattern\":{\"fillmode\":\"overlay\",\"size\":10,\"solidity\":0.2}},\"type\":\"bar\"}],\"barpolar\":[{\"marker\":{\"line\":{\"color\":\"#E5ECF6\",\"width\":0.5},\"pattern\":{\"fillmode\":\"overlay\",\"size\":10,\"solidity\":0.2}},\"type\":\"barpolar\"}],\"carpet\":[{\"aaxis\":{\"endlinecolor\":\"#2a3f5f\",\"gridcolor\":\"white\",\"linecolor\":\"white\",\"minorgridcolor\":\"white\",\"startlinecolor\":\"#2a3f5f\"},\"baxis\":{\"endlinecolor\":\"#2a3f5f\",\"gridcolor\":\"white\",\"linecolor\":\"white\",\"minorgridcolor\":\"white\",\"startlinecolor\":\"#2a3f5f\"},\"type\":\"carpet\"}],\"choropleth\":[{\"colorbar\":{\"outlinewidth\":0,\"ticks\":\"\"},\"type\":\"choropleth\"}],\"contour\":[{\"colorbar\":{\"outlinewidth\":0,\"ticks\":\"\"},\"colorscale\":[[0.0,\"#0d0887\"],[0.1111111111111111,\"#46039f\"],[0.2222222222222222,\"#7201a8\"],[0.3333333333333333,\"#9c179e\"],[0.4444444444444444,\"#bd3786\"],[0.5555555555555556,\"#d8576b\"],[0.6666666666666666,\"#ed7953\"],[0.7777777777777778,\"#fb9f3a\"],[0.8888888888888888,\"#fdca26\"],[1.0,\"#f0f921\"]],\"type\":\"contour\"}],\"contourcarpet\":[{\"colorbar\":{\"outlinewidth\":0,\"ticks\":\"\"},\"type\":\"contourcarpet\"}],\"heatmap\":[{\"colorbar\":{\"outlinewidth\":0,\"ticks\":\"\"},\"colorscale\":[[0.0,\"#0d0887\"],[0.1111111111111111,\"#46039f\"],[0.2222222222222222,\"#7201a8\"],[0.3333333333333333,\"#9c179e\"],[0.4444444444444444,\"#bd3786\"],[0.5555555555555556,\"#d8576b\"],[0.6666666666666666,\"#ed7953\"],[0.7777777777777778,\"#fb9f3a\"],[0.8888888888888888,\"#fdca26\"],[1.0,\"#f0f921\"]],\"type\":\"heatmap\"}],\"heatmapgl\":[{\"colorbar\":{\"outlinewidth\":0,\"ticks\":\"\"},\"colorscale\":[[0.0,\"#0d0887\"],[0.1111111111111111,\"#46039f\"],[0.2222222222222222,\"#7201a8\"],[0.3333333333333333,\"#9c179e\"],[0.4444444444444444,\"#bd3786\"],[0.5555555555555556,\"#d8576b\"],[0.6666666666666666,\"#ed7953\"],[0.7777777777777778,\"#fb9f3a\"],[0.8888888888888888,\"#fdca26\"],[1.0,\"#f0f921\"]],\"type\":\"heatmapgl\"}],\"histogram\":[{\"marker\":{\"pattern\":{\"fillmode\":\"overlay\",\"size\":10,\"solidity\":0.2}},\"type\":\"histogram\"}],\"histogram2d\":[{\"colorbar\":{\"outlinewidth\":0,\"ticks\":\"\"},\"colorscale\":[[0.0,\"#0d0887\"],[0.1111111111111111,\"#46039f\"],[0.2222222222222222,\"#7201a8\"],[0.3333333333333333,\"#9c179e\"],[0.4444444444444444,\"#bd3786\"],[0.5555555555555556,\"#d8576b\"],[0.6666666666666666,\"#ed7953\"],[0.7777777777777778,\"#fb9f3a\"],[0.8888888888888888,\"#fdca26\"],[1.0,\"#f0f921\"]],\"type\":\"histogram2d\"}],\"histogram2dcontour\":[{\"colorbar\":{\"outlinewidth\":0,\"ticks\":\"\"},\"colorscale\":[[0.0,\"#0d0887\"],[0.1111111111111111,\"#46039f\"],[0.2222222222222222,\"#7201a8\"],[0.3333333333333333,\"#9c179e\"],[0.4444444444444444,\"#bd3786\"],[0.5555555555555556,\"#d8576b\"],[0.6666666666666666,\"#ed7953\"],[0.7777777777777778,\"#fb9f3a\"],[0.8888888888888888,\"#fdca26\"],[1.0,\"#f0f921\"]],\"type\":\"histogram2dcontour\"}],\"mesh3d\":[{\"colorbar\":{\"outlinewidth\":0,\"ticks\":\"\"},\"type\":\"mesh3d\"}],\"parcoords\":[{\"line\":{\"colorbar\":{\"outlinewidth\":0,\"ticks\":\"\"}},\"type\":\"parcoords\"}],\"pie\":[{\"automargin\":true,\"type\":\"pie\"}],\"scatter\":[{\"marker\":{\"colorbar\":{\"outlinewidth\":0,\"ticks\":\"\"}},\"type\":\"scatter\"}],\"scatter3d\":[{\"line\":{\"colorbar\":{\"outlinewidth\":0,\"ticks\":\"\"}},\"marker\":{\"colorbar\":{\"outlinewidth\":0,\"ticks\":\"\"}},\"type\":\"scatter3d\"}],\"scattercarpet\":[{\"marker\":{\"colorbar\":{\"outlinewidth\":0,\"ticks\":\"\"}},\"type\":\"scattercarpet\"}],\"scattergeo\":[{\"marker\":{\"colorbar\":{\"outlinewidth\":0,\"ticks\":\"\"}},\"type\":\"scattergeo\"}],\"scattergl\":[{\"marker\":{\"colorbar\":{\"outlinewidth\":0,\"ticks\":\"\"}},\"type\":\"scattergl\"}],\"scattermapbox\":[{\"marker\":{\"colorbar\":{\"outlinewidth\":0,\"ticks\":\"\"}},\"type\":\"scattermapbox\"}],\"scatterpolar\":[{\"marker\":{\"colorbar\":{\"outlinewidth\":0,\"ticks\":\"\"}},\"type\":\"scatterpolar\"}],\"scatterpolargl\":[{\"marker\":{\"colorbar\":{\"outlinewidth\":0,\"ticks\":\"\"}},\"type\":\"scatterpolargl\"}],\"scatterternary\":[{\"marker\":{\"colorbar\":{\"outlinewidth\":0,\"ticks\":\"\"}},\"type\":\"scatterternary\"}],\"surface\":[{\"colorbar\":{\"outlinewidth\":0,\"ticks\":\"\"},\"colorscale\":[[0.0,\"#0d0887\"],[0.1111111111111111,\"#46039f\"],[0.2222222222222222,\"#7201a8\"],[0.3333333333333333,\"#9c179e\"],[0.4444444444444444,\"#bd3786\"],[0.5555555555555556,\"#d8576b\"],[0.6666666666666666,\"#ed7953\"],[0.7777777777777778,\"#fb9f3a\"],[0.8888888888888888,\"#fdca26\"],[1.0,\"#f0f921\"]],\"type\":\"surface\"}],\"table\":[{\"cells\":{\"fill\":{\"color\":\"#EBF0F8\"},\"line\":{\"color\":\"white\"}},\"header\":{\"fill\":{\"color\":\"#C8D4E3\"},\"line\":{\"color\":\"white\"}},\"type\":\"table\"}]},\"layout\":{\"annotationdefaults\":{\"arrowcolor\":\"#2a3f5f\",\"arrowhead\":0,\"arrowwidth\":1},\"autotypenumbers\":\"strict\",\"coloraxis\":{\"colorbar\":{\"outlinewidth\":0,\"ticks\":\"\"}},\"colorscale\":{\"diverging\":[[0,\"#8e0152\"],[0.1,\"#c51b7d\"],[0.2,\"#de77ae\"],[0.3,\"#f1b6da\"],[0.4,\"#fde0ef\"],[0.5,\"#f7f7f7\"],[0.6,\"#e6f5d0\"],[0.7,\"#b8e186\"],[0.8,\"#7fbc41\"],[0.9,\"#4d9221\"],[1,\"#276419\"]],\"sequential\":[[0.0,\"#0d0887\"],[0.1111111111111111,\"#46039f\"],[0.2222222222222222,\"#7201a8\"],[0.3333333333333333,\"#9c179e\"],[0.4444444444444444,\"#bd3786\"],[0.5555555555555556,\"#d8576b\"],[0.6666666666666666,\"#ed7953\"],[0.7777777777777778,\"#fb9f3a\"],[0.8888888888888888,\"#fdca26\"],[1.0,\"#f0f921\"]],\"sequentialminus\":[[0.0,\"#0d0887\"],[0.1111111111111111,\"#46039f\"],[0.2222222222222222,\"#7201a8\"],[0.3333333333333333,\"#9c179e\"],[0.4444444444444444,\"#bd3786\"],[0.5555555555555556,\"#d8576b\"],[0.6666666666666666,\"#ed7953\"],[0.7777777777777778,\"#fb9f3a\"],[0.8888888888888888,\"#fdca26\"],[1.0,\"#f0f921\"]]},\"colorway\":[\"#636efa\",\"#EF553B\",\"#00cc96\",\"#ab63fa\",\"#FFA15A\",\"#19d3f3\",\"#FF6692\",\"#B6E880\",\"#FF97FF\",\"#FECB52\"],\"font\":{\"color\":\"#2a3f5f\"},\"geo\":{\"bgcolor\":\"white\",\"lakecolor\":\"white\",\"landcolor\":\"#E5ECF6\",\"showlakes\":true,\"showland\":true,\"subunitcolor\":\"white\"},\"hoverlabel\":{\"align\":\"left\"},\"hovermode\":\"closest\",\"mapbox\":{\"style\":\"light\"},\"paper_bgcolor\":\"white\",\"plot_bgcolor\":\"#E5ECF6\",\"polar\":{\"angularaxis\":{\"gridcolor\":\"white\",\"linecolor\":\"white\",\"ticks\":\"\"},\"bgcolor\":\"#E5ECF6\",\"radialaxis\":{\"gridcolor\":\"white\",\"linecolor\":\"white\",\"ticks\":\"\"}},\"scene\":{\"xaxis\":{\"backgroundcolor\":\"#E5ECF6\",\"gridcolor\":\"white\",\"gridwidth\":2,\"linecolor\":\"white\",\"showbackground\":true,\"ticks\":\"\",\"zerolinecolor\":\"white\"},\"yaxis\":{\"backgroundcolor\":\"#E5ECF6\",\"gridcolor\":\"white\",\"gridwidth\":2,\"linecolor\":\"white\",\"showbackground\":true,\"ticks\":\"\",\"zerolinecolor\":\"white\"},\"zaxis\":{\"backgroundcolor\":\"#E5ECF6\",\"gridcolor\":\"white\",\"gridwidth\":2,\"linecolor\":\"white\",\"showbackground\":true,\"ticks\":\"\",\"zerolinecolor\":\"white\"}},\"shapedefaults\":{\"line\":{\"color\":\"#2a3f5f\"}},\"ternary\":{\"aaxis\":{\"gridcolor\":\"white\",\"linecolor\":\"white\",\"ticks\":\"\"},\"baxis\":{\"gridcolor\":\"white\",\"linecolor\":\"white\",\"ticks\":\"\"},\"bgcolor\":\"#E5ECF6\",\"caxis\":{\"gridcolor\":\"white\",\"linecolor\":\"white\",\"ticks\":\"\"}},\"title\":{\"x\":0.05},\"xaxis\":{\"automargin\":true,\"gridcolor\":\"white\",\"linecolor\":\"white\",\"ticks\":\"\",\"title\":{\"standoff\":15},\"zerolinecolor\":\"white\",\"zerolinewidth\":2},\"yaxis\":{\"automargin\":true,\"gridcolor\":\"white\",\"linecolor\":\"white\",\"ticks\":\"\",\"title\":{\"standoff\":15},\"zerolinecolor\":\"white\",\"zerolinewidth\":2}}},\"width\":1300},                        {\"responsive\": true}                    ).then(function(){\n",
       "                            \n",
       "var gd = document.getElementById('c4ba014b-875a-4741-8bea-bc669784cbf1');\n",
       "var x = new MutationObserver(function (mutations, observer) {{\n",
       "        var display = window.getComputedStyle(gd).display;\n",
       "        if (!display || display === 'none') {{\n",
       "            console.log([gd, 'removed!']);\n",
       "            Plotly.purge(gd);\n",
       "            observer.disconnect();\n",
       "        }}\n",
       "}});\n",
       "\n",
       "// Listen for the removal of the full notebook cells\n",
       "var notebookContainer = gd.closest('#notebook-container');\n",
       "if (notebookContainer) {{\n",
       "    x.observe(notebookContainer, {childList: true});\n",
       "}}\n",
       "\n",
       "// Listen for the clearing of the current output cell\n",
       "var outputEl = gd.closest('.output');\n",
       "if (outputEl) {{\n",
       "    x.observe(outputEl, {childList: true});\n",
       "}}\n",
       "\n",
       "                        })                };                });            </script>        </div>"
      ]
     },
     "metadata": {},
     "output_type": "display_data"
    }
   ],
   "source": [
    "fig = px.treemap(myTreemapAgg.reset_index(), path=[px.Constant(\"Biotypflächen 2020 nach Lebensraumkategorie und Biotoptypenschlüssel Typ 1-3\"), 'legende_lebensraeume','lrtyp1text','lrtyp2text','lrtyp3text']\n",
    "                 , values='sum_Flaeche'\n",
    "                 , color='lrtyp1text'\n",
    "                 ## bei discrete scales (bei Klassen und Strings):                 \n",
    "                 , color_discrete_map={'(?)':'lightgrey','Gebäude-, Verkehrs- und Industrieflächen':'grey', 'Siedlungen':'pink', 'Wälder':'forestgreen', 'Grünland':'#A2CD5A','Gewässer':'#104E8B', 'Ruderalfluren':'#CAFF70','Acker- und Gartenbau-Biotope':'brown', 'Gebüsche und Gehölzbestände':'lightgreen','Magerrasen':'olive' }                \n",
    "                 ## bei continuous scales (bei Zahlenwerten):\n",
    "                #, color_continuous_scale='Greens'\n",
    "                #, color_continuous_midpoint=np.average(df['AnzBestWir'], weights=df['AnzBestWir'])  \n",
    "                 ,height=500\n",
    "                 ,width=1300                 \n",
    "                )\n",
    "fig.update_traces(root_color=\"grey\")\n",
    "fig.update_layout(margin = dict(t=50, l=25, r=250, b=25))\n",
    "fig.show()"
   ]
  },
  {
   "cell_type": "markdown",
   "id": "1aa8dfd0-029e-463a-8293-ebf80b098869",
   "metadata": {},
   "source": [
    "#### Biotypflächen 2020 nach bewerteter ökologischer Qualität, Lebensraumkategorie und Biotoptypenschlüssel Typ 3"
   ]
  },
  {
   "cell_type": "code",
   "execution_count": 84,
   "id": "91296993-e32a-4f56-8a6a-7e07e3029e28",
   "metadata": {},
   "outputs": [],
   "source": [
    "myTreemapAgg = gdf_biotopkartierung_2020_lv95  \\\n",
    "    .groupby(['biotoptypenqualitaet','legende_lebensraeume', 'lrtyp3text', 'lrtyp3code']) \\\n",
    "    .agg(sum_Flaeche=('flaeche', 'sum')) \\\n",
    "    .sort_values('sum_Flaeche', ascending=True) \n",
    "\n",
    "#myTreemapAgg.reset_index().head(3)"
   ]
  },
  {
   "cell_type": "code",
   "execution_count": 88,
   "id": "b3a74b68-a832-4967-88a8-a6c1ab194952",
   "metadata": {},
   "outputs": [
    {
     "data": {
      "application/vnd.plotly.v1+json": {
       "config": {
        "plotlyServerURL": "https://plot.ly"
       },
       "data": [
        {
         "branchvalues": "total",
         "customdata": [
          [
           2
          ],
          [
           3
          ],
          [
           4
          ],
          [
           5
          ],
          [
           5
          ],
          [
           4
          ],
          [
           1
          ],
          [
           2
          ],
          [
           2
          ],
          [
           2
          ],
          [
           2
          ],
          [
           3
          ],
          [
           3
          ],
          [
           4
          ],
          [
           3
          ],
          [
           4
          ],
          [
           5
          ],
          [
           3
          ],
          [
           3
          ],
          [
           4
          ],
          [
           2
          ],
          [
           2
          ],
          [
           3
          ],
          [
           1
          ],
          [
           5
          ],
          [
           2
          ],
          [
           2
          ],
          [
           0
          ],
          [
           2
          ],
          [
           2
          ],
          [
           5
          ],
          [
           0
          ],
          [
           2
          ],
          [
           3
          ],
          [
           6
          ],
          [
           3
          ],
          [
           4
          ],
          [
           2
          ],
          [
           4
          ],
          [
           4
          ],
          [
           6
          ],
          [
           1
          ],
          [
           1
          ],
          [
           1
          ],
          [
           2
          ],
          [
           1
          ],
          [
           5
          ],
          [
           0
          ],
          [
           2
          ],
          [
           2
          ],
          [
           1
          ],
          [
           6
          ],
          [
           6
          ],
          [
           5.999999999999999
          ],
          [
           3
          ],
          [
           3
          ],
          [
           5
          ],
          [
           4
          ],
          [
           3
          ],
          [
           4
          ],
          [
           5
          ],
          [
           6
          ],
          [
           3
          ],
          [
           5
          ],
          [
           2
          ],
          [
           2
          ],
          [
           2
          ],
          [
           2.9999999999999996
          ],
          [
           6
          ],
          [
           2
          ],
          [
           4
          ],
          [
           4
          ],
          [
           6
          ],
          [
           5
          ],
          [
           5
          ],
          [
           5
          ],
          [
           5
          ],
          [
           5
          ],
          [
           5
          ],
          [
           3
          ],
          [
           1
          ],
          [
           5
          ],
          [
           2
          ],
          [
           2.9999999999999996
          ],
          [
           6
          ],
          [
           6
          ],
          [
           6.000000000000001
          ],
          [
           5
          ],
          [
           2
          ],
          [
           1
          ],
          [
           5
          ],
          [
           4
          ],
          [
           3
          ],
          [
           3
          ],
          [
           5
          ],
          [
           5
          ],
          [
           6
          ],
          [
           6
          ],
          [
           6.000000000000001
          ],
          [
           6
          ],
          [
           6
          ],
          [
           6
          ],
          [
           2
          ],
          [
           1
          ],
          [
           2
          ],
          [
           0
          ],
          [
           2
          ],
          [
           1
          ],
          [
           3
          ],
          [
           3
          ],
          [
           3
          ],
          [
           1
          ],
          [
           0
          ],
          [
           5.000000000000001
          ],
          [
           6
          ],
          [
           5
          ],
          [
           6
          ],
          [
           2
          ],
          [
           3
          ],
          [
           3
          ],
          [
           3
          ],
          [
           4
          ],
          [
           3
          ],
          [
           5
          ],
          [
           6
          ],
          [
           4
          ],
          [
           4
          ],
          [
           3
          ],
          [
           3
          ],
          [
           5
          ],
          [
           3
          ],
          [
           1
          ],
          [
           6
          ],
          [
           6
          ],
          [
           4
          ],
          [
           5.000000000000001
          ],
          [
           2
          ],
          [
           3
          ],
          [
           6
          ],
          [
           5
          ],
          [
           4
          ],
          [
           4
          ],
          [
           2
          ],
          [
           2
          ],
          [
           2
          ],
          [
           5
          ],
          [
           6
          ],
          [
           5
          ],
          [
           2
          ],
          [
           4
          ],
          [
           3
          ],
          [
           5
          ],
          [
           6
          ],
          [
           1
          ],
          [
           2
          ],
          [
           3
          ],
          [
           4
          ],
          [
           5
          ],
          [
           6
          ],
          [
           2
          ],
          [
           3
          ],
          [
           4
          ],
          [
           5
          ],
          [
           6
          ],
          [
           2
          ],
          [
           2.9999999999999996
          ],
          [
           5
          ],
          [
           2
          ],
          [
           3
          ],
          [
           2
          ],
          [
           3
          ],
          [
           4
          ],
          [
           5
          ],
          [
           1
          ],
          [
           2
          ],
          [
           3
          ],
          [
           4
          ],
          [
           5
          ],
          [
           6
          ],
          [
           1
          ],
          [
           2
          ],
          [
           3.0000000000000004
          ],
          [
           4
          ],
          [
           5
          ],
          [
           0
          ],
          [
           1
          ],
          [
           2
          ],
          [
           3
          ],
          [
           4
          ],
          [
           2
          ],
          [
           3
          ],
          [
           4
          ],
          [
           5
          ],
          [
           6
          ],
          [
           2
          ],
          [
           3.0000000000000004
          ],
          [
           4
          ],
          [
           5
          ],
          [
           6
          ],
          [
           1
          ],
          [
           2
          ],
          [
           3
          ],
          [
           0
          ],
          [
           1
          ],
          [
           2
          ],
          [
           2.9999999999999996
          ],
          [
           4
          ],
          [
           5
          ],
          [
           5.999999999999999
          ],
          [
           2.463816023642665
          ]
         ],
         "domain": {
          "x": [
           0,
           1
          ],
          "y": [
           0,
           1
          ]
         },
         "hovertemplate": "labels=%{label}<br>sum_Flaeche=%{value}<br>parent=%{parent}<br>id=%{id}<br>biotoptypenqualitaet=%{color}<extra></extra>",
         "ids": [
          "Biotypflächen 2020 nach bewerteter ökologischer Qualität, Lebensraumkategorie und Biotoptypenschlüssel Typ 3/2/Äcker, Gartenbauflächen, Tiergehege/Acker",
          "Biotypflächen 2020 nach bewerteter ökologischer Qualität, Lebensraumkategorie und Biotoptypenschlüssel Typ 3/3/Wiesen und Rasen/Adlerfarn-Flur magerer Standorte",
          "Biotypflächen 2020 nach bewerteter ökologischer Qualität, Lebensraumkategorie und Biotoptypenschlüssel Typ 3/4/Gehölze, Hecken und Gebüsche/Allee",
          "Biotypflächen 2020 nach bewerteter ökologischer Qualität, Lebensraumkategorie und Biotoptypenschlüssel Typ 3/5/Grünanlagen/Alter Landschaftspark",
          "Biotypflächen 2020 nach bewerteter ökologischer Qualität, Lebensraumkategorie und Biotoptypenschlüssel Typ 3/5/Wald/Aronstab-Buchenwald (inkl. 11e) (ZH: 11)",
          "Biotypflächen 2020 nach bewerteter ökologischer Qualität, Lebensraumkategorie und Biotoptypenschlüssel Typ 3/4/Wiesen und Rasen/Artenarme Fromentalwiese",
          "Biotypflächen 2020 nach bewerteter ökologischer Qualität, Lebensraumkategorie und Biotoptypenschlüssel Typ 3/1/Ueberwiegend bebaute Flächen/Artenarme Moos-Flachdachvegetationen",
          "Biotypflächen 2020 nach bewerteter ökologischer Qualität, Lebensraumkategorie und Biotoptypenschlüssel Typ 3/2/Ruderalfluren/Artenarme Ruderalflur",
          "Biotypflächen 2020 nach bewerteter ökologischer Qualität, Lebensraumkategorie und Biotoptypenschlüssel Typ 3/2/Ueberwiegend bebaute Flächen/Artenarme Sedum-Flachdachvegetationen",
          "Biotypflächen 2020 nach bewerteter ökologischer Qualität, Lebensraumkategorie und Biotoptypenschlüssel Typ 3/2/Wiesen und Rasen/Artenarmer Scherrasen (Gebrauchsrasen)",
          "Biotypflächen 2020 nach bewerteter ökologischer Qualität, Lebensraumkategorie und Biotoptypenschlüssel Typ 3/2/Gärten/Artenarmer Ziergarten",
          "Biotypflächen 2020 nach bewerteter ökologischer Qualität, Lebensraumkategorie und Biotoptypenschlüssel Typ 3/3/Wiesen und Rasen/Artenarmes Extensivgrünland*",
          "Biotypflächen 2020 nach bewerteter ökologischer Qualität, Lebensraumkategorie und Biotoptypenschlüssel Typ 3/3/Ueberwiegend bebaute Flächen/Artenreiche Sedum-Flachdachvegetationen",
          "Biotypflächen 2020 nach bewerteter ökologischer Qualität, Lebensraumkategorie und Biotoptypenschlüssel Typ 3/4/Gärten/Artenreicher Garten mit Grossbäumen",
          "Biotypflächen 2020 nach bewerteter ökologischer Qualität, Lebensraumkategorie und Biotoptypenschlüssel Typ 3/3/Wiesen und Rasen/Artenreicher Scherrasen (Blumenrasen)",
          "Biotypflächen 2020 nach bewerteter ökologischer Qualität, Lebensraumkategorie und Biotoptypenschlüssel Typ 3/4/Gärten/Bauerngarten",
          "Biotypflächen 2020 nach bewerteter ökologischer Qualität, Lebensraumkategorie und Biotoptypenschlüssel Typ 3/5/Gehölze, Hecken und Gebüsche/Baumhecke",
          "Biotypflächen 2020 nach bewerteter ökologischer Qualität, Lebensraumkategorie und Biotoptypenschlüssel Typ 3/3/Gehölze, Hecken und Gebüsche/Baumraster  mit Baumscheiben",
          "Biotypflächen 2020 nach bewerteter ökologischer Qualität, Lebensraumkategorie und Biotoptypenschlüssel Typ 3/3/Gehölze, Hecken und Gebüsche/Baumraster mit Fettwiese",
          "Biotypflächen 2020 nach bewerteter ökologischer Qualität, Lebensraumkategorie und Biotoptypenschlüssel Typ 3/4/Gehölze, Hecken und Gebüsche/Baumraster mit Fromentalwiese",
          "Biotypflächen 2020 nach bewerteter ökologischer Qualität, Lebensraumkategorie und Biotoptypenschlüssel Typ 3/2/Gehölze, Hecken und Gebüsche/Baumraster mit Rasen",
          "Biotypflächen 2020 nach bewerteter ökologischer Qualität, Lebensraumkategorie und Biotoptypenschlüssel Typ 3/2/Gehölze, Hecken und Gebüsche/Baumraster mit Zierhecke",
          "Biotypflächen 2020 nach bewerteter ökologischer Qualität, Lebensraumkategorie und Biotoptypenschlüssel Typ 3/3/Gehölze, Hecken und Gebüsche/Baumraster mit ruderalem Unterwuchs",
          "Biotypflächen 2020 nach bewerteter ökologischer Qualität, Lebensraumkategorie und Biotoptypenschlüssel Typ 3/1/Gehölze, Hecken und Gebüsche/Baumraster ohne Baumscheiben",
          "Biotypflächen 2020 nach bewerteter ökologischer Qualität, Lebensraumkategorie und Biotoptypenschlüssel Typ 3/5/Gehölze, Hecken und Gebüsche/Baumreihe/-raster mit Fromentalwiese mit BFF-Qualität*",
          "Biotypflächen 2020 nach bewerteter ökologischer Qualität, Lebensraumkategorie und Biotoptypenschlüssel Typ 3/2/Gehölze, Hecken und Gebüsche/Baumreihe/-raster mit kiesigem Untergrund*",
          "Biotypflächen 2020 nach bewerteter ökologischer Qualität, Lebensraumkategorie und Biotoptypenschlüssel Typ 3/2/Äcker, Gartenbauflächen, Tiergehege/Baumschule",
          "Biotypflächen 2020 nach bewerteter ökologischer Qualität, Lebensraumkategorie und Biotoptypenschlüssel Typ 3/0/Ueberwiegend bebaute Flächen/Baustelle",
          "Biotypflächen 2020 nach bewerteter ökologischer Qualität, Lebensraumkategorie und Biotoptypenschlüssel Typ 3/2/Äcker, Gartenbauflächen, Tiergehege/Beerenstrauch-Plantage",
          "Biotypflächen 2020 nach bewerteter ökologischer Qualität, Lebensraumkategorie und Biotoptypenschlüssel Typ 3/2/Beete und Rabatten/Beet/Rabatte",
          "Biotypflächen 2020 nach bewerteter ökologischer Qualität, Lebensraumkategorie und Biotoptypenschlüssel Typ 3/5/Feuchtgebiete/Bestand der Stumpfblättrigen Binse (ZH: 4c)",
          "Biotypflächen 2020 nach bewerteter ökologischer Qualität, Lebensraumkategorie und Biotoptypenschlüssel Typ 3/0/Ueberwiegend bebaute Flächen/Beton- /Asphaltfläche",
          "Biotypflächen 2020 nach bewerteter ökologischer Qualität, Lebensraumkategorie und Biotoptypenschlüssel Typ 3/2/Äcker, Gartenbauflächen, Tiergehege/Blumen-Gartenbaufläche",
          "Biotypflächen 2020 nach bewerteter ökologischer Qualität, Lebensraumkategorie und Biotoptypenschlüssel Typ 3/3/Gehölze, Hecken und Gebüsche/Brombeer-Gestrüpp",
          "Biotypflächen 2020 nach bewerteter ökologischer Qualität, Lebensraumkategorie und Biotoptypenschlüssel Typ 3/6/Feuchtgebiete/Bultiges Grosseggenried (ZH: 3a)",
          "Biotypflächen 2020 nach bewerteter ökologischer Qualität, Lebensraumkategorie und Biotoptypenschlüssel Typ 3/3/Äcker, Gartenbauflächen, Tiergehege/Buntbrachen",
          "Biotypflächen 2020 nach bewerteter ökologischer Qualität, Lebensraumkategorie und Biotoptypenschlüssel Typ 3/4/Gehölze, Hecken und Gebüsche/Einzelbaum",
          "Biotypflächen 2020 nach bewerteter ökologischer Qualität, Lebensraumkategorie und Biotoptypenschlüssel Typ 3/2/Wiesen und Rasen/Fettwiese und -weide",
          "Biotypflächen 2020 nach bewerteter ökologischer Qualität, Lebensraumkategorie und Biotoptypenschlüssel Typ 3/4/Wiesen und Rasen/Feuchte Fromentalwiese*",
          "Biotypflächen 2020 nach bewerteter ökologischer Qualität, Lebensraumkategorie und Biotoptypenschlüssel Typ 3/4/Gewässer/Fliessgewässer*",
          "Biotypflächen 2020 nach bewerteter ökologischer Qualität, Lebensraumkategorie und Biotoptypenschlüssel Typ 3/6/Gewässer/Flusskies-Pionierflur*",
          "Biotypflächen 2020 nach bewerteter ökologischer Qualität, Lebensraumkategorie und Biotoptypenschlüssel Typ 3/1/Kies- und Schotterflächen/Fläche mit Kies- oder Schotterdecke in Bahnanlagen",
          "Biotypflächen 2020 nach bewerteter ökologischer Qualität, Lebensraumkategorie und Biotoptypenschlüssel Typ 3/1/Ueberwiegend bebaute Flächen/Fläche mit Natursteinpflaster",
          "Biotypflächen 2020 nach bewerteter ökologischer Qualität, Lebensraumkategorie und Biotoptypenschlüssel Typ 3/1/Ueberwiegend bebaute Flächen/Fläche mit Ziegel-/Betonsteinpflaster",
          "Biotypflächen 2020 nach bewerteter ökologischer Qualität, Lebensraumkategorie und Biotoptypenschlüssel Typ 3/2/Kies- und Schotterflächen/Fläche mit unbefestigtem Wandkies oder Sand*",
          "Biotypflächen 2020 nach bewerteter ökologischer Qualität, Lebensraumkategorie und Biotoptypenschlüssel Typ 3/1/Kies- und Schotterflächen/Fläche mit wassergebundener Decke*",
          "Biotypflächen 2020 nach bewerteter ökologischer Qualität, Lebensraumkategorie und Biotoptypenschlüssel Typ 3/5/Wiesen und Rasen/Fromentalwiese mit BFF-Qualität",
          "Biotypflächen 2020 nach bewerteter ökologischer Qualität, Lebensraumkategorie und Biotoptypenschlüssel Typ 3/0/Ueberwiegend bebaute Flächen/Gebäude*",
          "Biotypflächen 2020 nach bewerteter ökologischer Qualität, Lebensraumkategorie und Biotoptypenschlüssel Typ 3/2/Äcker, Gartenbauflächen, Tiergehege/Gemüse- und sonstige Gartenbaufläche",
          "Biotypflächen 2020 nach bewerteter ökologischer Qualität, Lebensraumkategorie und Biotoptypenschlüssel Typ 3/2/Ueberwiegend bebaute Flächen/Gewerbegebiet (Kleingewerbe und kleingewerbliche Lagerflächen)",
          "Biotypflächen 2020 nach bewerteter ökologischer Qualität, Lebensraumkategorie und Biotoptypenschlüssel Typ 3/1/Ruderalfluren/Goldruten-Flur",
          "Biotypflächen 2020 nach bewerteter ökologischer Qualität, Lebensraumkategorie und Biotoptypenschlüssel Typ 3/6/Feuchtgebiete/Grosseggenried ausserhalb Wasserstandsschwankungen (ZH: 3b)",
          "Biotypflächen 2020 nach bewerteter ökologischer Qualität, Lebensraumkategorie und Biotoptypenschlüssel Typ 3/6/Feuchtgebiete/Grosseggenried mit Schneidebinse (ZH: 3d)",
          "Biotypflächen 2020 nach bewerteter ökologischer Qualität, Lebensraumkategorie und Biotoptypenschlüssel Typ 3/6/Feuchtgebiete/Grosseggenried mit Sumpf-Segge (ZH: 3c)",
          "Biotypflächen 2020 nach bewerteter ökologischer Qualität, Lebensraumkategorie und Biotoptypenschlüssel Typ 3/3/Ruderalfluren/Halbruderale Gras- und Staudenflur feuchter Standorte",
          "Biotypflächen 2020 nach bewerteter ökologischer Qualität, Lebensraumkategorie und Biotoptypenschlüssel Typ 3/3/Ruderalfluren/Halbruderale Gras- und Staudenflur mittlerer Standorte",
          "Biotypflächen 2020 nach bewerteter ökologischer Qualität, Lebensraumkategorie und Biotoptypenschlüssel Typ 3/5/Ruderalfluren/Halbruderale Gras- und Staudenflur trockener Standorte",
          "Biotypflächen 2020 nach bewerteter ökologischer Qualität, Lebensraumkategorie und Biotoptypenschlüssel Typ 3/4/Ruderalfluren/Halbruderale Gras- und Staudenflur wechselfeuchter Standorte",
          "Biotypflächen 2020 nach bewerteter ökologischer Qualität, Lebensraumkategorie und Biotoptypenschlüssel Typ 3/3/Gärten/Hausgarten",
          "Biotypflächen 2020 nach bewerteter ökologischer Qualität, Lebensraumkategorie und Biotoptypenschlüssel Typ 3/4/Obstgärten/Hochstamm-Obstgarten mit Fettwiese (m4)",
          "Biotypflächen 2020 nach bewerteter ökologischer Qualität, Lebensraumkategorie und Biotoptypenschlüssel Typ 3/5/Obstgärten/Hochstamm-Obstgarten mit Fromentalwiese (m3)",
          "Biotypflächen 2020 nach bewerteter ökologischer Qualität, Lebensraumkategorie und Biotoptypenschlüssel Typ 3/6/Obstgärten/Hochstamm-Obstgarten mit Magerwiese",
          "Biotypflächen 2020 nach bewerteter ökologischer Qualität, Lebensraumkategorie und Biotoptypenschlüssel Typ 3/3/Feuchtgebiete/Hochstaudenflur mit Goldrute (ZH: 4b)",
          "Biotypflächen 2020 nach bewerteter ökologischer Qualität, Lebensraumkategorie und Biotoptypenschlüssel Typ 3/5/Feuchtgebiete/Hochstaudenflur mit Spierstaude (ZH: 4a)",
          "Biotypflächen 2020 nach bewerteter ökologischer Qualität, Lebensraumkategorie und Biotoptypenschlüssel Typ 3/2/Wald/Holzlagerfläche",
          "Biotypflächen 2020 nach bewerteter ökologischer Qualität, Lebensraumkategorie und Biotoptypenschlüssel Typ 3/2/Grünanlagen/Intensiv gepflegter Park",
          "Biotypflächen 2020 nach bewerteter ökologischer Qualität, Lebensraumkategorie und Biotoptypenschlüssel Typ 3/2/Ueberwiegend bebaute Flächen/Intensive Flachdachbegrünungen",
          "Biotypflächen 2020 nach bewerteter ökologischer Qualität, Lebensraumkategorie und Biotoptypenschlüssel Typ 3/3/Wiesen und Rasen/Intensivgrünland auf Flachmoorstandorten",
          "Biotypflächen 2020 nach bewerteter ökologischer Qualität, Lebensraumkategorie und Biotoptypenschlüssel Typ 3/6/Wiesen und Rasen/Kalk-Magerrasen",
          "Biotypflächen 2020 nach bewerteter ökologischer Qualität, Lebensraumkategorie und Biotoptypenschlüssel Typ 3/2/Äcker, Gartenbauflächen, Tiergehege/Landwirtschaftliche Lagerfläche",
          "Biotypflächen 2020 nach bewerteter ökologischer Qualität, Lebensraumkategorie und Biotoptypenschlüssel Typ 3/4/Gewässer/Mässig ausgebauter Bach*",
          "Biotypflächen 2020 nach bewerteter ökologischer Qualität, Lebensraumkategorie und Biotoptypenschlüssel Typ 3/4/Gewässer/Mässig ausgebauter Fluss*",
          "Biotypflächen 2020 nach bewerteter ökologischer Qualität, Lebensraumkategorie und Biotoptypenschlüssel Typ 3/6/Wiesen und Rasen/Mässig trockene Magerwiese",
          "Biotypflächen 2020 nach bewerteter ökologischer Qualität, Lebensraumkategorie und Biotoptypenschlüssel Typ 3/5/Gärten/Naturgarten",
          "Biotypflächen 2020 nach bewerteter ökologischer Qualität, Lebensraumkategorie und Biotoptypenschlüssel Typ 3/5/Gewässer/Naturnaher Bach*",
          "Biotypflächen 2020 nach bewerteter ökologischer Qualität, Lebensraumkategorie und Biotoptypenschlüssel Typ 3/5/Gewässer/Naturnaher Fluss*",
          "Biotypflächen 2020 nach bewerteter ökologischer Qualität, Lebensraumkategorie und Biotoptypenschlüssel Typ 3/5/Gehölze, Hecken und Gebüsche/Naturnahes Feldgehölz",
          "Biotypflächen 2020 nach bewerteter ökologischer Qualität, Lebensraumkategorie und Biotoptypenschlüssel Typ 3/5/Gewässer/Naturnahes Kleingewässer",
          "Biotypflächen 2020 nach bewerteter ökologischer Qualität, Lebensraumkategorie und Biotoptypenschlüssel Typ 3/5/Gewässer/Naturnahes nährstoffarmes Stillgewässer natürlicher Entstehung*",
          "Biotypflächen 2020 nach bewerteter ökologischer Qualität, Lebensraumkategorie und Biotoptypenschlüssel Typ 3/3/Mauern/Natursteinmauer/ wand",
          "Biotypflächen 2020 nach bewerteter ökologischer Qualität, Lebensraumkategorie und Biotoptypenschlüssel Typ 3/1/Gehölze, Hecken und Gebüsche/Neophytisches Gebüsch",
          "Biotypflächen 2020 nach bewerteter ökologischer Qualität, Lebensraumkategorie und Biotoptypenschlüssel Typ 3/5/Feuchtgebiete/Nährstoffreicher Sumpf",
          "Biotypflächen 2020 nach bewerteter ökologischer Qualität, Lebensraumkategorie und Biotoptypenschlüssel Typ 3/2/Gärten/Obst- und Gemüsegarten",
          "Biotypflächen 2020 nach bewerteter ökologischer Qualität, Lebensraumkategorie und Biotoptypenschlüssel Typ 3/3/Grünanlagen/Parkfriedhof",
          "Biotypflächen 2020 nach bewerteter ökologischer Qualität, Lebensraumkategorie und Biotoptypenschlüssel Typ 3/6/Feuchtgebiete/Pfeifengrasreinbestand auf Torf (ZH: 8c)",
          "Biotypflächen 2020 nach bewerteter ökologischer Qualität, Lebensraumkategorie und Biotoptypenschlüssel Typ 3/6/Feuchtgebiete/Pfeifengraswiese, Kleinseggenausbildung feucht (ZH: 8a)",
          "Biotypflächen 2020 nach bewerteter ökologischer Qualität, Lebensraumkategorie und Biotoptypenschlüssel Typ 3/6/Feuchtgebiete/Pfeifengraswiese, Kleinseggenausbildung trocken (ZH: 8b)",
          "Biotypflächen 2020 nach bewerteter ökologischer Qualität, Lebensraumkategorie und Biotoptypenschlüssel Typ 3/5/Feuchtgebiete/Pioniervegetation schlammiger Nassstandorte*",
          "Biotypflächen 2020 nach bewerteter ökologischer Qualität, Lebensraumkategorie und Biotoptypenschlüssel Typ 3/2/Äcker, Gartenbauflächen, Tiergehege/Rebberg ohne Terrassen",
          "Biotypflächen 2020 nach bewerteter ökologischer Qualität, Lebensraumkategorie und Biotoptypenschlüssel Typ 3/1/Ruderalfluren/Riesenbärenklau-Flur",
          "Biotypflächen 2020 nach bewerteter ökologischer Qualität, Lebensraumkategorie und Biotoptypenschlüssel Typ 3/5/Feuchtgebiete/Rohrglanzgras-Flussuferröhricht*",
          "Biotypflächen 2020 nach bewerteter ökologischer Qualität, Lebensraumkategorie und Biotoptypenschlüssel Typ 3/4/Ueberwiegend bebaute Flächen/Ruderale Flachdachvegetation",
          "Biotypflächen 2020 nach bewerteter ökologischer Qualität, Lebensraumkategorie und Biotoptypenschlüssel Typ 3/3/Ruderalfluren/Ruderalflur nährstoffreicher, frischer bis feuchter Standorte",
          "Biotypflächen 2020 nach bewerteter ökologischer Qualität, Lebensraumkategorie und Biotoptypenschlüssel Typ 3/3/Ruderalfluren/Ruderalflur nährstoffreicher, frischer bis feuchter Standorte mit Gehölzen",
          "Biotypflächen 2020 nach bewerteter ökologischer Qualität, Lebensraumkategorie und Biotoptypenschlüssel Typ 3/5/Ruderalfluren/Ruderalflur trockenwarmer Standorte",
          "Biotypflächen 2020 nach bewerteter ökologischer Qualität, Lebensraumkategorie und Biotoptypenschlüssel Typ 3/5/Ruderalfluren/Ruderalflur trockenwarmer Standorte mit Gehölzen",
          "Biotypflächen 2020 nach bewerteter ökologischer Qualität, Lebensraumkategorie und Biotoptypenschlüssel Typ 3/6/Gewässer/Röhricht mit Rohrkolben (ZH: 2c)",
          "Biotypflächen 2020 nach bewerteter ökologischer Qualität, Lebensraumkategorie und Biotoptypenschlüssel Typ 3/6/Feuchtgebiete/Schilf-Landröhricht",
          "Biotypflächen 2020 nach bewerteter ökologischer Qualität, Lebensraumkategorie und Biotoptypenschlüssel Typ 3/6/Gewässer/Schilfröhricht im Verlandungsbereich (ZH: 2a)",
          "Biotypflächen 2020 nach bewerteter ökologischer Qualität, Lebensraumkategorie und Biotoptypenschlüssel Typ 3/6/Gewässer/Schwimmblattgesellschaften (ZH: 1)",
          "Biotypflächen 2020 nach bewerteter ökologischer Qualität, Lebensraumkategorie und Biotoptypenschlüssel Typ 3/6/Gewässer/Seebinsenröhricht (ZH: 2b)",
          "Biotypflächen 2020 nach bewerteter ökologischer Qualität, Lebensraumkategorie und Biotoptypenschlüssel Typ 3/6/Wald/Seggen-Schwarzerlenbruchwald (ZH: 44)",
          "Biotypflächen 2020 nach bewerteter ökologischer Qualität, Lebensraumkategorie und Biotoptypenschlüssel Typ 3/2/Gehölze, Hecken und Gebüsche/Siedlungsgehölz aus überwiegend nicht heimischen Baumarten",
          "Biotypflächen 2020 nach bewerteter ökologischer Qualität, Lebensraumkategorie und Biotoptypenschlüssel Typ 3/1/Ruderalfluren/Sonstige Neophyten-Flur",
          "Biotypflächen 2020 nach bewerteter ökologischer Qualität, Lebensraumkategorie und Biotoptypenschlüssel Typ 3/2/Ueberwiegend bebaute Flächen/Sonstige Sport-, Spiel- und Freizeitanlage",
          "Biotypflächen 2020 nach bewerteter ökologischer Qualität, Lebensraumkategorie und Biotoptypenschlüssel Typ 3/0/Ueberwiegend bebaute Flächen/Sonstige befestigte Flächen*",
          "Biotypflächen 2020 nach bewerteter ökologischer Qualität, Lebensraumkategorie und Biotoptypenschlüssel Typ 3/2/Äcker, Gartenbauflächen, Tiergehege/Spalierobst-Plantage",
          "Biotypflächen 2020 nach bewerteter ökologischer Qualität, Lebensraumkategorie und Biotoptypenschlüssel Typ 3/1/Ueberwiegend bebaute Flächen/Sportplatz",
          "Biotypflächen 2020 nach bewerteter ökologischer Qualität, Lebensraumkategorie und Biotoptypenschlüssel Typ 3/3/Gewässer/Stark beeinträchtigtes Stillgewässer natürlicher Entstehung*",
          "Biotypflächen 2020 nach bewerteter ökologischer Qualität, Lebensraumkategorie und Biotoptypenschlüssel Typ 3/3/Gewässer/Stark bis völlig ausgebauter Bach*",
          "Biotypflächen 2020 nach bewerteter ökologischer Qualität, Lebensraumkategorie und Biotoptypenschlüssel Typ 3/3/Gewässer/Stark bis völlig ausgebauter Fluss*",
          "Biotypflächen 2020 nach bewerteter ökologischer Qualität, Lebensraumkategorie und Biotoptypenschlüssel Typ 3/1/Ruderalfluren/Staudenknöterich-Flur",
          "Biotypflächen 2020 nach bewerteter ökologischer Qualität, Lebensraumkategorie und Biotoptypenschlüssel Typ 3/0/Ueberwiegend bebaute Flächen/Strasse*",
          "Biotypflächen 2020 nach bewerteter ökologischer Qualität, Lebensraumkategorie und Biotoptypenschlüssel Typ 3/5/Gehölze, Hecken und Gebüsche/Strauch-Baumhecke",
          "Biotypflächen 2020 nach bewerteter ökologischer Qualität, Lebensraumkategorie und Biotoptypenschlüssel Typ 3/6/Gehölze, Hecken und Gebüsche/Strauch-Baumhecke mit  BFF-Qualität",
          "Biotypflächen 2020 nach bewerteter ökologischer Qualität, Lebensraumkategorie und Biotoptypenschlüssel Typ 3/5/Gehölze, Hecken und Gebüsche/Strauchhecke",
          "Biotypflächen 2020 nach bewerteter ökologischer Qualität, Lebensraumkategorie und Biotoptypenschlüssel Typ 3/6/Gehölze, Hecken und Gebüsche/Strauchhecke mit BFF-Qualität",
          "Biotypflächen 2020 nach bewerteter ökologischer Qualität, Lebensraumkategorie und Biotoptypenschlüssel Typ 3/2/Grünanlagen von Mehrfamilienhäusern/Strukturarme Grünanlage",
          "Biotypflächen 2020 nach bewerteter ökologischer Qualität, Lebensraumkategorie und Biotoptypenschlüssel Typ 3/3/Wiesen und Rasen/Strukturarme und artenarme Magerweide",
          "Biotypflächen 2020 nach bewerteter ökologischer Qualität, Lebensraumkategorie und Biotoptypenschlüssel Typ 3/3/Gehölze, Hecken und Gebüsche/Strukturarmes Siedlungsgehölz aus überwiegend einheimischen Baumarten*",
          "Biotypflächen 2020 nach bewerteter ökologischer Qualität, Lebensraumkategorie und Biotoptypenschlüssel Typ 3/3/Gehölze, Hecken und Gebüsche/Strukturarmes Ziergebüsch/ Hecke aus überwiegend einheimischen Gehölzarten*",
          "Biotypflächen 2020 nach bewerteter ökologischer Qualität, Lebensraumkategorie und Biotoptypenschlüssel Typ 3/4/Familiengärten/Strukturreiche Familiengartenanlage",
          "Biotypflächen 2020 nach bewerteter ökologischer Qualität, Lebensraumkategorie und Biotoptypenschlüssel Typ 3/3/Grünanlagen von Mehrfamilienhäusern/Strukturreiche Grünanlage",
          "Biotypflächen 2020 nach bewerteter ökologischer Qualität, Lebensraumkategorie und Biotoptypenschlüssel Typ 3/5/Wiesen und Rasen/Strukturreiche Magerweide",
          "Biotypflächen 2020 nach bewerteter ökologischer Qualität, Lebensraumkategorie und Biotoptypenschlüssel Typ 3/6/Wiesen und Rasen/Strukturreiche artenreiche Magerweide",
          "Biotypflächen 2020 nach bewerteter ökologischer Qualität, Lebensraumkategorie und Biotoptypenschlüssel Typ 3/4/Gehölze, Hecken und Gebüsche/Strukturreiches Siedlungsgehölz aus überwiegend einheimischen Baumarten",
          "Biotypflächen 2020 nach bewerteter ökologischer Qualität, Lebensraumkategorie und Biotoptypenschlüssel Typ 3/4/Gehölze, Hecken und Gebüsche/Strukturreiches Ziergebüsch/ Hecke aus überwiegend einheimischen Gehölzarten",
          "Biotypflächen 2020 nach bewerteter ökologischer Qualität, Lebensraumkategorie und Biotoptypenschlüssel Typ 3/3/Gehölze, Hecken und Gebüsche/Sukzessionsgebüsch",
          "Biotypflächen 2020 nach bewerteter ökologischer Qualität, Lebensraumkategorie und Biotoptypenschlüssel Typ 3/3/Wiesen und Rasen/Sumpfdotterblumen-Wiese*",
          "Biotypflächen 2020 nach bewerteter ökologischer Qualität, Lebensraumkategorie und Biotoptypenschlüssel Typ 3/5/Feuchtgebiete/Süssgras-Bachröhricht*",
          "Biotypflächen 2020 nach bewerteter ökologischer Qualität, Lebensraumkategorie und Biotoptypenschlüssel Typ 3/3/Äcker, Gartenbauflächen, Tiergehege/Terrassierter Rebberg",
          "Biotypflächen 2020 nach bewerteter ökologischer Qualität, Lebensraumkategorie und Biotoptypenschlüssel Typ 3/1/Äcker, Gartenbauflächen, Tiergehege/Tiergehege",
          "Biotypflächen 2020 nach bewerteter ökologischer Qualität, Lebensraumkategorie und Biotoptypenschlüssel Typ 3/6/Wald/Traubenkirschen-Eschenwald (inkl. Nr. 30f) (ZH: 30)",
          "Biotypflächen 2020 nach bewerteter ökologischer Qualität, Lebensraumkategorie und Biotoptypenschlüssel Typ 3/6/Gewässer/Verlandungsbereich nährstoffarmer Stillgewässer mit Unterwasservegetation*",
          "Biotypflächen 2020 nach bewerteter ökologischer Qualität, Lebensraumkategorie und Biotoptypenschlüssel Typ 3/4/Wald/Wald allgemein",
          "Biotypflächen 2020 nach bewerteter ökologischer Qualität, Lebensraumkategorie und Biotoptypenschlüssel Typ 3/5/Wald/Waldrand gestuft",
          "Biotypflächen 2020 nach bewerteter ökologischer Qualität, Lebensraumkategorie und Biotoptypenschlüssel Typ 3/2/Wald/Waldrand strukturarm",
          "Biotypflächen 2020 nach bewerteter ökologischer Qualität, Lebensraumkategorie und Biotoptypenschlüssel Typ 3/3/Wald/Waldrand strukturarm mit Aufwertungspotential",
          "Biotypflächen 2020 nach bewerteter ökologischer Qualität, Lebensraumkategorie und Biotoptypenschlüssel Typ 3/6/Wiesen und Rasen/Wechseltrockene Magerwiese",
          "Biotypflächen 2020 nach bewerteter ökologischer Qualität, Lebensraumkategorie und Biotoptypenschlüssel Typ 3/5/Gehölze, Hecken und Gebüsche/Weiden- Sumpfgebüsch",
          "Biotypflächen 2020 nach bewerteter ökologischer Qualität, Lebensraumkategorie und Biotoptypenschlüssel Typ 3/4/Ueberwiegend bebaute Flächen/Wiesenartige Flachdachvegetation",
          "Biotypflächen 2020 nach bewerteter ökologischer Qualität, Lebensraumkategorie und Biotoptypenschlüssel Typ 3/4/Gewässer/Wiesengraben",
          "Biotypflächen 2020 nach bewerteter ökologischer Qualität, Lebensraumkategorie und Biotoptypenschlüssel Typ 3/2/Gehölze, Hecken und Gebüsche/Ziergebüsch/ Hecke aus überwiegend nicht heimischen Gehölzarten",
          "Biotypflächen 2020 nach bewerteter ökologischer Qualität, Lebensraumkategorie und Biotoptypenschlüssel Typ 3/2/Gehölze, Hecken und Gebüsche/Zierhecke/ Schnitthecke",
          "Biotypflächen 2020 nach bewerteter ökologischer Qualität, Lebensraumkategorie und Biotoptypenschlüssel Typ 3/2/Gewässer/Zierteich",
          "Biotypflächen 2020 nach bewerteter ökologischer Qualität, Lebensraumkategorie und Biotoptypenschlüssel Typ 3/5/Gehölze, Hecken und Gebüsche/mesophiles Gebüsch",
          "Biotypflächen 2020 nach bewerteter ökologischer Qualität, Lebensraumkategorie und Biotoptypenschlüssel Typ 3/6/Wiesen und Rasen/sonstiger Magerrasen",
          "Biotypflächen 2020 nach bewerteter ökologischer Qualität, Lebensraumkategorie und Biotoptypenschlüssel Typ 3/5/Gehölze, Hecken und Gebüsche/typisches Weiden-Auengebüsch",
          "Biotypflächen 2020 nach bewerteter ökologischer Qualität, Lebensraumkategorie und Biotoptypenschlüssel Typ 3/2/Beete und Rabatten",
          "Biotypflächen 2020 nach bewerteter ökologischer Qualität, Lebensraumkategorie und Biotoptypenschlüssel Typ 3/4/Familiengärten",
          "Biotypflächen 2020 nach bewerteter ökologischer Qualität, Lebensraumkategorie und Biotoptypenschlüssel Typ 3/3/Feuchtgebiete",
          "Biotypflächen 2020 nach bewerteter ökologischer Qualität, Lebensraumkategorie und Biotoptypenschlüssel Typ 3/5/Feuchtgebiete",
          "Biotypflächen 2020 nach bewerteter ökologischer Qualität, Lebensraumkategorie und Biotoptypenschlüssel Typ 3/6/Feuchtgebiete",
          "Biotypflächen 2020 nach bewerteter ökologischer Qualität, Lebensraumkategorie und Biotoptypenschlüssel Typ 3/1/Gehölze, Hecken und Gebüsche",
          "Biotypflächen 2020 nach bewerteter ökologischer Qualität, Lebensraumkategorie und Biotoptypenschlüssel Typ 3/2/Gehölze, Hecken und Gebüsche",
          "Biotypflächen 2020 nach bewerteter ökologischer Qualität, Lebensraumkategorie und Biotoptypenschlüssel Typ 3/3/Gehölze, Hecken und Gebüsche",
          "Biotypflächen 2020 nach bewerteter ökologischer Qualität, Lebensraumkategorie und Biotoptypenschlüssel Typ 3/4/Gehölze, Hecken und Gebüsche",
          "Biotypflächen 2020 nach bewerteter ökologischer Qualität, Lebensraumkategorie und Biotoptypenschlüssel Typ 3/5/Gehölze, Hecken und Gebüsche",
          "Biotypflächen 2020 nach bewerteter ökologischer Qualität, Lebensraumkategorie und Biotoptypenschlüssel Typ 3/6/Gehölze, Hecken und Gebüsche",
          "Biotypflächen 2020 nach bewerteter ökologischer Qualität, Lebensraumkategorie und Biotoptypenschlüssel Typ 3/2/Gewässer",
          "Biotypflächen 2020 nach bewerteter ökologischer Qualität, Lebensraumkategorie und Biotoptypenschlüssel Typ 3/3/Gewässer",
          "Biotypflächen 2020 nach bewerteter ökologischer Qualität, Lebensraumkategorie und Biotoptypenschlüssel Typ 3/4/Gewässer",
          "Biotypflächen 2020 nach bewerteter ökologischer Qualität, Lebensraumkategorie und Biotoptypenschlüssel Typ 3/5/Gewässer",
          "Biotypflächen 2020 nach bewerteter ökologischer Qualität, Lebensraumkategorie und Biotoptypenschlüssel Typ 3/6/Gewässer",
          "Biotypflächen 2020 nach bewerteter ökologischer Qualität, Lebensraumkategorie und Biotoptypenschlüssel Typ 3/2/Grünanlagen",
          "Biotypflächen 2020 nach bewerteter ökologischer Qualität, Lebensraumkategorie und Biotoptypenschlüssel Typ 3/3/Grünanlagen",
          "Biotypflächen 2020 nach bewerteter ökologischer Qualität, Lebensraumkategorie und Biotoptypenschlüssel Typ 3/5/Grünanlagen",
          "Biotypflächen 2020 nach bewerteter ökologischer Qualität, Lebensraumkategorie und Biotoptypenschlüssel Typ 3/2/Grünanlagen von Mehrfamilienhäusern",
          "Biotypflächen 2020 nach bewerteter ökologischer Qualität, Lebensraumkategorie und Biotoptypenschlüssel Typ 3/3/Grünanlagen von Mehrfamilienhäusern",
          "Biotypflächen 2020 nach bewerteter ökologischer Qualität, Lebensraumkategorie und Biotoptypenschlüssel Typ 3/2/Gärten",
          "Biotypflächen 2020 nach bewerteter ökologischer Qualität, Lebensraumkategorie und Biotoptypenschlüssel Typ 3/3/Gärten",
          "Biotypflächen 2020 nach bewerteter ökologischer Qualität, Lebensraumkategorie und Biotoptypenschlüssel Typ 3/4/Gärten",
          "Biotypflächen 2020 nach bewerteter ökologischer Qualität, Lebensraumkategorie und Biotoptypenschlüssel Typ 3/5/Gärten",
          "Biotypflächen 2020 nach bewerteter ökologischer Qualität, Lebensraumkategorie und Biotoptypenschlüssel Typ 3/1/Kies- und Schotterflächen",
          "Biotypflächen 2020 nach bewerteter ökologischer Qualität, Lebensraumkategorie und Biotoptypenschlüssel Typ 3/2/Kies- und Schotterflächen",
          "Biotypflächen 2020 nach bewerteter ökologischer Qualität, Lebensraumkategorie und Biotoptypenschlüssel Typ 3/3/Mauern",
          "Biotypflächen 2020 nach bewerteter ökologischer Qualität, Lebensraumkategorie und Biotoptypenschlüssel Typ 3/4/Obstgärten",
          "Biotypflächen 2020 nach bewerteter ökologischer Qualität, Lebensraumkategorie und Biotoptypenschlüssel Typ 3/5/Obstgärten",
          "Biotypflächen 2020 nach bewerteter ökologischer Qualität, Lebensraumkategorie und Biotoptypenschlüssel Typ 3/6/Obstgärten",
          "Biotypflächen 2020 nach bewerteter ökologischer Qualität, Lebensraumkategorie und Biotoptypenschlüssel Typ 3/1/Ruderalfluren",
          "Biotypflächen 2020 nach bewerteter ökologischer Qualität, Lebensraumkategorie und Biotoptypenschlüssel Typ 3/2/Ruderalfluren",
          "Biotypflächen 2020 nach bewerteter ökologischer Qualität, Lebensraumkategorie und Biotoptypenschlüssel Typ 3/3/Ruderalfluren",
          "Biotypflächen 2020 nach bewerteter ökologischer Qualität, Lebensraumkategorie und Biotoptypenschlüssel Typ 3/4/Ruderalfluren",
          "Biotypflächen 2020 nach bewerteter ökologischer Qualität, Lebensraumkategorie und Biotoptypenschlüssel Typ 3/5/Ruderalfluren",
          "Biotypflächen 2020 nach bewerteter ökologischer Qualität, Lebensraumkategorie und Biotoptypenschlüssel Typ 3/0/Ueberwiegend bebaute Flächen",
          "Biotypflächen 2020 nach bewerteter ökologischer Qualität, Lebensraumkategorie und Biotoptypenschlüssel Typ 3/1/Ueberwiegend bebaute Flächen",
          "Biotypflächen 2020 nach bewerteter ökologischer Qualität, Lebensraumkategorie und Biotoptypenschlüssel Typ 3/2/Ueberwiegend bebaute Flächen",
          "Biotypflächen 2020 nach bewerteter ökologischer Qualität, Lebensraumkategorie und Biotoptypenschlüssel Typ 3/3/Ueberwiegend bebaute Flächen",
          "Biotypflächen 2020 nach bewerteter ökologischer Qualität, Lebensraumkategorie und Biotoptypenschlüssel Typ 3/4/Ueberwiegend bebaute Flächen",
          "Biotypflächen 2020 nach bewerteter ökologischer Qualität, Lebensraumkategorie und Biotoptypenschlüssel Typ 3/2/Wald",
          "Biotypflächen 2020 nach bewerteter ökologischer Qualität, Lebensraumkategorie und Biotoptypenschlüssel Typ 3/3/Wald",
          "Biotypflächen 2020 nach bewerteter ökologischer Qualität, Lebensraumkategorie und Biotoptypenschlüssel Typ 3/4/Wald",
          "Biotypflächen 2020 nach bewerteter ökologischer Qualität, Lebensraumkategorie und Biotoptypenschlüssel Typ 3/5/Wald",
          "Biotypflächen 2020 nach bewerteter ökologischer Qualität, Lebensraumkategorie und Biotoptypenschlüssel Typ 3/6/Wald",
          "Biotypflächen 2020 nach bewerteter ökologischer Qualität, Lebensraumkategorie und Biotoptypenschlüssel Typ 3/2/Wiesen und Rasen",
          "Biotypflächen 2020 nach bewerteter ökologischer Qualität, Lebensraumkategorie und Biotoptypenschlüssel Typ 3/3/Wiesen und Rasen",
          "Biotypflächen 2020 nach bewerteter ökologischer Qualität, Lebensraumkategorie und Biotoptypenschlüssel Typ 3/4/Wiesen und Rasen",
          "Biotypflächen 2020 nach bewerteter ökologischer Qualität, Lebensraumkategorie und Biotoptypenschlüssel Typ 3/5/Wiesen und Rasen",
          "Biotypflächen 2020 nach bewerteter ökologischer Qualität, Lebensraumkategorie und Biotoptypenschlüssel Typ 3/6/Wiesen und Rasen",
          "Biotypflächen 2020 nach bewerteter ökologischer Qualität, Lebensraumkategorie und Biotoptypenschlüssel Typ 3/1/Äcker, Gartenbauflächen, Tiergehege",
          "Biotypflächen 2020 nach bewerteter ökologischer Qualität, Lebensraumkategorie und Biotoptypenschlüssel Typ 3/2/Äcker, Gartenbauflächen, Tiergehege",
          "Biotypflächen 2020 nach bewerteter ökologischer Qualität, Lebensraumkategorie und Biotoptypenschlüssel Typ 3/3/Äcker, Gartenbauflächen, Tiergehege",
          "Biotypflächen 2020 nach bewerteter ökologischer Qualität, Lebensraumkategorie und Biotoptypenschlüssel Typ 3/0",
          "Biotypflächen 2020 nach bewerteter ökologischer Qualität, Lebensraumkategorie und Biotoptypenschlüssel Typ 3/1",
          "Biotypflächen 2020 nach bewerteter ökologischer Qualität, Lebensraumkategorie und Biotoptypenschlüssel Typ 3/2",
          "Biotypflächen 2020 nach bewerteter ökologischer Qualität, Lebensraumkategorie und Biotoptypenschlüssel Typ 3/3",
          "Biotypflächen 2020 nach bewerteter ökologischer Qualität, Lebensraumkategorie und Biotoptypenschlüssel Typ 3/4",
          "Biotypflächen 2020 nach bewerteter ökologischer Qualität, Lebensraumkategorie und Biotoptypenschlüssel Typ 3/5",
          "Biotypflächen 2020 nach bewerteter ökologischer Qualität, Lebensraumkategorie und Biotoptypenschlüssel Typ 3/6",
          "Biotypflächen 2020 nach bewerteter ökologischer Qualität, Lebensraumkategorie und Biotoptypenschlüssel Typ 3"
         ],
         "labels": [
          "Acker",
          "Adlerfarn-Flur magerer Standorte",
          "Allee",
          "Alter Landschaftspark",
          "Aronstab-Buchenwald (inkl. 11e) (ZH: 11)",
          "Artenarme Fromentalwiese",
          "Artenarme Moos-Flachdachvegetationen",
          "Artenarme Ruderalflur",
          "Artenarme Sedum-Flachdachvegetationen",
          "Artenarmer Scherrasen (Gebrauchsrasen)",
          "Artenarmer Ziergarten",
          "Artenarmes Extensivgrünland*",
          "Artenreiche Sedum-Flachdachvegetationen",
          "Artenreicher Garten mit Grossbäumen",
          "Artenreicher Scherrasen (Blumenrasen)",
          "Bauerngarten",
          "Baumhecke",
          "Baumraster  mit Baumscheiben",
          "Baumraster mit Fettwiese",
          "Baumraster mit Fromentalwiese",
          "Baumraster mit Rasen",
          "Baumraster mit Zierhecke",
          "Baumraster mit ruderalem Unterwuchs",
          "Baumraster ohne Baumscheiben",
          "Baumreihe/-raster mit Fromentalwiese mit BFF-Qualität*",
          "Baumreihe/-raster mit kiesigem Untergrund*",
          "Baumschule",
          "Baustelle",
          "Beerenstrauch-Plantage",
          "Beet/Rabatte",
          "Bestand der Stumpfblättrigen Binse (ZH: 4c)",
          "Beton- /Asphaltfläche",
          "Blumen-Gartenbaufläche",
          "Brombeer-Gestrüpp",
          "Bultiges Grosseggenried (ZH: 3a)",
          "Buntbrachen",
          "Einzelbaum",
          "Fettwiese und -weide",
          "Feuchte Fromentalwiese*",
          "Fliessgewässer*",
          "Flusskies-Pionierflur*",
          "Fläche mit Kies- oder Schotterdecke in Bahnanlagen",
          "Fläche mit Natursteinpflaster",
          "Fläche mit Ziegel-/Betonsteinpflaster",
          "Fläche mit unbefestigtem Wandkies oder Sand*",
          "Fläche mit wassergebundener Decke*",
          "Fromentalwiese mit BFF-Qualität",
          "Gebäude*",
          "Gemüse- und sonstige Gartenbaufläche",
          "Gewerbegebiet (Kleingewerbe und kleingewerbliche Lagerflächen)",
          "Goldruten-Flur",
          "Grosseggenried ausserhalb Wasserstandsschwankungen (ZH: 3b)",
          "Grosseggenried mit Schneidebinse (ZH: 3d)",
          "Grosseggenried mit Sumpf-Segge (ZH: 3c)",
          "Halbruderale Gras- und Staudenflur feuchter Standorte",
          "Halbruderale Gras- und Staudenflur mittlerer Standorte",
          "Halbruderale Gras- und Staudenflur trockener Standorte",
          "Halbruderale Gras- und Staudenflur wechselfeuchter Standorte",
          "Hausgarten",
          "Hochstamm-Obstgarten mit Fettwiese (m4)",
          "Hochstamm-Obstgarten mit Fromentalwiese (m3)",
          "Hochstamm-Obstgarten mit Magerwiese",
          "Hochstaudenflur mit Goldrute (ZH: 4b)",
          "Hochstaudenflur mit Spierstaude (ZH: 4a)",
          "Holzlagerfläche",
          "Intensiv gepflegter Park",
          "Intensive Flachdachbegrünungen",
          "Intensivgrünland auf Flachmoorstandorten",
          "Kalk-Magerrasen",
          "Landwirtschaftliche Lagerfläche",
          "Mässig ausgebauter Bach*",
          "Mässig ausgebauter Fluss*",
          "Mässig trockene Magerwiese",
          "Naturgarten",
          "Naturnaher Bach*",
          "Naturnaher Fluss*",
          "Naturnahes Feldgehölz",
          "Naturnahes Kleingewässer",
          "Naturnahes nährstoffarmes Stillgewässer natürlicher Entstehung*",
          "Natursteinmauer/ wand",
          "Neophytisches Gebüsch",
          "Nährstoffreicher Sumpf",
          "Obst- und Gemüsegarten",
          "Parkfriedhof",
          "Pfeifengrasreinbestand auf Torf (ZH: 8c)",
          "Pfeifengraswiese, Kleinseggenausbildung feucht (ZH: 8a)",
          "Pfeifengraswiese, Kleinseggenausbildung trocken (ZH: 8b)",
          "Pioniervegetation schlammiger Nassstandorte*",
          "Rebberg ohne Terrassen",
          "Riesenbärenklau-Flur",
          "Rohrglanzgras-Flussuferröhricht*",
          "Ruderale Flachdachvegetation",
          "Ruderalflur nährstoffreicher, frischer bis feuchter Standorte",
          "Ruderalflur nährstoffreicher, frischer bis feuchter Standorte mit Gehölzen",
          "Ruderalflur trockenwarmer Standorte",
          "Ruderalflur trockenwarmer Standorte mit Gehölzen",
          "Röhricht mit Rohrkolben (ZH: 2c)",
          "Schilf-Landröhricht",
          "Schilfröhricht im Verlandungsbereich (ZH: 2a)",
          "Schwimmblattgesellschaften (ZH: 1)",
          "Seebinsenröhricht (ZH: 2b)",
          "Seggen-Schwarzerlenbruchwald (ZH: 44)",
          "Siedlungsgehölz aus überwiegend nicht heimischen Baumarten",
          "Sonstige Neophyten-Flur",
          "Sonstige Sport-, Spiel- und Freizeitanlage",
          "Sonstige befestigte Flächen*",
          "Spalierobst-Plantage",
          "Sportplatz",
          "Stark beeinträchtigtes Stillgewässer natürlicher Entstehung*",
          "Stark bis völlig ausgebauter Bach*",
          "Stark bis völlig ausgebauter Fluss*",
          "Staudenknöterich-Flur",
          "Strasse*",
          "Strauch-Baumhecke",
          "Strauch-Baumhecke mit  BFF-Qualität",
          "Strauchhecke",
          "Strauchhecke mit BFF-Qualität",
          "Strukturarme Grünanlage",
          "Strukturarme und artenarme Magerweide",
          "Strukturarmes Siedlungsgehölz aus überwiegend einheimischen Baumarten*",
          "Strukturarmes Ziergebüsch/ Hecke aus überwiegend einheimischen Gehölzarten*",
          "Strukturreiche Familiengartenanlage",
          "Strukturreiche Grünanlage",
          "Strukturreiche Magerweide",
          "Strukturreiche artenreiche Magerweide",
          "Strukturreiches Siedlungsgehölz aus überwiegend einheimischen Baumarten",
          "Strukturreiches Ziergebüsch/ Hecke aus überwiegend einheimischen Gehölzarten",
          "Sukzessionsgebüsch",
          "Sumpfdotterblumen-Wiese*",
          "Süssgras-Bachröhricht*",
          "Terrassierter Rebberg",
          "Tiergehege",
          "Traubenkirschen-Eschenwald (inkl. Nr. 30f) (ZH: 30)",
          "Verlandungsbereich nährstoffarmer Stillgewässer mit Unterwasservegetation*",
          "Wald allgemein",
          "Waldrand gestuft",
          "Waldrand strukturarm",
          "Waldrand strukturarm mit Aufwertungspotential",
          "Wechseltrockene Magerwiese",
          "Weiden- Sumpfgebüsch",
          "Wiesenartige Flachdachvegetation",
          "Wiesengraben",
          "Ziergebüsch/ Hecke aus überwiegend nicht heimischen Gehölzarten",
          "Zierhecke/ Schnitthecke",
          "Zierteich",
          "mesophiles Gebüsch",
          "sonstiger Magerrasen",
          "typisches Weiden-Auengebüsch",
          "Beete und Rabatten",
          "Familiengärten",
          "Feuchtgebiete",
          "Feuchtgebiete",
          "Feuchtgebiete",
          "Gehölze, Hecken und Gebüsche",
          "Gehölze, Hecken und Gebüsche",
          "Gehölze, Hecken und Gebüsche",
          "Gehölze, Hecken und Gebüsche",
          "Gehölze, Hecken und Gebüsche",
          "Gehölze, Hecken und Gebüsche",
          "Gewässer",
          "Gewässer",
          "Gewässer",
          "Gewässer",
          "Gewässer",
          "Grünanlagen",
          "Grünanlagen",
          "Grünanlagen",
          "Grünanlagen von Mehrfamilienhäusern",
          "Grünanlagen von Mehrfamilienhäusern",
          "Gärten",
          "Gärten",
          "Gärten",
          "Gärten",
          "Kies- und Schotterflächen",
          "Kies- und Schotterflächen",
          "Mauern",
          "Obstgärten",
          "Obstgärten",
          "Obstgärten",
          "Ruderalfluren",
          "Ruderalfluren",
          "Ruderalfluren",
          "Ruderalfluren",
          "Ruderalfluren",
          "Ueberwiegend bebaute Flächen",
          "Ueberwiegend bebaute Flächen",
          "Ueberwiegend bebaute Flächen",
          "Ueberwiegend bebaute Flächen",
          "Ueberwiegend bebaute Flächen",
          "Wald",
          "Wald",
          "Wald",
          "Wald",
          "Wald",
          "Wiesen und Rasen",
          "Wiesen und Rasen",
          "Wiesen und Rasen",
          "Wiesen und Rasen",
          "Wiesen und Rasen",
          "Äcker, Gartenbauflächen, Tiergehege",
          "Äcker, Gartenbauflächen, Tiergehege",
          "Äcker, Gartenbauflächen, Tiergehege",
          "0",
          "1",
          "2",
          "3",
          "4",
          "5",
          "6",
          "Biotypflächen 2020 nach bewerteter ökologischer Qualität, Lebensraumkategorie und Biotoptypenschlüssel Typ 3"
         ],
         "marker": {
          "coloraxis": "coloraxis",
          "colors": [
           2,
           3,
           4,
           5,
           5,
           4,
           1,
           2,
           2,
           2,
           2,
           3,
           3,
           4,
           3,
           4,
           5,
           3,
           3,
           4,
           2,
           2,
           3,
           1,
           5,
           2,
           2,
           0,
           2,
           2,
           5,
           0,
           2,
           3,
           6,
           3,
           4,
           2,
           4,
           4,
           6,
           1,
           1,
           1,
           2,
           1,
           5,
           0,
           2,
           2,
           1,
           6,
           6,
           5.999999999999999,
           3,
           3,
           5,
           4,
           3,
           4,
           5,
           6,
           3,
           5,
           2,
           2,
           2,
           2.9999999999999996,
           6,
           2,
           4,
           4,
           6,
           5,
           5,
           5,
           5,
           5,
           5,
           3,
           1,
           5,
           2,
           2.9999999999999996,
           6,
           6,
           6.000000000000001,
           5,
           2,
           1,
           5,
           4,
           3,
           3,
           5,
           5,
           6,
           6,
           6.000000000000001,
           6,
           6,
           6,
           2,
           1,
           2,
           0,
           2,
           1,
           3,
           3,
           3,
           1,
           0,
           5.000000000000001,
           6,
           5,
           6,
           2,
           3,
           3,
           3,
           4,
           3,
           5,
           6,
           4,
           4,
           3,
           3,
           5,
           3,
           1,
           6,
           6,
           4,
           5.000000000000001,
           2,
           3,
           6,
           5,
           4,
           4,
           2,
           2,
           2,
           5,
           6,
           5,
           2,
           4,
           3,
           5,
           6,
           1,
           2,
           3,
           4,
           5,
           6,
           2,
           3,
           4,
           5,
           6,
           2,
           2.9999999999999996,
           5,
           2,
           3,
           2,
           3,
           4,
           5,
           1,
           2,
           3,
           4,
           5,
           6,
           1,
           2,
           3.0000000000000004,
           4,
           5,
           0,
           1,
           2,
           3,
           4,
           2,
           3,
           4,
           5,
           6,
           2,
           3.0000000000000004,
           4,
           5,
           6,
           1,
           2,
           3,
           0,
           1,
           2,
           2.9999999999999996,
           4,
           5,
           5.999999999999999,
           2.463816023642665
          ]
         },
         "name": "",
         "parents": [
          "Biotypflächen 2020 nach bewerteter ökologischer Qualität, Lebensraumkategorie und Biotoptypenschlüssel Typ 3/2/Äcker, Gartenbauflächen, Tiergehege",
          "Biotypflächen 2020 nach bewerteter ökologischer Qualität, Lebensraumkategorie und Biotoptypenschlüssel Typ 3/3/Wiesen und Rasen",
          "Biotypflächen 2020 nach bewerteter ökologischer Qualität, Lebensraumkategorie und Biotoptypenschlüssel Typ 3/4/Gehölze, Hecken und Gebüsche",
          "Biotypflächen 2020 nach bewerteter ökologischer Qualität, Lebensraumkategorie und Biotoptypenschlüssel Typ 3/5/Grünanlagen",
          "Biotypflächen 2020 nach bewerteter ökologischer Qualität, Lebensraumkategorie und Biotoptypenschlüssel Typ 3/5/Wald",
          "Biotypflächen 2020 nach bewerteter ökologischer Qualität, Lebensraumkategorie und Biotoptypenschlüssel Typ 3/4/Wiesen und Rasen",
          "Biotypflächen 2020 nach bewerteter ökologischer Qualität, Lebensraumkategorie und Biotoptypenschlüssel Typ 3/1/Ueberwiegend bebaute Flächen",
          "Biotypflächen 2020 nach bewerteter ökologischer Qualität, Lebensraumkategorie und Biotoptypenschlüssel Typ 3/2/Ruderalfluren",
          "Biotypflächen 2020 nach bewerteter ökologischer Qualität, Lebensraumkategorie und Biotoptypenschlüssel Typ 3/2/Ueberwiegend bebaute Flächen",
          "Biotypflächen 2020 nach bewerteter ökologischer Qualität, Lebensraumkategorie und Biotoptypenschlüssel Typ 3/2/Wiesen und Rasen",
          "Biotypflächen 2020 nach bewerteter ökologischer Qualität, Lebensraumkategorie und Biotoptypenschlüssel Typ 3/2/Gärten",
          "Biotypflächen 2020 nach bewerteter ökologischer Qualität, Lebensraumkategorie und Biotoptypenschlüssel Typ 3/3/Wiesen und Rasen",
          "Biotypflächen 2020 nach bewerteter ökologischer Qualität, Lebensraumkategorie und Biotoptypenschlüssel Typ 3/3/Ueberwiegend bebaute Flächen",
          "Biotypflächen 2020 nach bewerteter ökologischer Qualität, Lebensraumkategorie und Biotoptypenschlüssel Typ 3/4/Gärten",
          "Biotypflächen 2020 nach bewerteter ökologischer Qualität, Lebensraumkategorie und Biotoptypenschlüssel Typ 3/3/Wiesen und Rasen",
          "Biotypflächen 2020 nach bewerteter ökologischer Qualität, Lebensraumkategorie und Biotoptypenschlüssel Typ 3/4/Gärten",
          "Biotypflächen 2020 nach bewerteter ökologischer Qualität, Lebensraumkategorie und Biotoptypenschlüssel Typ 3/5/Gehölze, Hecken und Gebüsche",
          "Biotypflächen 2020 nach bewerteter ökologischer Qualität, Lebensraumkategorie und Biotoptypenschlüssel Typ 3/3/Gehölze, Hecken und Gebüsche",
          "Biotypflächen 2020 nach bewerteter ökologischer Qualität, Lebensraumkategorie und Biotoptypenschlüssel Typ 3/3/Gehölze, Hecken und Gebüsche",
          "Biotypflächen 2020 nach bewerteter ökologischer Qualität, Lebensraumkategorie und Biotoptypenschlüssel Typ 3/4/Gehölze, Hecken und Gebüsche",
          "Biotypflächen 2020 nach bewerteter ökologischer Qualität, Lebensraumkategorie und Biotoptypenschlüssel Typ 3/2/Gehölze, Hecken und Gebüsche",
          "Biotypflächen 2020 nach bewerteter ökologischer Qualität, Lebensraumkategorie und Biotoptypenschlüssel Typ 3/2/Gehölze, Hecken und Gebüsche",
          "Biotypflächen 2020 nach bewerteter ökologischer Qualität, Lebensraumkategorie und Biotoptypenschlüssel Typ 3/3/Gehölze, Hecken und Gebüsche",
          "Biotypflächen 2020 nach bewerteter ökologischer Qualität, Lebensraumkategorie und Biotoptypenschlüssel Typ 3/1/Gehölze, Hecken und Gebüsche",
          "Biotypflächen 2020 nach bewerteter ökologischer Qualität, Lebensraumkategorie und Biotoptypenschlüssel Typ 3/5/Gehölze, Hecken und Gebüsche",
          "Biotypflächen 2020 nach bewerteter ökologischer Qualität, Lebensraumkategorie und Biotoptypenschlüssel Typ 3/2/Gehölze, Hecken und Gebüsche",
          "Biotypflächen 2020 nach bewerteter ökologischer Qualität, Lebensraumkategorie und Biotoptypenschlüssel Typ 3/2/Äcker, Gartenbauflächen, Tiergehege",
          "Biotypflächen 2020 nach bewerteter ökologischer Qualität, Lebensraumkategorie und Biotoptypenschlüssel Typ 3/0/Ueberwiegend bebaute Flächen",
          "Biotypflächen 2020 nach bewerteter ökologischer Qualität, Lebensraumkategorie und Biotoptypenschlüssel Typ 3/2/Äcker, Gartenbauflächen, Tiergehege",
          "Biotypflächen 2020 nach bewerteter ökologischer Qualität, Lebensraumkategorie und Biotoptypenschlüssel Typ 3/2/Beete und Rabatten",
          "Biotypflächen 2020 nach bewerteter ökologischer Qualität, Lebensraumkategorie und Biotoptypenschlüssel Typ 3/5/Feuchtgebiete",
          "Biotypflächen 2020 nach bewerteter ökologischer Qualität, Lebensraumkategorie und Biotoptypenschlüssel Typ 3/0/Ueberwiegend bebaute Flächen",
          "Biotypflächen 2020 nach bewerteter ökologischer Qualität, Lebensraumkategorie und Biotoptypenschlüssel Typ 3/2/Äcker, Gartenbauflächen, Tiergehege",
          "Biotypflächen 2020 nach bewerteter ökologischer Qualität, Lebensraumkategorie und Biotoptypenschlüssel Typ 3/3/Gehölze, Hecken und Gebüsche",
          "Biotypflächen 2020 nach bewerteter ökologischer Qualität, Lebensraumkategorie und Biotoptypenschlüssel Typ 3/6/Feuchtgebiete",
          "Biotypflächen 2020 nach bewerteter ökologischer Qualität, Lebensraumkategorie und Biotoptypenschlüssel Typ 3/3/Äcker, Gartenbauflächen, Tiergehege",
          "Biotypflächen 2020 nach bewerteter ökologischer Qualität, Lebensraumkategorie und Biotoptypenschlüssel Typ 3/4/Gehölze, Hecken und Gebüsche",
          "Biotypflächen 2020 nach bewerteter ökologischer Qualität, Lebensraumkategorie und Biotoptypenschlüssel Typ 3/2/Wiesen und Rasen",
          "Biotypflächen 2020 nach bewerteter ökologischer Qualität, Lebensraumkategorie und Biotoptypenschlüssel Typ 3/4/Wiesen und Rasen",
          "Biotypflächen 2020 nach bewerteter ökologischer Qualität, Lebensraumkategorie und Biotoptypenschlüssel Typ 3/4/Gewässer",
          "Biotypflächen 2020 nach bewerteter ökologischer Qualität, Lebensraumkategorie und Biotoptypenschlüssel Typ 3/6/Gewässer",
          "Biotypflächen 2020 nach bewerteter ökologischer Qualität, Lebensraumkategorie und Biotoptypenschlüssel Typ 3/1/Kies- und Schotterflächen",
          "Biotypflächen 2020 nach bewerteter ökologischer Qualität, Lebensraumkategorie und Biotoptypenschlüssel Typ 3/1/Ueberwiegend bebaute Flächen",
          "Biotypflächen 2020 nach bewerteter ökologischer Qualität, Lebensraumkategorie und Biotoptypenschlüssel Typ 3/1/Ueberwiegend bebaute Flächen",
          "Biotypflächen 2020 nach bewerteter ökologischer Qualität, Lebensraumkategorie und Biotoptypenschlüssel Typ 3/2/Kies- und Schotterflächen",
          "Biotypflächen 2020 nach bewerteter ökologischer Qualität, Lebensraumkategorie und Biotoptypenschlüssel Typ 3/1/Kies- und Schotterflächen",
          "Biotypflächen 2020 nach bewerteter ökologischer Qualität, Lebensraumkategorie und Biotoptypenschlüssel Typ 3/5/Wiesen und Rasen",
          "Biotypflächen 2020 nach bewerteter ökologischer Qualität, Lebensraumkategorie und Biotoptypenschlüssel Typ 3/0/Ueberwiegend bebaute Flächen",
          "Biotypflächen 2020 nach bewerteter ökologischer Qualität, Lebensraumkategorie und Biotoptypenschlüssel Typ 3/2/Äcker, Gartenbauflächen, Tiergehege",
          "Biotypflächen 2020 nach bewerteter ökologischer Qualität, Lebensraumkategorie und Biotoptypenschlüssel Typ 3/2/Ueberwiegend bebaute Flächen",
          "Biotypflächen 2020 nach bewerteter ökologischer Qualität, Lebensraumkategorie und Biotoptypenschlüssel Typ 3/1/Ruderalfluren",
          "Biotypflächen 2020 nach bewerteter ökologischer Qualität, Lebensraumkategorie und Biotoptypenschlüssel Typ 3/6/Feuchtgebiete",
          "Biotypflächen 2020 nach bewerteter ökologischer Qualität, Lebensraumkategorie und Biotoptypenschlüssel Typ 3/6/Feuchtgebiete",
          "Biotypflächen 2020 nach bewerteter ökologischer Qualität, Lebensraumkategorie und Biotoptypenschlüssel Typ 3/6/Feuchtgebiete",
          "Biotypflächen 2020 nach bewerteter ökologischer Qualität, Lebensraumkategorie und Biotoptypenschlüssel Typ 3/3/Ruderalfluren",
          "Biotypflächen 2020 nach bewerteter ökologischer Qualität, Lebensraumkategorie und Biotoptypenschlüssel Typ 3/3/Ruderalfluren",
          "Biotypflächen 2020 nach bewerteter ökologischer Qualität, Lebensraumkategorie und Biotoptypenschlüssel Typ 3/5/Ruderalfluren",
          "Biotypflächen 2020 nach bewerteter ökologischer Qualität, Lebensraumkategorie und Biotoptypenschlüssel Typ 3/4/Ruderalfluren",
          "Biotypflächen 2020 nach bewerteter ökologischer Qualität, Lebensraumkategorie und Biotoptypenschlüssel Typ 3/3/Gärten",
          "Biotypflächen 2020 nach bewerteter ökologischer Qualität, Lebensraumkategorie und Biotoptypenschlüssel Typ 3/4/Obstgärten",
          "Biotypflächen 2020 nach bewerteter ökologischer Qualität, Lebensraumkategorie und Biotoptypenschlüssel Typ 3/5/Obstgärten",
          "Biotypflächen 2020 nach bewerteter ökologischer Qualität, Lebensraumkategorie und Biotoptypenschlüssel Typ 3/6/Obstgärten",
          "Biotypflächen 2020 nach bewerteter ökologischer Qualität, Lebensraumkategorie und Biotoptypenschlüssel Typ 3/3/Feuchtgebiete",
          "Biotypflächen 2020 nach bewerteter ökologischer Qualität, Lebensraumkategorie und Biotoptypenschlüssel Typ 3/5/Feuchtgebiete",
          "Biotypflächen 2020 nach bewerteter ökologischer Qualität, Lebensraumkategorie und Biotoptypenschlüssel Typ 3/2/Wald",
          "Biotypflächen 2020 nach bewerteter ökologischer Qualität, Lebensraumkategorie und Biotoptypenschlüssel Typ 3/2/Grünanlagen",
          "Biotypflächen 2020 nach bewerteter ökologischer Qualität, Lebensraumkategorie und Biotoptypenschlüssel Typ 3/2/Ueberwiegend bebaute Flächen",
          "Biotypflächen 2020 nach bewerteter ökologischer Qualität, Lebensraumkategorie und Biotoptypenschlüssel Typ 3/3/Wiesen und Rasen",
          "Biotypflächen 2020 nach bewerteter ökologischer Qualität, Lebensraumkategorie und Biotoptypenschlüssel Typ 3/6/Wiesen und Rasen",
          "Biotypflächen 2020 nach bewerteter ökologischer Qualität, Lebensraumkategorie und Biotoptypenschlüssel Typ 3/2/Äcker, Gartenbauflächen, Tiergehege",
          "Biotypflächen 2020 nach bewerteter ökologischer Qualität, Lebensraumkategorie und Biotoptypenschlüssel Typ 3/4/Gewässer",
          "Biotypflächen 2020 nach bewerteter ökologischer Qualität, Lebensraumkategorie und Biotoptypenschlüssel Typ 3/4/Gewässer",
          "Biotypflächen 2020 nach bewerteter ökologischer Qualität, Lebensraumkategorie und Biotoptypenschlüssel Typ 3/6/Wiesen und Rasen",
          "Biotypflächen 2020 nach bewerteter ökologischer Qualität, Lebensraumkategorie und Biotoptypenschlüssel Typ 3/5/Gärten",
          "Biotypflächen 2020 nach bewerteter ökologischer Qualität, Lebensraumkategorie und Biotoptypenschlüssel Typ 3/5/Gewässer",
          "Biotypflächen 2020 nach bewerteter ökologischer Qualität, Lebensraumkategorie und Biotoptypenschlüssel Typ 3/5/Gewässer",
          "Biotypflächen 2020 nach bewerteter ökologischer Qualität, Lebensraumkategorie und Biotoptypenschlüssel Typ 3/5/Gehölze, Hecken und Gebüsche",
          "Biotypflächen 2020 nach bewerteter ökologischer Qualität, Lebensraumkategorie und Biotoptypenschlüssel Typ 3/5/Gewässer",
          "Biotypflächen 2020 nach bewerteter ökologischer Qualität, Lebensraumkategorie und Biotoptypenschlüssel Typ 3/5/Gewässer",
          "Biotypflächen 2020 nach bewerteter ökologischer Qualität, Lebensraumkategorie und Biotoptypenschlüssel Typ 3/3/Mauern",
          "Biotypflächen 2020 nach bewerteter ökologischer Qualität, Lebensraumkategorie und Biotoptypenschlüssel Typ 3/1/Gehölze, Hecken und Gebüsche",
          "Biotypflächen 2020 nach bewerteter ökologischer Qualität, Lebensraumkategorie und Biotoptypenschlüssel Typ 3/5/Feuchtgebiete",
          "Biotypflächen 2020 nach bewerteter ökologischer Qualität, Lebensraumkategorie und Biotoptypenschlüssel Typ 3/2/Gärten",
          "Biotypflächen 2020 nach bewerteter ökologischer Qualität, Lebensraumkategorie und Biotoptypenschlüssel Typ 3/3/Grünanlagen",
          "Biotypflächen 2020 nach bewerteter ökologischer Qualität, Lebensraumkategorie und Biotoptypenschlüssel Typ 3/6/Feuchtgebiete",
          "Biotypflächen 2020 nach bewerteter ökologischer Qualität, Lebensraumkategorie und Biotoptypenschlüssel Typ 3/6/Feuchtgebiete",
          "Biotypflächen 2020 nach bewerteter ökologischer Qualität, Lebensraumkategorie und Biotoptypenschlüssel Typ 3/6/Feuchtgebiete",
          "Biotypflächen 2020 nach bewerteter ökologischer Qualität, Lebensraumkategorie und Biotoptypenschlüssel Typ 3/5/Feuchtgebiete",
          "Biotypflächen 2020 nach bewerteter ökologischer Qualität, Lebensraumkategorie und Biotoptypenschlüssel Typ 3/2/Äcker, Gartenbauflächen, Tiergehege",
          "Biotypflächen 2020 nach bewerteter ökologischer Qualität, Lebensraumkategorie und Biotoptypenschlüssel Typ 3/1/Ruderalfluren",
          "Biotypflächen 2020 nach bewerteter ökologischer Qualität, Lebensraumkategorie und Biotoptypenschlüssel Typ 3/5/Feuchtgebiete",
          "Biotypflächen 2020 nach bewerteter ökologischer Qualität, Lebensraumkategorie und Biotoptypenschlüssel Typ 3/4/Ueberwiegend bebaute Flächen",
          "Biotypflächen 2020 nach bewerteter ökologischer Qualität, Lebensraumkategorie und Biotoptypenschlüssel Typ 3/3/Ruderalfluren",
          "Biotypflächen 2020 nach bewerteter ökologischer Qualität, Lebensraumkategorie und Biotoptypenschlüssel Typ 3/3/Ruderalfluren",
          "Biotypflächen 2020 nach bewerteter ökologischer Qualität, Lebensraumkategorie und Biotoptypenschlüssel Typ 3/5/Ruderalfluren",
          "Biotypflächen 2020 nach bewerteter ökologischer Qualität, Lebensraumkategorie und Biotoptypenschlüssel Typ 3/5/Ruderalfluren",
          "Biotypflächen 2020 nach bewerteter ökologischer Qualität, Lebensraumkategorie und Biotoptypenschlüssel Typ 3/6/Gewässer",
          "Biotypflächen 2020 nach bewerteter ökologischer Qualität, Lebensraumkategorie und Biotoptypenschlüssel Typ 3/6/Feuchtgebiete",
          "Biotypflächen 2020 nach bewerteter ökologischer Qualität, Lebensraumkategorie und Biotoptypenschlüssel Typ 3/6/Gewässer",
          "Biotypflächen 2020 nach bewerteter ökologischer Qualität, Lebensraumkategorie und Biotoptypenschlüssel Typ 3/6/Gewässer",
          "Biotypflächen 2020 nach bewerteter ökologischer Qualität, Lebensraumkategorie und Biotoptypenschlüssel Typ 3/6/Gewässer",
          "Biotypflächen 2020 nach bewerteter ökologischer Qualität, Lebensraumkategorie und Biotoptypenschlüssel Typ 3/6/Wald",
          "Biotypflächen 2020 nach bewerteter ökologischer Qualität, Lebensraumkategorie und Biotoptypenschlüssel Typ 3/2/Gehölze, Hecken und Gebüsche",
          "Biotypflächen 2020 nach bewerteter ökologischer Qualität, Lebensraumkategorie und Biotoptypenschlüssel Typ 3/1/Ruderalfluren",
          "Biotypflächen 2020 nach bewerteter ökologischer Qualität, Lebensraumkategorie und Biotoptypenschlüssel Typ 3/2/Ueberwiegend bebaute Flächen",
          "Biotypflächen 2020 nach bewerteter ökologischer Qualität, Lebensraumkategorie und Biotoptypenschlüssel Typ 3/0/Ueberwiegend bebaute Flächen",
          "Biotypflächen 2020 nach bewerteter ökologischer Qualität, Lebensraumkategorie und Biotoptypenschlüssel Typ 3/2/Äcker, Gartenbauflächen, Tiergehege",
          "Biotypflächen 2020 nach bewerteter ökologischer Qualität, Lebensraumkategorie und Biotoptypenschlüssel Typ 3/1/Ueberwiegend bebaute Flächen",
          "Biotypflächen 2020 nach bewerteter ökologischer Qualität, Lebensraumkategorie und Biotoptypenschlüssel Typ 3/3/Gewässer",
          "Biotypflächen 2020 nach bewerteter ökologischer Qualität, Lebensraumkategorie und Biotoptypenschlüssel Typ 3/3/Gewässer",
          "Biotypflächen 2020 nach bewerteter ökologischer Qualität, Lebensraumkategorie und Biotoptypenschlüssel Typ 3/3/Gewässer",
          "Biotypflächen 2020 nach bewerteter ökologischer Qualität, Lebensraumkategorie und Biotoptypenschlüssel Typ 3/1/Ruderalfluren",
          "Biotypflächen 2020 nach bewerteter ökologischer Qualität, Lebensraumkategorie und Biotoptypenschlüssel Typ 3/0/Ueberwiegend bebaute Flächen",
          "Biotypflächen 2020 nach bewerteter ökologischer Qualität, Lebensraumkategorie und Biotoptypenschlüssel Typ 3/5/Gehölze, Hecken und Gebüsche",
          "Biotypflächen 2020 nach bewerteter ökologischer Qualität, Lebensraumkategorie und Biotoptypenschlüssel Typ 3/6/Gehölze, Hecken und Gebüsche",
          "Biotypflächen 2020 nach bewerteter ökologischer Qualität, Lebensraumkategorie und Biotoptypenschlüssel Typ 3/5/Gehölze, Hecken und Gebüsche",
          "Biotypflächen 2020 nach bewerteter ökologischer Qualität, Lebensraumkategorie und Biotoptypenschlüssel Typ 3/6/Gehölze, Hecken und Gebüsche",
          "Biotypflächen 2020 nach bewerteter ökologischer Qualität, Lebensraumkategorie und Biotoptypenschlüssel Typ 3/2/Grünanlagen von Mehrfamilienhäusern",
          "Biotypflächen 2020 nach bewerteter ökologischer Qualität, Lebensraumkategorie und Biotoptypenschlüssel Typ 3/3/Wiesen und Rasen",
          "Biotypflächen 2020 nach bewerteter ökologischer Qualität, Lebensraumkategorie und Biotoptypenschlüssel Typ 3/3/Gehölze, Hecken und Gebüsche",
          "Biotypflächen 2020 nach bewerteter ökologischer Qualität, Lebensraumkategorie und Biotoptypenschlüssel Typ 3/3/Gehölze, Hecken und Gebüsche",
          "Biotypflächen 2020 nach bewerteter ökologischer Qualität, Lebensraumkategorie und Biotoptypenschlüssel Typ 3/4/Familiengärten",
          "Biotypflächen 2020 nach bewerteter ökologischer Qualität, Lebensraumkategorie und Biotoptypenschlüssel Typ 3/3/Grünanlagen von Mehrfamilienhäusern",
          "Biotypflächen 2020 nach bewerteter ökologischer Qualität, Lebensraumkategorie und Biotoptypenschlüssel Typ 3/5/Wiesen und Rasen",
          "Biotypflächen 2020 nach bewerteter ökologischer Qualität, Lebensraumkategorie und Biotoptypenschlüssel Typ 3/6/Wiesen und Rasen",
          "Biotypflächen 2020 nach bewerteter ökologischer Qualität, Lebensraumkategorie und Biotoptypenschlüssel Typ 3/4/Gehölze, Hecken und Gebüsche",
          "Biotypflächen 2020 nach bewerteter ökologischer Qualität, Lebensraumkategorie und Biotoptypenschlüssel Typ 3/4/Gehölze, Hecken und Gebüsche",
          "Biotypflächen 2020 nach bewerteter ökologischer Qualität, Lebensraumkategorie und Biotoptypenschlüssel Typ 3/3/Gehölze, Hecken und Gebüsche",
          "Biotypflächen 2020 nach bewerteter ökologischer Qualität, Lebensraumkategorie und Biotoptypenschlüssel Typ 3/3/Wiesen und Rasen",
          "Biotypflächen 2020 nach bewerteter ökologischer Qualität, Lebensraumkategorie und Biotoptypenschlüssel Typ 3/5/Feuchtgebiete",
          "Biotypflächen 2020 nach bewerteter ökologischer Qualität, Lebensraumkategorie und Biotoptypenschlüssel Typ 3/3/Äcker, Gartenbauflächen, Tiergehege",
          "Biotypflächen 2020 nach bewerteter ökologischer Qualität, Lebensraumkategorie und Biotoptypenschlüssel Typ 3/1/Äcker, Gartenbauflächen, Tiergehege",
          "Biotypflächen 2020 nach bewerteter ökologischer Qualität, Lebensraumkategorie und Biotoptypenschlüssel Typ 3/6/Wald",
          "Biotypflächen 2020 nach bewerteter ökologischer Qualität, Lebensraumkategorie und Biotoptypenschlüssel Typ 3/6/Gewässer",
          "Biotypflächen 2020 nach bewerteter ökologischer Qualität, Lebensraumkategorie und Biotoptypenschlüssel Typ 3/4/Wald",
          "Biotypflächen 2020 nach bewerteter ökologischer Qualität, Lebensraumkategorie und Biotoptypenschlüssel Typ 3/5/Wald",
          "Biotypflächen 2020 nach bewerteter ökologischer Qualität, Lebensraumkategorie und Biotoptypenschlüssel Typ 3/2/Wald",
          "Biotypflächen 2020 nach bewerteter ökologischer Qualität, Lebensraumkategorie und Biotoptypenschlüssel Typ 3/3/Wald",
          "Biotypflächen 2020 nach bewerteter ökologischer Qualität, Lebensraumkategorie und Biotoptypenschlüssel Typ 3/6/Wiesen und Rasen",
          "Biotypflächen 2020 nach bewerteter ökologischer Qualität, Lebensraumkategorie und Biotoptypenschlüssel Typ 3/5/Gehölze, Hecken und Gebüsche",
          "Biotypflächen 2020 nach bewerteter ökologischer Qualität, Lebensraumkategorie und Biotoptypenschlüssel Typ 3/4/Ueberwiegend bebaute Flächen",
          "Biotypflächen 2020 nach bewerteter ökologischer Qualität, Lebensraumkategorie und Biotoptypenschlüssel Typ 3/4/Gewässer",
          "Biotypflächen 2020 nach bewerteter ökologischer Qualität, Lebensraumkategorie und Biotoptypenschlüssel Typ 3/2/Gehölze, Hecken und Gebüsche",
          "Biotypflächen 2020 nach bewerteter ökologischer Qualität, Lebensraumkategorie und Biotoptypenschlüssel Typ 3/2/Gehölze, Hecken und Gebüsche",
          "Biotypflächen 2020 nach bewerteter ökologischer Qualität, Lebensraumkategorie und Biotoptypenschlüssel Typ 3/2/Gewässer",
          "Biotypflächen 2020 nach bewerteter ökologischer Qualität, Lebensraumkategorie und Biotoptypenschlüssel Typ 3/5/Gehölze, Hecken und Gebüsche",
          "Biotypflächen 2020 nach bewerteter ökologischer Qualität, Lebensraumkategorie und Biotoptypenschlüssel Typ 3/6/Wiesen und Rasen",
          "Biotypflächen 2020 nach bewerteter ökologischer Qualität, Lebensraumkategorie und Biotoptypenschlüssel Typ 3/5/Gehölze, Hecken und Gebüsche",
          "Biotypflächen 2020 nach bewerteter ökologischer Qualität, Lebensraumkategorie und Biotoptypenschlüssel Typ 3/2",
          "Biotypflächen 2020 nach bewerteter ökologischer Qualität, Lebensraumkategorie und Biotoptypenschlüssel Typ 3/4",
          "Biotypflächen 2020 nach bewerteter ökologischer Qualität, Lebensraumkategorie und Biotoptypenschlüssel Typ 3/3",
          "Biotypflächen 2020 nach bewerteter ökologischer Qualität, Lebensraumkategorie und Biotoptypenschlüssel Typ 3/5",
          "Biotypflächen 2020 nach bewerteter ökologischer Qualität, Lebensraumkategorie und Biotoptypenschlüssel Typ 3/6",
          "Biotypflächen 2020 nach bewerteter ökologischer Qualität, Lebensraumkategorie und Biotoptypenschlüssel Typ 3/1",
          "Biotypflächen 2020 nach bewerteter ökologischer Qualität, Lebensraumkategorie und Biotoptypenschlüssel Typ 3/2",
          "Biotypflächen 2020 nach bewerteter ökologischer Qualität, Lebensraumkategorie und Biotoptypenschlüssel Typ 3/3",
          "Biotypflächen 2020 nach bewerteter ökologischer Qualität, Lebensraumkategorie und Biotoptypenschlüssel Typ 3/4",
          "Biotypflächen 2020 nach bewerteter ökologischer Qualität, Lebensraumkategorie und Biotoptypenschlüssel Typ 3/5",
          "Biotypflächen 2020 nach bewerteter ökologischer Qualität, Lebensraumkategorie und Biotoptypenschlüssel Typ 3/6",
          "Biotypflächen 2020 nach bewerteter ökologischer Qualität, Lebensraumkategorie und Biotoptypenschlüssel Typ 3/2",
          "Biotypflächen 2020 nach bewerteter ökologischer Qualität, Lebensraumkategorie und Biotoptypenschlüssel Typ 3/3",
          "Biotypflächen 2020 nach bewerteter ökologischer Qualität, Lebensraumkategorie und Biotoptypenschlüssel Typ 3/4",
          "Biotypflächen 2020 nach bewerteter ökologischer Qualität, Lebensraumkategorie und Biotoptypenschlüssel Typ 3/5",
          "Biotypflächen 2020 nach bewerteter ökologischer Qualität, Lebensraumkategorie und Biotoptypenschlüssel Typ 3/6",
          "Biotypflächen 2020 nach bewerteter ökologischer Qualität, Lebensraumkategorie und Biotoptypenschlüssel Typ 3/2",
          "Biotypflächen 2020 nach bewerteter ökologischer Qualität, Lebensraumkategorie und Biotoptypenschlüssel Typ 3/3",
          "Biotypflächen 2020 nach bewerteter ökologischer Qualität, Lebensraumkategorie und Biotoptypenschlüssel Typ 3/5",
          "Biotypflächen 2020 nach bewerteter ökologischer Qualität, Lebensraumkategorie und Biotoptypenschlüssel Typ 3/2",
          "Biotypflächen 2020 nach bewerteter ökologischer Qualität, Lebensraumkategorie und Biotoptypenschlüssel Typ 3/3",
          "Biotypflächen 2020 nach bewerteter ökologischer Qualität, Lebensraumkategorie und Biotoptypenschlüssel Typ 3/2",
          "Biotypflächen 2020 nach bewerteter ökologischer Qualität, Lebensraumkategorie und Biotoptypenschlüssel Typ 3/3",
          "Biotypflächen 2020 nach bewerteter ökologischer Qualität, Lebensraumkategorie und Biotoptypenschlüssel Typ 3/4",
          "Biotypflächen 2020 nach bewerteter ökologischer Qualität, Lebensraumkategorie und Biotoptypenschlüssel Typ 3/5",
          "Biotypflächen 2020 nach bewerteter ökologischer Qualität, Lebensraumkategorie und Biotoptypenschlüssel Typ 3/1",
          "Biotypflächen 2020 nach bewerteter ökologischer Qualität, Lebensraumkategorie und Biotoptypenschlüssel Typ 3/2",
          "Biotypflächen 2020 nach bewerteter ökologischer Qualität, Lebensraumkategorie und Biotoptypenschlüssel Typ 3/3",
          "Biotypflächen 2020 nach bewerteter ökologischer Qualität, Lebensraumkategorie und Biotoptypenschlüssel Typ 3/4",
          "Biotypflächen 2020 nach bewerteter ökologischer Qualität, Lebensraumkategorie und Biotoptypenschlüssel Typ 3/5",
          "Biotypflächen 2020 nach bewerteter ökologischer Qualität, Lebensraumkategorie und Biotoptypenschlüssel Typ 3/6",
          "Biotypflächen 2020 nach bewerteter ökologischer Qualität, Lebensraumkategorie und Biotoptypenschlüssel Typ 3/1",
          "Biotypflächen 2020 nach bewerteter ökologischer Qualität, Lebensraumkategorie und Biotoptypenschlüssel Typ 3/2",
          "Biotypflächen 2020 nach bewerteter ökologischer Qualität, Lebensraumkategorie und Biotoptypenschlüssel Typ 3/3",
          "Biotypflächen 2020 nach bewerteter ökologischer Qualität, Lebensraumkategorie und Biotoptypenschlüssel Typ 3/4",
          "Biotypflächen 2020 nach bewerteter ökologischer Qualität, Lebensraumkategorie und Biotoptypenschlüssel Typ 3/5",
          "Biotypflächen 2020 nach bewerteter ökologischer Qualität, Lebensraumkategorie und Biotoptypenschlüssel Typ 3/0",
          "Biotypflächen 2020 nach bewerteter ökologischer Qualität, Lebensraumkategorie und Biotoptypenschlüssel Typ 3/1",
          "Biotypflächen 2020 nach bewerteter ökologischer Qualität, Lebensraumkategorie und Biotoptypenschlüssel Typ 3/2",
          "Biotypflächen 2020 nach bewerteter ökologischer Qualität, Lebensraumkategorie und Biotoptypenschlüssel Typ 3/3",
          "Biotypflächen 2020 nach bewerteter ökologischer Qualität, Lebensraumkategorie und Biotoptypenschlüssel Typ 3/4",
          "Biotypflächen 2020 nach bewerteter ökologischer Qualität, Lebensraumkategorie und Biotoptypenschlüssel Typ 3/2",
          "Biotypflächen 2020 nach bewerteter ökologischer Qualität, Lebensraumkategorie und Biotoptypenschlüssel Typ 3/3",
          "Biotypflächen 2020 nach bewerteter ökologischer Qualität, Lebensraumkategorie und Biotoptypenschlüssel Typ 3/4",
          "Biotypflächen 2020 nach bewerteter ökologischer Qualität, Lebensraumkategorie und Biotoptypenschlüssel Typ 3/5",
          "Biotypflächen 2020 nach bewerteter ökologischer Qualität, Lebensraumkategorie und Biotoptypenschlüssel Typ 3/6",
          "Biotypflächen 2020 nach bewerteter ökologischer Qualität, Lebensraumkategorie und Biotoptypenschlüssel Typ 3/2",
          "Biotypflächen 2020 nach bewerteter ökologischer Qualität, Lebensraumkategorie und Biotoptypenschlüssel Typ 3/3",
          "Biotypflächen 2020 nach bewerteter ökologischer Qualität, Lebensraumkategorie und Biotoptypenschlüssel Typ 3/4",
          "Biotypflächen 2020 nach bewerteter ökologischer Qualität, Lebensraumkategorie und Biotoptypenschlüssel Typ 3/5",
          "Biotypflächen 2020 nach bewerteter ökologischer Qualität, Lebensraumkategorie und Biotoptypenschlüssel Typ 3/6",
          "Biotypflächen 2020 nach bewerteter ökologischer Qualität, Lebensraumkategorie und Biotoptypenschlüssel Typ 3/1",
          "Biotypflächen 2020 nach bewerteter ökologischer Qualität, Lebensraumkategorie und Biotoptypenschlüssel Typ 3/2",
          "Biotypflächen 2020 nach bewerteter ökologischer Qualität, Lebensraumkategorie und Biotoptypenschlüssel Typ 3/3",
          "Biotypflächen 2020 nach bewerteter ökologischer Qualität, Lebensraumkategorie und Biotoptypenschlüssel Typ 3",
          "Biotypflächen 2020 nach bewerteter ökologischer Qualität, Lebensraumkategorie und Biotoptypenschlüssel Typ 3",
          "Biotypflächen 2020 nach bewerteter ökologischer Qualität, Lebensraumkategorie und Biotoptypenschlüssel Typ 3",
          "Biotypflächen 2020 nach bewerteter ökologischer Qualität, Lebensraumkategorie und Biotoptypenschlüssel Typ 3",
          "Biotypflächen 2020 nach bewerteter ökologischer Qualität, Lebensraumkategorie und Biotoptypenschlüssel Typ 3",
          "Biotypflächen 2020 nach bewerteter ökologischer Qualität, Lebensraumkategorie und Biotoptypenschlüssel Typ 3",
          "Biotypflächen 2020 nach bewerteter ökologischer Qualität, Lebensraumkategorie und Biotoptypenschlüssel Typ 3",
          ""
         ],
         "root": {
          "color": "grey"
         },
         "type": "treemap",
         "values": [
          2813446.551700476,
          334.3499991642731,
          6873.346343103778,
          371571.91547598864,
          220.4402248766232,
          1304851.2454321254,
          242.16611597438242,
          569247.9527578861,
          1318.2535206156513,
          1090505.6633447874,
          2193633.88441025,
          385622.64171441185,
          1388.2192938650912,
          488429.80136541865,
          265620.8302921334,
          69123.9738776447,
          38650.92904022757,
          403736.53233765136,
          159829.59638350748,
          190727.4074851841,
          269846.23976828926,
          140998.85578435825,
          181912.15458520132,
          59158.96294193625,
          94513.01237812685,
          250001.66292319723,
          124405.32971426453,
          54949.26394448965,
          7327.294524323805,
          88777.57088741209,
          17890.45391563421,
          8164996.99372697,
          44857.65892645256,
          16169.521133123571,
          21347.98372443171,
          3640.676812635949,
          8163.304187465388,
          2820371.0429771333,
          32076.9603981509,
          75834.43911898544,
          4503.217700897957,
          923458.4135663413,
          588771.3066388996,
          1010595.955613605,
          27560.664474167294,
          1578023.0092440115,
          583691.2542488886,
          9930630.363919077,
          42479.18798006694,
          3107.309331304658,
          6593.311659840511,
          26846.99117884156,
          24586.287606289614,
          22887.51932417301,
          89193.36536717521,
          451353.0595539988,
          184779.9750187551,
          10091.617873441559,
          2890565.7907430194,
          539462.7694293865,
          172371.19703856827,
          13103.986580308681,
          5570.276098159063,
          65118.237006713854,
          2742.167528917179,
          315309.5647496528,
          529.1431933543388,
          26517.983956227625,
          50403.34163895831,
          23344.891483851417,
          33690.41863526298,
          363293.4529967553,
          352910.69577351114,
          91728.85662336108,
          96467.90029750466,
          126818.067538546,
          53644.200665900586,
          37273.28974560195,
          168326.95236940234,
          3254.2653870818085,
          14068.78492529858,
          9297.359926138752,
          19802.179468659677,
          453041.202578402,
          1034.5109915917774,
          30814.396913349283,
          3229.1712348563424,
          121.50956944851139,
          96577.15014311217,
          325.32378550419827,
          12182.396713862427,
          1264.8473029230227,
          63205.12055369359,
          36670.22662847536,
          159109.51795258478,
          33973.095913702025,
          491.17511779627085,
          38796.58981692612,
          27501.450802931715,
          15437.835226656643,
          308.9978408550244,
          3402.6948706309145,
          21846.649248315334,
          3852.097230767955,
          120950.98939509856,
          94453.88559192563,
          117666.06504922677,
          482633.58544248407,
          3397216.945910547,
          35006.30649006192,
          186232.68855786187,
          4597.463633836908,
          506458.8591435618,
          118974.49476260593,
          4927.361186369983,
          99600.13173119299,
          26159.134200301243,
          4631274.275034228,
          162344.15704512526,
          173408.83399810147,
          122285.34955319953,
          1571613.8570536468,
          3714592.6198853157,
          33804.47699788806,
          3733.214314279605,
          918914.5857147012,
          451042.9664787677,
          7540.335508777553,
          645.3656440788006,
          528.5378966695422,
          40680.8836154732,
          16412.479561125954,
          111.87213679781716,
          549397.8679145633,
          21385589.492562693,
          3619.006069589521,
          145.2848394836369,
          9268.697501295248,
          34077.24528513236,
          38096.11336509397,
          363.0047470368304,
          8660.245137549795,
          61722.878463897294,
          113591.48493441263,
          65253.465106282776,
          1924.0868211776692,
          30180.694287956892,
          13691.457203071946,
          88777.57088741209,
          1571613.8570536468,
          5570.276098159063,
          105138.4950284673,
          169543.4507904594,
          73227.74786723484,
          858007.77112247,
          1064882.3234995622,
          1575721.6102092222,
          459094.4259673975,
          31086.495386671228,
          65253.465106282776,
          3618455.9409584706,
          481478.5558885535,
          428886.20995105495,
          597640.5446037009,
          315309.5647496528,
          453041.202578402,
          371571.91547598864,
          4631274.275034228,
          3714592.6198853157,
          2213436.0638789097,
          2890565.7907430194,
          557553.7752430633,
          91728.85662336108,
          2501481.422810353,
          27560.664474167294,
          3254.2653870818085,
          539462.7694293865,
          172371.19703856827,
          13103.986580308681,
          15368.196309949573,
          569247.9527578861,
          640421.7721033429,
          10091.617873441559,
          377862.5888850419,
          18751489.366326023,
          2082243.013810963,
          125905.69544037321,
          1388.2192938650912,
          1627.852049959853,
          2887.452368400816,
          9268.697501295248,
          21385589.492562693,
          3839.446294466144,
          3514.567007428732,
          3910876.7063219207,
          841085.3286511411,
          1336928.2058302762,
          617495.7312467766,
          471305.1912998383,
          16412.479561125954,
          3270104.129521774,
          44321.560428109144,
          18751489.366326023,
          4688732.860359626,
          16078641.311663479,
          13286847.997127764,
          27460067.736140244,
          2627988.8665111223,
          1286194.2356684073,
          84179962.37379667
         ]
        }
       ],
       "layout": {
        "coloraxis": {
         "colorbar": {
          "title": {
           "text": "biotoptypenqualitaet"
          }
         },
         "colorscale": [
          [
           0,
           "rgb(247,252,245)"
          ],
          [
           0.125,
           "rgb(229,245,224)"
          ],
          [
           0.25,
           "rgb(199,233,192)"
          ],
          [
           0.375,
           "rgb(161,217,155)"
          ],
          [
           0.5,
           "rgb(116,196,118)"
          ],
          [
           0.625,
           "rgb(65,171,93)"
          ],
          [
           0.75,
           "rgb(35,139,69)"
          ],
          [
           0.875,
           "rgb(0,109,44)"
          ],
          [
           1,
           "rgb(0,68,27)"
          ]
         ]
        },
        "height": 500,
        "legend": {
         "tracegroupgap": 0
        },
        "margin": {
         "b": 25,
         "l": 25,
         "r": 250,
         "t": 50
        },
        "template": {
         "data": {
          "bar": [
           {
            "error_x": {
             "color": "#2a3f5f"
            },
            "error_y": {
             "color": "#2a3f5f"
            },
            "marker": {
             "line": {
              "color": "#E5ECF6",
              "width": 0.5
             },
             "pattern": {
              "fillmode": "overlay",
              "size": 10,
              "solidity": 0.2
             }
            },
            "type": "bar"
           }
          ],
          "barpolar": [
           {
            "marker": {
             "line": {
              "color": "#E5ECF6",
              "width": 0.5
             },
             "pattern": {
              "fillmode": "overlay",
              "size": 10,
              "solidity": 0.2
             }
            },
            "type": "barpolar"
           }
          ],
          "carpet": [
           {
            "aaxis": {
             "endlinecolor": "#2a3f5f",
             "gridcolor": "white",
             "linecolor": "white",
             "minorgridcolor": "white",
             "startlinecolor": "#2a3f5f"
            },
            "baxis": {
             "endlinecolor": "#2a3f5f",
             "gridcolor": "white",
             "linecolor": "white",
             "minorgridcolor": "white",
             "startlinecolor": "#2a3f5f"
            },
            "type": "carpet"
           }
          ],
          "choropleth": [
           {
            "colorbar": {
             "outlinewidth": 0,
             "ticks": ""
            },
            "type": "choropleth"
           }
          ],
          "contour": [
           {
            "colorbar": {
             "outlinewidth": 0,
             "ticks": ""
            },
            "colorscale": [
             [
              0,
              "#0d0887"
             ],
             [
              0.1111111111111111,
              "#46039f"
             ],
             [
              0.2222222222222222,
              "#7201a8"
             ],
             [
              0.3333333333333333,
              "#9c179e"
             ],
             [
              0.4444444444444444,
              "#bd3786"
             ],
             [
              0.5555555555555556,
              "#d8576b"
             ],
             [
              0.6666666666666666,
              "#ed7953"
             ],
             [
              0.7777777777777778,
              "#fb9f3a"
             ],
             [
              0.8888888888888888,
              "#fdca26"
             ],
             [
              1,
              "#f0f921"
             ]
            ],
            "type": "contour"
           }
          ],
          "contourcarpet": [
           {
            "colorbar": {
             "outlinewidth": 0,
             "ticks": ""
            },
            "type": "contourcarpet"
           }
          ],
          "heatmap": [
           {
            "colorbar": {
             "outlinewidth": 0,
             "ticks": ""
            },
            "colorscale": [
             [
              0,
              "#0d0887"
             ],
             [
              0.1111111111111111,
              "#46039f"
             ],
             [
              0.2222222222222222,
              "#7201a8"
             ],
             [
              0.3333333333333333,
              "#9c179e"
             ],
             [
              0.4444444444444444,
              "#bd3786"
             ],
             [
              0.5555555555555556,
              "#d8576b"
             ],
             [
              0.6666666666666666,
              "#ed7953"
             ],
             [
              0.7777777777777778,
              "#fb9f3a"
             ],
             [
              0.8888888888888888,
              "#fdca26"
             ],
             [
              1,
              "#f0f921"
             ]
            ],
            "type": "heatmap"
           }
          ],
          "heatmapgl": [
           {
            "colorbar": {
             "outlinewidth": 0,
             "ticks": ""
            },
            "colorscale": [
             [
              0,
              "#0d0887"
             ],
             [
              0.1111111111111111,
              "#46039f"
             ],
             [
              0.2222222222222222,
              "#7201a8"
             ],
             [
              0.3333333333333333,
              "#9c179e"
             ],
             [
              0.4444444444444444,
              "#bd3786"
             ],
             [
              0.5555555555555556,
              "#d8576b"
             ],
             [
              0.6666666666666666,
              "#ed7953"
             ],
             [
              0.7777777777777778,
              "#fb9f3a"
             ],
             [
              0.8888888888888888,
              "#fdca26"
             ],
             [
              1,
              "#f0f921"
             ]
            ],
            "type": "heatmapgl"
           }
          ],
          "histogram": [
           {
            "marker": {
             "pattern": {
              "fillmode": "overlay",
              "size": 10,
              "solidity": 0.2
             }
            },
            "type": "histogram"
           }
          ],
          "histogram2d": [
           {
            "colorbar": {
             "outlinewidth": 0,
             "ticks": ""
            },
            "colorscale": [
             [
              0,
              "#0d0887"
             ],
             [
              0.1111111111111111,
              "#46039f"
             ],
             [
              0.2222222222222222,
              "#7201a8"
             ],
             [
              0.3333333333333333,
              "#9c179e"
             ],
             [
              0.4444444444444444,
              "#bd3786"
             ],
             [
              0.5555555555555556,
              "#d8576b"
             ],
             [
              0.6666666666666666,
              "#ed7953"
             ],
             [
              0.7777777777777778,
              "#fb9f3a"
             ],
             [
              0.8888888888888888,
              "#fdca26"
             ],
             [
              1,
              "#f0f921"
             ]
            ],
            "type": "histogram2d"
           }
          ],
          "histogram2dcontour": [
           {
            "colorbar": {
             "outlinewidth": 0,
             "ticks": ""
            },
            "colorscale": [
             [
              0,
              "#0d0887"
             ],
             [
              0.1111111111111111,
              "#46039f"
             ],
             [
              0.2222222222222222,
              "#7201a8"
             ],
             [
              0.3333333333333333,
              "#9c179e"
             ],
             [
              0.4444444444444444,
              "#bd3786"
             ],
             [
              0.5555555555555556,
              "#d8576b"
             ],
             [
              0.6666666666666666,
              "#ed7953"
             ],
             [
              0.7777777777777778,
              "#fb9f3a"
             ],
             [
              0.8888888888888888,
              "#fdca26"
             ],
             [
              1,
              "#f0f921"
             ]
            ],
            "type": "histogram2dcontour"
           }
          ],
          "mesh3d": [
           {
            "colorbar": {
             "outlinewidth": 0,
             "ticks": ""
            },
            "type": "mesh3d"
           }
          ],
          "parcoords": [
           {
            "line": {
             "colorbar": {
              "outlinewidth": 0,
              "ticks": ""
             }
            },
            "type": "parcoords"
           }
          ],
          "pie": [
           {
            "automargin": true,
            "type": "pie"
           }
          ],
          "scatter": [
           {
            "marker": {
             "colorbar": {
              "outlinewidth": 0,
              "ticks": ""
             }
            },
            "type": "scatter"
           }
          ],
          "scatter3d": [
           {
            "line": {
             "colorbar": {
              "outlinewidth": 0,
              "ticks": ""
             }
            },
            "marker": {
             "colorbar": {
              "outlinewidth": 0,
              "ticks": ""
             }
            },
            "type": "scatter3d"
           }
          ],
          "scattercarpet": [
           {
            "marker": {
             "colorbar": {
              "outlinewidth": 0,
              "ticks": ""
             }
            },
            "type": "scattercarpet"
           }
          ],
          "scattergeo": [
           {
            "marker": {
             "colorbar": {
              "outlinewidth": 0,
              "ticks": ""
             }
            },
            "type": "scattergeo"
           }
          ],
          "scattergl": [
           {
            "marker": {
             "colorbar": {
              "outlinewidth": 0,
              "ticks": ""
             }
            },
            "type": "scattergl"
           }
          ],
          "scattermapbox": [
           {
            "marker": {
             "colorbar": {
              "outlinewidth": 0,
              "ticks": ""
             }
            },
            "type": "scattermapbox"
           }
          ],
          "scatterpolar": [
           {
            "marker": {
             "colorbar": {
              "outlinewidth": 0,
              "ticks": ""
             }
            },
            "type": "scatterpolar"
           }
          ],
          "scatterpolargl": [
           {
            "marker": {
             "colorbar": {
              "outlinewidth": 0,
              "ticks": ""
             }
            },
            "type": "scatterpolargl"
           }
          ],
          "scatterternary": [
           {
            "marker": {
             "colorbar": {
              "outlinewidth": 0,
              "ticks": ""
             }
            },
            "type": "scatterternary"
           }
          ],
          "surface": [
           {
            "colorbar": {
             "outlinewidth": 0,
             "ticks": ""
            },
            "colorscale": [
             [
              0,
              "#0d0887"
             ],
             [
              0.1111111111111111,
              "#46039f"
             ],
             [
              0.2222222222222222,
              "#7201a8"
             ],
             [
              0.3333333333333333,
              "#9c179e"
             ],
             [
              0.4444444444444444,
              "#bd3786"
             ],
             [
              0.5555555555555556,
              "#d8576b"
             ],
             [
              0.6666666666666666,
              "#ed7953"
             ],
             [
              0.7777777777777778,
              "#fb9f3a"
             ],
             [
              0.8888888888888888,
              "#fdca26"
             ],
             [
              1,
              "#f0f921"
             ]
            ],
            "type": "surface"
           }
          ],
          "table": [
           {
            "cells": {
             "fill": {
              "color": "#EBF0F8"
             },
             "line": {
              "color": "white"
             }
            },
            "header": {
             "fill": {
              "color": "#C8D4E3"
             },
             "line": {
              "color": "white"
             }
            },
            "type": "table"
           }
          ]
         },
         "layout": {
          "annotationdefaults": {
           "arrowcolor": "#2a3f5f",
           "arrowhead": 0,
           "arrowwidth": 1
          },
          "autotypenumbers": "strict",
          "coloraxis": {
           "colorbar": {
            "outlinewidth": 0,
            "ticks": ""
           }
          },
          "colorscale": {
           "diverging": [
            [
             0,
             "#8e0152"
            ],
            [
             0.1,
             "#c51b7d"
            ],
            [
             0.2,
             "#de77ae"
            ],
            [
             0.3,
             "#f1b6da"
            ],
            [
             0.4,
             "#fde0ef"
            ],
            [
             0.5,
             "#f7f7f7"
            ],
            [
             0.6,
             "#e6f5d0"
            ],
            [
             0.7,
             "#b8e186"
            ],
            [
             0.8,
             "#7fbc41"
            ],
            [
             0.9,
             "#4d9221"
            ],
            [
             1,
             "#276419"
            ]
           ],
           "sequential": [
            [
             0,
             "#0d0887"
            ],
            [
             0.1111111111111111,
             "#46039f"
            ],
            [
             0.2222222222222222,
             "#7201a8"
            ],
            [
             0.3333333333333333,
             "#9c179e"
            ],
            [
             0.4444444444444444,
             "#bd3786"
            ],
            [
             0.5555555555555556,
             "#d8576b"
            ],
            [
             0.6666666666666666,
             "#ed7953"
            ],
            [
             0.7777777777777778,
             "#fb9f3a"
            ],
            [
             0.8888888888888888,
             "#fdca26"
            ],
            [
             1,
             "#f0f921"
            ]
           ],
           "sequentialminus": [
            [
             0,
             "#0d0887"
            ],
            [
             0.1111111111111111,
             "#46039f"
            ],
            [
             0.2222222222222222,
             "#7201a8"
            ],
            [
             0.3333333333333333,
             "#9c179e"
            ],
            [
             0.4444444444444444,
             "#bd3786"
            ],
            [
             0.5555555555555556,
             "#d8576b"
            ],
            [
             0.6666666666666666,
             "#ed7953"
            ],
            [
             0.7777777777777778,
             "#fb9f3a"
            ],
            [
             0.8888888888888888,
             "#fdca26"
            ],
            [
             1,
             "#f0f921"
            ]
           ]
          },
          "colorway": [
           "#636efa",
           "#EF553B",
           "#00cc96",
           "#ab63fa",
           "#FFA15A",
           "#19d3f3",
           "#FF6692",
           "#B6E880",
           "#FF97FF",
           "#FECB52"
          ],
          "font": {
           "color": "#2a3f5f"
          },
          "geo": {
           "bgcolor": "white",
           "lakecolor": "white",
           "landcolor": "#E5ECF6",
           "showlakes": true,
           "showland": true,
           "subunitcolor": "white"
          },
          "hoverlabel": {
           "align": "left"
          },
          "hovermode": "closest",
          "mapbox": {
           "style": "light"
          },
          "paper_bgcolor": "white",
          "plot_bgcolor": "#E5ECF6",
          "polar": {
           "angularaxis": {
            "gridcolor": "white",
            "linecolor": "white",
            "ticks": ""
           },
           "bgcolor": "#E5ECF6",
           "radialaxis": {
            "gridcolor": "white",
            "linecolor": "white",
            "ticks": ""
           }
          },
          "scene": {
           "xaxis": {
            "backgroundcolor": "#E5ECF6",
            "gridcolor": "white",
            "gridwidth": 2,
            "linecolor": "white",
            "showbackground": true,
            "ticks": "",
            "zerolinecolor": "white"
           },
           "yaxis": {
            "backgroundcolor": "#E5ECF6",
            "gridcolor": "white",
            "gridwidth": 2,
            "linecolor": "white",
            "showbackground": true,
            "ticks": "",
            "zerolinecolor": "white"
           },
           "zaxis": {
            "backgroundcolor": "#E5ECF6",
            "gridcolor": "white",
            "gridwidth": 2,
            "linecolor": "white",
            "showbackground": true,
            "ticks": "",
            "zerolinecolor": "white"
           }
          },
          "shapedefaults": {
           "line": {
            "color": "#2a3f5f"
           }
          },
          "ternary": {
           "aaxis": {
            "gridcolor": "white",
            "linecolor": "white",
            "ticks": ""
           },
           "baxis": {
            "gridcolor": "white",
            "linecolor": "white",
            "ticks": ""
           },
           "bgcolor": "#E5ECF6",
           "caxis": {
            "gridcolor": "white",
            "linecolor": "white",
            "ticks": ""
           }
          },
          "title": {
           "x": 0.05
          },
          "xaxis": {
           "automargin": true,
           "gridcolor": "white",
           "linecolor": "white",
           "ticks": "",
           "title": {
            "standoff": 15
           },
           "zerolinecolor": "white",
           "zerolinewidth": 2
          },
          "yaxis": {
           "automargin": true,
           "gridcolor": "white",
           "linecolor": "white",
           "ticks": "",
           "title": {
            "standoff": 15
           },
           "zerolinecolor": "white",
           "zerolinewidth": 2
          }
         }
        },
        "width": 1300
       }
      },
      "image/png": "[encoded data removed]",
      "text/html": [
       "<div>                            <div id=\"9791a2f8-633f-4e9a-af27-66eeb9d3c7db\" class=\"plotly-graph-div\" style=\"height:500px; width:1300px;\"></div>            <script type=\"text/javascript\">                require([\"plotly\"], function(Plotly) {                    window.PLOTLYENV=window.PLOTLYENV || {};                                    if (document.getElementById(\"9791a2f8-633f-4e9a-af27-66eeb9d3c7db\")) {                    Plotly.newPlot(                        \"9791a2f8-633f-4e9a-af27-66eeb9d3c7db\",                        [{\"branchvalues\":\"total\",\"customdata\":[[2.0],[3.0],[4.0],[5.0],[5.0],[4.0],[1.0],[2.0],[2.0],[2.0],[2.0],[3.0],[3.0],[4.0],[3.0],[4.0],[5.0],[3.0],[3.0],[4.0],[2.0],[2.0],[3.0],[1.0],[5.0],[2.0],[2.0],[0.0],[2.0],[2.0],[5.0],[0.0],[2.0],[3.0],[6.0],[3.0],[4.0],[2.0],[4.0],[4.0],[6.0],[1.0],[1.0],[1.0],[2.0],[1.0],[5.0],[0.0],[2.0],[2.0],[1.0],[6.0],[6.0],[5.999999999999999],[3.0],[3.0],[5.0],[4.0],[3.0],[4.0],[5.0],[6.0],[3.0],[5.0],[2.0],[2.0],[2.0],[2.9999999999999996],[6.0],[2.0],[4.0],[4.0],[6.0],[5.0],[5.0],[5.0],[5.0],[5.0],[5.0],[3.0],[1.0],[5.0],[2.0],[2.9999999999999996],[6.0],[6.0],[6.000000000000001],[5.0],[2.0],[1.0],[5.0],[4.0],[3.0],[3.0],[5.0],[5.0],[6.0],[6.0],[6.000000000000001],[6.0],[6.0],[6.0],[2.0],[1.0],[2.0],[0.0],[2.0],[1.0],[3.0],[3.0],[3.0],[1.0],[0.0],[5.000000000000001],[6.0],[5.0],[6.0],[2.0],[3.0],[3.0],[3.0],[4.0],[3.0],[5.0],[6.0],[4.0],[4.0],[3.0],[3.0],[5.0],[3.0],[1.0],[6.0],[6.0],[4.0],[5.000000000000001],[2.0],[3.0],[6.0],[5.0],[4.0],[4.0],[2.0],[2.0],[2.0],[5.0],[6.0],[5.0],[2.0],[4.0],[3.0],[5.0],[6.0],[1.0],[2.0],[3.0],[4.0],[5.0],[6.0],[2.0],[3.0],[4.0],[5.0],[6.0],[2.0],[2.9999999999999996],[5.0],[2.0],[3.0],[2.0],[3.0],[4.0],[5.0],[1.0],[2.0],[3.0],[4.0],[5.0],[6.0],[1.0],[2.0],[3.0000000000000004],[4.0],[5.0],[0.0],[1.0],[2.0],[3.0],[4.0],[2.0],[3.0],[4.0],[5.0],[6.0],[2.0],[3.0000000000000004],[4.0],[5.0],[6.0],[1.0],[2.0],[3.0],[0.0],[1.0],[2.0],[2.9999999999999996],[4.0],[5.0],[5.999999999999999],[2.463816023642665]],\"domain\":{\"x\":[0.0,1.0],\"y\":[0.0,1.0]},\"hovertemplate\":\"labels=%{label}<br>sum_Flaeche=%{value}<br>parent=%{parent}<br>id=%{id}<br>biotoptypenqualitaet=%{color}<extra></extra>\",\"ids\":[\"Biotypfl\\u00e4chen 2020 nach bewerteter \\u00f6kologischer Qualit\\u00e4t, Lebensraumkategorie und Biotoptypenschl\\u00fcssel Typ 3/2/\\u00c4cker, Gartenbaufl\\u00e4chen, Tiergehege/Acker\",\"Biotypfl\\u00e4chen 2020 nach bewerteter \\u00f6kologischer Qualit\\u00e4t, Lebensraumkategorie und Biotoptypenschl\\u00fcssel Typ 3/3/Wiesen und Rasen/Adlerfarn-Flur magerer Standorte\",\"Biotypfl\\u00e4chen 2020 nach bewerteter \\u00f6kologischer Qualit\\u00e4t, Lebensraumkategorie und Biotoptypenschl\\u00fcssel Typ 3/4/Geh\\u00f6lze, Hecken und Geb\\u00fcsche/Allee\",\"Biotypfl\\u00e4chen 2020 nach bewerteter \\u00f6kologischer Qualit\\u00e4t, Lebensraumkategorie und Biotoptypenschl\\u00fcssel Typ 3/5/Gr\\u00fcnanlagen/Alter Landschaftspark\",\"Biotypfl\\u00e4chen 2020 nach bewerteter \\u00f6kologischer Qualit\\u00e4t, Lebensraumkategorie und Biotoptypenschl\\u00fcssel Typ 3/5/Wald/Aronstab-Buchenwald (inkl. 11e) (ZH: 11)\",\"Biotypfl\\u00e4chen 2020 nach bewerteter \\u00f6kologischer Qualit\\u00e4t, Lebensraumkategorie und Biotoptypenschl\\u00fcssel Typ 3/4/Wiesen und Rasen/Artenarme Fromentalwiese\",\"Biotypfl\\u00e4chen 2020 nach bewerteter \\u00f6kologischer Qualit\\u00e4t, Lebensraumkategorie und Biotoptypenschl\\u00fcssel Typ 3/1/Ueberwiegend bebaute Fl\\u00e4chen/Artenarme Moos-Flachdachvegetationen\",\"Biotypfl\\u00e4chen 2020 nach bewerteter \\u00f6kologischer Qualit\\u00e4t, Lebensraumkategorie und Biotoptypenschl\\u00fcssel Typ 3/2/Ruderalfluren/Artenarme Ruderalflur\",\"Biotypfl\\u00e4chen 2020 nach bewerteter \\u00f6kologischer Qualit\\u00e4t, Lebensraumkategorie und Biotoptypenschl\\u00fcssel Typ 3/2/Ueberwiegend bebaute Fl\\u00e4chen/Artenarme Sedum-Flachdachvegetationen\",\"Biotypfl\\u00e4chen 2020 nach bewerteter \\u00f6kologischer Qualit\\u00e4t, Lebensraumkategorie und Biotoptypenschl\\u00fcssel Typ 3/2/Wiesen und Rasen/Artenarmer Scherrasen (Gebrauchsrasen)\",\"Biotypfl\\u00e4chen 2020 nach bewerteter \\u00f6kologischer Qualit\\u00e4t, Lebensraumkategorie und Biotoptypenschl\\u00fcssel Typ 3/2/G\\u00e4rten/Artenarmer Ziergarten\",\"Biotypfl\\u00e4chen 2020 nach bewerteter \\u00f6kologischer Qualit\\u00e4t, Lebensraumkategorie und Biotoptypenschl\\u00fcssel Typ 3/3/Wiesen und Rasen/Artenarmes Extensivgr\\u00fcnland*\",\"Biotypfl\\u00e4chen 2020 nach bewerteter \\u00f6kologischer Qualit\\u00e4t, Lebensraumkategorie und Biotoptypenschl\\u00fcssel Typ 3/3/Ueberwiegend bebaute Fl\\u00e4chen/Artenreiche Sedum-Flachdachvegetationen\",\"Biotypfl\\u00e4chen 2020 nach bewerteter \\u00f6kologischer Qualit\\u00e4t, Lebensraumkategorie und Biotoptypenschl\\u00fcssel Typ 3/4/G\\u00e4rten/Artenreicher Garten mit Grossb\\u00e4umen\",\"Biotypfl\\u00e4chen 2020 nach bewerteter \\u00f6kologischer Qualit\\u00e4t, Lebensraumkategorie und Biotoptypenschl\\u00fcssel Typ 3/3/Wiesen und Rasen/Artenreicher Scherrasen (Blumenrasen)\",\"Biotypfl\\u00e4chen 2020 nach bewerteter \\u00f6kologischer Qualit\\u00e4t, Lebensraumkategorie und Biotoptypenschl\\u00fcssel Typ 3/4/G\\u00e4rten/Bauerngarten\",\"Biotypfl\\u00e4chen 2020 nach bewerteter \\u00f6kologischer Qualit\\u00e4t, Lebensraumkategorie und Biotoptypenschl\\u00fcssel Typ 3/5/Geh\\u00f6lze, Hecken und Geb\\u00fcsche/Baumhecke\",\"Biotypfl\\u00e4chen 2020 nach bewerteter \\u00f6kologischer Qualit\\u00e4t, Lebensraumkategorie und Biotoptypenschl\\u00fcssel Typ 3/3/Geh\\u00f6lze, Hecken und Geb\\u00fcsche/Baumraster  mit Baumscheiben\",\"Biotypfl\\u00e4chen 2020 nach bewerteter \\u00f6kologischer Qualit\\u00e4t, Lebensraumkategorie und Biotoptypenschl\\u00fcssel Typ 3/3/Geh\\u00f6lze, Hecken und Geb\\u00fcsche/Baumraster mit Fettwiese\",\"Biotypfl\\u00e4chen 2020 nach bewerteter \\u00f6kologischer Qualit\\u00e4t, Lebensraumkategorie und Biotoptypenschl\\u00fcssel Typ 3/4/Geh\\u00f6lze, Hecken und Geb\\u00fcsche/Baumraster mit Fromentalwiese\",\"Biotypfl\\u00e4chen 2020 nach bewerteter \\u00f6kologischer Qualit\\u00e4t, Lebensraumkategorie und Biotoptypenschl\\u00fcssel Typ 3/2/Geh\\u00f6lze, Hecken und Geb\\u00fcsche/Baumraster mit Rasen\",\"Biotypfl\\u00e4chen 2020 nach bewerteter \\u00f6kologischer Qualit\\u00e4t, Lebensraumkategorie und Biotoptypenschl\\u00fcssel Typ 3/2/Geh\\u00f6lze, Hecken und Geb\\u00fcsche/Baumraster mit Zierhecke\",\"Biotypfl\\u00e4chen 2020 nach bewerteter \\u00f6kologischer Qualit\\u00e4t, Lebensraumkategorie und Biotoptypenschl\\u00fcssel Typ 3/3/Geh\\u00f6lze, Hecken und Geb\\u00fcsche/Baumraster mit ruderalem Unterwuchs\",\"Biotypfl\\u00e4chen 2020 nach bewerteter \\u00f6kologischer Qualit\\u00e4t, Lebensraumkategorie und Biotoptypenschl\\u00fcssel Typ 3/1/Geh\\u00f6lze, Hecken und Geb\\u00fcsche/Baumraster ohne Baumscheiben\",\"Biotypfl\\u00e4chen 2020 nach bewerteter \\u00f6kologischer Qualit\\u00e4t, Lebensraumkategorie und Biotoptypenschl\\u00fcssel Typ 3/5/Geh\\u00f6lze, Hecken und Geb\\u00fcsche/Baumreihe/-raster mit Fromentalwiese mit BFF-Qualit\\u00e4t*\",\"Biotypfl\\u00e4chen 2020 nach bewerteter \\u00f6kologischer Qualit\\u00e4t, Lebensraumkategorie und Biotoptypenschl\\u00fcssel Typ 3/2/Geh\\u00f6lze, Hecken und Geb\\u00fcsche/Baumreihe/-raster mit kiesigem Untergrund*\",\"Biotypfl\\u00e4chen 2020 nach bewerteter \\u00f6kologischer Qualit\\u00e4t, Lebensraumkategorie und Biotoptypenschl\\u00fcssel Typ 3/2/\\u00c4cker, Gartenbaufl\\u00e4chen, Tiergehege/Baumschule\",\"Biotypfl\\u00e4chen 2020 nach bewerteter \\u00f6kologischer Qualit\\u00e4t, Lebensraumkategorie und Biotoptypenschl\\u00fcssel Typ 3/0/Ueberwiegend bebaute Fl\\u00e4chen/Baustelle\",\"Biotypfl\\u00e4chen 2020 nach bewerteter \\u00f6kologischer Qualit\\u00e4t, Lebensraumkategorie und Biotoptypenschl\\u00fcssel Typ 3/2/\\u00c4cker, Gartenbaufl\\u00e4chen, Tiergehege/Beerenstrauch-Plantage\",\"Biotypfl\\u00e4chen 2020 nach bewerteter \\u00f6kologischer Qualit\\u00e4t, Lebensraumkategorie und Biotoptypenschl\\u00fcssel Typ 3/2/Beete und Rabatten/Beet/Rabatte\",\"Biotypfl\\u00e4chen 2020 nach bewerteter \\u00f6kologischer Qualit\\u00e4t, Lebensraumkategorie und Biotoptypenschl\\u00fcssel Typ 3/5/Feuchtgebiete/Bestand der Stumpfbl\\u00e4ttrigen Binse (ZH: 4c)\",\"Biotypfl\\u00e4chen 2020 nach bewerteter \\u00f6kologischer Qualit\\u00e4t, Lebensraumkategorie und Biotoptypenschl\\u00fcssel Typ 3/0/Ueberwiegend bebaute Fl\\u00e4chen/Beton- /Asphaltfl\\u00e4che\",\"Biotypfl\\u00e4chen 2020 nach bewerteter \\u00f6kologischer Qualit\\u00e4t, Lebensraumkategorie und Biotoptypenschl\\u00fcssel Typ 3/2/\\u00c4cker, Gartenbaufl\\u00e4chen, Tiergehege/Blumen-Gartenbaufl\\u00e4che\",\"Biotypfl\\u00e4chen 2020 nach bewerteter \\u00f6kologischer Qualit\\u00e4t, Lebensraumkategorie und Biotoptypenschl\\u00fcssel Typ 3/3/Geh\\u00f6lze, Hecken und Geb\\u00fcsche/Brombeer-Gestr\\u00fcpp\",\"Biotypfl\\u00e4chen 2020 nach bewerteter \\u00f6kologischer Qualit\\u00e4t, Lebensraumkategorie und Biotoptypenschl\\u00fcssel Typ 3/6/Feuchtgebiete/Bultiges Grosseggenried (ZH: 3a)\",\"Biotypfl\\u00e4chen 2020 nach bewerteter \\u00f6kologischer Qualit\\u00e4t, Lebensraumkategorie und Biotoptypenschl\\u00fcssel Typ 3/3/\\u00c4cker, Gartenbaufl\\u00e4chen, Tiergehege/Buntbrachen\",\"Biotypfl\\u00e4chen 2020 nach bewerteter \\u00f6kologischer Qualit\\u00e4t, Lebensraumkategorie und Biotoptypenschl\\u00fcssel Typ 3/4/Geh\\u00f6lze, Hecken und Geb\\u00fcsche/Einzelbaum\",\"Biotypfl\\u00e4chen 2020 nach bewerteter \\u00f6kologischer Qualit\\u00e4t, Lebensraumkategorie und Biotoptypenschl\\u00fcssel Typ 3/2/Wiesen und Rasen/Fettwiese und -weide\",\"Biotypfl\\u00e4chen 2020 nach bewerteter \\u00f6kologischer Qualit\\u00e4t, Lebensraumkategorie und Biotoptypenschl\\u00fcssel Typ 3/4/Wiesen und Rasen/Feuchte Fromentalwiese*\",\"Biotypfl\\u00e4chen 2020 nach bewerteter \\u00f6kologischer Qualit\\u00e4t, Lebensraumkategorie und Biotoptypenschl\\u00fcssel Typ 3/4/Gew\\u00e4sser/Fliessgew\\u00e4sser*\",\"Biotypfl\\u00e4chen 2020 nach bewerteter \\u00f6kologischer Qualit\\u00e4t, Lebensraumkategorie und Biotoptypenschl\\u00fcssel Typ 3/6/Gew\\u00e4sser/Flusskies-Pionierflur*\",\"Biotypfl\\u00e4chen 2020 nach bewerteter \\u00f6kologischer Qualit\\u00e4t, Lebensraumkategorie und Biotoptypenschl\\u00fcssel Typ 3/1/Kies- und Schotterfl\\u00e4chen/Fl\\u00e4che mit Kies- oder Schotterdecke in Bahnanlagen\",\"Biotypfl\\u00e4chen 2020 nach bewerteter \\u00f6kologischer Qualit\\u00e4t, Lebensraumkategorie und Biotoptypenschl\\u00fcssel Typ 3/1/Ueberwiegend bebaute Fl\\u00e4chen/Fl\\u00e4che mit Natursteinpflaster\",\"Biotypfl\\u00e4chen 2020 nach bewerteter \\u00f6kologischer Qualit\\u00e4t, Lebensraumkategorie und Biotoptypenschl\\u00fcssel Typ 3/1/Ueberwiegend bebaute Fl\\u00e4chen/Fl\\u00e4che mit Ziegel-/Betonsteinpflaster\",\"Biotypfl\\u00e4chen 2020 nach bewerteter \\u00f6kologischer Qualit\\u00e4t, Lebensraumkategorie und Biotoptypenschl\\u00fcssel Typ 3/2/Kies- und Schotterfl\\u00e4chen/Fl\\u00e4che mit unbefestigtem Wandkies oder Sand*\",\"Biotypfl\\u00e4chen 2020 nach bewerteter \\u00f6kologischer Qualit\\u00e4t, Lebensraumkategorie und Biotoptypenschl\\u00fcssel Typ 3/1/Kies- und Schotterfl\\u00e4chen/Fl\\u00e4che mit wassergebundener Decke*\",\"Biotypfl\\u00e4chen 2020 nach bewerteter \\u00f6kologischer Qualit\\u00e4t, Lebensraumkategorie und Biotoptypenschl\\u00fcssel Typ 3/5/Wiesen und Rasen/Fromentalwiese mit BFF-Qualit\\u00e4t\",\"Biotypfl\\u00e4chen 2020 nach bewerteter \\u00f6kologischer Qualit\\u00e4t, Lebensraumkategorie und Biotoptypenschl\\u00fcssel Typ 3/0/Ueberwiegend bebaute Fl\\u00e4chen/Geb\\u00e4ude*\",\"Biotypfl\\u00e4chen 2020 nach bewerteter \\u00f6kologischer Qualit\\u00e4t, Lebensraumkategorie und Biotoptypenschl\\u00fcssel Typ 3/2/\\u00c4cker, Gartenbaufl\\u00e4chen, Tiergehege/Gem\\u00fcse- und sonstige Gartenbaufl\\u00e4che\",\"Biotypfl\\u00e4chen 2020 nach bewerteter \\u00f6kologischer Qualit\\u00e4t, Lebensraumkategorie und Biotoptypenschl\\u00fcssel Typ 3/2/Ueberwiegend bebaute Fl\\u00e4chen/Gewerbegebiet (Kleingewerbe und kleingewerbliche Lagerfl\\u00e4chen)\",\"Biotypfl\\u00e4chen 2020 nach bewerteter \\u00f6kologischer Qualit\\u00e4t, Lebensraumkategorie und Biotoptypenschl\\u00fcssel Typ 3/1/Ruderalfluren/Goldruten-Flur\",\"Biotypfl\\u00e4chen 2020 nach bewerteter \\u00f6kologischer Qualit\\u00e4t, Lebensraumkategorie und Biotoptypenschl\\u00fcssel Typ 3/6/Feuchtgebiete/Grosseggenried ausserhalb Wasserstandsschwankungen (ZH: 3b)\",\"Biotypfl\\u00e4chen 2020 nach bewerteter \\u00f6kologischer Qualit\\u00e4t, Lebensraumkategorie und Biotoptypenschl\\u00fcssel Typ 3/6/Feuchtgebiete/Grosseggenried mit Schneidebinse (ZH: 3d)\",\"Biotypfl\\u00e4chen 2020 nach bewerteter \\u00f6kologischer Qualit\\u00e4t, Lebensraumkategorie und Biotoptypenschl\\u00fcssel Typ 3/6/Feuchtgebiete/Grosseggenried mit Sumpf-Segge (ZH: 3c)\",\"Biotypfl\\u00e4chen 2020 nach bewerteter \\u00f6kologischer Qualit\\u00e4t, Lebensraumkategorie und Biotoptypenschl\\u00fcssel Typ 3/3/Ruderalfluren/Halbruderale Gras- und Staudenflur feuchter Standorte\",\"Biotypfl\\u00e4chen 2020 nach bewerteter \\u00f6kologischer Qualit\\u00e4t, Lebensraumkategorie und Biotoptypenschl\\u00fcssel Typ 3/3/Ruderalfluren/Halbruderale Gras- und Staudenflur mittlerer Standorte\",\"Biotypfl\\u00e4chen 2020 nach bewerteter \\u00f6kologischer Qualit\\u00e4t, Lebensraumkategorie und Biotoptypenschl\\u00fcssel Typ 3/5/Ruderalfluren/Halbruderale Gras- und Staudenflur trockener Standorte\",\"Biotypfl\\u00e4chen 2020 nach bewerteter \\u00f6kologischer Qualit\\u00e4t, Lebensraumkategorie und Biotoptypenschl\\u00fcssel Typ 3/4/Ruderalfluren/Halbruderale Gras- und Staudenflur wechselfeuchter Standorte\",\"Biotypfl\\u00e4chen 2020 nach bewerteter \\u00f6kologischer Qualit\\u00e4t, Lebensraumkategorie und Biotoptypenschl\\u00fcssel Typ 3/3/G\\u00e4rten/Hausgarten\",\"Biotypfl\\u00e4chen 2020 nach bewerteter \\u00f6kologischer Qualit\\u00e4t, Lebensraumkategorie und Biotoptypenschl\\u00fcssel Typ 3/4/Obstg\\u00e4rten/Hochstamm-Obstgarten mit Fettwiese (m4)\",\"Biotypfl\\u00e4chen 2020 nach bewerteter \\u00f6kologischer Qualit\\u00e4t, Lebensraumkategorie und Biotoptypenschl\\u00fcssel Typ 3/5/Obstg\\u00e4rten/Hochstamm-Obstgarten mit Fromentalwiese (m3)\",\"Biotypfl\\u00e4chen 2020 nach bewerteter \\u00f6kologischer Qualit\\u00e4t, Lebensraumkategorie und Biotoptypenschl\\u00fcssel Typ 3/6/Obstg\\u00e4rten/Hochstamm-Obstgarten mit Magerwiese\",\"Biotypfl\\u00e4chen 2020 nach bewerteter \\u00f6kologischer Qualit\\u00e4t, Lebensraumkategorie und Biotoptypenschl\\u00fcssel Typ 3/3/Feuchtgebiete/Hochstaudenflur mit Goldrute (ZH: 4b)\",\"Biotypfl\\u00e4chen 2020 nach bewerteter \\u00f6kologischer Qualit\\u00e4t, Lebensraumkategorie und Biotoptypenschl\\u00fcssel Typ 3/5/Feuchtgebiete/Hochstaudenflur mit Spierstaude (ZH: 4a)\",\"Biotypfl\\u00e4chen 2020 nach bewerteter \\u00f6kologischer Qualit\\u00e4t, Lebensraumkategorie und Biotoptypenschl\\u00fcssel Typ 3/2/Wald/Holzlagerfl\\u00e4che\",\"Biotypfl\\u00e4chen 2020 nach bewerteter \\u00f6kologischer Qualit\\u00e4t, Lebensraumkategorie und Biotoptypenschl\\u00fcssel Typ 3/2/Gr\\u00fcnanlagen/Intensiv gepflegter Park\",\"Biotypfl\\u00e4chen 2020 nach bewerteter \\u00f6kologischer Qualit\\u00e4t, Lebensraumkategorie und Biotoptypenschl\\u00fcssel Typ 3/2/Ueberwiegend bebaute Fl\\u00e4chen/Intensive Flachdachbegr\\u00fcnungen\",\"Biotypfl\\u00e4chen 2020 nach bewerteter \\u00f6kologischer Qualit\\u00e4t, Lebensraumkategorie und Biotoptypenschl\\u00fcssel Typ 3/3/Wiesen und Rasen/Intensivgr\\u00fcnland auf Flachmoorstandorten\",\"Biotypfl\\u00e4chen 2020 nach bewerteter \\u00f6kologischer Qualit\\u00e4t, Lebensraumkategorie und Biotoptypenschl\\u00fcssel Typ 3/6/Wiesen und Rasen/Kalk-Magerrasen\",\"Biotypfl\\u00e4chen 2020 nach bewerteter \\u00f6kologischer Qualit\\u00e4t, Lebensraumkategorie und Biotoptypenschl\\u00fcssel Typ 3/2/\\u00c4cker, Gartenbaufl\\u00e4chen, Tiergehege/Landwirtschaftliche Lagerfl\\u00e4che\",\"Biotypfl\\u00e4chen 2020 nach bewerteter \\u00f6kologischer Qualit\\u00e4t, Lebensraumkategorie und Biotoptypenschl\\u00fcssel Typ 3/4/Gew\\u00e4sser/M\\u00e4ssig ausgebauter Bach*\",\"Biotypfl\\u00e4chen 2020 nach bewerteter \\u00f6kologischer Qualit\\u00e4t, Lebensraumkategorie und Biotoptypenschl\\u00fcssel Typ 3/4/Gew\\u00e4sser/M\\u00e4ssig ausgebauter Fluss*\",\"Biotypfl\\u00e4chen 2020 nach bewerteter \\u00f6kologischer Qualit\\u00e4t, Lebensraumkategorie und Biotoptypenschl\\u00fcssel Typ 3/6/Wiesen und Rasen/M\\u00e4ssig trockene Magerwiese\",\"Biotypfl\\u00e4chen 2020 nach bewerteter \\u00f6kologischer Qualit\\u00e4t, Lebensraumkategorie und Biotoptypenschl\\u00fcssel Typ 3/5/G\\u00e4rten/Naturgarten\",\"Biotypfl\\u00e4chen 2020 nach bewerteter \\u00f6kologischer Qualit\\u00e4t, Lebensraumkategorie und Biotoptypenschl\\u00fcssel Typ 3/5/Gew\\u00e4sser/Naturnaher Bach*\",\"Biotypfl\\u00e4chen 2020 nach bewerteter \\u00f6kologischer Qualit\\u00e4t, Lebensraumkategorie und Biotoptypenschl\\u00fcssel Typ 3/5/Gew\\u00e4sser/Naturnaher Fluss*\",\"Biotypfl\\u00e4chen 2020 nach bewerteter \\u00f6kologischer Qualit\\u00e4t, Lebensraumkategorie und Biotoptypenschl\\u00fcssel Typ 3/5/Geh\\u00f6lze, Hecken und Geb\\u00fcsche/Naturnahes Feldgeh\\u00f6lz\",\"Biotypfl\\u00e4chen 2020 nach bewerteter \\u00f6kologischer Qualit\\u00e4t, Lebensraumkategorie und Biotoptypenschl\\u00fcssel Typ 3/5/Gew\\u00e4sser/Naturnahes Kleingew\\u00e4sser\",\"Biotypfl\\u00e4chen 2020 nach bewerteter \\u00f6kologischer Qualit\\u00e4t, Lebensraumkategorie und Biotoptypenschl\\u00fcssel Typ 3/5/Gew\\u00e4sser/Naturnahes n\\u00e4hrstoffarmes Stillgew\\u00e4sser nat\\u00fcrlicher Entstehung*\",\"Biotypfl\\u00e4chen 2020 nach bewerteter \\u00f6kologischer Qualit\\u00e4t, Lebensraumkategorie und Biotoptypenschl\\u00fcssel Typ 3/3/Mauern/Natursteinmauer/ wand\",\"Biotypfl\\u00e4chen 2020 nach bewerteter \\u00f6kologischer Qualit\\u00e4t, Lebensraumkategorie und Biotoptypenschl\\u00fcssel Typ 3/1/Geh\\u00f6lze, Hecken und Geb\\u00fcsche/Neophytisches Geb\\u00fcsch\",\"Biotypfl\\u00e4chen 2020 nach bewerteter \\u00f6kologischer Qualit\\u00e4t, Lebensraumkategorie und Biotoptypenschl\\u00fcssel Typ 3/5/Feuchtgebiete/N\\u00e4hrstoffreicher Sumpf\",\"Biotypfl\\u00e4chen 2020 nach bewerteter \\u00f6kologischer Qualit\\u00e4t, Lebensraumkategorie und Biotoptypenschl\\u00fcssel Typ 3/2/G\\u00e4rten/Obst- und Gem\\u00fcsegarten\",\"Biotypfl\\u00e4chen 2020 nach bewerteter \\u00f6kologischer Qualit\\u00e4t, Lebensraumkategorie und Biotoptypenschl\\u00fcssel Typ 3/3/Gr\\u00fcnanlagen/Parkfriedhof\",\"Biotypfl\\u00e4chen 2020 nach bewerteter \\u00f6kologischer Qualit\\u00e4t, Lebensraumkategorie und Biotoptypenschl\\u00fcssel Typ 3/6/Feuchtgebiete/Pfeifengrasreinbestand auf Torf (ZH: 8c)\",\"Biotypfl\\u00e4chen 2020 nach bewerteter \\u00f6kologischer Qualit\\u00e4t, Lebensraumkategorie und Biotoptypenschl\\u00fcssel Typ 3/6/Feuchtgebiete/Pfeifengraswiese, Kleinseggenausbildung feucht (ZH: 8a)\",\"Biotypfl\\u00e4chen 2020 nach bewerteter \\u00f6kologischer Qualit\\u00e4t, Lebensraumkategorie und Biotoptypenschl\\u00fcssel Typ 3/6/Feuchtgebiete/Pfeifengraswiese, Kleinseggenausbildung trocken (ZH: 8b)\",\"Biotypfl\\u00e4chen 2020 nach bewerteter \\u00f6kologischer Qualit\\u00e4t, Lebensraumkategorie und Biotoptypenschl\\u00fcssel Typ 3/5/Feuchtgebiete/Pioniervegetation schlammiger Nassstandorte*\",\"Biotypfl\\u00e4chen 2020 nach bewerteter \\u00f6kologischer Qualit\\u00e4t, Lebensraumkategorie und Biotoptypenschl\\u00fcssel Typ 3/2/\\u00c4cker, Gartenbaufl\\u00e4chen, Tiergehege/Rebberg ohne Terrassen\",\"Biotypfl\\u00e4chen 2020 nach bewerteter \\u00f6kologischer Qualit\\u00e4t, Lebensraumkategorie und Biotoptypenschl\\u00fcssel Typ 3/1/Ruderalfluren/Riesenb\\u00e4renklau-Flur\",\"Biotypfl\\u00e4chen 2020 nach bewerteter \\u00f6kologischer Qualit\\u00e4t, Lebensraumkategorie und Biotoptypenschl\\u00fcssel Typ 3/5/Feuchtgebiete/Rohrglanzgras-Flussuferr\\u00f6hricht*\",\"Biotypfl\\u00e4chen 2020 nach bewerteter \\u00f6kologischer Qualit\\u00e4t, Lebensraumkategorie und Biotoptypenschl\\u00fcssel Typ 3/4/Ueberwiegend bebaute Fl\\u00e4chen/Ruderale Flachdachvegetation\",\"Biotypfl\\u00e4chen 2020 nach bewerteter \\u00f6kologischer Qualit\\u00e4t, Lebensraumkategorie und Biotoptypenschl\\u00fcssel Typ 3/3/Ruderalfluren/Ruderalflur n\\u00e4hrstoffreicher, frischer bis feuchter Standorte\",\"Biotypfl\\u00e4chen 2020 nach bewerteter \\u00f6kologischer Qualit\\u00e4t, Lebensraumkategorie und Biotoptypenschl\\u00fcssel Typ 3/3/Ruderalfluren/Ruderalflur n\\u00e4hrstoffreicher, frischer bis feuchter Standorte mit Geh\\u00f6lzen\",\"Biotypfl\\u00e4chen 2020 nach bewerteter \\u00f6kologischer Qualit\\u00e4t, Lebensraumkategorie und Biotoptypenschl\\u00fcssel Typ 3/5/Ruderalfluren/Ruderalflur trockenwarmer Standorte\",\"Biotypfl\\u00e4chen 2020 nach bewerteter \\u00f6kologischer Qualit\\u00e4t, Lebensraumkategorie und Biotoptypenschl\\u00fcssel Typ 3/5/Ruderalfluren/Ruderalflur trockenwarmer Standorte mit Geh\\u00f6lzen\",\"Biotypfl\\u00e4chen 2020 nach bewerteter \\u00f6kologischer Qualit\\u00e4t, Lebensraumkategorie und Biotoptypenschl\\u00fcssel Typ 3/6/Gew\\u00e4sser/R\\u00f6hricht mit Rohrkolben (ZH: 2c)\",\"Biotypfl\\u00e4chen 2020 nach bewerteter \\u00f6kologischer Qualit\\u00e4t, Lebensraumkategorie und Biotoptypenschl\\u00fcssel Typ 3/6/Feuchtgebiete/Schilf-Landr\\u00f6hricht\",\"Biotypfl\\u00e4chen 2020 nach bewerteter \\u00f6kologischer Qualit\\u00e4t, Lebensraumkategorie und Biotoptypenschl\\u00fcssel Typ 3/6/Gew\\u00e4sser/Schilfr\\u00f6hricht im Verlandungsbereich (ZH: 2a)\",\"Biotypfl\\u00e4chen 2020 nach bewerteter \\u00f6kologischer Qualit\\u00e4t, Lebensraumkategorie und Biotoptypenschl\\u00fcssel Typ 3/6/Gew\\u00e4sser/Schwimmblattgesellschaften (ZH: 1)\",\"Biotypfl\\u00e4chen 2020 nach bewerteter \\u00f6kologischer Qualit\\u00e4t, Lebensraumkategorie und Biotoptypenschl\\u00fcssel Typ 3/6/Gew\\u00e4sser/Seebinsenr\\u00f6hricht (ZH: 2b)\",\"Biotypfl\\u00e4chen 2020 nach bewerteter \\u00f6kologischer Qualit\\u00e4t, Lebensraumkategorie und Biotoptypenschl\\u00fcssel Typ 3/6/Wald/Seggen-Schwarzerlenbruchwald (ZH: 44)\",\"Biotypfl\\u00e4chen 2020 nach bewerteter \\u00f6kologischer Qualit\\u00e4t, Lebensraumkategorie und Biotoptypenschl\\u00fcssel Typ 3/2/Geh\\u00f6lze, Hecken und Geb\\u00fcsche/Siedlungsgeh\\u00f6lz aus \\u00fcberwiegend nicht heimischen Baumarten\",\"Biotypfl\\u00e4chen 2020 nach bewerteter \\u00f6kologischer Qualit\\u00e4t, Lebensraumkategorie und Biotoptypenschl\\u00fcssel Typ 3/1/Ruderalfluren/Sonstige Neophyten-Flur\",\"Biotypfl\\u00e4chen 2020 nach bewerteter \\u00f6kologischer Qualit\\u00e4t, Lebensraumkategorie und Biotoptypenschl\\u00fcssel Typ 3/2/Ueberwiegend bebaute Fl\\u00e4chen/Sonstige Sport-, Spiel- und Freizeitanlage\",\"Biotypfl\\u00e4chen 2020 nach bewerteter \\u00f6kologischer Qualit\\u00e4t, Lebensraumkategorie und Biotoptypenschl\\u00fcssel Typ 3/0/Ueberwiegend bebaute Fl\\u00e4chen/Sonstige befestigte Fl\\u00e4chen*\",\"Biotypfl\\u00e4chen 2020 nach bewerteter \\u00f6kologischer Qualit\\u00e4t, Lebensraumkategorie und Biotoptypenschl\\u00fcssel Typ 3/2/\\u00c4cker, Gartenbaufl\\u00e4chen, Tiergehege/Spalierobst-Plantage\",\"Biotypfl\\u00e4chen 2020 nach bewerteter \\u00f6kologischer Qualit\\u00e4t, Lebensraumkategorie und Biotoptypenschl\\u00fcssel Typ 3/1/Ueberwiegend bebaute Fl\\u00e4chen/Sportplatz\",\"Biotypfl\\u00e4chen 2020 nach bewerteter \\u00f6kologischer Qualit\\u00e4t, Lebensraumkategorie und Biotoptypenschl\\u00fcssel Typ 3/3/Gew\\u00e4sser/Stark beeintr\\u00e4chtigtes Stillgew\\u00e4sser nat\\u00fcrlicher Entstehung*\",\"Biotypfl\\u00e4chen 2020 nach bewerteter \\u00f6kologischer Qualit\\u00e4t, Lebensraumkategorie und Biotoptypenschl\\u00fcssel Typ 3/3/Gew\\u00e4sser/Stark bis v\\u00f6llig ausgebauter Bach*\",\"Biotypfl\\u00e4chen 2020 nach bewerteter \\u00f6kologischer Qualit\\u00e4t, Lebensraumkategorie und Biotoptypenschl\\u00fcssel Typ 3/3/Gew\\u00e4sser/Stark bis v\\u00f6llig ausgebauter Fluss*\",\"Biotypfl\\u00e4chen 2020 nach bewerteter \\u00f6kologischer Qualit\\u00e4t, Lebensraumkategorie und Biotoptypenschl\\u00fcssel Typ 3/1/Ruderalfluren/Staudenkn\\u00f6terich-Flur\",\"Biotypfl\\u00e4chen 2020 nach bewerteter \\u00f6kologischer Qualit\\u00e4t, Lebensraumkategorie und Biotoptypenschl\\u00fcssel Typ 3/0/Ueberwiegend bebaute Fl\\u00e4chen/Strasse*\",\"Biotypfl\\u00e4chen 2020 nach bewerteter \\u00f6kologischer Qualit\\u00e4t, Lebensraumkategorie und Biotoptypenschl\\u00fcssel Typ 3/5/Geh\\u00f6lze, Hecken und Geb\\u00fcsche/Strauch-Baumhecke\",\"Biotypfl\\u00e4chen 2020 nach bewerteter \\u00f6kologischer Qualit\\u00e4t, Lebensraumkategorie und Biotoptypenschl\\u00fcssel Typ 3/6/Geh\\u00f6lze, Hecken und Geb\\u00fcsche/Strauch-Baumhecke mit  BFF-Qualit\\u00e4t\",\"Biotypfl\\u00e4chen 2020 nach bewerteter \\u00f6kologischer Qualit\\u00e4t, Lebensraumkategorie und Biotoptypenschl\\u00fcssel Typ 3/5/Geh\\u00f6lze, Hecken und Geb\\u00fcsche/Strauchhecke\",\"Biotypfl\\u00e4chen 2020 nach bewerteter \\u00f6kologischer Qualit\\u00e4t, Lebensraumkategorie und Biotoptypenschl\\u00fcssel Typ 3/6/Geh\\u00f6lze, Hecken und Geb\\u00fcsche/Strauchhecke mit BFF-Qualit\\u00e4t\",\"Biotypfl\\u00e4chen 2020 nach bewerteter \\u00f6kologischer Qualit\\u00e4t, Lebensraumkategorie und Biotoptypenschl\\u00fcssel Typ 3/2/Gr\\u00fcnanlagen von Mehrfamilienh\\u00e4usern/Strukturarme Gr\\u00fcnanlage\",\"Biotypfl\\u00e4chen 2020 nach bewerteter \\u00f6kologischer Qualit\\u00e4t, Lebensraumkategorie und Biotoptypenschl\\u00fcssel Typ 3/3/Wiesen und Rasen/Strukturarme und artenarme Magerweide\",\"Biotypfl\\u00e4chen 2020 nach bewerteter \\u00f6kologischer Qualit\\u00e4t, Lebensraumkategorie und Biotoptypenschl\\u00fcssel Typ 3/3/Geh\\u00f6lze, Hecken und Geb\\u00fcsche/Strukturarmes Siedlungsgeh\\u00f6lz aus \\u00fcberwiegend einheimischen Baumarten*\",\"Biotypfl\\u00e4chen 2020 nach bewerteter \\u00f6kologischer Qualit\\u00e4t, Lebensraumkategorie und Biotoptypenschl\\u00fcssel Typ 3/3/Geh\\u00f6lze, Hecken und Geb\\u00fcsche/Strukturarmes Ziergeb\\u00fcsch/ Hecke aus \\u00fcberwiegend einheimischen Geh\\u00f6lzarten*\",\"Biotypfl\\u00e4chen 2020 nach bewerteter \\u00f6kologischer Qualit\\u00e4t, Lebensraumkategorie und Biotoptypenschl\\u00fcssel Typ 3/4/Familieng\\u00e4rten/Strukturreiche Familiengartenanlage\",\"Biotypfl\\u00e4chen 2020 nach bewerteter \\u00f6kologischer Qualit\\u00e4t, Lebensraumkategorie und Biotoptypenschl\\u00fcssel Typ 3/3/Gr\\u00fcnanlagen von Mehrfamilienh\\u00e4usern/Strukturreiche Gr\\u00fcnanlage\",\"Biotypfl\\u00e4chen 2020 nach bewerteter \\u00f6kologischer Qualit\\u00e4t, Lebensraumkategorie und Biotoptypenschl\\u00fcssel Typ 3/5/Wiesen und Rasen/Strukturreiche Magerweide\",\"Biotypfl\\u00e4chen 2020 nach bewerteter \\u00f6kologischer Qualit\\u00e4t, Lebensraumkategorie und Biotoptypenschl\\u00fcssel Typ 3/6/Wiesen und Rasen/Strukturreiche artenreiche Magerweide\",\"Biotypfl\\u00e4chen 2020 nach bewerteter \\u00f6kologischer Qualit\\u00e4t, Lebensraumkategorie und Biotoptypenschl\\u00fcssel Typ 3/4/Geh\\u00f6lze, Hecken und Geb\\u00fcsche/Strukturreiches Siedlungsgeh\\u00f6lz aus \\u00fcberwiegend einheimischen Baumarten\",\"Biotypfl\\u00e4chen 2020 nach bewerteter \\u00f6kologischer Qualit\\u00e4t, Lebensraumkategorie und Biotoptypenschl\\u00fcssel Typ 3/4/Geh\\u00f6lze, Hecken und Geb\\u00fcsche/Strukturreiches Ziergeb\\u00fcsch/ Hecke aus \\u00fcberwiegend einheimischen Geh\\u00f6lzarten\",\"Biotypfl\\u00e4chen 2020 nach bewerteter \\u00f6kologischer Qualit\\u00e4t, Lebensraumkategorie und Biotoptypenschl\\u00fcssel Typ 3/3/Geh\\u00f6lze, Hecken und Geb\\u00fcsche/Sukzessionsgeb\\u00fcsch\",\"Biotypfl\\u00e4chen 2020 nach bewerteter \\u00f6kologischer Qualit\\u00e4t, Lebensraumkategorie und Biotoptypenschl\\u00fcssel Typ 3/3/Wiesen und Rasen/Sumpfdotterblumen-Wiese*\",\"Biotypfl\\u00e4chen 2020 nach bewerteter \\u00f6kologischer Qualit\\u00e4t, Lebensraumkategorie und Biotoptypenschl\\u00fcssel Typ 3/5/Feuchtgebiete/S\\u00fcssgras-Bachr\\u00f6hricht*\",\"Biotypfl\\u00e4chen 2020 nach bewerteter \\u00f6kologischer Qualit\\u00e4t, Lebensraumkategorie und Biotoptypenschl\\u00fcssel Typ 3/3/\\u00c4cker, Gartenbaufl\\u00e4chen, Tiergehege/Terrassierter Rebberg\",\"Biotypfl\\u00e4chen 2020 nach bewerteter \\u00f6kologischer Qualit\\u00e4t, Lebensraumkategorie und Biotoptypenschl\\u00fcssel Typ 3/1/\\u00c4cker, Gartenbaufl\\u00e4chen, Tiergehege/Tiergehege\",\"Biotypfl\\u00e4chen 2020 nach bewerteter \\u00f6kologischer Qualit\\u00e4t, Lebensraumkategorie und Biotoptypenschl\\u00fcssel Typ 3/6/Wald/Traubenkirschen-Eschenwald (inkl. Nr. 30f) (ZH: 30)\",\"Biotypfl\\u00e4chen 2020 nach bewerteter \\u00f6kologischer Qualit\\u00e4t, Lebensraumkategorie und Biotoptypenschl\\u00fcssel Typ 3/6/Gew\\u00e4sser/Verlandungsbereich n\\u00e4hrstoffarmer Stillgew\\u00e4sser mit Unterwasservegetation*\",\"Biotypfl\\u00e4chen 2020 nach bewerteter \\u00f6kologischer Qualit\\u00e4t, Lebensraumkategorie und Biotoptypenschl\\u00fcssel Typ 3/4/Wald/Wald allgemein\",\"Biotypfl\\u00e4chen 2020 nach bewerteter \\u00f6kologischer Qualit\\u00e4t, Lebensraumkategorie und Biotoptypenschl\\u00fcssel Typ 3/5/Wald/Waldrand gestuft\",\"Biotypfl\\u00e4chen 2020 nach bewerteter \\u00f6kologischer Qualit\\u00e4t, Lebensraumkategorie und Biotoptypenschl\\u00fcssel Typ 3/2/Wald/Waldrand strukturarm\",\"Biotypfl\\u00e4chen 2020 nach bewerteter \\u00f6kologischer Qualit\\u00e4t, Lebensraumkategorie und Biotoptypenschl\\u00fcssel Typ 3/3/Wald/Waldrand strukturarm mit Aufwertungspotential\",\"Biotypfl\\u00e4chen 2020 nach bewerteter \\u00f6kologischer Qualit\\u00e4t, Lebensraumkategorie und Biotoptypenschl\\u00fcssel Typ 3/6/Wiesen und Rasen/Wechseltrockene Magerwiese\",\"Biotypfl\\u00e4chen 2020 nach bewerteter \\u00f6kologischer Qualit\\u00e4t, Lebensraumkategorie und Biotoptypenschl\\u00fcssel Typ 3/5/Geh\\u00f6lze, Hecken und Geb\\u00fcsche/Weiden- Sumpfgeb\\u00fcsch\",\"Biotypfl\\u00e4chen 2020 nach bewerteter \\u00f6kologischer Qualit\\u00e4t, Lebensraumkategorie und Biotoptypenschl\\u00fcssel Typ 3/4/Ueberwiegend bebaute Fl\\u00e4chen/Wiesenartige Flachdachvegetation\",\"Biotypfl\\u00e4chen 2020 nach bewerteter \\u00f6kologischer Qualit\\u00e4t, Lebensraumkategorie und Biotoptypenschl\\u00fcssel Typ 3/4/Gew\\u00e4sser/Wiesengraben\",\"Biotypfl\\u00e4chen 2020 nach bewerteter \\u00f6kologischer Qualit\\u00e4t, Lebensraumkategorie und Biotoptypenschl\\u00fcssel Typ 3/2/Geh\\u00f6lze, Hecken und Geb\\u00fcsche/Ziergeb\\u00fcsch/ Hecke aus \\u00fcberwiegend nicht heimischen Geh\\u00f6lzarten\",\"Biotypfl\\u00e4chen 2020 nach bewerteter \\u00f6kologischer Qualit\\u00e4t, Lebensraumkategorie und Biotoptypenschl\\u00fcssel Typ 3/2/Geh\\u00f6lze, Hecken und Geb\\u00fcsche/Zierhecke/ Schnitthecke\",\"Biotypfl\\u00e4chen 2020 nach bewerteter \\u00f6kologischer Qualit\\u00e4t, Lebensraumkategorie und Biotoptypenschl\\u00fcssel Typ 3/2/Gew\\u00e4sser/Zierteich\",\"Biotypfl\\u00e4chen 2020 nach bewerteter \\u00f6kologischer Qualit\\u00e4t, Lebensraumkategorie und Biotoptypenschl\\u00fcssel Typ 3/5/Geh\\u00f6lze, Hecken und Geb\\u00fcsche/mesophiles Geb\\u00fcsch\",\"Biotypfl\\u00e4chen 2020 nach bewerteter \\u00f6kologischer Qualit\\u00e4t, Lebensraumkategorie und Biotoptypenschl\\u00fcssel Typ 3/6/Wiesen und Rasen/sonstiger Magerrasen\",\"Biotypfl\\u00e4chen 2020 nach bewerteter \\u00f6kologischer Qualit\\u00e4t, Lebensraumkategorie und Biotoptypenschl\\u00fcssel Typ 3/5/Geh\\u00f6lze, Hecken und Geb\\u00fcsche/typisches Weiden-Auengeb\\u00fcsch\",\"Biotypfl\\u00e4chen 2020 nach bewerteter \\u00f6kologischer Qualit\\u00e4t, Lebensraumkategorie und Biotoptypenschl\\u00fcssel Typ 3/2/Beete und Rabatten\",\"Biotypfl\\u00e4chen 2020 nach bewerteter \\u00f6kologischer Qualit\\u00e4t, Lebensraumkategorie und Biotoptypenschl\\u00fcssel Typ 3/4/Familieng\\u00e4rten\",\"Biotypfl\\u00e4chen 2020 nach bewerteter \\u00f6kologischer Qualit\\u00e4t, Lebensraumkategorie und Biotoptypenschl\\u00fcssel Typ 3/3/Feuchtgebiete\",\"Biotypfl\\u00e4chen 2020 nach bewerteter \\u00f6kologischer Qualit\\u00e4t, Lebensraumkategorie und Biotoptypenschl\\u00fcssel Typ 3/5/Feuchtgebiete\",\"Biotypfl\\u00e4chen 2020 nach bewerteter \\u00f6kologischer Qualit\\u00e4t, Lebensraumkategorie und Biotoptypenschl\\u00fcssel Typ 3/6/Feuchtgebiete\",\"Biotypfl\\u00e4chen 2020 nach bewerteter \\u00f6kologischer Qualit\\u00e4t, Lebensraumkategorie und Biotoptypenschl\\u00fcssel Typ 3/1/Geh\\u00f6lze, Hecken und Geb\\u00fcsche\",\"Biotypfl\\u00e4chen 2020 nach bewerteter \\u00f6kologischer Qualit\\u00e4t, Lebensraumkategorie und Biotoptypenschl\\u00fcssel Typ 3/2/Geh\\u00f6lze, Hecken und Geb\\u00fcsche\",\"Biotypfl\\u00e4chen 2020 nach bewerteter \\u00f6kologischer Qualit\\u00e4t, Lebensraumkategorie und Biotoptypenschl\\u00fcssel Typ 3/3/Geh\\u00f6lze, Hecken und Geb\\u00fcsche\",\"Biotypfl\\u00e4chen 2020 nach bewerteter \\u00f6kologischer Qualit\\u00e4t, Lebensraumkategorie und Biotoptypenschl\\u00fcssel Typ 3/4/Geh\\u00f6lze, Hecken und Geb\\u00fcsche\",\"Biotypfl\\u00e4chen 2020 nach bewerteter \\u00f6kologischer Qualit\\u00e4t, Lebensraumkategorie und Biotoptypenschl\\u00fcssel Typ 3/5/Geh\\u00f6lze, Hecken und Geb\\u00fcsche\",\"Biotypfl\\u00e4chen 2020 nach bewerteter \\u00f6kologischer Qualit\\u00e4t, Lebensraumkategorie und Biotoptypenschl\\u00fcssel Typ 3/6/Geh\\u00f6lze, Hecken und Geb\\u00fcsche\",\"Biotypfl\\u00e4chen 2020 nach bewerteter \\u00f6kologischer Qualit\\u00e4t, Lebensraumkategorie und Biotoptypenschl\\u00fcssel Typ 3/2/Gew\\u00e4sser\",\"Biotypfl\\u00e4chen 2020 nach bewerteter \\u00f6kologischer Qualit\\u00e4t, Lebensraumkategorie und Biotoptypenschl\\u00fcssel Typ 3/3/Gew\\u00e4sser\",\"Biotypfl\\u00e4chen 2020 nach bewerteter \\u00f6kologischer Qualit\\u00e4t, Lebensraumkategorie und Biotoptypenschl\\u00fcssel Typ 3/4/Gew\\u00e4sser\",\"Biotypfl\\u00e4chen 2020 nach bewerteter \\u00f6kologischer Qualit\\u00e4t, Lebensraumkategorie und Biotoptypenschl\\u00fcssel Typ 3/5/Gew\\u00e4sser\",\"Biotypfl\\u00e4chen 2020 nach bewerteter \\u00f6kologischer Qualit\\u00e4t, Lebensraumkategorie und Biotoptypenschl\\u00fcssel Typ 3/6/Gew\\u00e4sser\",\"Biotypfl\\u00e4chen 2020 nach bewerteter \\u00f6kologischer Qualit\\u00e4t, Lebensraumkategorie und Biotoptypenschl\\u00fcssel Typ 3/2/Gr\\u00fcnanlagen\",\"Biotypfl\\u00e4chen 2020 nach bewerteter \\u00f6kologischer Qualit\\u00e4t, Lebensraumkategorie und Biotoptypenschl\\u00fcssel Typ 3/3/Gr\\u00fcnanlagen\",\"Biotypfl\\u00e4chen 2020 nach bewerteter \\u00f6kologischer Qualit\\u00e4t, Lebensraumkategorie und Biotoptypenschl\\u00fcssel Typ 3/5/Gr\\u00fcnanlagen\",\"Biotypfl\\u00e4chen 2020 nach bewerteter \\u00f6kologischer Qualit\\u00e4t, Lebensraumkategorie und Biotoptypenschl\\u00fcssel Typ 3/2/Gr\\u00fcnanlagen von Mehrfamilienh\\u00e4usern\",\"Biotypfl\\u00e4chen 2020 nach bewerteter \\u00f6kologischer Qualit\\u00e4t, Lebensraumkategorie und Biotoptypenschl\\u00fcssel Typ 3/3/Gr\\u00fcnanlagen von Mehrfamilienh\\u00e4usern\",\"Biotypfl\\u00e4chen 2020 nach bewerteter \\u00f6kologischer Qualit\\u00e4t, Lebensraumkategorie und Biotoptypenschl\\u00fcssel Typ 3/2/G\\u00e4rten\",\"Biotypfl\\u00e4chen 2020 nach bewerteter \\u00f6kologischer Qualit\\u00e4t, Lebensraumkategorie und Biotoptypenschl\\u00fcssel Typ 3/3/G\\u00e4rten\",\"Biotypfl\\u00e4chen 2020 nach bewerteter \\u00f6kologischer Qualit\\u00e4t, Lebensraumkategorie und Biotoptypenschl\\u00fcssel Typ 3/4/G\\u00e4rten\",\"Biotypfl\\u00e4chen 2020 nach bewerteter \\u00f6kologischer Qualit\\u00e4t, Lebensraumkategorie und Biotoptypenschl\\u00fcssel Typ 3/5/G\\u00e4rten\",\"Biotypfl\\u00e4chen 2020 nach bewerteter \\u00f6kologischer Qualit\\u00e4t, Lebensraumkategorie und Biotoptypenschl\\u00fcssel Typ 3/1/Kies- und Schotterfl\\u00e4chen\",\"Biotypfl\\u00e4chen 2020 nach bewerteter \\u00f6kologischer Qualit\\u00e4t, Lebensraumkategorie und Biotoptypenschl\\u00fcssel Typ 3/2/Kies- und Schotterfl\\u00e4chen\",\"Biotypfl\\u00e4chen 2020 nach bewerteter \\u00f6kologischer Qualit\\u00e4t, Lebensraumkategorie und Biotoptypenschl\\u00fcssel Typ 3/3/Mauern\",\"Biotypfl\\u00e4chen 2020 nach bewerteter \\u00f6kologischer Qualit\\u00e4t, Lebensraumkategorie und Biotoptypenschl\\u00fcssel Typ 3/4/Obstg\\u00e4rten\",\"Biotypfl\\u00e4chen 2020 nach bewerteter \\u00f6kologischer Qualit\\u00e4t, Lebensraumkategorie und Biotoptypenschl\\u00fcssel Typ 3/5/Obstg\\u00e4rten\",\"Biotypfl\\u00e4chen 2020 nach bewerteter \\u00f6kologischer Qualit\\u00e4t, Lebensraumkategorie und Biotoptypenschl\\u00fcssel Typ 3/6/Obstg\\u00e4rten\",\"Biotypfl\\u00e4chen 2020 nach bewerteter \\u00f6kologischer Qualit\\u00e4t, Lebensraumkategorie und Biotoptypenschl\\u00fcssel Typ 3/1/Ruderalfluren\",\"Biotypfl\\u00e4chen 2020 nach bewerteter \\u00f6kologischer Qualit\\u00e4t, Lebensraumkategorie und Biotoptypenschl\\u00fcssel Typ 3/2/Ruderalfluren\",\"Biotypfl\\u00e4chen 2020 nach bewerteter \\u00f6kologischer Qualit\\u00e4t, Lebensraumkategorie und Biotoptypenschl\\u00fcssel Typ 3/3/Ruderalfluren\",\"Biotypfl\\u00e4chen 2020 nach bewerteter \\u00f6kologischer Qualit\\u00e4t, Lebensraumkategorie und Biotoptypenschl\\u00fcssel Typ 3/4/Ruderalfluren\",\"Biotypfl\\u00e4chen 2020 nach bewerteter \\u00f6kologischer Qualit\\u00e4t, Lebensraumkategorie und Biotoptypenschl\\u00fcssel Typ 3/5/Ruderalfluren\",\"Biotypfl\\u00e4chen 2020 nach bewerteter \\u00f6kologischer Qualit\\u00e4t, Lebensraumkategorie und Biotoptypenschl\\u00fcssel Typ 3/0/Ueberwiegend bebaute Fl\\u00e4chen\",\"Biotypfl\\u00e4chen 2020 nach bewerteter \\u00f6kologischer Qualit\\u00e4t, Lebensraumkategorie und Biotoptypenschl\\u00fcssel Typ 3/1/Ueberwiegend bebaute Fl\\u00e4chen\",\"Biotypfl\\u00e4chen 2020 nach bewerteter \\u00f6kologischer Qualit\\u00e4t, Lebensraumkategorie und Biotoptypenschl\\u00fcssel Typ 3/2/Ueberwiegend bebaute Fl\\u00e4chen\",\"Biotypfl\\u00e4chen 2020 nach bewerteter \\u00f6kologischer Qualit\\u00e4t, Lebensraumkategorie und Biotoptypenschl\\u00fcssel Typ 3/3/Ueberwiegend bebaute Fl\\u00e4chen\",\"Biotypfl\\u00e4chen 2020 nach bewerteter \\u00f6kologischer Qualit\\u00e4t, Lebensraumkategorie und Biotoptypenschl\\u00fcssel Typ 3/4/Ueberwiegend bebaute Fl\\u00e4chen\",\"Biotypfl\\u00e4chen 2020 nach bewerteter \\u00f6kologischer Qualit\\u00e4t, Lebensraumkategorie und Biotoptypenschl\\u00fcssel Typ 3/2/Wald\",\"Biotypfl\\u00e4chen 2020 nach bewerteter \\u00f6kologischer Qualit\\u00e4t, Lebensraumkategorie und Biotoptypenschl\\u00fcssel Typ 3/3/Wald\",\"Biotypfl\\u00e4chen 2020 nach bewerteter \\u00f6kologischer Qualit\\u00e4t, Lebensraumkategorie und Biotoptypenschl\\u00fcssel Typ 3/4/Wald\",\"Biotypfl\\u00e4chen 2020 nach bewerteter \\u00f6kologischer Qualit\\u00e4t, Lebensraumkategorie und Biotoptypenschl\\u00fcssel Typ 3/5/Wald\",\"Biotypfl\\u00e4chen 2020 nach bewerteter \\u00f6kologischer Qualit\\u00e4t, Lebensraumkategorie und Biotoptypenschl\\u00fcssel Typ 3/6/Wald\",\"Biotypfl\\u00e4chen 2020 nach bewerteter \\u00f6kologischer Qualit\\u00e4t, Lebensraumkategorie und Biotoptypenschl\\u00fcssel Typ 3/2/Wiesen und Rasen\",\"Biotypfl\\u00e4chen 2020 nach bewerteter \\u00f6kologischer Qualit\\u00e4t, Lebensraumkategorie und Biotoptypenschl\\u00fcssel Typ 3/3/Wiesen und Rasen\",\"Biotypfl\\u00e4chen 2020 nach bewerteter \\u00f6kologischer Qualit\\u00e4t, Lebensraumkategorie und Biotoptypenschl\\u00fcssel Typ 3/4/Wiesen und Rasen\",\"Biotypfl\\u00e4chen 2020 nach bewerteter \\u00f6kologischer Qualit\\u00e4t, Lebensraumkategorie und Biotoptypenschl\\u00fcssel Typ 3/5/Wiesen und Rasen\",\"Biotypfl\\u00e4chen 2020 nach bewerteter \\u00f6kologischer Qualit\\u00e4t, Lebensraumkategorie und Biotoptypenschl\\u00fcssel Typ 3/6/Wiesen und Rasen\",\"Biotypfl\\u00e4chen 2020 nach bewerteter \\u00f6kologischer Qualit\\u00e4t, Lebensraumkategorie und Biotoptypenschl\\u00fcssel Typ 3/1/\\u00c4cker, Gartenbaufl\\u00e4chen, Tiergehege\",\"Biotypfl\\u00e4chen 2020 nach bewerteter \\u00f6kologischer Qualit\\u00e4t, Lebensraumkategorie und Biotoptypenschl\\u00fcssel Typ 3/2/\\u00c4cker, Gartenbaufl\\u00e4chen, Tiergehege\",\"Biotypfl\\u00e4chen 2020 nach bewerteter \\u00f6kologischer Qualit\\u00e4t, Lebensraumkategorie und Biotoptypenschl\\u00fcssel Typ 3/3/\\u00c4cker, Gartenbaufl\\u00e4chen, Tiergehege\",\"Biotypfl\\u00e4chen 2020 nach bewerteter \\u00f6kologischer Qualit\\u00e4t, Lebensraumkategorie und Biotoptypenschl\\u00fcssel Typ 3/0\",\"Biotypfl\\u00e4chen 2020 nach bewerteter \\u00f6kologischer Qualit\\u00e4t, Lebensraumkategorie und Biotoptypenschl\\u00fcssel Typ 3/1\",\"Biotypfl\\u00e4chen 2020 nach bewerteter \\u00f6kologischer Qualit\\u00e4t, Lebensraumkategorie und Biotoptypenschl\\u00fcssel Typ 3/2\",\"Biotypfl\\u00e4chen 2020 nach bewerteter \\u00f6kologischer Qualit\\u00e4t, Lebensraumkategorie und Biotoptypenschl\\u00fcssel Typ 3/3\",\"Biotypfl\\u00e4chen 2020 nach bewerteter \\u00f6kologischer Qualit\\u00e4t, Lebensraumkategorie und Biotoptypenschl\\u00fcssel Typ 3/4\",\"Biotypfl\\u00e4chen 2020 nach bewerteter \\u00f6kologischer Qualit\\u00e4t, Lebensraumkategorie und Biotoptypenschl\\u00fcssel Typ 3/5\",\"Biotypfl\\u00e4chen 2020 nach bewerteter \\u00f6kologischer Qualit\\u00e4t, Lebensraumkategorie und Biotoptypenschl\\u00fcssel Typ 3/6\",\"Biotypfl\\u00e4chen 2020 nach bewerteter \\u00f6kologischer Qualit\\u00e4t, Lebensraumkategorie und Biotoptypenschl\\u00fcssel Typ 3\"],\"labels\":[\"Acker\",\"Adlerfarn-Flur magerer Standorte\",\"Allee\",\"Alter Landschaftspark\",\"Aronstab-Buchenwald (inkl. 11e) (ZH: 11)\",\"Artenarme Fromentalwiese\",\"Artenarme Moos-Flachdachvegetationen\",\"Artenarme Ruderalflur\",\"Artenarme Sedum-Flachdachvegetationen\",\"Artenarmer Scherrasen (Gebrauchsrasen)\",\"Artenarmer Ziergarten\",\"Artenarmes Extensivgr\\u00fcnland*\",\"Artenreiche Sedum-Flachdachvegetationen\",\"Artenreicher Garten mit Grossb\\u00e4umen\",\"Artenreicher Scherrasen (Blumenrasen)\",\"Bauerngarten\",\"Baumhecke\",\"Baumraster  mit Baumscheiben\",\"Baumraster mit Fettwiese\",\"Baumraster mit Fromentalwiese\",\"Baumraster mit Rasen\",\"Baumraster mit Zierhecke\",\"Baumraster mit ruderalem Unterwuchs\",\"Baumraster ohne Baumscheiben\",\"Baumreihe/-raster mit Fromentalwiese mit BFF-Qualit\\u00e4t*\",\"Baumreihe/-raster mit kiesigem Untergrund*\",\"Baumschule\",\"Baustelle\",\"Beerenstrauch-Plantage\",\"Beet/Rabatte\",\"Bestand der Stumpfbl\\u00e4ttrigen Binse (ZH: 4c)\",\"Beton- /Asphaltfl\\u00e4che\",\"Blumen-Gartenbaufl\\u00e4che\",\"Brombeer-Gestr\\u00fcpp\",\"Bultiges Grosseggenried (ZH: 3a)\",\"Buntbrachen\",\"Einzelbaum\",\"Fettwiese und -weide\",\"Feuchte Fromentalwiese*\",\"Fliessgew\\u00e4sser*\",\"Flusskies-Pionierflur*\",\"Fl\\u00e4che mit Kies- oder Schotterdecke in Bahnanlagen\",\"Fl\\u00e4che mit Natursteinpflaster\",\"Fl\\u00e4che mit Ziegel-/Betonsteinpflaster\",\"Fl\\u00e4che mit unbefestigtem Wandkies oder Sand*\",\"Fl\\u00e4che mit wassergebundener Decke*\",\"Fromentalwiese mit BFF-Qualit\\u00e4t\",\"Geb\\u00e4ude*\",\"Gem\\u00fcse- und sonstige Gartenbaufl\\u00e4che\",\"Gewerbegebiet (Kleingewerbe und kleingewerbliche Lagerfl\\u00e4chen)\",\"Goldruten-Flur\",\"Grosseggenried ausserhalb Wasserstandsschwankungen (ZH: 3b)\",\"Grosseggenried mit Schneidebinse (ZH: 3d)\",\"Grosseggenried mit Sumpf-Segge (ZH: 3c)\",\"Halbruderale Gras- und Staudenflur feuchter Standorte\",\"Halbruderale Gras- und Staudenflur mittlerer Standorte\",\"Halbruderale Gras- und Staudenflur trockener Standorte\",\"Halbruderale Gras- und Staudenflur wechselfeuchter Standorte\",\"Hausgarten\",\"Hochstamm-Obstgarten mit Fettwiese (m4)\",\"Hochstamm-Obstgarten mit Fromentalwiese (m3)\",\"Hochstamm-Obstgarten mit Magerwiese\",\"Hochstaudenflur mit Goldrute (ZH: 4b)\",\"Hochstaudenflur mit Spierstaude (ZH: 4a)\",\"Holzlagerfl\\u00e4che\",\"Intensiv gepflegter Park\",\"Intensive Flachdachbegr\\u00fcnungen\",\"Intensivgr\\u00fcnland auf Flachmoorstandorten\",\"Kalk-Magerrasen\",\"Landwirtschaftliche Lagerfl\\u00e4che\",\"M\\u00e4ssig ausgebauter Bach*\",\"M\\u00e4ssig ausgebauter Fluss*\",\"M\\u00e4ssig trockene Magerwiese\",\"Naturgarten\",\"Naturnaher Bach*\",\"Naturnaher Fluss*\",\"Naturnahes Feldgeh\\u00f6lz\",\"Naturnahes Kleingew\\u00e4sser\",\"Naturnahes n\\u00e4hrstoffarmes Stillgew\\u00e4sser nat\\u00fcrlicher Entstehung*\",\"Natursteinmauer/ wand\",\"Neophytisches Geb\\u00fcsch\",\"N\\u00e4hrstoffreicher Sumpf\",\"Obst- und Gem\\u00fcsegarten\",\"Parkfriedhof\",\"Pfeifengrasreinbestand auf Torf (ZH: 8c)\",\"Pfeifengraswiese, Kleinseggenausbildung feucht (ZH: 8a)\",\"Pfeifengraswiese, Kleinseggenausbildung trocken (ZH: 8b)\",\"Pioniervegetation schlammiger Nassstandorte*\",\"Rebberg ohne Terrassen\",\"Riesenb\\u00e4renklau-Flur\",\"Rohrglanzgras-Flussuferr\\u00f6hricht*\",\"Ruderale Flachdachvegetation\",\"Ruderalflur n\\u00e4hrstoffreicher, frischer bis feuchter Standorte\",\"Ruderalflur n\\u00e4hrstoffreicher, frischer bis feuchter Standorte mit Geh\\u00f6lzen\",\"Ruderalflur trockenwarmer Standorte\",\"Ruderalflur trockenwarmer Standorte mit Geh\\u00f6lzen\",\"R\\u00f6hricht mit Rohrkolben (ZH: 2c)\",\"Schilf-Landr\\u00f6hricht\",\"Schilfr\\u00f6hricht im Verlandungsbereich (ZH: 2a)\",\"Schwimmblattgesellschaften (ZH: 1)\",\"Seebinsenr\\u00f6hricht (ZH: 2b)\",\"Seggen-Schwarzerlenbruchwald (ZH: 44)\",\"Siedlungsgeh\\u00f6lz aus \\u00fcberwiegend nicht heimischen Baumarten\",\"Sonstige Neophyten-Flur\",\"Sonstige Sport-, Spiel- und Freizeitanlage\",\"Sonstige befestigte Fl\\u00e4chen*\",\"Spalierobst-Plantage\",\"Sportplatz\",\"Stark beeintr\\u00e4chtigtes Stillgew\\u00e4sser nat\\u00fcrlicher Entstehung*\",\"Stark bis v\\u00f6llig ausgebauter Bach*\",\"Stark bis v\\u00f6llig ausgebauter Fluss*\",\"Staudenkn\\u00f6terich-Flur\",\"Strasse*\",\"Strauch-Baumhecke\",\"Strauch-Baumhecke mit  BFF-Qualit\\u00e4t\",\"Strauchhecke\",\"Strauchhecke mit BFF-Qualit\\u00e4t\",\"Strukturarme Gr\\u00fcnanlage\",\"Strukturarme und artenarme Magerweide\",\"Strukturarmes Siedlungsgeh\\u00f6lz aus \\u00fcberwiegend einheimischen Baumarten*\",\"Strukturarmes Ziergeb\\u00fcsch/ Hecke aus \\u00fcberwiegend einheimischen Geh\\u00f6lzarten*\",\"Strukturreiche Familiengartenanlage\",\"Strukturreiche Gr\\u00fcnanlage\",\"Strukturreiche Magerweide\",\"Strukturreiche artenreiche Magerweide\",\"Strukturreiches Siedlungsgeh\\u00f6lz aus \\u00fcberwiegend einheimischen Baumarten\",\"Strukturreiches Ziergeb\\u00fcsch/ Hecke aus \\u00fcberwiegend einheimischen Geh\\u00f6lzarten\",\"Sukzessionsgeb\\u00fcsch\",\"Sumpfdotterblumen-Wiese*\",\"S\\u00fcssgras-Bachr\\u00f6hricht*\",\"Terrassierter Rebberg\",\"Tiergehege\",\"Traubenkirschen-Eschenwald (inkl. Nr. 30f) (ZH: 30)\",\"Verlandungsbereich n\\u00e4hrstoffarmer Stillgew\\u00e4sser mit Unterwasservegetation*\",\"Wald allgemein\",\"Waldrand gestuft\",\"Waldrand strukturarm\",\"Waldrand strukturarm mit Aufwertungspotential\",\"Wechseltrockene Magerwiese\",\"Weiden- Sumpfgeb\\u00fcsch\",\"Wiesenartige Flachdachvegetation\",\"Wiesengraben\",\"Ziergeb\\u00fcsch/ Hecke aus \\u00fcberwiegend nicht heimischen Geh\\u00f6lzarten\",\"Zierhecke/ Schnitthecke\",\"Zierteich\",\"mesophiles Geb\\u00fcsch\",\"sonstiger Magerrasen\",\"typisches Weiden-Auengeb\\u00fcsch\",\"Beete und Rabatten\",\"Familieng\\u00e4rten\",\"Feuchtgebiete\",\"Feuchtgebiete\",\"Feuchtgebiete\",\"Geh\\u00f6lze, Hecken und Geb\\u00fcsche\",\"Geh\\u00f6lze, Hecken und Geb\\u00fcsche\",\"Geh\\u00f6lze, Hecken und Geb\\u00fcsche\",\"Geh\\u00f6lze, Hecken und Geb\\u00fcsche\",\"Geh\\u00f6lze, Hecken und Geb\\u00fcsche\",\"Geh\\u00f6lze, Hecken und Geb\\u00fcsche\",\"Gew\\u00e4sser\",\"Gew\\u00e4sser\",\"Gew\\u00e4sser\",\"Gew\\u00e4sser\",\"Gew\\u00e4sser\",\"Gr\\u00fcnanlagen\",\"Gr\\u00fcnanlagen\",\"Gr\\u00fcnanlagen\",\"Gr\\u00fcnanlagen von Mehrfamilienh\\u00e4usern\",\"Gr\\u00fcnanlagen von Mehrfamilienh\\u00e4usern\",\"G\\u00e4rten\",\"G\\u00e4rten\",\"G\\u00e4rten\",\"G\\u00e4rten\",\"Kies- und Schotterfl\\u00e4chen\",\"Kies- und Schotterfl\\u00e4chen\",\"Mauern\",\"Obstg\\u00e4rten\",\"Obstg\\u00e4rten\",\"Obstg\\u00e4rten\",\"Ruderalfluren\",\"Ruderalfluren\",\"Ruderalfluren\",\"Ruderalfluren\",\"Ruderalfluren\",\"Ueberwiegend bebaute Fl\\u00e4chen\",\"Ueberwiegend bebaute Fl\\u00e4chen\",\"Ueberwiegend bebaute Fl\\u00e4chen\",\"Ueberwiegend bebaute Fl\\u00e4chen\",\"Ueberwiegend bebaute Fl\\u00e4chen\",\"Wald\",\"Wald\",\"Wald\",\"Wald\",\"Wald\",\"Wiesen und Rasen\",\"Wiesen und Rasen\",\"Wiesen und Rasen\",\"Wiesen und Rasen\",\"Wiesen und Rasen\",\"\\u00c4cker, Gartenbaufl\\u00e4chen, Tiergehege\",\"\\u00c4cker, Gartenbaufl\\u00e4chen, Tiergehege\",\"\\u00c4cker, Gartenbaufl\\u00e4chen, Tiergehege\",\"0\",\"1\",\"2\",\"3\",\"4\",\"5\",\"6\",\"Biotypfl\\u00e4chen 2020 nach bewerteter \\u00f6kologischer Qualit\\u00e4t, Lebensraumkategorie und Biotoptypenschl\\u00fcssel Typ 3\"],\"marker\":{\"coloraxis\":\"coloraxis\",\"colors\":[2.0,3.0,4.0,5.0,5.0,4.0,1.0,2.0,2.0,2.0,2.0,3.0,3.0,4.0,3.0,4.0,5.0,3.0,3.0,4.0,2.0,2.0,3.0,1.0,5.0,2.0,2.0,0.0,2.0,2.0,5.0,0.0,2.0,3.0,6.0,3.0,4.0,2.0,4.0,4.0,6.0,1.0,1.0,1.0,2.0,1.0,5.0,0.0,2.0,2.0,1.0,6.0,6.0,5.999999999999999,3.0,3.0,5.0,4.0,3.0,4.0,5.0,6.0,3.0,5.0,2.0,2.0,2.0,2.9999999999999996,6.0,2.0,4.0,4.0,6.0,5.0,5.0,5.0,5.0,5.0,5.0,3.0,1.0,5.0,2.0,2.9999999999999996,6.0,6.0,6.000000000000001,5.0,2.0,1.0,5.0,4.0,3.0,3.0,5.0,5.0,6.0,6.0,6.000000000000001,6.0,6.0,6.0,2.0,1.0,2.0,0.0,2.0,1.0,3.0,3.0,3.0,1.0,0.0,5.000000000000001,6.0,5.0,6.0,2.0,3.0,3.0,3.0,4.0,3.0,5.0,6.0,4.0,4.0,3.0,3.0,5.0,3.0,1.0,6.0,6.0,4.0,5.000000000000001,2.0,3.0,6.0,5.0,4.0,4.0,2.0,2.0,2.0,5.0,6.0,5.0,2.0,4.0,3.0,5.0,6.0,1.0,2.0,3.0,4.0,5.0,6.0,2.0,3.0,4.0,5.0,6.0,2.0,2.9999999999999996,5.0,2.0,3.0,2.0,3.0,4.0,5.0,1.0,2.0,3.0,4.0,5.0,6.0,1.0,2.0,3.0000000000000004,4.0,5.0,0.0,1.0,2.0,3.0,4.0,2.0,3.0,4.0,5.0,6.0,2.0,3.0000000000000004,4.0,5.0,6.0,1.0,2.0,3.0,0.0,1.0,2.0,2.9999999999999996,4.0,5.0,5.999999999999999,2.463816023642665]},\"name\":\"\",\"parents\":[\"Biotypfl\\u00e4chen 2020 nach bewerteter \\u00f6kologischer Qualit\\u00e4t, Lebensraumkategorie und Biotoptypenschl\\u00fcssel Typ 3/2/\\u00c4cker, Gartenbaufl\\u00e4chen, Tiergehege\",\"Biotypfl\\u00e4chen 2020 nach bewerteter \\u00f6kologischer Qualit\\u00e4t, Lebensraumkategorie und Biotoptypenschl\\u00fcssel Typ 3/3/Wiesen und Rasen\",\"Biotypfl\\u00e4chen 2020 nach bewerteter \\u00f6kologischer Qualit\\u00e4t, Lebensraumkategorie und Biotoptypenschl\\u00fcssel Typ 3/4/Geh\\u00f6lze, Hecken und Geb\\u00fcsche\",\"Biotypfl\\u00e4chen 2020 nach bewerteter \\u00f6kologischer Qualit\\u00e4t, Lebensraumkategorie und Biotoptypenschl\\u00fcssel Typ 3/5/Gr\\u00fcnanlagen\",\"Biotypfl\\u00e4chen 2020 nach bewerteter \\u00f6kologischer Qualit\\u00e4t, Lebensraumkategorie und Biotoptypenschl\\u00fcssel Typ 3/5/Wald\",\"Biotypfl\\u00e4chen 2020 nach bewerteter \\u00f6kologischer Qualit\\u00e4t, Lebensraumkategorie und Biotoptypenschl\\u00fcssel Typ 3/4/Wiesen und Rasen\",\"Biotypfl\\u00e4chen 2020 nach bewerteter \\u00f6kologischer Qualit\\u00e4t, Lebensraumkategorie und Biotoptypenschl\\u00fcssel Typ 3/1/Ueberwiegend bebaute Fl\\u00e4chen\",\"Biotypfl\\u00e4chen 2020 nach bewerteter \\u00f6kologischer Qualit\\u00e4t, Lebensraumkategorie und Biotoptypenschl\\u00fcssel Typ 3/2/Ruderalfluren\",\"Biotypfl\\u00e4chen 2020 nach bewerteter \\u00f6kologischer Qualit\\u00e4t, Lebensraumkategorie und Biotoptypenschl\\u00fcssel Typ 3/2/Ueberwiegend bebaute Fl\\u00e4chen\",\"Biotypfl\\u00e4chen 2020 nach bewerteter \\u00f6kologischer Qualit\\u00e4t, Lebensraumkategorie und Biotoptypenschl\\u00fcssel Typ 3/2/Wiesen und Rasen\",\"Biotypfl\\u00e4chen 2020 nach bewerteter \\u00f6kologischer Qualit\\u00e4t, Lebensraumkategorie und Biotoptypenschl\\u00fcssel Typ 3/2/G\\u00e4rten\",\"Biotypfl\\u00e4chen 2020 nach bewerteter \\u00f6kologischer Qualit\\u00e4t, Lebensraumkategorie und Biotoptypenschl\\u00fcssel Typ 3/3/Wiesen und Rasen\",\"Biotypfl\\u00e4chen 2020 nach bewerteter \\u00f6kologischer Qualit\\u00e4t, Lebensraumkategorie und Biotoptypenschl\\u00fcssel Typ 3/3/Ueberwiegend bebaute Fl\\u00e4chen\",\"Biotypfl\\u00e4chen 2020 nach bewerteter \\u00f6kologischer Qualit\\u00e4t, Lebensraumkategorie und Biotoptypenschl\\u00fcssel Typ 3/4/G\\u00e4rten\",\"Biotypfl\\u00e4chen 2020 nach bewerteter \\u00f6kologischer Qualit\\u00e4t, Lebensraumkategorie und Biotoptypenschl\\u00fcssel Typ 3/3/Wiesen und Rasen\",\"Biotypfl\\u00e4chen 2020 nach bewerteter \\u00f6kologischer Qualit\\u00e4t, Lebensraumkategorie und Biotoptypenschl\\u00fcssel Typ 3/4/G\\u00e4rten\",\"Biotypfl\\u00e4chen 2020 nach bewerteter \\u00f6kologischer Qualit\\u00e4t, Lebensraumkategorie und Biotoptypenschl\\u00fcssel Typ 3/5/Geh\\u00f6lze, Hecken und Geb\\u00fcsche\",\"Biotypfl\\u00e4chen 2020 nach bewerteter \\u00f6kologischer Qualit\\u00e4t, Lebensraumkategorie und Biotoptypenschl\\u00fcssel Typ 3/3/Geh\\u00f6lze, Hecken und Geb\\u00fcsche\",\"Biotypfl\\u00e4chen 2020 nach bewerteter \\u00f6kologischer Qualit\\u00e4t, Lebensraumkategorie und Biotoptypenschl\\u00fcssel Typ 3/3/Geh\\u00f6lze, Hecken und Geb\\u00fcsche\",\"Biotypfl\\u00e4chen 2020 nach bewerteter \\u00f6kologischer Qualit\\u00e4t, Lebensraumkategorie und Biotoptypenschl\\u00fcssel Typ 3/4/Geh\\u00f6lze, Hecken und Geb\\u00fcsche\",\"Biotypfl\\u00e4chen 2020 nach bewerteter \\u00f6kologischer Qualit\\u00e4t, Lebensraumkategorie und Biotoptypenschl\\u00fcssel Typ 3/2/Geh\\u00f6lze, Hecken und Geb\\u00fcsche\",\"Biotypfl\\u00e4chen 2020 nach bewerteter \\u00f6kologischer Qualit\\u00e4t, Lebensraumkategorie und Biotoptypenschl\\u00fcssel Typ 3/2/Geh\\u00f6lze, Hecken und Geb\\u00fcsche\",\"Biotypfl\\u00e4chen 2020 nach bewerteter \\u00f6kologischer Qualit\\u00e4t, Lebensraumkategorie und Biotoptypenschl\\u00fcssel Typ 3/3/Geh\\u00f6lze, Hecken und Geb\\u00fcsche\",\"Biotypfl\\u00e4chen 2020 nach bewerteter \\u00f6kologischer Qualit\\u00e4t, Lebensraumkategorie und Biotoptypenschl\\u00fcssel Typ 3/1/Geh\\u00f6lze, Hecken und Geb\\u00fcsche\",\"Biotypfl\\u00e4chen 2020 nach bewerteter \\u00f6kologischer Qualit\\u00e4t, Lebensraumkategorie und Biotoptypenschl\\u00fcssel Typ 3/5/Geh\\u00f6lze, Hecken und Geb\\u00fcsche\",\"Biotypfl\\u00e4chen 2020 nach bewerteter \\u00f6kologischer Qualit\\u00e4t, Lebensraumkategorie und Biotoptypenschl\\u00fcssel Typ 3/2/Geh\\u00f6lze, Hecken und Geb\\u00fcsche\",\"Biotypfl\\u00e4chen 2020 nach bewerteter \\u00f6kologischer Qualit\\u00e4t, Lebensraumkategorie und Biotoptypenschl\\u00fcssel Typ 3/2/\\u00c4cker, Gartenbaufl\\u00e4chen, Tiergehege\",\"Biotypfl\\u00e4chen 2020 nach bewerteter \\u00f6kologischer Qualit\\u00e4t, Lebensraumkategorie und Biotoptypenschl\\u00fcssel Typ 3/0/Ueberwiegend bebaute Fl\\u00e4chen\",\"Biotypfl\\u00e4chen 2020 nach bewerteter \\u00f6kologischer Qualit\\u00e4t, Lebensraumkategorie und Biotoptypenschl\\u00fcssel Typ 3/2/\\u00c4cker, Gartenbaufl\\u00e4chen, Tiergehege\",\"Biotypfl\\u00e4chen 2020 nach bewerteter \\u00f6kologischer Qualit\\u00e4t, Lebensraumkategorie und Biotoptypenschl\\u00fcssel Typ 3/2/Beete und Rabatten\",\"Biotypfl\\u00e4chen 2020 nach bewerteter \\u00f6kologischer Qualit\\u00e4t, Lebensraumkategorie und Biotoptypenschl\\u00fcssel Typ 3/5/Feuchtgebiete\",\"Biotypfl\\u00e4chen 2020 nach bewerteter \\u00f6kologischer Qualit\\u00e4t, Lebensraumkategorie und Biotoptypenschl\\u00fcssel Typ 3/0/Ueberwiegend bebaute Fl\\u00e4chen\",\"Biotypfl\\u00e4chen 2020 nach bewerteter \\u00f6kologischer Qualit\\u00e4t, Lebensraumkategorie und Biotoptypenschl\\u00fcssel Typ 3/2/\\u00c4cker, Gartenbaufl\\u00e4chen, Tiergehege\",\"Biotypfl\\u00e4chen 2020 nach bewerteter \\u00f6kologischer Qualit\\u00e4t, Lebensraumkategorie und Biotoptypenschl\\u00fcssel Typ 3/3/Geh\\u00f6lze, Hecken und Geb\\u00fcsche\",\"Biotypfl\\u00e4chen 2020 nach bewerteter \\u00f6kologischer Qualit\\u00e4t, Lebensraumkategorie und Biotoptypenschl\\u00fcssel Typ 3/6/Feuchtgebiete\",\"Biotypfl\\u00e4chen 2020 nach bewerteter \\u00f6kologischer Qualit\\u00e4t, Lebensraumkategorie und Biotoptypenschl\\u00fcssel Typ 3/3/\\u00c4cker, Gartenbaufl\\u00e4chen, Tiergehege\",\"Biotypfl\\u00e4chen 2020 nach bewerteter \\u00f6kologischer Qualit\\u00e4t, Lebensraumkategorie und Biotoptypenschl\\u00fcssel Typ 3/4/Geh\\u00f6lze, Hecken und Geb\\u00fcsche\",\"Biotypfl\\u00e4chen 2020 nach bewerteter \\u00f6kologischer Qualit\\u00e4t, Lebensraumkategorie und Biotoptypenschl\\u00fcssel Typ 3/2/Wiesen und Rasen\",\"Biotypfl\\u00e4chen 2020 nach bewerteter \\u00f6kologischer Qualit\\u00e4t, Lebensraumkategorie und Biotoptypenschl\\u00fcssel Typ 3/4/Wiesen und Rasen\",\"Biotypfl\\u00e4chen 2020 nach bewerteter \\u00f6kologischer Qualit\\u00e4t, Lebensraumkategorie und Biotoptypenschl\\u00fcssel Typ 3/4/Gew\\u00e4sser\",\"Biotypfl\\u00e4chen 2020 nach bewerteter \\u00f6kologischer Qualit\\u00e4t, Lebensraumkategorie und Biotoptypenschl\\u00fcssel Typ 3/6/Gew\\u00e4sser\",\"Biotypfl\\u00e4chen 2020 nach bewerteter \\u00f6kologischer Qualit\\u00e4t, Lebensraumkategorie und Biotoptypenschl\\u00fcssel Typ 3/1/Kies- und Schotterfl\\u00e4chen\",\"Biotypfl\\u00e4chen 2020 nach bewerteter \\u00f6kologischer Qualit\\u00e4t, Lebensraumkategorie und Biotoptypenschl\\u00fcssel Typ 3/1/Ueberwiegend bebaute Fl\\u00e4chen\",\"Biotypfl\\u00e4chen 2020 nach bewerteter \\u00f6kologischer Qualit\\u00e4t, Lebensraumkategorie und Biotoptypenschl\\u00fcssel Typ 3/1/Ueberwiegend bebaute Fl\\u00e4chen\",\"Biotypfl\\u00e4chen 2020 nach bewerteter \\u00f6kologischer Qualit\\u00e4t, Lebensraumkategorie und Biotoptypenschl\\u00fcssel Typ 3/2/Kies- und Schotterfl\\u00e4chen\",\"Biotypfl\\u00e4chen 2020 nach bewerteter \\u00f6kologischer Qualit\\u00e4t, Lebensraumkategorie und Biotoptypenschl\\u00fcssel Typ 3/1/Kies- und Schotterfl\\u00e4chen\",\"Biotypfl\\u00e4chen 2020 nach bewerteter \\u00f6kologischer Qualit\\u00e4t, Lebensraumkategorie und Biotoptypenschl\\u00fcssel Typ 3/5/Wiesen und Rasen\",\"Biotypfl\\u00e4chen 2020 nach bewerteter \\u00f6kologischer Qualit\\u00e4t, Lebensraumkategorie und Biotoptypenschl\\u00fcssel Typ 3/0/Ueberwiegend bebaute Fl\\u00e4chen\",\"Biotypfl\\u00e4chen 2020 nach bewerteter \\u00f6kologischer Qualit\\u00e4t, Lebensraumkategorie und Biotoptypenschl\\u00fcssel Typ 3/2/\\u00c4cker, Gartenbaufl\\u00e4chen, Tiergehege\",\"Biotypfl\\u00e4chen 2020 nach bewerteter \\u00f6kologischer Qualit\\u00e4t, Lebensraumkategorie und Biotoptypenschl\\u00fcssel Typ 3/2/Ueberwiegend bebaute Fl\\u00e4chen\",\"Biotypfl\\u00e4chen 2020 nach bewerteter \\u00f6kologischer Qualit\\u00e4t, Lebensraumkategorie und Biotoptypenschl\\u00fcssel Typ 3/1/Ruderalfluren\",\"Biotypfl\\u00e4chen 2020 nach bewerteter \\u00f6kologischer Qualit\\u00e4t, Lebensraumkategorie und Biotoptypenschl\\u00fcssel Typ 3/6/Feuchtgebiete\",\"Biotypfl\\u00e4chen 2020 nach bewerteter \\u00f6kologischer Qualit\\u00e4t, Lebensraumkategorie und Biotoptypenschl\\u00fcssel Typ 3/6/Feuchtgebiete\",\"Biotypfl\\u00e4chen 2020 nach bewerteter \\u00f6kologischer Qualit\\u00e4t, Lebensraumkategorie und Biotoptypenschl\\u00fcssel Typ 3/6/Feuchtgebiete\",\"Biotypfl\\u00e4chen 2020 nach bewerteter \\u00f6kologischer Qualit\\u00e4t, Lebensraumkategorie und Biotoptypenschl\\u00fcssel Typ 3/3/Ruderalfluren\",\"Biotypfl\\u00e4chen 2020 nach bewerteter \\u00f6kologischer Qualit\\u00e4t, Lebensraumkategorie und Biotoptypenschl\\u00fcssel Typ 3/3/Ruderalfluren\",\"Biotypfl\\u00e4chen 2020 nach bewerteter \\u00f6kologischer Qualit\\u00e4t, Lebensraumkategorie und Biotoptypenschl\\u00fcssel Typ 3/5/Ruderalfluren\",\"Biotypfl\\u00e4chen 2020 nach bewerteter \\u00f6kologischer Qualit\\u00e4t, Lebensraumkategorie und Biotoptypenschl\\u00fcssel Typ 3/4/Ruderalfluren\",\"Biotypfl\\u00e4chen 2020 nach bewerteter \\u00f6kologischer Qualit\\u00e4t, Lebensraumkategorie und Biotoptypenschl\\u00fcssel Typ 3/3/G\\u00e4rten\",\"Biotypfl\\u00e4chen 2020 nach bewerteter \\u00f6kologischer Qualit\\u00e4t, Lebensraumkategorie und Biotoptypenschl\\u00fcssel Typ 3/4/Obstg\\u00e4rten\",\"Biotypfl\\u00e4chen 2020 nach bewerteter \\u00f6kologischer Qualit\\u00e4t, Lebensraumkategorie und Biotoptypenschl\\u00fcssel Typ 3/5/Obstg\\u00e4rten\",\"Biotypfl\\u00e4chen 2020 nach bewerteter \\u00f6kologischer Qualit\\u00e4t, Lebensraumkategorie und Biotoptypenschl\\u00fcssel Typ 3/6/Obstg\\u00e4rten\",\"Biotypfl\\u00e4chen 2020 nach bewerteter \\u00f6kologischer Qualit\\u00e4t, Lebensraumkategorie und Biotoptypenschl\\u00fcssel Typ 3/3/Feuchtgebiete\",\"Biotypfl\\u00e4chen 2020 nach bewerteter \\u00f6kologischer Qualit\\u00e4t, Lebensraumkategorie und Biotoptypenschl\\u00fcssel Typ 3/5/Feuchtgebiete\",\"Biotypfl\\u00e4chen 2020 nach bewerteter \\u00f6kologischer Qualit\\u00e4t, Lebensraumkategorie und Biotoptypenschl\\u00fcssel Typ 3/2/Wald\",\"Biotypfl\\u00e4chen 2020 nach bewerteter \\u00f6kologischer Qualit\\u00e4t, Lebensraumkategorie und Biotoptypenschl\\u00fcssel Typ 3/2/Gr\\u00fcnanlagen\",\"Biotypfl\\u00e4chen 2020 nach bewerteter \\u00f6kologischer Qualit\\u00e4t, Lebensraumkategorie und Biotoptypenschl\\u00fcssel Typ 3/2/Ueberwiegend bebaute Fl\\u00e4chen\",\"Biotypfl\\u00e4chen 2020 nach bewerteter \\u00f6kologischer Qualit\\u00e4t, Lebensraumkategorie und Biotoptypenschl\\u00fcssel Typ 3/3/Wiesen und Rasen\",\"Biotypfl\\u00e4chen 2020 nach bewerteter \\u00f6kologischer Qualit\\u00e4t, Lebensraumkategorie und Biotoptypenschl\\u00fcssel Typ 3/6/Wiesen und Rasen\",\"Biotypfl\\u00e4chen 2020 nach bewerteter \\u00f6kologischer Qualit\\u00e4t, Lebensraumkategorie und Biotoptypenschl\\u00fcssel Typ 3/2/\\u00c4cker, Gartenbaufl\\u00e4chen, Tiergehege\",\"Biotypfl\\u00e4chen 2020 nach bewerteter \\u00f6kologischer Qualit\\u00e4t, Lebensraumkategorie und Biotoptypenschl\\u00fcssel Typ 3/4/Gew\\u00e4sser\",\"Biotypfl\\u00e4chen 2020 nach bewerteter \\u00f6kologischer Qualit\\u00e4t, Lebensraumkategorie und Biotoptypenschl\\u00fcssel Typ 3/4/Gew\\u00e4sser\",\"Biotypfl\\u00e4chen 2020 nach bewerteter \\u00f6kologischer Qualit\\u00e4t, Lebensraumkategorie und Biotoptypenschl\\u00fcssel Typ 3/6/Wiesen und Rasen\",\"Biotypfl\\u00e4chen 2020 nach bewerteter \\u00f6kologischer Qualit\\u00e4t, Lebensraumkategorie und Biotoptypenschl\\u00fcssel Typ 3/5/G\\u00e4rten\",\"Biotypfl\\u00e4chen 2020 nach bewerteter \\u00f6kologischer Qualit\\u00e4t, Lebensraumkategorie und Biotoptypenschl\\u00fcssel Typ 3/5/Gew\\u00e4sser\",\"Biotypfl\\u00e4chen 2020 nach bewerteter \\u00f6kologischer Qualit\\u00e4t, Lebensraumkategorie und Biotoptypenschl\\u00fcssel Typ 3/5/Gew\\u00e4sser\",\"Biotypfl\\u00e4chen 2020 nach bewerteter \\u00f6kologischer Qualit\\u00e4t, Lebensraumkategorie und Biotoptypenschl\\u00fcssel Typ 3/5/Geh\\u00f6lze, Hecken und Geb\\u00fcsche\",\"Biotypfl\\u00e4chen 2020 nach bewerteter \\u00f6kologischer Qualit\\u00e4t, Lebensraumkategorie und Biotoptypenschl\\u00fcssel Typ 3/5/Gew\\u00e4sser\",\"Biotypfl\\u00e4chen 2020 nach bewerteter \\u00f6kologischer Qualit\\u00e4t, Lebensraumkategorie und Biotoptypenschl\\u00fcssel Typ 3/5/Gew\\u00e4sser\",\"Biotypfl\\u00e4chen 2020 nach bewerteter \\u00f6kologischer Qualit\\u00e4t, Lebensraumkategorie und Biotoptypenschl\\u00fcssel Typ 3/3/Mauern\",\"Biotypfl\\u00e4chen 2020 nach bewerteter \\u00f6kologischer Qualit\\u00e4t, Lebensraumkategorie und Biotoptypenschl\\u00fcssel Typ 3/1/Geh\\u00f6lze, Hecken und Geb\\u00fcsche\",\"Biotypfl\\u00e4chen 2020 nach bewerteter \\u00f6kologischer Qualit\\u00e4t, Lebensraumkategorie und Biotoptypenschl\\u00fcssel Typ 3/5/Feuchtgebiete\",\"Biotypfl\\u00e4chen 2020 nach bewerteter \\u00f6kologischer Qualit\\u00e4t, Lebensraumkategorie und Biotoptypenschl\\u00fcssel Typ 3/2/G\\u00e4rten\",\"Biotypfl\\u00e4chen 2020 nach bewerteter \\u00f6kologischer Qualit\\u00e4t, Lebensraumkategorie und Biotoptypenschl\\u00fcssel Typ 3/3/Gr\\u00fcnanlagen\",\"Biotypfl\\u00e4chen 2020 nach bewerteter \\u00f6kologischer Qualit\\u00e4t, Lebensraumkategorie und Biotoptypenschl\\u00fcssel Typ 3/6/Feuchtgebiete\",\"Biotypfl\\u00e4chen 2020 nach bewerteter \\u00f6kologischer Qualit\\u00e4t, Lebensraumkategorie und Biotoptypenschl\\u00fcssel Typ 3/6/Feuchtgebiete\",\"Biotypfl\\u00e4chen 2020 nach bewerteter \\u00f6kologischer Qualit\\u00e4t, Lebensraumkategorie und Biotoptypenschl\\u00fcssel Typ 3/6/Feuchtgebiete\",\"Biotypfl\\u00e4chen 2020 nach bewerteter \\u00f6kologischer Qualit\\u00e4t, Lebensraumkategorie und Biotoptypenschl\\u00fcssel Typ 3/5/Feuchtgebiete\",\"Biotypfl\\u00e4chen 2020 nach bewerteter \\u00f6kologischer Qualit\\u00e4t, Lebensraumkategorie und Biotoptypenschl\\u00fcssel Typ 3/2/\\u00c4cker, Gartenbaufl\\u00e4chen, Tiergehege\",\"Biotypfl\\u00e4chen 2020 nach bewerteter \\u00f6kologischer Qualit\\u00e4t, Lebensraumkategorie und Biotoptypenschl\\u00fcssel Typ 3/1/Ruderalfluren\",\"Biotypfl\\u00e4chen 2020 nach bewerteter \\u00f6kologischer Qualit\\u00e4t, Lebensraumkategorie und Biotoptypenschl\\u00fcssel Typ 3/5/Feuchtgebiete\",\"Biotypfl\\u00e4chen 2020 nach bewerteter \\u00f6kologischer Qualit\\u00e4t, Lebensraumkategorie und Biotoptypenschl\\u00fcssel Typ 3/4/Ueberwiegend bebaute Fl\\u00e4chen\",\"Biotypfl\\u00e4chen 2020 nach bewerteter \\u00f6kologischer Qualit\\u00e4t, Lebensraumkategorie und Biotoptypenschl\\u00fcssel Typ 3/3/Ruderalfluren\",\"Biotypfl\\u00e4chen 2020 nach bewerteter \\u00f6kologischer Qualit\\u00e4t, Lebensraumkategorie und Biotoptypenschl\\u00fcssel Typ 3/3/Ruderalfluren\",\"Biotypfl\\u00e4chen 2020 nach bewerteter \\u00f6kologischer Qualit\\u00e4t, Lebensraumkategorie und Biotoptypenschl\\u00fcssel Typ 3/5/Ruderalfluren\",\"Biotypfl\\u00e4chen 2020 nach bewerteter \\u00f6kologischer Qualit\\u00e4t, Lebensraumkategorie und Biotoptypenschl\\u00fcssel Typ 3/5/Ruderalfluren\",\"Biotypfl\\u00e4chen 2020 nach bewerteter \\u00f6kologischer Qualit\\u00e4t, Lebensraumkategorie und Biotoptypenschl\\u00fcssel Typ 3/6/Gew\\u00e4sser\",\"Biotypfl\\u00e4chen 2020 nach bewerteter \\u00f6kologischer Qualit\\u00e4t, Lebensraumkategorie und Biotoptypenschl\\u00fcssel Typ 3/6/Feuchtgebiete\",\"Biotypfl\\u00e4chen 2020 nach bewerteter \\u00f6kologischer Qualit\\u00e4t, Lebensraumkategorie und Biotoptypenschl\\u00fcssel Typ 3/6/Gew\\u00e4sser\",\"Biotypfl\\u00e4chen 2020 nach bewerteter \\u00f6kologischer Qualit\\u00e4t, Lebensraumkategorie und Biotoptypenschl\\u00fcssel Typ 3/6/Gew\\u00e4sser\",\"Biotypfl\\u00e4chen 2020 nach bewerteter \\u00f6kologischer Qualit\\u00e4t, Lebensraumkategorie und Biotoptypenschl\\u00fcssel Typ 3/6/Gew\\u00e4sser\",\"Biotypfl\\u00e4chen 2020 nach bewerteter \\u00f6kologischer Qualit\\u00e4t, Lebensraumkategorie und Biotoptypenschl\\u00fcssel Typ 3/6/Wald\",\"Biotypfl\\u00e4chen 2020 nach bewerteter \\u00f6kologischer Qualit\\u00e4t, Lebensraumkategorie und Biotoptypenschl\\u00fcssel Typ 3/2/Geh\\u00f6lze, Hecken und Geb\\u00fcsche\",\"Biotypfl\\u00e4chen 2020 nach bewerteter \\u00f6kologischer Qualit\\u00e4t, Lebensraumkategorie und Biotoptypenschl\\u00fcssel Typ 3/1/Ruderalfluren\",\"Biotypfl\\u00e4chen 2020 nach bewerteter \\u00f6kologischer Qualit\\u00e4t, Lebensraumkategorie und Biotoptypenschl\\u00fcssel Typ 3/2/Ueberwiegend bebaute Fl\\u00e4chen\",\"Biotypfl\\u00e4chen 2020 nach bewerteter \\u00f6kologischer Qualit\\u00e4t, Lebensraumkategorie und Biotoptypenschl\\u00fcssel Typ 3/0/Ueberwiegend bebaute Fl\\u00e4chen\",\"Biotypfl\\u00e4chen 2020 nach bewerteter \\u00f6kologischer Qualit\\u00e4t, Lebensraumkategorie und Biotoptypenschl\\u00fcssel Typ 3/2/\\u00c4cker, Gartenbaufl\\u00e4chen, Tiergehege\",\"Biotypfl\\u00e4chen 2020 nach bewerteter \\u00f6kologischer Qualit\\u00e4t, Lebensraumkategorie und Biotoptypenschl\\u00fcssel Typ 3/1/Ueberwiegend bebaute Fl\\u00e4chen\",\"Biotypfl\\u00e4chen 2020 nach bewerteter \\u00f6kologischer Qualit\\u00e4t, Lebensraumkategorie und Biotoptypenschl\\u00fcssel Typ 3/3/Gew\\u00e4sser\",\"Biotypfl\\u00e4chen 2020 nach bewerteter \\u00f6kologischer Qualit\\u00e4t, Lebensraumkategorie und Biotoptypenschl\\u00fcssel Typ 3/3/Gew\\u00e4sser\",\"Biotypfl\\u00e4chen 2020 nach bewerteter \\u00f6kologischer Qualit\\u00e4t, Lebensraumkategorie und Biotoptypenschl\\u00fcssel Typ 3/3/Gew\\u00e4sser\",\"Biotypfl\\u00e4chen 2020 nach bewerteter \\u00f6kologischer Qualit\\u00e4t, Lebensraumkategorie und Biotoptypenschl\\u00fcssel Typ 3/1/Ruderalfluren\",\"Biotypfl\\u00e4chen 2020 nach bewerteter \\u00f6kologischer Qualit\\u00e4t, Lebensraumkategorie und Biotoptypenschl\\u00fcssel Typ 3/0/Ueberwiegend bebaute Fl\\u00e4chen\",\"Biotypfl\\u00e4chen 2020 nach bewerteter \\u00f6kologischer Qualit\\u00e4t, Lebensraumkategorie und Biotoptypenschl\\u00fcssel Typ 3/5/Geh\\u00f6lze, Hecken und Geb\\u00fcsche\",\"Biotypfl\\u00e4chen 2020 nach bewerteter \\u00f6kologischer Qualit\\u00e4t, Lebensraumkategorie und Biotoptypenschl\\u00fcssel Typ 3/6/Geh\\u00f6lze, Hecken und Geb\\u00fcsche\",\"Biotypfl\\u00e4chen 2020 nach bewerteter \\u00f6kologischer Qualit\\u00e4t, Lebensraumkategorie und Biotoptypenschl\\u00fcssel Typ 3/5/Geh\\u00f6lze, Hecken und Geb\\u00fcsche\",\"Biotypfl\\u00e4chen 2020 nach bewerteter \\u00f6kologischer Qualit\\u00e4t, Lebensraumkategorie und Biotoptypenschl\\u00fcssel Typ 3/6/Geh\\u00f6lze, Hecken und Geb\\u00fcsche\",\"Biotypfl\\u00e4chen 2020 nach bewerteter \\u00f6kologischer Qualit\\u00e4t, Lebensraumkategorie und Biotoptypenschl\\u00fcssel Typ 3/2/Gr\\u00fcnanlagen von Mehrfamilienh\\u00e4usern\",\"Biotypfl\\u00e4chen 2020 nach bewerteter \\u00f6kologischer Qualit\\u00e4t, Lebensraumkategorie und Biotoptypenschl\\u00fcssel Typ 3/3/Wiesen und Rasen\",\"Biotypfl\\u00e4chen 2020 nach bewerteter \\u00f6kologischer Qualit\\u00e4t, Lebensraumkategorie und Biotoptypenschl\\u00fcssel Typ 3/3/Geh\\u00f6lze, Hecken und Geb\\u00fcsche\",\"Biotypfl\\u00e4chen 2020 nach bewerteter \\u00f6kologischer Qualit\\u00e4t, Lebensraumkategorie und Biotoptypenschl\\u00fcssel Typ 3/3/Geh\\u00f6lze, Hecken und Geb\\u00fcsche\",\"Biotypfl\\u00e4chen 2020 nach bewerteter \\u00f6kologischer Qualit\\u00e4t, Lebensraumkategorie und Biotoptypenschl\\u00fcssel Typ 3/4/Familieng\\u00e4rten\",\"Biotypfl\\u00e4chen 2020 nach bewerteter \\u00f6kologischer Qualit\\u00e4t, Lebensraumkategorie und Biotoptypenschl\\u00fcssel Typ 3/3/Gr\\u00fcnanlagen von Mehrfamilienh\\u00e4usern\",\"Biotypfl\\u00e4chen 2020 nach bewerteter \\u00f6kologischer Qualit\\u00e4t, Lebensraumkategorie und Biotoptypenschl\\u00fcssel Typ 3/5/Wiesen und Rasen\",\"Biotypfl\\u00e4chen 2020 nach bewerteter \\u00f6kologischer Qualit\\u00e4t, Lebensraumkategorie und Biotoptypenschl\\u00fcssel Typ 3/6/Wiesen und Rasen\",\"Biotypfl\\u00e4chen 2020 nach bewerteter \\u00f6kologischer Qualit\\u00e4t, Lebensraumkategorie und Biotoptypenschl\\u00fcssel Typ 3/4/Geh\\u00f6lze, Hecken und Geb\\u00fcsche\",\"Biotypfl\\u00e4chen 2020 nach bewerteter \\u00f6kologischer Qualit\\u00e4t, Lebensraumkategorie und Biotoptypenschl\\u00fcssel Typ 3/4/Geh\\u00f6lze, Hecken und Geb\\u00fcsche\",\"Biotypfl\\u00e4chen 2020 nach bewerteter \\u00f6kologischer Qualit\\u00e4t, Lebensraumkategorie und Biotoptypenschl\\u00fcssel Typ 3/3/Geh\\u00f6lze, Hecken und Geb\\u00fcsche\",\"Biotypfl\\u00e4chen 2020 nach bewerteter \\u00f6kologischer Qualit\\u00e4t, Lebensraumkategorie und Biotoptypenschl\\u00fcssel Typ 3/3/Wiesen und Rasen\",\"Biotypfl\\u00e4chen 2020 nach bewerteter \\u00f6kologischer Qualit\\u00e4t, Lebensraumkategorie und Biotoptypenschl\\u00fcssel Typ 3/5/Feuchtgebiete\",\"Biotypfl\\u00e4chen 2020 nach bewerteter \\u00f6kologischer Qualit\\u00e4t, Lebensraumkategorie und Biotoptypenschl\\u00fcssel Typ 3/3/\\u00c4cker, Gartenbaufl\\u00e4chen, Tiergehege\",\"Biotypfl\\u00e4chen 2020 nach bewerteter \\u00f6kologischer Qualit\\u00e4t, Lebensraumkategorie und Biotoptypenschl\\u00fcssel Typ 3/1/\\u00c4cker, Gartenbaufl\\u00e4chen, Tiergehege\",\"Biotypfl\\u00e4chen 2020 nach bewerteter \\u00f6kologischer Qualit\\u00e4t, Lebensraumkategorie und Biotoptypenschl\\u00fcssel Typ 3/6/Wald\",\"Biotypfl\\u00e4chen 2020 nach bewerteter \\u00f6kologischer Qualit\\u00e4t, Lebensraumkategorie und Biotoptypenschl\\u00fcssel Typ 3/6/Gew\\u00e4sser\",\"Biotypfl\\u00e4chen 2020 nach bewerteter \\u00f6kologischer Qualit\\u00e4t, Lebensraumkategorie und Biotoptypenschl\\u00fcssel Typ 3/4/Wald\",\"Biotypfl\\u00e4chen 2020 nach bewerteter \\u00f6kologischer Qualit\\u00e4t, Lebensraumkategorie und Biotoptypenschl\\u00fcssel Typ 3/5/Wald\",\"Biotypfl\\u00e4chen 2020 nach bewerteter \\u00f6kologischer Qualit\\u00e4t, Lebensraumkategorie und Biotoptypenschl\\u00fcssel Typ 3/2/Wald\",\"Biotypfl\\u00e4chen 2020 nach bewerteter \\u00f6kologischer Qualit\\u00e4t, Lebensraumkategorie und Biotoptypenschl\\u00fcssel Typ 3/3/Wald\",\"Biotypfl\\u00e4chen 2020 nach bewerteter \\u00f6kologischer Qualit\\u00e4t, Lebensraumkategorie und Biotoptypenschl\\u00fcssel Typ 3/6/Wiesen und Rasen\",\"Biotypfl\\u00e4chen 2020 nach bewerteter \\u00f6kologischer Qualit\\u00e4t, Lebensraumkategorie und Biotoptypenschl\\u00fcssel Typ 3/5/Geh\\u00f6lze, Hecken und Geb\\u00fcsche\",\"Biotypfl\\u00e4chen 2020 nach bewerteter \\u00f6kologischer Qualit\\u00e4t, Lebensraumkategorie und Biotoptypenschl\\u00fcssel Typ 3/4/Ueberwiegend bebaute Fl\\u00e4chen\",\"Biotypfl\\u00e4chen 2020 nach bewerteter \\u00f6kologischer Qualit\\u00e4t, Lebensraumkategorie und Biotoptypenschl\\u00fcssel Typ 3/4/Gew\\u00e4sser\",\"Biotypfl\\u00e4chen 2020 nach bewerteter \\u00f6kologischer Qualit\\u00e4t, Lebensraumkategorie und Biotoptypenschl\\u00fcssel Typ 3/2/Geh\\u00f6lze, Hecken und Geb\\u00fcsche\",\"Biotypfl\\u00e4chen 2020 nach bewerteter \\u00f6kologischer Qualit\\u00e4t, Lebensraumkategorie und Biotoptypenschl\\u00fcssel Typ 3/2/Geh\\u00f6lze, Hecken und Geb\\u00fcsche\",\"Biotypfl\\u00e4chen 2020 nach bewerteter \\u00f6kologischer Qualit\\u00e4t, Lebensraumkategorie und Biotoptypenschl\\u00fcssel Typ 3/2/Gew\\u00e4sser\",\"Biotypfl\\u00e4chen 2020 nach bewerteter \\u00f6kologischer Qualit\\u00e4t, Lebensraumkategorie und Biotoptypenschl\\u00fcssel Typ 3/5/Geh\\u00f6lze, Hecken und Geb\\u00fcsche\",\"Biotypfl\\u00e4chen 2020 nach bewerteter \\u00f6kologischer Qualit\\u00e4t, Lebensraumkategorie und Biotoptypenschl\\u00fcssel Typ 3/6/Wiesen und Rasen\",\"Biotypfl\\u00e4chen 2020 nach bewerteter \\u00f6kologischer Qualit\\u00e4t, Lebensraumkategorie und Biotoptypenschl\\u00fcssel Typ 3/5/Geh\\u00f6lze, Hecken und Geb\\u00fcsche\",\"Biotypfl\\u00e4chen 2020 nach bewerteter \\u00f6kologischer Qualit\\u00e4t, Lebensraumkategorie und Biotoptypenschl\\u00fcssel Typ 3/2\",\"Biotypfl\\u00e4chen 2020 nach bewerteter \\u00f6kologischer Qualit\\u00e4t, Lebensraumkategorie und Biotoptypenschl\\u00fcssel Typ 3/4\",\"Biotypfl\\u00e4chen 2020 nach bewerteter \\u00f6kologischer Qualit\\u00e4t, Lebensraumkategorie und Biotoptypenschl\\u00fcssel Typ 3/3\",\"Biotypfl\\u00e4chen 2020 nach bewerteter \\u00f6kologischer Qualit\\u00e4t, Lebensraumkategorie und Biotoptypenschl\\u00fcssel Typ 3/5\",\"Biotypfl\\u00e4chen 2020 nach bewerteter \\u00f6kologischer Qualit\\u00e4t, Lebensraumkategorie und Biotoptypenschl\\u00fcssel Typ 3/6\",\"Biotypfl\\u00e4chen 2020 nach bewerteter \\u00f6kologischer Qualit\\u00e4t, Lebensraumkategorie und Biotoptypenschl\\u00fcssel Typ 3/1\",\"Biotypfl\\u00e4chen 2020 nach bewerteter \\u00f6kologischer Qualit\\u00e4t, Lebensraumkategorie und Biotoptypenschl\\u00fcssel Typ 3/2\",\"Biotypfl\\u00e4chen 2020 nach bewerteter \\u00f6kologischer Qualit\\u00e4t, Lebensraumkategorie und Biotoptypenschl\\u00fcssel Typ 3/3\",\"Biotypfl\\u00e4chen 2020 nach bewerteter \\u00f6kologischer Qualit\\u00e4t, Lebensraumkategorie und Biotoptypenschl\\u00fcssel Typ 3/4\",\"Biotypfl\\u00e4chen 2020 nach bewerteter \\u00f6kologischer Qualit\\u00e4t, Lebensraumkategorie und Biotoptypenschl\\u00fcssel Typ 3/5\",\"Biotypfl\\u00e4chen 2020 nach bewerteter \\u00f6kologischer Qualit\\u00e4t, Lebensraumkategorie und Biotoptypenschl\\u00fcssel Typ 3/6\",\"Biotypfl\\u00e4chen 2020 nach bewerteter \\u00f6kologischer Qualit\\u00e4t, Lebensraumkategorie und Biotoptypenschl\\u00fcssel Typ 3/2\",\"Biotypfl\\u00e4chen 2020 nach bewerteter \\u00f6kologischer Qualit\\u00e4t, Lebensraumkategorie und Biotoptypenschl\\u00fcssel Typ 3/3\",\"Biotypfl\\u00e4chen 2020 nach bewerteter \\u00f6kologischer Qualit\\u00e4t, Lebensraumkategorie und Biotoptypenschl\\u00fcssel Typ 3/4\",\"Biotypfl\\u00e4chen 2020 nach bewerteter \\u00f6kologischer Qualit\\u00e4t, Lebensraumkategorie und Biotoptypenschl\\u00fcssel Typ 3/5\",\"Biotypfl\\u00e4chen 2020 nach bewerteter \\u00f6kologischer Qualit\\u00e4t, Lebensraumkategorie und Biotoptypenschl\\u00fcssel Typ 3/6\",\"Biotypfl\\u00e4chen 2020 nach bewerteter \\u00f6kologischer Qualit\\u00e4t, Lebensraumkategorie und Biotoptypenschl\\u00fcssel Typ 3/2\",\"Biotypfl\\u00e4chen 2020 nach bewerteter \\u00f6kologischer Qualit\\u00e4t, Lebensraumkategorie und Biotoptypenschl\\u00fcssel Typ 3/3\",\"Biotypfl\\u00e4chen 2020 nach bewerteter \\u00f6kologischer Qualit\\u00e4t, Lebensraumkategorie und Biotoptypenschl\\u00fcssel Typ 3/5\",\"Biotypfl\\u00e4chen 2020 nach bewerteter \\u00f6kologischer Qualit\\u00e4t, Lebensraumkategorie und Biotoptypenschl\\u00fcssel Typ 3/2\",\"Biotypfl\\u00e4chen 2020 nach bewerteter \\u00f6kologischer Qualit\\u00e4t, Lebensraumkategorie und Biotoptypenschl\\u00fcssel Typ 3/3\",\"Biotypfl\\u00e4chen 2020 nach bewerteter \\u00f6kologischer Qualit\\u00e4t, Lebensraumkategorie und Biotoptypenschl\\u00fcssel Typ 3/2\",\"Biotypfl\\u00e4chen 2020 nach bewerteter \\u00f6kologischer Qualit\\u00e4t, Lebensraumkategorie und Biotoptypenschl\\u00fcssel Typ 3/3\",\"Biotypfl\\u00e4chen 2020 nach bewerteter \\u00f6kologischer Qualit\\u00e4t, Lebensraumkategorie und Biotoptypenschl\\u00fcssel Typ 3/4\",\"Biotypfl\\u00e4chen 2020 nach bewerteter \\u00f6kologischer Qualit\\u00e4t, Lebensraumkategorie und Biotoptypenschl\\u00fcssel Typ 3/5\",\"Biotypfl\\u00e4chen 2020 nach bewerteter \\u00f6kologischer Qualit\\u00e4t, Lebensraumkategorie und Biotoptypenschl\\u00fcssel Typ 3/1\",\"Biotypfl\\u00e4chen 2020 nach bewerteter \\u00f6kologischer Qualit\\u00e4t, Lebensraumkategorie und Biotoptypenschl\\u00fcssel Typ 3/2\",\"Biotypfl\\u00e4chen 2020 nach bewerteter \\u00f6kologischer Qualit\\u00e4t, Lebensraumkategorie und Biotoptypenschl\\u00fcssel Typ 3/3\",\"Biotypfl\\u00e4chen 2020 nach bewerteter \\u00f6kologischer Qualit\\u00e4t, Lebensraumkategorie und Biotoptypenschl\\u00fcssel Typ 3/4\",\"Biotypfl\\u00e4chen 2020 nach bewerteter \\u00f6kologischer Qualit\\u00e4t, Lebensraumkategorie und Biotoptypenschl\\u00fcssel Typ 3/5\",\"Biotypfl\\u00e4chen 2020 nach bewerteter \\u00f6kologischer Qualit\\u00e4t, Lebensraumkategorie und Biotoptypenschl\\u00fcssel Typ 3/6\",\"Biotypfl\\u00e4chen 2020 nach bewerteter \\u00f6kologischer Qualit\\u00e4t, Lebensraumkategorie und Biotoptypenschl\\u00fcssel Typ 3/1\",\"Biotypfl\\u00e4chen 2020 nach bewerteter \\u00f6kologischer Qualit\\u00e4t, Lebensraumkategorie und Biotoptypenschl\\u00fcssel Typ 3/2\",\"Biotypfl\\u00e4chen 2020 nach bewerteter \\u00f6kologischer Qualit\\u00e4t, Lebensraumkategorie und Biotoptypenschl\\u00fcssel Typ 3/3\",\"Biotypfl\\u00e4chen 2020 nach bewerteter \\u00f6kologischer Qualit\\u00e4t, Lebensraumkategorie und Biotoptypenschl\\u00fcssel Typ 3/4\",\"Biotypfl\\u00e4chen 2020 nach bewerteter \\u00f6kologischer Qualit\\u00e4t, Lebensraumkategorie und Biotoptypenschl\\u00fcssel Typ 3/5\",\"Biotypfl\\u00e4chen 2020 nach bewerteter \\u00f6kologischer Qualit\\u00e4t, Lebensraumkategorie und Biotoptypenschl\\u00fcssel Typ 3/0\",\"Biotypfl\\u00e4chen 2020 nach bewerteter \\u00f6kologischer Qualit\\u00e4t, Lebensraumkategorie und Biotoptypenschl\\u00fcssel Typ 3/1\",\"Biotypfl\\u00e4chen 2020 nach bewerteter \\u00f6kologischer Qualit\\u00e4t, Lebensraumkategorie und Biotoptypenschl\\u00fcssel Typ 3/2\",\"Biotypfl\\u00e4chen 2020 nach bewerteter \\u00f6kologischer Qualit\\u00e4t, Lebensraumkategorie und Biotoptypenschl\\u00fcssel Typ 3/3\",\"Biotypfl\\u00e4chen 2020 nach bewerteter \\u00f6kologischer Qualit\\u00e4t, Lebensraumkategorie und Biotoptypenschl\\u00fcssel Typ 3/4\",\"Biotypfl\\u00e4chen 2020 nach bewerteter \\u00f6kologischer Qualit\\u00e4t, Lebensraumkategorie und Biotoptypenschl\\u00fcssel Typ 3/2\",\"Biotypfl\\u00e4chen 2020 nach bewerteter \\u00f6kologischer Qualit\\u00e4t, Lebensraumkategorie und Biotoptypenschl\\u00fcssel Typ 3/3\",\"Biotypfl\\u00e4chen 2020 nach bewerteter \\u00f6kologischer Qualit\\u00e4t, Lebensraumkategorie und Biotoptypenschl\\u00fcssel Typ 3/4\",\"Biotypfl\\u00e4chen 2020 nach bewerteter \\u00f6kologischer Qualit\\u00e4t, Lebensraumkategorie und Biotoptypenschl\\u00fcssel Typ 3/5\",\"Biotypfl\\u00e4chen 2020 nach bewerteter \\u00f6kologischer Qualit\\u00e4t, Lebensraumkategorie und Biotoptypenschl\\u00fcssel Typ 3/6\",\"Biotypfl\\u00e4chen 2020 nach bewerteter \\u00f6kologischer Qualit\\u00e4t, Lebensraumkategorie und Biotoptypenschl\\u00fcssel Typ 3/2\",\"Biotypfl\\u00e4chen 2020 nach bewerteter \\u00f6kologischer Qualit\\u00e4t, Lebensraumkategorie und Biotoptypenschl\\u00fcssel Typ 3/3\",\"Biotypfl\\u00e4chen 2020 nach bewerteter \\u00f6kologischer Qualit\\u00e4t, Lebensraumkategorie und Biotoptypenschl\\u00fcssel Typ 3/4\",\"Biotypfl\\u00e4chen 2020 nach bewerteter \\u00f6kologischer Qualit\\u00e4t, Lebensraumkategorie und Biotoptypenschl\\u00fcssel Typ 3/5\",\"Biotypfl\\u00e4chen 2020 nach bewerteter \\u00f6kologischer Qualit\\u00e4t, Lebensraumkategorie und Biotoptypenschl\\u00fcssel Typ 3/6\",\"Biotypfl\\u00e4chen 2020 nach bewerteter \\u00f6kologischer Qualit\\u00e4t, Lebensraumkategorie und Biotoptypenschl\\u00fcssel Typ 3/1\",\"Biotypfl\\u00e4chen 2020 nach bewerteter \\u00f6kologischer Qualit\\u00e4t, Lebensraumkategorie und Biotoptypenschl\\u00fcssel Typ 3/2\",\"Biotypfl\\u00e4chen 2020 nach bewerteter \\u00f6kologischer Qualit\\u00e4t, Lebensraumkategorie und Biotoptypenschl\\u00fcssel Typ 3/3\",\"Biotypfl\\u00e4chen 2020 nach bewerteter \\u00f6kologischer Qualit\\u00e4t, Lebensraumkategorie und Biotoptypenschl\\u00fcssel Typ 3\",\"Biotypfl\\u00e4chen 2020 nach bewerteter \\u00f6kologischer Qualit\\u00e4t, Lebensraumkategorie und Biotoptypenschl\\u00fcssel Typ 3\",\"Biotypfl\\u00e4chen 2020 nach bewerteter \\u00f6kologischer Qualit\\u00e4t, Lebensraumkategorie und Biotoptypenschl\\u00fcssel Typ 3\",\"Biotypfl\\u00e4chen 2020 nach bewerteter \\u00f6kologischer Qualit\\u00e4t, Lebensraumkategorie und Biotoptypenschl\\u00fcssel Typ 3\",\"Biotypfl\\u00e4chen 2020 nach bewerteter \\u00f6kologischer Qualit\\u00e4t, Lebensraumkategorie und Biotoptypenschl\\u00fcssel Typ 3\",\"Biotypfl\\u00e4chen 2020 nach bewerteter \\u00f6kologischer Qualit\\u00e4t, Lebensraumkategorie und Biotoptypenschl\\u00fcssel Typ 3\",\"Biotypfl\\u00e4chen 2020 nach bewerteter \\u00f6kologischer Qualit\\u00e4t, Lebensraumkategorie und Biotoptypenschl\\u00fcssel Typ 3\",\"\"],\"root\":{\"color\":\"grey\"},\"type\":\"treemap\",\"values\":[2813446.551700476,334.3499991642731,6873.346343103778,371571.91547598864,220.4402248766232,1304851.2454321254,242.16611597438242,569247.9527578861,1318.2535206156513,1090505.6633447874,2193633.88441025,385622.64171441185,1388.2192938650912,488429.80136541865,265620.8302921334,69123.9738776447,38650.92904022757,403736.53233765136,159829.59638350748,190727.4074851841,269846.23976828926,140998.85578435825,181912.15458520132,59158.96294193625,94513.01237812685,250001.66292319723,124405.32971426453,54949.26394448965,7327.294524323805,88777.57088741209,17890.45391563421,8164996.99372697,44857.65892645256,16169.521133123571,21347.98372443171,3640.676812635949,8163.304187465388,2820371.0429771333,32076.9603981509,75834.43911898544,4503.217700897957,923458.4135663413,588771.3066388996,1010595.955613605,27560.664474167294,1578023.0092440115,583691.2542488886,9930630.363919077,42479.18798006694,3107.309331304658,6593.311659840511,26846.99117884156,24586.287606289614,22887.51932417301,89193.36536717521,451353.0595539988,184779.9750187551,10091.617873441559,2890565.7907430194,539462.7694293865,172371.19703856827,13103.986580308681,5570.276098159063,65118.237006713854,2742.167528917179,315309.5647496528,529.1431933543388,26517.983956227625,50403.34163895831,23344.891483851417,33690.41863526298,363293.4529967553,352910.69577351114,91728.85662336108,96467.90029750466,126818.067538546,53644.200665900586,37273.28974560195,168326.95236940234,3254.2653870818085,14068.78492529858,9297.359926138752,19802.179468659677,453041.202578402,1034.5109915917774,30814.396913349283,3229.1712348563424,121.50956944851139,96577.15014311217,325.32378550419827,12182.396713862427,1264.8473029230227,63205.12055369359,36670.22662847536,159109.51795258478,33973.095913702025,491.17511779627085,38796.58981692612,27501.450802931715,15437.835226656643,308.9978408550244,3402.6948706309145,21846.649248315334,3852.097230767955,120950.98939509856,94453.88559192563,117666.06504922677,482633.58544248407,3397216.945910547,35006.30649006192,186232.68855786187,4597.463633836908,506458.8591435618,118974.49476260593,4927.361186369983,99600.13173119299,26159.134200301243,4631274.275034228,162344.15704512526,173408.83399810147,122285.34955319953,1571613.8570536468,3714592.6198853157,33804.47699788806,3733.214314279605,918914.5857147012,451042.9664787677,7540.335508777553,645.3656440788006,528.5378966695422,40680.8836154732,16412.479561125954,111.87213679781716,549397.8679145633,21385589.492562693,3619.006069589521,145.2848394836369,9268.697501295248,34077.24528513236,38096.11336509397,363.0047470368304,8660.245137549795,61722.878463897294,113591.48493441263,65253.465106282776,1924.0868211776692,30180.694287956892,13691.457203071946,88777.57088741209,1571613.8570536468,5570.276098159063,105138.4950284673,169543.4507904594,73227.74786723484,858007.77112247,1064882.3234995622,1575721.6102092222,459094.4259673975,31086.495386671228,65253.465106282776,3618455.9409584706,481478.5558885535,428886.20995105495,597640.5446037009,315309.5647496528,453041.202578402,371571.91547598864,4631274.275034228,3714592.6198853157,2213436.0638789097,2890565.7907430194,557553.7752430633,91728.85662336108,2501481.422810353,27560.664474167294,3254.2653870818085,539462.7694293865,172371.19703856827,13103.986580308681,15368.196309949573,569247.9527578861,640421.7721033429,10091.617873441559,377862.5888850419,18751489.366326023,2082243.013810963,125905.69544037321,1388.2192938650912,1627.852049959853,2887.452368400816,9268.697501295248,21385589.492562693,3839.446294466144,3514.567007428732,3910876.7063219207,841085.3286511411,1336928.2058302762,617495.7312467766,471305.1912998383,16412.479561125954,3270104.129521774,44321.560428109144,18751489.366326023,4688732.860359626,16078641.311663479,13286847.997127764,27460067.736140244,2627988.8665111223,1286194.2356684073,84179962.37379667]}],                        {\"coloraxis\":{\"colorbar\":{\"title\":{\"text\":\"biotoptypenqualitaet\"}},\"colorscale\":[[0.0,\"rgb(247,252,245)\"],[0.125,\"rgb(229,245,224)\"],[0.25,\"rgb(199,233,192)\"],[0.375,\"rgb(161,217,155)\"],[0.5,\"rgb(116,196,118)\"],[0.625,\"rgb(65,171,93)\"],[0.75,\"rgb(35,139,69)\"],[0.875,\"rgb(0,109,44)\"],[1.0,\"rgb(0,68,27)\"]]},\"height\":500,\"legend\":{\"tracegroupgap\":0},\"margin\":{\"b\":25,\"l\":25,\"r\":250,\"t\":50},\"template\":{\"data\":{\"bar\":[{\"error_x\":{\"color\":\"#2a3f5f\"},\"error_y\":{\"color\":\"#2a3f5f\"},\"marker\":{\"line\":{\"color\":\"#E5ECF6\",\"width\":0.5},\"pattern\":{\"fillmode\":\"overlay\",\"size\":10,\"solidity\":0.2}},\"type\":\"bar\"}],\"barpolar\":[{\"marker\":{\"line\":{\"color\":\"#E5ECF6\",\"width\":0.5},\"pattern\":{\"fillmode\":\"overlay\",\"size\":10,\"solidity\":0.2}},\"type\":\"barpolar\"}],\"carpet\":[{\"aaxis\":{\"endlinecolor\":\"#2a3f5f\",\"gridcolor\":\"white\",\"linecolor\":\"white\",\"minorgridcolor\":\"white\",\"startlinecolor\":\"#2a3f5f\"},\"baxis\":{\"endlinecolor\":\"#2a3f5f\",\"gridcolor\":\"white\",\"linecolor\":\"white\",\"minorgridcolor\":\"white\",\"startlinecolor\":\"#2a3f5f\"},\"type\":\"carpet\"}],\"choropleth\":[{\"colorbar\":{\"outlinewidth\":0,\"ticks\":\"\"},\"type\":\"choropleth\"}],\"contour\":[{\"colorbar\":{\"outlinewidth\":0,\"ticks\":\"\"},\"colorscale\":[[0.0,\"#0d0887\"],[0.1111111111111111,\"#46039f\"],[0.2222222222222222,\"#7201a8\"],[0.3333333333333333,\"#9c179e\"],[0.4444444444444444,\"#bd3786\"],[0.5555555555555556,\"#d8576b\"],[0.6666666666666666,\"#ed7953\"],[0.7777777777777778,\"#fb9f3a\"],[0.8888888888888888,\"#fdca26\"],[1.0,\"#f0f921\"]],\"type\":\"contour\"}],\"contourcarpet\":[{\"colorbar\":{\"outlinewidth\":0,\"ticks\":\"\"},\"type\":\"contourcarpet\"}],\"heatmap\":[{\"colorbar\":{\"outlinewidth\":0,\"ticks\":\"\"},\"colorscale\":[[0.0,\"#0d0887\"],[0.1111111111111111,\"#46039f\"],[0.2222222222222222,\"#7201a8\"],[0.3333333333333333,\"#9c179e\"],[0.4444444444444444,\"#bd3786\"],[0.5555555555555556,\"#d8576b\"],[0.6666666666666666,\"#ed7953\"],[0.7777777777777778,\"#fb9f3a\"],[0.8888888888888888,\"#fdca26\"],[1.0,\"#f0f921\"]],\"type\":\"heatmap\"}],\"heatmapgl\":[{\"colorbar\":{\"outlinewidth\":0,\"ticks\":\"\"},\"colorscale\":[[0.0,\"#0d0887\"],[0.1111111111111111,\"#46039f\"],[0.2222222222222222,\"#7201a8\"],[0.3333333333333333,\"#9c179e\"],[0.4444444444444444,\"#bd3786\"],[0.5555555555555556,\"#d8576b\"],[0.6666666666666666,\"#ed7953\"],[0.7777777777777778,\"#fb9f3a\"],[0.8888888888888888,\"#fdca26\"],[1.0,\"#f0f921\"]],\"type\":\"heatmapgl\"}],\"histogram\":[{\"marker\":{\"pattern\":{\"fillmode\":\"overlay\",\"size\":10,\"solidity\":0.2}},\"type\":\"histogram\"}],\"histogram2d\":[{\"colorbar\":{\"outlinewidth\":0,\"ticks\":\"\"},\"colorscale\":[[0.0,\"#0d0887\"],[0.1111111111111111,\"#46039f\"],[0.2222222222222222,\"#7201a8\"],[0.3333333333333333,\"#9c179e\"],[0.4444444444444444,\"#bd3786\"],[0.5555555555555556,\"#d8576b\"],[0.6666666666666666,\"#ed7953\"],[0.7777777777777778,\"#fb9f3a\"],[0.8888888888888888,\"#fdca26\"],[1.0,\"#f0f921\"]],\"type\":\"histogram2d\"}],\"histogram2dcontour\":[{\"colorbar\":{\"outlinewidth\":0,\"ticks\":\"\"},\"colorscale\":[[0.0,\"#0d0887\"],[0.1111111111111111,\"#46039f\"],[0.2222222222222222,\"#7201a8\"],[0.3333333333333333,\"#9c179e\"],[0.4444444444444444,\"#bd3786\"],[0.5555555555555556,\"#d8576b\"],[0.6666666666666666,\"#ed7953\"],[0.7777777777777778,\"#fb9f3a\"],[0.8888888888888888,\"#fdca26\"],[1.0,\"#f0f921\"]],\"type\":\"histogram2dcontour\"}],\"mesh3d\":[{\"colorbar\":{\"outlinewidth\":0,\"ticks\":\"\"},\"type\":\"mesh3d\"}],\"parcoords\":[{\"line\":{\"colorbar\":{\"outlinewidth\":0,\"ticks\":\"\"}},\"type\":\"parcoords\"}],\"pie\":[{\"automargin\":true,\"type\":\"pie\"}],\"scatter\":[{\"marker\":{\"colorbar\":{\"outlinewidth\":0,\"ticks\":\"\"}},\"type\":\"scatter\"}],\"scatter3d\":[{\"line\":{\"colorbar\":{\"outlinewidth\":0,\"ticks\":\"\"}},\"marker\":{\"colorbar\":{\"outlinewidth\":0,\"ticks\":\"\"}},\"type\":\"scatter3d\"}],\"scattercarpet\":[{\"marker\":{\"colorbar\":{\"outlinewidth\":0,\"ticks\":\"\"}},\"type\":\"scattercarpet\"}],\"scattergeo\":[{\"marker\":{\"colorbar\":{\"outlinewidth\":0,\"ticks\":\"\"}},\"type\":\"scattergeo\"}],\"scattergl\":[{\"marker\":{\"colorbar\":{\"outlinewidth\":0,\"ticks\":\"\"}},\"type\":\"scattergl\"}],\"scattermapbox\":[{\"marker\":{\"colorbar\":{\"outlinewidth\":0,\"ticks\":\"\"}},\"type\":\"scattermapbox\"}],\"scatterpolar\":[{\"marker\":{\"colorbar\":{\"outlinewidth\":0,\"ticks\":\"\"}},\"type\":\"scatterpolar\"}],\"scatterpolargl\":[{\"marker\":{\"colorbar\":{\"outlinewidth\":0,\"ticks\":\"\"}},\"type\":\"scatterpolargl\"}],\"scatterternary\":[{\"marker\":{\"colorbar\":{\"outlinewidth\":0,\"ticks\":\"\"}},\"type\":\"scatterternary\"}],\"surface\":[{\"colorbar\":{\"outlinewidth\":0,\"ticks\":\"\"},\"colorscale\":[[0.0,\"#0d0887\"],[0.1111111111111111,\"#46039f\"],[0.2222222222222222,\"#7201a8\"],[0.3333333333333333,\"#9c179e\"],[0.4444444444444444,\"#bd3786\"],[0.5555555555555556,\"#d8576b\"],[0.6666666666666666,\"#ed7953\"],[0.7777777777777778,\"#fb9f3a\"],[0.8888888888888888,\"#fdca26\"],[1.0,\"#f0f921\"]],\"type\":\"surface\"}],\"table\":[{\"cells\":{\"fill\":{\"color\":\"#EBF0F8\"},\"line\":{\"color\":\"white\"}},\"header\":{\"fill\":{\"color\":\"#C8D4E3\"},\"line\":{\"color\":\"white\"}},\"type\":\"table\"}]},\"layout\":{\"annotationdefaults\":{\"arrowcolor\":\"#2a3f5f\",\"arrowhead\":0,\"arrowwidth\":1},\"autotypenumbers\":\"strict\",\"coloraxis\":{\"colorbar\":{\"outlinewidth\":0,\"ticks\":\"\"}},\"colorscale\":{\"diverging\":[[0,\"#8e0152\"],[0.1,\"#c51b7d\"],[0.2,\"#de77ae\"],[0.3,\"#f1b6da\"],[0.4,\"#fde0ef\"],[0.5,\"#f7f7f7\"],[0.6,\"#e6f5d0\"],[0.7,\"#b8e186\"],[0.8,\"#7fbc41\"],[0.9,\"#4d9221\"],[1,\"#276419\"]],\"sequential\":[[0.0,\"#0d0887\"],[0.1111111111111111,\"#46039f\"],[0.2222222222222222,\"#7201a8\"],[0.3333333333333333,\"#9c179e\"],[0.4444444444444444,\"#bd3786\"],[0.5555555555555556,\"#d8576b\"],[0.6666666666666666,\"#ed7953\"],[0.7777777777777778,\"#fb9f3a\"],[0.8888888888888888,\"#fdca26\"],[1.0,\"#f0f921\"]],\"sequentialminus\":[[0.0,\"#0d0887\"],[0.1111111111111111,\"#46039f\"],[0.2222222222222222,\"#7201a8\"],[0.3333333333333333,\"#9c179e\"],[0.4444444444444444,\"#bd3786\"],[0.5555555555555556,\"#d8576b\"],[0.6666666666666666,\"#ed7953\"],[0.7777777777777778,\"#fb9f3a\"],[0.8888888888888888,\"#fdca26\"],[1.0,\"#f0f921\"]]},\"colorway\":[\"#636efa\",\"#EF553B\",\"#00cc96\",\"#ab63fa\",\"#FFA15A\",\"#19d3f3\",\"#FF6692\",\"#B6E880\",\"#FF97FF\",\"#FECB52\"],\"font\":{\"color\":\"#2a3f5f\"},\"geo\":{\"bgcolor\":\"white\",\"lakecolor\":\"white\",\"landcolor\":\"#E5ECF6\",\"showlakes\":true,\"showland\":true,\"subunitcolor\":\"white\"},\"hoverlabel\":{\"align\":\"left\"},\"hovermode\":\"closest\",\"mapbox\":{\"style\":\"light\"},\"paper_bgcolor\":\"white\",\"plot_bgcolor\":\"#E5ECF6\",\"polar\":{\"angularaxis\":{\"gridcolor\":\"white\",\"linecolor\":\"white\",\"ticks\":\"\"},\"bgcolor\":\"#E5ECF6\",\"radialaxis\":{\"gridcolor\":\"white\",\"linecolor\":\"white\",\"ticks\":\"\"}},\"scene\":{\"xaxis\":{\"backgroundcolor\":\"#E5ECF6\",\"gridcolor\":\"white\",\"gridwidth\":2,\"linecolor\":\"white\",\"showbackground\":true,\"ticks\":\"\",\"zerolinecolor\":\"white\"},\"yaxis\":{\"backgroundcolor\":\"#E5ECF6\",\"gridcolor\":\"white\",\"gridwidth\":2,\"linecolor\":\"white\",\"showbackground\":true,\"ticks\":\"\",\"zerolinecolor\":\"white\"},\"zaxis\":{\"backgroundcolor\":\"#E5ECF6\",\"gridcolor\":\"white\",\"gridwidth\":2,\"linecolor\":\"white\",\"showbackground\":true,\"ticks\":\"\",\"zerolinecolor\":\"white\"}},\"shapedefaults\":{\"line\":{\"color\":\"#2a3f5f\"}},\"ternary\":{\"aaxis\":{\"gridcolor\":\"white\",\"linecolor\":\"white\",\"ticks\":\"\"},\"baxis\":{\"gridcolor\":\"white\",\"linecolor\":\"white\",\"ticks\":\"\"},\"bgcolor\":\"#E5ECF6\",\"caxis\":{\"gridcolor\":\"white\",\"linecolor\":\"white\",\"ticks\":\"\"}},\"title\":{\"x\":0.05},\"xaxis\":{\"automargin\":true,\"gridcolor\":\"white\",\"linecolor\":\"white\",\"ticks\":\"\",\"title\":{\"standoff\":15},\"zerolinecolor\":\"white\",\"zerolinewidth\":2},\"yaxis\":{\"automargin\":true,\"gridcolor\":\"white\",\"linecolor\":\"white\",\"ticks\":\"\",\"title\":{\"standoff\":15},\"zerolinecolor\":\"white\",\"zerolinewidth\":2}}},\"width\":1300},                        {\"responsive\": true}                    ).then(function(){\n",
       "                            \n",
       "var gd = document.getElementById('9791a2f8-633f-4e9a-af27-66eeb9d3c7db');\n",
       "var x = new MutationObserver(function (mutations, observer) {{\n",
       "        var display = window.getComputedStyle(gd).display;\n",
       "        if (!display || display === 'none') {{\n",
       "            console.log([gd, 'removed!']);\n",
       "            Plotly.purge(gd);\n",
       "            observer.disconnect();\n",
       "        }}\n",
       "}});\n",
       "\n",
       "// Listen for the removal of the full notebook cells\n",
       "var notebookContainer = gd.closest('#notebook-container');\n",
       "if (notebookContainer) {{\n",
       "    x.observe(notebookContainer, {childList: true});\n",
       "}}\n",
       "\n",
       "// Listen for the clearing of the current output cell\n",
       "var outputEl = gd.closest('.output');\n",
       "if (outputEl) {{\n",
       "    x.observe(outputEl, {childList: true});\n",
       "}}\n",
       "\n",
       "                        })                };                });            </script>        </div>"
      ]
     },
     "metadata": {},
     "output_type": "display_data"
    }
   ],
   "source": [
    "fig = px.treemap(myTreemapAgg.reset_index(), path=[px.Constant(\"Biotypflächen 2020 nach bewerteter ökologischer Qualität, Lebensraumkategorie und Biotoptypenschlüssel Typ 3\"),'biotoptypenqualitaet','legende_lebensraeume', 'lrtyp3text']\n",
    "                 , values='sum_Flaeche'\n",
    "                 , color='biotoptypenqualitaet'\n",
    "                , color_continuous_scale='Greens'\n",
    "                 ,height=500\n",
    "                 ,width=1300                 \n",
    "                )\n",
    "fig.update_traces(root_color=\"grey\")\n",
    "fig.update_layout(margin = dict(t=50, l=25, r=250, b=25))\n",
    "fig.show()"
   ]
  },
  {
   "cell_type": "code",
   "execution_count": null,
   "id": "daaa07bc-88e0-4190-9eef-90417eccc41d",
   "metadata": {},
   "outputs": [],
   "source": []
  },
  {
   "cell_type": "code",
   "execution_count": null,
   "id": "f59d0b81-c999-4fff-b8bc-2eb0134fb4cb",
   "metadata": {},
   "outputs": [],
   "source": []
  },
  {
   "cell_type": "code",
   "execution_count": null,
   "id": "770fbdf9-7a19-442b-8cfc-901716084f20",
   "metadata": {},
   "outputs": [],
   "source": []
  }
 ],
 "metadata": {
  "kernelspec": {
   "display_name": "Python 3 (ipykernel)",
   "language": "python",
   "name": "python3"
  },
  "language_info": {
   "codemirror_mode": {
    "name": "ipython",
    "version": 3
   },
   "file_extension": ".py",
   "mimetype": "text/x-python",
   "name": "python",
   "nbconvert_exporter": "python",
   "pygments_lexer": "ipython3",
   "version": "3.9.7"
  }
 },
 "nbformat": 4,
 "nbformat_minor": 5
}
