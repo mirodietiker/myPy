{
 "cells": [
  {
   "cell_type": "markdown",
   "id": "f9713e74",
   "metadata": {
    "tags": []
   },
   "source": [
    "# Fläche der Feuchtgebiete aus der Biotopkartierung der Stadt Zürich \n",
    "Datum: 7.1.2022\n",
    "\n",
    "Im Rahmen der Zahl der Woche suchen wir im Rahmen des [**«Welttags der Feuchtgebiete»**](https://commons.wikimedia.org/wiki/Category:World_Wetlands_Day?uselang=de) vom 2. Februar die Fläche der Feuchtgebiete in der Stadt Zürich.\n",
    "\n",
    "Dazu wollen wir die frei verfügbaren Geodaten «[Biotopkartierung 2020](https://www.stadt-zuerich.ch/geodaten/download/Biotoptypenkartierung_2020)» auf dem Geoportal der Stadt Zürich verwenden.\n",
    "\n",
    "Die [Metadaten dazu](https://www.geocat.ch/geonetwork/srv/ger/md.viewer#/full_view/d8f100e5-c749-48b6-b84b-ffde315e0308) sind auf GeoCat ersichtlich\n",
    "\n",
    "\n",
    "Mit Colab kann **dieses Jupyter-Notebook interaktiv im Browser** gestartet werden:\n",
    "[![Open In Colab](https://colab.research.google.com/assets/colab-badge.svg)](https://colab.research.google.com/github/DonGoginho/myPy/blob/main/biotopkartierung/.ipynb_checkpoints/zdw_feuchtgebiete-checkpoint.ipynb)\n"
   ]
  },
  {
   "cell_type": "markdown",
   "id": "ee387ae7",
   "metadata": {},
   "source": [
    "\n",
    "\n"
   ]
  },
  {
   "cell_type": "markdown",
   "id": "85d8b3c6",
   "metadata": {},
   "source": [
    "## Importiere notwendige Packages:"
   ]
  },
  {
   "cell_type": "code",
   "execution_count": 10,
   "id": "9304111d",
   "metadata": {},
   "outputs": [
    {
     "name": "stdout",
     "output_type": "stream",
     "text": [
      "Requirement already satisfied: geopandas in c:\\programdata\\anaconda3\\envs\\gis_env\\lib\\site-packages (0.9.0)\n",
      "Requirement already satisfied: fiona in c:\\programdata\\anaconda3\\envs\\gis_env\\lib\\site-packages (1.8.20)\n",
      "Requirement already satisfied: requests in c:\\programdata\\anaconda3\\envs\\gis_env\\lib\\site-packages (2.26.0)\n",
      "Requirement already satisfied: folium in c:\\programdata\\anaconda3\\envs\\gis_env\\lib\\site-packages (0.0.0)\n",
      "Requirement already satisfied: mplleaflet in c:\\programdata\\anaconda3\\envs\\gis_env\\lib\\site-packages (0.0.5)\n",
      "Requirement already satisfied: contextily in c:\\programdata\\anaconda3\\envs\\gis_env\\lib\\site-packages (1.1.0)\n",
      "Requirement already satisfied: pivottablejs in c:\\programdata\\anaconda3\\envs\\gis_env\\lib\\site-packages (0.9.0)\n",
      "Requirement already satisfied: pyproj>=2.2.0 in c:\\programdata\\anaconda3\\envs\\gis_env\\lib\\site-packages (from geopandas) (3.2.0)\n",
      "Requirement already satisfied: shapely>=1.6 in c:\\programdata\\anaconda3\\envs\\gis_env\\lib\\site-packages (from geopandas) (1.7.1)\n",
      "Requirement already satisfied: pandas>=0.24.0 in c:\\programdata\\anaconda3\\envs\\gis_env\\lib\\site-packages (from geopandas) (1.3.2)\n",
      "Requirement already satisfied: attrs>=17 in c:\\programdata\\anaconda3\\envs\\gis_env\\lib\\site-packages (from fiona) (21.2.0)\n",
      "Requirement already satisfied: certifi in c:\\programdata\\anaconda3\\envs\\gis_env\\lib\\site-packages (from fiona) (2021.10.8)\n",
      "Requirement already satisfied: click>=4.0 in c:\\programdata\\anaconda3\\envs\\gis_env\\lib\\site-packages (from fiona) (7.1.2)\n",
      "Requirement already satisfied: cligj>=0.5 in c:\\programdata\\anaconda3\\envs\\gis_env\\lib\\site-packages (from fiona) (0.7.2)\n",
      "Requirement already satisfied: click-plugins>=1.0 in c:\\programdata\\anaconda3\\envs\\gis_env\\lib\\site-packages (from fiona) (1.1.1)\n",
      "Requirement already satisfied: six>=1.7 in c:\\programdata\\anaconda3\\envs\\gis_env\\lib\\site-packages (from fiona) (1.16.0)\n",
      "Requirement already satisfied: munch in c:\\programdata\\anaconda3\\envs\\gis_env\\lib\\site-packages (from fiona) (2.5.0)\n",
      "Requirement already satisfied: setuptools in c:\\programdata\\anaconda3\\envs\\gis_env\\lib\\site-packages (from fiona) (58.0.4)\n",
      "Requirement already satisfied: idna<4,>=2.5 in c:\\programdata\\anaconda3\\envs\\gis_env\\lib\\site-packages (from requests) (3.1)\n",
      "Requirement already satisfied: urllib3<1.27,>=1.21.1 in c:\\programdata\\anaconda3\\envs\\gis_env\\lib\\site-packages (from requests) (1.26.6)\n",
      "Requirement already satisfied: charset-normalizer~=2.0.0 in c:\\programdata\\anaconda3\\envs\\gis_env\\lib\\site-packages (from requests) (2.0.0)\n",
      "Requirement already satisfied: numpy in c:\\programdata\\anaconda3\\envs\\gis_env\\lib\\site-packages (from folium) (1.21.2)\n",
      "Requirement already satisfied: branca>=0.3.0 in c:\\programdata\\anaconda3\\envs\\gis_env\\lib\\site-packages (from folium) (0.4.2)\n",
      "Requirement already satisfied: jinja2>=2.9 in c:\\programdata\\anaconda3\\envs\\gis_env\\lib\\site-packages (from folium) (3.0.1)\n",
      "Requirement already satisfied: geopy in c:\\programdata\\anaconda3\\envs\\gis_env\\lib\\site-packages (from contextily) (2.2.0)\n",
      "Requirement already satisfied: joblib in c:\\programdata\\anaconda3\\envs\\gis_env\\lib\\site-packages (from contextily) (1.0.1)\n",
      "Requirement already satisfied: rasterio in c:\\programdata\\anaconda3\\envs\\gis_env\\lib\\site-packages (from contextily) (1.2.8)\n",
      "Requirement already satisfied: mercantile in c:\\programdata\\anaconda3\\envs\\gis_env\\lib\\site-packages (from contextily) (1.2.1)\n",
      "Requirement already satisfied: matplotlib in c:\\programdata\\anaconda3\\envs\\gis_env\\lib\\site-packages (from contextily) (3.4.3)\n",
      "Requirement already satisfied: pillow in c:\\programdata\\anaconda3\\envs\\gis_env\\lib\\site-packages (from contextily) (8.3.2)\n",
      "Requirement already satisfied: MarkupSafe>=2.0 in c:\\programdata\\anaconda3\\envs\\gis_env\\lib\\site-packages (from jinja2>=2.9->folium) (2.0.1)\n",
      "Requirement already satisfied: pytz>=2017.3 in c:\\programdata\\anaconda3\\envs\\gis_env\\lib\\site-packages (from pandas>=0.24.0->geopandas) (2021.1)\n",
      "Requirement already satisfied: python-dateutil>=2.7.3 in c:\\programdata\\anaconda3\\envs\\gis_env\\lib\\site-packages (from pandas>=0.24.0->geopandas) (2.8.2)\n",
      "Requirement already satisfied: geographiclib<2,>=1.49 in c:\\programdata\\anaconda3\\envs\\gis_env\\lib\\site-packages (from geopy->contextily) (1.52)\n",
      "Requirement already satisfied: kiwisolver>=1.0.1 in c:\\programdata\\anaconda3\\envs\\gis_env\\lib\\site-packages (from matplotlib->contextily) (1.3.2)\n",
      "Requirement already satisfied: cycler>=0.10 in c:\\programdata\\anaconda3\\envs\\gis_env\\lib\\site-packages (from matplotlib->contextily) (0.10.0)\n",
      "Requirement already satisfied: pyparsing>=2.2.1 in c:\\programdata\\anaconda3\\envs\\gis_env\\lib\\site-packages (from matplotlib->contextily) (2.4.7)\n",
      "Requirement already satisfied: affine in c:\\programdata\\anaconda3\\envs\\gis_env\\lib\\site-packages (from rasterio->contextily) (2.3.0)\n",
      "Requirement already satisfied: snuggs>=1.4.1 in c:\\programdata\\anaconda3\\envs\\gis_env\\lib\\site-packages (from rasterio->contextily) (1.4.7)\n",
      "Note: you may need to restart the kernel to use updated packages.\n"
     ]
    }
   ],
   "source": [
    "%pip install geopandas fiona requests folium mplleaflet contextily pivottablejs"
   ]
  },
  {
   "cell_type": "code",
   "execution_count": 11,
   "id": "bd4ae830",
   "metadata": {},
   "outputs": [],
   "source": [
    "import numpy as np\n",
    "import pandas as pd\n",
    "import geopandas as gpd\n",
    "import fiona\n",
    "import folium\n",
    "import mplleaflet\n",
    "\n",
    "import pivottablejs\n",
    "from pivottablejs import pivot_ui\n",
    "\n",
    "\n",
    "import matplotlib.pyplot as plt\n",
    "import matplotlib.ticker as mtick\n",
    "\n",
    "import seaborn as sns\n",
    "sns.set_style(\n",
    "    style='darkgrid', \n",
    "    rc={'axes.facecolor': '.9', 'grid.color': '.8'}\n",
    ")\n",
    "\n",
    "\n",
    "pd.options.display.float_format = '{:.1f}'.format\n",
    "#pd.set_option('display.width', 100)\n",
    "#pd.set_option('display.max_columns', 15)"
   ]
  },
  {
   "cell_type": "markdown",
   "id": "52796654",
   "metadata": {},
   "source": [
    "## Lies die Daten ein\n"
   ]
  },
  {
   "cell_type": "markdown",
   "id": "f9649aae-766d-423d-abee-5427fa080ccd",
   "metadata": {},
   "source": [
    "### Direkter Download aller Biotopdaten via WFS\n",
    "\n",
    "Dauert allerdings eine Weile..."
   ]
  },
  {
   "cell_type": "code",
   "execution_count": 12,
   "id": "cb7a4d0b-3f02-468c-b5f3-a0e966d0263d",
   "metadata": {},
   "outputs": [],
   "source": [
    "#Direkter GeoJSON-Import via WFS-GeoJSON-Service\n",
    "\n",
    "geojson_url = \"https://www.ogd.stadt-zuerich.ch/wfs/geoportal/Biotoptypenkartierung_2020?service=WFS&version=1.1.0&request=GetFeature&outputFormat=GeoJSON&typename=btk_2020\"\n",
    "imp_gdf_biotopkartierung_2020 = gpd.read_file(geojson_url)"
   ]
  },
  {
   "cell_type": "code",
   "execution_count": 13,
   "id": "890338b2-ff0b-4b5c-82b5-1c399a14e6e1",
   "metadata": {},
   "outputs": [
    {
     "data": {
      "text/plain": [
       "<Projected CRS: EPSG:2056>\n",
       "Name: CH1903+ / LV95\n",
       "Axis Info [cartesian]:\n",
       "- E[east]: Easting (metre)\n",
       "- N[north]: Northing (metre)\n",
       "Area of Use:\n",
       "- name: Liechtenstein; Switzerland.\n",
       "- bounds: (5.96, 45.82, 10.49, 47.81)\n",
       "Coordinate Operation:\n",
       "- name: Swiss Oblique Mercator 1995\n",
       "- method: Hotine Oblique Mercator (variant B)\n",
       "Datum: CH1903+\n",
       "- Ellipsoid: Bessel 1841\n",
       "- Prime Meridian: Greenwich"
      ]
     },
     "execution_count": 13,
     "metadata": {},
     "output_type": "execute_result"
    }
   ],
   "source": [
    "#imp_gdf_biotopkartierung_2020_wgs84 = imp_gdf_biotopkartierung_2020.to_crs(epsg=4326)\n",
    "imp_gdf_biotopkartierung_2020_lv95 = imp_gdf_biotopkartierung_2020.to_crs(epsg=2056)\n",
    "imp_gdf_biotopkartierung_2020_lv95.crs"
   ]
  },
  {
   "cell_type": "code",
   "execution_count": 14,
   "id": "3f4213db-8ca2-4c40-931d-ac522a8bb6fe",
   "metadata": {},
   "outputs": [
    {
     "data": {
      "text/html": [
       "<div>\n",
       "<style scoped>\n",
       "    .dataframe tbody tr th:only-of-type {\n",
       "        vertical-align: middle;\n",
       "    }\n",
       "\n",
       "    .dataframe tbody tr th {\n",
       "        vertical-align: top;\n",
       "    }\n",
       "\n",
       "    .dataframe thead th {\n",
       "        text-align: right;\n",
       "    }\n",
       "</style>\n",
       "<table border=\"1\" class=\"dataframe\">\n",
       "  <thead>\n",
       "    <tr style=\"text-align: right;\">\n",
       "      <th></th>\n",
       "      <th>id</th>\n",
       "      <th>biotoptypenqualitaet</th>\n",
       "      <th>feuchtigkeit</th>\n",
       "      <th>legende_lebensraeume</th>\n",
       "      <th>lrtyp1code</th>\n",
       "      <th>lrtyp1text</th>\n",
       "      <th>lrtyp2code</th>\n",
       "      <th>lrtyp2text</th>\n",
       "      <th>lrtyp3code</th>\n",
       "      <th>lrtyp3text</th>\n",
       "      <th>...</th>\n",
       "      <th>struktur_staudig</th>\n",
       "      <th>umsetzung</th>\n",
       "      <th>vernetzungstyp_feucht</th>\n",
       "      <th>vernetzungstyp_gehoelz</th>\n",
       "      <th>vernetzungstyp_offen</th>\n",
       "      <th>vernetzungstyp_trocken</th>\n",
       "      <th>vernetzungstyp_unbekannt</th>\n",
       "      <th>versiegelung</th>\n",
       "      <th>geometry</th>\n",
       "      <th>flaeche</th>\n",
       "    </tr>\n",
       "  </thead>\n",
       "  <tbody>\n",
       "    <tr>\n",
       "      <th>0</th>\n",
       "      <td>btk_2020.1</td>\n",
       "      <td>4</td>\n",
       "      <td>unbekannt</td>\n",
       "      <td>Wald</td>\n",
       "      <td>01</td>\n",
       "      <td>Wälder</td>\n",
       "      <td>01.00</td>\n",
       "      <td>Wald allgemein</td>\n",
       "      <td>01.00.00</td>\n",
       "      <td>Wald allgemein</td>\n",
       "      <td>...</td>\n",
       "      <td>-</td>\n",
       "      <td>keine</td>\n",
       "      <td>-</td>\n",
       "      <td>ja</td>\n",
       "      <td>-</td>\n",
       "      <td>-</td>\n",
       "      <td>-</td>\n",
       "      <td>unversiegelt</td>\n",
       "      <td>MULTIPOLYGON (((2682258.133 1242456.271, 26822...</td>\n",
       "      <td>7744.1</td>\n",
       "    </tr>\n",
       "    <tr>\n",
       "      <th>1</th>\n",
       "      <td>btk_2020.2</td>\n",
       "      <td>4</td>\n",
       "      <td>unbekannt</td>\n",
       "      <td>Wald</td>\n",
       "      <td>01</td>\n",
       "      <td>Wälder</td>\n",
       "      <td>01.00</td>\n",
       "      <td>Wald allgemein</td>\n",
       "      <td>01.00.00</td>\n",
       "      <td>Wald allgemein</td>\n",
       "      <td>...</td>\n",
       "      <td>-</td>\n",
       "      <td>keine</td>\n",
       "      <td>-</td>\n",
       "      <td>ja</td>\n",
       "      <td>-</td>\n",
       "      <td>-</td>\n",
       "      <td>-</td>\n",
       "      <td>unversiegelt</td>\n",
       "      <td>MULTIPOLYGON (((2682422.082 1242365.591, 26824...</td>\n",
       "      <td>25187.4</td>\n",
       "    </tr>\n",
       "  </tbody>\n",
       "</table>\n",
       "<p>2 rows × 25 columns</p>\n",
       "</div>"
      ],
      "text/plain": [
       "           id  biotoptypenqualitaet feuchtigkeit legende_lebensraeume  \\\n",
       "0  btk_2020.1                     4    unbekannt                 Wald   \n",
       "1  btk_2020.2                     4    unbekannt                 Wald   \n",
       "\n",
       "  lrtyp1code lrtyp1text lrtyp2code      lrtyp2text lrtyp3code      lrtyp3text  \\\n",
       "0         01     Wälder      01.00  Wald allgemein   01.00.00  Wald allgemein   \n",
       "1         01     Wälder      01.00  Wald allgemein   01.00.00  Wald allgemein   \n",
       "\n",
       "   ... struktur_staudig  umsetzung vernetzungstyp_feucht  \\\n",
       "0  ...                -      keine                     -   \n",
       "1  ...                -      keine                     -   \n",
       "\n",
       "  vernetzungstyp_gehoelz vernetzungstyp_offen vernetzungstyp_trocken  \\\n",
       "0                     ja                    -                      -   \n",
       "1                     ja                    -                      -   \n",
       "\n",
       "  vernetzungstyp_unbekannt  versiegelung  \\\n",
       "0                        -  unversiegelt   \n",
       "1                        -  unversiegelt   \n",
       "\n",
       "                                            geometry flaeche  \n",
       "0  MULTIPOLYGON (((2682258.133 1242456.271, 26822...  7744.1  \n",
       "1  MULTIPOLYGON (((2682422.082 1242365.591, 26824... 25187.4  \n",
       "\n",
       "[2 rows x 25 columns]"
      ]
     },
     "execution_count": 14,
     "metadata": {},
     "output_type": "execute_result"
    }
   ],
   "source": [
    "rename_cols = {'objid': 'test'}\n",
    "columns_to_drop = ['struktur_keine']\n",
    "\n",
    "gdf_biotopkartierung_2020_lv95 = imp_gdf_biotopkartierung_2020_lv95 \\\n",
    "    .copy() \\\n",
    "    .drop(columns_to_drop, axis=1) \\\n",
    "    .rename(columns=rename_cols) \\\n",
    "    .assign(\n",
    "        flaeche = lambda x: x.area\n",
    "     )\n",
    "\n",
    "gdf_biotopkartierung_2020_lv95.head(2)"
   ]
  },
  {
   "cell_type": "markdown",
   "id": "4f43e910-89da-4dbd-bc32-0e415c1e3b0c",
   "metadata": {},
   "source": [
    "##### Speichere das so berechnete Dataframe auch als Geopackage"
   ]
  },
  {
   "cell_type": "code",
   "execution_count": null,
   "id": "dbcaa9ed-c763-45d7-b43f-0a3b5c895c8e",
   "metadata": {},
   "outputs": [],
   "source": [
    "#Import mit Geopandas, Webseite: https://geopandas.org/docs/user_guide/io.html oder  import fiona; help(fiona.open)\n",
    "output = r\"\\\\szh\\ssz\\data\\GIS\\Sandbox\\2022\\ZdW\\feuchtgebiete\\geodata\\\\\"\n",
    "\n",
    "gdf_biotopkartierung_2020_lv95.to_file(\"biotopkartierung_2020.gpkg\", layer='biotopkartierung_2020', driver=\"GPKG\")\n",
    "#gdf_biotopkartierung_2020_lv95.to_file(output+r\"\\biotopkartierung_2020.gpkg\", layer='biotopkartierung_2020', driver=\"GPKG\")\n",
    "print('done')\n"
   ]
  },
  {
   "cell_type": "markdown",
   "id": "877a0251-dfe9-4481-bbb4-1902527a9143",
   "metadata": {},
   "source": [
    "#### Selektiere die Feuchtgebiete"
   ]
  },
  {
   "cell_type": "code",
   "execution_count": null,
   "id": "be701a80-c88d-488d-871e-7e3dc3ea4a91",
   "metadata": {},
   "outputs": [],
   "source": [
    "rename_cols = {'objid': 'test'}\n",
    "columns_to_drop = []\n",
    "\n",
    "gdf_feuchtgebiete_biotopkartierung_2020_lv95 = gdf_biotopkartierung_2020_lv95 \\\n",
    "    .query(\"legende_lebensraeume == 'Feuchtgebiete'\") \\\n",
    "    .drop(columns_to_drop, axis=1) \\\n",
    "    .rename(columns=rename_cols) \\\n",
    "    .assign()\n",
    "\n",
    "gdf_feuchtgebiete_biotopkartierung_2020_lv95.head(2)\n",
    "\n"
   ]
  },
  {
   "cell_type": "markdown",
   "id": "ee374159",
   "metadata": {},
   "source": [
    "## Explorative_Analyse\n",
    "One of the main objectives of this notebook is to do an exploratory data analysis to understand which questions this data set can answer. In addition, also determine its limitations. \n",
    "\n",
    "To begin, let us get the number of unique values per feature.\n"
   ]
  },
  {
   "cell_type": "code",
   "execution_count": 5,
   "id": "6f8727aa",
   "metadata": {},
   "outputs": [],
   "source": [
    "#gdf_feuchtgewaesser_biotopkartg2020.apply(lambda x: x.unique().size, axis=0)\n"
   ]
  },
  {
   "cell_type": "code",
   "execution_count": null,
   "id": "909c03a9-759a-4fd8-bc5f-f78c53d556ac",
   "metadata": {},
   "outputs": [],
   "source": [
    "gdf_biotopkartierung_2020_lv95.apply(lambda x: x.unique().size, axis=0)"
   ]
  },
  {
   "cell_type": "code",
   "execution_count": null,
   "id": "24ba4e16-a1bf-4268-a911-9e0a13bf9889",
   "metadata": {},
   "outputs": [],
   "source": [
    "gdf_biotopkartierung_2020_lv95.plot(\"legende_lebensraeume\", cmap=\"rainbow\", legend=False, linestyle='-', linewidth=0)"
   ]
  },
  {
   "cell_type": "code",
   "execution_count": 7,
   "id": "f7c896ba-e61f-4099-80d7-9ef7ade28cad",
   "metadata": {},
   "outputs": [
    {
     "ename": "NameError",
     "evalue": "name 'gdf_biotopkartierung_2020_lv95' is not defined",
     "output_type": "error",
     "traceback": [
      "\u001b[1;31m---------------------------------------------------------------------------\u001b[0m",
      "\u001b[1;31mNameError\u001b[0m                                 Traceback (most recent call last)",
      "\u001b[1;32m~\\AppData\\Local\\Temp/ipykernel_8156/135235622.py\u001b[0m in \u001b[0;36m<module>\u001b[1;34m\u001b[0m\n\u001b[0;32m      1\u001b[0m \u001b[1;31m#gdf_biotopkartierung_2020_lv95.query(\"legende_lebensraeume == 'Feuchtgebiete' | legende_lebensraeume == 'Ruderalfluren'| legende_lebensraeume == 'Gewässer'\").plot(\"legende_lebensraeume\", cmap=\"ocean\", legend=False, linestyle='-', linewidth=0)\u001b[0m\u001b[1;33m\u001b[0m\u001b[1;33m\u001b[0m\u001b[0m\n\u001b[1;32m----> 2\u001b[1;33m \u001b[0mgdf_biotopkartierung_2020_lv95\u001b[0m\u001b[1;33m.\u001b[0m\u001b[0mquery\u001b[0m\u001b[1;33m(\u001b[0m\u001b[1;34m\"feuchtigkeit == 'feucht'\"\u001b[0m\u001b[1;33m)\u001b[0m\u001b[1;33m.\u001b[0m\u001b[0mplot\u001b[0m\u001b[1;33m(\u001b[0m\u001b[1;34m\"legende_lebensraeume\"\u001b[0m\u001b[1;33m,\u001b[0m \u001b[0mcmap\u001b[0m\u001b[1;33m=\u001b[0m\u001b[1;34m\"ocean\"\u001b[0m\u001b[1;33m,\u001b[0m \u001b[0mlegend\u001b[0m\u001b[1;33m=\u001b[0m\u001b[1;32mTrue\u001b[0m\u001b[1;33m,\u001b[0m \u001b[0mlinestyle\u001b[0m\u001b[1;33m=\u001b[0m\u001b[1;34m'-'\u001b[0m\u001b[1;33m,\u001b[0m \u001b[0mlinewidth\u001b[0m\u001b[1;33m=\u001b[0m\u001b[1;36m0\u001b[0m\u001b[1;33m)\u001b[0m\u001b[1;33m\u001b[0m\u001b[1;33m\u001b[0m\u001b[0m\n\u001b[0m",
      "\u001b[1;31mNameError\u001b[0m: name 'gdf_biotopkartierung_2020_lv95' is not defined"
     ]
    }
   ],
   "source": [
    "#gdf_biotopkartierung_2020_lv95.query(\"legende_lebensraeume == 'Feuchtgebiete' | legende_lebensraeume == 'Ruderalfluren'| legende_lebensraeume == 'Gewässer'\").plot(\"legende_lebensraeume\", cmap=\"ocean\", legend=False, linestyle='-', linewidth=0)\n",
    "gdf_biotopkartierung_2020_lv95.query(\"feuchtigkeit == 'feucht'\").plot(\"legende_lebensraeume\", cmap=\"ocean\", legend=True, linestyle='-', linewidth=0)\n"
   ]
  },
  {
   "cell_type": "markdown",
   "id": "67e8ef60",
   "metadata": {
    "tags": []
   },
   "source": [
    "### Flächen nach Kategorien"
   ]
  },
  {
   "cell_type": "markdown",
   "id": "941a00a8-4fc1-4b54-a2ce-5b21a1db85b3",
   "metadata": {},
   "source": [
    "Exploriere die Daten mit Pivottable.JS"
   ]
  },
  {
   "cell_type": "code",
   "execution_count": 8,
   "id": "f2125021-2274-486f-9660-1f3b04362a8e",
   "metadata": {
    "tags": []
   },
   "outputs": [
    {
     "ename": "NameError",
     "evalue": "name 'gdf_biotopkartierung_2020_lv95' is not defined",
     "output_type": "error",
     "traceback": [
      "\u001b[1;31m---------------------------------------------------------------------------\u001b[0m",
      "\u001b[1;31mNameError\u001b[0m                                 Traceback (most recent call last)",
      "\u001b[1;32m~\\AppData\\Local\\Temp/ipykernel_8156/1797870470.py\u001b[0m in \u001b[0;36m<module>\u001b[1;34m\u001b[0m\n\u001b[0;32m      1\u001b[0m \u001b[1;32mfrom\u001b[0m \u001b[0mpivottablejs\u001b[0m \u001b[1;32mimport\u001b[0m \u001b[0mpivot_ui\u001b[0m\u001b[1;33m\u001b[0m\u001b[1;33m\u001b[0m\u001b[0m\n\u001b[0;32m      2\u001b[0m \u001b[1;33m\u001b[0m\u001b[0m\n\u001b[1;32m----> 3\u001b[1;33m \u001b[0mpivot_ui\u001b[0m\u001b[1;33m(\u001b[0m\u001b[0mgdf_biotopkartierung_2020_lv95\u001b[0m\u001b[1;33m)\u001b[0m\u001b[1;33m\u001b[0m\u001b[1;33m\u001b[0m\u001b[0m\n\u001b[0m",
      "\u001b[1;31mNameError\u001b[0m: name 'gdf_biotopkartierung_2020_lv95' is not defined"
     ]
    }
   ],
   "source": [
    "from pivottablejs import pivot_ui\n",
    "\n",
    "pivot_ui(gdf_biotopkartierung_2020_lv95)"
   ]
  },
  {
   "cell_type": "markdown",
   "id": "6146be99-e233-4d73-a32f-241d79c90f89",
   "metadata": {},
   "source": [
    "#### Hauptflächen der gesamten Kartierung\n",
    "Unterscheidung nach «Legende Lebensräume»"
   ]
  },
  {
   "cell_type": "code",
   "execution_count": 9,
   "id": "42ffed4d-e3cc-4550-a82a-1fba830b7a7d",
   "metadata": {},
   "outputs": [
    {
     "ename": "NameError",
     "evalue": "name 'gdf_biotopkartierung_2020_lv95' is not defined",
     "output_type": "error",
     "traceback": [
      "\u001b[1;31m---------------------------------------------------------------------------\u001b[0m",
      "\u001b[1;31mNameError\u001b[0m                                 Traceback (most recent call last)",
      "\u001b[1;32m~\\AppData\\Local\\Temp/ipykernel_8156/3803740743.py\u001b[0m in \u001b[0;36m<module>\u001b[1;34m\u001b[0m\n\u001b[1;32m----> 1\u001b[1;33m \u001b[0mdf\u001b[0m \u001b[1;33m=\u001b[0m \u001b[0mgdf_biotopkartierung_2020_lv95\u001b[0m\u001b[0;31m \u001b[0m\u001b[0;31m\\\u001b[0m\u001b[1;33m\u001b[0m\u001b[1;33m\u001b[0m\u001b[0m\n\u001b[0m\u001b[0;32m      2\u001b[0m     \u001b[1;33m.\u001b[0m\u001b[0mgroupby\u001b[0m\u001b[1;33m(\u001b[0m\u001b[1;33m[\u001b[0m\u001b[1;34m'legende_lebensraeume'\u001b[0m\u001b[1;33m]\u001b[0m\u001b[1;33m)\u001b[0m\u001b[0;31m \u001b[0m\u001b[0;31m\\\u001b[0m\u001b[1;33m\u001b[0m\u001b[1;33m\u001b[0m\u001b[0m\n\u001b[0;32m      3\u001b[0m     \u001b[1;33m.\u001b[0m\u001b[0magg\u001b[0m\u001b[1;33m(\u001b[0m\u001b[0msum_area\u001b[0m\u001b[1;33m=\u001b[0m\u001b[1;33m(\u001b[0m\u001b[1;34m'flaeche'\u001b[0m\u001b[1;33m,\u001b[0m \u001b[1;34m'sum'\u001b[0m\u001b[1;33m)\u001b[0m\u001b[1;33m)\u001b[0m\u001b[0;31m \u001b[0m\u001b[0;31m\\\u001b[0m\u001b[1;33m\u001b[0m\u001b[1;33m\u001b[0m\u001b[0m\n\u001b[0;32m      4\u001b[0m     \u001b[1;33m.\u001b[0m\u001b[0msort_values\u001b[0m\u001b[1;33m(\u001b[0m\u001b[1;34m'sum_area'\u001b[0m\u001b[1;33m,\u001b[0m \u001b[0mascending\u001b[0m\u001b[1;33m=\u001b[0m\u001b[1;32mFalse\u001b[0m\u001b[1;33m)\u001b[0m\u001b[1;33m\u001b[0m\u001b[1;33m\u001b[0m\u001b[0m\n\u001b[0;32m      5\u001b[0m \u001b[1;33m\u001b[0m\u001b[0m\n",
      "\u001b[1;31mNameError\u001b[0m: name 'gdf_biotopkartierung_2020_lv95' is not defined"
     ]
    }
   ],
   "source": [
    "df = gdf_biotopkartierung_2020_lv95 \\\n",
    "    .groupby(['legende_lebensraeume']) \\\n",
    "    .agg(sum_area=('flaeche', 'sum')) \\\n",
    "    .sort_values('sum_area', ascending=False) \n",
    "\n",
    "df.reset_index()"
   ]
  },
  {
   "cell_type": "code",
   "execution_count": null,
   "id": "b1a9770c-e528-4aad-b8e1-8f16c4493dd4",
   "metadata": {},
   "outputs": [],
   "source": [
    "gdf_feuchtgebiete = gdf_biotopkartierung_2020_lv95.query(\"legende_lebensraeume == 'Feuchtgebiete'\")\n",
    "gdf_feuchtgebiete.head(1)"
   ]
  },
  {
   "cell_type": "markdown",
   "id": "01fbba2f-e229-4b54-ac69-f57d625e54af",
   "metadata": {},
   "source": [
    "#### Feuchtgebiete. Unterteilungen"
   ]
  },
  {
   "cell_type": "code",
   "execution_count": 158,
   "id": "cb392ad8-fc29-4436-8f92-f20947280255",
   "metadata": {},
   "outputs": [
    {
     "data": {
      "text/html": [
       "<div>\n",
       "<style scoped>\n",
       "    .dataframe tbody tr th:only-of-type {\n",
       "        vertical-align: middle;\n",
       "    }\n",
       "\n",
       "    .dataframe tbody tr th {\n",
       "        vertical-align: top;\n",
       "    }\n",
       "\n",
       "    .dataframe thead th {\n",
       "        text-align: right;\n",
       "    }\n",
       "</style>\n",
       "<table border=\"1\" class=\"dataframe\">\n",
       "  <thead>\n",
       "    <tr style=\"text-align: right;\">\n",
       "      <th></th>\n",
       "      <th></th>\n",
       "      <th>sum_area</th>\n",
       "    </tr>\n",
       "    <tr>\n",
       "      <th>lrtyp2text</th>\n",
       "      <th>lrtyp2code</th>\n",
       "      <th></th>\n",
       "    </tr>\n",
       "  </thead>\n",
       "  <tbody>\n",
       "    <tr>\n",
       "      <th>Traubenkirschen-Eschenwald</th>\n",
       "      <th>01.30</th>\n",
       "      <td>111.9</td>\n",
       "    </tr>\n",
       "    <tr>\n",
       "      <th>Pioniervegetation (wechsel-)nasser Standorte/vegetationsarmer Uferbereich</th>\n",
       "      <th>05.09</th>\n",
       "      <td>121.5</td>\n",
       "    </tr>\n",
       "    <tr>\n",
       "      <th>Aronstab-Buchenwald</th>\n",
       "      <th>01.11</th>\n",
       "      <td>220.4</td>\n",
       "    </tr>\n",
       "    <tr>\n",
       "      <th>Artenarmes Magerwiesenstadium</th>\n",
       "      <th>08.08</th>\n",
       "      <td>334.3</td>\n",
       "    </tr>\n",
       "    <tr>\n",
       "      <th>Nasswiese</th>\n",
       "      <th>09.03</th>\n",
       "      <td>645.4</td>\n",
       "    </tr>\n",
       "    <tr>\n",
       "      <th>...</th>\n",
       "      <th>...</th>\n",
       "      <td>...</td>\n",
       "    </tr>\n",
       "    <tr>\n",
       "      <th>Hausgarten</th>\n",
       "      <th>12.06</th>\n",
       "      <td>5753284.5</td>\n",
       "    </tr>\n",
       "    <tr>\n",
       "      <th>Grünanlage von Mehrfamilienhäusern</th>\n",
       "      <th>12.12</th>\n",
       "      <td>8345866.9</td>\n",
       "    </tr>\n",
       "    <tr>\n",
       "      <th>Biotopkomplexe und Nutzungstypen der bebauten Bereiche</th>\n",
       "      <th>13.05</th>\n",
       "      <td>9930630.4</td>\n",
       "    </tr>\n",
       "    <tr>\n",
       "      <th>Befestigte Fläche</th>\n",
       "      <th>13.04</th>\n",
       "      <td>12387860.2</td>\n",
       "    </tr>\n",
       "    <tr>\n",
       "      <th>Wald allgemein</th>\n",
       "      <th>01.00</th>\n",
       "      <td>21385589.5</td>\n",
       "    </tr>\n",
       "  </tbody>\n",
       "</table>\n",
       "<p>62 rows × 1 columns</p>\n",
       "</div>"
      ],
      "text/plain": [
       "                                                                sum_area\n",
       "lrtyp2text                                         lrtyp2code           \n",
       "Traubenkirschen-Eschenwald                         01.30           111.9\n",
       "Pioniervegetation (wechsel-)nasser Standorte/ve... 05.09           121.5\n",
       "Aronstab-Buchenwald                                01.11           220.4\n",
       "Artenarmes Magerwiesenstadium                      08.08           334.3\n",
       "Nasswiese                                          09.03           645.4\n",
       "...                                                                  ...\n",
       "Hausgarten                                         12.06       5753284.5\n",
       "Grünanlage von Mehrfamilienhäusern                 12.12       8345866.9\n",
       "Biotopkomplexe und Nutzungstypen der bebauten B... 13.05       9930630.4\n",
       "Befestigte Fläche                                  13.04      12387860.2\n",
       "Wald allgemein                                     01.00      21385589.5\n",
       "\n",
       "[62 rows x 1 columns]"
      ]
     },
     "execution_count": 158,
     "metadata": {},
     "output_type": "execute_result"
    }
   ],
   "source": [
    "gdf_biotopkartierung_2020_lv95 \\\n",
    "    .groupby(['lrtyp2text', 'lrtyp2code' ]) \\\n",
    "    .agg(sum_area=('flaeche', 'sum')) \\\n",
    "    .sort_values('sum_area', ascending=True) "
   ]
  },
  {
   "cell_type": "code",
   "execution_count": 160,
   "id": "c7f2ead9-b4be-412c-8e9c-6131daef0cae",
   "metadata": {},
   "outputs": [
    {
     "data": {
      "text/html": [
       "<div>\n",
       "<style scoped>\n",
       "    .dataframe tbody tr th:only-of-type {\n",
       "        vertical-align: middle;\n",
       "    }\n",
       "\n",
       "    .dataframe tbody tr th {\n",
       "        vertical-align: top;\n",
       "    }\n",
       "\n",
       "    .dataframe thead th {\n",
       "        text-align: right;\n",
       "    }\n",
       "</style>\n",
       "<table border=\"1\" class=\"dataframe\">\n",
       "  <thead>\n",
       "    <tr style=\"text-align: right;\">\n",
       "      <th></th>\n",
       "      <th></th>\n",
       "      <th>sum_area</th>\n",
       "    </tr>\n",
       "    <tr>\n",
       "      <th>lrtyp2text</th>\n",
       "      <th>lrtyp2code</th>\n",
       "      <th></th>\n",
       "    </tr>\n",
       "  </thead>\n",
       "  <tbody>\n",
       "    <tr>\n",
       "      <th>Grossegenried</th>\n",
       "      <th>05.03</th>\n",
       "      <td>95668.8</td>\n",
       "    </tr>\n",
       "    <tr>\n",
       "      <th>Hochstaudenflur</th>\n",
       "      <th>05.04</th>\n",
       "      <td>88579.0</td>\n",
       "    </tr>\n",
       "    <tr>\n",
       "      <th>Landröhricht</th>\n",
       "      <th>05.02</th>\n",
       "      <td>51507.5</td>\n",
       "    </tr>\n",
       "    <tr>\n",
       "      <th>Pfeifengraswiese</th>\n",
       "      <th>05.08</th>\n",
       "      <td>35078.1</td>\n",
       "    </tr>\n",
       "    <tr>\n",
       "      <th>Uferstaudenflur</th>\n",
       "      <th>05.01</th>\n",
       "      <td>9297.4</td>\n",
       "    </tr>\n",
       "    <tr>\n",
       "      <th>Pioniervegetation (wechsel-)nasser Standorte/vegetationsarmer Uferbereich</th>\n",
       "      <th>05.09</th>\n",
       "      <td>121.5</td>\n",
       "    </tr>\n",
       "  </tbody>\n",
       "</table>\n",
       "</div>"
      ],
      "text/plain": [
       "                                                               sum_area\n",
       "lrtyp2text                                         lrtyp2code          \n",
       "Grossegenried                                      05.03        95668.8\n",
       "Hochstaudenflur                                    05.04        88579.0\n",
       "Landröhricht                                       05.02        51507.5\n",
       "Pfeifengraswiese                                   05.08        35078.1\n",
       "Uferstaudenflur                                    05.01         9297.4\n",
       "Pioniervegetation (wechsel-)nasser Standorte/ve... 05.09          121.5"
      ]
     },
     "execution_count": 160,
     "metadata": {},
     "output_type": "execute_result"
    }
   ],
   "source": [
    "gdf_feuchtgebiete \\\n",
    "    .groupby(['lrtyp2text', 'lrtyp2code' ]) \\\n",
    "    .agg(sum_area=('flaeche', 'sum')) \\\n",
    "    .sort_values('sum_area', ascending=False) "
   ]
  },
  {
   "cell_type": "code",
   "execution_count": 162,
   "id": "42de4191-edf1-428b-8c87-f1ef6472874d",
   "metadata": {},
   "outputs": [
    {
     "data": {
      "text/html": [
       "<div>\n",
       "<style scoped>\n",
       "    .dataframe tbody tr th:only-of-type {\n",
       "        vertical-align: middle;\n",
       "    }\n",
       "\n",
       "    .dataframe tbody tr th {\n",
       "        vertical-align: top;\n",
       "    }\n",
       "\n",
       "    .dataframe thead th {\n",
       "        text-align: right;\n",
       "    }\n",
       "</style>\n",
       "<table border=\"1\" class=\"dataframe\">\n",
       "  <thead>\n",
       "    <tr style=\"text-align: right;\">\n",
       "      <th></th>\n",
       "      <th></th>\n",
       "      <th>sum_area</th>\n",
       "    </tr>\n",
       "    <tr>\n",
       "      <th>lrtyp3text</th>\n",
       "      <th>lrtyp3code</th>\n",
       "      <th></th>\n",
       "    </tr>\n",
       "  </thead>\n",
       "  <tbody>\n",
       "    <tr>\n",
       "      <th>Hochstaudenflur mit Spierstaude (ZH: 4a)</th>\n",
       "      <th>05.04.01</th>\n",
       "      <td>65118.2</td>\n",
       "    </tr>\n",
       "    <tr>\n",
       "      <th>Schilf-Landröhricht</th>\n",
       "      <th>05.02.01</th>\n",
       "      <td>38796.6</td>\n",
       "    </tr>\n",
       "    <tr>\n",
       "      <th>Pfeifengraswiese, Kleinseggenausbildung feucht (ZH: 8a)</th>\n",
       "      <th>05.08.01</th>\n",
       "      <td>30814.4</td>\n",
       "    </tr>\n",
       "    <tr>\n",
       "      <th>Grosseggenried ausserhalb Wasserstandsschwankungen (ZH: 3b)</th>\n",
       "      <th>05.03.02</th>\n",
       "      <td>26847.0</td>\n",
       "    </tr>\n",
       "    <tr>\n",
       "      <th>Grosseggenried mit Schneidebinse (ZH: 3d)</th>\n",
       "      <th>05.03.04</th>\n",
       "      <td>24586.3</td>\n",
       "    </tr>\n",
       "    <tr>\n",
       "      <th>Grosseggenried mit Sumpf-Segge (ZH: 3c)</th>\n",
       "      <th>05.03.03</th>\n",
       "      <td>22887.5</td>\n",
       "    </tr>\n",
       "    <tr>\n",
       "      <th>Bultiges Grosseggenried (ZH: 3a)</th>\n",
       "      <th>05.03.01</th>\n",
       "      <td>21348.0</td>\n",
       "    </tr>\n",
       "    <tr>\n",
       "      <th>Bestand der Stumpfblättrigen Binse (ZH: 4c)</th>\n",
       "      <th>05.04.03</th>\n",
       "      <td>17890.5</td>\n",
       "    </tr>\n",
       "    <tr>\n",
       "      <th>Rohrglanzgras-Flussuferröhricht*</th>\n",
       "      <th>05.02.02</th>\n",
       "      <td>12182.4</td>\n",
       "    </tr>\n",
       "    <tr>\n",
       "      <th>Nährstoffreicher Sumpf</th>\n",
       "      <th>05.01.07</th>\n",
       "      <td>9297.4</td>\n",
       "    </tr>\n",
       "    <tr>\n",
       "      <th>Hochstaudenflur mit Goldrute (ZH: 4b)</th>\n",
       "      <th>05.04.02</th>\n",
       "      <td>5570.3</td>\n",
       "    </tr>\n",
       "    <tr>\n",
       "      <th>Pfeifengraswiese, Kleinseggenausbildung trocken (ZH: 8b)</th>\n",
       "      <th>05.08.02</th>\n",
       "      <td>3229.2</td>\n",
       "    </tr>\n",
       "    <tr>\n",
       "      <th>Pfeifengrasreinbestand auf Torf (ZH: 8c)</th>\n",
       "      <th>05.08.03</th>\n",
       "      <td>1034.5</td>\n",
       "    </tr>\n",
       "    <tr>\n",
       "      <th>Süssgras-Bachröhricht*</th>\n",
       "      <th>05.02.03</th>\n",
       "      <td>528.5</td>\n",
       "    </tr>\n",
       "    <tr>\n",
       "      <th>Pioniervegetation schlammiger Nassstandorte*</th>\n",
       "      <th>05.09.01</th>\n",
       "      <td>121.5</td>\n",
       "    </tr>\n",
       "  </tbody>\n",
       "</table>\n",
       "</div>"
      ],
      "text/plain": [
       "                                                               sum_area\n",
       "lrtyp3text                                         lrtyp3code          \n",
       "Hochstaudenflur mit Spierstaude (ZH: 4a)           05.04.01     65118.2\n",
       "Schilf-Landröhricht                                05.02.01     38796.6\n",
       "Pfeifengraswiese, Kleinseggenausbildung feucht ... 05.08.01     30814.4\n",
       "Grosseggenried ausserhalb Wasserstandsschwankun... 05.03.02     26847.0\n",
       "Grosseggenried mit Schneidebinse (ZH: 3d)          05.03.04     24586.3\n",
       "Grosseggenried mit Sumpf-Segge (ZH: 3c)            05.03.03     22887.5\n",
       "Bultiges Grosseggenried (ZH: 3a)                   05.03.01     21348.0\n",
       "Bestand der Stumpfblättrigen Binse (ZH: 4c)        05.04.03     17890.5\n",
       "Rohrglanzgras-Flussuferröhricht*                   05.02.02     12182.4\n",
       "Nährstoffreicher Sumpf                             05.01.07      9297.4\n",
       "Hochstaudenflur mit Goldrute (ZH: 4b)              05.04.02      5570.3\n",
       "Pfeifengraswiese, Kleinseggenausbildung trocken... 05.08.02      3229.2\n",
       "Pfeifengrasreinbestand auf Torf (ZH: 8c)           05.08.03      1034.5\n",
       "Süssgras-Bachröhricht*                             05.02.03       528.5\n",
       "Pioniervegetation schlammiger Nassstandorte*       05.09.01       121.5"
      ]
     },
     "execution_count": 162,
     "metadata": {},
     "output_type": "execute_result"
    }
   ],
   "source": [
    "gdf_feuchtgebiete \\\n",
    "    .groupby(['lrtyp3text', 'lrtyp3code' ]) \\\n",
    "    .agg(sum_area=('flaeche', 'sum')) \\\n",
    "    .sort_values('sum_area', ascending=False) "
   ]
  },
  {
   "cell_type": "code",
   "execution_count": null,
   "id": "f2b869cb",
   "metadata": {},
   "outputs": [],
   "source": []
  },
  {
   "cell_type": "code",
   "execution_count": null,
   "id": "9cc79414-a862-4dad-a0f7-51195c3667ab",
   "metadata": {},
   "outputs": [],
   "source": []
  },
  {
   "cell_type": "markdown",
   "id": "df8b717c-89d9-4ce3-9a00-e6e5a39e37f7",
   "metadata": {},
   "source": [
    "### Bezug von vorverarbeiteten Geodaten\n",
    "\n",
    "Die Geodaten können manuell als [csv, Shapefile, Geopackage oder GeoJSON-Datei heruntergeladen](https://www.stadt-zuerich.ch/geodaten/download/Biotoptypenkartierung_2020) werden oder per [WFS-GeoJSON-Service](https://www.ogd.stadt-zuerich.ch/wfs/geoportal/Biotoptypenkartierung_2020) direkt abgefragt werden.\n",
    "\n",
    "#### Vorarbeit in QGIS\n",
    "Ich habe das Geopackage bereits im Arbeitsverzeichnis unter `\\\\szh\\ssz\\data\\GIS\\Sandbox\\2022\\ZdW\\feuchtgebiete\\biotopkartierung_2020.gpkg` abgelegt.\n",
    "Dabei habe ich auch bereits den Typ `Feuchtgebiete` selektiert und die Fläche `area`im (sqm) berechnet.\n",
    "\n",
    "- als GeoPackage: Diese Datei heisst `\\\\szh\\ssz\\data\\GIS\\Sandbox\\2022\\ZdW\\feuchtgebiete\\feuchtgewaesser_biotopkartg_2020.gpkg`. Leider gibt es beim Import ein Problem, daher habe ich noch ein Shapefile exportiert\n",
    "- als Shapefile: diese Datei ist abgelegt unter `\\\\szh\\ssz\\data\\GIS\\Sandbox\\2022\\ZdW\\feuchtgebiete\\geodata\\exp_feuchtgebiete.shp`\n",
    "\n"
   ]
  },
  {
   "cell_type": "code",
   "execution_count": 140,
   "id": "41924ff7-ab7c-4621-a457-fba25bf04ee7",
   "metadata": {},
   "outputs": [
    {
     "name": "stdout",
     "output_type": "stream",
     "text": [
      "done\n"
     ]
    }
   ],
   "source": [
    "pfad_gpkg = r\"\\\\szh\\ssz\\data\\GIS\\Sandbox\\2022\\ZdW\\feuchtgebiete\\feuchtgewaesser_biotopkartg_2020.gpkg\"\n",
    "#fiona.listlayers(url)\n",
    "\n",
    "output = r\"\\\\szh\\ssz\\data\\GIS\\Sandbox\\2022\\ZdW\\feuchtgebiete\\geodata\"\n",
    "pf = r\"\\\\szh\\ssz\\data\\GIS\\Sandbox\\2022\\ZdW\\feuchtgebiete\\geodata\\exp_feuchtgebiete.shp\"\n",
    "\n",
    "gdf_feuchtgewaesser_biotopkartg2020 = gpd.read_file(pf)\n",
    "\n",
    "\n",
    "print('done')"
   ]
  },
  {
   "cell_type": "code",
   "execution_count": 163,
   "id": "8d94edd7-c775-4b2d-b5f7-456f55953da2",
   "metadata": {},
   "outputs": [],
   "source": [
    "#gdf_feuchtgewaesser_biotopkartg2020.dtypes\n"
   ]
  },
  {
   "cell_type": "code",
   "execution_count": 143,
   "id": "bed14b03-23b9-4422-8779-63e40d4a4473",
   "metadata": {},
   "outputs": [],
   "source": [
    "#gdf_feuchtgewaesser_biotopkartg2020.to_file(output+\"\\gdf_feuchtgewaesser_biotopkartg2020.json\", driver='GeoJSON')"
   ]
  },
  {
   "cell_type": "code",
   "execution_count": null,
   "id": "f59d0b81-c999-4fff-b8bc-2eb0134fb4cb",
   "metadata": {},
   "outputs": [],
   "source": []
  },
  {
   "cell_type": "code",
   "execution_count": null,
   "id": "770fbdf9-7a19-442b-8cfc-901716084f20",
   "metadata": {},
   "outputs": [],
   "source": []
  }
 ],
 "metadata": {
  "kernelspec": {
   "display_name": "Python 3 (ipykernel)",
   "language": "python",
   "name": "python3"
  },
  "language_info": {
   "codemirror_mode": {
    "name": "ipython",
    "version": 3
   },
   "file_extension": ".py",
   "mimetype": "text/x-python",
   "name": "python",
   "nbconvert_exporter": "python",
   "pygments_lexer": "ipython3",
   "version": "3.9.7"
  }
 },
 "nbformat": 4,
 "nbformat_minor": 5
}
