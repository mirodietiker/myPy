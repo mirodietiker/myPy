{
 "cells": [
  {
   "cell_type": "markdown",
   "id": "b05e6702",
   "metadata": {},
   "source": [
    "# Veränderungen im Baumkataster der Stadt Zürich\n",
    "\n",
    "Während die Schneelast im Januar dem Wald und den Bäumen im ganzen Siedlungsgebiet grosse Schäden zugefügt hat, traf der Sturm «Bernd» in der Nacht vom 13. Juli 2021 vor allem die Gebiete Zürich-West und Zürich-Nord. Im Stadtwald fiel dabei mit rund 14 000 m3 etwa gleich viel Holz dem Sturm zum Opfer, wie sonst in einem ganzen Jahr dem gesamten Stadtwald im Rahmen der Dauerwaldbewirtschaftung entnommen wird.\n",
    "\n",
    "\n",
    "Im Juli 2021 fanden europaweit grosse Überschwemmungen und Sturmschäden statt. Auch in Zürich, insbesondere in Zürich-West (Altstetten und Albisrieden), ging eine Schneise der Zerstörung und zahlreiche Bäume fielen um oder wurden abgeknickt. Siehe dazu z.B. den Bericht in der NZZ am 14.07.2021: [Der Leiter der Zürcher Grünanlagen sagt: «Sturm hat den Baumbestand mancherorts um mehr als die Hälfte reduziert.»](https://www.nzz.ch/zuerich/sturm-ueber-zuerich-teilweise-der-halbe-baumbestand-zerstoert-ld.1635541). Im November 2021 wurde dann kommuniziert, dass bis 2023 die Pflanzung weiter 1200 neuer Bäume geplant sei. Siehe [Medienmitteilung vom 10.11.2021](https://www.stadt-zuerich.ch/ted/de/index/departement/medien/medienmitteilungen/2021/november/211110a.html).  Nebst den Ersatzpflanzungen wegen der durch Schnee und Sturm verlorenen Bäumen ([Medienmitteilung vom 7. Oktober](https://www.stadt-zuerich.ch/ted/de/index/departement/medien/medienmitteilungen/2021/oktober/211007a.html)) sollen bis 2023 1200 Bäume gepflanzt werden.\n",
    "\n",
    "Das Ziel dieses Notebooks ist es, die Veränderungen des Baumkatasters generell und möglicherweise Ende 2021 auch insbesondere bezüglich der Sturmschäden zu prüfen.\n",
    "Wahrscheinlich ist das nicht möglich, weil zwischen einer Anpassung in der Datenbank (Mutation), eine Fällung auf Grund des Alters oder der Gesundheit und einer Fällung auf Grund von Sturmschäden keine direkten Hinweise vermerkt sind. Aber ein Versuch ist es wert.\n",
    "\n",
    "Seit dem 20.11.2021 wird nun auch die [**Baumersatzliste**](https://data.stadt-zuerich.ch/dataset/geo_baumersatz) auf dem Open-Data-Katalalog veröffentlicht, welche natürlich bezüglich der hier gemachten Beobachtungen relevant ist. Im Baumersatz werden alle städtischen Bäume im Strassenraum und in Grünanlagen erfasst, welche von Grün Stadt Zürich in der aktuellen Periode (jährlich ab Dezember) neu gepflanzt oder ersetzt werden. Der Baumersatzdatensatz widerspiegelt den Inhalt der Baumersatzliste. Diese dient der Bevölkerung zur Information, wo Bäume durch Grün Stadt Zürich neu gepflanzt oder ersetzt werden.\n",
    "\n",
    "<!---  \n",
    "Dieses Notebook verwendet als Vorlage die Webseite «[Kitas in Berlin - Jupyter Notebook](https://juanitorduz.github.io/kitas_berlin/)» \n",
    "---!>\n",
    "\n",
    "Mit Colab kann **dieses Jupyter-Notebook interaktiv im Browser** gestartet werden:\n",
    "[![Open In Colab](https://colab.research.google.com/assets/colab-badge.svg)](https://colab.research.google.com/github/DonGoginho/myPy_RIS_API/blob/main/RIS_API_AL_Geschaefte.ipynb)\n"
   ]
  },
  {
   "cell_type": "markdown",
   "id": "d5364d7e",
   "metadata": {},
   "source": [
    "**Inhaltsverzeichnis:**\n",
    "\n",
    "1. [Daten importieren](#LiesDatenein)\n",
    "2. [Daten prüfen](#)\n",
    "3. [Daten analysieren](#Explorative_Analyse)\n",
    "\n"
   ]
  },
  {
   "cell_type": "markdown",
   "id": "f036644e",
   "metadata": {
    "tags": []
   },
   "source": [
    "## Importiere notwendige Packages:"
   ]
  },
  {
   "cell_type": "code",
   "execution_count": 1,
   "id": "29362b14",
   "metadata": {},
   "outputs": [],
   "source": [
    "#pip install geopandas fiona requests folium mplleaflet contextily seaborn datetime"
   ]
  },
  {
   "cell_type": "code",
   "execution_count": 1,
   "id": "3036a201",
   "metadata": {},
   "outputs": [],
   "source": [
    "import numpy as np\n",
    "import pandas as pd\n",
    "import geopandas as gpd\n",
    "import fiona; \n",
    "import mplleaflet\n",
    "import matplotlib.pyplot as plt\n",
    "import matplotlib.ticker as mtick\n",
    "from datetime import datetime\n",
    "import seaborn as sns\n",
    "sns.set_style(\n",
    "    style='darkgrid', \n",
    "    rc={'axes.facecolor': '.9', 'grid.color': '.8'}\n",
    ")\n",
    "sns.set_palette(palette='deep')\n",
    "sns_c = sns.color_palette(palette='deep')\n",
    "%matplotlib inline\n",
    "from pandas.plotting import register_matplotlib_converters\n",
    "register_matplotlib_converters()\n",
    "\n",
    "plt.rcParams['figure.figsize'] = [10, 6]\n",
    "plt.rcParams['figure.dpi'] = 100\n",
    "\n",
    "pd.options.display.float_format = '{:.0f}'.format\n",
    "#pd.set_option('display.width', 100)\n",
    "#pd.set_option('display.max_columns', 15)"
   ]
  },
  {
   "cell_type": "markdown",
   "id": "a6825513",
   "metadata": {},
   "source": [
    "Schreibe aktuelles Datum in Variable `date_today`\n",
    "Für weitere Infos zu Datetime siehe https://www.programiz.com/python-programming/datetime/strftime"
   ]
  },
  {
   "cell_type": "code",
   "execution_count": 99,
   "id": "a00248cc",
   "metadata": {},
   "outputs": [],
   "source": [
    "#Soll das aktuelle Datum beim Geopackage-Namen integriert werden oder nicht? False = nein. Generiert ein Outputfile mit der Endung _tmp, welches sich selber überschreibt\n",
    "activate_date = True;\n",
    "\n",
    "now = datetime.now() # current date and time\n",
    "\n",
    "if activate_date == True:\n",
    "    date_today = \"_\"+now.strftime(\"%Y-%m-%d\")\n",
    "    #store_o_gis = False\n",
    "    \n",
    "else:\n",
    "    date_today =\"_tmp\"\n",
    "    #store_o_gis = True"
   ]
  },
  {
   "cell_type": "markdown",
   "id": "e731b4c1",
   "metadata": {},
   "source": [
    "## Lies Daten ein\n"
   ]
  },
  {
   "cell_type": "markdown",
   "id": "a6c88e0b",
   "metadata": {},
   "source": [
    "Das **Baumkatster der Stadt Zürich** wird seit mehreren Jahren als OGD angeboten: https://data.stadt-zuerich.ch/dataset/geo_baumkataster . \n",
    "Im Baumkataster werden alle städtischen Bäume im Strassenraum erfasst, welche von Grün Stadt Zürich verwaltet oder gepflegt werden. Seit 2019 wird das Baumkataster durch das Obstbauminventar sowie Bäume ausgewählter öffentlicher Grünanlagen und private Bäume ergänzt.\n",
    "\n",
    "Zum Download steht es seit 2019 auch auf dem städtischen [Geodatenportal](https://www.stadt-zuerich.ch/geodaten) zur Verfügung: \n",
    "\n",
    "- Geodaten: https://www.stadt-zuerich.ch/geodaten/download/Baumkataster\n",
    "- Metadaten: https://www.geocat.ch/geonetwork/srv/ger/md.viewer#/full_view/5b17c52e-1fcd-e0e4-47b2-ab784f1bead7"
   ]
  },
  {
   "cell_type": "markdown",
   "id": "37b8a50d",
   "metadata": {},
   "source": [
    "### Importiere den aktuellsten Baumbestand des Baumkatasters direkt ab Geodatenportal\n",
    "\n",
    "Das Geoportal bietet zahlreiche Geoformate zum Download (Shapefiles, Geopackages, csv, dxf, etc.) wie auch Webservcies (WFS, WMS, WMTS) an.\n",
    "\n",
    "Um direkt den aktuellsten Datensatz zu beziehen, bietet sich der **GEOJSON-Webservice via WFS** an. Dazu muss man noch die Layer im Datensatz kennen. Dieser ist unterteilt in:\n",
    "\n",
    "1. `baumkataster_baumstandorte` (Baumstandorte in der Stadt Zürich)\n",
    "2. `baumkataster_kronendurchmesser` (Darstellung des Kronendurchmessers für den CAD-Export.9)\n",
    "3. `baumstandorte_k` (Darstellung des Bauzmstandortes als Kreis (10cm Radius) für den CAD-Export)\n",
    "\n",
    "Uns interssiert für diese Fragestellung der 1. Layer, die `baumkataster_baumstandorte`. Die URL zum GeoJSON-Service des aktuellen Bestand lautet daher:\n",
    "\n",
    "https://www.ogd.stadt-zuerich.ch/wfs/geoportal/Baumkataster?service=WFS&version=1.1.0&request=GetFeature&outputFormat=GeoJSON&typename=baumkataster_baumstandorte\n",
    "\n"
   ]
  },
  {
   "cell_type": "code",
   "execution_count": 83,
   "id": "bb870092",
   "metadata": {},
   "outputs": [
    {
     "data": {
      "text/html": [
       "<div>\n",
       "<style scoped>\n",
       "    .dataframe tbody tr th:only-of-type {\n",
       "        vertical-align: middle;\n",
       "    }\n",
       "\n",
       "    .dataframe tbody tr th {\n",
       "        vertical-align: top;\n",
       "    }\n",
       "\n",
       "    .dataframe thead th {\n",
       "        text-align: right;\n",
       "    }\n",
       "</style>\n",
       "<table border=\"1\" class=\"dataframe\">\n",
       "  <thead>\n",
       "    <tr style=\"text-align: right;\">\n",
       "      <th></th>\n",
       "      <th>id</th>\n",
       "      <th>baumartlat</th>\n",
       "      <th>baumgattunglat</th>\n",
       "      <th>baumnamedeu</th>\n",
       "      <th>baumnamelat</th>\n",
       "      <th>baumnummer</th>\n",
       "      <th>baumtyp</th>\n",
       "      <th>baumtyptext</th>\n",
       "      <th>genauigkeit</th>\n",
       "      <th>kategorie</th>\n",
       "      <th>kronendurchmesser</th>\n",
       "      <th>objid</th>\n",
       "      <th>pflanzjahr</th>\n",
       "      <th>poi_id</th>\n",
       "      <th>quartier</th>\n",
       "      <th>status</th>\n",
       "      <th>strasse</th>\n",
       "      <th>geometry</th>\n",
       "    </tr>\n",
       "  </thead>\n",
       "  <tbody>\n",
       "    <tr>\n",
       "      <th>0</th>\n",
       "      <td>baumkataster_baumstandorte.0</td>\n",
       "      <td>pseudoplatanus</td>\n",
       "      <td>Acer</td>\n",
       "      <td>Berg-Ahorn, Wald-Ahorn</td>\n",
       "      <td>Acer pseudoplatanus</td>\n",
       "      <td>SW-607</td>\n",
       "      <td>0</td>\n",
       "      <td>nicht zugeordnet</td>\n",
       "      <td>Eingemessen</td>\n",
       "      <td>Strassenbaum</td>\n",
       "      <td>14</td>\n",
       "      <td>0</td>\n",
       "      <td>NaN</td>\n",
       "      <td>SW-607</td>\n",
       "      <td>Schwamendingen-Mitte</td>\n",
       "      <td>Strassenbaum</td>\n",
       "      <td>Ueberlandstr.</td>\n",
       "      <td>POINT (8.57845 47.40898)</td>\n",
       "    </tr>\n",
       "    <tr>\n",
       "      <th>1</th>\n",
       "      <td>baumkataster_baumstandorte.3</td>\n",
       "      <td>platanoides</td>\n",
       "      <td>Acer</td>\n",
       "      <td>Spitz-Ahorn</td>\n",
       "      <td>Acer platanoides</td>\n",
       "      <td>SW-612</td>\n",
       "      <td>0</td>\n",
       "      <td>nicht zugeordnet</td>\n",
       "      <td>Eingemessen</td>\n",
       "      <td>Strassenbaum</td>\n",
       "      <td>12</td>\n",
       "      <td>3</td>\n",
       "      <td>NaN</td>\n",
       "      <td>SW-612</td>\n",
       "      <td>Schwamendingen-Mitte</td>\n",
       "      <td>Strassenbaum</td>\n",
       "      <td>Ueberlandstr.</td>\n",
       "      <td>POINT (8.57783 47.40913)</td>\n",
       "    </tr>\n",
       "  </tbody>\n",
       "</table>\n",
       "</div>"
      ],
      "text/plain": [
       "                             id      baumartlat baumgattunglat  \\\n",
       "0  baumkataster_baumstandorte.0  pseudoplatanus           Acer   \n",
       "1  baumkataster_baumstandorte.3     platanoides           Acer   \n",
       "\n",
       "              baumnamedeu          baumnamelat baumnummer  baumtyp  \\\n",
       "0  Berg-Ahorn, Wald-Ahorn  Acer pseudoplatanus     SW-607        0   \n",
       "1             Spitz-Ahorn     Acer platanoides     SW-612        0   \n",
       "\n",
       "        baumtyptext  genauigkeit     kategorie  kronendurchmesser objid  \\\n",
       "0  nicht zugeordnet  Eingemessen  Strassenbaum                 14     0   \n",
       "1  nicht zugeordnet  Eingemessen  Strassenbaum                 12     3   \n",
       "\n",
       "   pflanzjahr  poi_id              quartier        status        strasse  \\\n",
       "0         NaN  SW-607  Schwamendingen-Mitte  Strassenbaum  Ueberlandstr.   \n",
       "1         NaN  SW-612  Schwamendingen-Mitte  Strassenbaum  Ueberlandstr.   \n",
       "\n",
       "                   geometry  \n",
       "0  POINT (8.57845 47.40898)  \n",
       "1  POINT (8.57783 47.40913)  "
      ]
     },
     "execution_count": 83,
     "metadata": {},
     "output_type": "execute_result"
    }
   ],
   "source": [
    "#Direkter GeoJSON-Import via WFS-GeoJSON-Service\n",
    "\n",
    "geojson_url = \"https://www.ogd.stadt-zuerich.ch/wfs/geoportal/Baumkataster?service=WFS&version=1.1.0&request=GetFeature&outputFormat=GeoJSON&typename=baumkataster_baumstandorte\"\n",
    "df_baumkataster_baumstandorte_aktuell = gpd.read_file(geojson_url)\n",
    "\n",
    "df_baumkataster_baumstandorte_aktuell.head(2)"
   ]
  },
  {
   "cell_type": "markdown",
   "id": "6253ad92",
   "metadata": {},
   "source": [
    "Speichere das den direkter GeoJSON-Import via WFS-GeoJSON-Service als Geopackage lokal ab"
   ]
  },
  {
   "cell_type": "code",
   "execution_count": 6,
   "id": "c8486ee3",
   "metadata": {},
   "outputs": [
    {
     "name": "stdout",
     "output_type": "stream",
     "text": [
      "//szh.loc/ssz/applikationen/OGD/Daten/Quelldaten/GSZ/baumkataster/baumkataster_tmp.gpkg\n"
     ]
    }
   ],
   "source": [
    "#Import mit Geopandas, Webseite: https://geopandas.org/docs/user_guide/io.html oder  import fiona; help(fiona.open)\n",
    "\n",
    "df_baumkataster_baumstandorte_aktuell.to_file(\"//szh.loc/ssz/applikationen/OGD/Daten/Quelldaten/GSZ/baumkataster/baumkataster\"+date_today+\".gpkg\", layer='gsz_baumkataster_baumstandorte', driver=\"GPKG\")\n",
    "print(\"//szh.loc/ssz/applikationen/OGD/Daten/Quelldaten/GSZ/baumkataster/baumkataster\"+date_today+\".gpkg\")"
   ]
  },
  {
   "cell_type": "markdown",
   "id": "b4243a36",
   "metadata": {},
   "source": [
    "\n",
    "GeoJson-Dataset zum direkten Abruf des aktuellen Bestandes: \n",
    "https://www.ogd.stadt-zuerich.ch/wfs/geoportal/Baumkataster?service=WFS&version=1.1.0&request=GetFeature&outputFormat=GeoJSON&typename=baumkataster_baumstandorte"
   ]
  },
  {
   "cell_type": "markdown",
   "id": "e5f9b419-623c-4949-bac1-8fe5f29d0d36",
   "metadata": {},
   "source": [
    "### Importiere die aktuellsten Baumersatzliste\n",
    "\n",
    "Diese wird neu seit dem 20.11.2021 als OGD veröffentlicht."
   ]
  },
  {
   "cell_type": "code",
   "execution_count": 100,
   "id": "2008f512-bc85-4125-b902-bd4f479c402c",
   "metadata": {},
   "outputs": [
    {
     "name": "stdout",
     "output_type": "stream",
     "text": [
      "<class 'geopandas.geodataframe.GeoDataFrame'>\n",
      "RangeIndex: 225 entries, 0 to 224\n",
      "Data columns (total 14 columns):\n",
      " #   Column            Non-Null Count  Dtype   \n",
      "---  ------            --------------  -----   \n",
      " 0   id                225 non-null    object  \n",
      " 1   baumartdt         225 non-null    object  \n",
      " 2   baumartlat        225 non-null    object  \n",
      " 3   baumnummer        225 non-null    object  \n",
      " 4   ersatzplfanzung   225 non-null    object  \n",
      " 5   faellgrund        225 non-null    object  \n",
      " 6   faellursache      225 non-null    object  \n",
      " 7   kategorie         225 non-null    object  \n",
      " 8   neuebaumart       43 non-null     object  \n",
      " 9   objectid          225 non-null    float64 \n",
      " 10  standort          219 non-null    object  \n",
      " 11  unterhaltsbezirk  225 non-null    object  \n",
      " 12  vermessbezirk     225 non-null    object  \n",
      " 13  geometry          225 non-null    geometry\n",
      "dtypes: float64(1), geometry(1), object(12)\n",
      "memory usage: 24.7+ KB\n"
     ]
    }
   ],
   "source": [
    "#Direkter GeoJSON-Import via WFS-GeoJSON-Service\n",
    "\n",
    "geojson_url = \"https://www.ogd.stadt-zuerich.ch/wfs/geoportal/Baumersatz?service=WFS&version=1.1.0&request=GetFeature&outputFormat=GeoJSON&typename=baumersatz\"\n",
    "imp_df_baumersatz_baumersatzliste_aktuell = gpd.read_file(geojson_url)\n",
    "\n",
    "imp_df_baumersatz_baumersatzliste_aktuell.head(2)\n",
    "imp_df_baumersatz_baumersatzliste_aktuell.info()"
   ]
  },
  {
   "cell_type": "markdown",
   "id": "89647e0c-4691-4a2e-beb3-28477d8588b0",
   "metadata": {},
   "source": [
    "Füge einen Count für Anzahl Bäume ein"
   ]
  },
  {
   "cell_type": "code",
   "execution_count": 102,
   "id": "889a86e4-e346-4b72-819f-0df6dafdacdb",
   "metadata": {},
   "outputs": [
    {
     "data": {
      "text/html": [
       "<div>\n",
       "<style scoped>\n",
       "    .dataframe tbody tr th:only-of-type {\n",
       "        vertical-align: middle;\n",
       "    }\n",
       "\n",
       "    .dataframe tbody tr th {\n",
       "        vertical-align: top;\n",
       "    }\n",
       "\n",
       "    .dataframe thead th {\n",
       "        text-align: right;\n",
       "    }\n",
       "</style>\n",
       "<table border=\"1\" class=\"dataframe\">\n",
       "  <thead>\n",
       "    <tr style=\"text-align: right;\">\n",
       "      <th></th>\n",
       "      <th>id</th>\n",
       "      <th>baumartdt</th>\n",
       "      <th>baumartlat</th>\n",
       "      <th>baumnummer</th>\n",
       "      <th>ersatzplfanzung</th>\n",
       "      <th>faellgrund</th>\n",
       "      <th>faellursache</th>\n",
       "      <th>kategorie</th>\n",
       "      <th>neuebaumart</th>\n",
       "      <th>objectid</th>\n",
       "      <th>standort</th>\n",
       "      <th>unterhaltsbezirk</th>\n",
       "      <th>vermessbezirk</th>\n",
       "      <th>geometry</th>\n",
       "      <th>AnzBaeume</th>\n",
       "    </tr>\n",
       "  </thead>\n",
       "  <tbody>\n",
       "    <tr>\n",
       "      <th>0</th>\n",
       "      <td>baumersatz.1</td>\n",
       "      <td>Pflaume-Obstgehölz, Sorte unbekannt (Pflaume)</td>\n",
       "      <td>Prunus domestica insititia cv.</td>\n",
       "      <td>AF-2039</td>\n",
       "      <td>natürlicher Aufwuchs, Gehölzgruppe</td>\n",
       "      <td>Verkehrssicherheit (stand-, bruchgefährdet)</td>\n",
       "      <td>Schäden</td>\n",
       "      <td>Parkbaum</td>\n",
       "      <td>None</td>\n",
       "      <td>1</td>\n",
       "      <td>FH Affoltern; Zehntenhausstrasse, 90</td>\n",
       "      <td>Affoltern, Friedhof Nordheim</td>\n",
       "      <td>Affoltern</td>\n",
       "      <td>POINT (8.51000 47.42253)</td>\n",
       "      <td>1</td>\n",
       "    </tr>\n",
       "  </tbody>\n",
       "</table>\n",
       "</div>"
      ],
      "text/plain": [
       "             id                                      baumartdt  \\\n",
       "0  baumersatz.1  Pflaume-Obstgehölz, Sorte unbekannt (Pflaume)   \n",
       "\n",
       "                       baumartlat baumnummer  \\\n",
       "0  Prunus domestica insititia cv.    AF-2039   \n",
       "\n",
       "                      ersatzplfanzung  \\\n",
       "0  natürlicher Aufwuchs, Gehölzgruppe   \n",
       "\n",
       "                                    faellgrund faellursache kategorie  \\\n",
       "0  Verkehrssicherheit (stand-, bruchgefährdet)      Schäden  Parkbaum   \n",
       "\n",
       "  neuebaumart  objectid                              standort  \\\n",
       "0        None         1  FH Affoltern; Zehntenhausstrasse, 90   \n",
       "\n",
       "               unterhaltsbezirk vermessbezirk                  geometry  \\\n",
       "0  Affoltern, Friedhof Nordheim     Affoltern  POINT (8.51000 47.42253)   \n",
       "\n",
       "   AnzBaeume  \n",
       "0          1  "
      ]
     },
     "execution_count": 102,
     "metadata": {},
     "output_type": "execute_result"
    }
   ],
   "source": [
    "df_baumersatz_baumersatzliste_aktuell = (\n",
    "    imp_df_baumersatz_baumersatzliste_aktuell.query(\"objectid != 0\")\n",
    "    .assign(\n",
    "        AnzBaeume=lambda x: 100/100 ,\n",
    "    )\n",
    "    .sort_values('AnzBaeume', ascending=True)\n",
    "    #.head(200)\n",
    ")\n",
    "df_baumersatz_baumersatzliste_aktuell.head(1)"
   ]
  },
  {
   "cell_type": "code",
   "execution_count": 103,
   "id": "6d0c6119-4fd7-40b0-ac99-3c98610cd15b",
   "metadata": {},
   "outputs": [
    {
     "name": "stdout",
     "output_type": "stream",
     "text": [
      "//szh.loc/ssz/applikationen/OGD/Daten/Quelldaten/GSZ/baumkataster/baumkataster_2021-11-20.gpkg\n"
     ]
    }
   ],
   "source": [
    "df_baumersatz_baumersatzliste_aktuell.to_file(\"//szh.loc/ssz/applikationen/OGD/Daten/Quelldaten/GSZ/baumkataster/baumersatzliste\"+date_today+\".gpkg\", layer='gsz_baumersatz_baumersatzliste', driver=\"GPKG\")\n",
    "print(\"//szh.loc/ssz/applikationen/OGD/Daten/Quelldaten/GSZ/baumkataster/baumkataster\"+date_today+\".gpkg\")"
   ]
  },
  {
   "cell_type": "markdown",
   "id": "530cbf8f",
   "metadata": {},
   "source": [
    "### Importiere frühere Baumbestände des Baumkatasters\n",
    "\n",
    "Das Baumkataster wird meines Wissens nicht historiesiert zur Verfügung gestellt auf dem GeoServer. Ich habe bereits früher von Zeit zu Zeit Bestände abgespeichert unter \n",
    "`\\\\szh.loc\\ssz\\applikationen\\OGD\\Daten\\Quelldaten\\GSZ\\baumkataster`\n",
    "\n"
   ]
  },
  {
   "cell_type": "markdown",
   "id": "d1b7cc6e",
   "metadata": {},
   "source": [
    "Importiere das `Baumkataster 2021 07 18`. Beachte, dass hier das Geopackage mehrere Layers hat, aus denen einer ausgewählt werden muss. Die folgenden früheren Jahre hatten das bei den Downloadfiles noch nicht."
   ]
  },
  {
   "cell_type": "code",
   "execution_count": 36,
   "id": "a2ac7af1",
   "metadata": {},
   "outputs": [],
   "source": [
    "#Importiere das Baumkataster 2021 07 18\n",
    "pfad_baumkataster_20210718 = r\"//szh.loc/ssz/applikationen/OGD/Daten/Quelldaten/GSZ/baumkataster/baumkataster_2021_07_18.gpkg\"\n",
    "df_baumkataster_20210718 = gpd.read_file(pfad_baumkataster_20210718, layer='gsz_baumkataster_baumstandorte')\n",
    "\n",
    "\n",
    "# df_baumkataster_20210718.info()\n",
    "# Find the number of null values for all columns\n",
    "#df_baumkataster_20210718.isnull().sum()"
   ]
  },
  {
   "cell_type": "markdown",
   "id": "1e7ac882",
   "metadata": {},
   "source": [
    "Importiere das `Baumkataster 2020`."
   ]
  },
  {
   "cell_type": "code",
   "execution_count": 37,
   "id": "d98f7d96",
   "metadata": {},
   "outputs": [],
   "source": [
    "#Importiere das Baumkataster 2020\n",
    "pfad_baumkataster_20201016 = r\"//szh.loc/ssz/applikationen/OGD/Daten/Quelldaten/GSZ/baumkataster/baumkataster_2020_10_16.gpkg\"\n",
    "df_baumkataster_20201016 = gpd.read_file(pfad_baumkataster_20201016)\n",
    "\n",
    "#df_baumkataster_20201016.info()\n",
    "# Find the number of null values for all columns\n",
    "#df_baumkataster_20201016.isnull().sum()"
   ]
  },
  {
   "cell_type": "markdown",
   "id": "841d5bde",
   "metadata": {},
   "source": [
    "Importiere das `Baumkataster 2018`."
   ]
  },
  {
   "cell_type": "code",
   "execution_count": 38,
   "id": "ca244130",
   "metadata": {},
   "outputs": [],
   "source": [
    "#Importiere das Baumkataster 2018\n",
    "pfad_baumkataster_20181023 = r\"//szh.loc/ssz/applikationen/OGD/Daten/Quelldaten/GSZ/baumkataster/baumkataster_2018_10_23.gpkg\"\n",
    "df_baumkataster_20181023 = gpd.read_file(pfad_baumkataster_20181023)\n",
    "\n",
    "#df_baumkataster_20181023.info()\n",
    "# Find the number of null values for all columns\n",
    "#df_baumkataster_20181023.isnull().sum()"
   ]
  },
  {
   "cell_type": "markdown",
   "id": "f16350be",
   "metadata": {},
   "source": [
    "Importiere das `Baumkataster 2014`."
   ]
  },
  {
   "cell_type": "code",
   "execution_count": 39,
   "id": "fa71eac1",
   "metadata": {},
   "outputs": [],
   "source": [
    "#Importiere das Baumkataster 2014\n",
    "pfad_baumkataster_20141220 = r\"//szh.loc/ssz/applikationen/OGD/Daten/Quelldaten/GSZ/baumkataster/baumkataster_2014_12_20.gpkg\"\n",
    "imp_df_baumkataster_20141220 = gpd.read_file(pfad_baumkataster_20141220)\n",
    "\n",
    "#imp_df_baumkataster_20141220.info()\n",
    "# Find the number of null values for all columns\n",
    "#imp_df_baumkataster_20141220.isnull().sum()"
   ]
  },
  {
   "cell_type": "markdown",
   "id": "c709d05c",
   "metadata": {},
   "source": [
    "Da das Baumkataster 2014 noch andere Attributbeschreibungen hatte, soll es in folgendem Schritt noch den aktuellen Beschreibungen angepasst werden."
   ]
  },
  {
   "cell_type": "code",
   "execution_count": 40,
   "id": "19e8cd47",
   "metadata": {},
   "outputs": [
    {
     "data": {
      "text/html": [
       "<div>\n",
       "<style scoped>\n",
       "    .dataframe tbody tr th:only-of-type {\n",
       "        vertical-align: middle;\n",
       "    }\n",
       "\n",
       "    .dataframe tbody tr th {\n",
       "        vertical-align: top;\n",
       "    }\n",
       "\n",
       "    .dataframe thead th {\n",
       "        text-align: right;\n",
       "    }\n",
       "</style>\n",
       "<table border=\"1\" class=\"dataframe\">\n",
       "  <thead>\n",
       "    <tr style=\"text-align: right;\">\n",
       "      <th></th>\n",
       "      <th>objid</th>\n",
       "      <th>status</th>\n",
       "      <th>baumgattunglat</th>\n",
       "      <th>baumartlat</th>\n",
       "      <th>kategorie</th>\n",
       "      <th>pflanzjahr</th>\n",
       "      <th>baumtyp</th>\n",
       "      <th>quartier</th>\n",
       "      <th>strasse</th>\n",
       "      <th>baumnamelat</th>\n",
       "      <th>baumnummer</th>\n",
       "      <th>poi_id</th>\n",
       "      <th>baumnamedeu</th>\n",
       "      <th>baumtyptext</th>\n",
       "      <th>genauigkeit</th>\n",
       "      <th>geometry</th>\n",
       "    </tr>\n",
       "  </thead>\n",
       "  <tbody>\n",
       "    <tr>\n",
       "      <th>0</th>\n",
       "      <td>1</td>\n",
       "      <td>Grünanlage</td>\n",
       "      <td>nicht identifiziert</td>\n",
       "      <td>None</td>\n",
       "      <td>Parkbaum</td>\n",
       "      <td>None</td>\n",
       "      <td>0</td>\n",
       "      <td>Hirzenbach</td>\n",
       "      <td>None</td>\n",
       "      <td>nicht identifiziert</td>\n",
       "      <td>SW-10495</td>\n",
       "      <td>bm_0</td>\n",
       "      <td>nicht identifiziert</td>\n",
       "      <td>nicht zugeordnet</td>\n",
       "      <td>Bildschirmeingabe</td>\n",
       "      <td>POINT (2686741.210 1250332.560)</td>\n",
       "    </tr>\n",
       "    <tr>\n",
       "      <th>1</th>\n",
       "      <td>2</td>\n",
       "      <td>Strassenbaum</td>\n",
       "      <td>nicht identifiziert</td>\n",
       "      <td>None</td>\n",
       "      <td>Strassenbaum</td>\n",
       "      <td>None</td>\n",
       "      <td>0</td>\n",
       "      <td>Sihlfeld</td>\n",
       "      <td>None</td>\n",
       "      <td>nicht identifiziert</td>\n",
       "      <td>WD-7435</td>\n",
       "      <td>bm_1</td>\n",
       "      <td>nicht identifiziert</td>\n",
       "      <td>nicht zugeordnet</td>\n",
       "      <td>Bildschirmeingabe</td>\n",
       "      <td>POINT (2680433.340 1247519.140)</td>\n",
       "    </tr>\n",
       "  </tbody>\n",
       "</table>\n",
       "</div>"
      ],
      "text/plain": [
       "   objid        status       baumgattunglat baumartlat     kategorie  \\\n",
       "0      1    Grünanlage  nicht identifiziert       None      Parkbaum   \n",
       "1      2  Strassenbaum  nicht identifiziert       None  Strassenbaum   \n",
       "\n",
       "  pflanzjahr baumtyp    quartier strasse          baumnamelat baumnummer  \\\n",
       "0       None       0  Hirzenbach    None  nicht identifiziert   SW-10495   \n",
       "1       None       0    Sihlfeld    None  nicht identifiziert    WD-7435   \n",
       "\n",
       "  poi_id          baumnamedeu       baumtyptext        genauigkeit  \\\n",
       "0   bm_0  nicht identifiziert  nicht zugeordnet  Bildschirmeingabe   \n",
       "1   bm_1  nicht identifiziert  nicht zugeordnet  Bildschirmeingabe   \n",
       "\n",
       "                          geometry  \n",
       "0  POINT (2686741.210 1250332.560)  \n",
       "1  POINT (2680433.340 1247519.140)  "
      ]
     },
     "execution_count": 40,
     "metadata": {},
     "output_type": "execute_result"
    }
   ],
   "source": [
    "# Rename columns bei Bedarf\n",
    "rename_cols = {\n",
    "    'OBJECTID': 'objid',\n",
    "    'Status': 'status',\n",
    "    'BaumGattun': 'baumgattunglat',\n",
    "    'BaumArtLat': 'baumartlat',\n",
    "    'Kategorie': 'kategorie',\n",
    "    'Pflanzjahr': 'pflanzjahr',\n",
    "    'Baumtyp': 'baumtyp',\n",
    "    'Quartier': 'quartier',\n",
    "    'Strasse': 'strasse',\n",
    "    'BaumNameLa': 'baumnamelat',\n",
    "    'Baumnummer': 'baumnummer',\n",
    "    'POI_ID': 'poi_id',\n",
    "    'BaumNameDe': 'baumnamedeu',\n",
    "    'Baumtyptex': 'baumtyptext',\n",
    "    'Genauigkei': 'genauigkeit',\n",
    "    'geometry': 'geometry',\n",
    "}\n",
    "\n",
    "columns_to_drop = ['xtf_id']\n",
    "# Format data: remove redundant columns, rename columns and add new features.\n",
    "\n",
    "df_baumkataster_20141220 = imp_df_baumkataster_20141220 \\\n",
    "    .copy() \\\n",
    "    .drop(columns_to_drop, axis=1) \\\n",
    "    .rename(columns=rename_cols) \\\n",
    "    .assign(\n",
    "        #spots_plz=lambda x: x.groupby(['district', 'plz'])['spots'].transform(np.sum)\n",
    "    )\n",
    "\n",
    "\n",
    "df_baumkataster_20141220.head(2)"
   ]
  },
  {
   "cell_type": "markdown",
   "id": "d725d951",
   "metadata": {},
   "source": [
    "Da die Datenbestände aus früheren Zeiten stammen, sind sie - v.a. 2014 - noch unterschiedlich strukturiert. Falls ein Verleich zwischen 2014 und aktuell gemacht werden soll, müssen die Attributnamen angepasst werden."
   ]
  },
  {
   "cell_type": "code",
   "execution_count": 87,
   "id": "4f4b98da",
   "metadata": {},
   "outputs": [
    {
     "ename": "NameError",
     "evalue": "name 'df_baumkataster_20210718' is not defined",
     "output_type": "error",
     "traceback": [
      "\u001b[1;31m---------------------------------------------------------------------------\u001b[0m",
      "\u001b[1;31mNameError\u001b[0m                                 Traceback (most recent call last)",
      "\u001b[1;32m~\\AppData\\Local\\Temp/ipykernel_18488/1859006554.py\u001b[0m in \u001b[0;36m<module>\u001b[1;34m\u001b[0m\n\u001b[1;32m----> 1\u001b[1;33m \u001b[0mdf_baumkataster_20210718\u001b[0m\u001b[1;33m.\u001b[0m\u001b[0minfo\u001b[0m\u001b[1;33m(\u001b[0m\u001b[1;33m)\u001b[0m\u001b[1;33m\u001b[0m\u001b[1;33m\u001b[0m\u001b[0m\n\u001b[0m\u001b[0;32m      2\u001b[0m \u001b[0mdf_baumkataster_20201016\u001b[0m\u001b[1;33m.\u001b[0m\u001b[0minfo\u001b[0m\u001b[1;33m(\u001b[0m\u001b[1;33m)\u001b[0m\u001b[1;33m\u001b[0m\u001b[1;33m\u001b[0m\u001b[0m\n\u001b[0;32m      3\u001b[0m \u001b[0mdf_baumkataster_20181023\u001b[0m\u001b[1;33m.\u001b[0m\u001b[0minfo\u001b[0m\u001b[1;33m(\u001b[0m\u001b[1;33m)\u001b[0m\u001b[1;33m\u001b[0m\u001b[1;33m\u001b[0m\u001b[0m\n\u001b[0;32m      4\u001b[0m \u001b[0mdf_baumkataster_20141220\u001b[0m\u001b[1;33m.\u001b[0m\u001b[0minfo\u001b[0m\u001b[1;33m(\u001b[0m\u001b[1;33m)\u001b[0m\u001b[1;33m\u001b[0m\u001b[1;33m\u001b[0m\u001b[0m\n\u001b[0;32m      5\u001b[0m \u001b[0mdf_baumkataster_baumstandorte_aktuell\u001b[0m\u001b[1;33m.\u001b[0m\u001b[0minfo\u001b[0m\u001b[1;33m(\u001b[0m\u001b[1;33m)\u001b[0m\u001b[1;33m\u001b[0m\u001b[1;33m\u001b[0m\u001b[0m\n",
      "\u001b[1;31mNameError\u001b[0m: name 'df_baumkataster_20210718' is not defined"
     ]
    }
   ],
   "source": [
    "df_baumkataster_20210718.info()\n",
    "df_baumkataster_20201016.info()\n",
    "df_baumkataster_20181023.info()\n",
    "df_baumkataster_20141220.info()\n",
    "df_baumkataster_baumstandorte_aktuell.info()\n"
   ]
  },
  {
   "cell_type": "code",
   "execution_count": 88,
   "id": "d14c0968-2110-4583-9d18-88980f1791c2",
   "metadata": {},
   "outputs": [
    {
     "name": "stdout",
     "output_type": "stream",
     "text": [
      "<class 'geopandas.geodataframe.GeoDataFrame'>\n",
      "Int64Index: 225 entries, 0 to 224\n",
      "Data columns (total 15 columns):\n",
      " #   Column            Non-Null Count  Dtype   \n",
      "---  ------            --------------  -----   \n",
      " 0   id                225 non-null    object  \n",
      " 1   baumartdt         225 non-null    object  \n",
      " 2   baumartlat        225 non-null    object  \n",
      " 3   baumnummer        225 non-null    object  \n",
      " 4   ersatzplfanzung   225 non-null    object  \n",
      " 5   faellgrund        225 non-null    object  \n",
      " 6   faellursache      225 non-null    object  \n",
      " 7   kategorie         225 non-null    object  \n",
      " 8   neuebaumart       43 non-null     object  \n",
      " 9   objectid          225 non-null    float64 \n",
      " 10  standort          219 non-null    object  \n",
      " 11  unterhaltsbezirk  225 non-null    object  \n",
      " 12  vermessbezirk     225 non-null    object  \n",
      " 13  geometry          225 non-null    geometry\n",
      " 14  AnzBaueme         225 non-null    float64 \n",
      "dtypes: float64(2), geometry(1), object(12)\n",
      "memory usage: 28.1+ KB\n"
     ]
    }
   ],
   "source": [
    "df_baumersatz_baumersatzliste_aktuell.info()"
   ]
  },
  {
   "cell_type": "markdown",
   "id": "6ba8e902",
   "metadata": {},
   "source": [
    "Checke welche Quartiere vorkommen"
   ]
  },
  {
   "cell_type": "code",
   "execution_count": 89,
   "id": "0fc5f896",
   "metadata": {},
   "outputs": [
    {
     "ename": "NameError",
     "evalue": "name 'df_baumkataster_20210718' is not defined",
     "output_type": "error",
     "traceback": [
      "\u001b[1;31m---------------------------------------------------------------------------\u001b[0m",
      "\u001b[1;31mNameError\u001b[0m                                 Traceback (most recent call last)",
      "\u001b[1;32m~\\AppData\\Local\\Temp/ipykernel_18488/519796455.py\u001b[0m in \u001b[0;36m<module>\u001b[1;34m\u001b[0m\n\u001b[1;32m----> 1\u001b[1;33m \u001b[0mdf_baumkataster_20210718\u001b[0m\u001b[1;33m[\u001b[0m\u001b[1;34m'quartier'\u001b[0m\u001b[1;33m]\u001b[0m\u001b[1;33m.\u001b[0m\u001b[0munique\u001b[0m\u001b[1;33m(\u001b[0m\u001b[1;33m)\u001b[0m\u001b[1;33m\u001b[0m\u001b[1;33m\u001b[0m\u001b[0m\n\u001b[0m",
      "\u001b[1;31mNameError\u001b[0m: name 'df_baumkataster_20210718' is not defined"
     ]
    }
   ],
   "source": [
    "df_baumkataster_20210718['quartier'].unique()"
   ]
  },
  {
   "cell_type": "code",
   "execution_count": null,
   "id": "823fef50",
   "metadata": {},
   "outputs": [],
   "source": [
    "df_baumkataster_20210718['quartier'].unique()"
   ]
  },
  {
   "cell_type": "markdown",
   "id": "4e26af14",
   "metadata": {},
   "source": [
    "## Explorative_Analyse\n",
    "One of the main objectives of this notebook is to do an exploratory data analysis to understand which questions this data set can answer. In addition, also determine its limitations. \n",
    "\n",
    "To begin, let us get the number of unique values per feature.\n"
   ]
  },
  {
   "cell_type": "code",
   "execution_count": 90,
   "id": "b4052b37",
   "metadata": {},
   "outputs": [
    {
     "ename": "NameError",
     "evalue": "name 'df_baumkataster_20141220' is not defined",
     "output_type": "error",
     "traceback": [
      "\u001b[1;31m---------------------------------------------------------------------------\u001b[0m",
      "\u001b[1;31mNameError\u001b[0m                                 Traceback (most recent call last)",
      "\u001b[1;32m~\\AppData\\Local\\Temp/ipykernel_18488/3211781437.py\u001b[0m in \u001b[0;36m<module>\u001b[1;34m\u001b[0m\n\u001b[1;32m----> 1\u001b[1;33m \u001b[0mdf_baumkataster_20141220\u001b[0m\u001b[1;33m.\u001b[0m\u001b[0mapply\u001b[0m\u001b[1;33m(\u001b[0m\u001b[1;32mlambda\u001b[0m \u001b[0mx\u001b[0m\u001b[1;33m:\u001b[0m \u001b[0mx\u001b[0m\u001b[1;33m.\u001b[0m\u001b[0munique\u001b[0m\u001b[1;33m(\u001b[0m\u001b[1;33m)\u001b[0m\u001b[1;33m.\u001b[0m\u001b[0msize\u001b[0m\u001b[1;33m,\u001b[0m \u001b[0maxis\u001b[0m\u001b[1;33m=\u001b[0m\u001b[1;36m0\u001b[0m\u001b[1;33m)\u001b[0m\u001b[1;33m\u001b[0m\u001b[1;33m\u001b[0m\u001b[0m\n\u001b[0m",
      "\u001b[1;31mNameError\u001b[0m: name 'df_baumkataster_20141220' is not defined"
     ]
    }
   ],
   "source": [
    "df_baumkataster_20141220.apply(lambda x: x.unique().size, axis=0)\n"
   ]
  },
  {
   "cell_type": "code",
   "execution_count": 91,
   "id": "6d0b06ec",
   "metadata": {},
   "outputs": [
    {
     "ename": "NameError",
     "evalue": "name 'df_baumkataster_20181023' is not defined",
     "output_type": "error",
     "traceback": [
      "\u001b[1;31m---------------------------------------------------------------------------\u001b[0m",
      "\u001b[1;31mNameError\u001b[0m                                 Traceback (most recent call last)",
      "\u001b[1;32m~\\AppData\\Local\\Temp/ipykernel_18488/2997087024.py\u001b[0m in \u001b[0;36m<module>\u001b[1;34m\u001b[0m\n\u001b[1;32m----> 1\u001b[1;33m \u001b[0mdf_baumkataster_20181023\u001b[0m\u001b[1;33m.\u001b[0m\u001b[0mapply\u001b[0m\u001b[1;33m(\u001b[0m\u001b[1;32mlambda\u001b[0m \u001b[0mx\u001b[0m\u001b[1;33m:\u001b[0m \u001b[0mx\u001b[0m\u001b[1;33m.\u001b[0m\u001b[0munique\u001b[0m\u001b[1;33m(\u001b[0m\u001b[1;33m)\u001b[0m\u001b[1;33m.\u001b[0m\u001b[0msize\u001b[0m\u001b[1;33m,\u001b[0m \u001b[0maxis\u001b[0m\u001b[1;33m=\u001b[0m\u001b[1;36m0\u001b[0m\u001b[1;33m)\u001b[0m\u001b[1;33m\u001b[0m\u001b[1;33m\u001b[0m\u001b[0m\n\u001b[0m",
      "\u001b[1;31mNameError\u001b[0m: name 'df_baumkataster_20181023' is not defined"
     ]
    }
   ],
   "source": [
    "df_baumkataster_20181023.apply(lambda x: x.unique().size, axis=0)\n"
   ]
  },
  {
   "cell_type": "code",
   "execution_count": 92,
   "id": "3d390c0e",
   "metadata": {},
   "outputs": [
    {
     "ename": "NameError",
     "evalue": "name 'df_baumkataster_20210718' is not defined",
     "output_type": "error",
     "traceback": [
      "\u001b[1;31m---------------------------------------------------------------------------\u001b[0m",
      "\u001b[1;31mNameError\u001b[0m                                 Traceback (most recent call last)",
      "\u001b[1;32m~\\AppData\\Local\\Temp/ipykernel_18488/2412897804.py\u001b[0m in \u001b[0;36m<module>\u001b[1;34m\u001b[0m\n\u001b[1;32m----> 1\u001b[1;33m \u001b[0mdf_baumkataster_20210718\u001b[0m\u001b[1;33m.\u001b[0m\u001b[0mapply\u001b[0m\u001b[1;33m(\u001b[0m\u001b[1;32mlambda\u001b[0m \u001b[0mx\u001b[0m\u001b[1;33m:\u001b[0m \u001b[0mx\u001b[0m\u001b[1;33m.\u001b[0m\u001b[0munique\u001b[0m\u001b[1;33m(\u001b[0m\u001b[1;33m)\u001b[0m\u001b[1;33m.\u001b[0m\u001b[0msize\u001b[0m\u001b[1;33m,\u001b[0m \u001b[0maxis\u001b[0m\u001b[1;33m=\u001b[0m\u001b[1;36m0\u001b[0m\u001b[1;33m)\u001b[0m\u001b[1;33m\u001b[0m\u001b[1;33m\u001b[0m\u001b[0m\n\u001b[0m",
      "\u001b[1;31mNameError\u001b[0m: name 'df_baumkataster_20210718' is not defined"
     ]
    }
   ],
   "source": [
    "df_baumkataster_20210718.apply(lambda x: x.unique().size, axis=0)"
   ]
  },
  {
   "cell_type": "markdown",
   "id": "8df3c287-aea9-4e2b-a6dd-333b4fd931a5",
   "metadata": {},
   "source": [
    "***Neu***: Schau dir die Fakten der Baumersatzliste an."
   ]
  },
  {
   "cell_type": "code",
   "execution_count": 93,
   "id": "6c9ce8f3-b928-4bb8-9c0c-b3e513a8852a",
   "metadata": {},
   "outputs": [
    {
     "data": {
      "text/plain": [
       "id                  225\n",
       "baumartdt            73\n",
       "baumartlat           79\n",
       "baumnummer          225\n",
       "ersatzplfanzung       9\n",
       "faellgrund            5\n",
       "faellursache          7\n",
       "kategorie             2\n",
       "neuebaumart          22\n",
       "objectid            225\n",
       "standort            149\n",
       "unterhaltsbezirk     11\n",
       "vermessbezirk        20\n",
       "geometry            225\n",
       "AnzBaueme             1\n",
       "dtype: int64"
      ]
     },
     "execution_count": 93,
     "metadata": {},
     "output_type": "execute_result"
    }
   ],
   "source": [
    "df_baumersatz_baumersatzliste_aktuell.apply(lambda x: x.unique().size, axis=0)"
   ]
  },
  {
   "cell_type": "markdown",
   "id": "8f628e96",
   "metadata": {},
   "source": [
    "Welche Kategorien gibt es überhaupt und wie ist der Bezug zum 'Status'?"
   ]
  },
  {
   "cell_type": "code",
   "execution_count": 94,
   "id": "8f499e24",
   "metadata": {},
   "outputs": [
    {
     "ename": "NameError",
     "evalue": "name 'df_baumkataster_20210718' is not defined",
     "output_type": "error",
     "traceback": [
      "\u001b[1;31m---------------------------------------------------------------------------\u001b[0m",
      "\u001b[1;31mNameError\u001b[0m                                 Traceback (most recent call last)",
      "\u001b[1;32m~\\AppData\\Local\\Temp/ipykernel_18488/2465532078.py\u001b[0m in \u001b[0;36m<module>\u001b[1;34m\u001b[0m\n\u001b[0;32m      1\u001b[0m \u001b[1;31m#   .query('kategorie == \"Parkbaum\"') \\\u001b[0m\u001b[1;33m\u001b[0m\u001b[1;33m\u001b[0m\u001b[0m\n\u001b[0;32m      2\u001b[0m \u001b[1;31m#    .agg(anz_baeume=('objid', 'count'), anz_kinder_va_sk=('objid', 'sum')) \\\u001b[0m\u001b[1;33m\u001b[0m\u001b[1;33m\u001b[0m\u001b[0m\n\u001b[1;32m----> 3\u001b[1;33m \u001b[0mdf_baumkataster_20210718\u001b[0m\u001b[0;31m \u001b[0m\u001b[0;31m\\\u001b[0m\u001b[1;33m\u001b[0m\u001b[1;33m\u001b[0m\u001b[0m\n\u001b[0m\u001b[0;32m      4\u001b[0m    \u001b[1;33m.\u001b[0m\u001b[0mgroupby\u001b[0m\u001b[1;33m(\u001b[0m\u001b[1;33m[\u001b[0m\u001b[1;34m'kategorie'\u001b[0m\u001b[1;33m,\u001b[0m\u001b[1;34m'status'\u001b[0m \u001b[1;33m]\u001b[0m\u001b[1;33m)\u001b[0m\u001b[0;31m \u001b[0m\u001b[0;31m\\\u001b[0m\u001b[1;33m\u001b[0m\u001b[1;33m\u001b[0m\u001b[0m\n\u001b[0;32m      5\u001b[0m    \u001b[1;33m.\u001b[0m\u001b[0magg\u001b[0m\u001b[1;33m(\u001b[0m\u001b[0manz_baeume\u001b[0m\u001b[1;33m=\u001b[0m\u001b[1;33m(\u001b[0m\u001b[1;34m'baumnummer'\u001b[0m\u001b[1;33m,\u001b[0m \u001b[1;34m'count'\u001b[0m\u001b[1;33m)\u001b[0m\u001b[1;33m)\u001b[0m\u001b[0;31m \u001b[0m\u001b[0;31m\\\u001b[0m\u001b[1;33m\u001b[0m\u001b[1;33m\u001b[0m\u001b[0m\n",
      "\u001b[1;31mNameError\u001b[0m: name 'df_baumkataster_20210718' is not defined"
     ]
    }
   ],
   "source": [
    " #   .query('kategorie == \"Parkbaum\"') \\\n",
    "#    .agg(anz_baeume=('objid', 'count'), anz_kinder_va_sk=('objid', 'sum')) \\\n",
    "df_baumkataster_20210718 \\\n",
    "    .groupby(['kategorie','status' ]) \\\n",
    "    .agg(anz_baeume=('baumnummer', 'count')) \\\n",
    "    .sort_values('kategorie', ascending=False) \\\n",
    "    .head(500)"
   ]
  },
  {
   "cell_type": "markdown",
   "id": "be69a041",
   "metadata": {},
   "source": [
    "Welche Baumart ist bei den Parkbäumen die Häufigste?"
   ]
  },
  {
   "cell_type": "code",
   "execution_count": 48,
   "id": "04b050ff",
   "metadata": {},
   "outputs": [
    {
     "data": {
      "text/html": [
       "<div>\n",
       "<style scoped>\n",
       "    .dataframe tbody tr th:only-of-type {\n",
       "        vertical-align: middle;\n",
       "    }\n",
       "\n",
       "    .dataframe tbody tr th {\n",
       "        vertical-align: top;\n",
       "    }\n",
       "\n",
       "    .dataframe thead th {\n",
       "        text-align: right;\n",
       "    }\n",
       "</style>\n",
       "<table border=\"1\" class=\"dataframe\">\n",
       "  <thead>\n",
       "    <tr style=\"text-align: right;\">\n",
       "      <th></th>\n",
       "      <th></th>\n",
       "      <th></th>\n",
       "      <th></th>\n",
       "      <th></th>\n",
       "      <th></th>\n",
       "      <th>anz_baeume</th>\n",
       "    </tr>\n",
       "    <tr>\n",
       "      <th>kategorie</th>\n",
       "      <th>status</th>\n",
       "      <th>baumgattunglat</th>\n",
       "      <th>baumartlat</th>\n",
       "      <th>baumnamelat</th>\n",
       "      <th>baumnamedeu</th>\n",
       "      <th></th>\n",
       "    </tr>\n",
       "  </thead>\n",
       "  <tbody>\n",
       "    <tr>\n",
       "      <th rowspan=\"10\" valign=\"top\">Parkbaum</th>\n",
       "      <th rowspan=\"3\" valign=\"top\">Grünanlage</th>\n",
       "      <th>Carpinus</th>\n",
       "      <th>betulus</th>\n",
       "      <th>Carpinus betulus</th>\n",
       "      <th>Gemeine Hain- oder Weissbuche</th>\n",
       "      <td>3130</td>\n",
       "    </tr>\n",
       "    <tr>\n",
       "      <th>Taxus</th>\n",
       "      <th>baccata</th>\n",
       "      <th>Taxus baccata</th>\n",
       "      <th>Eibe, Gewöhnliche Eibe</th>\n",
       "      <td>2107</td>\n",
       "    </tr>\n",
       "    <tr>\n",
       "      <th>Pinus</th>\n",
       "      <th>sylvestris</th>\n",
       "      <th>Pinus sylvestris</th>\n",
       "      <th>Gewöhnlicher Kiefer, Wald-Kiefer, Föhre</th>\n",
       "      <td>1807</td>\n",
       "    </tr>\n",
       "    <tr>\n",
       "      <th>Obst</th>\n",
       "      <th>Malus</th>\n",
       "      <th>domestica</th>\n",
       "      <th>Malus domestica cv.</th>\n",
       "      <th>Apfel-Obstgehölz, Sorte unbekannt</th>\n",
       "      <td>1661</td>\n",
       "    </tr>\n",
       "    <tr>\n",
       "      <th rowspan=\"6\" valign=\"top\">Grünanlage</th>\n",
       "      <th>Acer</th>\n",
       "      <th>campestre</th>\n",
       "      <th>Acer campestre</th>\n",
       "      <th>Feld-Ahorn, Hecken-Ahorn</th>\n",
       "      <td>1639</td>\n",
       "    </tr>\n",
       "    <tr>\n",
       "      <th>Betula</th>\n",
       "      <th>pendula</th>\n",
       "      <th>Betula pendula</th>\n",
       "      <th>Sand-Birke, Weiss-Birke</th>\n",
       "      <td>1600</td>\n",
       "    </tr>\n",
       "    <tr>\n",
       "      <th>Fraxinus</th>\n",
       "      <th>excelsior</th>\n",
       "      <th>Fraxinus excelsior</th>\n",
       "      <th>Gemeine Esche</th>\n",
       "      <td>1581</td>\n",
       "    </tr>\n",
       "    <tr>\n",
       "      <th>Acer</th>\n",
       "      <th>platanoides</th>\n",
       "      <th>Acer platanoides</th>\n",
       "      <th>Spitz-Ahorn</th>\n",
       "      <td>1514</td>\n",
       "    </tr>\n",
       "    <tr>\n",
       "      <th>Picea</th>\n",
       "      <th>abies</th>\n",
       "      <th>Picea abies</th>\n",
       "      <th>Rottanne, Fichte</th>\n",
       "      <td>1394</td>\n",
       "    </tr>\n",
       "    <tr>\n",
       "      <th>Acer</th>\n",
       "      <th>pseudoplatanus</th>\n",
       "      <th>Acer pseudoplatanus</th>\n",
       "      <th>Berg-Ahorn, Wald-Ahorn</th>\n",
       "      <td>1263</td>\n",
       "    </tr>\n",
       "  </tbody>\n",
       "</table>\n",
       "</div>"
      ],
      "text/plain": [
       "                                                                                                                anz_baeume\n",
       "kategorie status     baumgattunglat baumartlat     baumnamelat         baumnamedeu                                        \n",
       "Parkbaum  Grünanlage Carpinus       betulus        Carpinus betulus    Gemeine Hain- oder Weissbuche                  3130\n",
       "                     Taxus          baccata        Taxus baccata       Eibe, Gewöhnliche Eibe                         2107\n",
       "                     Pinus          sylvestris     Pinus sylvestris    Gewöhnlicher Kiefer, Wald-Kiefer, Föhre        1807\n",
       "          Obst       Malus          domestica      Malus domestica cv. Apfel-Obstgehölz, Sorte unbekannt              1661\n",
       "          Grünanlage Acer           campestre      Acer campestre      Feld-Ahorn, Hecken-Ahorn                       1639\n",
       "                     Betula         pendula        Betula pendula      Sand-Birke, Weiss-Birke                        1600\n",
       "                     Fraxinus       excelsior      Fraxinus excelsior  Gemeine Esche                                  1581\n",
       "                     Acer           platanoides    Acer platanoides    Spitz-Ahorn                                    1514\n",
       "                     Picea          abies          Picea abies         Rottanne, Fichte                               1394\n",
       "                     Acer           pseudoplatanus Acer pseudoplatanus Berg-Ahorn, Wald-Ahorn                         1263"
      ]
     },
     "execution_count": 48,
     "metadata": {},
     "output_type": "execute_result"
    }
   ],
   "source": [
    "\n",
    "df_baumkataster_20210718 \\\n",
    "    .groupby(['kategorie','status','baumgattunglat','baumartlat','baumnamelat','baumnamedeu' ]) \\\n",
    "    .agg(anz_baeume=('baumnummer', 'count')) \\\n",
    "    .query('kategorie == \"Parkbaum\"') \\\n",
    "    .sort_values('anz_baeume', ascending=False) \\\n",
    "    .head(10)\n",
    "\n",
    "\n"
   ]
  },
  {
   "cell_type": "code",
   "execution_count": null,
   "id": "f6623dd6",
   "metadata": {},
   "outputs": [],
   "source": []
  },
  {
   "cell_type": "code",
   "execution_count": 17,
   "id": "65e823f8",
   "metadata": {},
   "outputs": [
    {
     "data": {
      "text/html": [
       "<div>\n",
       "<style scoped>\n",
       "    .dataframe tbody tr th:only-of-type {\n",
       "        vertical-align: middle;\n",
       "    }\n",
       "\n",
       "    .dataframe tbody tr th {\n",
       "        vertical-align: top;\n",
       "    }\n",
       "\n",
       "    .dataframe thead th {\n",
       "        text-align: right;\n",
       "    }\n",
       "</style>\n",
       "<table border=\"1\" class=\"dataframe\">\n",
       "  <thead>\n",
       "    <tr style=\"text-align: right;\">\n",
       "      <th></th>\n",
       "      <th></th>\n",
       "      <th></th>\n",
       "      <th></th>\n",
       "      <th></th>\n",
       "      <th></th>\n",
       "      <th>anz_baeume</th>\n",
       "    </tr>\n",
       "    <tr>\n",
       "      <th>kategorie</th>\n",
       "      <th>status</th>\n",
       "      <th>baumgattunglat</th>\n",
       "      <th>baumartlat</th>\n",
       "      <th>baumnamelat</th>\n",
       "      <th>baumnamedeu</th>\n",
       "      <th></th>\n",
       "    </tr>\n",
       "  </thead>\n",
       "  <tbody>\n",
       "    <tr>\n",
       "      <th rowspan=\"10\" valign=\"top\">Parkbaum</th>\n",
       "      <th rowspan=\"3\" valign=\"top\">Grünanlage</th>\n",
       "      <th>Carpinus</th>\n",
       "      <th>betulus</th>\n",
       "      <th>Carpinus betulus</th>\n",
       "      <th>Gemeine Hain- oder Weissbuche</th>\n",
       "      <td>2658</td>\n",
       "    </tr>\n",
       "    <tr>\n",
       "      <th>Taxus</th>\n",
       "      <th>baccata</th>\n",
       "      <th>Taxus baccata</th>\n",
       "      <th>Eibe, Gewöhnliche Eibe</th>\n",
       "      <td>1944</td>\n",
       "    </tr>\n",
       "    <tr>\n",
       "      <th>Fraxinus</th>\n",
       "      <th>excelsior</th>\n",
       "      <th>Fraxinus excelsior</th>\n",
       "      <th>Gemeine Esche</th>\n",
       "      <td>1743</td>\n",
       "    </tr>\n",
       "    <tr>\n",
       "      <th>Obst</th>\n",
       "      <th>Malus</th>\n",
       "      <th>domestica</th>\n",
       "      <th>Malus domestica cv.</th>\n",
       "      <th>Apfel-Obstgehölz, Sorte unbekannt</th>\n",
       "      <td>1727</td>\n",
       "    </tr>\n",
       "    <tr>\n",
       "      <th rowspan=\"6\" valign=\"top\">Grünanlage</th>\n",
       "      <th>Pinus</th>\n",
       "      <th>sylvestris</th>\n",
       "      <th>Pinus sylvestris</th>\n",
       "      <th>Gewöhnlicher Kiefer, Wald-Kiefer, Föhre</th>\n",
       "      <td>1478</td>\n",
       "    </tr>\n",
       "    <tr>\n",
       "      <th>Picea</th>\n",
       "      <th>abies</th>\n",
       "      <th>Picea abies</th>\n",
       "      <th>Rottanne, Fichte</th>\n",
       "      <td>1353</td>\n",
       "    </tr>\n",
       "    <tr>\n",
       "      <th>Betula</th>\n",
       "      <th>pendula</th>\n",
       "      <th>Betula pendula</th>\n",
       "      <th>Sand-Birke, Weiss-Birke</th>\n",
       "      <td>1343</td>\n",
       "    </tr>\n",
       "    <tr>\n",
       "      <th rowspan=\"2\" valign=\"top\">Acer</th>\n",
       "      <th>campestre</th>\n",
       "      <th>Acer campestre</th>\n",
       "      <th>Feld-Ahorn, Hecken-Ahorn</th>\n",
       "      <td>1241</td>\n",
       "    </tr>\n",
       "    <tr>\n",
       "      <th>platanoides</th>\n",
       "      <th>Acer platanoides</th>\n",
       "      <th>Spitz-Ahorn</th>\n",
       "      <td>1013</td>\n",
       "    </tr>\n",
       "    <tr>\n",
       "      <th>Platanus</th>\n",
       "      <th>x hispanica</th>\n",
       "      <th>Platanus x hispanica</th>\n",
       "      <th>Platane (occidentalis x orientalis)</th>\n",
       "      <td>947</td>\n",
       "    </tr>\n",
       "  </tbody>\n",
       "</table>\n",
       "</div>"
      ],
      "text/plain": [
       "                                                                                                              anz_baeume\n",
       "kategorie status     baumgattunglat baumartlat  baumnamelat          baumnamedeu                                        \n",
       "Parkbaum  Grünanlage Carpinus       betulus     Carpinus betulus     Gemeine Hain- oder Weissbuche                  2658\n",
       "                     Taxus          baccata     Taxus baccata        Eibe, Gewöhnliche Eibe                         1944\n",
       "                     Fraxinus       excelsior   Fraxinus excelsior   Gemeine Esche                                  1743\n",
       "          Obst       Malus          domestica   Malus domestica cv.  Apfel-Obstgehölz, Sorte unbekannt              1727\n",
       "          Grünanlage Pinus          sylvestris  Pinus sylvestris     Gewöhnlicher Kiefer, Wald-Kiefer, Föhre        1478\n",
       "                     Picea          abies       Picea abies          Rottanne, Fichte                               1353\n",
       "                     Betula         pendula     Betula pendula       Sand-Birke, Weiss-Birke                        1343\n",
       "                     Acer           campestre   Acer campestre       Feld-Ahorn, Hecken-Ahorn                       1241\n",
       "                                    platanoides Acer platanoides     Spitz-Ahorn                                    1013\n",
       "                     Platanus       x hispanica Platanus x hispanica Platane (occidentalis x orientalis)             947"
      ]
     },
     "execution_count": 17,
     "metadata": {},
     "output_type": "execute_result"
    }
   ],
   "source": [
    "#    .query('kategorie == \"Strassenbaum\"') \\\n",
    "df_baumkataster_20181023 \\\n",
    "    .groupby(['kategorie','status','baumgattunglat','baumartlat','baumnamelat','baumnamedeu' ]) \\\n",
    "    .agg(anz_baeume=('baumnummer', 'count')) \\\n",
    "    .query('kategorie == \"Parkbaum\"') \\\n",
    "    .sort_values('anz_baeume', ascending=False) \\\n",
    "    .head(10)"
   ]
  },
  {
   "cell_type": "code",
   "execution_count": 11,
   "id": "645d36df",
   "metadata": {},
   "outputs": [
    {
     "data": {
      "text/html": [
       "<div>\n",
       "<style scoped>\n",
       "    .dataframe tbody tr th:only-of-type {\n",
       "        vertical-align: middle;\n",
       "    }\n",
       "\n",
       "    .dataframe tbody tr th {\n",
       "        vertical-align: top;\n",
       "    }\n",
       "\n",
       "    .dataframe thead th {\n",
       "        text-align: right;\n",
       "    }\n",
       "</style>\n",
       "<table border=\"1\" class=\"dataframe\">\n",
       "  <thead>\n",
       "    <tr style=\"text-align: right;\">\n",
       "      <th></th>\n",
       "      <th></th>\n",
       "      <th></th>\n",
       "      <th></th>\n",
       "      <th></th>\n",
       "      <th></th>\n",
       "      <th>anz_baeume</th>\n",
       "    </tr>\n",
       "    <tr>\n",
       "      <th>kategorie</th>\n",
       "      <th>status</th>\n",
       "      <th>baumgattunglat</th>\n",
       "      <th>baumartlat</th>\n",
       "      <th>baumnamelat</th>\n",
       "      <th>baumnamedeu</th>\n",
       "      <th></th>\n",
       "    </tr>\n",
       "  </thead>\n",
       "  <tbody>\n",
       "    <tr>\n",
       "      <th rowspan=\"12\" valign=\"top\">Parkbaum</th>\n",
       "      <th>Grünanlage</th>\n",
       "      <th>Betula</th>\n",
       "      <th>pendula</th>\n",
       "      <th>Betula pendula</th>\n",
       "      <th>Sand-Birke, Weiss-Birke</th>\n",
       "      <td>1672</td>\n",
       "    </tr>\n",
       "    <tr>\n",
       "      <th>Kanton</th>\n",
       "      <th>Betula</th>\n",
       "      <th>pendula</th>\n",
       "      <th>Betula pendula</th>\n",
       "      <th>Sand-Birke, Weiss-Birke</th>\n",
       "      <td>342</td>\n",
       "    </tr>\n",
       "    <tr>\n",
       "      <th>Wohnsiedlungen</th>\n",
       "      <th>Betula</th>\n",
       "      <th>pendula</th>\n",
       "      <th>Betula pendula</th>\n",
       "      <th>Sand-Birke, Weiss-Birke</th>\n",
       "      <td>130</td>\n",
       "    </tr>\n",
       "    <tr>\n",
       "      <th rowspan=\"3\" valign=\"top\">Grünanlage</th>\n",
       "      <th rowspan=\"3\" valign=\"top\">Betula</th>\n",
       "      <th rowspan=\"3\" valign=\"top\">pendula</th>\n",
       "      <th>Betula pendula 'Youngii'</th>\n",
       "      <th>Sand-Birke, Weiss-Birke</th>\n",
       "      <td>29</td>\n",
       "    </tr>\n",
       "    <tr>\n",
       "      <th>Betula pendula 'Zwitsers Glorie'</th>\n",
       "      <th>Sand-Birke, Weiss-Birke</th>\n",
       "      <td>23</td>\n",
       "    </tr>\n",
       "    <tr>\n",
       "      <th>Betula pendula 'Crispa'</th>\n",
       "      <th>Sand-Birke, Weiss-Birke</th>\n",
       "      <td>8</td>\n",
       "    </tr>\n",
       "    <tr>\n",
       "      <th>Schulen</th>\n",
       "      <th>Betula</th>\n",
       "      <th>pendula</th>\n",
       "      <th>Betula pendula</th>\n",
       "      <th>Sand-Birke, Weiss-Birke</th>\n",
       "      <td>5</td>\n",
       "    </tr>\n",
       "    <tr>\n",
       "      <th>Wohnsiedlungen</th>\n",
       "      <th>Betula</th>\n",
       "      <th>pendula</th>\n",
       "      <th>Betula pendula 'Zwitsers Glorie'</th>\n",
       "      <th>Sand-Birke, Weiss-Birke</th>\n",
       "      <td>4</td>\n",
       "    </tr>\n",
       "    <tr>\n",
       "      <th rowspan=\"4\" valign=\"top\">Grünanlage</th>\n",
       "      <th>Betula</th>\n",
       "      <th>pendula</th>\n",
       "      <th>Betula pendula 'Laciniata'</th>\n",
       "      <th>Sand-Birke, Weiss-Birke</th>\n",
       "      <td>3</td>\n",
       "    </tr>\n",
       "    <tr>\n",
       "      <th>Prunus</th>\n",
       "      <th>pendula</th>\n",
       "      <th>Prunus pendula</th>\n",
       "      <th>Higan-Kirsche</th>\n",
       "      <td>2</td>\n",
       "    </tr>\n",
       "    <tr>\n",
       "      <th rowspan=\"2\" valign=\"top\">Betula</th>\n",
       "      <th rowspan=\"2\" valign=\"top\">pendula</th>\n",
       "      <th>Betula pendula 'Swiss Glory'</th>\n",
       "      <th>Sand-Birke, Weiss-Birke</th>\n",
       "      <td>1</td>\n",
       "    </tr>\n",
       "    <tr>\n",
       "      <th>Betula pendula 'Tristis'</th>\n",
       "      <th>Sand-Birke, Weiss-Birke</th>\n",
       "      <td>1</td>\n",
       "    </tr>\n",
       "  </tbody>\n",
       "</table>\n",
       "</div>"
      ],
      "text/plain": [
       "                                                                                                             anz_baeume\n",
       "kategorie status         baumgattunglat baumartlat baumnamelat                      baumnamedeu                        \n",
       "Parkbaum  Grünanlage     Betula         pendula    Betula pendula                   Sand-Birke, Weiss-Birke        1672\n",
       "          Kanton         Betula         pendula    Betula pendula                   Sand-Birke, Weiss-Birke         342\n",
       "          Wohnsiedlungen Betula         pendula    Betula pendula                   Sand-Birke, Weiss-Birke         130\n",
       "          Grünanlage     Betula         pendula    Betula pendula 'Youngii'         Sand-Birke, Weiss-Birke          29\n",
       "                                                   Betula pendula 'Zwitsers Glorie' Sand-Birke, Weiss-Birke          23\n",
       "                                                   Betula pendula 'Crispa'          Sand-Birke, Weiss-Birke           8\n",
       "          Schulen        Betula         pendula    Betula pendula                   Sand-Birke, Weiss-Birke           5\n",
       "          Wohnsiedlungen Betula         pendula    Betula pendula 'Zwitsers Glorie' Sand-Birke, Weiss-Birke           4\n",
       "          Grünanlage     Betula         pendula    Betula pendula 'Laciniata'       Sand-Birke, Weiss-Birke           3\n",
       "                         Prunus         pendula    Prunus pendula                   Higan-Kirsche                     2\n",
       "                         Betula         pendula    Betula pendula 'Swiss Glory'     Sand-Birke, Weiss-Birke           1\n",
       "                                                   Betula pendula 'Tristis'         Sand-Birke, Weiss-Birke           1"
      ]
     },
     "execution_count": 11,
     "metadata": {},
     "output_type": "execute_result"
    }
   ],
   "source": [
    "#    .query('kategorie == \"Strassenbaum\"') \\\n",
    "df_baumkataster_baumstandorte_aktuell \\\n",
    "    .groupby(['kategorie','status','baumgattunglat','baumartlat','baumnamelat','baumnamedeu' ]) \\\n",
    "    .agg(anz_baeume=('baumnummer', 'count')) \\\n",
    "    .query('kategorie == \"Parkbaum\" & baumartlat ==\"pendula\"') \\\n",
    "    .sort_values('anz_baeume', ascending=False) \\\n",
    "    .head(50)"
   ]
  },
  {
   "cell_type": "markdown",
   "id": "e3ab375b-cbf4-4765-ac37-916b884cf175",
   "metadata": {},
   "source": [
    "#### Schauen wir uns kurz die Baumersatzliste an"
   ]
  },
  {
   "cell_type": "code",
   "execution_count": 104,
   "id": "c2684ad1",
   "metadata": {},
   "outputs": [
    {
     "data": {
      "text/html": [
       "<div>\n",
       "<style scoped>\n",
       "    .dataframe tbody tr th:only-of-type {\n",
       "        vertical-align: middle;\n",
       "    }\n",
       "\n",
       "    .dataframe tbody tr th {\n",
       "        vertical-align: top;\n",
       "    }\n",
       "\n",
       "    .dataframe thead th {\n",
       "        text-align: right;\n",
       "    }\n",
       "</style>\n",
       "<table border=\"1\" class=\"dataframe\">\n",
       "  <thead>\n",
       "    <tr style=\"text-align: right;\">\n",
       "      <th></th>\n",
       "      <th>id</th>\n",
       "      <th>baumartdt</th>\n",
       "      <th>baumartlat</th>\n",
       "      <th>baumnummer</th>\n",
       "      <th>ersatzplfanzung</th>\n",
       "      <th>faellgrund</th>\n",
       "      <th>faellursache</th>\n",
       "      <th>kategorie</th>\n",
       "      <th>neuebaumart</th>\n",
       "      <th>objectid</th>\n",
       "      <th>standort</th>\n",
       "      <th>unterhaltsbezirk</th>\n",
       "      <th>vermessbezirk</th>\n",
       "      <th>geometry</th>\n",
       "      <th>AnzBaeume</th>\n",
       "    </tr>\n",
       "  </thead>\n",
       "  <tbody>\n",
       "    <tr>\n",
       "      <th>0</th>\n",
       "      <td>baumersatz.1</td>\n",
       "      <td>Pflaume-Obstgehölz, Sorte unbekannt (Pflaume)</td>\n",
       "      <td>Prunus domestica insititia cv.</td>\n",
       "      <td>AF-2039</td>\n",
       "      <td>natürlicher Aufwuchs, Gehölzgruppe</td>\n",
       "      <td>Verkehrssicherheit (stand-, bruchgefährdet)</td>\n",
       "      <td>Schäden</td>\n",
       "      <td>Parkbaum</td>\n",
       "      <td>None</td>\n",
       "      <td>1</td>\n",
       "      <td>FH Affoltern; Zehntenhausstrasse, 90</td>\n",
       "      <td>Affoltern, Friedhof Nordheim</td>\n",
       "      <td>Affoltern</td>\n",
       "      <td>POINT (8.51000 47.42253)</td>\n",
       "      <td>1</td>\n",
       "    </tr>\n",
       "    <tr>\n",
       "      <th>142</th>\n",
       "      <td>baumersatz.143</td>\n",
       "      <td>Pyramiden-Pappel, Italienische Pappel</td>\n",
       "      <td>Populus nigra 'Italica'</td>\n",
       "      <td>IQ-2424</td>\n",
       "      <td>1:1-Ersatz</td>\n",
       "      <td>Vitalität (absterbend, abgestorben)</td>\n",
       "      <td>Schäden</td>\n",
       "      <td>Parkbaum</td>\n",
       "      <td>None</td>\n",
       "      <td>143</td>\n",
       "      <td>Fischerweg</td>\n",
       "      <td>Wiedikon, Aussersihl</td>\n",
       "      <td>Industriequartier</td>\n",
       "      <td>POINT (8.51577 47.39321)</td>\n",
       "      <td>1</td>\n",
       "    </tr>\n",
       "  </tbody>\n",
       "</table>\n",
       "</div>"
      ],
      "text/plain": [
       "                 id                                      baumartdt  \\\n",
       "0      baumersatz.1  Pflaume-Obstgehölz, Sorte unbekannt (Pflaume)   \n",
       "142  baumersatz.143          Pyramiden-Pappel, Italienische Pappel   \n",
       "\n",
       "                         baumartlat baumnummer  \\\n",
       "0    Prunus domestica insititia cv.    AF-2039   \n",
       "142         Populus nigra 'Italica'    IQ-2424   \n",
       "\n",
       "                        ersatzplfanzung  \\\n",
       "0    natürlicher Aufwuchs, Gehölzgruppe   \n",
       "142                          1:1-Ersatz   \n",
       "\n",
       "                                      faellgrund faellursache kategorie  \\\n",
       "0    Verkehrssicherheit (stand-, bruchgefährdet)      Schäden  Parkbaum   \n",
       "142          Vitalität (absterbend, abgestorben)      Schäden  Parkbaum   \n",
       "\n",
       "    neuebaumart  objectid                              standort  \\\n",
       "0          None         1  FH Affoltern; Zehntenhausstrasse, 90   \n",
       "142        None       143                            Fischerweg   \n",
       "\n",
       "                 unterhaltsbezirk      vermessbezirk  \\\n",
       "0    Affoltern, Friedhof Nordheim          Affoltern   \n",
       "142          Wiedikon, Aussersihl  Industriequartier   \n",
       "\n",
       "                     geometry  AnzBaeume  \n",
       "0    POINT (8.51000 47.42253)          1  \n",
       "142  POINT (8.51577 47.39321)          1  "
      ]
     },
     "execution_count": 104,
     "metadata": {},
     "output_type": "execute_result"
    }
   ],
   "source": [
    "df_baumersatz_baumersatzliste_aktuell.head(2)\n"
   ]
  },
  {
   "cell_type": "code",
   "execution_count": 105,
   "id": "8b2f2405-f22f-4f65-bdb4-39c573306334",
   "metadata": {},
   "outputs": [
    {
     "data": {
      "text/html": [
       "<div>\n",
       "<style scoped>\n",
       "    .dataframe tbody tr th:only-of-type {\n",
       "        vertical-align: middle;\n",
       "    }\n",
       "\n",
       "    .dataframe tbody tr th {\n",
       "        vertical-align: top;\n",
       "    }\n",
       "\n",
       "    .dataframe thead th {\n",
       "        text-align: right;\n",
       "    }\n",
       "</style>\n",
       "<table border=\"1\" class=\"dataframe\">\n",
       "  <thead>\n",
       "    <tr style=\"text-align: right;\">\n",
       "      <th></th>\n",
       "      <th></th>\n",
       "      <th>anz_baeume</th>\n",
       "    </tr>\n",
       "    <tr>\n",
       "      <th>faellgrund</th>\n",
       "      <th>faellursache</th>\n",
       "      <th></th>\n",
       "    </tr>\n",
       "  </thead>\n",
       "  <tbody>\n",
       "    <tr>\n",
       "      <th rowspan=\"2\" valign=\"top\">Vitalität (absterbend, abgestorben)</th>\n",
       "      <th>Krankheiten</th>\n",
       "      <td>107</td>\n",
       "    </tr>\n",
       "    <tr>\n",
       "      <th>Alter</th>\n",
       "      <td>43</td>\n",
       "    </tr>\n",
       "    <tr>\n",
       "      <th>Verkehrssicherheit (stand-, bruchgefährdet)</th>\n",
       "      <th>Krankheiten</th>\n",
       "      <td>22</td>\n",
       "    </tr>\n",
       "    <tr>\n",
       "      <th>Vitalität (absterbend, abgestorben)</th>\n",
       "      <th>Schäden</th>\n",
       "      <td>18</td>\n",
       "    </tr>\n",
       "    <tr>\n",
       "      <th rowspan=\"2\" valign=\"top\">Verkehrssicherheit (stand-, bruchgefährdet)</th>\n",
       "      <th>Schäden</th>\n",
       "      <td>14</td>\n",
       "    </tr>\n",
       "    <tr>\n",
       "      <th>Alter</th>\n",
       "      <td>6</td>\n",
       "    </tr>\n",
       "    <tr>\n",
       "      <th>Grün Stadt Zürich Projekt</th>\n",
       "      <th>Baustellen</th>\n",
       "      <td>4</td>\n",
       "    </tr>\n",
       "    <tr>\n",
       "      <th>Vitalität (absterbend, abgestorben)</th>\n",
       "      <th>Schädlinge</th>\n",
       "      <td>4</td>\n",
       "    </tr>\n",
       "    <tr>\n",
       "      <th>Erdgas-Projekt</th>\n",
       "      <th>Baustellen</th>\n",
       "      <td>2</td>\n",
       "    </tr>\n",
       "    <tr>\n",
       "      <th>Verkehrssicherheit (stand-, bruchgefährdet)</th>\n",
       "      <th>Schädlinge</th>\n",
       "      <td>2</td>\n",
       "    </tr>\n",
       "    <tr>\n",
       "      <th>GSZ-Projekt</th>\n",
       "      <th>Baustellen</th>\n",
       "      <td>1</td>\n",
       "    </tr>\n",
       "    <tr>\n",
       "      <th>Verkehrssicherheit (stand-, bruchgefährdet)</th>\n",
       "      <th>Sturm</th>\n",
       "      <td>1</td>\n",
       "    </tr>\n",
       "    <tr>\n",
       "      <th>Vitalität (absterbend, abgestorben)</th>\n",
       "      <th>Krankheit</th>\n",
       "      <td>1</td>\n",
       "    </tr>\n",
       "  </tbody>\n",
       "</table>\n",
       "</div>"
      ],
      "text/plain": [
       "                                                          anz_baeume\n",
       "faellgrund                                  faellursache            \n",
       "Vitalität (absterbend, abgestorben)         Krankheiten          107\n",
       "                                            Alter                 43\n",
       "Verkehrssicherheit (stand-, bruchgefährdet) Krankheiten           22\n",
       "Vitalität (absterbend, abgestorben)         Schäden               18\n",
       "Verkehrssicherheit (stand-, bruchgefährdet) Schäden               14\n",
       "                                            Alter                  6\n",
       "Grün Stadt Zürich Projekt                   Baustellen             4\n",
       "Vitalität (absterbend, abgestorben)         Schädlinge             4\n",
       "Erdgas-Projekt                              Baustellen             2\n",
       "Verkehrssicherheit (stand-, bruchgefährdet) Schädlinge             2\n",
       "GSZ-Projekt                                 Baustellen             1\n",
       "Verkehrssicherheit (stand-, bruchgefährdet) Sturm                  1\n",
       "Vitalität (absterbend, abgestorben)         Krankheit              1"
      ]
     },
     "execution_count": 105,
     "metadata": {},
     "output_type": "execute_result"
    }
   ],
   "source": [
    "df_baumersatz_baumersatzliste_aktuell \\\n",
    "    .groupby(['faellgrund', 'faellursache']) \\\n",
    "    .agg(anz_baeume=('AnzBaeume', 'sum')) \\\n",
    "    .query('faellgrund != \" \"') \\\n",
    "    .sort_values('anz_baeume', ascending=False) \\\n",
    "    .head(50)"
   ]
  },
  {
   "cell_type": "code",
   "execution_count": 106,
   "id": "48687a74-410f-4362-9cef-819e924b0f33",
   "metadata": {},
   "outputs": [],
   "source": [
    "sel_forTreeMap = df_baumersatz_baumersatzliste_aktuell \\\n",
    "    .groupby(['baumartdt', 'ersatzplfanzung', 'faellgrund', 'faellursache', 'kategorie','vermessbezirk']) \\\n",
    "    .agg(anz_baeume=('baumnummer', 'count')) \\\n",
    "    .query('faellursache != \"\"') \\\n",
    "    .sort_values('anz_baeume', ascending=False) \\\n",
    "    .head(50)\n",
    "\n",
    "#.query('kategorie == \"Parkbaum\" & vermessbezirk ==\"Affoltern\"')\n",
    "\n",
    "forTreeMap = sel_forTreeMap"
   ]
  },
  {
   "cell_type": "code",
   "execution_count": 107,
   "id": "b9c5c4ec-65aa-4fd9-ae00-01a38b52ddf4",
   "metadata": {},
   "outputs": [],
   "source": [
    "#forTreeMap.head(2)\n",
    "#forTreeMap.info()"
   ]
  },
  {
   "cell_type": "code",
   "execution_count": 115,
   "id": "fc104349-8206-4f09-9731-7f2b7f6c65a3",
   "metadata": {},
   "outputs": [
    {
     "data": {
      "application/vnd.plotly.v1+json": {
       "config": {
        "plotlyServerURL": "https://plot.ly"
       },
       "data": [
        {
         "branchvalues": "total",
         "customdata": [
          [
           1,
           "Schwarz-Erle, Rot-Erle"
          ],
          [
           3,
           "Lederblättriger Weissdorn (crus-galli x pubescens)"
          ],
          [
           1,
           "Sand-Birke, Weiss-Birke"
          ],
          [
           4,
           "(?)"
          ],
          [
           2,
           "Berg-Ahorn, Wald-Ahorn"
          ],
          [
           1,
           "Igel-Fichte"
          ],
          [
           1,
           "Spitz-Ahorn"
          ],
          [
           6,
           "Robinie, Schein-Akazie"
          ],
          [
           1,
           "Stiel-Eiche, säulenförmig"
          ],
          [
           1,
           "Sammelbegriff für Zwetschgen, Pflaume, Reneklode usw. (Sorte unbek.)"
          ],
          [
           11,
           "Robinie, Schein-Akazie"
          ],
          [
           1,
           "Kirschpflaume"
          ],
          [
           5,
           "Rottanne, Fichte"
          ],
          [
           2,
           "Gemeine Hain- oder Weissbuche"
          ],
          [
           1,
           "Kirschpflaume"
          ],
          [
           1,
           "Sand-Birke, Weiss-Birke"
          ],
          [
           1,
           "Robinie, Klebrige Robinie"
          ],
          [
           3,
           "Platane (occidentalis x orientalis)"
          ],
          [
           1,
           "Robinie, Schein-Akazie"
          ],
          [
           1,
           "Sand-Birke, Weiss-Birke"
          ],
          [
           2,
           "Sammelbegriff für Zwetschgen, Pflaume, Reneklode usw. (Sorte unbek.)"
          ],
          [
           1,
           "Sal-Weide"
          ],
          [
           1,
           "Platane (occidentalis x orientalis)"
          ],
          [
           1,
           "Platane (occidentalis x orientalis)"
          ],
          [
           1,
           "Pyramiden-Pappel, Italienische Pappel"
          ],
          [
           2,
           "Serbische Fichte"
          ],
          [
           2,
           "Oxelbeere, Schwedische Mehlbeere"
          ],
          [
           1,
           "Pyramiden-Pappel, Italienische Pappel"
          ],
          [
           1,
           "Berg-Kiefer, Latschen-Kiefer"
          ],
          [
           1,
           "Kirschpflaume"
          ],
          [
           43,
           "(?)"
          ],
          [
           1,
           "Riesen-Lebensbaum"
          ],
          [
           1,
           "Silber-Ahorn"
          ],
          [
           1,
           "Pflaume-Obstgehölz, Sorte unbekannt (Pflaume)"
          ],
          [
           1,
           "Silber-Ahorn"
          ],
          [
           1,
           "Schwarz-Erle, Rot-Erle"
          ],
          [
           1,
           "Vogel-Kirsche, Süss-Kirsche"
          ],
          [
           49,
           "(?)"
          ],
          [
           1,
           "Späte Traubenkirsche"
          ],
          [
           1,
           "Kirschpflaume"
          ],
          [
           1,
           "Götterbaum (männlich)"
          ],
          [
           1,
           "Japanische Blüten-Kirsche"
          ],
          [
           1,
           "Sand-Birke, Weiss-Birke"
          ],
          [
           1,
           "Rotbuche"
          ],
          [
           4,
           "(?)"
          ],
          [
           2,
           "Rostnerviger Ahorn"
          ],
          [
           2,
           "Sand-Birke, Weiss-Birke"
          ],
          [
           1,
           "Krim-Linde (cordata x platyphyllos)"
          ],
          [
           5,
           "Zier-Apfel"
          ],
          [
           2,
           "Lärche, Art unbekannt"
          ],
          [
           2,
           "Rotbuche"
          ],
          [
           1,
           "Robinie, Schein-Akazie"
          ],
          [
           1,
           "Gemeine Hain- oder Weissbuche"
          ],
          [
           1,
           "Sauer-Kirsche-Obstgehölz, Sorte unbekannt"
          ],
          [
           6,
           "(?)"
          ],
          [
           2,
           "Lärche, Art unbekannt"
          ],
          [
           1,
           "Oxelbeere, Schwedische Mehlbeere"
          ],
          [
           2,
           "(?)"
          ],
          [
           7,
           "(?)"
          ],
          [
           1,
           "Krim-Linde (cordata x platyphyllos)"
          ],
          [
           1,
           "Amerikanische Rot-Eiche"
          ],
          [
           2,
           "Apfel-Obstgehölz, Sorte unbekannt"
          ],
          [
           1,
           "Baumhasel"
          ],
          [
           1,
           "Berg-Ahorn, Wald-Ahorn"
          ],
          [
           14,
           "(?)"
          ],
          [
           2,
           "Amerikanischer Zürgelbaum"
          ],
          [
           2,
           "Japanische Blüten-Kirsche, Japanische Nelken-Kirsche"
          ],
          [
           1,
           "Gewöhnliche Hopfenbuche"
          ],
          [
           1,
           "Kupfer-Felsenbirne"
          ],
          [
           1,
           "Zier-Apfel, Art unbekannt"
          ],
          [
           1,
           "Weisser Maulbeerbaum"
          ],
          [
           5,
           "Weiss-Weide, Silber-Weide"
          ],
          [
           1,
           "Wechselblättriger Hartriegel"
          ],
          [
           1,
           "Gemeine Rosskastanie"
          ],
          [
           1,
           "Europäische Lärche"
          ],
          [
           3,
           "Feld-Ahorn, Hecken-Ahorn"
          ],
          [
           1,
           "Fächer-Ahorn"
          ],
          [
           1,
           "Gefülltblühende Rosskastanie"
          ],
          [
           3,
           "Gemeine Esche"
          ],
          [
           1,
           "Walnuss-Obstgehölz, Sorte unbekannt"
          ],
          [
           2,
           "Winter-Linde"
          ],
          [
           1,
           "Gemeine Eberesche, Vogelbeerbaum"
          ],
          [
           1,
           "Zwetschge-Obstgehölz, Sorte unbekannt"
          ],
          [
           1,
           "Sammelbegriff für Zwetschgen, Pflaume, Reneklode usw. (Sorte unbek.)"
          ],
          [
           3,
           "Kanadische Pappel (deltoides x nigra)"
          ],
          [
           1,
           "Kirschpflaume"
          ],
          [
           1,
           "Kirschpflaume"
          ],
          [
           1,
           "Kirschpflaume"
          ],
          [
           129,
           "(?)"
          ],
          [
           32,
           "(?)"
          ],
          [
           1,
           "Kuchenbaum, Katsurabaum"
          ],
          [
           2,
           "Laubbaum"
          ],
          [
           1,
           "Zier-Apfel, Art unbekannt"
          ],
          [
           1,
           "Schwarz-Erle, Rot-Erle"
          ],
          [
           1,
           "Schwarz-Erle, Rot-Erle"
          ],
          [
           1,
           "Lederblättriger Weissdorn (crus-galli x pubescens)"
          ],
          [
           3,
           "Spitz-Ahorn"
          ],
          [
           1,
           "Lawsons Scheinzypresse"
          ],
          [
           1,
           "Spitz-Ahorn"
          ],
          [
           1,
           "Kalifornische Weihrauchszeder"
          ],
          [
           1,
           "Südlicher Zürgelbaum"
          ],
          [
           1,
           "Götterbaum (weiblich)"
          ],
          [
           1,
           "Korb-Weide, Hanf-Weide"
          ],
          [
           1,
           "Ginkgo, Mädchenhaarbaum, Fächerblattbaum (weiblich)"
          ],
          [
           1,
           "Walnuss-Obstgehölz, Sorte unbekannt"
          ],
          [
           1,
           "Schwarz-Erle, Rot-Erle"
          ],
          [
           1,
           "Kirschpflaume"
          ],
          [
           1,
           "Higan-Kirsche"
          ],
          [
           1,
           "Vogel-Kirsche, Süss-Kirsche"
          ],
          [
           225,
           "(?)"
          ],
          [
           2,
           "Gemeine Esche"
          ],
          [
           1,
           "Kirschpflaume"
          ],
          [
           1,
           "Robinie, Art unbekannt"
          ],
          [
           1,
           "Winter-Linde, Stadt-Linde"
          ],
          [
           8,
           "Robinie, Schein-Akazie"
          ],
          [
           107,
           "(?)"
          ],
          [
           1,
           "Blauglockenbaum"
          ],
          [
           1,
           "Japanische Blüten-Kirsche, Japanische Nelken-Kirsche"
          ],
          [
           2,
           "Gemeine Hain- oder Weissbuche"
          ],
          [
           6,
           "(?)"
          ],
          [
           1,
           "Feld-Ahorn, Hecken-Ahorn"
          ],
          [
           1,
           "Kolchischer Ahorn"
          ],
          [
           22,
           "(?)"
          ],
          [
           1,
           "Berg-Kiefer, Latschen-Kiefer"
          ],
          [
           1,
           "Vogel-Kirsche, Süss-Kirsche"
          ],
          [
           1,
           "Berg-Ahorn, Wald-Ahorn"
          ],
          [
           2,
           "Lederblättriger Weissdorn (crus-galli x pubescens)"
          ],
          [
           1,
           "Blauglockenbaum"
          ],
          [
           1,
           "Blauglockenbaum"
          ],
          [
           1,
           "Gemeine Eberesche, Vogelbeerbaum"
          ],
          [
           1,
           "Eisenhutblättriger Ahorn"
          ],
          [
           1,
           "Eisenhutblättriger Ahorn"
          ],
          [
           18,
           "Gemeine Esche"
          ],
          [
           1,
           "Eingriffliger Weissdorn"
          ],
          [
           1,
           "Rottanne, Fichte"
          ],
          [
           1,
           "Spitz-Ahorn (kugelförmig)"
          ],
          [
           7,
           "Spitz-Ahorn"
          ],
          [
           7,
           "Vogel-Kirsche, Süss-Kirsche (gefüllte)"
          ],
          [
           2,
           "Sapindus-Fichte, Orientalische Fichte"
          ],
          [
           1,
           "Sal-Weide"
          ],
          [
           1,
           "Japanische Blüten-Kirsche, Japanische Nelken-Kirsche"
          ],
          [
           9,
           "Sand-Birke, Weiss-Birke"
          ],
          [
           18,
           "(?)"
          ],
          [
           1,
           "Zweigriffliger Weissdorn (laevigata x monogyna)"
          ],
          [
           1,
           "Apfel-Obstgehölz, Sorte unbekannt"
          ]
         ],
         "domain": {
          "x": [
           0,
           1
          ],
          "y": [
           0,
           1
          ]
         },
         "hovertemplate": "labels=%{label}<br>AnzBaeume=%{customdata[0]}<br>parent=%{parent}<br>id=%{id}<br>baumartdt=%{customdata[1]}<extra></extra>",
         "ids": [
          "Alphabet/Alter/Verkehrssicherheit (stand-, bruchgefährdet)/Schwarz-Erle, Rot-Erle",
          "Alphabet/Krankheiten/Vitalität (absterbend, abgestorben)/Lederblättriger Weissdorn (crus-galli x pubescens)",
          "Alphabet/Krankheiten/Verkehrssicherheit (stand-, bruchgefährdet)/Sand-Birke, Weiss-Birke",
          "Alphabet/Baustellen/Grün Stadt Zürich Projekt",
          "Alphabet/Krankheiten/Vitalität (absterbend, abgestorben)/Berg-Ahorn, Wald-Ahorn",
          "Alphabet/Baustellen/Grün Stadt Zürich Projekt/Igel-Fichte",
          "Alphabet/Krankheiten/Verkehrssicherheit (stand-, bruchgefährdet)/Spitz-Ahorn",
          "Alphabet/Krankheiten/Vitalität (absterbend, abgestorben)/Robinie, Schein-Akazie",
          "Alphabet/Krankheiten/Vitalität (absterbend, abgestorben)/Stiel-Eiche, säulenförmig",
          "Alphabet/Baustellen/GSZ-Projekt/Sammelbegriff für Zwetschgen, Pflaume, Reneklode usw. (Sorte unbek.)",
          "Alphabet/Alter/Vitalität (absterbend, abgestorben)/Robinie, Schein-Akazie",
          "Alphabet/Schäden/Vitalität (absterbend, abgestorben)/Kirschpflaume",
          "Alphabet/Krankheiten/Vitalität (absterbend, abgestorben)/Rottanne, Fichte",
          "Alphabet/Krankheiten/Vitalität (absterbend, abgestorben)/Gemeine Hain- oder Weissbuche",
          "Alphabet/Krankheit/Vitalität (absterbend, abgestorben)",
          "Alphabet/Alter/Vitalität (absterbend, abgestorben)/Sand-Birke, Weiss-Birke",
          "Alphabet/Alter/Vitalität (absterbend, abgestorben)/Robinie, Klebrige Robinie",
          "Alphabet/Krankheiten/Vitalität (absterbend, abgestorben)/Platane (occidentalis x orientalis)",
          "Alphabet/Alter/Verkehrssicherheit (stand-, bruchgefährdet)/Robinie, Schein-Akazie",
          "Alphabet/Baustellen/Grün Stadt Zürich Projekt/Sand-Birke, Weiss-Birke",
          "Alphabet/Krankheiten/Vitalität (absterbend, abgestorben)/Sammelbegriff für Zwetschgen, Pflaume, Reneklode usw. (Sorte unbek.)",
          "Alphabet/Krankheiten/Vitalität (absterbend, abgestorben)/Sal-Weide",
          "Alphabet/Alter/Vitalität (absterbend, abgestorben)/Platane (occidentalis x orientalis)",
          "Alphabet/Schäden/Vitalität (absterbend, abgestorben)/Platane (occidentalis x orientalis)",
          "Alphabet/Krankheiten/Vitalität (absterbend, abgestorben)/Pyramiden-Pappel, Italienische Pappel",
          "Alphabet/Krankheiten/Vitalität (absterbend, abgestorben)/Serbische Fichte",
          "Alphabet/Alter/Vitalität (absterbend, abgestorben)/Oxelbeere, Schwedische Mehlbeere",
          "Alphabet/Schäden/Vitalität (absterbend, abgestorben)/Pyramiden-Pappel, Italienische Pappel",
          "Alphabet/Krankheiten/Verkehrssicherheit (stand-, bruchgefährdet)/Berg-Kiefer, Latschen-Kiefer",
          "Alphabet/Sturm/Verkehrssicherheit (stand-, bruchgefährdet)",
          "Alphabet/Alter/Vitalität (absterbend, abgestorben)",
          "Alphabet/Krankheiten/Vitalität (absterbend, abgestorben)/Riesen-Lebensbaum",
          "Alphabet/Alter/Vitalität (absterbend, abgestorben)/Silber-Ahorn",
          "Alphabet/Schäden/Verkehrssicherheit (stand-, bruchgefährdet)/Pflaume-Obstgehölz, Sorte unbekannt (Pflaume)",
          "Alphabet/Schäden/Verkehrssicherheit (stand-, bruchgefährdet)/Silber-Ahorn",
          "Alphabet/Krankheiten/Vitalität (absterbend, abgestorben)/Schwarz-Erle, Rot-Erle",
          "Alphabet/Alter/Vitalität (absterbend, abgestorben)/Vogel-Kirsche, Süss-Kirsche",
          "Alphabet/Alter",
          "Alphabet/Schädlinge/Verkehrssicherheit (stand-, bruchgefährdet)/Späte Traubenkirsche",
          "Alphabet/Krankheit",
          "Alphabet/Krankheiten/Vitalität (absterbend, abgestorben)/Götterbaum (männlich)",
          "Alphabet/Krankheiten/Vitalität (absterbend, abgestorben)/Japanische Blüten-Kirsche",
          "Alphabet/Schäden/Verkehrssicherheit (stand-, bruchgefährdet)/Sand-Birke, Weiss-Birke",
          "Alphabet/Alter/Verkehrssicherheit (stand-, bruchgefährdet)/Rotbuche",
          "Alphabet/Schädlinge/Vitalität (absterbend, abgestorben)",
          "Alphabet/Alter/Vitalität (absterbend, abgestorben)/Rostnerviger Ahorn",
          "Alphabet/Schäden/Vitalität (absterbend, abgestorben)/Sand-Birke, Weiss-Birke",
          "Alphabet/Krankheiten/Vitalität (absterbend, abgestorben)/Krim-Linde (cordata x platyphyllos)",
          "Alphabet/Krankheiten/Vitalität (absterbend, abgestorben)/Zier-Apfel",
          "Alphabet/Baustellen/Erdgas-Projekt",
          "Alphabet/Alter/Vitalität (absterbend, abgestorben)/Rotbuche",
          "Alphabet/Schäden/Verkehrssicherheit (stand-, bruchgefährdet)/Robinie, Schein-Akazie",
          "Alphabet/Schäden/Verkehrssicherheit (stand-, bruchgefährdet)/Gemeine Hain- oder Weissbuche",
          "Alphabet/Alter/Vitalität (absterbend, abgestorben)/Sauer-Kirsche-Obstgehölz, Sorte unbekannt",
          "Alphabet/Schädlinge",
          "Alphabet/Baustellen/Erdgas-Projekt/Lärche, Art unbekannt",
          "Alphabet/Krankheiten/Verkehrssicherheit (stand-, bruchgefährdet)/Oxelbeere, Schwedische Mehlbeere",
          "Alphabet/Schädlinge/Verkehrssicherheit (stand-, bruchgefährdet)",
          "Alphabet/Baustellen",
          "Alphabet/Schäden/Vitalität (absterbend, abgestorben)/Krim-Linde (cordata x platyphyllos)",
          "Alphabet/Krankheiten/Vitalität (absterbend, abgestorben)/Amerikanische Rot-Eiche",
          "Alphabet/Krankheiten/Vitalität (absterbend, abgestorben)/Apfel-Obstgehölz, Sorte unbekannt",
          "Alphabet/Schäden/Verkehrssicherheit (stand-, bruchgefährdet)/Baumhasel",
          "Alphabet/Schäden/Verkehrssicherheit (stand-, bruchgefährdet)/Berg-Ahorn, Wald-Ahorn",
          "Alphabet/Schäden/Verkehrssicherheit (stand-, bruchgefährdet)",
          "Alphabet/Alter/Vitalität (absterbend, abgestorben)/Amerikanischer Zürgelbaum",
          "Alphabet/Krankheiten/Vitalität (absterbend, abgestorben)/Japanische Blüten-Kirsche, Japanische Nelken-Kirsche",
          "Alphabet/Alter/Vitalität (absterbend, abgestorben)/Gewöhnliche Hopfenbuche",
          "Alphabet/Krankheiten/Vitalität (absterbend, abgestorben)/Kupfer-Felsenbirne",
          "Alphabet/Schäden/Vitalität (absterbend, abgestorben)/Zier-Apfel, Art unbekannt",
          "Alphabet/Alter/Verkehrssicherheit (stand-, bruchgefährdet)/Weisser Maulbeerbaum",
          "Alphabet/Schäden/Vitalität (absterbend, abgestorben)/Weiss-Weide, Silber-Weide",
          "Alphabet/Krankheiten/Vitalität (absterbend, abgestorben)/Wechselblättriger Hartriegel",
          "Alphabet/Schäden/Verkehrssicherheit (stand-, bruchgefährdet)/Gemeine Rosskastanie",
          "Alphabet/Alter/Vitalität (absterbend, abgestorben)/Europäische Lärche",
          "Alphabet/Krankheiten/Vitalität (absterbend, abgestorben)/Feld-Ahorn, Hecken-Ahorn",
          "Alphabet/Alter/Vitalität (absterbend, abgestorben)/Fächer-Ahorn",
          "Alphabet/Krankheiten/Vitalität (absterbend, abgestorben)/Gefülltblühende Rosskastanie",
          "Alphabet/Krankheiten/Verkehrssicherheit (stand-, bruchgefährdet)/Gemeine Esche",
          "Alphabet/Krankheiten/Verkehrssicherheit (stand-, bruchgefährdet)/Walnuss-Obstgehölz, Sorte unbekannt",
          "Alphabet/Krankheiten/Vitalität (absterbend, abgestorben)/Winter-Linde",
          "Alphabet/Alter/Vitalität (absterbend, abgestorben)/Gemeine Eberesche, Vogelbeerbaum",
          "Alphabet/Krankheiten/Vitalität (absterbend, abgestorben)/Zwetschge-Obstgehölz, Sorte unbekannt",
          "Alphabet/Baustellen/GSZ-Projekt",
          "Alphabet/Schäden/Verkehrssicherheit (stand-, bruchgefährdet)/Kanadische Pappel (deltoides x nigra)",
          "Alphabet/Krankheiten/Verkehrssicherheit (stand-, bruchgefährdet)/Kirschpflaume",
          "Alphabet/Sturm/Verkehrssicherheit (stand-, bruchgefährdet)/Kirschpflaume",
          "Alphabet/Krankheit/Vitalität (absterbend, abgestorben)/Kirschpflaume",
          "Alphabet/Krankheiten",
          "Alphabet/Schäden",
          "Alphabet/Alter/Vitalität (absterbend, abgestorben)/Kuchenbaum, Katsurabaum",
          "Alphabet/Krankheiten/Vitalität (absterbend, abgestorben)/Laubbaum",
          "Alphabet/Krankheiten/Vitalität (absterbend, abgestorben)/Zier-Apfel, Art unbekannt",
          "Alphabet/Alter/Vitalität (absterbend, abgestorben)/Schwarz-Erle, Rot-Erle",
          "Alphabet/Krankheiten/Verkehrssicherheit (stand-, bruchgefährdet)/Schwarz-Erle, Rot-Erle",
          "Alphabet/Krankheiten/Verkehrssicherheit (stand-, bruchgefährdet)/Lederblättriger Weissdorn (crus-galli x pubescens)",
          "Alphabet/Alter/Vitalität (absterbend, abgestorben)/Spitz-Ahorn",
          "Alphabet/Krankheiten/Vitalität (absterbend, abgestorben)/Lawsons Scheinzypresse",
          "Alphabet/Schäden/Verkehrssicherheit (stand-, bruchgefährdet)/Spitz-Ahorn",
          "Alphabet/Alter/Verkehrssicherheit (stand-, bruchgefährdet)/Kalifornische Weihrauchszeder",
          "Alphabet/Alter/Vitalität (absterbend, abgestorben)/Südlicher Zürgelbaum",
          "Alphabet/Krankheiten/Vitalität (absterbend, abgestorben)/Götterbaum (weiblich)",
          "Alphabet/Alter/Vitalität (absterbend, abgestorben)/Korb-Weide, Hanf-Weide",
          "Alphabet/Krankheiten/Vitalität (absterbend, abgestorben)/Ginkgo, Mädchenhaarbaum, Fächerblattbaum (weiblich)",
          "Alphabet/Alter/Vitalität (absterbend, abgestorben)/Walnuss-Obstgehölz, Sorte unbekannt",
          "Alphabet/Schäden/Vitalität (absterbend, abgestorben)/Schwarz-Erle, Rot-Erle",
          "Alphabet/Krankheiten/Vitalität (absterbend, abgestorben)/Kirschpflaume",
          "Alphabet/Krankheiten/Vitalität (absterbend, abgestorben)/Higan-Kirsche",
          "Alphabet/Baustellen/Grün Stadt Zürich Projekt/Vogel-Kirsche, Süss-Kirsche",
          "Alphabet",
          "Alphabet/Alter/Vitalität (absterbend, abgestorben)/Gemeine Esche",
          "Alphabet/Sturm",
          "Alphabet/Krankheiten/Vitalität (absterbend, abgestorben)/Robinie, Art unbekannt",
          "Alphabet/Krankheiten/Vitalität (absterbend, abgestorben)/Winter-Linde, Stadt-Linde",
          "Alphabet/Krankheiten/Verkehrssicherheit (stand-, bruchgefährdet)/Robinie, Schein-Akazie",
          "Alphabet/Krankheiten/Vitalität (absterbend, abgestorben)",
          "Alphabet/Schäden/Vitalität (absterbend, abgestorben)/Blauglockenbaum",
          "Alphabet/Schäden/Vitalität (absterbend, abgestorben)/Japanische Blüten-Kirsche, Japanische Nelken-Kirsche",
          "Alphabet/Alter/Vitalität (absterbend, abgestorben)/Gemeine Hain- oder Weissbuche",
          "Alphabet/Alter/Verkehrssicherheit (stand-, bruchgefährdet)",
          "Alphabet/Alter/Verkehrssicherheit (stand-, bruchgefährdet)/Feld-Ahorn, Hecken-Ahorn",
          "Alphabet/Schäden/Vitalität (absterbend, abgestorben)/Kolchischer Ahorn",
          "Alphabet/Krankheiten/Verkehrssicherheit (stand-, bruchgefährdet)",
          "Alphabet/Krankheiten/Vitalität (absterbend, abgestorben)/Berg-Kiefer, Latschen-Kiefer",
          "Alphabet/Krankheiten/Verkehrssicherheit (stand-, bruchgefährdet)/Vogel-Kirsche, Süss-Kirsche",
          "Alphabet/Alter/Vitalität (absterbend, abgestorben)/Berg-Ahorn, Wald-Ahorn",
          "Alphabet/Schädlinge/Vitalität (absterbend, abgestorben)/Lederblättriger Weissdorn (crus-galli x pubescens)",
          "Alphabet/Schäden/Verkehrssicherheit (stand-, bruchgefährdet)/Blauglockenbaum",
          "Alphabet/Krankheiten/Vitalität (absterbend, abgestorben)/Blauglockenbaum",
          "Alphabet/Krankheiten/Verkehrssicherheit (stand-, bruchgefährdet)/Gemeine Eberesche, Vogelbeerbaum",
          "Alphabet/Baustellen/Grün Stadt Zürich Projekt/Eisenhutblättriger Ahorn",
          "Alphabet/Krankheiten/Vitalität (absterbend, abgestorben)/Eisenhutblättriger Ahorn",
          "Alphabet/Krankheiten/Vitalität (absterbend, abgestorben)/Gemeine Esche",
          "Alphabet/Schäden/Vitalität (absterbend, abgestorben)/Eingriffliger Weissdorn",
          "Alphabet/Alter/Vitalität (absterbend, abgestorben)/Rottanne, Fichte",
          "Alphabet/Krankheiten/Vitalität (absterbend, abgestorben)/Spitz-Ahorn (kugelförmig)",
          "Alphabet/Krankheiten/Vitalität (absterbend, abgestorben)/Spitz-Ahorn",
          "Alphabet/Krankheiten/Vitalität (absterbend, abgestorben)/Vogel-Kirsche, Süss-Kirsche (gefüllte)",
          "Alphabet/Schädlinge/Vitalität (absterbend, abgestorben)/Sapindus-Fichte, Orientalische Fichte",
          "Alphabet/Schädlinge/Verkehrssicherheit (stand-, bruchgefährdet)/Sal-Weide",
          "Alphabet/Krankheiten/Verkehrssicherheit (stand-, bruchgefährdet)/Japanische Blüten-Kirsche, Japanische Nelken-Kirsche",
          "Alphabet/Krankheiten/Vitalität (absterbend, abgestorben)/Sand-Birke, Weiss-Birke",
          "Alphabet/Schäden/Vitalität (absterbend, abgestorben)",
          "Alphabet/Schäden/Vitalität (absterbend, abgestorben)/Zweigriffliger Weissdorn (laevigata x monogyna)",
          "Alphabet/Schäden/Verkehrssicherheit (stand-, bruchgefährdet)/Apfel-Obstgehölz, Sorte unbekannt"
         ],
         "labels": [
          "Schwarz-Erle, Rot-Erle",
          "Lederblättriger Weissdorn (crus-galli x pubescens)",
          "Sand-Birke, Weiss-Birke",
          "Grün Stadt Zürich Projekt",
          "Berg-Ahorn, Wald-Ahorn",
          "Igel-Fichte",
          "Spitz-Ahorn",
          "Robinie, Schein-Akazie",
          "Stiel-Eiche, säulenförmig",
          "Sammelbegriff für Zwetschgen, Pflaume, Reneklode usw. (Sorte unbek.)",
          "Robinie, Schein-Akazie",
          "Kirschpflaume",
          "Rottanne, Fichte",
          "Gemeine Hain- oder Weissbuche",
          "Vitalität (absterbend, abgestorben)",
          "Sand-Birke, Weiss-Birke",
          "Robinie, Klebrige Robinie",
          "Platane (occidentalis x orientalis)",
          "Robinie, Schein-Akazie",
          "Sand-Birke, Weiss-Birke",
          "Sammelbegriff für Zwetschgen, Pflaume, Reneklode usw. (Sorte unbek.)",
          "Sal-Weide",
          "Platane (occidentalis x orientalis)",
          "Platane (occidentalis x orientalis)",
          "Pyramiden-Pappel, Italienische Pappel",
          "Serbische Fichte",
          "Oxelbeere, Schwedische Mehlbeere",
          "Pyramiden-Pappel, Italienische Pappel",
          "Berg-Kiefer, Latschen-Kiefer",
          "Verkehrssicherheit (stand-, bruchgefährdet)",
          "Vitalität (absterbend, abgestorben)",
          "Riesen-Lebensbaum",
          "Silber-Ahorn",
          "Pflaume-Obstgehölz, Sorte unbekannt (Pflaume)",
          "Silber-Ahorn",
          "Schwarz-Erle, Rot-Erle",
          "Vogel-Kirsche, Süss-Kirsche",
          "Alter",
          "Späte Traubenkirsche",
          "Krankheit",
          "Götterbaum (männlich)",
          "Japanische Blüten-Kirsche",
          "Sand-Birke, Weiss-Birke",
          "Rotbuche",
          "Vitalität (absterbend, abgestorben)",
          "Rostnerviger Ahorn",
          "Sand-Birke, Weiss-Birke",
          "Krim-Linde (cordata x platyphyllos)",
          "Zier-Apfel",
          "Erdgas-Projekt",
          "Rotbuche",
          "Robinie, Schein-Akazie",
          "Gemeine Hain- oder Weissbuche",
          "Sauer-Kirsche-Obstgehölz, Sorte unbekannt",
          "Schädlinge",
          "Lärche, Art unbekannt",
          "Oxelbeere, Schwedische Mehlbeere",
          "Verkehrssicherheit (stand-, bruchgefährdet)",
          "Baustellen",
          "Krim-Linde (cordata x platyphyllos)",
          "Amerikanische Rot-Eiche",
          "Apfel-Obstgehölz, Sorte unbekannt",
          "Baumhasel",
          "Berg-Ahorn, Wald-Ahorn",
          "Verkehrssicherheit (stand-, bruchgefährdet)",
          "Amerikanischer Zürgelbaum",
          "Japanische Blüten-Kirsche, Japanische Nelken-Kirsche",
          "Gewöhnliche Hopfenbuche",
          "Kupfer-Felsenbirne",
          "Zier-Apfel, Art unbekannt",
          "Weisser Maulbeerbaum",
          "Weiss-Weide, Silber-Weide",
          "Wechselblättriger Hartriegel",
          "Gemeine Rosskastanie",
          "Europäische Lärche",
          "Feld-Ahorn, Hecken-Ahorn",
          "Fächer-Ahorn",
          "Gefülltblühende Rosskastanie",
          "Gemeine Esche",
          "Walnuss-Obstgehölz, Sorte unbekannt",
          "Winter-Linde",
          "Gemeine Eberesche, Vogelbeerbaum",
          "Zwetschge-Obstgehölz, Sorte unbekannt",
          "GSZ-Projekt",
          "Kanadische Pappel (deltoides x nigra)",
          "Kirschpflaume",
          "Kirschpflaume",
          "Kirschpflaume",
          "Krankheiten",
          "Schäden",
          "Kuchenbaum, Katsurabaum",
          "Laubbaum",
          "Zier-Apfel, Art unbekannt",
          "Schwarz-Erle, Rot-Erle",
          "Schwarz-Erle, Rot-Erle",
          "Lederblättriger Weissdorn (crus-galli x pubescens)",
          "Spitz-Ahorn",
          "Lawsons Scheinzypresse",
          "Spitz-Ahorn",
          "Kalifornische Weihrauchszeder",
          "Südlicher Zürgelbaum",
          "Götterbaum (weiblich)",
          "Korb-Weide, Hanf-Weide",
          "Ginkgo, Mädchenhaarbaum, Fächerblattbaum (weiblich)",
          "Walnuss-Obstgehölz, Sorte unbekannt",
          "Schwarz-Erle, Rot-Erle",
          "Kirschpflaume",
          "Higan-Kirsche",
          "Vogel-Kirsche, Süss-Kirsche",
          "Alphabet",
          "Gemeine Esche",
          "Sturm",
          "Robinie, Art unbekannt",
          "Winter-Linde, Stadt-Linde",
          "Robinie, Schein-Akazie",
          "Vitalität (absterbend, abgestorben)",
          "Blauglockenbaum",
          "Japanische Blüten-Kirsche, Japanische Nelken-Kirsche",
          "Gemeine Hain- oder Weissbuche",
          "Verkehrssicherheit (stand-, bruchgefährdet)",
          "Feld-Ahorn, Hecken-Ahorn",
          "Kolchischer Ahorn",
          "Verkehrssicherheit (stand-, bruchgefährdet)",
          "Berg-Kiefer, Latschen-Kiefer",
          "Vogel-Kirsche, Süss-Kirsche",
          "Berg-Ahorn, Wald-Ahorn",
          "Lederblättriger Weissdorn (crus-galli x pubescens)",
          "Blauglockenbaum",
          "Blauglockenbaum",
          "Gemeine Eberesche, Vogelbeerbaum",
          "Eisenhutblättriger Ahorn",
          "Eisenhutblättriger Ahorn",
          "Gemeine Esche",
          "Eingriffliger Weissdorn",
          "Rottanne, Fichte",
          "Spitz-Ahorn (kugelförmig)",
          "Spitz-Ahorn",
          "Vogel-Kirsche, Süss-Kirsche (gefüllte)",
          "Sapindus-Fichte, Orientalische Fichte",
          "Sal-Weide",
          "Japanische Blüten-Kirsche, Japanische Nelken-Kirsche",
          "Sand-Birke, Weiss-Birke",
          "Vitalität (absterbend, abgestorben)",
          "Zweigriffliger Weissdorn (laevigata x monogyna)",
          "Apfel-Obstgehölz, Sorte unbekannt"
         ],
         "level": "Alphabet/Schäden",
         "marker": {
          "colors": [
           "#636efa",
           "#EF553B",
           "#00cc96",
           "#ab63fa",
           "#FFA15A",
           "#19d3f3",
           "#FF6692",
           "#B6E880",
           "#FF97FF",
           "#FECB52",
           "#B6E880",
           "#636efa",
           "#EF553B",
           "#00cc96",
           "#636efa",
           "#00cc96",
           "#ab63fa",
           "#FFA15A",
           "#B6E880",
           "#00cc96",
           "#FECB52",
           "#19d3f3",
           "#FFA15A",
           "#FFA15A",
           "#FF6692",
           "#B6E880",
           "#FF97FF",
           "#FF6692",
           "#FECB52",
           "#636efa",
           "#ab63fa",
           "#636efa",
           "#EF553B",
           "#00cc96",
           "#EF553B",
           "#636efa",
           "#ab63fa",
           "#ab63fa",
           "#FFA15A",
           "#636efa",
           "#19d3f3",
           "#FF6692",
           "#00cc96",
           "#B6E880",
           "#ab63fa",
           "#FF97FF",
           "#00cc96",
           "#FECB52",
           "#636efa",
           "#EF553B",
           "#B6E880",
           "#B6E880",
           "#00cc96",
           "#00cc96",
           "#ab63fa",
           "#EF553B",
           "#FF97FF",
           "#ab63fa",
           "#ab63fa",
           "#FECB52",
           "#ab63fa",
           "#FFA15A",
           "#19d3f3",
           "#FFA15A",
           "#ab63fa",
           "#FF6692",
           "#B6E880",
           "#FF97FF",
           "#FECB52",
           "#636efa",
           "#EF553B",
           "#00cc96",
           "#ab63fa",
           "#FFA15A",
           "#19d3f3",
           "#FF6692",
           "#B6E880",
           "#FF97FF",
           "#FECB52",
           "#636efa",
           "#EF553B",
           "#00cc96",
           "#ab63fa",
           "#FECB52",
           "#FFA15A",
           "#636efa",
           "#636efa",
           "#636efa",
           "#ab63fa",
           "#ab63fa",
           "#19d3f3",
           "#FF6692",
           "#636efa",
           "#636efa",
           "#636efa",
           "#EF553B",
           "#FF6692",
           "#B6E880",
           "#FF6692",
           "#FF97FF",
           "#FECB52",
           "#636efa",
           "#EF553B",
           "#00cc96",
           "#636efa",
           "#636efa",
           "#636efa",
           "#ab63fa",
           "#ab63fa",
           "#ab63fa",
           "#FECB52",
           "#636efa",
           "#FFA15A",
           "#19d3f3",
           "#B6E880",
           "#ab63fa",
           "#FF6692",
           "#B6E880",
           "#00cc96",
           "#ab63fa",
           "#FF6692",
           "#B6E880",
           "#ab63fa",
           "#FECB52",
           "#ab63fa",
           "#FFA15A",
           "#EF553B",
           "#FF6692",
           "#FF6692",
           "#00cc96",
           "#FF97FF",
           "#FF97FF",
           "#FECB52",
           "#FECB52",
           "#EF553B",
           "#636efa",
           "#FF6692",
           "#EF553B",
           "#00cc96",
           "#19d3f3",
           "#B6E880",
           "#00cc96",
           "#ab63fa",
           "#ab63fa",
           "#FFA15A"
          ]
         },
         "name": "",
         "parents": [
          "Alphabet/Alter/Verkehrssicherheit (stand-, bruchgefährdet)",
          "Alphabet/Krankheiten/Vitalität (absterbend, abgestorben)",
          "Alphabet/Krankheiten/Verkehrssicherheit (stand-, bruchgefährdet)",
          "Alphabet/Baustellen",
          "Alphabet/Krankheiten/Vitalität (absterbend, abgestorben)",
          "Alphabet/Baustellen/Grün Stadt Zürich Projekt",
          "Alphabet/Krankheiten/Verkehrssicherheit (stand-, bruchgefährdet)",
          "Alphabet/Krankheiten/Vitalität (absterbend, abgestorben)",
          "Alphabet/Krankheiten/Vitalität (absterbend, abgestorben)",
          "Alphabet/Baustellen/GSZ-Projekt",
          "Alphabet/Alter/Vitalität (absterbend, abgestorben)",
          "Alphabet/Schäden/Vitalität (absterbend, abgestorben)",
          "Alphabet/Krankheiten/Vitalität (absterbend, abgestorben)",
          "Alphabet/Krankheiten/Vitalität (absterbend, abgestorben)",
          "Alphabet/Krankheit",
          "Alphabet/Alter/Vitalität (absterbend, abgestorben)",
          "Alphabet/Alter/Vitalität (absterbend, abgestorben)",
          "Alphabet/Krankheiten/Vitalität (absterbend, abgestorben)",
          "Alphabet/Alter/Verkehrssicherheit (stand-, bruchgefährdet)",
          "Alphabet/Baustellen/Grün Stadt Zürich Projekt",
          "Alphabet/Krankheiten/Vitalität (absterbend, abgestorben)",
          "Alphabet/Krankheiten/Vitalität (absterbend, abgestorben)",
          "Alphabet/Alter/Vitalität (absterbend, abgestorben)",
          "Alphabet/Schäden/Vitalität (absterbend, abgestorben)",
          "Alphabet/Krankheiten/Vitalität (absterbend, abgestorben)",
          "Alphabet/Krankheiten/Vitalität (absterbend, abgestorben)",
          "Alphabet/Alter/Vitalität (absterbend, abgestorben)",
          "Alphabet/Schäden/Vitalität (absterbend, abgestorben)",
          "Alphabet/Krankheiten/Verkehrssicherheit (stand-, bruchgefährdet)",
          "Alphabet/Sturm",
          "Alphabet/Alter",
          "Alphabet/Krankheiten/Vitalität (absterbend, abgestorben)",
          "Alphabet/Alter/Vitalität (absterbend, abgestorben)",
          "Alphabet/Schäden/Verkehrssicherheit (stand-, bruchgefährdet)",
          "Alphabet/Schäden/Verkehrssicherheit (stand-, bruchgefährdet)",
          "Alphabet/Krankheiten/Vitalität (absterbend, abgestorben)",
          "Alphabet/Alter/Vitalität (absterbend, abgestorben)",
          "Alphabet",
          "Alphabet/Schädlinge/Verkehrssicherheit (stand-, bruchgefährdet)",
          "Alphabet",
          "Alphabet/Krankheiten/Vitalität (absterbend, abgestorben)",
          "Alphabet/Krankheiten/Vitalität (absterbend, abgestorben)",
          "Alphabet/Schäden/Verkehrssicherheit (stand-, bruchgefährdet)",
          "Alphabet/Alter/Verkehrssicherheit (stand-, bruchgefährdet)",
          "Alphabet/Schädlinge",
          "Alphabet/Alter/Vitalität (absterbend, abgestorben)",
          "Alphabet/Schäden/Vitalität (absterbend, abgestorben)",
          "Alphabet/Krankheiten/Vitalität (absterbend, abgestorben)",
          "Alphabet/Krankheiten/Vitalität (absterbend, abgestorben)",
          "Alphabet/Baustellen",
          "Alphabet/Alter/Vitalität (absterbend, abgestorben)",
          "Alphabet/Schäden/Verkehrssicherheit (stand-, bruchgefährdet)",
          "Alphabet/Schäden/Verkehrssicherheit (stand-, bruchgefährdet)",
          "Alphabet/Alter/Vitalität (absterbend, abgestorben)",
          "Alphabet",
          "Alphabet/Baustellen/Erdgas-Projekt",
          "Alphabet/Krankheiten/Verkehrssicherheit (stand-, bruchgefährdet)",
          "Alphabet/Schädlinge",
          "Alphabet",
          "Alphabet/Schäden/Vitalität (absterbend, abgestorben)",
          "Alphabet/Krankheiten/Vitalität (absterbend, abgestorben)",
          "Alphabet/Krankheiten/Vitalität (absterbend, abgestorben)",
          "Alphabet/Schäden/Verkehrssicherheit (stand-, bruchgefährdet)",
          "Alphabet/Schäden/Verkehrssicherheit (stand-, bruchgefährdet)",
          "Alphabet/Schäden",
          "Alphabet/Alter/Vitalität (absterbend, abgestorben)",
          "Alphabet/Krankheiten/Vitalität (absterbend, abgestorben)",
          "Alphabet/Alter/Vitalität (absterbend, abgestorben)",
          "Alphabet/Krankheiten/Vitalität (absterbend, abgestorben)",
          "Alphabet/Schäden/Vitalität (absterbend, abgestorben)",
          "Alphabet/Alter/Verkehrssicherheit (stand-, bruchgefährdet)",
          "Alphabet/Schäden/Vitalität (absterbend, abgestorben)",
          "Alphabet/Krankheiten/Vitalität (absterbend, abgestorben)",
          "Alphabet/Schäden/Verkehrssicherheit (stand-, bruchgefährdet)",
          "Alphabet/Alter/Vitalität (absterbend, abgestorben)",
          "Alphabet/Krankheiten/Vitalität (absterbend, abgestorben)",
          "Alphabet/Alter/Vitalität (absterbend, abgestorben)",
          "Alphabet/Krankheiten/Vitalität (absterbend, abgestorben)",
          "Alphabet/Krankheiten/Verkehrssicherheit (stand-, bruchgefährdet)",
          "Alphabet/Krankheiten/Verkehrssicherheit (stand-, bruchgefährdet)",
          "Alphabet/Krankheiten/Vitalität (absterbend, abgestorben)",
          "Alphabet/Alter/Vitalität (absterbend, abgestorben)",
          "Alphabet/Krankheiten/Vitalität (absterbend, abgestorben)",
          "Alphabet/Baustellen",
          "Alphabet/Schäden/Verkehrssicherheit (stand-, bruchgefährdet)",
          "Alphabet/Krankheiten/Verkehrssicherheit (stand-, bruchgefährdet)",
          "Alphabet/Sturm/Verkehrssicherheit (stand-, bruchgefährdet)",
          "Alphabet/Krankheit/Vitalität (absterbend, abgestorben)",
          "Alphabet",
          "Alphabet",
          "Alphabet/Alter/Vitalität (absterbend, abgestorben)",
          "Alphabet/Krankheiten/Vitalität (absterbend, abgestorben)",
          "Alphabet/Krankheiten/Vitalität (absterbend, abgestorben)",
          "Alphabet/Alter/Vitalität (absterbend, abgestorben)",
          "Alphabet/Krankheiten/Verkehrssicherheit (stand-, bruchgefährdet)",
          "Alphabet/Krankheiten/Verkehrssicherheit (stand-, bruchgefährdet)",
          "Alphabet/Alter/Vitalität (absterbend, abgestorben)",
          "Alphabet/Krankheiten/Vitalität (absterbend, abgestorben)",
          "Alphabet/Schäden/Verkehrssicherheit (stand-, bruchgefährdet)",
          "Alphabet/Alter/Verkehrssicherheit (stand-, bruchgefährdet)",
          "Alphabet/Alter/Vitalität (absterbend, abgestorben)",
          "Alphabet/Krankheiten/Vitalität (absterbend, abgestorben)",
          "Alphabet/Alter/Vitalität (absterbend, abgestorben)",
          "Alphabet/Krankheiten/Vitalität (absterbend, abgestorben)",
          "Alphabet/Alter/Vitalität (absterbend, abgestorben)",
          "Alphabet/Schäden/Vitalität (absterbend, abgestorben)",
          "Alphabet/Krankheiten/Vitalität (absterbend, abgestorben)",
          "Alphabet/Krankheiten/Vitalität (absterbend, abgestorben)",
          "Alphabet/Baustellen/Grün Stadt Zürich Projekt",
          "",
          "Alphabet/Alter/Vitalität (absterbend, abgestorben)",
          "Alphabet",
          "Alphabet/Krankheiten/Vitalität (absterbend, abgestorben)",
          "Alphabet/Krankheiten/Vitalität (absterbend, abgestorben)",
          "Alphabet/Krankheiten/Verkehrssicherheit (stand-, bruchgefährdet)",
          "Alphabet/Krankheiten",
          "Alphabet/Schäden/Vitalität (absterbend, abgestorben)",
          "Alphabet/Schäden/Vitalität (absterbend, abgestorben)",
          "Alphabet/Alter/Vitalität (absterbend, abgestorben)",
          "Alphabet/Alter",
          "Alphabet/Alter/Verkehrssicherheit (stand-, bruchgefährdet)",
          "Alphabet/Schäden/Vitalität (absterbend, abgestorben)",
          "Alphabet/Krankheiten",
          "Alphabet/Krankheiten/Vitalität (absterbend, abgestorben)",
          "Alphabet/Krankheiten/Verkehrssicherheit (stand-, bruchgefährdet)",
          "Alphabet/Alter/Vitalität (absterbend, abgestorben)",
          "Alphabet/Schädlinge/Vitalität (absterbend, abgestorben)",
          "Alphabet/Schäden/Verkehrssicherheit (stand-, bruchgefährdet)",
          "Alphabet/Krankheiten/Vitalität (absterbend, abgestorben)",
          "Alphabet/Krankheiten/Verkehrssicherheit (stand-, bruchgefährdet)",
          "Alphabet/Baustellen/Grün Stadt Zürich Projekt",
          "Alphabet/Krankheiten/Vitalität (absterbend, abgestorben)",
          "Alphabet/Krankheiten/Vitalität (absterbend, abgestorben)",
          "Alphabet/Schäden/Vitalität (absterbend, abgestorben)",
          "Alphabet/Alter/Vitalität (absterbend, abgestorben)",
          "Alphabet/Krankheiten/Vitalität (absterbend, abgestorben)",
          "Alphabet/Krankheiten/Vitalität (absterbend, abgestorben)",
          "Alphabet/Krankheiten/Vitalität (absterbend, abgestorben)",
          "Alphabet/Schädlinge/Vitalität (absterbend, abgestorben)",
          "Alphabet/Schädlinge/Verkehrssicherheit (stand-, bruchgefährdet)",
          "Alphabet/Krankheiten/Verkehrssicherheit (stand-, bruchgefährdet)",
          "Alphabet/Krankheiten/Vitalität (absterbend, abgestorben)",
          "Alphabet/Schäden",
          "Alphabet/Schäden/Vitalität (absterbend, abgestorben)",
          "Alphabet/Schäden/Verkehrssicherheit (stand-, bruchgefährdet)"
         ],
         "root": {
          "color": "lightgrey"
         },
         "type": "treemap",
         "values": [
          1,
          3,
          1,
          4,
          2,
          1,
          1,
          6,
          1,
          1,
          11,
          1,
          5,
          2,
          1,
          1,
          1,
          3,
          1,
          1,
          2,
          1,
          1,
          1,
          1,
          2,
          2,
          1,
          1,
          1,
          43,
          1,
          1,
          1,
          1,
          1,
          1,
          49,
          1,
          1,
          1,
          1,
          1,
          1,
          4,
          2,
          2,
          1,
          5,
          2,
          2,
          1,
          1,
          1,
          6,
          2,
          1,
          2,
          7,
          1,
          1,
          2,
          1,
          1,
          14,
          2,
          2,
          1,
          1,
          1,
          1,
          5,
          1,
          1,
          1,
          3,
          1,
          1,
          3,
          1,
          2,
          1,
          1,
          1,
          3,
          1,
          1,
          1,
          129,
          32,
          1,
          2,
          1,
          1,
          1,
          1,
          3,
          1,
          1,
          1,
          1,
          1,
          1,
          1,
          1,
          1,
          1,
          1,
          1,
          225,
          2,
          1,
          1,
          1,
          8,
          107,
          1,
          1,
          2,
          6,
          1,
          1,
          22,
          1,
          1,
          1,
          2,
          1,
          1,
          1,
          1,
          1,
          18,
          1,
          1,
          1,
          7,
          7,
          2,
          1,
          1,
          9,
          18,
          1,
          1
         ]
        }
       ],
       "layout": {
        "autosize": true,
        "legend": {
         "tracegroupgap": 0
        },
        "margin": {
         "b": 25,
         "l": 25,
         "r": 250,
         "t": 50
        },
        "template": {
         "data": {
          "bar": [
           {
            "error_x": {
             "color": "#2a3f5f"
            },
            "error_y": {
             "color": "#2a3f5f"
            },
            "marker": {
             "line": {
              "color": "#E5ECF6",
              "width": 0.5
             },
             "pattern": {
              "fillmode": "overlay",
              "size": 10,
              "solidity": 0.2
             }
            },
            "type": "bar"
           }
          ],
          "barpolar": [
           {
            "marker": {
             "line": {
              "color": "#E5ECF6",
              "width": 0.5
             },
             "pattern": {
              "fillmode": "overlay",
              "size": 10,
              "solidity": 0.2
             }
            },
            "type": "barpolar"
           }
          ],
          "carpet": [
           {
            "aaxis": {
             "endlinecolor": "#2a3f5f",
             "gridcolor": "white",
             "linecolor": "white",
             "minorgridcolor": "white",
             "startlinecolor": "#2a3f5f"
            },
            "baxis": {
             "endlinecolor": "#2a3f5f",
             "gridcolor": "white",
             "linecolor": "white",
             "minorgridcolor": "white",
             "startlinecolor": "#2a3f5f"
            },
            "type": "carpet"
           }
          ],
          "choropleth": [
           {
            "colorbar": {
             "outlinewidth": 0,
             "ticks": ""
            },
            "type": "choropleth"
           }
          ],
          "contour": [
           {
            "colorbar": {
             "outlinewidth": 0,
             "ticks": ""
            },
            "colorscale": [
             [
              0,
              "#0d0887"
             ],
             [
              0.1111111111111111,
              "#46039f"
             ],
             [
              0.2222222222222222,
              "#7201a8"
             ],
             [
              0.3333333333333333,
              "#9c179e"
             ],
             [
              0.4444444444444444,
              "#bd3786"
             ],
             [
              0.5555555555555556,
              "#d8576b"
             ],
             [
              0.6666666666666666,
              "#ed7953"
             ],
             [
              0.7777777777777778,
              "#fb9f3a"
             ],
             [
              0.8888888888888888,
              "#fdca26"
             ],
             [
              1,
              "#f0f921"
             ]
            ],
            "type": "contour"
           }
          ],
          "contourcarpet": [
           {
            "colorbar": {
             "outlinewidth": 0,
             "ticks": ""
            },
            "type": "contourcarpet"
           }
          ],
          "heatmap": [
           {
            "colorbar": {
             "outlinewidth": 0,
             "ticks": ""
            },
            "colorscale": [
             [
              0,
              "#0d0887"
             ],
             [
              0.1111111111111111,
              "#46039f"
             ],
             [
              0.2222222222222222,
              "#7201a8"
             ],
             [
              0.3333333333333333,
              "#9c179e"
             ],
             [
              0.4444444444444444,
              "#bd3786"
             ],
             [
              0.5555555555555556,
              "#d8576b"
             ],
             [
              0.6666666666666666,
              "#ed7953"
             ],
             [
              0.7777777777777778,
              "#fb9f3a"
             ],
             [
              0.8888888888888888,
              "#fdca26"
             ],
             [
              1,
              "#f0f921"
             ]
            ],
            "type": "heatmap"
           }
          ],
          "heatmapgl": [
           {
            "colorbar": {
             "outlinewidth": 0,
             "ticks": ""
            },
            "colorscale": [
             [
              0,
              "#0d0887"
             ],
             [
              0.1111111111111111,
              "#46039f"
             ],
             [
              0.2222222222222222,
              "#7201a8"
             ],
             [
              0.3333333333333333,
              "#9c179e"
             ],
             [
              0.4444444444444444,
              "#bd3786"
             ],
             [
              0.5555555555555556,
              "#d8576b"
             ],
             [
              0.6666666666666666,
              "#ed7953"
             ],
             [
              0.7777777777777778,
              "#fb9f3a"
             ],
             [
              0.8888888888888888,
              "#fdca26"
             ],
             [
              1,
              "#f0f921"
             ]
            ],
            "type": "heatmapgl"
           }
          ],
          "histogram": [
           {
            "marker": {
             "pattern": {
              "fillmode": "overlay",
              "size": 10,
              "solidity": 0.2
             }
            },
            "type": "histogram"
           }
          ],
          "histogram2d": [
           {
            "colorbar": {
             "outlinewidth": 0,
             "ticks": ""
            },
            "colorscale": [
             [
              0,
              "#0d0887"
             ],
             [
              0.1111111111111111,
              "#46039f"
             ],
             [
              0.2222222222222222,
              "#7201a8"
             ],
             [
              0.3333333333333333,
              "#9c179e"
             ],
             [
              0.4444444444444444,
              "#bd3786"
             ],
             [
              0.5555555555555556,
              "#d8576b"
             ],
             [
              0.6666666666666666,
              "#ed7953"
             ],
             [
              0.7777777777777778,
              "#fb9f3a"
             ],
             [
              0.8888888888888888,
              "#fdca26"
             ],
             [
              1,
              "#f0f921"
             ]
            ],
            "type": "histogram2d"
           }
          ],
          "histogram2dcontour": [
           {
            "colorbar": {
             "outlinewidth": 0,
             "ticks": ""
            },
            "colorscale": [
             [
              0,
              "#0d0887"
             ],
             [
              0.1111111111111111,
              "#46039f"
             ],
             [
              0.2222222222222222,
              "#7201a8"
             ],
             [
              0.3333333333333333,
              "#9c179e"
             ],
             [
              0.4444444444444444,
              "#bd3786"
             ],
             [
              0.5555555555555556,
              "#d8576b"
             ],
             [
              0.6666666666666666,
              "#ed7953"
             ],
             [
              0.7777777777777778,
              "#fb9f3a"
             ],
             [
              0.8888888888888888,
              "#fdca26"
             ],
             [
              1,
              "#f0f921"
             ]
            ],
            "type": "histogram2dcontour"
           }
          ],
          "mesh3d": [
           {
            "colorbar": {
             "outlinewidth": 0,
             "ticks": ""
            },
            "type": "mesh3d"
           }
          ],
          "parcoords": [
           {
            "line": {
             "colorbar": {
              "outlinewidth": 0,
              "ticks": ""
             }
            },
            "type": "parcoords"
           }
          ],
          "pie": [
           {
            "automargin": true,
            "type": "pie"
           }
          ],
          "scatter": [
           {
            "marker": {
             "colorbar": {
              "outlinewidth": 0,
              "ticks": ""
             }
            },
            "type": "scatter"
           }
          ],
          "scatter3d": [
           {
            "line": {
             "colorbar": {
              "outlinewidth": 0,
              "ticks": ""
             }
            },
            "marker": {
             "colorbar": {
              "outlinewidth": 0,
              "ticks": ""
             }
            },
            "type": "scatter3d"
           }
          ],
          "scattercarpet": [
           {
            "marker": {
             "colorbar": {
              "outlinewidth": 0,
              "ticks": ""
             }
            },
            "type": "scattercarpet"
           }
          ],
          "scattergeo": [
           {
            "marker": {
             "colorbar": {
              "outlinewidth": 0,
              "ticks": ""
             }
            },
            "type": "scattergeo"
           }
          ],
          "scattergl": [
           {
            "marker": {
             "colorbar": {
              "outlinewidth": 0,
              "ticks": ""
             }
            },
            "type": "scattergl"
           }
          ],
          "scattermapbox": [
           {
            "marker": {
             "colorbar": {
              "outlinewidth": 0,
              "ticks": ""
             }
            },
            "type": "scattermapbox"
           }
          ],
          "scatterpolar": [
           {
            "marker": {
             "colorbar": {
              "outlinewidth": 0,
              "ticks": ""
             }
            },
            "type": "scatterpolar"
           }
          ],
          "scatterpolargl": [
           {
            "marker": {
             "colorbar": {
              "outlinewidth": 0,
              "ticks": ""
             }
            },
            "type": "scatterpolargl"
           }
          ],
          "scatterternary": [
           {
            "marker": {
             "colorbar": {
              "outlinewidth": 0,
              "ticks": ""
             }
            },
            "type": "scatterternary"
           }
          ],
          "surface": [
           {
            "colorbar": {
             "outlinewidth": 0,
             "ticks": ""
            },
            "colorscale": [
             [
              0,
              "#0d0887"
             ],
             [
              0.1111111111111111,
              "#46039f"
             ],
             [
              0.2222222222222222,
              "#7201a8"
             ],
             [
              0.3333333333333333,
              "#9c179e"
             ],
             [
              0.4444444444444444,
              "#bd3786"
             ],
             [
              0.5555555555555556,
              "#d8576b"
             ],
             [
              0.6666666666666666,
              "#ed7953"
             ],
             [
              0.7777777777777778,
              "#fb9f3a"
             ],
             [
              0.8888888888888888,
              "#fdca26"
             ],
             [
              1,
              "#f0f921"
             ]
            ],
            "type": "surface"
           }
          ],
          "table": [
           {
            "cells": {
             "fill": {
              "color": "#EBF0F8"
             },
             "line": {
              "color": "white"
             }
            },
            "header": {
             "fill": {
              "color": "#C8D4E3"
             },
             "line": {
              "color": "white"
             }
            },
            "type": "table"
           }
          ]
         },
         "layout": {
          "annotationdefaults": {
           "arrowcolor": "#2a3f5f",
           "arrowhead": 0,
           "arrowwidth": 1
          },
          "autotypenumbers": "strict",
          "coloraxis": {
           "colorbar": {
            "outlinewidth": 0,
            "ticks": ""
           }
          },
          "colorscale": {
           "diverging": [
            [
             0,
             "#8e0152"
            ],
            [
             0.1,
             "#c51b7d"
            ],
            [
             0.2,
             "#de77ae"
            ],
            [
             0.3,
             "#f1b6da"
            ],
            [
             0.4,
             "#fde0ef"
            ],
            [
             0.5,
             "#f7f7f7"
            ],
            [
             0.6,
             "#e6f5d0"
            ],
            [
             0.7,
             "#b8e186"
            ],
            [
             0.8,
             "#7fbc41"
            ],
            [
             0.9,
             "#4d9221"
            ],
            [
             1,
             "#276419"
            ]
           ],
           "sequential": [
            [
             0,
             "#0d0887"
            ],
            [
             0.1111111111111111,
             "#46039f"
            ],
            [
             0.2222222222222222,
             "#7201a8"
            ],
            [
             0.3333333333333333,
             "#9c179e"
            ],
            [
             0.4444444444444444,
             "#bd3786"
            ],
            [
             0.5555555555555556,
             "#d8576b"
            ],
            [
             0.6666666666666666,
             "#ed7953"
            ],
            [
             0.7777777777777778,
             "#fb9f3a"
            ],
            [
             0.8888888888888888,
             "#fdca26"
            ],
            [
             1,
             "#f0f921"
            ]
           ],
           "sequentialminus": [
            [
             0,
             "#0d0887"
            ],
            [
             0.1111111111111111,
             "#46039f"
            ],
            [
             0.2222222222222222,
             "#7201a8"
            ],
            [
             0.3333333333333333,
             "#9c179e"
            ],
            [
             0.4444444444444444,
             "#bd3786"
            ],
            [
             0.5555555555555556,
             "#d8576b"
            ],
            [
             0.6666666666666666,
             "#ed7953"
            ],
            [
             0.7777777777777778,
             "#fb9f3a"
            ],
            [
             0.8888888888888888,
             "#fdca26"
            ],
            [
             1,
             "#f0f921"
            ]
           ]
          },
          "colorway": [
           "#636efa",
           "#EF553B",
           "#00cc96",
           "#ab63fa",
           "#FFA15A",
           "#19d3f3",
           "#FF6692",
           "#B6E880",
           "#FF97FF",
           "#FECB52"
          ],
          "font": {
           "color": "#2a3f5f"
          },
          "geo": {
           "bgcolor": "white",
           "lakecolor": "white",
           "landcolor": "#E5ECF6",
           "showlakes": true,
           "showland": true,
           "subunitcolor": "white"
          },
          "hoverlabel": {
           "align": "left"
          },
          "hovermode": "closest",
          "mapbox": {
           "style": "light"
          },
          "paper_bgcolor": "white",
          "plot_bgcolor": "#E5ECF6",
          "polar": {
           "angularaxis": {
            "gridcolor": "white",
            "linecolor": "white",
            "ticks": ""
           },
           "bgcolor": "#E5ECF6",
           "radialaxis": {
            "gridcolor": "white",
            "linecolor": "white",
            "ticks": ""
           }
          },
          "scene": {
           "xaxis": {
            "backgroundcolor": "#E5ECF6",
            "gridcolor": "white",
            "gridwidth": 2,
            "linecolor": "white",
            "showbackground": true,
            "ticks": "",
            "zerolinecolor": "white"
           },
           "yaxis": {
            "backgroundcolor": "#E5ECF6",
            "gridcolor": "white",
            "gridwidth": 2,
            "linecolor": "white",
            "showbackground": true,
            "ticks": "",
            "zerolinecolor": "white"
           },
           "zaxis": {
            "backgroundcolor": "#E5ECF6",
            "gridcolor": "white",
            "gridwidth": 2,
            "linecolor": "white",
            "showbackground": true,
            "ticks": "",
            "zerolinecolor": "white"
           }
          },
          "shapedefaults": {
           "line": {
            "color": "#2a3f5f"
           }
          },
          "ternary": {
           "aaxis": {
            "gridcolor": "white",
            "linecolor": "white",
            "ticks": ""
           },
           "baxis": {
            "gridcolor": "white",
            "linecolor": "white",
            "ticks": ""
           },
           "bgcolor": "#E5ECF6",
           "caxis": {
            "gridcolor": "white",
            "linecolor": "white",
            "ticks": ""
           }
          },
          "title": {
           "x": 0.05
          },
          "xaxis": {
           "automargin": true,
           "gridcolor": "white",
           "linecolor": "white",
           "ticks": "",
           "title": {
            "standoff": 15
           },
           "zerolinecolor": "white",
           "zerolinewidth": 2
          },
          "yaxis": {
           "automargin": true,
           "gridcolor": "white",
           "linecolor": "white",
           "ticks": "",
           "title": {
            "standoff": 15
           },
           "zerolinecolor": "white",
           "zerolinewidth": 2
          }
         }
        }
       }
      },
      "image/png": "[encoded data removed]",
      "text/html": [
       "<div>                            <div id=\"4d854537-35d3-4cae-a066-1a7960cdeb52\" class=\"plotly-graph-div\" style=\"height:525px; width:100%;\"></div>            <script type=\"text/javascript\">                require([\"plotly\"], function(Plotly) {                    window.PLOTLYENV=window.PLOTLYENV || {};                                    if (document.getElementById(\"4d854537-35d3-4cae-a066-1a7960cdeb52\")) {                    Plotly.newPlot(                        \"4d854537-35d3-4cae-a066-1a7960cdeb52\",                        [{\"branchvalues\":\"total\",\"customdata\":[[1.0,\"Schwarz-Erle, Rot-Erle\"],[3.0,\"Lederbl\\u00e4ttriger Weissdorn (crus-galli x pubescens)\"],[1.0,\"Sand-Birke, Weiss-Birke\"],[4.0,\"(?)\"],[2.0,\"Berg-Ahorn, Wald-Ahorn\"],[1.0,\"Igel-Fichte\"],[1.0,\"Spitz-Ahorn\"],[6.0,\"Robinie, Schein-Akazie\"],[1.0,\"Stiel-Eiche, s\\u00e4ulenf\\u00f6rmig\"],[1.0,\"Sammelbegriff f\\u00fcr Zwetschgen, Pflaume, Reneklode usw. (Sorte unbek.)\"],[11.0,\"Robinie, Schein-Akazie\"],[1.0,\"Kirschpflaume\"],[5.0,\"Rottanne, Fichte\"],[2.0,\"Gemeine Hain- oder Weissbuche\"],[1.0,\"Kirschpflaume\"],[1.0,\"Sand-Birke, Weiss-Birke\"],[1.0,\"Robinie, Klebrige Robinie\"],[3.0,\"Platane (occidentalis x orientalis)\"],[1.0,\"Robinie, Schein-Akazie\"],[1.0,\"Sand-Birke, Weiss-Birke\"],[2.0,\"Sammelbegriff f\\u00fcr Zwetschgen, Pflaume, Reneklode usw. (Sorte unbek.)\"],[1.0,\"Sal-Weide\"],[1.0,\"Platane (occidentalis x orientalis)\"],[1.0,\"Platane (occidentalis x orientalis)\"],[1.0,\"Pyramiden-Pappel, Italienische Pappel\"],[2.0,\"Serbische Fichte\"],[2.0,\"Oxelbeere, Schwedische Mehlbeere\"],[1.0,\"Pyramiden-Pappel, Italienische Pappel\"],[1.0,\"Berg-Kiefer, Latschen-Kiefer\"],[1.0,\"Kirschpflaume\"],[43.0,\"(?)\"],[1.0,\"Riesen-Lebensbaum\"],[1.0,\"Silber-Ahorn\"],[1.0,\"Pflaume-Obstgeh\\u00f6lz, Sorte unbekannt (Pflaume)\"],[1.0,\"Silber-Ahorn\"],[1.0,\"Schwarz-Erle, Rot-Erle\"],[1.0,\"Vogel-Kirsche, S\\u00fcss-Kirsche\"],[49.0,\"(?)\"],[1.0,\"Sp\\u00e4te Traubenkirsche\"],[1.0,\"Kirschpflaume\"],[1.0,\"G\\u00f6tterbaum (m\\u00e4nnlich)\"],[1.0,\"Japanische Bl\\u00fcten-Kirsche\"],[1.0,\"Sand-Birke, Weiss-Birke\"],[1.0,\"Rotbuche\"],[4.0,\"(?)\"],[2.0,\"Rostnerviger Ahorn\"],[2.0,\"Sand-Birke, Weiss-Birke\"],[1.0,\"Krim-Linde (cordata x platyphyllos)\"],[5.0,\"Zier-Apfel\"],[2.0,\"L\\u00e4rche, Art unbekannt\"],[2.0,\"Rotbuche\"],[1.0,\"Robinie, Schein-Akazie\"],[1.0,\"Gemeine Hain- oder Weissbuche\"],[1.0,\"Sauer-Kirsche-Obstgeh\\u00f6lz, Sorte unbekannt\"],[6.0,\"(?)\"],[2.0,\"L\\u00e4rche, Art unbekannt\"],[1.0,\"Oxelbeere, Schwedische Mehlbeere\"],[2.0,\"(?)\"],[7.0,\"(?)\"],[1.0,\"Krim-Linde (cordata x platyphyllos)\"],[1.0,\"Amerikanische Rot-Eiche\"],[2.0,\"Apfel-Obstgeh\\u00f6lz, Sorte unbekannt\"],[1.0,\"Baumhasel\"],[1.0,\"Berg-Ahorn, Wald-Ahorn\"],[14.0,\"(?)\"],[2.0,\"Amerikanischer Z\\u00fcrgelbaum\"],[2.0,\"Japanische Bl\\u00fcten-Kirsche, Japanische Nelken-Kirsche\"],[1.0,\"Gew\\u00f6hnliche Hopfenbuche\"],[1.0,\"Kupfer-Felsenbirne\"],[1.0,\"Zier-Apfel, Art unbekannt\"],[1.0,\"Weisser Maulbeerbaum\"],[5.0,\"Weiss-Weide, Silber-Weide\"],[1.0,\"Wechselbl\\u00e4ttriger Hartriegel\"],[1.0,\"Gemeine Rosskastanie\"],[1.0,\"Europ\\u00e4ische L\\u00e4rche\"],[3.0,\"Feld-Ahorn, Hecken-Ahorn\"],[1.0,\"F\\u00e4cher-Ahorn\"],[1.0,\"Gef\\u00fclltbl\\u00fchende Rosskastanie\"],[3.0,\"Gemeine Esche\"],[1.0,\"Walnuss-Obstgeh\\u00f6lz, Sorte unbekannt\"],[2.0,\"Winter-Linde\"],[1.0,\"Gemeine Eberesche, Vogelbeerbaum\"],[1.0,\"Zwetschge-Obstgeh\\u00f6lz, Sorte unbekannt\"],[1.0,\"Sammelbegriff f\\u00fcr Zwetschgen, Pflaume, Reneklode usw. (Sorte unbek.)\"],[3.0,\"Kanadische Pappel (deltoides x nigra)\"],[1.0,\"Kirschpflaume\"],[1.0,\"Kirschpflaume\"],[1.0,\"Kirschpflaume\"],[129.0,\"(?)\"],[32.0,\"(?)\"],[1.0,\"Kuchenbaum, Katsurabaum\"],[2.0,\"Laubbaum\"],[1.0,\"Zier-Apfel, Art unbekannt\"],[1.0,\"Schwarz-Erle, Rot-Erle\"],[1.0,\"Schwarz-Erle, Rot-Erle\"],[1.0,\"Lederbl\\u00e4ttriger Weissdorn (crus-galli x pubescens)\"],[3.0,\"Spitz-Ahorn\"],[1.0,\"Lawsons Scheinzypresse\"],[1.0,\"Spitz-Ahorn\"],[1.0,\"Kalifornische Weihrauchszeder\"],[1.0,\"S\\u00fcdlicher Z\\u00fcrgelbaum\"],[1.0,\"G\\u00f6tterbaum (weiblich)\"],[1.0,\"Korb-Weide, Hanf-Weide\"],[1.0,\"Ginkgo, M\\u00e4dchenhaarbaum, F\\u00e4cherblattbaum (weiblich)\"],[1.0,\"Walnuss-Obstgeh\\u00f6lz, Sorte unbekannt\"],[1.0,\"Schwarz-Erle, Rot-Erle\"],[1.0,\"Kirschpflaume\"],[1.0,\"Higan-Kirsche\"],[1.0,\"Vogel-Kirsche, S\\u00fcss-Kirsche\"],[225.0,\"(?)\"],[2.0,\"Gemeine Esche\"],[1.0,\"Kirschpflaume\"],[1.0,\"Robinie, Art unbekannt\"],[1.0,\"Winter-Linde, Stadt-Linde\"],[8.0,\"Robinie, Schein-Akazie\"],[107.0,\"(?)\"],[1.0,\"Blauglockenbaum\"],[1.0,\"Japanische Bl\\u00fcten-Kirsche, Japanische Nelken-Kirsche\"],[2.0,\"Gemeine Hain- oder Weissbuche\"],[6.0,\"(?)\"],[1.0,\"Feld-Ahorn, Hecken-Ahorn\"],[1.0,\"Kolchischer Ahorn\"],[22.0,\"(?)\"],[1.0,\"Berg-Kiefer, Latschen-Kiefer\"],[1.0,\"Vogel-Kirsche, S\\u00fcss-Kirsche\"],[1.0,\"Berg-Ahorn, Wald-Ahorn\"],[2.0,\"Lederbl\\u00e4ttriger Weissdorn (crus-galli x pubescens)\"],[1.0,\"Blauglockenbaum\"],[1.0,\"Blauglockenbaum\"],[1.0,\"Gemeine Eberesche, Vogelbeerbaum\"],[1.0,\"Eisenhutbl\\u00e4ttriger Ahorn\"],[1.0,\"Eisenhutbl\\u00e4ttriger Ahorn\"],[18.0,\"Gemeine Esche\"],[1.0,\"Eingriffliger Weissdorn\"],[1.0,\"Rottanne, Fichte\"],[1.0,\"Spitz-Ahorn (kugelf\\u00f6rmig)\"],[7.0,\"Spitz-Ahorn\"],[7.0,\"Vogel-Kirsche, S\\u00fcss-Kirsche (gef\\u00fcllte)\"],[2.0,\"Sapindus-Fichte, Orientalische Fichte\"],[1.0,\"Sal-Weide\"],[1.0,\"Japanische Bl\\u00fcten-Kirsche, Japanische Nelken-Kirsche\"],[9.0,\"Sand-Birke, Weiss-Birke\"],[18.0,\"(?)\"],[1.0,\"Zweigriffliger Weissdorn (laevigata x monogyna)\"],[1.0,\"Apfel-Obstgeh\\u00f6lz, Sorte unbekannt\"]],\"domain\":{\"x\":[0.0,1.0],\"y\":[0.0,1.0]},\"hovertemplate\":\"labels=%{label}<br>AnzBaeume=%{customdata[0]}<br>parent=%{parent}<br>id=%{id}<br>baumartdt=%{customdata[1]}<extra></extra>\",\"ids\":[\"Alphabet/Alter/Verkehrssicherheit (stand-, bruchgef\\u00e4hrdet)/Schwarz-Erle, Rot-Erle\",\"Alphabet/Krankheiten/Vitalit\\u00e4t (absterbend, abgestorben)/Lederbl\\u00e4ttriger Weissdorn (crus-galli x pubescens)\",\"Alphabet/Krankheiten/Verkehrssicherheit (stand-, bruchgef\\u00e4hrdet)/Sand-Birke, Weiss-Birke\",\"Alphabet/Baustellen/Gr\\u00fcn Stadt Z\\u00fcrich Projekt\",\"Alphabet/Krankheiten/Vitalit\\u00e4t (absterbend, abgestorben)/Berg-Ahorn, Wald-Ahorn\",\"Alphabet/Baustellen/Gr\\u00fcn Stadt Z\\u00fcrich Projekt/Igel-Fichte\",\"Alphabet/Krankheiten/Verkehrssicherheit (stand-, bruchgef\\u00e4hrdet)/Spitz-Ahorn\",\"Alphabet/Krankheiten/Vitalit\\u00e4t (absterbend, abgestorben)/Robinie, Schein-Akazie\",\"Alphabet/Krankheiten/Vitalit\\u00e4t (absterbend, abgestorben)/Stiel-Eiche, s\\u00e4ulenf\\u00f6rmig\",\"Alphabet/Baustellen/GSZ-Projekt/Sammelbegriff f\\u00fcr Zwetschgen, Pflaume, Reneklode usw. (Sorte unbek.)\",\"Alphabet/Alter/Vitalit\\u00e4t (absterbend, abgestorben)/Robinie, Schein-Akazie\",\"Alphabet/Sch\\u00e4den/Vitalit\\u00e4t (absterbend, abgestorben)/Kirschpflaume\",\"Alphabet/Krankheiten/Vitalit\\u00e4t (absterbend, abgestorben)/Rottanne, Fichte\",\"Alphabet/Krankheiten/Vitalit\\u00e4t (absterbend, abgestorben)/Gemeine Hain- oder Weissbuche\",\"Alphabet/Krankheit/Vitalit\\u00e4t (absterbend, abgestorben)\",\"Alphabet/Alter/Vitalit\\u00e4t (absterbend, abgestorben)/Sand-Birke, Weiss-Birke\",\"Alphabet/Alter/Vitalit\\u00e4t (absterbend, abgestorben)/Robinie, Klebrige Robinie\",\"Alphabet/Krankheiten/Vitalit\\u00e4t (absterbend, abgestorben)/Platane (occidentalis x orientalis)\",\"Alphabet/Alter/Verkehrssicherheit (stand-, bruchgef\\u00e4hrdet)/Robinie, Schein-Akazie\",\"Alphabet/Baustellen/Gr\\u00fcn Stadt Z\\u00fcrich Projekt/Sand-Birke, Weiss-Birke\",\"Alphabet/Krankheiten/Vitalit\\u00e4t (absterbend, abgestorben)/Sammelbegriff f\\u00fcr Zwetschgen, Pflaume, Reneklode usw. (Sorte unbek.)\",\"Alphabet/Krankheiten/Vitalit\\u00e4t (absterbend, abgestorben)/Sal-Weide\",\"Alphabet/Alter/Vitalit\\u00e4t (absterbend, abgestorben)/Platane (occidentalis x orientalis)\",\"Alphabet/Sch\\u00e4den/Vitalit\\u00e4t (absterbend, abgestorben)/Platane (occidentalis x orientalis)\",\"Alphabet/Krankheiten/Vitalit\\u00e4t (absterbend, abgestorben)/Pyramiden-Pappel, Italienische Pappel\",\"Alphabet/Krankheiten/Vitalit\\u00e4t (absterbend, abgestorben)/Serbische Fichte\",\"Alphabet/Alter/Vitalit\\u00e4t (absterbend, abgestorben)/Oxelbeere, Schwedische Mehlbeere\",\"Alphabet/Sch\\u00e4den/Vitalit\\u00e4t (absterbend, abgestorben)/Pyramiden-Pappel, Italienische Pappel\",\"Alphabet/Krankheiten/Verkehrssicherheit (stand-, bruchgef\\u00e4hrdet)/Berg-Kiefer, Latschen-Kiefer\",\"Alphabet/Sturm/Verkehrssicherheit (stand-, bruchgef\\u00e4hrdet)\",\"Alphabet/Alter/Vitalit\\u00e4t (absterbend, abgestorben)\",\"Alphabet/Krankheiten/Vitalit\\u00e4t (absterbend, abgestorben)/Riesen-Lebensbaum\",\"Alphabet/Alter/Vitalit\\u00e4t (absterbend, abgestorben)/Silber-Ahorn\",\"Alphabet/Sch\\u00e4den/Verkehrssicherheit (stand-, bruchgef\\u00e4hrdet)/Pflaume-Obstgeh\\u00f6lz, Sorte unbekannt (Pflaume)\",\"Alphabet/Sch\\u00e4den/Verkehrssicherheit (stand-, bruchgef\\u00e4hrdet)/Silber-Ahorn\",\"Alphabet/Krankheiten/Vitalit\\u00e4t (absterbend, abgestorben)/Schwarz-Erle, Rot-Erle\",\"Alphabet/Alter/Vitalit\\u00e4t (absterbend, abgestorben)/Vogel-Kirsche, S\\u00fcss-Kirsche\",\"Alphabet/Alter\",\"Alphabet/Sch\\u00e4dlinge/Verkehrssicherheit (stand-, bruchgef\\u00e4hrdet)/Sp\\u00e4te Traubenkirsche\",\"Alphabet/Krankheit\",\"Alphabet/Krankheiten/Vitalit\\u00e4t (absterbend, abgestorben)/G\\u00f6tterbaum (m\\u00e4nnlich)\",\"Alphabet/Krankheiten/Vitalit\\u00e4t (absterbend, abgestorben)/Japanische Bl\\u00fcten-Kirsche\",\"Alphabet/Sch\\u00e4den/Verkehrssicherheit (stand-, bruchgef\\u00e4hrdet)/Sand-Birke, Weiss-Birke\",\"Alphabet/Alter/Verkehrssicherheit (stand-, bruchgef\\u00e4hrdet)/Rotbuche\",\"Alphabet/Sch\\u00e4dlinge/Vitalit\\u00e4t (absterbend, abgestorben)\",\"Alphabet/Alter/Vitalit\\u00e4t (absterbend, abgestorben)/Rostnerviger Ahorn\",\"Alphabet/Sch\\u00e4den/Vitalit\\u00e4t (absterbend, abgestorben)/Sand-Birke, Weiss-Birke\",\"Alphabet/Krankheiten/Vitalit\\u00e4t (absterbend, abgestorben)/Krim-Linde (cordata x platyphyllos)\",\"Alphabet/Krankheiten/Vitalit\\u00e4t (absterbend, abgestorben)/Zier-Apfel\",\"Alphabet/Baustellen/Erdgas-Projekt\",\"Alphabet/Alter/Vitalit\\u00e4t (absterbend, abgestorben)/Rotbuche\",\"Alphabet/Sch\\u00e4den/Verkehrssicherheit (stand-, bruchgef\\u00e4hrdet)/Robinie, Schein-Akazie\",\"Alphabet/Sch\\u00e4den/Verkehrssicherheit (stand-, bruchgef\\u00e4hrdet)/Gemeine Hain- oder Weissbuche\",\"Alphabet/Alter/Vitalit\\u00e4t (absterbend, abgestorben)/Sauer-Kirsche-Obstgeh\\u00f6lz, Sorte unbekannt\",\"Alphabet/Sch\\u00e4dlinge\",\"Alphabet/Baustellen/Erdgas-Projekt/L\\u00e4rche, Art unbekannt\",\"Alphabet/Krankheiten/Verkehrssicherheit (stand-, bruchgef\\u00e4hrdet)/Oxelbeere, Schwedische Mehlbeere\",\"Alphabet/Sch\\u00e4dlinge/Verkehrssicherheit (stand-, bruchgef\\u00e4hrdet)\",\"Alphabet/Baustellen\",\"Alphabet/Sch\\u00e4den/Vitalit\\u00e4t (absterbend, abgestorben)/Krim-Linde (cordata x platyphyllos)\",\"Alphabet/Krankheiten/Vitalit\\u00e4t (absterbend, abgestorben)/Amerikanische Rot-Eiche\",\"Alphabet/Krankheiten/Vitalit\\u00e4t (absterbend, abgestorben)/Apfel-Obstgeh\\u00f6lz, Sorte unbekannt\",\"Alphabet/Sch\\u00e4den/Verkehrssicherheit (stand-, bruchgef\\u00e4hrdet)/Baumhasel\",\"Alphabet/Sch\\u00e4den/Verkehrssicherheit (stand-, bruchgef\\u00e4hrdet)/Berg-Ahorn, Wald-Ahorn\",\"Alphabet/Sch\\u00e4den/Verkehrssicherheit (stand-, bruchgef\\u00e4hrdet)\",\"Alphabet/Alter/Vitalit\\u00e4t (absterbend, abgestorben)/Amerikanischer Z\\u00fcrgelbaum\",\"Alphabet/Krankheiten/Vitalit\\u00e4t (absterbend, abgestorben)/Japanische Bl\\u00fcten-Kirsche, Japanische Nelken-Kirsche\",\"Alphabet/Alter/Vitalit\\u00e4t (absterbend, abgestorben)/Gew\\u00f6hnliche Hopfenbuche\",\"Alphabet/Krankheiten/Vitalit\\u00e4t (absterbend, abgestorben)/Kupfer-Felsenbirne\",\"Alphabet/Sch\\u00e4den/Vitalit\\u00e4t (absterbend, abgestorben)/Zier-Apfel, Art unbekannt\",\"Alphabet/Alter/Verkehrssicherheit (stand-, bruchgef\\u00e4hrdet)/Weisser Maulbeerbaum\",\"Alphabet/Sch\\u00e4den/Vitalit\\u00e4t (absterbend, abgestorben)/Weiss-Weide, Silber-Weide\",\"Alphabet/Krankheiten/Vitalit\\u00e4t (absterbend, abgestorben)/Wechselbl\\u00e4ttriger Hartriegel\",\"Alphabet/Sch\\u00e4den/Verkehrssicherheit (stand-, bruchgef\\u00e4hrdet)/Gemeine Rosskastanie\",\"Alphabet/Alter/Vitalit\\u00e4t (absterbend, abgestorben)/Europ\\u00e4ische L\\u00e4rche\",\"Alphabet/Krankheiten/Vitalit\\u00e4t (absterbend, abgestorben)/Feld-Ahorn, Hecken-Ahorn\",\"Alphabet/Alter/Vitalit\\u00e4t (absterbend, abgestorben)/F\\u00e4cher-Ahorn\",\"Alphabet/Krankheiten/Vitalit\\u00e4t (absterbend, abgestorben)/Gef\\u00fclltbl\\u00fchende Rosskastanie\",\"Alphabet/Krankheiten/Verkehrssicherheit (stand-, bruchgef\\u00e4hrdet)/Gemeine Esche\",\"Alphabet/Krankheiten/Verkehrssicherheit (stand-, bruchgef\\u00e4hrdet)/Walnuss-Obstgeh\\u00f6lz, Sorte unbekannt\",\"Alphabet/Krankheiten/Vitalit\\u00e4t (absterbend, abgestorben)/Winter-Linde\",\"Alphabet/Alter/Vitalit\\u00e4t (absterbend, abgestorben)/Gemeine Eberesche, Vogelbeerbaum\",\"Alphabet/Krankheiten/Vitalit\\u00e4t (absterbend, abgestorben)/Zwetschge-Obstgeh\\u00f6lz, Sorte unbekannt\",\"Alphabet/Baustellen/GSZ-Projekt\",\"Alphabet/Sch\\u00e4den/Verkehrssicherheit (stand-, bruchgef\\u00e4hrdet)/Kanadische Pappel (deltoides x nigra)\",\"Alphabet/Krankheiten/Verkehrssicherheit (stand-, bruchgef\\u00e4hrdet)/Kirschpflaume\",\"Alphabet/Sturm/Verkehrssicherheit (stand-, bruchgef\\u00e4hrdet)/Kirschpflaume\",\"Alphabet/Krankheit/Vitalit\\u00e4t (absterbend, abgestorben)/Kirschpflaume\",\"Alphabet/Krankheiten\",\"Alphabet/Sch\\u00e4den\",\"Alphabet/Alter/Vitalit\\u00e4t (absterbend, abgestorben)/Kuchenbaum, Katsurabaum\",\"Alphabet/Krankheiten/Vitalit\\u00e4t (absterbend, abgestorben)/Laubbaum\",\"Alphabet/Krankheiten/Vitalit\\u00e4t (absterbend, abgestorben)/Zier-Apfel, Art unbekannt\",\"Alphabet/Alter/Vitalit\\u00e4t (absterbend, abgestorben)/Schwarz-Erle, Rot-Erle\",\"Alphabet/Krankheiten/Verkehrssicherheit (stand-, bruchgef\\u00e4hrdet)/Schwarz-Erle, Rot-Erle\",\"Alphabet/Krankheiten/Verkehrssicherheit (stand-, bruchgef\\u00e4hrdet)/Lederbl\\u00e4ttriger Weissdorn (crus-galli x pubescens)\",\"Alphabet/Alter/Vitalit\\u00e4t (absterbend, abgestorben)/Spitz-Ahorn\",\"Alphabet/Krankheiten/Vitalit\\u00e4t (absterbend, abgestorben)/Lawsons Scheinzypresse\",\"Alphabet/Sch\\u00e4den/Verkehrssicherheit (stand-, bruchgef\\u00e4hrdet)/Spitz-Ahorn\",\"Alphabet/Alter/Verkehrssicherheit (stand-, bruchgef\\u00e4hrdet)/Kalifornische Weihrauchszeder\",\"Alphabet/Alter/Vitalit\\u00e4t (absterbend, abgestorben)/S\\u00fcdlicher Z\\u00fcrgelbaum\",\"Alphabet/Krankheiten/Vitalit\\u00e4t (absterbend, abgestorben)/G\\u00f6tterbaum (weiblich)\",\"Alphabet/Alter/Vitalit\\u00e4t (absterbend, abgestorben)/Korb-Weide, Hanf-Weide\",\"Alphabet/Krankheiten/Vitalit\\u00e4t (absterbend, abgestorben)/Ginkgo, M\\u00e4dchenhaarbaum, F\\u00e4cherblattbaum (weiblich)\",\"Alphabet/Alter/Vitalit\\u00e4t (absterbend, abgestorben)/Walnuss-Obstgeh\\u00f6lz, Sorte unbekannt\",\"Alphabet/Sch\\u00e4den/Vitalit\\u00e4t (absterbend, abgestorben)/Schwarz-Erle, Rot-Erle\",\"Alphabet/Krankheiten/Vitalit\\u00e4t (absterbend, abgestorben)/Kirschpflaume\",\"Alphabet/Krankheiten/Vitalit\\u00e4t (absterbend, abgestorben)/Higan-Kirsche\",\"Alphabet/Baustellen/Gr\\u00fcn Stadt Z\\u00fcrich Projekt/Vogel-Kirsche, S\\u00fcss-Kirsche\",\"Alphabet\",\"Alphabet/Alter/Vitalit\\u00e4t (absterbend, abgestorben)/Gemeine Esche\",\"Alphabet/Sturm\",\"Alphabet/Krankheiten/Vitalit\\u00e4t (absterbend, abgestorben)/Robinie, Art unbekannt\",\"Alphabet/Krankheiten/Vitalit\\u00e4t (absterbend, abgestorben)/Winter-Linde, Stadt-Linde\",\"Alphabet/Krankheiten/Verkehrssicherheit (stand-, bruchgef\\u00e4hrdet)/Robinie, Schein-Akazie\",\"Alphabet/Krankheiten/Vitalit\\u00e4t (absterbend, abgestorben)\",\"Alphabet/Sch\\u00e4den/Vitalit\\u00e4t (absterbend, abgestorben)/Blauglockenbaum\",\"Alphabet/Sch\\u00e4den/Vitalit\\u00e4t (absterbend, abgestorben)/Japanische Bl\\u00fcten-Kirsche, Japanische Nelken-Kirsche\",\"Alphabet/Alter/Vitalit\\u00e4t (absterbend, abgestorben)/Gemeine Hain- oder Weissbuche\",\"Alphabet/Alter/Verkehrssicherheit (stand-, bruchgef\\u00e4hrdet)\",\"Alphabet/Alter/Verkehrssicherheit (stand-, bruchgef\\u00e4hrdet)/Feld-Ahorn, Hecken-Ahorn\",\"Alphabet/Sch\\u00e4den/Vitalit\\u00e4t (absterbend, abgestorben)/Kolchischer Ahorn\",\"Alphabet/Krankheiten/Verkehrssicherheit (stand-, bruchgef\\u00e4hrdet)\",\"Alphabet/Krankheiten/Vitalit\\u00e4t (absterbend, abgestorben)/Berg-Kiefer, Latschen-Kiefer\",\"Alphabet/Krankheiten/Verkehrssicherheit (stand-, bruchgef\\u00e4hrdet)/Vogel-Kirsche, S\\u00fcss-Kirsche\",\"Alphabet/Alter/Vitalit\\u00e4t (absterbend, abgestorben)/Berg-Ahorn, Wald-Ahorn\",\"Alphabet/Sch\\u00e4dlinge/Vitalit\\u00e4t (absterbend, abgestorben)/Lederbl\\u00e4ttriger Weissdorn (crus-galli x pubescens)\",\"Alphabet/Sch\\u00e4den/Verkehrssicherheit (stand-, bruchgef\\u00e4hrdet)/Blauglockenbaum\",\"Alphabet/Krankheiten/Vitalit\\u00e4t (absterbend, abgestorben)/Blauglockenbaum\",\"Alphabet/Krankheiten/Verkehrssicherheit (stand-, bruchgef\\u00e4hrdet)/Gemeine Eberesche, Vogelbeerbaum\",\"Alphabet/Baustellen/Gr\\u00fcn Stadt Z\\u00fcrich Projekt/Eisenhutbl\\u00e4ttriger Ahorn\",\"Alphabet/Krankheiten/Vitalit\\u00e4t (absterbend, abgestorben)/Eisenhutbl\\u00e4ttriger Ahorn\",\"Alphabet/Krankheiten/Vitalit\\u00e4t (absterbend, abgestorben)/Gemeine Esche\",\"Alphabet/Sch\\u00e4den/Vitalit\\u00e4t (absterbend, abgestorben)/Eingriffliger Weissdorn\",\"Alphabet/Alter/Vitalit\\u00e4t (absterbend, abgestorben)/Rottanne, Fichte\",\"Alphabet/Krankheiten/Vitalit\\u00e4t (absterbend, abgestorben)/Spitz-Ahorn (kugelf\\u00f6rmig)\",\"Alphabet/Krankheiten/Vitalit\\u00e4t (absterbend, abgestorben)/Spitz-Ahorn\",\"Alphabet/Krankheiten/Vitalit\\u00e4t (absterbend, abgestorben)/Vogel-Kirsche, S\\u00fcss-Kirsche (gef\\u00fcllte)\",\"Alphabet/Sch\\u00e4dlinge/Vitalit\\u00e4t (absterbend, abgestorben)/Sapindus-Fichte, Orientalische Fichte\",\"Alphabet/Sch\\u00e4dlinge/Verkehrssicherheit (stand-, bruchgef\\u00e4hrdet)/Sal-Weide\",\"Alphabet/Krankheiten/Verkehrssicherheit (stand-, bruchgef\\u00e4hrdet)/Japanische Bl\\u00fcten-Kirsche, Japanische Nelken-Kirsche\",\"Alphabet/Krankheiten/Vitalit\\u00e4t (absterbend, abgestorben)/Sand-Birke, Weiss-Birke\",\"Alphabet/Sch\\u00e4den/Vitalit\\u00e4t (absterbend, abgestorben)\",\"Alphabet/Sch\\u00e4den/Vitalit\\u00e4t (absterbend, abgestorben)/Zweigriffliger Weissdorn (laevigata x monogyna)\",\"Alphabet/Sch\\u00e4den/Verkehrssicherheit (stand-, bruchgef\\u00e4hrdet)/Apfel-Obstgeh\\u00f6lz, Sorte unbekannt\"],\"labels\":[\"Schwarz-Erle, Rot-Erle\",\"Lederbl\\u00e4ttriger Weissdorn (crus-galli x pubescens)\",\"Sand-Birke, Weiss-Birke\",\"Gr\\u00fcn Stadt Z\\u00fcrich Projekt\",\"Berg-Ahorn, Wald-Ahorn\",\"Igel-Fichte\",\"Spitz-Ahorn\",\"Robinie, Schein-Akazie\",\"Stiel-Eiche, s\\u00e4ulenf\\u00f6rmig\",\"Sammelbegriff f\\u00fcr Zwetschgen, Pflaume, Reneklode usw. (Sorte unbek.)\",\"Robinie, Schein-Akazie\",\"Kirschpflaume\",\"Rottanne, Fichte\",\"Gemeine Hain- oder Weissbuche\",\"Vitalit\\u00e4t (absterbend, abgestorben)\",\"Sand-Birke, Weiss-Birke\",\"Robinie, Klebrige Robinie\",\"Platane (occidentalis x orientalis)\",\"Robinie, Schein-Akazie\",\"Sand-Birke, Weiss-Birke\",\"Sammelbegriff f\\u00fcr Zwetschgen, Pflaume, Reneklode usw. (Sorte unbek.)\",\"Sal-Weide\",\"Platane (occidentalis x orientalis)\",\"Platane (occidentalis x orientalis)\",\"Pyramiden-Pappel, Italienische Pappel\",\"Serbische Fichte\",\"Oxelbeere, Schwedische Mehlbeere\",\"Pyramiden-Pappel, Italienische Pappel\",\"Berg-Kiefer, Latschen-Kiefer\",\"Verkehrssicherheit (stand-, bruchgef\\u00e4hrdet)\",\"Vitalit\\u00e4t (absterbend, abgestorben)\",\"Riesen-Lebensbaum\",\"Silber-Ahorn\",\"Pflaume-Obstgeh\\u00f6lz, Sorte unbekannt (Pflaume)\",\"Silber-Ahorn\",\"Schwarz-Erle, Rot-Erle\",\"Vogel-Kirsche, S\\u00fcss-Kirsche\",\"Alter\",\"Sp\\u00e4te Traubenkirsche\",\"Krankheit\",\"G\\u00f6tterbaum (m\\u00e4nnlich)\",\"Japanische Bl\\u00fcten-Kirsche\",\"Sand-Birke, Weiss-Birke\",\"Rotbuche\",\"Vitalit\\u00e4t (absterbend, abgestorben)\",\"Rostnerviger Ahorn\",\"Sand-Birke, Weiss-Birke\",\"Krim-Linde (cordata x platyphyllos)\",\"Zier-Apfel\",\"Erdgas-Projekt\",\"Rotbuche\",\"Robinie, Schein-Akazie\",\"Gemeine Hain- oder Weissbuche\",\"Sauer-Kirsche-Obstgeh\\u00f6lz, Sorte unbekannt\",\"Sch\\u00e4dlinge\",\"L\\u00e4rche, Art unbekannt\",\"Oxelbeere, Schwedische Mehlbeere\",\"Verkehrssicherheit (stand-, bruchgef\\u00e4hrdet)\",\"Baustellen\",\"Krim-Linde (cordata x platyphyllos)\",\"Amerikanische Rot-Eiche\",\"Apfel-Obstgeh\\u00f6lz, Sorte unbekannt\",\"Baumhasel\",\"Berg-Ahorn, Wald-Ahorn\",\"Verkehrssicherheit (stand-, bruchgef\\u00e4hrdet)\",\"Amerikanischer Z\\u00fcrgelbaum\",\"Japanische Bl\\u00fcten-Kirsche, Japanische Nelken-Kirsche\",\"Gew\\u00f6hnliche Hopfenbuche\",\"Kupfer-Felsenbirne\",\"Zier-Apfel, Art unbekannt\",\"Weisser Maulbeerbaum\",\"Weiss-Weide, Silber-Weide\",\"Wechselbl\\u00e4ttriger Hartriegel\",\"Gemeine Rosskastanie\",\"Europ\\u00e4ische L\\u00e4rche\",\"Feld-Ahorn, Hecken-Ahorn\",\"F\\u00e4cher-Ahorn\",\"Gef\\u00fclltbl\\u00fchende Rosskastanie\",\"Gemeine Esche\",\"Walnuss-Obstgeh\\u00f6lz, Sorte unbekannt\",\"Winter-Linde\",\"Gemeine Eberesche, Vogelbeerbaum\",\"Zwetschge-Obstgeh\\u00f6lz, Sorte unbekannt\",\"GSZ-Projekt\",\"Kanadische Pappel (deltoides x nigra)\",\"Kirschpflaume\",\"Kirschpflaume\",\"Kirschpflaume\",\"Krankheiten\",\"Sch\\u00e4den\",\"Kuchenbaum, Katsurabaum\",\"Laubbaum\",\"Zier-Apfel, Art unbekannt\",\"Schwarz-Erle, Rot-Erle\",\"Schwarz-Erle, Rot-Erle\",\"Lederbl\\u00e4ttriger Weissdorn (crus-galli x pubescens)\",\"Spitz-Ahorn\",\"Lawsons Scheinzypresse\",\"Spitz-Ahorn\",\"Kalifornische Weihrauchszeder\",\"S\\u00fcdlicher Z\\u00fcrgelbaum\",\"G\\u00f6tterbaum (weiblich)\",\"Korb-Weide, Hanf-Weide\",\"Ginkgo, M\\u00e4dchenhaarbaum, F\\u00e4cherblattbaum (weiblich)\",\"Walnuss-Obstgeh\\u00f6lz, Sorte unbekannt\",\"Schwarz-Erle, Rot-Erle\",\"Kirschpflaume\",\"Higan-Kirsche\",\"Vogel-Kirsche, S\\u00fcss-Kirsche\",\"Alphabet\",\"Gemeine Esche\",\"Sturm\",\"Robinie, Art unbekannt\",\"Winter-Linde, Stadt-Linde\",\"Robinie, Schein-Akazie\",\"Vitalit\\u00e4t (absterbend, abgestorben)\",\"Blauglockenbaum\",\"Japanische Bl\\u00fcten-Kirsche, Japanische Nelken-Kirsche\",\"Gemeine Hain- oder Weissbuche\",\"Verkehrssicherheit (stand-, bruchgef\\u00e4hrdet)\",\"Feld-Ahorn, Hecken-Ahorn\",\"Kolchischer Ahorn\",\"Verkehrssicherheit (stand-, bruchgef\\u00e4hrdet)\",\"Berg-Kiefer, Latschen-Kiefer\",\"Vogel-Kirsche, S\\u00fcss-Kirsche\",\"Berg-Ahorn, Wald-Ahorn\",\"Lederbl\\u00e4ttriger Weissdorn (crus-galli x pubescens)\",\"Blauglockenbaum\",\"Blauglockenbaum\",\"Gemeine Eberesche, Vogelbeerbaum\",\"Eisenhutbl\\u00e4ttriger Ahorn\",\"Eisenhutbl\\u00e4ttriger Ahorn\",\"Gemeine Esche\",\"Eingriffliger Weissdorn\",\"Rottanne, Fichte\",\"Spitz-Ahorn (kugelf\\u00f6rmig)\",\"Spitz-Ahorn\",\"Vogel-Kirsche, S\\u00fcss-Kirsche (gef\\u00fcllte)\",\"Sapindus-Fichte, Orientalische Fichte\",\"Sal-Weide\",\"Japanische Bl\\u00fcten-Kirsche, Japanische Nelken-Kirsche\",\"Sand-Birke, Weiss-Birke\",\"Vitalit\\u00e4t (absterbend, abgestorben)\",\"Zweigriffliger Weissdorn (laevigata x monogyna)\",\"Apfel-Obstgeh\\u00f6lz, Sorte unbekannt\"],\"marker\":{\"colors\":[\"#636efa\",\"#EF553B\",\"#00cc96\",\"#ab63fa\",\"#FFA15A\",\"#19d3f3\",\"#FF6692\",\"#B6E880\",\"#FF97FF\",\"#FECB52\",\"#B6E880\",\"#636efa\",\"#EF553B\",\"#00cc96\",\"#636efa\",\"#00cc96\",\"#ab63fa\",\"#FFA15A\",\"#B6E880\",\"#00cc96\",\"#FECB52\",\"#19d3f3\",\"#FFA15A\",\"#FFA15A\",\"#FF6692\",\"#B6E880\",\"#FF97FF\",\"#FF6692\",\"#FECB52\",\"#636efa\",\"#ab63fa\",\"#636efa\",\"#EF553B\",\"#00cc96\",\"#EF553B\",\"#636efa\",\"#ab63fa\",\"#ab63fa\",\"#FFA15A\",\"#636efa\",\"#19d3f3\",\"#FF6692\",\"#00cc96\",\"#B6E880\",\"#ab63fa\",\"#FF97FF\",\"#00cc96\",\"#FECB52\",\"#636efa\",\"#EF553B\",\"#B6E880\",\"#B6E880\",\"#00cc96\",\"#00cc96\",\"#ab63fa\",\"#EF553B\",\"#FF97FF\",\"#ab63fa\",\"#ab63fa\",\"#FECB52\",\"#ab63fa\",\"#FFA15A\",\"#19d3f3\",\"#FFA15A\",\"#ab63fa\",\"#FF6692\",\"#B6E880\",\"#FF97FF\",\"#FECB52\",\"#636efa\",\"#EF553B\",\"#00cc96\",\"#ab63fa\",\"#FFA15A\",\"#19d3f3\",\"#FF6692\",\"#B6E880\",\"#FF97FF\",\"#FECB52\",\"#636efa\",\"#EF553B\",\"#00cc96\",\"#ab63fa\",\"#FECB52\",\"#FFA15A\",\"#636efa\",\"#636efa\",\"#636efa\",\"#ab63fa\",\"#ab63fa\",\"#19d3f3\",\"#FF6692\",\"#636efa\",\"#636efa\",\"#636efa\",\"#EF553B\",\"#FF6692\",\"#B6E880\",\"#FF6692\",\"#FF97FF\",\"#FECB52\",\"#636efa\",\"#EF553B\",\"#00cc96\",\"#636efa\",\"#636efa\",\"#636efa\",\"#ab63fa\",\"#ab63fa\",\"#ab63fa\",\"#FECB52\",\"#636efa\",\"#FFA15A\",\"#19d3f3\",\"#B6E880\",\"#ab63fa\",\"#FF6692\",\"#B6E880\",\"#00cc96\",\"#ab63fa\",\"#FF6692\",\"#B6E880\",\"#ab63fa\",\"#FECB52\",\"#ab63fa\",\"#FFA15A\",\"#EF553B\",\"#FF6692\",\"#FF6692\",\"#00cc96\",\"#FF97FF\",\"#FF97FF\",\"#FECB52\",\"#FECB52\",\"#EF553B\",\"#636efa\",\"#FF6692\",\"#EF553B\",\"#00cc96\",\"#19d3f3\",\"#B6E880\",\"#00cc96\",\"#ab63fa\",\"#ab63fa\",\"#FFA15A\"]},\"name\":\"\",\"parents\":[\"Alphabet/Alter/Verkehrssicherheit (stand-, bruchgef\\u00e4hrdet)\",\"Alphabet/Krankheiten/Vitalit\\u00e4t (absterbend, abgestorben)\",\"Alphabet/Krankheiten/Verkehrssicherheit (stand-, bruchgef\\u00e4hrdet)\",\"Alphabet/Baustellen\",\"Alphabet/Krankheiten/Vitalit\\u00e4t (absterbend, abgestorben)\",\"Alphabet/Baustellen/Gr\\u00fcn Stadt Z\\u00fcrich Projekt\",\"Alphabet/Krankheiten/Verkehrssicherheit (stand-, bruchgef\\u00e4hrdet)\",\"Alphabet/Krankheiten/Vitalit\\u00e4t (absterbend, abgestorben)\",\"Alphabet/Krankheiten/Vitalit\\u00e4t (absterbend, abgestorben)\",\"Alphabet/Baustellen/GSZ-Projekt\",\"Alphabet/Alter/Vitalit\\u00e4t (absterbend, abgestorben)\",\"Alphabet/Sch\\u00e4den/Vitalit\\u00e4t (absterbend, abgestorben)\",\"Alphabet/Krankheiten/Vitalit\\u00e4t (absterbend, abgestorben)\",\"Alphabet/Krankheiten/Vitalit\\u00e4t (absterbend, abgestorben)\",\"Alphabet/Krankheit\",\"Alphabet/Alter/Vitalit\\u00e4t (absterbend, abgestorben)\",\"Alphabet/Alter/Vitalit\\u00e4t (absterbend, abgestorben)\",\"Alphabet/Krankheiten/Vitalit\\u00e4t (absterbend, abgestorben)\",\"Alphabet/Alter/Verkehrssicherheit (stand-, bruchgef\\u00e4hrdet)\",\"Alphabet/Baustellen/Gr\\u00fcn Stadt Z\\u00fcrich Projekt\",\"Alphabet/Krankheiten/Vitalit\\u00e4t (absterbend, abgestorben)\",\"Alphabet/Krankheiten/Vitalit\\u00e4t (absterbend, abgestorben)\",\"Alphabet/Alter/Vitalit\\u00e4t (absterbend, abgestorben)\",\"Alphabet/Sch\\u00e4den/Vitalit\\u00e4t (absterbend, abgestorben)\",\"Alphabet/Krankheiten/Vitalit\\u00e4t (absterbend, abgestorben)\",\"Alphabet/Krankheiten/Vitalit\\u00e4t (absterbend, abgestorben)\",\"Alphabet/Alter/Vitalit\\u00e4t (absterbend, abgestorben)\",\"Alphabet/Sch\\u00e4den/Vitalit\\u00e4t (absterbend, abgestorben)\",\"Alphabet/Krankheiten/Verkehrssicherheit (stand-, bruchgef\\u00e4hrdet)\",\"Alphabet/Sturm\",\"Alphabet/Alter\",\"Alphabet/Krankheiten/Vitalit\\u00e4t (absterbend, abgestorben)\",\"Alphabet/Alter/Vitalit\\u00e4t (absterbend, abgestorben)\",\"Alphabet/Sch\\u00e4den/Verkehrssicherheit (stand-, bruchgef\\u00e4hrdet)\",\"Alphabet/Sch\\u00e4den/Verkehrssicherheit (stand-, bruchgef\\u00e4hrdet)\",\"Alphabet/Krankheiten/Vitalit\\u00e4t (absterbend, abgestorben)\",\"Alphabet/Alter/Vitalit\\u00e4t (absterbend, abgestorben)\",\"Alphabet\",\"Alphabet/Sch\\u00e4dlinge/Verkehrssicherheit (stand-, bruchgef\\u00e4hrdet)\",\"Alphabet\",\"Alphabet/Krankheiten/Vitalit\\u00e4t (absterbend, abgestorben)\",\"Alphabet/Krankheiten/Vitalit\\u00e4t (absterbend, abgestorben)\",\"Alphabet/Sch\\u00e4den/Verkehrssicherheit (stand-, bruchgef\\u00e4hrdet)\",\"Alphabet/Alter/Verkehrssicherheit (stand-, bruchgef\\u00e4hrdet)\",\"Alphabet/Sch\\u00e4dlinge\",\"Alphabet/Alter/Vitalit\\u00e4t (absterbend, abgestorben)\",\"Alphabet/Sch\\u00e4den/Vitalit\\u00e4t (absterbend, abgestorben)\",\"Alphabet/Krankheiten/Vitalit\\u00e4t (absterbend, abgestorben)\",\"Alphabet/Krankheiten/Vitalit\\u00e4t (absterbend, abgestorben)\",\"Alphabet/Baustellen\",\"Alphabet/Alter/Vitalit\\u00e4t (absterbend, abgestorben)\",\"Alphabet/Sch\\u00e4den/Verkehrssicherheit (stand-, bruchgef\\u00e4hrdet)\",\"Alphabet/Sch\\u00e4den/Verkehrssicherheit (stand-, bruchgef\\u00e4hrdet)\",\"Alphabet/Alter/Vitalit\\u00e4t (absterbend, abgestorben)\",\"Alphabet\",\"Alphabet/Baustellen/Erdgas-Projekt\",\"Alphabet/Krankheiten/Verkehrssicherheit (stand-, bruchgef\\u00e4hrdet)\",\"Alphabet/Sch\\u00e4dlinge\",\"Alphabet\",\"Alphabet/Sch\\u00e4den/Vitalit\\u00e4t (absterbend, abgestorben)\",\"Alphabet/Krankheiten/Vitalit\\u00e4t (absterbend, abgestorben)\",\"Alphabet/Krankheiten/Vitalit\\u00e4t (absterbend, abgestorben)\",\"Alphabet/Sch\\u00e4den/Verkehrssicherheit (stand-, bruchgef\\u00e4hrdet)\",\"Alphabet/Sch\\u00e4den/Verkehrssicherheit (stand-, bruchgef\\u00e4hrdet)\",\"Alphabet/Sch\\u00e4den\",\"Alphabet/Alter/Vitalit\\u00e4t (absterbend, abgestorben)\",\"Alphabet/Krankheiten/Vitalit\\u00e4t (absterbend, abgestorben)\",\"Alphabet/Alter/Vitalit\\u00e4t (absterbend, abgestorben)\",\"Alphabet/Krankheiten/Vitalit\\u00e4t (absterbend, abgestorben)\",\"Alphabet/Sch\\u00e4den/Vitalit\\u00e4t (absterbend, abgestorben)\",\"Alphabet/Alter/Verkehrssicherheit (stand-, bruchgef\\u00e4hrdet)\",\"Alphabet/Sch\\u00e4den/Vitalit\\u00e4t (absterbend, abgestorben)\",\"Alphabet/Krankheiten/Vitalit\\u00e4t (absterbend, abgestorben)\",\"Alphabet/Sch\\u00e4den/Verkehrssicherheit (stand-, bruchgef\\u00e4hrdet)\",\"Alphabet/Alter/Vitalit\\u00e4t (absterbend, abgestorben)\",\"Alphabet/Krankheiten/Vitalit\\u00e4t (absterbend, abgestorben)\",\"Alphabet/Alter/Vitalit\\u00e4t (absterbend, abgestorben)\",\"Alphabet/Krankheiten/Vitalit\\u00e4t (absterbend, abgestorben)\",\"Alphabet/Krankheiten/Verkehrssicherheit (stand-, bruchgef\\u00e4hrdet)\",\"Alphabet/Krankheiten/Verkehrssicherheit (stand-, bruchgef\\u00e4hrdet)\",\"Alphabet/Krankheiten/Vitalit\\u00e4t (absterbend, abgestorben)\",\"Alphabet/Alter/Vitalit\\u00e4t (absterbend, abgestorben)\",\"Alphabet/Krankheiten/Vitalit\\u00e4t (absterbend, abgestorben)\",\"Alphabet/Baustellen\",\"Alphabet/Sch\\u00e4den/Verkehrssicherheit (stand-, bruchgef\\u00e4hrdet)\",\"Alphabet/Krankheiten/Verkehrssicherheit (stand-, bruchgef\\u00e4hrdet)\",\"Alphabet/Sturm/Verkehrssicherheit (stand-, bruchgef\\u00e4hrdet)\",\"Alphabet/Krankheit/Vitalit\\u00e4t (absterbend, abgestorben)\",\"Alphabet\",\"Alphabet\",\"Alphabet/Alter/Vitalit\\u00e4t (absterbend, abgestorben)\",\"Alphabet/Krankheiten/Vitalit\\u00e4t (absterbend, abgestorben)\",\"Alphabet/Krankheiten/Vitalit\\u00e4t (absterbend, abgestorben)\",\"Alphabet/Alter/Vitalit\\u00e4t (absterbend, abgestorben)\",\"Alphabet/Krankheiten/Verkehrssicherheit (stand-, bruchgef\\u00e4hrdet)\",\"Alphabet/Krankheiten/Verkehrssicherheit (stand-, bruchgef\\u00e4hrdet)\",\"Alphabet/Alter/Vitalit\\u00e4t (absterbend, abgestorben)\",\"Alphabet/Krankheiten/Vitalit\\u00e4t (absterbend, abgestorben)\",\"Alphabet/Sch\\u00e4den/Verkehrssicherheit (stand-, bruchgef\\u00e4hrdet)\",\"Alphabet/Alter/Verkehrssicherheit (stand-, bruchgef\\u00e4hrdet)\",\"Alphabet/Alter/Vitalit\\u00e4t (absterbend, abgestorben)\",\"Alphabet/Krankheiten/Vitalit\\u00e4t (absterbend, abgestorben)\",\"Alphabet/Alter/Vitalit\\u00e4t (absterbend, abgestorben)\",\"Alphabet/Krankheiten/Vitalit\\u00e4t (absterbend, abgestorben)\",\"Alphabet/Alter/Vitalit\\u00e4t (absterbend, abgestorben)\",\"Alphabet/Sch\\u00e4den/Vitalit\\u00e4t (absterbend, abgestorben)\",\"Alphabet/Krankheiten/Vitalit\\u00e4t (absterbend, abgestorben)\",\"Alphabet/Krankheiten/Vitalit\\u00e4t (absterbend, abgestorben)\",\"Alphabet/Baustellen/Gr\\u00fcn Stadt Z\\u00fcrich Projekt\",\"\",\"Alphabet/Alter/Vitalit\\u00e4t (absterbend, abgestorben)\",\"Alphabet\",\"Alphabet/Krankheiten/Vitalit\\u00e4t (absterbend, abgestorben)\",\"Alphabet/Krankheiten/Vitalit\\u00e4t (absterbend, abgestorben)\",\"Alphabet/Krankheiten/Verkehrssicherheit (stand-, bruchgef\\u00e4hrdet)\",\"Alphabet/Krankheiten\",\"Alphabet/Sch\\u00e4den/Vitalit\\u00e4t (absterbend, abgestorben)\",\"Alphabet/Sch\\u00e4den/Vitalit\\u00e4t (absterbend, abgestorben)\",\"Alphabet/Alter/Vitalit\\u00e4t (absterbend, abgestorben)\",\"Alphabet/Alter\",\"Alphabet/Alter/Verkehrssicherheit (stand-, bruchgef\\u00e4hrdet)\",\"Alphabet/Sch\\u00e4den/Vitalit\\u00e4t (absterbend, abgestorben)\",\"Alphabet/Krankheiten\",\"Alphabet/Krankheiten/Vitalit\\u00e4t (absterbend, abgestorben)\",\"Alphabet/Krankheiten/Verkehrssicherheit (stand-, bruchgef\\u00e4hrdet)\",\"Alphabet/Alter/Vitalit\\u00e4t (absterbend, abgestorben)\",\"Alphabet/Sch\\u00e4dlinge/Vitalit\\u00e4t (absterbend, abgestorben)\",\"Alphabet/Sch\\u00e4den/Verkehrssicherheit (stand-, bruchgef\\u00e4hrdet)\",\"Alphabet/Krankheiten/Vitalit\\u00e4t (absterbend, abgestorben)\",\"Alphabet/Krankheiten/Verkehrssicherheit (stand-, bruchgef\\u00e4hrdet)\",\"Alphabet/Baustellen/Gr\\u00fcn Stadt Z\\u00fcrich Projekt\",\"Alphabet/Krankheiten/Vitalit\\u00e4t (absterbend, abgestorben)\",\"Alphabet/Krankheiten/Vitalit\\u00e4t (absterbend, abgestorben)\",\"Alphabet/Sch\\u00e4den/Vitalit\\u00e4t (absterbend, abgestorben)\",\"Alphabet/Alter/Vitalit\\u00e4t (absterbend, abgestorben)\",\"Alphabet/Krankheiten/Vitalit\\u00e4t (absterbend, abgestorben)\",\"Alphabet/Krankheiten/Vitalit\\u00e4t (absterbend, abgestorben)\",\"Alphabet/Krankheiten/Vitalit\\u00e4t (absterbend, abgestorben)\",\"Alphabet/Sch\\u00e4dlinge/Vitalit\\u00e4t (absterbend, abgestorben)\",\"Alphabet/Sch\\u00e4dlinge/Verkehrssicherheit (stand-, bruchgef\\u00e4hrdet)\",\"Alphabet/Krankheiten/Verkehrssicherheit (stand-, bruchgef\\u00e4hrdet)\",\"Alphabet/Krankheiten/Vitalit\\u00e4t (absterbend, abgestorben)\",\"Alphabet/Sch\\u00e4den\",\"Alphabet/Sch\\u00e4den/Vitalit\\u00e4t (absterbend, abgestorben)\",\"Alphabet/Sch\\u00e4den/Verkehrssicherheit (stand-, bruchgef\\u00e4hrdet)\"],\"root\":{\"color\":\"lightgrey\"},\"type\":\"treemap\",\"values\":[1.0,3.0,1.0,4.0,2.0,1.0,1.0,6.0,1.0,1.0,11.0,1.0,5.0,2.0,1.0,1.0,1.0,3.0,1.0,1.0,2.0,1.0,1.0,1.0,1.0,2.0,2.0,1.0,1.0,1.0,43.0,1.0,1.0,1.0,1.0,1.0,1.0,49.0,1.0,1.0,1.0,1.0,1.0,1.0,4.0,2.0,2.0,1.0,5.0,2.0,2.0,1.0,1.0,1.0,6.0,2.0,1.0,2.0,7.0,1.0,1.0,2.0,1.0,1.0,14.0,2.0,2.0,1.0,1.0,1.0,1.0,5.0,1.0,1.0,1.0,3.0,1.0,1.0,3.0,1.0,2.0,1.0,1.0,1.0,3.0,1.0,1.0,1.0,129.0,32.0,1.0,2.0,1.0,1.0,1.0,1.0,3.0,1.0,1.0,1.0,1.0,1.0,1.0,1.0,1.0,1.0,1.0,1.0,1.0,225.0,2.0,1.0,1.0,1.0,8.0,107.0,1.0,1.0,2.0,6.0,1.0,1.0,22.0,1.0,1.0,1.0,2.0,1.0,1.0,1.0,1.0,1.0,18.0,1.0,1.0,1.0,7.0,7.0,2.0,1.0,1.0,9.0,18.0,1.0,1.0]}],                        {\"legend\":{\"tracegroupgap\":0},\"margin\":{\"b\":25,\"l\":25,\"r\":250,\"t\":50},\"template\":{\"data\":{\"bar\":[{\"error_x\":{\"color\":\"#2a3f5f\"},\"error_y\":{\"color\":\"#2a3f5f\"},\"marker\":{\"line\":{\"color\":\"#E5ECF6\",\"width\":0.5},\"pattern\":{\"fillmode\":\"overlay\",\"size\":10,\"solidity\":0.2}},\"type\":\"bar\"}],\"barpolar\":[{\"marker\":{\"line\":{\"color\":\"#E5ECF6\",\"width\":0.5},\"pattern\":{\"fillmode\":\"overlay\",\"size\":10,\"solidity\":0.2}},\"type\":\"barpolar\"}],\"carpet\":[{\"aaxis\":{\"endlinecolor\":\"#2a3f5f\",\"gridcolor\":\"white\",\"linecolor\":\"white\",\"minorgridcolor\":\"white\",\"startlinecolor\":\"#2a3f5f\"},\"baxis\":{\"endlinecolor\":\"#2a3f5f\",\"gridcolor\":\"white\",\"linecolor\":\"white\",\"minorgridcolor\":\"white\",\"startlinecolor\":\"#2a3f5f\"},\"type\":\"carpet\"}],\"choropleth\":[{\"colorbar\":{\"outlinewidth\":0,\"ticks\":\"\"},\"type\":\"choropleth\"}],\"contour\":[{\"colorbar\":{\"outlinewidth\":0,\"ticks\":\"\"},\"colorscale\":[[0.0,\"#0d0887\"],[0.1111111111111111,\"#46039f\"],[0.2222222222222222,\"#7201a8\"],[0.3333333333333333,\"#9c179e\"],[0.4444444444444444,\"#bd3786\"],[0.5555555555555556,\"#d8576b\"],[0.6666666666666666,\"#ed7953\"],[0.7777777777777778,\"#fb9f3a\"],[0.8888888888888888,\"#fdca26\"],[1.0,\"#f0f921\"]],\"type\":\"contour\"}],\"contourcarpet\":[{\"colorbar\":{\"outlinewidth\":0,\"ticks\":\"\"},\"type\":\"contourcarpet\"}],\"heatmap\":[{\"colorbar\":{\"outlinewidth\":0,\"ticks\":\"\"},\"colorscale\":[[0.0,\"#0d0887\"],[0.1111111111111111,\"#46039f\"],[0.2222222222222222,\"#7201a8\"],[0.3333333333333333,\"#9c179e\"],[0.4444444444444444,\"#bd3786\"],[0.5555555555555556,\"#d8576b\"],[0.6666666666666666,\"#ed7953\"],[0.7777777777777778,\"#fb9f3a\"],[0.8888888888888888,\"#fdca26\"],[1.0,\"#f0f921\"]],\"type\":\"heatmap\"}],\"heatmapgl\":[{\"colorbar\":{\"outlinewidth\":0,\"ticks\":\"\"},\"colorscale\":[[0.0,\"#0d0887\"],[0.1111111111111111,\"#46039f\"],[0.2222222222222222,\"#7201a8\"],[0.3333333333333333,\"#9c179e\"],[0.4444444444444444,\"#bd3786\"],[0.5555555555555556,\"#d8576b\"],[0.6666666666666666,\"#ed7953\"],[0.7777777777777778,\"#fb9f3a\"],[0.8888888888888888,\"#fdca26\"],[1.0,\"#f0f921\"]],\"type\":\"heatmapgl\"}],\"histogram\":[{\"marker\":{\"pattern\":{\"fillmode\":\"overlay\",\"size\":10,\"solidity\":0.2}},\"type\":\"histogram\"}],\"histogram2d\":[{\"colorbar\":{\"outlinewidth\":0,\"ticks\":\"\"},\"colorscale\":[[0.0,\"#0d0887\"],[0.1111111111111111,\"#46039f\"],[0.2222222222222222,\"#7201a8\"],[0.3333333333333333,\"#9c179e\"],[0.4444444444444444,\"#bd3786\"],[0.5555555555555556,\"#d8576b\"],[0.6666666666666666,\"#ed7953\"],[0.7777777777777778,\"#fb9f3a\"],[0.8888888888888888,\"#fdca26\"],[1.0,\"#f0f921\"]],\"type\":\"histogram2d\"}],\"histogram2dcontour\":[{\"colorbar\":{\"outlinewidth\":0,\"ticks\":\"\"},\"colorscale\":[[0.0,\"#0d0887\"],[0.1111111111111111,\"#46039f\"],[0.2222222222222222,\"#7201a8\"],[0.3333333333333333,\"#9c179e\"],[0.4444444444444444,\"#bd3786\"],[0.5555555555555556,\"#d8576b\"],[0.6666666666666666,\"#ed7953\"],[0.7777777777777778,\"#fb9f3a\"],[0.8888888888888888,\"#fdca26\"],[1.0,\"#f0f921\"]],\"type\":\"histogram2dcontour\"}],\"mesh3d\":[{\"colorbar\":{\"outlinewidth\":0,\"ticks\":\"\"},\"type\":\"mesh3d\"}],\"parcoords\":[{\"line\":{\"colorbar\":{\"outlinewidth\":0,\"ticks\":\"\"}},\"type\":\"parcoords\"}],\"pie\":[{\"automargin\":true,\"type\":\"pie\"}],\"scatter\":[{\"marker\":{\"colorbar\":{\"outlinewidth\":0,\"ticks\":\"\"}},\"type\":\"scatter\"}],\"scatter3d\":[{\"line\":{\"colorbar\":{\"outlinewidth\":0,\"ticks\":\"\"}},\"marker\":{\"colorbar\":{\"outlinewidth\":0,\"ticks\":\"\"}},\"type\":\"scatter3d\"}],\"scattercarpet\":[{\"marker\":{\"colorbar\":{\"outlinewidth\":0,\"ticks\":\"\"}},\"type\":\"scattercarpet\"}],\"scattergeo\":[{\"marker\":{\"colorbar\":{\"outlinewidth\":0,\"ticks\":\"\"}},\"type\":\"scattergeo\"}],\"scattergl\":[{\"marker\":{\"colorbar\":{\"outlinewidth\":0,\"ticks\":\"\"}},\"type\":\"scattergl\"}],\"scattermapbox\":[{\"marker\":{\"colorbar\":{\"outlinewidth\":0,\"ticks\":\"\"}},\"type\":\"scattermapbox\"}],\"scatterpolar\":[{\"marker\":{\"colorbar\":{\"outlinewidth\":0,\"ticks\":\"\"}},\"type\":\"scatterpolar\"}],\"scatterpolargl\":[{\"marker\":{\"colorbar\":{\"outlinewidth\":0,\"ticks\":\"\"}},\"type\":\"scatterpolargl\"}],\"scatterternary\":[{\"marker\":{\"colorbar\":{\"outlinewidth\":0,\"ticks\":\"\"}},\"type\":\"scatterternary\"}],\"surface\":[{\"colorbar\":{\"outlinewidth\":0,\"ticks\":\"\"},\"colorscale\":[[0.0,\"#0d0887\"],[0.1111111111111111,\"#46039f\"],[0.2222222222222222,\"#7201a8\"],[0.3333333333333333,\"#9c179e\"],[0.4444444444444444,\"#bd3786\"],[0.5555555555555556,\"#d8576b\"],[0.6666666666666666,\"#ed7953\"],[0.7777777777777778,\"#fb9f3a\"],[0.8888888888888888,\"#fdca26\"],[1.0,\"#f0f921\"]],\"type\":\"surface\"}],\"table\":[{\"cells\":{\"fill\":{\"color\":\"#EBF0F8\"},\"line\":{\"color\":\"white\"}},\"header\":{\"fill\":{\"color\":\"#C8D4E3\"},\"line\":{\"color\":\"white\"}},\"type\":\"table\"}]},\"layout\":{\"annotationdefaults\":{\"arrowcolor\":\"#2a3f5f\",\"arrowhead\":0,\"arrowwidth\":1},\"autotypenumbers\":\"strict\",\"coloraxis\":{\"colorbar\":{\"outlinewidth\":0,\"ticks\":\"\"}},\"colorscale\":{\"diverging\":[[0,\"#8e0152\"],[0.1,\"#c51b7d\"],[0.2,\"#de77ae\"],[0.3,\"#f1b6da\"],[0.4,\"#fde0ef\"],[0.5,\"#f7f7f7\"],[0.6,\"#e6f5d0\"],[0.7,\"#b8e186\"],[0.8,\"#7fbc41\"],[0.9,\"#4d9221\"],[1,\"#276419\"]],\"sequential\":[[0.0,\"#0d0887\"],[0.1111111111111111,\"#46039f\"],[0.2222222222222222,\"#7201a8\"],[0.3333333333333333,\"#9c179e\"],[0.4444444444444444,\"#bd3786\"],[0.5555555555555556,\"#d8576b\"],[0.6666666666666666,\"#ed7953\"],[0.7777777777777778,\"#fb9f3a\"],[0.8888888888888888,\"#fdca26\"],[1.0,\"#f0f921\"]],\"sequentialminus\":[[0.0,\"#0d0887\"],[0.1111111111111111,\"#46039f\"],[0.2222222222222222,\"#7201a8\"],[0.3333333333333333,\"#9c179e\"],[0.4444444444444444,\"#bd3786\"],[0.5555555555555556,\"#d8576b\"],[0.6666666666666666,\"#ed7953\"],[0.7777777777777778,\"#fb9f3a\"],[0.8888888888888888,\"#fdca26\"],[1.0,\"#f0f921\"]]},\"colorway\":[\"#636efa\",\"#EF553B\",\"#00cc96\",\"#ab63fa\",\"#FFA15A\",\"#19d3f3\",\"#FF6692\",\"#B6E880\",\"#FF97FF\",\"#FECB52\"],\"font\":{\"color\":\"#2a3f5f\"},\"geo\":{\"bgcolor\":\"white\",\"lakecolor\":\"white\",\"landcolor\":\"#E5ECF6\",\"showlakes\":true,\"showland\":true,\"subunitcolor\":\"white\"},\"hoverlabel\":{\"align\":\"left\"},\"hovermode\":\"closest\",\"mapbox\":{\"style\":\"light\"},\"paper_bgcolor\":\"white\",\"plot_bgcolor\":\"#E5ECF6\",\"polar\":{\"angularaxis\":{\"gridcolor\":\"white\",\"linecolor\":\"white\",\"ticks\":\"\"},\"bgcolor\":\"#E5ECF6\",\"radialaxis\":{\"gridcolor\":\"white\",\"linecolor\":\"white\",\"ticks\":\"\"}},\"scene\":{\"xaxis\":{\"backgroundcolor\":\"#E5ECF6\",\"gridcolor\":\"white\",\"gridwidth\":2,\"linecolor\":\"white\",\"showbackground\":true,\"ticks\":\"\",\"zerolinecolor\":\"white\"},\"yaxis\":{\"backgroundcolor\":\"#E5ECF6\",\"gridcolor\":\"white\",\"gridwidth\":2,\"linecolor\":\"white\",\"showbackground\":true,\"ticks\":\"\",\"zerolinecolor\":\"white\"},\"zaxis\":{\"backgroundcolor\":\"#E5ECF6\",\"gridcolor\":\"white\",\"gridwidth\":2,\"linecolor\":\"white\",\"showbackground\":true,\"ticks\":\"\",\"zerolinecolor\":\"white\"}},\"shapedefaults\":{\"line\":{\"color\":\"#2a3f5f\"}},\"ternary\":{\"aaxis\":{\"gridcolor\":\"white\",\"linecolor\":\"white\",\"ticks\":\"\"},\"baxis\":{\"gridcolor\":\"white\",\"linecolor\":\"white\",\"ticks\":\"\"},\"bgcolor\":\"#E5ECF6\",\"caxis\":{\"gridcolor\":\"white\",\"linecolor\":\"white\",\"ticks\":\"\"}},\"title\":{\"x\":0.05},\"xaxis\":{\"automargin\":true,\"gridcolor\":\"white\",\"linecolor\":\"white\",\"ticks\":\"\",\"title\":{\"standoff\":15},\"zerolinecolor\":\"white\",\"zerolinewidth\":2},\"yaxis\":{\"automargin\":true,\"gridcolor\":\"white\",\"linecolor\":\"white\",\"ticks\":\"\",\"title\":{\"standoff\":15},\"zerolinecolor\":\"white\",\"zerolinewidth\":2}}}},                        {\"responsive\": true}                    ).then(function(){\n",
       "                            \n",
       "var gd = document.getElementById('4d854537-35d3-4cae-a066-1a7960cdeb52');\n",
       "var x = new MutationObserver(function (mutations, observer) {{\n",
       "        var display = window.getComputedStyle(gd).display;\n",
       "        if (!display || display === 'none') {{\n",
       "            console.log([gd, 'removed!']);\n",
       "            Plotly.purge(gd);\n",
       "            observer.disconnect();\n",
       "        }}\n",
       "}});\n",
       "\n",
       "// Listen for the removal of the full notebook cells\n",
       "var notebookContainer = gd.closest('#notebook-container');\n",
       "if (notebookContainer) {{\n",
       "    x.observe(notebookContainer, {childList: true});\n",
       "}}\n",
       "\n",
       "// Listen for the clearing of the current output cell\n",
       "var outputEl = gd.closest('.output');\n",
       "if (outputEl) {{\n",
       "    x.observe(outputEl, {childList: true});\n",
       "}}\n",
       "\n",
       "                        })                };                });            </script>        </div>"
      ]
     },
     "metadata": {},
     "output_type": "display_data"
    }
   ],
   "source": [
    "import plotly.express as px\n",
    "\n",
    "df = df_baumersatz_baumersatzliste_aktuell\n",
    "fig = px.treemap(df, path=[px.Constant(\"Alphabet\"), 'faellursache', 'faellgrund', 'baumartdt'], values='AnzBaeume',\n",
    "                color='baumartdt', hover_data=['AnzBaeume'],\n",
    "                color_continuous_scale='blugrn')\n",
    "                #color_continuous_midpoint=np.average(df['AnzBestWir'], weights=df['AnzBestWir']))\n",
    "fig.update_traces(root_color=\"lightgrey\")\n",
    "fig.update_layout(margin = dict(t=50, l=25, r=250, b=25))\n",
    "fig.show()"
   ]
  },
  {
   "cell_type": "code",
   "execution_count": 55,
   "id": "1b63d16c-b90d-491b-80dc-32fc03d6a00b",
   "metadata": {},
   "outputs": [
    {
     "data": {
      "text/html": [
       "\n",
       "        <iframe\n",
       "            width=\"100%\"\n",
       "            height=\"500\"\n",
       "            src=\"pivottablejs.html\"\n",
       "            frameborder=\"0\"\n",
       "            allowfullscreen\n",
       "        ></iframe>\n",
       "        "
      ],
      "text/plain": [
       "<IPython.lib.display.IFrame at 0x27a21f7ebb0>"
      ]
     },
     "execution_count": 55,
     "metadata": {},
     "output_type": "execute_result"
    }
   ],
   "source": [
    "from pivottablejs import pivot_ui\n",
    "\n",
    "pivot_ui(df_baumersatz_baumersatzliste_aktuell)"
   ]
  },
  {
   "cell_type": "code",
   "execution_count": 28,
   "id": "4b2d0432-47e3-49c2-889c-0acc7229c748",
   "metadata": {},
   "outputs": [
    {
     "data": {
      "text/html": [
       "<div>\n",
       "<style scoped>\n",
       "    .dataframe tbody tr th:only-of-type {\n",
       "        vertical-align: middle;\n",
       "    }\n",
       "\n",
       "    .dataframe tbody tr th {\n",
       "        vertical-align: top;\n",
       "    }\n",
       "\n",
       "    .dataframe thead th {\n",
       "        text-align: right;\n",
       "    }\n",
       "</style>\n",
       "<table border=\"1\" class=\"dataframe\">\n",
       "  <thead>\n",
       "    <tr style=\"text-align: right;\">\n",
       "      <th></th>\n",
       "      <th></th>\n",
       "      <th></th>\n",
       "      <th></th>\n",
       "      <th>anz_baeume</th>\n",
       "    </tr>\n",
       "    <tr>\n",
       "      <th>baumartdt</th>\n",
       "      <th>ersatzplfanzung</th>\n",
       "      <th>faellgrund</th>\n",
       "      <th>faellursache</th>\n",
       "      <th></th>\n",
       "    </tr>\n",
       "  </thead>\n",
       "  <tbody>\n",
       "    <tr>\n",
       "      <th>Gemeine Esche</th>\n",
       "      <th>in Abklärung</th>\n",
       "      <th>Vitalität (absterbend, abgestorben)</th>\n",
       "      <th>Krankheiten</th>\n",
       "      <td>12</td>\n",
       "    </tr>\n",
       "    <tr>\n",
       "      <th rowspan=\"2\" valign=\"top\">Robinie, Schein-Akazie</th>\n",
       "      <th>andere Baumart</th>\n",
       "      <th>Vitalität (absterbend, abgestorben)</th>\n",
       "      <th>Alter</th>\n",
       "      <td>9</td>\n",
       "    </tr>\n",
       "    <tr>\n",
       "      <th>in Abklärung</th>\n",
       "      <th>Vitalität (absterbend, abgestorben)</th>\n",
       "      <th>Krankheiten</th>\n",
       "      <td>6</td>\n",
       "    </tr>\n",
       "    <tr>\n",
       "      <th>Sand-Birke, Weiss-Birke</th>\n",
       "      <th>in Abklärung</th>\n",
       "      <th>Vitalität (absterbend, abgestorben)</th>\n",
       "      <th>Krankheiten</th>\n",
       "      <td>6</td>\n",
       "    </tr>\n",
       "    <tr>\n",
       "      <th>Robinie, Schein-Akazie</th>\n",
       "      <th>andere Baumart</th>\n",
       "      <th>Verkehrssicherheit (stand-, bruchgefährdet)</th>\n",
       "      <th>Krankheiten</th>\n",
       "      <td>6</td>\n",
       "    </tr>\n",
       "    <tr>\n",
       "      <th>Vogel-Kirsche, Süss-Kirsche (gefüllte)</th>\n",
       "      <th>1:1-Ersatz</th>\n",
       "      <th>Vitalität (absterbend, abgestorben)</th>\n",
       "      <th>Krankheiten</th>\n",
       "      <td>6</td>\n",
       "    </tr>\n",
       "    <tr>\n",
       "      <th>Rottanne, Fichte</th>\n",
       "      <th>in Abklärung</th>\n",
       "      <th>Vitalität (absterbend, abgestorben)</th>\n",
       "      <th>Krankheiten</th>\n",
       "      <td>5</td>\n",
       "    </tr>\n",
       "    <tr>\n",
       "      <th>Zier-Apfel</th>\n",
       "      <th>1:1-Ersatz</th>\n",
       "      <th>Vitalität (absterbend, abgestorben)</th>\n",
       "      <th>Krankheiten</th>\n",
       "      <td>5</td>\n",
       "    </tr>\n",
       "    <tr>\n",
       "      <th>Spitz-Ahorn</th>\n",
       "      <th>1:1-Ersatz</th>\n",
       "      <th>Vitalität (absterbend, abgestorben)</th>\n",
       "      <th>Krankheiten</th>\n",
       "      <td>4</td>\n",
       "    </tr>\n",
       "    <tr>\n",
       "      <th>Feld-Ahorn, Hecken-Ahorn</th>\n",
       "      <th>in Abklärung</th>\n",
       "      <th>Vitalität (absterbend, abgestorben)</th>\n",
       "      <th>Krankheiten</th>\n",
       "      <td>3</td>\n",
       "    </tr>\n",
       "    <tr>\n",
       "      <th>Kanadische Pappel (deltoides x nigra)</th>\n",
       "      <th>in Abklärung</th>\n",
       "      <th>Verkehrssicherheit (stand-, bruchgefährdet)</th>\n",
       "      <th>Schäden</th>\n",
       "      <td>3</td>\n",
       "    </tr>\n",
       "    <tr>\n",
       "      <th>Spitz-Ahorn</th>\n",
       "      <th>1:1-Ersatz</th>\n",
       "      <th>Vitalität (absterbend, abgestorben)</th>\n",
       "      <th>Alter</th>\n",
       "      <td>3</td>\n",
       "    </tr>\n",
       "    <tr>\n",
       "      <th rowspan=\"2\" valign=\"top\">Gemeine Esche</th>\n",
       "      <th>natürlicher Aufwuchs, Gehölzgruppe</th>\n",
       "      <th>Verkehrssicherheit (stand-, bruchgefährdet)</th>\n",
       "      <th>Krankheiten</th>\n",
       "      <td>3</td>\n",
       "    </tr>\n",
       "    <tr>\n",
       "      <th>andere Baumart</th>\n",
       "      <th>Vitalität (absterbend, abgestorben)</th>\n",
       "      <th>Krankheiten</th>\n",
       "      <td>3</td>\n",
       "    </tr>\n",
       "    <tr>\n",
       "      <th>Platane (occidentalis x orientalis)</th>\n",
       "      <th>1:1-Ersatz</th>\n",
       "      <th>Vitalität (absterbend, abgestorben)</th>\n",
       "      <th>Krankheiten</th>\n",
       "      <td>3</td>\n",
       "    </tr>\n",
       "    <tr>\n",
       "      <th>Weiss-Weide, Silber-Weide</th>\n",
       "      <th>1:1-Ersatz</th>\n",
       "      <th>Vitalität (absterbend, abgestorben)</th>\n",
       "      <th>Schäden</th>\n",
       "      <td>3</td>\n",
       "    </tr>\n",
       "    <tr>\n",
       "      <th>Lärche, Art unbekannt</th>\n",
       "      <th>kein Ersatz, Auflagen Behörden</th>\n",
       "      <th>Erdgas-Projekt</th>\n",
       "      <th>Baustellen</th>\n",
       "      <td>2</td>\n",
       "    </tr>\n",
       "    <tr>\n",
       "      <th>Gemeine Hain- oder Weissbuche</th>\n",
       "      <th>andere Baumart</th>\n",
       "      <th>Vitalität (absterbend, abgestorben)</th>\n",
       "      <th>Alter</th>\n",
       "      <td>2</td>\n",
       "    </tr>\n",
       "    <tr>\n",
       "      <th>Sand-Birke, Weiss-Birke</th>\n",
       "      <th>andere Baumart</th>\n",
       "      <th>Vitalität (absterbend, abgestorben)</th>\n",
       "      <th>Krankheiten</th>\n",
       "      <td>2</td>\n",
       "    </tr>\n",
       "    <tr>\n",
       "      <th>Berg-Ahorn, Wald-Ahorn</th>\n",
       "      <th>1:1-Ersatz</th>\n",
       "      <th>Vitalität (absterbend, abgestorben)</th>\n",
       "      <th>Krankheiten</th>\n",
       "      <td>2</td>\n",
       "    </tr>\n",
       "    <tr>\n",
       "      <th>Serbische Fichte</th>\n",
       "      <th>in Abklärung</th>\n",
       "      <th>Vitalität (absterbend, abgestorben)</th>\n",
       "      <th>Krankheiten</th>\n",
       "      <td>2</td>\n",
       "    </tr>\n",
       "    <tr>\n",
       "      <th>Japanische Blüten-Kirsche, Japanische Nelken-Kirsche</th>\n",
       "      <th>1:1-Ersatz</th>\n",
       "      <th>Vitalität (absterbend, abgestorben)</th>\n",
       "      <th>Krankheiten</th>\n",
       "      <td>2</td>\n",
       "    </tr>\n",
       "    <tr>\n",
       "      <th>Sammelbegriff für Zwetschgen, Pflaume, Reneklode usw. (Sorte unbek.)</th>\n",
       "      <th>alternativer Standort, Ersatz bereits gepflanzt</th>\n",
       "      <th>Vitalität (absterbend, abgestorben)</th>\n",
       "      <th>Krankheiten</th>\n",
       "      <td>2</td>\n",
       "    </tr>\n",
       "    <tr>\n",
       "      <th rowspan=\"2\" valign=\"top\">Lederblättriger Weissdorn (crus-galli x pubescens)</th>\n",
       "      <th>1:1-Ersatz</th>\n",
       "      <th>Vitalität (absterbend, abgestorben)</th>\n",
       "      <th>Schädlinge</th>\n",
       "      <td>2</td>\n",
       "    </tr>\n",
       "    <tr>\n",
       "      <th>andere Baumart</th>\n",
       "      <th>Vitalität (absterbend, abgestorben)</th>\n",
       "      <th>Krankheiten</th>\n",
       "      <td>2</td>\n",
       "    </tr>\n",
       "    <tr>\n",
       "      <th>Spitz-Ahorn</th>\n",
       "      <th>andere Baumart</th>\n",
       "      <th>Vitalität (absterbend, abgestorben)</th>\n",
       "      <th>Krankheiten</th>\n",
       "      <td>2</td>\n",
       "    </tr>\n",
       "    <tr>\n",
       "      <th>Sand-Birke, Weiss-Birke</th>\n",
       "      <th>in Abklärung</th>\n",
       "      <th>Vitalität (absterbend, abgestorben)</th>\n",
       "      <th>Schäden</th>\n",
       "      <td>2</td>\n",
       "    </tr>\n",
       "    <tr>\n",
       "      <th>Oxelbeere, Schwedische Mehlbeere</th>\n",
       "      <th>1:1-Ersatz</th>\n",
       "      <th>Vitalität (absterbend, abgestorben)</th>\n",
       "      <th>Alter</th>\n",
       "      <td>2</td>\n",
       "    </tr>\n",
       "    <tr>\n",
       "      <th>Gemeine Hain- oder Weissbuche</th>\n",
       "      <th>in Abklärung</th>\n",
       "      <th>Vitalität (absterbend, abgestorben)</th>\n",
       "      <th>Krankheiten</th>\n",
       "      <td>2</td>\n",
       "    </tr>\n",
       "    <tr>\n",
       "      <th>Sapindus-Fichte, Orientalische Fichte</th>\n",
       "      <th>in Abklärung</th>\n",
       "      <th>Vitalität (absterbend, abgestorben)</th>\n",
       "      <th>Schädlinge</th>\n",
       "      <td>2</td>\n",
       "    </tr>\n",
       "    <tr>\n",
       "      <th>Gemeine Esche</th>\n",
       "      <th>natürlicher Aufwuchs, Gehölzgruppe</th>\n",
       "      <th>Vitalität (absterbend, abgestorben)</th>\n",
       "      <th>Krankheiten</th>\n",
       "      <td>2</td>\n",
       "    </tr>\n",
       "    <tr>\n",
       "      <th>Weiss-Weide, Silber-Weide</th>\n",
       "      <th>alternativer Standort, Ersatz bereits gepflanzt</th>\n",
       "      <th>Vitalität (absterbend, abgestorben)</th>\n",
       "      <th>Schäden</th>\n",
       "      <td>2</td>\n",
       "    </tr>\n",
       "    <tr>\n",
       "      <th>Amerikanischer Zürgelbaum</th>\n",
       "      <th>1:1-Ersatz</th>\n",
       "      <th>Vitalität (absterbend, abgestorben)</th>\n",
       "      <th>Alter</th>\n",
       "      <td>2</td>\n",
       "    </tr>\n",
       "    <tr>\n",
       "      <th>Robinie, Schein-Akazie</th>\n",
       "      <th>in Abklärung</th>\n",
       "      <th>Verkehrssicherheit (stand-, bruchgefährdet)</th>\n",
       "      <th>Krankheiten</th>\n",
       "      <td>2</td>\n",
       "    </tr>\n",
       "    <tr>\n",
       "      <th>Rotbuche</th>\n",
       "      <th>andere Baumart</th>\n",
       "      <th>Vitalität (absterbend, abgestorben)</th>\n",
       "      <th>Alter</th>\n",
       "      <td>2</td>\n",
       "    </tr>\n",
       "    <tr>\n",
       "      <th>Robinie, Schein-Akazie</th>\n",
       "      <th>in Abklärung</th>\n",
       "      <th>Vitalität (absterbend, abgestorben)</th>\n",
       "      <th>Alter</th>\n",
       "      <td>2</td>\n",
       "    </tr>\n",
       "    <tr>\n",
       "      <th>Rostnerviger Ahorn</th>\n",
       "      <th>in Abklärung</th>\n",
       "      <th>Vitalität (absterbend, abgestorben)</th>\n",
       "      <th>Alter</th>\n",
       "      <td>2</td>\n",
       "    </tr>\n",
       "    <tr>\n",
       "      <th>Apfel-Obstgehölz, Sorte unbekannt</th>\n",
       "      <th>1:1-Ersatz</th>\n",
       "      <th>Vitalität (absterbend, abgestorben)</th>\n",
       "      <th>Krankheiten</th>\n",
       "      <td>2</td>\n",
       "    </tr>\n",
       "    <tr>\n",
       "      <th>Sand-Birke, Weiss-Birke</th>\n",
       "      <th>Ersatz innerhalb Projekt</th>\n",
       "      <th>Grün Stadt Zürich Projekt</th>\n",
       "      <th>Baustellen</th>\n",
       "      <td>1</td>\n",
       "    </tr>\n",
       "    <tr>\n",
       "      <th>Zier-Apfel, Art unbekannt</th>\n",
       "      <th>alternativer Standort, Umgestaltung</th>\n",
       "      <th>Vitalität (absterbend, abgestorben)</th>\n",
       "      <th>Schäden</th>\n",
       "      <td>1</td>\n",
       "    </tr>\n",
       "    <tr>\n",
       "      <th rowspan=\"4\" valign=\"top\">Sand-Birke, Weiss-Birke</th>\n",
       "      <th rowspan=\"2\" valign=\"top\">in Abklärung</th>\n",
       "      <th rowspan=\"2\" valign=\"top\">Verkehrssicherheit (stand-, bruchgefährdet)</th>\n",
       "      <th>Schäden</th>\n",
       "      <td>1</td>\n",
       "    </tr>\n",
       "    <tr>\n",
       "      <th>Krankheiten</th>\n",
       "      <td>1</td>\n",
       "    </tr>\n",
       "    <tr>\n",
       "      <th>andere Baumart</th>\n",
       "      <th>Vitalität (absterbend, abgestorben)</th>\n",
       "      <th>Alter</th>\n",
       "      <td>1</td>\n",
       "    </tr>\n",
       "    <tr>\n",
       "      <th>1:1-Ersatz</th>\n",
       "      <th>Vitalität (absterbend, abgestorben)</th>\n",
       "      <th>Krankheiten</th>\n",
       "      <td>1</td>\n",
       "    </tr>\n",
       "    <tr>\n",
       "      <th>Sal-Weide</th>\n",
       "      <th>1:1-Ersatz</th>\n",
       "      <th>Verkehrssicherheit (stand-, bruchgefährdet)</th>\n",
       "      <th>Schädlinge</th>\n",
       "      <td>1</td>\n",
       "    </tr>\n",
       "    <tr>\n",
       "      <th>Sammelbegriff für Zwetschgen, Pflaume, Reneklode usw. (Sorte unbek.)</th>\n",
       "      <th>alternativer Standort, Umgestaltung</th>\n",
       "      <th>GSZ-Projekt</th>\n",
       "      <th>Baustellen</th>\n",
       "      <td>1</td>\n",
       "    </tr>\n",
       "    <tr>\n",
       "      <th>Rotbuche</th>\n",
       "      <th>natürlicher Aufwuchs, Gehölzgruppe</th>\n",
       "      <th>Verkehrssicherheit (stand-, bruchgefährdet)</th>\n",
       "      <th>Alter</th>\n",
       "      <td>1</td>\n",
       "    </tr>\n",
       "    <tr>\n",
       "      <th>Sal-Weide</th>\n",
       "      <th>1:1-Ersatz</th>\n",
       "      <th>Vitalität (absterbend, abgestorben)</th>\n",
       "      <th>Krankheiten</th>\n",
       "      <td>1</td>\n",
       "    </tr>\n",
       "    <tr>\n",
       "      <th>Rottanne, Fichte</th>\n",
       "      <th>in Abklärung</th>\n",
       "      <th>Vitalität (absterbend, abgestorben)</th>\n",
       "      <th>Alter</th>\n",
       "      <td>1</td>\n",
       "    </tr>\n",
       "    <tr>\n",
       "      <th>Zweigriffliger Weissdorn (laevigata x monogyna)</th>\n",
       "      <th>in Abklärung</th>\n",
       "      <th>Vitalität (absterbend, abgestorben)</th>\n",
       "      <th>Schäden</th>\n",
       "      <td>1</td>\n",
       "    </tr>\n",
       "  </tbody>\n",
       "</table>\n",
       "</div>"
      ],
      "text/plain": [
       "                                                                                                                                                             anz_baeume\n",
       "baumartdt                                          ersatzplfanzung                                 faellgrund                                  faellursache            \n",
       "Gemeine Esche                                      in Abklärung                                    Vitalität (absterbend, abgestorben)         Krankheiten           12\n",
       "Robinie, Schein-Akazie                             andere Baumart                                  Vitalität (absterbend, abgestorben)         Alter                  9\n",
       "                                                   in Abklärung                                    Vitalität (absterbend, abgestorben)         Krankheiten            6\n",
       "Sand-Birke, Weiss-Birke                            in Abklärung                                    Vitalität (absterbend, abgestorben)         Krankheiten            6\n",
       "Robinie, Schein-Akazie                             andere Baumart                                  Verkehrssicherheit (stand-, bruchgefährdet) Krankheiten            6\n",
       "Vogel-Kirsche, Süss-Kirsche (gefüllte)             1:1-Ersatz                                      Vitalität (absterbend, abgestorben)         Krankheiten            6\n",
       "Rottanne, Fichte                                   in Abklärung                                    Vitalität (absterbend, abgestorben)         Krankheiten            5\n",
       "Zier-Apfel                                         1:1-Ersatz                                      Vitalität (absterbend, abgestorben)         Krankheiten            5\n",
       "Spitz-Ahorn                                        1:1-Ersatz                                      Vitalität (absterbend, abgestorben)         Krankheiten            4\n",
       "Feld-Ahorn, Hecken-Ahorn                           in Abklärung                                    Vitalität (absterbend, abgestorben)         Krankheiten            3\n",
       "Kanadische Pappel (deltoides x nigra)              in Abklärung                                    Verkehrssicherheit (stand-, bruchgefährdet) Schäden                3\n",
       "Spitz-Ahorn                                        1:1-Ersatz                                      Vitalität (absterbend, abgestorben)         Alter                  3\n",
       "Gemeine Esche                                      natürlicher Aufwuchs, Gehölzgruppe              Verkehrssicherheit (stand-, bruchgefährdet) Krankheiten            3\n",
       "                                                   andere Baumart                                  Vitalität (absterbend, abgestorben)         Krankheiten            3\n",
       "Platane (occidentalis x orientalis)                1:1-Ersatz                                      Vitalität (absterbend, abgestorben)         Krankheiten            3\n",
       "Weiss-Weide, Silber-Weide                          1:1-Ersatz                                      Vitalität (absterbend, abgestorben)         Schäden                3\n",
       "Lärche, Art unbekannt                              kein Ersatz, Auflagen Behörden                  Erdgas-Projekt                              Baustellen             2\n",
       "Gemeine Hain- oder Weissbuche                      andere Baumart                                  Vitalität (absterbend, abgestorben)         Alter                  2\n",
       "Sand-Birke, Weiss-Birke                            andere Baumart                                  Vitalität (absterbend, abgestorben)         Krankheiten            2\n",
       "Berg-Ahorn, Wald-Ahorn                             1:1-Ersatz                                      Vitalität (absterbend, abgestorben)         Krankheiten            2\n",
       "Serbische Fichte                                   in Abklärung                                    Vitalität (absterbend, abgestorben)         Krankheiten            2\n",
       "Japanische Blüten-Kirsche, Japanische Nelken-Ki... 1:1-Ersatz                                      Vitalität (absterbend, abgestorben)         Krankheiten            2\n",
       "Sammelbegriff für Zwetschgen, Pflaume, Reneklod... alternativer Standort, Ersatz bereits gepflanzt Vitalität (absterbend, abgestorben)         Krankheiten            2\n",
       "Lederblättriger Weissdorn (crus-galli x pubescens) 1:1-Ersatz                                      Vitalität (absterbend, abgestorben)         Schädlinge             2\n",
       "                                                   andere Baumart                                  Vitalität (absterbend, abgestorben)         Krankheiten            2\n",
       "Spitz-Ahorn                                        andere Baumart                                  Vitalität (absterbend, abgestorben)         Krankheiten            2\n",
       "Sand-Birke, Weiss-Birke                            in Abklärung                                    Vitalität (absterbend, abgestorben)         Schäden                2\n",
       "Oxelbeere, Schwedische Mehlbeere                   1:1-Ersatz                                      Vitalität (absterbend, abgestorben)         Alter                  2\n",
       "Gemeine Hain- oder Weissbuche                      in Abklärung                                    Vitalität (absterbend, abgestorben)         Krankheiten            2\n",
       "Sapindus-Fichte, Orientalische Fichte              in Abklärung                                    Vitalität (absterbend, abgestorben)         Schädlinge             2\n",
       "Gemeine Esche                                      natürlicher Aufwuchs, Gehölzgruppe              Vitalität (absterbend, abgestorben)         Krankheiten            2\n",
       "Weiss-Weide, Silber-Weide                          alternativer Standort, Ersatz bereits gepflanzt Vitalität (absterbend, abgestorben)         Schäden                2\n",
       "Amerikanischer Zürgelbaum                          1:1-Ersatz                                      Vitalität (absterbend, abgestorben)         Alter                  2\n",
       "Robinie, Schein-Akazie                             in Abklärung                                    Verkehrssicherheit (stand-, bruchgefährdet) Krankheiten            2\n",
       "Rotbuche                                           andere Baumart                                  Vitalität (absterbend, abgestorben)         Alter                  2\n",
       "Robinie, Schein-Akazie                             in Abklärung                                    Vitalität (absterbend, abgestorben)         Alter                  2\n",
       "Rostnerviger Ahorn                                 in Abklärung                                    Vitalität (absterbend, abgestorben)         Alter                  2\n",
       "Apfel-Obstgehölz, Sorte unbekannt                  1:1-Ersatz                                      Vitalität (absterbend, abgestorben)         Krankheiten            2\n",
       "Sand-Birke, Weiss-Birke                            Ersatz innerhalb Projekt                        Grün Stadt Zürich Projekt                   Baustellen             1\n",
       "Zier-Apfel, Art unbekannt                          alternativer Standort, Umgestaltung             Vitalität (absterbend, abgestorben)         Schäden                1\n",
       "Sand-Birke, Weiss-Birke                            in Abklärung                                    Verkehrssicherheit (stand-, bruchgefährdet) Schäden                1\n",
       "                                                                                                                                               Krankheiten            1\n",
       "                                                   andere Baumart                                  Vitalität (absterbend, abgestorben)         Alter                  1\n",
       "                                                   1:1-Ersatz                                      Vitalität (absterbend, abgestorben)         Krankheiten            1\n",
       "Sal-Weide                                          1:1-Ersatz                                      Verkehrssicherheit (stand-, bruchgefährdet) Schädlinge             1\n",
       "Sammelbegriff für Zwetschgen, Pflaume, Reneklod... alternativer Standort, Umgestaltung             GSZ-Projekt                                 Baustellen             1\n",
       "Rotbuche                                           natürlicher Aufwuchs, Gehölzgruppe              Verkehrssicherheit (stand-, bruchgefährdet) Alter                  1\n",
       "Sal-Weide                                          1:1-Ersatz                                      Vitalität (absterbend, abgestorben)         Krankheiten            1\n",
       "Rottanne, Fichte                                   in Abklärung                                    Vitalität (absterbend, abgestorben)         Alter                  1\n",
       "Zweigriffliger Weissdorn (laevigata x monogyna)    in Abklärung                                    Vitalität (absterbend, abgestorben)         Schäden                1"
      ]
     },
     "execution_count": 28,
     "metadata": {},
     "output_type": "execute_result"
    }
   ],
   "source": [
    "df_baumersatz_baumersatzliste_aktuell \\\n",
    "    .groupby(['baumartdt', 'ersatzplfanzung', 'faellgrund', 'faellursache']) \\\n",
    "    .agg(anz_baeume=('baumnummer', 'count')) \\\n",
    "    .query('faellgrund != \" \"') \\\n",
    "    .sort_values('anz_baeume', ascending=False) \\\n",
    "    .head(50)"
   ]
  },
  {
   "cell_type": "code",
   "execution_count": null,
   "id": "8017fdac-9de3-4de1-b2df-50854a247f7b",
   "metadata": {},
   "outputs": [],
   "source": []
  }
 ],
 "metadata": {
  "kernelspec": {
   "display_name": "Python 3 (ipykernel)",
   "language": "python",
   "name": "python3"
  },
  "language_info": {
   "codemirror_mode": {
    "name": "ipython",
    "version": 3
   },
   "file_extension": ".py",
   "mimetype": "text/x-python",
   "name": "python",
   "nbconvert_exporter": "python",
   "pygments_lexer": "ipython3",
   "version": "3.9.7"
  }
 },
 "nbformat": 4,
 "nbformat_minor": 5
}
