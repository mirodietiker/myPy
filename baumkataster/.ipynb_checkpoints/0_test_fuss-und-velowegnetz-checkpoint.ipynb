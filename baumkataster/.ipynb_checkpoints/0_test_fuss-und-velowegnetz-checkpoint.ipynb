{
 "cells": [
  {
   "cell_type": "markdown",
   "id": "071240c4",
   "metadata": {},
   "source": [
    "# Test einlesen des Fuss- und Velowegnetzes\n",
    "Anfrage von Ralph Straumann\n",
    "\n",
    "<!---  \n",
    "Dieses Notebook verwendet als Vorlage die Webseite «[Kitas in Berlin - Jupyter Notebook](https://juanitorduz.github.io/kitas_berlin/)» \n",
    "---!>\n",
    "\n",
    "Mit Colab kann **dieses Jupyter-Notebook interaktiv im Browser** gestartet werden:\n",
    "[![Open In Colab](https://colab.research.google.com/assets/colab-badge.svg)](https://colab.research.google.com/github/DonGoginho/myPy_RIS_API/blob/main/RIS_API_AL_Geschaefte.ipynb)\n"
   ]
  },
  {
   "cell_type": "markdown",
   "id": "52f38357",
   "metadata": {},
   "source": [
    "**Inhaltsverzeichnis:**\n",
    "\n",
    "1. [Daten importieren](#LiesDatenein)\n",
    "2. [Daten prüfen](#)\n",
    "3. [Daten analysieren](#Explorative_Analyse)\n",
    "\n"
   ]
  },
  {
   "cell_type": "markdown",
   "id": "a9a25313",
   "metadata": {
    "tags": []
   },
   "source": [
    "## Importiere notwendige Packages:"
   ]
  },
  {
   "cell_type": "code",
   "execution_count": 1,
   "id": "0c255b81",
   "metadata": {},
   "outputs": [],
   "source": [
    "#pip install geopandas fiona requests folium mplleaflet contextily seaborn datetime"
   ]
  },
  {
   "cell_type": "code",
   "execution_count": 2,
   "id": "2b19e9d1",
   "metadata": {},
   "outputs": [],
   "source": [
    "import numpy as np\n",
    "import pandas as pd\n",
    "import geopandas as gpd\n",
    "import fiona; \n",
    "import mplleaflet\n",
    "import matplotlib.pyplot as plt\n",
    "import matplotlib.ticker as mtick\n",
    "from datetime import datetime\n",
    "import seaborn as sns\n",
    "sns.set_style(\n",
    "    style='darkgrid', \n",
    "    rc={'axes.facecolor': '.9', 'grid.color': '.8'}\n",
    ")\n",
    "sns.set_palette(palette='deep')\n",
    "sns_c = sns.color_palette(palette='deep')\n",
    "%matplotlib inline\n",
    "from pandas.plotting import register_matplotlib_converters\n",
    "register_matplotlib_converters()\n",
    "\n",
    "plt.rcParams['figure.figsize'] = [10, 6]\n",
    "plt.rcParams['figure.dpi'] = 100\n",
    "\n",
    "pd.options.display.float_format = '{:.0f}'.format\n",
    "#pd.set_option('display.width', 100)\n",
    "#pd.set_option('display.max_columns', 15)"
   ]
  },
  {
   "cell_type": "markdown",
   "id": "b99fe70e",
   "metadata": {},
   "source": [
    "Schreibe aktuelles Datum in Variable `date_today`\n",
    "Für weitere Infos zu Datetime siehe https://www.programiz.com/python-programming/datetime/strftime"
   ]
  },
  {
   "cell_type": "code",
   "execution_count": 3,
   "id": "1e63b329",
   "metadata": {},
   "outputs": [],
   "source": [
    "#Soll das aktuelle Datum beim Geopackage-Namen integriert werden oder nicht? False = nein. Generiert ein Outputfile mit der Endung _tmp, welches sich selber überschreibt\n",
    "activate_date = False;\n",
    "\n",
    "now = datetime.now() # current date and time\n",
    "\n",
    "if activate_date == True:\n",
    "    date_today = \"_\"+now.strftime(\"%Y-%m-%d\")\n",
    "    #store_o_gis = False\n",
    "    \n",
    "else:\n",
    "    date_today =\"_tmp\"\n",
    "    #store_o_gis = True"
   ]
  },
  {
   "cell_type": "markdown",
   "id": "4576cd90",
   "metadata": {},
   "source": [
    "## Lies Daten ein\n"
   ]
  },
  {
   "cell_type": "markdown",
   "id": "140150f2",
   "metadata": {},
   "source": [
    "Das **Fuss- und Velowegnetz** wird seit mehreren Jahren als OGD angeboten: https://data.stadt-zuerich.ch/dataset/geo_fuss__und_velowegnetz. \n",
    "\n",
    "Zum Download steht es seit 2019 auch auf dem städtischen [Geodatenportal](https://www.stadt-zuerich.ch/geodaten) zur Verfügung: \n",
    "\n",
    "- Geodaten: https://www.stadt-zuerich.ch/geodaten/download/Fuss__und_Velowegnetz\n",
    "- Metadaten: https://www.geocat.ch/geonetwork/srv/ger/md.viewer#/full_view/3e2a9e9f-cd6b-48f9-8dc4-84a92b90411a"
   ]
  },
  {
   "cell_type": "markdown",
   "id": "3998206e",
   "metadata": {},
   "source": [
    "### Importiere den aktuellsten Datensatz direkt ab Geodatenportal\n",
    "\n",
    "Das Geoportal bietet zahlreiche Geoformate zum Download (Shapefiles, Geopackages, csv, dxf, etc.) wie auch Webservcies (WFS, WMS, WMTS) an.\n",
    "\n",
    "Um direkt den aktuellsten Datensatz zu beziehen, bietet sich der **GEOJSON-Webservice via WFS** an. Dazu muss man noch die Layer im Datensatz kennen. Dieser ist unterteilt in:\n",
    "\n",
    "1. `tbl_routennetz` (Beinhaltet das Velo- und Fusswegnetz für den städtischen Routenplaner)\n",
    "2. `TBL_ROUTENNETZ_ABBIEGEVERBOTE` (Abbiegeverbote im Velonetz. Grundlage für den städtischen Routenplaner.)\n",
    "\n",
    "\n",
    "Uns interssiert für diese Fragestellung der 1. Layer, die `tbl_routennetz`. Die URL zum GeoJSON-Service des aktuellen Bestand lautet daher:\n",
    "\n",
    "https://www.ogd.stadt-zuerich.ch/wfs/geoportal/Fuss__und_Velowegnetz?service=WFS&version=1.1.0&request=GetFeature&outputFormat=GeoJSON&typename=tbl_routennetz\n",
    "\n"
   ]
  },
  {
   "cell_type": "markdown",
   "id": "b70160ca",
   "metadata": {},
   "source": [
    "Speichere das den direkter GeoJSON-Import via WFS-GeoJSON-Service als Geopackage lokal ab"
   ]
  },
  {
   "cell_type": "code",
   "execution_count": 10,
   "id": "91081f71",
   "metadata": {},
   "outputs": [
    {
     "name": "stdout",
     "output_type": "stream",
     "text": [
      "done\n"
     ]
    }
   ],
   "source": [
    "\n",
    "geojson_url = \"https://www.ogd.stadt-zuerich.ch/wfs/geoportal/Fuss__und_Velowegnetz?service=WFS&version=1.1.0&request=GetFeature&outputFormat=GeoJSON&typename=tbl_routennetz\"\n",
    "df_taz_mm_tbl_routennetz = gpd.read_file(geojson_url)\n",
    "\n",
    "print('done')\n"
   ]
  },
  {
   "cell_type": "code",
   "execution_count": 11,
   "id": "2e66ac7e",
   "metadata": {},
   "outputs": [
    {
     "data": {
      "text/html": [
       "<div>\n",
       "<style scoped>\n",
       "    .dataframe tbody tr th:only-of-type {\n",
       "        vertical-align: middle;\n",
       "    }\n",
       "\n",
       "    .dataframe tbody tr th {\n",
       "        vertical-align: top;\n",
       "    }\n",
       "\n",
       "    .dataframe thead th {\n",
       "        text-align: right;\n",
       "    }\n",
       "</style>\n",
       "<table border=\"1\" class=\"dataframe\">\n",
       "  <thead>\n",
       "    <tr style=\"text-align: right;\">\n",
       "      <th></th>\n",
       "      <th>id</th>\n",
       "      <th>einbahn</th>\n",
       "      <th>fuss</th>\n",
       "      <th>id1</th>\n",
       "      <th>map_fuss</th>\n",
       "      <th>map_velo</th>\n",
       "      <th>name</th>\n",
       "      <th>objectid</th>\n",
       "      <th>se_anno_cad_data</th>\n",
       "      <th>velo</th>\n",
       "      <th>velostreifen</th>\n",
       "      <th>veloweg</th>\n",
       "      <th>geometry</th>\n",
       "    </tr>\n",
       "  </thead>\n",
       "  <tbody>\n",
       "    <tr>\n",
       "      <th>0</th>\n",
       "      <td>tbl_routennetz.1</td>\n",
       "      <td>0</td>\n",
       "      <td>1</td>\n",
       "      <td>137</td>\n",
       "      <td>0</td>\n",
       "      <td>0</td>\n",
       "      <td>Bahnhof Oerlikon, Perron Gleis 6</td>\n",
       "      <td>1</td>\n",
       "      <td>None</td>\n",
       "      <td>0</td>\n",
       "      <td>0</td>\n",
       "      <td>0</td>\n",
       "      <td>LINESTRING (8.54406 47.41199, 8.54443 47.41213)</td>\n",
       "    </tr>\n",
       "    <tr>\n",
       "      <th>1</th>\n",
       "      <td>tbl_routennetz.2</td>\n",
       "      <td>0</td>\n",
       "      <td>0</td>\n",
       "      <td>138</td>\n",
       "      <td>0</td>\n",
       "      <td>0</td>\n",
       "      <td>Bahnhofstrasse</td>\n",
       "      <td>2</td>\n",
       "      <td>None</td>\n",
       "      <td>0</td>\n",
       "      <td>0</td>\n",
       "      <td>0</td>\n",
       "      <td>LINESTRING (8.53985 47.37686, 8.53986 47.37688...</td>\n",
       "    </tr>\n",
       "    <tr>\n",
       "      <th>2</th>\n",
       "      <td>tbl_routennetz.3</td>\n",
       "      <td>0</td>\n",
       "      <td>0</td>\n",
       "      <td>139</td>\n",
       "      <td>0</td>\n",
       "      <td>1</td>\n",
       "      <td>Zwischenbächen</td>\n",
       "      <td>3</td>\n",
       "      <td>None</td>\n",
       "      <td>1</td>\n",
       "      <td>0</td>\n",
       "      <td>0</td>\n",
       "      <td>LINESTRING (8.48085 47.38451, 8.48058 47.38413)</td>\n",
       "    </tr>\n",
       "    <tr>\n",
       "      <th>3</th>\n",
       "      <td>tbl_routennetz.4</td>\n",
       "      <td>0</td>\n",
       "      <td>0</td>\n",
       "      <td>140</td>\n",
       "      <td>0</td>\n",
       "      <td>0</td>\n",
       "      <td>Schanzackerstrasse</td>\n",
       "      <td>4</td>\n",
       "      <td>None</td>\n",
       "      <td>1</td>\n",
       "      <td>0</td>\n",
       "      <td>0</td>\n",
       "      <td>LINESTRING (8.54727 47.39015, 8.54757 47.39119...</td>\n",
       "    </tr>\n",
       "    <tr>\n",
       "      <th>4</th>\n",
       "      <td>tbl_routennetz.5</td>\n",
       "      <td>0</td>\n",
       "      <td>1</td>\n",
       "      <td>141</td>\n",
       "      <td>0</td>\n",
       "      <td>0</td>\n",
       "      <td>Rotbuchstrasse Überquerung</td>\n",
       "      <td>5</td>\n",
       "      <td>None</td>\n",
       "      <td>0</td>\n",
       "      <td>0</td>\n",
       "      <td>0</td>\n",
       "      <td>LINESTRING (8.53742 47.39127, 8.53742 47.39141)</td>\n",
       "    </tr>\n",
       "  </tbody>\n",
       "</table>\n",
       "</div>"
      ],
      "text/plain": [
       "                 id einbahn  fuss  id1  map_fuss  map_velo  \\\n",
       "0  tbl_routennetz.1       0     1  137         0         0   \n",
       "1  tbl_routennetz.2       0     0  138         0         0   \n",
       "2  tbl_routennetz.3       0     0  139         0         1   \n",
       "3  tbl_routennetz.4       0     0  140         0         0   \n",
       "4  tbl_routennetz.5       0     1  141         0         0   \n",
       "\n",
       "                               name  objectid se_anno_cad_data  velo  \\\n",
       "0  Bahnhof Oerlikon, Perron Gleis 6         1             None     0   \n",
       "1                    Bahnhofstrasse         2             None     0   \n",
       "2                    Zwischenbächen         3             None     1   \n",
       "3                Schanzackerstrasse         4             None     1   \n",
       "4        Rotbuchstrasse Überquerung         5             None     0   \n",
       "\n",
       "  velostreifen  veloweg                                           geometry  \n",
       "0            0        0    LINESTRING (8.54406 47.41199, 8.54443 47.41213)  \n",
       "1            0        0  LINESTRING (8.53985 47.37686, 8.53986 47.37688...  \n",
       "2            0        0    LINESTRING (8.48085 47.38451, 8.48058 47.38413)  \n",
       "3            0        0  LINESTRING (8.54727 47.39015, 8.54757 47.39119...  \n",
       "4            0        0    LINESTRING (8.53742 47.39127, 8.53742 47.39141)  "
      ]
     },
     "execution_count": 11,
     "metadata": {},
     "output_type": "execute_result"
    }
   ],
   "source": [
    "df_taz_mm_tbl_routennetz.head(3)"
   ]
  },
  {
   "cell_type": "code",
   "execution_count": 12,
   "id": "900b8de4",
   "metadata": {},
   "outputs": [
    {
     "name": "stdout",
     "output_type": "stream",
     "text": [
      "//szh.loc/ssz/users/sszsim/Download/df_taz_mm_tbl_routennetz_tmp.gpkg\n"
     ]
    }
   ],
   "source": [
    "#Import mit Geopandas, Webseite: https://geopandas.org/docs/user_guide/io.html oder  import fiona; help(fiona.open)\n",
    "\n",
    "df_taz_mm_tbl_routennetz.to_file(\"//szh.loc/ssz/users/sszsim/Download/df_taz_mm_tbl_routennetz\"+date_today+\".gpkg\", layer='gsz_baumkataster_baumstandorte', driver=\"GPKG\")\n",
    "\n",
    "print(\"//szh.loc/ssz/users/sszsim/Download/df_taz_mm_tbl_routennetz\"+date_today+\".gpkg\")"
   ]
  },
  {
   "cell_type": "markdown",
   "id": "8c12433b",
   "metadata": {},
   "source": [
    "GeoJson-Dataset zum direkten Abruf des aktuellen Bestandes: \n",
    "https://www.ogd.stadt-zuerich.ch/wfs/geoportal/Fuss__und_Velowegnetz?service=WFS&version=1.1.0&request=GetFeature&outputFormat=GeoJSON&typename=tbl_routennetz"
   ]
  },
  {
   "cell_type": "markdown",
   "id": "7f74b810",
   "metadata": {},
   "source": [
    "Importiere das `Baumkataster 2014`."
   ]
  },
  {
   "cell_type": "markdown",
   "id": "26bfec4d",
   "metadata": {},
   "source": [
    "## Explorative_Analyse\n",
    "One of the main objectives of this notebook is to do an exploratory data analysis to understand which questions this data set can answer. In addition, also determine its limitations. \n",
    "\n",
    "To begin, let us get the number of unique values per feature.\n"
   ]
  },
  {
   "cell_type": "code",
   "execution_count": 13,
   "id": "0112509e",
   "metadata": {},
   "outputs": [
    {
     "data": {
      "text/plain": [
       "id                  40065\n",
       "einbahn                 4\n",
       "fuss                    2\n",
       "id1                 40065\n",
       "map_fuss                3\n",
       "map_velo                6\n",
       "name                 4170\n",
       "objectid            40065\n",
       "se_anno_cad_data        1\n",
       "velo                    2\n",
       "velostreifen            7\n",
       "veloweg                 2\n",
       "geometry            40043\n",
       "dtype: int64"
      ]
     },
     "execution_count": 13,
     "metadata": {},
     "output_type": "execute_result"
    }
   ],
   "source": [
    "df_taz_mm_tbl_routennetz.apply(lambda x: x.unique().size, axis=0)\n"
   ]
  },
  {
   "cell_type": "markdown",
   "id": "da1f9ae9",
   "metadata": {},
   "source": [
    "Welche Kategorien gibt es überhaupt und wie ist der Bezug zum 'Status'?"
   ]
  },
  {
   "cell_type": "code",
   "execution_count": 15,
   "id": "df6a7dd6",
   "metadata": {},
   "outputs": [
    {
     "data": {
      "text/html": [
       "<div>\n",
       "<style scoped>\n",
       "    .dataframe tbody tr th:only-of-type {\n",
       "        vertical-align: middle;\n",
       "    }\n",
       "\n",
       "    .dataframe tbody tr th {\n",
       "        vertical-align: top;\n",
       "    }\n",
       "\n",
       "    .dataframe thead th {\n",
       "        text-align: right;\n",
       "    }\n",
       "</style>\n",
       "<table border=\"1\" class=\"dataframe\">\n",
       "  <thead>\n",
       "    <tr style=\"text-align: right;\">\n",
       "      <th></th>\n",
       "      <th></th>\n",
       "      <th></th>\n",
       "      <th>anz_velostreifen</th>\n",
       "      <th>test</th>\n",
       "    </tr>\n",
       "    <tr>\n",
       "      <th>velo</th>\n",
       "      <th>velostreifen</th>\n",
       "      <th>veloweg</th>\n",
       "      <th></th>\n",
       "      <th></th>\n",
       "    </tr>\n",
       "  </thead>\n",
       "  <tbody>\n",
       "    <tr>\n",
       "      <th rowspan=\"4\" valign=\"top\">1</th>\n",
       "      <th rowspan=\"2\" valign=\"top\">TF</th>\n",
       "      <th>0</th>\n",
       "      <td>252</td>\n",
       "      <td>252</td>\n",
       "    </tr>\n",
       "    <tr>\n",
       "      <th>1</th>\n",
       "      <td>1</td>\n",
       "      <td>1</td>\n",
       "    </tr>\n",
       "    <tr>\n",
       "      <th rowspan=\"2\" valign=\"top\">FT</th>\n",
       "      <th>0</th>\n",
       "      <td>291</td>\n",
       "      <td>291</td>\n",
       "    </tr>\n",
       "    <tr>\n",
       "      <th>1</th>\n",
       "      <td>1</td>\n",
       "      <td>1</td>\n",
       "    </tr>\n",
       "    <tr>\n",
       "      <th>0</th>\n",
       "      <th>BOTH</th>\n",
       "      <th>0</th>\n",
       "      <td>2</td>\n",
       "      <td>2</td>\n",
       "    </tr>\n",
       "    <tr>\n",
       "      <th rowspan=\"2\" valign=\"top\">1</th>\n",
       "      <th>BOTH</th>\n",
       "      <th>0</th>\n",
       "      <td>349</td>\n",
       "      <td>349</td>\n",
       "    </tr>\n",
       "    <tr>\n",
       "      <th>1</th>\n",
       "      <th>0</th>\n",
       "      <td>1</td>\n",
       "      <td>1</td>\n",
       "    </tr>\n",
       "    <tr>\n",
       "      <th rowspan=\"2\" valign=\"top\">0</th>\n",
       "      <th rowspan=\"2\" valign=\"top\">0</th>\n",
       "      <th>0</th>\n",
       "      <td>27138</td>\n",
       "      <td>27138</td>\n",
       "    </tr>\n",
       "    <tr>\n",
       "      <th>1</th>\n",
       "      <td>20</td>\n",
       "      <td>20</td>\n",
       "    </tr>\n",
       "    <tr>\n",
       "      <th rowspan=\"2\" valign=\"top\">1</th>\n",
       "      <th rowspan=\"2\" valign=\"top\">0</th>\n",
       "      <th>0</th>\n",
       "      <td>10818</td>\n",
       "      <td>10818</td>\n",
       "    </tr>\n",
       "    <tr>\n",
       "      <th>1</th>\n",
       "      <td>1099</td>\n",
       "      <td>1099</td>\n",
       "    </tr>\n",
       "    <tr>\n",
       "      <th>0</th>\n",
       "      <th></th>\n",
       "      <th>0</th>\n",
       "      <td>55</td>\n",
       "      <td>55</td>\n",
       "    </tr>\n",
       "    <tr>\n",
       "      <th rowspan=\"2\" valign=\"top\">1</th>\n",
       "      <th rowspan=\"2\" valign=\"top\"></th>\n",
       "      <th>0</th>\n",
       "      <td>24</td>\n",
       "      <td>24</td>\n",
       "    </tr>\n",
       "    <tr>\n",
       "      <th>1</th>\n",
       "      <td>13</td>\n",
       "      <td>13</td>\n",
       "    </tr>\n",
       "  </tbody>\n",
       "</table>\n",
       "</div>"
      ],
      "text/plain": [
       "                           anz_velostreifen   test\n",
       "velo velostreifen veloweg                         \n",
       "1    TF           0                     252    252\n",
       "                  1                       1      1\n",
       "     FT           0                     291    291\n",
       "                  1                       1      1\n",
       "0    BOTH         0                       2      2\n",
       "1    BOTH         0                     349    349\n",
       "     1            0                       1      1\n",
       "0    0            0                   27138  27138\n",
       "                  1                      20     20\n",
       "1    0            0                   10818  10818\n",
       "                  1                    1099   1099\n",
       "0                 0                      55     55\n",
       "1                 0                      24     24\n",
       "                  1                      13     13"
      ]
     },
     "execution_count": 15,
     "metadata": {},
     "output_type": "execute_result"
    }
   ],
   "source": [
    " #   .query('kategorie == \"Parkbaum\"') \\\n",
    "#    .agg(anz_baeume=('objid', 'count'), anz_kinder_va_sk=('objid', 'sum')) \\\n",
    "df_taz_mm_tbl_routennetz \\\n",
    "    .groupby(['velo','velostreifen','veloweg' ]) \\\n",
    "    .agg(anz_velostreifen=('velostreifen', 'count'), test=('veloweg', 'count')) \\\n",
    "    .sort_values('velostreifen', ascending=False) \\\n",
    "    .head(500)"
   ]
  },
  {
   "cell_type": "markdown",
   "id": "661883fb",
   "metadata": {},
   "source": [
    "Welche Baumart ist bei den Parkbäumen die Häufigste?"
   ]
  },
  {
   "cell_type": "code",
   "execution_count": null,
   "id": "f813e46d",
   "metadata": {},
   "outputs": [],
   "source": []
  },
  {
   "cell_type": "code",
   "execution_count": null,
   "id": "771a4d7e",
   "metadata": {},
   "outputs": [],
   "source": []
  },
  {
   "cell_type": "code",
   "execution_count": null,
   "id": "f527c754",
   "metadata": {},
   "outputs": [],
   "source": []
  }
 ],
 "metadata": {
  "kernelspec": {
   "display_name": "Python 3",
   "language": "python",
   "name": "python3"
  },
  "language_info": {
   "codemirror_mode": {
    "name": "ipython",
    "version": 3
   },
   "file_extension": ".py",
   "mimetype": "text/x-python",
   "name": "python",
   "nbconvert_exporter": "python",
   "pygments_lexer": "ipython3",
   "version": "3.8.8"
  }
 },
 "nbformat": 4,
 "nbformat_minor": 5
}
