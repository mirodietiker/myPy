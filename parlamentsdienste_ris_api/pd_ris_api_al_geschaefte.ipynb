{
  "nbformat": 4,
  "nbformat_minor": 0,
  "metadata": {
    "colab": {
      "name": "RIS-API-Beispiele.ipynb",
      "provenance": []
    },
    "kernelspec": {
      "display_name": "Python 3",
      "language": "python",
      "name": "python3"
    },
    "language_info": {
      "codemirror_mode": {
        "name": "ipython",
        "version": 3
      },
      "file_extension": ".py",
      "mimetype": "text/x-python",
      "name": "python",
      "nbconvert_exporter": "python",
      "pygments_lexer": "ipython3",
      "version": "3.7.10"
    }
  },
  "cells": [
    {
      "cell_type": "markdown",
      "metadata": {
        "id": "CVkzdm06xTY6"
      },
      "source": [
        "Mit Colab kann **dieses Jupyter-Notebook interaktiv im Browser** gestartet werden:\n",
        "[![Open In Colab](https://colab.research.google.com/assets/colab-badge.svg)](https://colab.research.google.com/github/DonGoginho/myPy/blob/main/parlamentsdienste_ris_api/pd_ris_api_al_geschaefte.ipynb)\n",
        "\n",
        "Und hier ein Jupyter-Notebook zur [generellen Verwendung der RIS-API](https://colab.research.google.com/github/opendatazurich/opendatazurich.github.io/blob/master/ris-api/RIS-API-Beispiele.ipynb)\n",
        "# Python-Abfrage an RIS-API nach Geschäftern, die von der Alternativen Liste eingegeben wurden\n",
        "\n",
        "Das Datenmodell der [**RIS-API ist als Swagger File**](https://opendatazurich.github.io/ris-api/docs/) verfügbar. Für das Verständnis ist dieses daher wichtig. \n",
        "\n",
        "**Inhaltsverzeichnis:**\n",
        "\n",
        "1. [Mitglieder der Alternativen Liste](#Mitglieder-der-AL)\n",
        "1. [Gemeinderats-Geschäfte](#Gemeinderats-Geschäfte)"
      ]
    },
    {
      "cell_type": "code",
      "metadata": {
        "colab": {
          "base_uri": "https://localhost:8080/"
        },
        "id": "c567vN-zxTY9",
        "outputId": "cafaad11-b4bf-4f67-f02a-e2c6c525848f"
      },
      "source": [
        "%pip install requests pandas"
      ],
      "execution_count": 78,
      "outputs": [
        {
          "output_type": "stream",
          "text": [
            "Requirement already satisfied: requests in /usr/local/lib/python3.7/dist-packages (2.23.0)\n",
            "Requirement already satisfied: pandas in /usr/local/lib/python3.7/dist-packages (1.1.5)\n",
            "Requirement already satisfied: urllib3!=1.25.0,!=1.25.1,<1.26,>=1.21.1 in /usr/local/lib/python3.7/dist-packages (from requests) (1.24.3)\n",
            "Requirement already satisfied: certifi>=2017.4.17 in /usr/local/lib/python3.7/dist-packages (from requests) (2021.5.30)\n",
            "Requirement already satisfied: idna<3,>=2.5 in /usr/local/lib/python3.7/dist-packages (from requests) (2.10)\n",
            "Requirement already satisfied: chardet<4,>=3.0.2 in /usr/local/lib/python3.7/dist-packages (from requests) (3.0.4)\n",
            "Requirement already satisfied: pytz>=2017.2 in /usr/local/lib/python3.7/dist-packages (from pandas) (2018.9)\n",
            "Requirement already satisfied: python-dateutil>=2.7.3 in /usr/local/lib/python3.7/dist-packages (from pandas) (2.8.1)\n",
            "Requirement already satisfied: numpy>=1.15.4 in /usr/local/lib/python3.7/dist-packages (from pandas) (1.19.5)\n",
            "Requirement already satisfied: six>=1.5 in /usr/local/lib/python3.7/dist-packages (from python-dateutil>=2.7.3->pandas) (1.15.0)\n"
          ],
          "name": "stdout"
        }
      ]
    },
    {
      "cell_type": "code",
      "metadata": {
        "id": "6TzSE2-txTY-"
      },
      "source": [
        "import requests\n",
        "from pprint import pprint\n",
        "import pandas as pd\n",
        "import random"
      ],
      "execution_count": 79,
      "outputs": []
    },
    {
      "cell_type": "code",
      "metadata": {
        "id": "4gBKGKYXxTY_"
      },
      "source": [
        "SSL_VERIFY = True\n",
        "# evtl. SSL_VERIFY auf False setzen wenn die Verbindung zu https://www.gemeinderat-zuerich.ch nicht klappt (z.B. wegen Proxy)\n",
        "# Um die SSL Verifikation auszustellen, bitte die nächste Zeile einkommentieren (\"#\" entfernen)\n",
        "# SSL_VERIFY = False"
      ],
      "execution_count": 80,
      "outputs": []
    },
    {
      "cell_type": "code",
      "metadata": {
        "id": "mfOeyB6BxTY_"
      },
      "source": [
        "if not SSL_VERIFY:\n",
        "    import urllib3\n",
        "    urllib3.disable_warnings()"
      ],
      "execution_count": 81,
      "outputs": []
    },
    {
      "cell_type": "markdown",
      "metadata": {
        "id": "NOgzCADq5XfE"
      },
      "source": [
        "## Infos zu AL\n",
        "- 'parteiId': 'df5ccd54-009e-40ae-b687-4ce88a71f5d8'\n",
        "- 'fraktionsId': '53bf7290-4055-455b-bb1f-2ba64e76294d'"
      ]
    },
    {
      "cell_type": "markdown",
      "metadata": {
        "id": "8C3ebWyaxTZA"
      },
      "source": [
        "## Mitglieder der AL\n",
        "\n",
        "Um alle Mitglieder einer Partei zu bekommen, müssen folgende Abfragen gemacht werden:\n",
        "    \n",
        "    1. ID der Partei holen\n",
        "    1. Suche nach Mitgliedern der Partei (mit dieser ID)\n",
        "    1. *Optional:* Detail-Informationen eines Mitglieds holen\n",
        "    \n",
        "    "
      ]
    },
    {
      "cell_type": "markdown",
      "metadata": {
        "id": "T4faeRZZxTZA"
      },
      "source": [
        "### Alle relevanten Mitglieder-Parameter holen\n",
        "\n",
        "Lese alle Parameter zu den Mitgliedern in `params` ein"
      ]
    },
    {
      "cell_type": "code",
      "metadata": {
        "id": "VZz-WZl0xTZB"
      },
      "source": [
        "headers = {'Accept': 'application/json'}\n",
        "r = requests.get('https://www.gemeinderat-zuerich.ch/api/Mitglieder/parameter', headers=headers, verify=SSL_VERIFY)\n",
        "params = r.json()\n",
        "#params"
      ],
      "execution_count": 82,
      "outputs": []
    },
    {
      "cell_type": "markdown",
      "metadata": {
        "id": "fX79Ald35XfH"
      },
      "source": [
        "Lese die Informationen zu den Parteien aus `params`heraus"
      ]
    },
    {
      "cell_type": "code",
      "metadata": {
        "colab": {
          "base_uri": "https://localhost:8080/"
        },
        "id": "RQ9232iGxTZC",
        "outputId": "dbb9ca35-c098-4b8c-8f0d-123fd64131a5"
      },
      "source": [
        "# get id of AL\n",
        "parties = params['Parteien']\n",
        "#party = {'parteiId': 'df5ccd54-009e-40ae-b687-4ce88a71f5d8'}\n",
        "parties"
      ],
      "execution_count": 83,
      "outputs": [
        {
          "output_type": "execute_result",
          "data": {
            "text/plain": [
              "[{'Id': 'df5ccd54-009e-40ae-b687-4ce88a71f5d8', 'Name': 'AL'},\n",
              " {'Id': '5964b653-a32a-4e0c-92a1-07720566a92c', 'Name': 'CVP'},\n",
              " {'Id': '187b7ad1-2095-43cc-b257-e9834a54a961', 'Name': 'EVP'},\n",
              " {'Id': '8240033e-4818-4406-8f73-b7829d99ddee', 'Name': 'FDP'},\n",
              " {'Id': '0a8eb90f-6d09-47ac-99fe-ab97a77d4954', 'Name': 'GLP'},\n",
              " {'Id': 'fe956d66-e14d-4739-82cf-c12202d96445', 'Name': 'Grüne'},\n",
              " {'Id': '9e037de7-40a4-4fa3-85b7-f4c30cbb26c8', 'Name': 'Parteilos'},\n",
              " {'Id': 'c6fbb7c5-3aca-4797-b81e-209f27c4f3cc', 'Name': 'SD'},\n",
              " {'Id': '6cb1a3bb-8e26-4818-a8f5-0ea49ab3cd57', 'Name': 'SP'},\n",
              " {'Id': '8e484ad9-6e46-4d39-bc05-fbf18be11b0c', 'Name': 'SVP'}]"
            ]
          },
          "metadata": {
            "tags": []
          },
          "execution_count": 83
        }
      ]
    },
    {
      "cell_type": "markdown",
      "metadata": {
        "id": "E_oF9NBp5XfJ"
      },
      "source": [
        "Für diese Anfrage ist die AL relevant. Definiere daher als `party`die gesuchte Partei"
      ]
    },
    {
      "cell_type": "code",
      "metadata": {
        "colab": {
          "base_uri": "https://localhost:8080/"
        },
        "id": "wSv1n9i91SBz",
        "outputId": "d9818c96-82e1-442b-83df-03d1aa6dedf8"
      },
      "source": [
        "party = {'parteiId': 'df5ccd54-009e-40ae-b687-4ce88a71f5d8','Name': 'AL'}\n",
        "party"
      ],
      "execution_count": 84,
      "outputs": [
        {
          "output_type": "execute_result",
          "data": {
            "text/plain": [
              "{'Name': 'AL', 'parteiId': 'df5ccd54-009e-40ae-b687-4ce88a71f5d8'}"
            ]
          },
          "metadata": {
            "tags": []
          },
          "execution_count": 84
        }
      ]
    },
    {
      "cell_type": "markdown",
      "metadata": {
        "id": "oD0m9eU2xTZD"
      },
      "source": [
        "### Mitglieder der AL abfragen"
      ]
    },
    {
      "cell_type": "markdown",
      "metadata": {
        "id": "Jpy48-moxTZE",
        "outputId": "13d6193b-1ad4-49ac-bb79-cf373cca1298"
      },
      "source": [
        "In der Query wird die ParteiId angegeben, welche für die Abfrage des Endpoints relevant ist.\n",
        "In `members`wird das Resultat der Abfrage als JSON-Array eingelesen."
      ]
    },
    {
      "cell_type": "code",
      "metadata": {
        "id": "o0FaSJ2B5XfL"
      },
      "source": [
        "query = {'parteiId':  'df5ccd54-009e-40ae-b687-4ce88a71f5d8'}\n",
        "#query = {'fraktionsId':  '53bf7290-4055-455b-bb1f-2ba64e76294d'}\n",
        "headers = {'Accept': 'application/json'}\n",
        "r = requests.get('https://www.gemeinderat-zuerich.ch/api/Mitglieder/suchen', params=query, headers=headers, verify=SSL_VERIFY)\n",
        "members = r.json()\n",
        "#members"
      ],
      "execution_count": 85,
      "outputs": []
    },
    {
      "cell_type": "markdown",
      "metadata": {
        "id": "veo3f8H8xTZE",
        "tags": []
      },
      "source": [
        "### Details zu den AL-Mitgliedern abfragen\n",
        "\n",
        "Mit dem `/Mitglieder/details` Endpunkt können Details eines Mitglieds abgefragt werden. Dazu muss die Mitglieder-ID jedes Mitglieds herausgelesen und über die API abgefragt werden. Dies erfolgt über die Funktion `get_member_details()`."
      ]
    },
    {
      "cell_type": "code",
      "metadata": {
        "id": "zCHTt2K75XfM"
      },
      "source": [
        "#members"
      ],
      "execution_count": 105,
      "outputs": []
    },
    {
      "cell_type": "code",
      "metadata": {
        "colab": {
          "base_uri": "https://localhost:8080/",
          "height": 0
        },
        "id": "p4qbJRcixTZE",
        "outputId": "990a013a-055d-48d2-e4ca-2c6b7f433ba3"
      },
      "source": [
        "def get_member_details(member):\n",
        "    #print(member)\n",
        "    query = {'mid': member['Id']}\n",
        "    #print(query)\n",
        "    headers = {'Accept': 'application/json'}\n",
        "    r = requests.get('https://www.gemeinderat-zuerich.ch/api/Mitglieder/details', params=query, headers=headers, verify=SSL_VERIFY)\n",
        "    details = r.json()\n",
        "    \n",
        "    # trim \"Wahlkreis\" and \"Wohnkreis\" since they have a padding\n",
        "    details['Wahlkreis'] = details['Wahlkreis'].strip()\n",
        "    if details['Wohnkreis']:\n",
        "        details['Wohnkreis'] = details['Wohnkreis'].strip()\n",
        "    # add original member to keep WahlkreisOrderBy column\n",
        "    details.update(member)\n",
        "    return details\n",
        "    \n",
        "member_details = [get_member_details(m) for m in members]\n",
        "df = pd.DataFrame(member_details)\n",
        "df.head(3)"
      ],
      "execution_count": 106,
      "outputs": [
        {
          "output_type": "execute_result",
          "data": {
            "text/html": [
              "<div>\n",
              "<style scoped>\n",
              "    .dataframe tbody tr th:only-of-type {\n",
              "        vertical-align: middle;\n",
              "    }\n",
              "\n",
              "    .dataframe tbody tr th {\n",
              "        vertical-align: top;\n",
              "    }\n",
              "\n",
              "    .dataframe thead th {\n",
              "        text-align: right;\n",
              "    }\n",
              "</style>\n",
              "<table border=\"1\" class=\"dataframe\">\n",
              "  <thead>\n",
              "    <tr style=\"text-align: right;\">\n",
              "      <th></th>\n",
              "      <th>Id</th>\n",
              "      <th>Name</th>\n",
              "      <th>Vorname</th>\n",
              "      <th>Anrede</th>\n",
              "      <th>Titel</th>\n",
              "      <th>Geburtstag</th>\n",
              "      <th>Wohnkreis</th>\n",
              "      <th>Beruf</th>\n",
              "      <th>Partei</th>\n",
              "      <th>Fraktion</th>\n",
              "      <th>Wahlkreis</th>\n",
              "      <th>Sitznummer</th>\n",
              "      <th>GruppenMitgliedschaften</th>\n",
              "      <th>Adressen</th>\n",
              "      <th>EmailPrivat</th>\n",
              "      <th>EmailGeschaeftlich</th>\n",
              "      <th>Mobiltelefon</th>\n",
              "      <th>MobiltelefonGeschaeftlich</th>\n",
              "      <th>TelefonGeschaeftlich</th>\n",
              "      <th>TelefonPrivat</th>\n",
              "      <th>Internetauftritt</th>\n",
              "      <th>Interessenverbindungen</th>\n",
              "      <th>NameInUrl</th>\n",
              "      <th>WahlkreisOrderBy</th>\n",
              "    </tr>\n",
              "  </thead>\n",
              "  <tbody>\n",
              "    <tr>\n",
              "      <th>0</th>\n",
              "      <td>ee8204f4-9290-49ca-99ae-d18a22a0a513</td>\n",
              "      <td>Angst</td>\n",
              "      <td>Walter</td>\n",
              "      <td>Herr</td>\n",
              "      <td>None</td>\n",
              "      <td>1961-09-22T00:00:00</td>\n",
              "      <td>3</td>\n",
              "      <td>Leiter Kommunikation</td>\n",
              "      <td>AL</td>\n",
              "      <td>AL</td>\n",
              "      <td>3</td>\n",
              "      <td>None</td>\n",
              "      <td>[{'Von': '2002-04-10T00:00:00', 'Bis': None, '...</td>\n",
              "      <td>[{'Adressart': 'Postadresse', 'Strasse1': None...</td>\n",
              "      <td>None</td>\n",
              "      <td>walterangst@gmail.com</td>\n",
              "      <td>079 288 56 92</td>\n",
              "      <td>None</td>\n",
              "      <td>044 296 90 30</td>\n",
              "      <td>None</td>\n",
              "      <td>None</td>\n",
              "      <td>- Mieterinnen– und Mieterverband Zürich, Leite...</td>\n",
              "      <td>Walter%20Angst</td>\n",
              "      <td>101</td>\n",
              "    </tr>\n",
              "    <tr>\n",
              "      <th>1</th>\n",
              "      <td>bbfb8ca0-91b1-448d-b1fc-c5e3bb35c158</td>\n",
              "      <td>Eberle</td>\n",
              "      <td>Natalie</td>\n",
              "      <td>Frau</td>\n",
              "      <td>None</td>\n",
              "      <td>1967-04-24T00:00:00</td>\n",
              "      <td>9</td>\n",
              "      <td>Soziale Quartierentwicklung</td>\n",
              "      <td>AL</td>\n",
              "      <td>AL</td>\n",
              "      <td>3</td>\n",
              "      <td>None</td>\n",
              "      <td>[{'Von': '2018-05-16T00:00:00', 'Bis': None, '...</td>\n",
              "      <td>[{'Adressart': 'Postadresse', 'Strasse1': None...</td>\n",
              "      <td></td>\n",
              "      <td>quartiernetz@qnf.ch</td>\n",
              "      <td></td>\n",
              "      <td>None</td>\n",
              "      <td>043 537 80 17</td>\n",
              "      <td></td>\n",
              "      <td>None</td>\n",
              "      <td>- Quartiernetz Friesenberg, Stellenleitung</td>\n",
              "      <td>Natalie%20Eberle</td>\n",
              "      <td>101</td>\n",
              "    </tr>\n",
              "    <tr>\n",
              "      <th>2</th>\n",
              "      <td>4a1be35e-3f69-48a4-85b1-3fee07b006ae</td>\n",
              "      <td>Garcia Nuñez</td>\n",
              "      <td>David</td>\n",
              "      <td>Herr</td>\n",
              "      <td>Dr.</td>\n",
              "      <td>1975-05-16T00:00:00</td>\n",
              "      <td>1</td>\n",
              "      <td>Arzt</td>\n",
              "      <td>AL</td>\n",
              "      <td>AL</td>\n",
              "      <td>4 und 5</td>\n",
              "      <td>None</td>\n",
              "      <td>[{'Von': '2017-01-19T00:00:00', 'Bis': None, '...</td>\n",
              "      <td>[{'Adressart': 'Postadresse', 'Strasse1': '', ...</td>\n",
              "      <td></td>\n",
              "      <td>david.garcia@al-zh.ch</td>\n",
              "      <td></td>\n",
              "      <td>None</td>\n",
              "      <td></td>\n",
              "      <td></td>\n",
              "      <td>None</td>\n",
              "      <td>- Volkshaus Zürich, Mitglied des Stiftungsrats...</td>\n",
              "      <td>David%20Garcia%20Nu%c3%b1ez</td>\n",
              "      <td>102</td>\n",
              "    </tr>\n",
              "  </tbody>\n",
              "</table>\n",
              "</div>"
            ],
            "text/plain": [
              "                                     Id  ... WahlkreisOrderBy\n",
              "0  ee8204f4-9290-49ca-99ae-d18a22a0a513  ...              101\n",
              "1  bbfb8ca0-91b1-448d-b1fc-c5e3bb35c158  ...              101\n",
              "2  4a1be35e-3f69-48a4-85b1-3fee07b006ae  ...              102\n",
              "\n",
              "[3 rows x 24 columns]"
            ]
          },
          "metadata": {
            "tags": []
          },
          "execution_count": 106
        }
      ]
    },
    {
      "cell_type": "code",
      "metadata": {
        "id": "ufhQUMwvxTZF"
      },
      "source": [
        "# Beispiel einer Grafik dazu\n",
        "#count_by_wahlkreis = df[['Wahlkreis', 'WahlkreisOrderBy']].groupby(['Wahlkreis', 'WahlkreisOrderBy']).size().reset_index(name='Anzahl')\n",
        "#count_by_wahlkreis = count_by_wahlkreis.sort_values(by=['WahlkreisOrderBy'])\n",
        "#count_by_wahlkreis.plot.bar(x='Wahlkreis', y='Anzahl')"
      ],
      "execution_count": 107,
      "outputs": []
    },
    {
      "cell_type": "markdown",
      "metadata": {
        "id": "QIOR1JOn5XfN"
      },
      "source": [
        "# Anfrage der Parlamentsdienste\n",
        "\n",
        "Ziel dieser Anfrage ist es eine Liste zu erhalten, welche alle Geschäfte aufführt, welche seitens AL-Ratsmitglied oder der AL-Fraktion jemals eingereicht wurden. Dies sollten rund 660 Geschäfte sein.\n",
        "\n",
        "Vorgegebene Bedingungen:\n",
        "- Geschäftsart=Motion, Postulat, Interpellation, Schriftliche Anfrage, Beschlussantrag oder Globalbudgetantrag\n",
        "- Akteure/Einreichende Person=AL (muss der Partei \"AL\" angehören)\n",
        "- Zeitraum=unbegrenzt \n",
        "\n",
        "IDs zur AL\n",
        "- 'parteiId': 'df5ccd54-009e-40ae-b687-4ce88a71f5d8'\n",
        "- 'fraktionId': '53bf7290-4055-455b-bb1f-2ba64e76294d'\n",
        "\n",
        "Resultat: \n",
        "Liste mit Angaben zu\n",
        "- Geschäftsnummer\n",
        "- Geschäftstitel\n",
        "- Geschäftsart\n",
        "- Einreichende Person/Partei/Fraktion: AL\n",
        "- Link auf das Geschäft auf der Website des Gemeinderats\n",
        "\n"
      ]
    },
    {
      "cell_type": "markdown",
      "metadata": {
        "id": "_ZwvSNjLxTZG"
      },
      "source": [
        "## Gemeinderats-Geschäfte die von der AL eingereicht wurden\n",
        "\n",
        "Im der Resultatsliste sollen alls Geschäfte aufgelistet werden, welche die AL entweder als Partei oder als Fraktion eingegeben hat.\n",
        "\n",
        "1.   Stelle zuerst den Request auf die Geschäfte, welche von der AL **als Fraktion** eingegeben wurden und übergebe das Resultat aus einem JSON (`result_geschaefte_fraktion`) in einen Dataframe (`df_deals_fraktion`)."
      ]
    },
    {
      "cell_type": "code",
      "metadata": {
        "colab": {
          "base_uri": "https://localhost:8080/"
        },
        "id": "0yiPxgAExTZG",
        "outputId": "4f1f171a-4592-4acc-9600-b9a4ec2a93bf"
      },
      "source": [
        "#query = {'personId': member['Id']}\n",
        "\n",
        "# via swagger: URL mit einem OR Operatoren drin\n",
        "#https://www.gemeinderat-zuerich.ch/api/Geschaeft/suchen?parteiId=df5ccd54-009e-40ae-b687-4ce88a71f5d8|fraktionId=53bf7290-4055-455b-bb1f-2ba64e76294d&orderBy=geschaeftsart\n",
        "\n",
        "query_fraktion = {'fraktionId': '53bf7290-4055-455b-bb1f-2ba64e76294d', 'activePage':1, 'pageSize':700}\n",
        "headers = {'Accept': 'application/json'}\n",
        "r = requests.get('https://www.gemeinderat-zuerich.ch/api/Geschaeft', \n",
        "                 params=query_fraktion, \n",
        "                 headers=headers, \n",
        "                 verify=SSL_VERIFY)\n",
        "result_geschaefte_fraktion = r.json()\n",
        "df_deals_fraktion = pd.DataFrame(result_geschaefte_fraktion['Geschaefte'])\n",
        "print('done')\n",
        "\n",
        "\n"
      ],
      "execution_count": 109,
      "outputs": [
        {
          "output_type": "stream",
          "text": [
            "done\n"
          ],
          "name": "stdout"
        }
      ]
    },
    {
      "cell_type": "code",
      "metadata": {
        "id": "tV3mTjJn6upN",
        "outputId": "d5dc1e4b-4796-4a85-eb90-bb91b6ff8063",
        "colab": {
          "base_uri": "https://localhost:8080/"
        }
      },
      "source": [
        "df_deals_fraktion.info"
      ],
      "execution_count": 118,
      "outputs": [
        {
          "output_type": "execute_result",
          "data": {
            "text/plain": [
              "GeschaeftId         object\n",
              "Geschaeftsjahr       int64\n",
              "Geschaeftsnummer     int64\n",
              "Geschaeftstitel     object\n",
              "Geschaeftsart       object\n",
              "dtype: object"
            ]
          },
          "metadata": {
            "tags": []
          },
          "execution_count": 118
        }
      ]
    },
    {
      "cell_type": "markdown",
      "metadata": {
        "id": "JhY_-KaX9ebO"
      },
      "source": [
        "\n",
        "\n",
        "2.   Stelle anschliessend den Request auf die Geschäfte, welche von der AL **als Partei** eingegeben wurden und übergebe das Resultat aus einem JSON (result_geschaefte_partei) in einen Dataframe (df_deals_partei)."
      ]
    },
    {
      "cell_type": "code",
      "metadata": {
        "id": "ylZmxdTb9bd-",
        "outputId": "ffd44541-828a-40d3-b053-6bbf8393c72f",
        "colab": {
          "base_uri": "https://localhost:8080/"
        }
      },
      "source": [
        "query_partei = {'parteiId': 'df5ccd54-009e-40ae-b687-4ce88a71f5d8', 'activePage':1, 'pageSize':700}\n",
        "headers = {'Accept': 'application/json'}\n",
        "r = requests.get('https://www.gemeinderat-zuerich.ch/api/Geschaeft', \n",
        "                 params=query_partei, \n",
        "                 headers=headers, \n",
        "                 verify=SSL_VERIFY)\n",
        "result_geschaefte_partei = r.json()\n",
        "df_deals_partei = pd.DataFrame(result_geschaefte_partei['Geschaefte'])\n",
        "print('done')\n"
      ],
      "execution_count": 154,
      "outputs": [
        {
          "output_type": "stream",
          "text": [
            "done\n"
          ],
          "name": "stdout"
        }
      ]
    },
    {
      "cell_type": "code",
      "metadata": {
        "id": "_VaNDjZa--NX",
        "outputId": "8fe8cdd6-06f9-4a25-d8ca-c7931547fc1e",
        "colab": {
          "base_uri": "https://localhost:8080/"
        }
      },
      "source": [
        "df_deals_partei.info"
      ],
      "execution_count": 113,
      "outputs": [
        {
          "output_type": "execute_result",
          "data": {
            "text/plain": [
              "<bound method DataFrame.info of                               GeschaeftId  ...         Geschaeftsart\n",
              "0    12f72f93-eef1-4dea-af7c-40dc4f7201c8  ...              Postulat\n",
              "1    23e9191b-f4d1-4897-8380-074d3918f98e  ...              Postulat\n",
              "2    513e2c8e-60ae-42af-a571-0c7a031922a6  ...  Schriftliche Anfrage\n",
              "3    733659d9-f3ab-4513-b105-c264b5bd699b  ...  Schriftliche Anfrage\n",
              "4    b0b223cb-a96d-465d-8a50-cb307a50291d  ...              Postulat\n",
              "..                                    ...  ...                   ...\n",
              "603  1afa9df6-8635-480d-a8b9-b8214b7c6613  ...                Motion\n",
              "604  c928d093-0db6-4eaa-b30c-6196035b99e5  ...              Postulat\n",
              "605  055190a3-536d-4dbe-97fb-a39677fc57d9  ...              Postulat\n",
              "606  09ece0e7-4efc-4fcc-a825-847157382b42  ...              Postulat\n",
              "607  94afa6b8-e776-455b-b2d9-bb34975c5f47  ...                Motion\n",
              "\n",
              "[608 rows x 5 columns]>"
            ]
          },
          "metadata": {
            "tags": []
          },
          "execution_count": 113
        }
      ]
    },
    {
      "cell_type": "markdown",
      "metadata": {
        "id": "qvMKm-2D98Mz"
      },
      "source": [
        "Füge nun beide DataFrames der Teilanfragen (1 und 2) zusammen. \n",
        "`ignore_index` ist hier wichtig, sonst funktioniert das zusammenhängen nicht wie erwünscht.\n",
        "Sortiere danach den DataFrame absteigend nach Geschäftsjahr und Geschäftsnummer und schreibe ihn in den DataFrame df_deals.\n"
      ]
    },
    {
      "cell_type": "code",
      "metadata": {
        "id": "D1C9PDbU-CMJ",
        "outputId": "cfce1909-7809-41d4-88b3-59dac00c17b3",
        "colab": {
          "base_uri": "https://localhost:8080/",
          "height": 419
        }
      },
      "source": [
        "df_deals_appended = df_deals_partei.append(df_deals_fraktion, verify_integrity=True, ignore_index=True, sort=True)\n",
        "df_deals = df_deals_appended.sort_values(by=['Geschaeftsjahr', 'Geschaeftsnummer'], ascending=False)\n",
        "df_deals\n",
        "#result = df1.append(df4, sort=False)"
      ],
      "execution_count": 155,
      "outputs": [
        {
          "output_type": "execute_result",
          "data": {
            "text/html": [
              "<div>\n",
              "<style scoped>\n",
              "    .dataframe tbody tr th:only-of-type {\n",
              "        vertical-align: middle;\n",
              "    }\n",
              "\n",
              "    .dataframe tbody tr th {\n",
              "        vertical-align: top;\n",
              "    }\n",
              "\n",
              "    .dataframe thead th {\n",
              "        text-align: right;\n",
              "    }\n",
              "</style>\n",
              "<table border=\"1\" class=\"dataframe\">\n",
              "  <thead>\n",
              "    <tr style=\"text-align: right;\">\n",
              "      <th></th>\n",
              "      <th>GeschaeftId</th>\n",
              "      <th>Geschaeftsart</th>\n",
              "      <th>Geschaeftsjahr</th>\n",
              "      <th>Geschaeftsnummer</th>\n",
              "      <th>Geschaeftstitel</th>\n",
              "    </tr>\n",
              "  </thead>\n",
              "  <tbody>\n",
              "    <tr>\n",
              "      <th>0</th>\n",
              "      <td>12f72f93-eef1-4dea-af7c-40dc4f7201c8</td>\n",
              "      <td>Postulat</td>\n",
              "      <td>2021</td>\n",
              "      <td>312</td>\n",
              "      <td>Realisierung eines durchgängigen (Floh-)Markts...</td>\n",
              "    </tr>\n",
              "    <tr>\n",
              "      <th>608</th>\n",
              "      <td>a23937ff-a9af-4a6d-8d28-e37cd86dd198</td>\n",
              "      <td>Postulat</td>\n",
              "      <td>2021</td>\n",
              "      <td>308</td>\n",
              "      <td>Auflösung des Bundesasylzentrums Duttweiler un...</td>\n",
              "    </tr>\n",
              "    <tr>\n",
              "      <th>1</th>\n",
              "      <td>23e9191b-f4d1-4897-8380-074d3918f98e</td>\n",
              "      <td>Postulat</td>\n",
              "      <td>2021</td>\n",
              "      <td>302</td>\n",
              "      <td>Gesamtenergiebilanz für städtische Gebäude bei...</td>\n",
              "    </tr>\n",
              "    <tr>\n",
              "      <th>609</th>\n",
              "      <td>5f1f5506-a655-4a27-8ce7-5e0953b205bc</td>\n",
              "      <td>Erklärung</td>\n",
              "      <td>2021</td>\n",
              "      <td>300</td>\n",
              "      <td>Kommunaler Richtplan Verkehr der Stadt Zürich</td>\n",
              "    </tr>\n",
              "    <tr>\n",
              "      <th>2</th>\n",
              "      <td>513e2c8e-60ae-42af-a571-0c7a031922a6</td>\n",
              "      <td>Schriftliche Anfrage</td>\n",
              "      <td>2021</td>\n",
              "      <td>291</td>\n",
              "      <td>Aktualisierung der Schulwegkarte, Kadenz der A...</td>\n",
              "    </tr>\n",
              "    <tr>\n",
              "      <th>...</th>\n",
              "      <td>...</td>\n",
              "      <td>...</td>\n",
              "      <td>...</td>\n",
              "      <td>...</td>\n",
              "      <td>...</td>\n",
              "    </tr>\n",
              "    <tr>\n",
              "      <th>603</th>\n",
              "      <td>1afa9df6-8635-480d-a8b9-b8214b7c6613</td>\n",
              "      <td>Motion</td>\n",
              "      <td>1997</td>\n",
              "      <td>285</td>\n",
              "      <td>Behördenmitglieder, Neuregelung der Entschädig...</td>\n",
              "    </tr>\n",
              "    <tr>\n",
              "      <th>604</th>\n",
              "      <td>c928d093-0db6-4eaa-b30c-6196035b99e5</td>\n",
              "      <td>Postulat</td>\n",
              "      <td>1996</td>\n",
              "      <td>490</td>\n",
              "      <td>Zoo Erweiterung, Verlängerung der Tramlinie 6 ...</td>\n",
              "    </tr>\n",
              "    <tr>\n",
              "      <th>605</th>\n",
              "      <td>055190a3-536d-4dbe-97fb-a39677fc57d9</td>\n",
              "      <td>Postulat</td>\n",
              "      <td>1996</td>\n",
              "      <td>100</td>\n",
              "      <td>Pumpspeicherwerk Grimsel West, Verhinderung we...</td>\n",
              "    </tr>\n",
              "    <tr>\n",
              "      <th>606</th>\n",
              "      <td>09ece0e7-4efc-4fcc-a825-847157382b42</td>\n",
              "      <td>Postulat</td>\n",
              "      <td>1994</td>\n",
              "      <td>424</td>\n",
              "      <td>Schulbehörden, Neufestlegung der Strukturen</td>\n",
              "    </tr>\n",
              "    <tr>\n",
              "      <th>607</th>\n",
              "      <td>94afa6b8-e776-455b-b2d9-bb34975c5f47</td>\n",
              "      <td>Motion</td>\n",
              "      <td>1994</td>\n",
              "      <td>8</td>\n",
              "      <td>Schulbehörden, Neufestlegung der Strukturen</td>\n",
              "    </tr>\n",
              "  </tbody>\n",
              "</table>\n",
              "<p>961 rows × 5 columns</p>\n",
              "</div>"
            ],
            "text/plain": [
              "                              GeschaeftId  ...                                    Geschaeftstitel\n",
              "0    12f72f93-eef1-4dea-af7c-40dc4f7201c8  ...  Realisierung eines durchgängigen (Floh-)Markts...\n",
              "608  a23937ff-a9af-4a6d-8d28-e37cd86dd198  ...  Auflösung des Bundesasylzentrums Duttweiler un...\n",
              "1    23e9191b-f4d1-4897-8380-074d3918f98e  ...  Gesamtenergiebilanz für städtische Gebäude bei...\n",
              "609  5f1f5506-a655-4a27-8ce7-5e0953b205bc  ...      Kommunaler Richtplan Verkehr der Stadt Zürich\n",
              "2    513e2c8e-60ae-42af-a571-0c7a031922a6  ...  Aktualisierung der Schulwegkarte, Kadenz der A...\n",
              "..                                    ...  ...                                                ...\n",
              "603  1afa9df6-8635-480d-a8b9-b8214b7c6613  ...  Behördenmitglieder, Neuregelung der Entschädig...\n",
              "604  c928d093-0db6-4eaa-b30c-6196035b99e5  ...  Zoo Erweiterung, Verlängerung der Tramlinie 6 ...\n",
              "605  055190a3-536d-4dbe-97fb-a39677fc57d9  ...  Pumpspeicherwerk Grimsel West, Verhinderung we...\n",
              "606  09ece0e7-4efc-4fcc-a825-847157382b42  ...        Schulbehörden, Neufestlegung der Strukturen\n",
              "607  94afa6b8-e776-455b-b2d9-bb34975c5f47  ...        Schulbehörden, Neufestlegung der Strukturen\n",
              "\n",
              "[961 rows x 5 columns]"
            ]
          },
          "metadata": {
            "tags": []
          },
          "execution_count": 155
        }
      ]
    },
    {
      "cell_type": "code",
      "metadata": {
        "id": "-lCfpU9VGsKx"
      },
      "source": [
        "df_deals = df_deals_appended.sort_values(by=['Geschaeftsjahr', 'Geschaeftsnummer'], ascending=False)\n"
      ],
      "execution_count": 158,
      "outputs": []
    },
    {
      "cell_type": "markdown",
      "metadata": {
        "id": "vUniMFgp5XfQ"
      },
      "source": [
        "Check Output des Dataframes"
      ]
    },
    {
      "cell_type": "code",
      "metadata": {
        "id": "lvC6_C1C5XfQ",
        "outputId": "b9cf8a37-9857-4f7c-a89d-48e8fa678297",
        "colab": {
          "base_uri": "https://localhost:8080/",
          "height": 204
        }
      },
      "source": [
        "df_deals.head()"
      ],
      "execution_count": 159,
      "outputs": [
        {
          "output_type": "execute_result",
          "data": {
            "text/html": [
              "<div>\n",
              "<style scoped>\n",
              "    .dataframe tbody tr th:only-of-type {\n",
              "        vertical-align: middle;\n",
              "    }\n",
              "\n",
              "    .dataframe tbody tr th {\n",
              "        vertical-align: top;\n",
              "    }\n",
              "\n",
              "    .dataframe thead th {\n",
              "        text-align: right;\n",
              "    }\n",
              "</style>\n",
              "<table border=\"1\" class=\"dataframe\">\n",
              "  <thead>\n",
              "    <tr style=\"text-align: right;\">\n",
              "      <th></th>\n",
              "      <th>GeschaeftId</th>\n",
              "      <th>Geschaeftsart</th>\n",
              "      <th>Geschaeftsjahr</th>\n",
              "      <th>Geschaeftsnummer</th>\n",
              "      <th>Geschaeftstitel</th>\n",
              "    </tr>\n",
              "  </thead>\n",
              "  <tbody>\n",
              "    <tr>\n",
              "      <th>0</th>\n",
              "      <td>12f72f93-eef1-4dea-af7c-40dc4f7201c8</td>\n",
              "      <td>Postulat</td>\n",
              "      <td>2021</td>\n",
              "      <td>312</td>\n",
              "      <td>Realisierung eines durchgängigen (Floh-)Markts...</td>\n",
              "    </tr>\n",
              "    <tr>\n",
              "      <th>608</th>\n",
              "      <td>a23937ff-a9af-4a6d-8d28-e37cd86dd198</td>\n",
              "      <td>Postulat</td>\n",
              "      <td>2021</td>\n",
              "      <td>308</td>\n",
              "      <td>Auflösung des Bundesasylzentrums Duttweiler un...</td>\n",
              "    </tr>\n",
              "    <tr>\n",
              "      <th>1</th>\n",
              "      <td>23e9191b-f4d1-4897-8380-074d3918f98e</td>\n",
              "      <td>Postulat</td>\n",
              "      <td>2021</td>\n",
              "      <td>302</td>\n",
              "      <td>Gesamtenergiebilanz für städtische Gebäude bei...</td>\n",
              "    </tr>\n",
              "    <tr>\n",
              "      <th>609</th>\n",
              "      <td>5f1f5506-a655-4a27-8ce7-5e0953b205bc</td>\n",
              "      <td>Erklärung</td>\n",
              "      <td>2021</td>\n",
              "      <td>300</td>\n",
              "      <td>Kommunaler Richtplan Verkehr der Stadt Zürich</td>\n",
              "    </tr>\n",
              "    <tr>\n",
              "      <th>2</th>\n",
              "      <td>513e2c8e-60ae-42af-a571-0c7a031922a6</td>\n",
              "      <td>Schriftliche Anfrage</td>\n",
              "      <td>2021</td>\n",
              "      <td>291</td>\n",
              "      <td>Aktualisierung der Schulwegkarte, Kadenz der A...</td>\n",
              "    </tr>\n",
              "  </tbody>\n",
              "</table>\n",
              "</div>"
            ],
            "text/plain": [
              "                              GeschaeftId  ...                                    Geschaeftstitel\n",
              "0    12f72f93-eef1-4dea-af7c-40dc4f7201c8  ...  Realisierung eines durchgängigen (Floh-)Markts...\n",
              "608  a23937ff-a9af-4a6d-8d28-e37cd86dd198  ...  Auflösung des Bundesasylzentrums Duttweiler un...\n",
              "1    23e9191b-f4d1-4897-8380-074d3918f98e  ...  Gesamtenergiebilanz für städtische Gebäude bei...\n",
              "609  5f1f5506-a655-4a27-8ce7-5e0953b205bc  ...      Kommunaler Richtplan Verkehr der Stadt Zürich\n",
              "2    513e2c8e-60ae-42af-a571-0c7a031922a6  ...  Aktualisierung der Schulwegkarte, Kadenz der A...\n",
              "\n",
              "[5 rows x 5 columns]"
            ]
          },
          "metadata": {
            "tags": []
          },
          "execution_count": 159
        }
      ]
    },
    {
      "cell_type": "markdown",
      "metadata": {
        "id": "aDiIIHdt5XfQ"
      },
      "source": [
        "Exportiere die Geschäfte dieser Anfrage als Excel und als CSV.\n"
      ]
    },
    {
      "cell_type": "code",
      "metadata": {
        "id": "H5sEDV0l5XfQ"
      },
      "source": [
        "#df_deals.to_csv('deals.csv')  \n",
        "#df_deals.to_excel('deals.xlsx')  "
      ],
      "execution_count": 116,
      "outputs": []
    },
    {
      "cell_type": "markdown",
      "metadata": {
        "id": "_Hq1tuAA5XfR"
      },
      "source": [
        "## Details der Gemeinderats-Geschäfte abfragen\n",
        "\n",
        "Die Abfrage über den Geschäftsendpoint ('https://www.gemeinderat-zuerich.ch/api/Geschaeft') liefert keine detaillierten Daten. Z.B wer das Geschäft eingereicht hat oder wie der aktuelle Stand dabei ist.\n",
        "\n",
        "Dazu muss der Endpoint zu den Geschäftsdetails ('https://www.gemeinderat-zuerich.ch/api/Geschaeft/details') abgefragt werden. Dieser benötigt als Input die ID des Geschäfts (die gid).\n"
      ]
    },
    {
      "cell_type": "code",
      "metadata": {
        "id": "mh755L545XfR",
        "outputId": "288f10a2-ecb4-49cc-ecc4-e9d006d013fb",
        "colab": {
          "base_uri": "https://localhost:8080/"
        }
      },
      "source": [
        "def get_geschaefte_details(index):\n",
        "    #Herauslesen der GeschaeftId aus dem Dataframe df_deals\n",
        "    query = {'gid': df_deals['GeschaeftId'][index]}\n",
        "    #print(query)\n",
        "    headers = {'Accept': 'application/json'}\n",
        "    r = requests.get('https://www.gemeinderat-zuerich.ch/api/Geschaeft/details', params=query, headers=headers, verify=SSL_VERIFY) \n",
        "    details = r.json()\n",
        "    # Da komischerweise in den Details die gid nicht mehr vorkommt, weise ich sie hier explizit zu, damit sie im Output vorkommt.\n",
        "    details['gid'] = df_deals['GeschaeftId'][index]\n",
        "    return details\n",
        " \n",
        "#Iterrows ist nicht die schnellste Variante der Abfrage. Aber hier dennoch zweckmässig.\n",
        "deals_details = [get_geschaefte_details(index) for index, row in df_deals.iterrows()]\n",
        "print(\"done\")\n",
        "\n",
        "\n"
      ],
      "execution_count": 160,
      "outputs": [
        {
          "output_type": "stream",
          "text": [
            "done\n"
          ],
          "name": "stdout"
        }
      ]
    },
    {
      "cell_type": "markdown",
      "metadata": {
        "id": "RHnHll5E5XfR"
      },
      "source": [
        "Einlsesen des JSON-Outputs in einen DataFrame.\n",
        "Beachte die Struktur des Outputs. Siehe auch https://opendatazurich.github.io/ris-api/docs/#/Geschaeft/get_Geschaeft_details > Model"
      ]
    },
    {
      "cell_type": "code",
      "metadata": {
        "id": "036oAzr95XfS",
        "outputId": "1e748c10-cd0e-4dbb-877f-58b61be2fb38",
        "colab": {
          "base_uri": "https://localhost:8080/",
          "height": 915
        }
      },
      "source": [
        "df_deals_details = pd.DataFrame(deals_details)\n",
        "df_deals_details\n",
        "\n"
      ],
      "execution_count": 161,
      "outputs": [
        {
          "output_type": "execute_result",
          "data": {
            "text/html": [
              "<div>\n",
              "<style scoped>\n",
              "    .dataframe tbody tr th:only-of-type {\n",
              "        vertical-align: middle;\n",
              "    }\n",
              "\n",
              "    .dataframe tbody tr th {\n",
              "        vertical-align: top;\n",
              "    }\n",
              "\n",
              "    .dataframe thead th {\n",
              "        text-align: right;\n",
              "    }\n",
              "</style>\n",
              "<table border=\"1\" class=\"dataframe\">\n",
              "  <thead>\n",
              "    <tr style=\"text-align: right;\">\n",
              "      <th></th>\n",
              "      <th>GeschaeftTitel</th>\n",
              "      <th>GeschaeftsJahr</th>\n",
              "      <th>GeschaeftsNummer</th>\n",
              "      <th>GeschaeftsArt</th>\n",
              "      <th>Erstunterzeichnender</th>\n",
              "      <th>ZweiterErstunterzeichnender</th>\n",
              "      <th>EinreichendeGruppe</th>\n",
              "      <th>PendentBei</th>\n",
              "      <th>FristBis</th>\n",
              "      <th>Departemente</th>\n",
              "      <th>Ablaufschritte</th>\n",
              "      <th>VerknuepfteGeschaefte</th>\n",
              "      <th>gid</th>\n",
              "    </tr>\n",
              "  </thead>\n",
              "  <tbody>\n",
              "    <tr>\n",
              "      <th>0</th>\n",
              "      <td>Realisierung eines durchgängigen (Floh-)Markts...</td>\n",
              "      <td>2021</td>\n",
              "      <td>312</td>\n",
              "      <td>Postulat</td>\n",
              "      <td>{'Id': '4a1be35e-3f69-48a4-85b1-3fee07b006ae',...</td>\n",
              "      <td>{'Id': 'ad19c2cb-10d3-426a-a915-45763615ca0c',...</td>\n",
              "      <td>[]</td>\n",
              "      <td>Stadtrat</td>\n",
              "      <td>2021-10-07T00:00:00</td>\n",
              "      <td>[{'Id': 1, 'Name': 'Zuteilung ausstehend'}]</td>\n",
              "      <td>[{'Datum': '2021-07-07T00:00:00', 'Created': '...</td>\n",
              "      <td>[]</td>\n",
              "      <td>12f72f93-eef1-4dea-af7c-40dc4f7201c8</td>\n",
              "    </tr>\n",
              "    <tr>\n",
              "      <th>1</th>\n",
              "      <td>Auflösung des Bundesasylzentrums Duttweiler un...</td>\n",
              "      <td>2021</td>\n",
              "      <td>308</td>\n",
              "      <td>Postulat</td>\n",
              "      <td>None</td>\n",
              "      <td>None</td>\n",
              "      <td>[{'Name': 'AL', 'Id': '53bf7290-4055-455b-bb1f...</td>\n",
              "      <td>Stadtrat</td>\n",
              "      <td>2021-10-07T00:00:00</td>\n",
              "      <td>[{'Id': 1, 'Name': 'Zuteilung ausstehend'}]</td>\n",
              "      <td>[{'Datum': '2021-07-07T00:00:00', 'Created': '...</td>\n",
              "      <td>[{'GeschaeftId': '51289cf9-84ac-481f-8b74-edae...</td>\n",
              "      <td>a23937ff-a9af-4a6d-8d28-e37cd86dd198</td>\n",
              "    </tr>\n",
              "    <tr>\n",
              "      <th>2</th>\n",
              "      <td>Gesamtenergiebilanz für städtische Gebäude bei...</td>\n",
              "      <td>2021</td>\n",
              "      <td>302</td>\n",
              "      <td>Postulat</td>\n",
              "      <td>{'Id': '9e46c2e0-626a-4d19-82e8-de1b2a3e216d',...</td>\n",
              "      <td>{'Id': 'bbfb8ca0-91b1-448d-b1fc-c5e3bb35c158',...</td>\n",
              "      <td>[]</td>\n",
              "      <td>Gemeinderat</td>\n",
              "      <td>None</td>\n",
              "      <td>[{'Id': 8, 'Name': 'Hochbaudepartement (HBD)'}]</td>\n",
              "      <td>[{'Datum': '2021-07-07T00:00:00', 'Created': '...</td>\n",
              "      <td>[]</td>\n",
              "      <td>23e9191b-f4d1-4897-8380-074d3918f98e</td>\n",
              "    </tr>\n",
              "    <tr>\n",
              "      <th>3</th>\n",
              "      <td>Kommunaler Richtplan Verkehr der Stadt Zürich</td>\n",
              "      <td>2021</td>\n",
              "      <td>300</td>\n",
              "      <td>Erklärung</td>\n",
              "      <td>None</td>\n",
              "      <td>None</td>\n",
              "      <td>[{'Name': 'AL', 'Id': '53bf7290-4055-455b-bb1f...</td>\n",
              "      <td></td>\n",
              "      <td>0001-01-01T00:00:00</td>\n",
              "      <td>[]</td>\n",
              "      <td>[{'Datum': '2021-06-30T00:00:00', 'Created': '...</td>\n",
              "      <td>[{'GeschaeftId': '5b9b4c53-433a-4aed-af3b-bfed...</td>\n",
              "      <td>5f1f5506-a655-4a27-8ce7-5e0953b205bc</td>\n",
              "    </tr>\n",
              "    <tr>\n",
              "      <th>4</th>\n",
              "      <td>Aktualisierung der Schulwegkarte, Kadenz der A...</td>\n",
              "      <td>2021</td>\n",
              "      <td>291</td>\n",
              "      <td>Schriftliche Anfrage</td>\n",
              "      <td>{'Id': 'ad19c2cb-10d3-426a-a915-45763615ca0c',...</td>\n",
              "      <td>{'Id': 'bbfb8ca0-91b1-448d-b1fc-c5e3bb35c158',...</td>\n",
              "      <td>[]</td>\n",
              "      <td>Stadtrat</td>\n",
              "      <td>2021-09-23T21:43:24.577</td>\n",
              "      <td>[{'Id': 13, 'Name': 'Sicherheitsdepartement (S...</td>\n",
              "      <td>[{'Datum': '2021-06-23T00:00:00', 'Created': '...</td>\n",
              "      <td>[]</td>\n",
              "      <td>513e2c8e-60ae-42af-a571-0c7a031922a6</td>\n",
              "    </tr>\n",
              "    <tr>\n",
              "      <th>...</th>\n",
              "      <td>...</td>\n",
              "      <td>...</td>\n",
              "      <td>...</td>\n",
              "      <td>...</td>\n",
              "      <td>...</td>\n",
              "      <td>...</td>\n",
              "      <td>...</td>\n",
              "      <td>...</td>\n",
              "      <td>...</td>\n",
              "      <td>...</td>\n",
              "      <td>...</td>\n",
              "      <td>...</td>\n",
              "      <td>...</td>\n",
              "    </tr>\n",
              "    <tr>\n",
              "      <th>956</th>\n",
              "      <td>Behördenmitglieder, Neuregelung der Entschädig...</td>\n",
              "      <td>1997</td>\n",
              "      <td>285</td>\n",
              "      <td>Motion</td>\n",
              "      <td>{'Id': 'c05a85e4-caf9-48dd-9959-ea4707c84065',...</td>\n",
              "      <td>{'Id': 'b37fdd87-03a3-4505-9b39-85823968e10d',...</td>\n",
              "      <td>[]</td>\n",
              "      <td></td>\n",
              "      <td>0001-01-01T00:00:00</td>\n",
              "      <td>[{'Id': 4, 'Name': 'Finanzdepartement (FD)'}]</td>\n",
              "      <td>[{'Datum': '1998-05-13T00:00:00', 'Created': '...</td>\n",
              "      <td>[]</td>\n",
              "      <td>1afa9df6-8635-480d-a8b9-b8214b7c6613</td>\n",
              "    </tr>\n",
              "    <tr>\n",
              "      <th>957</th>\n",
              "      <td>Zoo Erweiterung, Verlängerung der Tramlinie 6 ...</td>\n",
              "      <td>1996</td>\n",
              "      <td>490</td>\n",
              "      <td>Postulat</td>\n",
              "      <td>{'Id': 'ee86db77-a1a9-4def-8b78-b5e4ecd27c9a',...</td>\n",
              "      <td>None</td>\n",
              "      <td>[]</td>\n",
              "      <td></td>\n",
              "      <td>0001-01-01T00:00:00</td>\n",
              "      <td>[{'Id': 9, 'Name': 'Departement der Industriel...</td>\n",
              "      <td>[{'Datum': '2009-09-17T00:00:00', 'Created': '...</td>\n",
              "      <td>[]</td>\n",
              "      <td>c928d093-0db6-4eaa-b30c-6196035b99e5</td>\n",
              "    </tr>\n",
              "    <tr>\n",
              "      <th>958</th>\n",
              "      <td>Pumpspeicherwerk Grimsel West, Verhinderung we...</td>\n",
              "      <td>1996</td>\n",
              "      <td>100</td>\n",
              "      <td>Postulat</td>\n",
              "      <td>{'Id': '3b7ede89-f4fd-444b-81a7-53a66560333e',...</td>\n",
              "      <td>{'Id': 'ee86db77-a1a9-4def-8b78-b5e4ecd27c9a',...</td>\n",
              "      <td>[]</td>\n",
              "      <td>Stadtrat</td>\n",
              "      <td>None</td>\n",
              "      <td>[{'Id': 9, 'Name': 'Departement der Industriel...</td>\n",
              "      <td>[{'Datum': '2020-11-25T00:00:00', 'Created': '...</td>\n",
              "      <td>[{'GeschaeftId': 'ef0539fa-2bb4-45a2-9c42-81c2...</td>\n",
              "      <td>055190a3-536d-4dbe-97fb-a39677fc57d9</td>\n",
              "    </tr>\n",
              "    <tr>\n",
              "      <th>959</th>\n",
              "      <td>Schulbehörden, Neufestlegung der Strukturen</td>\n",
              "      <td>1994</td>\n",
              "      <td>424</td>\n",
              "      <td>Postulat</td>\n",
              "      <td>{'Id': 'e1297508-be1a-4c61-81b6-a8f501114378',...</td>\n",
              "      <td>None</td>\n",
              "      <td>[]</td>\n",
              "      <td></td>\n",
              "      <td>0001-01-01T00:00:00</td>\n",
              "      <td>[{'Id': 10, 'Name': 'Schul- und Sportdeparteme...</td>\n",
              "      <td>[{'Datum': '2005-03-02T00:00:00', 'Created': '...</td>\n",
              "      <td>[{'GeschaeftId': 'dacb1cc2-3170-4291-baaa-fe99...</td>\n",
              "      <td>09ece0e7-4efc-4fcc-a825-847157382b42</td>\n",
              "    </tr>\n",
              "    <tr>\n",
              "      <th>960</th>\n",
              "      <td>Schulbehörden, Neufestlegung der Strukturen</td>\n",
              "      <td>1994</td>\n",
              "      <td>8</td>\n",
              "      <td>Motion</td>\n",
              "      <td>{'Id': 'e1297508-be1a-4c61-81b6-a8f501114378',...</td>\n",
              "      <td>None</td>\n",
              "      <td>[]</td>\n",
              "      <td></td>\n",
              "      <td>0001-01-01T00:00:00</td>\n",
              "      <td>[{'Id': 10, 'Name': 'Schul- und Sportdeparteme...</td>\n",
              "      <td>[{'Datum': '1994-09-28T00:00:00', 'Created': '...</td>\n",
              "      <td>[{'GeschaeftId': 'dacb1cc2-3170-4291-baaa-fe99...</td>\n",
              "      <td>94afa6b8-e776-455b-b2d9-bb34975c5f47</td>\n",
              "    </tr>\n",
              "  </tbody>\n",
              "</table>\n",
              "<p>961 rows × 13 columns</p>\n",
              "</div>"
            ],
            "text/plain": [
              "                                        GeschaeftTitel  ...                                   gid\n",
              "0    Realisierung eines durchgängigen (Floh-)Markts...  ...  12f72f93-eef1-4dea-af7c-40dc4f7201c8\n",
              "1    Auflösung des Bundesasylzentrums Duttweiler un...  ...  a23937ff-a9af-4a6d-8d28-e37cd86dd198\n",
              "2    Gesamtenergiebilanz für städtische Gebäude bei...  ...  23e9191b-f4d1-4897-8380-074d3918f98e\n",
              "3        Kommunaler Richtplan Verkehr der Stadt Zürich  ...  5f1f5506-a655-4a27-8ce7-5e0953b205bc\n",
              "4    Aktualisierung der Schulwegkarte, Kadenz der A...  ...  513e2c8e-60ae-42af-a571-0c7a031922a6\n",
              "..                                                 ...  ...                                   ...\n",
              "956  Behördenmitglieder, Neuregelung der Entschädig...  ...  1afa9df6-8635-480d-a8b9-b8214b7c6613\n",
              "957  Zoo Erweiterung, Verlängerung der Tramlinie 6 ...  ...  c928d093-0db6-4eaa-b30c-6196035b99e5\n",
              "958  Pumpspeicherwerk Grimsel West, Verhinderung we...  ...  055190a3-536d-4dbe-97fb-a39677fc57d9\n",
              "959        Schulbehörden, Neufestlegung der Strukturen  ...  09ece0e7-4efc-4fcc-a825-847157382b42\n",
              "960        Schulbehörden, Neufestlegung der Strukturen  ...  94afa6b8-e776-455b-b2d9-bb34975c5f47\n",
              "\n",
              "[961 rows x 13 columns]"
            ]
          },
          "metadata": {
            "tags": []
          },
          "execution_count": 161
        }
      ]
    },
    {
      "cell_type": "markdown",
      "metadata": {
        "id": "UYrypZzr5XfT"
      },
      "source": [
        "In der Anfrage ist ein Link auf das Geschäft gewünscht. Die URL hat einen fixen Teil an den am Ende die gid des Geschäfts angehängt wird.\n",
        "Da der Link nicht im Datenmodell vorhanden ist, wird er hier erstellt und dem DataFrame angehängt.\n"
      ]
    },
    {
      "cell_type": "code",
      "metadata": {
        "id": "zq62nYCR5XfT"
      },
      "source": [
        "#df_deals_details['joined_col'] = df_deals_details.GeschaeftsArt.str.cat(df_deals_details.PendentBei)\n",
        "basis_url_geschaefte = \"https://www.gemeinderat-zuerich.ch/geschaefte/detailansicht-geschaeft?gid=\"\n",
        "\n",
        "df_deals_details['deals_details_url'] = basis_url_geschaefte + df_deals_details.gid\n",
        "\n",
        "#df_deals_details.head(3)\n",
        "#print(basis_url_geschaefte +''+ df_deals_details.gid)\n"
      ],
      "execution_count": 162,
      "outputs": []
    },
    {
      "cell_type": "markdown",
      "metadata": {
        "id": "ZMfRxzCT5XfT"
      },
      "source": [
        "Exportiere den erstellten DataFrame.\n",
        "Z.K. im DataFrame sieht es aus als ob die URL nicht sauber Concatenated wird. Im Excel-Output ist jedoch alles i.O."
      ]
    },
    {
      "cell_type": "code",
      "metadata": {
        "id": "7NmPR3x25XfU"
      },
      "source": [
        "df_deals_details.to_excel('deals_details.xlsx')  \n",
        "#url_geschaefte = \"https://www.gemeinderat-zuerich.ch/geschaefte/detailansicht-geschaeft?gId=\"df_deals_details['gid']"
      ],
      "execution_count": 163,
      "outputs": []
    },
    {
      "cell_type": "markdown",
      "metadata": {
        "id": "lZgZCWwq5XfU"
      },
      "source": [
        "Z.K. hier eine kompliziertere Version wie die URL konstruiert werden kann. Ist aber letztlich nicht nötig mit Pandas..."
      ]
    },
    {
      "cell_type": "code",
      "metadata": {
        "id": "Ag7ZA0eR5XfU",
        "outputId": "3d718eff-7802-4a56-a572-1c9deaf214d4"
      },
      "source": [
        "\n",
        "\"\"\"\n",
        "for index, row in df_deals_details.iterrows():\n",
        "\n",
        "    url_geschaefte = \"https://www.gemeinderat-zuerich.ch/geschaefte/detailansicht-geschaeft?gid=\"\n",
        "    #gid=deals_details['gid'][index]\n",
        "    a=df_deals_details['gid'][index]\n",
        "\n",
        "    print(url_geschaefte+''+a)\n",
        "\"\"\""
      ],
      "execution_count": null,
      "outputs": [
        {
          "output_type": "execute_result",
          "data": {
            "text/plain": [
              "'\\nfor index, row in df_deals_details.iterrows():\\n\\n    url_geschaefte = \"https://www.gemeinderat-zuerich.ch/geschaefte/detailansicht-geschaeft?gid=\"\\n    #gid=deals_details[\\'gid\\'][index]\\n    a=df_deals_details[\\'gid\\'][index]\\n\\n    print(url_geschaefte+\\'\\'+a)\\n'"
            ]
          },
          "metadata": {
            "tags": []
          },
          "execution_count": 50
        }
      ]
    },
    {
      "cell_type": "code",
      "metadata": {
        "id": "VwiHNvIy5XfV",
        "outputId": "aac35421-8ff4-4164-85a5-98e3614fe89b",
        "colab": {
          "base_uri": "https://localhost:8080/"
        }
      },
      "source": [
        "df_deals_details.columns\n"
      ],
      "execution_count": 164,
      "outputs": [
        {
          "output_type": "execute_result",
          "data": {
            "text/plain": [
              "Index(['GeschaeftTitel', 'GeschaeftsJahr', 'GeschaeftsNummer', 'GeschaeftsArt',\n",
              "       'Erstunterzeichnender', 'ZweiterErstunterzeichnender',\n",
              "       'EinreichendeGruppe', 'PendentBei', 'FristBis', 'Departemente',\n",
              "       'Ablaufschritte', 'VerknuepfteGeschaefte', 'gid', 'deals_details_url'],\n",
              "      dtype='object')"
            ]
          },
          "metadata": {
            "tags": []
          },
          "execution_count": 164
        }
      ]
    },
    {
      "cell_type": "markdown",
      "metadata": {
        "id": "YY24IVj15XfW"
      },
      "source": [
        "### Normalisierung der Geschäftsdetails\n",
        "\n",
        "Der Output der Detailinformationen ist verschachtelt, wie im [Datenmodell](https://opendatazurich.github.io/ris-api/docs/#/Geschaeft/get_Geschaeft_details) beschrieben. In den nächsten Schritten wird der DataFrame mit den Datails zu den Geschäften normalisiert. Siehe dazu z.B folgende Links:\n",
        "- https://pandas.pydata.org/pandas-docs/version/0.21/generated/pandas.io.json.json_normalize.html\n",
        "- https://towardsdatascience.com/all-pandas-json-normalize-you-should-know-for-flattening-json-13eae1dfb7dd\n",
        "- https://blog.softhints.com/python-normalize-json-pandas/\n"
      ]
    },
    {
      "cell_type": "markdown",
      "metadata": {
        "id": "F01i9TAo5XfW"
      },
      "source": [
        "Hier im ersten Versuch werden keine weiteren Parameter angegeben. Es ist jedoch ersichtlich, dass dies nicht dem von uns erhofften Output entspricht. Es ist unklar, was mit den Erstunterzeichnenden geschehen ist ... jedenfalls nützt das so nichts."
      ]
    },
    {
      "cell_type": "code",
      "metadata": {
        "id": "5GH1-bdh5XfW"
      },
      "source": [
        "from pandas.io.json import json_normalize"
      ],
      "execution_count": 166,
      "outputs": []
    },
    {
      "cell_type": "code",
      "metadata": {
        "id": "uX75iK3p5XfX",
        "outputId": "b4d04e68-31c4-4037-ecbe-245c36c7f021",
        "colab": {
          "base_uri": "https://localhost:8080/"
        }
      },
      "source": [
        "\n",
        "#df_deals_details_normalized = pd.json_normalize(deals_details, sep=\"_\")\n",
        "\n",
        "df_deals_details_normalized = pd.json_normalize(deals_details)\n",
        "#, max_level=1\n",
        "\n",
        "\n",
        "df_deals_details_normalized.columns\n",
        "#df_deals_details_normalized.head(3)\n",
        "#df_deals_details_normalized.to_excel(path+'deals_details_normalized.xlsx')  "
      ],
      "execution_count": 167,
      "outputs": [
        {
          "output_type": "execute_result",
          "data": {
            "text/plain": [
              "Index(['GeschaeftTitel', 'GeschaeftsJahr', 'GeschaeftsNummer', 'GeschaeftsArt',\n",
              "       'EinreichendeGruppe', 'PendentBei', 'FristBis', 'Departemente',\n",
              "       'Ablaufschritte', 'VerknuepfteGeschaefte', 'gid',\n",
              "       'Erstunterzeichnender.Id', 'Erstunterzeichnender.Name',\n",
              "       'Erstunterzeichnender.Vorname', 'Erstunterzeichnender.Titel',\n",
              "       'Erstunterzeichnender.Partei', 'Erstunterzeichnender.Wahlkreis',\n",
              "       'Erstunterzeichnender.WahlkreisOrderBy',\n",
              "       'ZweiterErstunterzeichnender.Id', 'ZweiterErstunterzeichnender.Name',\n",
              "       'ZweiterErstunterzeichnender.Vorname',\n",
              "       'ZweiterErstunterzeichnender.Titel',\n",
              "       'ZweiterErstunterzeichnender.Partei',\n",
              "       'ZweiterErstunterzeichnender.Wahlkreis',\n",
              "       'ZweiterErstunterzeichnender.WahlkreisOrderBy', 'Erstunterzeichnender',\n",
              "       'ZweiterErstunterzeichnender'],\n",
              "      dtype='object')"
            ]
          },
          "metadata": {
            "tags": []
          },
          "execution_count": 167
        }
      ]
    },
    {
      "cell_type": "code",
      "metadata": {
        "id": "LuFRLQWP5XfX",
        "outputId": "8b7faca4-41f5-4c70-83c0-544c63b8a44a",
        "colab": {
          "base_uri": "https://localhost:8080/"
        }
      },
      "source": [
        "url_geschaefte = \"https://www.gemeinderat-zuerich.ch/geschaefte/detailansicht-geschaeft\"\n",
        "df_deals_details_normalized['deals_details_url'] = url_geschaefte +'?gid='+ df_deals_details_normalized.gid\n",
        "\n",
        "df_deals_details_normalized.head(2)\n",
        "df_deals_details_normalized.columns\n"
      ],
      "execution_count": 168,
      "outputs": [
        {
          "output_type": "execute_result",
          "data": {
            "text/plain": [
              "Index(['GeschaeftTitel', 'GeschaeftsJahr', 'GeschaeftsNummer', 'GeschaeftsArt',\n",
              "       'EinreichendeGruppe', 'PendentBei', 'FristBis', 'Departemente',\n",
              "       'Ablaufschritte', 'VerknuepfteGeschaefte', 'gid',\n",
              "       'Erstunterzeichnender.Id', 'Erstunterzeichnender.Name',\n",
              "       'Erstunterzeichnender.Vorname', 'Erstunterzeichnender.Titel',\n",
              "       'Erstunterzeichnender.Partei', 'Erstunterzeichnender.Wahlkreis',\n",
              "       'Erstunterzeichnender.WahlkreisOrderBy',\n",
              "       'ZweiterErstunterzeichnender.Id', 'ZweiterErstunterzeichnender.Name',\n",
              "       'ZweiterErstunterzeichnender.Vorname',\n",
              "       'ZweiterErstunterzeichnender.Titel',\n",
              "       'ZweiterErstunterzeichnender.Partei',\n",
              "       'ZweiterErstunterzeichnender.Wahlkreis',\n",
              "       'ZweiterErstunterzeichnender.WahlkreisOrderBy', 'Erstunterzeichnender',\n",
              "       'ZweiterErstunterzeichnender', 'deals_details_url'],\n",
              "      dtype='object')"
            ]
          },
          "metadata": {
            "tags": []
          },
          "execution_count": 168
        }
      ]
    },
    {
      "cell_type": "code",
      "metadata": {
        "id": "aQiPKZh75XfX"
      },
      "source": [
        "df_deals_details_normalized.to_excel('deals_details_normalized.xlsx')  \n"
      ],
      "execution_count": 169,
      "outputs": []
    },
    {
      "cell_type": "code",
      "metadata": {
        "id": "EAVCIor65XfX"
      },
      "source": [
        "#deals_details"
      ],
      "execution_count": null,
      "outputs": []
    },
    {
      "cell_type": "markdown",
      "metadata": {
        "id": "9XASKyVm5XfY"
      },
      "source": [
        "So können z.B. die Ablaufschritte einzeln noch herausgelesen werden "
      ]
    },
    {
      "cell_type": "code",
      "metadata": {
        "id": "_fYMNADC5XfY"
      },
      "source": [
        "df_deals_details_normalized2 = pd.json_normalize(\n",
        "    deals_details, \n",
        "    record_path=['Ablaufschritte'], \n",
        "    meta=[['Id', 'Name', 'Vorname']],\n",
        "    meta_prefix='meta-',\n",
        "    record_prefix='path-',\n",
        "    errors='ignore' \n",
        ")\n",
        "\n"
      ],
      "execution_count": null,
      "outputs": []
    },
    {
      "cell_type": "code",
      "metadata": {
        "id": "sOW-Uuol5XfY",
        "outputId": "0b0775a9-ca16-4518-a455-b81d83275b5b"
      },
      "source": [
        "#deals_details\n",
        "df_deals_details_normalized2.head(2)\n",
        "#df_deals_details_normalized2.columns"
      ],
      "execution_count": null,
      "outputs": [
        {
          "output_type": "execute_result",
          "data": {
            "text/html": [
              "<div>\n",
              "<style scoped>\n",
              "    .dataframe tbody tr th:only-of-type {\n",
              "        vertical-align: middle;\n",
              "    }\n",
              "\n",
              "    .dataframe tbody tr th {\n",
              "        vertical-align: top;\n",
              "    }\n",
              "\n",
              "    .dataframe thead th {\n",
              "        text-align: right;\n",
              "    }\n",
              "</style>\n",
              "<table border=\"1\" class=\"dataframe\">\n",
              "  <thead>\n",
              "    <tr style=\"text-align: right;\">\n",
              "      <th></th>\n",
              "      <th>path-Datum</th>\n",
              "      <th>path-Created</th>\n",
              "      <th>path-Titel</th>\n",
              "      <th>path-Protokolleintrag</th>\n",
              "      <th>path-AblaufschrittDokumente</th>\n",
              "      <th>path-BeschlussNrGR</th>\n",
              "      <th>path-SitzungsNr</th>\n",
              "      <th>path-AudioLink</th>\n",
              "      <th>path-AudioLinkText</th>\n",
              "      <th>meta-Id.Name.Vorname</th>\n",
              "    </tr>\n",
              "  </thead>\n",
              "  <tbody>\n",
              "    <tr>\n",
              "      <th>0</th>\n",
              "      <td>2021-07-07T00:00:00</td>\n",
              "      <td>2021-07-08T11:07:54.98</td>\n",
              "      <td>Eingang, Frist 3 Monate</td>\n",
              "      <td>&lt;p style=\"margin: 0px 0px 0px 0px;text-align: ...</td>\n",
              "      <td>[{'Dokumenttitel': '2021_0312.pdf', 'Id': '5d0...</td>\n",
              "      <td>4196.0</td>\n",
              "      <td>157.0</td>\n",
              "      <td>None</td>\n",
              "      <td>None</td>\n",
              "      <td>NaN</td>\n",
              "    </tr>\n",
              "    <tr>\n",
              "      <th>1</th>\n",
              "      <td>2021-07-07T00:00:00</td>\n",
              "      <td>2021-07-07T13:27:48.893</td>\n",
              "      <td>Stadtrat, Entgegennahme</td>\n",
              "      <td>None</td>\n",
              "      <td>[]</td>\n",
              "      <td>NaN</td>\n",
              "      <td>NaN</td>\n",
              "      <td>None</td>\n",
              "      <td>None</td>\n",
              "      <td>NaN</td>\n",
              "    </tr>\n",
              "  </tbody>\n",
              "</table>\n",
              "</div>"
            ],
            "text/plain": [
              "            path-Datum             path-Created               path-Titel  \\\n",
              "0  2021-07-07T00:00:00   2021-07-08T11:07:54.98  Eingang, Frist 3 Monate   \n",
              "1  2021-07-07T00:00:00  2021-07-07T13:27:48.893  Stadtrat, Entgegennahme   \n",
              "\n",
              "                               path-Protokolleintrag  \\\n",
              "0  <p style=\"margin: 0px 0px 0px 0px;text-align: ...   \n",
              "1                                               None   \n",
              "\n",
              "                         path-AblaufschrittDokumente  path-BeschlussNrGR  \\\n",
              "0  [{'Dokumenttitel': '2021_0312.pdf', 'Id': '5d0...              4196.0   \n",
              "1                                                 []                 NaN   \n",
              "\n",
              "   path-SitzungsNr path-AudioLink path-AudioLinkText meta-Id.Name.Vorname  \n",
              "0            157.0           None               None                  NaN  \n",
              "1              NaN           None               None                  NaN  "
            ]
          },
          "metadata": {
            "tags": []
          },
          "execution_count": 125
        }
      ]
    },
    {
      "cell_type": "code",
      "metadata": {
        "id": "28Ijb3k75XfY"
      },
      "source": [
        ""
      ],
      "execution_count": null,
      "outputs": []
    },
    {
      "cell_type": "code",
      "metadata": {
        "id": "p91MFERX5XfY"
      },
      "source": [
        ""
      ],
      "execution_count": null,
      "outputs": []
    },
    {
      "cell_type": "code",
      "metadata": {
        "id": "xDCYlimMxTZH"
      },
      "source": [
        "\n"
      ],
      "execution_count": null,
      "outputs": []
    },
    {
      "cell_type": "code",
      "metadata": {
        "id": "bNoehP5j5XfY"
      },
      "source": [
        ""
      ],
      "execution_count": null,
      "outputs": []
    }
  ]
}
