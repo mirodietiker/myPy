{
 "cells": [
  {
   "cell_type": "markdown",
   "metadata": {},
   "source": [
    "**Importiere die notwendigen Packages**"
   ]
  },
  {
   "cell_type": "code",
   "execution_count": 1,
   "metadata": {},
   "outputs": [],
   "source": [
    "import pandas as pd\n",
    "import pivottablejs\n",
    "from pivottablejs import pivot_ui\n",
    "import numpy as np\n",
    "import altair as alt\n",
    "import matplotlib.pyplot as plt\n",
    "from datetime import datetime\n",
    "import geopandas as gpd\n",
    "import folium \n",
    "import requests\n",
    "\n"
   ]
  },
  {
   "cell_type": "markdown",
   "metadata": {},
   "source": [
    "Definiere Settings. Hier das Zahlenformat von Float-Werten (z.B. *'{:,.2f}'.format* mit Komma als Tausenderzeichen), "
   ]
  },
  {
   "cell_type": "code",
   "execution_count": 2,
   "metadata": {},
   "outputs": [],
   "source": [
    "pd.options.display.float_format = '{:.0f}'.format\n",
    "pd.set_option('display.width', 100)\n",
    "pd.set_option('display.max_columns', 15)"
   ]
  },
  {
   "cell_type": "markdown",
   "metadata": {},
   "source": [
    "Importiere einen Datensatz von der **DWH_INT** Dropzone.\n",
    "\n",
    "- Beachte dabei die Notation des Pfades...\n",
    "- Definiere mal aktuell noch keine weiteren Parameter beim Import"
   ]
  },
  {
   "cell_type": "markdown",
   "metadata": {},
   "source": [
    "**Dataset auf INTEG Datenkatalog**: https://data.integ.stadt-zuerich.ch/dataset/int_dwh_bev_bestand_nachnamen_stadtquartier_od3710"
   ]
  },
  {
   "cell_type": "code",
   "execution_count": 3,
   "metadata": {},
   "outputs": [],
   "source": [
    "# Filepath\n",
    "fp = r\"//szh.loc/ssz/applikationen/OGD_Dropzone/DWH/bev_bestand_nachnamen_stadtquartier_OD3710/BEV371OD3710.csv\"\n",
    "#Auf INTEG\n",
    "#fp = r\"//szh.loc/ssz/applikationen/OGD_Dropzone/INT_DWH/bev_bestand_nachnamen_stadtquartier_OD3710/BEV371OD3710.csv\"\n",
    "\n",
    "\n",
    "# Read the data\n",
    "data2betested = pd.read_csv(\n",
    "    fp, \n",
    "    sep=',',\n",
    "   #usecols=[0,1,2,3,4,6],\n",
    "   #names=['stationid','year','month','avgtemp','latitude','longitude','elevation','station','countryid','country'],\n",
    "   #skiprows=1,\n",
    "   # parse_dates=[0],\n",
    "    parse_dates=True,\n",
    "    #date_parser=lambda x: pd.to_datetime(x, format=\"%Y\"), \n",
    "    #index_col=\"date_time\",\n",
    "    low_memory=False    \n",
    "    )"
   ]
  },
  {
   "cell_type": "markdown",
   "metadata": {},
   "source": [
    "In der Folge ein paar erste Tests:"
   ]
  },
  {
   "cell_type": "code",
   "execution_count": 4,
   "metadata": {},
   "outputs": [
    {
     "data": {
      "text/plain": [
       "pandas.core.frame.DataFrame"
      ]
     },
     "execution_count": 4,
     "metadata": {},
     "output_type": "execute_result"
    }
   ],
   "source": [
    "type(data2betested)"
   ]
  },
  {
   "cell_type": "markdown",
   "metadata": {},
   "source": [
    " - 1) Zeige eine kurze Vorschau der importierten Daten\n",
    " - 2) Weise die Datentypen aus\n",
    " - 3) Zeige die Shape (Umfang) des Datensatzes an"
   ]
  },
  {
   "cell_type": "code",
   "execution_count": 5,
   "metadata": {},
   "outputs": [
    {
     "data": {
      "text/html": [
       "<div>\n",
       "<style scoped>\n",
       "    .dataframe tbody tr th:only-of-type {\n",
       "        vertical-align: middle;\n",
       "    }\n",
       "\n",
       "    .dataframe tbody tr th {\n",
       "        vertical-align: top;\n",
       "    }\n",
       "\n",
       "    .dataframe thead th {\n",
       "        text-align: right;\n",
       "    }\n",
       "</style>\n",
       "<table border=\"1\" class=\"dataframe\">\n",
       "  <thead>\n",
       "    <tr style=\"text-align: right;\">\n",
       "      <th></th>\n",
       "      <th>Nachname</th>\n",
       "      <th>KreisSort</th>\n",
       "      <th>KreisLang</th>\n",
       "      <th>QuarSort</th>\n",
       "      <th>QuarLang</th>\n",
       "      <th>AnzBestWir</th>\n",
       "    </tr>\n",
       "  </thead>\n",
       "  <tbody>\n",
       "    <tr>\n",
       "      <th>0</th>\n",
       "      <td>Müller</td>\n",
       "      <td>1</td>\n",
       "      <td>Kreis 1</td>\n",
       "      <td>11</td>\n",
       "      <td>Rathaus</td>\n",
       "      <td>24</td>\n",
       "    </tr>\n",
       "    <tr>\n",
       "      <th>1</th>\n",
       "      <td>Keller</td>\n",
       "      <td>1</td>\n",
       "      <td>Kreis 1</td>\n",
       "      <td>11</td>\n",
       "      <td>Rathaus</td>\n",
       "      <td>13</td>\n",
       "    </tr>\n",
       "    <tr>\n",
       "      <th>2</th>\n",
       "      <td>Schmid</td>\n",
       "      <td>1</td>\n",
       "      <td>Kreis 1</td>\n",
       "      <td>11</td>\n",
       "      <td>Rathaus</td>\n",
       "      <td>13</td>\n",
       "    </tr>\n",
       "  </tbody>\n",
       "</table>\n",
       "</div>"
      ],
      "text/plain": [
       "  Nachname  KreisSort KreisLang  QuarSort QuarLang  AnzBestWir\n",
       "0   Müller          1   Kreis 1        11  Rathaus          24\n",
       "1   Keller          1   Kreis 1        11  Rathaus          13\n",
       "2   Schmid          1   Kreis 1        11  Rathaus          13"
      ]
     },
     "execution_count": 5,
     "metadata": {},
     "output_type": "execute_result"
    }
   ],
   "source": [
    "data2betested.head(3)"
   ]
  },
  {
   "cell_type": "code",
   "execution_count": 6,
   "metadata": {},
   "outputs": [
    {
     "data": {
      "text/plain": [
       "Nachname      object\n",
       "KreisSort      int64\n",
       "KreisLang     object\n",
       "QuarSort       int64\n",
       "QuarLang      object\n",
       "AnzBestWir     int64\n",
       "dtype: object"
      ]
     },
     "execution_count": 6,
     "metadata": {},
     "output_type": "execute_result"
    }
   ],
   "source": [
    "data2betested.dtypes"
   ]
  },
  {
   "cell_type": "code",
   "execution_count": 7,
   "metadata": {},
   "outputs": [
    {
     "data": {
      "text/plain": [
       "(22222, 6)"
      ]
     },
     "execution_count": 7,
     "metadata": {},
     "output_type": "execute_result"
    }
   ],
   "source": [
    "data2betested.shape"
   ]
  },
  {
   "cell_type": "markdown",
   "metadata": {},
   "source": [
    "Beschreibe einzelne Attribute"
   ]
  },
  {
   "cell_type": "code",
   "execution_count": 8,
   "metadata": {},
   "outputs": [
    {
     "data": {
      "text/html": [
       "<div>\n",
       "<style scoped>\n",
       "    .dataframe tbody tr th:only-of-type {\n",
       "        vertical-align: middle;\n",
       "    }\n",
       "\n",
       "    .dataframe tbody tr th {\n",
       "        vertical-align: top;\n",
       "    }\n",
       "\n",
       "    .dataframe thead th {\n",
       "        text-align: right;\n",
       "    }\n",
       "</style>\n",
       "<table border=\"1\" class=\"dataframe\">\n",
       "  <thead>\n",
       "    <tr style=\"text-align: right;\">\n",
       "      <th></th>\n",
       "      <th>KreisSort</th>\n",
       "      <th>QuarSort</th>\n",
       "      <th>AnzBestWir</th>\n",
       "    </tr>\n",
       "  </thead>\n",
       "  <tbody>\n",
       "    <tr>\n",
       "      <th>count</th>\n",
       "      <td>22222</td>\n",
       "      <td>22222</td>\n",
       "      <td>22222</td>\n",
       "    </tr>\n",
       "    <tr>\n",
       "      <th>mean</th>\n",
       "      <td>7</td>\n",
       "      <td>71</td>\n",
       "      <td>20</td>\n",
       "    </tr>\n",
       "    <tr>\n",
       "      <th>std</th>\n",
       "      <td>3</td>\n",
       "      <td>34</td>\n",
       "      <td>439</td>\n",
       "    </tr>\n",
       "    <tr>\n",
       "      <th>min</th>\n",
       "      <td>1</td>\n",
       "      <td>11</td>\n",
       "      <td>1</td>\n",
       "    </tr>\n",
       "    <tr>\n",
       "      <th>25%</th>\n",
       "      <td>4</td>\n",
       "      <td>41</td>\n",
       "      <td>2</td>\n",
       "    </tr>\n",
       "    <tr>\n",
       "      <th>50%</th>\n",
       "      <td>7</td>\n",
       "      <td>72</td>\n",
       "      <td>3</td>\n",
       "    </tr>\n",
       "    <tr>\n",
       "      <th>75%</th>\n",
       "      <td>10</td>\n",
       "      <td>101</td>\n",
       "      <td>6</td>\n",
       "    </tr>\n",
       "    <tr>\n",
       "      <th>max</th>\n",
       "      <td>12</td>\n",
       "      <td>123</td>\n",
       "      <td>25534</td>\n",
       "    </tr>\n",
       "  </tbody>\n",
       "</table>\n",
       "</div>"
      ],
      "text/plain": [
       "       KreisSort  QuarSort  AnzBestWir\n",
       "count      22222     22222       22222\n",
       "mean           7        71          20\n",
       "std            3        34         439\n",
       "min            1        11           1\n",
       "25%            4        41           2\n",
       "50%            7        72           3\n",
       "75%           10       101           6\n",
       "max           12       123       25534"
      ]
     },
     "execution_count": 8,
     "metadata": {},
     "output_type": "execute_result"
    }
   ],
   "source": [
    "data2betested.describe()"
   ]
  },
  {
   "cell_type": "markdown",
   "metadata": {},
   "source": [
    "Wie viele Nullwerte gibt es im Datensatz?"
   ]
  },
  {
   "cell_type": "code",
   "execution_count": 9,
   "metadata": {
    "scrolled": true
   },
   "outputs": [
    {
     "data": {
      "text/plain": [
       "Nachname      0\n",
       "KreisSort     0\n",
       "KreisLang     0\n",
       "QuarSort      0\n",
       "QuarLang      0\n",
       "AnzBestWir    0\n",
       "dtype: int64"
      ]
     },
     "execution_count": 9,
     "metadata": {},
     "output_type": "execute_result"
    }
   ],
   "source": [
    "data2betested.isnull().sum()"
   ]
  },
  {
   "cell_type": "markdown",
   "metadata": {},
   "source": [
    "Wandle die Spalte Jahr von Int zu **Datetime** um. Dies wird in den meisten Grafiken so benötigt."
   ]
  },
  {
   "cell_type": "code",
   "execution_count": 10,
   "metadata": {
    "scrolled": true
   },
   "outputs": [],
   "source": [
    "#data2betested['Jahrgang']=pd.to_datetime(data2betested['Jahrgang'], format='%Y')\n",
    "\n",
    "#TO DO --> setze das Datum auf den 31.12. der Jahres.\n",
    "#test=data2betested[['StichtagDatJahr']].date().replace(month=12, day=31)\n",
    "\n",
    "#data2betested"
   ]
  },
  {
   "cell_type": "markdown",
   "metadata": {},
   "source": [
    "Bereite die Daten für die Grafik unten vor"
   ]
  },
  {
   "cell_type": "code",
   "execution_count": 11,
   "metadata": {},
   "outputs": [
    {
     "data": {
      "text/plain": [
       "12"
      ]
     },
     "execution_count": 11,
     "metadata": {},
     "output_type": "execute_result"
    }
   ],
   "source": [
    "grp_Kreis = data2betested.groupby(\"KreisLang\")\n",
    "len(grp_Kreis)"
   ]
  },
  {
   "cell_type": "code",
   "execution_count": 12,
   "metadata": {},
   "outputs": [
    {
     "name": "stdout",
     "output_type": "stream",
     "text": [
      "Kreis 1 872\n",
      "Kreis 10 1687\n",
      "Kreis 11 2555\n",
      "Kreis 12 2017\n",
      "Kreis 2 1935\n",
      "Kreis 3 2387\n",
      "Kreis 4 2032\n",
      "Kreis 5 1285\n",
      "Kreis 6 1547\n",
      "Kreis 7 2588\n",
      "Kreis 8 1562\n",
      "Kreis 9 1755\n"
     ]
    }
   ],
   "source": [
    "for key, group in grp_Kreis:\n",
    "    print(key, len(group))\n"
   ]
  },
  {
   "cell_type": "code",
   "execution_count": 13,
   "metadata": {},
   "outputs": [
    {
     "ename": "NameError",
     "evalue": "name 'Jahre' is not defined",
     "output_type": "error",
     "traceback": [
      "\u001b[1;31m---------------------------------------------------------------------------\u001b[0m",
      "\u001b[1;31mNameError\u001b[0m                                 Traceback (most recent call last)",
      "\u001b[1;32m<ipython-input-13-6c515dd6c41e>\u001b[0m in \u001b[0;36m<module>\u001b[1;34m\u001b[0m\n\u001b[0;32m      1\u001b[0m \u001b[0mmyJahr\u001b[0m \u001b[1;33m=\u001b[0m \u001b[1;34m\"2019-01-01\"\u001b[0m\u001b[1;33m\u001b[0m\u001b[1;33m\u001b[0m\u001b[0m\n\u001b[1;32m----> 2\u001b[1;33m \u001b[0maktuellesJahr\u001b[0m\u001b[1;33m=\u001b[0m\u001b[0mJahre\u001b[0m\u001b[1;33m.\u001b[0m\u001b[0mget_group\u001b[0m\u001b[1;33m(\u001b[0m\u001b[0mmyJahr\u001b[0m\u001b[1;33m)\u001b[0m\u001b[1;33m\u001b[0m\u001b[1;33m\u001b[0m\u001b[0m\n\u001b[0m\u001b[0;32m      3\u001b[0m \u001b[0maktuellesJahr\u001b[0m\u001b[1;33m\u001b[0m\u001b[1;33m\u001b[0m\u001b[0m\n",
      "\u001b[1;31mNameError\u001b[0m: name 'Jahre' is not defined"
     ]
    }
   ],
   "source": [
    "myJahr = \"2019-01-01\"\n",
    "aktuellesJahr=Jahre.get_group(myJahr)   \n",
    "aktuellesJahr"
   ]
  },
  {
   "cell_type": "markdown",
   "metadata": {},
   "source": [
    "**Selektionen und Aggregationen**\n",
    "\n",
    "Check this [Doku](https://www.shanelynn.ie/summarising-aggregation-and-grouping-data-in-python-pandas/)"
   ]
  },
  {
   "cell_type": "code",
   "execution_count": 14,
   "metadata": {},
   "outputs": [
    {
     "data": {
      "text/html": [
       "<div>\n",
       "<style scoped>\n",
       "    .dataframe tbody tr th:only-of-type {\n",
       "        vertical-align: middle;\n",
       "    }\n",
       "\n",
       "    .dataframe tbody tr th {\n",
       "        vertical-align: top;\n",
       "    }\n",
       "\n",
       "    .dataframe thead th {\n",
       "        text-align: right;\n",
       "    }\n",
       "</style>\n",
       "<table border=\"1\" class=\"dataframe\">\n",
       "  <thead>\n",
       "    <tr style=\"text-align: right;\">\n",
       "      <th></th>\n",
       "      <th></th>\n",
       "      <th></th>\n",
       "      <th>AnzBestWir</th>\n",
       "    </tr>\n",
       "    <tr>\n",
       "      <th>QuarLang</th>\n",
       "      <th>KreisLang</th>\n",
       "      <th>Nachname</th>\n",
       "      <th></th>\n",
       "    </tr>\n",
       "  </thead>\n",
       "  <tbody>\n",
       "    <tr>\n",
       "      <th rowspan=\"5\" valign=\"top\">Affoltern</th>\n",
       "      <th rowspan=\"5\" valign=\"top\">Kreis 11</th>\n",
       "      <th>Abdi</th>\n",
       "      <td>8</td>\n",
       "    </tr>\n",
       "    <tr>\n",
       "      <th>Abegg</th>\n",
       "      <td>2</td>\n",
       "    </tr>\n",
       "    <tr>\n",
       "      <th>Abraham</th>\n",
       "      <td>12</td>\n",
       "    </tr>\n",
       "    <tr>\n",
       "      <th>Achermann</th>\n",
       "      <td>4</td>\n",
       "    </tr>\n",
       "    <tr>\n",
       "      <th>Ackermann</th>\n",
       "      <td>8</td>\n",
       "    </tr>\n",
       "    <tr>\n",
       "      <th>...</th>\n",
       "      <th>...</th>\n",
       "      <th>...</th>\n",
       "      <td>...</td>\n",
       "    </tr>\n",
       "    <tr>\n",
       "      <th rowspan=\"5\" valign=\"top\">Wollishofen</th>\n",
       "      <th rowspan=\"5\" valign=\"top\">Kreis 2</th>\n",
       "      <th>Zürcher</th>\n",
       "      <td>13</td>\n",
       "    </tr>\n",
       "    <tr>\n",
       "      <th>von Allmen</th>\n",
       "      <td>3</td>\n",
       "    </tr>\n",
       "    <tr>\n",
       "      <th>von Arx</th>\n",
       "      <td>3</td>\n",
       "    </tr>\n",
       "    <tr>\n",
       "      <th>Özdemir</th>\n",
       "      <td>2</td>\n",
       "    </tr>\n",
       "    <tr>\n",
       "      <th>Öztürk</th>\n",
       "      <td>2</td>\n",
       "    </tr>\n",
       "  </tbody>\n",
       "</table>\n",
       "<p>22222 rows × 1 columns</p>\n",
       "</div>"
      ],
      "text/plain": [
       "                                  AnzBestWir\n",
       "QuarLang    KreisLang Nachname              \n",
       "Affoltern   Kreis 11  Abdi                 8\n",
       "                      Abegg                2\n",
       "                      Abraham             12\n",
       "                      Achermann            4\n",
       "                      Ackermann            8\n",
       "...                                      ...\n",
       "Wollishofen Kreis 2   Zürcher             13\n",
       "                      von Allmen           3\n",
       "                      von Arx              3\n",
       "                      Özdemir              2\n",
       "                      Öztürk               2\n",
       "\n",
       "[22222 rows x 1 columns]"
      ]
     },
     "execution_count": 14,
     "metadata": {},
     "output_type": "execute_result"
    }
   ],
   "source": [
    "#med_jg_sex = data2betested.groupby(['Jahrgang','SexLang'])[['AnzBestWir']].agg('median')\n",
    "#anz_vn_sex_jg= data2betested.groupby(['Jahrgang', 'SexLang','Vorname' ])[['AnzBestWir']].sum()\n",
    "anz_nn_quartier= data2betested.groupby(['QuarLang','KreisLang','Nachname' ])[['AnzBestWir']].sum()\n",
    "\n",
    "anz_nn_quartier\n",
    "# produces Pandas Series\n",
    "    #data2betested.groupby(['StichtagDatJahr', 'KonOGDSort'])['AnzBestWir'].sum()\n",
    "# Produces Pandas DataFrame\n",
    "    #data2betested.groupby(['StichtagDatJahr', 'KonOGDSort'])[['AnzBestWir']].sum()\n",
    "    "
   ]
  },
  {
   "cell_type": "markdown",
   "metadata": {},
   "source": [
    "**Einfache Visualisierungen zur Plausi**"
   ]
  },
  {
   "cell_type": "markdown",
   "metadata": {},
   "source": [
    "Exploriere die Daten mit Pivottable.JS"
   ]
  },
  {
   "cell_type": "code",
   "execution_count": 15,
   "metadata": {},
   "outputs": [
    {
     "data": {
      "text/html": [
       "\n",
       "        <iframe\n",
       "            width=\"100%\"\n",
       "            height=\"500\"\n",
       "            src=\"pivottablejs.html\"\n",
       "            frameborder=\"0\"\n",
       "            allowfullscreen\n",
       "        ></iframe>\n",
       "        "
      ],
      "text/plain": [
       "<IPython.lib.display.IFrame at 0x18fdb0a3460>"
      ]
     },
     "execution_count": 15,
     "metadata": {},
     "output_type": "execute_result"
    }
   ],
   "source": [
    "from pivottablejs import pivot_ui\n",
    "\n",
    "pivot_ui(data2betested)"
   ]
  },
  {
   "cell_type": "markdown",
   "metadata": {},
   "source": [
    "Liniendiagramm \n",
    "[Link zur Doku](https://altair-viz.github.io/gallery/multiline_highlight.html)"
   ]
  },
  {
   "cell_type": "code",
   "execution_count": 16,
   "metadata": {},
   "outputs": [
    {
     "data": {
      "text/html": [
       "<div>\n",
       "<style scoped>\n",
       "    .dataframe tbody tr th:only-of-type {\n",
       "        vertical-align: middle;\n",
       "    }\n",
       "\n",
       "    .dataframe tbody tr th {\n",
       "        vertical-align: top;\n",
       "    }\n",
       "\n",
       "    .dataframe thead th {\n",
       "        text-align: right;\n",
       "    }\n",
       "</style>\n",
       "<table border=\"1\" class=\"dataframe\">\n",
       "  <thead>\n",
       "    <tr style=\"text-align: right;\">\n",
       "      <th></th>\n",
       "      <th></th>\n",
       "      <th></th>\n",
       "      <th>AnzBestWir</th>\n",
       "    </tr>\n",
       "    <tr>\n",
       "      <th>Nachname</th>\n",
       "      <th>QuarLang</th>\n",
       "      <th>KreisLang</th>\n",
       "      <th></th>\n",
       "    </tr>\n",
       "  </thead>\n",
       "  <tbody>\n",
       "    <tr>\n",
       "      <th rowspan=\"5\" valign=\"top\">Abdi</th>\n",
       "      <th>Affoltern</th>\n",
       "      <th>Kreis 11</th>\n",
       "      <td>8</td>\n",
       "    </tr>\n",
       "    <tr>\n",
       "      <th>Hirzenbach</th>\n",
       "      <th>Kreis 12</th>\n",
       "      <td>3</td>\n",
       "    </tr>\n",
       "    <tr>\n",
       "      <th>Höngg</th>\n",
       "      <th>Kreis 10</th>\n",
       "      <td>1</td>\n",
       "    </tr>\n",
       "    <tr>\n",
       "      <th>Oerlikon</th>\n",
       "      <th>Kreis 11</th>\n",
       "      <td>3</td>\n",
       "    </tr>\n",
       "    <tr>\n",
       "      <th>Schwamendingen-Mitte</th>\n",
       "      <th>Kreis 12</th>\n",
       "      <td>2</td>\n",
       "    </tr>\n",
       "  </tbody>\n",
       "</table>\n",
       "</div>"
      ],
      "text/plain": [
       "                                         AnzBestWir\n",
       "Nachname QuarLang             KreisLang            \n",
       "Abdi     Affoltern            Kreis 11            8\n",
       "         Hirzenbach           Kreis 12            3\n",
       "         Höngg                Kreis 10            1\n",
       "         Oerlikon             Kreis 11            3\n",
       "         Schwamendingen-Mitte Kreis 12            2"
      ]
     },
     "execution_count": 16,
     "metadata": {},
     "output_type": "execute_result"
    }
   ],
   "source": [
    "mySelection = data2betested[(data2betested.QuarSort>100)]\n",
    "agg_mySelection= mySelection.groupby(['Nachname', 'QuarLang', 'KreisLang' ])[['AnzBestWir']].sum()\n",
    "agg_mySelection.head()\n",
    "#mySelection.head()\n",
    "#agg_mySelection.dtypes\n"
   ]
  },
  {
   "cell_type": "code",
   "execution_count": 17,
   "metadata": {},
   "outputs": [
    {
     "data": {
      "text/html": [
       "<div>\n",
       "<style scoped>\n",
       "    .dataframe tbody tr th:only-of-type {\n",
       "        vertical-align: middle;\n",
       "    }\n",
       "\n",
       "    .dataframe tbody tr th {\n",
       "        vertical-align: top;\n",
       "    }\n",
       "\n",
       "    .dataframe thead th {\n",
       "        text-align: right;\n",
       "    }\n",
       "</style>\n",
       "<table border=\"1\" class=\"dataframe\">\n",
       "  <thead>\n",
       "    <tr style=\"text-align: right;\">\n",
       "      <th></th>\n",
       "      <th>Nachname</th>\n",
       "      <th>KreisSort</th>\n",
       "      <th>KreisLang</th>\n",
       "      <th>QuarSort</th>\n",
       "      <th>QuarLang</th>\n",
       "      <th>AnzBestWir</th>\n",
       "    </tr>\n",
       "  </thead>\n",
       "  <tbody>\n",
       "    <tr>\n",
       "      <th>15963</th>\n",
       "      <td>Müller</td>\n",
       "      <td>10</td>\n",
       "      <td>Kreis 10</td>\n",
       "      <td>101</td>\n",
       "      <td>Höngg</td>\n",
       "      <td>190</td>\n",
       "    </tr>\n",
       "    <tr>\n",
       "      <th>15964</th>\n",
       "      <td>Schmid</td>\n",
       "      <td>10</td>\n",
       "      <td>Kreis 10</td>\n",
       "      <td>101</td>\n",
       "      <td>Höngg</td>\n",
       "      <td>108</td>\n",
       "    </tr>\n",
       "    <tr>\n",
       "      <th>15965</th>\n",
       "      <td>Meier</td>\n",
       "      <td>10</td>\n",
       "      <td>Kreis 10</td>\n",
       "      <td>101</td>\n",
       "      <td>Höngg</td>\n",
       "      <td>124</td>\n",
       "    </tr>\n",
       "    <tr>\n",
       "      <th>15966</th>\n",
       "      <td>Fischer</td>\n",
       "      <td>10</td>\n",
       "      <td>Kreis 10</td>\n",
       "      <td>101</td>\n",
       "      <td>Höngg</td>\n",
       "      <td>75</td>\n",
       "    </tr>\n",
       "    <tr>\n",
       "      <th>15967</th>\n",
       "      <td>Weber</td>\n",
       "      <td>10</td>\n",
       "      <td>Kreis 10</td>\n",
       "      <td>101</td>\n",
       "      <td>Höngg</td>\n",
       "      <td>88</td>\n",
       "    </tr>\n",
       "    <tr>\n",
       "      <th>...</th>\n",
       "      <td>...</td>\n",
       "      <td>...</td>\n",
       "      <td>...</td>\n",
       "      <td>...</td>\n",
       "      <td>...</td>\n",
       "      <td>...</td>\n",
       "    </tr>\n",
       "    <tr>\n",
       "      <th>22217</th>\n",
       "      <td>Hyseni</td>\n",
       "      <td>12</td>\n",
       "      <td>Kreis 12</td>\n",
       "      <td>123</td>\n",
       "      <td>Hirzenbach</td>\n",
       "      <td>1</td>\n",
       "    </tr>\n",
       "    <tr>\n",
       "      <th>22218</th>\n",
       "      <td>Scholz</td>\n",
       "      <td>12</td>\n",
       "      <td>Kreis 12</td>\n",
       "      <td>123</td>\n",
       "      <td>Hirzenbach</td>\n",
       "      <td>1</td>\n",
       "    </tr>\n",
       "    <tr>\n",
       "      <th>22219</th>\n",
       "      <td>Bodmer</td>\n",
       "      <td>12</td>\n",
       "      <td>Kreis 12</td>\n",
       "      <td>123</td>\n",
       "      <td>Hirzenbach</td>\n",
       "      <td>1</td>\n",
       "    </tr>\n",
       "    <tr>\n",
       "      <th>22220</th>\n",
       "      <td>Schubert</td>\n",
       "      <td>12</td>\n",
       "      <td>Kreis 12</td>\n",
       "      <td>123</td>\n",
       "      <td>Hirzenbach</td>\n",
       "      <td>1</td>\n",
       "    </tr>\n",
       "    <tr>\n",
       "      <th>22221</th>\n",
       "      <td>Andere</td>\n",
       "      <td>12</td>\n",
       "      <td>Kreis 12</td>\n",
       "      <td>123</td>\n",
       "      <td>Hirzenbach</td>\n",
       "      <td>9797</td>\n",
       "    </tr>\n",
       "  </tbody>\n",
       "</table>\n",
       "<p>6259 rows × 6 columns</p>\n",
       "</div>"
      ],
      "text/plain": [
       "       Nachname  KreisSort KreisLang  QuarSort    QuarLang  AnzBestWir\n",
       "15963    Müller         10  Kreis 10       101       Höngg         190\n",
       "15964    Schmid         10  Kreis 10       101       Höngg         108\n",
       "15965     Meier         10  Kreis 10       101       Höngg         124\n",
       "15966   Fischer         10  Kreis 10       101       Höngg          75\n",
       "15967     Weber         10  Kreis 10       101       Höngg          88\n",
       "...         ...        ...       ...       ...         ...         ...\n",
       "22217    Hyseni         12  Kreis 12       123  Hirzenbach           1\n",
       "22218    Scholz         12  Kreis 12       123  Hirzenbach           1\n",
       "22219    Bodmer         12  Kreis 12       123  Hirzenbach           1\n",
       "22220  Schubert         12  Kreis 12       123  Hirzenbach           1\n",
       "22221    Andere         12  Kreis 12       123  Hirzenbach        9797\n",
       "\n",
       "[6259 rows x 6 columns]"
      ]
     },
     "execution_count": 17,
     "metadata": {},
     "output_type": "execute_result"
    }
   ],
   "source": [
    "agg_mySelection = agg_mySelection[[\"AnzBestWir\"]]\n",
    "agg_mySelection\n",
    "mySelection\n"
   ]
  },
  {
   "cell_type": "code",
   "execution_count": 18,
   "metadata": {},
   "outputs": [
    {
     "data": {
      "text/html": [
       "\n",
       "<div id=\"altair-viz-21858cb690484ccb8b620f38b2bb1586\"></div>\n",
       "<script type=\"text/javascript\">\n",
       "  (function(spec, embedOpt){\n",
       "    let outputDiv = document.currentScript.previousElementSibling;\n",
       "    if (outputDiv.id !== \"altair-viz-21858cb690484ccb8b620f38b2bb1586\") {\n",
       "      outputDiv = document.getElementById(\"altair-viz-21858cb690484ccb8b620f38b2bb1586\");\n",
       "    }\n",
       "    const paths = {\n",
       "      \"vega\": \"https://cdn.jsdelivr.net/npm//vega@5?noext\",\n",
       "      \"vega-lib\": \"https://cdn.jsdelivr.net/npm//vega-lib?noext\",\n",
       "      \"vega-lite\": \"https://cdn.jsdelivr.net/npm//vega-lite@4.8.1?noext\",\n",
       "      \"vega-embed\": \"https://cdn.jsdelivr.net/npm//vega-embed@6?noext\",\n",
       "    };\n",
       "\n",
       "    function loadScript(lib) {\n",
       "      return new Promise(function(resolve, reject) {\n",
       "        var s = document.createElement('script');\n",
       "        s.src = paths[lib];\n",
       "        s.async = true;\n",
       "        s.onload = () => resolve(paths[lib]);\n",
       "        s.onerror = () => reject(`Error loading script: ${paths[lib]}`);\n",
       "        document.getElementsByTagName(\"head\")[0].appendChild(s);\n",
       "      });\n",
       "    }\n",
       "\n",
       "    function showError(err) {\n",
       "      outputDiv.innerHTML = `<div class=\"error\" style=\"color:red;\">${err}</div>`;\n",
       "      throw err;\n",
       "    }\n",
       "\n",
       "    function displayChart(vegaEmbed) {\n",
       "      vegaEmbed(outputDiv, spec, embedOpt)\n",
       "        .catch(err => showError(`Javascript Error: ${err.message}<br>This usually means there's a typo in your chart specification. See the javascript console for the full traceback.`));\n",
       "    }\n",
       "\n",
       "    if(typeof define === \"function\" && define.amd) {\n",
       "      requirejs.config({paths});\n",
       "      require([\"vega-embed\"], displayChart, err => showError(`Error loading script: ${err.message}`));\n",
       "    } else if (typeof vegaEmbed === \"function\") {\n",
       "      displayChart(vegaEmbed);\n",
       "    } else {\n",
       "      loadScript(\"vega\")\n",
       "        .then(() => loadScript(\"vega-lite\"))\n",
       "        .then(() => loadScript(\"vega-embed\"))\n",
       "        .catch(showError)\n",
       "        .then(() => displayChart(vegaEmbed));\n",
       "    }\n",
       "  })({\"config\": {\"view\": {\"continuousWidth\": 400, \"continuousHeight\": 300}}, \"layer\": [{\"mark\": \"circle\", \"encoding\": {\"color\": {\"type\": \"nominal\", \"field\": \"QuarLang\"}, \"opacity\": {\"value\": 0.75}, \"x\": {\"type\": \"nominal\", \"field\": \"Nachname\"}, \"y\": {\"type\": \"quantitative\", \"field\": \"AnzBestWir\"}}, \"height\": 500, \"selection\": {\"selector001\": {\"type\": \"single\", \"on\": \"mouseover\", \"fields\": [\"QuarLang\"], \"nearest\": true}}, \"width\": 700}, {\"mark\": \"line\", \"encoding\": {\"color\": {\"type\": \"nominal\", \"field\": \"QuarLang\"}, \"size\": {\"condition\": {\"value\": 1.5, \"selection\": {\"not\": \"selector001\"}}, \"value\": 4}, \"x\": {\"type\": \"nominal\", \"field\": \"Nachname\"}, \"y\": {\"type\": \"quantitative\", \"field\": \"AnzBestWir\"}}, \"selection\": {\"selector002\": {\"type\": \"interval\", \"bind\": \"scales\", \"encodings\": [\"x\", \"y\"]}}}], \"data\": {\"name\": \"data-319a51efaaf249533ee82bb3578efb1d\"}, \"$schema\": \"https://vega.github.io/schema/vega-lite/v4.8.1.json\", \"datasets\": {\"data-319a51efaaf249533ee82bb3578efb1d\": [{\"Nachname\": \"M\\u00fcller\", \"KreisSort\": 3, \"KreisLang\": \"Kreis 3\", \"QuarSort\": 31, \"QuarLang\": \"Alt-Wiedikon\", \"AnzBestWir\": 97}, {\"Nachname\": \"Meier\", \"KreisSort\": 3, \"KreisLang\": \"Kreis 3\", \"QuarSort\": 31, \"QuarLang\": \"Alt-Wiedikon\", \"AnzBestWir\": 65}, {\"Nachname\": \"Schmid\", \"KreisSort\": 3, \"KreisLang\": \"Kreis 3\", \"QuarSort\": 31, \"QuarLang\": \"Alt-Wiedikon\", \"AnzBestWir\": 63}, {\"Nachname\": \"Keller\", \"KreisSort\": 3, \"KreisLang\": \"Kreis 3\", \"QuarSort\": 31, \"QuarLang\": \"Alt-Wiedikon\", \"AnzBestWir\": 63}, {\"Nachname\": \"Meyer\", \"KreisSort\": 3, \"KreisLang\": \"Kreis 3\", \"QuarSort\": 31, \"QuarLang\": \"Alt-Wiedikon\", \"AnzBestWir\": 45}, {\"Nachname\": \"Schneider\", \"KreisSort\": 3, \"KreisLang\": \"Kreis 3\", \"QuarSort\": 31, \"QuarLang\": \"Alt-Wiedikon\", \"AnzBestWir\": 44}, {\"Nachname\": \"Bollag\", \"KreisSort\": 3, \"KreisLang\": \"Kreis 3\", \"QuarSort\": 31, \"QuarLang\": \"Alt-Wiedikon\", \"AnzBestWir\": 38}, {\"Nachname\": \"Zimmermann\", \"KreisSort\": 3, \"KreisLang\": \"Kreis 3\", \"QuarSort\": 31, \"QuarLang\": \"Alt-Wiedikon\", \"AnzBestWir\": 37}, {\"Nachname\": \"Graf\", \"KreisSort\": 3, \"KreisLang\": \"Kreis 3\", \"QuarSort\": 31, \"QuarLang\": \"Alt-Wiedikon\", \"AnzBestWir\": 35}, {\"Nachname\": \"Huber\", \"KreisSort\": 3, \"KreisLang\": \"Kreis 3\", \"QuarSort\": 31, \"QuarLang\": \"Alt-Wiedikon\", \"AnzBestWir\": 35}, {\"Nachname\": \"Weber\", \"KreisSort\": 3, \"KreisLang\": \"Kreis 3\", \"QuarSort\": 31, \"QuarLang\": \"Alt-Wiedikon\", \"AnzBestWir\": 35}, {\"Nachname\": \"Fischer\", \"KreisSort\": 3, \"KreisLang\": \"Kreis 3\", \"QuarSort\": 31, \"QuarLang\": \"Alt-Wiedikon\", \"AnzBestWir\": 33}, {\"Nachname\": \"Mosbacher\", \"KreisSort\": 3, \"KreisLang\": \"Kreis 3\", \"QuarSort\": 31, \"QuarLang\": \"Alt-Wiedikon\", \"AnzBestWir\": 32}, {\"Nachname\": \"Rhein\", \"KreisSort\": 3, \"KreisLang\": \"Kreis 3\", \"QuarSort\": 31, \"QuarLang\": \"Alt-Wiedikon\", \"AnzBestWir\": 27}, {\"Nachname\": \"Pfister\", \"KreisSort\": 3, \"KreisLang\": \"Kreis 3\", \"QuarSort\": 31, \"QuarLang\": \"Alt-Wiedikon\", \"AnzBestWir\": 27}, {\"Nachname\": \"Steiner\", \"KreisSort\": 3, \"KreisLang\": \"Kreis 3\", \"QuarSort\": 31, \"QuarLang\": \"Alt-Wiedikon\", \"AnzBestWir\": 26}, {\"Nachname\": \"Beck\", \"KreisSort\": 3, \"KreisLang\": \"Kreis 3\", \"QuarSort\": 31, \"QuarLang\": \"Alt-Wiedikon\", \"AnzBestWir\": 26}, {\"Nachname\": \"M\\u00fcller\", \"KreisSort\": 3, \"KreisLang\": \"Kreis 3\", \"QuarSort\": 33, \"QuarLang\": \"Friesenberg\", \"AnzBestWir\": 67}, {\"Nachname\": \"Schmid\", \"KreisSort\": 3, \"KreisLang\": \"Kreis 3\", \"QuarSort\": 33, \"QuarLang\": \"Friesenberg\", \"AnzBestWir\": 51}, {\"Nachname\": \"Meier\", \"KreisSort\": 3, \"KreisLang\": \"Kreis 3\", \"QuarSort\": 33, \"QuarLang\": \"Friesenberg\", \"AnzBestWir\": 43}, {\"Nachname\": \"Keller\", \"KreisSort\": 3, \"KreisLang\": \"Kreis 3\", \"QuarSort\": 33, \"QuarLang\": \"Friesenberg\", \"AnzBestWir\": 37}, {\"Nachname\": \"Weber\", \"KreisSort\": 3, \"KreisLang\": \"Kreis 3\", \"QuarSort\": 33, \"QuarLang\": \"Friesenberg\", \"AnzBestWir\": 35}, {\"Nachname\": \"Fischer\", \"KreisSort\": 3, \"KreisLang\": \"Kreis 3\", \"QuarSort\": 33, \"QuarLang\": \"Friesenberg\", \"AnzBestWir\": 30}, {\"Nachname\": \"Graf\", \"KreisSort\": 3, \"KreisLang\": \"Kreis 3\", \"QuarSort\": 33, \"QuarLang\": \"Friesenberg\", \"AnzBestWir\": 27}, {\"Nachname\": \"Baumann\", \"KreisSort\": 3, \"KreisLang\": \"Kreis 3\", \"QuarSort\": 33, \"QuarLang\": \"Friesenberg\", \"AnzBestWir\": 26}, {\"Nachname\": \"Schneider\", \"KreisSort\": 3, \"KreisLang\": \"Kreis 3\", \"QuarSort\": 33, \"QuarLang\": \"Friesenberg\", \"AnzBestWir\": 26}, {\"Nachname\": \"Huber\", \"KreisSort\": 3, \"KreisLang\": \"Kreis 3\", \"QuarSort\": 33, \"QuarLang\": \"Friesenberg\", \"AnzBestWir\": 26}, {\"Nachname\": \"M\\u00fcller\", \"KreisSort\": 3, \"KreisLang\": \"Kreis 3\", \"QuarSort\": 34, \"QuarLang\": \"Sihlfeld\", \"AnzBestWir\": 147}, {\"Nachname\": \"Schmid\", \"KreisSort\": 3, \"KreisLang\": \"Kreis 3\", \"QuarSort\": 34, \"QuarLang\": \"Sihlfeld\", \"AnzBestWir\": 86}, {\"Nachname\": \"Meier\", \"KreisSort\": 3, \"KreisLang\": \"Kreis 3\", \"QuarSort\": 34, \"QuarLang\": \"Sihlfeld\", \"AnzBestWir\": 80}, {\"Nachname\": \"Keller\", \"KreisSort\": 3, \"KreisLang\": \"Kreis 3\", \"QuarSort\": 34, \"QuarLang\": \"Sihlfeld\", \"AnzBestWir\": 62}, {\"Nachname\": \"Weber\", \"KreisSort\": 3, \"KreisLang\": \"Kreis 3\", \"QuarSort\": 34, \"QuarLang\": \"Sihlfeld\", \"AnzBestWir\": 53}, {\"Nachname\": \"Huber\", \"KreisSort\": 3, \"KreisLang\": \"Kreis 3\", \"QuarSort\": 34, \"QuarLang\": \"Sihlfeld\", \"AnzBestWir\": 51}, {\"Nachname\": \"Fischer\", \"KreisSort\": 3, \"KreisLang\": \"Kreis 3\", \"QuarSort\": 34, \"QuarLang\": \"Sihlfeld\", \"AnzBestWir\": 49}, {\"Nachname\": \"Schneider\", \"KreisSort\": 3, \"KreisLang\": \"Kreis 3\", \"QuarSort\": 34, \"QuarLang\": \"Sihlfeld\", \"AnzBestWir\": 46}, {\"Nachname\": \"Zimmermann\", \"KreisSort\": 3, \"KreisLang\": \"Kreis 3\", \"QuarSort\": 34, \"QuarLang\": \"Sihlfeld\", \"AnzBestWir\": 40}, {\"Nachname\": \"Brunner\", \"KreisSort\": 3, \"KreisLang\": \"Kreis 3\", \"QuarSort\": 34, \"QuarLang\": \"Sihlfeld\", \"AnzBestWir\": 40}, {\"Nachname\": \"Baumann\", \"KreisSort\": 3, \"KreisLang\": \"Kreis 3\", \"QuarSort\": 34, \"QuarLang\": \"Sihlfeld\", \"AnzBestWir\": 38}, {\"Nachname\": \"Frei\", \"KreisSort\": 3, \"KreisLang\": \"Kreis 3\", \"QuarSort\": 34, \"QuarLang\": \"Sihlfeld\", \"AnzBestWir\": 37}, {\"Nachname\": \"Meyer\", \"KreisSort\": 3, \"KreisLang\": \"Kreis 3\", \"QuarSort\": 34, \"QuarLang\": \"Sihlfeld\", \"AnzBestWir\": 34}, {\"Nachname\": \"Moser\", \"KreisSort\": 3, \"KreisLang\": \"Kreis 3\", \"QuarSort\": 34, \"QuarLang\": \"Sihlfeld\", \"AnzBestWir\": 33}, {\"Nachname\": \"Steiner\", \"KreisSort\": 3, \"KreisLang\": \"Kreis 3\", \"QuarSort\": 34, \"QuarLang\": \"Sihlfeld\", \"AnzBestWir\": 30}, {\"Nachname\": \"Sutter\", \"KreisSort\": 3, \"KreisLang\": \"Kreis 3\", \"QuarSort\": 34, \"QuarLang\": \"Sihlfeld\", \"AnzBestWir\": 29}, {\"Nachname\": \"Bachmann\", \"KreisSort\": 3, \"KreisLang\": \"Kreis 3\", \"QuarSort\": 34, \"QuarLang\": \"Sihlfeld\", \"AnzBestWir\": 29}, {\"Nachname\": \"Schmidt\", \"KreisSort\": 3, \"KreisLang\": \"Kreis 3\", \"QuarSort\": 34, \"QuarLang\": \"Sihlfeld\", \"AnzBestWir\": 28}, {\"Nachname\": \"Widmer\", \"KreisSort\": 3, \"KreisLang\": \"Kreis 3\", \"QuarSort\": 34, \"QuarLang\": \"Sihlfeld\", \"AnzBestWir\": 27}, {\"Nachname\": \"Graf\", \"KreisSort\": 3, \"KreisLang\": \"Kreis 3\", \"QuarSort\": 34, \"QuarLang\": \"Sihlfeld\", \"AnzBestWir\": 27}, {\"Nachname\": \"M\\u00fcller\", \"KreisSort\": 4, \"KreisLang\": \"Kreis 4\", \"QuarSort\": 42, \"QuarLang\": \"Langstrasse\", \"AnzBestWir\": 85}, {\"Nachname\": \"Meier\", \"KreisSort\": 4, \"KreisLang\": \"Kreis 4\", \"QuarSort\": 42, \"QuarLang\": \"Langstrasse\", \"AnzBestWir\": 41}, {\"Nachname\": \"Weber\", \"KreisSort\": 4, \"KreisLang\": \"Kreis 4\", \"QuarSort\": 42, \"QuarLang\": \"Langstrasse\", \"AnzBestWir\": 39}, {\"Nachname\": \"Keller\", \"KreisSort\": 4, \"KreisLang\": \"Kreis 4\", \"QuarSort\": 42, \"QuarLang\": \"Langstrasse\", \"AnzBestWir\": 38}, {\"Nachname\": \"Schmid\", \"KreisSort\": 4, \"KreisLang\": \"Kreis 4\", \"QuarSort\": 42, \"QuarLang\": \"Langstrasse\", \"AnzBestWir\": 31}, {\"Nachname\": \"Huber\", \"KreisSort\": 4, \"KreisLang\": \"Kreis 4\", \"QuarSort\": 42, \"QuarLang\": \"Langstrasse\", \"AnzBestWir\": 31}, {\"Nachname\": \"Schneider\", \"KreisSort\": 4, \"KreisLang\": \"Kreis 4\", \"QuarSort\": 42, \"QuarLang\": \"Langstrasse\", \"AnzBestWir\": 28}, {\"Nachname\": \"M\\u00fcller\", \"KreisSort\": 4, \"KreisLang\": \"Kreis 4\", \"QuarSort\": 44, \"QuarLang\": \"Hard\", \"AnzBestWir\": 67}, {\"Nachname\": \"Meier\", \"KreisSort\": 4, \"KreisLang\": \"Kreis 4\", \"QuarSort\": 44, \"QuarLang\": \"Hard\", \"AnzBestWir\": 47}, {\"Nachname\": \"Weber\", \"KreisSort\": 4, \"KreisLang\": \"Kreis 4\", \"QuarSort\": 44, \"QuarLang\": \"Hard\", \"AnzBestWir\": 44}, {\"Nachname\": \"Keller\", \"KreisSort\": 4, \"KreisLang\": \"Kreis 4\", \"QuarSort\": 44, \"QuarLang\": \"Hard\", \"AnzBestWir\": 32}, {\"Nachname\": \"Schmid\", \"KreisSort\": 4, \"KreisLang\": \"Kreis 4\", \"QuarSort\": 44, \"QuarLang\": \"Hard\", \"AnzBestWir\": 31}, {\"Nachname\": \"Graf\", \"KreisSort\": 4, \"KreisLang\": \"Kreis 4\", \"QuarSort\": 44, \"QuarLang\": \"Hard\", \"AnzBestWir\": 28}, {\"Nachname\": \"Huber\", \"KreisSort\": 4, \"KreisLang\": \"Kreis 4\", \"QuarSort\": 44, \"QuarLang\": \"Hard\", \"AnzBestWir\": 26}, {\"Nachname\": \"M\\u00fcller\", \"KreisSort\": 5, \"KreisLang\": \"Kreis 5\", \"QuarSort\": 51, \"QuarLang\": \"Gewerbeschule\", \"AnzBestWir\": 61}, {\"Nachname\": \"Meier\", \"KreisSort\": 5, \"KreisLang\": \"Kreis 5\", \"QuarSort\": 51, \"QuarLang\": \"Gewerbeschule\", \"AnzBestWir\": 40}, {\"Nachname\": \"Keller\", \"KreisSort\": 5, \"KreisLang\": \"Kreis 5\", \"QuarSort\": 51, \"QuarLang\": \"Gewerbeschule\", \"AnzBestWir\": 30}, {\"Nachname\": \"Huber\", \"KreisSort\": 5, \"KreisLang\": \"Kreis 5\", \"QuarSort\": 51, \"QuarLang\": \"Gewerbeschule\", \"AnzBestWir\": 27}, {\"Nachname\": \"Schmid\", \"KreisSort\": 5, \"KreisLang\": \"Kreis 5\", \"QuarSort\": 52, \"QuarLang\": \"Escher Wyss\", \"AnzBestWir\": 46}, {\"Nachname\": \"M\\u00fcller\", \"KreisSort\": 5, \"KreisLang\": \"Kreis 5\", \"QuarSort\": 52, \"QuarLang\": \"Escher Wyss\", \"AnzBestWir\": 46}, {\"Nachname\": \"Meier\", \"KreisSort\": 5, \"KreisLang\": \"Kreis 5\", \"QuarSort\": 52, \"QuarLang\": \"Escher Wyss\", \"AnzBestWir\": 29}, {\"Nachname\": \"M\\u00fcller\", \"KreisSort\": 6, \"KreisLang\": \"Kreis 6\", \"QuarSort\": 61, \"QuarLang\": \"Unterstrass\", \"AnzBestWir\": 161}, {\"Nachname\": \"Meier\", \"KreisSort\": 6, \"KreisLang\": \"Kreis 6\", \"QuarSort\": 61, \"QuarLang\": \"Unterstrass\", \"AnzBestWir\": 107}, {\"Nachname\": \"Schmid\", \"KreisSort\": 6, \"KreisLang\": \"Kreis 6\", \"QuarSort\": 61, \"QuarLang\": \"Unterstrass\", \"AnzBestWir\": 121}, {\"Nachname\": \"Huber\", \"KreisSort\": 6, \"KreisLang\": \"Kreis 6\", \"QuarSort\": 61, \"QuarLang\": \"Unterstrass\", \"AnzBestWir\": 76}, {\"Nachname\": \"Keller\", \"KreisSort\": 6, \"KreisLang\": \"Kreis 6\", \"QuarSort\": 61, \"QuarLang\": \"Unterstrass\", \"AnzBestWir\": 79}, {\"Nachname\": \"Meyer\", \"KreisSort\": 6, \"KreisLang\": \"Kreis 6\", \"QuarSort\": 61, \"QuarLang\": \"Unterstrass\", \"AnzBestWir\": 63}, {\"Nachname\": \"Baumann\", \"KreisSort\": 6, \"KreisLang\": \"Kreis 6\", \"QuarSort\": 61, \"QuarLang\": \"Unterstrass\", \"AnzBestWir\": 69}, {\"Nachname\": \"Fischer\", \"KreisSort\": 6, \"KreisLang\": \"Kreis 6\", \"QuarSort\": 61, \"QuarLang\": \"Unterstrass\", \"AnzBestWir\": 51}, {\"Nachname\": \"Weber\", \"KreisSort\": 6, \"KreisLang\": \"Kreis 6\", \"QuarSort\": 61, \"QuarLang\": \"Unterstrass\", \"AnzBestWir\": 63}, {\"Nachname\": \"Schneider\", \"KreisSort\": 6, \"KreisLang\": \"Kreis 6\", \"QuarSort\": 61, \"QuarLang\": \"Unterstrass\", \"AnzBestWir\": 45}, {\"Nachname\": \"Frei\", \"KreisSort\": 6, \"KreisLang\": \"Kreis 6\", \"QuarSort\": 61, \"QuarLang\": \"Unterstrass\", \"AnzBestWir\": 48}, {\"Nachname\": \"Roth\", \"KreisSort\": 6, \"KreisLang\": \"Kreis 6\", \"QuarSort\": 61, \"QuarLang\": \"Unterstrass\", \"AnzBestWir\": 42}, {\"Nachname\": \"Widmer\", \"KreisSort\": 6, \"KreisLang\": \"Kreis 6\", \"QuarSort\": 61, \"QuarLang\": \"Unterstrass\", \"AnzBestWir\": 43}, {\"Nachname\": \"Zimmermann\", \"KreisSort\": 6, \"KreisLang\": \"Kreis 6\", \"QuarSort\": 61, \"QuarLang\": \"Unterstrass\", \"AnzBestWir\": 39}, {\"Nachname\": \"Graf\", \"KreisSort\": 6, \"KreisLang\": \"Kreis 6\", \"QuarSort\": 61, \"QuarLang\": \"Unterstrass\", \"AnzBestWir\": 41}, {\"Nachname\": \"Baumgartner\", \"KreisSort\": 6, \"KreisLang\": \"Kreis 6\", \"QuarSort\": 61, \"QuarLang\": \"Unterstrass\", \"AnzBestWir\": 39}, {\"Nachname\": \"Frey\", \"KreisSort\": 6, \"KreisLang\": \"Kreis 6\", \"QuarSort\": 61, \"QuarLang\": \"Unterstrass\", \"AnzBestWir\": 39}, {\"Nachname\": \"Brunner\", \"KreisSort\": 6, \"KreisLang\": \"Kreis 6\", \"QuarSort\": 61, \"QuarLang\": \"Unterstrass\", \"AnzBestWir\": 38}, {\"Nachname\": \"Steiner\", \"KreisSort\": 6, \"KreisLang\": \"Kreis 6\", \"QuarSort\": 61, \"QuarLang\": \"Unterstrass\", \"AnzBestWir\": 38}, {\"Nachname\": \"Kunz\", \"KreisSort\": 6, \"KreisLang\": \"Kreis 6\", \"QuarSort\": 61, \"QuarLang\": \"Unterstrass\", \"AnzBestWir\": 36}, {\"Nachname\": \"B\\u00fchler\", \"KreisSort\": 6, \"KreisLang\": \"Kreis 6\", \"QuarSort\": 61, \"QuarLang\": \"Unterstrass\", \"AnzBestWir\": 36}, {\"Nachname\": \"Koller\", \"KreisSort\": 6, \"KreisLang\": \"Kreis 6\", \"QuarSort\": 61, \"QuarLang\": \"Unterstrass\", \"AnzBestWir\": 34}, {\"Nachname\": \"Kaufmann\", \"KreisSort\": 6, \"KreisLang\": \"Kreis 6\", \"QuarSort\": 61, \"QuarLang\": \"Unterstrass\", \"AnzBestWir\": 35}, {\"Nachname\": \"Suter\", \"KreisSort\": 6, \"KreisLang\": \"Kreis 6\", \"QuarSort\": 61, \"QuarLang\": \"Unterstrass\", \"AnzBestWir\": 34}, {\"Nachname\": \"Vogel\", \"KreisSort\": 6, \"KreisLang\": \"Kreis 6\", \"QuarSort\": 61, \"QuarLang\": \"Unterstrass\", \"AnzBestWir\": 34}, {\"Nachname\": \"Moser\", \"KreisSort\": 6, \"KreisLang\": \"Kreis 6\", \"QuarSort\": 61, \"QuarLang\": \"Unterstrass\", \"AnzBestWir\": 33}, {\"Nachname\": \"Hess\", \"KreisSort\": 6, \"KreisLang\": \"Kreis 6\", \"QuarSort\": 61, \"QuarLang\": \"Unterstrass\", \"AnzBestWir\": 33}, {\"Nachname\": \"Bosshard\", \"KreisSort\": 6, \"KreisLang\": \"Kreis 6\", \"QuarSort\": 61, \"QuarLang\": \"Unterstrass\", \"AnzBestWir\": 32}, {\"Nachname\": \"Gerber\", \"KreisSort\": 6, \"KreisLang\": \"Kreis 6\", \"QuarSort\": 61, \"QuarLang\": \"Unterstrass\", \"AnzBestWir\": 33}, {\"Nachname\": \"Bachmann\", \"KreisSort\": 6, \"KreisLang\": \"Kreis 6\", \"QuarSort\": 61, \"QuarLang\": \"Unterstrass\", \"AnzBestWir\": 31}, {\"Nachname\": \"Peter\", \"KreisSort\": 6, \"KreisLang\": \"Kreis 6\", \"QuarSort\": 61, \"QuarLang\": \"Unterstrass\", \"AnzBestWir\": 31}, {\"Nachname\": \"Gasser\", \"KreisSort\": 6, \"KreisLang\": \"Kreis 6\", \"QuarSort\": 61, \"QuarLang\": \"Unterstrass\", \"AnzBestWir\": 30}, {\"Nachname\": \"Hofmann\", \"KreisSort\": 6, \"KreisLang\": \"Kreis 6\", \"QuarSort\": 61, \"QuarLang\": \"Unterstrass\", \"AnzBestWir\": 30}, {\"Nachname\": \"Wyss\", \"KreisSort\": 6, \"KreisLang\": \"Kreis 6\", \"QuarSort\": 61, \"QuarLang\": \"Unterstrass\", \"AnzBestWir\": 29}, {\"Nachname\": \"Koch\", \"KreisSort\": 6, \"KreisLang\": \"Kreis 6\", \"QuarSort\": 61, \"QuarLang\": \"Unterstrass\", \"AnzBestWir\": 30}, {\"Nachname\": \"Pfister\", \"KreisSort\": 6, \"KreisLang\": \"Kreis 6\", \"QuarSort\": 61, \"QuarLang\": \"Unterstrass\", \"AnzBestWir\": 28}, {\"Nachname\": \"Tobler\", \"KreisSort\": 6, \"KreisLang\": \"Kreis 6\", \"QuarSort\": 61, \"QuarLang\": \"Unterstrass\", \"AnzBestWir\": 28}, {\"Nachname\": \"Studer\", \"KreisSort\": 6, \"KreisLang\": \"Kreis 6\", \"QuarSort\": 61, \"QuarLang\": \"Unterstrass\", \"AnzBestWir\": 28}, {\"Nachname\": \"Portmann\", \"KreisSort\": 6, \"KreisLang\": \"Kreis 6\", \"QuarSort\": 61, \"QuarLang\": \"Unterstrass\", \"AnzBestWir\": 28}, {\"Nachname\": \"Wehrli\", \"KreisSort\": 6, \"KreisLang\": \"Kreis 6\", \"QuarSort\": 61, \"QuarLang\": \"Unterstrass\", \"AnzBestWir\": 27}, {\"Nachname\": \"Bucher\", \"KreisSort\": 6, \"KreisLang\": \"Kreis 6\", \"QuarSort\": 61, \"QuarLang\": \"Unterstrass\", \"AnzBestWir\": 27}, {\"Nachname\": \"Stalder\", \"KreisSort\": 6, \"KreisLang\": \"Kreis 6\", \"QuarSort\": 61, \"QuarLang\": \"Unterstrass\", \"AnzBestWir\": 26}, {\"Nachname\": \"Schmid\", \"KreisSort\": 6, \"KreisLang\": \"Kreis 6\", \"QuarSort\": 63, \"QuarLang\": \"Oberstrass\", \"AnzBestWir\": 49}, {\"Nachname\": \"M\\u00fcller\", \"KreisSort\": 6, \"KreisLang\": \"Kreis 6\", \"QuarSort\": 63, \"QuarLang\": \"Oberstrass\", \"AnzBestWir\": 73}, {\"Nachname\": \"Weber\", \"KreisSort\": 6, \"KreisLang\": \"Kreis 6\", \"QuarSort\": 63, \"QuarLang\": \"Oberstrass\", \"AnzBestWir\": 42}, {\"Nachname\": \"Meier\", \"KreisSort\": 6, \"KreisLang\": \"Kreis 6\", \"QuarSort\": 63, \"QuarLang\": \"Oberstrass\", \"AnzBestWir\": 46}, {\"Nachname\": \"Keller\", \"KreisSort\": 6, \"KreisLang\": \"Kreis 6\", \"QuarSort\": 63, \"QuarLang\": \"Oberstrass\", \"AnzBestWir\": 36}, {\"Nachname\": \"Meyer\", \"KreisSort\": 6, \"KreisLang\": \"Kreis 6\", \"QuarSort\": 63, \"QuarLang\": \"Oberstrass\", \"AnzBestWir\": 39}, {\"Nachname\": \"Steiner\", \"KreisSort\": 6, \"KreisLang\": \"Kreis 6\", \"QuarSort\": 63, \"QuarLang\": \"Oberstrass\", \"AnzBestWir\": 26}, {\"Nachname\": \"Huber\", \"KreisSort\": 6, \"KreisLang\": \"Kreis 6\", \"QuarSort\": 63, \"QuarLang\": \"Oberstrass\", \"AnzBestWir\": 35}, {\"Nachname\": \"Fischer\", \"KreisSort\": 6, \"KreisLang\": \"Kreis 6\", \"QuarSort\": 63, \"QuarLang\": \"Oberstrass\", \"AnzBestWir\": 26}]}}, {\"mode\": \"vega-lite\"});\n",
       "</script>"
      ],
      "text/plain": [
       "alt.LayerChart(...)"
      ]
     },
     "execution_count": 18,
     "metadata": {},
     "output_type": "execute_result"
    }
   ],
   "source": [
    "# df_statzonen = df_statzonen[(df_statzonen.knr>0) & (df_statzonen.qname!=\"Hirslanden\")]\n",
    "#aktuellesJahr[[aktuellesJahr.KreisSort =7]])\n",
    "\n",
    "myGraphic=data2betested[(data2betested.QuarSort>29)&(data2betested.QuarSort<70)&(data2betested.AnzBestWir>25)&(data2betested.Nachname != \"Andere\")]\n",
    "\n",
    "highlight = alt.selection(type='single', on='mouseover',\n",
    "                          fields=['QuarLang'], nearest=True)\n",
    "#x='date:StichtagDatJahr',\n",
    "base = alt.Chart(myGraphic).encode(\n",
    "    x='Nachname',\n",
    "    y='AnzBestWir',\n",
    "    color='QuarLang'\n",
    ")\n",
    "\n",
    "points = base.mark_circle().encode(\n",
    "    opacity=alt.value(0.75)\n",
    ").add_selection(\n",
    "    highlight\n",
    ").properties(\n",
    "    width=700 , height=500\n",
    ")\n",
    "lines = base.mark_line().encode(\n",
    "    size=alt.condition(~highlight, alt.value(1.5), alt.value(4))\n",
    ").interactive()\n",
    "\n",
    "points + lines"
   ]
  },
  {
   "cell_type": "code",
   "execution_count": 19,
   "metadata": {},
   "outputs": [
    {
     "data": {
      "text/html": [
       "\n",
       "<div id=\"altair-viz-492390d72688496994ff56f28deed32c\"></div>\n",
       "<script type=\"text/javascript\">\n",
       "  (function(spec, embedOpt){\n",
       "    let outputDiv = document.currentScript.previousElementSibling;\n",
       "    if (outputDiv.id !== \"altair-viz-492390d72688496994ff56f28deed32c\") {\n",
       "      outputDiv = document.getElementById(\"altair-viz-492390d72688496994ff56f28deed32c\");\n",
       "    }\n",
       "    const paths = {\n",
       "      \"vega\": \"https://cdn.jsdelivr.net/npm//vega@5?noext\",\n",
       "      \"vega-lib\": \"https://cdn.jsdelivr.net/npm//vega-lib?noext\",\n",
       "      \"vega-lite\": \"https://cdn.jsdelivr.net/npm//vega-lite@4.8.1?noext\",\n",
       "      \"vega-embed\": \"https://cdn.jsdelivr.net/npm//vega-embed@6?noext\",\n",
       "    };\n",
       "\n",
       "    function loadScript(lib) {\n",
       "      return new Promise(function(resolve, reject) {\n",
       "        var s = document.createElement('script');\n",
       "        s.src = paths[lib];\n",
       "        s.async = true;\n",
       "        s.onload = () => resolve(paths[lib]);\n",
       "        s.onerror = () => reject(`Error loading script: ${paths[lib]}`);\n",
       "        document.getElementsByTagName(\"head\")[0].appendChild(s);\n",
       "      });\n",
       "    }\n",
       "\n",
       "    function showError(err) {\n",
       "      outputDiv.innerHTML = `<div class=\"error\" style=\"color:red;\">${err}</div>`;\n",
       "      throw err;\n",
       "    }\n",
       "\n",
       "    function displayChart(vegaEmbed) {\n",
       "      vegaEmbed(outputDiv, spec, embedOpt)\n",
       "        .catch(err => showError(`Javascript Error: ${err.message}<br>This usually means there's a typo in your chart specification. See the javascript console for the full traceback.`));\n",
       "    }\n",
       "\n",
       "    if(typeof define === \"function\" && define.amd) {\n",
       "      requirejs.config({paths});\n",
       "      require([\"vega-embed\"], displayChart, err => showError(`Error loading script: ${err.message}`));\n",
       "    } else if (typeof vegaEmbed === \"function\") {\n",
       "      displayChart(vegaEmbed);\n",
       "    } else {\n",
       "      loadScript(\"vega\")\n",
       "        .then(() => loadScript(\"vega-lite\"))\n",
       "        .then(() => loadScript(\"vega-embed\"))\n",
       "        .catch(showError)\n",
       "        .then(() => displayChart(vegaEmbed));\n",
       "    }\n",
       "  })({\"config\": {\"view\": {\"continuousWidth\": 400, \"continuousHeight\": 300}}, \"data\": {\"name\": \"data-319a51efaaf249533ee82bb3578efb1d\"}, \"mark\": {\"type\": \"circle\", \"size\": 60}, \"encoding\": {\"color\": {\"type\": \"nominal\", \"field\": \"QuarLang\"}, \"tooltip\": [{\"type\": \"nominal\", \"field\": \"QuarLang\"}, {\"type\": \"nominal\", \"field\": \"Nachname\"}, {\"type\": \"quantitative\", \"field\": \"AnzBestWir\"}], \"x\": {\"type\": \"nominal\", \"field\": \"Nachname\"}, \"y\": {\"type\": \"quantitative\", \"field\": \"AnzBestWir\"}}, \"selection\": {\"selector003\": {\"type\": \"interval\", \"bind\": \"scales\", \"encodings\": [\"x\", \"y\"]}}, \"$schema\": \"https://vega.github.io/schema/vega-lite/v4.8.1.json\", \"datasets\": {\"data-319a51efaaf249533ee82bb3578efb1d\": [{\"Nachname\": \"M\\u00fcller\", \"KreisSort\": 3, \"KreisLang\": \"Kreis 3\", \"QuarSort\": 31, \"QuarLang\": \"Alt-Wiedikon\", \"AnzBestWir\": 97}, {\"Nachname\": \"Meier\", \"KreisSort\": 3, \"KreisLang\": \"Kreis 3\", \"QuarSort\": 31, \"QuarLang\": \"Alt-Wiedikon\", \"AnzBestWir\": 65}, {\"Nachname\": \"Schmid\", \"KreisSort\": 3, \"KreisLang\": \"Kreis 3\", \"QuarSort\": 31, \"QuarLang\": \"Alt-Wiedikon\", \"AnzBestWir\": 63}, {\"Nachname\": \"Keller\", \"KreisSort\": 3, \"KreisLang\": \"Kreis 3\", \"QuarSort\": 31, \"QuarLang\": \"Alt-Wiedikon\", \"AnzBestWir\": 63}, {\"Nachname\": \"Meyer\", \"KreisSort\": 3, \"KreisLang\": \"Kreis 3\", \"QuarSort\": 31, \"QuarLang\": \"Alt-Wiedikon\", \"AnzBestWir\": 45}, {\"Nachname\": \"Schneider\", \"KreisSort\": 3, \"KreisLang\": \"Kreis 3\", \"QuarSort\": 31, \"QuarLang\": \"Alt-Wiedikon\", \"AnzBestWir\": 44}, {\"Nachname\": \"Bollag\", \"KreisSort\": 3, \"KreisLang\": \"Kreis 3\", \"QuarSort\": 31, \"QuarLang\": \"Alt-Wiedikon\", \"AnzBestWir\": 38}, {\"Nachname\": \"Zimmermann\", \"KreisSort\": 3, \"KreisLang\": \"Kreis 3\", \"QuarSort\": 31, \"QuarLang\": \"Alt-Wiedikon\", \"AnzBestWir\": 37}, {\"Nachname\": \"Graf\", \"KreisSort\": 3, \"KreisLang\": \"Kreis 3\", \"QuarSort\": 31, \"QuarLang\": \"Alt-Wiedikon\", \"AnzBestWir\": 35}, {\"Nachname\": \"Huber\", \"KreisSort\": 3, \"KreisLang\": \"Kreis 3\", \"QuarSort\": 31, \"QuarLang\": \"Alt-Wiedikon\", \"AnzBestWir\": 35}, {\"Nachname\": \"Weber\", \"KreisSort\": 3, \"KreisLang\": \"Kreis 3\", \"QuarSort\": 31, \"QuarLang\": \"Alt-Wiedikon\", \"AnzBestWir\": 35}, {\"Nachname\": \"Fischer\", \"KreisSort\": 3, \"KreisLang\": \"Kreis 3\", \"QuarSort\": 31, \"QuarLang\": \"Alt-Wiedikon\", \"AnzBestWir\": 33}, {\"Nachname\": \"Mosbacher\", \"KreisSort\": 3, \"KreisLang\": \"Kreis 3\", \"QuarSort\": 31, \"QuarLang\": \"Alt-Wiedikon\", \"AnzBestWir\": 32}, {\"Nachname\": \"Rhein\", \"KreisSort\": 3, \"KreisLang\": \"Kreis 3\", \"QuarSort\": 31, \"QuarLang\": \"Alt-Wiedikon\", \"AnzBestWir\": 27}, {\"Nachname\": \"Pfister\", \"KreisSort\": 3, \"KreisLang\": \"Kreis 3\", \"QuarSort\": 31, \"QuarLang\": \"Alt-Wiedikon\", \"AnzBestWir\": 27}, {\"Nachname\": \"Steiner\", \"KreisSort\": 3, \"KreisLang\": \"Kreis 3\", \"QuarSort\": 31, \"QuarLang\": \"Alt-Wiedikon\", \"AnzBestWir\": 26}, {\"Nachname\": \"Beck\", \"KreisSort\": 3, \"KreisLang\": \"Kreis 3\", \"QuarSort\": 31, \"QuarLang\": \"Alt-Wiedikon\", \"AnzBestWir\": 26}, {\"Nachname\": \"M\\u00fcller\", \"KreisSort\": 3, \"KreisLang\": \"Kreis 3\", \"QuarSort\": 33, \"QuarLang\": \"Friesenberg\", \"AnzBestWir\": 67}, {\"Nachname\": \"Schmid\", \"KreisSort\": 3, \"KreisLang\": \"Kreis 3\", \"QuarSort\": 33, \"QuarLang\": \"Friesenberg\", \"AnzBestWir\": 51}, {\"Nachname\": \"Meier\", \"KreisSort\": 3, \"KreisLang\": \"Kreis 3\", \"QuarSort\": 33, \"QuarLang\": \"Friesenberg\", \"AnzBestWir\": 43}, {\"Nachname\": \"Keller\", \"KreisSort\": 3, \"KreisLang\": \"Kreis 3\", \"QuarSort\": 33, \"QuarLang\": \"Friesenberg\", \"AnzBestWir\": 37}, {\"Nachname\": \"Weber\", \"KreisSort\": 3, \"KreisLang\": \"Kreis 3\", \"QuarSort\": 33, \"QuarLang\": \"Friesenberg\", \"AnzBestWir\": 35}, {\"Nachname\": \"Fischer\", \"KreisSort\": 3, \"KreisLang\": \"Kreis 3\", \"QuarSort\": 33, \"QuarLang\": \"Friesenberg\", \"AnzBestWir\": 30}, {\"Nachname\": \"Graf\", \"KreisSort\": 3, \"KreisLang\": \"Kreis 3\", \"QuarSort\": 33, \"QuarLang\": \"Friesenberg\", \"AnzBestWir\": 27}, {\"Nachname\": \"Baumann\", \"KreisSort\": 3, \"KreisLang\": \"Kreis 3\", \"QuarSort\": 33, \"QuarLang\": \"Friesenberg\", \"AnzBestWir\": 26}, {\"Nachname\": \"Schneider\", \"KreisSort\": 3, \"KreisLang\": \"Kreis 3\", \"QuarSort\": 33, \"QuarLang\": \"Friesenberg\", \"AnzBestWir\": 26}, {\"Nachname\": \"Huber\", \"KreisSort\": 3, \"KreisLang\": \"Kreis 3\", \"QuarSort\": 33, \"QuarLang\": \"Friesenberg\", \"AnzBestWir\": 26}, {\"Nachname\": \"M\\u00fcller\", \"KreisSort\": 3, \"KreisLang\": \"Kreis 3\", \"QuarSort\": 34, \"QuarLang\": \"Sihlfeld\", \"AnzBestWir\": 147}, {\"Nachname\": \"Schmid\", \"KreisSort\": 3, \"KreisLang\": \"Kreis 3\", \"QuarSort\": 34, \"QuarLang\": \"Sihlfeld\", \"AnzBestWir\": 86}, {\"Nachname\": \"Meier\", \"KreisSort\": 3, \"KreisLang\": \"Kreis 3\", \"QuarSort\": 34, \"QuarLang\": \"Sihlfeld\", \"AnzBestWir\": 80}, {\"Nachname\": \"Keller\", \"KreisSort\": 3, \"KreisLang\": \"Kreis 3\", \"QuarSort\": 34, \"QuarLang\": \"Sihlfeld\", \"AnzBestWir\": 62}, {\"Nachname\": \"Weber\", \"KreisSort\": 3, \"KreisLang\": \"Kreis 3\", \"QuarSort\": 34, \"QuarLang\": \"Sihlfeld\", \"AnzBestWir\": 53}, {\"Nachname\": \"Huber\", \"KreisSort\": 3, \"KreisLang\": \"Kreis 3\", \"QuarSort\": 34, \"QuarLang\": \"Sihlfeld\", \"AnzBestWir\": 51}, {\"Nachname\": \"Fischer\", \"KreisSort\": 3, \"KreisLang\": \"Kreis 3\", \"QuarSort\": 34, \"QuarLang\": \"Sihlfeld\", \"AnzBestWir\": 49}, {\"Nachname\": \"Schneider\", \"KreisSort\": 3, \"KreisLang\": \"Kreis 3\", \"QuarSort\": 34, \"QuarLang\": \"Sihlfeld\", \"AnzBestWir\": 46}, {\"Nachname\": \"Zimmermann\", \"KreisSort\": 3, \"KreisLang\": \"Kreis 3\", \"QuarSort\": 34, \"QuarLang\": \"Sihlfeld\", \"AnzBestWir\": 40}, {\"Nachname\": \"Brunner\", \"KreisSort\": 3, \"KreisLang\": \"Kreis 3\", \"QuarSort\": 34, \"QuarLang\": \"Sihlfeld\", \"AnzBestWir\": 40}, {\"Nachname\": \"Baumann\", \"KreisSort\": 3, \"KreisLang\": \"Kreis 3\", \"QuarSort\": 34, \"QuarLang\": \"Sihlfeld\", \"AnzBestWir\": 38}, {\"Nachname\": \"Frei\", \"KreisSort\": 3, \"KreisLang\": \"Kreis 3\", \"QuarSort\": 34, \"QuarLang\": \"Sihlfeld\", \"AnzBestWir\": 37}, {\"Nachname\": \"Meyer\", \"KreisSort\": 3, \"KreisLang\": \"Kreis 3\", \"QuarSort\": 34, \"QuarLang\": \"Sihlfeld\", \"AnzBestWir\": 34}, {\"Nachname\": \"Moser\", \"KreisSort\": 3, \"KreisLang\": \"Kreis 3\", \"QuarSort\": 34, \"QuarLang\": \"Sihlfeld\", \"AnzBestWir\": 33}, {\"Nachname\": \"Steiner\", \"KreisSort\": 3, \"KreisLang\": \"Kreis 3\", \"QuarSort\": 34, \"QuarLang\": \"Sihlfeld\", \"AnzBestWir\": 30}, {\"Nachname\": \"Sutter\", \"KreisSort\": 3, \"KreisLang\": \"Kreis 3\", \"QuarSort\": 34, \"QuarLang\": \"Sihlfeld\", \"AnzBestWir\": 29}, {\"Nachname\": \"Bachmann\", \"KreisSort\": 3, \"KreisLang\": \"Kreis 3\", \"QuarSort\": 34, \"QuarLang\": \"Sihlfeld\", \"AnzBestWir\": 29}, {\"Nachname\": \"Schmidt\", \"KreisSort\": 3, \"KreisLang\": \"Kreis 3\", \"QuarSort\": 34, \"QuarLang\": \"Sihlfeld\", \"AnzBestWir\": 28}, {\"Nachname\": \"Widmer\", \"KreisSort\": 3, \"KreisLang\": \"Kreis 3\", \"QuarSort\": 34, \"QuarLang\": \"Sihlfeld\", \"AnzBestWir\": 27}, {\"Nachname\": \"Graf\", \"KreisSort\": 3, \"KreisLang\": \"Kreis 3\", \"QuarSort\": 34, \"QuarLang\": \"Sihlfeld\", \"AnzBestWir\": 27}, {\"Nachname\": \"M\\u00fcller\", \"KreisSort\": 4, \"KreisLang\": \"Kreis 4\", \"QuarSort\": 42, \"QuarLang\": \"Langstrasse\", \"AnzBestWir\": 85}, {\"Nachname\": \"Meier\", \"KreisSort\": 4, \"KreisLang\": \"Kreis 4\", \"QuarSort\": 42, \"QuarLang\": \"Langstrasse\", \"AnzBestWir\": 41}, {\"Nachname\": \"Weber\", \"KreisSort\": 4, \"KreisLang\": \"Kreis 4\", \"QuarSort\": 42, \"QuarLang\": \"Langstrasse\", \"AnzBestWir\": 39}, {\"Nachname\": \"Keller\", \"KreisSort\": 4, \"KreisLang\": \"Kreis 4\", \"QuarSort\": 42, \"QuarLang\": \"Langstrasse\", \"AnzBestWir\": 38}, {\"Nachname\": \"Schmid\", \"KreisSort\": 4, \"KreisLang\": \"Kreis 4\", \"QuarSort\": 42, \"QuarLang\": \"Langstrasse\", \"AnzBestWir\": 31}, {\"Nachname\": \"Huber\", \"KreisSort\": 4, \"KreisLang\": \"Kreis 4\", \"QuarSort\": 42, \"QuarLang\": \"Langstrasse\", \"AnzBestWir\": 31}, {\"Nachname\": \"Schneider\", \"KreisSort\": 4, \"KreisLang\": \"Kreis 4\", \"QuarSort\": 42, \"QuarLang\": \"Langstrasse\", \"AnzBestWir\": 28}, {\"Nachname\": \"M\\u00fcller\", \"KreisSort\": 4, \"KreisLang\": \"Kreis 4\", \"QuarSort\": 44, \"QuarLang\": \"Hard\", \"AnzBestWir\": 67}, {\"Nachname\": \"Meier\", \"KreisSort\": 4, \"KreisLang\": \"Kreis 4\", \"QuarSort\": 44, \"QuarLang\": \"Hard\", \"AnzBestWir\": 47}, {\"Nachname\": \"Weber\", \"KreisSort\": 4, \"KreisLang\": \"Kreis 4\", \"QuarSort\": 44, \"QuarLang\": \"Hard\", \"AnzBestWir\": 44}, {\"Nachname\": \"Keller\", \"KreisSort\": 4, \"KreisLang\": \"Kreis 4\", \"QuarSort\": 44, \"QuarLang\": \"Hard\", \"AnzBestWir\": 32}, {\"Nachname\": \"Schmid\", \"KreisSort\": 4, \"KreisLang\": \"Kreis 4\", \"QuarSort\": 44, \"QuarLang\": \"Hard\", \"AnzBestWir\": 31}, {\"Nachname\": \"Graf\", \"KreisSort\": 4, \"KreisLang\": \"Kreis 4\", \"QuarSort\": 44, \"QuarLang\": \"Hard\", \"AnzBestWir\": 28}, {\"Nachname\": \"Huber\", \"KreisSort\": 4, \"KreisLang\": \"Kreis 4\", \"QuarSort\": 44, \"QuarLang\": \"Hard\", \"AnzBestWir\": 26}, {\"Nachname\": \"M\\u00fcller\", \"KreisSort\": 5, \"KreisLang\": \"Kreis 5\", \"QuarSort\": 51, \"QuarLang\": \"Gewerbeschule\", \"AnzBestWir\": 61}, {\"Nachname\": \"Meier\", \"KreisSort\": 5, \"KreisLang\": \"Kreis 5\", \"QuarSort\": 51, \"QuarLang\": \"Gewerbeschule\", \"AnzBestWir\": 40}, {\"Nachname\": \"Keller\", \"KreisSort\": 5, \"KreisLang\": \"Kreis 5\", \"QuarSort\": 51, \"QuarLang\": \"Gewerbeschule\", \"AnzBestWir\": 30}, {\"Nachname\": \"Huber\", \"KreisSort\": 5, \"KreisLang\": \"Kreis 5\", \"QuarSort\": 51, \"QuarLang\": \"Gewerbeschule\", \"AnzBestWir\": 27}, {\"Nachname\": \"Schmid\", \"KreisSort\": 5, \"KreisLang\": \"Kreis 5\", \"QuarSort\": 52, \"QuarLang\": \"Escher Wyss\", \"AnzBestWir\": 46}, {\"Nachname\": \"M\\u00fcller\", \"KreisSort\": 5, \"KreisLang\": \"Kreis 5\", \"QuarSort\": 52, \"QuarLang\": \"Escher Wyss\", \"AnzBestWir\": 46}, {\"Nachname\": \"Meier\", \"KreisSort\": 5, \"KreisLang\": \"Kreis 5\", \"QuarSort\": 52, \"QuarLang\": \"Escher Wyss\", \"AnzBestWir\": 29}, {\"Nachname\": \"M\\u00fcller\", \"KreisSort\": 6, \"KreisLang\": \"Kreis 6\", \"QuarSort\": 61, \"QuarLang\": \"Unterstrass\", \"AnzBestWir\": 161}, {\"Nachname\": \"Meier\", \"KreisSort\": 6, \"KreisLang\": \"Kreis 6\", \"QuarSort\": 61, \"QuarLang\": \"Unterstrass\", \"AnzBestWir\": 107}, {\"Nachname\": \"Schmid\", \"KreisSort\": 6, \"KreisLang\": \"Kreis 6\", \"QuarSort\": 61, \"QuarLang\": \"Unterstrass\", \"AnzBestWir\": 121}, {\"Nachname\": \"Huber\", \"KreisSort\": 6, \"KreisLang\": \"Kreis 6\", \"QuarSort\": 61, \"QuarLang\": \"Unterstrass\", \"AnzBestWir\": 76}, {\"Nachname\": \"Keller\", \"KreisSort\": 6, \"KreisLang\": \"Kreis 6\", \"QuarSort\": 61, \"QuarLang\": \"Unterstrass\", \"AnzBestWir\": 79}, {\"Nachname\": \"Meyer\", \"KreisSort\": 6, \"KreisLang\": \"Kreis 6\", \"QuarSort\": 61, \"QuarLang\": \"Unterstrass\", \"AnzBestWir\": 63}, {\"Nachname\": \"Baumann\", \"KreisSort\": 6, \"KreisLang\": \"Kreis 6\", \"QuarSort\": 61, \"QuarLang\": \"Unterstrass\", \"AnzBestWir\": 69}, {\"Nachname\": \"Fischer\", \"KreisSort\": 6, \"KreisLang\": \"Kreis 6\", \"QuarSort\": 61, \"QuarLang\": \"Unterstrass\", \"AnzBestWir\": 51}, {\"Nachname\": \"Weber\", \"KreisSort\": 6, \"KreisLang\": \"Kreis 6\", \"QuarSort\": 61, \"QuarLang\": \"Unterstrass\", \"AnzBestWir\": 63}, {\"Nachname\": \"Schneider\", \"KreisSort\": 6, \"KreisLang\": \"Kreis 6\", \"QuarSort\": 61, \"QuarLang\": \"Unterstrass\", \"AnzBestWir\": 45}, {\"Nachname\": \"Frei\", \"KreisSort\": 6, \"KreisLang\": \"Kreis 6\", \"QuarSort\": 61, \"QuarLang\": \"Unterstrass\", \"AnzBestWir\": 48}, {\"Nachname\": \"Roth\", \"KreisSort\": 6, \"KreisLang\": \"Kreis 6\", \"QuarSort\": 61, \"QuarLang\": \"Unterstrass\", \"AnzBestWir\": 42}, {\"Nachname\": \"Widmer\", \"KreisSort\": 6, \"KreisLang\": \"Kreis 6\", \"QuarSort\": 61, \"QuarLang\": \"Unterstrass\", \"AnzBestWir\": 43}, {\"Nachname\": \"Zimmermann\", \"KreisSort\": 6, \"KreisLang\": \"Kreis 6\", \"QuarSort\": 61, \"QuarLang\": \"Unterstrass\", \"AnzBestWir\": 39}, {\"Nachname\": \"Graf\", \"KreisSort\": 6, \"KreisLang\": \"Kreis 6\", \"QuarSort\": 61, \"QuarLang\": \"Unterstrass\", \"AnzBestWir\": 41}, {\"Nachname\": \"Baumgartner\", \"KreisSort\": 6, \"KreisLang\": \"Kreis 6\", \"QuarSort\": 61, \"QuarLang\": \"Unterstrass\", \"AnzBestWir\": 39}, {\"Nachname\": \"Frey\", \"KreisSort\": 6, \"KreisLang\": \"Kreis 6\", \"QuarSort\": 61, \"QuarLang\": \"Unterstrass\", \"AnzBestWir\": 39}, {\"Nachname\": \"Brunner\", \"KreisSort\": 6, \"KreisLang\": \"Kreis 6\", \"QuarSort\": 61, \"QuarLang\": \"Unterstrass\", \"AnzBestWir\": 38}, {\"Nachname\": \"Steiner\", \"KreisSort\": 6, \"KreisLang\": \"Kreis 6\", \"QuarSort\": 61, \"QuarLang\": \"Unterstrass\", \"AnzBestWir\": 38}, {\"Nachname\": \"Kunz\", \"KreisSort\": 6, \"KreisLang\": \"Kreis 6\", \"QuarSort\": 61, \"QuarLang\": \"Unterstrass\", \"AnzBestWir\": 36}, {\"Nachname\": \"B\\u00fchler\", \"KreisSort\": 6, \"KreisLang\": \"Kreis 6\", \"QuarSort\": 61, \"QuarLang\": \"Unterstrass\", \"AnzBestWir\": 36}, {\"Nachname\": \"Koller\", \"KreisSort\": 6, \"KreisLang\": \"Kreis 6\", \"QuarSort\": 61, \"QuarLang\": \"Unterstrass\", \"AnzBestWir\": 34}, {\"Nachname\": \"Kaufmann\", \"KreisSort\": 6, \"KreisLang\": \"Kreis 6\", \"QuarSort\": 61, \"QuarLang\": \"Unterstrass\", \"AnzBestWir\": 35}, {\"Nachname\": \"Suter\", \"KreisSort\": 6, \"KreisLang\": \"Kreis 6\", \"QuarSort\": 61, \"QuarLang\": \"Unterstrass\", \"AnzBestWir\": 34}, {\"Nachname\": \"Vogel\", \"KreisSort\": 6, \"KreisLang\": \"Kreis 6\", \"QuarSort\": 61, \"QuarLang\": \"Unterstrass\", \"AnzBestWir\": 34}, {\"Nachname\": \"Moser\", \"KreisSort\": 6, \"KreisLang\": \"Kreis 6\", \"QuarSort\": 61, \"QuarLang\": \"Unterstrass\", \"AnzBestWir\": 33}, {\"Nachname\": \"Hess\", \"KreisSort\": 6, \"KreisLang\": \"Kreis 6\", \"QuarSort\": 61, \"QuarLang\": \"Unterstrass\", \"AnzBestWir\": 33}, {\"Nachname\": \"Bosshard\", \"KreisSort\": 6, \"KreisLang\": \"Kreis 6\", \"QuarSort\": 61, \"QuarLang\": \"Unterstrass\", \"AnzBestWir\": 32}, {\"Nachname\": \"Gerber\", \"KreisSort\": 6, \"KreisLang\": \"Kreis 6\", \"QuarSort\": 61, \"QuarLang\": \"Unterstrass\", \"AnzBestWir\": 33}, {\"Nachname\": \"Bachmann\", \"KreisSort\": 6, \"KreisLang\": \"Kreis 6\", \"QuarSort\": 61, \"QuarLang\": \"Unterstrass\", \"AnzBestWir\": 31}, {\"Nachname\": \"Peter\", \"KreisSort\": 6, \"KreisLang\": \"Kreis 6\", \"QuarSort\": 61, \"QuarLang\": \"Unterstrass\", \"AnzBestWir\": 31}, {\"Nachname\": \"Gasser\", \"KreisSort\": 6, \"KreisLang\": \"Kreis 6\", \"QuarSort\": 61, \"QuarLang\": \"Unterstrass\", \"AnzBestWir\": 30}, {\"Nachname\": \"Hofmann\", \"KreisSort\": 6, \"KreisLang\": \"Kreis 6\", \"QuarSort\": 61, \"QuarLang\": \"Unterstrass\", \"AnzBestWir\": 30}, {\"Nachname\": \"Wyss\", \"KreisSort\": 6, \"KreisLang\": \"Kreis 6\", \"QuarSort\": 61, \"QuarLang\": \"Unterstrass\", \"AnzBestWir\": 29}, {\"Nachname\": \"Koch\", \"KreisSort\": 6, \"KreisLang\": \"Kreis 6\", \"QuarSort\": 61, \"QuarLang\": \"Unterstrass\", \"AnzBestWir\": 30}, {\"Nachname\": \"Pfister\", \"KreisSort\": 6, \"KreisLang\": \"Kreis 6\", \"QuarSort\": 61, \"QuarLang\": \"Unterstrass\", \"AnzBestWir\": 28}, {\"Nachname\": \"Tobler\", \"KreisSort\": 6, \"KreisLang\": \"Kreis 6\", \"QuarSort\": 61, \"QuarLang\": \"Unterstrass\", \"AnzBestWir\": 28}, {\"Nachname\": \"Studer\", \"KreisSort\": 6, \"KreisLang\": \"Kreis 6\", \"QuarSort\": 61, \"QuarLang\": \"Unterstrass\", \"AnzBestWir\": 28}, {\"Nachname\": \"Portmann\", \"KreisSort\": 6, \"KreisLang\": \"Kreis 6\", \"QuarSort\": 61, \"QuarLang\": \"Unterstrass\", \"AnzBestWir\": 28}, {\"Nachname\": \"Wehrli\", \"KreisSort\": 6, \"KreisLang\": \"Kreis 6\", \"QuarSort\": 61, \"QuarLang\": \"Unterstrass\", \"AnzBestWir\": 27}, {\"Nachname\": \"Bucher\", \"KreisSort\": 6, \"KreisLang\": \"Kreis 6\", \"QuarSort\": 61, \"QuarLang\": \"Unterstrass\", \"AnzBestWir\": 27}, {\"Nachname\": \"Stalder\", \"KreisSort\": 6, \"KreisLang\": \"Kreis 6\", \"QuarSort\": 61, \"QuarLang\": \"Unterstrass\", \"AnzBestWir\": 26}, {\"Nachname\": \"Schmid\", \"KreisSort\": 6, \"KreisLang\": \"Kreis 6\", \"QuarSort\": 63, \"QuarLang\": \"Oberstrass\", \"AnzBestWir\": 49}, {\"Nachname\": \"M\\u00fcller\", \"KreisSort\": 6, \"KreisLang\": \"Kreis 6\", \"QuarSort\": 63, \"QuarLang\": \"Oberstrass\", \"AnzBestWir\": 73}, {\"Nachname\": \"Weber\", \"KreisSort\": 6, \"KreisLang\": \"Kreis 6\", \"QuarSort\": 63, \"QuarLang\": \"Oberstrass\", \"AnzBestWir\": 42}, {\"Nachname\": \"Meier\", \"KreisSort\": 6, \"KreisLang\": \"Kreis 6\", \"QuarSort\": 63, \"QuarLang\": \"Oberstrass\", \"AnzBestWir\": 46}, {\"Nachname\": \"Keller\", \"KreisSort\": 6, \"KreisLang\": \"Kreis 6\", \"QuarSort\": 63, \"QuarLang\": \"Oberstrass\", \"AnzBestWir\": 36}, {\"Nachname\": \"Meyer\", \"KreisSort\": 6, \"KreisLang\": \"Kreis 6\", \"QuarSort\": 63, \"QuarLang\": \"Oberstrass\", \"AnzBestWir\": 39}, {\"Nachname\": \"Steiner\", \"KreisSort\": 6, \"KreisLang\": \"Kreis 6\", \"QuarSort\": 63, \"QuarLang\": \"Oberstrass\", \"AnzBestWir\": 26}, {\"Nachname\": \"Huber\", \"KreisSort\": 6, \"KreisLang\": \"Kreis 6\", \"QuarSort\": 63, \"QuarLang\": \"Oberstrass\", \"AnzBestWir\": 35}, {\"Nachname\": \"Fischer\", \"KreisSort\": 6, \"KreisLang\": \"Kreis 6\", \"QuarSort\": 63, \"QuarLang\": \"Oberstrass\", \"AnzBestWir\": 26}]}}, {\"mode\": \"vega-lite\"});\n",
       "</script>"
      ],
      "text/plain": [
       "alt.Chart(...)"
      ]
     },
     "execution_count": 19,
     "metadata": {},
     "output_type": "execute_result"
    }
   ],
   "source": [
    "alt.Chart(myGraphic).mark_circle(size=60).encode(\n",
    "    x='Nachname',\n",
    "    y='AnzBestWir',\n",
    "    color='QuarLang',\n",
    "    tooltip=['QuarLang','Nachname','AnzBestWir']\n",
    ").interactive() # this makes the axes interactive: now you can zoom & pan\n",
    "\n"
   ]
  },
  {
   "cell_type": "code",
   "execution_count": 20,
   "metadata": {},
   "outputs": [
    {
     "data": {
      "image/png": "[encoded data removed]",
      "text/plain": [
       "<Figure size 432x288 with 1 Axes>"
      ]
     },
     "metadata": {},
     "output_type": "display_data"
    }
   ],
   "source": [
    "import seaborn as sns\n",
    "sns.set(style=\"darkgrid\")\n",
    "sns.histplot(data=myGraphic, x=\"QuarLang\", y=\"Nachname\") #, y=\"Nachname\")\n",
    "plt.show();"
   ]
  },
  {
   "cell_type": "markdown",
   "metadata": {},
   "source": [
    "Test: Choroplethenkarte"
   ]
  },
  {
   "cell_type": "markdown",
   "metadata": {},
   "source": [
    "**Test: Choroplethenkarte**\n",
    "Importiere die Geodaten als GeoJSON"
   ]
  },
  {
   "cell_type": "code",
   "execution_count": 21,
   "metadata": {},
   "outputs": [
    {
     "data": {
      "text/html": [
       "<div>\n",
       "<style scoped>\n",
       "    .dataframe tbody tr th:only-of-type {\n",
       "        vertical-align: middle;\n",
       "    }\n",
       "\n",
       "    .dataframe tbody tr th {\n",
       "        vertical-align: top;\n",
       "    }\n",
       "\n",
       "    .dataframe thead th {\n",
       "        text-align: right;\n",
       "    }\n",
       "</style>\n",
       "<table border=\"1\" class=\"dataframe\">\n",
       "  <thead>\n",
       "    <tr style=\"text-align: right;\">\n",
       "      <th></th>\n",
       "      <th>objectid</th>\n",
       "      <th>objid</th>\n",
       "      <th>stznr</th>\n",
       "      <th>stzname</th>\n",
       "      <th>qnr</th>\n",
       "      <th>qname</th>\n",
       "      <th>knr</th>\n",
       "      <th>kname</th>\n",
       "      <th>geometry</th>\n",
       "    </tr>\n",
       "  </thead>\n",
       "  <tbody>\n",
       "    <tr>\n",
       "      <th>0</th>\n",
       "      <td>1</td>\n",
       "      <td>154</td>\n",
       "      <td>7303</td>\n",
       "      <td>Hegibach</td>\n",
       "      <td>73</td>\n",
       "      <td>Hirslanden</td>\n",
       "      <td>7</td>\n",
       "      <td>Kreis 7</td>\n",
       "      <td>POLYGON ((8.55670 47.36407, 8.55670 47.36406, ...</td>\n",
       "    </tr>\n",
       "    <tr>\n",
       "      <th>1</th>\n",
       "      <td>2</td>\n",
       "      <td>89</td>\n",
       "      <td>7302</td>\n",
       "      <td>Klus</td>\n",
       "      <td>73</td>\n",
       "      <td>Hirslanden</td>\n",
       "      <td>7</td>\n",
       "      <td>Kreis 7</td>\n",
       "      <td>POLYGON ((8.57281 47.35806, 8.57274 47.35804, ...</td>\n",
       "    </tr>\n",
       "  </tbody>\n",
       "</table>\n",
       "</div>"
      ],
      "text/plain": [
       "   objectid objid  stznr   stzname  qnr       qname  knr    kname  \\\n",
       "0         1   154   7303  Hegibach   73  Hirslanden    7  Kreis 7   \n",
       "1         2    89   7302      Klus   73  Hirslanden    7  Kreis 7   \n",
       "\n",
       "                                            geometry  \n",
       "0  POLYGON ((8.55670 47.36407, 8.55670 47.36406, ...  \n",
       "1  POLYGON ((8.57281 47.35806, 8.57274 47.35804, ...  "
      ]
     },
     "execution_count": 21,
     "metadata": {},
     "output_type": "execute_result"
    }
   ],
   "source": [
    "# Read abt. Geopandas https://geopandas.org/docs/user_guide/io.html\n",
    "# Filepath statzonen\n",
    "input_statzonen = r\"//szh.loc/ssz/data/GIS/Daten/Vektor/_aktuell/stzh.adm_statzonen_map.json\"\n",
    "df_statzonen = gpd.read_file(input_statzonen)\n",
    "df_statzonen.head(2)\n"
   ]
  },
  {
   "cell_type": "markdown",
   "metadata": {},
   "source": [
    "Joine die importierten statistischen Daten des aktuellen Jahres zum Geodatensatz:\n",
    "\n",
    "*Siehe dazu Doku zu [Geopandas](https://geopandas.org/docs/user_guide/mergingdata.html)*"
   ]
  },
  {
   "cell_type": "markdown",
   "metadata": {},
   "source": [
    "Test, download GeoJSON via WFS"
   ]
  },
  {
   "cell_type": "markdown",
   "metadata": {},
   "source": [
    "Bei Proxy-Problemen --> Skript unter H:\\Dokumente\\myPy\\proxy_settings und mit Anaconda-Prompt laufen lassen."
   ]
  },
  {
   "cell_type": "code",
   "execution_count": 24,
   "metadata": {},
   "outputs": [
    {
     "data": {
      "text/html": [
       "<div>\n",
       "<style scoped>\n",
       "    .dataframe tbody tr th:only-of-type {\n",
       "        vertical-align: middle;\n",
       "    }\n",
       "\n",
       "    .dataframe tbody tr th {\n",
       "        vertical-align: top;\n",
       "    }\n",
       "\n",
       "    .dataframe thead th {\n",
       "        text-align: right;\n",
       "    }\n",
       "</style>\n",
       "<table border=\"1\" class=\"dataframe\">\n",
       "  <thead>\n",
       "    <tr style=\"text-align: right;\">\n",
       "      <th></th>\n",
       "      <th>id</th>\n",
       "      <th>kname</th>\n",
       "      <th>knr</th>\n",
       "      <th>objectid</th>\n",
       "      <th>objid</th>\n",
       "      <th>qname</th>\n",
       "      <th>qnr</th>\n",
       "      <th>geometry</th>\n",
       "    </tr>\n",
       "  </thead>\n",
       "  <tbody>\n",
       "    <tr>\n",
       "      <th>0</th>\n",
       "      <td>adm_statistische_quartiere_map.1</td>\n",
       "      <td>Kreis 7</td>\n",
       "      <td>7</td>\n",
       "      <td>1</td>\n",
       "      <td>34</td>\n",
       "      <td>Hirslanden</td>\n",
       "      <td>73</td>\n",
       "      <td>POLYGON ((8.55670 47.36406, 8.55682 47.36410, ...</td>\n",
       "    </tr>\n",
       "    <tr>\n",
       "      <th>1</th>\n",
       "      <td>adm_statistische_quartiere_map.2</td>\n",
       "      <td>Kreis 8</td>\n",
       "      <td>8</td>\n",
       "      <td>2</td>\n",
       "      <td>33</td>\n",
       "      <td>Weinegg</td>\n",
       "      <td>83</td>\n",
       "      <td>POLYGON ((8.55670 47.36405, 8.55672 47.36403, ...</td>\n",
       "    </tr>\n",
       "    <tr>\n",
       "      <th>2</th>\n",
       "      <td>adm_statistische_quartiere_map.3</td>\n",
       "      <td>Kreis 8</td>\n",
       "      <td>8</td>\n",
       "      <td>3</td>\n",
       "      <td>32</td>\n",
       "      <td>Mühlebach</td>\n",
       "      <td>82</td>\n",
       "      <td>POLYGON ((8.55423 47.36456, 8.55426 47.36452, ...</td>\n",
       "    </tr>\n",
       "    <tr>\n",
       "      <th>3</th>\n",
       "      <td>adm_statistische_quartiere_map.4</td>\n",
       "      <td>Kreis 8</td>\n",
       "      <td>8</td>\n",
       "      <td>4</td>\n",
       "      <td>31</td>\n",
       "      <td>Seefeld</td>\n",
       "      <td>81</td>\n",
       "      <td>POLYGON ((8.54795 47.36500, 8.54805 47.36489, ...</td>\n",
       "    </tr>\n",
       "    <tr>\n",
       "      <th>4</th>\n",
       "      <td>adm_statistische_quartiere_map.7</td>\n",
       "      <td>Kreis 4</td>\n",
       "      <td>4</td>\n",
       "      <td>7</td>\n",
       "      <td>16</td>\n",
       "      <td>Werd</td>\n",
       "      <td>41</td>\n",
       "      <td>POLYGON ((8.53300 47.37394, 8.53299 47.37392, ...</td>\n",
       "    </tr>\n",
       "  </tbody>\n",
       "</table>\n",
       "</div>"
      ],
      "text/plain": [
       "                                 id    kname  knr  objectid objid       qname  qnr  \\\n",
       "0  adm_statistische_quartiere_map.1  Kreis 7    7         1    34  Hirslanden   73   \n",
       "1  adm_statistische_quartiere_map.2  Kreis 8    8         2    33     Weinegg   83   \n",
       "2  adm_statistische_quartiere_map.3  Kreis 8    8         3    32   Mühlebach   82   \n",
       "3  adm_statistische_quartiere_map.4  Kreis 8    8         4    31     Seefeld   81   \n",
       "4  adm_statistische_quartiere_map.7  Kreis 4    4         7    16        Werd   41   \n",
       "\n",
       "                                            geometry  \n",
       "0  POLYGON ((8.55670 47.36406, 8.55682 47.36410, ...  \n",
       "1  POLYGON ((8.55670 47.36405, 8.55672 47.36403, ...  \n",
       "2  POLYGON ((8.55423 47.36456, 8.55426 47.36452, ...  \n",
       "3  POLYGON ((8.54795 47.36500, 8.54805 47.36489, ...  \n",
       "4  POLYGON ((8.53300 47.37394, 8.53299 47.37392, ...  "
      ]
     },
     "execution_count": 24,
     "metadata": {},
     "output_type": "execute_result"
    }
   ],
   "source": [
    "# Read abt. Geopandas https://geopandas.org/docs/user_guide/io.html\n",
    "# url = \"http://d2ad6b4ur7yvpq.cloudfront.net/naturalearth-3.3.0/ne_110m_land.geojson\"\n",
    "# df = geopandas.read_file(url)\n",
    "\n",
    "\n",
    "url = \"https://www.ogd.stadt-zuerich.ch/wfs/geoportal/Statistische_Quartiere?service=WFS&version=1.1.0&request=GetFeature&outputFormat=GeoJSON&typename=adm_statistische_quartiere_map\"\n",
    "df_adm_statistische_quartiere_map = gpd.read_file(url)\n",
    "\n",
    "df_adm_statistische_quartiere_map.head(5)\n"
   ]
  },
  {
   "cell_type": "markdown",
   "metadata": {},
   "source": [
    "#Link https://automating-gis-processes.github.io/site/notebooks/L5/interactive-map-folium.html\n",
    "\n",
    "# Create a Map instance\n",
    "m = folium.Map(location=[60.25, 24.8], tiles = 'cartodbpositron', zoom_start=10, control_scale=True)\n",
    "\n",
    "# Plot a choropleth map\n",
    "# Notice: 'geoid' column that we created earlier needs to be assigned always as the first column\n",
    "folium.Choropleth(\n",
    "    geo_data=data,\n",
    "    name='Population in 2018',\n",
    "    data=data,\n",
    "    columns=['geoid', 'pop18'],\n",
    "    key_on='feature.id',\n",
    "    fill_color='YlOrRd',\n",
    "    fill_opacity=0.7,\n",
    "    line_opacity=0.2,\n",
    "    line_color='white',\n",
    "    line_weight=0,\n",
    "    highlight=False,\n",
    "    smooth_factor=1.0,\n",
    "    #threshold_scale=[100, 250, 500, 1000, 2000],\n",
    "    legend_name= 'Population in Helsinki').add_to(m)\n",
    "\n",
    "#Show map\n",
    "m"
   ]
  },
  {
   "cell_type": "markdown",
   "metadata": {},
   "source": [
    "Noch zu prüfen, folgendes schöne Beispiel: https://docs.bokeh.org/en/latest/docs/user_guide/interaction/legends.html\n",
    "\n",
    "Konkrete Beispiele von Bookeh in Jupyter NB: https://docs.bokeh.org/en/latest/docs/user_guide/jupyter.html"
   ]
  },
  {
   "cell_type": "code",
   "execution_count": null,
   "metadata": {},
   "outputs": [],
   "source": [
    "\n"
   ]
  },
  {
   "cell_type": "code",
   "execution_count": null,
   "metadata": {},
   "outputs": [],
   "source": []
  }
 ],
 "metadata": {
  "kernelspec": {
   "display_name": "Python 3",
   "language": "python",
   "name": "python3"
  },
  "language_info": {
   "codemirror_mode": {
    "name": "ipython",
    "version": 3
   },
   "file_extension": ".py",
   "mimetype": "text/x-python",
   "name": "python",
   "nbconvert_exporter": "python",
   "pygments_lexer": "ipython3",
   "version": "3.8.8"
  }
 },
 "nbformat": 4,
 "nbformat_minor": 4
}
