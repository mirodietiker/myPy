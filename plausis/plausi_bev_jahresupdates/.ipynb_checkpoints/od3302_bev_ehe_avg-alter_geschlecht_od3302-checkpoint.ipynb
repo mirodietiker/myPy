{
 "cells": [
  {
   "cell_type": "markdown",
   "metadata": {},
   "source": [
    "# Testing\n",
    "### Durchschnittliches Alter bei der Erstheirat, nach Geschlecht, seit 1993\n",
    "Datum: 02.11.2021"
   ]
  },
  {
   "cell_type": "markdown",
   "metadata": {},
   "source": [
    "**Importiere die notwendigen Packages**"
   ]
  },
  {
   "cell_type": "code",
   "execution_count": 1,
   "metadata": {},
   "outputs": [],
   "source": [
    "#pip install geopandas fiona requests folium mplleaflet contextily"
   ]
  },
  {
   "cell_type": "code",
   "execution_count": 2,
   "metadata": {},
   "outputs": [],
   "source": [
    "import pandas as pd\n",
    "import pivottablejs\n",
    "from pivottablejs import pivot_ui\n",
    "import numpy as np\n",
    "import altair as alt\n",
    "import matplotlib.pyplot as plt\n",
    "from datetime import datetime\n",
    "import geopandas as gpd\n",
    "import folium \n",
    "\n"
   ]
  },
  {
   "cell_type": "markdown",
   "metadata": {},
   "source": [
    "Definiere Settings. Hier das Zahlenformat von Float-Werten (z.B. *'{:,.2f}'.format* mit Komma als Tausenderzeichen), "
   ]
  },
  {
   "cell_type": "code",
   "execution_count": 3,
   "metadata": {},
   "outputs": [],
   "source": [
    "pd.options.display.float_format = '{:.0f}'.format\n",
    "pd.set_option('display.width', 100)\n",
    "pd.set_option('display.max_columns', 15)"
   ]
  },
  {
   "cell_type": "markdown",
   "metadata": {},
   "source": [
    "Importiere einen Datensatz von der **DWH_INT** Dropzone.\n",
    "\n",
    "- Beachte dabei die Notation des Pfades...\n",
    "- Definiere mal aktuell noch keine weiteren Parameter beim Import"
   ]
  },
  {
   "cell_type": "markdown",
   "metadata": {},
   "source": [
    "**Dataset auf INTEG Datenkatalog**: https://data.integ.stadt-zuerich.ch/dataset/int_dwh_bev_ehe_avg-alter_geschlecht_od3302\n",
    "\n",
    "(int_dwh)"
   ]
  },
  {
   "cell_type": "code",
   "execution_count": 4,
   "metadata": {},
   "outputs": [],
   "source": [
    "# Filepath\n",
    "fp = r\"\\\\szh\\ssz\\applikationen\\OGD_Dropzone\\INT_DWH\\bev_ehe_avg-alter_geschlecht_OD3302\\BEV330OD3302.csv\"\n",
    "\n",
    "\n",
    "# Read the data\n",
    "data2betested = pd.read_csv(\n",
    "    fp, \n",
    "    sep=',',\n",
    "   #usecols=[0,1,2,3,4,6],\n",
    "   #names=['stationid','year','month','avgtemp','latitude','longitude','elevation','station','countryid','country'],\n",
    "   #skiprows=1,\n",
    "   # parse_dates=[0],\n",
    "    parse_dates=True,\n",
    "    #date_parser=lambda x: pd.to_datetime(x, format=\"%Y\"), \n",
    "    #index_col=\"date_time\",\n",
    "    low_memory=False    \n",
    "    )\n"
   ]
  },
  {
   "cell_type": "markdown",
   "metadata": {},
   "source": [
    "In der Folge ein paar erste Tests:"
   ]
  },
  {
   "cell_type": "code",
   "execution_count": 5,
   "metadata": {},
   "outputs": [
    {
     "data": {
      "text/plain": [
       "pandas.core.frame.DataFrame"
      ]
     },
     "execution_count": 5,
     "metadata": {},
     "output_type": "execute_result"
    }
   ],
   "source": [
    "type(data2betested)"
   ]
  },
  {
   "cell_type": "markdown",
   "metadata": {},
   "source": [
    " - 1) Zeige eine kurze Vorschau der importierten Daten\n",
    " - 2) Weise die Datentypen aus\n",
    " - 3) Zeige die Shape (Umfang) des Datensatzes an"
   ]
  },
  {
   "cell_type": "code",
   "execution_count": 6,
   "metadata": {},
   "outputs": [
    {
     "data": {
      "text/html": [
       "<div>\n",
       "<style scoped>\n",
       "    .dataframe tbody tr th:only-of-type {\n",
       "        vertical-align: middle;\n",
       "    }\n",
       "\n",
       "    .dataframe tbody tr th {\n",
       "        vertical-align: top;\n",
       "    }\n",
       "\n",
       "    .dataframe thead th {\n",
       "        text-align: right;\n",
       "    }\n",
       "</style>\n",
       "<table border=\"1\" class=\"dataframe\">\n",
       "  <thead>\n",
       "    <tr style=\"text-align: right;\">\n",
       "      <th></th>\n",
       "      <th>StichtagDatJahr</th>\n",
       "      <th>SexLang</th>\n",
       "      <th>SexCd</th>\n",
       "      <th>DurchAlter</th>\n",
       "    </tr>\n",
       "  </thead>\n",
       "  <tbody>\n",
       "    <tr>\n",
       "      <th>0</th>\n",
       "      <td>1993</td>\n",
       "      <td>weiblich</td>\n",
       "      <td>2</td>\n",
       "      <td>28</td>\n",
       "    </tr>\n",
       "    <tr>\n",
       "      <th>1</th>\n",
       "      <td>1993</td>\n",
       "      <td>männlich</td>\n",
       "      <td>1</td>\n",
       "      <td>30</td>\n",
       "    </tr>\n",
       "    <tr>\n",
       "      <th>2</th>\n",
       "      <td>1994</td>\n",
       "      <td>weiblich</td>\n",
       "      <td>2</td>\n",
       "      <td>27</td>\n",
       "    </tr>\n",
       "  </tbody>\n",
       "</table>\n",
       "</div>"
      ],
      "text/plain": [
       "   StichtagDatJahr   SexLang  SexCd  DurchAlter\n",
       "0             1993  weiblich      2          28\n",
       "1             1993  männlich      1          30\n",
       "2             1994  weiblich      2          27"
      ]
     },
     "execution_count": 6,
     "metadata": {},
     "output_type": "execute_result"
    }
   ],
   "source": [
    "data2betested.head(3)"
   ]
  },
  {
   "cell_type": "code",
   "execution_count": 7,
   "metadata": {},
   "outputs": [
    {
     "data": {
      "text/plain": [
       "StichtagDatJahr      int64\n",
       "SexLang             object\n",
       "SexCd                int64\n",
       "DurchAlter         float64\n",
       "dtype: object"
      ]
     },
     "execution_count": 7,
     "metadata": {},
     "output_type": "execute_result"
    }
   ],
   "source": [
    "data2betested.dtypes"
   ]
  },
  {
   "cell_type": "code",
   "execution_count": 8,
   "metadata": {},
   "outputs": [
    {
     "data": {
      "text/plain": [
       "(56, 4)"
      ]
     },
     "execution_count": 8,
     "metadata": {},
     "output_type": "execute_result"
    }
   ],
   "source": [
    "data2betested.shape"
   ]
  },
  {
   "cell_type": "markdown",
   "metadata": {},
   "source": [
    "Beschreibe einzelne Attribute"
   ]
  },
  {
   "cell_type": "code",
   "execution_count": 9,
   "metadata": {},
   "outputs": [
    {
     "data": {
      "text/html": [
       "<div>\n",
       "<style scoped>\n",
       "    .dataframe tbody tr th:only-of-type {\n",
       "        vertical-align: middle;\n",
       "    }\n",
       "\n",
       "    .dataframe tbody tr th {\n",
       "        vertical-align: top;\n",
       "    }\n",
       "\n",
       "    .dataframe thead th {\n",
       "        text-align: right;\n",
       "    }\n",
       "</style>\n",
       "<table border=\"1\" class=\"dataframe\">\n",
       "  <thead>\n",
       "    <tr style=\"text-align: right;\">\n",
       "      <th></th>\n",
       "      <th>StichtagDatJahr</th>\n",
       "      <th>SexCd</th>\n",
       "      <th>DurchAlter</th>\n",
       "    </tr>\n",
       "  </thead>\n",
       "  <tbody>\n",
       "    <tr>\n",
       "      <th>count</th>\n",
       "      <td>56</td>\n",
       "      <td>56</td>\n",
       "      <td>56</td>\n",
       "    </tr>\n",
       "    <tr>\n",
       "      <th>mean</th>\n",
       "      <td>2006</td>\n",
       "      <td>2</td>\n",
       "      <td>31</td>\n",
       "    </tr>\n",
       "    <tr>\n",
       "      <th>std</th>\n",
       "      <td>8</td>\n",
       "      <td>1</td>\n",
       "      <td>2</td>\n",
       "    </tr>\n",
       "    <tr>\n",
       "      <th>min</th>\n",
       "      <td>1993</td>\n",
       "      <td>1</td>\n",
       "      <td>27</td>\n",
       "    </tr>\n",
       "    <tr>\n",
       "      <th>25%</th>\n",
       "      <td>2000</td>\n",
       "      <td>1</td>\n",
       "      <td>30</td>\n",
       "    </tr>\n",
       "    <tr>\n",
       "      <th>50%</th>\n",
       "      <td>2006</td>\n",
       "      <td>2</td>\n",
       "      <td>31</td>\n",
       "    </tr>\n",
       "    <tr>\n",
       "      <th>75%</th>\n",
       "      <td>2013</td>\n",
       "      <td>2</td>\n",
       "      <td>32</td>\n",
       "    </tr>\n",
       "    <tr>\n",
       "      <th>max</th>\n",
       "      <td>2020</td>\n",
       "      <td>2</td>\n",
       "      <td>34</td>\n",
       "    </tr>\n",
       "  </tbody>\n",
       "</table>\n",
       "</div>"
      ],
      "text/plain": [
       "       StichtagDatJahr  SexCd  DurchAlter\n",
       "count               56     56          56\n",
       "mean              2006      2          31\n",
       "std                  8      1           2\n",
       "min               1993      1          27\n",
       "25%               2000      1          30\n",
       "50%               2006      2          31\n",
       "75%               2013      2          32\n",
       "max               2020      2          34"
      ]
     },
     "execution_count": 9,
     "metadata": {},
     "output_type": "execute_result"
    }
   ],
   "source": [
    "data2betested.describe()"
   ]
  },
  {
   "cell_type": "markdown",
   "metadata": {},
   "source": [
    "Wie viele Nullwerte gibt es im Datensatz?"
   ]
  },
  {
   "cell_type": "code",
   "execution_count": 10,
   "metadata": {
    "scrolled": true
   },
   "outputs": [
    {
     "data": {
      "text/plain": [
       "StichtagDatJahr    0\n",
       "SexLang            0\n",
       "SexCd              0\n",
       "DurchAlter         0\n",
       "dtype: int64"
      ]
     },
     "execution_count": 10,
     "metadata": {},
     "output_type": "execute_result"
    }
   ],
   "source": [
    "data2betested.isnull().sum()"
   ]
  },
  {
   "cell_type": "markdown",
   "metadata": {},
   "source": [
    "Wandle die Spalte Jahr von Int zu **Datetime** um. Dies wird in den meisten Grafiken so benötigt."
   ]
  },
  {
   "cell_type": "code",
   "execution_count": 11,
   "metadata": {
    "scrolled": true
   },
   "outputs": [
    {
     "data": {
      "text/html": [
       "<div>\n",
       "<style scoped>\n",
       "    .dataframe tbody tr th:only-of-type {\n",
       "        vertical-align: middle;\n",
       "    }\n",
       "\n",
       "    .dataframe tbody tr th {\n",
       "        vertical-align: top;\n",
       "    }\n",
       "\n",
       "    .dataframe thead th {\n",
       "        text-align: right;\n",
       "    }\n",
       "</style>\n",
       "<table border=\"1\" class=\"dataframe\">\n",
       "  <thead>\n",
       "    <tr style=\"text-align: right;\">\n",
       "      <th></th>\n",
       "      <th>StichtagDatJahr</th>\n",
       "      <th>SexLang</th>\n",
       "      <th>SexCd</th>\n",
       "      <th>DurchAlter</th>\n",
       "    </tr>\n",
       "  </thead>\n",
       "  <tbody>\n",
       "    <tr>\n",
       "      <th>0</th>\n",
       "      <td>1993-01-01</td>\n",
       "      <td>weiblich</td>\n",
       "      <td>2</td>\n",
       "      <td>28</td>\n",
       "    </tr>\n",
       "    <tr>\n",
       "      <th>1</th>\n",
       "      <td>1993-01-01</td>\n",
       "      <td>männlich</td>\n",
       "      <td>1</td>\n",
       "      <td>30</td>\n",
       "    </tr>\n",
       "    <tr>\n",
       "      <th>2</th>\n",
       "      <td>1994-01-01</td>\n",
       "      <td>weiblich</td>\n",
       "      <td>2</td>\n",
       "      <td>27</td>\n",
       "    </tr>\n",
       "    <tr>\n",
       "      <th>3</th>\n",
       "      <td>1994-01-01</td>\n",
       "      <td>männlich</td>\n",
       "      <td>1</td>\n",
       "      <td>30</td>\n",
       "    </tr>\n",
       "    <tr>\n",
       "      <th>4</th>\n",
       "      <td>1995-01-01</td>\n",
       "      <td>weiblich</td>\n",
       "      <td>2</td>\n",
       "      <td>28</td>\n",
       "    </tr>\n",
       "    <tr>\n",
       "      <th>5</th>\n",
       "      <td>1995-01-01</td>\n",
       "      <td>männlich</td>\n",
       "      <td>1</td>\n",
       "      <td>30</td>\n",
       "    </tr>\n",
       "    <tr>\n",
       "      <th>6</th>\n",
       "      <td>1996-01-01</td>\n",
       "      <td>weiblich</td>\n",
       "      <td>2</td>\n",
       "      <td>27</td>\n",
       "    </tr>\n",
       "    <tr>\n",
       "      <th>7</th>\n",
       "      <td>1996-01-01</td>\n",
       "      <td>männlich</td>\n",
       "      <td>1</td>\n",
       "      <td>30</td>\n",
       "    </tr>\n",
       "    <tr>\n",
       "      <th>8</th>\n",
       "      <td>1997-01-01</td>\n",
       "      <td>weiblich</td>\n",
       "      <td>2</td>\n",
       "      <td>28</td>\n",
       "    </tr>\n",
       "    <tr>\n",
       "      <th>9</th>\n",
       "      <td>1997-01-01</td>\n",
       "      <td>männlich</td>\n",
       "      <td>1</td>\n",
       "      <td>30</td>\n",
       "    </tr>\n",
       "    <tr>\n",
       "      <th>10</th>\n",
       "      <td>1998-01-01</td>\n",
       "      <td>weiblich</td>\n",
       "      <td>2</td>\n",
       "      <td>28</td>\n",
       "    </tr>\n",
       "    <tr>\n",
       "      <th>11</th>\n",
       "      <td>1998-01-01</td>\n",
       "      <td>männlich</td>\n",
       "      <td>1</td>\n",
       "      <td>30</td>\n",
       "    </tr>\n",
       "    <tr>\n",
       "      <th>12</th>\n",
       "      <td>1999-01-01</td>\n",
       "      <td>weiblich</td>\n",
       "      <td>2</td>\n",
       "      <td>28</td>\n",
       "    </tr>\n",
       "    <tr>\n",
       "      <th>13</th>\n",
       "      <td>1999-01-01</td>\n",
       "      <td>männlich</td>\n",
       "      <td>1</td>\n",
       "      <td>31</td>\n",
       "    </tr>\n",
       "    <tr>\n",
       "      <th>14</th>\n",
       "      <td>2000-01-01</td>\n",
       "      <td>weiblich</td>\n",
       "      <td>2</td>\n",
       "      <td>28</td>\n",
       "    </tr>\n",
       "    <tr>\n",
       "      <th>15</th>\n",
       "      <td>2000-01-01</td>\n",
       "      <td>männlich</td>\n",
       "      <td>1</td>\n",
       "      <td>31</td>\n",
       "    </tr>\n",
       "    <tr>\n",
       "      <th>16</th>\n",
       "      <td>2001-01-01</td>\n",
       "      <td>weiblich</td>\n",
       "      <td>2</td>\n",
       "      <td>28</td>\n",
       "    </tr>\n",
       "    <tr>\n",
       "      <th>17</th>\n",
       "      <td>2001-01-01</td>\n",
       "      <td>männlich</td>\n",
       "      <td>1</td>\n",
       "      <td>31</td>\n",
       "    </tr>\n",
       "    <tr>\n",
       "      <th>18</th>\n",
       "      <td>2002-01-01</td>\n",
       "      <td>weiblich</td>\n",
       "      <td>2</td>\n",
       "      <td>29</td>\n",
       "    </tr>\n",
       "    <tr>\n",
       "      <th>19</th>\n",
       "      <td>2002-01-01</td>\n",
       "      <td>männlich</td>\n",
       "      <td>1</td>\n",
       "      <td>31</td>\n",
       "    </tr>\n",
       "    <tr>\n",
       "      <th>20</th>\n",
       "      <td>2003-01-01</td>\n",
       "      <td>weiblich</td>\n",
       "      <td>2</td>\n",
       "      <td>29</td>\n",
       "    </tr>\n",
       "    <tr>\n",
       "      <th>21</th>\n",
       "      <td>2003-01-01</td>\n",
       "      <td>männlich</td>\n",
       "      <td>1</td>\n",
       "      <td>31</td>\n",
       "    </tr>\n",
       "    <tr>\n",
       "      <th>22</th>\n",
       "      <td>2004-01-01</td>\n",
       "      <td>weiblich</td>\n",
       "      <td>2</td>\n",
       "      <td>29</td>\n",
       "    </tr>\n",
       "    <tr>\n",
       "      <th>23</th>\n",
       "      <td>2004-01-01</td>\n",
       "      <td>männlich</td>\n",
       "      <td>1</td>\n",
       "      <td>32</td>\n",
       "    </tr>\n",
       "    <tr>\n",
       "      <th>24</th>\n",
       "      <td>2005-01-01</td>\n",
       "      <td>weiblich</td>\n",
       "      <td>2</td>\n",
       "      <td>30</td>\n",
       "    </tr>\n",
       "    <tr>\n",
       "      <th>25</th>\n",
       "      <td>2005-01-01</td>\n",
       "      <td>männlich</td>\n",
       "      <td>1</td>\n",
       "      <td>32</td>\n",
       "    </tr>\n",
       "    <tr>\n",
       "      <th>26</th>\n",
       "      <td>2006-01-01</td>\n",
       "      <td>weiblich</td>\n",
       "      <td>2</td>\n",
       "      <td>30</td>\n",
       "    </tr>\n",
       "    <tr>\n",
       "      <th>27</th>\n",
       "      <td>2006-01-01</td>\n",
       "      <td>männlich</td>\n",
       "      <td>1</td>\n",
       "      <td>32</td>\n",
       "    </tr>\n",
       "    <tr>\n",
       "      <th>28</th>\n",
       "      <td>2007-01-01</td>\n",
       "      <td>weiblich</td>\n",
       "      <td>2</td>\n",
       "      <td>30</td>\n",
       "    </tr>\n",
       "    <tr>\n",
       "      <th>29</th>\n",
       "      <td>2007-01-01</td>\n",
       "      <td>männlich</td>\n",
       "      <td>1</td>\n",
       "      <td>32</td>\n",
       "    </tr>\n",
       "    <tr>\n",
       "      <th>30</th>\n",
       "      <td>2008-01-01</td>\n",
       "      <td>weiblich</td>\n",
       "      <td>2</td>\n",
       "      <td>30</td>\n",
       "    </tr>\n",
       "    <tr>\n",
       "      <th>31</th>\n",
       "      <td>2008-01-01</td>\n",
       "      <td>männlich</td>\n",
       "      <td>1</td>\n",
       "      <td>33</td>\n",
       "    </tr>\n",
       "    <tr>\n",
       "      <th>32</th>\n",
       "      <td>2009-01-01</td>\n",
       "      <td>weiblich</td>\n",
       "      <td>2</td>\n",
       "      <td>31</td>\n",
       "    </tr>\n",
       "    <tr>\n",
       "      <th>33</th>\n",
       "      <td>2009-01-01</td>\n",
       "      <td>männlich</td>\n",
       "      <td>1</td>\n",
       "      <td>33</td>\n",
       "    </tr>\n",
       "    <tr>\n",
       "      <th>34</th>\n",
       "      <td>2010-01-01</td>\n",
       "      <td>weiblich</td>\n",
       "      <td>2</td>\n",
       "      <td>31</td>\n",
       "    </tr>\n",
       "    <tr>\n",
       "      <th>35</th>\n",
       "      <td>2010-01-01</td>\n",
       "      <td>männlich</td>\n",
       "      <td>1</td>\n",
       "      <td>33</td>\n",
       "    </tr>\n",
       "    <tr>\n",
       "      <th>36</th>\n",
       "      <td>2011-01-01</td>\n",
       "      <td>weiblich</td>\n",
       "      <td>2</td>\n",
       "      <td>31</td>\n",
       "    </tr>\n",
       "    <tr>\n",
       "      <th>37</th>\n",
       "      <td>2011-01-01</td>\n",
       "      <td>männlich</td>\n",
       "      <td>1</td>\n",
       "      <td>33</td>\n",
       "    </tr>\n",
       "    <tr>\n",
       "      <th>38</th>\n",
       "      <td>2012-01-01</td>\n",
       "      <td>weiblich</td>\n",
       "      <td>2</td>\n",
       "      <td>31</td>\n",
       "    </tr>\n",
       "    <tr>\n",
       "      <th>39</th>\n",
       "      <td>2012-01-01</td>\n",
       "      <td>männlich</td>\n",
       "      <td>1</td>\n",
       "      <td>33</td>\n",
       "    </tr>\n",
       "    <tr>\n",
       "      <th>40</th>\n",
       "      <td>2013-01-01</td>\n",
       "      <td>weiblich</td>\n",
       "      <td>2</td>\n",
       "      <td>31</td>\n",
       "    </tr>\n",
       "    <tr>\n",
       "      <th>41</th>\n",
       "      <td>2013-01-01</td>\n",
       "      <td>männlich</td>\n",
       "      <td>1</td>\n",
       "      <td>34</td>\n",
       "    </tr>\n",
       "    <tr>\n",
       "      <th>42</th>\n",
       "      <td>2014-01-01</td>\n",
       "      <td>weiblich</td>\n",
       "      <td>2</td>\n",
       "      <td>31</td>\n",
       "    </tr>\n",
       "    <tr>\n",
       "      <th>43</th>\n",
       "      <td>2014-01-01</td>\n",
       "      <td>männlich</td>\n",
       "      <td>1</td>\n",
       "      <td>34</td>\n",
       "    </tr>\n",
       "    <tr>\n",
       "      <th>44</th>\n",
       "      <td>2015-01-01</td>\n",
       "      <td>weiblich</td>\n",
       "      <td>2</td>\n",
       "      <td>31</td>\n",
       "    </tr>\n",
       "    <tr>\n",
       "      <th>45</th>\n",
       "      <td>2015-01-01</td>\n",
       "      <td>männlich</td>\n",
       "      <td>1</td>\n",
       "      <td>34</td>\n",
       "    </tr>\n",
       "    <tr>\n",
       "      <th>46</th>\n",
       "      <td>2016-01-01</td>\n",
       "      <td>weiblich</td>\n",
       "      <td>2</td>\n",
       "      <td>31</td>\n",
       "    </tr>\n",
       "    <tr>\n",
       "      <th>47</th>\n",
       "      <td>2016-01-01</td>\n",
       "      <td>männlich</td>\n",
       "      <td>1</td>\n",
       "      <td>34</td>\n",
       "    </tr>\n",
       "    <tr>\n",
       "      <th>48</th>\n",
       "      <td>2017-01-01</td>\n",
       "      <td>weiblich</td>\n",
       "      <td>2</td>\n",
       "      <td>32</td>\n",
       "    </tr>\n",
       "    <tr>\n",
       "      <th>49</th>\n",
       "      <td>2017-01-01</td>\n",
       "      <td>männlich</td>\n",
       "      <td>1</td>\n",
       "      <td>34</td>\n",
       "    </tr>\n",
       "    <tr>\n",
       "      <th>50</th>\n",
       "      <td>2018-01-01</td>\n",
       "      <td>weiblich</td>\n",
       "      <td>2</td>\n",
       "      <td>32</td>\n",
       "    </tr>\n",
       "    <tr>\n",
       "      <th>51</th>\n",
       "      <td>2018-01-01</td>\n",
       "      <td>männlich</td>\n",
       "      <td>1</td>\n",
       "      <td>34</td>\n",
       "    </tr>\n",
       "    <tr>\n",
       "      <th>52</th>\n",
       "      <td>2019-01-01</td>\n",
       "      <td>weiblich</td>\n",
       "      <td>2</td>\n",
       "      <td>32</td>\n",
       "    </tr>\n",
       "    <tr>\n",
       "      <th>53</th>\n",
       "      <td>2019-01-01</td>\n",
       "      <td>männlich</td>\n",
       "      <td>1</td>\n",
       "      <td>34</td>\n",
       "    </tr>\n",
       "    <tr>\n",
       "      <th>54</th>\n",
       "      <td>2020-01-01</td>\n",
       "      <td>weiblich</td>\n",
       "      <td>2</td>\n",
       "      <td>32</td>\n",
       "    </tr>\n",
       "    <tr>\n",
       "      <th>55</th>\n",
       "      <td>2020-01-01</td>\n",
       "      <td>männlich</td>\n",
       "      <td>1</td>\n",
       "      <td>34</td>\n",
       "    </tr>\n",
       "  </tbody>\n",
       "</table>\n",
       "</div>"
      ],
      "text/plain": [
       "   StichtagDatJahr   SexLang  SexCd  DurchAlter\n",
       "0       1993-01-01  weiblich      2          28\n",
       "1       1993-01-01  männlich      1          30\n",
       "2       1994-01-01  weiblich      2          27\n",
       "3       1994-01-01  männlich      1          30\n",
       "4       1995-01-01  weiblich      2          28\n",
       "5       1995-01-01  männlich      1          30\n",
       "6       1996-01-01  weiblich      2          27\n",
       "7       1996-01-01  männlich      1          30\n",
       "8       1997-01-01  weiblich      2          28\n",
       "9       1997-01-01  männlich      1          30\n",
       "10      1998-01-01  weiblich      2          28\n",
       "11      1998-01-01  männlich      1          30\n",
       "12      1999-01-01  weiblich      2          28\n",
       "13      1999-01-01  männlich      1          31\n",
       "14      2000-01-01  weiblich      2          28\n",
       "15      2000-01-01  männlich      1          31\n",
       "16      2001-01-01  weiblich      2          28\n",
       "17      2001-01-01  männlich      1          31\n",
       "18      2002-01-01  weiblich      2          29\n",
       "19      2002-01-01  männlich      1          31\n",
       "20      2003-01-01  weiblich      2          29\n",
       "21      2003-01-01  männlich      1          31\n",
       "22      2004-01-01  weiblich      2          29\n",
       "23      2004-01-01  männlich      1          32\n",
       "24      2005-01-01  weiblich      2          30\n",
       "25      2005-01-01  männlich      1          32\n",
       "26      2006-01-01  weiblich      2          30\n",
       "27      2006-01-01  männlich      1          32\n",
       "28      2007-01-01  weiblich      2          30\n",
       "29      2007-01-01  männlich      1          32\n",
       "30      2008-01-01  weiblich      2          30\n",
       "31      2008-01-01  männlich      1          33\n",
       "32      2009-01-01  weiblich      2          31\n",
       "33      2009-01-01  männlich      1          33\n",
       "34      2010-01-01  weiblich      2          31\n",
       "35      2010-01-01  männlich      1          33\n",
       "36      2011-01-01  weiblich      2          31\n",
       "37      2011-01-01  männlich      1          33\n",
       "38      2012-01-01  weiblich      2          31\n",
       "39      2012-01-01  männlich      1          33\n",
       "40      2013-01-01  weiblich      2          31\n",
       "41      2013-01-01  männlich      1          34\n",
       "42      2014-01-01  weiblich      2          31\n",
       "43      2014-01-01  männlich      1          34\n",
       "44      2015-01-01  weiblich      2          31\n",
       "45      2015-01-01  männlich      1          34\n",
       "46      2016-01-01  weiblich      2          31\n",
       "47      2016-01-01  männlich      1          34\n",
       "48      2017-01-01  weiblich      2          32\n",
       "49      2017-01-01  männlich      1          34\n",
       "50      2018-01-01  weiblich      2          32\n",
       "51      2018-01-01  männlich      1          34\n",
       "52      2019-01-01  weiblich      2          32\n",
       "53      2019-01-01  männlich      1          34\n",
       "54      2020-01-01  weiblich      2          32\n",
       "55      2020-01-01  männlich      1          34"
      ]
     },
     "execution_count": 11,
     "metadata": {},
     "output_type": "execute_result"
    }
   ],
   "source": [
    "data2betested['StichtagDatJahr']=pd.to_datetime(data2betested['StichtagDatJahr'], format='%Y')\n",
    "\n",
    "#TO DO --> setze das Datum auf den 31.12. der Jahres.\n",
    "#test=data2betested[['StichtagDatJahr']].date().replace(month=12, day=31)\n",
    "\n",
    "data2betested"
   ]
  },
  {
   "cell_type": "markdown",
   "metadata": {},
   "source": [
    "Bereite die Daten für die Grafik unten vor"
   ]
  },
  {
   "cell_type": "code",
   "execution_count": 12,
   "metadata": {},
   "outputs": [
    {
     "data": {
      "text/plain": [
       "28"
      ]
     },
     "execution_count": 12,
     "metadata": {},
     "output_type": "execute_result"
    }
   ],
   "source": [
    "Jahre = data2betested.groupby(\"StichtagDatJahr\")\n",
    "len(Jahre)"
   ]
  },
  {
   "cell_type": "code",
   "execution_count": 13,
   "metadata": {},
   "outputs": [
    {
     "name": "stdout",
     "output_type": "stream",
     "text": [
      "1993-01-01 00:00:00 2\n",
      "1994-01-01 00:00:00 2\n",
      "1995-01-01 00:00:00 2\n",
      "1996-01-01 00:00:00 2\n",
      "1997-01-01 00:00:00 2\n",
      "1998-01-01 00:00:00 2\n",
      "1999-01-01 00:00:00 2\n",
      "2000-01-01 00:00:00 2\n",
      "2001-01-01 00:00:00 2\n",
      "2002-01-01 00:00:00 2\n",
      "2003-01-01 00:00:00 2\n",
      "2004-01-01 00:00:00 2\n",
      "2005-01-01 00:00:00 2\n",
      "2006-01-01 00:00:00 2\n",
      "2007-01-01 00:00:00 2\n",
      "2008-01-01 00:00:00 2\n",
      "2009-01-01 00:00:00 2\n",
      "2010-01-01 00:00:00 2\n",
      "2011-01-01 00:00:00 2\n",
      "2012-01-01 00:00:00 2\n",
      "2013-01-01 00:00:00 2\n",
      "2014-01-01 00:00:00 2\n",
      "2015-01-01 00:00:00 2\n",
      "2016-01-01 00:00:00 2\n",
      "2017-01-01 00:00:00 2\n",
      "2018-01-01 00:00:00 2\n",
      "2019-01-01 00:00:00 2\n",
      "2020-01-01 00:00:00 2\n"
     ]
    }
   ],
   "source": [
    "for key, group in Jahre:\n",
    "    print(key, len(group))"
   ]
  },
  {
   "cell_type": "code",
   "execution_count": 14,
   "metadata": {},
   "outputs": [
    {
     "data": {
      "text/html": [
       "<div>\n",
       "<style scoped>\n",
       "    .dataframe tbody tr th:only-of-type {\n",
       "        vertical-align: middle;\n",
       "    }\n",
       "\n",
       "    .dataframe tbody tr th {\n",
       "        vertical-align: top;\n",
       "    }\n",
       "\n",
       "    .dataframe thead th {\n",
       "        text-align: right;\n",
       "    }\n",
       "</style>\n",
       "<table border=\"1\" class=\"dataframe\">\n",
       "  <thead>\n",
       "    <tr style=\"text-align: right;\">\n",
       "      <th></th>\n",
       "      <th>StichtagDatJahr</th>\n",
       "      <th>SexLang</th>\n",
       "      <th>SexCd</th>\n",
       "      <th>DurchAlter</th>\n",
       "    </tr>\n",
       "  </thead>\n",
       "  <tbody>\n",
       "    <tr>\n",
       "      <th>54</th>\n",
       "      <td>2020-01-01</td>\n",
       "      <td>weiblich</td>\n",
       "      <td>2</td>\n",
       "      <td>32</td>\n",
       "    </tr>\n",
       "    <tr>\n",
       "      <th>55</th>\n",
       "      <td>2020-01-01</td>\n",
       "      <td>männlich</td>\n",
       "      <td>1</td>\n",
       "      <td>34</td>\n",
       "    </tr>\n",
       "  </tbody>\n",
       "</table>\n",
       "</div>"
      ],
      "text/plain": [
       "   StichtagDatJahr   SexLang  SexCd  DurchAlter\n",
       "54      2020-01-01  weiblich      2          32\n",
       "55      2020-01-01  männlich      1          34"
      ]
     },
     "execution_count": 14,
     "metadata": {},
     "output_type": "execute_result"
    }
   ],
   "source": [
    "myJahr = \"2020-01-01\"\n",
    "aktuellesJahr=Jahre.get_group(myJahr)   \n",
    "aktuellesJahr"
   ]
  },
  {
   "cell_type": "markdown",
   "metadata": {},
   "source": [
    "**Selektionen und Aggregationen**\n",
    "\n",
    "Check this [Doku](https://www.shanelynn.ie/summarising-aggregation-and-grouping-data-in-python-pandas/)"
   ]
  },
  {
   "cell_type": "code",
   "execution_count": 15,
   "metadata": {},
   "outputs": [],
   "source": [
    "#test = data2betested.groupby(['StichtagDatJahr', 'AlterV20Kurz'])[['AnzBestWir']].agg()\n",
    "\n",
    "# produces Pandas Series\n",
    "    #data2betested.groupby(['StichtagDatJahr', 'KonOGDSort'])['AnzBestWir'].sum()\n",
    "# Produces Pandas DataFrame\n",
    "    #data2betested.groupby(['StichtagDatJahr', 'KonOGDSort'])[['AnzBestWir']].sum()\n",
    "    "
   ]
  },
  {
   "cell_type": "markdown",
   "metadata": {},
   "source": [
    "**Einfache Visualisierungen zur Plausi**"
   ]
  },
  {
   "cell_type": "markdown",
   "metadata": {},
   "source": [
    "Exploriere die Daten mit Pivottable.JS"
   ]
  },
  {
   "cell_type": "code",
   "execution_count": 16,
   "metadata": {},
   "outputs": [
    {
     "data": {
      "text/html": [
       "\n",
       "        <iframe\n",
       "            width=\"100%\"\n",
       "            height=\"500\"\n",
       "            src=\"pivottablejs.html\"\n",
       "            frameborder=\"0\"\n",
       "            allowfullscreen\n",
       "        ></iframe>\n",
       "        "
      ],
      "text/plain": [
       "<IPython.lib.display.IFrame at 0x25ccb5ee970>"
      ]
     },
     "execution_count": 16,
     "metadata": {},
     "output_type": "execute_result"
    }
   ],
   "source": [
    "from pivottablejs import pivot_ui\n",
    "\n",
    "pivot_ui(data2betested)"
   ]
  },
  {
   "cell_type": "markdown",
   "metadata": {},
   "source": [
    "Liniendiagramm \n",
    "[Link zur Doku](https://altair-viz.github.io/gallery/multiline_highlight.html)"
   ]
  },
  {
   "cell_type": "code",
   "execution_count": 19,
   "metadata": {},
   "outputs": [
    {
     "data": {
      "text/html": [
       "<div>\n",
       "<style scoped>\n",
       "    .dataframe tbody tr th:only-of-type {\n",
       "        vertical-align: middle;\n",
       "    }\n",
       "\n",
       "    .dataframe tbody tr th {\n",
       "        vertical-align: top;\n",
       "    }\n",
       "\n",
       "    .dataframe thead th {\n",
       "        text-align: right;\n",
       "    }\n",
       "</style>\n",
       "<table border=\"1\" class=\"dataframe\">\n",
       "  <thead>\n",
       "    <tr style=\"text-align: right;\">\n",
       "      <th></th>\n",
       "      <th>StichtagDatJahr</th>\n",
       "      <th>SexLang</th>\n",
       "      <th>SexCd</th>\n",
       "      <th>DurchAlter</th>\n",
       "    </tr>\n",
       "  </thead>\n",
       "  <tbody>\n",
       "    <tr>\n",
       "      <th>0</th>\n",
       "      <td>1993-01-01</td>\n",
       "      <td>weiblich</td>\n",
       "      <td>2</td>\n",
       "      <td>28</td>\n",
       "    </tr>\n",
       "    <tr>\n",
       "      <th>1</th>\n",
       "      <td>1993-01-01</td>\n",
       "      <td>männlich</td>\n",
       "      <td>1</td>\n",
       "      <td>30</td>\n",
       "    </tr>\n",
       "    <tr>\n",
       "      <th>2</th>\n",
       "      <td>1994-01-01</td>\n",
       "      <td>weiblich</td>\n",
       "      <td>2</td>\n",
       "      <td>27</td>\n",
       "    </tr>\n",
       "    <tr>\n",
       "      <th>3</th>\n",
       "      <td>1994-01-01</td>\n",
       "      <td>männlich</td>\n",
       "      <td>1</td>\n",
       "      <td>30</td>\n",
       "    </tr>\n",
       "    <tr>\n",
       "      <th>4</th>\n",
       "      <td>1995-01-01</td>\n",
       "      <td>weiblich</td>\n",
       "      <td>2</td>\n",
       "      <td>28</td>\n",
       "    </tr>\n",
       "  </tbody>\n",
       "</table>\n",
       "</div>"
      ],
      "text/plain": [
       "  StichtagDatJahr   SexLang  SexCd  DurchAlter\n",
       "0      1993-01-01  weiblich      2          28\n",
       "1      1993-01-01  männlich      1          30\n",
       "2      1994-01-01  weiblich      2          27\n",
       "3      1994-01-01  männlich      1          30\n",
       "4      1995-01-01  weiblich      2          28"
      ]
     },
     "execution_count": 19,
     "metadata": {},
     "output_type": "execute_result"
    }
   ],
   "source": [
    "data2betested.head()"
   ]
  },
  {
   "cell_type": "code",
   "execution_count": 20,
   "metadata": {},
   "outputs": [
    {
     "data": {
      "text/html": [
       "\n",
       "<div id=\"altair-viz-5fd70cb366e348a5b0abe6c0df33c781\"></div>\n",
       "<script type=\"text/javascript\">\n",
       "  (function(spec, embedOpt){\n",
       "    let outputDiv = document.currentScript.previousElementSibling;\n",
       "    if (outputDiv.id !== \"altair-viz-5fd70cb366e348a5b0abe6c0df33c781\") {\n",
       "      outputDiv = document.getElementById(\"altair-viz-5fd70cb366e348a5b0abe6c0df33c781\");\n",
       "    }\n",
       "    const paths = {\n",
       "      \"vega\": \"https://cdn.jsdelivr.net/npm//vega@5?noext\",\n",
       "      \"vega-lib\": \"https://cdn.jsdelivr.net/npm//vega-lib?noext\",\n",
       "      \"vega-lite\": \"https://cdn.jsdelivr.net/npm//vega-lite@4.8.1?noext\",\n",
       "      \"vega-embed\": \"https://cdn.jsdelivr.net/npm//vega-embed@6?noext\",\n",
       "    };\n",
       "\n",
       "    function loadScript(lib) {\n",
       "      return new Promise(function(resolve, reject) {\n",
       "        var s = document.createElement('script');\n",
       "        s.src = paths[lib];\n",
       "        s.async = true;\n",
       "        s.onload = () => resolve(paths[lib]);\n",
       "        s.onerror = () => reject(`Error loading script: ${paths[lib]}`);\n",
       "        document.getElementsByTagName(\"head\")[0].appendChild(s);\n",
       "      });\n",
       "    }\n",
       "\n",
       "    function showError(err) {\n",
       "      outputDiv.innerHTML = `<div class=\"error\" style=\"color:red;\">${err}</div>`;\n",
       "      throw err;\n",
       "    }\n",
       "\n",
       "    function displayChart(vegaEmbed) {\n",
       "      vegaEmbed(outputDiv, spec, embedOpt)\n",
       "        .catch(err => showError(`Javascript Error: ${err.message}<br>This usually means there's a typo in your chart specification. See the javascript console for the full traceback.`));\n",
       "    }\n",
       "\n",
       "    if(typeof define === \"function\" && define.amd) {\n",
       "      requirejs.config({paths});\n",
       "      require([\"vega-embed\"], displayChart, err => showError(`Error loading script: ${err.message}`));\n",
       "    } else if (typeof vegaEmbed === \"function\") {\n",
       "      displayChart(vegaEmbed);\n",
       "    } else {\n",
       "      loadScript(\"vega\")\n",
       "        .then(() => loadScript(\"vega-lite\"))\n",
       "        .then(() => loadScript(\"vega-embed\"))\n",
       "        .catch(showError)\n",
       "        .then(() => displayChart(vegaEmbed));\n",
       "    }\n",
       "  })({\"config\": {\"view\": {\"continuousWidth\": 400, \"continuousHeight\": 300}}, \"layer\": [{\"mark\": \"circle\", \"encoding\": {\"color\": {\"type\": \"nominal\", \"field\": \"SexLang\"}, \"opacity\": {\"value\": 2}, \"x\": {\"type\": \"temporal\", \"field\": \"StichtagDatJahr\"}, \"y\": {\"type\": \"quantitative\", \"field\": \"DurchAlter\"}}, \"height\": 300, \"selection\": {\"selector003\": {\"type\": \"single\", \"on\": \"mouseover\", \"fields\": [\"SexLang\"], \"nearest\": true}}, \"width\": 700}, {\"mark\": \"line\", \"encoding\": {\"color\": {\"type\": \"nominal\", \"field\": \"SexLang\"}, \"size\": {\"condition\": {\"value\": 1.5, \"selection\": {\"not\": \"selector003\"}}, \"value\": 4}, \"x\": {\"type\": \"temporal\", \"field\": \"StichtagDatJahr\"}, \"y\": {\"type\": \"quantitative\", \"field\": \"DurchAlter\"}}, \"selection\": {\"selector004\": {\"type\": \"interval\", \"bind\": \"scales\", \"encodings\": [\"x\", \"y\"]}}}], \"data\": {\"name\": \"data-6f637f7f21ca0d3b0299f586c1a539d6\"}, \"$schema\": \"https://vega.github.io/schema/vega-lite/v4.8.1.json\", \"datasets\": {\"data-6f637f7f21ca0d3b0299f586c1a539d6\": [{\"StichtagDatJahr\": \"1993-01-01T00:00:00\", \"SexLang\": \"weiblich\", \"SexCd\": 2, \"DurchAlter\": 27.5}, {\"StichtagDatJahr\": \"1993-01-01T00:00:00\", \"SexLang\": \"m\\u00e4nnlich\", \"SexCd\": 1, \"DurchAlter\": 29.8}, {\"StichtagDatJahr\": \"1994-01-01T00:00:00\", \"SexLang\": \"weiblich\", \"SexCd\": 2, \"DurchAlter\": 27.4}, {\"StichtagDatJahr\": \"1994-01-01T00:00:00\", \"SexLang\": \"m\\u00e4nnlich\", \"SexCd\": 1, \"DurchAlter\": 29.9}, {\"StichtagDatJahr\": \"1995-01-01T00:00:00\", \"SexLang\": \"weiblich\", \"SexCd\": 2, \"DurchAlter\": 27.6}, {\"StichtagDatJahr\": \"1995-01-01T00:00:00\", \"SexLang\": \"m\\u00e4nnlich\", \"SexCd\": 1, \"DurchAlter\": 30.0}, {\"StichtagDatJahr\": \"1996-01-01T00:00:00\", \"SexLang\": \"weiblich\", \"SexCd\": 2, \"DurchAlter\": 27.4}, {\"StichtagDatJahr\": \"1996-01-01T00:00:00\", \"SexLang\": \"m\\u00e4nnlich\", \"SexCd\": 1, \"DurchAlter\": 30.0}, {\"StichtagDatJahr\": \"1997-01-01T00:00:00\", \"SexLang\": \"weiblich\", \"SexCd\": 2, \"DurchAlter\": 27.9}, {\"StichtagDatJahr\": \"1997-01-01T00:00:00\", \"SexLang\": \"m\\u00e4nnlich\", \"SexCd\": 1, \"DurchAlter\": 30.3}, {\"StichtagDatJahr\": \"1998-01-01T00:00:00\", \"SexLang\": \"weiblich\", \"SexCd\": 2, \"DurchAlter\": 28.0}, {\"StichtagDatJahr\": \"1998-01-01T00:00:00\", \"SexLang\": \"m\\u00e4nnlich\", \"SexCd\": 1, \"DurchAlter\": 30.5}, {\"StichtagDatJahr\": \"1999-01-01T00:00:00\", \"SexLang\": \"weiblich\", \"SexCd\": 2, \"DurchAlter\": 28.3}, {\"StichtagDatJahr\": \"1999-01-01T00:00:00\", \"SexLang\": \"m\\u00e4nnlich\", \"SexCd\": 1, \"DurchAlter\": 30.9}, {\"StichtagDatJahr\": \"2000-01-01T00:00:00\", \"SexLang\": \"weiblich\", \"SexCd\": 2, \"DurchAlter\": 28.3}, {\"StichtagDatJahr\": \"2000-01-01T00:00:00\", \"SexLang\": \"m\\u00e4nnlich\", \"SexCd\": 1, \"DurchAlter\": 30.7}, {\"StichtagDatJahr\": \"2001-01-01T00:00:00\", \"SexLang\": \"weiblich\", \"SexCd\": 2, \"DurchAlter\": 28.4}, {\"StichtagDatJahr\": \"2001-01-01T00:00:00\", \"SexLang\": \"m\\u00e4nnlich\", \"SexCd\": 1, \"DurchAlter\": 31.0}, {\"StichtagDatJahr\": \"2002-01-01T00:00:00\", \"SexLang\": \"weiblich\", \"SexCd\": 2, \"DurchAlter\": 28.6}, {\"StichtagDatJahr\": \"2002-01-01T00:00:00\", \"SexLang\": \"m\\u00e4nnlich\", \"SexCd\": 1, \"DurchAlter\": 31.1}, {\"StichtagDatJahr\": \"2003-01-01T00:00:00\", \"SexLang\": \"weiblich\", \"SexCd\": 2, \"DurchAlter\": 28.7}, {\"StichtagDatJahr\": \"2003-01-01T00:00:00\", \"SexLang\": \"m\\u00e4nnlich\", \"SexCd\": 1, \"DurchAlter\": 31.2}, {\"StichtagDatJahr\": \"2004-01-01T00:00:00\", \"SexLang\": \"weiblich\", \"SexCd\": 2, \"DurchAlter\": 29.4}, {\"StichtagDatJahr\": \"2004-01-01T00:00:00\", \"SexLang\": \"m\\u00e4nnlich\", \"SexCd\": 1, \"DurchAlter\": 31.6}, {\"StichtagDatJahr\": \"2005-01-01T00:00:00\", \"SexLang\": \"weiblich\", \"SexCd\": 2, \"DurchAlter\": 29.6}, {\"StichtagDatJahr\": \"2005-01-01T00:00:00\", \"SexLang\": \"m\\u00e4nnlich\", \"SexCd\": 1, \"DurchAlter\": 32.0}, {\"StichtagDatJahr\": \"2006-01-01T00:00:00\", \"SexLang\": \"weiblich\", \"SexCd\": 2, \"DurchAlter\": 29.8}, {\"StichtagDatJahr\": \"2006-01-01T00:00:00\", \"SexLang\": \"m\\u00e4nnlich\", \"SexCd\": 1, \"DurchAlter\": 32.2}, {\"StichtagDatJahr\": \"2007-01-01T00:00:00\", \"SexLang\": \"weiblich\", \"SexCd\": 2, \"DurchAlter\": 29.8}, {\"StichtagDatJahr\": \"2007-01-01T00:00:00\", \"SexLang\": \"m\\u00e4nnlich\", \"SexCd\": 1, \"DurchAlter\": 32.3}, {\"StichtagDatJahr\": \"2008-01-01T00:00:00\", \"SexLang\": \"weiblich\", \"SexCd\": 2, \"DurchAlter\": 30.2}, {\"StichtagDatJahr\": \"2008-01-01T00:00:00\", \"SexLang\": \"m\\u00e4nnlich\", \"SexCd\": 1, \"DurchAlter\": 32.6}, {\"StichtagDatJahr\": \"2009-01-01T00:00:00\", \"SexLang\": \"weiblich\", \"SexCd\": 2, \"DurchAlter\": 30.6}, {\"StichtagDatJahr\": \"2009-01-01T00:00:00\", \"SexLang\": \"m\\u00e4nnlich\", \"SexCd\": 1, \"DurchAlter\": 32.9}, {\"StichtagDatJahr\": \"2010-01-01T00:00:00\", \"SexLang\": \"weiblich\", \"SexCd\": 2, \"DurchAlter\": 30.6}, {\"StichtagDatJahr\": \"2010-01-01T00:00:00\", \"SexLang\": \"m\\u00e4nnlich\", \"SexCd\": 1, \"DurchAlter\": 32.9}, {\"StichtagDatJahr\": \"2011-01-01T00:00:00\", \"SexLang\": \"weiblich\", \"SexCd\": 2, \"DurchAlter\": 30.7}, {\"StichtagDatJahr\": \"2011-01-01T00:00:00\", \"SexLang\": \"m\\u00e4nnlich\", \"SexCd\": 1, \"DurchAlter\": 33.1}, {\"StichtagDatJahr\": \"2012-01-01T00:00:00\", \"SexLang\": \"weiblich\", \"SexCd\": 2, \"DurchAlter\": 31.0}, {\"StichtagDatJahr\": \"2012-01-01T00:00:00\", \"SexLang\": \"m\\u00e4nnlich\", \"SexCd\": 1, \"DurchAlter\": 33.3}, {\"StichtagDatJahr\": \"2013-01-01T00:00:00\", \"SexLang\": \"weiblich\", \"SexCd\": 2, \"DurchAlter\": 31.3}, {\"StichtagDatJahr\": \"2013-01-01T00:00:00\", \"SexLang\": \"m\\u00e4nnlich\", \"SexCd\": 1, \"DurchAlter\": 33.7}, {\"StichtagDatJahr\": \"2014-01-01T00:00:00\", \"SexLang\": \"weiblich\", \"SexCd\": 2, \"DurchAlter\": 31.3}, {\"StichtagDatJahr\": \"2014-01-01T00:00:00\", \"SexLang\": \"m\\u00e4nnlich\", \"SexCd\": 1, \"DurchAlter\": 33.6}, {\"StichtagDatJahr\": \"2015-01-01T00:00:00\", \"SexLang\": \"weiblich\", \"SexCd\": 2, \"DurchAlter\": 31.4}, {\"StichtagDatJahr\": \"2015-01-01T00:00:00\", \"SexLang\": \"m\\u00e4nnlich\", \"SexCd\": 1, \"DurchAlter\": 33.7}, {\"StichtagDatJahr\": \"2016-01-01T00:00:00\", \"SexLang\": \"weiblich\", \"SexCd\": 2, \"DurchAlter\": 31.4}, {\"StichtagDatJahr\": \"2016-01-01T00:00:00\", \"SexLang\": \"m\\u00e4nnlich\", \"SexCd\": 1, \"DurchAlter\": 33.6}, {\"StichtagDatJahr\": \"2017-01-01T00:00:00\", \"SexLang\": \"weiblich\", \"SexCd\": 2, \"DurchAlter\": 31.8}, {\"StichtagDatJahr\": \"2017-01-01T00:00:00\", \"SexLang\": \"m\\u00e4nnlich\", \"SexCd\": 1, \"DurchAlter\": 34.1}, {\"StichtagDatJahr\": \"2018-01-01T00:00:00\", \"SexLang\": \"weiblich\", \"SexCd\": 2, \"DurchAlter\": 31.5}, {\"StichtagDatJahr\": \"2018-01-01T00:00:00\", \"SexLang\": \"m\\u00e4nnlich\", \"SexCd\": 1, \"DurchAlter\": 33.7}, {\"StichtagDatJahr\": \"2019-01-01T00:00:00\", \"SexLang\": \"weiblich\", \"SexCd\": 2, \"DurchAlter\": 31.9}, {\"StichtagDatJahr\": \"2019-01-01T00:00:00\", \"SexLang\": \"m\\u00e4nnlich\", \"SexCd\": 1, \"DurchAlter\": 34.1}, {\"StichtagDatJahr\": \"2020-01-01T00:00:00\", \"SexLang\": \"weiblich\", \"SexCd\": 2, \"DurchAlter\": 32.2}, {\"StichtagDatJahr\": \"2020-01-01T00:00:00\", \"SexLang\": \"m\\u00e4nnlich\", \"SexCd\": 1, \"DurchAlter\": 34.5}]}}, {\"mode\": \"vega-lite\"});\n",
       "</script>"
      ],
      "text/plain": [
       "alt.LayerChart(...)"
      ]
     },
     "execution_count": 20,
     "metadata": {},
     "output_type": "execute_result"
    }
   ],
   "source": [
    "# df_statzonen = df_statzonen[(df_statzonen.knr>0) & (df_statzonen.qname!=\"Hirslanden\")]\n",
    "#mySelection[[mySelection.NationFHistLang =='Schweiz']]\n",
    "\n",
    "\n",
    "highlight = alt.selection(type='single', on='mouseover',\n",
    "                          fields=['SexLang'], nearest=True)\n",
    "#x='date:StichtagDatJahr',\n",
    "base = alt.Chart(data2betested).encode(\n",
    "    x='StichtagDatJahr',\n",
    "    y='DurchAlter',\n",
    "    color='SexLang'\n",
    ")\n",
    "\n",
    "points = base.mark_circle().encode(\n",
    "    opacity=alt.value(2)\n",
    ").add_selection(\n",
    "    highlight\n",
    ").properties(\n",
    "    width=700 , height=300\n",
    ")\n",
    "lines = base.mark_line().encode(\n",
    "    size=alt.condition(~highlight, alt.value(1.5), alt.value(4))\n",
    ").interactive()\n",
    "\n",
    "points + lines"
   ]
  },
  {
   "cell_type": "code",
   "execution_count": 21,
   "metadata": {},
   "outputs": [
    {
     "data": {
      "text/html": [
       "\n",
       "<div id=\"altair-viz-20ba97b67b4d4ff0b58eb7a1f756e47b\"></div>\n",
       "<script type=\"text/javascript\">\n",
       "  (function(spec, embedOpt){\n",
       "    let outputDiv = document.currentScript.previousElementSibling;\n",
       "    if (outputDiv.id !== \"altair-viz-20ba97b67b4d4ff0b58eb7a1f756e47b\") {\n",
       "      outputDiv = document.getElementById(\"altair-viz-20ba97b67b4d4ff0b58eb7a1f756e47b\");\n",
       "    }\n",
       "    const paths = {\n",
       "      \"vega\": \"https://cdn.jsdelivr.net/npm//vega@5?noext\",\n",
       "      \"vega-lib\": \"https://cdn.jsdelivr.net/npm//vega-lib?noext\",\n",
       "      \"vega-lite\": \"https://cdn.jsdelivr.net/npm//vega-lite@4.8.1?noext\",\n",
       "      \"vega-embed\": \"https://cdn.jsdelivr.net/npm//vega-embed@6?noext\",\n",
       "    };\n",
       "\n",
       "    function loadScript(lib) {\n",
       "      return new Promise(function(resolve, reject) {\n",
       "        var s = document.createElement('script');\n",
       "        s.src = paths[lib];\n",
       "        s.async = true;\n",
       "        s.onload = () => resolve(paths[lib]);\n",
       "        s.onerror = () => reject(`Error loading script: ${paths[lib]}`);\n",
       "        document.getElementsByTagName(\"head\")[0].appendChild(s);\n",
       "      });\n",
       "    }\n",
       "\n",
       "    function showError(err) {\n",
       "      outputDiv.innerHTML = `<div class=\"error\" style=\"color:red;\">${err}</div>`;\n",
       "      throw err;\n",
       "    }\n",
       "\n",
       "    function displayChart(vegaEmbed) {\n",
       "      vegaEmbed(outputDiv, spec, embedOpt)\n",
       "        .catch(err => showError(`Javascript Error: ${err.message}<br>This usually means there's a typo in your chart specification. See the javascript console for the full traceback.`));\n",
       "    }\n",
       "\n",
       "    if(typeof define === \"function\" && define.amd) {\n",
       "      requirejs.config({paths});\n",
       "      require([\"vega-embed\"], displayChart, err => showError(`Error loading script: ${err.message}`));\n",
       "    } else if (typeof vegaEmbed === \"function\") {\n",
       "      displayChart(vegaEmbed);\n",
       "    } else {\n",
       "      loadScript(\"vega\")\n",
       "        .then(() => loadScript(\"vega-lite\"))\n",
       "        .then(() => loadScript(\"vega-embed\"))\n",
       "        .catch(showError)\n",
       "        .then(() => displayChart(vegaEmbed));\n",
       "    }\n",
       "  })({\"config\": {\"view\": {\"continuousWidth\": 400, \"continuousHeight\": 300}}, \"data\": {\"name\": \"data-6f637f7f21ca0d3b0299f586c1a539d6\"}, \"mark\": {\"type\": \"circle\", \"size\": 60}, \"encoding\": {\"color\": {\"type\": \"nominal\", \"field\": \"SexLang\", \"scale\": {\"scheme\": \"dark2\"}}, \"tooltip\": [{\"type\": \"temporal\", \"field\": \"StichtagDatJahr\"}, {\"type\": \"nominal\", \"field\": \"SexLang\"}, {\"type\": \"quantitative\", \"field\": \"DurchAlter\"}], \"x\": {\"type\": \"temporal\", \"field\": \"StichtagDatJahr\"}, \"y\": {\"type\": \"quantitative\", \"field\": \"DurchAlter\"}}, \"selection\": {\"selector005\": {\"type\": \"interval\", \"bind\": \"scales\", \"encodings\": [\"x\", \"y\"]}}, \"$schema\": \"https://vega.github.io/schema/vega-lite/v4.8.1.json\", \"datasets\": {\"data-6f637f7f21ca0d3b0299f586c1a539d6\": [{\"StichtagDatJahr\": \"1993-01-01T00:00:00\", \"SexLang\": \"weiblich\", \"SexCd\": 2, \"DurchAlter\": 27.5}, {\"StichtagDatJahr\": \"1993-01-01T00:00:00\", \"SexLang\": \"m\\u00e4nnlich\", \"SexCd\": 1, \"DurchAlter\": 29.8}, {\"StichtagDatJahr\": \"1994-01-01T00:00:00\", \"SexLang\": \"weiblich\", \"SexCd\": 2, \"DurchAlter\": 27.4}, {\"StichtagDatJahr\": \"1994-01-01T00:00:00\", \"SexLang\": \"m\\u00e4nnlich\", \"SexCd\": 1, \"DurchAlter\": 29.9}, {\"StichtagDatJahr\": \"1995-01-01T00:00:00\", \"SexLang\": \"weiblich\", \"SexCd\": 2, \"DurchAlter\": 27.6}, {\"StichtagDatJahr\": \"1995-01-01T00:00:00\", \"SexLang\": \"m\\u00e4nnlich\", \"SexCd\": 1, \"DurchAlter\": 30.0}, {\"StichtagDatJahr\": \"1996-01-01T00:00:00\", \"SexLang\": \"weiblich\", \"SexCd\": 2, \"DurchAlter\": 27.4}, {\"StichtagDatJahr\": \"1996-01-01T00:00:00\", \"SexLang\": \"m\\u00e4nnlich\", \"SexCd\": 1, \"DurchAlter\": 30.0}, {\"StichtagDatJahr\": \"1997-01-01T00:00:00\", \"SexLang\": \"weiblich\", \"SexCd\": 2, \"DurchAlter\": 27.9}, {\"StichtagDatJahr\": \"1997-01-01T00:00:00\", \"SexLang\": \"m\\u00e4nnlich\", \"SexCd\": 1, \"DurchAlter\": 30.3}, {\"StichtagDatJahr\": \"1998-01-01T00:00:00\", \"SexLang\": \"weiblich\", \"SexCd\": 2, \"DurchAlter\": 28.0}, {\"StichtagDatJahr\": \"1998-01-01T00:00:00\", \"SexLang\": \"m\\u00e4nnlich\", \"SexCd\": 1, \"DurchAlter\": 30.5}, {\"StichtagDatJahr\": \"1999-01-01T00:00:00\", \"SexLang\": \"weiblich\", \"SexCd\": 2, \"DurchAlter\": 28.3}, {\"StichtagDatJahr\": \"1999-01-01T00:00:00\", \"SexLang\": \"m\\u00e4nnlich\", \"SexCd\": 1, \"DurchAlter\": 30.9}, {\"StichtagDatJahr\": \"2000-01-01T00:00:00\", \"SexLang\": \"weiblich\", \"SexCd\": 2, \"DurchAlter\": 28.3}, {\"StichtagDatJahr\": \"2000-01-01T00:00:00\", \"SexLang\": \"m\\u00e4nnlich\", \"SexCd\": 1, \"DurchAlter\": 30.7}, {\"StichtagDatJahr\": \"2001-01-01T00:00:00\", \"SexLang\": \"weiblich\", \"SexCd\": 2, \"DurchAlter\": 28.4}, {\"StichtagDatJahr\": \"2001-01-01T00:00:00\", \"SexLang\": \"m\\u00e4nnlich\", \"SexCd\": 1, \"DurchAlter\": 31.0}, {\"StichtagDatJahr\": \"2002-01-01T00:00:00\", \"SexLang\": \"weiblich\", \"SexCd\": 2, \"DurchAlter\": 28.6}, {\"StichtagDatJahr\": \"2002-01-01T00:00:00\", \"SexLang\": \"m\\u00e4nnlich\", \"SexCd\": 1, \"DurchAlter\": 31.1}, {\"StichtagDatJahr\": \"2003-01-01T00:00:00\", \"SexLang\": \"weiblich\", \"SexCd\": 2, \"DurchAlter\": 28.7}, {\"StichtagDatJahr\": \"2003-01-01T00:00:00\", \"SexLang\": \"m\\u00e4nnlich\", \"SexCd\": 1, \"DurchAlter\": 31.2}, {\"StichtagDatJahr\": \"2004-01-01T00:00:00\", \"SexLang\": \"weiblich\", \"SexCd\": 2, \"DurchAlter\": 29.4}, {\"StichtagDatJahr\": \"2004-01-01T00:00:00\", \"SexLang\": \"m\\u00e4nnlich\", \"SexCd\": 1, \"DurchAlter\": 31.6}, {\"StichtagDatJahr\": \"2005-01-01T00:00:00\", \"SexLang\": \"weiblich\", \"SexCd\": 2, \"DurchAlter\": 29.6}, {\"StichtagDatJahr\": \"2005-01-01T00:00:00\", \"SexLang\": \"m\\u00e4nnlich\", \"SexCd\": 1, \"DurchAlter\": 32.0}, {\"StichtagDatJahr\": \"2006-01-01T00:00:00\", \"SexLang\": \"weiblich\", \"SexCd\": 2, \"DurchAlter\": 29.8}, {\"StichtagDatJahr\": \"2006-01-01T00:00:00\", \"SexLang\": \"m\\u00e4nnlich\", \"SexCd\": 1, \"DurchAlter\": 32.2}, {\"StichtagDatJahr\": \"2007-01-01T00:00:00\", \"SexLang\": \"weiblich\", \"SexCd\": 2, \"DurchAlter\": 29.8}, {\"StichtagDatJahr\": \"2007-01-01T00:00:00\", \"SexLang\": \"m\\u00e4nnlich\", \"SexCd\": 1, \"DurchAlter\": 32.3}, {\"StichtagDatJahr\": \"2008-01-01T00:00:00\", \"SexLang\": \"weiblich\", \"SexCd\": 2, \"DurchAlter\": 30.2}, {\"StichtagDatJahr\": \"2008-01-01T00:00:00\", \"SexLang\": \"m\\u00e4nnlich\", \"SexCd\": 1, \"DurchAlter\": 32.6}, {\"StichtagDatJahr\": \"2009-01-01T00:00:00\", \"SexLang\": \"weiblich\", \"SexCd\": 2, \"DurchAlter\": 30.6}, {\"StichtagDatJahr\": \"2009-01-01T00:00:00\", \"SexLang\": \"m\\u00e4nnlich\", \"SexCd\": 1, \"DurchAlter\": 32.9}, {\"StichtagDatJahr\": \"2010-01-01T00:00:00\", \"SexLang\": \"weiblich\", \"SexCd\": 2, \"DurchAlter\": 30.6}, {\"StichtagDatJahr\": \"2010-01-01T00:00:00\", \"SexLang\": \"m\\u00e4nnlich\", \"SexCd\": 1, \"DurchAlter\": 32.9}, {\"StichtagDatJahr\": \"2011-01-01T00:00:00\", \"SexLang\": \"weiblich\", \"SexCd\": 2, \"DurchAlter\": 30.7}, {\"StichtagDatJahr\": \"2011-01-01T00:00:00\", \"SexLang\": \"m\\u00e4nnlich\", \"SexCd\": 1, \"DurchAlter\": 33.1}, {\"StichtagDatJahr\": \"2012-01-01T00:00:00\", \"SexLang\": \"weiblich\", \"SexCd\": 2, \"DurchAlter\": 31.0}, {\"StichtagDatJahr\": \"2012-01-01T00:00:00\", \"SexLang\": \"m\\u00e4nnlich\", \"SexCd\": 1, \"DurchAlter\": 33.3}, {\"StichtagDatJahr\": \"2013-01-01T00:00:00\", \"SexLang\": \"weiblich\", \"SexCd\": 2, \"DurchAlter\": 31.3}, {\"StichtagDatJahr\": \"2013-01-01T00:00:00\", \"SexLang\": \"m\\u00e4nnlich\", \"SexCd\": 1, \"DurchAlter\": 33.7}, {\"StichtagDatJahr\": \"2014-01-01T00:00:00\", \"SexLang\": \"weiblich\", \"SexCd\": 2, \"DurchAlter\": 31.3}, {\"StichtagDatJahr\": \"2014-01-01T00:00:00\", \"SexLang\": \"m\\u00e4nnlich\", \"SexCd\": 1, \"DurchAlter\": 33.6}, {\"StichtagDatJahr\": \"2015-01-01T00:00:00\", \"SexLang\": \"weiblich\", \"SexCd\": 2, \"DurchAlter\": 31.4}, {\"StichtagDatJahr\": \"2015-01-01T00:00:00\", \"SexLang\": \"m\\u00e4nnlich\", \"SexCd\": 1, \"DurchAlter\": 33.7}, {\"StichtagDatJahr\": \"2016-01-01T00:00:00\", \"SexLang\": \"weiblich\", \"SexCd\": 2, \"DurchAlter\": 31.4}, {\"StichtagDatJahr\": \"2016-01-01T00:00:00\", \"SexLang\": \"m\\u00e4nnlich\", \"SexCd\": 1, \"DurchAlter\": 33.6}, {\"StichtagDatJahr\": \"2017-01-01T00:00:00\", \"SexLang\": \"weiblich\", \"SexCd\": 2, \"DurchAlter\": 31.8}, {\"StichtagDatJahr\": \"2017-01-01T00:00:00\", \"SexLang\": \"m\\u00e4nnlich\", \"SexCd\": 1, \"DurchAlter\": 34.1}, {\"StichtagDatJahr\": \"2018-01-01T00:00:00\", \"SexLang\": \"weiblich\", \"SexCd\": 2, \"DurchAlter\": 31.5}, {\"StichtagDatJahr\": \"2018-01-01T00:00:00\", \"SexLang\": \"m\\u00e4nnlich\", \"SexCd\": 1, \"DurchAlter\": 33.7}, {\"StichtagDatJahr\": \"2019-01-01T00:00:00\", \"SexLang\": \"weiblich\", \"SexCd\": 2, \"DurchAlter\": 31.9}, {\"StichtagDatJahr\": \"2019-01-01T00:00:00\", \"SexLang\": \"m\\u00e4nnlich\", \"SexCd\": 1, \"DurchAlter\": 34.1}, {\"StichtagDatJahr\": \"2020-01-01T00:00:00\", \"SexLang\": \"weiblich\", \"SexCd\": 2, \"DurchAlter\": 32.2}, {\"StichtagDatJahr\": \"2020-01-01T00:00:00\", \"SexLang\": \"m\\u00e4nnlich\", \"SexCd\": 1, \"DurchAlter\": 34.5}]}}, {\"mode\": \"vega-lite\"});\n",
       "</script>"
      ],
      "text/plain": [
       "alt.Chart(...)"
      ]
     },
     "execution_count": 21,
     "metadata": {},
     "output_type": "execute_result"
    }
   ],
   "source": [
    "alt.Chart(data2betested).mark_circle(size=60).encode(\n",
    "    x='StichtagDatJahr',\n",
    "    y='DurchAlter',\n",
    "    #color='AnzNat',\n",
    "    #color=alt.Color('AnzNat', scale=alt.Scale(scheme='greens')),\n",
    "    color=alt.Color('SexLang', scale=alt.Scale(scheme='dark2')),\n",
    "    tooltip=['StichtagDatJahr','SexLang','DurchAlter']\n",
    ").interactive() # this makes the axes interactive: now you can zoom & pan\n",
    "\n",
    "\n"
   ]
  },
  {
   "cell_type": "markdown",
   "metadata": {},
   "source": [
    "**Sharepoint als gecheckt markieren!**"
   ]
  },
  {
   "cell_type": "markdown",
   "metadata": {},
   "source": [
    "Record auf Sharepoint: **[Link](http://kollaboration.intranet.stzh.ch/orga/ssz-produkte/Lists/SASA_Outputs/EditForm.aspx?ID=52&Source=%2Forga%2Fssz%2Dprodukte%2FLists%2FSASA%5FOutputs)**"
   ]
  },
  {
   "cell_type": "raw",
   "metadata": {},
   "source": []
  },
  {
   "cell_type": "code",
   "execution_count": null,
   "metadata": {},
   "outputs": [],
   "source": []
  }
 ],
 "metadata": {
  "kernelspec": {
   "display_name": "Python 3 (ipykernel)",
   "language": "python",
   "name": "python3"
  },
  "language_info": {
   "codemirror_mode": {
    "name": "ipython",
    "version": 3
   },
   "file_extension": ".py",
   "mimetype": "text/x-python",
   "name": "python",
   "nbconvert_exporter": "python",
   "pygments_lexer": "ipython3",
   "version": "3.9.7"
  }
 },
 "nbformat": 4,
 "nbformat_minor": 4
}
