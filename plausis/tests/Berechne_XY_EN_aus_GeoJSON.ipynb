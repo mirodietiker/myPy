{
 "cells": [
  {
   "cell_type": "markdown",
   "id": "e7d08768",
   "metadata": {},
   "source": [
    "# Exportiere Koordinatenwerte aus GeoJSON in CSV\n",
    "\n",
    "Dieses Beispiel zeigt, wie ich ohne GIS-Softare die Werte für XY (WGS84) und EN (LV95) herauslesen kann.\n",
    "\n",
    "**Informationen zu Geopandas findest Du unter diesem Link https://geopandas.org/docs/user_guide/io.html**\n"
   ]
  },
  {
   "cell_type": "code",
   "execution_count": 3,
   "id": "f14e2424",
   "metadata": {},
   "outputs": [],
   "source": [
    "import pandas as pd\n",
    "import numpy as np\n",
    "\n",
    "import geopandas as gpd\n",
    "import folium "
   ]
  },
  {
   "cell_type": "markdown",
   "id": "d6abb26b",
   "metadata": {},
   "source": [
    "Lies das GeoJSON Inputfile ein und zeige es in einem einfachen Plot\n",
    "\n"
   ]
  },
  {
   "cell_type": "code",
   "execution_count": 135,
   "id": "32ef7990",
   "metadata": {},
   "outputs": [
    {
     "data": {
      "text/plain": [
       "<AxesSubplot:>"
      ]
     },
     "execution_count": 135,
     "metadata": {},
     "output_type": "execute_result"
    },
    {
     "data": {
      "image/png": "[encoded data removed]",
      "text/plain": [
       "<Figure size 432x288 with 1 Axes>"
      ]
     },
     "metadata": {
      "needs_background": "light"
     },
     "output_type": "display_data"
    }
   ],
   "source": [
    "input_pflegeheime = r\"//szh.loc/ssz/data/GIS/Sandbox/2021/pflegeheime_ktzh/nu geodata/ogd_pflegeheime_georef_4326.geojson\"\n",
    "\n",
    "gdf_pflegeheime_epsg4326 = gpd.read_file(input_pflegeheime)\n",
    "\n",
    "gdf_pflegeheime_epsg4326 .plot()"
   ]
  },
  {
   "cell_type": "markdown",
   "id": "778054ce",
   "metadata": {},
   "source": [
    "Was ist das aktuelle CRS?"
   ]
  },
  {
   "cell_type": "code",
   "execution_count": 136,
   "id": "9edafb14",
   "metadata": {},
   "outputs": [
    {
     "data": {
      "text/plain": [
       "<Geographic 2D CRS: EPSG:4326>\n",
       "Name: WGS 84\n",
       "Axis Info [ellipsoidal]:\n",
       "- Lat[north]: Geodetic latitude (degree)\n",
       "- Lon[east]: Geodetic longitude (degree)\n",
       "Area of Use:\n",
       "- name: World.\n",
       "- bounds: (-180.0, -90.0, 180.0, 90.0)\n",
       "Datum: World Geodetic System 1984 ensemble\n",
       "- Ellipsoid: WGS 84\n",
       "- Prime Meridian: Greenwich"
      ]
     },
     "execution_count": 136,
     "metadata": {},
     "output_type": "execute_result"
    }
   ],
   "source": [
    "gdf_pflegeheime_epsg4326.crs\n"
   ]
  },
  {
   "cell_type": "markdown",
   "id": "69ae2b24",
   "metadata": {},
   "source": [
    "Schreibe die aktuellen XY-Werte des Geometrieobjekts in die Variable x und y."
   ]
  },
  {
   "cell_type": "code",
   "execution_count": 137,
   "id": "3b73977d",
   "metadata": {},
   "outputs": [
    {
     "name": "stderr",
     "output_type": "stream",
     "text": [
      "<ipython-input-137-95c8106cad2a>:1: UserWarning: Geometry is in a geographic CRS. Results from 'centroid' are likely incorrect. Use 'GeoSeries.to_crs()' to re-project geometries to a projected CRS before this operation.\n",
      "\n",
      "  gdf_pflegeheime_epsg4326[\"x\"] = gdf_pflegeheime_epsg4326.centroid.x\n",
      "<ipython-input-137-95c8106cad2a>:2: UserWarning: Geometry is in a geographic CRS. Results from 'centroid' are likely incorrect. Use 'GeoSeries.to_crs()' to re-project geometries to a projected CRS before this operation.\n",
      "\n",
      "  gdf_pflegeheime_epsg4326[\"y\"] = gdf_pflegeheime_epsg4326.centroid.y\n"
     ]
    },
    {
     "data": {
      "text/html": [
       "<div>\n",
       "<style scoped>\n",
       "    .dataframe tbody tr th:only-of-type {\n",
       "        vertical-align: middle;\n",
       "    }\n",
       "\n",
       "    .dataframe tbody tr th {\n",
       "        vertical-align: top;\n",
       "    }\n",
       "\n",
       "    .dataframe thead th {\n",
       "        text-align: right;\n",
       "    }\n",
       "</style>\n",
       "<table border=\"1\" class=\"dataframe\">\n",
       "  <thead>\n",
       "    <tr style=\"text-align: right;\">\n",
       "      <th></th>\n",
       "      <th>Betrieb_Einheit</th>\n",
       "      <th>Strasse_Nummer</th>\n",
       "      <th>PLZ</th>\n",
       "      <th>Ort</th>\n",
       "      <th>Tel_nummer</th>\n",
       "      <th>Anzahl_bewilligte_Betten</th>\n",
       "      <th>Bezirk</th>\n",
       "      <th>ObjectId</th>\n",
       "      <th>geometry</th>\n",
       "      <th>x</th>\n",
       "      <th>y</th>\n",
       "    </tr>\n",
       "  </thead>\n",
       "  <tbody>\n",
       "    <tr>\n",
       "      <th>0</th>\n",
       "      <td>GerAtrium Pfäffikon ZH</td>\n",
       "      <td>Hörnlistrasse 76</td>\n",
       "      <td>8330</td>\n",
       "      <td>Pfäffikon</td>\n",
       "      <td>044 953 43 42</td>\n",
       "      <td>97</td>\n",
       "      <td>Pfäffikon</td>\n",
       "      <td>1</td>\n",
       "      <td>POINT (8.79048 47.36720)</td>\n",
       "      <td>8.790483</td>\n",
       "      <td>47.367202</td>\n",
       "    </tr>\n",
       "    <tr>\n",
       "      <th>1</th>\n",
       "      <td>Alters- und Pflegezentrum Rosengasse</td>\n",
       "      <td>Rosengasse 8</td>\n",
       "      <td>8332</td>\n",
       "      <td>Russikon</td>\n",
       "      <td>044 954 88 18</td>\n",
       "      <td>32</td>\n",
       "      <td>Pfäffikon</td>\n",
       "      <td>2</td>\n",
       "      <td>POINT (8.77453 47.39458)</td>\n",
       "      <td>8.774527</td>\n",
       "      <td>47.394585</td>\n",
       "    </tr>\n",
       "    <tr>\n",
       "      <th>2</th>\n",
       "      <td>Almacasa</td>\n",
       "      <td>Dorfstrasse 3b</td>\n",
       "      <td>8484</td>\n",
       "      <td>Weisslingen</td>\n",
       "      <td>052 544 44 44</td>\n",
       "      <td>30</td>\n",
       "      <td>Pfäffikon</td>\n",
       "      <td>3</td>\n",
       "      <td>POINT (8.76437 47.42900)</td>\n",
       "      <td>8.764371</td>\n",
       "      <td>47.428997</td>\n",
       "    </tr>\n",
       "    <tr>\n",
       "      <th>3</th>\n",
       "      <td>Oase Effretikon</td>\n",
       "      <td>Bietenholzstrasse 1</td>\n",
       "      <td>8307</td>\n",
       "      <td>Effretikon</td>\n",
       "      <td>052 354 54 54</td>\n",
       "      <td>33</td>\n",
       "      <td>Pfäffikon</td>\n",
       "      <td>4</td>\n",
       "      <td>POINT (8.68583 47.42273)</td>\n",
       "      <td>8.685825</td>\n",
       "      <td>47.422728</td>\n",
       "    </tr>\n",
       "    <tr>\n",
       "      <th>4</th>\n",
       "      <td>Seniorenzentrum Zion</td>\n",
       "      <td>Ringwiesenstrasse 14</td>\n",
       "      <td>8600</td>\n",
       "      <td>Dübendorf</td>\n",
       "      <td>044 802 18 18</td>\n",
       "      <td>61</td>\n",
       "      <td>Uster</td>\n",
       "      <td>5</td>\n",
       "      <td>POINT (8.60566 47.39685)</td>\n",
       "      <td>8.605664</td>\n",
       "      <td>47.396850</td>\n",
       "    </tr>\n",
       "    <tr>\n",
       "      <th>...</th>\n",
       "      <td>...</td>\n",
       "      <td>...</td>\n",
       "      <td>...</td>\n",
       "      <td>...</td>\n",
       "      <td>...</td>\n",
       "      <td>...</td>\n",
       "      <td>...</td>\n",
       "      <td>...</td>\n",
       "      <td>...</td>\n",
       "      <td>...</td>\n",
       "      <td>...</td>\n",
       "    </tr>\n",
       "    <tr>\n",
       "      <th>333</th>\n",
       "      <td>Alterszentrum Bruggwiesen - Haus A</td>\n",
       "      <td>Märtplatz 19</td>\n",
       "      <td>8307</td>\n",
       "      <td>Illnau-Effretikon</td>\n",
       "      <td>052 355 19 90</td>\n",
       "      <td>67</td>\n",
       "      <td>Pfäffikon</td>\n",
       "      <td>334</td>\n",
       "      <td>POINT (8.68518 47.42733)</td>\n",
       "      <td>8.685180</td>\n",
       "      <td>47.427334</td>\n",
       "    </tr>\n",
       "    <tr>\n",
       "      <th>334</th>\n",
       "      <td>Alterszentrum Bruggwiesen - Haus B/C</td>\n",
       "      <td>Märtplatz 19</td>\n",
       "      <td>8307</td>\n",
       "      <td>Illnau-Effretikon</td>\n",
       "      <td>052 355 19 90</td>\n",
       "      <td>90</td>\n",
       "      <td>Pfäffikon</td>\n",
       "      <td>335</td>\n",
       "      <td>POINT (8.68518 47.42733)</td>\n",
       "      <td>8.685180</td>\n",
       "      <td>47.427334</td>\n",
       "    </tr>\n",
       "    <tr>\n",
       "      <th>335</th>\n",
       "      <td>Alterszentrum Bruggwiesen - Dezentrale Wohngruppe</td>\n",
       "      <td>Schlimpergstrasse 2</td>\n",
       "      <td>8307</td>\n",
       "      <td>Illnau-Effretikon</td>\n",
       "      <td>052 355 19 90</td>\n",
       "      <td>8</td>\n",
       "      <td>Pfäffikon</td>\n",
       "      <td>336</td>\n",
       "      <td>POINT (8.68809 47.42996)</td>\n",
       "      <td>8.688095</td>\n",
       "      <td>47.429958</td>\n",
       "    </tr>\n",
       "    <tr>\n",
       "      <th>336</th>\n",
       "      <td>Alters- und Pflegeheim Neuhof</td>\n",
       "      <td>Hittnauerstrasse 34</td>\n",
       "      <td>8330</td>\n",
       "      <td>Pfäffikon</td>\n",
       "      <td>044 950 14 83</td>\n",
       "      <td>23</td>\n",
       "      <td>Pfäffikon</td>\n",
       "      <td>337</td>\n",
       "      <td>POINT (8.79279 47.36433)</td>\n",
       "      <td>8.792785</td>\n",
       "      <td>47.364331</td>\n",
       "    </tr>\n",
       "    <tr>\n",
       "      <th>337</th>\n",
       "      <td>Alterszentrum Sophie Guyer</td>\n",
       "      <td>Zelglistrasse 7</td>\n",
       "      <td>8330</td>\n",
       "      <td>Pfäffikon</td>\n",
       "      <td>044 952 56 56</td>\n",
       "      <td>86</td>\n",
       "      <td>Pfäffikon</td>\n",
       "      <td>338</td>\n",
       "      <td>POINT (8.78485 47.36808)</td>\n",
       "      <td>8.784854</td>\n",
       "      <td>47.368077</td>\n",
       "    </tr>\n",
       "  </tbody>\n",
       "</table>\n",
       "<p>338 rows × 11 columns</p>\n",
       "</div>"
      ],
      "text/plain": [
       "                                       Betrieb_Einheit        Strasse_Nummer  \\\n",
       "0                               GerAtrium Pfäffikon ZH      Hörnlistrasse 76   \n",
       "1                 Alters- und Pflegezentrum Rosengasse          Rosengasse 8   \n",
       "2                                             Almacasa        Dorfstrasse 3b   \n",
       "3                                      Oase Effretikon   Bietenholzstrasse 1   \n",
       "4                                 Seniorenzentrum Zion  Ringwiesenstrasse 14   \n",
       "..                                                 ...                   ...   \n",
       "333                 Alterszentrum Bruggwiesen - Haus A          Märtplatz 19   \n",
       "334               Alterszentrum Bruggwiesen - Haus B/C          Märtplatz 19   \n",
       "335  Alterszentrum Bruggwiesen - Dezentrale Wohngruppe   Schlimpergstrasse 2   \n",
       "336                      Alters- und Pflegeheim Neuhof   Hittnauerstrasse 34   \n",
       "337                         Alterszentrum Sophie Guyer       Zelglistrasse 7   \n",
       "\n",
       "      PLZ                Ort     Tel_nummer Anzahl_bewilligte_Betten  \\\n",
       "0    8330          Pfäffikon  044 953 43 42                       97   \n",
       "1    8332           Russikon  044 954 88 18                       32   \n",
       "2    8484        Weisslingen  052 544 44 44                       30   \n",
       "3    8307         Effretikon  052 354 54 54                       33   \n",
       "4    8600          Dübendorf  044 802 18 18                       61   \n",
       "..    ...                ...            ...                      ...   \n",
       "333  8307  Illnau-Effretikon  052 355 19 90                       67   \n",
       "334  8307  Illnau-Effretikon  052 355 19 90                       90   \n",
       "335  8307  Illnau-Effretikon  052 355 19 90                        8   \n",
       "336  8330          Pfäffikon  044 950 14 83                       23   \n",
       "337  8330          Pfäffikon  044 952 56 56                       86   \n",
       "\n",
       "        Bezirk  ObjectId                  geometry         x          y  \n",
       "0    Pfäffikon         1  POINT (8.79048 47.36720)  8.790483  47.367202  \n",
       "1    Pfäffikon         2  POINT (8.77453 47.39458)  8.774527  47.394585  \n",
       "2    Pfäffikon         3  POINT (8.76437 47.42900)  8.764371  47.428997  \n",
       "3    Pfäffikon         4  POINT (8.68583 47.42273)  8.685825  47.422728  \n",
       "4        Uster         5  POINT (8.60566 47.39685)  8.605664  47.396850  \n",
       "..         ...       ...                       ...       ...        ...  \n",
       "333  Pfäffikon       334  POINT (8.68518 47.42733)  8.685180  47.427334  \n",
       "334  Pfäffikon       335  POINT (8.68518 47.42733)  8.685180  47.427334  \n",
       "335  Pfäffikon       336  POINT (8.68809 47.42996)  8.688095  47.429958  \n",
       "336  Pfäffikon       337  POINT (8.79279 47.36433)  8.792785  47.364331  \n",
       "337  Pfäffikon       338  POINT (8.78485 47.36808)  8.784854  47.368077  \n",
       "\n",
       "[338 rows x 11 columns]"
      ]
     },
     "execution_count": 137,
     "metadata": {},
     "output_type": "execute_result"
    }
   ],
   "source": [
    "gdf_pflegeheime_epsg4326[\"x\"] = gdf_pflegeheime_epsg4326.centroid.x\n",
    "gdf_pflegeheime_epsg4326[\"y\"] = gdf_pflegeheime_epsg4326.centroid.y\n",
    "gdf_pflegeheime_epsg4326"
   ]
  },
  {
   "cell_type": "markdown",
   "id": "acb6c25b",
   "metadata": {},
   "source": [
    "Wandle nund den Geodatensatz von WGS84 zu LV95 um, teste ob es funktioniert hat und zeichne eine Karte:"
   ]
  },
  {
   "cell_type": "code",
   "execution_count": 145,
   "id": "7b0f213a",
   "metadata": {},
   "outputs": [
    {
     "name": "stderr",
     "output_type": "stream",
     "text": [
      "C:\\Users\\sszsim\\AppData\\Local\\Continuum\\anaconda3\\lib\\site-packages\\pyproj\\crs\\crs.py:53: FutureWarning: '+init=<authority>:<code>' syntax is deprecated. '<authority>:<code>' is the preferred initialization method. When making the change, be mindful of axis order changes: https://pyproj4.github.io/pyproj/stable/gotchas.html#axis-order-changes-in-proj-6\n",
      "  return _prepare_from_string(\" \".join(pjargs))\n"
     ]
    }
   ],
   "source": [
    "#gdf_pflegeheime_epsg2056.crs = {'init': 'epsg:2056'}\n",
    "# or\n",
    "gdf_pflegeheime_epsg2056 = gdf_pflegeheime_epsg4326.to_crs({'init': 'epsg:2056'})\n"
   ]
  },
  {
   "cell_type": "code",
   "execution_count": 146,
   "id": "b6e5f16d",
   "metadata": {},
   "outputs": [
    {
     "data": {
      "text/plain": [
       "<Projected CRS: EPSG:2056>\n",
       "Name: CH1903+ / LV95\n",
       "Axis Info [cartesian]:\n",
       "- E[east]: Easting (metre)\n",
       "- N[north]: Northing (metre)\n",
       "Area of Use:\n",
       "- name: Liechtenstein; Switzerland.\n",
       "- bounds: (5.96, 45.82, 10.49, 47.81)\n",
       "Coordinate Operation:\n",
       "- name: Swiss Oblique Mercator 1995\n",
       "- method: Hotine Oblique Mercator (variant B)\n",
       "Datum: CH1903+\n",
       "- Ellipsoid: Bessel 1841\n",
       "- Prime Meridian: Greenwich"
      ]
     },
     "execution_count": 146,
     "metadata": {},
     "output_type": "execute_result"
    }
   ],
   "source": [
    "gdf_pflegeheime_epsg2056.crs"
   ]
  },
  {
   "cell_type": "code",
   "execution_count": 147,
   "id": "9764d75d",
   "metadata": {},
   "outputs": [
    {
     "data": {
      "text/plain": [
       "<AxesSubplot:>"
      ]
     },
     "execution_count": 147,
     "metadata": {},
     "output_type": "execute_result"
    },
    {
     "data": {
      "image/png": "[encoded data removed]",
      "text/plain": [
       "<Figure size 432x288 with 1 Axes>"
      ]
     },
     "metadata": {
      "needs_background": "light"
     },
     "output_type": "display_data"
    }
   ],
   "source": [
    "gdf_pflegeheime_epsg2056.plot()\n"
   ]
  },
  {
   "cell_type": "markdown",
   "id": "1925e34e",
   "metadata": {},
   "source": [
    "Schreibe nun die x- und y-Werte in LV95 in eine eigene Spalte namens e (East, x-Wert in LV95) und n (North, y-Wert in LV95) hinein."
   ]
  },
  {
   "cell_type": "code",
   "execution_count": 148,
   "id": "380cc65e",
   "metadata": {},
   "outputs": [
    {
     "data": {
      "image/png": "[encoded data removed]",
      "text/plain": [
       "<Figure size 432x288 with 1 Axes>"
      ]
     },
     "metadata": {
      "needs_background": "light"
     },
     "output_type": "display_data"
    }
   ],
   "source": [
    "gdf_pflegeheime_epsg2056[\"e\"] = gdf_pflegeheime_epsg2056.centroid.x\n",
    "gdf_pflegeheime_epsg2056[\"n\"] = gdf_pflegeheime_epsg2056.centroid.y\n",
    "\n",
    "gdf_pflegeheime_epsg2056.plot();"
   ]
  },
  {
   "cell_type": "code",
   "execution_count": 149,
   "id": "78823db5",
   "metadata": {},
   "outputs": [
    {
     "data": {
      "text/html": [
       "<div>\n",
       "<style scoped>\n",
       "    .dataframe tbody tr th:only-of-type {\n",
       "        vertical-align: middle;\n",
       "    }\n",
       "\n",
       "    .dataframe tbody tr th {\n",
       "        vertical-align: top;\n",
       "    }\n",
       "\n",
       "    .dataframe thead th {\n",
       "        text-align: right;\n",
       "    }\n",
       "</style>\n",
       "<table border=\"1\" class=\"dataframe\">\n",
       "  <thead>\n",
       "    <tr style=\"text-align: right;\">\n",
       "      <th></th>\n",
       "      <th>Betrieb_Einheit</th>\n",
       "      <th>Strasse_Nummer</th>\n",
       "      <th>PLZ</th>\n",
       "      <th>Ort</th>\n",
       "      <th>Tel_nummer</th>\n",
       "      <th>Anzahl_bewilligte_Betten</th>\n",
       "      <th>Bezirk</th>\n",
       "      <th>ObjectId</th>\n",
       "      <th>geometry</th>\n",
       "      <th>x</th>\n",
       "      <th>y</th>\n",
       "      <th>e</th>\n",
       "      <th>n</th>\n",
       "    </tr>\n",
       "  </thead>\n",
       "  <tbody>\n",
       "    <tr>\n",
       "      <th>0</th>\n",
       "      <td>GerAtrium Pfäffikon ZH</td>\n",
       "      <td>Hörnlistrasse 76</td>\n",
       "      <td>8330</td>\n",
       "      <td>Pfäffikon</td>\n",
       "      <td>044 953 43 42</td>\n",
       "      <td>97</td>\n",
       "      <td>Pfäffikon</td>\n",
       "      <td>1</td>\n",
       "      <td>POINT (2702108.843 1247141.451)</td>\n",
       "      <td>8.790483</td>\n",
       "      <td>47.367202</td>\n",
       "      <td>2.702109e+06</td>\n",
       "      <td>1.247141e+06</td>\n",
       "    </tr>\n",
       "    <tr>\n",
       "      <th>1</th>\n",
       "      <td>Alters- und Pflegezentrum Rosengasse</td>\n",
       "      <td>Rosengasse 8</td>\n",
       "      <td>8332</td>\n",
       "      <td>Russikon</td>\n",
       "      <td>044 954 88 18</td>\n",
       "      <td>32</td>\n",
       "      <td>Pfäffikon</td>\n",
       "      <td>2</td>\n",
       "      <td>POINT (2700851.931 1250164.827)</td>\n",
       "      <td>8.774527</td>\n",
       "      <td>47.394585</td>\n",
       "      <td>2.700852e+06</td>\n",
       "      <td>1.250165e+06</td>\n",
       "    </tr>\n",
       "    <tr>\n",
       "      <th>2</th>\n",
       "      <td>Almacasa</td>\n",
       "      <td>Dorfstrasse 3b</td>\n",
       "      <td>8484</td>\n",
       "      <td>Weisslingen</td>\n",
       "      <td>052 544 44 44</td>\n",
       "      <td>30</td>\n",
       "      <td>Pfäffikon</td>\n",
       "      <td>3</td>\n",
       "      <td>POINT (2700020.645 1253977.359)</td>\n",
       "      <td>8.764371</td>\n",
       "      <td>47.428997</td>\n",
       "      <td>2.700021e+06</td>\n",
       "      <td>1.253977e+06</td>\n",
       "    </tr>\n",
       "    <tr>\n",
       "      <th>3</th>\n",
       "      <td>Oase Effretikon</td>\n",
       "      <td>Bietenholzstrasse 1</td>\n",
       "      <td>8307</td>\n",
       "      <td>Effretikon</td>\n",
       "      <td>052 354 54 54</td>\n",
       "      <td>33</td>\n",
       "      <td>Pfäffikon</td>\n",
       "      <td>4</td>\n",
       "      <td>POINT (2694106.338 1253183.279)</td>\n",
       "      <td>8.685825</td>\n",
       "      <td>47.422728</td>\n",
       "      <td>2.694106e+06</td>\n",
       "      <td>1.253183e+06</td>\n",
       "    </tr>\n",
       "    <tr>\n",
       "      <th>4</th>\n",
       "      <td>Seniorenzentrum Zion</td>\n",
       "      <td>Ringwiesenstrasse 14</td>\n",
       "      <td>8600</td>\n",
       "      <td>Dübendorf</td>\n",
       "      <td>044 802 18 18</td>\n",
       "      <td>61</td>\n",
       "      <td>Uster</td>\n",
       "      <td>5</td>\n",
       "      <td>POINT (2688101.136 1250213.342)</td>\n",
       "      <td>8.605664</td>\n",
       "      <td>47.396850</td>\n",
       "      <td>2.688101e+06</td>\n",
       "      <td>1.250213e+06</td>\n",
       "    </tr>\n",
       "    <tr>\n",
       "      <th>...</th>\n",
       "      <td>...</td>\n",
       "      <td>...</td>\n",
       "      <td>...</td>\n",
       "      <td>...</td>\n",
       "      <td>...</td>\n",
       "      <td>...</td>\n",
       "      <td>...</td>\n",
       "      <td>...</td>\n",
       "      <td>...</td>\n",
       "      <td>...</td>\n",
       "      <td>...</td>\n",
       "      <td>...</td>\n",
       "      <td>...</td>\n",
       "    </tr>\n",
       "    <tr>\n",
       "      <th>333</th>\n",
       "      <td>Alterszentrum Bruggwiesen - Haus A</td>\n",
       "      <td>Märtplatz 19</td>\n",
       "      <td>8307</td>\n",
       "      <td>Illnau-Effretikon</td>\n",
       "      <td>052 355 19 90</td>\n",
       "      <td>67</td>\n",
       "      <td>Pfäffikon</td>\n",
       "      <td>334</td>\n",
       "      <td>POINT (2694049.489 1253694.500)</td>\n",
       "      <td>8.685180</td>\n",
       "      <td>47.427334</td>\n",
       "      <td>2.694049e+06</td>\n",
       "      <td>1.253694e+06</td>\n",
       "    </tr>\n",
       "    <tr>\n",
       "      <th>334</th>\n",
       "      <td>Alterszentrum Bruggwiesen - Haus B/C</td>\n",
       "      <td>Märtplatz 19</td>\n",
       "      <td>8307</td>\n",
       "      <td>Illnau-Effretikon</td>\n",
       "      <td>052 355 19 90</td>\n",
       "      <td>90</td>\n",
       "      <td>Pfäffikon</td>\n",
       "      <td>335</td>\n",
       "      <td>POINT (2694049.489 1253694.500)</td>\n",
       "      <td>8.685180</td>\n",
       "      <td>47.427334</td>\n",
       "      <td>2.694049e+06</td>\n",
       "      <td>1.253694e+06</td>\n",
       "    </tr>\n",
       "    <tr>\n",
       "      <th>335</th>\n",
       "      <td>Alterszentrum Bruggwiesen - Dezentrale Wohngruppe</td>\n",
       "      <td>Schlimpergstrasse 2</td>\n",
       "      <td>8307</td>\n",
       "      <td>Illnau-Effretikon</td>\n",
       "      <td>052 355 19 90</td>\n",
       "      <td>8</td>\n",
       "      <td>Pfäffikon</td>\n",
       "      <td>336</td>\n",
       "      <td>POINT (2694264.784 1253989.754)</td>\n",
       "      <td>8.688095</td>\n",
       "      <td>47.429958</td>\n",
       "      <td>2.694265e+06</td>\n",
       "      <td>1.253990e+06</td>\n",
       "    </tr>\n",
       "    <tr>\n",
       "      <th>336</th>\n",
       "      <td>Alters- und Pflegeheim Neuhof</td>\n",
       "      <td>Hittnauerstrasse 34</td>\n",
       "      <td>8330</td>\n",
       "      <td>Pfäffikon</td>\n",
       "      <td>044 950 14 83</td>\n",
       "      <td>23</td>\n",
       "      <td>Pfäffikon</td>\n",
       "      <td>337</td>\n",
       "      <td>POINT (2702288.209 1246825.339)</td>\n",
       "      <td>8.792785</td>\n",
       "      <td>47.364331</td>\n",
       "      <td>2.702288e+06</td>\n",
       "      <td>1.246825e+06</td>\n",
       "    </tr>\n",
       "    <tr>\n",
       "      <th>337</th>\n",
       "      <td>Alterszentrum Sophie Guyer</td>\n",
       "      <td>Zelglistrasse 7</td>\n",
       "      <td>8330</td>\n",
       "      <td>Pfäffikon</td>\n",
       "      <td>044 952 56 56</td>\n",
       "      <td>86</td>\n",
       "      <td>Pfäffikon</td>\n",
       "      <td>338</td>\n",
       "      <td>POINT (2701681.998 1247231.417)</td>\n",
       "      <td>8.784854</td>\n",
       "      <td>47.368077</td>\n",
       "      <td>2.701682e+06</td>\n",
       "      <td>1.247231e+06</td>\n",
       "    </tr>\n",
       "  </tbody>\n",
       "</table>\n",
       "<p>338 rows × 13 columns</p>\n",
       "</div>"
      ],
      "text/plain": [
       "                                       Betrieb_Einheit        Strasse_Nummer  \\\n",
       "0                               GerAtrium Pfäffikon ZH      Hörnlistrasse 76   \n",
       "1                 Alters- und Pflegezentrum Rosengasse          Rosengasse 8   \n",
       "2                                             Almacasa        Dorfstrasse 3b   \n",
       "3                                      Oase Effretikon   Bietenholzstrasse 1   \n",
       "4                                 Seniorenzentrum Zion  Ringwiesenstrasse 14   \n",
       "..                                                 ...                   ...   \n",
       "333                 Alterszentrum Bruggwiesen - Haus A          Märtplatz 19   \n",
       "334               Alterszentrum Bruggwiesen - Haus B/C          Märtplatz 19   \n",
       "335  Alterszentrum Bruggwiesen - Dezentrale Wohngruppe   Schlimpergstrasse 2   \n",
       "336                      Alters- und Pflegeheim Neuhof   Hittnauerstrasse 34   \n",
       "337                         Alterszentrum Sophie Guyer       Zelglistrasse 7   \n",
       "\n",
       "      PLZ                Ort     Tel_nummer Anzahl_bewilligte_Betten  \\\n",
       "0    8330          Pfäffikon  044 953 43 42                       97   \n",
       "1    8332           Russikon  044 954 88 18                       32   \n",
       "2    8484        Weisslingen  052 544 44 44                       30   \n",
       "3    8307         Effretikon  052 354 54 54                       33   \n",
       "4    8600          Dübendorf  044 802 18 18                       61   \n",
       "..    ...                ...            ...                      ...   \n",
       "333  8307  Illnau-Effretikon  052 355 19 90                       67   \n",
       "334  8307  Illnau-Effretikon  052 355 19 90                       90   \n",
       "335  8307  Illnau-Effretikon  052 355 19 90                        8   \n",
       "336  8330          Pfäffikon  044 950 14 83                       23   \n",
       "337  8330          Pfäffikon  044 952 56 56                       86   \n",
       "\n",
       "        Bezirk  ObjectId                         geometry         x  \\\n",
       "0    Pfäffikon         1  POINT (2702108.843 1247141.451)  8.790483   \n",
       "1    Pfäffikon         2  POINT (2700851.931 1250164.827)  8.774527   \n",
       "2    Pfäffikon         3  POINT (2700020.645 1253977.359)  8.764371   \n",
       "3    Pfäffikon         4  POINT (2694106.338 1253183.279)  8.685825   \n",
       "4        Uster         5  POINT (2688101.136 1250213.342)  8.605664   \n",
       "..         ...       ...                              ...       ...   \n",
       "333  Pfäffikon       334  POINT (2694049.489 1253694.500)  8.685180   \n",
       "334  Pfäffikon       335  POINT (2694049.489 1253694.500)  8.685180   \n",
       "335  Pfäffikon       336  POINT (2694264.784 1253989.754)  8.688095   \n",
       "336  Pfäffikon       337  POINT (2702288.209 1246825.339)  8.792785   \n",
       "337  Pfäffikon       338  POINT (2701681.998 1247231.417)  8.784854   \n",
       "\n",
       "             y             e             n  \n",
       "0    47.367202  2.702109e+06  1.247141e+06  \n",
       "1    47.394585  2.700852e+06  1.250165e+06  \n",
       "2    47.428997  2.700021e+06  1.253977e+06  \n",
       "3    47.422728  2.694106e+06  1.253183e+06  \n",
       "4    47.396850  2.688101e+06  1.250213e+06  \n",
       "..         ...           ...           ...  \n",
       "333  47.427334  2.694049e+06  1.253694e+06  \n",
       "334  47.427334  2.694049e+06  1.253694e+06  \n",
       "335  47.429958  2.694265e+06  1.253990e+06  \n",
       "336  47.364331  2.702288e+06  1.246825e+06  \n",
       "337  47.368077  2.701682e+06  1.247231e+06  \n",
       "\n",
       "[338 rows x 13 columns]"
      ]
     },
     "execution_count": 149,
     "metadata": {},
     "output_type": "execute_result"
    }
   ],
   "source": [
    "gdf_pflegeheime_epsg2056"
   ]
  },
  {
   "cell_type": "markdown",
   "id": "d10088e0",
   "metadata": {},
   "source": [
    "Exportiere die Geodaten in ein CSV heraus."
   ]
  },
  {
   "cell_type": "code",
   "execution_count": 150,
   "id": "e72ea271",
   "metadata": {},
   "outputs": [],
   "source": [
    "#for i in range(0,len(gdf_pflegeheime_epsg2056)):\n",
    "#    gdf_pflegeheime_epsg2056.loc[i,'x'] = gdf_pflegeheime_epsg2056.geometry.centroid.x.iloc[i]\n",
    "#    gdf_pflegeheime_epsg2056.loc[i,'y'] = gdf_pflegeheime_epsg2056.geometry.centroid.y.iloc[i]"
   ]
  },
  {
   "cell_type": "code",
   "execution_count": 151,
   "id": "b3bc43a3",
   "metadata": {},
   "outputs": [],
   "source": [
    "path_file = r\"//szh.loc/ssz/data/GIS/Sandbox/2021/pflegeheime_ktzh/geopandas/ogd_pflegeheime_geocoded_geopandas.csv\"\n",
    "gdf_pflegeheime_epsg2056.to_csv(path_file, sep=',', encoding='utf-8-sig', index=False, chunksize=10000) "
   ]
  },
  {
   "cell_type": "markdown",
   "id": "11cd7f4f",
   "metadata": {},
   "source": [
    "\n",
    "test"
   ]
  },
  {
   "cell_type": "code",
   "execution_count": 4,
   "id": "b24db5c5",
   "metadata": {},
   "outputs": [],
   "source": [
    "\n",
    "path_url = r\"https://www.web.statistik.zh.ch/ogd/data/KANTON_ZUERICH_135.csv\""
   ]
  },
  {
   "cell_type": "code",
   "execution_count": 7,
   "id": "c0322ebf",
   "metadata": {},
   "outputs": [],
   "source": [
    "imp_data2betested = pd.read_csv(\n",
    "    path_url, \n",
    "    sep=';',\n",
    "   #usecols=[0,1,2,3,4,6],\n",
    "   #names=['stationid','year','month','avgtemp','latitude','longitude','elevation','station','countryid','country'],\n",
    "   #skiprows=1,\n",
    "   # parse_dates=[0],\n",
    "    parse_dates=True,\n",
    "    date_parser=lambda x: pd.to_datetime(x, format=\"%Y\"), \n",
    "    #index_col=\"date_time\",\n",
    "    low_memory=False    \n",
    "    )"
   ]
  },
  {
   "cell_type": "code",
   "execution_count": 9,
   "id": "9a1448ff",
   "metadata": {},
   "outputs": [
    {
     "name": "stdout",
     "output_type": "stream",
     "text": [
      "<class 'pandas.core.frame.DataFrame'>\n",
      "RangeIndex: 4729 entries, 0 to 4728\n",
      "Data columns (total 12 columns):\n",
      " #   Column           Non-Null Count  Dtype  \n",
      "---  ------           --------------  -----  \n",
      " 0   BFS_NR           4729 non-null   int64  \n",
      " 1   GEBIET_NAME      4729 non-null   object \n",
      " 2   THEMA_NAME       4729 non-null   object \n",
      " 3   SET_NAME         4729 non-null   object \n",
      " 4   SUBSET_NAME      4729 non-null   object \n",
      " 5   INDIKATOR_ID     4729 non-null   int64  \n",
      " 6   INDIKATOR_NAME   4729 non-null   object \n",
      " 7   INDIKATOR_JAHR   4729 non-null   int64  \n",
      " 8   INDIKATOR_VALUE  4727 non-null   float64\n",
      " 9   EINHEIT_KURZ     4729 non-null   object \n",
      " 10  EINHEIT_LANG     4729 non-null   object \n",
      " 11  Unnamed: 11      0 non-null      float64\n",
      "dtypes: float64(2), int64(3), object(7)\n",
      "memory usage: 443.5+ KB\n"
     ]
    }
   ],
   "source": [
    "imp_data2betested.info()"
   ]
  },
  {
   "cell_type": "code",
   "execution_count": 27,
   "id": "7f781240",
   "metadata": {},
   "outputs": [
    {
     "name": "stdout",
     "output_type": "stream",
     "text": [
      "<class 'pandas.core.frame.DataFrame'>\n",
      "RangeIndex: 4729 entries, 0 to 4728\n",
      "Data columns (total 4 columns):\n",
      " #   Column           Non-Null Count  Dtype  \n",
      "---  ------           --------------  -----  \n",
      " 0   GEBIET_NAME      4729 non-null   object \n",
      " 1   BFS_NR           4729 non-null   int64  \n",
      " 2   INDIKATOR_JAHR   4729 non-null   int64  \n",
      " 3   INDIKATOR_VALUE  4727 non-null   float64\n",
      "dtypes: float64(1), int64(2), object(1)\n",
      "memory usage: 147.9+ KB\n"
     ]
    }
   ],
   "source": [
    "tst= imp_data2betested[['GEBIET_NAME','BFS_NR','INDIKATOR_JAHR','INDIKATOR_VALUE']]\n",
    "\n",
    "tst.info()"
   ]
  },
  {
   "cell_type": "code",
   "execution_count": 29,
   "id": "73def0a8",
   "metadata": {},
   "outputs": [
    {
     "ename": "SyntaxError",
     "evalue": "unexpected EOF while parsing (<ipython-input-29-bb1831fc7596>, line 8)",
     "output_type": "error",
     "traceback": [
      "\u001b[1;36m  File \u001b[1;32m\"<ipython-input-29-bb1831fc7596>\"\u001b[1;36m, line \u001b[1;32m8\u001b[0m\n\u001b[1;33m    .head(500)\u001b[0m\n\u001b[1;37m              ^\u001b[0m\n\u001b[1;31mSyntaxError\u001b[0m\u001b[1;31m:\u001b[0m unexpected EOF while parsing\n"
     ]
    }
   ],
   "source": [
    "#.agg(anz_betreungsplaetze_sk=('Anz_BP_SQ', 'sum'), anz_kinder_va_sk=('Anz_Kinder_VA', 'sum')) \\\n",
    "\n",
    "tst \\\n",
    "    .groupby(['GEBIET_NAME','BFS_NR','INDIKATOR_JAHR','INDIKATOR_VALUE']) \\\n",
    "    .agg(summe=('INDIKATOR_VALUE', 'sum') \\\n",
    "    .query('INDIKATOR_JAHR > 260') \\\n",
    "    .sort_values('INDIKATOR_JAHR', ascending=False) \\\n",
    "    .head(500)"
   ]
  },
  {
   "cell_type": "code",
   "execution_count": null,
   "id": "7f427d30",
   "metadata": {},
   "outputs": [],
   "source": []
  }
 ],
 "metadata": {
  "kernelspec": {
   "display_name": "Python 3",
   "language": "python",
   "name": "python3"
  },
  "language_info": {
   "codemirror_mode": {
    "name": "ipython",
    "version": 3
   },
   "file_extension": ".py",
   "mimetype": "text/x-python",
   "name": "python",
   "nbconvert_exporter": "python",
   "pygments_lexer": "ipython3",
   "version": "3.8.8"
  },
  "toc-showmarkdowntxt": true
 },
 "nbformat": 4,
 "nbformat_minor": 5
}
