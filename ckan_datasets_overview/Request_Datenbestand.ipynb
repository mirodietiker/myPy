{
 "cells": [
  {
   "cell_type": "markdown",
   "id": "a43f0ba7-41ba-4a3a-b49e-fcb57c4633ae",
   "metadata": {},
   "source": [
    "# Abruf des aktuellen Datenbestands und Export als Excel\n",
    "\n",
    "Als Input werden viele Data Owner wissen wollen, welche Datensätze von ihnen bereits OGD sind und wie sie beschrieben wurden. Daher soll dieses Notebook mal alle Daten abrufen und als Excel verfügbar machen. Wir hatten dies via SAS mal gehabt. Aktuell gibt es aber nichts dazu.\n"
   ]
  },
  {
   "cell_type": "markdown",
   "id": "68aef4bc-a765-4d7b-9ecd-3600cf4fab77",
   "metadata": {},
   "source": [
    "## Lade Packages"
   ]
  },
  {
   "cell_type": "code",
   "execution_count": 21,
   "id": "23aab8a6-eb68-4edb-bd7a-2d14376c8306",
   "metadata": {},
   "outputs": [],
   "source": [
    "#pip install geopandas altair fiona requests folium mplleaflet contextily seaborn datetime plotly "
   ]
  },
  {
   "cell_type": "code",
   "execution_count": 22,
   "id": "e5cc7afe-6447-45c5-a86a-6829b07210ee",
   "metadata": {},
   "outputs": [],
   "source": [
    "import pandas as pd\n",
    "import numpy as np\n",
    "import altair as alt\n",
    "import matplotlib.pyplot as plt\n",
    "from datetime import datetime\n",
    "import geopandas as gpd\n",
    "import folium \n",
    "import requests\n",
    "import urllib3.request, json "
   ]
  },
  {
   "cell_type": "markdown",
   "id": "96ae5558-1eaf-45a3-ac6a-9bfe68f69ad5",
   "metadata": {},
   "source": [
    "### SSL-Einstellungen"
   ]
  },
  {
   "cell_type": "code",
   "execution_count": 23,
   "id": "940a7ac5-e139-4c2e-b85f-154c2748a35b",
   "metadata": {},
   "outputs": [],
   "source": [
    "SSL_VERIFY = False\n",
    "# evtl. SSL_VERIFY auf False setzen wenn die Verbindung zu https://www.gemeinderat-zuerich.ch nicht klappt (z.B. wegen Proxy)\n",
    "# Um die SSL Verifikation auszustellen, bitte die nächste Zeile einkommentieren (\"#\" entfernen)\n",
    "# SSL_VERIFY = False"
   ]
  },
  {
   "cell_type": "code",
   "execution_count": 24,
   "id": "611c31c2-7433-4e7c-832b-5f2bc8aa544a",
   "metadata": {},
   "outputs": [],
   "source": [
    "if not SSL_VERIFY:\n",
    "    import urllib3\n",
    "    urllib3.disable_warnings()"
   ]
  },
  {
   "cell_type": "markdown",
   "id": "77176ea2-ab5a-4f22-ab81-e5e6f33ed56d",
   "metadata": {},
   "source": [
    "### Parameter einstellen"
   ]
  },
  {
   "cell_type": "code",
   "execution_count": 25,
   "id": "c4423c95-e847-45cd-96f0-7d10b134d12b",
   "metadata": {},
   "outputs": [],
   "source": [
    "# Execution mode\n",
    "# 1 = normal mode - with hundrets of ckan-api calls, will take a few minutes\n",
    "# 2 = test mode - limited to 20 api-calls\n",
    "# 3 = mapping mode - no api calls, just the fast mapping and image creation \n",
    "mode = 2\n",
    "\n",
    "# general settings\n",
    "now = datetime.now()\n",
    "today = now.strftime(\"%Y-%m-%d\")\n",
    "\n",
    "\n",
    "# api settings\n",
    "ckanurl = \"https://data.stadt-zuerich.ch\"\n",
    "listapi = ckanurl + \"/api/3/action/package_list\"\n",
    "showapi = ckanurl + \"/api/3/action/package_show?id=\" \n",
    "\n",
    "queryapi = ckanurl + \"/api/3/action/package_search?q=&rows=999\"\n",
    "\n",
    "# file settings\n",
    "pkgcsv = \"pkg-list.csv\"\n",
    "orgcsv = \"organizations.csv\"\n",
    "orgmapcsv = \"org-mapping.csv\"\n",
    "err_miss_map = \"error_missing-mapping.csv\"\n",
    "excel_out = \"Report OGD Datensätze nach Organisationseinheit.xlsx\""
   ]
  },
  {
   "cell_type": "code",
   "execution_count": 26,
   "id": "2c69510c-8c67-4398-9ff6-caff8cc7a673",
   "metadata": {},
   "outputs": [
    {
     "name": "stdout",
     "output_type": "stream",
     "text": [
      "2021-11-17\n",
      "https://data.stadt-zuerich.ch/api/3/action/package_list\n",
      "https://data.stadt-zuerich.ch/api/3/action/package_show?id=\n",
      "https://data.stadt-zuerich.ch/api/3/action/package_search?q=&rows=999\n"
     ]
    }
   ],
   "source": [
    "print(today)\n",
    "print(listapi)\n",
    "print(showapi)\n",
    "print(queryapi)"
   ]
  },
  {
   "cell_type": "code",
   "execution_count": 27,
   "id": "720322ac-503c-405c-b123-80e09e3a241f",
   "metadata": {},
   "outputs": [],
   "source": [
    "#headers = {'Accept': 'application/json'}\n",
    "#r = requests.get(listapi, headers=headers, verify=SSL_VERIFY)\n",
    "#params = r.json()\n",
    "#params"
   ]
  },
  {
   "cell_type": "markdown",
   "id": "4c2ae2b2-45cf-4d78-83a5-90defaff67c2",
   "metadata": {},
   "source": [
    "Lese alle Datensätze in einen Dataframe"
   ]
  },
  {
   "cell_type": "code",
   "execution_count": 28,
   "id": "bed39a1c-7d00-4f58-addb-5056187fec9d",
   "metadata": {},
   "outputs": [
    {
     "data": {
      "text/html": [
       "<div>\n",
       "<style scoped>\n",
       "    .dataframe tbody tr th:only-of-type {\n",
       "        vertical-align: middle;\n",
       "    }\n",
       "\n",
       "    .dataframe tbody tr th {\n",
       "        vertical-align: top;\n",
       "    }\n",
       "\n",
       "    .dataframe thead th {\n",
       "        text-align: right;\n",
       "    }\n",
       "</style>\n",
       "<table border=\"1\" class=\"dataframe\">\n",
       "  <thead>\n",
       "    <tr style=\"text-align: right;\">\n",
       "      <th></th>\n",
       "      <th>result</th>\n",
       "    </tr>\n",
       "  </thead>\n",
       "  <tbody>\n",
       "    <tr>\n",
       "      <th>0</th>\n",
       "      <td>2014-02-13_urnengang-vom-9-februar-2014_raeuml...</td>\n",
       "    </tr>\n",
       "    <tr>\n",
       "      <th>1</th>\n",
       "      <td>2015-03-26_steigende-geburtenzahlen_folge-der-...</td>\n",
       "    </tr>\n",
       "    <tr>\n",
       "      <th>2</th>\n",
       "      <td>2015-03-26_wo-die-juengsten-wohnen</td>\n",
       "    </tr>\n",
       "    <tr>\n",
       "      <th>3</th>\n",
       "      <td>2015-04-21_kantonale-wahlen-12-april-2015_prof...</td>\n",
       "    </tr>\n",
       "    <tr>\n",
       "      <th>4</th>\n",
       "      <td>accessible-map-app-beta</td>\n",
       "    </tr>\n",
       "    <tr>\n",
       "      <th>...</th>\n",
       "      <td>...</td>\n",
       "    </tr>\n",
       "    <tr>\n",
       "      <th>839</th>\n",
       "      <td>zuripicknick-app</td>\n",
       "    </tr>\n",
       "    <tr>\n",
       "      <th>840</th>\n",
       "      <td>zuri-tours</td>\n",
       "    </tr>\n",
       "    <tr>\n",
       "      <th>841</th>\n",
       "      <td>zuri-zahlen</td>\n",
       "    </tr>\n",
       "    <tr>\n",
       "      <th>842</th>\n",
       "      <td>zwischenhalt-zurich</td>\n",
       "    </tr>\n",
       "    <tr>\n",
       "      <th>843</th>\n",
       "      <td>zwurmli</td>\n",
       "    </tr>\n",
       "  </tbody>\n",
       "</table>\n",
       "<p>844 rows × 1 columns</p>\n",
       "</div>"
      ],
      "text/plain": [
       "                                                result\n",
       "0    2014-02-13_urnengang-vom-9-februar-2014_raeuml...\n",
       "1    2015-03-26_steigende-geburtenzahlen_folge-der-...\n",
       "2                   2015-03-26_wo-die-juengsten-wohnen\n",
       "3    2015-04-21_kantonale-wahlen-12-april-2015_prof...\n",
       "4                              accessible-map-app-beta\n",
       "..                                                 ...\n",
       "839                                   zuripicknick-app\n",
       "840                                         zuri-tours\n",
       "841                                        zuri-zahlen\n",
       "842                                zwischenhalt-zurich\n",
       "843                                            zwurmli\n",
       "\n",
       "[844 rows x 1 columns]"
      ]
     },
     "execution_count": 28,
     "metadata": {},
     "output_type": "execute_result"
    }
   ],
   "source": [
    "listdata = pd.read_json(listapi) \n",
    "ids = listdata[['result']]\n",
    "ids"
   ]
  },
  {
   "cell_type": "code",
   "execution_count": 29,
   "id": "96b031c8-25fe-4569-899e-14dcdd5e2389",
   "metadata": {},
   "outputs": [],
   "source": [
    "all_data = pd.read_json(queryapi)\n"
   ]
  },
  {
   "cell_type": "code",
   "execution_count": 37,
   "id": "cc16baa7-c197-43af-84e6-3d75982a4581",
   "metadata": {},
   "outputs": [],
   "source": [
    "\n",
    "# PHASE 1: CKAN-API GET INFORMATION ABOUT ALL DATASETS\n",
    "# query all packages\n",
    "#with urllib.request.urlopen(queryapi) as url:\n",
    "        #data = json.loads(url.read().decode())\n",
    "\n",
    "# prepare empty list\n",
    "list_pkg = []\n",
    "\n",
    "# loop trough all the packages \n",
    "for dataset in all_data[\"result\"][\"results\"]:\n",
    "    \n",
    "      #we are only interested in active datasets (no harvesters or showcases)      \n",
    "    if (dataset[\"type\"]==\"dataset\") & (dataset[\"state\"]==\"active\"):\n",
    "        pkg_title = dataset[\"title\"]\n",
    "        pkg_author = dataset[\"author\"]\n",
    "        pkg_name = dataset[\"name\"]        \n",
    "        #pkg_dataqualtity = dataset[\"dataQuality\"]\n",
    "        pkg_updateInterval = dataset[\"updateInterval\"]\n",
    "        #pkg_FirstPublished = dataset[\"dateFirstPublished\"]          \n",
    "        pkg_license = dataset[\"license_id\"]  \n",
    "        pkg_metadatacreated = dataset[\"metadata_created\"]\n",
    "        pkg_spatialRelationship = dataset[\"spatialRelationship\"]\n",
    "        pkg_timeRange = dataset[\"timeRange\"]\n",
    "  \n",
    "\n",
    "        \n",
    "        # add relevant attributes to a list\n",
    "        element_list_pkg = [pkg_title, pkg_author, pkg_name, pkg_timeRange, pkg_updateInterval,  pkg_spatialRelationship, pkg_metadatacreated.split('T'), pkg_license]\n",
    "        list_pkg.append(element_list_pkg)\n",
    "        \n",
    "# Convert list_pkg to dataframe for further processing (merging with mappings)\n",
    "data_list = pd.DataFrame(list_pkg, columns = ['title', 'author','name', 'timeRange','update_Interval', 'Raum','metadatacreated', 'license']) \n"
   ]
  },
  {
   "cell_type": "code",
   "execution_count": 38,
   "id": "1f614d08-6d66-4d86-ada5-000bf5eb9e99",
   "metadata": {},
   "outputs": [
    {
     "data": {
      "text/html": [
       "<div>\n",
       "<style scoped>\n",
       "    .dataframe tbody tr th:only-of-type {\n",
       "        vertical-align: middle;\n",
       "    }\n",
       "\n",
       "    .dataframe tbody tr th {\n",
       "        vertical-align: top;\n",
       "    }\n",
       "\n",
       "    .dataframe thead th {\n",
       "        text-align: right;\n",
       "    }\n",
       "</style>\n",
       "<table border=\"1\" class=\"dataframe\">\n",
       "  <thead>\n",
       "    <tr style=\"text-align: right;\">\n",
       "      <th></th>\n",
       "      <th>title</th>\n",
       "      <th>author</th>\n",
       "      <th>name</th>\n",
       "      <th>timeRange</th>\n",
       "      <th>update_Interval</th>\n",
       "      <th>Raum</th>\n",
       "      <th>metadatacreated</th>\n",
       "      <th>license</th>\n",
       "    </tr>\n",
       "  </thead>\n",
       "  <tbody>\n",
       "    <tr>\n",
       "      <th>0</th>\n",
       "      <td>Daten der Verkehrszählung zum motorisierten In...</td>\n",
       "      <td>Dienstabteilung Verkehr, Sicherheitsdepartement</td>\n",
       "      <td>sid_dav_verkehrszaehlung_miv_od2031</td>\n",
       "      <td>2012 - vorgestern</td>\n",
       "      <td>[taeglich]</td>\n",
       "      <td>Stadt Zürich</td>\n",
       "      <td>[2020-03-11, 12:06:00.811855]</td>\n",
       "      <td>cc-zero</td>\n",
       "    </tr>\n",
       "    <tr>\n",
       "      <th>1</th>\n",
       "      <td>Daten der automatischen Fussgänger- und Velozä...</td>\n",
       "      <td>Tiefbauamt, Abteilung Verkehr + Stadtraum, Tie...</td>\n",
       "      <td>ted_taz_verkehrszaehlungen_werte_fussgaenger_velo</td>\n",
       "      <td>laufende Nachführung seit 2009</td>\n",
       "      <td>[taeglich]</td>\n",
       "      <td>Stadt Zürich</td>\n",
       "      <td>[2020-03-16, 12:37:39.927543]</td>\n",
       "      <td>cc-zero</td>\n",
       "    </tr>\n",
       "  </tbody>\n",
       "</table>\n",
       "</div>"
      ],
      "text/plain": [
       "                                               title  \\\n",
       "0  Daten der Verkehrszählung zum motorisierten In...   \n",
       "1  Daten der automatischen Fussgänger- und Velozä...   \n",
       "\n",
       "                                              author  \\\n",
       "0    Dienstabteilung Verkehr, Sicherheitsdepartement   \n",
       "1  Tiefbauamt, Abteilung Verkehr + Stadtraum, Tie...   \n",
       "\n",
       "                                                name  \\\n",
       "0                sid_dav_verkehrszaehlung_miv_od2031   \n",
       "1  ted_taz_verkehrszaehlungen_werte_fussgaenger_velo   \n",
       "\n",
       "                        timeRange update_Interval          Raum  \\\n",
       "0               2012 - vorgestern      [taeglich]  Stadt Zürich   \n",
       "1  laufende Nachführung seit 2009      [taeglich]  Stadt Zürich   \n",
       "\n",
       "                 metadatacreated  license  \n",
       "0  [2020-03-11, 12:06:00.811855]  cc-zero  \n",
       "1  [2020-03-16, 12:37:39.927543]  cc-zero  "
      ]
     },
     "execution_count": 38,
     "metadata": {},
     "output_type": "execute_result"
    }
   ],
   "source": [
    "data_list.head(2)    "
   ]
  },
  {
   "cell_type": "code",
   "execution_count": 39,
   "id": "5737c10b-f1fa-42e8-838f-9ce1cea3ec22",
   "metadata": {},
   "outputs": [],
   "source": [
    "data_list.to_csv('data_list.csv')"
   ]
  },
  {
   "cell_type": "markdown",
   "id": "b8af93b3-de5e-4e3d-8f38-57285a993a1e",
   "metadata": {},
   "source": [
    "Wie sehen alle Daten aus als JSON?"
   ]
  },
  {
   "cell_type": "code",
   "execution_count": 33,
   "id": "c0a4ca23-167c-482d-9eb4-3fc2677910d0",
   "metadata": {},
   "outputs": [],
   "source": [
    "all_data_json = all_data[\"result\"][\"results\"]"
   ]
  },
  {
   "cell_type": "code",
   "execution_count": 34,
   "id": "d032f6f0-78c0-4324-b88b-70a67987f87b",
   "metadata": {},
   "outputs": [
    {
     "data": {
      "text/html": [
       "<div>\n",
       "<style scoped>\n",
       "    .dataframe tbody tr th:only-of-type {\n",
       "        vertical-align: middle;\n",
       "    }\n",
       "\n",
       "    .dataframe tbody tr th {\n",
       "        vertical-align: top;\n",
       "    }\n",
       "\n",
       "    .dataframe thead th {\n",
       "        text-align: right;\n",
       "    }\n",
       "</style>\n",
       "<table border=\"1\" class=\"dataframe\">\n",
       "  <thead>\n",
       "    <tr style=\"text-align: right;\">\n",
       "      <th></th>\n",
       "      <th>owner_org</th>\n",
       "      <th>maintainer</th>\n",
       "      <th>relationships_as_object</th>\n",
       "      <th>private</th>\n",
       "      <th>maintainer_email</th>\n",
       "      <th>num_tags</th>\n",
       "      <th>id</th>\n",
       "      <th>metadata_created</th>\n",
       "      <th>metadata_modified</th>\n",
       "      <th>author</th>\n",
       "      <th>...</th>\n",
       "      <th>organization.created</th>\n",
       "      <th>organization.title</th>\n",
       "      <th>organization.name</th>\n",
       "      <th>organization.is_organization</th>\n",
       "      <th>organization.state</th>\n",
       "      <th>organization.image_url</th>\n",
       "      <th>organization.revision_id</th>\n",
       "      <th>organization.type</th>\n",
       "      <th>organization.id</th>\n",
       "      <th>organization.approval_status</th>\n",
       "    </tr>\n",
       "  </thead>\n",
       "  <tbody>\n",
       "    <tr>\n",
       "      <th>0</th>\n",
       "      <td>stadt-zurich</td>\n",
       "      <td>Open Data Zürich</td>\n",
       "      <td>[]</td>\n",
       "      <td>False</td>\n",
       "      <td>opendata@zuerich.ch</td>\n",
       "      <td>15</td>\n",
       "      <td>6212fd20-e816-4828-a67f-90f057f25ddb</td>\n",
       "      <td>2020-03-11T12:06:00.811855</td>\n",
       "      <td>2021-11-17T06:28:36.589771</td>\n",
       "      <td>Dienstabteilung Verkehr, Sicherheitsdepartement</td>\n",
       "      <td>...</td>\n",
       "      <td>2015-06-25T13:53:59.198168</td>\n",
       "      <td>Stadt Zürich</td>\n",
       "      <td>stadt-zurich</td>\n",
       "      <td>True</td>\n",
       "      <td>active</td>\n",
       "      <td>https://www.stadt-zuerich.ch/content/dam/stzh/...</td>\n",
       "      <td>02c59c8a-fb42-4d2a-8a11-a12a036617ee</td>\n",
       "      <td>organization</td>\n",
       "      <td>stadt-zurich</td>\n",
       "      <td>approved</td>\n",
       "    </tr>\n",
       "  </tbody>\n",
       "</table>\n",
       "<p>1 rows × 51 columns</p>\n",
       "</div>"
      ],
      "text/plain": [
       "      owner_org        maintainer relationships_as_object  private  \\\n",
       "0  stadt-zurich  Open Data Zürich                      []    False   \n",
       "\n",
       "      maintainer_email  num_tags                                    id  \\\n",
       "0  opendata@zuerich.ch        15  6212fd20-e816-4828-a67f-90f057f25ddb   \n",
       "\n",
       "             metadata_created           metadata_modified  \\\n",
       "0  2020-03-11T12:06:00.811855  2021-11-17T06:28:36.589771   \n",
       "\n",
       "                                            author  ...  \\\n",
       "0  Dienstabteilung Verkehr, Sicherheitsdepartement  ...   \n",
       "\n",
       "         organization.created organization.title organization.name  \\\n",
       "0  2015-06-25T13:53:59.198168       Stadt Zürich      stadt-zurich   \n",
       "\n",
       "  organization.is_organization organization.state  \\\n",
       "0                         True             active   \n",
       "\n",
       "                              organization.image_url  \\\n",
       "0  https://www.stadt-zuerich.ch/content/dam/stzh/...   \n",
       "\n",
       "               organization.revision_id  organization.type organization.id  \\\n",
       "0  02c59c8a-fb42-4d2a-8a11-a12a036617ee       organization    stadt-zurich   \n",
       "\n",
       "  organization.approval_status  \n",
       "0                     approved  \n",
       "\n",
       "[1 rows x 51 columns]"
      ]
     },
     "execution_count": 34,
     "metadata": {},
     "output_type": "execute_result"
    }
   ],
   "source": [
    "df_all_data = pd.json_normalize(all_data_json) \n",
    "#df_all_data.to_csv('df_all_data.csv')\n",
    "df_all_data.head(1)"
   ]
  },
  {
   "cell_type": "code",
   "execution_count": 35,
   "id": "ddb398f8-11d8-4ffb-9e39-4d2d3c3bb9d0",
   "metadata": {},
   "outputs": [
    {
     "data": {
      "text/plain": [
       "owner_org                       object\n",
       "maintainer                      object\n",
       "relationships_as_object         object\n",
       "private                           bool\n",
       "maintainer_email                object\n",
       "num_tags                         int64\n",
       "id                              object\n",
       "metadata_created                object\n",
       "metadata_modified               object\n",
       "author                          object\n",
       "author_email                    object\n",
       "dateFirstPublished              object\n",
       "state                           object\n",
       "version                         object\n",
       "license_id                      object\n",
       "type                            object\n",
       "resources                       object\n",
       "num_resources                    int64\n",
       "sszFields                       object\n",
       "tags                            object\n",
       "dataType                        object\n",
       "spatialRelationship             object\n",
       "dateLastUpdated                 object\n",
       "groups                          object\n",
       "creator_user_id                 object\n",
       "updateInterval                  object\n",
       "legalInformation                object\n",
       "relationships_as_subject        object\n",
       "license_title                   object\n",
       "name                            object\n",
       "isopen                            bool\n",
       "url                             object\n",
       "notes                           object\n",
       "timeRange                       object\n",
       "sszBemerkungen                  object\n",
       "extras                          object\n",
       "license_url                     object\n",
       "dataQuality                     object\n",
       "title                           object\n",
       "revision_id                     object\n",
       "organization.description        object\n",
       "organization.created            object\n",
       "organization.title              object\n",
       "organization.name               object\n",
       "organization.is_organization      bool\n",
       "organization.state              object\n",
       "organization.image_url          object\n",
       "organization.revision_id        object\n",
       "organization.type               object\n",
       "organization.id                 object\n",
       "organization.approval_status    object\n",
       "dtype: object"
      ]
     },
     "execution_count": 35,
     "metadata": {},
     "output_type": "execute_result"
    }
   ],
   "source": [
    "df_all_data.dtypes"
   ]
  },
  {
   "cell_type": "code",
   "execution_count": 36,
   "id": "4ebcf6ca-6c64-47b3-b23a-8e4bec34cb2a",
   "metadata": {},
   "outputs": [
    {
     "data": {
      "text/html": [
       "<div>\n",
       "<style scoped>\n",
       "    .dataframe tbody tr th:only-of-type {\n",
       "        vertical-align: middle;\n",
       "    }\n",
       "\n",
       "    .dataframe tbody tr th {\n",
       "        vertical-align: top;\n",
       "    }\n",
       "\n",
       "    .dataframe thead th {\n",
       "        text-align: right;\n",
       "    }\n",
       "</style>\n",
       "<table border=\"1\" class=\"dataframe\">\n",
       "  <thead>\n",
       "    <tr style=\"text-align: right;\">\n",
       "      <th></th>\n",
       "      <th>help</th>\n",
       "      <th>success</th>\n",
       "      <th>result</th>\n",
       "    </tr>\n",
       "  </thead>\n",
       "  <tbody>\n",
       "    <tr>\n",
       "      <th>count</th>\n",
       "      <td>https://data.stadt-zuerich.ch/api/3/action/hel...</td>\n",
       "      <td>True</td>\n",
       "      <td>20</td>\n",
       "    </tr>\n",
       "    <tr>\n",
       "      <th>facets</th>\n",
       "      <td>https://data.stadt-zuerich.ch/api/3/action/hel...</td>\n",
       "      <td>True</td>\n",
       "      <td>{}</td>\n",
       "    </tr>\n",
       "    <tr>\n",
       "      <th>results</th>\n",
       "      <td>https://data.stadt-zuerich.ch/api/3/action/hel...</td>\n",
       "      <td>True</td>\n",
       "      <td>[{'owner_org': 'stadt-zurich', 'maintainer': '...</td>\n",
       "    </tr>\n",
       "    <tr>\n",
       "      <th>search_facets</th>\n",
       "      <td>https://data.stadt-zuerich.ch/api/3/action/hel...</td>\n",
       "      <td>True</td>\n",
       "      <td>{}</td>\n",
       "    </tr>\n",
       "    <tr>\n",
       "      <th>sort</th>\n",
       "      <td>https://data.stadt-zuerich.ch/api/3/action/hel...</td>\n",
       "      <td>True</td>\n",
       "      <td>score desc, date_last_modified desc</td>\n",
       "    </tr>\n",
       "  </tbody>\n",
       "</table>\n",
       "</div>"
      ],
      "text/plain": [
       "                                                            help  success  \\\n",
       "count          https://data.stadt-zuerich.ch/api/3/action/hel...     True   \n",
       "facets         https://data.stadt-zuerich.ch/api/3/action/hel...     True   \n",
       "results        https://data.stadt-zuerich.ch/api/3/action/hel...     True   \n",
       "search_facets  https://data.stadt-zuerich.ch/api/3/action/hel...     True   \n",
       "sort           https://data.stadt-zuerich.ch/api/3/action/hel...     True   \n",
       "\n",
       "                                                          result  \n",
       "count                                                         20  \n",
       "facets                                                        {}  \n",
       "results        [{'owner_org': 'stadt-zurich', 'maintainer': '...  \n",
       "search_facets                                                 {}  \n",
       "sort                         score desc, date_last_modified desc  "
      ]
     },
     "execution_count": 36,
     "metadata": {},
     "output_type": "execute_result"
    }
   ],
   "source": [
    "gud_data = pd.read_json(\"https://data.stadt-zuerich.ch/api/3/action/package_search?q=Gesundheits-+und+Umweltdepartement\")\n",
    "gud_data"
   ]
  },
  {
   "cell_type": "code",
   "execution_count": null,
   "id": "d0b2862f-6f2d-4c7f-8a3d-3de98e1eb7b8",
   "metadata": {},
   "outputs": [],
   "source": []
  }
 ],
 "metadata": {
  "kernelspec": {
   "display_name": "Python 3 (ipykernel)",
   "language": "python",
   "name": "python3"
  },
  "language_info": {
   "codemirror_mode": {
    "name": "ipython",
    "version": 3
   },
   "file_extension": ".py",
   "mimetype": "text/x-python",
   "name": "python",
   "nbconvert_exporter": "python",
   "pygments_lexer": "ipython3",
   "version": "3.9.7"
  }
 },
 "nbformat": 4,
 "nbformat_minor": 5
}
