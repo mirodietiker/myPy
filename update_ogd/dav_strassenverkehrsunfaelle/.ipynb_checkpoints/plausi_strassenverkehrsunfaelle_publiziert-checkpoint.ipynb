{
 "cells": [
  {
   "cell_type": "code",
   "execution_count": null,
   "id": "7ef988e8-7e9f-48f8-bc26-fe4bc2342013",
   "metadata": {},
   "outputs": [],
   "source": []
  },
  {
   "cell_type": "markdown",
   "id": "eb0d4092-5438-408b-9f3e-a8b46a625406",
   "metadata": {},
   "source": [
    "# Datenaufbereitung Strassenverkehrsunfaelle für Dashboard auf AGOL\n",
    "Datum: 14.01.2022\n",
    "\n",
    "Seit 2020 habe ich auf AGOL ein Dashboard erstellt, welches beim DAV aufgeschalten wird.\n",
    "\n",
    "- Datenbasis: [**Polizeilich registrierte Verkehrsunfälle auf dem Stadtgebiet Zürich seit 2011**](https://data.stadt-zuerich.ch/dataset/sid_dav_strassenverkehrsunfallorte)\n",
    "- [**Dashboard (aktuell)**](https://www.arcgis.com/apps/dashboards/f17bc71aa3ec4162a0744a602268dbe8)\n",
    "\n",
    "\n",
    "Der Projektordner befindet sich auf **O:\\GIS\\Tools\\AGOL\\produktive_dashboards\\strassenverkehrsunfaelle**\n",
    "\n",
    "\n",
    "\n",
    "\n",
    "<!---  \n",
    "Dieses Notebook verwendet als Vorlage die Webseite «[Kitas in Berlin - Jupyter Notebook](https://juanitorduz.github.io/kitas_berlin/)» \n",
    "---!>\n",
    "\n",
    "Mit Colab kann **dieses Jupyter-Notebook interaktiv im Browser** gestartet werden:\n",
    "[![Open In Colab](https://colab.research.google.com/assets/colab-badge.svg)](https://colab.research.google.com/github/DonGoginho/myPy_RIS_API/blob/main/RIS_API_AL_Geschaefte.ipynb)\n"
   ]
  },
  {
   "cell_type": "code",
   "execution_count": 1,
   "id": "1cce8324-17f2-4912-be99-aad2f437f150",
   "metadata": {},
   "outputs": [],
   "source": [
    "#%pip install geopandas fiona requests folium mplleaflet contextily"
   ]
  },
  {
   "cell_type": "markdown",
   "id": "9b1a1723-7998-47b9-9579-4a9b7f7660fe",
   "metadata": {},
   "source": [
    "## Importiere notwendige Packages:"
   ]
  },
  {
   "cell_type": "code",
   "execution_count": 42,
   "id": "89101aee-b4f7-4db7-b91f-8c69ec0bc035",
   "metadata": {},
   "outputs": [],
   "source": [
    "import numpy as np\n",
    "import pandas as pd\n",
    "import geopandas as gpd\n",
    "import altair as alt\n",
    "import fiona\n",
    "import requests\n",
    "import mplleaflet\n",
    "import matplotlib.pyplot as plt\n",
    "import matplotlib.ticker as mtick\n",
    "import seaborn as sns\n",
    "\n",
    "pd.options.display.float_format = '{:.8f}'.format\n",
    "#pd.set_option('display.width', 100)\n",
    "#pd.set_option('display.max_columns', 15)\n",
    "\n",
    "import datetime\n",
    "import time"
   ]
  },
  {
   "cell_type": "markdown",
   "id": "dfddcf5b-3a00-41fb-9458-e21d5ccf11b9",
   "metadata": {},
   "source": [
    "**Inhaltsverzeichnis:**\n",
    "\n",
    "AGOL braucht komischerweise ein csv in wgs84 mit entsprechenden xy-Werten. Das geht besser als direkt ein geoJSON... was erstaunlich ist. \n",
    "Aber ja, daher gehen wir wie folgt vor:\n",
    "\n",
    "1. [Daten importieren](#LiesDatenein): Das csv wird weiter bearbeitet. Vom GeoJSON übernehmen wir XY in WGS84 und joinen es via UID.\n",
    "2. [Daten aufbereiten](#)\n",
    "3. [Daten exportieren](#Explorative_Analyse)\n",
    "\n"
   ]
  },
  {
   "cell_type": "markdown",
   "id": "9a80cf93-104e-45d7-9e94-8aab624a48e1",
   "metadata": {},
   "source": [
    "## Lies Daten ein\n"
   ]
  },
  {
   "cell_type": "markdown",
   "id": "4bf91ca3-0330-475e-8950-a29eb4c99c9f",
   "metadata": {},
   "source": [
    "### Importiere den aktuellst verfügbaren Bestand als CSV oder als JSON vom Datenkatalog\n",
    "\n",
    "- Link zum csv online: https://data.stadt-zuerich.ch/dataset/sid_dav_strassenverkehrsunfallorte/download/RoadTrafficAccidentLocations.csv\n",
    "- Link zum geojson online: https://data.stadt-zuerich.ch/dataset/sid_dav_strassenverkehrsunfallorte/download/RoadTrafficAccidentLocations.json\n",
    "\n"
   ]
  },
  {
   "cell_type": "markdown",
   "id": "86f56136-bf31-4a51-b644-0c3416c9a10d",
   "metadata": {},
   "source": [
    "#### Importiere das GeoJSON\n",
    "\n",
    "Importiere das veröffentlichte GeoJSON und lies es in einen GeoDataFrame ein."
   ]
  },
  {
   "cell_type": "code",
   "execution_count": 61,
   "id": "f7f8b988-b722-405b-b005-a7a9b00ce29d",
   "metadata": {},
   "outputs": [
    {
     "name": "stdout",
     "output_type": "stream",
     "text": [
      "done\n"
     ]
    }
   ],
   "source": [
    "json_url = \"https://data.stadt-zuerich.ch/dataset/sid_dav_strassenverkehrsunfallorte/download/RoadTrafficAccidentLocations.json\"\n",
    "gdf_geojson_RoadTrafficAccidentLocations = gpd.read_file(json_url)\n",
    "print('done')"
   ]
  },
  {
   "cell_type": "code",
   "execution_count": 63,
   "id": "2c6365c6-6de3-470e-9281-7b2e7ff4cd8b",
   "metadata": {},
   "outputs": [],
   "source": [
    "#gdf_geojson_RoadTrafficAccidentLocations.head(1)\n",
    "#df_geojson_RoadTrafficAccidentLocations.dtypes\n",
    "gdf_xy_wgs84_geojson_epsg4326 = gdf_geojson_RoadTrafficAccidentLocations.set_crs('epsg:4326')"
   ]
  },
  {
   "cell_type": "markdown",
   "id": "2eec8af3-3054-4c72-be18-234db316dde9",
   "metadata": {},
   "source": [
    "Schau dir die Koordinatenwerte an"
   ]
  },
  {
   "cell_type": "code",
   "execution_count": 64,
   "id": "b2f9f663-b961-4ff1-bc72-f3a8c9338d9b",
   "metadata": {},
   "outputs": [
    {
     "data": {
      "text/html": [
       "<div>\n",
       "<style scoped>\n",
       "    .dataframe tbody tr th:only-of-type {\n",
       "        vertical-align: middle;\n",
       "    }\n",
       "\n",
       "    .dataframe tbody tr th {\n",
       "        vertical-align: top;\n",
       "    }\n",
       "\n",
       "    .dataframe thead th {\n",
       "        text-align: right;\n",
       "    }\n",
       "</style>\n",
       "<table border=\"1\" class=\"dataframe\">\n",
       "  <thead>\n",
       "    <tr style=\"text-align: right;\">\n",
       "      <th></th>\n",
       "      <th>AccidentUID</th>\n",
       "      <th>AccidentLocation_CHLV95_E</th>\n",
       "      <th>AccidentLocation_CHLV95_N</th>\n",
       "      <th>geometry</th>\n",
       "    </tr>\n",
       "  </thead>\n",
       "  <tbody>\n",
       "    <tr>\n",
       "      <th>0</th>\n",
       "      <td>A2D2677533867004E0430A865E337004</td>\n",
       "      <td>2684605</td>\n",
       "      <td>1245194</td>\n",
       "      <td>POINT Z (8.55841 47.35217 0.00000)</td>\n",
       "    </tr>\n",
       "  </tbody>\n",
       "</table>\n",
       "</div>"
      ],
      "text/plain": [
       "                        AccidentUID AccidentLocation_CHLV95_E  \\\n",
       "0  A2D2677533867004E0430A865E337004                   2684605   \n",
       "\n",
       "  AccidentLocation_CHLV95_N                            geometry  \n",
       "0                   1245194  POINT Z (8.55841 47.35217 0.00000)  "
      ]
     },
     "execution_count": 64,
     "metadata": {},
     "output_type": "execute_result"
    }
   ],
   "source": [
    "gdf_xy_wgs84_geojson = gdf_xy_wgs84_geojson_epsg4326[['AccidentUID','AccidentLocation_CHLV95_E','AccidentLocation_CHLV95_N','geometry']]\n",
    "gdf_xy_wgs84_geojson.head(1)"
   ]
  },
  {
   "cell_type": "markdown",
   "id": "9a2a67ed-3cf7-43b3-b1d3-982eca288845",
   "metadata": {},
   "source": [
    "Lies die X und Y Koordinaten aus dem `geometry`Objekt aus"
   ]
  },
  {
   "cell_type": "code",
   "execution_count": 75,
   "id": "1839fa5f-d623-4996-9f3a-e6fa77e60392",
   "metadata": {},
   "outputs": [
    {
     "name": "stderr",
     "output_type": "stream",
     "text": [
      "C:\\ProgramData\\Anaconda3\\envs\\gis_env\\lib\\site-packages\\geopandas\\geodataframe.py:1322: SettingWithCopyWarning: \n",
      "A value is trying to be set on a copy of a slice from a DataFrame.\n",
      "Try using .loc[row_indexer,col_indexer] = value instead\n",
      "\n",
      "See the caveats in the documentation: https://pandas.pydata.org/pandas-docs/stable/user_guide/indexing.html#returning-a-view-versus-a-copy\n",
      "  super(GeoDataFrame, self).__setitem__(key, value)\n"
     ]
    },
    {
     "data": {
      "text/html": [
       "<div>\n",
       "<style scoped>\n",
       "    .dataframe tbody tr th:only-of-type {\n",
       "        vertical-align: middle;\n",
       "    }\n",
       "\n",
       "    .dataframe tbody tr th {\n",
       "        vertical-align: top;\n",
       "    }\n",
       "\n",
       "    .dataframe thead th {\n",
       "        text-align: right;\n",
       "    }\n",
       "</style>\n",
       "<table border=\"1\" class=\"dataframe\">\n",
       "  <thead>\n",
       "    <tr style=\"text-align: right;\">\n",
       "      <th></th>\n",
       "      <th>x</th>\n",
       "      <th>y</th>\n",
       "      <th>AccidentUID</th>\n",
       "      <th>geometry</th>\n",
       "    </tr>\n",
       "  </thead>\n",
       "  <tbody>\n",
       "    <tr>\n",
       "      <th>0</th>\n",
       "      <td>8.55841025</td>\n",
       "      <td>47.35216770</td>\n",
       "      <td>A2D2677533867004E0430A865E337004</td>\n",
       "      <td>POINT Z (8.55841 47.35217 0.00000)</td>\n",
       "    </tr>\n",
       "  </tbody>\n",
       "</table>\n",
       "</div>"
      ],
      "text/plain": [
       "           x           y                       AccidentUID  \\\n",
       "0 8.55841025 47.35216770  A2D2677533867004E0430A865E337004   \n",
       "\n",
       "                             geometry  \n",
       "0  POINT Z (8.55841 47.35217 0.00000)  "
      ]
     },
     "execution_count": 75,
     "metadata": {},
     "output_type": "execute_result"
    }
   ],
   "source": [
    "gdf_xy_wgs84_geojson[\"x\"]= gdf_xy_wgs84_geojson['geometry'].x\n",
    "gdf_xy_wgs84_geojson[\"y\"] = gdf_xy_wgs84_geojson['geometry'].y\n",
    "gdf_xy_wgs84_geojson[['x', 'y', 'AccidentUID','geometry']].head(1)"
   ]
  },
  {
   "cell_type": "markdown",
   "id": "a8954615-cbd5-4477-ba6b-c6df1d5b7cf7",
   "metadata": {},
   "source": [
    "#### Importiere das CSV vom Internet\n",
    "\n",
    "Das importierte CSV ist noch ein normaler DataFrame, kein Geodataframe. Daher müssen wir es noch entsprechend umwandeln."
   ]
  },
  {
   "cell_type": "code",
   "execution_count": 97,
   "id": "23c0107b-5383-4905-86ac-e513a72711e6",
   "metadata": {},
   "outputs": [
    {
     "name": "stdout",
     "output_type": "stream",
     "text": [
      "done\n"
     ]
    }
   ],
   "source": [
    "#Direkter csv-Import\n",
    "csv_url = \"https://data.stadt-zuerich.ch/dataset/sid_dav_strassenverkehrsunfallorte/download/RoadTrafficAccidentLocations.csv\"\n",
    "df_RoadTrafficAccidentLocations = pd.read_csv(csv_url, sep=',')\n",
    "print('done')"
   ]
  },
  {
   "cell_type": "code",
   "execution_count": 98,
   "id": "37818d2a-f785-4a33-ad63-7601ff2cef48",
   "metadata": {},
   "outputs": [],
   "source": [
    "#df_RoadTrafficAccidentLocations.head(1)\n",
    "#df_RoadTrafficAccidentLocations.dtypes"
   ]
  },
  {
   "cell_type": "markdown",
   "id": "1d5f4d28-212d-4d6e-8cd9-a467900e1c30",
   "metadata": {},
   "source": [
    "##### Wandle den Dataframe nun in einen Geodataframe um"
   ]
  },
  {
   "cell_type": "code",
   "execution_count": 99,
   "id": "525f5c37-6d18-4552-9e59-cb44d62a5401",
   "metadata": {},
   "outputs": [],
   "source": [
    "gdf_from_csv = gpd.GeoDataFrame(\n",
    "    df_RoadTrafficAccidentLocations, geometry=gpd.points_from_xy(df_RoadTrafficAccidentLocations.AccidentLocation_CHLV95_E, df_RoadTrafficAccidentLocations.AccidentLocation_CHLV95_N))"
   ]
  },
  {
   "cell_type": "code",
   "execution_count": 89,
   "id": "d886b9a4-f57b-4530-ba23-800eb9ec359b",
   "metadata": {},
   "outputs": [
    {
     "data": {
      "text/plain": [
       "<AxesSubplot:>"
      ]
     },
     "execution_count": 89,
     "metadata": {},
     "output_type": "execute_result"
    },
    {
     "data": {
      "image/png": "[encoded data removed]",
      "text/plain": [
       "<Figure size 432x288 with 1 Axes>"
      ]
     },
     "metadata": {
      "needs_background": "light"
     },
     "output_type": "display_data"
    }
   ],
   "source": [
    "gdf_from_csv.plot()\n"
   ]
  },
  {
   "cell_type": "markdown",
   "id": "9dc52a53-697e-44e8-8538-d0205947fd3d",
   "metadata": {},
   "source": [
    "##### Setze dem Dataframe ein CRS, damit räumliche Operationen überhaupt möglich werden\n",
    "\n",
    "Initial ist noch nichts gesetzt."
   ]
  },
  {
   "cell_type": "code",
   "execution_count": 110,
   "id": "0500a874-90d7-41ea-810f-9cc5dffd9357",
   "metadata": {},
   "outputs": [
    {
     "data": {
      "text/plain": [
       "False"
      ]
     },
     "execution_count": 110,
     "metadata": {},
     "output_type": "execute_result"
    }
   ],
   "source": [
    "gdf_from_csv.crs is None"
   ]
  },
  {
   "cell_type": "markdown",
   "id": "1f9f3486-54ce-4191-a2e2-1a5f365cb5d5",
   "metadata": {},
   "source": [
    "Mit `set_crs()` wird die das Koordinaten Referenzsystem gesetzt. [Siehe hier](https://geopandas.org/en/stable/docs/reference/api/geopandas.GeoDataFrame.set_crs.html#)"
   ]
  },
  {
   "cell_type": "code",
   "execution_count": 112,
   "id": "9be7799a-9c36-406b-9efe-2a71589c7ec9",
   "metadata": {},
   "outputs": [],
   "source": [
    "gdf_from_csv = gdf_from_csv.set_crs('epsg:2056')"
   ]
  },
  {
   "cell_type": "code",
   "execution_count": 113,
   "id": "361f7afa-c038-4f2e-ab71-df573b176eb2",
   "metadata": {},
   "outputs": [
    {
     "data": {
      "text/plain": [
       "False"
      ]
     },
     "execution_count": 113,
     "metadata": {},
     "output_type": "execute_result"
    }
   ],
   "source": [
    "gdf_from_csv.crs is None"
   ]
  },
  {
   "cell_type": "markdown",
   "id": "46bd294f-db86-49a4-8e9a-b66d408b7915",
   "metadata": {},
   "source": [
    "Prüfe kurz, ob es funktioniert hat."
   ]
  },
  {
   "cell_type": "code",
   "execution_count": 103,
   "id": "c7a75e22-64f8-4bd8-ba66-5c632bdc9eea",
   "metadata": {},
   "outputs": [
    {
     "data": {
      "text/plain": [
       "<Projected CRS: EPSG:2056>\n",
       "Name: CH1903+ / LV95\n",
       "Axis Info [cartesian]:\n",
       "- E[east]: Easting (metre)\n",
       "- N[north]: Northing (metre)\n",
       "Area of Use:\n",
       "- name: Liechtenstein; Switzerland.\n",
       "- bounds: (5.96, 45.82, 10.49, 47.81)\n",
       "Coordinate Operation:\n",
       "- name: Swiss Oblique Mercator 1995\n",
       "- method: Hotine Oblique Mercator (variant B)\n",
       "Datum: CH1903+\n",
       "- Ellipsoid: Bessel 1841\n",
       "- Prime Meridian: Greenwich"
      ]
     },
     "execution_count": 103,
     "metadata": {},
     "output_type": "execute_result"
    }
   ],
   "source": [
    "gdf_from_csv.crs"
   ]
  },
  {
   "cell_type": "markdown",
   "id": "7b8f9b88-d02a-4d10-b6dc-7b6f74e8e228",
   "metadata": {},
   "source": [
    "##### Wandle die Koordinaten von LV95 zu WGS84 um und lies die XY-Werte aus"
   ]
  },
  {
   "cell_type": "code",
   "execution_count": 117,
   "id": "173aaf8a-7eff-473f-8ae6-777d468f205d",
   "metadata": {},
   "outputs": [],
   "source": [
    "gdf_from_csv2epsg4326 = gdf_from_csv.to_crs('epsg:4326')"
   ]
  },
  {
   "cell_type": "code",
   "execution_count": 118,
   "id": "a902d72c-842c-4c72-adcb-1b2893d1e30a",
   "metadata": {},
   "outputs": [],
   "source": [
    "#gdf_from_csv2epsg4326.crs"
   ]
  },
  {
   "cell_type": "code",
   "execution_count": 119,
   "id": "ac24c7cf-fe92-4289-a3f1-19e454115d51",
   "metadata": {},
   "outputs": [
    {
     "data": {
      "text/html": [
       "<div>\n",
       "<style scoped>\n",
       "    .dataframe tbody tr th:only-of-type {\n",
       "        vertical-align: middle;\n",
       "    }\n",
       "\n",
       "    .dataframe tbody tr th {\n",
       "        vertical-align: top;\n",
       "    }\n",
       "\n",
       "    .dataframe thead th {\n",
       "        text-align: right;\n",
       "    }\n",
       "</style>\n",
       "<table border=\"1\" class=\"dataframe\">\n",
       "  <thead>\n",
       "    <tr style=\"text-align: right;\">\n",
       "      <th></th>\n",
       "      <th>x</th>\n",
       "      <th>y</th>\n",
       "      <th>AccidentUID</th>\n",
       "    </tr>\n",
       "  </thead>\n",
       "  <tbody>\n",
       "    <tr>\n",
       "      <th>0</th>\n",
       "      <td>8.55841025</td>\n",
       "      <td>47.35216770</td>\n",
       "      <td>A2D2677533867004E0430A865E337004</td>\n",
       "    </tr>\n",
       "  </tbody>\n",
       "</table>\n",
       "</div>"
      ],
      "text/plain": [
       "           x           y                       AccidentUID\n",
       "0 8.55841025 47.35216770  A2D2677533867004E0430A865E337004"
      ]
     },
     "execution_count": 119,
     "metadata": {},
     "output_type": "execute_result"
    }
   ],
   "source": [
    "gdf_from_csv2epsg4326[\"x\"] = gdf_from_csv2epsg4326['geometry'].x\n",
    "gdf_from_csv2epsg4326[\"y\"] = gdf_from_csv2epsg4326['geometry'].y\n",
    "gdf_from_csv2epsg4326[['x', 'y', 'AccidentUID']].head(1)"
   ]
  },
  {
   "cell_type": "markdown",
   "id": "340f573c-d171-446d-8391-6827a8f61898",
   "metadata": {},
   "source": [
    "Prüfe kurz, ob es unterschiede zwischen den GeoJSON- und den umgewandelten CSV-Werten gibt"
   ]
  },
  {
   "cell_type": "code",
   "execution_count": 121,
   "id": "6f212396-dbf1-426d-869d-82707c1b5898",
   "metadata": {},
   "outputs": [
    {
     "data": {
      "text/html": [
       "<div>\n",
       "<style scoped>\n",
       "    .dataframe tbody tr th:only-of-type {\n",
       "        vertical-align: middle;\n",
       "    }\n",
       "\n",
       "    .dataframe tbody tr th {\n",
       "        vertical-align: top;\n",
       "    }\n",
       "\n",
       "    .dataframe thead th {\n",
       "        text-align: right;\n",
       "    }\n",
       "</style>\n",
       "<table border=\"1\" class=\"dataframe\">\n",
       "  <thead>\n",
       "    <tr style=\"text-align: right;\">\n",
       "      <th></th>\n",
       "      <th>x_x</th>\n",
       "      <th>y_x</th>\n",
       "      <th>AccidentUID</th>\n",
       "      <th>x_y</th>\n",
       "      <th>y_y</th>\n",
       "      <th>geometry</th>\n",
       "    </tr>\n",
       "  </thead>\n",
       "  <tbody>\n",
       "    <tr>\n",
       "      <th>0</th>\n",
       "      <td>8.55841025</td>\n",
       "      <td>47.35216770</td>\n",
       "      <td>A2D2677533867004E0430A865E337004</td>\n",
       "      <td>8.55841025</td>\n",
       "      <td>47.35216770</td>\n",
       "      <td>POINT Z (8.55841 47.35217 0.00000)</td>\n",
       "    </tr>\n",
       "    <tr>\n",
       "      <th>1</th>\n",
       "      <td>8.52932024</td>\n",
       "      <td>47.36851152</td>\n",
       "      <td>9FD6441F802C20A6E0430A865E3320A6</td>\n",
       "      <td>8.52932024</td>\n",
       "      <td>47.36851152</td>\n",
       "      <td>POINT Z (8.52932 47.36851 0.00000)</td>\n",
       "    </tr>\n",
       "  </tbody>\n",
       "</table>\n",
       "</div>"
      ],
      "text/plain": [
       "         x_x         y_x                       AccidentUID        x_y  \\\n",
       "0 8.55841025 47.35216770  A2D2677533867004E0430A865E337004 8.55841025   \n",
       "1 8.52932024 47.36851152  9FD6441F802C20A6E0430A865E3320A6 8.52932024   \n",
       "\n",
       "          y_y                            geometry  \n",
       "0 47.35216770  POINT Z (8.55841 47.35217 0.00000)  \n",
       "1 47.36851152  POINT Z (8.52932 47.36851 0.00000)  "
      ]
     },
     "execution_count": 121,
     "metadata": {},
     "output_type": "execute_result"
    }
   ],
   "source": [
    "compare = gdf_from_csv2epsg4326[['x', 'y', 'AccidentUID']].merge(gdf_xy_wgs84_geojson[['x', 'y', 'AccidentUID','geometry']], on=['AccidentUID'])\n",
    "compare.head(2)"
   ]
  },
  {
   "cell_type": "code",
   "execution_count": null,
   "id": "cf0ed461-5ff0-41a0-b9c6-86c047dcdabd",
   "metadata": {},
   "outputs": [],
   "source": []
  }
 ],
 "metadata": {
  "kernelspec": {
   "display_name": "Python 3 (ipykernel)",
   "language": "python",
   "name": "python3"
  },
  "language_info": {
   "codemirror_mode": {
    "name": "ipython",
    "version": 3
   },
   "file_extension": ".py",
   "mimetype": "text/x-python",
   "name": "python",
   "nbconvert_exporter": "python",
   "pygments_lexer": "ipython3",
   "version": "3.9.7"
  }
 },
 "nbformat": 4,
 "nbformat_minor": 5
}
