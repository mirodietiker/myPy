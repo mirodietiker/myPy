{
 "cells": [
  {
   "cell_type": "markdown",
   "id": "eb0d4092-5438-408b-9f3e-a8b46a625406",
   "metadata": {},
   "source": [
    "# Datenaufbereitung Strassenverkehrsunfaelle für Dashboard auf AGOL\n",
    "Datum: 14.01.2022\n",
    "\n",
    "Seit 2020 habe ich auf AGOL ein Dashboard erstellt, welches beim DAV aufgeschalten wird.\n",
    "\n",
    "- Datenbasis: [**Polizeilich registrierte Verkehrsunfälle auf dem Stadtgebiet Zürich seit 2011**](https://data.stadt-zuerich.ch/dataset/sid_dav_strassenverkehrsunfallorte)\n",
    "- [**Dashboard (aktuell)**](https://www.arcgis.com/apps/dashboards/f17bc71aa3ec4162a0744a602268dbe8)\n",
    "\n",
    "\n",
    "Der Projektordner befindet sich auf **O:\\GIS\\Tools\\AGOL\\produktive_dashboards\\strassenverkehrsunfaelle**\n",
    "\n",
    "\n",
    "\n",
    "\n",
    "<!---  \n",
    "Dieses Notebook verwendet als Vorlage die Webseite «[Kitas in Berlin - Jupyter Notebook](https://juanitorduz.github.io/kitas_berlin/)» \n",
    "---!>\n",
    "\n",
    "Mit Colab kann **dieses Jupyter-Notebook interaktiv im Browser** gestartet werden:\n",
    "[![Open In Colab](https://colab.research.google.com/assets/colab-badge.svg)](https://colab.research.google.com/github/DonGoginho/myPy_RIS_API/blob/main/RIS_API_AL_Geschaefte.ipynb)\n"
   ]
  },
  {
   "cell_type": "code",
   "execution_count": 140,
   "id": "1cce8324-17f2-4912-be99-aad2f437f150",
   "metadata": {},
   "outputs": [],
   "source": [
    "#%pip install geopandas fiona requests folium mplleaflet contextily"
   ]
  },
  {
   "cell_type": "markdown",
   "id": "9b1a1723-7998-47b9-9579-4a9b7f7660fe",
   "metadata": {},
   "source": [
    "## Importiere notwendige Packages:"
   ]
  },
  {
   "cell_type": "code",
   "execution_count": 189,
   "id": "89101aee-b4f7-4db7-b91f-8c69ec0bc035",
   "metadata": {},
   "outputs": [],
   "source": [
    "import numpy as np\n",
    "import pandas as pd\n",
    "import geopandas as gpd\n",
    "import altair as alt\n",
    "import fiona\n",
    "import requests\n",
    "import mplleaflet\n",
    "import matplotlib.pyplot as plt\n",
    "import matplotlib.ticker as mtick\n",
    "import seaborn as sns\n",
    "\n",
    "pd.options.display.float_format = '{:.8f}'.format\n",
    "#pd.set_option('display.width', 100)\n",
    "#pd.set_option('display.max_columns', 15)\n",
    "\n",
    "import datetime\n",
    "import time"
   ]
  },
  {
   "cell_type": "code",
   "execution_count": 322,
   "id": "92e2dbba-eb45-4b68-b997-ffcde36b9f1d",
   "metadata": {},
   "outputs": [],
   "source": [
    "now = datetime.date.today()\n",
    "date_today = now.strftime(\"%Y-%m-%d\")"
   ]
  },
  {
   "cell_type": "markdown",
   "id": "dfddcf5b-3a00-41fb-9458-e21d5ccf11b9",
   "metadata": {},
   "source": [
    "**Inhaltsverzeichnis:**\n",
    "\n",
    "AGOL braucht komischerweise ein csv in wgs84 mit entsprechenden xy-Werten. Das geht besser als direkt ein geoJSON... was erstaunlich ist. \n",
    "Aber ja, daher gehen wir wie folgt vor:\n",
    "\n",
    "1. [Daten importieren](#LiesDatenein): Das csv wird weiter bearbeitet. Vom GeoJSON übernehmen wir XY in WGS84 und joinen es via UID.\n",
    "2. [Daten aufbereiten](#)\n",
    "3. [Daten exportieren](#Explorative_Analyse)\n",
    "\n"
   ]
  },
  {
   "cell_type": "markdown",
   "id": "9a80cf93-104e-45d7-9e94-8aab624a48e1",
   "metadata": {},
   "source": [
    "## Lies Daten ein\n"
   ]
  },
  {
   "cell_type": "markdown",
   "id": "4bf91ca3-0330-475e-8950-a29eb4c99c9f",
   "metadata": {},
   "source": [
    "### Importiere die NEU gelieferten Daten als CSV oder als JSON vom Filer\n",
    "\n",
    "- Link [**Polizeilich registrierte Verkehrsunfälle auf dem Stadtgebiet Zürich seit 2011**](https://data.stadt-zuerich.ch/dataset/sid_dav_strassenverkehrsunfallorte/)\n",
    "\n"
   ]
  },
  {
   "cell_type": "markdown",
   "id": "86f56136-bf31-4a51-b644-0c3416c9a10d",
   "metadata": {},
   "source": [
    "#### Importiere das GeoJSON\n",
    "\n",
    "Importiere das veröffentlichte GeoJSON und lies es in einen GeoDataFrame ein."
   ]
  },
  {
   "cell_type": "code",
   "execution_count": 142,
   "id": "f7f8b988-b722-405b-b005-a7a9b00ce29d",
   "metadata": {},
   "outputs": [
    {
     "name": "stdout",
     "output_type": "stream",
     "text": [
      "done\n"
     ]
    }
   ],
   "source": [
    "json_fp = r\"\\\\szh\\ssz\\applikationen\\OGD\\Daten\\Quelldaten\\SID\\DAV\\strassenverkehrsunfaelle\\dataprep\\datenlieferungen\\RoadTrafficAccidentLocations.json\"\n",
    "gdf_geojson_RoadTrafficAccidentLocations = gpd.read_file(json_fp)\n",
    "print('done')"
   ]
  },
  {
   "cell_type": "code",
   "execution_count": 143,
   "id": "2c6365c6-6de3-470e-9281-7b2e7ff4cd8b",
   "metadata": {},
   "outputs": [],
   "source": [
    "#gdf_geojson_RoadTrafficAccidentLocations.head(1)\n",
    "#df_geojson_RoadTrafficAccidentLocations.dtypes\n",
    "gdf_xy_wgs84_geojson_epsg4326 = gdf_geojson_RoadTrafficAccidentLocations.set_crs('epsg:4326')"
   ]
  },
  {
   "cell_type": "markdown",
   "id": "2eec8af3-3054-4c72-be18-234db316dde9",
   "metadata": {},
   "source": [
    "Schau dir die Koordinatenwerte an"
   ]
  },
  {
   "cell_type": "code",
   "execution_count": 144,
   "id": "b2f9f663-b961-4ff1-bc72-f3a8c9338d9b",
   "metadata": {},
   "outputs": [
    {
     "data": {
      "text/html": [
       "<div>\n",
       "<style scoped>\n",
       "    .dataframe tbody tr th:only-of-type {\n",
       "        vertical-align: middle;\n",
       "    }\n",
       "\n",
       "    .dataframe tbody tr th {\n",
       "        vertical-align: top;\n",
       "    }\n",
       "\n",
       "    .dataframe thead th {\n",
       "        text-align: right;\n",
       "    }\n",
       "</style>\n",
       "<table border=\"1\" class=\"dataframe\">\n",
       "  <thead>\n",
       "    <tr style=\"text-align: right;\">\n",
       "      <th></th>\n",
       "      <th>AccidentUID</th>\n",
       "      <th>AccidentLocation_CHLV95_E</th>\n",
       "      <th>AccidentLocation_CHLV95_N</th>\n",
       "      <th>geometry</th>\n",
       "    </tr>\n",
       "  </thead>\n",
       "  <tbody>\n",
       "    <tr>\n",
       "      <th>0</th>\n",
       "      <td>A2D2677533867004E0430A865E337004</td>\n",
       "      <td>2684605</td>\n",
       "      <td>1245194</td>\n",
       "      <td>POINT Z (8.55841 47.35217 0.00000)</td>\n",
       "    </tr>\n",
       "  </tbody>\n",
       "</table>\n",
       "</div>"
      ],
      "text/plain": [
       "                        AccidentUID AccidentLocation_CHLV95_E  \\\n",
       "0  A2D2677533867004E0430A865E337004                   2684605   \n",
       "\n",
       "  AccidentLocation_CHLV95_N                            geometry  \n",
       "0                   1245194  POINT Z (8.55841 47.35217 0.00000)  "
      ]
     },
     "execution_count": 144,
     "metadata": {},
     "output_type": "execute_result"
    }
   ],
   "source": [
    "gdf_xy_wgs84_geojson = gdf_xy_wgs84_geojson_epsg4326[['AccidentUID','AccidentLocation_CHLV95_E','AccidentLocation_CHLV95_N','geometry']]\n",
    "gdf_xy_wgs84_geojson.head(1)"
   ]
  },
  {
   "cell_type": "markdown",
   "id": "9a2a67ed-3cf7-43b3-b1d3-982eca288845",
   "metadata": {},
   "source": [
    "Lies die X und Y Koordinaten aus dem `geometry`Objekt aus"
   ]
  },
  {
   "cell_type": "code",
   "execution_count": 145,
   "id": "1839fa5f-d623-4996-9f3a-e6fa77e60392",
   "metadata": {},
   "outputs": [
    {
     "name": "stderr",
     "output_type": "stream",
     "text": [
      "C:\\ProgramData\\Anaconda3\\envs\\gis_env\\lib\\site-packages\\geopandas\\geodataframe.py:1322: SettingWithCopyWarning: \n",
      "A value is trying to be set on a copy of a slice from a DataFrame.\n",
      "Try using .loc[row_indexer,col_indexer] = value instead\n",
      "\n",
      "See the caveats in the documentation: https://pandas.pydata.org/pandas-docs/stable/user_guide/indexing.html#returning-a-view-versus-a-copy\n",
      "  super(GeoDataFrame, self).__setitem__(key, value)\n"
     ]
    },
    {
     "data": {
      "text/html": [
       "<div>\n",
       "<style scoped>\n",
       "    .dataframe tbody tr th:only-of-type {\n",
       "        vertical-align: middle;\n",
       "    }\n",
       "\n",
       "    .dataframe tbody tr th {\n",
       "        vertical-align: top;\n",
       "    }\n",
       "\n",
       "    .dataframe thead th {\n",
       "        text-align: right;\n",
       "    }\n",
       "</style>\n",
       "<table border=\"1\" class=\"dataframe\">\n",
       "  <thead>\n",
       "    <tr style=\"text-align: right;\">\n",
       "      <th></th>\n",
       "      <th>x</th>\n",
       "      <th>y</th>\n",
       "      <th>AccidentUID</th>\n",
       "      <th>geometry</th>\n",
       "    </tr>\n",
       "  </thead>\n",
       "  <tbody>\n",
       "    <tr>\n",
       "      <th>0</th>\n",
       "      <td>8.55841025</td>\n",
       "      <td>47.35216770</td>\n",
       "      <td>A2D2677533867004E0430A865E337004</td>\n",
       "      <td>POINT Z (8.55841 47.35217 0.00000)</td>\n",
       "    </tr>\n",
       "  </tbody>\n",
       "</table>\n",
       "</div>"
      ],
      "text/plain": [
       "           x           y                       AccidentUID  \\\n",
       "0 8.55841025 47.35216770  A2D2677533867004E0430A865E337004   \n",
       "\n",
       "                             geometry  \n",
       "0  POINT Z (8.55841 47.35217 0.00000)  "
      ]
     },
     "execution_count": 145,
     "metadata": {},
     "output_type": "execute_result"
    }
   ],
   "source": [
    "gdf_xy_wgs84_geojson[\"x\"]= gdf_xy_wgs84_geojson['geometry'].x\n",
    "gdf_xy_wgs84_geojson[\"y\"] = gdf_xy_wgs84_geojson['geometry'].y\n",
    "gdf_xy_wgs84_geojson[['x', 'y', 'AccidentUID','geometry']].head(1)"
   ]
  },
  {
   "cell_type": "markdown",
   "id": "a8954615-cbd5-4477-ba6b-c6df1d5b7cf7",
   "metadata": {},
   "source": [
    "#### Importiere das CSV vom Internet\n",
    "\n",
    "Das importierte CSV ist noch ein normaler DataFrame, kein Geodataframe. Daher müssen wir es noch entsprechend umwandeln."
   ]
  },
  {
   "cell_type": "code",
   "execution_count": 294,
   "id": "23c0107b-5383-4905-86ac-e513a72711e6",
   "metadata": {},
   "outputs": [
    {
     "name": "stdout",
     "output_type": "stream",
     "text": [
      "done\n"
     ]
    }
   ],
   "source": [
    "#Direkter csv-Import\n",
    "csv_fp = r\"\\\\szh\\ssz\\applikationen\\OGD\\Daten\\Quelldaten\\SID\\DAV\\strassenverkehrsunfaelle\\dataprep\\datenlieferungen\\RoadTrafficAccidentLocations.csv\"\n",
    "df_RoadTrafficAccidentLocations = pd.read_csv(csv_fp, sep=',')\n",
    "print('done')"
   ]
  },
  {
   "cell_type": "markdown",
   "id": "fda37d87-8dfa-4dfe-af93-7cf5524239a0",
   "metadata": {},
   "source": [
    "Es gibt einige fehlende Angaben in AccidentHour, daher setzt Python dort dtype als float. Was nicht so schön ist. Daher ersetzen wir es hier."
   ]
  },
  {
   "cell_type": "code",
   "execution_count": 297,
   "id": "c23229b0-491a-4495-83f9-78a6b4d710f6",
   "metadata": {},
   "outputs": [],
   "source": [
    "#Welche Records sind davon betroffen?\n",
    "#df_RoadTrafficAccidentLocations[df_RoadTrafficAccidentLocations['AccidentHour'].isna()]\n",
    "df_RoadTrafficAccidentLocations.AccidentHour = df_RoadTrafficAccidentLocations.AccidentHour.astype('Int64')"
   ]
  },
  {
   "cell_type": "code",
   "execution_count": 300,
   "id": "37818d2a-f785-4a33-ad63-7601ff2cef48",
   "metadata": {},
   "outputs": [
    {
     "data": {
      "text/html": [
       "<div>\n",
       "<style scoped>\n",
       "    .dataframe tbody tr th:only-of-type {\n",
       "        vertical-align: middle;\n",
       "    }\n",
       "\n",
       "    .dataframe tbody tr th {\n",
       "        vertical-align: top;\n",
       "    }\n",
       "\n",
       "    .dataframe thead th {\n",
       "        text-align: right;\n",
       "    }\n",
       "</style>\n",
       "<table border=\"1\" class=\"dataframe\">\n",
       "  <thead>\n",
       "    <tr style=\"text-align: right;\">\n",
       "      <th></th>\n",
       "      <th>AccidentUID</th>\n",
       "      <th>AccidentType</th>\n",
       "      <th>AccidentType_de</th>\n",
       "      <th>AccidentType_fr</th>\n",
       "      <th>AccidentType_it</th>\n",
       "      <th>AccidentType_en</th>\n",
       "      <th>AccidentSeverityCategory</th>\n",
       "      <th>AccidentSeverityCategory_de</th>\n",
       "      <th>AccidentSeverityCategory_fr</th>\n",
       "      <th>AccidentSeverityCategory_it</th>\n",
       "      <th>...</th>\n",
       "      <th>AccidentMonth_fr</th>\n",
       "      <th>AccidentMonth_it</th>\n",
       "      <th>AccidentMonth_en</th>\n",
       "      <th>AccidentWeekDay</th>\n",
       "      <th>AccidentWeekDay_de</th>\n",
       "      <th>AccidentWeekDay_fr</th>\n",
       "      <th>AccidentWeekDay_it</th>\n",
       "      <th>AccidentWeekDay_en</th>\n",
       "      <th>AccidentHour</th>\n",
       "      <th>AccidentHour_text</th>\n",
       "    </tr>\n",
       "  </thead>\n",
       "  <tbody>\n",
       "    <tr>\n",
       "      <th>0</th>\n",
       "      <td>A2D2677533867004E0430A865E337004</td>\n",
       "      <td>at0</td>\n",
       "      <td>Schleuder- oder Selbstunfall</td>\n",
       "      <td>dérapage ou perte de maîtrise</td>\n",
       "      <td>Incidente di sbandamento o per colpa propria</td>\n",
       "      <td>Accident with skidding or self-accident</td>\n",
       "      <td>as4</td>\n",
       "      <td>Unfall mit Sachschaden</td>\n",
       "      <td>accident avec dommages matériels</td>\n",
       "      <td>Incidente con danni materiali</td>\n",
       "      <td>...</td>\n",
       "      <td>janvier</td>\n",
       "      <td>Gennaio</td>\n",
       "      <td>January</td>\n",
       "      <td>aw406</td>\n",
       "      <td>Samstag</td>\n",
       "      <td>samedi</td>\n",
       "      <td>Sabato</td>\n",
       "      <td>Saturday</td>\n",
       "      <td>0</td>\n",
       "      <td>00h-01h</td>\n",
       "    </tr>\n",
       "  </tbody>\n",
       "</table>\n",
       "<p>1 rows × 36 columns</p>\n",
       "</div>"
      ],
      "text/plain": [
       "                        AccidentUID AccidentType  \\\n",
       "0  A2D2677533867004E0430A865E337004          at0   \n",
       "\n",
       "                AccidentType_de                AccidentType_fr  \\\n",
       "0  Schleuder- oder Selbstunfall  dérapage ou perte de maîtrise   \n",
       "\n",
       "                                AccidentType_it  \\\n",
       "0  Incidente di sbandamento o per colpa propria   \n",
       "\n",
       "                           AccidentType_en AccidentSeverityCategory  \\\n",
       "0  Accident with skidding or self-accident                      as4   \n",
       "\n",
       "  AccidentSeverityCategory_de       AccidentSeverityCategory_fr  \\\n",
       "0      Unfall mit Sachschaden  accident avec dommages matériels   \n",
       "\n",
       "     AccidentSeverityCategory_it  ... AccidentMonth_fr  AccidentMonth_it  \\\n",
       "0  Incidente con danni materiali  ...          janvier           Gennaio   \n",
       "\n",
       "   AccidentMonth_en  AccidentWeekDay AccidentWeekDay_de AccidentWeekDay_fr  \\\n",
       "0           January            aw406            Samstag             samedi   \n",
       "\n",
       "  AccidentWeekDay_it AccidentWeekDay_en AccidentHour  AccidentHour_text  \n",
       "0             Sabato           Saturday            0            00h-01h  \n",
       "\n",
       "[1 rows x 36 columns]"
      ]
     },
     "execution_count": 300,
     "metadata": {},
     "output_type": "execute_result"
    }
   ],
   "source": [
    "df_RoadTrafficAccidentLocations.head(1)\n",
    "#df_RoadTrafficAccidentLocations.dtypes"
   ]
  },
  {
   "cell_type": "markdown",
   "id": "1d5f4d28-212d-4d6e-8cd9-a467900e1c30",
   "metadata": {},
   "source": [
    "##### Wandle den Dataframe nun in einen Geodataframe um"
   ]
  },
  {
   "cell_type": "code",
   "execution_count": 301,
   "id": "525f5c37-6d18-4552-9e59-cb44d62a5401",
   "metadata": {},
   "outputs": [],
   "source": [
    "gdf_from_csv = gpd.GeoDataFrame(\n",
    "    df_RoadTrafficAccidentLocations, geometry=gpd.points_from_xy(df_RoadTrafficAccidentLocations.AccidentLocation_CHLV95_E, df_RoadTrafficAccidentLocations.AccidentLocation_CHLV95_N))"
   ]
  },
  {
   "cell_type": "code",
   "execution_count": 302,
   "id": "d886b9a4-f57b-4530-ba23-800eb9ec359b",
   "metadata": {},
   "outputs": [
    {
     "data": {
      "text/plain": [
       "<AxesSubplot:>"
      ]
     },
     "execution_count": 302,
     "metadata": {},
     "output_type": "execute_result"
    },
    {
     "data": {
      "image/png": "[encoded data removed]",
      "text/plain": [
       "<Figure size 432x288 with 1 Axes>"
      ]
     },
     "metadata": {
      "needs_background": "light"
     },
     "output_type": "display_data"
    }
   ],
   "source": [
    "gdf_from_csv.plot()\n"
   ]
  },
  {
   "cell_type": "markdown",
   "id": "9dc52a53-697e-44e8-8538-d0205947fd3d",
   "metadata": {},
   "source": [
    "##### Setze dem Dataframe ein CRS, damit räumliche Operationen überhaupt möglich werden\n",
    "\n",
    "Initial ist noch nichts gesetzt."
   ]
  },
  {
   "cell_type": "code",
   "execution_count": 303,
   "id": "0500a874-90d7-41ea-810f-9cc5dffd9357",
   "metadata": {},
   "outputs": [
    {
     "data": {
      "text/plain": [
       "True"
      ]
     },
     "execution_count": 303,
     "metadata": {},
     "output_type": "execute_result"
    }
   ],
   "source": [
    "gdf_from_csv.crs is None"
   ]
  },
  {
   "cell_type": "markdown",
   "id": "1f9f3486-54ce-4191-a2e2-1a5f365cb5d5",
   "metadata": {},
   "source": [
    "Mit `set_crs()` wird die das Koordinaten Referenzsystem gesetzt. [Siehe hier](https://geopandas.org/en/stable/docs/reference/api/geopandas.GeoDataFrame.set_crs.html#)"
   ]
  },
  {
   "cell_type": "code",
   "execution_count": 304,
   "id": "9be7799a-9c36-406b-9efe-2a71589c7ec9",
   "metadata": {},
   "outputs": [],
   "source": [
    "gdf_from_csv = gdf_from_csv.set_crs('epsg:2056')"
   ]
  },
  {
   "cell_type": "code",
   "execution_count": 305,
   "id": "361f7afa-c038-4f2e-ab71-df573b176eb2",
   "metadata": {},
   "outputs": [
    {
     "data": {
      "text/plain": [
       "False"
      ]
     },
     "execution_count": 305,
     "metadata": {},
     "output_type": "execute_result"
    }
   ],
   "source": [
    "gdf_from_csv.crs is None"
   ]
  },
  {
   "cell_type": "markdown",
   "id": "46bd294f-db86-49a4-8e9a-b66d408b7915",
   "metadata": {},
   "source": [
    "Prüfe kurz, ob es funktioniert hat."
   ]
  },
  {
   "cell_type": "markdown",
   "id": "694c6374-97b9-448f-a8b3-5153d67c9a65",
   "metadata": {},
   "source": [
    "gdf_from_csv.crs"
   ]
  },
  {
   "cell_type": "markdown",
   "id": "563c3184-7018-4b9a-a950-96dbdba2c5f7",
   "metadata": {},
   "source": [
    "##### Exportiere ein Geopackage in LV95\n",
    "\n",
    "Das Geopackage wird von uns als **Zusatzleistung** erstellt, damit es nebst dem geojson in wgs84 noch ein weiteres Geoformat in LV95 gibt."
   ]
  },
  {
   "cell_type": "code",
   "execution_count": 342,
   "id": "0fadc29a-51a4-46d1-93c3-ade271625368",
   "metadata": {},
   "outputs": [],
   "source": [
    "gdf_from_csv.to_file(r\"\\\\szh\\ssz\\applikationen\\OGD\\Daten\\Quelldaten\\SID\\DAV\\strassenverkehrsunfaelle\\dataprep\\datenoutput\\RoadTrafficAccidentLocations_\"+date_today+\".gpkg\", driver=\"GPKG\")\n",
    "#countries_gdf.to_file(\"package.gpkg\", layer='countries', driver=\"GPKG\")"
   ]
  },
  {
   "cell_type": "markdown",
   "id": "7b8f9b88-d02a-4d10-b6dc-7b6f74e8e228",
   "metadata": {},
   "source": [
    "##### Wandle die Koordinaten von LV95 zu WGS84 um und lies die XY-Werte aus"
   ]
  },
  {
   "cell_type": "code",
   "execution_count": 307,
   "id": "173aaf8a-7eff-473f-8ae6-777d468f205d",
   "metadata": {},
   "outputs": [],
   "source": [
    "gdf_from_csv2epsg4326 = gdf_from_csv.to_crs('epsg:4326')"
   ]
  },
  {
   "cell_type": "code",
   "execution_count": 308,
   "id": "a902d72c-842c-4c72-adcb-1b2893d1e30a",
   "metadata": {},
   "outputs": [],
   "source": [
    "#gdf_from_csv2epsg4326.crs"
   ]
  },
  {
   "cell_type": "code",
   "execution_count": 309,
   "id": "ac24c7cf-fe92-4289-a3f1-19e454115d51",
   "metadata": {},
   "outputs": [
    {
     "data": {
      "text/html": [
       "<div>\n",
       "<style scoped>\n",
       "    .dataframe tbody tr th:only-of-type {\n",
       "        vertical-align: middle;\n",
       "    }\n",
       "\n",
       "    .dataframe tbody tr th {\n",
       "        vertical-align: top;\n",
       "    }\n",
       "\n",
       "    .dataframe thead th {\n",
       "        text-align: right;\n",
       "    }\n",
       "</style>\n",
       "<table border=\"1\" class=\"dataframe\">\n",
       "  <thead>\n",
       "    <tr style=\"text-align: right;\">\n",
       "      <th></th>\n",
       "      <th>X</th>\n",
       "      <th>Y</th>\n",
       "      <th>AccidentUID</th>\n",
       "    </tr>\n",
       "  </thead>\n",
       "  <tbody>\n",
       "    <tr>\n",
       "      <th>0</th>\n",
       "      <td>8.55841025</td>\n",
       "      <td>47.35216770</td>\n",
       "      <td>A2D2677533867004E0430A865E337004</td>\n",
       "    </tr>\n",
       "  </tbody>\n",
       "</table>\n",
       "</div>"
      ],
      "text/plain": [
       "           X           Y                       AccidentUID\n",
       "0 8.55841025 47.35216770  A2D2677533867004E0430A865E337004"
      ]
     },
     "execution_count": 309,
     "metadata": {},
     "output_type": "execute_result"
    }
   ],
   "source": [
    "gdf_from_csv2epsg4326[\"X\"] = gdf_from_csv2epsg4326['geometry'].x\n",
    "gdf_from_csv2epsg4326[\"Y\"] = gdf_from_csv2epsg4326['geometry'].y\n",
    "gdf_from_csv2epsg4326[['X', 'Y', 'AccidentUID']].head(1)"
   ]
  },
  {
   "cell_type": "markdown",
   "id": "340f573c-d171-446d-8391-6827a8f61898",
   "metadata": {},
   "source": [
    "Prüfe kurz, ob es unterschiede zwischen den GeoJSON- und den umgewandelten CSV-Werten gibt"
   ]
  },
  {
   "cell_type": "code",
   "execution_count": 310,
   "id": "6f212396-dbf1-426d-869d-82707c1b5898",
   "metadata": {},
   "outputs": [
    {
     "data": {
      "text/html": [
       "<div>\n",
       "<style scoped>\n",
       "    .dataframe tbody tr th:only-of-type {\n",
       "        vertical-align: middle;\n",
       "    }\n",
       "\n",
       "    .dataframe tbody tr th {\n",
       "        vertical-align: top;\n",
       "    }\n",
       "\n",
       "    .dataframe thead th {\n",
       "        text-align: right;\n",
       "    }\n",
       "</style>\n",
       "<table border=\"1\" class=\"dataframe\">\n",
       "  <thead>\n",
       "    <tr style=\"text-align: right;\">\n",
       "      <th></th>\n",
       "      <th>X</th>\n",
       "      <th>Y</th>\n",
       "      <th>AccidentUID</th>\n",
       "      <th>x</th>\n",
       "      <th>y</th>\n",
       "      <th>geometry</th>\n",
       "    </tr>\n",
       "  </thead>\n",
       "  <tbody>\n",
       "    <tr>\n",
       "      <th>0</th>\n",
       "      <td>8.55841025</td>\n",
       "      <td>47.35216770</td>\n",
       "      <td>A2D2677533867004E0430A865E337004</td>\n",
       "      <td>8.55841025</td>\n",
       "      <td>47.35216770</td>\n",
       "      <td>POINT Z (8.55841 47.35217 0.00000)</td>\n",
       "    </tr>\n",
       "    <tr>\n",
       "      <th>1</th>\n",
       "      <td>8.52932024</td>\n",
       "      <td>47.36851152</td>\n",
       "      <td>9FD6441F802C20A6E0430A865E3320A6</td>\n",
       "      <td>8.52932024</td>\n",
       "      <td>47.36851152</td>\n",
       "      <td>POINT Z (8.52932 47.36851 0.00000)</td>\n",
       "    </tr>\n",
       "  </tbody>\n",
       "</table>\n",
       "</div>"
      ],
      "text/plain": [
       "           X           Y                       AccidentUID          x  \\\n",
       "0 8.55841025 47.35216770  A2D2677533867004E0430A865E337004 8.55841025   \n",
       "1 8.52932024 47.36851152  9FD6441F802C20A6E0430A865E3320A6 8.52932024   \n",
       "\n",
       "            y                            geometry  \n",
       "0 47.35216770  POINT Z (8.55841 47.35217 0.00000)  \n",
       "1 47.36851152  POINT Z (8.52932 47.36851 0.00000)  "
      ]
     },
     "execution_count": 310,
     "metadata": {},
     "output_type": "execute_result"
    }
   ],
   "source": [
    "compare = gdf_from_csv2epsg4326[['X', 'Y', 'AccidentUID']].merge(gdf_xy_wgs84_geojson[['x', 'y', 'AccidentUID','geometry']], on=['AccidentUID'])\n",
    "compare.head(2)"
   ]
  },
  {
   "cell_type": "markdown",
   "id": "f41c6741-64f5-4cdb-9320-6c8b053d6cfc",
   "metadata": {},
   "source": [
    "## Erweitere die ursprüngliche Struktur des CSV-Files\n",
    "\n",
    "Das File welches auf ArcGIS-Online hochgeladen wird, benötigt weitere Attribute. \n",
    "\n",
    "- Einerseits `myDate`(Jahr und Monat als String) und \n",
    "- `AmtAcc`(Wird zur Summierung von Fällen benötigt)"
   ]
  },
  {
   "cell_type": "code",
   "execution_count": 315,
   "id": "6761a458-a934-4f3f-9aa0-39d27e8ef1c5",
   "metadata": {},
   "outputs": [],
   "source": [
    "#gdf_from_csv2epsg4326.head(1)"
   ]
  },
  {
   "cell_type": "code",
   "execution_count": 317,
   "id": "3e90173b-0ce1-47a2-8dac-d404cdfab33c",
   "metadata": {},
   "outputs": [
    {
     "data": {
      "text/html": [
       "<div>\n",
       "<style scoped>\n",
       "    .dataframe tbody tr th:only-of-type {\n",
       "        vertical-align: middle;\n",
       "    }\n",
       "\n",
       "    .dataframe tbody tr th {\n",
       "        vertical-align: top;\n",
       "    }\n",
       "\n",
       "    .dataframe thead th {\n",
       "        text-align: right;\n",
       "    }\n",
       "</style>\n",
       "<table border=\"1\" class=\"dataframe\">\n",
       "  <thead>\n",
       "    <tr style=\"text-align: right;\">\n",
       "      <th></th>\n",
       "      <th>AccidentUID</th>\n",
       "      <th>AccidentType</th>\n",
       "      <th>AccidentType_de</th>\n",
       "      <th>AccidentType_fr</th>\n",
       "      <th>AccidentType_it</th>\n",
       "      <th>AccidentType_en</th>\n",
       "      <th>AccidentSeverityCategory</th>\n",
       "      <th>AccidentSeverityCategory_de</th>\n",
       "      <th>AccidentSeverityCategory_fr</th>\n",
       "      <th>AccidentSeverityCategory_it</th>\n",
       "      <th>...</th>\n",
       "      <th>AccidentWeekDay_fr</th>\n",
       "      <th>AccidentWeekDay_it</th>\n",
       "      <th>AccidentWeekDay_en</th>\n",
       "      <th>AccidentHour</th>\n",
       "      <th>AccidentHour_text</th>\n",
       "      <th>geometry</th>\n",
       "      <th>X</th>\n",
       "      <th>Y</th>\n",
       "      <th>myDate</th>\n",
       "      <th>AmtAcc</th>\n",
       "    </tr>\n",
       "  </thead>\n",
       "  <tbody>\n",
       "    <tr>\n",
       "      <th>13036</th>\n",
       "      <td>FFF3DE2EAFF5001CE0430A83942701D2</td>\n",
       "      <td>at0</td>\n",
       "      <td>Schleuder- oder Selbstunfall</td>\n",
       "      <td>dérapage ou perte de maîtrise</td>\n",
       "      <td>Incidente di sbandamento o per colpa propria</td>\n",
       "      <td>Accident with skidding or self-accident</td>\n",
       "      <td>as3</td>\n",
       "      <td>Unfall mit Leichtverletzten</td>\n",
       "      <td>accident avec blessés légers</td>\n",
       "      <td>Incidente con feriti leggeri</td>\n",
       "      <td>...</td>\n",
       "      <td>mercredi</td>\n",
       "      <td>Mercoledì</td>\n",
       "      <td>Wednesday</td>\n",
       "      <td>23</td>\n",
       "      <td>23h-00h</td>\n",
       "      <td>POINT (8.51959 47.38748)</td>\n",
       "      <td>8.51958934</td>\n",
       "      <td>47.38748371</td>\n",
       "      <td>2014-8</td>\n",
       "      <td>1</td>\n",
       "    </tr>\n",
       "    <tr>\n",
       "      <th>12748</th>\n",
       "      <td>FFF3330135F400A0E0430A8394270304</td>\n",
       "      <td>at0</td>\n",
       "      <td>Schleuder- oder Selbstunfall</td>\n",
       "      <td>dérapage ou perte de maîtrise</td>\n",
       "      <td>Incidente di sbandamento o per colpa propria</td>\n",
       "      <td>Accident with skidding or self-accident</td>\n",
       "      <td>as4</td>\n",
       "      <td>Unfall mit Sachschaden</td>\n",
       "      <td>accident avec dommages matériels</td>\n",
       "      <td>Incidente con danni materiali</td>\n",
       "      <td>...</td>\n",
       "      <td>samedi</td>\n",
       "      <td>Sabato</td>\n",
       "      <td>Saturday</td>\n",
       "      <td>18</td>\n",
       "      <td>18h-19h</td>\n",
       "      <td>POINT (8.50632 47.42835)</td>\n",
       "      <td>8.50631551</td>\n",
       "      <td>47.42835446</td>\n",
       "      <td>2014-7</td>\n",
       "      <td>1</td>\n",
       "    </tr>\n",
       "  </tbody>\n",
       "</table>\n",
       "<p>2 rows × 41 columns</p>\n",
       "</div>"
      ],
      "text/plain": [
       "                            AccidentUID AccidentType  \\\n",
       "13036  FFF3DE2EAFF5001CE0430A83942701D2          at0   \n",
       "12748  FFF3330135F400A0E0430A8394270304          at0   \n",
       "\n",
       "                    AccidentType_de                AccidentType_fr  \\\n",
       "13036  Schleuder- oder Selbstunfall  dérapage ou perte de maîtrise   \n",
       "12748  Schleuder- oder Selbstunfall  dérapage ou perte de maîtrise   \n",
       "\n",
       "                                    AccidentType_it  \\\n",
       "13036  Incidente di sbandamento o per colpa propria   \n",
       "12748  Incidente di sbandamento o per colpa propria   \n",
       "\n",
       "                               AccidentType_en AccidentSeverityCategory  \\\n",
       "13036  Accident with skidding or self-accident                      as3   \n",
       "12748  Accident with skidding or self-accident                      as4   \n",
       "\n",
       "       AccidentSeverityCategory_de       AccidentSeverityCategory_fr  \\\n",
       "13036  Unfall mit Leichtverletzten      accident avec blessés légers   \n",
       "12748       Unfall mit Sachschaden  accident avec dommages matériels   \n",
       "\n",
       "         AccidentSeverityCategory_it  ... AccidentWeekDay_fr  \\\n",
       "13036   Incidente con feriti leggeri  ...           mercredi   \n",
       "12748  Incidente con danni materiali  ...             samedi   \n",
       "\n",
       "       AccidentWeekDay_it  AccidentWeekDay_en  AccidentHour AccidentHour_text  \\\n",
       "13036           Mercoledì           Wednesday            23           23h-00h   \n",
       "12748              Sabato            Saturday            18           18h-19h   \n",
       "\n",
       "                       geometry          X           Y  myDate  AmtAcc  \n",
       "13036  POINT (8.51959 47.38748) 8.51958934 47.38748371  2014-8       1  \n",
       "12748  POINT (8.50632 47.42835) 8.50631551 47.42835446  2014-7       1  \n",
       "\n",
       "[2 rows x 41 columns]"
      ]
     },
     "execution_count": 317,
     "metadata": {},
     "output_type": "execute_result"
    }
   ],
   "source": [
    "gdf_from_csv2epsg4326 = gdf_from_csv2epsg4326.assign(\n",
    "    myDate=lambda x: x.AccidentYear.astype(str)+'-'+ x.AccidentMonth.astype(str)\n",
    "    ,AmtAcc=lambda x: 1\n",
    ").sort_values('AccidentUID', ascending=False)\n",
    "\n",
    "gdf_from_csv2epsg4326.head(2)\n",
    "#gdf_from_csv2epsg4326.dtypes\n"
   ]
  },
  {
   "cell_type": "markdown",
   "id": "c81d1298-02d1-47e1-933a-3bb5ec47ed5c",
   "metadata": {},
   "source": [
    "### Ordne die Reihenfolge der Attribute neu"
   ]
  },
  {
   "cell_type": "code",
   "execution_count": 318,
   "id": "00334810-ab07-44f0-a341-6255a8ac7dec",
   "metadata": {},
   "outputs": [
    {
     "data": {
      "text/plain": [
       "Index(['AccidentUID', 'AccidentType', 'AccidentType_de', 'AccidentType_fr',\n",
       "       'AccidentType_it', 'AccidentType_en', 'AccidentSeverityCategory',\n",
       "       'AccidentSeverityCategory_de', 'AccidentSeverityCategory_fr',\n",
       "       'AccidentSeverityCategory_it', 'AccidentSeverityCategory_en',\n",
       "       'AccidentInvolvingPedestrian', 'AccidentInvolvingBicycle',\n",
       "       'AccidentInvolvingMotorcycle', 'RoadType', 'RoadType_de', 'RoadType_fr',\n",
       "       'RoadType_it', 'RoadType_en', 'AccidentLocation_CHLV95_E',\n",
       "       'AccidentLocation_CHLV95_N', 'CantonCode', 'MunicipalityCode',\n",
       "       'AccidentYear', 'AccidentMonth', 'AccidentMonth_de', 'AccidentMonth_fr',\n",
       "       'AccidentMonth_it', 'AccidentMonth_en', 'AccidentWeekDay',\n",
       "       'AccidentWeekDay_de', 'AccidentWeekDay_fr', 'AccidentWeekDay_it',\n",
       "       'AccidentWeekDay_en', 'AccidentHour', 'AccidentHour_text', 'geometry',\n",
       "       'X', 'Y', 'myDate', 'AmtAcc'],\n",
       "      dtype='object')"
      ]
     },
     "execution_count": 318,
     "metadata": {},
     "output_type": "execute_result"
    }
   ],
   "source": [
    "gdf_from_csv2epsg4326.columns"
   ]
  },
  {
   "cell_type": "code",
   "execution_count": 319,
   "id": "7f4ef636-979b-4ab3-8e83-28a1586751df",
   "metadata": {},
   "outputs": [
    {
     "name": "stdout",
     "output_type": "stream",
     "text": [
      "<class 'geopandas.geodataframe.GeoDataFrame'>\n",
      "Int64Index: 48021 entries, 13036 to 12815\n",
      "Data columns (total 41 columns):\n",
      " #   Column                       Non-Null Count  Dtype   \n",
      "---  ------                       --------------  -----   \n",
      " 0   X                            48021 non-null  float64 \n",
      " 1   Y                            48021 non-null  float64 \n",
      " 2   AccidentUID                  48021 non-null  object  \n",
      " 3   AccidentType                 48021 non-null  object  \n",
      " 4   AccidentType_de              48021 non-null  object  \n",
      " 5   AccidentType_fr              48021 non-null  object  \n",
      " 6   AccidentType_it              48021 non-null  object  \n",
      " 7   AccidentType_en              48021 non-null  object  \n",
      " 8   AccidentSeverityCategory     48021 non-null  object  \n",
      " 9   AccidentSeverityCategory_de  48021 non-null  object  \n",
      " 10  AccidentSeverityCategory_fr  48021 non-null  object  \n",
      " 11  AccidentSeverityCategory_it  48021 non-null  object  \n",
      " 12  AccidentSeverityCategory_en  48021 non-null  object  \n",
      " 13  AccidentInvolvingPedestrian  48021 non-null  bool    \n",
      " 14  AccidentInvolvingBicycle     48021 non-null  bool    \n",
      " 15  AccidentInvolvingMotorcycle  48021 non-null  bool    \n",
      " 16  RoadType                     48021 non-null  object  \n",
      " 17  RoadType_de                  48021 non-null  object  \n",
      " 18  RoadType_fr                  48021 non-null  object  \n",
      " 19  RoadType_it                  48021 non-null  object  \n",
      " 20  RoadType_en                  48021 non-null  object  \n",
      " 21  AccidentLocation_CHLV95_E    48021 non-null  int64   \n",
      " 22  AccidentLocation_CHLV95_N    48021 non-null  int64   \n",
      " 23  CantonCode                   48021 non-null  object  \n",
      " 24  MunicipalityCode             48021 non-null  int64   \n",
      " 25  AccidentYear                 48021 non-null  int64   \n",
      " 26  AccidentMonth                48021 non-null  int64   \n",
      " 27  AccidentMonth_de             48021 non-null  object  \n",
      " 28  AccidentMonth_fr             48021 non-null  object  \n",
      " 29  AccidentMonth_it             48021 non-null  object  \n",
      " 30  AccidentMonth_en             48021 non-null  object  \n",
      " 31  AccidentWeekDay              48021 non-null  object  \n",
      " 32  AccidentWeekDay_de           48021 non-null  object  \n",
      " 33  AccidentWeekDay_fr           48021 non-null  object  \n",
      " 34  AccidentWeekDay_it           48021 non-null  object  \n",
      " 35  AccidentWeekDay_en           48021 non-null  object  \n",
      " 36  AccidentHour                 48017 non-null  Int64   \n",
      " 37  AccidentHour_text            48021 non-null  object  \n",
      " 38  geometry                     48021 non-null  geometry\n",
      " 39  myDate                       48021 non-null  object  \n",
      " 40  AmtAcc                       48021 non-null  int64   \n",
      "dtypes: Int64(1), bool(3), float64(2), geometry(1), int64(6), object(28)\n",
      "memory usage: 14.5+ MB\n"
     ]
    }
   ],
   "source": [
    "    column_order = ['X', 'Y','AccidentUID', 'AccidentType', 'AccidentType_de', 'AccidentType_fr','AccidentType_it'\n",
    "                    , 'AccidentType_en', 'AccidentSeverityCategory','AccidentSeverityCategory_de', 'AccidentSeverityCategory_fr','AccidentSeverityCategory_it'\n",
    "                    , 'AccidentSeverityCategory_en','AccidentInvolvingPedestrian', 'AccidentInvolvingBicycle','AccidentInvolvingMotorcycle'\n",
    "                    , 'RoadType', 'RoadType_de', 'RoadType_fr','RoadType_it', 'RoadType_en', 'AccidentLocation_CHLV95_E','AccidentLocation_CHLV95_N'\n",
    "                    , 'CantonCode', 'MunicipalityCode','AccidentYear', 'AccidentMonth', 'AccidentMonth_de', 'AccidentMonth_fr','AccidentMonth_it'\n",
    "                    , 'AccidentMonth_en', 'AccidentWeekDay','AccidentWeekDay_de', 'AccidentWeekDay_fr', 'AccidentWeekDay_it','AccidentWeekDay_en'\n",
    "                    , 'AccidentHour', 'AccidentHour_text', 'geometry','myDate', 'AmtAcc'\n",
    "    ]\n",
    "    \n",
    "input_arcgis_my_RoadTrafficAccidentLocations_wgs84 = gdf_from_csv2epsg4326.reindex(columns=column_order)\n",
    "input_arcgis_my_RoadTrafficAccidentLocations_wgs84.info()"
   ]
  },
  {
   "cell_type": "markdown",
   "id": "6fe0e5cb-87ba-4f27-aa67-d63360af0d82",
   "metadata": {},
   "source": [
    "### Exportiere das File in das entsprechende Verzeichnis"
   ]
  },
  {
   "cell_type": "code",
   "execution_count": 340,
   "id": "07a2229d-13f3-4776-9b27-bc678d0fe694",
   "metadata": {},
   "outputs": [],
   "source": [
    "input_arcgis_my_RoadTrafficAccidentLocations_wgs84.drop('geometry',axis=1).to_csv(\n",
    "    r'\\\\szh\\ssz\\applikationen\\OGD\\Daten\\Quelldaten\\SID\\DAV\\strassenverkehrsunfaelle\\dataprep\\datenoutput\\agol\\input_arcgis_my_RoadTrafficAccidentLocations_wgs84_'+date_today+'.csv'\n",
    "    , sep=','\n",
    "    ,index=True\n",
    "    ,index_label=\"Beob.\"\n",
    "    ,quoting=2\n",
    ")\n",
    "#quotechar='\"'"
   ]
  },
  {
   "cell_type": "markdown",
   "id": "e55add84-64a5-4481-aae9-627a6c403bd0",
   "metadata": {},
   "source": [
    "Fertig\n",
    "\n",
    "Lade den Output von hier dann auf AGOL und aktualsiere den Feature Layer. Dann sollte alles gehen."
   ]
  },
  {
   "cell_type": "code",
   "execution_count": null,
   "id": "f443eb62-e735-4c09-b878-45b4ecb205c3",
   "metadata": {},
   "outputs": [],
   "source": []
  }
 ],
 "metadata": {
  "kernelspec": {
   "display_name": "Python 3 (ipykernel)",
   "language": "python",
   "name": "python3"
  },
  "language_info": {
   "codemirror_mode": {
    "name": "ipython",
    "version": 3
   },
   "file_extension": ".py",
   "mimetype": "text/x-python",
   "name": "python",
   "nbconvert_exporter": "python",
   "pygments_lexer": "ipython3",
   "version": "3.9.7"
  },
  "toc-autonumbering": true
 },
 "nbformat": 4,
 "nbformat_minor": 5
}
