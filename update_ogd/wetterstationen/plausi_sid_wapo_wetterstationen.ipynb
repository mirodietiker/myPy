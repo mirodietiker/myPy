{
 "cells": [
  {
   "cell_type": "markdown",
   "metadata": {},
   "source": [
    "# Plausi der Messwerte der Wetterstationen der Wasserschutzpolizei Zürich\n",
    "Datum: 12.01.2022\n",
    "\n",
    "**Ausgangslage:**\n",
    "\n",
    "Hr. Namnick liefert jährlich per Mail die Jahresdaten der Wetterstationen. Bisher haben wir die neu gelieferten Jahresdaten in SAS eingelesen, die Variabelnamen standardisiert und richtig sortiert und letztlich die neuen mit den bisherigen Jahren zeitlich sortiert zusammengehängt.\n",
    "\n",
    "Odi hat zusätzlich noch ein [**Python-Skript serverseitig**](https://github.com/opendatazurich/ogd-data-processing/blob/main/sid_wapo_wetterstationen/convert_csv.py) generiert um aus der mitgelieferten `utc` das `cet` Datum aus dem Datumsfeld zu berechnen. Mit diesem Notebook können wir das aber gleich beim Update erledigen.\n",
    "\n",
    "Die Datenaufbereitung habe ich 2022 mit Jupyter Lab gemacht, siehe [**Github**](https://github.com/DonGoginho/myPy/blob/main/update_ogd/update_sid_wapo_wetterstationen.ipynb )\n",
    "\n"
   ]
  },
  {
   "cell_type": "markdown",
   "metadata": {},
   "source": [
    "**Dataset auf PROD Datenkatalog**:  https://data.stadt-zuerich.ch/dataset/sid_wapo_wetterstationen"
   ]
  },
  {
   "cell_type": "markdown",
   "metadata": {},
   "source": [
    "## Einstellungen\n",
    "### Importiere die notwendigen Packages"
   ]
  },
  {
   "cell_type": "code",
   "execution_count": 1,
   "metadata": {},
   "outputs": [],
   "source": [
    "#%pip install openpyxl geopandas altair fiona requests folium mplleaflet contextily seaborn datetime plotly"
   ]
  },
  {
   "cell_type": "code",
   "execution_count": 2,
   "metadata": {},
   "outputs": [],
   "source": [
    "import pandas as pd\n",
    "import datetime\n",
    "import time\n",
    "import numpy as np\n",
    "\n",
    "import pivottablejs\n",
    "from pivottablejs import pivot_ui\n",
    "import altair as alt\n",
    "import matplotlib.pyplot as plt\n",
    "#from datetime import datetime\n",
    "import geopandas as gpd\n",
    "import folium "
   ]
  },
  {
   "cell_type": "markdown",
   "metadata": {},
   "source": [
    "Definiere Settings. Hier das Zahlenformat von Float-Werten (z.B. *'{:,.2f}'.format* mit Komma als Tausenderzeichen), "
   ]
  },
  {
   "cell_type": "code",
   "execution_count": 3,
   "metadata": {},
   "outputs": [],
   "source": [
    "pd.options.display.float_format = '{:.1f}'.format\n",
    "pd.set_option('display.width', 100)\n",
    "pd.set_option('display.max_columns', 15)"
   ]
  },
  {
   "cell_type": "markdown",
   "metadata": {},
   "source": [
    "### Zeitvariabeln\n",
    "Bestimme den aktuellst geladenen Monat. Hier ist es der Stand vor 2 Monaten. \n",
    "Bestimme noch weitere evt. sinnvolle Zeitvariabeln.\n",
    "\n",
    "Zum Unterschied zwischen import `datetime` und `from datetime import datetime`, siehe https://stackoverflow.com/questions/15707532/import-datetime-v-s-from-datetime-import-datetime\n",
    "\n",
    "Zuerst die Zeitvariabeln als Strings"
   ]
  },
  {
   "cell_type": "code",
   "execution_count": 4,
   "metadata": {},
   "outputs": [
    {
     "name": "stdout",
     "output_type": "stream",
     "text": [
      "2022-01-18 2022-01-18 2022 01 18\n"
     ]
    }
   ],
   "source": [
    "now = datetime.date.today()\n",
    "date_today = now.strftime(\"%Y-%m-%d\")\n",
    "year_today = now.strftime(\"%Y\")\n",
    "month_today = now.strftime(\"%m\")\n",
    "day_today = now.strftime(\"%d\")\n",
    "print(now, date_today, year_today, month_today,day_today )"
   ]
  },
  {
   "cell_type": "markdown",
   "metadata": {},
   "source": [
    "Und hier noch die Zeitvariabeln als Integers:\n",
    "- `aktuellesJahr`\n",
    "- `aktuellerMonat`: Der gerade jetzt aktuelle Monat\n",
    "- `selectedMonat`: Der aktuellste Monat in den Daten. In der Regel zwei Monate her."
   ]
  },
  {
   "cell_type": "code",
   "execution_count": 5,
   "metadata": {},
   "outputs": [
    {
     "name": "stdout",
     "output_type": "stream",
     "text": [
      "2022 1 datenstand:  -1 time.struct_time(tm_year=2022, tm_mon=1, tm_mday=18, tm_hour=0, tm_min=0, tm_sec=0, tm_wday=1, tm_yday=18, tm_isdst=-1)\n"
     ]
    }
   ],
   "source": [
    "int_times = now.timetuple()\n",
    "\n",
    "aktuellesJahr = int_times[0]\n",
    "aktuellerMonat = int_times[1]\n",
    "selectedMonat = int_times[1]-2\n",
    "\n",
    "print(aktuellesJahr, \n",
    "      aktuellerMonat,\n",
    "      'datenstand: ', \n",
    "      selectedMonat,\n",
    "     int_times)\n"
   ]
  },
  {
   "cell_type": "markdown",
   "metadata": {},
   "source": [
    "## Importiere die bereits veröffentlichten Zeitreihen der Messstationen \n",
    "\n",
    "- Beachte dabei die Notation des Pfades...\n",
    "- Definiere mal aktuell noch keine weiteren Parameter beim Import"
   ]
  },
  {
   "cell_type": "markdown",
   "metadata": {},
   "source": [
    "**Dataset auf INTEG Datenkatalog**:  https://data.integ.stadt-zuerich.ch/dataset/sid_wapo_wetterstationen\n",
    "\n",
    "**Dataset auf PROD Datenkatalog**:  https://data.stadt-zuerich.ch/dataset/sid_wapo_wetterstationen"
   ]
  },
  {
   "cell_type": "code",
   "execution_count": 6,
   "metadata": {},
   "outputs": [
    {
     "name": "stdout",
     "output_type": "stream",
     "text": [
      "lokal\n"
     ]
    }
   ],
   "source": [
    "#Die Datasets sind nur zum Testen auf INT-DWH-Dropzone. Wenn der Test vorbei ist, sind sie auf PROD. \n",
    "# Über den Status kann man einfach switchen\n",
    "\n",
    "status = \"lokal\";\n",
    "print(status)"
   ]
  },
  {
   "cell_type": "code",
   "execution_count": 7,
   "metadata": {
    "tags": []
   },
   "outputs": [
    {
     "name": "stdout",
     "output_type": "stream",
     "text": [
      "\\\\szh.loc\\ssz\\applikationen\\OGD\\Daten\\Quelldaten\\SID\\WAPO\\02_veroeffentlichte_zeitreihe\\messwerte_mythenquai_2007-2021.csv \\\\szh.loc\\ssz\\applikationen\\OGD\\Daten\\Quelldaten\\SID\\WAPO\\02_veroeffentlichte_zeitreihe\\messwerte_tiefenbrunnen_2007-2021.csv\n"
     ]
    }
   ],
   "source": [
    "# Filepath\n",
    "if status == \"www\":\n",
    "    #fp = r\"//szh.loc/ssz/applikationen/OGD_Dropzone/DWH/bev_monat_bestand_quartier_geschl_ag_herkunft_od3250/BEV325OD3250.csv\"\n",
    "    fp_my = r\"https://data.stadt-zuerich.ch/dataset/sid_wapo_wetterstationen/download/messwerte_mythenquai_2007-2021.csv\"\n",
    "    fp_tb = r\"https://data.stadt-zuerich.ch/dataset/sid_wapo_wetterstationen/download/messwerte_tiefenbrunnen_2007-2021.csv\"\n",
    "else:\n",
    "    fp_my = r\"\\\\szh.loc\\ssz\\applikationen\\OGD\\Daten\\Quelldaten\\SID\\WAPO\\02_veroeffentlichte_zeitreihe\\messwerte_mythenquai_2007-2021.csv\"\n",
    "    fp_tb = r\"\\\\szh.loc\\ssz\\applikationen\\OGD\\Daten\\Quelldaten\\SID\\WAPO\\02_veroeffentlichte_zeitreihe\\messwerte_tiefenbrunnen_2007-2021.csv\"\n",
    "\n",
    "\n",
    "print(fp_my, fp_tb)"
   ]
  },
  {
   "cell_type": "markdown",
   "metadata": {},
   "source": [
    "Ich importiere die Datumsfelder bewussts als STRINGS. Nicht im Datumsformat.\n",
    "Dies erlaubt später ein einfaches zusammmensetzen der neuen zu den bestehenden Daten.\n",
    "\n",
    "- [**Cheat Sheet**](https://strftime.org/)\n",
    "- Python documentation for **strptime**: [string **parse** time, Python 3](https://docs.python.org/3/library/datetime.html#datetime.datetime.strptime)\n",
    "- Python documentation for strptime/**strftime**: [string **format** time,Python 3](https://docs.python.org/3/library/datetime.html#strftime-and-strptime-behavior)"
   ]
  },
  {
   "cell_type": "code",
   "execution_count": 8,
   "metadata": {},
   "outputs": [
    {
     "name": "stdout",
     "output_type": "stream",
     "text": [
      "done\n"
     ]
    }
   ],
   "source": [
    "# Read the data\n",
    "df_zeitreihe_my = pd.read_csv(\n",
    "    fp_my\n",
    "    , sep=','\n",
    "    , low_memory=False    \n",
    "    )\n",
    "\n",
    "print('done')"
   ]
  },
  {
   "cell_type": "code",
   "execution_count": 9,
   "metadata": {},
   "outputs": [
    {
     "name": "stdout",
     "output_type": "stream",
     "text": [
      "done\n"
     ]
    }
   ],
   "source": [
    "# Read the data\n",
    "df_zeitreihe_tb = pd.read_csv(\n",
    "    fp_tb \n",
    "    ,sep=','\n",
    "    ,low_memory=False    \n",
    "    )\n",
    "\n",
    "print('done')"
   ]
  },
  {
   "cell_type": "markdown",
   "metadata": {},
   "source": [
    "Wandle timestamp_utc noch in ein Datetime-Format um. Könnte auch beim einlesen gemacht werden."
   ]
  },
  {
   "cell_type": "code",
   "execution_count": 10,
   "metadata": {},
   "outputs": [],
   "source": [
    "df_zeitreihe_my['timestamp_utc'] = pd.to_datetime(df_zeitreihe_my['timestamp_utc'], utc=True)\n",
    "df_zeitreihe_tb['timestamp_utc'] = pd.to_datetime(df_zeitreihe_tb['timestamp_utc'], utc=True)"
   ]
  },
  {
   "cell_type": "markdown",
   "metadata": {},
   "source": [
    "In der Folge ein paar erste Tests:\n",
    " - 1) Zeige eine kurze Vorschau der importierten Daten\n",
    " - 2) Weise die Datentypen aus\n",
    " - 3) Zeige die Shape (Umfang) des Datensatzes an"
   ]
  },
  {
   "cell_type": "code",
   "execution_count": 11,
   "metadata": {},
   "outputs": [
    {
     "data": {
      "text/plain": [
       "timestamp_utc              datetime64[ns, UTC]\n",
       "timestamp_cet                           object\n",
       "air_temperature                        float64\n",
       "water_temperature                      float64\n",
       "wind_gust_max_10min                    float64\n",
       "wind_speed_avg_10min                   float64\n",
       "wind_force_avg_10min                   float64\n",
       "wind_direction                           int64\n",
       "windchill                              float64\n",
       "barometric_pressure_qfe                float64\n",
       "precipitation                          float64\n",
       "dew_point                              float64\n",
       "global_radiation                       float64\n",
       "humidity                                 int64\n",
       "water_level                            float64\n",
       "dtype: object"
      ]
     },
     "execution_count": 11,
     "metadata": {},
     "output_type": "execute_result"
    }
   ],
   "source": [
    "#data2bextended_my.head(2)\n",
    "df_zeitreihe_my.dtypes"
   ]
  },
  {
   "cell_type": "code",
   "execution_count": 12,
   "metadata": {},
   "outputs": [
    {
     "data": {
      "text/plain": [
       "timestamp_utc              datetime64[ns, UTC]\n",
       "timestamp_cet                           object\n",
       "air_temperature                        float64\n",
       "water_temperature                      float64\n",
       "wind_gust_max_10min                    float64\n",
       "wind_speed_avg_10min                   float64\n",
       "wind_force_avg_10min                   float64\n",
       "wind_direction                           int64\n",
       "windchill                              float64\n",
       "barometric_pressure_qfe                float64\n",
       "precipitation                          float64\n",
       "dew_point                              float64\n",
       "global_radiation                       float64\n",
       "humidity                                 int64\n",
       "water_level                            float64\n",
       "dtype: object"
      ]
     },
     "execution_count": 12,
     "metadata": {},
     "output_type": "execute_result"
    }
   ],
   "source": [
    "#data2bextended_tb.head(2)\n",
    "df_zeitreihe_tb.dtypes"
   ]
  },
  {
   "cell_type": "code",
   "execution_count": 13,
   "metadata": {},
   "outputs": [
    {
     "data": {
      "text/plain": [
       "(759119, 15)"
      ]
     },
     "execution_count": 13,
     "metadata": {},
     "output_type": "execute_result"
    }
   ],
   "source": [
    "df_zeitreihe_my.shape"
   ]
  },
  {
   "cell_type": "code",
   "execution_count": 14,
   "metadata": {},
   "outputs": [
    {
     "data": {
      "text/plain": [
       "(757537, 15)"
      ]
     },
     "execution_count": 14,
     "metadata": {},
     "output_type": "execute_result"
    }
   ],
   "source": [
    "df_zeitreihe_tb.shape"
   ]
  },
  {
   "cell_type": "markdown",
   "metadata": {},
   "source": [
    "Beschreibe einzelne Attribute"
   ]
  },
  {
   "cell_type": "code",
   "execution_count": 15,
   "metadata": {},
   "outputs": [
    {
     "data": {
      "text/html": [
       "<div>\n",
       "<style scoped>\n",
       "    .dataframe tbody tr th:only-of-type {\n",
       "        vertical-align: middle;\n",
       "    }\n",
       "\n",
       "    .dataframe tbody tr th {\n",
       "        vertical-align: top;\n",
       "    }\n",
       "\n",
       "    .dataframe thead th {\n",
       "        text-align: right;\n",
       "    }\n",
       "</style>\n",
       "<table border=\"1\" class=\"dataframe\">\n",
       "  <thead>\n",
       "    <tr style=\"text-align: right;\">\n",
       "      <th></th>\n",
       "      <th>air_temperature</th>\n",
       "      <th>water_temperature</th>\n",
       "      <th>wind_gust_max_10min</th>\n",
       "      <th>wind_speed_avg_10min</th>\n",
       "      <th>wind_force_avg_10min</th>\n",
       "      <th>wind_direction</th>\n",
       "      <th>windchill</th>\n",
       "      <th>barometric_pressure_qfe</th>\n",
       "      <th>precipitation</th>\n",
       "      <th>dew_point</th>\n",
       "      <th>global_radiation</th>\n",
       "      <th>humidity</th>\n",
       "      <th>water_level</th>\n",
       "    </tr>\n",
       "  </thead>\n",
       "  <tbody>\n",
       "    <tr>\n",
       "      <th>count</th>\n",
       "      <td>759119.0</td>\n",
       "      <td>658722.0</td>\n",
       "      <td>759119.0</td>\n",
       "      <td>759119.0</td>\n",
       "      <td>759119.0</td>\n",
       "      <td>759119.0</td>\n",
       "      <td>759119.0</td>\n",
       "      <td>754378.0</td>\n",
       "      <td>658722.0</td>\n",
       "      <td>759119.0</td>\n",
       "      <td>658722.0</td>\n",
       "      <td>759119.0</td>\n",
       "      <td>658722.0</td>\n",
       "    </tr>\n",
       "    <tr>\n",
       "      <th>mean</th>\n",
       "      <td>11.5</td>\n",
       "      <td>13.4</td>\n",
       "      <td>3.5</td>\n",
       "      <td>1.9</td>\n",
       "      <td>1.8</td>\n",
       "      <td>184.5</td>\n",
       "      <td>10.4</td>\n",
       "      <td>975.6</td>\n",
       "      <td>0.0</td>\n",
       "      <td>6.8</td>\n",
       "      <td>137.7</td>\n",
       "      <td>75.2</td>\n",
       "      <td>405.9</td>\n",
       "    </tr>\n",
       "    <tr>\n",
       "      <th>std</th>\n",
       "      <td>8.0</td>\n",
       "      <td>6.8</td>\n",
       "      <td>2.6</td>\n",
       "      <td>1.4</td>\n",
       "      <td>1.3</td>\n",
       "      <td>106.0</td>\n",
       "      <td>8.6</td>\n",
       "      <td>17.8</td>\n",
       "      <td>0.2</td>\n",
       "      <td>6.5</td>\n",
       "      <td>299.0</td>\n",
       "      <td>16.4</td>\n",
       "      <td>0.1</td>\n",
       "    </tr>\n",
       "    <tr>\n",
       "      <th>min</th>\n",
       "      <td>-13.4</td>\n",
       "      <td>2.4</td>\n",
       "      <td>-0.1</td>\n",
       "      <td>0.0</td>\n",
       "      <td>0.0</td>\n",
       "      <td>0.0</td>\n",
       "      <td>-25.6</td>\n",
       "      <td>930.7</td>\n",
       "      <td>0.0</td>\n",
       "      <td>-17.2</td>\n",
       "      <td>0.0</td>\n",
       "      <td>16.0</td>\n",
       "      <td>405.2</td>\n",
       "    </tr>\n",
       "    <tr>\n",
       "      <th>25%</th>\n",
       "      <td>5.2</td>\n",
       "      <td>6.4</td>\n",
       "      <td>1.7</td>\n",
       "      <td>0.9</td>\n",
       "      <td>1.0</td>\n",
       "      <td>103.0</td>\n",
       "      <td>3.7</td>\n",
       "      <td>966.1</td>\n",
       "      <td>0.0</td>\n",
       "      <td>1.9</td>\n",
       "      <td>0.0</td>\n",
       "      <td>65.0</td>\n",
       "      <td>405.9</td>\n",
       "    </tr>\n",
       "    <tr>\n",
       "      <th>50%</th>\n",
       "      <td>11.3</td>\n",
       "      <td>13.1</td>\n",
       "      <td>2.9</td>\n",
       "      <td>1.6</td>\n",
       "      <td>1.7</td>\n",
       "      <td>176.0</td>\n",
       "      <td>10.3</td>\n",
       "      <td>970.9</td>\n",
       "      <td>0.0</td>\n",
       "      <td>6.8</td>\n",
       "      <td>7.0</td>\n",
       "      <td>79.0</td>\n",
       "      <td>405.9</td>\n",
       "    </tr>\n",
       "    <tr>\n",
       "      <th>75%</th>\n",
       "      <td>17.5</td>\n",
       "      <td>19.6</td>\n",
       "      <td>4.7</td>\n",
       "      <td>2.6</td>\n",
       "      <td>2.4</td>\n",
       "      <td>286.0</td>\n",
       "      <td>16.8</td>\n",
       "      <td>977.2</td>\n",
       "      <td>0.0</td>\n",
       "      <td>12.1</td>\n",
       "      <td>161.0</td>\n",
       "      <td>87.0</td>\n",
       "      <td>406.0</td>\n",
       "    </tr>\n",
       "    <tr>\n",
       "      <th>max</th>\n",
       "      <td>37.7</td>\n",
       "      <td>28.0</td>\n",
       "      <td>32.0</td>\n",
       "      <td>17.1</td>\n",
       "      <td>16.8</td>\n",
       "      <td>360.0</td>\n",
       "      <td>37.8</td>\n",
       "      <td>1037.5</td>\n",
       "      <td>17.0</td>\n",
       "      <td>24.6</td>\n",
       "      <td>4293.0</td>\n",
       "      <td>100.0</td>\n",
       "      <td>406.5</td>\n",
       "    </tr>\n",
       "  </tbody>\n",
       "</table>\n",
       "</div>"
      ],
      "text/plain": [
       "       air_temperature  water_temperature  wind_gust_max_10min  wind_speed_avg_10min  \\\n",
       "count         759119.0           658722.0             759119.0              759119.0   \n",
       "mean              11.5               13.4                  3.5                   1.9   \n",
       "std                8.0                6.8                  2.6                   1.4   \n",
       "min              -13.4                2.4                 -0.1                   0.0   \n",
       "25%                5.2                6.4                  1.7                   0.9   \n",
       "50%               11.3               13.1                  2.9                   1.6   \n",
       "75%               17.5               19.6                  4.7                   2.6   \n",
       "max               37.7               28.0                 32.0                  17.1   \n",
       "\n",
       "       wind_force_avg_10min  wind_direction  windchill  barometric_pressure_qfe  precipitation  \\\n",
       "count              759119.0        759119.0   759119.0                 754378.0       658722.0   \n",
       "mean                    1.8           184.5       10.4                    975.6            0.0   \n",
       "std                     1.3           106.0        8.6                     17.8            0.2   \n",
       "min                     0.0             0.0      -25.6                    930.7            0.0   \n",
       "25%                     1.0           103.0        3.7                    966.1            0.0   \n",
       "50%                     1.7           176.0       10.3                    970.9            0.0   \n",
       "75%                     2.4           286.0       16.8                    977.2            0.0   \n",
       "max                    16.8           360.0       37.8                   1037.5           17.0   \n",
       "\n",
       "       dew_point  global_radiation  humidity  water_level  \n",
       "count   759119.0          658722.0  759119.0     658722.0  \n",
       "mean         6.8             137.7      75.2        405.9  \n",
       "std          6.5             299.0      16.4          0.1  \n",
       "min        -17.2               0.0      16.0        405.2  \n",
       "25%          1.9               0.0      65.0        405.9  \n",
       "50%          6.8               7.0      79.0        405.9  \n",
       "75%         12.1             161.0      87.0        406.0  \n",
       "max         24.6            4293.0     100.0        406.5  "
      ]
     },
     "execution_count": 15,
     "metadata": {},
     "output_type": "execute_result"
    }
   ],
   "source": [
    "df_zeitreihe_my.describe()\n",
    "#data2bextended_tb.describe()"
   ]
  },
  {
   "cell_type": "markdown",
   "metadata": {},
   "source": [
    "Wie viele Nullwerte gibt es im Datensatz?"
   ]
  },
  {
   "cell_type": "code",
   "execution_count": 16,
   "metadata": {
    "scrolled": true
   },
   "outputs": [
    {
     "data": {
      "text/plain": [
       "timestamp_utc                   0\n",
       "timestamp_cet                   0\n",
       "air_temperature                 0\n",
       "water_temperature          100397\n",
       "wind_gust_max_10min             0\n",
       "wind_speed_avg_10min            0\n",
       "wind_force_avg_10min            0\n",
       "wind_direction                  0\n",
       "windchill                       0\n",
       "barometric_pressure_qfe      4741\n",
       "precipitation              100397\n",
       "dew_point                       0\n",
       "global_radiation           100397\n",
       "humidity                        0\n",
       "water_level                100397\n",
       "dtype: int64"
      ]
     },
     "execution_count": 16,
     "metadata": {},
     "output_type": "execute_result"
    }
   ],
   "source": [
    "df_zeitreihe_my.isnull().sum()"
   ]
  },
  {
   "cell_type": "code",
   "execution_count": 17,
   "metadata": {},
   "outputs": [
    {
     "data": {
      "text/plain": [
       "timestamp_utc                   0\n",
       "timestamp_cet                   0\n",
       "air_temperature                 0\n",
       "water_temperature               0\n",
       "wind_gust_max_10min             0\n",
       "wind_speed_avg_10min            0\n",
       "wind_force_avg_10min            0\n",
       "wind_direction                  0\n",
       "windchill                       0\n",
       "barometric_pressure_qfe     52549\n",
       "precipitation              757537\n",
       "dew_point                       0\n",
       "global_radiation           757537\n",
       "humidity                        0\n",
       "water_level                757537\n",
       "dtype: int64"
      ]
     },
     "execution_count": 17,
     "metadata": {},
     "output_type": "execute_result"
    }
   ],
   "source": [
    "df_zeitreihe_tb.isnull().sum()"
   ]
  },
  {
   "cell_type": "markdown",
   "metadata": {
    "colab_type": "text",
    "id": "1dTPVmmsgOVx"
   },
   "source": [
    "## Grafische Auswertungen\n",
    "### Verwende das Datum als Index\n",
    "\n",
    "While we did already parse the `datetime` column into the respective datetime type, it currently is just a regular column. \n",
    "**To enable quick and convenient queries and aggregations, we need to turn it into the index of the DataFrame**"
   ]
  },
  {
   "cell_type": "code",
   "execution_count": 18,
   "metadata": {},
   "outputs": [],
   "source": [
    "df_zeitreihe_my = df_zeitreihe_my.set_index(\"timestamp_utc\")"
   ]
  },
  {
   "cell_type": "code",
   "execution_count": 19,
   "metadata": {},
   "outputs": [
    {
     "name": "stdout",
     "output_type": "stream",
     "text": [
      "<class 'pandas.core.frame.DataFrame'>\n",
      "DatetimeIndex: 759119 entries, 2007-04-22 19:20:00+00:00 to 2021-12-31 23:00:00+00:00\n",
      "Data columns (total 14 columns):\n",
      " #   Column                   Non-Null Count   Dtype  \n",
      "---  ------                   --------------   -----  \n",
      " 0   timestamp_cet            759119 non-null  object \n",
      " 1   air_temperature          759119 non-null  float64\n",
      " 2   water_temperature        658722 non-null  float64\n",
      " 3   wind_gust_max_10min      759119 non-null  float64\n",
      " 4   wind_speed_avg_10min     759119 non-null  float64\n",
      " 5   wind_force_avg_10min     759119 non-null  float64\n",
      " 6   wind_direction           759119 non-null  int64  \n",
      " 7   windchill                759119 non-null  float64\n",
      " 8   barometric_pressure_qfe  754378 non-null  float64\n",
      " 9   precipitation            658722 non-null  float64\n",
      " 10  dew_point                759119 non-null  float64\n",
      " 11  global_radiation         658722 non-null  float64\n",
      " 12  humidity                 759119 non-null  int64  \n",
      " 13  water_level              658722 non-null  float64\n",
      "dtypes: float64(11), int64(2), object(1)\n",
      "memory usage: 86.9+ MB\n"
     ]
    },
    {
     "data": {
      "text/plain": [
       "Int64Index([2007, 2008, 2009, 2010, 2011, 2012, 2013, 2014, 2015, 2016, 2017, 2018, 2019, 2020,\n",
       "            2021],\n",
       "           dtype='int64', name='timestamp_utc')"
      ]
     },
     "execution_count": 19,
     "metadata": {},
     "output_type": "execute_result"
    }
   ],
   "source": [
    "df_zeitreihe_my.info()\n",
    "df_zeitreihe_my.index.year.unique()"
   ]
  },
  {
   "cell_type": "code",
   "execution_count": 20,
   "metadata": {},
   "outputs": [],
   "source": [
    "df_zeitreihe_tb = df_zeitreihe_tb.set_index(\"timestamp_utc\")\n"
   ]
  },
  {
   "cell_type": "code",
   "execution_count": 21,
   "metadata": {},
   "outputs": [
    {
     "name": "stdout",
     "output_type": "stream",
     "text": [
      "<class 'pandas.core.frame.DataFrame'>\n",
      "DatetimeIndex: 757537 entries, 2007-04-15 09:30:00+00:00 to 2021-12-31 23:00:00+00:00\n",
      "Data columns (total 14 columns):\n",
      " #   Column                   Non-Null Count   Dtype  \n",
      "---  ------                   --------------   -----  \n",
      " 0   timestamp_cet            757537 non-null  object \n",
      " 1   air_temperature          757537 non-null  float64\n",
      " 2   water_temperature        757537 non-null  float64\n",
      " 3   wind_gust_max_10min      757537 non-null  float64\n",
      " 4   wind_speed_avg_10min     757537 non-null  float64\n",
      " 5   wind_force_avg_10min     757537 non-null  float64\n",
      " 6   wind_direction           757537 non-null  int64  \n",
      " 7   windchill                757537 non-null  float64\n",
      " 8   barometric_pressure_qfe  704988 non-null  float64\n",
      " 9   precipitation            0 non-null       float64\n",
      " 10  dew_point                757537 non-null  float64\n",
      " 11  global_radiation         0 non-null       float64\n",
      " 12  humidity                 757537 non-null  int64  \n",
      " 13  water_level              0 non-null       float64\n",
      "dtypes: float64(11), int64(2), object(1)\n",
      "memory usage: 86.7+ MB\n"
     ]
    },
    {
     "data": {
      "text/plain": [
       "Int64Index([2007, 2008, 2009, 2010, 2011, 2012, 2013, 2014, 2015, 2016, 2017, 2018, 2019, 2020,\n",
       "            2021],\n",
       "           dtype='int64', name='timestamp_utc')"
      ]
     },
     "execution_count": 21,
     "metadata": {},
     "output_type": "execute_result"
    }
   ],
   "source": [
    "df_zeitreihe_tb.info()\n",
    "df_zeitreihe_tb.index.year.unique()"
   ]
  },
  {
   "cell_type": "code",
   "execution_count": 22,
   "metadata": {},
   "outputs": [
    {
     "data": {
      "text/html": [
       "<div>\n",
       "<style scoped>\n",
       "    .dataframe tbody tr th:only-of-type {\n",
       "        vertical-align: middle;\n",
       "    }\n",
       "\n",
       "    .dataframe tbody tr th {\n",
       "        vertical-align: top;\n",
       "    }\n",
       "\n",
       "    .dataframe thead th {\n",
       "        text-align: right;\n",
       "    }\n",
       "</style>\n",
       "<table border=\"1\" class=\"dataframe\">\n",
       "  <thead>\n",
       "    <tr style=\"text-align: right;\">\n",
       "      <th></th>\n",
       "      <th>air_temperature</th>\n",
       "      <th>water_temperature</th>\n",
       "      <th>wind_gust_max_10min</th>\n",
       "      <th>wind_speed_avg_10min</th>\n",
       "      <th>wind_force_avg_10min</th>\n",
       "      <th>wind_direction</th>\n",
       "      <th>windchill</th>\n",
       "      <th>barometric_pressure_qfe</th>\n",
       "      <th>precipitation</th>\n",
       "      <th>dew_point</th>\n",
       "      <th>global_radiation</th>\n",
       "      <th>humidity</th>\n",
       "      <th>water_level</th>\n",
       "    </tr>\n",
       "    <tr>\n",
       "      <th>timestamp_utc</th>\n",
       "      <th></th>\n",
       "      <th></th>\n",
       "      <th></th>\n",
       "      <th></th>\n",
       "      <th></th>\n",
       "      <th></th>\n",
       "      <th></th>\n",
       "      <th></th>\n",
       "      <th></th>\n",
       "      <th></th>\n",
       "      <th></th>\n",
       "      <th></th>\n",
       "      <th></th>\n",
       "    </tr>\n",
       "  </thead>\n",
       "  <tbody>\n",
       "    <tr>\n",
       "      <th>2021-03-28 01:00:00+00:00</th>\n",
       "      <td>4.3</td>\n",
       "      <td>6.5</td>\n",
       "      <td>0.5</td>\n",
       "      <td>0.1</td>\n",
       "      <td>0.2</td>\n",
       "      <td>57.0</td>\n",
       "      <td>4.3</td>\n",
       "      <td>NaN</td>\n",
       "      <td>NaN</td>\n",
       "      <td>-0.0</td>\n",
       "      <td>NaN</td>\n",
       "      <td>73.5</td>\n",
       "      <td>NaN</td>\n",
       "    </tr>\n",
       "    <tr>\n",
       "      <th>2021-03-28 02:00:00+00:00</th>\n",
       "      <td>3.6</td>\n",
       "      <td>6.6</td>\n",
       "      <td>0.2</td>\n",
       "      <td>0.1</td>\n",
       "      <td>0.2</td>\n",
       "      <td>50.5</td>\n",
       "      <td>3.6</td>\n",
       "      <td>NaN</td>\n",
       "      <td>NaN</td>\n",
       "      <td>-0.3</td>\n",
       "      <td>NaN</td>\n",
       "      <td>76.0</td>\n",
       "      <td>NaN</td>\n",
       "    </tr>\n",
       "    <tr>\n",
       "      <th>2021-03-28 03:00:00+00:00</th>\n",
       "      <td>3.0</td>\n",
       "      <td>6.7</td>\n",
       "      <td>1.1</td>\n",
       "      <td>0.4</td>\n",
       "      <td>0.3</td>\n",
       "      <td>64.2</td>\n",
       "      <td>3.0</td>\n",
       "      <td>NaN</td>\n",
       "      <td>NaN</td>\n",
       "      <td>-0.4</td>\n",
       "      <td>NaN</td>\n",
       "      <td>78.2</td>\n",
       "      <td>NaN</td>\n",
       "    </tr>\n",
       "    <tr>\n",
       "      <th>2021-03-28 04:00:00+00:00</th>\n",
       "      <td>2.6</td>\n",
       "      <td>6.7</td>\n",
       "      <td>0.7</td>\n",
       "      <td>0.1</td>\n",
       "      <td>0.2</td>\n",
       "      <td>35.5</td>\n",
       "      <td>2.6</td>\n",
       "      <td>NaN</td>\n",
       "      <td>NaN</td>\n",
       "      <td>-0.2</td>\n",
       "      <td>NaN</td>\n",
       "      <td>81.3</td>\n",
       "      <td>NaN</td>\n",
       "    </tr>\n",
       "    <tr>\n",
       "      <th>2021-03-28 05:00:00+00:00</th>\n",
       "      <td>2.4</td>\n",
       "      <td>6.6</td>\n",
       "      <td>0.1</td>\n",
       "      <td>0.0</td>\n",
       "      <td>0.0</td>\n",
       "      <td>73.7</td>\n",
       "      <td>2.4</td>\n",
       "      <td>NaN</td>\n",
       "      <td>NaN</td>\n",
       "      <td>0.1</td>\n",
       "      <td>NaN</td>\n",
       "      <td>84.3</td>\n",
       "      <td>NaN</td>\n",
       "    </tr>\n",
       "  </tbody>\n",
       "</table>\n",
       "</div>"
      ],
      "text/plain": [
       "                           air_temperature  water_temperature  wind_gust_max_10min  \\\n",
       "timestamp_utc                                                                        \n",
       "2021-03-28 01:00:00+00:00              4.3                6.5                  0.5   \n",
       "2021-03-28 02:00:00+00:00              3.6                6.6                  0.2   \n",
       "2021-03-28 03:00:00+00:00              3.0                6.7                  1.1   \n",
       "2021-03-28 04:00:00+00:00              2.6                6.7                  0.7   \n",
       "2021-03-28 05:00:00+00:00              2.4                6.6                  0.1   \n",
       "\n",
       "                           wind_speed_avg_10min  wind_force_avg_10min  wind_direction  windchill  \\\n",
       "timestamp_utc                                                                                      \n",
       "2021-03-28 01:00:00+00:00                   0.1                   0.2            57.0        4.3   \n",
       "2021-03-28 02:00:00+00:00                   0.1                   0.2            50.5        3.6   \n",
       "2021-03-28 03:00:00+00:00                   0.4                   0.3            64.2        3.0   \n",
       "2021-03-28 04:00:00+00:00                   0.1                   0.2            35.5        2.6   \n",
       "2021-03-28 05:00:00+00:00                   0.0                   0.0            73.7        2.4   \n",
       "\n",
       "                           barometric_pressure_qfe  precipitation  dew_point  global_radiation  \\\n",
       "timestamp_utc                                                                                    \n",
       "2021-03-28 01:00:00+00:00                      NaN            NaN       -0.0               NaN   \n",
       "2021-03-28 02:00:00+00:00                      NaN            NaN       -0.3               NaN   \n",
       "2021-03-28 03:00:00+00:00                      NaN            NaN       -0.4               NaN   \n",
       "2021-03-28 04:00:00+00:00                      NaN            NaN       -0.2               NaN   \n",
       "2021-03-28 05:00:00+00:00                      NaN            NaN        0.1               NaN   \n",
       "\n",
       "                           humidity  water_level  \n",
       "timestamp_utc                                     \n",
       "2021-03-28 01:00:00+00:00      73.5          NaN  \n",
       "2021-03-28 02:00:00+00:00      76.0          NaN  \n",
       "2021-03-28 03:00:00+00:00      78.2          NaN  \n",
       "2021-03-28 04:00:00+00:00      81.3          NaN  \n",
       "2021-03-28 05:00:00+00:00      84.3          NaN  "
      ]
     },
     "execution_count": 22,
     "metadata": {},
     "output_type": "execute_result"
    }
   ],
   "source": [
    "sommerzeitwechsel_tb = df_zeitreihe_tb.loc[\"2021-03-28 01\":\"2021-03-28 05\"].resample(\"H\").mean()\n",
    "sommerzeitwechsel_tb"
   ]
  },
  {
   "cell_type": "code",
   "execution_count": 23,
   "metadata": {},
   "outputs": [
    {
     "data": {
      "text/html": [
       "<div>\n",
       "<style scoped>\n",
       "    .dataframe tbody tr th:only-of-type {\n",
       "        vertical-align: middle;\n",
       "    }\n",
       "\n",
       "    .dataframe tbody tr th {\n",
       "        vertical-align: top;\n",
       "    }\n",
       "\n",
       "    .dataframe thead th {\n",
       "        text-align: right;\n",
       "    }\n",
       "</style>\n",
       "<table border=\"1\" class=\"dataframe\">\n",
       "  <thead>\n",
       "    <tr style=\"text-align: right;\">\n",
       "      <th></th>\n",
       "      <th>air_temperature</th>\n",
       "      <th>water_temperature</th>\n",
       "      <th>wind_gust_max_10min</th>\n",
       "      <th>wind_speed_avg_10min</th>\n",
       "      <th>wind_force_avg_10min</th>\n",
       "      <th>wind_direction</th>\n",
       "      <th>windchill</th>\n",
       "      <th>barometric_pressure_qfe</th>\n",
       "      <th>precipitation</th>\n",
       "      <th>dew_point</th>\n",
       "      <th>global_radiation</th>\n",
       "      <th>humidity</th>\n",
       "      <th>water_level</th>\n",
       "    </tr>\n",
       "    <tr>\n",
       "      <th>timestamp_utc</th>\n",
       "      <th></th>\n",
       "      <th></th>\n",
       "      <th></th>\n",
       "      <th></th>\n",
       "      <th></th>\n",
       "      <th></th>\n",
       "      <th></th>\n",
       "      <th></th>\n",
       "      <th></th>\n",
       "      <th></th>\n",
       "      <th></th>\n",
       "      <th></th>\n",
       "      <th></th>\n",
       "    </tr>\n",
       "  </thead>\n",
       "  <tbody>\n",
       "    <tr>\n",
       "      <th>2021-03-28 01:00:00+00:00</th>\n",
       "      <td>5.0</td>\n",
       "      <td>NaN</td>\n",
       "      <td>2.0</td>\n",
       "      <td>1.7</td>\n",
       "      <td>1.9</td>\n",
       "      <td>120.1</td>\n",
       "      <td>4.8</td>\n",
       "      <td>1030.9</td>\n",
       "      <td>NaN</td>\n",
       "      <td>1.4</td>\n",
       "      <td>NaN</td>\n",
       "      <td>77.7</td>\n",
       "      <td>NaN</td>\n",
       "    </tr>\n",
       "    <tr>\n",
       "      <th>2021-03-28 02:00:00+00:00</th>\n",
       "      <td>4.3</td>\n",
       "      <td>NaN</td>\n",
       "      <td>2.0</td>\n",
       "      <td>1.7</td>\n",
       "      <td>1.8</td>\n",
       "      <td>150.0</td>\n",
       "      <td>4.2</td>\n",
       "      <td>1030.5</td>\n",
       "      <td>NaN</td>\n",
       "      <td>1.2</td>\n",
       "      <td>NaN</td>\n",
       "      <td>80.7</td>\n",
       "      <td>NaN</td>\n",
       "    </tr>\n",
       "    <tr>\n",
       "      <th>2021-03-28 03:00:00+00:00</th>\n",
       "      <td>3.9</td>\n",
       "      <td>NaN</td>\n",
       "      <td>1.3</td>\n",
       "      <td>0.9</td>\n",
       "      <td>1.0</td>\n",
       "      <td>144.7</td>\n",
       "      <td>3.9</td>\n",
       "      <td>1030.3</td>\n",
       "      <td>NaN</td>\n",
       "      <td>1.1</td>\n",
       "      <td>NaN</td>\n",
       "      <td>81.5</td>\n",
       "      <td>NaN</td>\n",
       "    </tr>\n",
       "    <tr>\n",
       "      <th>2021-03-28 04:00:00+00:00</th>\n",
       "      <td>3.2</td>\n",
       "      <td>NaN</td>\n",
       "      <td>1.3</td>\n",
       "      <td>0.8</td>\n",
       "      <td>0.7</td>\n",
       "      <td>211.7</td>\n",
       "      <td>3.2</td>\n",
       "      <td>1030.5</td>\n",
       "      <td>NaN</td>\n",
       "      <td>0.9</td>\n",
       "      <td>NaN</td>\n",
       "      <td>84.3</td>\n",
       "      <td>NaN</td>\n",
       "    </tr>\n",
       "    <tr>\n",
       "      <th>2021-03-28 05:00:00+00:00</th>\n",
       "      <td>3.4</td>\n",
       "      <td>NaN</td>\n",
       "      <td>2.2</td>\n",
       "      <td>1.5</td>\n",
       "      <td>1.3</td>\n",
       "      <td>288.3</td>\n",
       "      <td>3.1</td>\n",
       "      <td>1031.2</td>\n",
       "      <td>NaN</td>\n",
       "      <td>0.6</td>\n",
       "      <td>NaN</td>\n",
       "      <td>82.3</td>\n",
       "      <td>NaN</td>\n",
       "    </tr>\n",
       "  </tbody>\n",
       "</table>\n",
       "</div>"
      ],
      "text/plain": [
       "                           air_temperature  water_temperature  wind_gust_max_10min  \\\n",
       "timestamp_utc                                                                        \n",
       "2021-03-28 01:00:00+00:00              5.0                NaN                  2.0   \n",
       "2021-03-28 02:00:00+00:00              4.3                NaN                  2.0   \n",
       "2021-03-28 03:00:00+00:00              3.9                NaN                  1.3   \n",
       "2021-03-28 04:00:00+00:00              3.2                NaN                  1.3   \n",
       "2021-03-28 05:00:00+00:00              3.4                NaN                  2.2   \n",
       "\n",
       "                           wind_speed_avg_10min  wind_force_avg_10min  wind_direction  windchill  \\\n",
       "timestamp_utc                                                                                      \n",
       "2021-03-28 01:00:00+00:00                   1.7                   1.9           120.1        4.8   \n",
       "2021-03-28 02:00:00+00:00                   1.7                   1.8           150.0        4.2   \n",
       "2021-03-28 03:00:00+00:00                   0.9                   1.0           144.7        3.9   \n",
       "2021-03-28 04:00:00+00:00                   0.8                   0.7           211.7        3.2   \n",
       "2021-03-28 05:00:00+00:00                   1.5                   1.3           288.3        3.1   \n",
       "\n",
       "                           barometric_pressure_qfe  precipitation  dew_point  global_radiation  \\\n",
       "timestamp_utc                                                                                    \n",
       "2021-03-28 01:00:00+00:00                   1030.9            NaN        1.4               NaN   \n",
       "2021-03-28 02:00:00+00:00                   1030.5            NaN        1.2               NaN   \n",
       "2021-03-28 03:00:00+00:00                   1030.3            NaN        1.1               NaN   \n",
       "2021-03-28 04:00:00+00:00                   1030.5            NaN        0.9               NaN   \n",
       "2021-03-28 05:00:00+00:00                   1031.2            NaN        0.6               NaN   \n",
       "\n",
       "                           humidity  water_level  \n",
       "timestamp_utc                                     \n",
       "2021-03-28 01:00:00+00:00      77.7          NaN  \n",
       "2021-03-28 02:00:00+00:00      80.7          NaN  \n",
       "2021-03-28 03:00:00+00:00      81.5          NaN  \n",
       "2021-03-28 04:00:00+00:00      84.3          NaN  \n",
       "2021-03-28 05:00:00+00:00      82.3          NaN  "
      ]
     },
     "execution_count": 23,
     "metadata": {},
     "output_type": "execute_result"
    }
   ],
   "source": [
    "sommerzeitwechsel_my = df_zeitreihe_my.loc[\"2021-03-28 01\":\"2021-03-28 05\"].resample(\"H\").mean()\n",
    "sommerzeitwechsel_my"
   ]
  },
  {
   "cell_type": "code",
   "execution_count": 24,
   "metadata": {},
   "outputs": [],
   "source": [
    "# first we create the sums per week\n",
    "weekly_means = df_zeitreihe_tb.resample(\"W\").mean()\n",
    "# then we generate the weekly means for each quarter\n",
    "quarterly_means = df_zeitreihe_tb.resample(\"Q\").mean()\n",
    "quarterly_median = df_zeitreihe_tb.resample(\"Q\").median()\n",
    "# for readability we'll revert the values back to integers\n",
    "#weekly_means.dropna().astype(int).head(5)\n",
    "#weekly_means\n",
    "#quarterly_means\n",
    "#quarterly_median"
   ]
  },
  {
   "cell_type": "markdown",
   "metadata": {},
   "source": [
    "### Einfache Visualisierungen zur Plausi"
   ]
  },
  {
   "cell_type": "markdown",
   "metadata": {},
   "source": [
    "Exploriere die Daten mit Pivottable.JS\n",
    "\n",
    "Daten zu gross hierfür... Stürzt ab"
   ]
  },
  {
   "cell_type": "code",
   "execution_count": 25,
   "metadata": {},
   "outputs": [],
   "source": [
    "#from pivottablejs import pivot_ui\n",
    "\n",
    "#pivot_ui(df_zeitreihe_tb)"
   ]
  },
  {
   "cell_type": "markdown",
   "metadata": {},
   "source": [
    "### Zeitpunkte und Zeiträume abfragen\n",
    "\n",
    "A particular powerful feature of the Pandas DataFrame is its indexing capability that also works using time-based entities, such as dates and times. We have already created the index above, so let's put it to use."
   ]
  },
  {
   "cell_type": "markdown",
   "metadata": {},
   "source": [
    "### Aggriere Werte nach Zeitausschnitten\n",
    "\n",
    "Mit den Funktionen zur Zeit kann einfach zwischen Stunden, Tagen, Monaten, etc. gewechselt und aggregiert werden.\n",
    "\n",
    "Hier z.B. ob es nach dem Zusammenhängen der Jahresbestände flüssige Übergänge gibt oder ob etwas verdächtig aussieht.\n"
   ]
  },
  {
   "cell_type": "code",
   "execution_count": 26,
   "metadata": {},
   "outputs": [
    {
     "data": {
      "text/html": [
       "<div>\n",
       "<style scoped>\n",
       "    .dataframe tbody tr th:only-of-type {\n",
       "        vertical-align: middle;\n",
       "    }\n",
       "\n",
       "    .dataframe tbody tr th {\n",
       "        vertical-align: top;\n",
       "    }\n",
       "\n",
       "    .dataframe thead th {\n",
       "        text-align: right;\n",
       "    }\n",
       "</style>\n",
       "<table border=\"1\" class=\"dataframe\">\n",
       "  <thead>\n",
       "    <tr style=\"text-align: right;\">\n",
       "      <th></th>\n",
       "      <th>air_temperature</th>\n",
       "      <th>water_temperature</th>\n",
       "      <th>wind_gust_max_10min</th>\n",
       "      <th>wind_speed_avg_10min</th>\n",
       "      <th>wind_force_avg_10min</th>\n",
       "      <th>wind_direction</th>\n",
       "      <th>windchill</th>\n",
       "      <th>barometric_pressure_qfe</th>\n",
       "      <th>precipitation</th>\n",
       "      <th>dew_point</th>\n",
       "      <th>global_radiation</th>\n",
       "      <th>humidity</th>\n",
       "      <th>water_level</th>\n",
       "    </tr>\n",
       "    <tr>\n",
       "      <th>timestamp_utc</th>\n",
       "      <th></th>\n",
       "      <th></th>\n",
       "      <th></th>\n",
       "      <th></th>\n",
       "      <th></th>\n",
       "      <th></th>\n",
       "      <th></th>\n",
       "      <th></th>\n",
       "      <th></th>\n",
       "      <th></th>\n",
       "      <th></th>\n",
       "      <th></th>\n",
       "      <th></th>\n",
       "    </tr>\n",
       "  </thead>\n",
       "  <tbody>\n",
       "    <tr>\n",
       "      <th>2020-12-31 21:00:00+00:00</th>\n",
       "      <td>1.6</td>\n",
       "      <td>NaN</td>\n",
       "      <td>3.0</td>\n",
       "      <td>1.8</td>\n",
       "      <td>2.0</td>\n",
       "      <td>90.0</td>\n",
       "      <td>0.8</td>\n",
       "      <td>1005.0</td>\n",
       "      <td>NaN</td>\n",
       "      <td>0.1</td>\n",
       "      <td>NaN</td>\n",
       "      <td>90.0</td>\n",
       "      <td>NaN</td>\n",
       "    </tr>\n",
       "    <tr>\n",
       "      <th>2020-12-31 22:00:00+00:00</th>\n",
       "      <td>2.1</td>\n",
       "      <td>NaN</td>\n",
       "      <td>2.4</td>\n",
       "      <td>1.6</td>\n",
       "      <td>1.8</td>\n",
       "      <td>275.0</td>\n",
       "      <td>1.8</td>\n",
       "      <td>1005.0</td>\n",
       "      <td>NaN</td>\n",
       "      <td>0.5</td>\n",
       "      <td>NaN</td>\n",
       "      <td>89.3</td>\n",
       "      <td>NaN</td>\n",
       "    </tr>\n",
       "    <tr>\n",
       "      <th>2020-12-31 23:00:00+00:00</th>\n",
       "      <td>2.7</td>\n",
       "      <td>NaN</td>\n",
       "      <td>2.1</td>\n",
       "      <td>1.0</td>\n",
       "      <td>1.0</td>\n",
       "      <td>194.7</td>\n",
       "      <td>2.3</td>\n",
       "      <td>1004.6</td>\n",
       "      <td>NaN</td>\n",
       "      <td>1.3</td>\n",
       "      <td>NaN</td>\n",
       "      <td>90.6</td>\n",
       "      <td>NaN</td>\n",
       "    </tr>\n",
       "    <tr>\n",
       "      <th>2021-01-01 00:00:00+00:00</th>\n",
       "      <td>2.3</td>\n",
       "      <td>NaN</td>\n",
       "      <td>2.3</td>\n",
       "      <td>1.5</td>\n",
       "      <td>1.5</td>\n",
       "      <td>299.3</td>\n",
       "      <td>1.9</td>\n",
       "      <td>1004.6</td>\n",
       "      <td>NaN</td>\n",
       "      <td>1.1</td>\n",
       "      <td>NaN</td>\n",
       "      <td>91.5</td>\n",
       "      <td>NaN</td>\n",
       "    </tr>\n",
       "    <tr>\n",
       "      <th>2021-01-01 01:00:00+00:00</th>\n",
       "      <td>2.5</td>\n",
       "      <td>NaN</td>\n",
       "      <td>2.8</td>\n",
       "      <td>1.4</td>\n",
       "      <td>1.5</td>\n",
       "      <td>339.0</td>\n",
       "      <td>1.8</td>\n",
       "      <td>1004.9</td>\n",
       "      <td>NaN</td>\n",
       "      <td>1.4</td>\n",
       "      <td>NaN</td>\n",
       "      <td>92.0</td>\n",
       "      <td>NaN</td>\n",
       "    </tr>\n",
       "    <tr>\n",
       "      <th>2021-01-01 02:00:00+00:00</th>\n",
       "      <td>2.5</td>\n",
       "      <td>NaN</td>\n",
       "      <td>2.4</td>\n",
       "      <td>1.3</td>\n",
       "      <td>1.3</td>\n",
       "      <td>332.5</td>\n",
       "      <td>1.7</td>\n",
       "      <td>1005.2</td>\n",
       "      <td>NaN</td>\n",
       "      <td>1.4</td>\n",
       "      <td>NaN</td>\n",
       "      <td>92.7</td>\n",
       "      <td>NaN</td>\n",
       "    </tr>\n",
       "    <tr>\n",
       "      <th>2021-01-01 03:00:00+00:00</th>\n",
       "      <td>2.7</td>\n",
       "      <td>NaN</td>\n",
       "      <td>1.2</td>\n",
       "      <td>0.6</td>\n",
       "      <td>0.7</td>\n",
       "      <td>150.3</td>\n",
       "      <td>2.7</td>\n",
       "      <td>1005.2</td>\n",
       "      <td>NaN</td>\n",
       "      <td>1.6</td>\n",
       "      <td>NaN</td>\n",
       "      <td>91.8</td>\n",
       "      <td>NaN</td>\n",
       "    </tr>\n",
       "    <tr>\n",
       "      <th>2021-01-01 04:00:00+00:00</th>\n",
       "      <td>2.8</td>\n",
       "      <td>NaN</td>\n",
       "      <td>2.1</td>\n",
       "      <td>1.4</td>\n",
       "      <td>1.2</td>\n",
       "      <td>222.5</td>\n",
       "      <td>2.7</td>\n",
       "      <td>1005.4</td>\n",
       "      <td>NaN</td>\n",
       "      <td>1.5</td>\n",
       "      <td>NaN</td>\n",
       "      <td>90.8</td>\n",
       "      <td>NaN</td>\n",
       "    </tr>\n",
       "  </tbody>\n",
       "</table>\n",
       "</div>"
      ],
      "text/plain": [
       "                           air_temperature  water_temperature  wind_gust_max_10min  \\\n",
       "timestamp_utc                                                                        \n",
       "2020-12-31 21:00:00+00:00              1.6                NaN                  3.0   \n",
       "2020-12-31 22:00:00+00:00              2.1                NaN                  2.4   \n",
       "2020-12-31 23:00:00+00:00              2.7                NaN                  2.1   \n",
       "2021-01-01 00:00:00+00:00              2.3                NaN                  2.3   \n",
       "2021-01-01 01:00:00+00:00              2.5                NaN                  2.8   \n",
       "2021-01-01 02:00:00+00:00              2.5                NaN                  2.4   \n",
       "2021-01-01 03:00:00+00:00              2.7                NaN                  1.2   \n",
       "2021-01-01 04:00:00+00:00              2.8                NaN                  2.1   \n",
       "\n",
       "                           wind_speed_avg_10min  wind_force_avg_10min  wind_direction  windchill  \\\n",
       "timestamp_utc                                                                                      \n",
       "2020-12-31 21:00:00+00:00                   1.8                   2.0            90.0        0.8   \n",
       "2020-12-31 22:00:00+00:00                   1.6                   1.8           275.0        1.8   \n",
       "2020-12-31 23:00:00+00:00                   1.0                   1.0           194.7        2.3   \n",
       "2021-01-01 00:00:00+00:00                   1.5                   1.5           299.3        1.9   \n",
       "2021-01-01 01:00:00+00:00                   1.4                   1.5           339.0        1.8   \n",
       "2021-01-01 02:00:00+00:00                   1.3                   1.3           332.5        1.7   \n",
       "2021-01-01 03:00:00+00:00                   0.6                   0.7           150.3        2.7   \n",
       "2021-01-01 04:00:00+00:00                   1.4                   1.2           222.5        2.7   \n",
       "\n",
       "                           barometric_pressure_qfe  precipitation  dew_point  global_radiation  \\\n",
       "timestamp_utc                                                                                    \n",
       "2020-12-31 21:00:00+00:00                   1005.0            NaN        0.1               NaN   \n",
       "2020-12-31 22:00:00+00:00                   1005.0            NaN        0.5               NaN   \n",
       "2020-12-31 23:00:00+00:00                   1004.6            NaN        1.3               NaN   \n",
       "2021-01-01 00:00:00+00:00                   1004.6            NaN        1.1               NaN   \n",
       "2021-01-01 01:00:00+00:00                   1004.9            NaN        1.4               NaN   \n",
       "2021-01-01 02:00:00+00:00                   1005.2            NaN        1.4               NaN   \n",
       "2021-01-01 03:00:00+00:00                   1005.2            NaN        1.6               NaN   \n",
       "2021-01-01 04:00:00+00:00                   1005.4            NaN        1.5               NaN   \n",
       "\n",
       "                           humidity  water_level  \n",
       "timestamp_utc                                     \n",
       "2020-12-31 21:00:00+00:00      90.0          NaN  \n",
       "2020-12-31 22:00:00+00:00      89.3          NaN  \n",
       "2020-12-31 23:00:00+00:00      90.6          NaN  \n",
       "2021-01-01 00:00:00+00:00      91.5          NaN  \n",
       "2021-01-01 01:00:00+00:00      92.0          NaN  \n",
       "2021-01-01 02:00:00+00:00      92.7          NaN  \n",
       "2021-01-01 03:00:00+00:00      91.8          NaN  \n",
       "2021-01-01 04:00:00+00:00      90.8          NaN  "
      ]
     },
     "execution_count": 26,
     "metadata": {},
     "output_type": "execute_result"
    }
   ],
   "source": [
    "#data2betested_my.loc[\"2017-06-30\"]\n",
    "df_zeitreihe_tb.loc[\"2020-12-31 21:50\":\"2021-01-01 04:30\"].resample(\"H\").mean()\n",
    "df_zeitreihe_my.loc[\"2020-12-31 21:50\":\"2021-01-01 04:30\"].resample(\"H\").mean()"
   ]
  },
  {
   "cell_type": "code",
   "execution_count": 100,
   "metadata": {},
   "outputs": [],
   "source": [
    "# first we create the sums per week\n",
    "weekly_medians = df_zeitreihe_tb.resample(\"W\").median()\n",
    "# then we generate the weekly means for each quarter\n",
    "quarterly_medians = df_zeitreihe_tb.resample(\"Q\").median()\n",
    "# for readability we'll revert the values back to integers\n",
    "#quarterly_medians.dropna().astype(int).head(2)"
   ]
  },
  {
   "cell_type": "markdown",
   "metadata": {
    "tags": []
   },
   "source": [
    "### Visualisierungen nach Zeitausschnitten"
   ]
  },
  {
   "cell_type": "markdown",
   "metadata": {},
   "source": [
    "Liniendiagramm \n",
    "[Link zur Doku](https://altair-viz.github.io/gallery/multiline_highlight.html)"
   ]
  },
  {
   "cell_type": "code",
   "execution_count": 28,
   "metadata": {},
   "outputs": [
    {
     "data": {
      "text/plain": [
       "air_temperature            float64\n",
       "water_temperature          float64\n",
       "wind_gust_max_10min        float64\n",
       "wind_speed_avg_10min       float64\n",
       "wind_force_avg_10min       float64\n",
       "wind_direction             float64\n",
       "windchill                  float64\n",
       "barometric_pressure_qfe    float64\n",
       "precipitation              float64\n",
       "dew_point                  float64\n",
       "global_radiation           float64\n",
       "humidity                   float64\n",
       "water_level                float64\n",
       "dtype: object"
      ]
     },
     "execution_count": 28,
     "metadata": {},
     "output_type": "execute_result"
    }
   ],
   "source": [
    "#weekly_medians.dtypes\n",
    "days_tb = df_zeitreihe_tb.resample(\"D\").median()\n",
    "months_tb = df_zeitreihe_tb.resample(\"M\").median()\n",
    "years_tb = df_zeitreihe_tb.resample(\"Y\").median()\n",
    "years_tb.dtypes"
   ]
  },
  {
   "cell_type": "markdown",
   "metadata": {},
   "source": [
    "**----------------Testing----------- **\n",
    "\n",
    "**Ich möchte eine Grafik, in der die Jahre farblich eingefärbt werden und der Verlauf jedes Jahres dargestellt wird**"
   ]
  },
  {
   "cell_type": "code",
   "execution_count": 97,
   "metadata": {},
   "outputs": [],
   "source": [
    "# add a column for month names and month number\n",
    "months_tb['month_number'] = months_tb.index.month\n",
    "months_tb['month_name'] = months_tb.index.month_name()\n",
    "months_tb['year'] =months_tb.index.year\n",
    "#months_tb['month_label'] = str(months_tb['month_number'])+\"_\"+months_tb.index.month_name()\n",
    "\n",
    "#months_tb.head(2)"
   ]
  },
  {
   "cell_type": "code",
   "execution_count": 99,
   "metadata": {},
   "outputs": [
    {
     "data": {
      "text/html": [
       "<div>\n",
       "<style scoped>\n",
       "    .dataframe tbody tr th:only-of-type {\n",
       "        vertical-align: middle;\n",
       "    }\n",
       "\n",
       "    .dataframe tbody tr th {\n",
       "        vertical-align: top;\n",
       "    }\n",
       "\n",
       "    .dataframe thead th {\n",
       "        text-align: right;\n",
       "    }\n",
       "</style>\n",
       "<table border=\"1\" class=\"dataframe\">\n",
       "  <thead>\n",
       "    <tr style=\"text-align: right;\">\n",
       "      <th></th>\n",
       "      <th>timestamp_utc</th>\n",
       "      <th>air_temperature</th>\n",
       "      <th>water_temperature</th>\n",
       "      <th>month_number</th>\n",
       "      <th>month_name</th>\n",
       "      <th>year</th>\n",
       "    </tr>\n",
       "  </thead>\n",
       "  <tbody>\n",
       "    <tr>\n",
       "      <th>0</th>\n",
       "      <td>2007-04-30 00:00:00+00:00</td>\n",
       "      <td>17.0</td>\n",
       "      <td>15.2</td>\n",
       "      <td>4</td>\n",
       "      <td>April</td>\n",
       "      <td>2007</td>\n",
       "    </tr>\n",
       "    <tr>\n",
       "      <th>1</th>\n",
       "      <td>2007-05-31 00:00:00+00:00</td>\n",
       "      <td>15.7</td>\n",
       "      <td>16.1</td>\n",
       "      <td>5</td>\n",
       "      <td>May</td>\n",
       "      <td>2007</td>\n",
       "    </tr>\n",
       "  </tbody>\n",
       "</table>\n",
       "</div>"
      ],
      "text/plain": [
       "              timestamp_utc  air_temperature  water_temperature  month_number month_name  year\n",
       "0 2007-04-30 00:00:00+00:00             17.0               15.2             4      April  2007\n",
       "1 2007-05-31 00:00:00+00:00             15.7               16.1             5        May  2007"
      ]
     },
     "execution_count": 99,
     "metadata": {},
     "output_type": "execute_result"
    }
   ],
   "source": [
    "months_tb[['air_temperature','water_temperature','month_number','month_name','year']].reset_index().head(2)"
   ]
  },
  {
   "cell_type": "code",
   "execution_count": 66,
   "metadata": {},
   "outputs": [
    {
     "data": {
      "text/html": [
       "\n",
       "<div id=\"altair-viz-0250dc32aaae4a158c2bade86d5509df\"></div>\n",
       "<script type=\"text/javascript\">\n",
       "  (function(spec, embedOpt){\n",
       "    let outputDiv = document.currentScript.previousElementSibling;\n",
       "    if (outputDiv.id !== \"altair-viz-0250dc32aaae4a158c2bade86d5509df\") {\n",
       "      outputDiv = document.getElementById(\"altair-viz-0250dc32aaae4a158c2bade86d5509df\");\n",
       "    }\n",
       "    const paths = {\n",
       "      \"vega\": \"https://cdn.jsdelivr.net/npm//vega@5?noext\",\n",
       "      \"vega-lib\": \"https://cdn.jsdelivr.net/npm//vega-lib?noext\",\n",
       "      \"vega-lite\": \"https://cdn.jsdelivr.net/npm//vega-lite@4.8.1?noext\",\n",
       "      \"vega-embed\": \"https://cdn.jsdelivr.net/npm//vega-embed@6?noext\",\n",
       "    };\n",
       "\n",
       "    function loadScript(lib) {\n",
       "      return new Promise(function(resolve, reject) {\n",
       "        var s = document.createElement('script');\n",
       "        s.src = paths[lib];\n",
       "        s.async = true;\n",
       "        s.onload = () => resolve(paths[lib]);\n",
       "        s.onerror = () => reject(`Error loading script: ${paths[lib]}`);\n",
       "        document.getElementsByTagName(\"head\")[0].appendChild(s);\n",
       "      });\n",
       "    }\n",
       "\n",
       "    function showError(err) {\n",
       "      outputDiv.innerHTML = `<div class=\"error\" style=\"color:red;\">${err}</div>`;\n",
       "      throw err;\n",
       "    }\n",
       "\n",
       "    function displayChart(vegaEmbed) {\n",
       "      vegaEmbed(outputDiv, spec, embedOpt)\n",
       "        .catch(err => showError(`Javascript Error: ${err.message}<br>This usually means there's a typo in your chart specification. See the javascript console for the full traceback.`));\n",
       "    }\n",
       "\n",
       "    if(typeof define === \"function\" && define.amd) {\n",
       "      requirejs.config({paths});\n",
       "      require([\"vega-embed\"], displayChart, err => showError(`Error loading script: ${err.message}`));\n",
       "    } else if (typeof vegaEmbed === \"function\") {\n",
       "      displayChart(vegaEmbed);\n",
       "    } else {\n",
       "      loadScript(\"vega\")\n",
       "        .then(() => loadScript(\"vega-lite\"))\n",
       "        .then(() => loadScript(\"vega-embed\"))\n",
       "        .catch(showError)\n",
       "        .then(() => displayChart(vegaEmbed));\n",
       "    }\n",
       "  })({\"config\": {\"view\": {\"continuousWidth\": 400, \"continuousHeight\": 300}}, \"layer\": [{\"data\": {\"name\": \"data-663cdaf8fbbcee2b2d698cec53c026dc\"}, \"mark\": {\"type\": \"line\", \"opacity\": 0.9, \"strokeWidth\": 1.5}, \"encoding\": {\"color\": {\"type\": \"quantitative\", \"field\": \"year\", \"legend\": {\"title\": \"Jahre\"}, \"scale\": {\"scheme\": \"cividis\"}}, \"x\": {\"type\": \"quantitative\", \"field\": \"month_number\"}, \"y\": {\"type\": \"quantitative\", \"field\": \"air_temperature\"}}, \"height\": 400, \"selection\": {\"selector047\": {\"type\": \"interval\", \"bind\": \"scales\", \"encodings\": [\"x\", \"y\"]}}, \"width\": 800}, {\"data\": {\"name\": \"data-663cdaf8fbbcee2b2d698cec53c026dc\"}, \"mark\": {\"type\": \"line\", \"interpolate\": \"basis\", \"opacity\": 0.6, \"strokeWidth\": 0.8}, \"encoding\": {\"color\": {\"type\": \"quantitative\", \"field\": \"year\", \"legend\": {\"title\": \"Jahre\"}, \"scale\": {\"scheme\": \"viridis\"}}, \"x\": {\"type\": \"quantitative\", \"field\": \"month_number\"}, \"y\": {\"type\": \"quantitative\", \"field\": \"air_temperature\"}}, \"height\": 400, \"selection\": {\"selector048\": {\"type\": \"interval\", \"bind\": \"scales\", \"encodings\": [\"x\", \"y\"]}}, \"width\": 800}], \"$schema\": \"https://vega.github.io/schema/vega-lite/v4.8.1.json\", \"datasets\": {\"data-663cdaf8fbbcee2b2d698cec53c026dc\": [{\"timestamp_utc\": \"2011-01-31T00:00:00+00:00\", \"air_temperature\": 1.6, \"water_temperature\": 4.9, \"month_number\": 1, \"month_name\": \"January\", \"year\": 2011}, {\"timestamp_utc\": \"2011-02-28T00:00:00+00:00\", \"air_temperature\": 3.6, \"water_temperature\": 4.3, \"month_number\": 2, \"month_name\": \"February\", \"year\": 2011}, {\"timestamp_utc\": \"2011-03-31T00:00:00+00:00\", \"air_temperature\": 7.2, \"water_temperature\": 4.5, \"month_number\": 3, \"month_name\": \"March\", \"year\": 2011}, {\"timestamp_utc\": \"2011-04-30T00:00:00+00:00\", \"air_temperature\": 12.9, \"water_temperature\": 11.4, \"month_number\": 4, \"month_name\": \"April\", \"year\": 2011}, {\"timestamp_utc\": \"2011-05-31T00:00:00+00:00\", \"air_temperature\": 16.4, \"water_temperature\": 17.3, \"month_number\": 5, \"month_name\": \"May\", \"year\": 2011}, {\"timestamp_utc\": \"2011-06-30T00:00:00+00:00\", \"air_temperature\": 17.5, \"water_temperature\": 19.4, \"month_number\": 6, \"month_name\": \"June\", \"year\": 2011}, {\"timestamp_utc\": \"2011-07-31T00:00:00+00:00\", \"air_temperature\": 17.5, \"water_temperature\": 20.7, \"month_number\": 7, \"month_name\": \"July\", \"year\": 2011}, {\"timestamp_utc\": \"2011-08-31T00:00:00+00:00\", \"air_temperature\": 20.2, \"water_temperature\": 21.8, \"month_number\": 8, \"month_name\": \"August\", \"year\": 2011}, {\"timestamp_utc\": \"2011-09-30T00:00:00+00:00\", \"air_temperature\": 17.9, \"water_temperature\": 20.9, \"month_number\": 9, \"month_name\": \"September\", \"year\": 2011}, {\"timestamp_utc\": \"2011-10-31T00:00:00+00:00\", \"air_temperature\": 10.2, \"water_temperature\": 15.2, \"month_number\": 10, \"month_name\": \"October\", \"year\": 2011}, {\"timestamp_utc\": \"2011-11-30T00:00:00+00:00\", \"air_temperature\": 6.3, \"water_temperature\": 11.1, \"month_number\": 11, \"month_name\": \"November\", \"year\": 2011}, {\"timestamp_utc\": \"2011-12-31T00:00:00+00:00\", \"air_temperature\": 5.2, \"water_temperature\": 6.9, \"month_number\": 12, \"month_name\": \"December\", \"year\": 2011}, {\"timestamp_utc\": \"2012-01-31T00:00:00+00:00\", \"air_temperature\": 3.6, \"water_temperature\": 5.1, \"month_number\": 1, \"month_name\": \"January\", \"year\": 2012}, {\"timestamp_utc\": \"2012-02-29T00:00:00+00:00\", \"air_temperature\": -1.3, \"water_temperature\": 4.0, \"month_number\": 2, \"month_name\": \"February\", \"year\": 2012}, {\"timestamp_utc\": \"2012-03-31T00:00:00+00:00\", \"air_temperature\": 7.2, \"water_temperature\": 5.6, \"month_number\": 3, \"month_name\": \"March\", \"year\": 2012}, {\"timestamp_utc\": \"2012-04-30T00:00:00+00:00\", \"air_temperature\": 8.7, \"water_temperature\": 8.3, \"month_number\": 4, \"month_name\": \"April\", \"year\": 2012}, {\"timestamp_utc\": \"2012-05-31T00:00:00+00:00\", \"air_temperature\": 15.1, \"water_temperature\": 13.2, \"month_number\": 5, \"month_name\": \"May\", \"year\": 2012}, {\"timestamp_utc\": \"2012-06-30T00:00:00+00:00\", \"air_temperature\": 18.0, \"water_temperature\": 18.6, \"month_number\": 6, \"month_name\": \"June\", \"year\": 2012}, {\"timestamp_utc\": \"2012-07-31T00:00:00+00:00\", \"air_temperature\": 18.85, \"water_temperature\": 20.6, \"month_number\": 7, \"month_name\": \"July\", \"year\": 2012}, {\"timestamp_utc\": \"2012-08-31T00:00:00+00:00\", \"air_temperature\": 20.7, \"water_temperature\": 23.3, \"month_number\": 8, \"month_name\": \"August\", \"year\": 2012}, {\"timestamp_utc\": \"2012-09-30T00:00:00+00:00\", \"air_temperature\": 15.3, \"water_temperature\": 19.8, \"month_number\": 9, \"month_name\": \"September\", \"year\": 2012}, {\"timestamp_utc\": \"2012-10-31T00:00:00+00:00\", \"air_temperature\": 11.5, \"water_temperature\": 15.4, \"month_number\": 10, \"month_name\": \"October\", \"year\": 2012}, {\"timestamp_utc\": \"2012-11-30T00:00:00+00:00\", \"air_temperature\": 7.4, \"water_temperature\": 10.5, \"month_number\": 11, \"month_name\": \"November\", \"year\": 2012}, {\"timestamp_utc\": \"2012-12-31T00:00:00+00:00\", \"air_temperature\": 3.4, \"water_temperature\": 6.5, \"month_number\": 12, \"month_name\": \"December\", \"year\": 2012}, {\"timestamp_utc\": \"2013-01-31T00:00:00+00:00\", \"air_temperature\": 1.5, \"water_temperature\": 5.5, \"month_number\": 1, \"month_name\": \"January\", \"year\": 2013}, {\"timestamp_utc\": \"2013-02-28T00:00:00+00:00\", \"air_temperature\": 0.2, \"water_temperature\": 4.4, \"month_number\": 2, \"month_name\": \"February\", \"year\": 2013}, {\"timestamp_utc\": \"2013-03-31T00:00:00+00:00\", \"air_temperature\": 3.3, \"water_temperature\": 4.1, \"month_number\": 3, \"month_name\": \"March\", \"year\": 2013}, {\"timestamp_utc\": \"2013-04-30T00:00:00+00:00\", \"air_temperature\": 8.8, \"water_temperature\": 5.3, \"month_number\": 4, \"month_name\": \"April\", \"year\": 2013}, {\"timestamp_utc\": \"2013-05-31T00:00:00+00:00\", \"air_temperature\": 11.5, \"water_temperature\": 12.5, \"month_number\": 5, \"month_name\": \"May\", \"year\": 2013}, {\"timestamp_utc\": \"2013-06-30T00:00:00+00:00\", \"air_temperature\": 16.0, \"water_temperature\": 17.1, \"month_number\": 6, \"month_name\": \"June\", \"year\": 2013}, {\"timestamp_utc\": \"2013-07-31T00:00:00+00:00\", \"air_temperature\": 21.9, \"water_temperature\": 21.5, \"month_number\": 7, \"month_name\": \"July\", \"year\": 2013}, {\"timestamp_utc\": \"2013-08-31T00:00:00+00:00\", \"air_temperature\": 19.6, \"water_temperature\": 22.8, \"month_number\": 8, \"month_name\": \"August\", \"year\": 2013}, {\"timestamp_utc\": \"2013-09-30T00:00:00+00:00\", \"air_temperature\": 15.6, \"water_temperature\": 19.1, \"month_number\": 9, \"month_name\": \"September\", \"year\": 2013}, {\"timestamp_utc\": \"2013-10-31T00:00:00+00:00\", \"air_temperature\": 12.8, \"water_temperature\": 14.9, \"month_number\": 10, \"month_name\": \"October\", \"year\": 2013}, {\"timestamp_utc\": \"2013-11-30T00:00:00+00:00\", \"air_temperature\": 4.7, \"water_temperature\": 10.1, \"month_number\": 11, \"month_name\": \"November\", \"year\": 2013}, {\"timestamp_utc\": \"2013-12-31T00:00:00+00:00\", \"air_temperature\": 2.1, \"water_temperature\": 6.4, \"month_number\": 12, \"month_name\": \"December\", \"year\": 2013}, {\"timestamp_utc\": \"2014-01-31T00:00:00+00:00\", \"air_temperature\": 4.2, \"water_temperature\": 5.7, \"month_number\": 1, \"month_name\": \"January\", \"year\": 2014}, {\"timestamp_utc\": \"2014-02-28T00:00:00+00:00\", \"air_temperature\": 4.9, \"water_temperature\": 5.2, \"month_number\": 2, \"month_name\": \"February\", \"year\": 2014}, {\"timestamp_utc\": \"2014-03-31T00:00:00+00:00\", \"air_temperature\": 6.9, \"water_temperature\": 6.9, \"month_number\": 3, \"month_name\": \"March\", \"year\": 2014}, {\"timestamp_utc\": \"2014-04-30T00:00:00+00:00\", \"air_temperature\": 11.6, \"water_temperature\": 11.3, \"month_number\": 4, \"month_name\": \"April\", \"year\": 2014}, {\"timestamp_utc\": \"2014-05-31T00:00:00+00:00\", \"air_temperature\": 13.7, \"water_temperature\": 13.9, \"month_number\": 5, \"month_name\": \"May\", \"year\": 2014}, {\"timestamp_utc\": \"2014-06-30T00:00:00+00:00\", \"air_temperature\": 19.0, \"water_temperature\": 20.6, \"month_number\": 6, \"month_name\": \"June\", \"year\": 2014}, {\"timestamp_utc\": \"2014-07-31T00:00:00+00:00\", \"air_temperature\": 18.4, \"water_temperature\": 20.8, \"month_number\": 7, \"month_name\": \"July\", \"year\": 2014}, {\"timestamp_utc\": \"2014-08-31T00:00:00+00:00\", \"air_temperature\": 17.5, \"water_temperature\": 20.0, \"month_number\": 8, \"month_name\": \"August\", \"year\": 2014}, {\"timestamp_utc\": \"2014-09-30T00:00:00+00:00\", \"air_temperature\": 16.6, \"water_temperature\": 18.8, \"month_number\": 9, \"month_name\": \"September\", \"year\": 2014}, {\"timestamp_utc\": \"2014-10-31T00:00:00+00:00\", \"air_temperature\": 14.2, \"water_temperature\": 17.4, \"month_number\": 10, \"month_name\": \"October\", \"year\": 2014}, {\"timestamp_utc\": \"2014-11-30T00:00:00+00:00\", \"air_temperature\": 8.0, \"water_temperature\": 12.0, \"month_number\": 11, \"month_name\": \"November\", \"year\": 2014}, {\"timestamp_utc\": \"2014-12-31T00:00:00+00:00\", \"air_temperature\": 4.4, \"water_temperature\": 8.4, \"month_number\": 12, \"month_name\": \"December\", \"year\": 2014}, {\"timestamp_utc\": \"2015-01-31T00:00:00+00:00\", \"air_temperature\": 2.3, \"water_temperature\": 6.0, \"month_number\": 1, \"month_name\": \"January\", \"year\": 2015}, {\"timestamp_utc\": \"2015-02-28T00:00:00+00:00\", \"air_temperature\": 0.5, \"water_temperature\": 4.9, \"month_number\": 2, \"month_name\": \"February\", \"year\": 2015}, {\"timestamp_utc\": \"2015-03-31T00:00:00+00:00\", \"air_temperature\": 6.8, \"water_temperature\": 5.4, \"month_number\": 3, \"month_name\": \"March\", \"year\": 2015}, {\"timestamp_utc\": \"2015-04-30T00:00:00+00:00\", \"air_temperature\": 11.0, \"water_temperature\": 9.2, \"month_number\": 4, \"month_name\": \"April\", \"year\": 2015}, {\"timestamp_utc\": \"2015-05-31T00:00:00+00:00\", \"air_temperature\": 14.5, \"water_temperature\": 14.8, \"month_number\": 5, \"month_name\": \"May\", \"year\": 2015}, {\"timestamp_utc\": \"2015-06-30T00:00:00+00:00\", \"air_temperature\": 18.5, \"water_temperature\": 19.0, \"month_number\": 6, \"month_name\": \"June\", \"year\": 2015}, {\"timestamp_utc\": \"2015-07-31T00:00:00+00:00\", \"air_temperature\": 22.9, \"water_temperature\": 24.1, \"month_number\": 7, \"month_name\": \"July\", \"year\": 2015}, {\"timestamp_utc\": \"2015-08-31T00:00:00+00:00\", \"air_temperature\": 20.9, \"water_temperature\": 23.2, \"month_number\": 8, \"month_name\": \"August\", \"year\": 2015}, {\"timestamp_utc\": \"2015-09-30T00:00:00+00:00\", \"air_temperature\": 14.5, \"water_temperature\": 19.2, \"month_number\": 9, \"month_name\": \"September\", \"year\": 2015}, {\"timestamp_utc\": \"2015-10-31T00:00:00+00:00\", \"air_temperature\": 10.7, \"water_temperature\": 14.5, \"month_number\": 10, \"month_name\": \"October\", \"year\": 2015}, {\"timestamp_utc\": \"2015-11-30T00:00:00+00:00\", \"air_temperature\": 9.3, \"water_temperature\": 12.4, \"month_number\": 11, \"month_name\": \"November\", \"year\": 2015}, {\"timestamp_utc\": \"2015-12-31T00:00:00+00:00\", \"air_temperature\": 4.9, \"water_temperature\": 7.9, \"month_number\": 12, \"month_name\": \"December\", \"year\": 2015}, {\"timestamp_utc\": \"2016-01-31T00:00:00+00:00\", \"air_temperature\": 4.7, \"water_temperature\": 6.3, \"month_number\": 1, \"month_name\": \"January\", \"year\": 2016}, {\"timestamp_utc\": \"2016-02-29T00:00:00+00:00\", \"air_temperature\": 4.1, \"water_temperature\": 5.6, \"month_number\": 2, \"month_name\": \"February\", \"year\": 2016}, {\"timestamp_utc\": \"2016-03-31T00:00:00+00:00\", \"air_temperature\": 5.2, \"water_temperature\": 5.4, \"month_number\": 3, \"month_name\": \"March\", \"year\": 2016}, {\"timestamp_utc\": \"2016-04-30T00:00:00+00:00\", \"air_temperature\": 9.8, \"water_temperature\": 9.0, \"month_number\": 4, \"month_name\": \"April\", \"year\": 2016}, {\"timestamp_utc\": \"2016-05-31T00:00:00+00:00\", \"air_temperature\": 13.5, \"water_temperature\": 13.7, \"month_number\": 5, \"month_name\": \"May\", \"year\": 2016}, {\"timestamp_utc\": \"2016-06-30T00:00:00+00:00\", \"air_temperature\": 17.0, \"water_temperature\": 18.2, \"month_number\": 6, \"month_name\": \"June\", \"year\": 2016}, {\"timestamp_utc\": \"2016-07-31T00:00:00+00:00\", \"air_temperature\": 21.0, \"water_temperature\": 22.7, \"month_number\": 7, \"month_name\": \"July\", \"year\": 2016}, {\"timestamp_utc\": \"2016-08-31T00:00:00+00:00\", \"air_temperature\": 20.1, \"water_temperature\": 23.1, \"month_number\": 8, \"month_name\": \"August\", \"year\": 2016}, {\"timestamp_utc\": \"2016-09-30T00:00:00+00:00\", \"air_temperature\": 17.7, \"water_temperature\": 22.2, \"month_number\": 9, \"month_name\": \"September\", \"year\": 2016}, {\"timestamp_utc\": \"2016-10-31T00:00:00+00:00\", \"air_temperature\": 9.8, \"water_temperature\": 14.8, \"month_number\": 10, \"month_name\": \"October\", \"year\": 2016}, {\"timestamp_utc\": \"2016-11-30T00:00:00+00:00\", \"air_temperature\": 6.9, \"water_temperature\": 10.3, \"month_number\": 11, \"month_name\": \"November\", \"year\": 2016}, {\"timestamp_utc\": \"2016-12-31T00:00:00+00:00\", \"air_temperature\": 1.3, \"water_temperature\": 7.1, \"month_number\": 12, \"month_name\": \"December\", \"year\": 2016}, {\"timestamp_utc\": \"2017-01-31T00:00:00+00:00\", \"air_temperature\": -1.5, \"water_temperature\": 5.3, \"month_number\": 1, \"month_name\": \"January\", \"year\": 2017}, {\"timestamp_utc\": \"2017-02-28T00:00:00+00:00\", \"air_temperature\": 4.1, \"water_temperature\": 4.8, \"month_number\": 2, \"month_name\": \"February\", \"year\": 2017}, {\"timestamp_utc\": \"2017-03-31T00:00:00+00:00\", \"air_temperature\": 8.7, \"water_temperature\": 5.6, \"month_number\": 3, \"month_name\": \"March\", \"year\": 2017}, {\"timestamp_utc\": \"2017-04-30T00:00:00+00:00\", \"air_temperature\": 10.4, \"water_temperature\": 10.4, \"month_number\": 4, \"month_name\": \"April\", \"year\": 2017}, {\"timestamp_utc\": \"2017-05-31T00:00:00+00:00\", \"air_temperature\": 15.5, \"water_temperature\": 14.9, \"month_number\": 5, \"month_name\": \"May\", \"year\": 2017}, {\"timestamp_utc\": \"2017-06-30T00:00:00+00:00\", \"air_temperature\": 20.9, \"water_temperature\": 21.6, \"month_number\": 6, \"month_name\": \"June\", \"year\": 2017}, {\"timestamp_utc\": \"2017-07-31T00:00:00+00:00\", \"air_temperature\": 20.2, \"water_temperature\": 22.8, \"month_number\": 7, \"month_name\": \"July\", \"year\": 2017}, {\"timestamp_utc\": \"2017-08-31T00:00:00+00:00\", \"air_temperature\": 20.5, \"water_temperature\": 22.6, \"month_number\": 8, \"month_name\": \"August\", \"year\": 2017}, {\"timestamp_utc\": \"2017-09-30T00:00:00+00:00\", \"air_temperature\": 14.4, \"water_temperature\": 18.2, \"month_number\": 9, \"month_name\": \"September\", \"year\": 2017}, {\"timestamp_utc\": \"2017-10-31T00:00:00+00:00\", \"air_temperature\": 12.0, \"water_temperature\": 16.2, \"month_number\": 10, \"month_name\": \"October\", \"year\": 2017}, {\"timestamp_utc\": \"2017-11-30T00:00:00+00:00\", \"air_temperature\": 5.8, \"water_temperature\": 10.4, \"month_number\": 11, \"month_name\": \"November\", \"year\": 2017}, {\"timestamp_utc\": \"2017-12-31T00:00:00+00:00\", \"air_temperature\": 2.6, \"water_temperature\": 6.7, \"month_number\": 12, \"month_name\": \"December\", \"year\": 2017}, {\"timestamp_utc\": \"2018-01-31T00:00:00+00:00\", \"air_temperature\": 6.1, \"water_temperature\": 5.7, \"month_number\": 1, \"month_name\": \"January\", \"year\": 2018}, {\"timestamp_utc\": \"2018-02-28T00:00:00+00:00\", \"air_temperature\": 1.0, \"water_temperature\": 5.1, \"month_number\": 2, \"month_name\": \"February\", \"year\": 2018}, {\"timestamp_utc\": \"2018-03-31T00:00:00+00:00\", \"air_temperature\": 5.5, \"water_temperature\": 4.9, \"month_number\": 3, \"month_name\": \"March\", \"year\": 2018}, {\"timestamp_utc\": \"2018-04-30T00:00:00+00:00\", \"air_temperature\": 13.2, \"water_temperature\": 8.7, \"month_number\": 4, \"month_name\": \"April\", \"year\": 2018}, {\"timestamp_utc\": \"2018-05-31T00:00:00+00:00\", \"air_temperature\": 16.2, \"water_temperature\": 15.3, \"month_number\": 5, \"month_name\": \"May\", \"year\": 2018}, {\"timestamp_utc\": \"2018-06-30T00:00:00+00:00\", \"air_temperature\": 19.9, \"water_temperature\": 21.2, \"month_number\": 6, \"month_name\": \"June\", \"year\": 2018}, {\"timestamp_utc\": \"2018-07-31T00:00:00+00:00\", \"air_temperature\": 22.0, \"water_temperature\": 23.6, \"month_number\": 7, \"month_name\": \"July\", \"year\": 2018}, {\"timestamp_utc\": \"2018-08-31T00:00:00+00:00\", \"air_temperature\": 22.1, \"water_temperature\": 25.0, \"month_number\": 8, \"month_name\": \"August\", \"year\": 2018}, {\"timestamp_utc\": \"2018-09-30T00:00:00+00:00\", \"air_temperature\": 17.4, \"water_temperature\": 21.7, \"month_number\": 9, \"month_name\": \"September\", \"year\": 2018}, {\"timestamp_utc\": \"2018-10-31T00:00:00+00:00\", \"air_temperature\": 12.6, \"water_temperature\": 17.7, \"month_number\": 10, \"month_name\": \"October\", \"year\": 2018}, {\"timestamp_utc\": \"2018-11-30T00:00:00+00:00\", \"air_temperature\": 7.2, \"water_temperature\": 12.5, \"month_number\": 11, \"month_name\": \"November\", \"year\": 2018}, {\"timestamp_utc\": \"2018-12-31T00:00:00+00:00\", \"air_temperature\": 5.1, \"water_temperature\": 7.4, \"month_number\": 12, \"month_name\": \"December\", \"year\": 2018}, {\"timestamp_utc\": \"2019-01-31T00:00:00+00:00\", \"air_temperature\": 1.9, \"water_temperature\": 5.7, \"month_number\": 1, \"month_name\": \"January\", \"year\": 2019}, {\"timestamp_utc\": \"2019-02-28T00:00:00+00:00\", \"air_temperature\": 3.8, \"water_temperature\": 5.1, \"month_number\": 2, \"month_name\": \"February\", \"year\": 2019}, {\"timestamp_utc\": \"2019-03-31T00:00:00+00:00\", \"air_temperature\": 7.7, \"water_temperature\": 5.3, \"month_number\": 3, \"month_name\": \"March\", \"year\": 2019}, {\"timestamp_utc\": \"2019-04-30T00:00:00+00:00\", \"air_temperature\": 9.6, \"water_temperature\": 9.1, \"month_number\": 4, \"month_name\": \"April\", \"year\": 2019}, {\"timestamp_utc\": \"2019-05-31T00:00:00+00:00\", \"air_temperature\": 12.1, \"water_temperature\": 11.8, \"month_number\": 5, \"month_name\": \"May\", \"year\": 2019}, {\"timestamp_utc\": \"2019-06-30T00:00:00+00:00\", \"air_temperature\": 20.3, \"water_temperature\": 18.8, \"month_number\": 6, \"month_name\": \"June\", \"year\": 2019}, {\"timestamp_utc\": \"2019-07-31T00:00:00+00:00\", \"air_temperature\": 21.8, \"water_temperature\": 23.9, \"month_number\": 7, \"month_name\": \"July\", \"year\": 2019}, {\"timestamp_utc\": \"2019-08-31T00:00:00+00:00\", \"air_temperature\": 20.1, \"water_temperature\": 23.3, \"month_number\": 8, \"month_name\": \"August\", \"year\": 2019}, {\"timestamp_utc\": \"2019-09-30T00:00:00+00:00\", \"air_temperature\": 16.1, \"water_temperature\": 19.9, \"month_number\": 9, \"month_name\": \"September\", \"year\": 2019}, {\"timestamp_utc\": \"2019-10-31T00:00:00+00:00\", \"air_temperature\": 13.2, \"water_temperature\": 16.0, \"month_number\": 10, \"month_name\": \"October\", \"year\": 2019}, {\"timestamp_utc\": \"2019-11-30T00:00:00+00:00\", \"air_temperature\": 6.6, \"water_temperature\": 11.7, \"month_number\": 11, \"month_name\": \"November\", \"year\": 2019}, {\"timestamp_utc\": \"2019-12-31T00:00:00+00:00\", \"air_temperature\": 5.2, \"water_temperature\": 7.9, \"month_number\": 12, \"month_name\": \"December\", \"year\": 2019}, {\"timestamp_utc\": \"2020-01-31T00:00:00+00:00\", \"air_temperature\": 3.8, \"water_temperature\": 6.5, \"month_number\": 1, \"month_name\": \"January\", \"year\": 2020}, {\"timestamp_utc\": \"2020-02-29T00:00:00+00:00\", \"air_temperature\": 6.6, \"water_temperature\": 5.9, \"month_number\": 2, \"month_name\": \"February\", \"year\": 2020}, {\"timestamp_utc\": \"2020-03-31T00:00:00+00:00\", \"air_temperature\": 6.5, \"water_temperature\": 6.2, \"month_number\": 3, \"month_name\": \"March\", \"year\": 2020}, {\"timestamp_utc\": \"2020-04-30T00:00:00+00:00\", \"air_temperature\": 13.6, \"water_temperature\": 11.8, \"month_number\": 4, \"month_name\": \"April\", \"year\": 2020}, {\"timestamp_utc\": \"2020-05-31T00:00:00+00:00\", \"air_temperature\": 15.1, \"water_temperature\": 14.5, \"month_number\": 5, \"month_name\": \"May\", \"year\": 2020}, {\"timestamp_utc\": \"2020-06-30T00:00:00+00:00\", \"air_temperature\": 17.2, \"water_temperature\": 18.8, \"month_number\": 6, \"month_name\": \"June\", \"year\": 2020}, {\"timestamp_utc\": \"2020-07-31T00:00:00+00:00\", \"air_temperature\": 21.0, \"water_temperature\": 22.5, \"month_number\": 7, \"month_name\": \"July\", \"year\": 2020}, {\"timestamp_utc\": \"2020-08-31T00:00:00+00:00\", \"air_temperature\": 21.3, \"water_temperature\": 24.4, \"month_number\": 8, \"month_name\": \"August\", \"year\": 2020}, {\"timestamp_utc\": \"2020-09-30T00:00:00+00:00\", \"air_temperature\": 17.8, \"water_temperature\": 21.0, \"month_number\": 9, \"month_name\": \"September\", \"year\": 2020}, {\"timestamp_utc\": \"2020-10-31T00:00:00+00:00\", \"air_temperature\": 11.4, \"water_temperature\": 14.5, \"month_number\": 10, \"month_name\": \"October\", \"year\": 2020}, {\"timestamp_utc\": \"2020-11-30T00:00:00+00:00\", \"air_temperature\": 7.3, \"water_temperature\": 11.8, \"month_number\": 11, \"month_name\": \"November\", \"year\": 2020}, {\"timestamp_utc\": \"2020-12-31T00:00:00+00:00\", \"air_temperature\": 2.9, \"water_temperature\": 7.7, \"month_number\": 12, \"month_name\": \"December\", \"year\": 2020}]}}, {\"mode\": \"vega-lite\"});\n",
       "</script>"
      ],
      "text/plain": [
       "alt.LayerChart(...)"
      ]
     },
     "execution_count": 66,
     "metadata": {},
     "output_type": "execute_result"
    }
   ],
   "source": [
    "chart1 = alt.Chart(months_tb[['air_temperature','water_temperature','month_number','month_name','year']].loc[\"2010-12-31 21:50\":\"2021-01-01 04:30\"].reset_index()).mark_line( strokeWidth=1.5, opacity=0.9).encode(\n",
    "    x='month_number',\n",
    "    y='air_temperature',\n",
    "    color=alt.Color('year', legend=alt.Legend(title=\"Jahre\"), scale=alt.Scale(scheme='cividis'))\n",
    ").properties(width=800, height=400).interactive()\n",
    "\n",
    "chart2 = alt.Chart(months_tb[['air_temperature','water_temperature','month_number','month_name','year']].loc[\"2010-12-31 21:50\":\"2021-01-01 04:30\"].reset_index()).mark_line(interpolate=\"basis\", opacity=0.6, strokeWidth=0.8).encode(\n",
    "    x='month_number',\n",
    "    y='air_temperature',\n",
    "    color=alt.Color('year', legend=alt.Legend(title=\"Jahre\"), scale=alt.Scale(scheme='viridis'))\n",
    ").properties(width=800, height=400).interactive()\n",
    "\n",
    "chart1 + chart2"
   ]
  },
  {
   "cell_type": "markdown",
   "metadata": {},
   "source": [
    "Weitere custimisation, siehe https://altair-viz.github.io/user_guide/customization.html\n"
   ]
  },
  {
   "cell_type": "code",
   "execution_count": null,
   "metadata": {},
   "outputs": [],
   "source": [
    "highlight = alt.selection(type='single', on='mouseover',\n",
    "                          fields=['year'], nearest=True)\n",
    "\n",
    "base = alt.Chart(months_tb[['air_temperature','water_temperature','month_number','month_name','year']].loc[\"2010-12-31 00:10\":\"2021-12-31 23:50\"].reset_index()).encode(\n",
    "    x='month_number',\n",
    "    y='air_temperature',\n",
    "    color=alt.Color('year', legend=alt.Legend(title=\"Jahre\"), scale=alt.Scale(scheme='viridis'))\n",
    ")\n",
    "\n",
    "points = base.mark_circle(size=60).encode(\n",
    "    opacity=alt.value(0.75)\n",
    "    ,tooltip=['air_temperature','water_temperature','month_number','month_name','year']\n",
    ").add_selection(\n",
    "    highlight\n",
    ").properties(\n",
    "    width=850 , height=400\n",
    ")\n",
    "lines = base.mark_line().encode(\n",
    "    size=alt.condition(~highlight, alt.value(1.5), alt.value(4))\n",
    ").interactive()\n",
    "\n",
    "points + lines"
   ]
  },
  {
   "cell_type": "markdown",
   "metadata": {},
   "source": [
    "\n",
    "\n",
    "**--------------- end test ----------------------**"
   ]
  },
  {
   "cell_type": "code",
   "execution_count": 32,
   "metadata": {},
   "outputs": [
    {
     "data": {
      "text/html": [
       "<div>\n",
       "<style scoped>\n",
       "    .dataframe tbody tr th:only-of-type {\n",
       "        vertical-align: middle;\n",
       "    }\n",
       "\n",
       "    .dataframe tbody tr th {\n",
       "        vertical-align: top;\n",
       "    }\n",
       "\n",
       "    .dataframe thead th {\n",
       "        text-align: right;\n",
       "    }\n",
       "</style>\n",
       "<table border=\"1\" class=\"dataframe\">\n",
       "  <thead>\n",
       "    <tr style=\"text-align: right;\">\n",
       "      <th></th>\n",
       "      <th>air_temperature</th>\n",
       "      <th>water_temperature</th>\n",
       "    </tr>\n",
       "    <tr>\n",
       "      <th>timestamp_utc</th>\n",
       "      <th></th>\n",
       "      <th></th>\n",
       "    </tr>\n",
       "  </thead>\n",
       "  <tbody>\n",
       "    <tr>\n",
       "      <th>2007-04-30 00:00:00+00:00</th>\n",
       "      <td>17.0</td>\n",
       "      <td>15.2</td>\n",
       "    </tr>\n",
       "    <tr>\n",
       "      <th>2007-05-31 00:00:00+00:00</th>\n",
       "      <td>15.7</td>\n",
       "      <td>16.1</td>\n",
       "    </tr>\n",
       "  </tbody>\n",
       "</table>\n",
       "</div>"
      ],
      "text/plain": [
       "                           air_temperature  water_temperature\n",
       "timestamp_utc                                                \n",
       "2007-04-30 00:00:00+00:00             17.0               15.2\n",
       "2007-05-31 00:00:00+00:00             15.7               16.1"
      ]
     },
     "execution_count": 32,
     "metadata": {},
     "output_type": "execute_result"
    }
   ],
   "source": [
    "months_tb[['air_temperature','water_temperature']].head(2)"
   ]
  },
  {
   "cell_type": "code",
   "execution_count": 52,
   "metadata": {},
   "outputs": [
    {
     "data": {
      "text/html": [
       "\n",
       "<div id=\"altair-viz-47e4abc40d714f84bd727f40598ac8ec\"></div>\n",
       "<script type=\"text/javascript\">\n",
       "  (function(spec, embedOpt){\n",
       "    let outputDiv = document.currentScript.previousElementSibling;\n",
       "    if (outputDiv.id !== \"altair-viz-47e4abc40d714f84bd727f40598ac8ec\") {\n",
       "      outputDiv = document.getElementById(\"altair-viz-47e4abc40d714f84bd727f40598ac8ec\");\n",
       "    }\n",
       "    const paths = {\n",
       "      \"vega\": \"https://cdn.jsdelivr.net/npm//vega@5?noext\",\n",
       "      \"vega-lib\": \"https://cdn.jsdelivr.net/npm//vega-lib?noext\",\n",
       "      \"vega-lite\": \"https://cdn.jsdelivr.net/npm//vega-lite@4.8.1?noext\",\n",
       "      \"vega-embed\": \"https://cdn.jsdelivr.net/npm//vega-embed@6?noext\",\n",
       "    };\n",
       "\n",
       "    function loadScript(lib) {\n",
       "      return new Promise(function(resolve, reject) {\n",
       "        var s = document.createElement('script');\n",
       "        s.src = paths[lib];\n",
       "        s.async = true;\n",
       "        s.onload = () => resolve(paths[lib]);\n",
       "        s.onerror = () => reject(`Error loading script: ${paths[lib]}`);\n",
       "        document.getElementsByTagName(\"head\")[0].appendChild(s);\n",
       "      });\n",
       "    }\n",
       "\n",
       "    function showError(err) {\n",
       "      outputDiv.innerHTML = `<div class=\"error\" style=\"color:red;\">${err}</div>`;\n",
       "      throw err;\n",
       "    }\n",
       "\n",
       "    function displayChart(vegaEmbed) {\n",
       "      vegaEmbed(outputDiv, spec, embedOpt)\n",
       "        .catch(err => showError(`Javascript Error: ${err.message}<br>This usually means there's a typo in your chart specification. See the javascript console for the full traceback.`));\n",
       "    }\n",
       "\n",
       "    if(typeof define === \"function\" && define.amd) {\n",
       "      requirejs.config({paths});\n",
       "      require([\"vega-embed\"], displayChart, err => showError(`Error loading script: ${err.message}`));\n",
       "    } else if (typeof vegaEmbed === \"function\") {\n",
       "      displayChart(vegaEmbed);\n",
       "    } else {\n",
       "      loadScript(\"vega\")\n",
       "        .then(() => loadScript(\"vega-lite\"))\n",
       "        .then(() => loadScript(\"vega-embed\"))\n",
       "        .catch(showError)\n",
       "        .then(() => displayChart(vegaEmbed));\n",
       "    }\n",
       "  })({\"config\": {\"view\": {\"continuousWidth\": 400, \"continuousHeight\": 300}}, \"layer\": [{\"data\": {\"name\": \"data-607c170a85ba936b760ed78be4b4c2a8\"}, \"mark\": {\"type\": \"line\", \"opacity\": 0.25, \"strokeWidth\": 1}, \"encoding\": {\"color\": {\"type\": \"nominal\", \"field\": \"variable\"}, \"x\": {\"type\": \"temporal\", \"field\": \"timestamp_utc\"}, \"y\": {\"type\": \"quantitative\", \"field\": \"value\"}}, \"height\": 400, \"width\": 800}, {\"data\": {\"name\": \"data-ff40465f3eed6cc93ebbe8bb0b05c2ae\"}, \"mark\": {\"type\": \"line\", \"interpolate\": \"basis\", \"opacity\": 1}, \"encoding\": {\"color\": {\"type\": \"nominal\", \"field\": \"variable\"}, \"x\": {\"type\": \"temporal\", \"field\": \"timestamp_utc\"}, \"y\": {\"type\": \"quantitative\", \"field\": \"value\"}}}], \"$schema\": \"https://vega.github.io/schema/vega-lite/v4.8.1.json\", \"datasets\": {\"data-607c170a85ba936b760ed78be4b4c2a8\": [{\"timestamp_utc\": \"2007-04-30T00:00:00+00:00\", \"variable\": \"air_temperature\", \"value\": 17.0}, {\"timestamp_utc\": \"2007-05-31T00:00:00+00:00\", \"variable\": \"air_temperature\", \"value\": 15.7}, {\"timestamp_utc\": \"2007-06-30T00:00:00+00:00\", \"variable\": \"air_temperature\", \"value\": 18.6}, {\"timestamp_utc\": \"2007-07-31T00:00:00+00:00\", \"variable\": \"air_temperature\", \"value\": 18.6}, {\"timestamp_utc\": \"2007-08-31T00:00:00+00:00\", \"variable\": \"air_temperature\", \"value\": 18.0}, {\"timestamp_utc\": \"2007-09-30T00:00:00+00:00\", \"variable\": \"air_temperature\", \"value\": 14.4}, {\"timestamp_utc\": \"2007-10-31T00:00:00+00:00\", \"variable\": \"air_temperature\", \"value\": 10.0}, {\"timestamp_utc\": \"2007-11-30T00:00:00+00:00\", \"variable\": \"air_temperature\", \"value\": 5.2}, {\"timestamp_utc\": \"2007-12-31T00:00:00+00:00\", \"variable\": \"air_temperature\", \"value\": 1.45}, {\"timestamp_utc\": \"2008-01-31T00:00:00+00:00\", \"variable\": \"air_temperature\", \"value\": 3.9}, {\"timestamp_utc\": \"2008-02-29T00:00:00+00:00\", \"variable\": \"air_temperature\", \"value\": 4.6}, {\"timestamp_utc\": \"2008-03-31T00:00:00+00:00\", \"variable\": \"air_temperature\", \"value\": 3.6}, {\"timestamp_utc\": \"2008-04-30T00:00:00+00:00\", \"variable\": \"air_temperature\", \"value\": 9.7}, {\"timestamp_utc\": \"2008-05-31T00:00:00+00:00\", \"variable\": \"air_temperature\", \"value\": 16.3}, {\"timestamp_utc\": \"2008-06-30T00:00:00+00:00\", \"variable\": \"air_temperature\", \"value\": 17.9}, {\"timestamp_utc\": \"2008-07-31T00:00:00+00:00\", \"variable\": \"air_temperature\", \"value\": 19.5}, {\"timestamp_utc\": \"2008-08-31T00:00:00+00:00\", \"variable\": \"air_temperature\", \"value\": 18.9}, {\"timestamp_utc\": \"2008-09-30T00:00:00+00:00\", \"variable\": \"air_temperature\", \"value\": 13.3}, {\"timestamp_utc\": \"2008-10-31T00:00:00+00:00\", \"variable\": \"air_temperature\", \"value\": 12.2}, {\"timestamp_utc\": \"2008-11-30T00:00:00+00:00\", \"variable\": \"air_temperature\", \"value\": 6.4}, {\"timestamp_utc\": \"2008-12-31T00:00:00+00:00\", \"variable\": \"air_temperature\", \"value\": 1.7}, {\"timestamp_utc\": \"2009-01-31T00:00:00+00:00\", \"variable\": \"air_temperature\", \"value\": 0.1}, {\"timestamp_utc\": \"2009-02-28T00:00:00+00:00\", \"variable\": \"air_temperature\", \"value\": 1.7}, {\"timestamp_utc\": \"2009-03-31T00:00:00+00:00\", \"variable\": \"air_temperature\", \"value\": 3.6}, {\"timestamp_utc\": \"2009-04-30T00:00:00+00:00\", \"variable\": \"air_temperature\", \"value\": 12.35}, {\"timestamp_utc\": \"2009-05-31T00:00:00+00:00\", \"variable\": \"air_temperature\", \"value\": 16.0}, {\"timestamp_utc\": \"2009-06-30T00:00:00+00:00\", \"variable\": \"air_temperature\", \"value\": 17.9}, {\"timestamp_utc\": \"2009-07-31T00:00:00+00:00\", \"variable\": \"air_temperature\", \"value\": 19.8}, {\"timestamp_utc\": \"2009-08-31T00:00:00+00:00\", \"variable\": \"air_temperature\", \"value\": 20.9}, {\"timestamp_utc\": \"2009-09-30T00:00:00+00:00\", \"variable\": \"air_temperature\", \"value\": 16.6}, {\"timestamp_utc\": \"2009-10-31T00:00:00+00:00\", \"variable\": \"air_temperature\", \"value\": 10.6}, {\"timestamp_utc\": \"2009-11-30T00:00:00+00:00\", \"variable\": \"air_temperature\", \"value\": 8.4}, {\"timestamp_utc\": \"2009-12-31T00:00:00+00:00\", \"variable\": \"air_temperature\", \"value\": 3.3}, {\"timestamp_utc\": \"2010-01-31T00:00:00+00:00\", \"variable\": \"air_temperature\", \"value\": -0.4}, {\"timestamp_utc\": \"2010-02-28T00:00:00+00:00\", \"variable\": \"air_temperature\", \"value\": 2.4}, {\"timestamp_utc\": \"2010-03-31T00:00:00+00:00\", \"variable\": \"air_temperature\", \"value\": 2.4}, {\"timestamp_utc\": \"2010-04-30T00:00:00+00:00\", \"variable\": \"air_temperature\", \"value\": 10.0}, {\"timestamp_utc\": \"2010-05-31T00:00:00+00:00\", \"variable\": \"air_temperature\", \"value\": 11.6}, {\"timestamp_utc\": \"2010-06-30T00:00:00+00:00\", \"variable\": \"air_temperature\", \"value\": 17.6}, {\"timestamp_utc\": \"2010-07-31T00:00:00+00:00\", \"variable\": \"air_temperature\", \"value\": 20.7}, {\"timestamp_utc\": \"2010-08-31T00:00:00+00:00\", \"variable\": \"air_temperature\", \"value\": 18.0}, {\"timestamp_utc\": \"2010-09-30T00:00:00+00:00\", \"variable\": \"air_temperature\", \"value\": 14.4}, {\"timestamp_utc\": \"2010-10-31T00:00:00+00:00\", \"variable\": \"air_temperature\", \"value\": 9.3}, {\"timestamp_utc\": \"2010-11-30T00:00:00+00:00\", \"variable\": \"air_temperature\", \"value\": 5.75}, {\"timestamp_utc\": \"2010-12-31T00:00:00+00:00\", \"variable\": \"air_temperature\", \"value\": 0.8}, {\"timestamp_utc\": \"2011-01-31T00:00:00+00:00\", \"variable\": \"air_temperature\", \"value\": 1.6}, {\"timestamp_utc\": \"2011-02-28T00:00:00+00:00\", \"variable\": \"air_temperature\", \"value\": 3.6}, {\"timestamp_utc\": \"2011-03-31T00:00:00+00:00\", \"variable\": \"air_temperature\", \"value\": 7.2}, {\"timestamp_utc\": \"2011-04-30T00:00:00+00:00\", \"variable\": \"air_temperature\", \"value\": 12.9}, {\"timestamp_utc\": \"2011-05-31T00:00:00+00:00\", \"variable\": \"air_temperature\", \"value\": 16.4}, {\"timestamp_utc\": \"2011-06-30T00:00:00+00:00\", \"variable\": \"air_temperature\", \"value\": 17.5}, {\"timestamp_utc\": \"2011-07-31T00:00:00+00:00\", \"variable\": \"air_temperature\", \"value\": 17.5}, {\"timestamp_utc\": \"2011-08-31T00:00:00+00:00\", \"variable\": \"air_temperature\", \"value\": 20.2}, {\"timestamp_utc\": \"2011-09-30T00:00:00+00:00\", \"variable\": \"air_temperature\", \"value\": 17.9}, {\"timestamp_utc\": \"2011-10-31T00:00:00+00:00\", \"variable\": \"air_temperature\", \"value\": 10.2}, {\"timestamp_utc\": \"2011-11-30T00:00:00+00:00\", \"variable\": \"air_temperature\", \"value\": 6.3}, {\"timestamp_utc\": \"2011-12-31T00:00:00+00:00\", \"variable\": \"air_temperature\", \"value\": 5.2}, {\"timestamp_utc\": \"2012-01-31T00:00:00+00:00\", \"variable\": \"air_temperature\", \"value\": 3.6}, {\"timestamp_utc\": \"2012-02-29T00:00:00+00:00\", \"variable\": \"air_temperature\", \"value\": -1.3}, {\"timestamp_utc\": \"2012-03-31T00:00:00+00:00\", \"variable\": \"air_temperature\", \"value\": 7.2}, {\"timestamp_utc\": \"2012-04-30T00:00:00+00:00\", \"variable\": \"air_temperature\", \"value\": 8.7}, {\"timestamp_utc\": \"2012-05-31T00:00:00+00:00\", \"variable\": \"air_temperature\", \"value\": 15.1}, {\"timestamp_utc\": \"2012-06-30T00:00:00+00:00\", \"variable\": \"air_temperature\", \"value\": 18.0}, {\"timestamp_utc\": \"2012-07-31T00:00:00+00:00\", \"variable\": \"air_temperature\", \"value\": 18.85}, {\"timestamp_utc\": \"2012-08-31T00:00:00+00:00\", \"variable\": \"air_temperature\", \"value\": 20.7}, {\"timestamp_utc\": \"2012-09-30T00:00:00+00:00\", \"variable\": \"air_temperature\", \"value\": 15.3}, {\"timestamp_utc\": \"2012-10-31T00:00:00+00:00\", \"variable\": \"air_temperature\", \"value\": 11.5}, {\"timestamp_utc\": \"2012-11-30T00:00:00+00:00\", \"variable\": \"air_temperature\", \"value\": 7.4}, {\"timestamp_utc\": \"2012-12-31T00:00:00+00:00\", \"variable\": \"air_temperature\", \"value\": 3.4}, {\"timestamp_utc\": \"2013-01-31T00:00:00+00:00\", \"variable\": \"air_temperature\", \"value\": 1.5}, {\"timestamp_utc\": \"2013-02-28T00:00:00+00:00\", \"variable\": \"air_temperature\", \"value\": 0.2}, {\"timestamp_utc\": \"2013-03-31T00:00:00+00:00\", \"variable\": \"air_temperature\", \"value\": 3.3}, {\"timestamp_utc\": \"2013-04-30T00:00:00+00:00\", \"variable\": \"air_temperature\", \"value\": 8.8}, {\"timestamp_utc\": \"2013-05-31T00:00:00+00:00\", \"variable\": \"air_temperature\", \"value\": 11.5}, {\"timestamp_utc\": \"2013-06-30T00:00:00+00:00\", \"variable\": \"air_temperature\", \"value\": 16.0}, {\"timestamp_utc\": \"2013-07-31T00:00:00+00:00\", \"variable\": \"air_temperature\", \"value\": 21.9}, {\"timestamp_utc\": \"2013-08-31T00:00:00+00:00\", \"variable\": \"air_temperature\", \"value\": 19.6}, {\"timestamp_utc\": \"2013-09-30T00:00:00+00:00\", \"variable\": \"air_temperature\", \"value\": 15.6}, {\"timestamp_utc\": \"2013-10-31T00:00:00+00:00\", \"variable\": \"air_temperature\", \"value\": 12.8}, {\"timestamp_utc\": \"2013-11-30T00:00:00+00:00\", \"variable\": \"air_temperature\", \"value\": 4.7}, {\"timestamp_utc\": \"2013-12-31T00:00:00+00:00\", \"variable\": \"air_temperature\", \"value\": 2.1}, {\"timestamp_utc\": \"2014-01-31T00:00:00+00:00\", \"variable\": \"air_temperature\", \"value\": 4.2}, {\"timestamp_utc\": \"2014-02-28T00:00:00+00:00\", \"variable\": \"air_temperature\", \"value\": 4.9}, {\"timestamp_utc\": \"2014-03-31T00:00:00+00:00\", \"variable\": \"air_temperature\", \"value\": 6.9}, {\"timestamp_utc\": \"2014-04-30T00:00:00+00:00\", \"variable\": \"air_temperature\", \"value\": 11.6}, {\"timestamp_utc\": \"2014-05-31T00:00:00+00:00\", \"variable\": \"air_temperature\", \"value\": 13.7}, {\"timestamp_utc\": \"2014-06-30T00:00:00+00:00\", \"variable\": \"air_temperature\", \"value\": 19.0}, {\"timestamp_utc\": \"2014-07-31T00:00:00+00:00\", \"variable\": \"air_temperature\", \"value\": 18.4}, {\"timestamp_utc\": \"2014-08-31T00:00:00+00:00\", \"variable\": \"air_temperature\", \"value\": 17.5}, {\"timestamp_utc\": \"2014-09-30T00:00:00+00:00\", \"variable\": \"air_temperature\", \"value\": 16.6}, {\"timestamp_utc\": \"2014-10-31T00:00:00+00:00\", \"variable\": \"air_temperature\", \"value\": 14.2}, {\"timestamp_utc\": \"2014-11-30T00:00:00+00:00\", \"variable\": \"air_temperature\", \"value\": 8.0}, {\"timestamp_utc\": \"2014-12-31T00:00:00+00:00\", \"variable\": \"air_temperature\", \"value\": 4.4}, {\"timestamp_utc\": \"2015-01-31T00:00:00+00:00\", \"variable\": \"air_temperature\", \"value\": 2.3}, {\"timestamp_utc\": \"2015-02-28T00:00:00+00:00\", \"variable\": \"air_temperature\", \"value\": 0.5}, {\"timestamp_utc\": \"2015-03-31T00:00:00+00:00\", \"variable\": \"air_temperature\", \"value\": 6.8}, {\"timestamp_utc\": \"2015-04-30T00:00:00+00:00\", \"variable\": \"air_temperature\", \"value\": 11.0}, {\"timestamp_utc\": \"2015-05-31T00:00:00+00:00\", \"variable\": \"air_temperature\", \"value\": 14.5}, {\"timestamp_utc\": \"2015-06-30T00:00:00+00:00\", \"variable\": \"air_temperature\", \"value\": 18.5}, {\"timestamp_utc\": \"2015-07-31T00:00:00+00:00\", \"variable\": \"air_temperature\", \"value\": 22.9}, {\"timestamp_utc\": \"2015-08-31T00:00:00+00:00\", \"variable\": \"air_temperature\", \"value\": 20.9}, {\"timestamp_utc\": \"2015-09-30T00:00:00+00:00\", \"variable\": \"air_temperature\", \"value\": 14.5}, {\"timestamp_utc\": \"2015-10-31T00:00:00+00:00\", \"variable\": \"air_temperature\", \"value\": 10.7}, {\"timestamp_utc\": \"2015-11-30T00:00:00+00:00\", \"variable\": \"air_temperature\", \"value\": 9.3}, {\"timestamp_utc\": \"2015-12-31T00:00:00+00:00\", \"variable\": \"air_temperature\", \"value\": 4.9}, {\"timestamp_utc\": \"2016-01-31T00:00:00+00:00\", \"variable\": \"air_temperature\", \"value\": 4.7}, {\"timestamp_utc\": \"2016-02-29T00:00:00+00:00\", \"variable\": \"air_temperature\", \"value\": 4.1}, {\"timestamp_utc\": \"2016-03-31T00:00:00+00:00\", \"variable\": \"air_temperature\", \"value\": 5.2}, {\"timestamp_utc\": \"2016-04-30T00:00:00+00:00\", \"variable\": \"air_temperature\", \"value\": 9.8}, {\"timestamp_utc\": \"2016-05-31T00:00:00+00:00\", \"variable\": \"air_temperature\", \"value\": 13.5}, {\"timestamp_utc\": \"2016-06-30T00:00:00+00:00\", \"variable\": \"air_temperature\", \"value\": 17.0}, {\"timestamp_utc\": \"2016-07-31T00:00:00+00:00\", \"variable\": \"air_temperature\", \"value\": 21.0}, {\"timestamp_utc\": \"2016-08-31T00:00:00+00:00\", \"variable\": \"air_temperature\", \"value\": 20.1}, {\"timestamp_utc\": \"2016-09-30T00:00:00+00:00\", \"variable\": \"air_temperature\", \"value\": 17.7}, {\"timestamp_utc\": \"2016-10-31T00:00:00+00:00\", \"variable\": \"air_temperature\", \"value\": 9.8}, {\"timestamp_utc\": \"2016-11-30T00:00:00+00:00\", \"variable\": \"air_temperature\", \"value\": 6.9}, {\"timestamp_utc\": \"2016-12-31T00:00:00+00:00\", \"variable\": \"air_temperature\", \"value\": 1.3}, {\"timestamp_utc\": \"2017-01-31T00:00:00+00:00\", \"variable\": \"air_temperature\", \"value\": -1.5}, {\"timestamp_utc\": \"2017-02-28T00:00:00+00:00\", \"variable\": \"air_temperature\", \"value\": 4.1}, {\"timestamp_utc\": \"2017-03-31T00:00:00+00:00\", \"variable\": \"air_temperature\", \"value\": 8.7}, {\"timestamp_utc\": \"2017-04-30T00:00:00+00:00\", \"variable\": \"air_temperature\", \"value\": 10.4}, {\"timestamp_utc\": \"2017-05-31T00:00:00+00:00\", \"variable\": \"air_temperature\", \"value\": 15.5}, {\"timestamp_utc\": \"2017-06-30T00:00:00+00:00\", \"variable\": \"air_temperature\", \"value\": 20.9}, {\"timestamp_utc\": \"2017-07-31T00:00:00+00:00\", \"variable\": \"air_temperature\", \"value\": 20.2}, {\"timestamp_utc\": \"2017-08-31T00:00:00+00:00\", \"variable\": \"air_temperature\", \"value\": 20.5}, {\"timestamp_utc\": \"2017-09-30T00:00:00+00:00\", \"variable\": \"air_temperature\", \"value\": 14.4}, {\"timestamp_utc\": \"2017-10-31T00:00:00+00:00\", \"variable\": \"air_temperature\", \"value\": 12.0}, {\"timestamp_utc\": \"2017-11-30T00:00:00+00:00\", \"variable\": \"air_temperature\", \"value\": 5.8}, {\"timestamp_utc\": \"2017-12-31T00:00:00+00:00\", \"variable\": \"air_temperature\", \"value\": 2.6}, {\"timestamp_utc\": \"2018-01-31T00:00:00+00:00\", \"variable\": \"air_temperature\", \"value\": 6.1}, {\"timestamp_utc\": \"2018-02-28T00:00:00+00:00\", \"variable\": \"air_temperature\", \"value\": 1.0}, {\"timestamp_utc\": \"2018-03-31T00:00:00+00:00\", \"variable\": \"air_temperature\", \"value\": 5.5}, {\"timestamp_utc\": \"2018-04-30T00:00:00+00:00\", \"variable\": \"air_temperature\", \"value\": 13.2}, {\"timestamp_utc\": \"2018-05-31T00:00:00+00:00\", \"variable\": \"air_temperature\", \"value\": 16.2}, {\"timestamp_utc\": \"2018-06-30T00:00:00+00:00\", \"variable\": \"air_temperature\", \"value\": 19.9}, {\"timestamp_utc\": \"2018-07-31T00:00:00+00:00\", \"variable\": \"air_temperature\", \"value\": 22.0}, {\"timestamp_utc\": \"2018-08-31T00:00:00+00:00\", \"variable\": \"air_temperature\", \"value\": 22.1}, {\"timestamp_utc\": \"2018-09-30T00:00:00+00:00\", \"variable\": \"air_temperature\", \"value\": 17.4}, {\"timestamp_utc\": \"2018-10-31T00:00:00+00:00\", \"variable\": \"air_temperature\", \"value\": 12.6}, {\"timestamp_utc\": \"2018-11-30T00:00:00+00:00\", \"variable\": \"air_temperature\", \"value\": 7.2}, {\"timestamp_utc\": \"2018-12-31T00:00:00+00:00\", \"variable\": \"air_temperature\", \"value\": 5.1}, {\"timestamp_utc\": \"2019-01-31T00:00:00+00:00\", \"variable\": \"air_temperature\", \"value\": 1.9}, {\"timestamp_utc\": \"2019-02-28T00:00:00+00:00\", \"variable\": \"air_temperature\", \"value\": 3.8}, {\"timestamp_utc\": \"2019-03-31T00:00:00+00:00\", \"variable\": \"air_temperature\", \"value\": 7.7}, {\"timestamp_utc\": \"2019-04-30T00:00:00+00:00\", \"variable\": \"air_temperature\", \"value\": 9.6}, {\"timestamp_utc\": \"2019-05-31T00:00:00+00:00\", \"variable\": \"air_temperature\", \"value\": 12.1}, {\"timestamp_utc\": \"2019-06-30T00:00:00+00:00\", \"variable\": \"air_temperature\", \"value\": 20.3}, {\"timestamp_utc\": \"2019-07-31T00:00:00+00:00\", \"variable\": \"air_temperature\", \"value\": 21.8}, {\"timestamp_utc\": \"2019-08-31T00:00:00+00:00\", \"variable\": \"air_temperature\", \"value\": 20.1}, {\"timestamp_utc\": \"2019-09-30T00:00:00+00:00\", \"variable\": \"air_temperature\", \"value\": 16.1}, {\"timestamp_utc\": \"2019-10-31T00:00:00+00:00\", \"variable\": \"air_temperature\", \"value\": 13.2}, {\"timestamp_utc\": \"2019-11-30T00:00:00+00:00\", \"variable\": \"air_temperature\", \"value\": 6.6}, {\"timestamp_utc\": \"2019-12-31T00:00:00+00:00\", \"variable\": \"air_temperature\", \"value\": 5.2}, {\"timestamp_utc\": \"2020-01-31T00:00:00+00:00\", \"variable\": \"air_temperature\", \"value\": 3.8}, {\"timestamp_utc\": \"2020-02-29T00:00:00+00:00\", \"variable\": \"air_temperature\", \"value\": 6.6}, {\"timestamp_utc\": \"2020-03-31T00:00:00+00:00\", \"variable\": \"air_temperature\", \"value\": 6.5}, {\"timestamp_utc\": \"2020-04-30T00:00:00+00:00\", \"variable\": \"air_temperature\", \"value\": 13.6}, {\"timestamp_utc\": \"2020-05-31T00:00:00+00:00\", \"variable\": \"air_temperature\", \"value\": 15.1}, {\"timestamp_utc\": \"2020-06-30T00:00:00+00:00\", \"variable\": \"air_temperature\", \"value\": 17.2}, {\"timestamp_utc\": \"2020-07-31T00:00:00+00:00\", \"variable\": \"air_temperature\", \"value\": 21.0}, {\"timestamp_utc\": \"2020-08-31T00:00:00+00:00\", \"variable\": \"air_temperature\", \"value\": 21.3}, {\"timestamp_utc\": \"2020-09-30T00:00:00+00:00\", \"variable\": \"air_temperature\", \"value\": 17.8}, {\"timestamp_utc\": \"2020-10-31T00:00:00+00:00\", \"variable\": \"air_temperature\", \"value\": 11.4}, {\"timestamp_utc\": \"2020-11-30T00:00:00+00:00\", \"variable\": \"air_temperature\", \"value\": 7.3}, {\"timestamp_utc\": \"2020-12-31T00:00:00+00:00\", \"variable\": \"air_temperature\", \"value\": 2.9}, {\"timestamp_utc\": \"2021-01-31T00:00:00+00:00\", \"variable\": \"air_temperature\", \"value\": 1.8}, {\"timestamp_utc\": \"2021-02-28T00:00:00+00:00\", \"variable\": \"air_temperature\", \"value\": 5.3}, {\"timestamp_utc\": \"2021-03-31T00:00:00+00:00\", \"variable\": \"air_temperature\", \"value\": 5.4}, {\"timestamp_utc\": \"2021-04-30T00:00:00+00:00\", \"variable\": \"air_temperature\", \"value\": 9.2}, {\"timestamp_utc\": \"2021-05-31T00:00:00+00:00\", \"variable\": \"air_temperature\", \"value\": 11.5}, {\"timestamp_utc\": \"2021-06-30T00:00:00+00:00\", \"variable\": \"air_temperature\", \"value\": 19.3}, {\"timestamp_utc\": \"2021-07-31T00:00:00+00:00\", \"variable\": \"air_temperature\", \"value\": 18.8}, {\"timestamp_utc\": \"2021-08-31T00:00:00+00:00\", \"variable\": \"air_temperature\", \"value\": 17.8}, {\"timestamp_utc\": \"2021-09-30T00:00:00+00:00\", \"variable\": \"air_temperature\", \"value\": 17.5}, {\"timestamp_utc\": \"2021-10-31T00:00:00+00:00\", \"variable\": \"air_temperature\", \"value\": 10.7}, {\"timestamp_utc\": \"2021-11-30T00:00:00+00:00\", \"variable\": \"air_temperature\", \"value\": 5.3}, {\"timestamp_utc\": \"2021-12-31T00:00:00+00:00\", \"variable\": \"air_temperature\", \"value\": 3.6}, {\"timestamp_utc\": \"2007-04-30T00:00:00+00:00\", \"variable\": \"water_temperature\", \"value\": 15.2}, {\"timestamp_utc\": \"2007-05-31T00:00:00+00:00\", \"variable\": \"water_temperature\", \"value\": 16.1}, {\"timestamp_utc\": \"2007-06-30T00:00:00+00:00\", \"variable\": \"water_temperature\", \"value\": 20.3}, {\"timestamp_utc\": \"2007-07-31T00:00:00+00:00\", \"variable\": \"water_temperature\", \"value\": 20.1}, {\"timestamp_utc\": \"2007-08-31T00:00:00+00:00\", \"variable\": \"water_temperature\", \"value\": 21.0}, {\"timestamp_utc\": \"2007-09-30T00:00:00+00:00\", \"variable\": \"water_temperature\", \"value\": 18.4}, {\"timestamp_utc\": \"2007-10-31T00:00:00+00:00\", \"variable\": \"water_temperature\", \"value\": 15.8}, {\"timestamp_utc\": \"2007-11-30T00:00:00+00:00\", \"variable\": \"water_temperature\", \"value\": 8.6}, {\"timestamp_utc\": \"2007-12-31T00:00:00+00:00\", \"variable\": \"water_temperature\", \"value\": 6.8}, {\"timestamp_utc\": \"2008-01-31T00:00:00+00:00\", \"variable\": \"water_temperature\", \"value\": 5.3}, {\"timestamp_utc\": \"2008-02-29T00:00:00+00:00\", \"variable\": \"water_temperature\", \"value\": 5.0}, {\"timestamp_utc\": \"2008-03-31T00:00:00+00:00\", \"variable\": \"water_temperature\", \"value\": 5.1}, {\"timestamp_utc\": \"2008-04-30T00:00:00+00:00\", \"variable\": \"water_temperature\", \"value\": 7.7}, {\"timestamp_utc\": \"2008-05-31T00:00:00+00:00\", \"variable\": \"water_temperature\", \"value\": 15.3}, {\"timestamp_utc\": \"2008-06-30T00:00:00+00:00\", \"variable\": \"water_temperature\", \"value\": 18.3}, {\"timestamp_utc\": \"2008-07-31T00:00:00+00:00\", \"variable\": \"water_temperature\", \"value\": 21.6}, {\"timestamp_utc\": \"2008-08-31T00:00:00+00:00\", \"variable\": \"water_temperature\", \"value\": 21.4}, {\"timestamp_utc\": \"2008-09-30T00:00:00+00:00\", \"variable\": \"water_temperature\", \"value\": 18.0}, {\"timestamp_utc\": \"2008-10-31T00:00:00+00:00\", \"variable\": \"water_temperature\", \"value\": 14.2}, {\"timestamp_utc\": \"2008-11-30T00:00:00+00:00\", \"variable\": \"water_temperature\", \"value\": 10.7}, {\"timestamp_utc\": \"2008-12-31T00:00:00+00:00\", \"variable\": \"water_temperature\", \"value\": 6.6}, {\"timestamp_utc\": \"2009-01-31T00:00:00+00:00\", \"variable\": \"water_temperature\", \"value\": 4.8}, {\"timestamp_utc\": \"2009-02-28T00:00:00+00:00\", \"variable\": \"water_temperature\", \"value\": 4.3}, {\"timestamp_utc\": \"2009-03-31T00:00:00+00:00\", \"variable\": \"water_temperature\", \"value\": 4.4}, {\"timestamp_utc\": \"2009-04-30T00:00:00+00:00\", \"variable\": \"water_temperature\", \"value\": 12.1}, {\"timestamp_utc\": \"2009-05-31T00:00:00+00:00\", \"variable\": \"water_temperature\", \"value\": 15.4}, {\"timestamp_utc\": \"2009-06-30T00:00:00+00:00\", \"variable\": \"water_temperature\", \"value\": 18.9}, {\"timestamp_utc\": \"2009-07-31T00:00:00+00:00\", \"variable\": \"water_temperature\", \"value\": 21.3}, {\"timestamp_utc\": \"2009-08-31T00:00:00+00:00\", \"variable\": \"water_temperature\", \"value\": 22.4}, {\"timestamp_utc\": \"2009-09-30T00:00:00+00:00\", \"variable\": \"water_temperature\", \"value\": 19.3}, {\"timestamp_utc\": \"2009-10-31T00:00:00+00:00\", \"variable\": \"water_temperature\", \"value\": 15.1}, {\"timestamp_utc\": \"2009-11-30T00:00:00+00:00\", \"variable\": \"water_temperature\", \"value\": 11.0}, {\"timestamp_utc\": \"2009-12-31T00:00:00+00:00\", \"variable\": \"water_temperature\", \"value\": 7.1}, {\"timestamp_utc\": \"2010-01-31T00:00:00+00:00\", \"variable\": \"water_temperature\", \"value\": 4.8}, {\"timestamp_utc\": \"2010-02-28T00:00:00+00:00\", \"variable\": \"water_temperature\", \"value\": 4.1}, {\"timestamp_utc\": \"2010-03-31T00:00:00+00:00\", \"variable\": \"water_temperature\", \"value\": 4.3}, {\"timestamp_utc\": \"2010-04-30T00:00:00+00:00\", \"variable\": \"water_temperature\", \"value\": 6.4}, {\"timestamp_utc\": \"2010-05-31T00:00:00+00:00\", \"variable\": \"water_temperature\", \"value\": 12.5}, {\"timestamp_utc\": \"2010-06-30T00:00:00+00:00\", \"variable\": \"water_temperature\", \"value\": 17.0}, {\"timestamp_utc\": \"2010-07-31T00:00:00+00:00\", \"variable\": \"water_temperature\", \"value\": 23.2}, {\"timestamp_utc\": \"2010-08-31T00:00:00+00:00\", \"variable\": \"water_temperature\", \"value\": 20.9}, {\"timestamp_utc\": \"2010-09-30T00:00:00+00:00\", \"variable\": \"water_temperature\", \"value\": 17.4}, {\"timestamp_utc\": \"2010-10-31T00:00:00+00:00\", \"variable\": \"water_temperature\", \"value\": 13.8}, {\"timestamp_utc\": \"2010-11-30T00:00:00+00:00\", \"variable\": \"water_temperature\", \"value\": 10.5}, {\"timestamp_utc\": \"2010-12-31T00:00:00+00:00\", \"variable\": \"water_temperature\", \"value\": 6.0}, {\"timestamp_utc\": \"2011-01-31T00:00:00+00:00\", \"variable\": \"water_temperature\", \"value\": 4.9}, {\"timestamp_utc\": \"2011-02-28T00:00:00+00:00\", \"variable\": \"water_temperature\", \"value\": 4.3}, {\"timestamp_utc\": \"2011-03-31T00:00:00+00:00\", \"variable\": \"water_temperature\", \"value\": 4.5}, {\"timestamp_utc\": \"2011-04-30T00:00:00+00:00\", \"variable\": \"water_temperature\", \"value\": 11.4}, {\"timestamp_utc\": \"2011-05-31T00:00:00+00:00\", \"variable\": \"water_temperature\", \"value\": 17.3}, {\"timestamp_utc\": \"2011-06-30T00:00:00+00:00\", \"variable\": \"water_temperature\", \"value\": 19.4}, {\"timestamp_utc\": \"2011-07-31T00:00:00+00:00\", \"variable\": \"water_temperature\", \"value\": 20.7}, {\"timestamp_utc\": \"2011-08-31T00:00:00+00:00\", \"variable\": \"water_temperature\", \"value\": 21.8}, {\"timestamp_utc\": \"2011-09-30T00:00:00+00:00\", \"variable\": \"water_temperature\", \"value\": 20.9}, {\"timestamp_utc\": \"2011-10-31T00:00:00+00:00\", \"variable\": \"water_temperature\", \"value\": 15.2}, {\"timestamp_utc\": \"2011-11-30T00:00:00+00:00\", \"variable\": \"water_temperature\", \"value\": 11.1}, {\"timestamp_utc\": \"2011-12-31T00:00:00+00:00\", \"variable\": \"water_temperature\", \"value\": 6.9}, {\"timestamp_utc\": \"2012-01-31T00:00:00+00:00\", \"variable\": \"water_temperature\", \"value\": 5.1}, {\"timestamp_utc\": \"2012-02-29T00:00:00+00:00\", \"variable\": \"water_temperature\", \"value\": 4.0}, {\"timestamp_utc\": \"2012-03-31T00:00:00+00:00\", \"variable\": \"water_temperature\", \"value\": 5.6}, {\"timestamp_utc\": \"2012-04-30T00:00:00+00:00\", \"variable\": \"water_temperature\", \"value\": 8.3}, {\"timestamp_utc\": \"2012-05-31T00:00:00+00:00\", \"variable\": \"water_temperature\", \"value\": 13.2}, {\"timestamp_utc\": \"2012-06-30T00:00:00+00:00\", \"variable\": \"water_temperature\", \"value\": 18.6}, {\"timestamp_utc\": \"2012-07-31T00:00:00+00:00\", \"variable\": \"water_temperature\", \"value\": 20.6}, {\"timestamp_utc\": \"2012-08-31T00:00:00+00:00\", \"variable\": \"water_temperature\", \"value\": 23.3}, {\"timestamp_utc\": \"2012-09-30T00:00:00+00:00\", \"variable\": \"water_temperature\", \"value\": 19.8}, {\"timestamp_utc\": \"2012-10-31T00:00:00+00:00\", \"variable\": \"water_temperature\", \"value\": 15.4}, {\"timestamp_utc\": \"2012-11-30T00:00:00+00:00\", \"variable\": \"water_temperature\", \"value\": 10.5}, {\"timestamp_utc\": \"2012-12-31T00:00:00+00:00\", \"variable\": \"water_temperature\", \"value\": 6.5}, {\"timestamp_utc\": \"2013-01-31T00:00:00+00:00\", \"variable\": \"water_temperature\", \"value\": 5.5}, {\"timestamp_utc\": \"2013-02-28T00:00:00+00:00\", \"variable\": \"water_temperature\", \"value\": 4.4}, {\"timestamp_utc\": \"2013-03-31T00:00:00+00:00\", \"variable\": \"water_temperature\", \"value\": 4.1}, {\"timestamp_utc\": \"2013-04-30T00:00:00+00:00\", \"variable\": \"water_temperature\", \"value\": 5.3}, {\"timestamp_utc\": \"2013-05-31T00:00:00+00:00\", \"variable\": \"water_temperature\", \"value\": 12.5}, {\"timestamp_utc\": \"2013-06-30T00:00:00+00:00\", \"variable\": \"water_temperature\", \"value\": 17.1}, {\"timestamp_utc\": \"2013-07-31T00:00:00+00:00\", \"variable\": \"water_temperature\", \"value\": 21.5}, {\"timestamp_utc\": \"2013-08-31T00:00:00+00:00\", \"variable\": \"water_temperature\", \"value\": 22.8}, {\"timestamp_utc\": \"2013-09-30T00:00:00+00:00\", \"variable\": \"water_temperature\", \"value\": 19.1}, {\"timestamp_utc\": \"2013-10-31T00:00:00+00:00\", \"variable\": \"water_temperature\", \"value\": 14.9}, {\"timestamp_utc\": \"2013-11-30T00:00:00+00:00\", \"variable\": \"water_temperature\", \"value\": 10.1}, {\"timestamp_utc\": \"2013-12-31T00:00:00+00:00\", \"variable\": \"water_temperature\", \"value\": 6.4}, {\"timestamp_utc\": \"2014-01-31T00:00:00+00:00\", \"variable\": \"water_temperature\", \"value\": 5.7}, {\"timestamp_utc\": \"2014-02-28T00:00:00+00:00\", \"variable\": \"water_temperature\", \"value\": 5.2}, {\"timestamp_utc\": \"2014-03-31T00:00:00+00:00\", \"variable\": \"water_temperature\", \"value\": 6.9}, {\"timestamp_utc\": \"2014-04-30T00:00:00+00:00\", \"variable\": \"water_temperature\", \"value\": 11.3}, {\"timestamp_utc\": \"2014-05-31T00:00:00+00:00\", \"variable\": \"water_temperature\", \"value\": 13.9}, {\"timestamp_utc\": \"2014-06-30T00:00:00+00:00\", \"variable\": \"water_temperature\", \"value\": 20.6}, {\"timestamp_utc\": \"2014-07-31T00:00:00+00:00\", \"variable\": \"water_temperature\", \"value\": 20.8}, {\"timestamp_utc\": \"2014-08-31T00:00:00+00:00\", \"variable\": \"water_temperature\", \"value\": 20.0}, {\"timestamp_utc\": \"2014-09-30T00:00:00+00:00\", \"variable\": \"water_temperature\", \"value\": 18.8}, {\"timestamp_utc\": \"2014-10-31T00:00:00+00:00\", \"variable\": \"water_temperature\", \"value\": 17.4}, {\"timestamp_utc\": \"2014-11-30T00:00:00+00:00\", \"variable\": \"water_temperature\", \"value\": 12.0}, {\"timestamp_utc\": \"2014-12-31T00:00:00+00:00\", \"variable\": \"water_temperature\", \"value\": 8.4}, {\"timestamp_utc\": \"2015-01-31T00:00:00+00:00\", \"variable\": \"water_temperature\", \"value\": 6.0}, {\"timestamp_utc\": \"2015-02-28T00:00:00+00:00\", \"variable\": \"water_temperature\", \"value\": 4.9}, {\"timestamp_utc\": \"2015-03-31T00:00:00+00:00\", \"variable\": \"water_temperature\", \"value\": 5.4}, {\"timestamp_utc\": \"2015-04-30T00:00:00+00:00\", \"variable\": \"water_temperature\", \"value\": 9.2}, {\"timestamp_utc\": \"2015-05-31T00:00:00+00:00\", \"variable\": \"water_temperature\", \"value\": 14.8}, {\"timestamp_utc\": \"2015-06-30T00:00:00+00:00\", \"variable\": \"water_temperature\", \"value\": 19.0}, {\"timestamp_utc\": \"2015-07-31T00:00:00+00:00\", \"variable\": \"water_temperature\", \"value\": 24.1}, {\"timestamp_utc\": \"2015-08-31T00:00:00+00:00\", \"variable\": \"water_temperature\", \"value\": 23.2}, {\"timestamp_utc\": \"2015-09-30T00:00:00+00:00\", \"variable\": \"water_temperature\", \"value\": 19.2}, {\"timestamp_utc\": \"2015-10-31T00:00:00+00:00\", \"variable\": \"water_temperature\", \"value\": 14.5}, {\"timestamp_utc\": \"2015-11-30T00:00:00+00:00\", \"variable\": \"water_temperature\", \"value\": 12.4}, {\"timestamp_utc\": \"2015-12-31T00:00:00+00:00\", \"variable\": \"water_temperature\", \"value\": 7.9}, {\"timestamp_utc\": \"2016-01-31T00:00:00+00:00\", \"variable\": \"water_temperature\", \"value\": 6.3}, {\"timestamp_utc\": \"2016-02-29T00:00:00+00:00\", \"variable\": \"water_temperature\", \"value\": 5.6}, {\"timestamp_utc\": \"2016-03-31T00:00:00+00:00\", \"variable\": \"water_temperature\", \"value\": 5.4}, {\"timestamp_utc\": \"2016-04-30T00:00:00+00:00\", \"variable\": \"water_temperature\", \"value\": 9.0}, {\"timestamp_utc\": \"2016-05-31T00:00:00+00:00\", \"variable\": \"water_temperature\", \"value\": 13.7}, {\"timestamp_utc\": \"2016-06-30T00:00:00+00:00\", \"variable\": \"water_temperature\", \"value\": 18.2}, {\"timestamp_utc\": \"2016-07-31T00:00:00+00:00\", \"variable\": \"water_temperature\", \"value\": 22.7}, {\"timestamp_utc\": \"2016-08-31T00:00:00+00:00\", \"variable\": \"water_temperature\", \"value\": 23.1}, {\"timestamp_utc\": \"2016-09-30T00:00:00+00:00\", \"variable\": \"water_temperature\", \"value\": 22.2}, {\"timestamp_utc\": \"2016-10-31T00:00:00+00:00\", \"variable\": \"water_temperature\", \"value\": 14.8}, {\"timestamp_utc\": \"2016-11-30T00:00:00+00:00\", \"variable\": \"water_temperature\", \"value\": 10.3}, {\"timestamp_utc\": \"2016-12-31T00:00:00+00:00\", \"variable\": \"water_temperature\", \"value\": 7.1}, {\"timestamp_utc\": \"2017-01-31T00:00:00+00:00\", \"variable\": \"water_temperature\", \"value\": 5.3}, {\"timestamp_utc\": \"2017-02-28T00:00:00+00:00\", \"variable\": \"water_temperature\", \"value\": 4.8}, {\"timestamp_utc\": \"2017-03-31T00:00:00+00:00\", \"variable\": \"water_temperature\", \"value\": 5.6}, {\"timestamp_utc\": \"2017-04-30T00:00:00+00:00\", \"variable\": \"water_temperature\", \"value\": 10.4}, {\"timestamp_utc\": \"2017-05-31T00:00:00+00:00\", \"variable\": \"water_temperature\", \"value\": 14.9}, {\"timestamp_utc\": \"2017-06-30T00:00:00+00:00\", \"variable\": \"water_temperature\", \"value\": 21.6}, {\"timestamp_utc\": \"2017-07-31T00:00:00+00:00\", \"variable\": \"water_temperature\", \"value\": 22.8}, {\"timestamp_utc\": \"2017-08-31T00:00:00+00:00\", \"variable\": \"water_temperature\", \"value\": 22.6}, {\"timestamp_utc\": \"2017-09-30T00:00:00+00:00\", \"variable\": \"water_temperature\", \"value\": 18.2}, {\"timestamp_utc\": \"2017-10-31T00:00:00+00:00\", \"variable\": \"water_temperature\", \"value\": 16.2}, {\"timestamp_utc\": \"2017-11-30T00:00:00+00:00\", \"variable\": \"water_temperature\", \"value\": 10.4}, {\"timestamp_utc\": \"2017-12-31T00:00:00+00:00\", \"variable\": \"water_temperature\", \"value\": 6.7}, {\"timestamp_utc\": \"2018-01-31T00:00:00+00:00\", \"variable\": \"water_temperature\", \"value\": 5.7}, {\"timestamp_utc\": \"2018-02-28T00:00:00+00:00\", \"variable\": \"water_temperature\", \"value\": 5.1}, {\"timestamp_utc\": \"2018-03-31T00:00:00+00:00\", \"variable\": \"water_temperature\", \"value\": 4.9}, {\"timestamp_utc\": \"2018-04-30T00:00:00+00:00\", \"variable\": \"water_temperature\", \"value\": 8.7}, {\"timestamp_utc\": \"2018-05-31T00:00:00+00:00\", \"variable\": \"water_temperature\", \"value\": 15.3}, {\"timestamp_utc\": \"2018-06-30T00:00:00+00:00\", \"variable\": \"water_temperature\", \"value\": 21.2}, {\"timestamp_utc\": \"2018-07-31T00:00:00+00:00\", \"variable\": \"water_temperature\", \"value\": 23.6}, {\"timestamp_utc\": \"2018-08-31T00:00:00+00:00\", \"variable\": \"water_temperature\", \"value\": 25.0}, {\"timestamp_utc\": \"2018-09-30T00:00:00+00:00\", \"variable\": \"water_temperature\", \"value\": 21.7}, {\"timestamp_utc\": \"2018-10-31T00:00:00+00:00\", \"variable\": \"water_temperature\", \"value\": 17.7}, {\"timestamp_utc\": \"2018-11-30T00:00:00+00:00\", \"variable\": \"water_temperature\", \"value\": 12.5}, {\"timestamp_utc\": \"2018-12-31T00:00:00+00:00\", \"variable\": \"water_temperature\", \"value\": 7.4}, {\"timestamp_utc\": \"2019-01-31T00:00:00+00:00\", \"variable\": \"water_temperature\", \"value\": 5.7}, {\"timestamp_utc\": \"2019-02-28T00:00:00+00:00\", \"variable\": \"water_temperature\", \"value\": 5.1}, {\"timestamp_utc\": \"2019-03-31T00:00:00+00:00\", \"variable\": \"water_temperature\", \"value\": 5.3}, {\"timestamp_utc\": \"2019-04-30T00:00:00+00:00\", \"variable\": \"water_temperature\", \"value\": 9.1}, {\"timestamp_utc\": \"2019-05-31T00:00:00+00:00\", \"variable\": \"water_temperature\", \"value\": 11.8}, {\"timestamp_utc\": \"2019-06-30T00:00:00+00:00\", \"variable\": \"water_temperature\", \"value\": 18.8}, {\"timestamp_utc\": \"2019-07-31T00:00:00+00:00\", \"variable\": \"water_temperature\", \"value\": 23.9}, {\"timestamp_utc\": \"2019-08-31T00:00:00+00:00\", \"variable\": \"water_temperature\", \"value\": 23.3}, {\"timestamp_utc\": \"2019-09-30T00:00:00+00:00\", \"variable\": \"water_temperature\", \"value\": 19.9}, {\"timestamp_utc\": \"2019-10-31T00:00:00+00:00\", \"variable\": \"water_temperature\", \"value\": 16.0}, {\"timestamp_utc\": \"2019-11-30T00:00:00+00:00\", \"variable\": \"water_temperature\", \"value\": 11.7}, {\"timestamp_utc\": \"2019-12-31T00:00:00+00:00\", \"variable\": \"water_temperature\", \"value\": 7.9}, {\"timestamp_utc\": \"2020-01-31T00:00:00+00:00\", \"variable\": \"water_temperature\", \"value\": 6.5}, {\"timestamp_utc\": \"2020-02-29T00:00:00+00:00\", \"variable\": \"water_temperature\", \"value\": 5.9}, {\"timestamp_utc\": \"2020-03-31T00:00:00+00:00\", \"variable\": \"water_temperature\", \"value\": 6.2}, {\"timestamp_utc\": \"2020-04-30T00:00:00+00:00\", \"variable\": \"water_temperature\", \"value\": 11.8}, {\"timestamp_utc\": \"2020-05-31T00:00:00+00:00\", \"variable\": \"water_temperature\", \"value\": 14.5}, {\"timestamp_utc\": \"2020-06-30T00:00:00+00:00\", \"variable\": \"water_temperature\", \"value\": 18.8}, {\"timestamp_utc\": \"2020-07-31T00:00:00+00:00\", \"variable\": \"water_temperature\", \"value\": 22.5}, {\"timestamp_utc\": \"2020-08-31T00:00:00+00:00\", \"variable\": \"water_temperature\", \"value\": 24.4}, {\"timestamp_utc\": \"2020-09-30T00:00:00+00:00\", \"variable\": \"water_temperature\", \"value\": 21.0}, {\"timestamp_utc\": \"2020-10-31T00:00:00+00:00\", \"variable\": \"water_temperature\", \"value\": 14.5}, {\"timestamp_utc\": \"2020-11-30T00:00:00+00:00\", \"variable\": \"water_temperature\", \"value\": 11.8}, {\"timestamp_utc\": \"2020-12-31T00:00:00+00:00\", \"variable\": \"water_temperature\", \"value\": 7.7}, {\"timestamp_utc\": \"2021-01-31T00:00:00+00:00\", \"variable\": \"water_temperature\", \"value\": 5.7}, {\"timestamp_utc\": \"2021-02-28T00:00:00+00:00\", \"variable\": \"water_temperature\", \"value\": 5.4}, {\"timestamp_utc\": \"2021-03-31T00:00:00+00:00\", \"variable\": \"water_temperature\", \"value\": 5.5}, {\"timestamp_utc\": \"2021-04-30T00:00:00+00:00\", \"variable\": \"water_temperature\", \"value\": 7.4}, {\"timestamp_utc\": \"2021-05-31T00:00:00+00:00\", \"variable\": \"water_temperature\", \"value\": 11.9}, {\"timestamp_utc\": \"2021-06-30T00:00:00+00:00\", \"variable\": \"water_temperature\", \"value\": 20.4}, {\"timestamp_utc\": \"2021-07-31T00:00:00+00:00\", \"variable\": \"water_temperature\", \"value\": 20.7}, {\"timestamp_utc\": \"2021-08-31T00:00:00+00:00\", \"variable\": \"water_temperature\", \"value\": 20.7}, {\"timestamp_utc\": \"2021-09-30T00:00:00+00:00\", \"variable\": \"water_temperature\", \"value\": 20.0}, {\"timestamp_utc\": \"2021-10-31T00:00:00+00:00\", \"variable\": \"water_temperature\", \"value\": 15.5}, {\"timestamp_utc\": \"2021-11-30T00:00:00+00:00\", \"variable\": \"water_temperature\", \"value\": 11.0}, {\"timestamp_utc\": \"2021-12-31T00:00:00+00:00\", \"variable\": \"water_temperature\", \"value\": 7.6}], \"data-ff40465f3eed6cc93ebbe8bb0b05c2ae\": [{\"timestamp_utc\": \"2007-12-31T00:00:00+00:00\", \"variable\": \"air_temperature\", \"value\": 14.5}, {\"timestamp_utc\": \"2008-12-31T00:00:00+00:00\", \"variable\": \"air_temperature\", \"value\": 11.4}, {\"timestamp_utc\": \"2009-12-31T00:00:00+00:00\", \"variable\": \"air_temperature\", \"value\": 12.4}, {\"timestamp_utc\": \"2010-12-31T00:00:00+00:00\", \"variable\": \"air_temperature\", \"value\": 9.9}, {\"timestamp_utc\": \"2011-12-31T00:00:00+00:00\", \"variable\": \"air_temperature\", \"value\": 11.5}, {\"timestamp_utc\": \"2012-12-31T00:00:00+00:00\", \"variable\": \"air_temperature\", \"value\": 10.8}, {\"timestamp_utc\": \"2013-12-31T00:00:00+00:00\", \"variable\": \"air_temperature\", \"value\": 10.5}, {\"timestamp_utc\": \"2014-12-31T00:00:00+00:00\", \"variable\": \"air_temperature\", \"value\": 11.9}, {\"timestamp_utc\": \"2015-12-31T00:00:00+00:00\", \"variable\": \"air_temperature\", \"value\": 10.8}, {\"timestamp_utc\": \"2016-12-31T00:00:00+00:00\", \"variable\": \"air_temperature\", \"value\": 10.3}, {\"timestamp_utc\": \"2017-12-31T00:00:00+00:00\", \"variable\": \"air_temperature\", \"value\": 11.3}, {\"timestamp_utc\": \"2018-12-31T00:00:00+00:00\", \"variable\": \"air_temperature\", \"value\": 12.2}, {\"timestamp_utc\": \"2019-12-31T00:00:00+00:00\", \"variable\": \"air_temperature\", \"value\": 11.3}, {\"timestamp_utc\": \"2020-12-31T00:00:00+00:00\", \"variable\": \"air_temperature\", \"value\": 12.0}, {\"timestamp_utc\": \"2021-12-31T00:00:00+00:00\", \"variable\": \"air_temperature\", \"value\": 10.1}, {\"timestamp_utc\": \"2007-12-31T00:00:00+00:00\", \"variable\": \"water_temperature\", \"value\": 17.3}, {\"timestamp_utc\": \"2008-12-31T00:00:00+00:00\", \"variable\": \"water_temperature\", \"value\": 13.7}, {\"timestamp_utc\": \"2009-12-31T00:00:00+00:00\", \"variable\": \"water_temperature\", \"value\": 14.9}, {\"timestamp_utc\": \"2010-12-31T00:00:00+00:00\", \"variable\": \"water_temperature\", \"value\": 11.5}, {\"timestamp_utc\": \"2011-12-31T00:00:00+00:00\", \"variable\": \"water_temperature\", \"value\": 13.5}, {\"timestamp_utc\": \"2012-12-31T00:00:00+00:00\", \"variable\": \"water_temperature\", \"value\": 11.4}, {\"timestamp_utc\": \"2013-12-31T00:00:00+00:00\", \"variable\": \"water_temperature\", \"value\": 11.8}, {\"timestamp_utc\": \"2014-12-31T00:00:00+00:00\", \"variable\": \"water_temperature\", \"value\": 13.1}, {\"timestamp_utc\": \"2015-12-31T00:00:00+00:00\", \"variable\": \"water_temperature\", \"value\": 12.8}, {\"timestamp_utc\": \"2016-12-31T00:00:00+00:00\", \"variable\": \"water_temperature\", \"value\": 12.0}, {\"timestamp_utc\": \"2017-12-31T00:00:00+00:00\", \"variable\": \"water_temperature\", \"value\": 12.8}, {\"timestamp_utc\": \"2018-12-31T00:00:00+00:00\", \"variable\": \"water_temperature\", \"value\": 14.0}, {\"timestamp_utc\": \"2019-12-31T00:00:00+00:00\", \"variable\": \"water_temperature\", \"value\": 12.1}, {\"timestamp_utc\": \"2020-12-31T00:00:00+00:00\", \"variable\": \"water_temperature\", \"value\": 13.2}, {\"timestamp_utc\": \"2021-12-31T00:00:00+00:00\", \"variable\": \"water_temperature\", \"value\": 11.6}]}}, {\"mode\": \"vega-lite\"});\n",
       "</script>"
      ],
      "text/plain": [
       "alt.LayerChart(...)"
      ]
     },
     "execution_count": 52,
     "metadata": {},
     "output_type": "execute_result"
    }
   ],
   "source": [
    "chart1 = alt.Chart(months_tb[['air_temperature','water_temperature']].reset_index().melt(\"timestamp_utc\")).mark_line(strokeWidth=1, opacity=0.25).encode(\n",
    "    x='timestamp_utc',\n",
    "    y='value',\n",
    "    color='variable',\n",
    ").properties(width=800, height=400)\n",
    "\n",
    "chart2 = alt.Chart(years_tb[['air_temperature','water_temperature']].reset_index().melt(\"timestamp_utc\")).mark_line(interpolate=\"basis\", opacity=1).encode(\n",
    "    x='timestamp_utc',\n",
    "    y='value',\n",
    "    color='variable',\n",
    ")\n",
    "\n",
    "chart1 + chart2"
   ]
  },
  {
   "cell_type": "code",
   "execution_count": 34,
   "metadata": {},
   "outputs": [
    {
     "data": {
      "text/html": [
       "\n",
       "<div id=\"altair-viz-d96d2f06dd894a4ebcedccb237bbab0c\"></div>\n",
       "<script type=\"text/javascript\">\n",
       "  (function(spec, embedOpt){\n",
       "    let outputDiv = document.currentScript.previousElementSibling;\n",
       "    if (outputDiv.id !== \"altair-viz-d96d2f06dd894a4ebcedccb237bbab0c\") {\n",
       "      outputDiv = document.getElementById(\"altair-viz-d96d2f06dd894a4ebcedccb237bbab0c\");\n",
       "    }\n",
       "    const paths = {\n",
       "      \"vega\": \"https://cdn.jsdelivr.net/npm//vega@5?noext\",\n",
       "      \"vega-lib\": \"https://cdn.jsdelivr.net/npm//vega-lib?noext\",\n",
       "      \"vega-lite\": \"https://cdn.jsdelivr.net/npm//vega-lite@4.8.1?noext\",\n",
       "      \"vega-embed\": \"https://cdn.jsdelivr.net/npm//vega-embed@6?noext\",\n",
       "    };\n",
       "\n",
       "    function loadScript(lib) {\n",
       "      return new Promise(function(resolve, reject) {\n",
       "        var s = document.createElement('script');\n",
       "        s.src = paths[lib];\n",
       "        s.async = true;\n",
       "        s.onload = () => resolve(paths[lib]);\n",
       "        s.onerror = () => reject(`Error loading script: ${paths[lib]}`);\n",
       "        document.getElementsByTagName(\"head\")[0].appendChild(s);\n",
       "      });\n",
       "    }\n",
       "\n",
       "    function showError(err) {\n",
       "      outputDiv.innerHTML = `<div class=\"error\" style=\"color:red;\">${err}</div>`;\n",
       "      throw err;\n",
       "    }\n",
       "\n",
       "    function displayChart(vegaEmbed) {\n",
       "      vegaEmbed(outputDiv, spec, embedOpt)\n",
       "        .catch(err => showError(`Javascript Error: ${err.message}<br>This usually means there's a typo in your chart specification. See the javascript console for the full traceback.`));\n",
       "    }\n",
       "\n",
       "    if(typeof define === \"function\" && define.amd) {\n",
       "      requirejs.config({paths});\n",
       "      require([\"vega-embed\"], displayChart, err => showError(`Error loading script: ${err.message}`));\n",
       "    } else if (typeof vegaEmbed === \"function\") {\n",
       "      displayChart(vegaEmbed);\n",
       "    } else {\n",
       "      loadScript(\"vega\")\n",
       "        .then(() => loadScript(\"vega-lite\"))\n",
       "        .then(() => loadScript(\"vega-embed\"))\n",
       "        .catch(showError)\n",
       "        .then(() => displayChart(vegaEmbed));\n",
       "    }\n",
       "  })({\"config\": {\"view\": {\"continuousWidth\": 400, \"continuousHeight\": 300}}, \"layer\": [{\"data\": {\"name\": \"data-62a9544d4a7857f3ba62828470d1e0d5\"}, \"mark\": {\"type\": \"line\", \"opacity\": 1, \"strokeWidth\": 1.5}, \"encoding\": {\"color\": {\"type\": \"nominal\", \"field\": \"variable\"}, \"x\": {\"type\": \"temporal\", \"field\": \"timestamp_utc\"}, \"y\": {\"type\": \"quantitative\", \"field\": \"value\"}}, \"height\": 400, \"width\": 800}, {\"data\": {\"name\": \"data-607c170a85ba936b760ed78be4b4c2a8\"}, \"mark\": {\"type\": \"line\", \"opacity\": 0.25, \"strokeWidth\": 1.6}, \"encoding\": {\"color\": {\"type\": \"nominal\", \"field\": \"variable\"}, \"x\": {\"type\": \"temporal\", \"field\": \"timestamp_utc\"}, \"y\": {\"type\": \"quantitative\", \"field\": \"value\"}}}, {\"data\": {\"name\": \"data-ff40465f3eed6cc93ebbe8bb0b05c2ae\"}, \"mark\": {\"type\": \"line\", \"interpolate\": \"basis\", \"opacity\": 0.25}, \"encoding\": {\"color\": {\"type\": \"nominal\", \"field\": \"variable\"}, \"x\": {\"type\": \"temporal\", \"field\": \"timestamp_utc\"}, \"y\": {\"type\": \"quantitative\", \"field\": \"value\"}}}], \"$schema\": \"https://vega.github.io/schema/vega-lite/v4.8.1.json\", \"datasets\": {\"data-62a9544d4a7857f3ba62828470d1e0d5\": [{\"timestamp_utc\": \"2007-04-30T00:00:00+00:00\", \"variable\": \"air_temperature\", \"value\": null}, {\"timestamp_utc\": \"2007-05-31T00:00:00+00:00\", \"variable\": \"air_temperature\", \"value\": null}, {\"timestamp_utc\": \"2007-06-30T00:00:00+00:00\", \"variable\": \"air_temperature\", \"value\": null}, {\"timestamp_utc\": \"2007-07-31T00:00:00+00:00\", \"variable\": \"air_temperature\", \"value\": null}, {\"timestamp_utc\": \"2007-08-31T00:00:00+00:00\", \"variable\": \"air_temperature\", \"value\": null}, {\"timestamp_utc\": \"2007-09-30T00:00:00+00:00\", \"variable\": \"air_temperature\", \"value\": null}, {\"timestamp_utc\": \"2007-10-31T00:00:00+00:00\", \"variable\": \"air_temperature\", \"value\": null}, {\"timestamp_utc\": \"2007-11-30T00:00:00+00:00\", \"variable\": \"air_temperature\", \"value\": null}, {\"timestamp_utc\": \"2007-12-31T00:00:00+00:00\", \"variable\": \"air_temperature\", \"value\": null}, {\"timestamp_utc\": \"2008-01-31T00:00:00+00:00\", \"variable\": \"air_temperature\", \"value\": null}, {\"timestamp_utc\": \"2008-02-29T00:00:00+00:00\", \"variable\": \"air_temperature\", \"value\": null}, {\"timestamp_utc\": \"2008-03-31T00:00:00+00:00\", \"variable\": \"air_temperature\", \"value\": null}, {\"timestamp_utc\": \"2008-04-30T00:00:00+00:00\", \"variable\": \"air_temperature\", \"value\": null}, {\"timestamp_utc\": \"2008-05-31T00:00:00+00:00\", \"variable\": \"air_temperature\", \"value\": null}, {\"timestamp_utc\": \"2008-06-30T00:00:00+00:00\", \"variable\": \"air_temperature\", \"value\": null}, {\"timestamp_utc\": \"2008-07-31T00:00:00+00:00\", \"variable\": \"air_temperature\", \"value\": null}, {\"timestamp_utc\": \"2008-08-31T00:00:00+00:00\", \"variable\": \"air_temperature\", \"value\": null}, {\"timestamp_utc\": \"2008-09-30T00:00:00+00:00\", \"variable\": \"air_temperature\", \"value\": null}, {\"timestamp_utc\": \"2008-10-31T00:00:00+00:00\", \"variable\": \"air_temperature\", \"value\": null}, {\"timestamp_utc\": \"2008-11-30T00:00:00+00:00\", \"variable\": \"air_temperature\", \"value\": null}, {\"timestamp_utc\": \"2008-12-31T00:00:00+00:00\", \"variable\": \"air_temperature\", \"value\": null}, {\"timestamp_utc\": \"2009-01-31T00:00:00+00:00\", \"variable\": \"air_temperature\", \"value\": null}, {\"timestamp_utc\": \"2009-02-28T00:00:00+00:00\", \"variable\": \"air_temperature\", \"value\": null}, {\"timestamp_utc\": \"2009-03-31T00:00:00+00:00\", \"variable\": \"air_temperature\", \"value\": null}, {\"timestamp_utc\": \"2009-04-30T00:00:00+00:00\", \"variable\": \"air_temperature\", \"value\": null}, {\"timestamp_utc\": \"2009-05-31T00:00:00+00:00\", \"variable\": \"air_temperature\", \"value\": null}, {\"timestamp_utc\": \"2009-06-30T00:00:00+00:00\", \"variable\": \"air_temperature\", \"value\": null}, {\"timestamp_utc\": \"2009-07-31T00:00:00+00:00\", \"variable\": \"air_temperature\", \"value\": null}, {\"timestamp_utc\": \"2009-08-31T00:00:00+00:00\", \"variable\": \"air_temperature\", \"value\": null}, {\"timestamp_utc\": \"2009-09-30T00:00:00+00:00\", \"variable\": \"air_temperature\", \"value\": null}, {\"timestamp_utc\": \"2009-10-31T00:00:00+00:00\", \"variable\": \"air_temperature\", \"value\": 10.48519444444445}, {\"timestamp_utc\": \"2009-11-30T00:00:00+00:00\", \"variable\": \"air_temperature\", \"value\": 10.404305555555558}, {\"timestamp_utc\": \"2009-12-31T00:00:00+00:00\", \"variable\": \"air_temperature\", \"value\": 10.333694444444445}, {\"timestamp_utc\": \"2010-01-31T00:00:00+00:00\", \"variable\": \"air_temperature\", \"value\": 10.287527777777779}, {\"timestamp_utc\": \"2010-02-28T00:00:00+00:00\", \"variable\": \"air_temperature\", \"value\": 10.279277777777779}, {\"timestamp_utc\": \"2010-03-31T00:00:00+00:00\", \"variable\": \"air_temperature\", \"value\": 10.311111111111112}, {\"timestamp_utc\": \"2010-04-30T00:00:00+00:00\", \"variable\": \"air_temperature\", \"value\": 10.375611111111112}, {\"timestamp_utc\": \"2010-05-31T00:00:00+00:00\", \"variable\": \"air_temperature\", \"value\": 10.454777777777778}, {\"timestamp_utc\": \"2010-06-30T00:00:00+00:00\", \"variable\": \"air_temperature\", \"value\": 10.528888888888886}, {\"timestamp_utc\": \"2010-07-31T00:00:00+00:00\", \"variable\": \"air_temperature\", \"value\": 10.580249999999998}, {\"timestamp_utc\": \"2010-08-31T00:00:00+00:00\", \"variable\": \"air_temperature\", \"value\": 10.594750000000001}, {\"timestamp_utc\": \"2010-09-30T00:00:00+00:00\", \"variable\": \"air_temperature\", \"value\": 10.57191666666667}, {\"timestamp_utc\": \"2010-10-31T00:00:00+00:00\", \"variable\": \"air_temperature\", \"value\": 10.519583333333333}, {\"timestamp_utc\": \"2010-11-30T00:00:00+00:00\", \"variable\": \"air_temperature\", \"value\": 10.455027777777785}, {\"timestamp_utc\": \"2010-12-31T00:00:00+00:00\", \"variable\": \"air_temperature\", \"value\": 10.399472222222228}, {\"timestamp_utc\": \"2011-01-31T00:00:00+00:00\", \"variable\": \"air_temperature\", \"value\": 10.37091666666667}, {\"timestamp_utc\": \"2011-02-28T00:00:00+00:00\", \"variable\": \"air_temperature\", \"value\": 10.381527777777782}, {\"timestamp_utc\": \"2011-03-31T00:00:00+00:00\", \"variable\": \"air_temperature\", \"value\": 10.43075}, {\"timestamp_utc\": \"2011-04-30T00:00:00+00:00\", \"variable\": \"air_temperature\", \"value\": 10.505416666666669}, {\"timestamp_utc\": \"2011-05-31T00:00:00+00:00\", \"variable\": \"air_temperature\", \"value\": 10.587694444444445}, {\"timestamp_utc\": \"2011-06-30T00:00:00+00:00\", \"variable\": \"air_temperature\", \"value\": 10.657472222222223}, {\"timestamp_utc\": \"2011-07-31T00:00:00+00:00\", \"variable\": \"air_temperature\", \"value\": 10.697861111111115}, {\"timestamp_utc\": \"2011-08-31T00:00:00+00:00\", \"variable\": \"air_temperature\", \"value\": 10.703861111111108}, {\"timestamp_utc\": \"2011-09-30T00:00:00+00:00\", \"variable\": \"air_temperature\", \"value\": 10.674027777777779}, {\"timestamp_utc\": \"2011-10-31T00:00:00+00:00\", \"variable\": \"air_temperature\", \"value\": 10.611361111111112}, {\"timestamp_utc\": \"2011-11-30T00:00:00+00:00\", \"variable\": \"air_temperature\", \"value\": 10.536611111111117}, {\"timestamp_utc\": \"2011-12-31T00:00:00+00:00\", \"variable\": \"air_temperature\", \"value\": 10.473333333333336}, {\"timestamp_utc\": \"2012-01-31T00:00:00+00:00\", \"variable\": \"air_temperature\", \"value\": 10.43427777777778}, {\"timestamp_utc\": \"2012-02-29T00:00:00+00:00\", \"variable\": \"air_temperature\", \"value\": 10.427166666666668}, {\"timestamp_utc\": \"2012-03-31T00:00:00+00:00\", \"variable\": \"air_temperature\", \"value\": 10.460055555555563}, {\"timestamp_utc\": \"2012-04-30T00:00:00+00:00\", \"variable\": \"air_temperature\", \"value\": 10.526166666666668}, {\"timestamp_utc\": \"2012-05-31T00:00:00+00:00\", \"variable\": \"air_temperature\", \"value\": 10.606833333333334}, {\"timestamp_utc\": \"2012-06-30T00:00:00+00:00\", \"variable\": \"air_temperature\", \"value\": 10.683944444444442}, {\"timestamp_utc\": \"2012-07-31T00:00:00+00:00\", \"variable\": \"air_temperature\", \"value\": 10.737666666666666}, {\"timestamp_utc\": \"2012-08-31T00:00:00+00:00\", \"variable\": \"air_temperature\", \"value\": 10.755777777777782}, {\"timestamp_utc\": \"2012-09-30T00:00:00+00:00\", \"variable\": \"air_temperature\", \"value\": 10.732611111111114}, {\"timestamp_utc\": \"2012-10-31T00:00:00+00:00\", \"variable\": \"air_temperature\", \"value\": 10.676166666666663}, {\"timestamp_utc\": \"2012-11-30T00:00:00+00:00\", \"variable\": \"air_temperature\", \"value\": 10.606722222222219}, {\"timestamp_utc\": \"2012-12-31T00:00:00+00:00\", \"variable\": \"air_temperature\", \"value\": 10.54244444444445}, {\"timestamp_utc\": \"2013-01-31T00:00:00+00:00\", \"variable\": \"air_temperature\", \"value\": 10.500722222222226}, {\"timestamp_utc\": \"2013-02-28T00:00:00+00:00\", \"variable\": \"air_temperature\", \"value\": 10.497833333333334}, {\"timestamp_utc\": \"2013-03-31T00:00:00+00:00\", \"variable\": \"air_temperature\", \"value\": 10.538888888888893}, {\"timestamp_utc\": \"2013-04-30T00:00:00+00:00\", \"variable\": \"air_temperature\", \"value\": 10.613722222222226}, {\"timestamp_utc\": \"2013-05-31T00:00:00+00:00\", \"variable\": \"air_temperature\", \"value\": 10.70227777777778}, {\"timestamp_utc\": \"2013-06-30T00:00:00+00:00\", \"variable\": \"air_temperature\", \"value\": 10.787749999999999}, {\"timestamp_utc\": \"2013-07-31T00:00:00+00:00\", \"variable\": \"air_temperature\", \"value\": 10.854194444444442}, {\"timestamp_utc\": \"2013-08-31T00:00:00+00:00\", \"variable\": \"air_temperature\", \"value\": 10.885194444444446}, {\"timestamp_utc\": \"2013-09-30T00:00:00+00:00\", \"variable\": \"air_temperature\", \"value\": 10.877861111111114}, {\"timestamp_utc\": \"2013-10-31T00:00:00+00:00\", \"variable\": \"air_temperature\", \"value\": 10.842583333333332}, {\"timestamp_utc\": \"2013-11-30T00:00:00+00:00\", \"variable\": \"air_temperature\", \"value\": 10.795250000000001}, {\"timestamp_utc\": \"2013-12-31T00:00:00+00:00\", \"variable\": \"air_temperature\", \"value\": 10.757694444444446}, {\"timestamp_utc\": \"2014-01-31T00:00:00+00:00\", \"variable\": \"air_temperature\", \"value\": 10.748361111111107}, {\"timestamp_utc\": \"2014-02-28T00:00:00+00:00\", \"variable\": \"air_temperature\", \"value\": 10.772583333333335}, {\"timestamp_utc\": \"2014-03-31T00:00:00+00:00\", \"variable\": \"air_temperature\", \"value\": 10.830472222222223}, {\"timestamp_utc\": \"2014-04-30T00:00:00+00:00\", \"variable\": \"air_temperature\", \"value\": 10.917416666666668}, {\"timestamp_utc\": \"2014-05-31T00:00:00+00:00\", \"variable\": \"air_temperature\", \"value\": 11.01469444444445}, {\"timestamp_utc\": \"2014-06-30T00:00:00+00:00\", \"variable\": \"air_temperature\", \"value\": 11.10230555555556}, {\"timestamp_utc\": \"2014-07-31T00:00:00+00:00\", \"variable\": \"air_temperature\", \"value\": 11.164527777777783}, {\"timestamp_utc\": \"2014-08-31T00:00:00+00:00\", \"variable\": \"air_temperature\", \"value\": 11.189972222222224}, {\"timestamp_utc\": \"2014-09-30T00:00:00+00:00\", \"variable\": \"air_temperature\", \"value\": 11.178250000000004}, {\"timestamp_utc\": \"2014-10-31T00:00:00+00:00\", \"variable\": \"air_temperature\", \"value\": 11.139027777777777}, {\"timestamp_utc\": \"2014-11-30T00:00:00+00:00\", \"variable\": \"air_temperature\", \"value\": 11.085027777777778}, {\"timestamp_utc\": \"2014-12-31T00:00:00+00:00\", \"variable\": \"air_temperature\", \"value\": 11.033972222222227}, {\"timestamp_utc\": \"2015-01-31T00:00:00+00:00\", \"variable\": \"air_temperature\", \"value\": 11.007750000000001}, {\"timestamp_utc\": \"2015-02-28T00:00:00+00:00\", \"variable\": \"air_temperature\", \"value\": 11.017388888888888}, {\"timestamp_utc\": \"2015-03-31T00:00:00+00:00\", \"variable\": \"air_temperature\", \"value\": 11.068500000000002}, {\"timestamp_utc\": \"2015-04-30T00:00:00+00:00\", \"variable\": \"air_temperature\", \"value\": 11.15088888888889}, {\"timestamp_utc\": \"2015-05-31T00:00:00+00:00\", \"variable\": \"air_temperature\", \"value\": 11.243055555555555}, {\"timestamp_utc\": \"2015-06-30T00:00:00+00:00\", \"variable\": \"air_temperature\", \"value\": 11.32727777777778}, {\"timestamp_utc\": \"2015-07-31T00:00:00+00:00\", \"variable\": \"air_temperature\", \"value\": 11.385499999999999}, {\"timestamp_utc\": \"2015-08-31T00:00:00+00:00\", \"variable\": \"air_temperature\", \"value\": 11.405277777777782}, {\"timestamp_utc\": \"2015-09-30T00:00:00+00:00\", \"variable\": \"air_temperature\", \"value\": 11.381277777777775}, {\"timestamp_utc\": \"2015-10-31T00:00:00+00:00\", \"variable\": \"air_temperature\", \"value\": 11.323500000000005}, {\"timestamp_utc\": \"2015-11-30T00:00:00+00:00\", \"variable\": \"air_temperature\", \"value\": 11.254833333333334}, {\"timestamp_utc\": \"2015-12-31T00:00:00+00:00\", \"variable\": \"air_temperature\", \"value\": 11.191555555555558}, {\"timestamp_utc\": \"2016-01-31T00:00:00+00:00\", \"variable\": \"air_temperature\", \"value\": 11.147833333333333}, {\"timestamp_utc\": \"2016-02-29T00:00:00+00:00\", \"variable\": \"air_temperature\", \"value\": 11.137777777777782}, {\"timestamp_utc\": \"2016-03-31T00:00:00+00:00\", \"variable\": \"air_temperature\", \"value\": 11.1655}, {\"timestamp_utc\": \"2016-04-30T00:00:00+00:00\", \"variable\": \"air_temperature\", \"value\": 11.224388888888894}, {\"timestamp_utc\": \"2016-05-31T00:00:00+00:00\", \"variable\": \"air_temperature\", \"value\": 11.299055555555562}, {\"timestamp_utc\": \"2016-06-30T00:00:00+00:00\", \"variable\": \"air_temperature\", \"value\": 11.368555555555556}, {\"timestamp_utc\": \"2016-07-31T00:00:00+00:00\", \"variable\": \"air_temperature\", \"value\": 11.414777777777779}, {\"timestamp_utc\": \"2016-08-31T00:00:00+00:00\", \"variable\": \"air_temperature\", \"value\": 11.426166666666672}, {\"timestamp_utc\": \"2016-09-30T00:00:00+00:00\", \"variable\": \"air_temperature\", \"value\": 11.400111111111112}, {\"timestamp_utc\": \"2016-10-31T00:00:00+00:00\", \"variable\": \"air_temperature\", \"value\": 11.345}, {\"timestamp_utc\": \"2016-11-30T00:00:00+00:00\", \"variable\": \"air_temperature\", \"value\": 11.279222222222225}, {\"timestamp_utc\": \"2016-12-31T00:00:00+00:00\", \"variable\": \"air_temperature\", \"value\": 11.221}, {\"timestamp_utc\": \"2017-01-31T00:00:00+00:00\", \"variable\": \"air_temperature\", \"value\": 11.189833333333336}, {\"timestamp_utc\": \"2017-02-28T00:00:00+00:00\", \"variable\": \"air_temperature\", \"value\": 11.203055555555554}, {\"timestamp_utc\": \"2017-03-31T00:00:00+00:00\", \"variable\": \"air_temperature\", \"value\": 11.25661111111111}, {\"timestamp_utc\": \"2017-04-30T00:00:00+00:00\", \"variable\": \"air_temperature\", \"value\": 11.335}, {\"timestamp_utc\": \"2017-05-31T00:00:00+00:00\", \"variable\": \"air_temperature\", \"value\": 11.425555555555558}, {\"timestamp_utc\": \"2017-06-30T00:00:00+00:00\", \"variable\": \"air_temperature\", \"value\": 11.51066666666667}, {\"timestamp_utc\": \"2017-07-31T00:00:00+00:00\", \"variable\": \"air_temperature\", \"value\": 11.568777777777775}, {\"timestamp_utc\": \"2017-08-31T00:00:00+00:00\", \"variable\": \"air_temperature\", \"value\": 11.58994444444445}, {\"timestamp_utc\": \"2017-09-30T00:00:00+00:00\", \"variable\": \"air_temperature\", \"value\": 11.573222222222226}, {\"timestamp_utc\": \"2017-10-31T00:00:00+00:00\", \"variable\": \"air_temperature\", \"value\": 11.529055555555558}, {\"timestamp_utc\": \"2017-11-30T00:00:00+00:00\", \"variable\": \"air_temperature\", \"value\": 11.476611111111112}, {\"timestamp_utc\": \"2017-12-31T00:00:00+00:00\", \"variable\": \"air_temperature\", \"value\": 11.434500000000002}, {\"timestamp_utc\": \"2018-01-31T00:00:00+00:00\", \"variable\": \"air_temperature\", \"value\": 11.419333333333334}, {\"timestamp_utc\": \"2018-02-28T00:00:00+00:00\", \"variable\": \"air_temperature\", \"value\": 11.438722222222223}, {\"timestamp_utc\": \"2018-03-31T00:00:00+00:00\", \"variable\": \"air_temperature\", \"value\": 11.498055555555556}, {\"timestamp_utc\": \"2018-04-30T00:00:00+00:00\", \"variable\": \"air_temperature\", \"value\": 11.591555555555555}, {\"timestamp_utc\": \"2018-05-31T00:00:00+00:00\", \"variable\": \"air_temperature\", \"value\": 11.694499999999994}, {\"timestamp_utc\": \"2018-06-30T00:00:00+00:00\", \"variable\": \"air_temperature\", \"value\": 11.786277777777777}, {\"timestamp_utc\": \"2018-07-31T00:00:00+00:00\", \"variable\": \"air_temperature\", \"value\": 11.8515}, {\"timestamp_utc\": \"2018-08-31T00:00:00+00:00\", \"variable\": \"air_temperature\", \"value\": 11.878111111111108}, {\"timestamp_utc\": \"2018-09-30T00:00:00+00:00\", \"variable\": \"air_temperature\", \"value\": 11.864555555555553}, {\"timestamp_utc\": \"2018-10-31T00:00:00+00:00\", \"variable\": \"air_temperature\", \"value\": 11.818222222222218}, {\"timestamp_utc\": \"2018-11-30T00:00:00+00:00\", \"variable\": \"air_temperature\", \"value\": 11.755}, {\"timestamp_utc\": \"2018-12-31T00:00:00+00:00\", \"variable\": \"air_temperature\", \"value\": 11.694222222222225}, {\"timestamp_utc\": \"2019-01-31T00:00:00+00:00\", \"variable\": \"air_temperature\", \"value\": 11.653833333333333}, {\"timestamp_utc\": \"2019-02-28T00:00:00+00:00\", \"variable\": \"air_temperature\", \"value\": 11.647944444444446}, {\"timestamp_utc\": \"2019-03-31T00:00:00+00:00\", \"variable\": \"air_temperature\", \"value\": 11.678888888888892}, {\"timestamp_utc\": \"2019-04-30T00:00:00+00:00\", \"variable\": \"air_temperature\", \"value\": 11.73766666666667}, {\"timestamp_utc\": \"2019-05-31T00:00:00+00:00\", \"variable\": \"air_temperature\", \"value\": 11.808166666666668}, {\"timestamp_utc\": \"2019-06-30T00:00:00+00:00\", \"variable\": \"air_temperature\", \"value\": 11.872722222222228}, {\"timestamp_utc\": \"2019-07-31T00:00:00+00:00\", \"variable\": \"air_temperature\", \"value\": 11.910777777777781}, {\"timestamp_utc\": \"2019-08-31T00:00:00+00:00\", \"variable\": \"air_temperature\", \"value\": null}, {\"timestamp_utc\": \"2019-09-30T00:00:00+00:00\", \"variable\": \"air_temperature\", \"value\": null}, {\"timestamp_utc\": \"2019-10-31T00:00:00+00:00\", \"variable\": \"air_temperature\", \"value\": null}, {\"timestamp_utc\": \"2019-11-30T00:00:00+00:00\", \"variable\": \"air_temperature\", \"value\": null}, {\"timestamp_utc\": \"2019-12-31T00:00:00+00:00\", \"variable\": \"air_temperature\", \"value\": null}, {\"timestamp_utc\": \"2020-01-31T00:00:00+00:00\", \"variable\": \"air_temperature\", \"value\": null}, {\"timestamp_utc\": \"2020-02-29T00:00:00+00:00\", \"variable\": \"air_temperature\", \"value\": null}, {\"timestamp_utc\": \"2020-03-31T00:00:00+00:00\", \"variable\": \"air_temperature\", \"value\": null}, {\"timestamp_utc\": \"2020-04-30T00:00:00+00:00\", \"variable\": \"air_temperature\", \"value\": null}, {\"timestamp_utc\": \"2020-05-31T00:00:00+00:00\", \"variable\": \"air_temperature\", \"value\": null}, {\"timestamp_utc\": \"2020-06-30T00:00:00+00:00\", \"variable\": \"air_temperature\", \"value\": null}, {\"timestamp_utc\": \"2020-07-31T00:00:00+00:00\", \"variable\": \"air_temperature\", \"value\": null}, {\"timestamp_utc\": \"2020-08-31T00:00:00+00:00\", \"variable\": \"air_temperature\", \"value\": null}, {\"timestamp_utc\": \"2020-09-30T00:00:00+00:00\", \"variable\": \"air_temperature\", \"value\": null}, {\"timestamp_utc\": \"2020-10-31T00:00:00+00:00\", \"variable\": \"air_temperature\", \"value\": null}, {\"timestamp_utc\": \"2020-11-30T00:00:00+00:00\", \"variable\": \"air_temperature\", \"value\": null}, {\"timestamp_utc\": \"2020-12-31T00:00:00+00:00\", \"variable\": \"air_temperature\", \"value\": null}, {\"timestamp_utc\": \"2021-01-31T00:00:00+00:00\", \"variable\": \"air_temperature\", \"value\": null}, {\"timestamp_utc\": \"2021-02-28T00:00:00+00:00\", \"variable\": \"air_temperature\", \"value\": null}, {\"timestamp_utc\": \"2021-03-31T00:00:00+00:00\", \"variable\": \"air_temperature\", \"value\": null}, {\"timestamp_utc\": \"2021-04-30T00:00:00+00:00\", \"variable\": \"air_temperature\", \"value\": null}, {\"timestamp_utc\": \"2021-05-31T00:00:00+00:00\", \"variable\": \"air_temperature\", \"value\": null}, {\"timestamp_utc\": \"2021-06-30T00:00:00+00:00\", \"variable\": \"air_temperature\", \"value\": null}, {\"timestamp_utc\": \"2021-07-31T00:00:00+00:00\", \"variable\": \"air_temperature\", \"value\": null}, {\"timestamp_utc\": \"2021-08-31T00:00:00+00:00\", \"variable\": \"air_temperature\", \"value\": null}, {\"timestamp_utc\": \"2021-09-30T00:00:00+00:00\", \"variable\": \"air_temperature\", \"value\": null}, {\"timestamp_utc\": \"2021-10-31T00:00:00+00:00\", \"variable\": \"air_temperature\", \"value\": null}, {\"timestamp_utc\": \"2021-11-30T00:00:00+00:00\", \"variable\": \"air_temperature\", \"value\": null}, {\"timestamp_utc\": \"2021-12-31T00:00:00+00:00\", \"variable\": \"air_temperature\", \"value\": null}, {\"timestamp_utc\": \"2007-04-30T00:00:00+00:00\", \"variable\": \"water_temperature\", \"value\": null}, {\"timestamp_utc\": \"2007-05-31T00:00:00+00:00\", \"variable\": \"water_temperature\", \"value\": null}, {\"timestamp_utc\": \"2007-06-30T00:00:00+00:00\", \"variable\": \"water_temperature\", \"value\": null}, {\"timestamp_utc\": \"2007-07-31T00:00:00+00:00\", \"variable\": \"water_temperature\", \"value\": null}, {\"timestamp_utc\": \"2007-08-31T00:00:00+00:00\", \"variable\": \"water_temperature\", \"value\": null}, {\"timestamp_utc\": \"2007-09-30T00:00:00+00:00\", \"variable\": \"water_temperature\", \"value\": null}, {\"timestamp_utc\": \"2007-10-31T00:00:00+00:00\", \"variable\": \"water_temperature\", \"value\": null}, {\"timestamp_utc\": \"2007-11-30T00:00:00+00:00\", \"variable\": \"water_temperature\", \"value\": null}, {\"timestamp_utc\": \"2007-12-31T00:00:00+00:00\", \"variable\": \"water_temperature\", \"value\": null}, {\"timestamp_utc\": \"2008-01-31T00:00:00+00:00\", \"variable\": \"water_temperature\", \"value\": null}, {\"timestamp_utc\": \"2008-02-29T00:00:00+00:00\", \"variable\": \"water_temperature\", \"value\": null}, {\"timestamp_utc\": \"2008-03-31T00:00:00+00:00\", \"variable\": \"water_temperature\", \"value\": null}, {\"timestamp_utc\": \"2008-04-30T00:00:00+00:00\", \"variable\": \"water_temperature\", \"value\": null}, {\"timestamp_utc\": \"2008-05-31T00:00:00+00:00\", \"variable\": \"water_temperature\", \"value\": null}, {\"timestamp_utc\": \"2008-06-30T00:00:00+00:00\", \"variable\": \"water_temperature\", \"value\": null}, {\"timestamp_utc\": \"2008-07-31T00:00:00+00:00\", \"variable\": \"water_temperature\", \"value\": null}, {\"timestamp_utc\": \"2008-08-31T00:00:00+00:00\", \"variable\": \"water_temperature\", \"value\": null}, {\"timestamp_utc\": \"2008-09-30T00:00:00+00:00\", \"variable\": \"water_temperature\", \"value\": null}, {\"timestamp_utc\": \"2008-10-31T00:00:00+00:00\", \"variable\": \"water_temperature\", \"value\": null}, {\"timestamp_utc\": \"2008-11-30T00:00:00+00:00\", \"variable\": \"water_temperature\", \"value\": null}, {\"timestamp_utc\": \"2008-12-31T00:00:00+00:00\", \"variable\": \"water_temperature\", \"value\": null}, {\"timestamp_utc\": \"2009-01-31T00:00:00+00:00\", \"variable\": \"water_temperature\", \"value\": null}, {\"timestamp_utc\": \"2009-02-28T00:00:00+00:00\", \"variable\": \"water_temperature\", \"value\": null}, {\"timestamp_utc\": \"2009-03-31T00:00:00+00:00\", \"variable\": \"water_temperature\", \"value\": null}, {\"timestamp_utc\": \"2009-04-30T00:00:00+00:00\", \"variable\": \"water_temperature\", \"value\": null}, {\"timestamp_utc\": \"2009-05-31T00:00:00+00:00\", \"variable\": \"water_temperature\", \"value\": null}, {\"timestamp_utc\": \"2009-06-30T00:00:00+00:00\", \"variable\": \"water_temperature\", \"value\": null}, {\"timestamp_utc\": \"2009-07-31T00:00:00+00:00\", \"variable\": \"water_temperature\", \"value\": null}, {\"timestamp_utc\": \"2009-08-31T00:00:00+00:00\", \"variable\": \"water_temperature\", \"value\": null}, {\"timestamp_utc\": \"2009-09-30T00:00:00+00:00\", \"variable\": \"water_temperature\", \"value\": null}, {\"timestamp_utc\": \"2009-10-31T00:00:00+00:00\", \"variable\": \"water_temperature\", \"value\": 12.597555555555555}, {\"timestamp_utc\": \"2009-11-30T00:00:00+00:00\", \"variable\": \"water_temperature\", \"value\": 12.519166666666672}, {\"timestamp_utc\": \"2009-12-31T00:00:00+00:00\", \"variable\": \"water_temperature\", \"value\": 12.441111111111113}, {\"timestamp_utc\": \"2010-01-31T00:00:00+00:00\", \"variable\": \"water_temperature\", \"value\": 12.380833333333333}, {\"timestamp_utc\": \"2010-02-28T00:00:00+00:00\", \"variable\": \"water_temperature\", \"value\": 12.351555555555558}, {\"timestamp_utc\": \"2010-03-31T00:00:00+00:00\", \"variable\": \"water_temperature\", \"value\": 12.359611111111107}, {\"timestamp_utc\": \"2010-04-30T00:00:00+00:00\", \"variable\": \"water_temperature\", \"value\": 12.404166666666665}, {\"timestamp_utc\": \"2010-05-31T00:00:00+00:00\", \"variable\": \"water_temperature\", \"value\": 12.475388888888888}, {\"timestamp_utc\": \"2010-06-30T00:00:00+00:00\", \"variable\": \"water_temperature\", \"value\": 12.553555555555555}, {\"timestamp_utc\": \"2010-07-31T00:00:00+00:00\", \"variable\": \"water_temperature\", \"value\": 12.616944444444446}, {\"timestamp_utc\": \"2010-08-31T00:00:00+00:00\", \"variable\": \"water_temperature\", \"value\": 12.649055555555558}, {\"timestamp_utc\": \"2010-09-30T00:00:00+00:00\", \"variable\": \"water_temperature\", \"value\": 12.64338888888889}, {\"timestamp_utc\": \"2010-10-31T00:00:00+00:00\", \"variable\": \"water_temperature\", \"value\": 12.6055}, {\"timestamp_utc\": \"2010-11-30T00:00:00+00:00\", \"variable\": \"water_temperature\", \"value\": 12.545277777777777}, {\"timestamp_utc\": \"2010-12-31T00:00:00+00:00\", \"variable\": \"water_temperature\", \"value\": 12.480722222222218}, {\"timestamp_utc\": \"2011-01-31T00:00:00+00:00\", \"variable\": \"water_temperature\", \"value\": 12.432944444444447}, {\"timestamp_utc\": \"2011-02-28T00:00:00+00:00\", \"variable\": \"water_temperature\", \"value\": 12.416666666666668}, {\"timestamp_utc\": \"2011-03-31T00:00:00+00:00\", \"variable\": \"water_temperature\", \"value\": 12.43866666666666}, {\"timestamp_utc\": \"2011-04-30T00:00:00+00:00\", \"variable\": \"water_temperature\", \"value\": 12.49605555555556}, {\"timestamp_utc\": \"2011-05-31T00:00:00+00:00\", \"variable\": \"water_temperature\", \"value\": 12.572555555555553}, {\"timestamp_utc\": \"2011-06-30T00:00:00+00:00\", \"variable\": \"water_temperature\", \"value\": 12.64488888888889}, {\"timestamp_utc\": \"2011-07-31T00:00:00+00:00\", \"variable\": \"water_temperature\", \"value\": 12.695222222222226}, {\"timestamp_utc\": \"2011-08-31T00:00:00+00:00\", \"variable\": \"water_temperature\", \"value\": 12.714055555555555}, {\"timestamp_utc\": \"2011-09-30T00:00:00+00:00\", \"variable\": \"water_temperature\", \"value\": 12.696777777777783}, {\"timestamp_utc\": \"2011-10-31T00:00:00+00:00\", \"variable\": \"water_temperature\", \"value\": 12.643611111111111}, {\"timestamp_utc\": \"2011-11-30T00:00:00+00:00\", \"variable\": \"water_temperature\", \"value\": 12.569611111111113}, {\"timestamp_utc\": \"2011-12-31T00:00:00+00:00\", \"variable\": \"water_temperature\", \"value\": 12.495666666666668}, {\"timestamp_utc\": \"2012-01-31T00:00:00+00:00\", \"variable\": \"water_temperature\", \"value\": 12.439944444444446}, {\"timestamp_utc\": \"2012-02-29T00:00:00+00:00\", \"variable\": \"water_temperature\", \"value\": 12.416222222222228}, {\"timestamp_utc\": \"2012-03-31T00:00:00+00:00\", \"variable\": \"water_temperature\", \"value\": 12.429333333333329}, {\"timestamp_utc\": \"2012-04-30T00:00:00+00:00\", \"variable\": \"water_temperature\", \"value\": 12.476499999999998}, {\"timestamp_utc\": \"2012-05-31T00:00:00+00:00\", \"variable\": \"water_temperature\", \"value\": 12.54744444444445}, {\"timestamp_utc\": \"2012-06-30T00:00:00+00:00\", \"variable\": \"water_temperature\", \"value\": 12.625333333333327}, {\"timestamp_utc\": \"2012-07-31T00:00:00+00:00\", \"variable\": \"water_temperature\", \"value\": 12.689277777777779}, {\"timestamp_utc\": \"2012-08-31T00:00:00+00:00\", \"variable\": \"water_temperature\", \"value\": 12.72427777777778}, {\"timestamp_utc\": \"2012-09-30T00:00:00+00:00\", \"variable\": \"water_temperature\", \"value\": 12.721499999999997}, {\"timestamp_utc\": \"2012-10-31T00:00:00+00:00\", \"variable\": \"water_temperature\", \"value\": 12.68122222222222}, {\"timestamp_utc\": \"2012-11-30T00:00:00+00:00\", \"variable\": \"water_temperature\", \"value\": 12.615888888888886}, {\"timestamp_utc\": \"2012-12-31T00:00:00+00:00\", \"variable\": \"water_temperature\", \"value\": 12.54561111111111}, {\"timestamp_utc\": \"2013-01-31T00:00:00+00:00\", \"variable\": \"water_temperature\", \"value\": 12.491611111111112}, {\"timestamp_utc\": \"2013-02-28T00:00:00+00:00\", \"variable\": \"water_temperature\", \"value\": 12.470555555555555}, {\"timestamp_utc\": \"2013-03-31T00:00:00+00:00\", \"variable\": \"water_temperature\", \"value\": 12.489277777777776}, {\"timestamp_utc\": \"2013-04-30T00:00:00+00:00\", \"variable\": \"water_temperature\", \"value\": 12.543388888888892}, {\"timestamp_utc\": \"2013-05-31T00:00:00+00:00\", \"variable\": \"water_temperature\", \"value\": 12.623111111111115}, {\"timestamp_utc\": \"2013-06-30T00:00:00+00:00\", \"variable\": \"water_temperature\", \"value\": 12.711500000000001}, {\"timestamp_utc\": \"2013-07-31T00:00:00+00:00\", \"variable\": \"water_temperature\", \"value\": 12.787444444444445}, {\"timestamp_utc\": \"2013-08-31T00:00:00+00:00\", \"variable\": \"water_temperature\", \"value\": 12.834444444444447}, {\"timestamp_utc\": \"2013-09-30T00:00:00+00:00\", \"variable\": \"water_temperature\", \"value\": 12.843944444444444}, {\"timestamp_utc\": \"2013-10-31T00:00:00+00:00\", \"variable\": \"water_temperature\", \"value\": 12.817888888888884}, {\"timestamp_utc\": \"2013-11-30T00:00:00+00:00\", \"variable\": \"water_temperature\", \"value\": 12.770888888888893}, {\"timestamp_utc\": \"2013-12-31T00:00:00+00:00\", \"variable\": \"water_temperature\", \"value\": 12.724666666666671}, {\"timestamp_utc\": \"2014-01-31T00:00:00+00:00\", \"variable\": \"water_temperature\", \"value\": 12.698222222222224}, {\"timestamp_utc\": \"2014-02-28T00:00:00+00:00\", \"variable\": \"water_temperature\", \"value\": 12.703333333333337}, {\"timestamp_utc\": \"2014-03-31T00:00:00+00:00\", \"variable\": \"water_temperature\", \"value\": 12.745388888888893}, {\"timestamp_utc\": \"2014-04-30T00:00:00+00:00\", \"variable\": \"water_temperature\", \"value\": 12.822888888888887}, {\"timestamp_utc\": \"2014-05-31T00:00:00+00:00\", \"variable\": \"water_temperature\", \"value\": 12.920777777777777}, {\"timestamp_utc\": \"2014-06-30T00:00:00+00:00\", \"variable\": \"water_temperature\", \"value\": 13.019222222222215}, {\"timestamp_utc\": \"2014-07-31T00:00:00+00:00\", \"variable\": \"water_temperature\", \"value\": 13.099000000000002}, {\"timestamp_utc\": \"2014-08-31T00:00:00+00:00\", \"variable\": \"water_temperature\", \"value\": 13.146333333333336}, {\"timestamp_utc\": \"2014-09-30T00:00:00+00:00\", \"variable\": \"water_temperature\", \"value\": 13.158999999999999}, {\"timestamp_utc\": \"2014-10-31T00:00:00+00:00\", \"variable\": \"water_temperature\", \"value\": 13.139666666666665}, {\"timestamp_utc\": \"2014-11-30T00:00:00+00:00\", \"variable\": \"water_temperature\", \"value\": 13.096722222222224}, {\"timestamp_utc\": \"2014-12-31T00:00:00+00:00\", \"variable\": \"water_temperature\", \"value\": 13.047111111111114}, {\"timestamp_utc\": \"2015-01-31T00:00:00+00:00\", \"variable\": \"water_temperature\", \"value\": 13.012777777777782}, {\"timestamp_utc\": \"2015-02-28T00:00:00+00:00\", \"variable\": \"water_temperature\", \"value\": 13.008888888888885}, {\"timestamp_utc\": \"2015-03-31T00:00:00+00:00\", \"variable\": \"water_temperature\", \"value\": 13.042499999999997}, {\"timestamp_utc\": \"2015-04-30T00:00:00+00:00\", \"variable\": \"water_temperature\", \"value\": 13.11127777777778}, {\"timestamp_utc\": \"2015-05-31T00:00:00+00:00\", \"variable\": \"water_temperature\", \"value\": 13.202500000000004}, {\"timestamp_utc\": \"2015-06-30T00:00:00+00:00\", \"variable\": \"water_temperature\", \"value\": 13.296222222222228}, {\"timestamp_utc\": \"2015-07-31T00:00:00+00:00\", \"variable\": \"water_temperature\", \"value\": 13.371333333333334}, {\"timestamp_utc\": \"2015-08-31T00:00:00+00:00\", \"variable\": \"water_temperature\", \"value\": 13.412111111111109}, {\"timestamp_utc\": \"2015-09-30T00:00:00+00:00\", \"variable\": \"water_temperature\", \"value\": 13.411833333333332}, {\"timestamp_utc\": \"2015-10-31T00:00:00+00:00\", \"variable\": \"water_temperature\", \"value\": 13.374722222222225}, {\"timestamp_utc\": \"2015-11-30T00:00:00+00:00\", \"variable\": \"water_temperature\", \"value\": 13.312944444444446}, {\"timestamp_utc\": \"2015-12-31T00:00:00+00:00\", \"variable\": \"water_temperature\", \"value\": 13.24450000000001}, {\"timestamp_utc\": \"2016-01-31T00:00:00+00:00\", \"variable\": \"water_temperature\", \"value\": 13.190222222222221}, {\"timestamp_utc\": \"2016-02-29T00:00:00+00:00\", \"variable\": \"water_temperature\", \"value\": 13.166500000000003}, {\"timestamp_utc\": \"2016-03-31T00:00:00+00:00\", \"variable\": \"water_temperature\", \"value\": 13.18116666666667}, {\"timestamp_utc\": \"2016-04-30T00:00:00+00:00\", \"variable\": \"water_temperature\", \"value\": 13.232833333333334}, {\"timestamp_utc\": \"2016-05-31T00:00:00+00:00\", \"variable\": \"water_temperature\", \"value\": 13.309277777777776}, {\"timestamp_utc\": \"2016-06-30T00:00:00+00:00\", \"variable\": \"water_temperature\", \"value\": 13.39116666666667}, {\"timestamp_utc\": \"2016-07-31T00:00:00+00:00\", \"variable\": \"water_temperature\", \"value\": 13.457833333333335}, {\"timestamp_utc\": \"2016-08-31T00:00:00+00:00\", \"variable\": \"water_temperature\", \"value\": 13.493055555555555}, {\"timestamp_utc\": \"2016-09-30T00:00:00+00:00\", \"variable\": \"water_temperature\", \"value\": 13.489444444444448}, {\"timestamp_utc\": \"2016-10-31T00:00:00+00:00\", \"variable\": \"water_temperature\", \"value\": 13.448000000000002}, {\"timestamp_utc\": \"2016-11-30T00:00:00+00:00\", \"variable\": \"water_temperature\", \"value\": 13.383555555555557}, {\"timestamp_utc\": \"2016-12-31T00:00:00+00:00\", \"variable\": \"water_temperature\", \"value\": 13.316833333333337}, {\"timestamp_utc\": \"2017-01-31T00:00:00+00:00\", \"variable\": \"water_temperature\", \"value\": 13.266944444444444}, {\"timestamp_utc\": \"2017-02-28T00:00:00+00:00\", \"variable\": \"water_temperature\", \"value\": 13.250000000000004}, {\"timestamp_utc\": \"2017-03-31T00:00:00+00:00\", \"variable\": \"water_temperature\", \"value\": 13.270722222222222}, {\"timestamp_utc\": \"2017-04-30T00:00:00+00:00\", \"variable\": \"water_temperature\", \"value\": 13.325444444444445}, {\"timestamp_utc\": \"2017-05-31T00:00:00+00:00\", \"variable\": \"water_temperature\", \"value\": 13.402444444444445}, {\"timestamp_utc\": \"2017-06-30T00:00:00+00:00\", \"variable\": \"water_temperature\", \"value\": 13.483055555555554}, {\"timestamp_utc\": \"2017-07-31T00:00:00+00:00\", \"variable\": \"water_temperature\", \"value\": 13.54533333333333}, {\"timestamp_utc\": \"2017-08-31T00:00:00+00:00\", \"variable\": \"water_temperature\", \"value\": 13.574277777777777}, {\"timestamp_utc\": \"2017-09-30T00:00:00+00:00\", \"variable\": \"water_temperature\", \"value\": 13.565722222222227}, {\"timestamp_utc\": \"2017-10-31T00:00:00+00:00\", \"variable\": \"water_temperature\", \"value\": 13.52427777777778}, {\"timestamp_utc\": \"2017-11-30T00:00:00+00:00\", \"variable\": \"water_temperature\", \"value\": 13.462722222222222}, {\"timestamp_utc\": \"2017-12-31T00:00:00+00:00\", \"variable\": \"water_temperature\", \"value\": 13.399555555555555}, {\"timestamp_utc\": \"2018-01-31T00:00:00+00:00\", \"variable\": \"water_temperature\", \"value\": 13.35466666666667}, {\"timestamp_utc\": \"2018-02-28T00:00:00+00:00\", \"variable\": \"water_temperature\", \"value\": 13.34288888888889}, {\"timestamp_utc\": \"2018-03-31T00:00:00+00:00\", \"variable\": \"water_temperature\", \"value\": 13.371444444444444}, {\"timestamp_utc\": \"2018-04-30T00:00:00+00:00\", \"variable\": \"water_temperature\", \"value\": 13.43766666666667}, {\"timestamp_utc\": \"2018-05-31T00:00:00+00:00\", \"variable\": \"water_temperature\", \"value\": 13.527222222222226}, {\"timestamp_utc\": \"2018-06-30T00:00:00+00:00\", \"variable\": \"water_temperature\", \"value\": 13.619666666666664}, {\"timestamp_utc\": \"2018-07-31T00:00:00+00:00\", \"variable\": \"water_temperature\", \"value\": 13.693666666666665}, {\"timestamp_utc\": \"2018-08-31T00:00:00+00:00\", \"variable\": \"water_temperature\", \"value\": 13.733222222222228}, {\"timestamp_utc\": \"2018-09-30T00:00:00+00:00\", \"variable\": \"water_temperature\", \"value\": 13.73155555555556}, {\"timestamp_utc\": \"2018-10-31T00:00:00+00:00\", \"variable\": \"water_temperature\", \"value\": 13.690166666666665}, {\"timestamp_utc\": \"2018-11-30T00:00:00+00:00\", \"variable\": \"water_temperature\", \"value\": 13.620166666666673}, {\"timestamp_utc\": \"2018-12-31T00:00:00+00:00\", \"variable\": \"water_temperature\", \"value\": 13.539944444444448}, {\"timestamp_utc\": \"2019-01-31T00:00:00+00:00\", \"variable\": \"water_temperature\", \"value\": 13.47327777777778}, {\"timestamp_utc\": \"2019-02-28T00:00:00+00:00\", \"variable\": \"water_temperature\", \"value\": 13.437611111111112}, {\"timestamp_utc\": \"2019-03-31T00:00:00+00:00\", \"variable\": \"water_temperature\", \"value\": 13.43838888888889}, {\"timestamp_utc\": \"2019-04-30T00:00:00+00:00\", \"variable\": \"water_temperature\", \"value\": 13.475388888888894}, {\"timestamp_utc\": \"2019-05-31T00:00:00+00:00\", \"variable\": \"water_temperature\", \"value\": 13.53666666666667}, {\"timestamp_utc\": \"2019-06-30T00:00:00+00:00\", \"variable\": \"water_temperature\", \"value\": 13.603388888888892}, {\"timestamp_utc\": \"2019-07-31T00:00:00+00:00\", \"variable\": \"water_temperature\", \"value\": 13.656111111111116}, {\"timestamp_utc\": \"2019-08-31T00:00:00+00:00\", \"variable\": \"water_temperature\", \"value\": null}, {\"timestamp_utc\": \"2019-09-30T00:00:00+00:00\", \"variable\": \"water_temperature\", \"value\": null}, {\"timestamp_utc\": \"2019-10-31T00:00:00+00:00\", \"variable\": \"water_temperature\", \"value\": null}, {\"timestamp_utc\": \"2019-11-30T00:00:00+00:00\", \"variable\": \"water_temperature\", \"value\": null}, {\"timestamp_utc\": \"2019-12-31T00:00:00+00:00\", \"variable\": \"water_temperature\", \"value\": null}, {\"timestamp_utc\": \"2020-01-31T00:00:00+00:00\", \"variable\": \"water_temperature\", \"value\": null}, {\"timestamp_utc\": \"2020-02-29T00:00:00+00:00\", \"variable\": \"water_temperature\", \"value\": null}, {\"timestamp_utc\": \"2020-03-31T00:00:00+00:00\", \"variable\": \"water_temperature\", \"value\": null}, {\"timestamp_utc\": \"2020-04-30T00:00:00+00:00\", \"variable\": \"water_temperature\", \"value\": null}, {\"timestamp_utc\": \"2020-05-31T00:00:00+00:00\", \"variable\": \"water_temperature\", \"value\": null}, {\"timestamp_utc\": \"2020-06-30T00:00:00+00:00\", \"variable\": \"water_temperature\", \"value\": null}, {\"timestamp_utc\": \"2020-07-31T00:00:00+00:00\", \"variable\": \"water_temperature\", \"value\": null}, {\"timestamp_utc\": \"2020-08-31T00:00:00+00:00\", \"variable\": \"water_temperature\", \"value\": null}, {\"timestamp_utc\": \"2020-09-30T00:00:00+00:00\", \"variable\": \"water_temperature\", \"value\": null}, {\"timestamp_utc\": \"2020-10-31T00:00:00+00:00\", \"variable\": \"water_temperature\", \"value\": null}, {\"timestamp_utc\": \"2020-11-30T00:00:00+00:00\", \"variable\": \"water_temperature\", \"value\": null}, {\"timestamp_utc\": \"2020-12-31T00:00:00+00:00\", \"variable\": \"water_temperature\", \"value\": null}, {\"timestamp_utc\": \"2021-01-31T00:00:00+00:00\", \"variable\": \"water_temperature\", \"value\": null}, {\"timestamp_utc\": \"2021-02-28T00:00:00+00:00\", \"variable\": \"water_temperature\", \"value\": null}, {\"timestamp_utc\": \"2021-03-31T00:00:00+00:00\", \"variable\": \"water_temperature\", \"value\": null}, {\"timestamp_utc\": \"2021-04-30T00:00:00+00:00\", \"variable\": \"water_temperature\", \"value\": null}, {\"timestamp_utc\": \"2021-05-31T00:00:00+00:00\", \"variable\": \"water_temperature\", \"value\": null}, {\"timestamp_utc\": \"2021-06-30T00:00:00+00:00\", \"variable\": \"water_temperature\", \"value\": null}, {\"timestamp_utc\": \"2021-07-31T00:00:00+00:00\", \"variable\": \"water_temperature\", \"value\": null}, {\"timestamp_utc\": \"2021-08-31T00:00:00+00:00\", \"variable\": \"water_temperature\", \"value\": null}, {\"timestamp_utc\": \"2021-09-30T00:00:00+00:00\", \"variable\": \"water_temperature\", \"value\": null}, {\"timestamp_utc\": \"2021-10-31T00:00:00+00:00\", \"variable\": \"water_temperature\", \"value\": null}, {\"timestamp_utc\": \"2021-11-30T00:00:00+00:00\", \"variable\": \"water_temperature\", \"value\": null}, {\"timestamp_utc\": \"2021-12-31T00:00:00+00:00\", \"variable\": \"water_temperature\", \"value\": null}], \"data-607c170a85ba936b760ed78be4b4c2a8\": [{\"timestamp_utc\": \"2007-04-30T00:00:00+00:00\", \"variable\": \"air_temperature\", \"value\": 17.0}, {\"timestamp_utc\": \"2007-05-31T00:00:00+00:00\", \"variable\": \"air_temperature\", \"value\": 15.7}, {\"timestamp_utc\": \"2007-06-30T00:00:00+00:00\", \"variable\": \"air_temperature\", \"value\": 18.6}, {\"timestamp_utc\": \"2007-07-31T00:00:00+00:00\", \"variable\": \"air_temperature\", \"value\": 18.6}, {\"timestamp_utc\": \"2007-08-31T00:00:00+00:00\", \"variable\": \"air_temperature\", \"value\": 18.0}, {\"timestamp_utc\": \"2007-09-30T00:00:00+00:00\", \"variable\": \"air_temperature\", \"value\": 14.4}, {\"timestamp_utc\": \"2007-10-31T00:00:00+00:00\", \"variable\": \"air_temperature\", \"value\": 10.0}, {\"timestamp_utc\": \"2007-11-30T00:00:00+00:00\", \"variable\": \"air_temperature\", \"value\": 5.2}, {\"timestamp_utc\": \"2007-12-31T00:00:00+00:00\", \"variable\": \"air_temperature\", \"value\": 1.45}, {\"timestamp_utc\": \"2008-01-31T00:00:00+00:00\", \"variable\": \"air_temperature\", \"value\": 3.9}, {\"timestamp_utc\": \"2008-02-29T00:00:00+00:00\", \"variable\": \"air_temperature\", \"value\": 4.6}, {\"timestamp_utc\": \"2008-03-31T00:00:00+00:00\", \"variable\": \"air_temperature\", \"value\": 3.6}, {\"timestamp_utc\": \"2008-04-30T00:00:00+00:00\", \"variable\": \"air_temperature\", \"value\": 9.7}, {\"timestamp_utc\": \"2008-05-31T00:00:00+00:00\", \"variable\": \"air_temperature\", \"value\": 16.3}, {\"timestamp_utc\": \"2008-06-30T00:00:00+00:00\", \"variable\": \"air_temperature\", \"value\": 17.9}, {\"timestamp_utc\": \"2008-07-31T00:00:00+00:00\", \"variable\": \"air_temperature\", \"value\": 19.5}, {\"timestamp_utc\": \"2008-08-31T00:00:00+00:00\", \"variable\": \"air_temperature\", \"value\": 18.9}, {\"timestamp_utc\": \"2008-09-30T00:00:00+00:00\", \"variable\": \"air_temperature\", \"value\": 13.3}, {\"timestamp_utc\": \"2008-10-31T00:00:00+00:00\", \"variable\": \"air_temperature\", \"value\": 12.2}, {\"timestamp_utc\": \"2008-11-30T00:00:00+00:00\", \"variable\": \"air_temperature\", \"value\": 6.4}, {\"timestamp_utc\": \"2008-12-31T00:00:00+00:00\", \"variable\": \"air_temperature\", \"value\": 1.7}, {\"timestamp_utc\": \"2009-01-31T00:00:00+00:00\", \"variable\": \"air_temperature\", \"value\": 0.1}, {\"timestamp_utc\": \"2009-02-28T00:00:00+00:00\", \"variable\": \"air_temperature\", \"value\": 1.7}, {\"timestamp_utc\": \"2009-03-31T00:00:00+00:00\", \"variable\": \"air_temperature\", \"value\": 3.6}, {\"timestamp_utc\": \"2009-04-30T00:00:00+00:00\", \"variable\": \"air_temperature\", \"value\": 12.35}, {\"timestamp_utc\": \"2009-05-31T00:00:00+00:00\", \"variable\": \"air_temperature\", \"value\": 16.0}, {\"timestamp_utc\": \"2009-06-30T00:00:00+00:00\", \"variable\": \"air_temperature\", \"value\": 17.9}, {\"timestamp_utc\": \"2009-07-31T00:00:00+00:00\", \"variable\": \"air_temperature\", \"value\": 19.8}, {\"timestamp_utc\": \"2009-08-31T00:00:00+00:00\", \"variable\": \"air_temperature\", \"value\": 20.9}, {\"timestamp_utc\": \"2009-09-30T00:00:00+00:00\", \"variable\": \"air_temperature\", \"value\": 16.6}, {\"timestamp_utc\": \"2009-10-31T00:00:00+00:00\", \"variable\": \"air_temperature\", \"value\": 10.6}, {\"timestamp_utc\": \"2009-11-30T00:00:00+00:00\", \"variable\": \"air_temperature\", \"value\": 8.4}, {\"timestamp_utc\": \"2009-12-31T00:00:00+00:00\", \"variable\": \"air_temperature\", \"value\": 3.3}, {\"timestamp_utc\": \"2010-01-31T00:00:00+00:00\", \"variable\": \"air_temperature\", \"value\": -0.4}, {\"timestamp_utc\": \"2010-02-28T00:00:00+00:00\", \"variable\": \"air_temperature\", \"value\": 2.4}, {\"timestamp_utc\": \"2010-03-31T00:00:00+00:00\", \"variable\": \"air_temperature\", \"value\": 2.4}, {\"timestamp_utc\": \"2010-04-30T00:00:00+00:00\", \"variable\": \"air_temperature\", \"value\": 10.0}, {\"timestamp_utc\": \"2010-05-31T00:00:00+00:00\", \"variable\": \"air_temperature\", \"value\": 11.6}, {\"timestamp_utc\": \"2010-06-30T00:00:00+00:00\", \"variable\": \"air_temperature\", \"value\": 17.6}, {\"timestamp_utc\": \"2010-07-31T00:00:00+00:00\", \"variable\": \"air_temperature\", \"value\": 20.7}, {\"timestamp_utc\": \"2010-08-31T00:00:00+00:00\", \"variable\": \"air_temperature\", \"value\": 18.0}, {\"timestamp_utc\": \"2010-09-30T00:00:00+00:00\", \"variable\": \"air_temperature\", \"value\": 14.4}, {\"timestamp_utc\": \"2010-10-31T00:00:00+00:00\", \"variable\": \"air_temperature\", \"value\": 9.3}, {\"timestamp_utc\": \"2010-11-30T00:00:00+00:00\", \"variable\": \"air_temperature\", \"value\": 5.75}, {\"timestamp_utc\": \"2010-12-31T00:00:00+00:00\", \"variable\": \"air_temperature\", \"value\": 0.8}, {\"timestamp_utc\": \"2011-01-31T00:00:00+00:00\", \"variable\": \"air_temperature\", \"value\": 1.6}, {\"timestamp_utc\": \"2011-02-28T00:00:00+00:00\", \"variable\": \"air_temperature\", \"value\": 3.6}, {\"timestamp_utc\": \"2011-03-31T00:00:00+00:00\", \"variable\": \"air_temperature\", \"value\": 7.2}, {\"timestamp_utc\": \"2011-04-30T00:00:00+00:00\", \"variable\": \"air_temperature\", \"value\": 12.9}, {\"timestamp_utc\": \"2011-05-31T00:00:00+00:00\", \"variable\": \"air_temperature\", \"value\": 16.4}, {\"timestamp_utc\": \"2011-06-30T00:00:00+00:00\", \"variable\": \"air_temperature\", \"value\": 17.5}, {\"timestamp_utc\": \"2011-07-31T00:00:00+00:00\", \"variable\": \"air_temperature\", \"value\": 17.5}, {\"timestamp_utc\": \"2011-08-31T00:00:00+00:00\", \"variable\": \"air_temperature\", \"value\": 20.2}, {\"timestamp_utc\": \"2011-09-30T00:00:00+00:00\", \"variable\": \"air_temperature\", \"value\": 17.9}, {\"timestamp_utc\": \"2011-10-31T00:00:00+00:00\", \"variable\": \"air_temperature\", \"value\": 10.2}, {\"timestamp_utc\": \"2011-11-30T00:00:00+00:00\", \"variable\": \"air_temperature\", \"value\": 6.3}, {\"timestamp_utc\": \"2011-12-31T00:00:00+00:00\", \"variable\": \"air_temperature\", \"value\": 5.2}, {\"timestamp_utc\": \"2012-01-31T00:00:00+00:00\", \"variable\": \"air_temperature\", \"value\": 3.6}, {\"timestamp_utc\": \"2012-02-29T00:00:00+00:00\", \"variable\": \"air_temperature\", \"value\": -1.3}, {\"timestamp_utc\": \"2012-03-31T00:00:00+00:00\", \"variable\": \"air_temperature\", \"value\": 7.2}, {\"timestamp_utc\": \"2012-04-30T00:00:00+00:00\", \"variable\": \"air_temperature\", \"value\": 8.7}, {\"timestamp_utc\": \"2012-05-31T00:00:00+00:00\", \"variable\": \"air_temperature\", \"value\": 15.1}, {\"timestamp_utc\": \"2012-06-30T00:00:00+00:00\", \"variable\": \"air_temperature\", \"value\": 18.0}, {\"timestamp_utc\": \"2012-07-31T00:00:00+00:00\", \"variable\": \"air_temperature\", \"value\": 18.85}, {\"timestamp_utc\": \"2012-08-31T00:00:00+00:00\", \"variable\": \"air_temperature\", \"value\": 20.7}, {\"timestamp_utc\": \"2012-09-30T00:00:00+00:00\", \"variable\": \"air_temperature\", \"value\": 15.3}, {\"timestamp_utc\": \"2012-10-31T00:00:00+00:00\", \"variable\": \"air_temperature\", \"value\": 11.5}, {\"timestamp_utc\": \"2012-11-30T00:00:00+00:00\", \"variable\": \"air_temperature\", \"value\": 7.4}, {\"timestamp_utc\": \"2012-12-31T00:00:00+00:00\", \"variable\": \"air_temperature\", \"value\": 3.4}, {\"timestamp_utc\": \"2013-01-31T00:00:00+00:00\", \"variable\": \"air_temperature\", \"value\": 1.5}, {\"timestamp_utc\": \"2013-02-28T00:00:00+00:00\", \"variable\": \"air_temperature\", \"value\": 0.2}, {\"timestamp_utc\": \"2013-03-31T00:00:00+00:00\", \"variable\": \"air_temperature\", \"value\": 3.3}, {\"timestamp_utc\": \"2013-04-30T00:00:00+00:00\", \"variable\": \"air_temperature\", \"value\": 8.8}, {\"timestamp_utc\": \"2013-05-31T00:00:00+00:00\", \"variable\": \"air_temperature\", \"value\": 11.5}, {\"timestamp_utc\": \"2013-06-30T00:00:00+00:00\", \"variable\": \"air_temperature\", \"value\": 16.0}, {\"timestamp_utc\": \"2013-07-31T00:00:00+00:00\", \"variable\": \"air_temperature\", \"value\": 21.9}, {\"timestamp_utc\": \"2013-08-31T00:00:00+00:00\", \"variable\": \"air_temperature\", \"value\": 19.6}, {\"timestamp_utc\": \"2013-09-30T00:00:00+00:00\", \"variable\": \"air_temperature\", \"value\": 15.6}, {\"timestamp_utc\": \"2013-10-31T00:00:00+00:00\", \"variable\": \"air_temperature\", \"value\": 12.8}, {\"timestamp_utc\": \"2013-11-30T00:00:00+00:00\", \"variable\": \"air_temperature\", \"value\": 4.7}, {\"timestamp_utc\": \"2013-12-31T00:00:00+00:00\", \"variable\": \"air_temperature\", \"value\": 2.1}, {\"timestamp_utc\": \"2014-01-31T00:00:00+00:00\", \"variable\": \"air_temperature\", \"value\": 4.2}, {\"timestamp_utc\": \"2014-02-28T00:00:00+00:00\", \"variable\": \"air_temperature\", \"value\": 4.9}, {\"timestamp_utc\": \"2014-03-31T00:00:00+00:00\", \"variable\": \"air_temperature\", \"value\": 6.9}, {\"timestamp_utc\": \"2014-04-30T00:00:00+00:00\", \"variable\": \"air_temperature\", \"value\": 11.6}, {\"timestamp_utc\": \"2014-05-31T00:00:00+00:00\", \"variable\": \"air_temperature\", \"value\": 13.7}, {\"timestamp_utc\": \"2014-06-30T00:00:00+00:00\", \"variable\": \"air_temperature\", \"value\": 19.0}, {\"timestamp_utc\": \"2014-07-31T00:00:00+00:00\", \"variable\": \"air_temperature\", \"value\": 18.4}, {\"timestamp_utc\": \"2014-08-31T00:00:00+00:00\", \"variable\": \"air_temperature\", \"value\": 17.5}, {\"timestamp_utc\": \"2014-09-30T00:00:00+00:00\", \"variable\": \"air_temperature\", \"value\": 16.6}, {\"timestamp_utc\": \"2014-10-31T00:00:00+00:00\", \"variable\": \"air_temperature\", \"value\": 14.2}, {\"timestamp_utc\": \"2014-11-30T00:00:00+00:00\", \"variable\": \"air_temperature\", \"value\": 8.0}, {\"timestamp_utc\": \"2014-12-31T00:00:00+00:00\", \"variable\": \"air_temperature\", \"value\": 4.4}, {\"timestamp_utc\": \"2015-01-31T00:00:00+00:00\", \"variable\": \"air_temperature\", \"value\": 2.3}, {\"timestamp_utc\": \"2015-02-28T00:00:00+00:00\", \"variable\": \"air_temperature\", \"value\": 0.5}, {\"timestamp_utc\": \"2015-03-31T00:00:00+00:00\", \"variable\": \"air_temperature\", \"value\": 6.8}, {\"timestamp_utc\": \"2015-04-30T00:00:00+00:00\", \"variable\": \"air_temperature\", \"value\": 11.0}, {\"timestamp_utc\": \"2015-05-31T00:00:00+00:00\", \"variable\": \"air_temperature\", \"value\": 14.5}, {\"timestamp_utc\": \"2015-06-30T00:00:00+00:00\", \"variable\": \"air_temperature\", \"value\": 18.5}, {\"timestamp_utc\": \"2015-07-31T00:00:00+00:00\", \"variable\": \"air_temperature\", \"value\": 22.9}, {\"timestamp_utc\": \"2015-08-31T00:00:00+00:00\", \"variable\": \"air_temperature\", \"value\": 20.9}, {\"timestamp_utc\": \"2015-09-30T00:00:00+00:00\", \"variable\": \"air_temperature\", \"value\": 14.5}, {\"timestamp_utc\": \"2015-10-31T00:00:00+00:00\", \"variable\": \"air_temperature\", \"value\": 10.7}, {\"timestamp_utc\": \"2015-11-30T00:00:00+00:00\", \"variable\": \"air_temperature\", \"value\": 9.3}, {\"timestamp_utc\": \"2015-12-31T00:00:00+00:00\", \"variable\": \"air_temperature\", \"value\": 4.9}, {\"timestamp_utc\": \"2016-01-31T00:00:00+00:00\", \"variable\": \"air_temperature\", \"value\": 4.7}, {\"timestamp_utc\": \"2016-02-29T00:00:00+00:00\", \"variable\": \"air_temperature\", \"value\": 4.1}, {\"timestamp_utc\": \"2016-03-31T00:00:00+00:00\", \"variable\": \"air_temperature\", \"value\": 5.2}, {\"timestamp_utc\": \"2016-04-30T00:00:00+00:00\", \"variable\": \"air_temperature\", \"value\": 9.8}, {\"timestamp_utc\": \"2016-05-31T00:00:00+00:00\", \"variable\": \"air_temperature\", \"value\": 13.5}, {\"timestamp_utc\": \"2016-06-30T00:00:00+00:00\", \"variable\": \"air_temperature\", \"value\": 17.0}, {\"timestamp_utc\": \"2016-07-31T00:00:00+00:00\", \"variable\": \"air_temperature\", \"value\": 21.0}, {\"timestamp_utc\": \"2016-08-31T00:00:00+00:00\", \"variable\": \"air_temperature\", \"value\": 20.1}, {\"timestamp_utc\": \"2016-09-30T00:00:00+00:00\", \"variable\": \"air_temperature\", \"value\": 17.7}, {\"timestamp_utc\": \"2016-10-31T00:00:00+00:00\", \"variable\": \"air_temperature\", \"value\": 9.8}, {\"timestamp_utc\": \"2016-11-30T00:00:00+00:00\", \"variable\": \"air_temperature\", \"value\": 6.9}, {\"timestamp_utc\": \"2016-12-31T00:00:00+00:00\", \"variable\": \"air_temperature\", \"value\": 1.3}, {\"timestamp_utc\": \"2017-01-31T00:00:00+00:00\", \"variable\": \"air_temperature\", \"value\": -1.5}, {\"timestamp_utc\": \"2017-02-28T00:00:00+00:00\", \"variable\": \"air_temperature\", \"value\": 4.1}, {\"timestamp_utc\": \"2017-03-31T00:00:00+00:00\", \"variable\": \"air_temperature\", \"value\": 8.7}, {\"timestamp_utc\": \"2017-04-30T00:00:00+00:00\", \"variable\": \"air_temperature\", \"value\": 10.4}, {\"timestamp_utc\": \"2017-05-31T00:00:00+00:00\", \"variable\": \"air_temperature\", \"value\": 15.5}, {\"timestamp_utc\": \"2017-06-30T00:00:00+00:00\", \"variable\": \"air_temperature\", \"value\": 20.9}, {\"timestamp_utc\": \"2017-07-31T00:00:00+00:00\", \"variable\": \"air_temperature\", \"value\": 20.2}, {\"timestamp_utc\": \"2017-08-31T00:00:00+00:00\", \"variable\": \"air_temperature\", \"value\": 20.5}, {\"timestamp_utc\": \"2017-09-30T00:00:00+00:00\", \"variable\": \"air_temperature\", \"value\": 14.4}, {\"timestamp_utc\": \"2017-10-31T00:00:00+00:00\", \"variable\": \"air_temperature\", \"value\": 12.0}, {\"timestamp_utc\": \"2017-11-30T00:00:00+00:00\", \"variable\": \"air_temperature\", \"value\": 5.8}, {\"timestamp_utc\": \"2017-12-31T00:00:00+00:00\", \"variable\": \"air_temperature\", \"value\": 2.6}, {\"timestamp_utc\": \"2018-01-31T00:00:00+00:00\", \"variable\": \"air_temperature\", \"value\": 6.1}, {\"timestamp_utc\": \"2018-02-28T00:00:00+00:00\", \"variable\": \"air_temperature\", \"value\": 1.0}, {\"timestamp_utc\": \"2018-03-31T00:00:00+00:00\", \"variable\": \"air_temperature\", \"value\": 5.5}, {\"timestamp_utc\": \"2018-04-30T00:00:00+00:00\", \"variable\": \"air_temperature\", \"value\": 13.2}, {\"timestamp_utc\": \"2018-05-31T00:00:00+00:00\", \"variable\": \"air_temperature\", \"value\": 16.2}, {\"timestamp_utc\": \"2018-06-30T00:00:00+00:00\", \"variable\": \"air_temperature\", \"value\": 19.9}, {\"timestamp_utc\": \"2018-07-31T00:00:00+00:00\", \"variable\": \"air_temperature\", \"value\": 22.0}, {\"timestamp_utc\": \"2018-08-31T00:00:00+00:00\", \"variable\": \"air_temperature\", \"value\": 22.1}, {\"timestamp_utc\": \"2018-09-30T00:00:00+00:00\", \"variable\": \"air_temperature\", \"value\": 17.4}, {\"timestamp_utc\": \"2018-10-31T00:00:00+00:00\", \"variable\": \"air_temperature\", \"value\": 12.6}, {\"timestamp_utc\": \"2018-11-30T00:00:00+00:00\", \"variable\": \"air_temperature\", \"value\": 7.2}, {\"timestamp_utc\": \"2018-12-31T00:00:00+00:00\", \"variable\": \"air_temperature\", \"value\": 5.1}, {\"timestamp_utc\": \"2019-01-31T00:00:00+00:00\", \"variable\": \"air_temperature\", \"value\": 1.9}, {\"timestamp_utc\": \"2019-02-28T00:00:00+00:00\", \"variable\": \"air_temperature\", \"value\": 3.8}, {\"timestamp_utc\": \"2019-03-31T00:00:00+00:00\", \"variable\": \"air_temperature\", \"value\": 7.7}, {\"timestamp_utc\": \"2019-04-30T00:00:00+00:00\", \"variable\": \"air_temperature\", \"value\": 9.6}, {\"timestamp_utc\": \"2019-05-31T00:00:00+00:00\", \"variable\": \"air_temperature\", \"value\": 12.1}, {\"timestamp_utc\": \"2019-06-30T00:00:00+00:00\", \"variable\": \"air_temperature\", \"value\": 20.3}, {\"timestamp_utc\": \"2019-07-31T00:00:00+00:00\", \"variable\": \"air_temperature\", \"value\": 21.8}, {\"timestamp_utc\": \"2019-08-31T00:00:00+00:00\", \"variable\": \"air_temperature\", \"value\": 20.1}, {\"timestamp_utc\": \"2019-09-30T00:00:00+00:00\", \"variable\": \"air_temperature\", \"value\": 16.1}, {\"timestamp_utc\": \"2019-10-31T00:00:00+00:00\", \"variable\": \"air_temperature\", \"value\": 13.2}, {\"timestamp_utc\": \"2019-11-30T00:00:00+00:00\", \"variable\": \"air_temperature\", \"value\": 6.6}, {\"timestamp_utc\": \"2019-12-31T00:00:00+00:00\", \"variable\": \"air_temperature\", \"value\": 5.2}, {\"timestamp_utc\": \"2020-01-31T00:00:00+00:00\", \"variable\": \"air_temperature\", \"value\": 3.8}, {\"timestamp_utc\": \"2020-02-29T00:00:00+00:00\", \"variable\": \"air_temperature\", \"value\": 6.6}, {\"timestamp_utc\": \"2020-03-31T00:00:00+00:00\", \"variable\": \"air_temperature\", \"value\": 6.5}, {\"timestamp_utc\": \"2020-04-30T00:00:00+00:00\", \"variable\": \"air_temperature\", \"value\": 13.6}, {\"timestamp_utc\": \"2020-05-31T00:00:00+00:00\", \"variable\": \"air_temperature\", \"value\": 15.1}, {\"timestamp_utc\": \"2020-06-30T00:00:00+00:00\", \"variable\": \"air_temperature\", \"value\": 17.2}, {\"timestamp_utc\": \"2020-07-31T00:00:00+00:00\", \"variable\": \"air_temperature\", \"value\": 21.0}, {\"timestamp_utc\": \"2020-08-31T00:00:00+00:00\", \"variable\": \"air_temperature\", \"value\": 21.3}, {\"timestamp_utc\": \"2020-09-30T00:00:00+00:00\", \"variable\": \"air_temperature\", \"value\": 17.8}, {\"timestamp_utc\": \"2020-10-31T00:00:00+00:00\", \"variable\": \"air_temperature\", \"value\": 11.4}, {\"timestamp_utc\": \"2020-11-30T00:00:00+00:00\", \"variable\": \"air_temperature\", \"value\": 7.3}, {\"timestamp_utc\": \"2020-12-31T00:00:00+00:00\", \"variable\": \"air_temperature\", \"value\": 2.9}, {\"timestamp_utc\": \"2021-01-31T00:00:00+00:00\", \"variable\": \"air_temperature\", \"value\": 1.8}, {\"timestamp_utc\": \"2021-02-28T00:00:00+00:00\", \"variable\": \"air_temperature\", \"value\": 5.3}, {\"timestamp_utc\": \"2021-03-31T00:00:00+00:00\", \"variable\": \"air_temperature\", \"value\": 5.4}, {\"timestamp_utc\": \"2021-04-30T00:00:00+00:00\", \"variable\": \"air_temperature\", \"value\": 9.2}, {\"timestamp_utc\": \"2021-05-31T00:00:00+00:00\", \"variable\": \"air_temperature\", \"value\": 11.5}, {\"timestamp_utc\": \"2021-06-30T00:00:00+00:00\", \"variable\": \"air_temperature\", \"value\": 19.3}, {\"timestamp_utc\": \"2021-07-31T00:00:00+00:00\", \"variable\": \"air_temperature\", \"value\": 18.8}, {\"timestamp_utc\": \"2021-08-31T00:00:00+00:00\", \"variable\": \"air_temperature\", \"value\": 17.8}, {\"timestamp_utc\": \"2021-09-30T00:00:00+00:00\", \"variable\": \"air_temperature\", \"value\": 17.5}, {\"timestamp_utc\": \"2021-10-31T00:00:00+00:00\", \"variable\": \"air_temperature\", \"value\": 10.7}, {\"timestamp_utc\": \"2021-11-30T00:00:00+00:00\", \"variable\": \"air_temperature\", \"value\": 5.3}, {\"timestamp_utc\": \"2021-12-31T00:00:00+00:00\", \"variable\": \"air_temperature\", \"value\": 3.6}, {\"timestamp_utc\": \"2007-04-30T00:00:00+00:00\", \"variable\": \"water_temperature\", \"value\": 15.2}, {\"timestamp_utc\": \"2007-05-31T00:00:00+00:00\", \"variable\": \"water_temperature\", \"value\": 16.1}, {\"timestamp_utc\": \"2007-06-30T00:00:00+00:00\", \"variable\": \"water_temperature\", \"value\": 20.3}, {\"timestamp_utc\": \"2007-07-31T00:00:00+00:00\", \"variable\": \"water_temperature\", \"value\": 20.1}, {\"timestamp_utc\": \"2007-08-31T00:00:00+00:00\", \"variable\": \"water_temperature\", \"value\": 21.0}, {\"timestamp_utc\": \"2007-09-30T00:00:00+00:00\", \"variable\": \"water_temperature\", \"value\": 18.4}, {\"timestamp_utc\": \"2007-10-31T00:00:00+00:00\", \"variable\": \"water_temperature\", \"value\": 15.8}, {\"timestamp_utc\": \"2007-11-30T00:00:00+00:00\", \"variable\": \"water_temperature\", \"value\": 8.6}, {\"timestamp_utc\": \"2007-12-31T00:00:00+00:00\", \"variable\": \"water_temperature\", \"value\": 6.8}, {\"timestamp_utc\": \"2008-01-31T00:00:00+00:00\", \"variable\": \"water_temperature\", \"value\": 5.3}, {\"timestamp_utc\": \"2008-02-29T00:00:00+00:00\", \"variable\": \"water_temperature\", \"value\": 5.0}, {\"timestamp_utc\": \"2008-03-31T00:00:00+00:00\", \"variable\": \"water_temperature\", \"value\": 5.1}, {\"timestamp_utc\": \"2008-04-30T00:00:00+00:00\", \"variable\": \"water_temperature\", \"value\": 7.7}, {\"timestamp_utc\": \"2008-05-31T00:00:00+00:00\", \"variable\": \"water_temperature\", \"value\": 15.3}, {\"timestamp_utc\": \"2008-06-30T00:00:00+00:00\", \"variable\": \"water_temperature\", \"value\": 18.3}, {\"timestamp_utc\": \"2008-07-31T00:00:00+00:00\", \"variable\": \"water_temperature\", \"value\": 21.6}, {\"timestamp_utc\": \"2008-08-31T00:00:00+00:00\", \"variable\": \"water_temperature\", \"value\": 21.4}, {\"timestamp_utc\": \"2008-09-30T00:00:00+00:00\", \"variable\": \"water_temperature\", \"value\": 18.0}, {\"timestamp_utc\": \"2008-10-31T00:00:00+00:00\", \"variable\": \"water_temperature\", \"value\": 14.2}, {\"timestamp_utc\": \"2008-11-30T00:00:00+00:00\", \"variable\": \"water_temperature\", \"value\": 10.7}, {\"timestamp_utc\": \"2008-12-31T00:00:00+00:00\", \"variable\": \"water_temperature\", \"value\": 6.6}, {\"timestamp_utc\": \"2009-01-31T00:00:00+00:00\", \"variable\": \"water_temperature\", \"value\": 4.8}, {\"timestamp_utc\": \"2009-02-28T00:00:00+00:00\", \"variable\": \"water_temperature\", \"value\": 4.3}, {\"timestamp_utc\": \"2009-03-31T00:00:00+00:00\", \"variable\": \"water_temperature\", \"value\": 4.4}, {\"timestamp_utc\": \"2009-04-30T00:00:00+00:00\", \"variable\": \"water_temperature\", \"value\": 12.1}, {\"timestamp_utc\": \"2009-05-31T00:00:00+00:00\", \"variable\": \"water_temperature\", \"value\": 15.4}, {\"timestamp_utc\": \"2009-06-30T00:00:00+00:00\", \"variable\": \"water_temperature\", \"value\": 18.9}, {\"timestamp_utc\": \"2009-07-31T00:00:00+00:00\", \"variable\": \"water_temperature\", \"value\": 21.3}, {\"timestamp_utc\": \"2009-08-31T00:00:00+00:00\", \"variable\": \"water_temperature\", \"value\": 22.4}, {\"timestamp_utc\": \"2009-09-30T00:00:00+00:00\", \"variable\": \"water_temperature\", \"value\": 19.3}, {\"timestamp_utc\": \"2009-10-31T00:00:00+00:00\", \"variable\": \"water_temperature\", \"value\": 15.1}, {\"timestamp_utc\": \"2009-11-30T00:00:00+00:00\", \"variable\": \"water_temperature\", \"value\": 11.0}, {\"timestamp_utc\": \"2009-12-31T00:00:00+00:00\", \"variable\": \"water_temperature\", \"value\": 7.1}, {\"timestamp_utc\": \"2010-01-31T00:00:00+00:00\", \"variable\": \"water_temperature\", \"value\": 4.8}, {\"timestamp_utc\": \"2010-02-28T00:00:00+00:00\", \"variable\": \"water_temperature\", \"value\": 4.1}, {\"timestamp_utc\": \"2010-03-31T00:00:00+00:00\", \"variable\": \"water_temperature\", \"value\": 4.3}, {\"timestamp_utc\": \"2010-04-30T00:00:00+00:00\", \"variable\": \"water_temperature\", \"value\": 6.4}, {\"timestamp_utc\": \"2010-05-31T00:00:00+00:00\", \"variable\": \"water_temperature\", \"value\": 12.5}, {\"timestamp_utc\": \"2010-06-30T00:00:00+00:00\", \"variable\": \"water_temperature\", \"value\": 17.0}, {\"timestamp_utc\": \"2010-07-31T00:00:00+00:00\", \"variable\": \"water_temperature\", \"value\": 23.2}, {\"timestamp_utc\": \"2010-08-31T00:00:00+00:00\", \"variable\": \"water_temperature\", \"value\": 20.9}, {\"timestamp_utc\": \"2010-09-30T00:00:00+00:00\", \"variable\": \"water_temperature\", \"value\": 17.4}, {\"timestamp_utc\": \"2010-10-31T00:00:00+00:00\", \"variable\": \"water_temperature\", \"value\": 13.8}, {\"timestamp_utc\": \"2010-11-30T00:00:00+00:00\", \"variable\": \"water_temperature\", \"value\": 10.5}, {\"timestamp_utc\": \"2010-12-31T00:00:00+00:00\", \"variable\": \"water_temperature\", \"value\": 6.0}, {\"timestamp_utc\": \"2011-01-31T00:00:00+00:00\", \"variable\": \"water_temperature\", \"value\": 4.9}, {\"timestamp_utc\": \"2011-02-28T00:00:00+00:00\", \"variable\": \"water_temperature\", \"value\": 4.3}, {\"timestamp_utc\": \"2011-03-31T00:00:00+00:00\", \"variable\": \"water_temperature\", \"value\": 4.5}, {\"timestamp_utc\": \"2011-04-30T00:00:00+00:00\", \"variable\": \"water_temperature\", \"value\": 11.4}, {\"timestamp_utc\": \"2011-05-31T00:00:00+00:00\", \"variable\": \"water_temperature\", \"value\": 17.3}, {\"timestamp_utc\": \"2011-06-30T00:00:00+00:00\", \"variable\": \"water_temperature\", \"value\": 19.4}, {\"timestamp_utc\": \"2011-07-31T00:00:00+00:00\", \"variable\": \"water_temperature\", \"value\": 20.7}, {\"timestamp_utc\": \"2011-08-31T00:00:00+00:00\", \"variable\": \"water_temperature\", \"value\": 21.8}, {\"timestamp_utc\": \"2011-09-30T00:00:00+00:00\", \"variable\": \"water_temperature\", \"value\": 20.9}, {\"timestamp_utc\": \"2011-10-31T00:00:00+00:00\", \"variable\": \"water_temperature\", \"value\": 15.2}, {\"timestamp_utc\": \"2011-11-30T00:00:00+00:00\", \"variable\": \"water_temperature\", \"value\": 11.1}, {\"timestamp_utc\": \"2011-12-31T00:00:00+00:00\", \"variable\": \"water_temperature\", \"value\": 6.9}, {\"timestamp_utc\": \"2012-01-31T00:00:00+00:00\", \"variable\": \"water_temperature\", \"value\": 5.1}, {\"timestamp_utc\": \"2012-02-29T00:00:00+00:00\", \"variable\": \"water_temperature\", \"value\": 4.0}, {\"timestamp_utc\": \"2012-03-31T00:00:00+00:00\", \"variable\": \"water_temperature\", \"value\": 5.6}, {\"timestamp_utc\": \"2012-04-30T00:00:00+00:00\", \"variable\": \"water_temperature\", \"value\": 8.3}, {\"timestamp_utc\": \"2012-05-31T00:00:00+00:00\", \"variable\": \"water_temperature\", \"value\": 13.2}, {\"timestamp_utc\": \"2012-06-30T00:00:00+00:00\", \"variable\": \"water_temperature\", \"value\": 18.6}, {\"timestamp_utc\": \"2012-07-31T00:00:00+00:00\", \"variable\": \"water_temperature\", \"value\": 20.6}, {\"timestamp_utc\": \"2012-08-31T00:00:00+00:00\", \"variable\": \"water_temperature\", \"value\": 23.3}, {\"timestamp_utc\": \"2012-09-30T00:00:00+00:00\", \"variable\": \"water_temperature\", \"value\": 19.8}, {\"timestamp_utc\": \"2012-10-31T00:00:00+00:00\", \"variable\": \"water_temperature\", \"value\": 15.4}, {\"timestamp_utc\": \"2012-11-30T00:00:00+00:00\", \"variable\": \"water_temperature\", \"value\": 10.5}, {\"timestamp_utc\": \"2012-12-31T00:00:00+00:00\", \"variable\": \"water_temperature\", \"value\": 6.5}, {\"timestamp_utc\": \"2013-01-31T00:00:00+00:00\", \"variable\": \"water_temperature\", \"value\": 5.5}, {\"timestamp_utc\": \"2013-02-28T00:00:00+00:00\", \"variable\": \"water_temperature\", \"value\": 4.4}, {\"timestamp_utc\": \"2013-03-31T00:00:00+00:00\", \"variable\": \"water_temperature\", \"value\": 4.1}, {\"timestamp_utc\": \"2013-04-30T00:00:00+00:00\", \"variable\": \"water_temperature\", \"value\": 5.3}, {\"timestamp_utc\": \"2013-05-31T00:00:00+00:00\", \"variable\": \"water_temperature\", \"value\": 12.5}, {\"timestamp_utc\": \"2013-06-30T00:00:00+00:00\", \"variable\": \"water_temperature\", \"value\": 17.1}, {\"timestamp_utc\": \"2013-07-31T00:00:00+00:00\", \"variable\": \"water_temperature\", \"value\": 21.5}, {\"timestamp_utc\": \"2013-08-31T00:00:00+00:00\", \"variable\": \"water_temperature\", \"value\": 22.8}, {\"timestamp_utc\": \"2013-09-30T00:00:00+00:00\", \"variable\": \"water_temperature\", \"value\": 19.1}, {\"timestamp_utc\": \"2013-10-31T00:00:00+00:00\", \"variable\": \"water_temperature\", \"value\": 14.9}, {\"timestamp_utc\": \"2013-11-30T00:00:00+00:00\", \"variable\": \"water_temperature\", \"value\": 10.1}, {\"timestamp_utc\": \"2013-12-31T00:00:00+00:00\", \"variable\": \"water_temperature\", \"value\": 6.4}, {\"timestamp_utc\": \"2014-01-31T00:00:00+00:00\", \"variable\": \"water_temperature\", \"value\": 5.7}, {\"timestamp_utc\": \"2014-02-28T00:00:00+00:00\", \"variable\": \"water_temperature\", \"value\": 5.2}, {\"timestamp_utc\": \"2014-03-31T00:00:00+00:00\", \"variable\": \"water_temperature\", \"value\": 6.9}, {\"timestamp_utc\": \"2014-04-30T00:00:00+00:00\", \"variable\": \"water_temperature\", \"value\": 11.3}, {\"timestamp_utc\": \"2014-05-31T00:00:00+00:00\", \"variable\": \"water_temperature\", \"value\": 13.9}, {\"timestamp_utc\": \"2014-06-30T00:00:00+00:00\", \"variable\": \"water_temperature\", \"value\": 20.6}, {\"timestamp_utc\": \"2014-07-31T00:00:00+00:00\", \"variable\": \"water_temperature\", \"value\": 20.8}, {\"timestamp_utc\": \"2014-08-31T00:00:00+00:00\", \"variable\": \"water_temperature\", \"value\": 20.0}, {\"timestamp_utc\": \"2014-09-30T00:00:00+00:00\", \"variable\": \"water_temperature\", \"value\": 18.8}, {\"timestamp_utc\": \"2014-10-31T00:00:00+00:00\", \"variable\": \"water_temperature\", \"value\": 17.4}, {\"timestamp_utc\": \"2014-11-30T00:00:00+00:00\", \"variable\": \"water_temperature\", \"value\": 12.0}, {\"timestamp_utc\": \"2014-12-31T00:00:00+00:00\", \"variable\": \"water_temperature\", \"value\": 8.4}, {\"timestamp_utc\": \"2015-01-31T00:00:00+00:00\", \"variable\": \"water_temperature\", \"value\": 6.0}, {\"timestamp_utc\": \"2015-02-28T00:00:00+00:00\", \"variable\": \"water_temperature\", \"value\": 4.9}, {\"timestamp_utc\": \"2015-03-31T00:00:00+00:00\", \"variable\": \"water_temperature\", \"value\": 5.4}, {\"timestamp_utc\": \"2015-04-30T00:00:00+00:00\", \"variable\": \"water_temperature\", \"value\": 9.2}, {\"timestamp_utc\": \"2015-05-31T00:00:00+00:00\", \"variable\": \"water_temperature\", \"value\": 14.8}, {\"timestamp_utc\": \"2015-06-30T00:00:00+00:00\", \"variable\": \"water_temperature\", \"value\": 19.0}, {\"timestamp_utc\": \"2015-07-31T00:00:00+00:00\", \"variable\": \"water_temperature\", \"value\": 24.1}, {\"timestamp_utc\": \"2015-08-31T00:00:00+00:00\", \"variable\": \"water_temperature\", \"value\": 23.2}, {\"timestamp_utc\": \"2015-09-30T00:00:00+00:00\", \"variable\": \"water_temperature\", \"value\": 19.2}, {\"timestamp_utc\": \"2015-10-31T00:00:00+00:00\", \"variable\": \"water_temperature\", \"value\": 14.5}, {\"timestamp_utc\": \"2015-11-30T00:00:00+00:00\", \"variable\": \"water_temperature\", \"value\": 12.4}, {\"timestamp_utc\": \"2015-12-31T00:00:00+00:00\", \"variable\": \"water_temperature\", \"value\": 7.9}, {\"timestamp_utc\": \"2016-01-31T00:00:00+00:00\", \"variable\": \"water_temperature\", \"value\": 6.3}, {\"timestamp_utc\": \"2016-02-29T00:00:00+00:00\", \"variable\": \"water_temperature\", \"value\": 5.6}, {\"timestamp_utc\": \"2016-03-31T00:00:00+00:00\", \"variable\": \"water_temperature\", \"value\": 5.4}, {\"timestamp_utc\": \"2016-04-30T00:00:00+00:00\", \"variable\": \"water_temperature\", \"value\": 9.0}, {\"timestamp_utc\": \"2016-05-31T00:00:00+00:00\", \"variable\": \"water_temperature\", \"value\": 13.7}, {\"timestamp_utc\": \"2016-06-30T00:00:00+00:00\", \"variable\": \"water_temperature\", \"value\": 18.2}, {\"timestamp_utc\": \"2016-07-31T00:00:00+00:00\", \"variable\": \"water_temperature\", \"value\": 22.7}, {\"timestamp_utc\": \"2016-08-31T00:00:00+00:00\", \"variable\": \"water_temperature\", \"value\": 23.1}, {\"timestamp_utc\": \"2016-09-30T00:00:00+00:00\", \"variable\": \"water_temperature\", \"value\": 22.2}, {\"timestamp_utc\": \"2016-10-31T00:00:00+00:00\", \"variable\": \"water_temperature\", \"value\": 14.8}, {\"timestamp_utc\": \"2016-11-30T00:00:00+00:00\", \"variable\": \"water_temperature\", \"value\": 10.3}, {\"timestamp_utc\": \"2016-12-31T00:00:00+00:00\", \"variable\": \"water_temperature\", \"value\": 7.1}, {\"timestamp_utc\": \"2017-01-31T00:00:00+00:00\", \"variable\": \"water_temperature\", \"value\": 5.3}, {\"timestamp_utc\": \"2017-02-28T00:00:00+00:00\", \"variable\": \"water_temperature\", \"value\": 4.8}, {\"timestamp_utc\": \"2017-03-31T00:00:00+00:00\", \"variable\": \"water_temperature\", \"value\": 5.6}, {\"timestamp_utc\": \"2017-04-30T00:00:00+00:00\", \"variable\": \"water_temperature\", \"value\": 10.4}, {\"timestamp_utc\": \"2017-05-31T00:00:00+00:00\", \"variable\": \"water_temperature\", \"value\": 14.9}, {\"timestamp_utc\": \"2017-06-30T00:00:00+00:00\", \"variable\": \"water_temperature\", \"value\": 21.6}, {\"timestamp_utc\": \"2017-07-31T00:00:00+00:00\", \"variable\": \"water_temperature\", \"value\": 22.8}, {\"timestamp_utc\": \"2017-08-31T00:00:00+00:00\", \"variable\": \"water_temperature\", \"value\": 22.6}, {\"timestamp_utc\": \"2017-09-30T00:00:00+00:00\", \"variable\": \"water_temperature\", \"value\": 18.2}, {\"timestamp_utc\": \"2017-10-31T00:00:00+00:00\", \"variable\": \"water_temperature\", \"value\": 16.2}, {\"timestamp_utc\": \"2017-11-30T00:00:00+00:00\", \"variable\": \"water_temperature\", \"value\": 10.4}, {\"timestamp_utc\": \"2017-12-31T00:00:00+00:00\", \"variable\": \"water_temperature\", \"value\": 6.7}, {\"timestamp_utc\": \"2018-01-31T00:00:00+00:00\", \"variable\": \"water_temperature\", \"value\": 5.7}, {\"timestamp_utc\": \"2018-02-28T00:00:00+00:00\", \"variable\": \"water_temperature\", \"value\": 5.1}, {\"timestamp_utc\": \"2018-03-31T00:00:00+00:00\", \"variable\": \"water_temperature\", \"value\": 4.9}, {\"timestamp_utc\": \"2018-04-30T00:00:00+00:00\", \"variable\": \"water_temperature\", \"value\": 8.7}, {\"timestamp_utc\": \"2018-05-31T00:00:00+00:00\", \"variable\": \"water_temperature\", \"value\": 15.3}, {\"timestamp_utc\": \"2018-06-30T00:00:00+00:00\", \"variable\": \"water_temperature\", \"value\": 21.2}, {\"timestamp_utc\": \"2018-07-31T00:00:00+00:00\", \"variable\": \"water_temperature\", \"value\": 23.6}, {\"timestamp_utc\": \"2018-08-31T00:00:00+00:00\", \"variable\": \"water_temperature\", \"value\": 25.0}, {\"timestamp_utc\": \"2018-09-30T00:00:00+00:00\", \"variable\": \"water_temperature\", \"value\": 21.7}, {\"timestamp_utc\": \"2018-10-31T00:00:00+00:00\", \"variable\": \"water_temperature\", \"value\": 17.7}, {\"timestamp_utc\": \"2018-11-30T00:00:00+00:00\", \"variable\": \"water_temperature\", \"value\": 12.5}, {\"timestamp_utc\": \"2018-12-31T00:00:00+00:00\", \"variable\": \"water_temperature\", \"value\": 7.4}, {\"timestamp_utc\": \"2019-01-31T00:00:00+00:00\", \"variable\": \"water_temperature\", \"value\": 5.7}, {\"timestamp_utc\": \"2019-02-28T00:00:00+00:00\", \"variable\": \"water_temperature\", \"value\": 5.1}, {\"timestamp_utc\": \"2019-03-31T00:00:00+00:00\", \"variable\": \"water_temperature\", \"value\": 5.3}, {\"timestamp_utc\": \"2019-04-30T00:00:00+00:00\", \"variable\": \"water_temperature\", \"value\": 9.1}, {\"timestamp_utc\": \"2019-05-31T00:00:00+00:00\", \"variable\": \"water_temperature\", \"value\": 11.8}, {\"timestamp_utc\": \"2019-06-30T00:00:00+00:00\", \"variable\": \"water_temperature\", \"value\": 18.8}, {\"timestamp_utc\": \"2019-07-31T00:00:00+00:00\", \"variable\": \"water_temperature\", \"value\": 23.9}, {\"timestamp_utc\": \"2019-08-31T00:00:00+00:00\", \"variable\": \"water_temperature\", \"value\": 23.3}, {\"timestamp_utc\": \"2019-09-30T00:00:00+00:00\", \"variable\": \"water_temperature\", \"value\": 19.9}, {\"timestamp_utc\": \"2019-10-31T00:00:00+00:00\", \"variable\": \"water_temperature\", \"value\": 16.0}, {\"timestamp_utc\": \"2019-11-30T00:00:00+00:00\", \"variable\": \"water_temperature\", \"value\": 11.7}, {\"timestamp_utc\": \"2019-12-31T00:00:00+00:00\", \"variable\": \"water_temperature\", \"value\": 7.9}, {\"timestamp_utc\": \"2020-01-31T00:00:00+00:00\", \"variable\": \"water_temperature\", \"value\": 6.5}, {\"timestamp_utc\": \"2020-02-29T00:00:00+00:00\", \"variable\": \"water_temperature\", \"value\": 5.9}, {\"timestamp_utc\": \"2020-03-31T00:00:00+00:00\", \"variable\": \"water_temperature\", \"value\": 6.2}, {\"timestamp_utc\": \"2020-04-30T00:00:00+00:00\", \"variable\": \"water_temperature\", \"value\": 11.8}, {\"timestamp_utc\": \"2020-05-31T00:00:00+00:00\", \"variable\": \"water_temperature\", \"value\": 14.5}, {\"timestamp_utc\": \"2020-06-30T00:00:00+00:00\", \"variable\": \"water_temperature\", \"value\": 18.8}, {\"timestamp_utc\": \"2020-07-31T00:00:00+00:00\", \"variable\": \"water_temperature\", \"value\": 22.5}, {\"timestamp_utc\": \"2020-08-31T00:00:00+00:00\", \"variable\": \"water_temperature\", \"value\": 24.4}, {\"timestamp_utc\": \"2020-09-30T00:00:00+00:00\", \"variable\": \"water_temperature\", \"value\": 21.0}, {\"timestamp_utc\": \"2020-10-31T00:00:00+00:00\", \"variable\": \"water_temperature\", \"value\": 14.5}, {\"timestamp_utc\": \"2020-11-30T00:00:00+00:00\", \"variable\": \"water_temperature\", \"value\": 11.8}, {\"timestamp_utc\": \"2020-12-31T00:00:00+00:00\", \"variable\": \"water_temperature\", \"value\": 7.7}, {\"timestamp_utc\": \"2021-01-31T00:00:00+00:00\", \"variable\": \"water_temperature\", \"value\": 5.7}, {\"timestamp_utc\": \"2021-02-28T00:00:00+00:00\", \"variable\": \"water_temperature\", \"value\": 5.4}, {\"timestamp_utc\": \"2021-03-31T00:00:00+00:00\", \"variable\": \"water_temperature\", \"value\": 5.5}, {\"timestamp_utc\": \"2021-04-30T00:00:00+00:00\", \"variable\": \"water_temperature\", \"value\": 7.4}, {\"timestamp_utc\": \"2021-05-31T00:00:00+00:00\", \"variable\": \"water_temperature\", \"value\": 11.9}, {\"timestamp_utc\": \"2021-06-30T00:00:00+00:00\", \"variable\": \"water_temperature\", \"value\": 20.4}, {\"timestamp_utc\": \"2021-07-31T00:00:00+00:00\", \"variable\": \"water_temperature\", \"value\": 20.7}, {\"timestamp_utc\": \"2021-08-31T00:00:00+00:00\", \"variable\": \"water_temperature\", \"value\": 20.7}, {\"timestamp_utc\": \"2021-09-30T00:00:00+00:00\", \"variable\": \"water_temperature\", \"value\": 20.0}, {\"timestamp_utc\": \"2021-10-31T00:00:00+00:00\", \"variable\": \"water_temperature\", \"value\": 15.5}, {\"timestamp_utc\": \"2021-11-30T00:00:00+00:00\", \"variable\": \"water_temperature\", \"value\": 11.0}, {\"timestamp_utc\": \"2021-12-31T00:00:00+00:00\", \"variable\": \"water_temperature\", \"value\": 7.6}], \"data-ff40465f3eed6cc93ebbe8bb0b05c2ae\": [{\"timestamp_utc\": \"2007-12-31T00:00:00+00:00\", \"variable\": \"air_temperature\", \"value\": 14.5}, {\"timestamp_utc\": \"2008-12-31T00:00:00+00:00\", \"variable\": \"air_temperature\", \"value\": 11.4}, {\"timestamp_utc\": \"2009-12-31T00:00:00+00:00\", \"variable\": \"air_temperature\", \"value\": 12.4}, {\"timestamp_utc\": \"2010-12-31T00:00:00+00:00\", \"variable\": \"air_temperature\", \"value\": 9.9}, {\"timestamp_utc\": \"2011-12-31T00:00:00+00:00\", \"variable\": \"air_temperature\", \"value\": 11.5}, {\"timestamp_utc\": \"2012-12-31T00:00:00+00:00\", \"variable\": \"air_temperature\", \"value\": 10.8}, {\"timestamp_utc\": \"2013-12-31T00:00:00+00:00\", \"variable\": \"air_temperature\", \"value\": 10.5}, {\"timestamp_utc\": \"2014-12-31T00:00:00+00:00\", \"variable\": \"air_temperature\", \"value\": 11.9}, {\"timestamp_utc\": \"2015-12-31T00:00:00+00:00\", \"variable\": \"air_temperature\", \"value\": 10.8}, {\"timestamp_utc\": \"2016-12-31T00:00:00+00:00\", \"variable\": \"air_temperature\", \"value\": 10.3}, {\"timestamp_utc\": \"2017-12-31T00:00:00+00:00\", \"variable\": \"air_temperature\", \"value\": 11.3}, {\"timestamp_utc\": \"2018-12-31T00:00:00+00:00\", \"variable\": \"air_temperature\", \"value\": 12.2}, {\"timestamp_utc\": \"2019-12-31T00:00:00+00:00\", \"variable\": \"air_temperature\", \"value\": 11.3}, {\"timestamp_utc\": \"2020-12-31T00:00:00+00:00\", \"variable\": \"air_temperature\", \"value\": 12.0}, {\"timestamp_utc\": \"2021-12-31T00:00:00+00:00\", \"variable\": \"air_temperature\", \"value\": 10.1}, {\"timestamp_utc\": \"2007-12-31T00:00:00+00:00\", \"variable\": \"water_temperature\", \"value\": 17.3}, {\"timestamp_utc\": \"2008-12-31T00:00:00+00:00\", \"variable\": \"water_temperature\", \"value\": 13.7}, {\"timestamp_utc\": \"2009-12-31T00:00:00+00:00\", \"variable\": \"water_temperature\", \"value\": 14.9}, {\"timestamp_utc\": \"2010-12-31T00:00:00+00:00\", \"variable\": \"water_temperature\", \"value\": 11.5}, {\"timestamp_utc\": \"2011-12-31T00:00:00+00:00\", \"variable\": \"water_temperature\", \"value\": 13.5}, {\"timestamp_utc\": \"2012-12-31T00:00:00+00:00\", \"variable\": \"water_temperature\", \"value\": 11.4}, {\"timestamp_utc\": \"2013-12-31T00:00:00+00:00\", \"variable\": \"water_temperature\", \"value\": 11.8}, {\"timestamp_utc\": \"2014-12-31T00:00:00+00:00\", \"variable\": \"water_temperature\", \"value\": 13.1}, {\"timestamp_utc\": \"2015-12-31T00:00:00+00:00\", \"variable\": \"water_temperature\", \"value\": 12.8}, {\"timestamp_utc\": \"2016-12-31T00:00:00+00:00\", \"variable\": \"water_temperature\", \"value\": 12.0}, {\"timestamp_utc\": \"2017-12-31T00:00:00+00:00\", \"variable\": \"water_temperature\", \"value\": 12.8}, {\"timestamp_utc\": \"2018-12-31T00:00:00+00:00\", \"variable\": \"water_temperature\", \"value\": 14.0}, {\"timestamp_utc\": \"2019-12-31T00:00:00+00:00\", \"variable\": \"water_temperature\", \"value\": 12.1}, {\"timestamp_utc\": \"2020-12-31T00:00:00+00:00\", \"variable\": \"water_temperature\", \"value\": 13.2}, {\"timestamp_utc\": \"2021-12-31T00:00:00+00:00\", \"variable\": \"water_temperature\", \"value\": 11.6}]}}, {\"mode\": \"vega-lite\"});\n",
       "</script>"
      ],
      "text/plain": [
       "alt.LayerChart(...)"
      ]
     },
     "execution_count": 34,
     "metadata": {},
     "output_type": "execute_result"
    }
   ],
   "source": [
    "rolling = months_tb[['air_temperature','water_temperature']].rolling(60, center=True, win_type=\"triang\").mean()\n",
    "\n",
    "chart1 = alt.Chart(rolling.reset_index().melt(\"timestamp_utc\")).mark_line(strokeWidth=1.5, opacity=1).encode(\n",
    "    x='timestamp_utc', y='value', color='variable',\n",
    ").properties(width=800, height=400)\n",
    "\n",
    "# same as the two charts in previous code cell, except more transparent\n",
    "chart2 = alt.Chart(months_tb[['air_temperature','water_temperature']].reset_index().melt(\"timestamp_utc\")).mark_line(strokeWidth=1.6, opacity=0.25).encode(\n",
    "    x='timestamp_utc', y='value', color='variable',\n",
    ")\n",
    "\n",
    "chart3 = alt.Chart(years_tb[['air_temperature','water_temperature']].reset_index().melt(\"timestamp_utc\")).mark_line(interpolate=\"basis\", opacity=0.25).encode(\n",
    "    x='timestamp_utc', y='value', color='variable',\n",
    ")\n",
    "\n",
    "chart1 + chart2 + chart3"
   ]
  },
  {
   "cell_type": "code",
   "execution_count": 107,
   "metadata": {},
   "outputs": [
    {
     "data": {
      "text/html": [
       "<div>\n",
       "<style scoped>\n",
       "    .dataframe tbody tr th:only-of-type {\n",
       "        vertical-align: middle;\n",
       "    }\n",
       "\n",
       "    .dataframe tbody tr th {\n",
       "        vertical-align: top;\n",
       "    }\n",
       "\n",
       "    .dataframe thead th {\n",
       "        text-align: right;\n",
       "    }\n",
       "</style>\n",
       "<table border=\"1\" class=\"dataframe\">\n",
       "  <thead>\n",
       "    <tr style=\"text-align: right;\">\n",
       "      <th></th>\n",
       "      <th>air_temperature</th>\n",
       "      <th>water_temperature</th>\n",
       "      <th>wind_gust_max_10min</th>\n",
       "      <th>wind_speed_avg_10min</th>\n",
       "      <th>wind_force_avg_10min</th>\n",
       "      <th>wind_direction</th>\n",
       "      <th>windchill</th>\n",
       "      <th>barometric_pressure_qfe</th>\n",
       "      <th>precipitation</th>\n",
       "      <th>dew_point</th>\n",
       "      <th>global_radiation</th>\n",
       "      <th>humidity</th>\n",
       "      <th>water_level</th>\n",
       "      <th>month_number</th>\n",
       "      <th>month_name</th>\n",
       "    </tr>\n",
       "    <tr>\n",
       "      <th>timestamp_utc</th>\n",
       "      <th></th>\n",
       "      <th></th>\n",
       "      <th></th>\n",
       "      <th></th>\n",
       "      <th></th>\n",
       "      <th></th>\n",
       "      <th></th>\n",
       "      <th></th>\n",
       "      <th></th>\n",
       "      <th></th>\n",
       "      <th></th>\n",
       "      <th></th>\n",
       "      <th></th>\n",
       "      <th></th>\n",
       "      <th></th>\n",
       "    </tr>\n",
       "  </thead>\n",
       "  <tbody>\n",
       "    <tr>\n",
       "      <th>2007-04-30 00:00:00+00:00</th>\n",
       "      <td>17.0</td>\n",
       "      <td>15.2</td>\n",
       "      <td>1.6</td>\n",
       "      <td>0.8</td>\n",
       "      <td>0.8</td>\n",
       "      <td>117.0</td>\n",
       "      <td>16.8</td>\n",
       "      <td>972.8</td>\n",
       "      <td>NaN</td>\n",
       "      <td>8.9</td>\n",
       "      <td>NaN</td>\n",
       "      <td>60.0</td>\n",
       "      <td>NaN</td>\n",
       "      <td>4</td>\n",
       "      <td>April</td>\n",
       "    </tr>\n",
       "    <tr>\n",
       "      <th>2007-05-31 00:00:00+00:00</th>\n",
       "      <td>15.7</td>\n",
       "      <td>16.1</td>\n",
       "      <td>2.6</td>\n",
       "      <td>1.1</td>\n",
       "      <td>1.1</td>\n",
       "      <td>192.0</td>\n",
       "      <td>14.1</td>\n",
       "      <td>967.7</td>\n",
       "      <td>NaN</td>\n",
       "      <td>9.1</td>\n",
       "      <td>NaN</td>\n",
       "      <td>68.0</td>\n",
       "      <td>NaN</td>\n",
       "      <td>5</td>\n",
       "      <td>May</td>\n",
       "    </tr>\n",
       "  </tbody>\n",
       "</table>\n",
       "</div>"
      ],
      "text/plain": [
       "                           air_temperature  water_temperature  wind_gust_max_10min  \\\n",
       "timestamp_utc                                                                        \n",
       "2007-04-30 00:00:00+00:00             17.0               15.2                  1.6   \n",
       "2007-05-31 00:00:00+00:00             15.7               16.1                  2.6   \n",
       "\n",
       "                           wind_speed_avg_10min  wind_force_avg_10min  wind_direction  windchill  \\\n",
       "timestamp_utc                                                                                      \n",
       "2007-04-30 00:00:00+00:00                   0.8                   0.8           117.0       16.8   \n",
       "2007-05-31 00:00:00+00:00                   1.1                   1.1           192.0       14.1   \n",
       "\n",
       "                           barometric_pressure_qfe  precipitation  dew_point  global_radiation  \\\n",
       "timestamp_utc                                                                                    \n",
       "2007-04-30 00:00:00+00:00                    972.8            NaN        8.9               NaN   \n",
       "2007-05-31 00:00:00+00:00                    967.7            NaN        9.1               NaN   \n",
       "\n",
       "                           humidity  water_level  month_number month_name  \n",
       "timestamp_utc                                                              \n",
       "2007-04-30 00:00:00+00:00      60.0          NaN             4      April  \n",
       "2007-05-31 00:00:00+00:00      68.0          NaN             5        May  "
      ]
     },
     "execution_count": 114,
     "metadata": {},
     "output_type": "execute_result"
    }
   ],
   "source": [
    "# add a column for month names and month number\n",
    "months_tb['month_number'] = months_tb.index.month\n",
    "months_tb['month_name'] = months_tb.index.month_name()\n",
    "months_tb.head(2)"
   ]
  },
  {
   "cell_type": "code",
   "execution_count": 128,
   "metadata": {},
   "outputs": [
    {
     "data": {
      "text/html": [
       "<div>\n",
       "<style scoped>\n",
       "    .dataframe tbody tr th:only-of-type {\n",
       "        vertical-align: middle;\n",
       "    }\n",
       "\n",
       "    .dataframe tbody tr th {\n",
       "        vertical-align: top;\n",
       "    }\n",
       "\n",
       "    .dataframe thead th {\n",
       "        text-align: right;\n",
       "    }\n",
       "</style>\n",
       "<table border=\"1\" class=\"dataframe\">\n",
       "  <thead>\n",
       "    <tr style=\"text-align: right;\">\n",
       "      <th></th>\n",
       "      <th>air_temperature</th>\n",
       "      <th>water_temperature</th>\n",
       "      <th>month_number</th>\n",
       "    </tr>\n",
       "    <tr>\n",
       "      <th>month_name</th>\n",
       "      <th></th>\n",
       "      <th></th>\n",
       "      <th></th>\n",
       "    </tr>\n",
       "  </thead>\n",
       "  <tbody>\n",
       "    <tr>\n",
       "      <th>January</th>\n",
       "      <td>2.4</td>\n",
       "      <td>5.5</td>\n",
       "      <td>1.0</td>\n",
       "    </tr>\n",
       "    <tr>\n",
       "      <th>February</th>\n",
       "      <td>3.0</td>\n",
       "      <td>4.9</td>\n",
       "      <td>2.0</td>\n",
       "    </tr>\n",
       "    <tr>\n",
       "      <th>March</th>\n",
       "      <td>5.7</td>\n",
       "      <td>5.2</td>\n",
       "      <td>3.0</td>\n",
       "    </tr>\n",
       "    <tr>\n",
       "      <th>April</th>\n",
       "      <td>11.2</td>\n",
       "      <td>9.6</td>\n",
       "      <td>4.0</td>\n",
       "    </tr>\n",
       "    <tr>\n",
       "      <th>May</th>\n",
       "      <td>14.3</td>\n",
       "      <td>14.2</td>\n",
       "      <td>5.0</td>\n",
       "    </tr>\n",
       "    <tr>\n",
       "      <th>June</th>\n",
       "      <td>18.4</td>\n",
       "      <td>19.2</td>\n",
       "      <td>6.0</td>\n",
       "    </tr>\n",
       "    <tr>\n",
       "      <th>July</th>\n",
       "      <td>20.2</td>\n",
       "      <td>22.0</td>\n",
       "      <td>7.0</td>\n",
       "    </tr>\n",
       "    <tr>\n",
       "      <th>August</th>\n",
       "      <td>19.8</td>\n",
       "      <td>22.4</td>\n",
       "      <td>8.0</td>\n",
       "    </tr>\n",
       "    <tr>\n",
       "      <th>September</th>\n",
       "      <td>16.0</td>\n",
       "      <td>19.6</td>\n",
       "      <td>9.0</td>\n",
       "    </tr>\n",
       "    <tr>\n",
       "      <th>October</th>\n",
       "      <td>11.4</td>\n",
       "      <td>15.4</td>\n",
       "      <td>10.0</td>\n",
       "    </tr>\n",
       "    <tr>\n",
       "      <th>November</th>\n",
       "      <td>6.7</td>\n",
       "      <td>11.0</td>\n",
       "      <td>11.0</td>\n",
       "    </tr>\n",
       "    <tr>\n",
       "      <th>December</th>\n",
       "      <td>3.2</td>\n",
       "      <td>7.1</td>\n",
       "      <td>12.0</td>\n",
       "    </tr>\n",
       "  </tbody>\n",
       "</table>\n",
       "</div>"
      ],
      "text/plain": [
       "            air_temperature  water_temperature  month_number\n",
       "month_name                                                  \n",
       "January                 2.4                5.5           1.0\n",
       "February                3.0                4.9           2.0\n",
       "March                   5.7                5.2           3.0\n",
       "April                  11.2                9.6           4.0\n",
       "May                    14.3               14.2           5.0\n",
       "June                   18.4               19.2           6.0\n",
       "July                   20.2               22.0           7.0\n",
       "August                 19.8               22.4           8.0\n",
       "September              16.0               19.6           9.0\n",
       "October                11.4               15.4          10.0\n",
       "November                6.7               11.0          11.0\n",
       "December                3.2                7.1          12.0"
      ]
     },
     "execution_count": 128,
     "metadata": {},
     "output_type": "execute_result"
    }
   ],
   "source": [
    "grp_months_tb = months_tb[['air_temperature','water_temperature', 'month_number', 'month_name']].groupby(\"month_name\").mean()\n",
    "grp_months_tb.reset_index()\n",
    "#grp_months_tb['month_label']=pd.str(grp_months_tb['month_number'])\n",
    "grp_months_tb.sort_values('month_number', ascending=True)"
   ]
  },
  {
   "cell_type": "code",
   "execution_count": 129,
   "metadata": {},
   "outputs": [
    {
     "data": {
      "text/html": [
       "\n",
       "<div id=\"altair-viz-a7831ed9fee2437696d50e715022788e\"></div>\n",
       "<script type=\"text/javascript\">\n",
       "  (function(spec, embedOpt){\n",
       "    let outputDiv = document.currentScript.previousElementSibling;\n",
       "    if (outputDiv.id !== \"altair-viz-a7831ed9fee2437696d50e715022788e\") {\n",
       "      outputDiv = document.getElementById(\"altair-viz-a7831ed9fee2437696d50e715022788e\");\n",
       "    }\n",
       "    const paths = {\n",
       "      \"vega\": \"https://cdn.jsdelivr.net/npm//vega@5?noext\",\n",
       "      \"vega-lib\": \"https://cdn.jsdelivr.net/npm//vega-lib?noext\",\n",
       "      \"vega-lite\": \"https://cdn.jsdelivr.net/npm//vega-lite@4.8.1?noext\",\n",
       "      \"vega-embed\": \"https://cdn.jsdelivr.net/npm//vega-embed@6?noext\",\n",
       "    };\n",
       "\n",
       "    function loadScript(lib) {\n",
       "      return new Promise(function(resolve, reject) {\n",
       "        var s = document.createElement('script');\n",
       "        s.src = paths[lib];\n",
       "        s.async = true;\n",
       "        s.onload = () => resolve(paths[lib]);\n",
       "        s.onerror = () => reject(`Error loading script: ${paths[lib]}`);\n",
       "        document.getElementsByTagName(\"head\")[0].appendChild(s);\n",
       "      });\n",
       "    }\n",
       "\n",
       "    function showError(err) {\n",
       "      outputDiv.innerHTML = `<div class=\"error\" style=\"color:red;\">${err}</div>`;\n",
       "      throw err;\n",
       "    }\n",
       "\n",
       "    function displayChart(vegaEmbed) {\n",
       "      vegaEmbed(outputDiv, spec, embedOpt)\n",
       "        .catch(err => showError(`Javascript Error: ${err.message}<br>This usually means there's a typo in your chart specification. See the javascript console for the full traceback.`));\n",
       "    }\n",
       "\n",
       "    if(typeof define === \"function\" && define.amd) {\n",
       "      requirejs.config({paths});\n",
       "      require([\"vega-embed\"], displayChart, err => showError(`Error loading script: ${err.message}`));\n",
       "    } else if (typeof vegaEmbed === \"function\") {\n",
       "      displayChart(vegaEmbed);\n",
       "    } else {\n",
       "      loadScript(\"vega\")\n",
       "        .then(() => loadScript(\"vega-lite\"))\n",
       "        .then(() => loadScript(\"vega-embed\"))\n",
       "        .catch(showError)\n",
       "        .then(() => displayChart(vegaEmbed));\n",
       "    }\n",
       "  })({\"config\": {\"view\": {\"continuousWidth\": 400, \"continuousHeight\": 300}}, \"data\": {\"name\": \"data-06d16e48fc4445b6a0dfcfb53678ad38\"}, \"mark\": {\"type\": \"bar\", \"width\": 20}, \"encoding\": {\"color\": {\"type\": \"ordinal\", \"field\": \"month_name\"}, \"x\": {\"type\": \"ordinal\", \"field\": \"month_number\"}, \"y\": {\"type\": \"quantitative\", \"field\": \"air_temperature\"}}, \"height\": 300, \"selection\": {\"selector096\": {\"type\": \"interval\", \"bind\": \"scales\", \"encodings\": [\"x\", \"y\"]}}, \"width\": 300, \"$schema\": \"https://vega.github.io/schema/vega-lite/v4.8.1.json\", \"datasets\": {\"data-06d16e48fc4445b6a0dfcfb53678ad38\": [{\"month_name\": \"April\", \"air_temperature\": 11.19, \"water_temperature\": 9.553333333333335, \"month_number\": 4.0}, {\"month_name\": \"August\", \"air_temperature\": 19.773333333333333, \"water_temperature\": 22.39333333333333, \"month_number\": 8.0}, {\"month_name\": \"December\", \"air_temperature\": 3.1966666666666668, \"water_temperature\": 7.133333333333334, \"month_number\": 12.0}, {\"month_name\": \"February\", \"air_temperature\": 2.9642857142857144, \"water_temperature\": 4.864285714285714, \"month_number\": 2.0}, {\"month_name\": \"January\", \"air_temperature\": 2.4, \"water_temperature\": 5.521428571428571, \"month_number\": 1.0}, {\"month_name\": \"July\", \"air_temperature\": 20.196666666666665, \"water_temperature\": 22.006666666666668, \"month_number\": 7.0}, {\"month_name\": \"June\", \"air_temperature\": 18.373333333333335, \"water_temperature\": 19.21333333333333, \"month_number\": 6.0}, {\"month_name\": \"March\", \"air_temperature\": 5.714285714285714, \"water_temperature\": 5.228571428571429, \"month_number\": 3.0}, {\"month_name\": \"May\", \"air_temperature\": 14.313333333333333, \"water_temperature\": 14.206666666666667, \"month_number\": 5.0}, {\"month_name\": \"November\", \"air_temperature\": 6.703333333333333, \"water_temperature\": 10.973333333333333, \"month_number\": 11.0}, {\"month_name\": \"October\", \"air_temperature\": 11.413333333333332, \"water_temperature\": 15.4, \"month_number\": 10.0}, {\"month_name\": \"September\", \"air_temperature\": 15.966666666666667, \"water_temperature\": 19.59333333333333, \"month_number\": 9.0}]}}, {\"mode\": \"vega-lite\"});\n",
       "</script>"
      ],
      "text/plain": [
       "alt.Chart(...)"
      ]
     },
     "execution_count": 129,
     "metadata": {},
     "output_type": "execute_result"
    }
   ],
   "source": [
    "alt.Chart(grp_months_tb.reset_index()).mark_bar(width=20).encode(\n",
    "    x='month_number:O',\n",
    "    y='air_temperature:Q',\n",
    "    color='month_name:O'\n",
    ").properties(width=300, height=300).interactive()"
   ]
  },
  {
   "cell_type": "code",
   "execution_count": 104,
   "metadata": {},
   "outputs": [
    {
     "data": {
      "text/html": [
       "\n",
       "<div id=\"altair-viz-c7f291a9f6bd42058f14e8eae88c4aa4\"></div>\n",
       "<script type=\"text/javascript\">\n",
       "  (function(spec, embedOpt){\n",
       "    let outputDiv = document.currentScript.previousElementSibling;\n",
       "    if (outputDiv.id !== \"altair-viz-c7f291a9f6bd42058f14e8eae88c4aa4\") {\n",
       "      outputDiv = document.getElementById(\"altair-viz-c7f291a9f6bd42058f14e8eae88c4aa4\");\n",
       "    }\n",
       "    const paths = {\n",
       "      \"vega\": \"https://cdn.jsdelivr.net/npm//vega@5?noext\",\n",
       "      \"vega-lib\": \"https://cdn.jsdelivr.net/npm//vega-lib?noext\",\n",
       "      \"vega-lite\": \"https://cdn.jsdelivr.net/npm//vega-lite@4.8.1?noext\",\n",
       "      \"vega-embed\": \"https://cdn.jsdelivr.net/npm//vega-embed@6?noext\",\n",
       "    };\n",
       "\n",
       "    function loadScript(lib) {\n",
       "      return new Promise(function(resolve, reject) {\n",
       "        var s = document.createElement('script');\n",
       "        s.src = paths[lib];\n",
       "        s.async = true;\n",
       "        s.onload = () => resolve(paths[lib]);\n",
       "        s.onerror = () => reject(`Error loading script: ${paths[lib]}`);\n",
       "        document.getElementsByTagName(\"head\")[0].appendChild(s);\n",
       "      });\n",
       "    }\n",
       "\n",
       "    function showError(err) {\n",
       "      outputDiv.innerHTML = `<div class=\"error\" style=\"color:red;\">${err}</div>`;\n",
       "      throw err;\n",
       "    }\n",
       "\n",
       "    function displayChart(vegaEmbed) {\n",
       "      vegaEmbed(outputDiv, spec, embedOpt)\n",
       "        .catch(err => showError(`Javascript Error: ${err.message}<br>This usually means there's a typo in your chart specification. See the javascript console for the full traceback.`));\n",
       "    }\n",
       "\n",
       "    if(typeof define === \"function\" && define.amd) {\n",
       "      requirejs.config({paths});\n",
       "      require([\"vega-embed\"], displayChart, err => showError(`Error loading script: ${err.message}`));\n",
       "    } else if (typeof vegaEmbed === \"function\") {\n",
       "      displayChart(vegaEmbed);\n",
       "    } else {\n",
       "      loadScript(\"vega\")\n",
       "        .then(() => loadScript(\"vega-lite\"))\n",
       "        .then(() => loadScript(\"vega-embed\"))\n",
       "        .catch(showError)\n",
       "        .then(() => displayChart(vegaEmbed));\n",
       "    }\n",
       "  })({\"config\": {\"view\": {\"continuousWidth\": 400, \"continuousHeight\": 300}}, \"vconcat\": [{\"data\": {\"name\": \"data-ff40465f3eed6cc93ebbe8bb0b05c2ae\"}, \"mark\": {\"type\": \"area\", \"interpolate\": \"basis\"}, \"encoding\": {\"color\": {\"type\": \"nominal\", \"field\": \"variable\"}, \"x\": {\"type\": \"temporal\", \"axis\": null, \"field\": \"timestamp_utc\"}, \"y\": {\"type\": \"quantitative\", \"axis\": null, \"field\": \"value\"}}, \"height\": 50, \"selection\": {\"selector093\": {\"type\": \"interval\", \"encodings\": [\"x\"]}}, \"width\": 800}, {\"data\": {\"name\": \"data-607c170a85ba936b760ed78be4b4c2a8\"}, \"mark\": {\"type\": \"line\", \"strokeWidth\": 1}, \"encoding\": {\"color\": {\"type\": \"nominal\", \"field\": \"variable\"}, \"x\": {\"type\": \"temporal\", \"field\": \"timestamp_utc\", \"scale\": {\"domain\": {\"selection\": \"selector093\"}}}, \"y\": {\"type\": \"quantitative\", \"field\": \"value\"}}, \"height\": 300, \"width\": 800}], \"$schema\": \"https://vega.github.io/schema/vega-lite/v4.8.1.json\", \"datasets\": {\"data-ff40465f3eed6cc93ebbe8bb0b05c2ae\": [{\"timestamp_utc\": \"2007-12-31T00:00:00+00:00\", \"variable\": \"air_temperature\", \"value\": 14.5}, {\"timestamp_utc\": \"2008-12-31T00:00:00+00:00\", \"variable\": \"air_temperature\", \"value\": 11.4}, {\"timestamp_utc\": \"2009-12-31T00:00:00+00:00\", \"variable\": \"air_temperature\", \"value\": 12.4}, {\"timestamp_utc\": \"2010-12-31T00:00:00+00:00\", \"variable\": \"air_temperature\", \"value\": 9.9}, {\"timestamp_utc\": \"2011-12-31T00:00:00+00:00\", \"variable\": \"air_temperature\", \"value\": 11.5}, {\"timestamp_utc\": \"2012-12-31T00:00:00+00:00\", \"variable\": \"air_temperature\", \"value\": 10.8}, {\"timestamp_utc\": \"2013-12-31T00:00:00+00:00\", \"variable\": \"air_temperature\", \"value\": 10.5}, {\"timestamp_utc\": \"2014-12-31T00:00:00+00:00\", \"variable\": \"air_temperature\", \"value\": 11.9}, {\"timestamp_utc\": \"2015-12-31T00:00:00+00:00\", \"variable\": \"air_temperature\", \"value\": 10.8}, {\"timestamp_utc\": \"2016-12-31T00:00:00+00:00\", \"variable\": \"air_temperature\", \"value\": 10.3}, {\"timestamp_utc\": \"2017-12-31T00:00:00+00:00\", \"variable\": \"air_temperature\", \"value\": 11.3}, {\"timestamp_utc\": \"2018-12-31T00:00:00+00:00\", \"variable\": \"air_temperature\", \"value\": 12.2}, {\"timestamp_utc\": \"2019-12-31T00:00:00+00:00\", \"variable\": \"air_temperature\", \"value\": 11.3}, {\"timestamp_utc\": \"2020-12-31T00:00:00+00:00\", \"variable\": \"air_temperature\", \"value\": 12.0}, {\"timestamp_utc\": \"2021-12-31T00:00:00+00:00\", \"variable\": \"air_temperature\", \"value\": 10.1}, {\"timestamp_utc\": \"2007-12-31T00:00:00+00:00\", \"variable\": \"water_temperature\", \"value\": 17.3}, {\"timestamp_utc\": \"2008-12-31T00:00:00+00:00\", \"variable\": \"water_temperature\", \"value\": 13.7}, {\"timestamp_utc\": \"2009-12-31T00:00:00+00:00\", \"variable\": \"water_temperature\", \"value\": 14.9}, {\"timestamp_utc\": \"2010-12-31T00:00:00+00:00\", \"variable\": \"water_temperature\", \"value\": 11.5}, {\"timestamp_utc\": \"2011-12-31T00:00:00+00:00\", \"variable\": \"water_temperature\", \"value\": 13.5}, {\"timestamp_utc\": \"2012-12-31T00:00:00+00:00\", \"variable\": \"water_temperature\", \"value\": 11.4}, {\"timestamp_utc\": \"2013-12-31T00:00:00+00:00\", \"variable\": \"water_temperature\", \"value\": 11.8}, {\"timestamp_utc\": \"2014-12-31T00:00:00+00:00\", \"variable\": \"water_temperature\", \"value\": 13.1}, {\"timestamp_utc\": \"2015-12-31T00:00:00+00:00\", \"variable\": \"water_temperature\", \"value\": 12.8}, {\"timestamp_utc\": \"2016-12-31T00:00:00+00:00\", \"variable\": \"water_temperature\", \"value\": 12.0}, {\"timestamp_utc\": \"2017-12-31T00:00:00+00:00\", \"variable\": \"water_temperature\", \"value\": 12.8}, {\"timestamp_utc\": \"2018-12-31T00:00:00+00:00\", \"variable\": \"water_temperature\", \"value\": 14.0}, {\"timestamp_utc\": \"2019-12-31T00:00:00+00:00\", \"variable\": \"water_temperature\", \"value\": 12.1}, {\"timestamp_utc\": \"2020-12-31T00:00:00+00:00\", \"variable\": \"water_temperature\", \"value\": 13.2}, {\"timestamp_utc\": \"2021-12-31T00:00:00+00:00\", \"variable\": \"water_temperature\", \"value\": 11.6}], \"data-607c170a85ba936b760ed78be4b4c2a8\": [{\"timestamp_utc\": \"2007-04-30T00:00:00+00:00\", \"variable\": \"air_temperature\", \"value\": 17.0}, {\"timestamp_utc\": \"2007-05-31T00:00:00+00:00\", \"variable\": \"air_temperature\", \"value\": 15.7}, {\"timestamp_utc\": \"2007-06-30T00:00:00+00:00\", \"variable\": \"air_temperature\", \"value\": 18.6}, {\"timestamp_utc\": \"2007-07-31T00:00:00+00:00\", \"variable\": \"air_temperature\", \"value\": 18.6}, {\"timestamp_utc\": \"2007-08-31T00:00:00+00:00\", \"variable\": \"air_temperature\", \"value\": 18.0}, {\"timestamp_utc\": \"2007-09-30T00:00:00+00:00\", \"variable\": \"air_temperature\", \"value\": 14.4}, {\"timestamp_utc\": \"2007-10-31T00:00:00+00:00\", \"variable\": \"air_temperature\", \"value\": 10.0}, {\"timestamp_utc\": \"2007-11-30T00:00:00+00:00\", \"variable\": \"air_temperature\", \"value\": 5.2}, {\"timestamp_utc\": \"2007-12-31T00:00:00+00:00\", \"variable\": \"air_temperature\", \"value\": 1.45}, {\"timestamp_utc\": \"2008-01-31T00:00:00+00:00\", \"variable\": \"air_temperature\", \"value\": 3.9}, {\"timestamp_utc\": \"2008-02-29T00:00:00+00:00\", \"variable\": \"air_temperature\", \"value\": 4.6}, {\"timestamp_utc\": \"2008-03-31T00:00:00+00:00\", \"variable\": \"air_temperature\", \"value\": 3.6}, {\"timestamp_utc\": \"2008-04-30T00:00:00+00:00\", \"variable\": \"air_temperature\", \"value\": 9.7}, {\"timestamp_utc\": \"2008-05-31T00:00:00+00:00\", \"variable\": \"air_temperature\", \"value\": 16.3}, {\"timestamp_utc\": \"2008-06-30T00:00:00+00:00\", \"variable\": \"air_temperature\", \"value\": 17.9}, {\"timestamp_utc\": \"2008-07-31T00:00:00+00:00\", \"variable\": \"air_temperature\", \"value\": 19.5}, {\"timestamp_utc\": \"2008-08-31T00:00:00+00:00\", \"variable\": \"air_temperature\", \"value\": 18.9}, {\"timestamp_utc\": \"2008-09-30T00:00:00+00:00\", \"variable\": \"air_temperature\", \"value\": 13.3}, {\"timestamp_utc\": \"2008-10-31T00:00:00+00:00\", \"variable\": \"air_temperature\", \"value\": 12.2}, {\"timestamp_utc\": \"2008-11-30T00:00:00+00:00\", \"variable\": \"air_temperature\", \"value\": 6.4}, {\"timestamp_utc\": \"2008-12-31T00:00:00+00:00\", \"variable\": \"air_temperature\", \"value\": 1.7}, {\"timestamp_utc\": \"2009-01-31T00:00:00+00:00\", \"variable\": \"air_temperature\", \"value\": 0.1}, {\"timestamp_utc\": \"2009-02-28T00:00:00+00:00\", \"variable\": \"air_temperature\", \"value\": 1.7}, {\"timestamp_utc\": \"2009-03-31T00:00:00+00:00\", \"variable\": \"air_temperature\", \"value\": 3.6}, {\"timestamp_utc\": \"2009-04-30T00:00:00+00:00\", \"variable\": \"air_temperature\", \"value\": 12.35}, {\"timestamp_utc\": \"2009-05-31T00:00:00+00:00\", \"variable\": \"air_temperature\", \"value\": 16.0}, {\"timestamp_utc\": \"2009-06-30T00:00:00+00:00\", \"variable\": \"air_temperature\", \"value\": 17.9}, {\"timestamp_utc\": \"2009-07-31T00:00:00+00:00\", \"variable\": \"air_temperature\", \"value\": 19.8}, {\"timestamp_utc\": \"2009-08-31T00:00:00+00:00\", \"variable\": \"air_temperature\", \"value\": 20.9}, {\"timestamp_utc\": \"2009-09-30T00:00:00+00:00\", \"variable\": \"air_temperature\", \"value\": 16.6}, {\"timestamp_utc\": \"2009-10-31T00:00:00+00:00\", \"variable\": \"air_temperature\", \"value\": 10.6}, {\"timestamp_utc\": \"2009-11-30T00:00:00+00:00\", \"variable\": \"air_temperature\", \"value\": 8.4}, {\"timestamp_utc\": \"2009-12-31T00:00:00+00:00\", \"variable\": \"air_temperature\", \"value\": 3.3}, {\"timestamp_utc\": \"2010-01-31T00:00:00+00:00\", \"variable\": \"air_temperature\", \"value\": -0.4}, {\"timestamp_utc\": \"2010-02-28T00:00:00+00:00\", \"variable\": \"air_temperature\", \"value\": 2.4}, {\"timestamp_utc\": \"2010-03-31T00:00:00+00:00\", \"variable\": \"air_temperature\", \"value\": 2.4}, {\"timestamp_utc\": \"2010-04-30T00:00:00+00:00\", \"variable\": \"air_temperature\", \"value\": 10.0}, {\"timestamp_utc\": \"2010-05-31T00:00:00+00:00\", \"variable\": \"air_temperature\", \"value\": 11.6}, {\"timestamp_utc\": \"2010-06-30T00:00:00+00:00\", \"variable\": \"air_temperature\", \"value\": 17.6}, {\"timestamp_utc\": \"2010-07-31T00:00:00+00:00\", \"variable\": \"air_temperature\", \"value\": 20.7}, {\"timestamp_utc\": \"2010-08-31T00:00:00+00:00\", \"variable\": \"air_temperature\", \"value\": 18.0}, {\"timestamp_utc\": \"2010-09-30T00:00:00+00:00\", \"variable\": \"air_temperature\", \"value\": 14.4}, {\"timestamp_utc\": \"2010-10-31T00:00:00+00:00\", \"variable\": \"air_temperature\", \"value\": 9.3}, {\"timestamp_utc\": \"2010-11-30T00:00:00+00:00\", \"variable\": \"air_temperature\", \"value\": 5.75}, {\"timestamp_utc\": \"2010-12-31T00:00:00+00:00\", \"variable\": \"air_temperature\", \"value\": 0.8}, {\"timestamp_utc\": \"2011-01-31T00:00:00+00:00\", \"variable\": \"air_temperature\", \"value\": 1.6}, {\"timestamp_utc\": \"2011-02-28T00:00:00+00:00\", \"variable\": \"air_temperature\", \"value\": 3.6}, {\"timestamp_utc\": \"2011-03-31T00:00:00+00:00\", \"variable\": \"air_temperature\", \"value\": 7.2}, {\"timestamp_utc\": \"2011-04-30T00:00:00+00:00\", \"variable\": \"air_temperature\", \"value\": 12.9}, {\"timestamp_utc\": \"2011-05-31T00:00:00+00:00\", \"variable\": \"air_temperature\", \"value\": 16.4}, {\"timestamp_utc\": \"2011-06-30T00:00:00+00:00\", \"variable\": \"air_temperature\", \"value\": 17.5}, {\"timestamp_utc\": \"2011-07-31T00:00:00+00:00\", \"variable\": \"air_temperature\", \"value\": 17.5}, {\"timestamp_utc\": \"2011-08-31T00:00:00+00:00\", \"variable\": \"air_temperature\", \"value\": 20.2}, {\"timestamp_utc\": \"2011-09-30T00:00:00+00:00\", \"variable\": \"air_temperature\", \"value\": 17.9}, {\"timestamp_utc\": \"2011-10-31T00:00:00+00:00\", \"variable\": \"air_temperature\", \"value\": 10.2}, {\"timestamp_utc\": \"2011-11-30T00:00:00+00:00\", \"variable\": \"air_temperature\", \"value\": 6.3}, {\"timestamp_utc\": \"2011-12-31T00:00:00+00:00\", \"variable\": \"air_temperature\", \"value\": 5.2}, {\"timestamp_utc\": \"2012-01-31T00:00:00+00:00\", \"variable\": \"air_temperature\", \"value\": 3.6}, {\"timestamp_utc\": \"2012-02-29T00:00:00+00:00\", \"variable\": \"air_temperature\", \"value\": -1.3}, {\"timestamp_utc\": \"2012-03-31T00:00:00+00:00\", \"variable\": \"air_temperature\", \"value\": 7.2}, {\"timestamp_utc\": \"2012-04-30T00:00:00+00:00\", \"variable\": \"air_temperature\", \"value\": 8.7}, {\"timestamp_utc\": \"2012-05-31T00:00:00+00:00\", \"variable\": \"air_temperature\", \"value\": 15.1}, {\"timestamp_utc\": \"2012-06-30T00:00:00+00:00\", \"variable\": \"air_temperature\", \"value\": 18.0}, {\"timestamp_utc\": \"2012-07-31T00:00:00+00:00\", \"variable\": \"air_temperature\", \"value\": 18.85}, {\"timestamp_utc\": \"2012-08-31T00:00:00+00:00\", \"variable\": \"air_temperature\", \"value\": 20.7}, {\"timestamp_utc\": \"2012-09-30T00:00:00+00:00\", \"variable\": \"air_temperature\", \"value\": 15.3}, {\"timestamp_utc\": \"2012-10-31T00:00:00+00:00\", \"variable\": \"air_temperature\", \"value\": 11.5}, {\"timestamp_utc\": \"2012-11-30T00:00:00+00:00\", \"variable\": \"air_temperature\", \"value\": 7.4}, {\"timestamp_utc\": \"2012-12-31T00:00:00+00:00\", \"variable\": \"air_temperature\", \"value\": 3.4}, {\"timestamp_utc\": \"2013-01-31T00:00:00+00:00\", \"variable\": \"air_temperature\", \"value\": 1.5}, {\"timestamp_utc\": \"2013-02-28T00:00:00+00:00\", \"variable\": \"air_temperature\", \"value\": 0.2}, {\"timestamp_utc\": \"2013-03-31T00:00:00+00:00\", \"variable\": \"air_temperature\", \"value\": 3.3}, {\"timestamp_utc\": \"2013-04-30T00:00:00+00:00\", \"variable\": \"air_temperature\", \"value\": 8.8}, {\"timestamp_utc\": \"2013-05-31T00:00:00+00:00\", \"variable\": \"air_temperature\", \"value\": 11.5}, {\"timestamp_utc\": \"2013-06-30T00:00:00+00:00\", \"variable\": \"air_temperature\", \"value\": 16.0}, {\"timestamp_utc\": \"2013-07-31T00:00:00+00:00\", \"variable\": \"air_temperature\", \"value\": 21.9}, {\"timestamp_utc\": \"2013-08-31T00:00:00+00:00\", \"variable\": \"air_temperature\", \"value\": 19.6}, {\"timestamp_utc\": \"2013-09-30T00:00:00+00:00\", \"variable\": \"air_temperature\", \"value\": 15.6}, {\"timestamp_utc\": \"2013-10-31T00:00:00+00:00\", \"variable\": \"air_temperature\", \"value\": 12.8}, {\"timestamp_utc\": \"2013-11-30T00:00:00+00:00\", \"variable\": \"air_temperature\", \"value\": 4.7}, {\"timestamp_utc\": \"2013-12-31T00:00:00+00:00\", \"variable\": \"air_temperature\", \"value\": 2.1}, {\"timestamp_utc\": \"2014-01-31T00:00:00+00:00\", \"variable\": \"air_temperature\", \"value\": 4.2}, {\"timestamp_utc\": \"2014-02-28T00:00:00+00:00\", \"variable\": \"air_temperature\", \"value\": 4.9}, {\"timestamp_utc\": \"2014-03-31T00:00:00+00:00\", \"variable\": \"air_temperature\", \"value\": 6.9}, {\"timestamp_utc\": \"2014-04-30T00:00:00+00:00\", \"variable\": \"air_temperature\", \"value\": 11.6}, {\"timestamp_utc\": \"2014-05-31T00:00:00+00:00\", \"variable\": \"air_temperature\", \"value\": 13.7}, {\"timestamp_utc\": \"2014-06-30T00:00:00+00:00\", \"variable\": \"air_temperature\", \"value\": 19.0}, {\"timestamp_utc\": \"2014-07-31T00:00:00+00:00\", \"variable\": \"air_temperature\", \"value\": 18.4}, {\"timestamp_utc\": \"2014-08-31T00:00:00+00:00\", \"variable\": \"air_temperature\", \"value\": 17.5}, {\"timestamp_utc\": \"2014-09-30T00:00:00+00:00\", \"variable\": \"air_temperature\", \"value\": 16.6}, {\"timestamp_utc\": \"2014-10-31T00:00:00+00:00\", \"variable\": \"air_temperature\", \"value\": 14.2}, {\"timestamp_utc\": \"2014-11-30T00:00:00+00:00\", \"variable\": \"air_temperature\", \"value\": 8.0}, {\"timestamp_utc\": \"2014-12-31T00:00:00+00:00\", \"variable\": \"air_temperature\", \"value\": 4.4}, {\"timestamp_utc\": \"2015-01-31T00:00:00+00:00\", \"variable\": \"air_temperature\", \"value\": 2.3}, {\"timestamp_utc\": \"2015-02-28T00:00:00+00:00\", \"variable\": \"air_temperature\", \"value\": 0.5}, {\"timestamp_utc\": \"2015-03-31T00:00:00+00:00\", \"variable\": \"air_temperature\", \"value\": 6.8}, {\"timestamp_utc\": \"2015-04-30T00:00:00+00:00\", \"variable\": \"air_temperature\", \"value\": 11.0}, {\"timestamp_utc\": \"2015-05-31T00:00:00+00:00\", \"variable\": \"air_temperature\", \"value\": 14.5}, {\"timestamp_utc\": \"2015-06-30T00:00:00+00:00\", \"variable\": \"air_temperature\", \"value\": 18.5}, {\"timestamp_utc\": \"2015-07-31T00:00:00+00:00\", \"variable\": \"air_temperature\", \"value\": 22.9}, {\"timestamp_utc\": \"2015-08-31T00:00:00+00:00\", \"variable\": \"air_temperature\", \"value\": 20.9}, {\"timestamp_utc\": \"2015-09-30T00:00:00+00:00\", \"variable\": \"air_temperature\", \"value\": 14.5}, {\"timestamp_utc\": \"2015-10-31T00:00:00+00:00\", \"variable\": \"air_temperature\", \"value\": 10.7}, {\"timestamp_utc\": \"2015-11-30T00:00:00+00:00\", \"variable\": \"air_temperature\", \"value\": 9.3}, {\"timestamp_utc\": \"2015-12-31T00:00:00+00:00\", \"variable\": \"air_temperature\", \"value\": 4.9}, {\"timestamp_utc\": \"2016-01-31T00:00:00+00:00\", \"variable\": \"air_temperature\", \"value\": 4.7}, {\"timestamp_utc\": \"2016-02-29T00:00:00+00:00\", \"variable\": \"air_temperature\", \"value\": 4.1}, {\"timestamp_utc\": \"2016-03-31T00:00:00+00:00\", \"variable\": \"air_temperature\", \"value\": 5.2}, {\"timestamp_utc\": \"2016-04-30T00:00:00+00:00\", \"variable\": \"air_temperature\", \"value\": 9.8}, {\"timestamp_utc\": \"2016-05-31T00:00:00+00:00\", \"variable\": \"air_temperature\", \"value\": 13.5}, {\"timestamp_utc\": \"2016-06-30T00:00:00+00:00\", \"variable\": \"air_temperature\", \"value\": 17.0}, {\"timestamp_utc\": \"2016-07-31T00:00:00+00:00\", \"variable\": \"air_temperature\", \"value\": 21.0}, {\"timestamp_utc\": \"2016-08-31T00:00:00+00:00\", \"variable\": \"air_temperature\", \"value\": 20.1}, {\"timestamp_utc\": \"2016-09-30T00:00:00+00:00\", \"variable\": \"air_temperature\", \"value\": 17.7}, {\"timestamp_utc\": \"2016-10-31T00:00:00+00:00\", \"variable\": \"air_temperature\", \"value\": 9.8}, {\"timestamp_utc\": \"2016-11-30T00:00:00+00:00\", \"variable\": \"air_temperature\", \"value\": 6.9}, {\"timestamp_utc\": \"2016-12-31T00:00:00+00:00\", \"variable\": \"air_temperature\", \"value\": 1.3}, {\"timestamp_utc\": \"2017-01-31T00:00:00+00:00\", \"variable\": \"air_temperature\", \"value\": -1.5}, {\"timestamp_utc\": \"2017-02-28T00:00:00+00:00\", \"variable\": \"air_temperature\", \"value\": 4.1}, {\"timestamp_utc\": \"2017-03-31T00:00:00+00:00\", \"variable\": \"air_temperature\", \"value\": 8.7}, {\"timestamp_utc\": \"2017-04-30T00:00:00+00:00\", \"variable\": \"air_temperature\", \"value\": 10.4}, {\"timestamp_utc\": \"2017-05-31T00:00:00+00:00\", \"variable\": \"air_temperature\", \"value\": 15.5}, {\"timestamp_utc\": \"2017-06-30T00:00:00+00:00\", \"variable\": \"air_temperature\", \"value\": 20.9}, {\"timestamp_utc\": \"2017-07-31T00:00:00+00:00\", \"variable\": \"air_temperature\", \"value\": 20.2}, {\"timestamp_utc\": \"2017-08-31T00:00:00+00:00\", \"variable\": \"air_temperature\", \"value\": 20.5}, {\"timestamp_utc\": \"2017-09-30T00:00:00+00:00\", \"variable\": \"air_temperature\", \"value\": 14.4}, {\"timestamp_utc\": \"2017-10-31T00:00:00+00:00\", \"variable\": \"air_temperature\", \"value\": 12.0}, {\"timestamp_utc\": \"2017-11-30T00:00:00+00:00\", \"variable\": \"air_temperature\", \"value\": 5.8}, {\"timestamp_utc\": \"2017-12-31T00:00:00+00:00\", \"variable\": \"air_temperature\", \"value\": 2.6}, {\"timestamp_utc\": \"2018-01-31T00:00:00+00:00\", \"variable\": \"air_temperature\", \"value\": 6.1}, {\"timestamp_utc\": \"2018-02-28T00:00:00+00:00\", \"variable\": \"air_temperature\", \"value\": 1.0}, {\"timestamp_utc\": \"2018-03-31T00:00:00+00:00\", \"variable\": \"air_temperature\", \"value\": 5.5}, {\"timestamp_utc\": \"2018-04-30T00:00:00+00:00\", \"variable\": \"air_temperature\", \"value\": 13.2}, {\"timestamp_utc\": \"2018-05-31T00:00:00+00:00\", \"variable\": \"air_temperature\", \"value\": 16.2}, {\"timestamp_utc\": \"2018-06-30T00:00:00+00:00\", \"variable\": \"air_temperature\", \"value\": 19.9}, {\"timestamp_utc\": \"2018-07-31T00:00:00+00:00\", \"variable\": \"air_temperature\", \"value\": 22.0}, {\"timestamp_utc\": \"2018-08-31T00:00:00+00:00\", \"variable\": \"air_temperature\", \"value\": 22.1}, {\"timestamp_utc\": \"2018-09-30T00:00:00+00:00\", \"variable\": \"air_temperature\", \"value\": 17.4}, {\"timestamp_utc\": \"2018-10-31T00:00:00+00:00\", \"variable\": \"air_temperature\", \"value\": 12.6}, {\"timestamp_utc\": \"2018-11-30T00:00:00+00:00\", \"variable\": \"air_temperature\", \"value\": 7.2}, {\"timestamp_utc\": \"2018-12-31T00:00:00+00:00\", \"variable\": \"air_temperature\", \"value\": 5.1}, {\"timestamp_utc\": \"2019-01-31T00:00:00+00:00\", \"variable\": \"air_temperature\", \"value\": 1.9}, {\"timestamp_utc\": \"2019-02-28T00:00:00+00:00\", \"variable\": \"air_temperature\", \"value\": 3.8}, {\"timestamp_utc\": \"2019-03-31T00:00:00+00:00\", \"variable\": \"air_temperature\", \"value\": 7.7}, {\"timestamp_utc\": \"2019-04-30T00:00:00+00:00\", \"variable\": \"air_temperature\", \"value\": 9.6}, {\"timestamp_utc\": \"2019-05-31T00:00:00+00:00\", \"variable\": \"air_temperature\", \"value\": 12.1}, {\"timestamp_utc\": \"2019-06-30T00:00:00+00:00\", \"variable\": \"air_temperature\", \"value\": 20.3}, {\"timestamp_utc\": \"2019-07-31T00:00:00+00:00\", \"variable\": \"air_temperature\", \"value\": 21.8}, {\"timestamp_utc\": \"2019-08-31T00:00:00+00:00\", \"variable\": \"air_temperature\", \"value\": 20.1}, {\"timestamp_utc\": \"2019-09-30T00:00:00+00:00\", \"variable\": \"air_temperature\", \"value\": 16.1}, {\"timestamp_utc\": \"2019-10-31T00:00:00+00:00\", \"variable\": \"air_temperature\", \"value\": 13.2}, {\"timestamp_utc\": \"2019-11-30T00:00:00+00:00\", \"variable\": \"air_temperature\", \"value\": 6.6}, {\"timestamp_utc\": \"2019-12-31T00:00:00+00:00\", \"variable\": \"air_temperature\", \"value\": 5.2}, {\"timestamp_utc\": \"2020-01-31T00:00:00+00:00\", \"variable\": \"air_temperature\", \"value\": 3.8}, {\"timestamp_utc\": \"2020-02-29T00:00:00+00:00\", \"variable\": \"air_temperature\", \"value\": 6.6}, {\"timestamp_utc\": \"2020-03-31T00:00:00+00:00\", \"variable\": \"air_temperature\", \"value\": 6.5}, {\"timestamp_utc\": \"2020-04-30T00:00:00+00:00\", \"variable\": \"air_temperature\", \"value\": 13.6}, {\"timestamp_utc\": \"2020-05-31T00:00:00+00:00\", \"variable\": \"air_temperature\", \"value\": 15.1}, {\"timestamp_utc\": \"2020-06-30T00:00:00+00:00\", \"variable\": \"air_temperature\", \"value\": 17.2}, {\"timestamp_utc\": \"2020-07-31T00:00:00+00:00\", \"variable\": \"air_temperature\", \"value\": 21.0}, {\"timestamp_utc\": \"2020-08-31T00:00:00+00:00\", \"variable\": \"air_temperature\", \"value\": 21.3}, {\"timestamp_utc\": \"2020-09-30T00:00:00+00:00\", \"variable\": \"air_temperature\", \"value\": 17.8}, {\"timestamp_utc\": \"2020-10-31T00:00:00+00:00\", \"variable\": \"air_temperature\", \"value\": 11.4}, {\"timestamp_utc\": \"2020-11-30T00:00:00+00:00\", \"variable\": \"air_temperature\", \"value\": 7.3}, {\"timestamp_utc\": \"2020-12-31T00:00:00+00:00\", \"variable\": \"air_temperature\", \"value\": 2.9}, {\"timestamp_utc\": \"2021-01-31T00:00:00+00:00\", \"variable\": \"air_temperature\", \"value\": 1.8}, {\"timestamp_utc\": \"2021-02-28T00:00:00+00:00\", \"variable\": \"air_temperature\", \"value\": 5.3}, {\"timestamp_utc\": \"2021-03-31T00:00:00+00:00\", \"variable\": \"air_temperature\", \"value\": 5.4}, {\"timestamp_utc\": \"2021-04-30T00:00:00+00:00\", \"variable\": \"air_temperature\", \"value\": 9.2}, {\"timestamp_utc\": \"2021-05-31T00:00:00+00:00\", \"variable\": \"air_temperature\", \"value\": 11.5}, {\"timestamp_utc\": \"2021-06-30T00:00:00+00:00\", \"variable\": \"air_temperature\", \"value\": 19.3}, {\"timestamp_utc\": \"2021-07-31T00:00:00+00:00\", \"variable\": \"air_temperature\", \"value\": 18.8}, {\"timestamp_utc\": \"2021-08-31T00:00:00+00:00\", \"variable\": \"air_temperature\", \"value\": 17.8}, {\"timestamp_utc\": \"2021-09-30T00:00:00+00:00\", \"variable\": \"air_temperature\", \"value\": 17.5}, {\"timestamp_utc\": \"2021-10-31T00:00:00+00:00\", \"variable\": \"air_temperature\", \"value\": 10.7}, {\"timestamp_utc\": \"2021-11-30T00:00:00+00:00\", \"variable\": \"air_temperature\", \"value\": 5.3}, {\"timestamp_utc\": \"2021-12-31T00:00:00+00:00\", \"variable\": \"air_temperature\", \"value\": 3.6}, {\"timestamp_utc\": \"2007-04-30T00:00:00+00:00\", \"variable\": \"water_temperature\", \"value\": 15.2}, {\"timestamp_utc\": \"2007-05-31T00:00:00+00:00\", \"variable\": \"water_temperature\", \"value\": 16.1}, {\"timestamp_utc\": \"2007-06-30T00:00:00+00:00\", \"variable\": \"water_temperature\", \"value\": 20.3}, {\"timestamp_utc\": \"2007-07-31T00:00:00+00:00\", \"variable\": \"water_temperature\", \"value\": 20.1}, {\"timestamp_utc\": \"2007-08-31T00:00:00+00:00\", \"variable\": \"water_temperature\", \"value\": 21.0}, {\"timestamp_utc\": \"2007-09-30T00:00:00+00:00\", \"variable\": \"water_temperature\", \"value\": 18.4}, {\"timestamp_utc\": \"2007-10-31T00:00:00+00:00\", \"variable\": \"water_temperature\", \"value\": 15.8}, {\"timestamp_utc\": \"2007-11-30T00:00:00+00:00\", \"variable\": \"water_temperature\", \"value\": 8.6}, {\"timestamp_utc\": \"2007-12-31T00:00:00+00:00\", \"variable\": \"water_temperature\", \"value\": 6.8}, {\"timestamp_utc\": \"2008-01-31T00:00:00+00:00\", \"variable\": \"water_temperature\", \"value\": 5.3}, {\"timestamp_utc\": \"2008-02-29T00:00:00+00:00\", \"variable\": \"water_temperature\", \"value\": 5.0}, {\"timestamp_utc\": \"2008-03-31T00:00:00+00:00\", \"variable\": \"water_temperature\", \"value\": 5.1}, {\"timestamp_utc\": \"2008-04-30T00:00:00+00:00\", \"variable\": \"water_temperature\", \"value\": 7.7}, {\"timestamp_utc\": \"2008-05-31T00:00:00+00:00\", \"variable\": \"water_temperature\", \"value\": 15.3}, {\"timestamp_utc\": \"2008-06-30T00:00:00+00:00\", \"variable\": \"water_temperature\", \"value\": 18.3}, {\"timestamp_utc\": \"2008-07-31T00:00:00+00:00\", \"variable\": \"water_temperature\", \"value\": 21.6}, {\"timestamp_utc\": \"2008-08-31T00:00:00+00:00\", \"variable\": \"water_temperature\", \"value\": 21.4}, {\"timestamp_utc\": \"2008-09-30T00:00:00+00:00\", \"variable\": \"water_temperature\", \"value\": 18.0}, {\"timestamp_utc\": \"2008-10-31T00:00:00+00:00\", \"variable\": \"water_temperature\", \"value\": 14.2}, {\"timestamp_utc\": \"2008-11-30T00:00:00+00:00\", \"variable\": \"water_temperature\", \"value\": 10.7}, {\"timestamp_utc\": \"2008-12-31T00:00:00+00:00\", \"variable\": \"water_temperature\", \"value\": 6.6}, {\"timestamp_utc\": \"2009-01-31T00:00:00+00:00\", \"variable\": \"water_temperature\", \"value\": 4.8}, {\"timestamp_utc\": \"2009-02-28T00:00:00+00:00\", \"variable\": \"water_temperature\", \"value\": 4.3}, {\"timestamp_utc\": \"2009-03-31T00:00:00+00:00\", \"variable\": \"water_temperature\", \"value\": 4.4}, {\"timestamp_utc\": \"2009-04-30T00:00:00+00:00\", \"variable\": \"water_temperature\", \"value\": 12.1}, {\"timestamp_utc\": \"2009-05-31T00:00:00+00:00\", \"variable\": \"water_temperature\", \"value\": 15.4}, {\"timestamp_utc\": \"2009-06-30T00:00:00+00:00\", \"variable\": \"water_temperature\", \"value\": 18.9}, {\"timestamp_utc\": \"2009-07-31T00:00:00+00:00\", \"variable\": \"water_temperature\", \"value\": 21.3}, {\"timestamp_utc\": \"2009-08-31T00:00:00+00:00\", \"variable\": \"water_temperature\", \"value\": 22.4}, {\"timestamp_utc\": \"2009-09-30T00:00:00+00:00\", \"variable\": \"water_temperature\", \"value\": 19.3}, {\"timestamp_utc\": \"2009-10-31T00:00:00+00:00\", \"variable\": \"water_temperature\", \"value\": 15.1}, {\"timestamp_utc\": \"2009-11-30T00:00:00+00:00\", \"variable\": \"water_temperature\", \"value\": 11.0}, {\"timestamp_utc\": \"2009-12-31T00:00:00+00:00\", \"variable\": \"water_temperature\", \"value\": 7.1}, {\"timestamp_utc\": \"2010-01-31T00:00:00+00:00\", \"variable\": \"water_temperature\", \"value\": 4.8}, {\"timestamp_utc\": \"2010-02-28T00:00:00+00:00\", \"variable\": \"water_temperature\", \"value\": 4.1}, {\"timestamp_utc\": \"2010-03-31T00:00:00+00:00\", \"variable\": \"water_temperature\", \"value\": 4.3}, {\"timestamp_utc\": \"2010-04-30T00:00:00+00:00\", \"variable\": \"water_temperature\", \"value\": 6.4}, {\"timestamp_utc\": \"2010-05-31T00:00:00+00:00\", \"variable\": \"water_temperature\", \"value\": 12.5}, {\"timestamp_utc\": \"2010-06-30T00:00:00+00:00\", \"variable\": \"water_temperature\", \"value\": 17.0}, {\"timestamp_utc\": \"2010-07-31T00:00:00+00:00\", \"variable\": \"water_temperature\", \"value\": 23.2}, {\"timestamp_utc\": \"2010-08-31T00:00:00+00:00\", \"variable\": \"water_temperature\", \"value\": 20.9}, {\"timestamp_utc\": \"2010-09-30T00:00:00+00:00\", \"variable\": \"water_temperature\", \"value\": 17.4}, {\"timestamp_utc\": \"2010-10-31T00:00:00+00:00\", \"variable\": \"water_temperature\", \"value\": 13.8}, {\"timestamp_utc\": \"2010-11-30T00:00:00+00:00\", \"variable\": \"water_temperature\", \"value\": 10.5}, {\"timestamp_utc\": \"2010-12-31T00:00:00+00:00\", \"variable\": \"water_temperature\", \"value\": 6.0}, {\"timestamp_utc\": \"2011-01-31T00:00:00+00:00\", \"variable\": \"water_temperature\", \"value\": 4.9}, {\"timestamp_utc\": \"2011-02-28T00:00:00+00:00\", \"variable\": \"water_temperature\", \"value\": 4.3}, {\"timestamp_utc\": \"2011-03-31T00:00:00+00:00\", \"variable\": \"water_temperature\", \"value\": 4.5}, {\"timestamp_utc\": \"2011-04-30T00:00:00+00:00\", \"variable\": \"water_temperature\", \"value\": 11.4}, {\"timestamp_utc\": \"2011-05-31T00:00:00+00:00\", \"variable\": \"water_temperature\", \"value\": 17.3}, {\"timestamp_utc\": \"2011-06-30T00:00:00+00:00\", \"variable\": \"water_temperature\", \"value\": 19.4}, {\"timestamp_utc\": \"2011-07-31T00:00:00+00:00\", \"variable\": \"water_temperature\", \"value\": 20.7}, {\"timestamp_utc\": \"2011-08-31T00:00:00+00:00\", \"variable\": \"water_temperature\", \"value\": 21.8}, {\"timestamp_utc\": \"2011-09-30T00:00:00+00:00\", \"variable\": \"water_temperature\", \"value\": 20.9}, {\"timestamp_utc\": \"2011-10-31T00:00:00+00:00\", \"variable\": \"water_temperature\", \"value\": 15.2}, {\"timestamp_utc\": \"2011-11-30T00:00:00+00:00\", \"variable\": \"water_temperature\", \"value\": 11.1}, {\"timestamp_utc\": \"2011-12-31T00:00:00+00:00\", \"variable\": \"water_temperature\", \"value\": 6.9}, {\"timestamp_utc\": \"2012-01-31T00:00:00+00:00\", \"variable\": \"water_temperature\", \"value\": 5.1}, {\"timestamp_utc\": \"2012-02-29T00:00:00+00:00\", \"variable\": \"water_temperature\", \"value\": 4.0}, {\"timestamp_utc\": \"2012-03-31T00:00:00+00:00\", \"variable\": \"water_temperature\", \"value\": 5.6}, {\"timestamp_utc\": \"2012-04-30T00:00:00+00:00\", \"variable\": \"water_temperature\", \"value\": 8.3}, {\"timestamp_utc\": \"2012-05-31T00:00:00+00:00\", \"variable\": \"water_temperature\", \"value\": 13.2}, {\"timestamp_utc\": \"2012-06-30T00:00:00+00:00\", \"variable\": \"water_temperature\", \"value\": 18.6}, {\"timestamp_utc\": \"2012-07-31T00:00:00+00:00\", \"variable\": \"water_temperature\", \"value\": 20.6}, {\"timestamp_utc\": \"2012-08-31T00:00:00+00:00\", \"variable\": \"water_temperature\", \"value\": 23.3}, {\"timestamp_utc\": \"2012-09-30T00:00:00+00:00\", \"variable\": \"water_temperature\", \"value\": 19.8}, {\"timestamp_utc\": \"2012-10-31T00:00:00+00:00\", \"variable\": \"water_temperature\", \"value\": 15.4}, {\"timestamp_utc\": \"2012-11-30T00:00:00+00:00\", \"variable\": \"water_temperature\", \"value\": 10.5}, {\"timestamp_utc\": \"2012-12-31T00:00:00+00:00\", \"variable\": \"water_temperature\", \"value\": 6.5}, {\"timestamp_utc\": \"2013-01-31T00:00:00+00:00\", \"variable\": \"water_temperature\", \"value\": 5.5}, {\"timestamp_utc\": \"2013-02-28T00:00:00+00:00\", \"variable\": \"water_temperature\", \"value\": 4.4}, {\"timestamp_utc\": \"2013-03-31T00:00:00+00:00\", \"variable\": \"water_temperature\", \"value\": 4.1}, {\"timestamp_utc\": \"2013-04-30T00:00:00+00:00\", \"variable\": \"water_temperature\", \"value\": 5.3}, {\"timestamp_utc\": \"2013-05-31T00:00:00+00:00\", \"variable\": \"water_temperature\", \"value\": 12.5}, {\"timestamp_utc\": \"2013-06-30T00:00:00+00:00\", \"variable\": \"water_temperature\", \"value\": 17.1}, {\"timestamp_utc\": \"2013-07-31T00:00:00+00:00\", \"variable\": \"water_temperature\", \"value\": 21.5}, {\"timestamp_utc\": \"2013-08-31T00:00:00+00:00\", \"variable\": \"water_temperature\", \"value\": 22.8}, {\"timestamp_utc\": \"2013-09-30T00:00:00+00:00\", \"variable\": \"water_temperature\", \"value\": 19.1}, {\"timestamp_utc\": \"2013-10-31T00:00:00+00:00\", \"variable\": \"water_temperature\", \"value\": 14.9}, {\"timestamp_utc\": \"2013-11-30T00:00:00+00:00\", \"variable\": \"water_temperature\", \"value\": 10.1}, {\"timestamp_utc\": \"2013-12-31T00:00:00+00:00\", \"variable\": \"water_temperature\", \"value\": 6.4}, {\"timestamp_utc\": \"2014-01-31T00:00:00+00:00\", \"variable\": \"water_temperature\", \"value\": 5.7}, {\"timestamp_utc\": \"2014-02-28T00:00:00+00:00\", \"variable\": \"water_temperature\", \"value\": 5.2}, {\"timestamp_utc\": \"2014-03-31T00:00:00+00:00\", \"variable\": \"water_temperature\", \"value\": 6.9}, {\"timestamp_utc\": \"2014-04-30T00:00:00+00:00\", \"variable\": \"water_temperature\", \"value\": 11.3}, {\"timestamp_utc\": \"2014-05-31T00:00:00+00:00\", \"variable\": \"water_temperature\", \"value\": 13.9}, {\"timestamp_utc\": \"2014-06-30T00:00:00+00:00\", \"variable\": \"water_temperature\", \"value\": 20.6}, {\"timestamp_utc\": \"2014-07-31T00:00:00+00:00\", \"variable\": \"water_temperature\", \"value\": 20.8}, {\"timestamp_utc\": \"2014-08-31T00:00:00+00:00\", \"variable\": \"water_temperature\", \"value\": 20.0}, {\"timestamp_utc\": \"2014-09-30T00:00:00+00:00\", \"variable\": \"water_temperature\", \"value\": 18.8}, {\"timestamp_utc\": \"2014-10-31T00:00:00+00:00\", \"variable\": \"water_temperature\", \"value\": 17.4}, {\"timestamp_utc\": \"2014-11-30T00:00:00+00:00\", \"variable\": \"water_temperature\", \"value\": 12.0}, {\"timestamp_utc\": \"2014-12-31T00:00:00+00:00\", \"variable\": \"water_temperature\", \"value\": 8.4}, {\"timestamp_utc\": \"2015-01-31T00:00:00+00:00\", \"variable\": \"water_temperature\", \"value\": 6.0}, {\"timestamp_utc\": \"2015-02-28T00:00:00+00:00\", \"variable\": \"water_temperature\", \"value\": 4.9}, {\"timestamp_utc\": \"2015-03-31T00:00:00+00:00\", \"variable\": \"water_temperature\", \"value\": 5.4}, {\"timestamp_utc\": \"2015-04-30T00:00:00+00:00\", \"variable\": \"water_temperature\", \"value\": 9.2}, {\"timestamp_utc\": \"2015-05-31T00:00:00+00:00\", \"variable\": \"water_temperature\", \"value\": 14.8}, {\"timestamp_utc\": \"2015-06-30T00:00:00+00:00\", \"variable\": \"water_temperature\", \"value\": 19.0}, {\"timestamp_utc\": \"2015-07-31T00:00:00+00:00\", \"variable\": \"water_temperature\", \"value\": 24.1}, {\"timestamp_utc\": \"2015-08-31T00:00:00+00:00\", \"variable\": \"water_temperature\", \"value\": 23.2}, {\"timestamp_utc\": \"2015-09-30T00:00:00+00:00\", \"variable\": \"water_temperature\", \"value\": 19.2}, {\"timestamp_utc\": \"2015-10-31T00:00:00+00:00\", \"variable\": \"water_temperature\", \"value\": 14.5}, {\"timestamp_utc\": \"2015-11-30T00:00:00+00:00\", \"variable\": \"water_temperature\", \"value\": 12.4}, {\"timestamp_utc\": \"2015-12-31T00:00:00+00:00\", \"variable\": \"water_temperature\", \"value\": 7.9}, {\"timestamp_utc\": \"2016-01-31T00:00:00+00:00\", \"variable\": \"water_temperature\", \"value\": 6.3}, {\"timestamp_utc\": \"2016-02-29T00:00:00+00:00\", \"variable\": \"water_temperature\", \"value\": 5.6}, {\"timestamp_utc\": \"2016-03-31T00:00:00+00:00\", \"variable\": \"water_temperature\", \"value\": 5.4}, {\"timestamp_utc\": \"2016-04-30T00:00:00+00:00\", \"variable\": \"water_temperature\", \"value\": 9.0}, {\"timestamp_utc\": \"2016-05-31T00:00:00+00:00\", \"variable\": \"water_temperature\", \"value\": 13.7}, {\"timestamp_utc\": \"2016-06-30T00:00:00+00:00\", \"variable\": \"water_temperature\", \"value\": 18.2}, {\"timestamp_utc\": \"2016-07-31T00:00:00+00:00\", \"variable\": \"water_temperature\", \"value\": 22.7}, {\"timestamp_utc\": \"2016-08-31T00:00:00+00:00\", \"variable\": \"water_temperature\", \"value\": 23.1}, {\"timestamp_utc\": \"2016-09-30T00:00:00+00:00\", \"variable\": \"water_temperature\", \"value\": 22.2}, {\"timestamp_utc\": \"2016-10-31T00:00:00+00:00\", \"variable\": \"water_temperature\", \"value\": 14.8}, {\"timestamp_utc\": \"2016-11-30T00:00:00+00:00\", \"variable\": \"water_temperature\", \"value\": 10.3}, {\"timestamp_utc\": \"2016-12-31T00:00:00+00:00\", \"variable\": \"water_temperature\", \"value\": 7.1}, {\"timestamp_utc\": \"2017-01-31T00:00:00+00:00\", \"variable\": \"water_temperature\", \"value\": 5.3}, {\"timestamp_utc\": \"2017-02-28T00:00:00+00:00\", \"variable\": \"water_temperature\", \"value\": 4.8}, {\"timestamp_utc\": \"2017-03-31T00:00:00+00:00\", \"variable\": \"water_temperature\", \"value\": 5.6}, {\"timestamp_utc\": \"2017-04-30T00:00:00+00:00\", \"variable\": \"water_temperature\", \"value\": 10.4}, {\"timestamp_utc\": \"2017-05-31T00:00:00+00:00\", \"variable\": \"water_temperature\", \"value\": 14.9}, {\"timestamp_utc\": \"2017-06-30T00:00:00+00:00\", \"variable\": \"water_temperature\", \"value\": 21.6}, {\"timestamp_utc\": \"2017-07-31T00:00:00+00:00\", \"variable\": \"water_temperature\", \"value\": 22.8}, {\"timestamp_utc\": \"2017-08-31T00:00:00+00:00\", \"variable\": \"water_temperature\", \"value\": 22.6}, {\"timestamp_utc\": \"2017-09-30T00:00:00+00:00\", \"variable\": \"water_temperature\", \"value\": 18.2}, {\"timestamp_utc\": \"2017-10-31T00:00:00+00:00\", \"variable\": \"water_temperature\", \"value\": 16.2}, {\"timestamp_utc\": \"2017-11-30T00:00:00+00:00\", \"variable\": \"water_temperature\", \"value\": 10.4}, {\"timestamp_utc\": \"2017-12-31T00:00:00+00:00\", \"variable\": \"water_temperature\", \"value\": 6.7}, {\"timestamp_utc\": \"2018-01-31T00:00:00+00:00\", \"variable\": \"water_temperature\", \"value\": 5.7}, {\"timestamp_utc\": \"2018-02-28T00:00:00+00:00\", \"variable\": \"water_temperature\", \"value\": 5.1}, {\"timestamp_utc\": \"2018-03-31T00:00:00+00:00\", \"variable\": \"water_temperature\", \"value\": 4.9}, {\"timestamp_utc\": \"2018-04-30T00:00:00+00:00\", \"variable\": \"water_temperature\", \"value\": 8.7}, {\"timestamp_utc\": \"2018-05-31T00:00:00+00:00\", \"variable\": \"water_temperature\", \"value\": 15.3}, {\"timestamp_utc\": \"2018-06-30T00:00:00+00:00\", \"variable\": \"water_temperature\", \"value\": 21.2}, {\"timestamp_utc\": \"2018-07-31T00:00:00+00:00\", \"variable\": \"water_temperature\", \"value\": 23.6}, {\"timestamp_utc\": \"2018-08-31T00:00:00+00:00\", \"variable\": \"water_temperature\", \"value\": 25.0}, {\"timestamp_utc\": \"2018-09-30T00:00:00+00:00\", \"variable\": \"water_temperature\", \"value\": 21.7}, {\"timestamp_utc\": \"2018-10-31T00:00:00+00:00\", \"variable\": \"water_temperature\", \"value\": 17.7}, {\"timestamp_utc\": \"2018-11-30T00:00:00+00:00\", \"variable\": \"water_temperature\", \"value\": 12.5}, {\"timestamp_utc\": \"2018-12-31T00:00:00+00:00\", \"variable\": \"water_temperature\", \"value\": 7.4}, {\"timestamp_utc\": \"2019-01-31T00:00:00+00:00\", \"variable\": \"water_temperature\", \"value\": 5.7}, {\"timestamp_utc\": \"2019-02-28T00:00:00+00:00\", \"variable\": \"water_temperature\", \"value\": 5.1}, {\"timestamp_utc\": \"2019-03-31T00:00:00+00:00\", \"variable\": \"water_temperature\", \"value\": 5.3}, {\"timestamp_utc\": \"2019-04-30T00:00:00+00:00\", \"variable\": \"water_temperature\", \"value\": 9.1}, {\"timestamp_utc\": \"2019-05-31T00:00:00+00:00\", \"variable\": \"water_temperature\", \"value\": 11.8}, {\"timestamp_utc\": \"2019-06-30T00:00:00+00:00\", \"variable\": \"water_temperature\", \"value\": 18.8}, {\"timestamp_utc\": \"2019-07-31T00:00:00+00:00\", \"variable\": \"water_temperature\", \"value\": 23.9}, {\"timestamp_utc\": \"2019-08-31T00:00:00+00:00\", \"variable\": \"water_temperature\", \"value\": 23.3}, {\"timestamp_utc\": \"2019-09-30T00:00:00+00:00\", \"variable\": \"water_temperature\", \"value\": 19.9}, {\"timestamp_utc\": \"2019-10-31T00:00:00+00:00\", \"variable\": \"water_temperature\", \"value\": 16.0}, {\"timestamp_utc\": \"2019-11-30T00:00:00+00:00\", \"variable\": \"water_temperature\", \"value\": 11.7}, {\"timestamp_utc\": \"2019-12-31T00:00:00+00:00\", \"variable\": \"water_temperature\", \"value\": 7.9}, {\"timestamp_utc\": \"2020-01-31T00:00:00+00:00\", \"variable\": \"water_temperature\", \"value\": 6.5}, {\"timestamp_utc\": \"2020-02-29T00:00:00+00:00\", \"variable\": \"water_temperature\", \"value\": 5.9}, {\"timestamp_utc\": \"2020-03-31T00:00:00+00:00\", \"variable\": \"water_temperature\", \"value\": 6.2}, {\"timestamp_utc\": \"2020-04-30T00:00:00+00:00\", \"variable\": \"water_temperature\", \"value\": 11.8}, {\"timestamp_utc\": \"2020-05-31T00:00:00+00:00\", \"variable\": \"water_temperature\", \"value\": 14.5}, {\"timestamp_utc\": \"2020-06-30T00:00:00+00:00\", \"variable\": \"water_temperature\", \"value\": 18.8}, {\"timestamp_utc\": \"2020-07-31T00:00:00+00:00\", \"variable\": \"water_temperature\", \"value\": 22.5}, {\"timestamp_utc\": \"2020-08-31T00:00:00+00:00\", \"variable\": \"water_temperature\", \"value\": 24.4}, {\"timestamp_utc\": \"2020-09-30T00:00:00+00:00\", \"variable\": \"water_temperature\", \"value\": 21.0}, {\"timestamp_utc\": \"2020-10-31T00:00:00+00:00\", \"variable\": \"water_temperature\", \"value\": 14.5}, {\"timestamp_utc\": \"2020-11-30T00:00:00+00:00\", \"variable\": \"water_temperature\", \"value\": 11.8}, {\"timestamp_utc\": \"2020-12-31T00:00:00+00:00\", \"variable\": \"water_temperature\", \"value\": 7.7}, {\"timestamp_utc\": \"2021-01-31T00:00:00+00:00\", \"variable\": \"water_temperature\", \"value\": 5.7}, {\"timestamp_utc\": \"2021-02-28T00:00:00+00:00\", \"variable\": \"water_temperature\", \"value\": 5.4}, {\"timestamp_utc\": \"2021-03-31T00:00:00+00:00\", \"variable\": \"water_temperature\", \"value\": 5.5}, {\"timestamp_utc\": \"2021-04-30T00:00:00+00:00\", \"variable\": \"water_temperature\", \"value\": 7.4}, {\"timestamp_utc\": \"2021-05-31T00:00:00+00:00\", \"variable\": \"water_temperature\", \"value\": 11.9}, {\"timestamp_utc\": \"2021-06-30T00:00:00+00:00\", \"variable\": \"water_temperature\", \"value\": 20.4}, {\"timestamp_utc\": \"2021-07-31T00:00:00+00:00\", \"variable\": \"water_temperature\", \"value\": 20.7}, {\"timestamp_utc\": \"2021-08-31T00:00:00+00:00\", \"variable\": \"water_temperature\", \"value\": 20.7}, {\"timestamp_utc\": \"2021-09-30T00:00:00+00:00\", \"variable\": \"water_temperature\", \"value\": 20.0}, {\"timestamp_utc\": \"2021-10-31T00:00:00+00:00\", \"variable\": \"water_temperature\", \"value\": 15.5}, {\"timestamp_utc\": \"2021-11-30T00:00:00+00:00\", \"variable\": \"water_temperature\", \"value\": 11.0}, {\"timestamp_utc\": \"2021-12-31T00:00:00+00:00\", \"variable\": \"water_temperature\", \"value\": 7.6}]}}, {\"mode\": \"vega-lite\"});\n",
       "</script>"
      ],
      "text/plain": [
       "alt.VConcatChart(...)"
      ]
     },
     "execution_count": 104,
     "metadata": {},
     "output_type": "execute_result"
    }
   ],
   "source": [
    "months_tb = df_zeitreihe_tb.resample(\"M\").median()\n",
    "years_tb = df_zeitreihe_tb.resample(\"Y\").median()\n",
    "#months = df_zeitreihe_tb.resample(\"M\").min()\n",
    "#years = df_zeitreihe_tb.resample(\"Y\").min()\n",
    "\n",
    "brush = alt.selection(type='interval', encodings=['x'])\n",
    "\n",
    "upper = alt.Chart(years_tb[['air_temperature','water_temperature']].reset_index().melt(\"timestamp_utc\")).mark_area(interpolate=\"basis\").encode(\n",
    "    x = alt.X('timestamp_utc:T', axis=None),\n",
    "    y = alt.Y('value:Q', axis=None),\n",
    "    color='variable'\n",
    ").properties(width=800, height=50).add_selection(brush)\n",
    "\n",
    "lower = alt.Chart(months_tb[['air_temperature','water_temperature']].reset_index().melt(\"timestamp_utc\")).mark_line(strokeWidth=1).encode(\n",
    "    x = alt.X('timestamp_utc:T', scale=alt.Scale(domain=brush)),\n",
    "    y='value',\n",
    "    color='variable',\n",
    ").properties(width=800, height=300)\n",
    "\n",
    "upper & lower"
   ]
  },
  {
   "cell_type": "code",
   "execution_count": null,
   "metadata": {},
   "outputs": [],
   "source": [
    "days_tb = df_zeitreihe_tb.loc[\"2017-01-01 00:00\":\"2022-01-01 00:00\"].dropna(axis=1).resample(\"D\").median()\n",
    "months_tb =df_zeitreihe_tb[['air_temperature','water_temperature']].dropna(axis=1).loc[\"2017-01-01 00:00\":\"2022-01-01 00:00\"].resample(\"M\").median()\n",
    "\n",
    "years_tb = df_zeitreihe_tb.resample(\"Y\").median()\n",
    "#months = df_zeitreihe_tb.resample(\"M\").min()\n",
    "#years = df_zeitreihe_tb.resample(\"Y\").min()\n",
    "\n",
    "brush = alt.selection(type='interval', encodings=['x'])\n",
    "\n",
    "upper = alt.Chart(months_tb[['air_temperature','water_temperature']].reset_index().melt(\"timestamp_utc\")).mark_area(interpolate=\"basis\").encode(\n",
    "    x = alt.X('timestamp_utc:T', axis=None),\n",
    "    y = alt.Y('value:Q', axis=None),\n",
    "    color='variable'\n",
    ").properties(width=800, height=50).add_selection(brush)\n",
    "\n",
    "lower = alt.Chart(days_tb[['air_temperature','water_temperature']].reset_index().melt(\"timestamp_utc\")).mark_line(strokeWidth=1).encode(\n",
    "    x = alt.X('timestamp_utc:T', scale=alt.Scale(domain=brush)),\n",
    "    y='value',\n",
    "    color='variable',\n",
    ").properties(width=800, height=300)\n",
    "\n",
    "upper & lower"
   ]
  },
  {
   "cell_type": "code",
   "execution_count": null,
   "metadata": {},
   "outputs": [],
   "source": [
    "#df_zeitreihe_tb[['air_temperature','water_temperature']].dropna(axis=1).loc[\"2018-12-31 21:50\":\"2022-01-01 04:30\"].resample(\"M\").median()"
   ]
  },
  {
   "cell_type": "code",
   "execution_count": null,
   "metadata": {},
   "outputs": [],
   "source": []
  },
  {
   "cell_type": "code",
   "execution_count": null,
   "metadata": {},
   "outputs": [],
   "source": []
  },
  {
   "cell_type": "markdown",
   "metadata": {
    "tags": []
   },
   "source": [
    "## Datenexport\n",
    "\n",
    "Wenn alle Tests positiv und plausibel sind, kann die neu updateten Datasets als csv exportiert und später veröffentlicht werden.\n",
    "\n",
    "Checke zuerst kurz, ob im Verlauf der Plausis etwas falsches reingerutscht ist"
   ]
  },
  {
   "cell_type": "code",
   "execution_count": null,
   "metadata": {},
   "outputs": [],
   "source": [
    "df_zeitreihe_tb.shape\n",
    "#df_zeitreihe_tb.describe()"
   ]
  },
  {
   "cell_type": "code",
   "execution_count": null,
   "metadata": {},
   "outputs": [],
   "source": [
    "df_zeitreihe_my.shape\n",
    "#df_zeitreihe_my.describe()"
   ]
  },
  {
   "cell_type": "markdown",
   "metadata": {},
   "source": [
    "### Exportpfade definieren:\n",
    "\n",
    "#### Dynamisch berechnete Min- und Max-Jahre"
   ]
  },
  {
   "cell_type": "code",
   "execution_count": null,
   "metadata": {},
   "outputs": [],
   "source": [
    "#years.index.year\n",
    "years = df_zeitreihe_tb.resample(\"Y\").median()\n",
    "min_year = years.index.year.min()\n",
    "max_year= years.index.year.max()\n",
    "\n",
    "print(min_year, max_year, r\"\\\\szh\\ssz\\applikationen\\OGD\\Daten\\Quelldaten\\SID\\WAPO\\02_veroeffentlichte_zeitreihe\\messwerte_mythenquai_\"+str(min_year)+\"-\"+str(max_year)+\".csv\")"
   ]
  },
  {
   "cell_type": "markdown",
   "metadata": {},
   "source": [
    "#### Pfade zusammensetzen"
   ]
  },
  {
   "cell_type": "code",
   "execution_count": null,
   "metadata": {},
   "outputs": [],
   "source": [
    "export_fp_my = r\"\\\\szh\\ssz\\applikationen\\OGD\\Daten\\Quelldaten\\SID\\WAPO\\02_veroeffentlichte_zeitreihe\\messwerte_mythenquai_\"+str(min_year)+\"-\"+str(max_year)+\".csv\" #Mythenquai\n",
    "export_fp_tb= r\"\\\\szh\\ssz\\applikationen\\OGD\\Daten\\Quelldaten\\SID\\WAPO\\02_veroeffentlichte_zeitreihe\\messwerte_tiefenbrunnen_\"+str(min_year)+\"-\"+str(max_year)+\".csv\" #Tiefenbrunnen"
   ]
  },
  {
   "cell_type": "markdown",
   "metadata": {},
   "source": [
    "#### Exportoptionen festlegen\n",
    "\n",
    "Optionen:\n",
    "`DataFrame.to_csv(path_or_buf=None, sep=',', na_rep='', float_format=None, columns=None, header=True, index=True, index_label=None, mode='w', encoding=None, compression='infer', quoting=None, quotechar='\"', line_terminator=None, chunksize=None, date_format=None, doublequote=True, escapechar=None, decimal='.', errors='strict', storage_options=None)`"
   ]
  },
  {
   "cell_type": "markdown",
   "metadata": {},
   "source": [
    "### Export ausführen\n",
    "\n",
    "1. Indexe aufheben. Dabei verliert der indexierte Wert das Iso-Datumsformat\n",
    "2. Zeitformat bei zuvor indexiertem Datum nochmals ISO-konform definieren: Dies ist nur für utc wichtig, da cet nie verwendet wurde zuvor und weiterhin als String in ISO-Format vorliegt.\n",
    "\n",
    "##### Mythenquai\n"
   ]
  },
  {
   "cell_type": "code",
   "execution_count": null,
   "metadata": {},
   "outputs": [],
   "source": [
    "df_my = df_zeitreihe_my.reset_index()\n",
    "df_my['timestamp_utc'] = df_my.timestamp_utc.apply(datetime.datetime.isoformat)\n",
    "df_my.head(2)"
   ]
  },
  {
   "cell_type": "code",
   "execution_count": null,
   "metadata": {},
   "outputs": [],
   "source": [
    "df_my.to_csv(export_fp_my\n",
    "                       ,sep=','\n",
    "                       ,index=False\n",
    "                      )"
   ]
  },
  {
   "cell_type": "markdown",
   "metadata": {},
   "source": [
    "##### Tiefenbrunnen"
   ]
  },
  {
   "cell_type": "code",
   "execution_count": null,
   "metadata": {},
   "outputs": [],
   "source": [
    "df_tb = df_zeitreihe_tb.reset_index()\n",
    "\n",
    "# Achtung: Reihenfolge spielt hier eine Rolle. \n",
    "df_tb['timestamp_utc'] = df_tb.timestamp_utc.apply(datetime.datetime.isoformat)\n",
    "df_tb.head(2)"
   ]
  },
  {
   "cell_type": "code",
   "execution_count": null,
   "metadata": {},
   "outputs": [],
   "source": [
    "df_tb.to_csv(export_fp_tb\n",
    "             ,sep=','\n",
    "             ,index=False\n",
    "             ,encoding='utf-8'\n",
    "            )"
   ]
  },
  {
   "cell_type": "markdown",
   "metadata": {},
   "source": [
    "### Zeitformatierungen"
   ]
  },
  {
   "cell_type": "markdown",
   "metadata": {},
   "source": [
    "Alternativ könnte man die `timestamp_cet`beim den Importen noch nicht machen, resp. bei den bestehenden Daten droppen und erst ganz am Schluss alles berechnen.\n",
    "\n",
    "Aktuell gehe ich so vor:\n",
    "1. Die neuen Daten importieren --> aus der Datumsangabe --> als utc parsen. Danach cet berechnen\n",
    "2. Die bisherigen Daten importieren --> die Datumsangaben aber nur als String importieren. Mit utc wird später gerechnet. cet nicht. Am Schluss speichere ich es eigentlich als String, aber merkt man nicht, weil der Export ohne \"\" bei Strings kommt.\n",
    "\n"
   ]
  },
  {
   "cell_type": "code",
   "execution_count": null,
   "metadata": {},
   "outputs": [],
   "source": []
  }
 ],
 "metadata": {
  "kernelspec": {
   "display_name": "Python 3 (ipykernel)",
   "language": "python",
   "name": "python3"
  },
  "language_info": {
   "codemirror_mode": {
    "name": "ipython",
    "version": 3
   },
   "file_extension": ".py",
   "mimetype": "text/x-python",
   "name": "python",
   "nbconvert_exporter": "python",
   "pygments_lexer": "ipython3",
   "version": "3.9.7"
  },
  "toc-autonumbering": true,
  "toc-showcode": false,
  "toc-showmarkdowntxt": false
 },
 "nbformat": 4,
 "nbformat_minor": 4
}
